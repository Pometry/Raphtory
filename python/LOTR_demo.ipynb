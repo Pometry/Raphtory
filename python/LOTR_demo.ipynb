{
 "cells": [
  {
   "cell_type": "markdown",
   "metadata": {},
   "source": [
    "# Raphtory Python Client - LOTR DEMO"
   ]
  },
  {
   "cell_type": "markdown",
   "metadata": {
    "pycharm": {
     "name": "#%% md\n"
    }
   },
   "source": [
    "In this demo we will\n",
    "* Setup the Python Raphtory client \n",
    "* Run an algorithm from python and save the result to a file\n",
    "* Create a Graph from data in Raphtory\n",
    "* Pull results from an algorithm in Raphtory that was saved to a pulsar topic \n",
    "* Add these results to the Graph\n",
    "* Visualise the graph with pymotif"
   ]
  },
  {
   "cell_type": "markdown",
   "metadata": {},
   "source": [
    "### Setup"
   ]
  },
  {
   "cell_type": "markdown",
   "metadata": {},
   "source": [
    "Please ensure you are running the `raphtory-example-lotr`. \n",
    "\n",
    "Either the `SimpleRunner` or `PulsarOutputRunner`\n",
    "\n",
    "From there please obtain the deployment id, e.g. `raphtory_1172949031` from\n",
    "\n",
    "```\n",
    "17:32:15.975 [main] INFO  com.raphtory.client.GraphDeployment - Created Graph object with deployment ID 'raphtory_1172949031'.\n",
    "```\n",
    "\n",
    "First we setup the various python libraries we will need\n",
    "\n",
    "You can install the python client via `pip install raphtory-client`"
   ]
  },
  {
   "cell_type": "code",
   "execution_count": 2,
   "metadata": {
    "tags": []
   },
   "outputs": [],
   "source": [
    "import raphtoryclient\n",
    "from pymotif import Motif"
   ]
  },
  {
   "cell_type": "markdown",
   "metadata": {},
   "source": [
    "#### Create Client\n",
    "\n",
    "Now we create a client.\n",
    "\n",
    "This is responsible for two things, \n",
    "\n",
    "1) it will be able to interface with the raphtory engine to run algorithms as if we are running via scala\n",
    "\n",
    "2) be able to retrieve data directly from the pulsar interface"
   ]
  },
  {
   "cell_type": "code",
   "execution_count": 4,
   "metadata": {},
   "outputs": [
    {
     "name": "stdout",
     "output_type": "stream",
     "text": [
      "Creating RaphtoryClient object...\n",
      "Created.\n",
      "Setting up Java gateway...\n",
      "Java gateway connected.\n",
      "Creating Raphtory java object...\n",
      "Created Raphtory java object.\n"
     ]
    }
   ],
   "source": [
    "# raphtory = raphtoryclient.client(raphtory_deployment_id=\"raphtory_1172949031\")\n",
    "raphtory = raphtoryclient.client(raphtory_deployment_id=\"raphtory_266191730\")"
   ]
  },
  {
   "cell_type": "markdown",
   "metadata": {},
   "source": [
    "### Running a algorithm \n",
    "\n",
    "To run an algorithm we must first import the java path it belongs to. \n",
    "In our case we want to run the Connected components algorithms. \n",
    "\n",
    "We will import this into our local client, so that our code is able to call them."
   ]
  },
  {
   "cell_type": "code",
   "execution_count": 9,
   "metadata": {},
   "outputs": [],
   "source": [
    "raphtory.java_import(\"com.raphtory.algorithms.generic.ConnectedComponents\")\n",
    "connectedComponentsAlgorithm = raphtory.java().ConnectedComponents"
   ]
  },
  {
   "cell_type": "markdown",
   "metadata": {},
   "source": [
    "We also want to write the result of this to a file, so we can use the FileOutputFormat class to do so. \n",
    "\n",
    "We first import the class as follows"
   ]
  },
  {
   "cell_type": "code",
   "execution_count": 14,
   "metadata": {},
   "outputs": [],
   "source": [
    "raphtory.java_import(\"com.raphtory.sinks.FileSink\")\n",
    "fileSink = raphtory.java().FileSink"
   ]
  },
  {
   "cell_type": "markdown",
   "metadata": {},
   "source": [
    "In this example, \n",
    "\n",
    "- we are running the algorithm at time 32674 (which is the latest point in our graph). \n",
    "- with the `past()` function, which will ensure the graph takes into account all the history from and including 32674\n",
    "- We 'execute' the connected components algorithm \n",
    "- Finally we write this to a file\n",
    "\n",
    "We can now run the algorithm as follows. "
   ]
  },
  {
   "cell_type": "code",
   "execution_count": 15,
   "metadata": {},
   "outputs": [
    {
     "ename": "Py4JError",
     "evalue": "An error occurred while calling None.com.raphtory.algorithms.generic.ConnectedComponents. Trace:\npy4j.Py4JException: Constructor com.raphtory.algorithms.generic.ConnectedComponents([]) does not exist\n\tat py4j.reflection.ReflectionEngine.getConstructor(ReflectionEngine.java:179)\n\tat py4j.reflection.ReflectionEngine.getConstructor(ReflectionEngine.java:196)\n\tat py4j.Gateway.invoke(Gateway.java:237)\n\tat py4j.commands.ConstructorCommand.invokeConstructor(ConstructorCommand.java:80)\n\tat py4j.commands.ConstructorCommand.execute(ConstructorCommand.java:69)\n\tat py4j.GatewayConnection.run(GatewayConnection.java:238)\n\tat java.base/java.lang.Thread.run(Thread.java:829)\n\n",
     "output_type": "error",
     "traceback": [
      "\u001b[0;31m---------------------------------------------------------------------------\u001b[0m",
      "\u001b[0;31mPy4JError\u001b[0m                                 Traceback (most recent call last)",
      "Input \u001b[0;32mIn [15]\u001b[0m, in \u001b[0;36m<module>\u001b[0;34m\u001b[0m\n\u001b[1;32m      1\u001b[0m queryHandler \u001b[38;5;241m=\u001b[39m raphtory\u001b[38;5;241m.\u001b[39mgraph\\\n\u001b[1;32m      2\u001b[0m     \u001b[38;5;241m.\u001b[39mat(\u001b[38;5;241m32674\u001b[39m)\\\n\u001b[1;32m      3\u001b[0m     \u001b[38;5;241m.\u001b[39mpast()\\\n\u001b[0;32m----> 4\u001b[0m     \u001b[38;5;241m.\u001b[39mexecute(\u001b[43mconnectedComponentsAlgorithm\u001b[49m\u001b[43m(\u001b[49m\u001b[43m)\u001b[49m)\\\n\u001b[1;32m      5\u001b[0m     \u001b[38;5;241m.\u001b[39mwriteTo(FileSink\u001b[38;5;241m.\u001b[39mapply(\u001b[38;5;124m\"\u001b[39m\u001b[38;5;124m/tmp/pythonCC\u001b[39m\u001b[38;5;124m\"\u001b[39m))\n",
      "File \u001b[0;32m~/.virtualenvs/raphtorypythonclient/lib/python3.9/site-packages/py4j/java_gateway.py:1585\u001b[0m, in \u001b[0;36mJavaClass.__call__\u001b[0;34m(self, *args)\u001b[0m\n\u001b[1;32m   1579\u001b[0m command \u001b[38;5;241m=\u001b[39m proto\u001b[38;5;241m.\u001b[39mCONSTRUCTOR_COMMAND_NAME \u001b[38;5;241m+\u001b[39m\\\n\u001b[1;32m   1580\u001b[0m     \u001b[38;5;28mself\u001b[39m\u001b[38;5;241m.\u001b[39m_command_header \u001b[38;5;241m+\u001b[39m\\\n\u001b[1;32m   1581\u001b[0m     args_command \u001b[38;5;241m+\u001b[39m\\\n\u001b[1;32m   1582\u001b[0m     proto\u001b[38;5;241m.\u001b[39mEND_COMMAND_PART\n\u001b[1;32m   1584\u001b[0m answer \u001b[38;5;241m=\u001b[39m \u001b[38;5;28mself\u001b[39m\u001b[38;5;241m.\u001b[39m_gateway_client\u001b[38;5;241m.\u001b[39msend_command(command)\n\u001b[0;32m-> 1585\u001b[0m return_value \u001b[38;5;241m=\u001b[39m \u001b[43mget_return_value\u001b[49m\u001b[43m(\u001b[49m\n\u001b[1;32m   1586\u001b[0m \u001b[43m    \u001b[49m\u001b[43manswer\u001b[49m\u001b[43m,\u001b[49m\u001b[43m \u001b[49m\u001b[38;5;28;43mself\u001b[39;49m\u001b[38;5;241;43m.\u001b[39;49m\u001b[43m_gateway_client\u001b[49m\u001b[43m,\u001b[49m\u001b[43m \u001b[49m\u001b[38;5;28;43;01mNone\u001b[39;49;00m\u001b[43m,\u001b[49m\u001b[43m \u001b[49m\u001b[38;5;28;43mself\u001b[39;49m\u001b[38;5;241;43m.\u001b[39;49m\u001b[43m_fqn\u001b[49m\u001b[43m)\u001b[49m\n\u001b[1;32m   1588\u001b[0m \u001b[38;5;28;01mfor\u001b[39;00m temp_arg \u001b[38;5;129;01min\u001b[39;00m temp_args:\n\u001b[1;32m   1589\u001b[0m     temp_arg\u001b[38;5;241m.\u001b[39m_detach()\n",
      "File \u001b[0;32m~/.virtualenvs/raphtorypythonclient/lib/python3.9/site-packages/py4j/protocol.py:330\u001b[0m, in \u001b[0;36mget_return_value\u001b[0;34m(answer, gateway_client, target_id, name)\u001b[0m\n\u001b[1;32m    326\u001b[0m         \u001b[38;5;28;01mraise\u001b[39;00m Py4JJavaError(\n\u001b[1;32m    327\u001b[0m             \u001b[38;5;124m\"\u001b[39m\u001b[38;5;124mAn error occurred while calling \u001b[39m\u001b[38;5;132;01m{0}\u001b[39;00m\u001b[38;5;132;01m{1}\u001b[39;00m\u001b[38;5;132;01m{2}\u001b[39;00m\u001b[38;5;124m.\u001b[39m\u001b[38;5;130;01m\\n\u001b[39;00m\u001b[38;5;124m\"\u001b[39m\u001b[38;5;241m.\u001b[39m\n\u001b[1;32m    328\u001b[0m             \u001b[38;5;28mformat\u001b[39m(target_id, \u001b[38;5;124m\"\u001b[39m\u001b[38;5;124m.\u001b[39m\u001b[38;5;124m\"\u001b[39m, name), value)\n\u001b[1;32m    329\u001b[0m     \u001b[38;5;28;01melse\u001b[39;00m:\n\u001b[0;32m--> 330\u001b[0m         \u001b[38;5;28;01mraise\u001b[39;00m Py4JError(\n\u001b[1;32m    331\u001b[0m             \u001b[38;5;124m\"\u001b[39m\u001b[38;5;124mAn error occurred while calling \u001b[39m\u001b[38;5;132;01m{0}\u001b[39;00m\u001b[38;5;132;01m{1}\u001b[39;00m\u001b[38;5;132;01m{2}\u001b[39;00m\u001b[38;5;124m. Trace:\u001b[39m\u001b[38;5;130;01m\\n\u001b[39;00m\u001b[38;5;132;01m{3}\u001b[39;00m\u001b[38;5;130;01m\\n\u001b[39;00m\u001b[38;5;124m\"\u001b[39m\u001b[38;5;241m.\u001b[39m\n\u001b[1;32m    332\u001b[0m             \u001b[38;5;28mformat\u001b[39m(target_id, \u001b[38;5;124m\"\u001b[39m\u001b[38;5;124m.\u001b[39m\u001b[38;5;124m\"\u001b[39m, name, value))\n\u001b[1;32m    333\u001b[0m \u001b[38;5;28;01melse\u001b[39;00m:\n\u001b[1;32m    334\u001b[0m     \u001b[38;5;28;01mraise\u001b[39;00m Py4JError(\n\u001b[1;32m    335\u001b[0m         \u001b[38;5;124m\"\u001b[39m\u001b[38;5;124mAn error occurred while calling \u001b[39m\u001b[38;5;132;01m{0}\u001b[39;00m\u001b[38;5;132;01m{1}\u001b[39;00m\u001b[38;5;132;01m{2}\u001b[39;00m\u001b[38;5;124m\"\u001b[39m\u001b[38;5;241m.\u001b[39m\n\u001b[1;32m    336\u001b[0m         \u001b[38;5;28mformat\u001b[39m(target_id, \u001b[38;5;124m\"\u001b[39m\u001b[38;5;124m.\u001b[39m\u001b[38;5;124m\"\u001b[39m, name))\n",
      "\u001b[0;31mPy4JError\u001b[0m: An error occurred while calling None.com.raphtory.algorithms.generic.ConnectedComponents. Trace:\npy4j.Py4JException: Constructor com.raphtory.algorithms.generic.ConnectedComponents([]) does not exist\n\tat py4j.reflection.ReflectionEngine.getConstructor(ReflectionEngine.java:179)\n\tat py4j.reflection.ReflectionEngine.getConstructor(ReflectionEngine.java:196)\n\tat py4j.Gateway.invoke(Gateway.java:237)\n\tat py4j.commands.ConstructorCommand.invokeConstructor(ConstructorCommand.java:80)\n\tat py4j.commands.ConstructorCommand.execute(ConstructorCommand.java:69)\n\tat py4j.GatewayConnection.run(GatewayConnection.java:238)\n\tat java.base/java.lang.Thread.run(Thread.java:829)\n\n"
     ]
    }
   ],
   "source": [
    "queryHandler = raphtory.graph\\\n",
    "    .at(32674)\\\n",
    "    .past()\\\n",
    "    .execute(connectedComponentsAlgorithm())\\\n",
    "    .writeTo(fileSink.apply(\"/tmp/pythonCC\"))"
   ]
  },
  {
   "cell_type": "markdown",
   "metadata": {},
   "source": [
    "If we now investigate the `/tmp/pythonCC` file we will see that \n",
    "it contains our results. \n",
    "\n",
    "You can check the status of this algorithm \n",
    "in the java terminal where your raphtory instance is running or you can run the following."
   ]
  },
  {
   "cell_type": "code",
   "execution_count": null,
   "metadata": {},
   "outputs": [],
   "source": [
    "queryHandler.isJobDone()"
   ]
  },
  {
   "cell_type": "markdown",
   "metadata": {},
   "source": [
    "## Exporting data "
   ]
  },
  {
   "cell_type": "markdown",
   "metadata": {},
   "source": [
    "Previously we ran an algorithm that wrote our data to a file. \n",
    "\n",
    "Now we will look at exporting results from an algorithm that was saved to Pulsar topics. \n",
    "\n",
    "This portion of the tutorial requires that you are running the `raphtory-example-lotr/.../PulsarOutputRunner`\n",
    "\n",
    "We will create the readers which read from topics.\n",
    "\n",
    "If the connection fails, the code with automatically retry.\n",
    "\n",
    "This can occur when you have not closed previous pulsar connections.\n",
    "\n",
    "In this case we are reading the topics: EdgeList, PageRank\n",
    "\n",
    "Note: Prior to this you should have already run these algorithms in Raphtory."
   ]
  },
  {
   "cell_type": "code",
   "execution_count": null,
   "metadata": {
    "collapsed": false,
    "jupyter": {
     "outputs_hidden": false
    },
    "pycharm": {
     "name": "#%%\n"
    },
    "scrolled": true
   },
   "outputs": [],
   "source": [
    "edgeListReader = raphtory.createReader(\"EdgeList\", subscription_name='edgelist_reader')\n",
    "pageRankReader = raphtory.createReader(\"PageRank\", subscription_name='pagerank_reader')"
   ]
  },
  {
   "cell_type": "markdown",
   "metadata": {},
   "source": [
    "### Obtain dataframes\n",
    "\n",
    "Now we will run the getDataframe function to retrieve results as dataframes."
   ]
  },
  {
   "cell_type": "code",
   "execution_count": null,
   "metadata": {},
   "outputs": [],
   "source": [
    "df_edge = raphtory.getDataframe(edgeListReader)"
   ]
  },
  {
   "cell_type": "code",
   "execution_count": null,
   "metadata": {},
   "outputs": [],
   "source": [
    "df_edge"
   ]
  },
  {
   "cell_type": "code",
   "execution_count": null,
   "metadata": {},
   "outputs": [],
   "source": [
    "df_page = raphtory.getDataframe(pageRankReader)"
   ]
  },
  {
   "cell_type": "code",
   "execution_count": null,
   "metadata": {},
   "outputs": [],
   "source": [
    "df_page"
   ]
  },
  {
   "cell_type": "markdown",
   "metadata": {
    "pycharm": {
     "name": "#%% md\n"
    }
   },
   "source": [
    "### Create a graph\n",
    "\n",
    "Next we create a graph by pulling the edge list from Raphtory.\n",
    "\n",
    "In this case we would like to create a graph from the LOTR dataset.\n",
    "\n",
    "So we run the `createGraphFromEdgeList` method on the `EdgeList` dataframe."
   ]
  },
  {
   "cell_type": "code",
   "execution_count": null,
   "metadata": {},
   "outputs": [],
   "source": [
    "G = raphtory.createGraphFromEdgeList(df_edge, isMultiGraph=False)\n",
    "G.number_of_nodes(), G.number_of_edges()"
   ]
  },
  {
   "cell_type": "markdown",
   "metadata": {
    "pycharm": {
     "name": "#%% md\n"
    }
   },
   "source": [
    "### Adding properties to our graph\n",
    "Now we merge these as node properties into our graph"
   ]
  },
  {
   "cell_type": "code",
   "execution_count": null,
   "metadata": {
    "collapsed": false,
    "jupyter": {
     "outputs_hidden": false
    },
    "pycharm": {
     "name": "#%%\n"
    }
   },
   "outputs": [],
   "source": [
    "raphtory.add_node_attributes(G, [df_page], ['PageRank'])"
   ]
  },
  {
   "cell_type": "markdown",
   "metadata": {},
   "source": [
    "### Visualisation\n",
    "\n",
    "Finally we plot the graph with an open source visualisation tool ."
   ]
  },
  {
   "cell_type": "code",
   "execution_count": null,
   "metadata": {
    "collapsed": false,
    "jupyter": {
     "outputs_hidden": false
    },
    "pycharm": {
     "name": "#%%\n"
    }
   },
   "outputs": [],
   "source": [
    "motif_nx = Motif(nx_graph=G, title='NetworkX')\n",
    "motif_nx.plot()"
   ]
  }
 ],
 "metadata": {
  "kernelspec": {
   "display_name": "raphtorypythonclient",
   "language": "python",
   "name": "raphtorypythonclient"
  },
  "language_info": {
   "codemirror_mode": {
    "name": "ipython",
    "version": 3
   },
   "file_extension": ".py",
   "mimetype": "text/x-python",
   "name": "python",
   "nbconvert_exporter": "python",
   "pygments_lexer": "ipython3",
   "version": "3.9.10"
  }
 },
 "nbformat": 4,
 "nbformat_minor": 4
}
