{
 "cells": [
  {
   "cell_type": "code",
   "execution_count": 1,
   "metadata": {},
   "outputs": [],
   "source": [
    "import pandas as pd\n",
    "import matplotlib.pyplot as plt\n",
    "import seaborn as sns\n",
    "import tempfile"
   ]
  },
  {
   "cell_type": "markdown",
   "metadata": {},
   "source": [
    "# Basic functionality on a graph\n",
    "\n",
    "After importing a Raphtory graph we can create a blank one to work with:\n",
    "\n",
    "* Graphs in Raphtory are directed by default\n"
   ]
  },
  {
   "cell_type": "code",
   "execution_count": 2,
   "metadata": {
    "pycharm": {
     "name": "#%%\n"
    }
   },
   "outputs": [
    {
     "data": {
      "text/plain": [
       "Graph(number_of_edges=0, number_of_vertices=0, earliest_time=0, latest_time=0)"
      ]
     },
     "execution_count": 2,
     "metadata": {},
     "output_type": "execute_result"
    }
   ],
   "source": [
    "from raphtory import Graph\n",
    "g = Graph()\n",
    "g"
   ]
  },
  {
   "cell_type": "markdown",
   "metadata": {},
   "source": [
    "Once we have a new graph we can add vertices and edges to it via `add_vertex()` and `add_edge()`. For these:\n",
    "* The ids of vertices and the source/destination of an edge can be either strings or integers\n",
    "* All additions into the graph must happen at a specific time - this means updates are also additions\n",
    "* If you add an edge between vertices which do no exist in the graph yet, these will be automatically created\n",
    "* Properties can be added onto vertices and edges - this is a dict of any value, but the keys must be strings\n",
    "* We have a special type of `static property` which exists outside of the timeline and is always accessible. \n",
    "* Additions can be completed out of order, making it very easy to merge datasets together\n",
    "\n",
    "\n",
    "We can then check the state of the graph:\n",
    "* To see if a vertex or edge exists you can use `has_vertex()` and `has_edge()`\n",
    "* To get the earliest and latest times at which updates have been applied to the graph you can use `earliest_time()` and `latest_time()` - if no updates have been applied these will return `None`\n",
    "* To get the total number of vertices and edges of a graph you can use `num_edges()` and `num_vertices()`."
   ]
  },
  {
   "cell_type": "code",
   "execution_count": 3,
   "metadata": {},
   "outputs": [
    {
     "name": "stdout",
     "output_type": "stream",
     "text": [
      "True True False\n",
      "True False\n",
      "1 3\n",
      "True True False\n",
      "True False\n",
      "2 5\n",
      "Vertex(name=Ben, earliest_time=5, latest_time=8, properties={_id: Ben})\n",
      "Edge(source=Haaroon, target=Hamza, earliest_time=7, latest_time=7, properties={property3: test, property1: 1, property2: 9.8, First-Met: 01/01/1990})\n",
      "Graph(number_of_edges=3, number_of_vertices=6, earliest_time=1, latest_time=8)\n",
      "True\n"
     ]
    }
   ],
   "source": [
    "# Basic Addition with integer IDs\n",
    "g.add_vertex(timestamp=1,id=10)\n",
    "g.add_edge(timestamp=2,src=1,dst=2)\n",
    "\n",
    "# checking vertex 10, 1 and 5 exist \n",
    "print(g.has_vertex(10), g.has_vertex(1), g.has_vertex(5))\n",
    "# checking edge 1,2 exists and 2,1 doesn't as Raphtory is directed\n",
    "print(g.has_edge(1,2),g.has_edge(2,1))\n",
    "# Check the total number of edges and vertices\n",
    "print(g.num_edges(),g.num_vertices())\n",
    "\n",
    "# Adding vertices and edges with String IDs\n",
    "g.add_vertex(timestamp=5,id=\"Ben\")\n",
    "g.add_edge(timestamp=8,src=\"Hamza\",dst=\"Ben\")\n",
    "\n",
    "# Performing the same checks as before, but with strings\n",
    "print(g.has_vertex(id=\"Ben\"), g.has_vertex(id=\"Hamza\"), g.has_vertex(id=\"Dave\"))\n",
    "print(g.has_edge(src=\"Hamza\",dst=\"Ben\"),g.has_edge(src=\"Ben\",dst=\"Hamza\"))\n",
    "print(g.num_edges(),g.num_vertices())\n",
    "\n",
    "#Add an edge with Temporal Properties which can change over time\n",
    "g.add_edge(timestamp=7,src=\"Haaroon\",dst=\"Hamza\",properties={\"property1\": 1, \"property2\": 9.8, \"property3\": \"test\"})\n",
    "#Add a static property which is immutable\n",
    "g.add_edge_properties(src=\"Haaroon\",dst=\"Hamza\",properties={\"First-Met\":\"01/01/1990\"})\n",
    "\n",
    "#Add an vertex with Temporal Properties which can change over time\n",
    "g.add_vertex(timestamp=5,id=\"Hamza\",properties= {\"property1\": 5, \"property2\": 12.5, \"property3\": \"test2\"})\n",
    "#Add a static property which is immutable\n",
    "g.add_vertex_properties(id=\"Hamza\",properties={\"Date-of-Birth\":\"01/01/1990\"})\n",
    "print(g.vertex(\"Ben\").__repr__())\n",
    "print(g.edge(\"Haaroon\",\"Hamza\").__repr__())\n",
    "print(g.__repr__())\n",
    "with tempfile.NamedTemporaryFile() as g_path:\n",
    "    g.save_to_file(g_path.name)\n",
    "\n",
    "    loaded_graph = Graph.load_from_file(g_path.name)\n",
    "\n",
    "    print(loaded_graph.has_vertex(\"Hamza\"))"
   ]
  },
  {
   "cell_type": "code",
   "execution_count": 4,
   "metadata": {},
   "outputs": [],
   "source": [
    "from raphtory import graph_loader\n",
    "\n",
    "g = graph_loader.lotr_graph()\n",
    "view = g.at(300)\n",
    "g.add_vertex(timestamp=0,id=\"Gandalf\",properties={\"Race\":\"Maiar\"})\n",
    "\n",
    "#view[\"Gandalf\"][\"Race\"]\n",
    "from raphtory import export\n",
    "\n",
    "node_list_df = export.to_node_list_df(view)\n",
    "edge_list_df = export.to_edge_list_df(view)"
   ]
  },
  {
   "cell_type": "code",
   "execution_count": 5,
   "metadata": {},
   "outputs": [
    {
     "data": {
      "text/plain": [
       "NodeDataView({'Gandalf': {'temporal_properties': {'Race': [(0, 'Maiar')]}, 'constant_properties': {'_id': 'Gandalf'}}, 'Elrond': {'temporal_properties': None, 'constant_properties': {'_id': 'Elrond'}}, 'Frodo': {'temporal_properties': None, 'constant_properties': {'_id': 'Frodo'}}, 'Bilbo': {'temporal_properties': None, 'constant_properties': {'_id': 'Bilbo'}}, 'Blanco': {'temporal_properties': None, 'constant_properties': {'_id': 'Blanco'}}, 'Marcho': {'temporal_properties': None, 'constant_properties': {'_id': 'Marcho'}}, 'Thorin': {'temporal_properties': None, 'constant_properties': {'_id': 'Thorin'}}, 'Gollum': {'temporal_properties': None, 'constant_properties': {'_id': 'Gollum'}}})"
      ]
     },
     "execution_count": 5,
     "metadata": {},
     "output_type": "execute_result"
    }
   ],
   "source": [
    "networkXGraph = export.to_networkx(view)\n",
    "networkXGraph.nodes(data=True)"
   ]
  },
  {
   "cell_type": "code",
   "execution_count": 6,
   "metadata": {},
   "outputs": [
    {
     "data": {
      "text/plain": [
       "OutMultiEdgeDataView([('Gandalf', 'Elrond', {'temporal_properties': None, 'constant_properties': None, 'layer': ['_default']}), ('Gandalf', 'Bilbo', {'temporal_properties': None, 'constant_properties': None, 'layer': ['_default']}), ('Frodo', 'Bilbo', {'temporal_properties': None, 'constant_properties': None, 'layer': ['_default']}), ('Blanco', 'Marcho', {'temporal_properties': None, 'constant_properties': None, 'layer': ['_default']}), ('Thorin', 'Gandalf', {'temporal_properties': None, 'constant_properties': None, 'layer': ['_default']}), ('Thorin', 'Bilbo', {'temporal_properties': None, 'constant_properties': None, 'layer': ['_default']}), ('Gollum', 'Bilbo', {'temporal_properties': None, 'constant_properties': None, 'layer': ['_default']})])"
      ]
     },
     "execution_count": 6,
     "metadata": {},
     "output_type": "execute_result"
    }
   ],
   "source": [
    "networkXGraph.edges(data=True)"
   ]
  },
  {
   "cell_type": "code",
   "execution_count": 7,
   "metadata": {},
   "outputs": [
    {
     "data": {
      "text/html": [
       "<div>\n",
       "<style scoped>\n",
       "    .dataframe tbody tr th:only-of-type {\n",
       "        vertical-align: middle;\n",
       "    }\n",
       "\n",
       "    .dataframe tbody tr th {\n",
       "        vertical-align: top;\n",
       "    }\n",
       "\n",
       "    .dataframe thead th {\n",
       "        text-align: right;\n",
       "    }\n",
       "</style>\n",
       "<table border=\"1\" class=\"dataframe\">\n",
       "  <thead>\n",
       "    <tr style=\"text-align: right;\">\n",
       "      <th></th>\n",
       "      <th>name</th>\n",
       "      <th>history</th>\n",
       "      <th>constant_properties</th>\n",
       "      <th>temporal_properties</th>\n",
       "    </tr>\n",
       "  </thead>\n",
       "  <tbody>\n",
       "    <tr>\n",
       "      <th>0</th>\n",
       "      <td>Gandalf</td>\n",
       "      <td>[0, 33, 270]</td>\n",
       "      <td>{'_id': 'Gandalf'}</td>\n",
       "      <td>{'Race': [(0, 'Maiar')]}</td>\n",
       "    </tr>\n",
       "    <tr>\n",
       "      <th>1</th>\n",
       "      <td>Elrond</td>\n",
       "      <td>[33]</td>\n",
       "      <td>{'_id': 'Elrond'}</td>\n",
       "      <td>None</td>\n",
       "    </tr>\n",
       "    <tr>\n",
       "      <th>2</th>\n",
       "      <td>Frodo</td>\n",
       "      <td>[114, 205]</td>\n",
       "      <td>{'_id': 'Frodo'}</td>\n",
       "      <td>None</td>\n",
       "    </tr>\n",
       "    <tr>\n",
       "      <th>3</th>\n",
       "      <td>Bilbo</td>\n",
       "      <td>[114, 205, 270, 286]</td>\n",
       "      <td>{'_id': 'Bilbo'}</td>\n",
       "      <td>None</td>\n",
       "    </tr>\n",
       "    <tr>\n",
       "      <th>4</th>\n",
       "      <td>Blanco</td>\n",
       "      <td>[146]</td>\n",
       "      <td>{'_id': 'Blanco'}</td>\n",
       "      <td>None</td>\n",
       "    </tr>\n",
       "    <tr>\n",
       "      <th>5</th>\n",
       "      <td>Marcho</td>\n",
       "      <td>[146]</td>\n",
       "      <td>{'_id': 'Marcho'}</td>\n",
       "      <td>None</td>\n",
       "    </tr>\n",
       "    <tr>\n",
       "      <th>6</th>\n",
       "      <td>Thorin</td>\n",
       "      <td>[270]</td>\n",
       "      <td>{'_id': 'Thorin'}</td>\n",
       "      <td>None</td>\n",
       "    </tr>\n",
       "    <tr>\n",
       "      <th>7</th>\n",
       "      <td>Gollum</td>\n",
       "      <td>[286]</td>\n",
       "      <td>{'_id': 'Gollum'}</td>\n",
       "      <td>None</td>\n",
       "    </tr>\n",
       "  </tbody>\n",
       "</table>\n",
       "</div>"
      ],
      "text/plain": [
       "      name               history constant_properties       temporal_properties\n",
       "0  Gandalf          [0, 33, 270]  {'_id': 'Gandalf'}  {'Race': [(0, 'Maiar')]}\n",
       "1   Elrond                  [33]   {'_id': 'Elrond'}                      None\n",
       "2    Frodo            [114, 205]    {'_id': 'Frodo'}                      None\n",
       "3    Bilbo  [114, 205, 270, 286]    {'_id': 'Bilbo'}                      None\n",
       "4   Blanco                 [146]   {'_id': 'Blanco'}                      None\n",
       "5   Marcho                 [146]   {'_id': 'Marcho'}                      None\n",
       "6   Thorin                 [270]   {'_id': 'Thorin'}                      None\n",
       "7   Gollum                 [286]   {'_id': 'Gollum'}                      None"
      ]
     },
     "execution_count": 7,
     "metadata": {},
     "output_type": "execute_result"
    }
   ],
   "source": [
    "node_list_df"
   ]
  },
  {
   "cell_type": "code",
   "execution_count": 8,
   "metadata": {},
   "outputs": [
    {
     "data": {
      "text/html": [
       "<div>\n",
       "<style scoped>\n",
       "    .dataframe tbody tr th:only-of-type {\n",
       "        vertical-align: middle;\n",
       "    }\n",
       "\n",
       "    .dataframe tbody tr th {\n",
       "        vertical-align: top;\n",
       "    }\n",
       "\n",
       "    .dataframe thead th {\n",
       "        text-align: right;\n",
       "    }\n",
       "</style>\n",
       "<table border=\"1\" class=\"dataframe\">\n",
       "  <thead>\n",
       "    <tr style=\"text-align: right;\">\n",
       "      <th></th>\n",
       "      <th>src</th>\n",
       "      <th>dst</th>\n",
       "      <th>layer</th>\n",
       "      <th>history</th>\n",
       "      <th>constant_properties</th>\n",
       "      <th>temporal_properties</th>\n",
       "    </tr>\n",
       "  </thead>\n",
       "  <tbody>\n",
       "    <tr>\n",
       "      <th>0</th>\n",
       "      <td>Gandalf</td>\n",
       "      <td>Elrond</td>\n",
       "      <td>_default</td>\n",
       "      <td>[33]</td>\n",
       "      <td>None</td>\n",
       "      <td>None</td>\n",
       "    </tr>\n",
       "    <tr>\n",
       "      <th>1</th>\n",
       "      <td>Gandalf</td>\n",
       "      <td>Bilbo</td>\n",
       "      <td>_default</td>\n",
       "      <td>[270]</td>\n",
       "      <td>None</td>\n",
       "      <td>None</td>\n",
       "    </tr>\n",
       "    <tr>\n",
       "      <th>2</th>\n",
       "      <td>Frodo</td>\n",
       "      <td>Bilbo</td>\n",
       "      <td>_default</td>\n",
       "      <td>[114, 205]</td>\n",
       "      <td>None</td>\n",
       "      <td>None</td>\n",
       "    </tr>\n",
       "    <tr>\n",
       "      <th>3</th>\n",
       "      <td>Blanco</td>\n",
       "      <td>Marcho</td>\n",
       "      <td>_default</td>\n",
       "      <td>[146]</td>\n",
       "      <td>None</td>\n",
       "      <td>None</td>\n",
       "    </tr>\n",
       "    <tr>\n",
       "      <th>4</th>\n",
       "      <td>Thorin</td>\n",
       "      <td>Gandalf</td>\n",
       "      <td>_default</td>\n",
       "      <td>[270]</td>\n",
       "      <td>None</td>\n",
       "      <td>None</td>\n",
       "    </tr>\n",
       "    <tr>\n",
       "      <th>5</th>\n",
       "      <td>Thorin</td>\n",
       "      <td>Bilbo</td>\n",
       "      <td>_default</td>\n",
       "      <td>[270]</td>\n",
       "      <td>None</td>\n",
       "      <td>None</td>\n",
       "    </tr>\n",
       "    <tr>\n",
       "      <th>6</th>\n",
       "      <td>Gollum</td>\n",
       "      <td>Bilbo</td>\n",
       "      <td>_default</td>\n",
       "      <td>[286]</td>\n",
       "      <td>None</td>\n",
       "      <td>None</td>\n",
       "    </tr>\n",
       "  </tbody>\n",
       "</table>\n",
       "</div>"
      ],
      "text/plain": [
       "       src      dst     layer     history constant_properties  \\\n",
       "0  Gandalf   Elrond  _default        [33]                None   \n",
       "1  Gandalf    Bilbo  _default       [270]                None   \n",
       "2    Frodo    Bilbo  _default  [114, 205]                None   \n",
       "3   Blanco   Marcho  _default       [146]                None   \n",
       "4   Thorin  Gandalf  _default       [270]                None   \n",
       "5   Thorin    Bilbo  _default       [270]                None   \n",
       "6   Gollum    Bilbo  _default       [286]                None   \n",
       "\n",
       "  temporal_properties  \n",
       "0                None  \n",
       "1                None  \n",
       "2                None  \n",
       "3                None  \n",
       "4                None  \n",
       "5                None  \n",
       "6                None  "
      ]
     },
     "execution_count": 8,
     "metadata": {},
     "output_type": "execute_result"
    }
   ],
   "source": [
    "edge_list_df"
   ]
  },
  {
   "cell_type": "code",
   "execution_count": 9,
   "metadata": {},
   "outputs": [
    {
     "data": {
      "text/plain": [
       "<Axes: xlabel='degree', ylabel='Count'>"
      ]
     },
     "execution_count": 9,
     "metadata": {},
     "output_type": "execute_result"
    },
    {
     "data": {
      "image/png": "[encoded data removed]",
      "text/plain": [
       "<Figure size 640x480 with 1 Axes>"
      ]
     },
     "metadata": {},
     "output_type": "display_data"
    }
   ],
   "source": [
    "from raphtory import graph_gen\n",
    "\n",
    "g = Graph()\n",
    "graph_gen.ba_preferential_attachment(g,vertices_to_add=1000,edges_per_step=10)\n",
    "view = g.window(0,1000)\n",
    "\n",
    "ids = []\n",
    "degrees = []\n",
    "for v in view.vertices():\n",
    "    ids.append(v.id)\n",
    "    degrees.append(v.degree())\n",
    "\n",
    "df = pd.DataFrame.from_dict({\"id\":ids,\"degree\": degrees})\n",
    "\n",
    "sns.set()\n",
    "sns.histplot(df.degree)"
   ]
  },
  {
   "cell_type": "code",
   "execution_count": 10,
   "metadata": {
    "pycharm": {
     "name": "#%%\n"
    }
   },
   "outputs": [],
   "source": [
    "from raphtory import Graph\n",
    "from raphtory import algorithms\n",
    "from raphtory import graph_loader\n",
    "g = graph_loader.lotr_graph()\n",
    "views_l1 = g.rolling(1000)"
   ]
  },
  {
   "cell_type": "code",
   "execution_count": 11,
   "metadata": {},
   "outputs": [
    {
     "data": {
      "text/plain": [
       "<Axes: xlabel='Time', ylabel='Average Interactions'>"
      ]
     },
     "execution_count": 11,
     "metadata": {},
     "output_type": "execute_result"
    },
    {
     "data": {
      "image/png": "[encoded data removed]",
      "text/plain": [
       "<Figure size 640x480 with 1 Axes>"
      ]
     },
     "metadata": {},
     "output_type": "display_data"
    }
   ],
   "source": [
    "views = g.expanding(100)\n",
    "\n",
    "timestamps   = []\n",
    "vertex_count = []\n",
    "edge_count   = []\n",
    "degree      = []\n",
    "\n",
    "for view in views:\n",
    "    timestamps.append(view.latest_time())\n",
    "    #vertex_count.append(view.num_vertices())             \n",
    "    #edge_count.append(view.num_edges())\n",
    "    degree.append(view.num_edges()/max(1,view.num_vertices()))             \n",
    "             \n",
    "sns.set_context()\n",
    "ax = plt.gca()\n",
    "plt.xticks(rotation=45)\n",
    "ax.set_xlabel(\"Time\")\n",
    "ax.set_ylabel(\"Average Interactions\")\n",
    "sns.lineplot(x = timestamps, y = degree,ax=ax) "
   ]
  },
  {
   "cell_type": "code",
   "execution_count": 12,
   "metadata": {},
   "outputs": [
    {
     "data": {
      "text/plain": [
       "<Axes: xlabel='Time', ylabel='Interactions'>"
      ]
     },
     "execution_count": 12,
     "metadata": {},
     "output_type": "execute_result"
    },
    {
     "data": {
      "image/png": "[encoded data removed]",
      "text/plain": [
       "<Figure size 640x480 with 1 Axes>"
      ]
     },
     "metadata": {},
     "output_type": "display_data"
    }
   ],
   "source": [
    "views = g.expanding(step=10)  \n",
    "\n",
    "timestamps   = []\n",
    "degree       = []\n",
    "\n",
    "for view in views:\n",
    "    timestamps.append(view.latest_time())\n",
    "    gandalf = view.vertex(\"Gandalf\")\n",
    "    if(gandalf is not None):\n",
    "        degree.append(gandalf.degree())\n",
    "    else:\n",
    "        degree.append(0)\n",
    "            \n",
    "             \n",
    "sns.set_context()\n",
    "ax = plt.gca()\n",
    "plt.xticks(rotation=45)\n",
    "ax.set_xlabel(\"Time\")\n",
    "ax.set_ylabel(\"Interactions\")\n",
    "sns.lineplot(x = timestamps, y = degree,ax=ax) "
   ]
  }
 ],
 "metadata": {
  "kernelspec": {
   "display_name": "raphtory",
   "language": "python",
   "name": "python3"
  },
  "language_info": {
   "codemirror_mode": {
    "name": "ipython",
    "version": 3
   },
   "file_extension": ".py",
   "mimetype": "text/x-python",
   "name": "python",
   "nbconvert_exporter": "python",
   "pygments_lexer": "ipython3",
   "version": "3.11.3"
  },
  "vscode": {
   "interpreter": {
    "hash": "cb87ca7661adc8f1194e8349af5289fc4d6184622935eb2bec01493e8d44e9d2"
   }
  }
 },
 "nbformat": 4,
 "nbformat_minor": 4
}
