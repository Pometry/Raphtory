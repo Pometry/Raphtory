{
 "cells": [
  {
   "cell_type": "code",
   "execution_count": null,
   "metadata": {},
   "outputs": [],
   "source": [
    "import pandas as pd\n",
    "import matplotlib.pyplot as plt\n",
    "import seaborn as sns\n",
    "import tempfile"
   ]
  },
  {
   "cell_type": "markdown",
   "metadata": {},
   "source": [
    "# Basic functionality on a graph\n",
    "\n",
    "After importing a Raphtory graph we can create a blank one to work with:\n",
    "\n",
    "* Graphs in Raphtory are directed by default\n"
   ]
  },
  {
   "cell_type": "code",
   "execution_count": null,
   "metadata": {
    "pycharm": {
     "name": "#%%\n"
    }
   },
   "outputs": [],
   "source": [
    "from raphtory import Graph\n",
    "g = Graph()\n",
    "g"
   ]
  },
  {
   "cell_type": "markdown",
   "metadata": {},
   "source": [
    "Once we have a new graph we can add vertices and edges to it via `add_vertex()` and `add_edge()`. For these:\n",
    "* The ids of vertices and the source/destination of an edge can be either strings or integers\n",
    "* All additions into the graph must happen at a specific time - this means updates are also additions\n",
    "* If you add an edge between vertices which do no exist in the graph yet, these will be automatically created\n",
    "* Properties can be added onto vertices and edges - this is a dict of any value, but the keys must be strings\n",
    "* We have a special type of `static property` which exists outside of the timeline and is always accessible. \n",
    "* Additions can be completed out of order, making it very easy to merge datasets together\n",
    "\n",
    "\n",
    "We can then check the state of the graph:\n",
    "* To see if a vertex or edge exists you can use `has_vertex()` and `has_edge()`\n",
    "* To get the earliest and latest times at which updates have been applied to the graph you can use `earliest_time()` and `latest_time()` - if no updates have been applied these will return `None`\n",
    "* To get the total number of vertices and edges of a graph you can use `num_edges()` and `num_vertices()`."
   ]
  },
  {
   "cell_type": "code",
   "execution_count": null,
   "metadata": {},
   "outputs": [],
   "source": [
    "# Basic Addition with integer IDs\n",
    "g.add_vertex(timestamp=1,id=10)\n",
    "g.add_edge(timestamp=2,src=1,dst=2)\n",
    "\n",
    "# checking vertex 10, 1 and 5 exist \n",
    "print(g.has_vertex(10), g.has_vertex(1), g.has_vertex(5))\n",
    "# checking edge 1,2 exists and 2,1 doesn't as Raphtory is directed\n",
    "print(g.has_edge(1,2),g.has_edge(2,1))\n",
    "# Check the total number of edges and vertices\n",
    "print(g.count_edges(),g.count_vertices())\n",
    "\n",
    "# Adding vertices and edges with String IDs\n",
    "g.add_vertex(timestamp=5,id=\"Ben\")\n",
    "g.add_edge(timestamp=8,src=\"Hamza\",dst=\"Ben\")\n",
    "\n",
    "# Performing the same checks as before, but with strings\n",
    "print(g.has_vertex(id=\"Ben\"), g.has_vertex(id=\"Hamza\"), g.has_vertex(id=\"Dave\"))\n",
    "print(g.has_edge(src=\"Hamza\",dst=\"Ben\"),g.has_edge(src=\"Ben\",dst=\"Hamza\"))\n",
    "print(g.count_edges(),g.count_vertices())\n",
    "\n",
    "#Add an edge with Temporal Properties which can change over time\n",
    "e = g.add_edge(timestamp=7,src=\"Haaroon\",dst=\"Hamza\",properties={\"property1\": 1, \"property2\": 9.8, \"property3\": \"test\"})\n",
    "#Add a static property which is immutable\n",
    "e.add_constant_properties(properties={\"First-Met\":\"01/01/1990\"})\n",
    "\n",
    "#Add an vertex with Temporal Properties which can change over time\n",
    "v = g.add_vertex(timestamp=5,id=\"Hamza\",properties= {\"property1\": 5, \"property2\": 12.5, \"property3\": \"test2\"})\n",
    "#Add a static property which is immutable\n",
    "v.add_constant_properties(properties={\"Date-of-Birth\":\"01/01/1990\"})\n",
    "print(g.vertex(\"Ben\").__repr__())\n",
    "print(g.edge(\"Haaroon\",\"Hamza\").__repr__())\n",
    "print(g.__repr__())\n",
    "with tempfile.NamedTemporaryFile() as g_path:\n",
    "    g.save_to_file(g_path.name)\n",
    "\n",
    "    loaded_graph = Graph.load_from_file(g_path.name)\n",
    "\n",
    "    print(loaded_graph.has_vertex(\"Hamza\"))"
   ]
  },
  {
   "cell_type": "code",
   "execution_count": null,
   "metadata": {},
   "outputs": [],
   "source": [
    "from raphtory import graph_loader\n",
    "\n",
    "g = graph_loader.lotr_graph()\n",
    "view = g.at(300)\n",
    "g.add_vertex(timestamp=0,id=\"Gandalf\",properties={\"Race\":\"Maiar\"})\n",
    "\n",
    "#view[\"Gandalf\"][\"Race\"]\n",
    "from raphtory import export\n",
    "\n",
    "export.to_networkx(view)"
   ]
  },
  {
   "cell_type": "code",
   "execution_count": null,
   "metadata": {},
   "outputs": [],
   "source": [
    "from raphtory import graph_gen\n",
    "\n",
    "g = Graph()\n",
    "graph_gen.ba_preferential_attachment(g,vertices_to_add=1000,edges_per_step=10)\n",
    "view = g.window(0,1000)\n",
    "\n",
    "ids = []\n",
    "degrees = []\n",
    "for v in view.vertices:\n",
    "    ids.append(v.id)\n",
    "    degrees.append(v.degree())\n",
    "\n",
    "df = pd.DataFrame.from_dict({\"id\":ids,\"degree\": degrees})\n",
    "\n",
    "sns.set()\n",
    "sns.histplot(df.degree)"
   ]
  },
  {
   "cell_type": "code",
   "execution_count": null,
   "metadata": {
    "pycharm": {
     "name": "#%%\n"
    }
   },
   "outputs": [],
   "source": [
    "from raphtory import Graph\n",
    "from raphtory import algorithms\n",
    "from raphtory import graph_loader\n",
    "g = graph_loader.lotr_graph()\n",
    "views_l1 = g.rolling(1000)"
   ]
  },
  {
   "cell_type": "code",
   "execution_count": null,
   "metadata": {},
   "outputs": [],
   "source": [
    "views = g.expanding(100)\n",
    "\n",
    "timestamps   = []\n",
    "vertex_count = []\n",
    "edge_count   = []\n",
    "degree      = []\n",
    "\n",
    "for view in views:\n",
    "    timestamps.append(view.latest_time)\n",
    "    #vertex_count.append(view.num_vertices())             \n",
    "    #edge_count.append(view.num_edges())\n",
    "    degree.append(view.count_edges()/max(1,view.count_vertices()))             \n",
    "             \n",
    "sns.set_context()\n",
    "ax = plt.gca()\n",
    "plt.xticks(rotation=45)\n",
    "ax.set_xlabel(\"Time\")\n",
    "ax.set_ylabel(\"Average Interactions\")\n",
    "sns.lineplot(x = timestamps, y = degree,ax=ax) "
   ]
  },
  {
   "cell_type": "code",
   "execution_count": null,
   "metadata": {},
   "outputs": [],
   "source": [
    "views = g.expanding(step=10)  \n",
    "\n",
    "timestamps   = []\n",
    "degree       = []\n",
    "\n",
    "for view in views:\n",
    "    timestamps.append(view.latest_time)\n",
    "    gandalf = view.vertex(\"Gandalf\")\n",
    "    if(gandalf is not None):\n",
    "        degree.append(gandalf.degree())\n",
    "    else:\n",
    "        degree.append(0)\n",
    "            \n",
    "             \n",
    "sns.set_context()\n",
    "ax = plt.gca()\n",
    "plt.xticks(rotation=45)\n",
    "ax.set_xlabel(\"Time\")\n",
    "ax.set_ylabel(\"Interactions\")\n",
    "sns.lineplot(x = timestamps, y = degree,ax=ax) "
   ]
  }
 ],
 "metadata": {
  "kernelspec": {
   "display_name": "Python 3 (ipykernel)",
   "language": "python",
   "name": "python3"
  },
  "language_info": {
   "codemirror_mode": {
    "name": "ipython",
    "version": 3
   },
   "file_extension": ".py",
   "mimetype": "text/x-python",
   "name": "python",
   "nbconvert_exporter": "python",
   "pygments_lexer": "ipython3",
   "version": "3.11.2"
  },
  "vscode": {
   "interpreter": {
    "hash": "cb87ca7661adc8f1194e8349af5289fc4d6184622935eb2bec01493e8d44e9d2"
   }
  }
 },
 "nbformat": 4,
 "nbformat_minor": 4
}
