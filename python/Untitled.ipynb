{
 "cells": [
  {
   "cell_type": "code",
   "execution_count": 41,
   "id": "f15471f9-42e8-4914-bb9b-0dcbffa06c79",
   "metadata": {},
   "outputs": [],
   "source": [
    "import raphtory\n",
    "g = raphtory.Graph()\n",
    "edges_str = [\n",
    "    (\"1\", \"2\", 10, 1),\n",
    "    (\"1\", \"2\", 10, 2),\n",
    "    (\"1\", \"2\", 100, 3),\n",
    "    (\"1\", \"4\", 20, 2),\n",
    "    (\"2\", \"3\", 5, 3),\n",
    "    (\"3\", \"2\", 2, 4),\n",
    "    (\"3\", \"1\", 1, 5),\n",
    "    (\"4\", \"3\", 10, 6),\n",
    "    (\"4\", \"1\", 5, 7),\n",
    "    (\"1\", \"5\", 2, 8),\n",
    "    (\"1\", \"5\", 1, 9),\n",
    "    (\"1\", \"5\", 5, 10)\n",
    "]\n",
    "for (src, dst, val, time) in edges_str:\n",
    "    g.add_edge(time, src, dst, {'value_dec': val})\n",
    "v = g.vertex(\"1\")\n",
    "res = v.out_edges().properties.temporal.get(\"value_dec\")"
   ]
  },
  {
   "cell_type": "code",
   "execution_count": 45,
   "id": "720d155a-7f9a-41e7-a187-a23c93d9d4e1",
   "metadata": {},
   "outputs": [
    {
     "data": {
      "text/plain": [
       "100"
      ]
     },
     "execution_count": 45,
     "metadata": {},
     "output_type": "execute_result"
    }
   ],
   "source": [
    "res.values().max().max()"
   ]
  },
  {
   "cell_type": "code",
   "execution_count": 33,
   "id": "4b9410f0-570f-4d69-ae8e-aacc31450617",
   "metadata": {},
   "outputs": [],
   "source": [
    "res = v.out_edges().properties.temporal.get(\"value_dec\").values()"
   ]
  },
  {
   "cell_type": "code",
   "execution_count": 36,
   "id": "1248bae9-380f-4f57-9f22-185cb3708f0a",
   "metadata": {},
   "outputs": [
    {
     "data": {
      "text/plain": [
       "PyPropValueList([10, 20, 1])"
      ]
     },
     "execution_count": 36,
     "metadata": {},
     "output_type": "execute_result"
    }
   ],
   "source": [
    "res.min()"
   ]
  },
  {
   "cell_type": "code",
   "execution_count": 37,
   "id": "78e6bbae-a76e-4708-a2a0-f90576e46b8c",
   "metadata": {},
   "outputs": [
    {
     "data": {
      "text/plain": [
       "PyPropValueList([100, 20, 5])"
      ]
     },
     "execution_count": 37,
     "metadata": {},
     "output_type": "execute_result"
    }
   ],
   "source": [
    "res.max()"
   ]
  },
  {
   "cell_type": "code",
   "execution_count": 38,
   "id": "42a19884-912d-4b7f-8eea-51607c560921",
   "metadata": {
    "scrolled": true
   },
   "outputs": [
    {
     "data": {
      "text/plain": [
       "(UsizeIterable([3, 1, 3]), UsizeIterable([3, 1, 3]))"
      ]
     },
     "execution_count": 38,
     "metadata": {},
     "output_type": "execute_result"
    }
   ],
   "source": [
    "res.count(), res.len()"
   ]
  },
  {
   "cell_type": "code",
   "execution_count": 39,
   "id": "43f3947c-6ee1-4abc-9a8c-18bfdfe29303",
   "metadata": {},
   "outputs": [
    {
     "data": {
      "text/plain": [
       "(PyPropValueList([40, 20, 2.6666666666666665]),\n",
       " PyPropValueList([40, 20, 2.6666666666666665]))"
      ]
     },
     "execution_count": 39,
     "metadata": {},
     "output_type": "execute_result"
    }
   ],
   "source": [
    "g.vertices().edges().properties.get(\"value_dec\").count()"
   ]
  },
  {
   "cell_type": "code",
   "execution_count": 7,
   "id": "2993afc9-eb05-49a0-9087-dabde8c48cef",
   "metadata": {},
   "outputs": [
    {
     "name": "stdout",
     "output_type": "stream",
     "text": [
      "full [10 10 10 20  2], max: 20, min 2, median 10.0 mean 10.4 sum 52\n"
     ]
    }
   ],
   "source": [
    "import numpy as np\n",
    "arr = np.array(result.collect())\n",
    "print(f\"full {arr}, max: {np.max(arr)}, min {np.min(arr)}, median {np.median(arr)} mean {np.mean(arr)} sum {np.sum(arr)}\")"
   ]
  },
  {
   "cell_type": "code",
   "execution_count": 9,
   "id": "7b0435b7-6614-42b6-838c-91da7f91ec3b",
   "metadata": {},
   "outputs": [
    {
     "data": {
      "text/plain": [
       "([10, 10, 10, 20, 2], 10, 10, 52)"
      ]
     },
     "execution_count": 9,
     "metadata": {},
     "output_type": "execute_result"
    }
   ],
   "source": [
    "# result.collect(), result.max(), result.min()\n",
    "result.collect(), result.median(), result.mean(), result.sum()"
   ]
  },
  {
   "cell_type": "code",
   "execution_count": null,
   "id": "ff3ab0ec-7ab5-45c9-94c4-d36257928c02",
   "metadata": {},
   "outputs": [],
   "source": []
  }
 ],
 "metadata": {
  "kernelspec": {
   "display_name": "Python [conda env:raphtory] *",
   "language": "python",
   "name": "conda-env-raphtory-py"
  },
  "language_info": {
   "codemirror_mode": {
    "name": "ipython",
    "version": 3
   },
   "file_extension": ".py",
   "mimetype": "text/x-python",
   "name": "python",
   "nbconvert_exporter": "python",
   "pygments_lexer": "ipython3",
   "version": "3.10.12"
  }
 },
 "nbformat": 4,
 "nbformat_minor": 5
}
