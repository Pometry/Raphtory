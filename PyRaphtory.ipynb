{
 "cells": [
  {
   "cell_type": "code",
   "execution_count": 1,
   "id": "a26445d2-4c2f-4e65-9fef-514174d4f7fa",
   "metadata": {
    "pycharm": {
     "name": "#%%\n"
    }
   },
   "outputs": [],
   "source": [
    "from pathlib import Path\n",
    "from pyraphtory.context import PyRaphtory"
   ]
  },
  {
   "cell_type": "code",
   "execution_count": null,
   "outputs": [],
   "source": [
    "!curl -o /tmp/lotr.csv https://raw.githubusercontent.com/Raphtory/Data/main/lotr.csv"
   ],
   "metadata": {
    "collapsed": false,
    "pycharm": {
     "name": "#%%\n"
    }
   }
  },
  {
   "cell_type": "code",
   "execution_count": null,
   "outputs": [],
   "source": [
    "pr = PyRaphtory(spout_input=Path('/tmp/lotr.csv'), builder_script=Path('builder.py'),  builder_class='LotrGraphBuilder', mode='batch', logging=True).open()"
   ],
   "metadata": {
    "collapsed": false,
    "pycharm": {
     "name": "#%%\n"
    }
   }
  },
  {
   "cell_type": "code",
   "execution_count": null,
   "outputs": [],
   "source": [
    "from pyraphtory.algo import Vertex, Iterate, Step"
   ],
   "metadata": {
    "collapsed": false,
    "pycharm": {
     "name": "#%%\n"
    }
   }
  },
  {
   "cell_type": "code",
   "execution_count": null,
   "outputs": [],
   "source": [
    "PR_LABEL = 'prlabel'\n",
    "\n",
    "class PGStep1(Step):\n",
    "    def eval(self, v: Vertex):\n",
    "        initLabel = 1.0\n",
    "        v[PR_LABEL] = initLabel\n",
    "        out_degree = v.out_degree()\n",
    "        if out_degree > 0:\n",
    "            msg = initLabel / out_degree\n",
    "            v.message_outgoing_neighbours(msg)\n",
    "\n",
    "class PGIterate1(Iterate):\n",
    "    def __init__(self, iterations: int, execute_messaged_only: bool, damping_factor: float = 0.85):\n",
    "        super().__init__(iterations, execute_messaged_only)\n",
    "        self.damping_factor = damping_factor\n",
    "\n",
    "    def eval(self, v: Vertex):\n",
    "        current_label = v[PR_LABEL]\n",
    "        queue = v.message_queue()\n",
    "        summed_queue = sum(queue)\n",
    "        new_label = (1 - self.damping_factor) + self.damping_factor * summed_queue\n",
    "        v[PR_LABEL] = new_label\n",
    "\n",
    "        out_degree = v.out_degree()\n",
    "\n",
    "        if out_degree > 0:\n",
    "            v.message_outgoing_neighbours(new_label / out_degree)\n",
    "\n",
    "        if abs(new_label - current_label) < 0.00001:\n",
    "            v.vote_to_halt()\n"
   ],
   "metadata": {
    "collapsed": false,
    "pycharm": {
     "name": "#%%\n"
    }
   }
  },
  {
   "cell_type": "code",
   "execution_count": null,
   "outputs": [],
   "source": [
    "rg = pr.graph()"
   ],
   "metadata": {
    "collapsed": false,
    "pycharm": {
     "name": "#%%\n"
    }
   }
  },
  {
   "cell_type": "code",
   "execution_count": null,
   "outputs": [],
   "source": [
    "local_sink = pr.local_sink()"
   ],
   "metadata": {
    "collapsed": false,
    "pycharm": {
     "name": "#%%\n"
    }
   }
  },
  {
   "cell_type": "code",
   "execution_count": null,
   "outputs": [],
   "source": [
    "tracker = rg.at(32674) \\\n",
    "                .past() \\\n",
    "                .step(PGStep1()) \\\n",
    "                .iterate(PGIterate1(iterations=100, execute_messaged_only=False)) \\\n",
    "                .select([PR_LABEL]) \\\n",
    "                .write_to(local_sink)"
   ],
   "metadata": {
    "collapsed": false,
    "pycharm": {
     "name": "#%%\n"
    }
   }
  },
  {
   "cell_type": "code",
   "execution_count": null,
   "outputs": [],
   "source": [
    "print(tracker)"
   ],
   "metadata": {
    "collapsed": false,
    "pycharm": {
     "name": "#%%\n"
    }
   }
  },
  {
   "cell_type": "code",
   "execution_count": null,
   "outputs": [],
   "source": [
    "tracker.wait_for_job()"
   ],
   "metadata": {
    "collapsed": false,
    "pycharm": {
     "name": "#%%\n"
    }
   }
  },
  {
   "cell_type": "code",
   "execution_count": null,
   "outputs": [],
   "source": [
    "res = local_sink.results()"
   ],
   "metadata": {
    "collapsed": false,
    "pycharm": {
     "name": "#%%\n"
    }
   }
  },
  {
   "cell_type": "code",
   "execution_count": null,
   "outputs": [],
   "source": [
    "res[0:5]"
   ],
   "metadata": {
    "collapsed": false,
    "pycharm": {
     "name": "#%%\n"
    }
   }
  }
 ],
 "metadata": {
  "kernelspec": {
   "display_name": "Python 3 (ipykernel)",
   "language": "python",
   "name": "python3"
  },
  "language_info": {
   "codemirror_mode": {
    "name": "ipython",
    "version": 3
   },
   "file_extension": ".py",
   "mimetype": "text/x-python",
   "name": "python",
   "nbconvert_exporter": "python",
   "pygments_lexer": "ipython3",
   "version": "3.10.4"
  }
 },
 "nbformat": 4,
 "nbformat_minor": 5
}