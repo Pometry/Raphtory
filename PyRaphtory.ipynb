{
 "cells": [
  {
   "cell_type": "code",
   "execution_count": 1,
   "id": "a26445d2-4c2f-4e65-9fef-514174d4f7fa",
   "metadata": {
    "pycharm": {
     "name": "#%%\n"
    }
   },
   "outputs": [],
   "source": [
    "from pathlib import Path\n",
    "from pyraphtory.context import PyRaphtory"
   ]
  },
  {
   "cell_type": "code",
   "execution_count": 2,
   "id": "80a6aaac-a9dd-4346-98d9-b9f6dc406515",
   "metadata": {
    "pycharm": {
     "name": "#%%\n"
    }
   },
   "outputs": [
    {
     "name": "stdout",
     "output_type": "stream",
     "text": [
      "b'WARNING: sun.reflect.Reflection.getCallerClass is not supported. This will impact performance.\\n'\n",
      "b'14:09:09.100 [io-compute-33] DEBUG com.raphtory.utils.FileUtils$ - Found single file /tmp/lotr.csv matching criteria.\\n'\n",
      "b\"14:09:09.101 [io-compute-33] DEBUG com.raphtory.utils.FileUtils$ - Temporary directory '/tmp/raphtory-file-spout/-7254970907570689463' successfully created.\\n\"\n",
      "b\"14:09:09.102 [io-compute-33] DEBUG com.raphtory.spouts.FileSpout - Spout: Found a new file '/lotr.csv' to process.\\n\"\n",
      "b\"14:09:09.102 [io-compute-33] DEBUG com.raphtory.spouts.FileSpout - Spout: Attempting to hard link file '/tmp/lotr.csv' -> '/tmp/raphtory-file-spout/-7254970907570689463/lotr.csv'.\\n\"\n",
      "b\"14:09:09.102 [io-compute-33] INFO  com.raphtory.spouts.FileSpout - Spout: Processing file 'lotr.csv' ...\\n\"\n",
      "b'14:09:09.179 [io-compute-33] INFO  com.raphtory.internals.management.Prometheus$ - Prometheus started on port /0:0:0:0:0:0:0:0:9999\\n'\n",
      "b'14:09:09.636 [spawner-akka.actor.default-dispatcher-3] INFO  akka.event.slf4j.Slf4jLogger - Slf4jLogger started\\n'\n",
      "b'14:09:09.799 [io-compute-33] DEBUG com.raphtory.internals.components.Component$ - Started run() fiber for class com.raphtory.internals.components.querymanager.QueryManager with name [query-manager]\\n'\n",
      "b'14:09:09.799 [io-compute-9] DEBUG com.raphtory.internals.components.querymanager.QueryManager - Starting Query Manager Consumer.\\n'\n",
      "b'14:09:09.802 [io-compute-33] DEBUG com.raphtory.internals.components.Component$ - Started listener.start() fiber for class com.raphtory.internals.components.querymanager.QueryManager with name [query-manager]\\n'\n",
      "b\"14:09:09.808 [io-compute-33] INFO  com.raphtory.internals.management.PartitionsManager$ - Creating '1' Partition Managers for raphtory_694194325.\\n\"\n",
      "b\"14:09:09.836 [io-compute-33] DEBUG com.raphtory.internals.storage.pojograph.PojoBasedPartition - Config indicates that the data contains 'delete' events. To change this modify 'raphtory.data.containsDeletions' in the application conf.\\n\"\n",
      "b'14:09:09.847 [io-compute-33] DEBUG com.raphtory.internals.components.Component$ - Started run() fiber for class com.raphtory.internals.components.partition.Reader with name [reader-0]\\n'\n",
      "b'14:09:09.847 [io-compute-17] DEBUG com.raphtory.internals.components.partition.Reader - Partition 0: Starting Reader Consumer.\\n'\n",
      "b'14:09:09.849 [io-compute-33] DEBUG com.raphtory.internals.components.Component$ - Started listener.start() fiber for class com.raphtory.internals.components.partition.Reader with name [reader-0]\\n'\n",
      "b'14:09:09.874 [io-compute-33] DEBUG com.raphtory.internals.components.Component$ - Started run() fiber for class com.raphtory.internals.components.partition.LocalBatchHandler with name [local-batch-handler]\\n'\n",
      "b'14:09:09.874 [io-compute-33] DEBUG com.raphtory.internals.components.Component$ - Started listener.start() fiber for class com.raphtory.internals.components.partition.LocalBatchHandler with name [local-batch-handler]\\n'\n",
      "b'14:09:09.891 [io-compute-33] INFO  com.raphtory.internals.management.Py4JServer - Starting PythonGatewayServer...\\n'\n",
      "b'14:09:09.892 [io-compute-33] INFO  com.raphtory.internals.management.Py4JServer - Started PythonGatewayServer on port 42503 host: localhost/127.0.0.1\\n'\n",
      "b'14:09:09.895 [io-compute-33] INFO  com.raphtory.internals.management.Py4JServer - Writing PythonGatewayServer details to file...\\n'\n",
      "b'14:09:09.896 [io-compute-33] INFO  com.raphtory.internals.management.Py4JServer - PythonGatewayServer secret - e764c58415998ec28a56ab33718674743ea20629b689afa8c1506e1ee823ece8\\n'\n"
     ]
    }
   ],
   "source": [
    "pr = PyRaphtory(spout_input=Path('/tmp/lotr.csv'), builder_script=Path('builder.py'),  builder_class='LotrGraphBuilder', mode='batch', logging=True).open()"
   ]
  },
  {
   "cell_type": "code",
   "execution_count": 3,
   "id": "cbaee3fd-5383-4753-98c3-7b38d5d3ffc3",
   "metadata": {
    "pycharm": {
     "name": "#%%\n"
    }
   },
   "outputs": [],
   "source": [
    "from pyraphtory.algo import Vertex, Iterate, Step"
   ]
  },
  {
   "cell_type": "code",
   "execution_count": 4,
   "id": "854292ab-0c2c-422a-a06c-9f7a16250ae1",
   "metadata": {
    "pycharm": {
     "name": "#%%\n"
    }
   },
   "outputs": [],
   "source": [
    "PR_LABEL = 'prlabel'\n",
    "\n",
    "class PGStep1(Step):\n",
    "    def eval(self, v: Vertex):\n",
    "        initLabel = 1.0\n",
    "        v[PR_LABEL] = initLabel\n",
    "        out_degree = v.out_degree()\n",
    "        if out_degree > 0:\n",
    "            msg = initLabel / out_degree\n",
    "            v.message_outgoing_neighbours(msg)\n",
    "\n",
    "class PGIterate1(Iterate):\n",
    "    def __init__(self, iterations: int, execute_messaged_only: bool, damping_factor: float = 0.85):\n",
    "        super().__init__(iterations, execute_messaged_only)\n",
    "        self.damping_factor = damping_factor\n",
    "\n",
    "    def eval(self, v: Vertex):\n",
    "        current_label = v[PR_LABEL]\n",
    "        queue = v.message_queue()\n",
    "        summed_queue = sum(queue)\n",
    "        new_label = (1 - self.damping_factor) + self.damping_factor * summed_queue\n",
    "        v[PR_LABEL] = new_label\n",
    "\n",
    "        out_degree = v.out_degree()\n",
    "\n",
    "        if out_degree > 0:\n",
    "            v.message_outgoing_neighbours(new_label / out_degree)\n",
    "\n",
    "        if abs(new_label - current_label) < 0.00001:\n",
    "            v.vote_to_halt()\n"
   ]
  },
  {
   "cell_type": "code",
   "execution_count": 5,
   "id": "cf4cf33f-4547-43cd-b368-8bfc9830b183",
   "metadata": {
    "pycharm": {
     "name": "#%%\n"
    }
   },
   "outputs": [],
   "source": [
    "rg = pr.graph()"
   ]
  },
  {
   "cell_type": "code",
   "execution_count": 6,
   "id": "f3677f26",
   "metadata": {
    "collapsed": false,
    "jupyter": {
     "outputs_hidden": false
    },
    "pycharm": {
     "name": "#%%\n"
    }
   },
   "outputs": [],
   "source": [
    "tracker = rg.at(32674) \\\n",
    "                .past() \\\n",
    "                .step(PGStep1()) \\\n",
    "                .iterate(PGIterate1(iterations=100, execute_messaged_only=False)) \\\n",
    "                .select([PR_LABEL]) \\\n",
    "                .write_to_file(\"/tmp/jupyter_pagerank\")"
   ]
  },
  {
   "cell_type": "code",
   "execution_count": 7,
   "id": "f4dfa268",
   "metadata": {
    "collapsed": false,
    "jupyter": {
     "outputs_hidden": false
    },
    "pycharm": {
     "name": "#%%\n"
    }
   },
   "outputs": [
    {
     "name": "stdout",
     "output_type": "stream",
     "text": [
      "<pyraphtory.graph.ProgressTracker object at 0x7fed6064fac0>\n"
     ]
    }
   ],
   "source": [
    "print(tracker)"
   ]
  },
  {
   "cell_type": "code",
   "execution_count": 10,
   "id": "2fcb8629",
   "metadata": {
    "collapsed": false,
    "jupyter": {
     "outputs_hidden": false
    },
    "pycharm": {
     "name": "#%%\n"
    }
   },
   "outputs": [],
   "source": [
    "tracker.wait_for_job()"
   ]
  },
  {
   "cell_type": "code",
   "execution_count": null,
   "outputs": [],
   "source": [
    "!ls /tmp/jupyter_pagerank/*/partition-0.csv"
   ],
   "metadata": {
    "collapsed": false,
    "pycharm": {
     "name": "#%%\n"
    }
   }
  },
  {
   "cell_type": "code",
   "execution_count": null,
   "outputs": [],
   "source": [
    "tracker.inner_tracker().getJobId()"
   ],
   "metadata": {
    "collapsed": false,
    "pycharm": {
     "name": "#%%\n"
    }
   }
  },
  {
   "cell_type": "code",
   "execution_count": null,
   "outputs": [],
   "source": [
    "!head /tmp/jupyter_pagerank/124901084_925143957368878401/partition-0.csv"
   ],
   "metadata": {
    "collapsed": false,
    "pycharm": {
     "name": "#%%\n"
    }
   }
  },
  {
   "cell_type": "code",
   "execution_count": null,
   "outputs": [],
   "source": [],
   "metadata": {
    "collapsed": false,
    "pycharm": {
     "name": "#%%\n"
    }
   }
  },
  {
   "cell_type": "code",
   "execution_count": 11,
   "id": "8d75cae0-25a3-40f6-bd30-61531a15e7bc",
   "metadata": {},
   "outputs": [
    {
     "data": {
      "text/plain": [
       "'124901084_925143957368878401'"
      ]
     },
     "execution_count": 11,
     "metadata": {},
     "output_type": "execute_result"
    }
   ],
   "source": [
    "tracker.inner_tracker().getJobId()"
   ]
  },
  {
   "cell_type": "code",
   "execution_count": 13,
   "id": "3be8bfeb-b8da-4dc4-b91d-5404543ac5ff",
   "metadata": {},
   "outputs": [
    {
     "name": "stdout",
     "output_type": "stream",
     "text": [
      "32674,Hirgon,0.15000000000000002\n",
      "32674,Hador,0.24807333518209068\n",
      "32674,Horn,0.28189681864532734\n",
      "32674,Galadriel,1.2027625938738855\n",
      "32674,Isildur,0.15000000000000002\n",
      "32674,Mablung,0.24960771951147775\n",
      "32674,Gram,1.2872305970253017\n",
      "32674,Thingol,0.6812439557732323\n",
      "32674,Celebrían,0.17042791413738384\n",
      "32674,Gamling,0.2079389980212792\n"
     ]
    }
   ],
   "source": [
    "!head /tmp/jupyter_pagerank/124901084_925143957368878401/partition-0.csv"
   ]
  },
  {
   "cell_type": "code",
   "execution_count": null,
   "id": "70b2a925-8a48-42e4-a7ec-fa0c9529b61d",
   "metadata": {},
   "outputs": [],
   "source": []
  }
 ],
 "metadata": {
  "kernelspec": {
   "display_name": "Python 3 (ipykernel)",
   "language": "python",
   "name": "python3"
  },
  "language_info": {
   "codemirror_mode": {
    "name": "ipython",
    "version": 3
   },
   "file_extension": ".py",
   "mimetype": "text/x-python",
   "name": "python",
   "nbconvert_exporter": "python",
   "pygments_lexer": "ipython3",
   "version": "3.10.4"
  }
 },
 "nbformat": 4,
 "nbformat_minor": 5
}