{
 "cells": [
  {
   "cell_type": "code",
   "execution_count": 1,
   "id": "a26445d2-4c2f-4e65-9fef-514174d4f7fa",
   "metadata": {
    "pycharm": {
     "name": "#%%\n"
    }
   },
   "outputs": [
    {
     "name": "stdout",
     "output_type": "stream",
     "text": [
      "  % Total    % Received % Xferd  Average Speed   Time    Time     Time  Current\n",
      "                                 Dload  Upload   Total   Spent    Left  Speed\n",
      "100 52206  100 52206    0     0   274k      0 --:--:-- --:--:-- --:--:--  272k\n"
     ]
    }
   ],
   "source": [
    "from pathlib import Path\n",
    "from pyraphtory.context import PyRaphtory\n",
    "from pyraphtory.algo import Vertex, Iterate, Step\n",
    "import pandas as pd\n",
    "!curl -o /tmp/lotr.csv https://raw.githubusercontent.com/Raphtory/Data/main/lotr.csv"
   ]
  },
  {
   "cell_type": "code",
   "execution_count": 2,
   "id": "ef3a3f8f",
   "metadata": {
    "pycharm": {
     "name": "#%%\n"
    }
   },
   "outputs": [
    {
     "name": "stdout",
     "output_type": "stream",
     "text": [
      "b'WARNING: sun.reflect.Reflection.getCallerClass is not supported. This will impact performance.\\n'\n",
      "b\"17:53:54.267 [io-compute-3] INFO  com.raphtory.spouts.FileSpout - Spout: Processing file 'lotr.csv' ...\\n\"\n",
      "b'17:53:54.422 [io-compute-3] INFO  com.raphtory.internals.management.Prometheus$ - Prometheus started on port /0:0:0:0:0:0:0:0:9999\\n'\n",
      "b'17:53:55.422 [spawner-akka.actor.default-dispatcher-3] INFO  akka.event.slf4j.Slf4jLogger - Slf4jLogger started\\n'\n",
      "b\"17:53:55.729 [io-compute-3] INFO  com.raphtory.internals.management.PartitionsManager$ - Creating '1' Partition Managers for raphtory_1690389956.\\n\"\n",
      "b'17:53:55.865 [io-compute-3] INFO  com.raphtory.internals.management.Py4JServer - Starting PythonGatewayServer...\\n'\n",
      "b'17:53:55.868 [io-compute-3] INFO  com.raphtory.internals.management.Py4JServer - Started PythonGatewayServer on port 59959 host: localhost/127.0.0.1\\n'\n",
      "b'17:53:55.881 [io-compute-3] INFO  com.raphtory.internals.management.Py4JServer - Writing PythonGatewayServer details to file...\\n'\n",
      "b'17:53:55.885 [io-compute-3] INFO  com.raphtory.internals.management.Py4JServer - PythonGatewayServer secret - 4fe33b023d80a40caafb157fe2c9a1e301a77b13e984bf04b92d8aca46c77882\\n'\n"
     ]
    }
   ],
   "source": [
    "pr = PyRaphtory(spout_input=Path('/tmp/lotr.csv'), builder_script=Path('builder.py'),  builder_class='LotrGraphBuilder', mode='batch', logging=True).open()\n",
    "rg = pr.graph()"
   ]
  },
  {
   "cell_type": "code",
   "execution_count": 11,
   "id": "c2e1f13c",
   "metadata": {
    "pycharm": {
     "name": "#%%\n"
    }
   },
   "outputs": [
    {
     "data": {
      "text/html": [
       "<div>\n",
       "<style scoped>\n",
       "    .dataframe tbody tr th:only-of-type {\n",
       "        vertical-align: middle;\n",
       "    }\n",
       "\n",
       "    .dataframe tbody tr th {\n",
       "        vertical-align: top;\n",
       "    }\n",
       "\n",
       "    .dataframe thead th {\n",
       "        text-align: right;\n",
       "    }\n",
       "</style>\n",
       "<table border=\"1\" class=\"dataframe\">\n",
       "  <thead>\n",
       "    <tr style=\"text-align: right;\">\n",
       "      <th></th>\n",
       "      <th>0</th>\n",
       "      <th>1</th>\n",
       "      <th>2</th>\n",
       "      <th>3</th>\n",
       "    </tr>\n",
       "  </thead>\n",
       "  <tbody>\n",
       "    <tr>\n",
       "      <th>0</th>\n",
       "      <td>32674</td>\n",
       "      <td>Hirgon</td>\n",
       "      <td>0.15000000000000002</td>\n",
       "      <td>-8637342647242242534</td>\n",
       "    </tr>\n",
       "    <tr>\n",
       "      <th>1</th>\n",
       "      <td>32674</td>\n",
       "      <td>Hador</td>\n",
       "      <td>0.24807333518209068</td>\n",
       "      <td>-8637342647242242534</td>\n",
       "    </tr>\n",
       "    <tr>\n",
       "      <th>2</th>\n",
       "      <td>32674</td>\n",
       "      <td>Horn</td>\n",
       "      <td>0.28189681864532734</td>\n",
       "      <td>-8637342647242242534</td>\n",
       "    </tr>\n",
       "    <tr>\n",
       "      <th>3</th>\n",
       "      <td>32674</td>\n",
       "      <td>Galadriel</td>\n",
       "      <td>1.2027625938738855</td>\n",
       "      <td>-8637342647242242534</td>\n",
       "    </tr>\n",
       "    <tr>\n",
       "      <th>4</th>\n",
       "      <td>32674</td>\n",
       "      <td>Isildur</td>\n",
       "      <td>0.15000000000000002</td>\n",
       "      <td>-8637342647242242534</td>\n",
       "    </tr>\n",
       "    <tr>\n",
       "      <th>...</th>\n",
       "      <td>...</td>\n",
       "      <td>...</td>\n",
       "      <td>...</td>\n",
       "      <td>...</td>\n",
       "    </tr>\n",
       "    <tr>\n",
       "      <th>134</th>\n",
       "      <td>32674</td>\n",
       "      <td>Faramir</td>\n",
       "      <td>4.614495665867431</td>\n",
       "      <td>-8637342647242242534</td>\n",
       "    </tr>\n",
       "    <tr>\n",
       "      <th>135</th>\n",
       "      <td>32674</td>\n",
       "      <td>Bain</td>\n",
       "      <td>0.21375000000000002</td>\n",
       "      <td>-6628080393138316116</td>\n",
       "    </tr>\n",
       "    <tr>\n",
       "      <th>136</th>\n",
       "      <td>32674</td>\n",
       "      <td>Walda</td>\n",
       "      <td>0.4409846050194102</td>\n",
       "      <td>-8637342647242242534</td>\n",
       "    </tr>\n",
       "    <tr>\n",
       "      <th>137</th>\n",
       "      <td>32674</td>\n",
       "      <td>Thranduil</td>\n",
       "      <td>0.41104877045276866</td>\n",
       "      <td>-8637342647242242534</td>\n",
       "    </tr>\n",
       "    <tr>\n",
       "      <th>138</th>\n",
       "      <td>32674</td>\n",
       "      <td>Boromir</td>\n",
       "      <td>2.6032008032909313</td>\n",
       "      <td>-8637342647242242534</td>\n",
       "    </tr>\n",
       "  </tbody>\n",
       "</table>\n",
       "<p>139 rows × 4 columns</p>\n",
       "</div>"
      ],
      "text/plain": [
       "         0          1                    2                     3\n",
       "0    32674     Hirgon  0.15000000000000002  -8637342647242242534\n",
       "1    32674      Hador  0.24807333518209068  -8637342647242242534\n",
       "2    32674       Horn  0.28189681864532734  -8637342647242242534\n",
       "3    32674  Galadriel   1.2027625938738855  -8637342647242242534\n",
       "4    32674    Isildur  0.15000000000000002  -8637342647242242534\n",
       "..     ...        ...                  ...                   ...\n",
       "134  32674    Faramir    4.614495665867431  -8637342647242242534\n",
       "135  32674       Bain  0.21375000000000002  -6628080393138316116\n",
       "136  32674      Walda   0.4409846050194102  -8637342647242242534\n",
       "137  32674  Thranduil  0.41104877045276866  -8637342647242242534\n",
       "138  32674    Boromir   2.6032008032909313  -8637342647242242534\n",
       "\n",
       "[139 rows x 4 columns]"
      ]
     },
     "execution_count": 11,
     "metadata": {},
     "output_type": "execute_result"
    }
   ],
   "source": [
    "class PGStep(Step):\n",
    "    def eval(self, v: Vertex):\n",
    "        initLabel = 1.0\n",
    "        v[\"prlabel\"] = initLabel\n",
    "        out_degree = v.out_degree()\n",
    "        if out_degree > 0:\n",
    "            msg = initLabel / out_degree\n",
    "            v.message_outgoing_neighbours(msg)\n",
    "\n",
    "class PGIterate(Iterate):\n",
    "    def __init__(self, iterations: int, execute_messaged_only: bool, damping_factor: float = 0.85):\n",
    "        super().__init__(iterations, execute_messaged_only)\n",
    "        self.damping_factor = damping_factor\n",
    "\n",
    "    def eval(self, v: Vertex):\n",
    "        current_label = v[\"prlabel\"]\n",
    "        queue = v.message_queue()\n",
    "        summed_queue = sum(queue)\n",
    "        new_label = (1 - self.damping_factor) + self.damping_factor * summed_queue\n",
    "        v[\"prlabel\"] = new_label\n",
    "\n",
    "        out_degree = v.out_degree()\n",
    "\n",
    "        if out_degree > 0:\n",
    "            v.message_outgoing_neighbours(new_label / out_degree)\n",
    "\n",
    "        if abs(new_label - current_label) < 0.00001:\n",
    "            v.vote_to_halt()\n",
    "\n",
    "\n",
    "\n",
    "local_sink = pr.local_sink()\n",
    "\n",
    "tracker = rg.at(32674) \\\n",
    "                .past() \\\n",
    "                .step(PGStep())\\\n",
    "                .iterate(PGIterate(iterations=100, execute_messaged_only=False))\\\n",
    "                .clear_messages()\\\n",
    "                .transform(pr.connected_components())\\\n",
    "                .select([\"prlabel\",\"cclabel\"]) \\\n",
    "                .write_to(local_sink)\\\n",
    "                .wait_for_job()\n",
    "                \n",
    "                \n",
    "\n",
    "res = local_sink.results()\n",
    "#PageRank Written in Python\n",
    "#Connected Components Written in scala\n",
    "#Results from both\n",
    "pd.DataFrame(list(map(lambda line: line.split(\",\"),res)))"
   ]
  },
  {
   "cell_type": "code",
   "execution_count": null,
   "id": "cf2a3690",
   "metadata": {},
   "outputs": [],
   "source": []
  },
  {
   "cell_type": "code",
   "execution_count": null,
   "id": "6f404b08",
   "metadata": {
    "pycharm": {
     "name": "#%%\n"
    }
   },
   "outputs": [],
   "source": []
  },
  {
   "cell_type": "code",
   "execution_count": null,
   "id": "09e31cc5",
   "metadata": {
    "pycharm": {
     "name": "#%%\n"
    }
   },
   "outputs": [],
   "source": []
  },
  {
   "cell_type": "code",
   "execution_count": null,
   "id": "1fbebbf9",
   "metadata": {
    "pycharm": {
     "name": "#%%\n"
    }
   },
   "outputs": [],
   "source": []
  },
  {
   "cell_type": "code",
   "execution_count": null,
   "id": "2c6c1d66",
   "metadata": {
    "pycharm": {
     "name": "#%%\n"
    }
   },
   "outputs": [],
   "source": []
  },
  {
   "cell_type": "code",
   "execution_count": null,
   "id": "e5b94966",
   "metadata": {
    "pycharm": {
     "name": "#%%\n"
    }
   },
   "outputs": [],
   "source": []
  },
  {
   "cell_type": "code",
   "execution_count": null,
   "id": "480e33ae",
   "metadata": {
    "pycharm": {
     "name": "#%%\n"
    }
   },
   "outputs": [],
   "source": []
  },
  {
   "cell_type": "code",
   "execution_count": null,
   "id": "e435dc86",
   "metadata": {
    "pycharm": {
     "name": "#%%\n"
    }
   },
   "outputs": [],
   "source": []
  },
  {
   "cell_type": "code",
   "execution_count": null,
   "id": "15ba9eda",
   "metadata": {
    "pycharm": {
     "name": "#%%\n"
    }
   },
   "outputs": [],
   "source": []
  },
  {
   "cell_type": "code",
   "execution_count": null,
   "id": "c6ef3162",
   "metadata": {
    "pycharm": {
     "name": "#%%\n"
    }
   },
   "outputs": [],
   "source": []
  }
 ],
 "metadata": {
  "kernelspec": {
   "display_name": "Python 3 (ipykernel)",
   "language": "python",
   "name": "python3"
  },
  "language_info": {
   "codemirror_mode": {
    "name": "ipython",
    "version": 3
   },
   "file_extension": ".py",
   "mimetype": "text/x-python",
   "name": "python",
   "nbconvert_exporter": "python",
   "pygments_lexer": "ipython3",
   "version": "3.10.5"
  }
 },
 "nbformat": 4,
 "nbformat_minor": 5
}
