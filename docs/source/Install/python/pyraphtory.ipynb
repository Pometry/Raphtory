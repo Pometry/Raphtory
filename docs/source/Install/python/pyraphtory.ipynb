{
 "cells": [
  {
   "cell_type": "markdown",
   "id": "2370415f",
   "metadata": {},
   "source": [
    "# Installing PyRaphtory\n",
    "\n",
    "PyRaphtory can be easily installed via `pip`. This will pull all of the background dependencies for Raphtory, automatically setting up any system paths to point at the correct location. Our only requirement here is you running `python version 3.9.13`.\n",
    "\n",
    "## Install \n",
    "\n",
    "    pip install pyraphtory\n"
   ]
  },
  {
   "attachments": {},
   "cell_type": "markdown",
   "id": "70b1549b",
   "metadata": {},
   "source": [
    "# Running PyRaphtory\n",
    "\n",
    "Once installed, let's set up the most bare bones PyRaphtory graph, test that we can add some data to it and run our first query. Once this is all working we can move on to some much more exciting examples in the next section! \n",
    "\n",
    "Before we start, however, you may have noticed that this page looks oddly like a iPython notebook. That is because it is! If you click the `open on github` link in the top right of the page you can follow along on your own machine. Right, Back to the code!\n",
    "\n",
    "First we need to import `PyRaphtory`. You may see some references to `Java` in the logs here, this is because under the hood Raphtory is written in `Scala`. You don't have to worry about any of that though as its all hidden away! "
   ]
  },
  {
   "cell_type": "code",
   "execution_count": 1,
   "id": "67814d1e",
   "metadata": {
    "execution": {
     "iopub.execute_input": "2023-02-03T13:12:06.672329Z",
     "iopub.status.busy": "2023-02-03T13:12:06.669862Z",
     "iopub.status.idle": "2023-02-03T13:12:06.724691Z",
     "shell.execute_reply": "2023-02-03T13:12:06.723519Z"
    }
   },
   "outputs": [],
   "source": [
    "import pyraphtory"
   ]
  },
  {
   "attachments": {},
   "cell_type": "markdown",
   "id": "5576341a",
   "metadata": {},
   "source": [
    "## Creating your first graph\n",
    "\n",
    "Once Raphtory is installed we can create our first graph! To do this we first need a `context` which we can get from the PyRaphtory object. \n",
    "\n",
    "Our two options here are `local` and `remote`. As we are just testing it on our laptops we can use `local`, meaning the Raphtory code will run within your python process. We will dig into `remote` contexts later when you want to deploy in a separate process or scale your graph past what your laptop can handle.\n",
    "\n",
    "Once we have our context we can call `new_graph()`, which we can add data into and run queries on.  "
   ]
  },
  {
   "cell_type": "code",
   "execution_count": 2,
   "id": "75033ab0",
   "metadata": {
    "execution": {
     "iopub.execute_input": "2023-02-03T13:12:06.731150Z",
     "iopub.status.busy": "2023-02-03T13:12:06.730607Z",
     "iopub.status.idle": "2023-02-03T13:12:31.003993Z",
     "shell.execute_reply": "2023-02-03T13:12:31.000696Z"
    }
   },
   "outputs": [],
   "source": [
    "context = pyraphtory.local()\n",
    "graph = context.new_graph()"
   ]
  },
  {
   "attachments": {},
   "cell_type": "markdown",
   "id": "73642007",
   "metadata": {},
   "source": [
    "## Adding data to your Graph\n",
    "\n",
    "Once a graph is created, we need to add some data to it if we want run anything interesting. There are loads of ways of doing this in Raphtory, which we will cover in the next section, but for simplicity lets just add some vertices and edges without any properties. \n",
    "\n",
    "As Raphtory is focused on dynamic and temporal analysis, all events in the graph's history  (adding, updating or deleting nodes/edges) must happen at a given time. This can all be at the same time (if, for example, you are working with snapshots) but we still need a time.\n",
    "\n",
    "As such, when we add a vertex we have two arguments: the `timestamp` and the `vertex ID`. Similarly, when adding an edge, we have three arguments: the `timestamp`, the `source vertex` and the `destination vertex`. \n",
    "\n",
    "**Note:** All graphs are directed by default in Raphtory, but can be `projected` into an undirected graph - we will go in-depth into graph projections later in the tutorial.   \n",
    "\n",
    "In the following code block we have five updates for our graph, adding three vertices (`1`,`2`,`3`) at time `1` and two edges (`1->2`, `1->3`) at time `2` . \n",
    "\n",
    "\n",
    "\n",
    "\n"
   ]
  },
  {
   "cell_type": "code",
   "execution_count": 3,
   "id": "65e1cfee",
   "metadata": {
    "execution": {
     "iopub.execute_input": "2023-02-03T13:12:31.016113Z",
     "iopub.status.busy": "2023-02-03T13:12:31.014845Z",
     "iopub.status.idle": "2023-02-03T13:12:31.481274Z",
     "shell.execute_reply": "2023-02-03T13:12:31.479224Z"
    }
   },
   "outputs": [],
   "source": [
    "graph.add_vertex(1, 1)\n",
    "graph.add_vertex(1, 2)\n",
    "graph.add_vertex(1, 3)\n",
    "graph.add_edge(2, 1, 2)\n",
    "graph.add_edge(2, 1, 3)"
   ]
  },
  {
   "attachments": {},
   "cell_type": "markdown",
   "id": "09f8eca9",
   "metadata": {},
   "source": [
    "## Running your first Query\n",
    "Now that our data is loaded we can start interrogating it! \n",
    "\n",
    "While we can write some very complicated algorithms in Raphtory, lets start off with something simple, getting the `indegree` and `outdegree` of our nodes. \n",
    "\n",
    "For this we call `select` on the graph which takes the names of properties we want to extract, running on every vertex to obtain the respective values. This will return a `Table` full of `Rows` which represent the result for each node. Note, providing no names is seen as the equivalent of `select *`, returning all properties for the vertices. Following a call to select we can either write our results to a `Sink` (file, database, etc.), which we will cover later in the tutorial, or convert it into a dataframe for further analysis.\n",
    "\n",
    "In this example we have called `to_df` to get a dataframe. \n",
    "\n",
    "If you have a look in the logs you can see that your query is given a `Job ID` and Raphtory will report how long it took for it to run."
   ]
  },
  {
   "cell_type": "code",
   "execution_count": 4,
   "id": "c667c34c",
   "metadata": {
    "execution": {
     "iopub.execute_input": "2023-02-03T13:12:31.492540Z",
     "iopub.status.busy": "2023-02-03T13:12:31.491307Z",
     "iopub.status.idle": "2023-02-03T13:12:36.414575Z",
     "shell.execute_reply": "2023-02-03T13:12:36.412625Z"
    }
   },
   "outputs": [],
   "source": [
    "df = graph \\\n",
    ".step(lambda vertex: vertex.set_state(\"outdegree\", vertex.out_degree())) \\\n",
    ".step(lambda vertex: vertex.set_state(\"indegree\", vertex.in_degree())) \\\n",
    ".select(\"name\",\"outdegree\",\"indegree\") \\\n",
    ".to_df()"
   ]
  },
  {
   "attachments": {},
   "cell_type": "markdown",
   "id": "8da38b9a",
   "metadata": {},
   "source": [
    "## Checking out the output\n",
    "Finally, once our query has run and we have got our dataframe, we can take a look at the results. \n",
    "\n",
    "One aspect which is notable here is that we requested three variables, but we have four columns. This is because algorithms in Raphtory run at set points in time, meaning the values for each vertex must be associated with a `timestamp` (in this case the most recent one `2`). \n",
    "\n",
    "As with every other cool feature I have hinted at, you will soon be an expert in queries, time-analysis and much more. All you have to do is continue on to the next page!"
   ]
  },
  {
   "cell_type": "code",
   "execution_count": 5,
   "id": "e2187fc5",
   "metadata": {
    "execution": {
     "iopub.execute_input": "2023-02-03T13:12:36.452008Z",
     "iopub.status.busy": "2023-02-03T13:12:36.450936Z",
     "iopub.status.idle": "2023-02-03T13:12:36.511552Z",
     "shell.execute_reply": "2023-02-03T13:12:36.507578Z"
    }
   },
   "outputs": [
    {
     "data": {
      "text/html": [
       "<div>\n",
       "<style scoped>\n",
       "    .dataframe tbody tr th:only-of-type {\n",
       "        vertical-align: middle;\n",
       "    }\n",
       "\n",
       "    .dataframe tbody tr th {\n",
       "        vertical-align: top;\n",
       "    }\n",
       "\n",
       "    .dataframe thead th {\n",
       "        text-align: right;\n",
       "    }\n",
       "</style>\n",
       "<table border=\"1\" class=\"dataframe\">\n",
       "  <thead>\n",
       "    <tr style=\"text-align: right;\">\n",
       "      <th></th>\n",
       "      <th>timestamp</th>\n",
       "      <th>name</th>\n",
       "      <th>outdegree</th>\n",
       "      <th>indegree</th>\n",
       "    </tr>\n",
       "  </thead>\n",
       "  <tbody>\n",
       "    <tr>\n",
       "      <th>0</th>\n",
       "      <td>2</td>\n",
       "      <td>1</td>\n",
       "      <td>2</td>\n",
       "      <td>0</td>\n",
       "    </tr>\n",
       "    <tr>\n",
       "      <th>1</th>\n",
       "      <td>2</td>\n",
       "      <td>2</td>\n",
       "      <td>0</td>\n",
       "      <td>1</td>\n",
       "    </tr>\n",
       "    <tr>\n",
       "      <th>2</th>\n",
       "      <td>2</td>\n",
       "      <td>3</td>\n",
       "      <td>0</td>\n",
       "      <td>1</td>\n",
       "    </tr>\n",
       "  </tbody>\n",
       "</table>\n",
       "</div>"
      ],
      "text/plain": [
       "   timestamp name  outdegree  indegree\n",
       "0          2    1          2         0\n",
       "1          2    2          0         1\n",
       "2          2    3          0         1"
      ]
     },
     "execution_count": 5,
     "metadata": {},
     "output_type": "execute_result"
    }
   ],
   "source": [
    "df"
   ]
  }
 ],
 "metadata": {
  "kernelspec": {
   "display_name": "base",
   "language": "python",
   "name": "python3"
  },
  "language_info": {
   "codemirror_mode": {
    "name": "ipython",
    "version": 3
   },
   "file_extension": ".py",
   "mimetype": "text/x-python",
   "name": "python",
   "nbconvert_exporter": "python",
   "pygments_lexer": "ipython3",
   "version": "3.10.4"
  },
  "vscode": {
   "interpreter": {
    "hash": "a9a34730827747ae273d5a5e0748f342e2039a3997e32d9a086d01739bd0f055"
   }
  }
 },
 "nbformat": 4,
 "nbformat_minor": 5
}
