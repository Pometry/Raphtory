{
 "cells": [
  {
   "cell_type": "markdown",
   "source": [
    "# Getting data into a graph\n",
    "\n",
    "Now that we know PyRaphtory is installed and running, let's look at the different ways to get some real data into a graph. \n",
    "\n",
    "For this first set of tutorials we are going to be building graphs from a Lord of the Rings 🧝🏻‍♀️🧙🏻‍♂️💍 dataset, looking at when characters interact throughout the trilogy.\n",
    " \n",
    "<p align=\"center\">\n",
    " <img src=\"../images/lotr-graphic.png\" width=\"700px\" style=\"padding: 15px\" alt=\"Intro Graphic of LOTR slices\"/>\n",
    "</p>\n",
    "\n",
    "As with the quick start install guide, this and all following python pages are built as iPython notebooks. If you want to follow along on your own machine, click the `open on github` link in the top right of this page.\n",
    "\n",
    "## Let's have a look at the example data\n",
    "\n",
    "The data is a `csv` file (comma-separated values) and is pulled from our <a href=\"https://github.com/Raphtory/Data/blob/main/lotr.csv\" target=\"_blank\">Github data repository</a>. Each line contains two characters that appeared in the same sentence, along with the sentence number, which we will use as a `timestamp`. The first line of the file is `Gandalf,Elrond,33` which tells\n",
    "us that Gandalf and Elrond appears together in sentence 33.\n",
    "\n",
    "### Downloading the csv from Github 💾\n",
    "\n",
    "The following `curl` command will download the csv file and save it in the `tmp` directory on your computer. This will be deleted when you restart your computer, but it's only a couple of KB in any case.\n",
    "\n",
    "\n",
    "\n"
   ],
   "metadata": {}
  },
  {
   "cell_type": "code",
   "execution_count": 1,
   "source": [
    "!curl -o /tmp/lotr.csv https://raw.githubusercontent.com/Raphtory/Data/main/lotr.csv\n",
    "!head /tmp/lotr.csv"
   ],
   "outputs": [
    {
     "output_type": "stream",
     "name": "stdout",
     "text": [
      "  % Total    % Received % Xferd  Average Speed   Time    Time     Time  Current\n",
      "                                 Dload  Upload   Total   Spent    Left  Speed\n",
      "100 52206  100 52206    0     0   161k      0 --:--:-- --:--:-- --:--:--  161k\n",
      "Gandalf,Elrond,33\n",
      "Frodo,Bilbo,114\n",
      "Blanco,Marcho,146\n",
      "Frodo,Bilbo,205\n",
      "Thorin,Gandalf,270\n",
      "Thorin,Bilbo,270\n",
      "Gandalf,Bilbo,270\n",
      "Gollum,Bilbo,286\n",
      "Gollum,Bilbo,306\n",
      "Gollum,Bilbo,308\n"
     ]
    }
   ],
   "metadata": {}
  },
  {
   "cell_type": "markdown",
   "source": [
    "## Setting up our imports and Raphtory Context"
   ],
   "metadata": {}
  },
  {
   "cell_type": "code",
   "execution_count": 2,
   "source": [
    "import os\n",
    "from pathlib import Path\n",
    "import csv\n",
    "import pandas as pd\n",
    "import numpy as np\n",
    "\n",
    "os.environ[\"RAPHTORY_CORE_LOG\"] = \"ERROR\" \n",
    "\n",
    "from pyraphtory.context import PyRaphtory\n",
    "from pyraphtory.input import ImmutableProperty\n",
    "from pyraphtory.input import Type\n",
    "from pyraphtory.input import Properties\n",
    "from pyraphtory.input import GraphBuilder\n",
    "from pyraphtory.spouts import FileSpout\n",
    "from pyraphtory.sources import CSVEdgeListSource\n",
    "from pyraphtory.sources import Source\n",
    "from pyraphtory.graph import Row\n",
    "\n",
    "filename = \"/tmp/lotr.csv\"\n",
    "ctx = PyRaphtory.local()\n",
    "\n",
    "def graph_degree(graph):\n",
    "    return graph \\\n",
    "    .select(lambda vertex: Row(vertex.name(), vertex.out_degree(), vertex.in_degree())) \\\n",
    "    .to_df([\"name\", \"out_degree\", \"in_degree\"])\n"
   ],
   "outputs": [
    {
     "output_type": "stream",
     "name": "stderr",
     "text": [
      "openjdk version \"11.0.15\" 2022-04-19 LTS\n",
      "OpenJDK Runtime Environment Corretto-11.0.15.9.1 (build 11.0.15+9-LTS)\n",
      "OpenJDK 64-Bit Server VM Corretto-11.0.15.9.1 (build 11.0.15+9-LTS, mixed mode)\n"
     ]
    },
    {
     "output_type": "stream",
     "name": "stdout",
     "text": [
      "Java found!\n",
      "Getting JAVA_HOME\n",
      "JAVA_HOME found = /Users/bensteer/.sdkman/candidates/java/current/bin/java\n"
     ]
    },
    {
     "output_type": "stream",
     "name": "stderr",
     "text": [
      "WARNING: An illegal reflective access operation has occurred\n",
      "WARNING: Illegal reflective access by py4j.reflection.MethodInvoker$1 (file:/Users/bensteer/miniconda3/envs/pyraph39/lib/python3.9/site-packages/pyraphtory_jvm/data/lib/compile/py4j.jar) to method java.util.AbstractMap$1.iterator()\n",
      "WARNING: Please consider reporting this to the maintainers of py4j.reflection.MethodInvoker$1\n",
      "WARNING: Use --illegal-access=warn to enable warnings of further illegal reflective access operations\n",
      "WARNING: All illegal access operations will be denied in a future release\n"
     ]
    }
   ],
   "metadata": {}
  },
  {
   "cell_type": "markdown",
   "source": [
    "## Adding data directly into the Graph\n",
    "\n",
    "The simplest way to add data into a graph is to directly call the `add_vertex` and `add_edge` functions, which we saw in the quick start guide. These functions, however, have several additional arguments allowing us to add `properties` and `types` to both vertices and edges. \n",
    "\n"
   ],
   "metadata": {}
  },
  {
   "cell_type": "code",
   "execution_count": 3,
   "source": [
    "graph = ctx.new_graph()\n",
    "with open(filename, 'r') as csvfile:\n",
    "    datareader = csv.reader(csvfile)\n",
    "    for row in datareader:\n",
    "        source_node = row[0]\n",
    "        src_id = graph.assign_id(source_node)\n",
    "        target_node = row[1]\n",
    "        tar_id = graph.assign_id(target_node)\n",
    "        time_stamp = int(row[2])\n",
    "        graph.add_vertex(time_stamp, src_id, Properties(ImmutableProperty(\"name\", source_node)), Type(\"Character\"))\n",
    "        graph.add_vertex(time_stamp, tar_id, Properties(ImmutableProperty(\"name\", target_node)), Type(\"Character\"))\n",
    "        graph.add_edge(time_stamp, src_id, tar_id, Type(\"Character_Co-occurence\"))"
   ],
   "outputs": [],
   "metadata": {}
  },
  {
   "cell_type": "markdown",
   "source": [
    "### Lets check the data has ingested"
   ],
   "metadata": {}
  },
  {
   "cell_type": "code",
   "execution_count": 4,
   "source": [
    "df = graph_degree(graph)\n",
    "df"
   ],
   "outputs": [
    {
     "output_type": "execute_result",
     "data": {
      "text/html": [
       "<div>\n",
       "<style scoped>\n",
       "    .dataframe tbody tr th:only-of-type {\n",
       "        vertical-align: middle;\n",
       "    }\n",
       "\n",
       "    .dataframe tbody tr th {\n",
       "        vertical-align: top;\n",
       "    }\n",
       "\n",
       "    .dataframe thead th {\n",
       "        text-align: right;\n",
       "    }\n",
       "</style>\n",
       "<table border=\"1\" class=\"dataframe\">\n",
       "  <thead>\n",
       "    <tr style=\"text-align: right;\">\n",
       "      <th></th>\n",
       "      <th>timestamp</th>\n",
       "      <th>name</th>\n",
       "      <th>out_degree</th>\n",
       "      <th>in_degree</th>\n",
       "    </tr>\n",
       "  </thead>\n",
       "  <tbody>\n",
       "    <tr>\n",
       "      <th>0</th>\n",
       "      <td>32674</td>\n",
       "      <td>Hirgon</td>\n",
       "      <td>2</td>\n",
       "      <td>0</td>\n",
       "    </tr>\n",
       "    <tr>\n",
       "      <th>1</th>\n",
       "      <td>32674</td>\n",
       "      <td>Hador</td>\n",
       "      <td>1</td>\n",
       "      <td>2</td>\n",
       "    </tr>\n",
       "    <tr>\n",
       "      <th>2</th>\n",
       "      <td>32674</td>\n",
       "      <td>Horn</td>\n",
       "      <td>1</td>\n",
       "      <td>3</td>\n",
       "    </tr>\n",
       "    <tr>\n",
       "      <th>3</th>\n",
       "      <td>32674</td>\n",
       "      <td>Galadriel</td>\n",
       "      <td>6</td>\n",
       "      <td>16</td>\n",
       "    </tr>\n",
       "    <tr>\n",
       "      <th>4</th>\n",
       "      <td>32674</td>\n",
       "      <td>Isildur</td>\n",
       "      <td>18</td>\n",
       "      <td>0</td>\n",
       "    </tr>\n",
       "    <tr>\n",
       "      <th>...</th>\n",
       "      <td>...</td>\n",
       "      <td>...</td>\n",
       "      <td>...</td>\n",
       "      <td>...</td>\n",
       "    </tr>\n",
       "    <tr>\n",
       "      <th>134</th>\n",
       "      <td>32674</td>\n",
       "      <td>Faramir</td>\n",
       "      <td>3</td>\n",
       "      <td>29</td>\n",
       "    </tr>\n",
       "    <tr>\n",
       "      <th>135</th>\n",
       "      <td>32674</td>\n",
       "      <td>Bain</td>\n",
       "      <td>1</td>\n",
       "      <td>1</td>\n",
       "    </tr>\n",
       "    <tr>\n",
       "      <th>136</th>\n",
       "      <td>32674</td>\n",
       "      <td>Walda</td>\n",
       "      <td>3</td>\n",
       "      <td>10</td>\n",
       "    </tr>\n",
       "    <tr>\n",
       "      <th>137</th>\n",
       "      <td>32674</td>\n",
       "      <td>Thranduil</td>\n",
       "      <td>0</td>\n",
       "      <td>2</td>\n",
       "    </tr>\n",
       "    <tr>\n",
       "      <th>138</th>\n",
       "      <td>32674</td>\n",
       "      <td>Boromir</td>\n",
       "      <td>6</td>\n",
       "      <td>17</td>\n",
       "    </tr>\n",
       "  </tbody>\n",
       "</table>\n",
       "<p>139 rows × 4 columns</p>\n",
       "</div>"
      ],
      "text/plain": [
       "     timestamp       name  out_degree  in_degree\n",
       "0        32674     Hirgon           2          0\n",
       "1        32674      Hador           1          2\n",
       "2        32674       Horn           1          3\n",
       "3        32674  Galadriel           6         16\n",
       "4        32674    Isildur          18          0\n",
       "..         ...        ...         ...        ...\n",
       "134      32674    Faramir           3         29\n",
       "135      32674       Bain           1          1\n",
       "136      32674      Walda           3         10\n",
       "137      32674  Thranduil           0          2\n",
       "138      32674    Boromir           6         17\n",
       "\n",
       "[139 rows x 4 columns]"
      ]
     },
     "metadata": {},
     "execution_count": 4
    }
   ],
   "metadata": {}
  },
  {
   "cell_type": "markdown",
   "source": [
    "## Ingesting data with in-built Sources\n",
    "\n",
    "As this data is in an `edge list` format, another way to convert it into a graph is to use our `CSVEdgeListSource`. `Sources` let Raphtory know where to pull the data from and how to convert them into `graph updates`. This particular source will parse each line as two `vertex additions` and an `edge addition` at the given timestamp. \n",
    "\n",
    "Notably for this `Source` if the vertex ids are `Strings` instead of `Integers` it will turn the strings into a number and allocate the orginal value as a property on each vertex called `name`. "
   ],
   "metadata": {}
  },
  {
   "cell_type": "code",
   "execution_count": 5,
   "source": [
    "graph2 = ctx.new_graph()\n",
    "spout = FileSpout(\"/tmp/lotr.csv\")\n",
    "source = CSVEdgeListSource(spout)\n",
    "\n",
    "graph2.load(source)"
   ],
   "outputs": [
    {
     "output_type": "execute_result",
     "data": {
      "text/plain": [
       "com.raphtory.api.analysis.graphview.PyDeployedTemporalGraph@40b57c2d"
      ]
     },
     "metadata": {},
     "execution_count": 5
    }
   ],
   "metadata": {}
  },
  {
   "cell_type": "markdown",
   "source": [
    "### Lets compare the graphs"
   ],
   "metadata": {}
  },
  {
   "cell_type": "code",
   "execution_count": 6,
   "source": [
    "df2 = graph_degree(graph2)\n",
    "different_results = pd.DataFrame.compare(df,df2)\n",
    "len(different_results)"
   ],
   "outputs": [
    {
     "output_type": "execute_result",
     "data": {
      "text/plain": [
       "0"
      ]
     },
     "metadata": {},
     "execution_count": 6
    }
   ],
   "metadata": {}
  },
  {
   "cell_type": "markdown",
   "source": [
    "## Creating our own custom Source"
   ],
   "metadata": {}
  },
  {
   "cell_type": "code",
   "execution_count": 7,
   "source": [
    "def parse(graph, tuple: str):\n",
    "    parts = [v.strip() for v in tuple.split(\",\")]\n",
    "    source_node = parts[0]\n",
    "    src_id = graph.assign_id(source_node)\n",
    "    target_node = parts[1]\n",
    "    tar_id = graph.assign_id(target_node)\n",
    "    time_stamp = int(parts[2])\n",
    "\n",
    "    graph.add_vertex(time_stamp, src_id, Properties(ImmutableProperty(\"name\", source_node)), Type(\"Character\"))\n",
    "    graph.add_vertex(time_stamp, tar_id, Properties(ImmutableProperty(\"name\", target_node)), Type(\"Character\"))\n",
    "    graph.add_edge(time_stamp, src_id, tar_id, Type(\"Character_Co-occurence\"))\n",
    "\n",
    "graph3 = ctx.new_graph()\n",
    "spout = FileSpout(\"/tmp/lotr.csv\")\n",
    "source = Source(spout,GraphBuilder(parse))\n",
    "\n",
    "graph3.load(source)\n",
    "\n",
    "graph_degree(graph3)"
   ],
   "outputs": [
    {
     "output_type": "execute_result",
     "data": {
      "text/html": [
       "<div>\n",
       "<style scoped>\n",
       "    .dataframe tbody tr th:only-of-type {\n",
       "        vertical-align: middle;\n",
       "    }\n",
       "\n",
       "    .dataframe tbody tr th {\n",
       "        vertical-align: top;\n",
       "    }\n",
       "\n",
       "    .dataframe thead th {\n",
       "        text-align: right;\n",
       "    }\n",
       "</style>\n",
       "<table border=\"1\" class=\"dataframe\">\n",
       "  <thead>\n",
       "    <tr style=\"text-align: right;\">\n",
       "      <th></th>\n",
       "      <th>timestamp</th>\n",
       "      <th>name</th>\n",
       "      <th>out_degree</th>\n",
       "      <th>in_degree</th>\n",
       "    </tr>\n",
       "  </thead>\n",
       "  <tbody>\n",
       "    <tr>\n",
       "      <th>0</th>\n",
       "      <td>29084</td>\n",
       "      <td>Hirgon</td>\n",
       "      <td>2</td>\n",
       "      <td>0</td>\n",
       "    </tr>\n",
       "    <tr>\n",
       "      <th>1</th>\n",
       "      <td>29084</td>\n",
       "      <td>Hador</td>\n",
       "      <td>1</td>\n",
       "      <td>2</td>\n",
       "    </tr>\n",
       "    <tr>\n",
       "      <th>2</th>\n",
       "      <td>29084</td>\n",
       "      <td>Horn</td>\n",
       "      <td>1</td>\n",
       "      <td>3</td>\n",
       "    </tr>\n",
       "    <tr>\n",
       "      <th>3</th>\n",
       "      <td>29084</td>\n",
       "      <td>Galadriel</td>\n",
       "      <td>4</td>\n",
       "      <td>7</td>\n",
       "    </tr>\n",
       "    <tr>\n",
       "      <th>4</th>\n",
       "      <td>29084</td>\n",
       "      <td>Isildur</td>\n",
       "      <td>18</td>\n",
       "      <td>0</td>\n",
       "    </tr>\n",
       "    <tr>\n",
       "      <th>...</th>\n",
       "      <td>...</td>\n",
       "      <td>...</td>\n",
       "      <td>...</td>\n",
       "      <td>...</td>\n",
       "    </tr>\n",
       "    <tr>\n",
       "      <th>119</th>\n",
       "      <td>29084</td>\n",
       "      <td>Odo</td>\n",
       "      <td>1</td>\n",
       "      <td>0</td>\n",
       "    </tr>\n",
       "    <tr>\n",
       "      <th>120</th>\n",
       "      <td>29084</td>\n",
       "      <td>Faramir</td>\n",
       "      <td>2</td>\n",
       "      <td>23</td>\n",
       "    </tr>\n",
       "    <tr>\n",
       "      <th>121</th>\n",
       "      <td>29084</td>\n",
       "      <td>Bain</td>\n",
       "      <td>1</td>\n",
       "      <td>1</td>\n",
       "    </tr>\n",
       "    <tr>\n",
       "      <th>122</th>\n",
       "      <td>29084</td>\n",
       "      <td>Thranduil</td>\n",
       "      <td>0</td>\n",
       "      <td>2</td>\n",
       "    </tr>\n",
       "    <tr>\n",
       "      <th>123</th>\n",
       "      <td>29084</td>\n",
       "      <td>Boromir</td>\n",
       "      <td>6</td>\n",
       "      <td>17</td>\n",
       "    </tr>\n",
       "  </tbody>\n",
       "</table>\n",
       "<p>124 rows × 4 columns</p>\n",
       "</div>"
      ],
      "text/plain": [
       "     timestamp       name  out_degree  in_degree\n",
       "0        29084     Hirgon           2          0\n",
       "1        29084      Hador           1          2\n",
       "2        29084       Horn           1          3\n",
       "3        29084  Galadriel           4          7\n",
       "4        29084    Isildur          18          0\n",
       "..         ...        ...         ...        ...\n",
       "119      29084        Odo           1          0\n",
       "120      29084    Faramir           2         23\n",
       "121      29084       Bain           1          1\n",
       "122      29084  Thranduil           0          2\n",
       "123      29084    Boromir           6         17\n",
       "\n",
       "[124 rows x 4 columns]"
      ]
     },
     "metadata": {},
     "execution_count": 7
    }
   ],
   "metadata": {}
  },
  {
   "cell_type": "markdown",
   "source": [
    "## Closing down the context"
   ],
   "metadata": {}
  },
  {
   "cell_type": "code",
   "execution_count": 8,
   "source": [
    "ctx.close()"
   ],
   "outputs": [],
   "metadata": {}
  },
  {
   "cell_type": "code",
   "execution_count": null,
   "source": [],
   "outputs": [],
   "metadata": {}
  }
 ],
 "metadata": {
  "orig_nbformat": 4,
  "language_info": {
   "name": "python",
   "version": "3.9.13",
   "mimetype": "text/x-python",
   "codemirror_mode": {
    "name": "ipython",
    "version": 3
   },
   "pygments_lexer": "ipython3",
   "nbconvert_exporter": "python",
   "file_extension": ".py"
  },
  "kernelspec": {
   "name": "python3",
   "display_name": "Python 3.9.13 64-bit ('pyraph39': conda)"
  },
  "interpreter": {
   "hash": "2fd8b0dd52cc294f3672afec541bd883b30f7293219263d147e74d62b7608382"
  }
 },
 "nbformat": 4,
 "nbformat_minor": 2
}