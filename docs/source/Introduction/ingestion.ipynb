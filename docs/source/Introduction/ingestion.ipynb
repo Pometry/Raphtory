{
 "cells": [
  {
   "cell_type": "markdown",
   "source": [
    "# Getting data into a graph, and results out\n",
    "\n",
    "Now that we know PyRaphtory is installed and running, let's look at the different ways to get some real data into a graph. \n",
    "\n",
    "For this first set of tutorials we are going to be building graphs from a Lord of the Rings 🧝🏻‍♀️🧙🏻‍♂️💍 dataset, looking at when characters interact throughout the trilogy.\n",
    " \n",
    "As with the quick start install guide, this and all following python pages are built as iPython notebooks. If you want to follow along on your own machine, click the `open on github` link in the top right of this page.\n",
    "\n",
    "\n",
    "<p>\n",
    " <img src=\"../_static/lotr-graphic.png\" width=\"700px\" style=\"padding: 15px\" alt=\"Intro Graphic of LOTR slices\"/>\n",
    "</p>\n",
    "\n",
    "## Let's have a look at the example data\n",
    "\n",
    "The data is a `csv` file (comma-separated values) and is pulled from our <a href=\"https://github.com/Raphtory/Data/blob/main/lotr.csv\" target=\"_blank\">Github data repository</a>. Each line contains two characters that appeared in the same sentence, along with the sentence number, which we will use as a `timestamp`. The first line of the file is `Gandalf,Elrond,33` which tells\n",
    "us that Gandalf and Elrond appears together in sentence 33.\n",
    "\n",
    "### Downloading the csv from Github 💾\n",
    "\n",
    "The following `curl` command will download the csv file and save it in the `tmp` directory on your computer. This will be deleted when you restart your computer, but it's only a couple of KB in any case.\n",
    "\n",
    "\n",
    "\n"
   ],
   "metadata": {}
  },
  {
   "cell_type": "code",
   "execution_count": 1,
   "source": [
    "!curl -o /tmp/lotr.csv https://raw.githubusercontent.com/Raphtory/Data/main/lotr.csv\n",
    "!head /tmp/lotr.csv"
   ],
   "outputs": [
    {
     "output_type": "stream",
     "name": "stdout",
     "text": [
      "  % Total    % Received % Xferd  Average Speed   Time    Time     Time  Current\n",
      "                                 Dload  Upload   Total   Spent    Left  Speed\n",
      "100 52206  100 52206    0     0   201k      0 --:--:-- --:--:-- --:--:--  201k\n",
      "Gandalf,Elrond,33\n",
      "Frodo,Bilbo,114\n",
      "Blanco,Marcho,146\n",
      "Frodo,Bilbo,205\n",
      "Thorin,Gandalf,270\n",
      "Thorin,Bilbo,270\n",
      "Gandalf,Bilbo,270\n",
      "Gollum,Bilbo,286\n",
      "Gollum,Bilbo,306\n",
      "Gollum,Bilbo,308\n"
     ]
    }
   ],
   "metadata": {}
  },
  {
   "cell_type": "markdown",
   "source": [
    "## Ingesting data with in-built Sources\n",
    "\n",
    "As this data is in an `edge list` format, the easiest way to get your data into a graph is to use our automatic "
   ],
   "metadata": {}
  },
  {
   "cell_type": "code",
   "execution_count": null,
   "source": [
    "with open(filename, 'r') as csvfile:\n",
    "    datareader = csv.reader(csvfile)\n",
    "    for row in datareader:\n",
    "        source_node = row[0]\n",
    "        src_id = graph.assign_id(source_node)\n",
    "        target_node = row[1]\n",
    "        tar_id = graph.assign_id(target_node)\n",
    "        time_stamp = int(row[2])\n",
    "        graph.add_vertex(time_stamp, src_id, Properties(ImmutableProperty(\"name\", source_node)), Type(\"Character\"))\n",
    "        graph.add_vertex(time_stamp, tar_id, Properties(ImmutableProperty(\"name\", target_node)), Type(\"Character\"))\n",
    "        graph.add_edge(time_stamp, src_id, tar_id, Type(\"Character_Co-occurence\"))"
   ],
   "outputs": [],
   "metadata": {}
  },
  {
   "cell_type": "markdown",
   "source": [
    "|"
   ],
   "metadata": {}
  }
 ],
 "metadata": {
  "orig_nbformat": 4,
  "language_info": {
   "name": "python",
   "version": "3.10.4",
   "mimetype": "text/x-python",
   "codemirror_mode": {
    "name": "ipython",
    "version": 3
   },
   "pygments_lexer": "ipython3",
   "nbconvert_exporter": "python",
   "file_extension": ".py"
  },
  "kernelspec": {
   "name": "python3",
   "display_name": "Python 3.10.4 64-bit ('pyraph': conda)"
  },
  "interpreter": {
   "hash": "8f3d59bee60f63926010e0bac9b68608a61452c47456c820f76e5227c167136e"
  }
 },
 "nbformat": 4,
 "nbformat_minor": 2
}