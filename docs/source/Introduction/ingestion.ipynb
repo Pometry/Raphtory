{
 "cells": [
  {
   "cell_type": "markdown",
   "source": [
    "# Getting data into a graph\n",
    "\n",
    "Now that we know PyRaphtory is installed and running, let's look at the different ways to get some real data into a graph. \n",
    "\n",
    "For this first set of tutorials we are going to be building graphs from a Lord of the Rings dataset, looking at when characters interact throughout the trilogy 🧝🏻‍♀️🧙🏻‍♂️💍.\n",
    " \n",
    "<p align=\"center\">\n",
    " <img src=\"../images/lotr-graphic.png\" width=\"700px\" style=\"padding: 15px\" alt=\"Intro Graphic of LOTR slices\"/>\n",
    "</p>\n",
    "\n",
    "As with the quick start install guide, this and all following python pages are built as iPython notebooks. If you want to follow along on your own machine, click the `open on github` link in the top right of this page.\n",
    "\n",
    "## Let's have a look at the example data\n",
    "\n",
    "The data we are going to use is two `csv` files which will be pulled from our <a href=\"https://github.com/Raphtory/Data\">Github data repository</a>. These are the structure of the graph (`lotr.csv`) and some metadata about the characters (`lotr_properties.csv`)\n",
    "\n",
    "For the structure file each line contains two characters that appeared in the same sentence, along with the sentence number, which we will use as a `timestamp`. The first line of the file is `Gandalf,Elrond,33` which tells us that Gandalf and Elrond appears together in sentence 33.\n",
    "\n",
    "For the properties file each line gives a characters name, their race and gender. For example `Gimli,dwarf,male`.\n",
    "\n",
    "\n",
    "### Downloading the csv from Github 💾\n",
    "\n",
    "The following `curl` command will download the csv files and save them in the `tmp` directory on your computer. This will be deleted when you restart your computer, but it's only a couple of KB in any case.\n",
    "\n",
    "\n",
    "\n"
   ],
   "metadata": {}
  },
  {
   "cell_type": "code",
   "execution_count": 1,
   "source": [
    "print(\"****Downloading Data****\")\n",
    "!curl -o /tmp/lotr.csv https://raw.githubusercontent.com/Raphtory/Data/main/lotr.csv\n",
    "!curl -o /tmp/lotr_properties.csv https://raw.githubusercontent.com/Raphtory/Data/main/lotr_properties.csv\n",
    "print(\"****LOTR GRAPH STRUCTURE****\")\n",
    "!head /tmp/lotr.csv\n",
    "print(\"****LOTR GRAPH PROPERTIES****\")\n",
    "!head /tmp/lotr_properties.csv"
   ],
   "outputs": [
    {
     "output_type": "stream",
     "name": "stdout",
     "text": [
      "  % Total    % Received % Xferd  Average Speed   Time    Time     Time  Current\n",
      "                                 Dload  Upload   Total   Spent    Left  Speed\n",
      "100 52206  100 52206    0     0   364k      0 --:--:-- --:--:-- --:--:--  364k\n",
      "  % Total    % Received % Xferd  Average Speed   Time    Time     Time  Current\n",
      "                                 Dload  Upload   Total   Spent    Left  Speed\n",
      "100   686  100   686    0     0   5764      0 --:--:-- --:--:-- --:--:--  5764\n",
      "****LOTR GRAPH STRUCTURE****\n",
      "Gandalf,Elrond,33\n",
      "Frodo,Bilbo,114\n",
      "Blanco,Marcho,146\n",
      "Frodo,Bilbo,205\n",
      "Thorin,Gandalf,270\n",
      "Thorin,Bilbo,270\n",
      "Gandalf,Bilbo,270\n",
      "Gollum,Bilbo,286\n",
      "Gollum,Bilbo,306\n",
      "Gollum,Bilbo,308\n",
      "****LOTR GRAPH PROPERTIES****\n",
      "Aragorn,men,male\n",
      "Gandalf,ainur,male\n",
      "Goldberry,ainur,female\n",
      "Saruman,ainur,male\n",
      "Sauron,ainur,male\n",
      "Bill,animal,male\n",
      "Shadowfax,animal,male\n",
      "Shelob,animal,female\n",
      "Balin,dwarf,male\n",
      "Gimli,dwarf,male\n"
     ]
    }
   ],
   "metadata": {}
  },
  {
   "cell_type": "markdown",
   "source": [
    "## Setting up our imports and Raphtory Context\n",
    "Now that we have our data we can sort out our imports and create the `Raphtory Context` which we will use to build our graphs.\n",
    "\n",
    "The imports here are for parsing CSV files, accessing pandas dataframes, and bringing in all the Raphtory classes we will use in the tutorial.\n",
    "\n",
    "The filenames here are pointing at the data we just downloaded. If you change the download location above, make sure to change them here as well."
   ],
   "metadata": {}
  },
  {
   "cell_type": "code",
   "execution_count": 2,
   "source": [
    "import csv\n",
    "import pandas as pd\n",
    "from pyraphtory.context import PyRaphtory\n",
    "from pyraphtory.input import ImmutableString\n",
    "from pyraphtory.input import GraphBuilder\n",
    "from pyraphtory.spouts import FileSpout\n",
    "from pyraphtory.sources import CSVEdgeListSource\n",
    "from pyraphtory.sources import Source\n",
    "from pyraphtory.graph import Row\n",
    "\n",
    "structure_file = \"/tmp/lotr.csv\"\n",
    "properties_file = \"/tmp/lotr_properties.csv\"\n",
    "ctx = PyRaphtory.local()\n"
   ],
   "outputs": [],
   "metadata": {}
  },
  {
   "cell_type": "markdown",
   "source": [
    "## Adding data directly into the Graph\n",
    "\n",
    "The simplest way to add data into a graph is to directly call the `add_vertex` and `add_edge` functions, which we saw in the quick start guide. These have required arguments defining the time the addition occured and an identifier for the entity being updated. These functions, however, have several optional arguments allowing us to add `properties` and `types` on top of the base structure. Raphtory also allows for a secondary time index for disambiguating event ordering, this defaults to the number of prior updates sent +1.\n",
    "\n",
    "| Function     | Required Arguments            | Optional Arguments                           |\n",
    "|--------------|-------------------------------|----------------------------------------------|\n",
    "| `add_vertex` | `timestamp` , `vertex_id`     | `properties`,`vertex_type`,`secondary_index` |\n",
    "| `add_edge`   | `timestamp`,`src_id`,`dst_id` | `properties`,`edge_type`,`secondary_index`   |\n",
    "\n",
    "\n",
    "Lets take a look at this with our example data. In the below code we are opening The Lord of The Rings structural data via the csv reader and looping through each line. \n",
    "\n",
    "To insert the data we:\n",
    "* Extract the two characters names, referring to them as the `source_node` and `destination_node`.\n",
    "* Extract the sentence number, referring to is as `timestamp`. This is then cast to an `int` as timestamps in Raphtory must be a number.\n",
    "* Call `add_vertex` for both nodes, setting their type to `Character`.\n",
    "* Creating an edge between them via `add_edge` and labelling this a `Co-occurence`."
   ],
   "metadata": {}
  },
  {
   "cell_type": "code",
   "execution_count": 3,
   "source": [
    "graph = ctx.new_graph()\n",
    "with open(filename, 'r') as csvfile:\n",
    "    datareader = csv.reader(csvfile)\n",
    "    for row in datareader:\n",
    "\n",
    "        source_node = row[0]\n",
    "        destination_node = row[1]\n",
    "        timestamp = int(row[2])\n",
    "        \n",
    "        graph.add_vertex(timestamp, source_node, vertex_type=\"Character\")\n",
    "        graph.add_vertex(timestamp, destination_node, vertex_type=\"Character\")  \n",
    "        graph.add_edge(timestamp, source_node, destination_node, edge_type=\"Character_Co-occurence\")"
   ],
   "outputs": [],
   "metadata": {}
  },
  {
   "cell_type": "markdown",
   "source": [
    "## Let's see if the data has ingested\n",
    "\n",
    "To do this, much like the quick start, we can run a query on our graph. As Raphtory allows us to explore the network's history, lets add a bit of this in as well. \n",
    "\n",
    "Below we create a function to extract the first appearance of a character. This takes a vertex and calls `name()` and `earliest_activity()`. These return the name we gave in the `add_vertex` calls above and a `HistoricEvent` object. This object contains the sentence the character was introduced (`.time()`) and the update this was in our data (`.index()`). From our function we return a `Row` with all the elements we are interested in.\n",
    "\n",
    "Once defined we can call `select` on our graph and apply this function to all vertices, followed by a call to `to_df` which returns a dataframe with our results.\n",
    "\n",
    "You will see in the results we have a `timestamp` column, this is because both updates and queries **must** happen at a given time. This defaults to the latest time in the data, `32674` in our case. Don't worry too much about the details of Raphtory queries here, we will get into this in the coming tutorials.\n"
   ],
   "metadata": {}
  },
  {
   "cell_type": "code",
   "execution_count": 16,
   "source": [
    "def characters_first_appearance(vertex):\n",
    "    name = vertex.name()\n",
    "    event = vertex.earliest_activity()\n",
    "    earliest_appearance = event.time()\n",
    "    index = event.index()\n",
    "    return Row(name,earliest_appearance,index)\n",
    "\n",
    "df = graph \\\n",
    "    .select(characters_first_appearance) \\\n",
    "    .to_df([\"name\", \"earliest_appearance\",\"index\"]) \n",
    "df"
   ],
   "outputs": [
    {
     "output_type": "execute_result",
     "data": {
      "text/html": [
       "<div>\n",
       "<style scoped>\n",
       "    .dataframe tbody tr th:only-of-type {\n",
       "        vertical-align: middle;\n",
       "    }\n",
       "\n",
       "    .dataframe tbody tr th {\n",
       "        vertical-align: top;\n",
       "    }\n",
       "\n",
       "    .dataframe thead th {\n",
       "        text-align: right;\n",
       "    }\n",
       "</style>\n",
       "<table border=\"1\" class=\"dataframe\">\n",
       "  <thead>\n",
       "    <tr style=\"text-align: right;\">\n",
       "      <th></th>\n",
       "      <th>timestamp</th>\n",
       "      <th>name</th>\n",
       "      <th>earliest_appearance</th>\n",
       "      <th>index</th>\n",
       "    </tr>\n",
       "  </thead>\n",
       "  <tbody>\n",
       "    <tr>\n",
       "      <th>0</th>\n",
       "      <td>32674</td>\n",
       "      <td>Hirgon</td>\n",
       "      <td>26628</td>\n",
       "      <td>4965</td>\n",
       "    </tr>\n",
       "    <tr>\n",
       "      <th>1</th>\n",
       "      <td>32674</td>\n",
       "      <td>Hador</td>\n",
       "      <td>8105</td>\n",
       "      <td>1708</td>\n",
       "    </tr>\n",
       "    <tr>\n",
       "      <th>2</th>\n",
       "      <td>32674</td>\n",
       "      <td>Horn</td>\n",
       "      <td>28044</td>\n",
       "      <td>5329</td>\n",
       "    </tr>\n",
       "    <tr>\n",
       "      <th>3</th>\n",
       "      <td>32674</td>\n",
       "      <td>Galadriel</td>\n",
       "      <td>374</td>\n",
       "      <td>63</td>\n",
       "    </tr>\n",
       "    <tr>\n",
       "      <th>4</th>\n",
       "      <td>32674</td>\n",
       "      <td>Isildur</td>\n",
       "      <td>1309</td>\n",
       "      <td>213</td>\n",
       "    </tr>\n",
       "    <tr>\n",
       "      <th>...</th>\n",
       "      <td>...</td>\n",
       "      <td>...</td>\n",
       "      <td>...</td>\n",
       "      <td>...</td>\n",
       "    </tr>\n",
       "    <tr>\n",
       "      <th>134</th>\n",
       "      <td>32674</td>\n",
       "      <td>Faramir</td>\n",
       "      <td>359</td>\n",
       "      <td>52</td>\n",
       "    </tr>\n",
       "    <tr>\n",
       "      <th>135</th>\n",
       "      <td>32674</td>\n",
       "      <td>Bain</td>\n",
       "      <td>6717</td>\n",
       "      <td>1258</td>\n",
       "    </tr>\n",
       "    <tr>\n",
       "      <th>136</th>\n",
       "      <td>32674</td>\n",
       "      <td>Walda</td>\n",
       "      <td>31162</td>\n",
       "      <td>7090</td>\n",
       "    </tr>\n",
       "    <tr>\n",
       "      <th>137</th>\n",
       "      <td>32674</td>\n",
       "      <td>Thranduil</td>\n",
       "      <td>7053</td>\n",
       "      <td>1414</td>\n",
       "    </tr>\n",
       "    <tr>\n",
       "      <th>138</th>\n",
       "      <td>32674</td>\n",
       "      <td>Boromir</td>\n",
       "      <td>7059</td>\n",
       "      <td>1423</td>\n",
       "    </tr>\n",
       "  </tbody>\n",
       "</table>\n",
       "<p>139 rows × 4 columns</p>\n",
       "</div>"
      ],
      "text/plain": [
       "     timestamp       name  earliest_appearance  index\n",
       "0        32674     Hirgon                26628   4965\n",
       "1        32674      Hador                 8105   1708\n",
       "2        32674       Horn                28044   5329\n",
       "3        32674  Galadriel                  374     63\n",
       "4        32674    Isildur                 1309    213\n",
       "..         ...        ...                  ...    ...\n",
       "134      32674    Faramir                  359     52\n",
       "135      32674       Bain                 6717   1258\n",
       "136      32674      Walda                31162   7090\n",
       "137      32674  Thranduil                 7053   1414\n",
       "138      32674    Boromir                 7059   1423\n",
       "\n",
       "[139 rows x 4 columns]"
      ]
     },
     "metadata": {},
     "execution_count": 16
    }
   ],
   "metadata": {}
  },
  {
   "cell_type": "markdown",
   "source": [
    "## Updating graphs, merging datasets and adding properties\n",
    "\n",
    "One cool thing about Raphtory is that we can freely insert new information at any point in time and it will be automatically inserted in chronological order. This makes it really easy to merge datasets or ingest out of order data. \n",
    "\n",
    "Raphtory currently support several types of `mutable` properties which can change throughout the lifetime of a vertex or edge, giving them a history to be explored. We also allow the user to specify `immutable` properties which only have one value, useful for meta data and saving memory! All property objects require the user to specify a name and value. The current supported properties include:\n",
    "* `MutableString()`\n",
    "* `MutableLong()`\n",
    "* `MutableDouble()`\n",
    "* `MutableBoolean()`\n",
    "* `ImmutableString()` \n",
    "\n",
    "To explore this and to add some properties to our graph, lets load our second dataset!\n",
    "\n",
    "Below we are opening our property file the same way as the first. As we don't have any time to work with in this data we will have to create some of our own. We have two options, we can say it all happens at time `1` or we can use the results of our **earliest appearance** query to decide when to insert the properties. \n",
    "\n",
    "For the latter we have zipped the `name` and `earliest_timestamp` columns from our dataframe and turned them into a `dict` where we can look up the best timestamps for each character.\n",
    "\n",
    "For each line we then:\n",
    "* Get the name and look it up in our dict to get the timestamp.\n",
    "* Get the race and gender from the data and wrap them in an `ImmutableString` as they are unchanging metadata, so no need to maintain a history.\n",
    "* Call `add_vertex` passing all of this information.\n",
    "\n",
    "Now it's worthwhile noting that we aren't calling a function called `update_vertex` or something similar, even though we know they exist. This is because everything is considered an addition into the history and we sort all the ordering internally!"
   ],
   "metadata": {}
  },
  {
   "cell_type": "code",
   "execution_count": 7,
   "source": [
    "earliest_appearence = dict(zip(df.name,df.earliest_timestamp))\n",
    "\n",
    "with open(\"/tmp/lotr_properties.csv\", 'r') as csvfile:\n",
    "    datareader = csv.reader(csvfile)\n",
    "    for row in datareader:\n",
    "        name = row[0]\n",
    "        timestamp = earliest_appearence[name]        \n",
    "        race = ImmutableString(\"race\",row[1])\n",
    "        gender = ImmutableString(\"gender\",row[2])\n",
    "        graph.add_vertex(time_stamp, name, properties=[race,gender])\n"
   ],
   "outputs": [],
   "metadata": {}
  },
  {
   "cell_type": "markdown",
   "source": [
    "## Using our properties as part of a query\n",
    "To quickly see if our new properties are included in the graph we can write a new query! Lets have a look at the dwarves who have the most interactions.\n",
    "\n",
    "To start we can create a function which for each vertex returns its name and the length of its `history()` i.e. the number of updates it has had. As we have one update per interaction, this will give us a quick count of the total interactions throughout the books.\n",
    "\n",
    "This function can be given to the `select` applied to the graph as before, but first let's apply a `vertex_filter()` which will check the value for the **race** property and remove anyone who isn't a **dwarf**.\n",
    "\n",
    "Finally, we can sort our dataframe by the number of interactions to see **Gimli** has by far the most!"
   ],
   "metadata": {}
  },
  {
   "cell_type": "code",
   "execution_count": 15,
   "source": [
    "def and_my_axe(vertex):\n",
    "    name = vertex.name()\n",
    "    interactions = len(vertex.history())\n",
    "    return Row(name,interactions)\n",
    "\n",
    "df = graph \\\n",
    "    .vertex_filter(lambda vertex: vertex.get_property_or_else(\"race\",\"unknown\") == \"dwarf\")\\\n",
    "    .select(and_my_axe) \\\n",
    "    .to_df([\"name\", \"interactions\"]) \n",
    "\n",
    "df.sort_values(by=\"interactions\",ascending=False) "
   ],
   "outputs": [
    {
     "output_type": "execute_result",
     "data": {
      "text/html": [
       "<div>\n",
       "<style scoped>\n",
       "    .dataframe tbody tr th:only-of-type {\n",
       "        vertical-align: middle;\n",
       "    }\n",
       "\n",
       "    .dataframe tbody tr th {\n",
       "        vertical-align: top;\n",
       "    }\n",
       "\n",
       "    .dataframe thead th {\n",
       "        text-align: right;\n",
       "    }\n",
       "</style>\n",
       "<table border=\"1\" class=\"dataframe\">\n",
       "  <thead>\n",
       "    <tr style=\"text-align: right;\">\n",
       "      <th></th>\n",
       "      <th>timestamp</th>\n",
       "      <th>name</th>\n",
       "      <th>interactions</th>\n",
       "    </tr>\n",
       "  </thead>\n",
       "  <tbody>\n",
       "    <tr>\n",
       "      <th>3</th>\n",
       "      <td>32674</td>\n",
       "      <td>Gimli</td>\n",
       "      <td>372</td>\n",
       "    </tr>\n",
       "    <tr>\n",
       "      <th>0</th>\n",
       "      <td>32674</td>\n",
       "      <td>Glóin</td>\n",
       "      <td>64</td>\n",
       "    </tr>\n",
       "    <tr>\n",
       "      <th>1</th>\n",
       "      <td>32674</td>\n",
       "      <td>Balin</td>\n",
       "      <td>30</td>\n",
       "    </tr>\n",
       "    <tr>\n",
       "      <th>2</th>\n",
       "      <td>32674</td>\n",
       "      <td>Thorin</td>\n",
       "      <td>12</td>\n",
       "    </tr>\n",
       "  </tbody>\n",
       "</table>\n",
       "</div>"
      ],
      "text/plain": [
       "   timestamp    name  interactions\n",
       "3      32674   Gimli           372\n",
       "0      32674   Glóin            64\n",
       "1      32674   Balin            30\n",
       "2      32674  Thorin            12"
      ]
     },
     "metadata": {},
     "execution_count": 15
    }
   ],
   "metadata": {}
  },
  {
   "cell_type": "markdown",
   "source": [
    "## Ingesting data with in-built Sources\n",
    "\n",
    "As this data is in an `edge list` format, another way to convert it into a graph is to use our `CSVEdgeListSource`. `Sources` let Raphtory know where to pull the data from and how to convert them into `graph updates`. This particular source will parse each line as two `vertex additions` and an `edge addition` at the given timestamp. \n",
    "\n",
    "Notably for this `Source` if the vertex ids are `Strings` instead of `Integers` it will turn the strings into a number and allocate the orginal value as a property on each vertex called `name`. "
   ],
   "metadata": {}
  },
  {
   "cell_type": "markdown",
   "source": [
    "graph2 = ctx.new_graph()\n",
    "spout = FileSpout(\"/tmp/lotr.csv\")\n",
    "source = CSVEdgeListSource(spout)\n",
    "\n",
    "graph2.load(source)"
   ],
   "metadata": {}
  },
  {
   "cell_type": "markdown",
   "source": [
    "### Lets compare the graphs"
   ],
   "metadata": {}
  },
  {
   "cell_type": "markdown",
   "source": [
    "df2 = graph_degree(graph2)\n",
    "different_results = pd.DataFrame.compare(df,df2)\n",
    "len(different_results)"
   ],
   "metadata": {}
  },
  {
   "cell_type": "markdown",
   "source": [
    "## Creating our own custom Source"
   ],
   "metadata": {}
  },
  {
   "cell_type": "markdown",
   "source": [
    "def parse(graph, tuple: str):\n",
    "    parts = [v.strip() for v in tuple.split(\",\")]\n",
    "    source_node = parts[0]\n",
    "    src_id = graph.assign_id(source_node)\n",
    "    target_node = parts[1]\n",
    "    tar_id = graph.assign_id(target_node)\n",
    "    time_stamp = int(parts[2])\n",
    "\n",
    "    graph.add_vertex(time_stamp, src_id, properties=[ImmutableProperty(\"name\", source_node)], type= \"Character\")\n",
    "    graph.add_vertex(time_stamp, tar_id, Properties(ImmutableProperty(\"name\", target_node)), Type(\"Character\"))\n",
    "    graph.add_edge(time_stamp, src_id, tar_id, Type(\"Character_Co-occurence\"))\n",
    "\n",
    "graph3 = ctx.new_graph()\n",
    "spout = FileSpout(\"/tmp/lotr.csv\")\n",
    "source = Source(spout,GraphBuilder(parse))\n",
    "\n",
    "graph3.load(source)\n",
    "\n",
    "graph_degree(graph3)"
   ],
   "metadata": {}
  },
  {
   "cell_type": "markdown",
   "source": [
    "## Closing down the context"
   ],
   "metadata": {}
  },
  {
   "cell_type": "markdown",
   "source": [
    "ctx.close()"
   ],
   "metadata": {}
  },
  {
   "cell_type": "code",
   "execution_count": null,
   "source": [],
   "outputs": [],
   "metadata": {}
  }
 ],
 "metadata": {
  "orig_nbformat": 4,
  "language_info": {
   "name": "python",
   "version": "3.9.13",
   "mimetype": "text/x-python",
   "codemirror_mode": {
    "name": "ipython",
    "version": 3
   },
   "pygments_lexer": "ipython3",
   "nbconvert_exporter": "python",
   "file_extension": ".py"
  },
  "kernelspec": {
   "name": "python3",
   "display_name": "Python 3.9.13 64-bit ('pyraph39': conda)"
  },
  "interpreter": {
   "hash": "2fd8b0dd52cc294f3672afec541bd883b30f7293219263d147e74d62b7608382"
  }
 },
 "nbformat": 4,
 "nbformat_minor": 2
}