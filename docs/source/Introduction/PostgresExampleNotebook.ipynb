{
 "cells": [
  {
   "cell_type": "markdown",
   "id": "1ce2e74b",
   "metadata": {},
   "source": [
    "# Running Raphtory from PostgresSQL databases"
   ]
  },
  {
   "cell_type": "markdown",
   "id": "3347d9b9",
   "metadata": {},
   "source": [
    "Download lotr csv file for use later, and import all dependencies"
   ]
  },
  {
   "cell_type": "code",
   "execution_count": null,
   "id": "a4933d58",
   "metadata": {},
   "outputs": [],
   "source": [
    "!curl -o /tmp/lotr.csv https://raw.githubusercontent.com/Raphtory/Data/main/lotr.csv"
   ]
  },
  {
   "cell_type": "code",
   "execution_count": null,
   "id": "a7f1d666",
   "metadata": {},
   "outputs": [],
   "source": [
    "import csv\n",
    "import pandas as pd\n",
    "from pyraphtory.context import PyRaphtory\n",
    "from pyraphtory.input import ImmutableString\n",
    "from pyraphtory.input import GraphBuilder\n",
    "from pyraphtory.sources import Source\n",
    "from pyraphtory.graph import Row\n",
    "\n",
    "ctx = PyRaphtory.local()"
   ]
  },
  {
   "cell_type": "markdown",
   "id": "13cc8c83",
   "metadata": {},
   "source": [
    "## 1) Creating new database and ingesting into Raphtory"
   ]
  },
  {
   "cell_type": "markdown",
   "id": "8f8eec84",
   "metadata": {},
   "source": [
    "Install Psycopg - PostgreSQL database adapter for Python"
   ]
  },
  {
   "cell_type": "code",
   "execution_count": null,
   "id": "0ef2bcec",
   "metadata": {},
   "outputs": [],
   "source": [
    "pip install psycopg2"
   ]
  },
  {
   "cell_type": "markdown",
   "id": "f82ba457",
   "metadata": {},
   "source": [
    "Connect to your Postgres database: e.g. psycopg2.connect(\"dbname=postgres user=bob\")"
   ]
  },
  {
   "cell_type": "code",
   "execution_count": null,
   "id": "21c7779f",
   "metadata": {},
   "outputs": [],
   "source": [
    "import psycopg2\n",
    "conn = psycopg2.connect(\"dbname= user=\")"
   ]
  },
  {
   "cell_type": "markdown",
   "id": "372ca22b",
   "metadata": {},
   "source": [
    "Create cursor to allow Python code to execute PostgreSQL command in a database session."
   ]
  },
  {
   "cell_type": "code",
   "execution_count": null,
   "id": "580f31c6",
   "metadata": {},
   "outputs": [],
   "source": [
    "cur = conn.cursor()"
   ]
  },
  {
   "cell_type": "markdown",
   "id": "79f4a1d9",
   "metadata": {},
   "source": [
    "Create tables in your postgres database, one for vertices, one for edges."
   ]
  },
  {
   "cell_type": "code",
   "execution_count": null,
   "id": "838ed3b9",
   "metadata": {},
   "outputs": [],
   "source": [
    "cur.execute(\"CREATE TABLE vertices (id serial PRIMARY KEY, time integer, name varchar, type varchar);\")"
   ]
  },
  {
   "cell_type": "code",
   "execution_count": null,
   "id": "0a5dfb00",
   "metadata": {},
   "outputs": [],
   "source": [
    "cur.execute(\"CREATE TABLE edges (id serial PRIMARY KEY, time integer, source varchar, target varchar, type varchar);\")"
   ]
  },
  {
   "cell_type": "markdown",
   "id": "d0eee3ca",
   "metadata": {},
   "source": [
    "Insert vertices into vertices table"
   ]
  },
  {
   "cell_type": "code",
   "execution_count": null,
   "id": "27710019",
   "metadata": {},
   "outputs": [],
   "source": [
    "cur.execute(\"INSERT INTO vertices (time, name, type) VALUES (0, 'Frodo', 'Character'),(1, 'Gandalf', 'Character'),(2, 'Gollum', 'Character');\"),"
   ]
  },
  {
   "cell_type": "markdown",
   "id": "ffc5bd04",
   "metadata": {},
   "source": [
    "Insert edges in edges table"
   ]
  },
  {
   "cell_type": "code",
   "execution_count": null,
   "id": "11f1a5e4",
   "metadata": {},
   "outputs": [],
   "source": [
    "cur.execute(\"INSERT INTO edges (time, source, target, type) VALUES (3, 'Frodo','Gandalf','Character'),(4, 'Gandalf','Gollum','Character'),(5, 'Frodo','Gollum','Character');\"),"
   ]
  },
  {
   "cell_type": "markdown",
   "id": "28d07872",
   "metadata": {},
   "source": [
    "Make the changes to the database persistent"
   ]
  },
  {
   "cell_type": "code",
   "execution_count": null,
   "id": "aeedf4f7",
   "metadata": {},
   "outputs": [],
   "source": [
    "conn.commit()"
   ]
  },
  {
   "cell_type": "code",
   "execution_count": null,
   "id": "e74e5fa9",
   "metadata": {},
   "outputs": [],
   "source": [
    "cur.execute(\"SELECT * FROM edges;\")"
   ]
  },
  {
   "cell_type": "markdown",
   "id": "a84ee46d",
   "metadata": {},
   "source": [
    "Create variable to store list of edges"
   ]
  },
  {
   "cell_type": "code",
   "execution_count": null,
   "id": "6ea32455",
   "metadata": {},
   "outputs": [],
   "source": [
    "edges = cur.fetchall()"
   ]
  },
  {
   "cell_type": "markdown",
   "id": "54947a8c",
   "metadata": {},
   "source": [
    "Add edges onto graph in Raphtory"
   ]
  },
  {
   "cell_type": "code",
   "execution_count": null,
   "id": "509dfe2c",
   "metadata": {},
   "outputs": [],
   "source": [
    "graph = ctx.new_graph(\"examplegraph\")\n",
    "\n",
    "for row in edges:\n",
    "    timestamp = int(row[1])\n",
    "    source_node = row[2]\n",
    "    target_node = row[3]\n",
    "    edge_type = row[4]\n",
    "    \n",
    "    graph.add_vertex(timestamp, source_node, vertex_type=\"Character\")\n",
    "    graph.add_vertex(timestamp, target_node, vertex_type=\"Character\") \n",
    "    graph.add_edge(timestamp, source_node, target_node, edge_type=edge_type) "
   ]
  },
  {
   "cell_type": "code",
   "execution_count": null,
   "id": "55da8553",
   "metadata": {},
   "outputs": [],
   "source": [
    "df = graph.at(5).past().execute(ctx.algorithms.generic.EdgeList()).to_df(['from', 'to'])"
   ]
  },
  {
   "cell_type": "code",
   "execution_count": null,
   "id": "27253c13",
   "metadata": {},
   "outputs": [],
   "source": [
    "df"
   ]
  },
  {
   "cell_type": "markdown",
   "id": "0cd8a568",
   "metadata": {},
   "source": [
    "## 2) Converting CSV to Postgres database and ingesting into Raphtory"
   ]
  },
  {
   "cell_type": "code",
   "execution_count": null,
   "id": "7fe7e831",
   "metadata": {},
   "outputs": [],
   "source": [
    "cur.execute(\"CREATE TABLE edgesfromcsv (id serial PRIMARY KEY, source varchar, target varchar, time integer);\")"
   ]
  },
  {
   "cell_type": "code",
   "execution_count": null,
   "id": "94772d98",
   "metadata": {},
   "outputs": [],
   "source": [
    "cur.execute(\"COPY edgesfromcsv(source, target, time) FROM '/tmp/lotr.csv' DELIMITER ',';\")"
   ]
  },
  {
   "cell_type": "code",
   "execution_count": null,
   "id": "b1d28c34",
   "metadata": {},
   "outputs": [],
   "source": [
    "cur.execute(\"SELECT * FROM edgesfromcsv;\")"
   ]
  },
  {
   "cell_type": "code",
   "execution_count": null,
   "id": "6a33dae1",
   "metadata": {},
   "outputs": [],
   "source": [
    "edgesfromcsv = cur.fetchall()"
   ]
  },
  {
   "cell_type": "code",
   "execution_count": null,
   "id": "76c66be4",
   "metadata": {},
   "outputs": [],
   "source": [
    "graph = ctx.new_graph(\"lotrgraph\")\n",
    "for row in edgesfromcsv:\n",
    "    timestamp = int(row[3])\n",
    "    source_node = row[1]\n",
    "    target_node = row[2]\n",
    "    \n",
    "    graph.add_vertex(timestamp, source_node, vertex_type=\"Character\")\n",
    "    graph.add_vertex(timestamp, target_node, vertex_type=\"Character\")  \n",
    "    graph.add_edge(timestamp, source_node, target_node, edge_type=\"Character_Co-occurence\") "
   ]
  },
  {
   "cell_type": "code",
   "execution_count": null,
   "id": "c51e1f8d",
   "metadata": {},
   "outputs": [],
   "source": [
    "def characters_first_appearance(vertex):\n",
    "    name = vertex.name()\n",
    "    event = vertex.earliest_activity()\n",
    "    earliest_appearance = event.time()\n",
    "    index = event.index()\n",
    "    return Row(name,earliest_appearance,index)\n",
    "\n",
    "df = graph \\\n",
    "    .select(characters_first_appearance) \\\n",
    "    .to_df([\"name\", \"earliest_appearance\",\"index\"]) \n",
    "df"
   ]
  },
  {
   "cell_type": "code",
   "execution_count": null,
   "id": "04df3f97",
   "metadata": {},
   "outputs": [],
   "source": []
  }
 ],
 "metadata": {
  "kernelspec": {
   "display_name": "Python 3 (ipykernel)",
   "language": "python",
   "name": "python3"
  },
  "language_info": {
   "codemirror_mode": {
    "name": "ipython",
    "version": 3
   },
   "file_extension": ".py",
   "mimetype": "text/x-python",
   "name": "python",
   "nbconvert_exporter": "python",
   "pygments_lexer": "ipython3",
   "version": "3.9.13"
  }
 },
 "nbformat": 4,
 "nbformat_minor": 5
}
