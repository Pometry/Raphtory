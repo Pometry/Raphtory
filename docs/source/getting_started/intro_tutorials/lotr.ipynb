{
 "cells": [
  {
   "cell_type": "markdown",
   "metadata": {},
   "source": [
    "# Lord of the rings Tutorial\n",
    "\n",
    "Now that we know Raphtory is installed and running, let's walk through another example. In this tutorial we will build a graph from two complimentary Lord of the Rings datasets, looking at when characters interact throughout the trilogy 🧝🏻‍♀️🧙🏻‍♂️💍.\n",
    "\n",
    "This and all following python tutorials are built as iPython notebooks. If you want to follow along on your own machine, click the `show Source` link on the right of this page.\n",
    "\n",
    "## Let's have a look at the example data\n",
    "\n",
    "The data we are going to use is two `csv` files which will be pulled from our <a href=\"https://github.com/Raphtory/Data\">Github data repository</a>. These are the structure of the graph (`lotr.csv`) and some metadata about the characters (`lotr_properties.csv`)\n",
    "\n",
    "For the structure file each line contains two characters that appeared in the same sentence, along with the sentence number, which we will use as a `timestamp`. The first line of the file is `Gandalf,Elrond,33` which tells us that Gandalf and Elrond appears together in sentence 33.\n",
    "\n",
    "For the properties file each line gives a characters name, their race and gender. For example `Gimli,dwarf,male`.\n",
    "\n",
    "\n",
    "### Downloading the csv from Github 💾\n",
    "\n",
    "The following cell will download the csv files and save them in the `tmp` directory on your computer. This will be deleted when you restart your computer, but it's only a couple of KB in any case. If you would like to permanently save these files feel free to change the download location. \n",
    "\n"
   ]
  },
  {
   "cell_type": "code",
   "execution_count": 2,
   "metadata": {},
   "outputs": [
    {
     "name": "stdout",
     "output_type": "stream",
     "text": [
      "****LOTR GRAPH STRUCTURE****\n",
      "Gandalf,Elrond,33\n",
      "Frodo,Bilbo,114\n",
      "Blanco,Marcho,146\n",
      "****LOTR GRAPH PROPERTIES****\n",
      "Aragorn,men,male\n",
      "Gandalf,ainur,male\n",
      "Goldberry,ainur,female\n"
     ]
    }
   ],
   "source": [
    "import requests\n",
    "\n",
    "url_lotr_csv = \"https://raw.githubusercontent.com/Raphtory/Data/main/lotr.csv\"\n",
    "url_lotr_properties_csv = \"https://raw.githubusercontent.com/Raphtory/Data/main/lotr_properties.csv\"\n",
    "\n",
    "response_lotr_csv = requests.get(url_lotr_csv)\n",
    "response_lotr_properties_csv = requests.get(url_lotr_properties_csv)\n",
    "structure_file = \"/tmp/lotr.csv\"\n",
    "properties_file = \"/tmp/lotr_properties.csv\"\n",
    "\n",
    "if response_lotr_csv.status_code == 200 and response_lotr_properties_csv.status_code == 200:\n",
    "    with open(structure_file, \"wb\") as f:\n",
    "        f.write(response_lotr_csv.content)\n",
    "    with open(properties_file, \"wb\") as f:\n",
    "        f.write(response_lotr_properties_csv.content)\n",
    "    \n",
    "    print(\"****LOTR GRAPH STRUCTURE****\")\n",
    "    with open(\"/tmp/lotr.csv\", \"r\") as f:\n",
    "        for _ in range(3):\n",
    "            print(f.readline().strip())\n",
    "\n",
    "    print(\"****LOTR GRAPH PROPERTIES****\")\n",
    "    with open(\"/tmp/lotr_properties.csv\", \"r\") as f:\n",
    "        for _ in range(3):\n",
    "            print(f.readline().strip())\n",
    "else:\n",
    "    print(\"Failed to download data.\")\n"
   ]
  },
  {
   "cell_type": "markdown",
   "metadata": {},
   "source": [
    "## Importing Raphtory and supporting libraries\n",
    "Now that we have our data we can sort out our imports and create the Raphtory `Graph` which we will ingest it into.\n",
    "\n",
    "The imports are for parsing CSV files, accessing pandas dataframes, and bringing in all the Raphtory classes we will use in the tutorial."
   ]
  },
  {
   "cell_type": "code",
   "execution_count": 3,
   "metadata": {
    "tags": []
   },
   "outputs": [],
   "source": [
    "import csv\n",
    "import pandas as pd\n",
    "import matplotlib.pyplot as plt\n",
    "\n",
    "from raphtory import Graph\n",
    "from raphtory import algorithms as algos\n",
    "\n",
    "graph = Graph()"
   ]
  },
  {
   "cell_type": "markdown",
   "metadata": {},
   "source": [
    "## Adding data directly into the Graph\n",
    "\n",
    "The simplest way to add data into a graph is to directly call the `add_vertex` and `add_edge` functions, which we saw in the quick start guide. These have required arguments defining the time the addition occurred and an identifier for the entity being updated. These functions, however, have several optional arguments allowing us to add `properties` and `layers` on top of the base structure. You can see full explainations of these within the [Graph API documentation](https://docs.raphtory.com/en/master/api/raphtory.html#raphtory.Graph) \n",
    "\n",
    "Lets take a look at this with our example data. In the below code we are opening The Lord of The Rings structural data via the csv reader and looping through each line. \n",
    "\n",
    "To insert the data we:\n",
    "\n",
    "* Extract the two characters names, referring to them as the `source_node` and `destination_node`.\n",
    "* Extract the sentence number, referring to is as `timestamp`. This is then cast to an `int` as `epoch` timestamps in Raphtory must be a number.\n",
    "* Call `add_vertex` for both nodes, setting their type to `Character`.\n",
    "* Create an edge between them via `add_edge` and labelling this a `Co-occurence`."
   ]
  },
  {
   "cell_type": "code",
   "execution_count": 4,
   "metadata": {
    "tags": []
   },
   "outputs": [],
   "source": [
    "with open(structure_file, 'r') as csvfile:\n",
    "    datareader = csv.reader(csvfile)\n",
    "    for row in datareader:\n",
    "\n",
    "        source_node = row[0]\n",
    "        destination_node = row[1]\n",
    "        timestamp = int(row[2])\n",
    "        \n",
    "        graph.add_vertex(timestamp=timestamp, id=source_node, properties={\"vertex_type\": \"Character\"})\n",
    "        graph.add_vertex(timestamp=timestamp, id=destination_node, properties={\"vertex_type\": \"Character\"})  \n",
    "        graph.add_edge(timestamp, source_node, destination_node, layer=\"Character_Co-occurence\")"
   ]
  },
  {
   "cell_type": "markdown",
   "metadata": {},
   "source": [
    "## Let's see if the data has ingested\n",
    "\n",
    "To do this we can run a query on our graph. As Raphtory allows us to explore the network's history, lets add a bit of this in as well. \n",
    "\n",
    "Below we check the earliest timestamp and latest timestamp in the data and see how many vertices and edges there are. "
   ]
  },
  {
   "cell_type": "code",
   "execution_count": 5,
   "metadata": {
    "tags": []
   },
   "outputs": [
    {
     "name": "stdout",
     "output_type": "stream",
     "text": [
      "Earliest time: 33\n",
      "Latest time: 32674\n",
      "Number of vertices: 139\n",
      "Number of edges: 701\n"
     ]
    }
   ],
   "source": [
    "print(\"Earliest time: %i\" % graph.earliest_time())\n",
    "print(\"Latest time: %i\" % graph.latest_time())\n",
    "\n",
    "print(\"Number of vertices: %i\" % graph.num_vertices())\n",
    "print(\"Number of edges: %i\" % graph.num_edges())"
   ]
  },
  {
   "cell_type": "markdown",
   "metadata": {},
   "source": [
    "We can also access a specific vertex, such as `Gandalf`, and see his degree at different points in time using the `at()` function. \n",
    "\n",
    "In the first call, we get the entire graph at time 1000, and then check the degree of gandalf. \n",
    "\n",
    "In the second call, we get the vertex gandalf, get their instance at time 10,000 and the degree. \n",
    "\n",
    "Note: `at()` can be called on the graph OR the vertex - this is the same for all `view` functions which you will see more of later in the tutorials."
   ]
  },
  {
   "cell_type": "code",
   "execution_count": 6,
   "metadata": {},
   "outputs": [
    {
     "name": "stdout",
     "output_type": "stream",
     "text": [
      "Gandalf's degree at 1000: 4\n",
      "Gandalf's degree at 10,000: 26\n"
     ]
    }
   ],
   "source": [
    "print(\"Gandalf's degree at 1000: %i\" % graph.at(1000).vertex(\"Gandalf\").degree())\n",
    "\n",
    "print(\"Gandalf's degree at 10,000: %i\" % graph.vertex(\"Gandalf\").at(10000).degree())"
   ]
  },
  {
   "cell_type": "markdown",
   "metadata": {},
   "source": [
    "## Updating graphs, merging datasets and adding properties\n",
    "\n",
    "One cool thing about Raphtory is that we can freely insert new information at any point in time and it will be automatically inserted in chronological order. This makes it really easy to merge datasets or ingest out of order data. \n",
    "\n",
    "A property on a vertex or edge can be either temporal or constant. \n",
    "\n",
    "* Constant properties, do not change and are fixed throughout the life of the graph, e.g. the `name` property. \n",
    "* Temporal properties can change over time, e.g. `balance` of a bank account. \n",
    "\n",
    "All property objects require the user to specify a name and value.\n",
    "\n",
    "To explore this and to add some properties to our graph, lets load our second dataset!\n",
    "\n",
    "Below we are opening our property file the same way as the structure file. This data does not have a time element, so we can add the values as constant properties. This means they will be available at every point in time and the values will stay the same. \n",
    "\n",
    "Now it's worthwhile noting that we aren't calling a function called `update_vertex` or something similar, even though we know the vertex exists. This is because everything is considered an addition into the history and Raphtory sorts all the ordering internally!"
   ]
  },
  {
   "cell_type": "code",
   "execution_count": 7,
   "metadata": {
    "tags": []
   },
   "outputs": [],
   "source": [
    "with open(properties_file, 'r') as csvfile:\n",
    "    datareader = csv.reader(csvfile)\n",
    "    for row in datareader:\n",
    "        graph.add_vertex_properties(row[0], {\"race\": row[1],\"gender\": row[2]})\n"
   ]
  },
  {
   "cell_type": "markdown",
   "metadata": {},
   "source": [
    "## Using our properties as part of a query\n",
    "To see if our new properties are included in the graph we can write a new query! Lets have a look at the dwarves who have the most interactions.\n",
    "\n",
    "To do this we first get the vertices within the graph and check which ones are `dwarves` by getting their property value for `race`. Next we get the edges of each dwarf and call the `explode()` function, which expands the `temporal edges` (storing all updates) into individual edges, one per update. E.g. if Gimli and Balin met four times, in the graph they have one edge between them, but if we explode this edge, we can see each time they met.  \n",
    "\n",
    "Finally, we can sort the data within a pandas dataframe to see **Gimli** has by far the most!"
   ]
  },
  {
   "cell_type": "code",
   "execution_count": 8,
   "metadata": {},
   "outputs": [
    {
     "data": {
      "text/html": [
       "<div>\n",
       "<style scoped>\n",
       "    .dataframe tbody tr th:only-of-type {\n",
       "        vertical-align: middle;\n",
       "    }\n",
       "\n",
       "    .dataframe tbody tr th {\n",
       "        vertical-align: top;\n",
       "    }\n",
       "\n",
       "    .dataframe thead th {\n",
       "        text-align: right;\n",
       "    }\n",
       "</style>\n",
       "<table border=\"1\" class=\"dataframe\">\n",
       "  <thead>\n",
       "    <tr style=\"text-align: right;\">\n",
       "      <th></th>\n",
       "      <th>timestamp</th>\n",
       "      <th>name</th>\n",
       "      <th>interactions</th>\n",
       "    </tr>\n",
       "  </thead>\n",
       "  <tbody>\n",
       "    <tr>\n",
       "      <th>3</th>\n",
       "      <td>31247</td>\n",
       "      <td>Gimli</td>\n",
       "      <td>185</td>\n",
       "    </tr>\n",
       "    <tr>\n",
       "      <th>1</th>\n",
       "      <td>31129</td>\n",
       "      <td>Glóin</td>\n",
       "      <td>31</td>\n",
       "    </tr>\n",
       "    <tr>\n",
       "      <th>2</th>\n",
       "      <td>10938</td>\n",
       "      <td>Balin</td>\n",
       "      <td>14</td>\n",
       "    </tr>\n",
       "    <tr>\n",
       "      <th>0</th>\n",
       "      <td>9605</td>\n",
       "      <td>Thorin</td>\n",
       "      <td>5</td>\n",
       "    </tr>\n",
       "  </tbody>\n",
       "</table>\n",
       "</div>"
      ],
      "text/plain": [
       "   timestamp    name  interactions\n",
       "3      31247   Gimli           185\n",
       "1      31129   Glóin            31\n",
       "2      10938   Balin            14\n",
       "0       9605  Thorin             5"
      ]
     },
     "execution_count": 8,
     "metadata": {},
     "output_type": "execute_result"
    }
   ],
   "source": [
    "result = []\n",
    "\n",
    "for vertex in graph.vertices():\n",
    "    if vertex.properties.get(\"race\") == \"dwarf\":\n",
    "        interactions = len(vertex.edges().explode())\n",
    "        latest = vertex.latest_time()\n",
    "        result.append({\"timestamp\": latest, \"name\": vertex.name(), \"interactions\": interactions})\n",
    "\n",
    "pd.DataFrame(result).sort_values(by=\"interactions\",ascending=False)"
   ]
  },
  {
   "cell_type": "markdown",
   "metadata": {},
   "source": [
    "## Running built in algorithms\n",
    "\n",
    "As the final step within this tutorial, we can explore some of Raphtory's built in algorithms. We have implemented many of the standard algorithms you may expect within a graph library, such as `Connected Components` and `PageRank`, but Raphtory also has several temporal algorithms such as `Temporal Reachability` and `Temporal Motifs`. You can check out the full available list [here](https://docs.raphtory.com/en/master/api/raphtory.html#module-raphtory.algorithms) and edit the code below to test them all.\n",
    "\n",
    "For this demonstration we shall focus just on `PageRank` and look at how Gandaf's importance changes over the history of our graph by splitting the network into 1000 sentence snapshots and running the algorithm on each one.\n",
    "\n",
    "To do this we first define a `rolling window` over the graph which will create an iterator of `windowed graphs` which only include nodes and edges updated within their window period (1000 sentences).  Before looping through these we can grab the first two snapshots to look at how the `start` and `end` of their windows line up.  \n",
    "\n",
    "All algorithms in Raphtory return a [AlgorithmResult](https://docs.raphtory.com/en/master/api/raphtory.html#raphtory.AlgorithmResultStrU64) which has functions for sorting, grouping, top_k and convertion to dataframes. In the code below we use this API to extract Gandalfs score for each 1000 sentances and record it alongside the earliest timestamp in the window, which can the be plotted via matplotlib.\n",
    "\n"
   ]
  },
  {
   "cell_type": "code",
   "execution_count": 19,
   "metadata": {},
   "outputs": [
    {
     "name": "stdout",
     "output_type": "stream",
     "text": [
      "The first windowed graph contains updates between 33 and 1033\n",
      "The second windowed graph contains updates between 1033 and 2033\n"
     ]
    },
    {
     "data": {
      "image/png": "[encoded data removed]",
      "text/plain": [
       "<Figure size 640x480 with 1 Axes>"
      ]
     },
     "metadata": {},
     "output_type": "display_data"
    }
   ],
   "source": [
    "importance = []\n",
    "time = []\n",
    "snapshots = graph.rolling(window=1000)\n",
    "example_windowed_graph_1=list(snapshots)[0]\n",
    "example_windowed_graph_2=list(snapshots)[1]\n",
    "print(\"The first windowed graph contains updates between\",example_windowed_graph.start(),\"and\",example_windowed_graph.end())\n",
    "print(\"The second windowed graph contains updates between\",example_windowed_graph_2.start(),\"and\",example_windowed_graph_2.end())\n",
    "\n",
    "for windowed_graph in snapshots:\n",
    "    result =algos.pagerank(windowed_graph)\n",
    "    importance.append(result.get(\"Gandalf\"))\n",
    "    time.append(windowed_graph.earliest_time())\n",
    "\n",
    "plt.plot(time, importance, marker='o')\n",
    "plt.xlabel('Time')\n",
    "plt.ylabel('Pagerank Score')\n",
    "plt.title(\"Gandalf's importance over time\")\n",
    "plt.grid(True)\n",
    "plt.show()    "
   ]
  }
 ],
 "metadata": {
  "kernelspec": {
   "display_name": "Python 3 (ipykernel)",
   "language": "python",
   "name": "python3"
  },
  "language_info": {
   "codemirror_mode": {
    "name": "ipython",
    "version": 3
   },
   "file_extension": ".py",
   "mimetype": "text/x-python",
   "name": "python",
   "nbconvert_exporter": "python",
   "pygments_lexer": "ipython3",
   "version": "3.10.9"
  },
  "vscode": {
   "interpreter": {
    "hash": "a9a34730827747ae273d5a5e0748f342e2039a3997e32d9a086d01739bd0f055"
   }
  }
 },
 "nbformat": 4,
 "nbformat_minor": 4
}
