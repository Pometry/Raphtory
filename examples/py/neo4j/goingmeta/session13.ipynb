{
 "cells": [
  {
   "cell_type": "code",
   "execution_count": 26,
   "metadata": {},
   "outputs": [],
   "source": [
    "from raphtory import Graph\n",
    "import random\n",
    "from datetime import datetime, timedelta\n",
    "import altair as alt\n",
    "import pandas as pd\n"
   ]
  },
  {
   "cell_type": "code",
   "execution_count": 27,
   "metadata": {},
   "outputs": [],
   "source": [
    "device_graph = Graph()"
   ]
  },
  {
   "cell_type": "code",
   "execution_count": 28,
   "metadata": {},
   "outputs": [
    {
     "data": {
      "text/plain": [
       "Graph(number_of_edges=58, number_of_vertices=15, earliest_time=1577836800000, latest_time=1577836800000)"
      ]
     },
     "execution_count": 28,
     "metadata": {},
     "output_type": "execute_result"
    }
   ],
   "source": [
    "# Start and end dates\n",
    "start_date = datetime(2020, 1, 1)\n",
    "end_date = datetime(2021, 1, 1)\n",
    "start_str = start_date.strftime(\"%Y-%m-%d %H:%M:%S\")\n",
    "\n",
    "with open(\"data/devices.csv\", 'r') as device_file:\n",
    "    next(device_file) # skip the header\n",
    "    for device in device_file:\n",
    "        #extract all of the information\n",
    "        device = device.split(\",\")\n",
    "        neId = device[0]\n",
    "        code = device[1]\n",
    "        name = device[2]\n",
    "        lat = float(device[3])\n",
    "        long = float(device[4])\n",
    "        #build the properties as a dictionary\n",
    "        properties = {\"code\":code,\"name\":name,\"lat\":lat,\"long\":long}\n",
    "        #Adding the vertex at the start of the time period\n",
    "        device_graph.add_vertex(timestamp=start_str,id=neId)\n",
    "        #As the properties currently never change add them as 'static' so they are accessible at any time\n",
    "        device_graph.add_vertex_properties(id=neId,properties=properties)\n",
    "\n",
    "\n",
    "with open(\"data/links.csv\", 'r') as links_file:\n",
    "    next(links_file) # skip the header\n",
    "    for link in links_file:\n",
    "        #extract all of the information\n",
    "        link = link.split(\",\")\n",
    "        src=link[0]\n",
    "        dst=link[1]\n",
    "        link_id=link[2]\n",
    "        capacity=int(link[3])\n",
    "        #build the properties as a dictionary\n",
    "        properties = {\"link_id\":link_id,\"capacity\":capacity}\n",
    "        #Adding the edge at the start of the time period - add it both ways\n",
    "        device_graph.add_edge(timestamp=start_str,src=src,dst=dst) \n",
    "        device_graph.add_edge(timestamp=start_str,src=dst,dst=src) \n",
    "        #As the properties currently never change add them as 'static' so they are accessible at any time\n",
    "        device_graph.add_edge_properties(src=src,dst=dst,properties=properties)\n",
    "        device_graph.add_edge_properties(src=dst,dst=src,properties=properties)\n",
    "\n",
    "device_graph"
   ]
  },
  {
   "cell_type": "code",
   "execution_count": 29,
   "metadata": {},
   "outputs": [],
   "source": [
    "#available links for traffic to travel down\n",
    "known_links = list(device_graph.edges())\n",
    "# Generate traffic on random links - 10 per minute over the sample period\n",
    "current_date = start_date\n",
    "while current_date < end_date:\n",
    "    time = current_date.strftime(\"%Y-%m-%d %H:%M:%S\")\n",
    "    for edge in random.sample(known_links,10):\n",
    "        # add the randomly generated traffic to the edge at the current_time\n",
    "        traffic = {\"traffic\":random.randint(1, 80)}\n",
    "        device_graph.add_edge(time,edge.src().id(),edge.dst().id(),traffic)\n",
    "    \n",
    "    # Increment the time by 1 minute\n",
    "    current_date += timedelta(minutes=1)"
   ]
  },
  {
   "cell_type": "code",
   "execution_count": 30,
   "metadata": {},
   "outputs": [
    {
     "data": {
      "text/html": [
       "\n",
       "<div id=\"altair-viz-03607789271249e3a1dc56e307e6e115\"></div>\n",
       "<script type=\"text/javascript\">\n",
       "  var VEGA_DEBUG = (typeof VEGA_DEBUG == \"undefined\") ? {} : VEGA_DEBUG;\n",
       "  (function(spec, embedOpt){\n",
       "    let outputDiv = document.currentScript.previousElementSibling;\n",
       "    if (outputDiv.id !== \"altair-viz-03607789271249e3a1dc56e307e6e115\") {\n",
       "      outputDiv = document.getElementById(\"altair-viz-03607789271249e3a1dc56e307e6e115\");\n",
       "    }\n",
       "    const paths = {\n",
       "      \"vega\": \"https://cdn.jsdelivr.net/npm//vega@5?noext\",\n",
       "      \"vega-lib\": \"https://cdn.jsdelivr.net/npm//vega-lib?noext\",\n",
       "      \"vega-lite\": \"https://cdn.jsdelivr.net/npm//vega-lite@4.17.0?noext\",\n",
       "      \"vega-embed\": \"https://cdn.jsdelivr.net/npm//vega-embed@6?noext\",\n",
       "    };\n",
       "\n",
       "    function maybeLoadScript(lib, version) {\n",
       "      var key = `${lib.replace(\"-\", \"\")}_version`;\n",
       "      return (VEGA_DEBUG[key] == version) ?\n",
       "        Promise.resolve(paths[lib]) :\n",
       "        new Promise(function(resolve, reject) {\n",
       "          var s = document.createElement('script');\n",
       "          document.getElementsByTagName(\"head\")[0].appendChild(s);\n",
       "          s.async = true;\n",
       "          s.onload = () => {\n",
       "            VEGA_DEBUG[key] = version;\n",
       "            return resolve(paths[lib]);\n",
       "          };\n",
       "          s.onerror = () => reject(`Error loading script: ${paths[lib]}`);\n",
       "          s.src = paths[lib];\n",
       "        });\n",
       "    }\n",
       "\n",
       "    function showError(err) {\n",
       "      outputDiv.innerHTML = `<div class=\"error\" style=\"color:red;\">${err}</div>`;\n",
       "      throw err;\n",
       "    }\n",
       "\n",
       "    function displayChart(vegaEmbed) {\n",
       "      vegaEmbed(outputDiv, spec, embedOpt)\n",
       "        .catch(err => showError(`Javascript Error: ${err.message}<br>This usually means there's a typo in your chart specification. See the javascript console for the full traceback.`));\n",
       "    }\n",
       "\n",
       "    if(typeof define === \"function\" && define.amd) {\n",
       "      requirejs.config({paths});\n",
       "      require([\"vega-embed\"], displayChart, err => showError(`Error loading script: ${err.message}`));\n",
       "    } else {\n",
       "      maybeLoadScript(\"vega\", \"5\")\n",
       "        .then(() => maybeLoadScript(\"vega-lite\", \"4.17.0\"))\n",
       "        .then(() => maybeLoadScript(\"vega-embed\", \"6\"))\n",
       "        .catch(showError)\n",
       "        .then(() => displayChart(vegaEmbed));\n",
       "    }\n",
       "  })({\"config\": {\"view\": {\"continuousWidth\": 400, \"continuousHeight\": 300}}, \"layer\": [{\"data\": {\"name\": \"data-63897bc23a799642ab05d575a1a3b50c\"}, \"mark\": \"line\", \"encoding\": {\"x\": {\"field\": \"Time\", \"type\": \"temporal\"}, \"y\": {\"field\": \"Traffic Sent (MB)\", \"type\": \"quantitative\"}}, \"width\": 800}, {\"data\": {\"name\": \"data-3dbef05335d08111b543db0c09b1669b\"}, \"mark\": {\"type\": \"rule\", \"color\": \"red\", \"strokeDash\": [3, 3], \"strokeWidth\": 3}, \"encoding\": {\"y\": {\"field\": \"capacity\", \"type\": \"quantitative\"}}}], \"$schema\": \"https://vega.github.io/schema/vega-lite/v4.17.0.json\", \"datasets\": {\"data-63897bc23a799642ab05d575a1a3b50c\": [{\"Traffic Sent (MB)\": 9053, \"Time\": \"2020-01-02T00:00:00\"}, {\"Traffic Sent (MB)\": 9960, \"Time\": \"2020-01-03T00:00:00\"}, {\"Traffic Sent (MB)\": 10583, \"Time\": \"2020-01-04T00:00:00\"}, {\"Traffic Sent (MB)\": 9808, \"Time\": \"2020-01-05T00:00:00\"}, {\"Traffic Sent (MB)\": 9173, \"Time\": \"2020-01-06T00:00:00\"}, {\"Traffic Sent (MB)\": 10169, \"Time\": \"2020-01-07T00:00:00\"}, {\"Traffic Sent (MB)\": 10110, \"Time\": \"2020-01-08T00:00:00\"}, {\"Traffic Sent (MB)\": 10510, \"Time\": \"2020-01-09T00:00:00\"}, {\"Traffic Sent (MB)\": 9815, \"Time\": \"2020-01-10T00:00:00\"}, {\"Traffic Sent (MB)\": 11145, \"Time\": \"2020-01-11T00:00:00\"}, {\"Traffic Sent (MB)\": 10325, \"Time\": \"2020-01-12T00:00:00\"}, {\"Traffic Sent (MB)\": 10015, \"Time\": \"2020-01-13T00:00:00\"}, {\"Traffic Sent (MB)\": 11033, \"Time\": \"2020-01-14T00:00:00\"}, {\"Traffic Sent (MB)\": 9946, \"Time\": \"2020-01-15T00:00:00\"}, {\"Traffic Sent (MB)\": 10575, \"Time\": \"2020-01-16T00:00:00\"}, {\"Traffic Sent (MB)\": 10514, \"Time\": \"2020-01-17T00:00:00\"}, {\"Traffic Sent (MB)\": 9458, \"Time\": \"2020-01-18T00:00:00\"}, {\"Traffic Sent (MB)\": 10742, \"Time\": \"2020-01-19T00:00:00\"}, {\"Traffic Sent (MB)\": 8050, \"Time\": \"2020-01-20T00:00:00\"}, {\"Traffic Sent (MB)\": 10354, \"Time\": \"2020-01-21T00:00:00\"}, {\"Traffic Sent (MB)\": 10904, \"Time\": \"2020-01-22T00:00:00\"}, {\"Traffic Sent (MB)\": 11202, \"Time\": \"2020-01-23T00:00:00\"}, {\"Traffic Sent (MB)\": 8858, \"Time\": \"2020-01-24T00:00:00\"}, {\"Traffic Sent (MB)\": 10196, \"Time\": \"2020-01-25T00:00:00\"}, {\"Traffic Sent (MB)\": 10397, \"Time\": \"2020-01-26T00:00:00\"}, {\"Traffic Sent (MB)\": 10792, \"Time\": \"2020-01-27T00:00:00\"}, {\"Traffic Sent (MB)\": 9916, \"Time\": \"2020-01-28T00:00:00\"}, {\"Traffic Sent (MB)\": 10051, \"Time\": \"2020-01-29T00:00:00\"}, {\"Traffic Sent (MB)\": 9475, \"Time\": \"2020-01-30T00:00:00\"}, {\"Traffic Sent (MB)\": 10669, \"Time\": \"2020-01-31T00:00:00\"}, {\"Traffic Sent (MB)\": 9426, \"Time\": \"2020-02-01T00:00:00\"}, {\"Traffic Sent (MB)\": 10106, \"Time\": \"2020-02-02T00:00:00\"}, {\"Traffic Sent (MB)\": 9767, \"Time\": \"2020-02-03T00:00:00\"}, {\"Traffic Sent (MB)\": 9819, \"Time\": \"2020-02-04T00:00:00\"}, {\"Traffic Sent (MB)\": 10696, \"Time\": \"2020-02-05T00:00:00\"}, {\"Traffic Sent (MB)\": 9297, \"Time\": \"2020-02-06T00:00:00\"}, {\"Traffic Sent (MB)\": 10681, \"Time\": \"2020-02-07T00:00:00\"}, {\"Traffic Sent (MB)\": 11424, \"Time\": \"2020-02-08T00:00:00\"}, {\"Traffic Sent (MB)\": 9005, \"Time\": \"2020-02-09T00:00:00\"}, {\"Traffic Sent (MB)\": 10050, \"Time\": \"2020-02-10T00:00:00\"}, {\"Traffic Sent (MB)\": 9347, \"Time\": \"2020-02-11T00:00:00\"}, {\"Traffic Sent (MB)\": 10267, \"Time\": \"2020-02-12T00:00:00\"}, {\"Traffic Sent (MB)\": 10467, \"Time\": \"2020-02-13T00:00:00\"}, {\"Traffic Sent (MB)\": 11388, \"Time\": \"2020-02-14T00:00:00\"}, {\"Traffic Sent (MB)\": 10232, \"Time\": \"2020-02-15T00:00:00\"}, {\"Traffic Sent (MB)\": 10159, \"Time\": \"2020-02-16T00:00:00\"}, {\"Traffic Sent (MB)\": 10475, \"Time\": \"2020-02-17T00:00:00\"}, {\"Traffic Sent (MB)\": 9460, \"Time\": \"2020-02-18T00:00:00\"}, {\"Traffic Sent (MB)\": 9043, \"Time\": \"2020-02-19T00:00:00\"}, {\"Traffic Sent (MB)\": 10519, \"Time\": \"2020-02-20T00:00:00\"}, {\"Traffic Sent (MB)\": 10806, \"Time\": \"2020-02-21T00:00:00\"}, {\"Traffic Sent (MB)\": 9895, \"Time\": \"2020-02-22T00:00:00\"}, {\"Traffic Sent (MB)\": 9825, \"Time\": \"2020-02-23T00:00:00\"}, {\"Traffic Sent (MB)\": 11221, \"Time\": \"2020-02-24T00:00:00\"}, {\"Traffic Sent (MB)\": 9121, \"Time\": \"2020-02-25T00:00:00\"}, {\"Traffic Sent (MB)\": 9685, \"Time\": \"2020-02-26T00:00:00\"}, {\"Traffic Sent (MB)\": 10129, \"Time\": \"2020-02-27T00:00:00\"}, {\"Traffic Sent (MB)\": 10250, \"Time\": \"2020-02-28T00:00:00\"}, {\"Traffic Sent (MB)\": 9975, \"Time\": \"2020-02-29T00:00:00\"}, {\"Traffic Sent (MB)\": 9660, \"Time\": \"2020-03-01T00:00:00\"}, {\"Traffic Sent (MB)\": 10058, \"Time\": \"2020-03-02T00:00:00\"}, {\"Traffic Sent (MB)\": 11960, \"Time\": \"2020-03-03T00:00:00\"}, {\"Traffic Sent (MB)\": 9562, \"Time\": \"2020-03-04T00:00:00\"}, {\"Traffic Sent (MB)\": 9969, \"Time\": \"2020-03-05T00:00:00\"}, {\"Traffic Sent (MB)\": 10063, \"Time\": \"2020-03-06T00:00:00\"}, {\"Traffic Sent (MB)\": 9742, \"Time\": \"2020-03-07T00:00:00\"}, {\"Traffic Sent (MB)\": 9243, \"Time\": \"2020-03-08T00:00:00\"}, {\"Traffic Sent (MB)\": 8735, \"Time\": \"2020-03-09T00:00:00\"}, {\"Traffic Sent (MB)\": 10354, \"Time\": \"2020-03-10T00:00:00\"}, {\"Traffic Sent (MB)\": 10807, \"Time\": \"2020-03-11T00:00:00\"}, {\"Traffic Sent (MB)\": 10207, \"Time\": \"2020-03-12T00:00:00\"}, {\"Traffic Sent (MB)\": 8969, \"Time\": \"2020-03-13T00:00:00\"}, {\"Traffic Sent (MB)\": 9991, \"Time\": \"2020-03-14T00:00:00\"}, {\"Traffic Sent (MB)\": 10657, \"Time\": \"2020-03-15T00:00:00\"}, {\"Traffic Sent (MB)\": 10494, \"Time\": \"2020-03-16T00:00:00\"}, {\"Traffic Sent (MB)\": 10122, \"Time\": \"2020-03-17T00:00:00\"}, {\"Traffic Sent (MB)\": 10857, \"Time\": \"2020-03-18T00:00:00\"}, {\"Traffic Sent (MB)\": 11074, \"Time\": \"2020-03-19T00:00:00\"}, {\"Traffic Sent (MB)\": 10167, \"Time\": \"2020-03-20T00:00:00\"}, {\"Traffic Sent (MB)\": 10936, \"Time\": \"2020-03-21T00:00:00\"}, {\"Traffic Sent (MB)\": 10077, \"Time\": \"2020-03-22T00:00:00\"}, {\"Traffic Sent (MB)\": 10080, \"Time\": \"2020-03-23T00:00:00\"}, {\"Traffic Sent (MB)\": 8063, \"Time\": \"2020-03-24T00:00:00\"}, {\"Traffic Sent (MB)\": 11111, \"Time\": \"2020-03-25T00:00:00\"}, {\"Traffic Sent (MB)\": 9637, \"Time\": \"2020-03-26T00:00:00\"}, {\"Traffic Sent (MB)\": 10543, \"Time\": \"2020-03-27T00:00:00\"}, {\"Traffic Sent (MB)\": 10752, \"Time\": \"2020-03-28T00:00:00\"}, {\"Traffic Sent (MB)\": 11459, \"Time\": \"2020-03-29T00:00:00\"}, {\"Traffic Sent (MB)\": 9847, \"Time\": \"2020-03-30T00:00:00\"}, {\"Traffic Sent (MB)\": 9322, \"Time\": \"2020-03-31T00:00:00\"}, {\"Traffic Sent (MB)\": 10110, \"Time\": \"2020-04-01T00:00:00\"}, {\"Traffic Sent (MB)\": 9823, \"Time\": \"2020-04-02T00:00:00\"}, {\"Traffic Sent (MB)\": 11198, \"Time\": \"2020-04-03T00:00:00\"}, {\"Traffic Sent (MB)\": 9086, \"Time\": \"2020-04-04T00:00:00\"}, {\"Traffic Sent (MB)\": 9151, \"Time\": \"2020-04-05T00:00:00\"}, {\"Traffic Sent (MB)\": 9544, \"Time\": \"2020-04-06T00:00:00\"}, {\"Traffic Sent (MB)\": 9462, \"Time\": \"2020-04-07T00:00:00\"}, {\"Traffic Sent (MB)\": 10187, \"Time\": \"2020-04-08T00:00:00\"}, {\"Traffic Sent (MB)\": 10944, \"Time\": \"2020-04-09T00:00:00\"}, {\"Traffic Sent (MB)\": 10223, \"Time\": \"2020-04-10T00:00:00\"}, {\"Traffic Sent (MB)\": 9577, \"Time\": \"2020-04-11T00:00:00\"}, {\"Traffic Sent (MB)\": 10154, \"Time\": \"2020-04-12T00:00:00\"}, {\"Traffic Sent (MB)\": 10062, \"Time\": \"2020-04-13T00:00:00\"}, {\"Traffic Sent (MB)\": 11592, \"Time\": \"2020-04-14T00:00:00\"}, {\"Traffic Sent (MB)\": 9597, \"Time\": \"2020-04-15T00:00:00\"}, {\"Traffic Sent (MB)\": 8978, \"Time\": \"2020-04-16T00:00:00\"}, {\"Traffic Sent (MB)\": 10124, \"Time\": \"2020-04-17T00:00:00\"}, {\"Traffic Sent (MB)\": 10887, \"Time\": \"2020-04-18T00:00:00\"}, {\"Traffic Sent (MB)\": 10818, \"Time\": \"2020-04-19T00:00:00\"}, {\"Traffic Sent (MB)\": 9188, \"Time\": \"2020-04-20T00:00:00\"}, {\"Traffic Sent (MB)\": 9170, \"Time\": \"2020-04-21T00:00:00\"}, {\"Traffic Sent (MB)\": 10223, \"Time\": \"2020-04-22T00:00:00\"}, {\"Traffic Sent (MB)\": 11211, \"Time\": \"2020-04-23T00:00:00\"}, {\"Traffic Sent (MB)\": 10694, \"Time\": \"2020-04-24T00:00:00\"}, {\"Traffic Sent (MB)\": 10266, \"Time\": \"2020-04-25T00:00:00\"}, {\"Traffic Sent (MB)\": 9474, \"Time\": \"2020-04-26T00:00:00\"}, {\"Traffic Sent (MB)\": 10836, \"Time\": \"2020-04-27T00:00:00\"}, {\"Traffic Sent (MB)\": 8905, \"Time\": \"2020-04-28T00:00:00\"}, {\"Traffic Sent (MB)\": 10652, \"Time\": \"2020-04-29T00:00:00\"}, {\"Traffic Sent (MB)\": 11511, \"Time\": \"2020-04-30T00:00:00\"}, {\"Traffic Sent (MB)\": 9627, \"Time\": \"2020-05-01T00:00:00\"}, {\"Traffic Sent (MB)\": 11313, \"Time\": \"2020-05-02T00:00:00\"}, {\"Traffic Sent (MB)\": 10966, \"Time\": \"2020-05-03T00:00:00\"}, {\"Traffic Sent (MB)\": 10346, \"Time\": \"2020-05-04T00:00:00\"}, {\"Traffic Sent (MB)\": 10346, \"Time\": \"2020-05-05T00:00:00\"}, {\"Traffic Sent (MB)\": 8532, \"Time\": \"2020-05-06T00:00:00\"}, {\"Traffic Sent (MB)\": 10464, \"Time\": \"2020-05-07T00:00:00\"}, {\"Traffic Sent (MB)\": 9917, \"Time\": \"2020-05-08T00:00:00\"}, {\"Traffic Sent (MB)\": 9414, \"Time\": \"2020-05-09T00:00:00\"}, {\"Traffic Sent (MB)\": 10680, \"Time\": \"2020-05-10T00:00:00\"}, {\"Traffic Sent (MB)\": 9546, \"Time\": \"2020-05-11T00:00:00\"}, {\"Traffic Sent (MB)\": 9680, \"Time\": \"2020-05-12T00:00:00\"}, {\"Traffic Sent (MB)\": 10255, \"Time\": \"2020-05-13T00:00:00\"}, {\"Traffic Sent (MB)\": 10725, \"Time\": \"2020-05-14T00:00:00\"}, {\"Traffic Sent (MB)\": 9792, \"Time\": \"2020-05-15T00:00:00\"}, {\"Traffic Sent (MB)\": 9405, \"Time\": \"2020-05-16T00:00:00\"}, {\"Traffic Sent (MB)\": 9672, \"Time\": \"2020-05-17T00:00:00\"}, {\"Traffic Sent (MB)\": 10427, \"Time\": \"2020-05-18T00:00:00\"}, {\"Traffic Sent (MB)\": 11406, \"Time\": \"2020-05-19T00:00:00\"}, {\"Traffic Sent (MB)\": 10593, \"Time\": \"2020-05-20T00:00:00\"}, {\"Traffic Sent (MB)\": 9245, \"Time\": \"2020-05-21T00:00:00\"}, {\"Traffic Sent (MB)\": 9565, \"Time\": \"2020-05-22T00:00:00\"}, {\"Traffic Sent (MB)\": 7636, \"Time\": \"2020-05-23T00:00:00\"}, {\"Traffic Sent (MB)\": 10481, \"Time\": \"2020-05-24T00:00:00\"}, {\"Traffic Sent (MB)\": 9258, \"Time\": \"2020-05-25T00:00:00\"}, {\"Traffic Sent (MB)\": 10341, \"Time\": \"2020-05-26T00:00:00\"}, {\"Traffic Sent (MB)\": 10446, \"Time\": \"2020-05-27T00:00:00\"}, {\"Traffic Sent (MB)\": 9121, \"Time\": \"2020-05-28T00:00:00\"}, {\"Traffic Sent (MB)\": 10788, \"Time\": \"2020-05-29T00:00:00\"}, {\"Traffic Sent (MB)\": 10513, \"Time\": \"2020-05-30T00:00:00\"}, {\"Traffic Sent (MB)\": 10371, \"Time\": \"2020-05-31T00:00:00\"}, {\"Traffic Sent (MB)\": 10329, \"Time\": \"2020-06-01T00:00:00\"}, {\"Traffic Sent (MB)\": 9699, \"Time\": \"2020-06-02T00:00:00\"}, {\"Traffic Sent (MB)\": 9826, \"Time\": \"2020-06-03T00:00:00\"}, {\"Traffic Sent (MB)\": 9829, \"Time\": \"2020-06-04T00:00:00\"}, {\"Traffic Sent (MB)\": 10363, \"Time\": \"2020-06-05T00:00:00\"}, {\"Traffic Sent (MB)\": 10188, \"Time\": \"2020-06-06T00:00:00\"}, {\"Traffic Sent (MB)\": 9836, \"Time\": \"2020-06-07T00:00:00\"}, {\"Traffic Sent (MB)\": 9976, \"Time\": \"2020-06-08T00:00:00\"}, {\"Traffic Sent (MB)\": 11171, \"Time\": \"2020-06-09T00:00:00\"}, {\"Traffic Sent (MB)\": 9980, \"Time\": \"2020-06-10T00:00:00\"}, {\"Traffic Sent (MB)\": 8755, \"Time\": \"2020-06-11T00:00:00\"}, {\"Traffic Sent (MB)\": 11221, \"Time\": \"2020-06-12T00:00:00\"}, {\"Traffic Sent (MB)\": 9983, \"Time\": \"2020-06-13T00:00:00\"}, {\"Traffic Sent (MB)\": 10155, \"Time\": \"2020-06-14T00:00:00\"}, {\"Traffic Sent (MB)\": 9275, \"Time\": \"2020-06-15T00:00:00\"}, {\"Traffic Sent (MB)\": 9913, \"Time\": \"2020-06-16T00:00:00\"}, {\"Traffic Sent (MB)\": 9280, \"Time\": \"2020-06-17T00:00:00\"}, {\"Traffic Sent (MB)\": 9546, \"Time\": \"2020-06-18T00:00:00\"}, {\"Traffic Sent (MB)\": 9704, \"Time\": \"2020-06-19T00:00:00\"}, {\"Traffic Sent (MB)\": 10333, \"Time\": \"2020-06-20T00:00:00\"}, {\"Traffic Sent (MB)\": 9314, \"Time\": \"2020-06-21T00:00:00\"}, {\"Traffic Sent (MB)\": 11472, \"Time\": \"2020-06-22T00:00:00\"}, {\"Traffic Sent (MB)\": 9816, \"Time\": \"2020-06-23T00:00:00\"}, {\"Traffic Sent (MB)\": 11014, \"Time\": \"2020-06-24T00:00:00\"}, {\"Traffic Sent (MB)\": 10215, \"Time\": \"2020-06-25T00:00:00\"}, {\"Traffic Sent (MB)\": 9716, \"Time\": \"2020-06-26T00:00:00\"}, {\"Traffic Sent (MB)\": 9105, \"Time\": \"2020-06-27T00:00:00\"}, {\"Traffic Sent (MB)\": 10781, \"Time\": \"2020-06-28T00:00:00\"}, {\"Traffic Sent (MB)\": 10386, \"Time\": \"2020-06-29T00:00:00\"}, {\"Traffic Sent (MB)\": 9432, \"Time\": \"2020-06-30T00:00:00\"}, {\"Traffic Sent (MB)\": 10364, \"Time\": \"2020-07-01T00:00:00\"}, {\"Traffic Sent (MB)\": 9874, \"Time\": \"2020-07-02T00:00:00\"}, {\"Traffic Sent (MB)\": 10203, \"Time\": \"2020-07-03T00:00:00\"}, {\"Traffic Sent (MB)\": 10369, \"Time\": \"2020-07-04T00:00:00\"}, {\"Traffic Sent (MB)\": 10738, \"Time\": \"2020-07-05T00:00:00\"}, {\"Traffic Sent (MB)\": 10058, \"Time\": \"2020-07-06T00:00:00\"}, {\"Traffic Sent (MB)\": 11016, \"Time\": \"2020-07-07T00:00:00\"}, {\"Traffic Sent (MB)\": 10042, \"Time\": \"2020-07-08T00:00:00\"}, {\"Traffic Sent (MB)\": 8754, \"Time\": \"2020-07-09T00:00:00\"}, {\"Traffic Sent (MB)\": 9043, \"Time\": \"2020-07-10T00:00:00\"}, {\"Traffic Sent (MB)\": 10074, \"Time\": \"2020-07-11T00:00:00\"}, {\"Traffic Sent (MB)\": 10669, \"Time\": \"2020-07-12T00:00:00\"}, {\"Traffic Sent (MB)\": 9105, \"Time\": \"2020-07-13T00:00:00\"}, {\"Traffic Sent (MB)\": 9809, \"Time\": \"2020-07-14T00:00:00\"}, {\"Traffic Sent (MB)\": 9854, \"Time\": \"2020-07-15T00:00:00\"}, {\"Traffic Sent (MB)\": 10001, \"Time\": \"2020-07-16T00:00:00\"}, {\"Traffic Sent (MB)\": 10868, \"Time\": \"2020-07-17T00:00:00\"}, {\"Traffic Sent (MB)\": 9840, \"Time\": \"2020-07-18T00:00:00\"}, {\"Traffic Sent (MB)\": 10651, \"Time\": \"2020-07-19T00:00:00\"}, {\"Traffic Sent (MB)\": 10367, \"Time\": \"2020-07-20T00:00:00\"}, {\"Traffic Sent (MB)\": 9832, \"Time\": \"2020-07-21T00:00:00\"}, {\"Traffic Sent (MB)\": 10416, \"Time\": \"2020-07-22T00:00:00\"}, {\"Traffic Sent (MB)\": 9536, \"Time\": \"2020-07-23T00:00:00\"}, {\"Traffic Sent (MB)\": 10683, \"Time\": \"2020-07-24T00:00:00\"}, {\"Traffic Sent (MB)\": 9939, \"Time\": \"2020-07-25T00:00:00\"}, {\"Traffic Sent (MB)\": 9939, \"Time\": \"2020-07-26T00:00:00\"}, {\"Traffic Sent (MB)\": 9886, \"Time\": \"2020-07-27T00:00:00\"}, {\"Traffic Sent (MB)\": 10104, \"Time\": \"2020-07-28T00:00:00\"}, {\"Traffic Sent (MB)\": 10747, \"Time\": \"2020-07-29T00:00:00\"}, {\"Traffic Sent (MB)\": 9529, \"Time\": \"2020-07-30T00:00:00\"}, {\"Traffic Sent (MB)\": 10606, \"Time\": \"2020-07-31T00:00:00\"}, {\"Traffic Sent (MB)\": 10458, \"Time\": \"2020-08-01T00:00:00\"}, {\"Traffic Sent (MB)\": 11554, \"Time\": \"2020-08-02T00:00:00\"}, {\"Traffic Sent (MB)\": 10133, \"Time\": \"2020-08-03T00:00:00\"}, {\"Traffic Sent (MB)\": 10104, \"Time\": \"2020-08-04T00:00:00\"}, {\"Traffic Sent (MB)\": 10146, \"Time\": \"2020-08-05T00:00:00\"}, {\"Traffic Sent (MB)\": 9586, \"Time\": \"2020-08-06T00:00:00\"}, {\"Traffic Sent (MB)\": 10780, \"Time\": \"2020-08-07T00:00:00\"}, {\"Traffic Sent (MB)\": 11241, \"Time\": \"2020-08-08T00:00:00\"}, {\"Traffic Sent (MB)\": 11162, \"Time\": \"2020-08-09T00:00:00\"}, {\"Traffic Sent (MB)\": 9914, \"Time\": \"2020-08-10T00:00:00\"}, {\"Traffic Sent (MB)\": 8898, \"Time\": \"2020-08-11T00:00:00\"}, {\"Traffic Sent (MB)\": 8998, \"Time\": \"2020-08-12T00:00:00\"}, {\"Traffic Sent (MB)\": 10044, \"Time\": \"2020-08-13T00:00:00\"}, {\"Traffic Sent (MB)\": 9661, \"Time\": \"2020-08-14T00:00:00\"}, {\"Traffic Sent (MB)\": 9760, \"Time\": \"2020-08-15T00:00:00\"}, {\"Traffic Sent (MB)\": 9502, \"Time\": \"2020-08-16T00:00:00\"}, {\"Traffic Sent (MB)\": 10062, \"Time\": \"2020-08-17T00:00:00\"}, {\"Traffic Sent (MB)\": 9312, \"Time\": \"2020-08-18T00:00:00\"}, {\"Traffic Sent (MB)\": 10044, \"Time\": \"2020-08-19T00:00:00\"}, {\"Traffic Sent (MB)\": 9957, \"Time\": \"2020-08-20T00:00:00\"}, {\"Traffic Sent (MB)\": 10288, \"Time\": \"2020-08-21T00:00:00\"}, {\"Traffic Sent (MB)\": 10831, \"Time\": \"2020-08-22T00:00:00\"}, {\"Traffic Sent (MB)\": 10690, \"Time\": \"2020-08-23T00:00:00\"}, {\"Traffic Sent (MB)\": 11362, \"Time\": \"2020-08-24T00:00:00\"}, {\"Traffic Sent (MB)\": 10127, \"Time\": \"2020-08-25T00:00:00\"}, {\"Traffic Sent (MB)\": 10375, \"Time\": \"2020-08-26T00:00:00\"}, {\"Traffic Sent (MB)\": 9449, \"Time\": \"2020-08-27T00:00:00\"}, {\"Traffic Sent (MB)\": 9777, \"Time\": \"2020-08-28T00:00:00\"}, {\"Traffic Sent (MB)\": 9779, \"Time\": \"2020-08-29T00:00:00\"}, {\"Traffic Sent (MB)\": 10803, \"Time\": \"2020-08-30T00:00:00\"}, {\"Traffic Sent (MB)\": 11324, \"Time\": \"2020-08-31T00:00:00\"}, {\"Traffic Sent (MB)\": 9576, \"Time\": \"2020-09-01T00:00:00\"}, {\"Traffic Sent (MB)\": 10136, \"Time\": \"2020-09-02T00:00:00\"}, {\"Traffic Sent (MB)\": 10305, \"Time\": \"2020-09-03T00:00:00\"}, {\"Traffic Sent (MB)\": 9263, \"Time\": \"2020-09-04T00:00:00\"}, {\"Traffic Sent (MB)\": 11478, \"Time\": \"2020-09-05T00:00:00\"}, {\"Traffic Sent (MB)\": 9864, \"Time\": \"2020-09-06T00:00:00\"}, {\"Traffic Sent (MB)\": 10855, \"Time\": \"2020-09-07T00:00:00\"}, {\"Traffic Sent (MB)\": 8842, \"Time\": \"2020-09-08T00:00:00\"}, {\"Traffic Sent (MB)\": 9922, \"Time\": \"2020-09-09T00:00:00\"}, {\"Traffic Sent (MB)\": 9949, \"Time\": \"2020-09-10T00:00:00\"}, {\"Traffic Sent (MB)\": 10077, \"Time\": \"2020-09-11T00:00:00\"}, {\"Traffic Sent (MB)\": 10390, \"Time\": \"2020-09-12T00:00:00\"}, {\"Traffic Sent (MB)\": 11081, \"Time\": \"2020-09-13T00:00:00\"}, {\"Traffic Sent (MB)\": 9878, \"Time\": \"2020-09-14T00:00:00\"}, {\"Traffic Sent (MB)\": 9325, \"Time\": \"2020-09-15T00:00:00\"}, {\"Traffic Sent (MB)\": 11313, \"Time\": \"2020-09-16T00:00:00\"}, {\"Traffic Sent (MB)\": 10245, \"Time\": \"2020-09-17T00:00:00\"}, {\"Traffic Sent (MB)\": 9711, \"Time\": \"2020-09-18T00:00:00\"}, {\"Traffic Sent (MB)\": 10364, \"Time\": \"2020-09-19T00:00:00\"}, {\"Traffic Sent (MB)\": 9290, \"Time\": \"2020-09-20T00:00:00\"}, {\"Traffic Sent (MB)\": 10571, \"Time\": \"2020-09-21T00:00:00\"}, {\"Traffic Sent (MB)\": 9373, \"Time\": \"2020-09-22T00:00:00\"}, {\"Traffic Sent (MB)\": 10946, \"Time\": \"2020-09-23T00:00:00\"}, {\"Traffic Sent (MB)\": 9298, \"Time\": \"2020-09-24T00:00:00\"}, {\"Traffic Sent (MB)\": 9260, \"Time\": \"2020-09-25T00:00:00\"}, {\"Traffic Sent (MB)\": 10380, \"Time\": \"2020-09-26T00:00:00\"}, {\"Traffic Sent (MB)\": 10647, \"Time\": \"2020-09-27T00:00:00\"}, {\"Traffic Sent (MB)\": 9214, \"Time\": \"2020-09-28T00:00:00\"}, {\"Traffic Sent (MB)\": 9922, \"Time\": \"2020-09-29T00:00:00\"}, {\"Traffic Sent (MB)\": 9274, \"Time\": \"2020-09-30T00:00:00\"}, {\"Traffic Sent (MB)\": 9137, \"Time\": \"2020-10-01T00:00:00\"}, {\"Traffic Sent (MB)\": 9796, \"Time\": \"2020-10-02T00:00:00\"}, {\"Traffic Sent (MB)\": 9004, \"Time\": \"2020-10-03T00:00:00\"}, {\"Traffic Sent (MB)\": 9414, \"Time\": \"2020-10-04T00:00:00\"}, {\"Traffic Sent (MB)\": 8495, \"Time\": \"2020-10-05T00:00:00\"}, {\"Traffic Sent (MB)\": 11274, \"Time\": \"2020-10-06T00:00:00\"}, {\"Traffic Sent (MB)\": 9024, \"Time\": \"2020-10-07T00:00:00\"}, {\"Traffic Sent (MB)\": 8812, \"Time\": \"2020-10-08T00:00:00\"}, {\"Traffic Sent (MB)\": 9186, \"Time\": \"2020-10-09T00:00:00\"}, {\"Traffic Sent (MB)\": 8943, \"Time\": \"2020-10-10T00:00:00\"}, {\"Traffic Sent (MB)\": 9996, \"Time\": \"2020-10-11T00:00:00\"}, {\"Traffic Sent (MB)\": 8911, \"Time\": \"2020-10-12T00:00:00\"}, {\"Traffic Sent (MB)\": 10174, \"Time\": \"2020-10-13T00:00:00\"}, {\"Traffic Sent (MB)\": 10867, \"Time\": \"2020-10-14T00:00:00\"}, {\"Traffic Sent (MB)\": 9624, \"Time\": \"2020-10-15T00:00:00\"}, {\"Traffic Sent (MB)\": 9348, \"Time\": \"2020-10-16T00:00:00\"}, {\"Traffic Sent (MB)\": 9682, \"Time\": \"2020-10-17T00:00:00\"}, {\"Traffic Sent (MB)\": 9355, \"Time\": \"2020-10-18T00:00:00\"}, {\"Traffic Sent (MB)\": 9564, \"Time\": \"2020-10-19T00:00:00\"}, {\"Traffic Sent (MB)\": 9165, \"Time\": \"2020-10-20T00:00:00\"}, {\"Traffic Sent (MB)\": 9794, \"Time\": \"2020-10-21T00:00:00\"}, {\"Traffic Sent (MB)\": 10218, \"Time\": \"2020-10-22T00:00:00\"}, {\"Traffic Sent (MB)\": 9717, \"Time\": \"2020-10-23T00:00:00\"}, {\"Traffic Sent (MB)\": 8515, \"Time\": \"2020-10-24T00:00:00\"}, {\"Traffic Sent (MB)\": 10700, \"Time\": \"2020-10-25T00:00:00\"}, {\"Traffic Sent (MB)\": 9738, \"Time\": \"2020-10-26T00:00:00\"}, {\"Traffic Sent (MB)\": 9951, \"Time\": \"2020-10-27T00:00:00\"}, {\"Traffic Sent (MB)\": 9219, \"Time\": \"2020-10-28T00:00:00\"}, {\"Traffic Sent (MB)\": 9958, \"Time\": \"2020-10-29T00:00:00\"}, {\"Traffic Sent (MB)\": 9829, \"Time\": \"2020-10-30T00:00:00\"}, {\"Traffic Sent (MB)\": 10391, \"Time\": \"2020-10-31T00:00:00\"}, {\"Traffic Sent (MB)\": 11016, \"Time\": \"2020-11-01T00:00:00\"}, {\"Traffic Sent (MB)\": 9632, \"Time\": \"2020-11-02T00:00:00\"}, {\"Traffic Sent (MB)\": 10661, \"Time\": \"2020-11-03T00:00:00\"}, {\"Traffic Sent (MB)\": 9875, \"Time\": \"2020-11-04T00:00:00\"}, {\"Traffic Sent (MB)\": 8916, \"Time\": \"2020-11-05T00:00:00\"}, {\"Traffic Sent (MB)\": 9929, \"Time\": \"2020-11-06T00:00:00\"}, {\"Traffic Sent (MB)\": 9366, \"Time\": \"2020-11-07T00:00:00\"}, {\"Traffic Sent (MB)\": 8700, \"Time\": \"2020-11-08T00:00:00\"}, {\"Traffic Sent (MB)\": 11075, \"Time\": \"2020-11-09T00:00:00\"}, {\"Traffic Sent (MB)\": 10015, \"Time\": \"2020-11-10T00:00:00\"}, {\"Traffic Sent (MB)\": 10799, \"Time\": \"2020-11-11T00:00:00\"}, {\"Traffic Sent (MB)\": 9912, \"Time\": \"2020-11-12T00:00:00\"}, {\"Traffic Sent (MB)\": 10743, \"Time\": \"2020-11-13T00:00:00\"}, {\"Traffic Sent (MB)\": 10456, \"Time\": \"2020-11-14T00:00:00\"}, {\"Traffic Sent (MB)\": 10797, \"Time\": \"2020-11-15T00:00:00\"}, {\"Traffic Sent (MB)\": 10549, \"Time\": \"2020-11-16T00:00:00\"}, {\"Traffic Sent (MB)\": 9581, \"Time\": \"2020-11-17T00:00:00\"}, {\"Traffic Sent (MB)\": 9438, \"Time\": \"2020-11-18T00:00:00\"}, {\"Traffic Sent (MB)\": 9461, \"Time\": \"2020-11-19T00:00:00\"}, {\"Traffic Sent (MB)\": 10725, \"Time\": \"2020-11-20T00:00:00\"}, {\"Traffic Sent (MB)\": 9839, \"Time\": \"2020-11-21T00:00:00\"}, {\"Traffic Sent (MB)\": 10121, \"Time\": \"2020-11-22T00:00:00\"}, {\"Traffic Sent (MB)\": 10073, \"Time\": \"2020-11-23T00:00:00\"}, {\"Traffic Sent (MB)\": 9877, \"Time\": \"2020-11-24T00:00:00\"}, {\"Traffic Sent (MB)\": 10769, \"Time\": \"2020-11-25T00:00:00\"}, {\"Traffic Sent (MB)\": 9052, \"Time\": \"2020-11-26T00:00:00\"}, {\"Traffic Sent (MB)\": 10560, \"Time\": \"2020-11-27T00:00:00\"}, {\"Traffic Sent (MB)\": 10422, \"Time\": \"2020-11-28T00:00:00\"}, {\"Traffic Sent (MB)\": 10818, \"Time\": \"2020-11-29T00:00:00\"}, {\"Traffic Sent (MB)\": 8384, \"Time\": \"2020-11-30T00:00:00\"}, {\"Traffic Sent (MB)\": 9171, \"Time\": \"2020-12-01T00:00:00\"}, {\"Traffic Sent (MB)\": 9788, \"Time\": \"2020-12-02T00:00:00\"}, {\"Traffic Sent (MB)\": 10357, \"Time\": \"2020-12-03T00:00:00\"}, {\"Traffic Sent (MB)\": 11634, \"Time\": \"2020-12-04T00:00:00\"}, {\"Traffic Sent (MB)\": 10620, \"Time\": \"2020-12-05T00:00:00\"}, {\"Traffic Sent (MB)\": 9525, \"Time\": \"2020-12-06T00:00:00\"}, {\"Traffic Sent (MB)\": 10258, \"Time\": \"2020-12-07T00:00:00\"}, {\"Traffic Sent (MB)\": 11432, \"Time\": \"2020-12-08T00:00:00\"}, {\"Traffic Sent (MB)\": 10386, \"Time\": \"2020-12-09T00:00:00\"}, {\"Traffic Sent (MB)\": 9706, \"Time\": \"2020-12-10T00:00:00\"}, {\"Traffic Sent (MB)\": 9429, \"Time\": \"2020-12-11T00:00:00\"}, {\"Traffic Sent (MB)\": 10349, \"Time\": \"2020-12-12T00:00:00\"}, {\"Traffic Sent (MB)\": 9289, \"Time\": \"2020-12-13T00:00:00\"}, {\"Traffic Sent (MB)\": 10940, \"Time\": \"2020-12-14T00:00:00\"}, {\"Traffic Sent (MB)\": 9637, \"Time\": \"2020-12-15T00:00:00\"}, {\"Traffic Sent (MB)\": 10212, \"Time\": \"2020-12-16T00:00:00\"}, {\"Traffic Sent (MB)\": 9598, \"Time\": \"2020-12-17T00:00:00\"}, {\"Traffic Sent (MB)\": 11097, \"Time\": \"2020-12-18T00:00:00\"}, {\"Traffic Sent (MB)\": 11350, \"Time\": \"2020-12-19T00:00:00\"}, {\"Traffic Sent (MB)\": 10218, \"Time\": \"2020-12-20T00:00:00\"}, {\"Traffic Sent (MB)\": 9949, \"Time\": \"2020-12-21T00:00:00\"}, {\"Traffic Sent (MB)\": 11417, \"Time\": \"2020-12-22T00:00:00\"}, {\"Traffic Sent (MB)\": 11050, \"Time\": \"2020-12-23T00:00:00\"}, {\"Traffic Sent (MB)\": 9938, \"Time\": \"2020-12-24T00:00:00\"}, {\"Traffic Sent (MB)\": 9822, \"Time\": \"2020-12-25T00:00:00\"}, {\"Traffic Sent (MB)\": 10558, \"Time\": \"2020-12-26T00:00:00\"}, {\"Traffic Sent (MB)\": 10668, \"Time\": \"2020-12-27T00:00:00\"}, {\"Traffic Sent (MB)\": 10834, \"Time\": \"2020-12-28T00:00:00\"}, {\"Traffic Sent (MB)\": 9990, \"Time\": \"2020-12-29T00:00:00\"}, {\"Traffic Sent (MB)\": 9280, \"Time\": \"2020-12-30T00:00:00\"}, {\"Traffic Sent (MB)\": 9957, \"Time\": \"2020-12-31T00:00:00\"}], \"data-3dbef05335d08111b543db0c09b1669b\": [{\"capacity\": 10752}]}}, {\"mode\": \"vega-lite\"});\n",
       "</script>"
      ],
      "text/plain": [
       "alt.LayerChart(...)"
      ]
     },
     "execution_count": 30,
     "metadata": {},
     "output_type": "execute_result"
    }
   ],
   "source": [
    "#A quick function to sum up the property values on the edge \n",
    "def edge_weight(edge,prop_name):\n",
    "    return sum(list(map(lambda e: e[1],edge.property_history(prop_name))))\n",
    "\n",
    "#Get the NO1 -> NO2 edge and create a rolling daily window  - this returns an iterator of views of the edge, one for each day in the sample period\n",
    "rolling_edge = device_graph.edge(\"N01\",\"N02\").rolling(step='1 day', window='1 day')\n",
    "\n",
    "#Create a new dataframe\n",
    "result = pd.DataFrame()\n",
    "#Run over the iterator and calculate the daily total traffic for NO1->NO2\n",
    "result['Traffic Sent (MB)'] = [edge_weight(e,\"traffic\") for e in rolling_edge]\n",
    "#Run over the iterator and get the timestamp for each edge view\n",
    "result['Time'] = [e.end_date_time() for e in rolling_edge]\n",
    "\n",
    "#Add this data to a altair chart\n",
    "chart = alt.Chart(result).mark_line().encode(\n",
    "    x=\"Time:T\",\n",
    "    y=\"Traffic Sent (MB):Q\",\n",
    ").properties(\n",
    "    width=800,\n",
    ")\n",
    "\n",
    "#Get the capacity of this edge\n",
    "capacity = device_graph.edge(\"N01\",\"N02\")[\"capacity\"]\n",
    "#Wrap this in a dataframe as its what the altair lib requires\n",
    "capacity = pd.DataFrame({'capacity': [capacity]})\n",
    "#draw this capacity as a straight line on the chart so we can see when the edge was over capacity\n",
    "capacity_line = alt.Chart(capacity).mark_rule(color='red', strokeWidth=3,strokeDash=[3, 3]).encode(y='capacity:Q')\n",
    "\n",
    "alt.layer(chart,capacity_line)\n"
   ]
  }
 ],
 "metadata": {
  "kernelspec": {
   "display_name": "docbrown",
   "language": "python",
   "name": "python3"
  },
  "language_info": {
   "codemirror_mode": {
    "name": "ipython",
    "version": 3
   },
   "file_extension": ".py",
   "mimetype": "text/x-python",
   "name": "python",
   "nbconvert_exporter": "python",
   "pygments_lexer": "ipython3",
   "version": "3.10.9"
  },
  "orig_nbformat": 4
 },
 "nbformat": 4,
 "nbformat_minor": 2
}
