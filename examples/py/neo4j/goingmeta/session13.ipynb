{
 "cells": [
  {
   "cell_type": "code",
   "execution_count": 6,
   "metadata": {},
   "outputs": [
    {
     "data": {
      "text/plain": [
       "Graph(number_of_edges=29, number_of_vertices=15, earliest_time=1, latest_time=1)"
      ]
     },
     "execution_count": 6,
     "metadata": {},
     "output_type": "execute_result"
    }
   ],
   "source": [
    "from raphtory import Graph\n",
    "\n",
    "device_graph = Graph()\n",
    "\n",
    "with open(\"data/devices.csv\", 'r') as device_file:\n",
    "    next(device_file) # skip the header\n",
    "    for device in device_file:\n",
    "        device = device.split(\",\")\n",
    "        neId = device[0]\n",
    "        code = device[1]\n",
    "        name = device[2]\n",
    "        lat = float(device[3])\n",
    "        long = float(device[4])\n",
    "        properties = {\"code\":code,\"name\":name,\"lat\":lat,\"long\":long}\n",
    "        device_graph.add_vertex(timestamp=1,id=neId,properties=properties)\n",
    "\n",
    "with open(\"data/links.csv\", 'r') as links_file:\n",
    "    next(links_file) # skip the header\n",
    "    for link in links_file:\n",
    "        link = link.split(\",\")\n",
    "        src=link[0]\n",
    "        dst=link[1]\n",
    "        link_id=link[2]\n",
    "        capacity=int(link[3])\n",
    "        properties = {\"link_id\":link_id,\"capacity\":capacity}\n",
    "        device_graph.add_edge(timestamp=1,src=src,dst=dst,properties=properties)\n",
    "\n",
    "device_graph"
   ]
  },
  {
   "cell_type": "code",
   "execution_count": null,
   "metadata": {},
   "outputs": [],
   "source": []
  }
 ],
 "metadata": {
  "kernelspec": {
   "display_name": "docbrown",
   "language": "python",
   "name": "python3"
  },
  "language_info": {
   "codemirror_mode": {
    "name": "ipython",
    "version": 3
   },
   "file_extension": ".py",
   "mimetype": "text/x-python",
   "name": "python",
   "nbconvert_exporter": "python",
   "pygments_lexer": "ipython3",
   "version": "3.10.9"
  },
  "orig_nbformat": 4
 },
 "nbformat": 4,
 "nbformat_minor": 2
}
