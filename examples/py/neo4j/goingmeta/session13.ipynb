{
 "cells": [
  {
   "cell_type": "code",
   "execution_count": 1,
   "metadata": {},
   "outputs": [],
   "source": [
    "from raphtory import Graph\n",
    "import random\n",
    "from datetime import datetime, timedelta\n",
    "import altair as alt\n",
    "import pandas as pd\n"
   ]
  },
  {
   "cell_type": "code",
   "execution_count": 2,
   "metadata": {},
   "outputs": [],
   "source": [
    "device_graph = Graph()"
   ]
  },
  {
   "cell_type": "code",
   "execution_count": 3,
   "metadata": {},
   "outputs": [
    {
     "data": {
      "text/plain": [
       "Graph(number_of_edges=58, number_of_vertices=15, earliest_time=1577836800000, latest_time=1577836800000)"
      ]
     },
     "execution_count": 3,
     "metadata": {},
     "output_type": "execute_result"
    }
   ],
   "source": [
    "# Start and end dates\n",
    "start_date = datetime(2020, 1, 1)\n",
    "end_date = datetime(2021, 1, 1)\n",
    "start_str = start_date.strftime(\"%Y-%m-%d %H:%M:%S\")\n",
    "\n",
    "with open(\"data/devices.csv\", 'r') as device_file:\n",
    "    next(device_file) # skip the header\n",
    "    for device in device_file:\n",
    "        #extract all of the information\n",
    "        device = device.split(\",\")\n",
    "        neId = device[0]\n",
    "        code = device[1]\n",
    "        name = device[2]\n",
    "        lat = float(device[3])\n",
    "        long = float(device[4])\n",
    "        #build the properties as a dictionary\n",
    "        properties = {\"code\":code,\"name\":name,\"lat\":lat,\"long\":long}\n",
    "        #Adding the vertex at the start of the time period\n",
    "        device_graph.add_vertex(timestamp=start_str,id=neId)\n",
    "        #As the properties currently never change add them as 'static' so they are accessible at any time\n",
    "        device_graph.add_vertex_properties(id=neId,properties=properties)\n",
    "\n",
    "\n",
    "with open(\"data/links.csv\", 'r') as links_file:\n",
    "    next(links_file) # skip the header\n",
    "    for link in links_file:\n",
    "        #extract all of the information\n",
    "        link = link.split(\",\")\n",
    "        src=link[0]\n",
    "        dst=link[1]\n",
    "        link_id=link[2]\n",
    "        capacity=int(link[3])\n",
    "        #build the properties as a dictionary\n",
    "        properties = {\"link_id\":link_id,\"capacity\":capacity}\n",
    "        #Adding the edge at the start of the time period - add it both ways\n",
    "        device_graph.add_edge(timestamp=start_str,src=src,dst=dst) \n",
    "        device_graph.add_edge(timestamp=start_str,src=dst,dst=src) \n",
    "        #As the properties currently never change add them as 'static' so they are accessible at any time\n",
    "        device_graph.add_edge_properties(src=src,dst=dst,properties=properties)\n",
    "\n",
    "device_graph"
   ]
  },
  {
   "cell_type": "code",
   "execution_count": 4,
   "metadata": {},
   "outputs": [
    {
     "name": "stdout",
     "output_type": "stream",
     "text": [
      "[Edge(source=N01, target=N02, earliest_time=1577836800000, latest_time=1577836800000, properties={capacity : 10752, link_id : s1_124/ob}), Edge(source=N01, target=N04, earliest_time=1577836800000, latest_time=1577836800000, properties={link_id : s1_125/ob, capacity : 9600}), Edge(source=N01, target=N09, earliest_time=1577836800000, latest_time=1577836800000, properties={capacity : 11520, link_id : s1_128/ob}), Edge(source=N01, target=N11, earliest_time=1577836800000, latest_time=1577836800000, properties={capacity : 7680, link_id : s1_129/ob}), Edge(source=N01, target=N12, earliest_time=1577836800000, latest_time=1577836800000, properties={link_id : s1_130/ob, capacity : 7296}), Edge(source=N02, target=N01, earliest_time=1577836800000, latest_time=1577836800000), Edge(source=N02, target=N04, earliest_time=1577836800000, latest_time=1577836800000, properties={link_id : s1_131/ob, capacity : 21120}), Edge(source=N02, target=N09, earliest_time=1577836800000, latest_time=1577836800000, properties={capacity : 7680, link_id : s1_133/ob}), Edge(source=N02, target=N10, earliest_time=1577836800000, latest_time=1577836800000, properties={capacity : 3840, link_id : s1_151/ob}), Edge(source=N02, target=N12, earliest_time=1577836800000, latest_time=1577836800000, properties={link_id : s1_134/ob, capacity : 768}), Edge(source=N03, target=N04, earliest_time=1577836800000, latest_time=1577836800000, properties={link_id : s1_135/ob, capacity : 2688}), Edge(source=N03, target=N08, earliest_time=1577836800000, latest_time=1577836800000, properties={capacity : 2688, link_id : s1_136/ob}), Edge(source=N04, target=N01, earliest_time=1577836800000, latest_time=1577836800000), Edge(source=N04, target=N02, earliest_time=1577836800000, latest_time=1577836800000), Edge(source=N04, target=N03, earliest_time=1577836800000, latest_time=1577836800000), Edge(source=N04, target=N05, earliest_time=1577836800000, latest_time=1577836800000, properties={link_id : s1_137/ob, capacity : 14208}), Edge(source=N04, target=N39, earliest_time=1577836800000, latest_time=1577836800000, properties={link_id : s1_154/ob, capacity : 5760}), Edge(source=N04, target=N06, earliest_time=1577836800000, latest_time=1577836800000, properties={link_id : s1_138/ob, capacity : 3456}), Edge(source=N04, target=N07, earliest_time=1577836800000, latest_time=1577836800000, properties={link_id : s1_152/ob, capacity : 3840}), Edge(source=N04, target=N08, earliest_time=1577836800000, latest_time=1577836800000, properties={capacity : 16128, link_id : s1_139/ob}), Edge(source=N04, target=N09, earliest_time=1577836800000, latest_time=1577836800000, properties={capacity : 31872, link_id : s1_140/ob}), Edge(source=N04, target=N10, earliest_time=1577836800000, latest_time=1577836800000, properties={link_id : s1_153/ob, capacity : 3648}), Edge(source=N13, target=N26, earliest_time=1577836800000, latest_time=1577836800000, properties={link_id : s1_155/ob, capacity : 1920}), Edge(source=N13, target=N05, earliest_time=1577836800000, latest_time=1577836800000, properties={capacity : 5760, link_id : s1_156/ob}), Edge(source=N26, target=N13, earliest_time=1577836800000, latest_time=1577836800000), Edge(source=N26, target=N39, earliest_time=1577836800000, latest_time=1577836800000, properties={link_id : s1_157/ob, capacity : 1920}), Edge(source=N05, target=N04, earliest_time=1577836800000, latest_time=1577836800000), Edge(source=N05, target=N13, earliest_time=1577836800000, latest_time=1577836800000), Edge(source=N05, target=N08, earliest_time=1577836800000, latest_time=1577836800000, properties={link_id : s1_141/ob, capacity : 768}), Edge(source=N05, target=N09, earliest_time=1577836800000, latest_time=1577836800000, properties={capacity : 15744, link_id : s1_142/ob}), Edge(source=N39, target=N04, earliest_time=1577836800000, latest_time=1577836800000), Edge(source=N39, target=N26, earliest_time=1577836800000, latest_time=1577836800000), Edge(source=N06, target=N04, earliest_time=1577836800000, latest_time=1577836800000), Edge(source=N06, target=N08, earliest_time=1577836800000, latest_time=1577836800000, properties={link_id : s1_144/ob, capacity : 768}), Edge(source=N07, target=N04, earliest_time=1577836800000, latest_time=1577836800000), Edge(source=N07, target=N12, earliest_time=1577836800000, latest_time=1577836800000, properties={capacity : 1920, link_id : s1_146/ob}), Edge(source=N08, target=N03, earliest_time=1577836800000, latest_time=1577836800000), Edge(source=N08, target=N04, earliest_time=1577836800000, latest_time=1577836800000), Edge(source=N08, target=N05, earliest_time=1577836800000, latest_time=1577836800000), Edge(source=N08, target=N06, earliest_time=1577836800000, latest_time=1577836800000), Edge(source=N08, target=N09, earliest_time=1577836800000, latest_time=1577836800000, properties={capacity : 22656, link_id : s1_147/ob}), Edge(source=N09, target=N01, earliest_time=1577836800000, latest_time=1577836800000), Edge(source=N09, target=N02, earliest_time=1577836800000, latest_time=1577836800000), Edge(source=N09, target=N04, earliest_time=1577836800000, latest_time=1577836800000), Edge(source=N09, target=N05, earliest_time=1577836800000, latest_time=1577836800000), Edge(source=N09, target=N08, earliest_time=1577836800000, latest_time=1577836800000), Edge(source=N09, target=N11, earliest_time=1577836800000, latest_time=1577836800000, properties={link_id : s1_149/ob, capacity : 13440}), Edge(source=N09, target=N12, earliest_time=1577836800000, latest_time=1577836800000, properties={capacity : 1920, link_id : s1_158/ob}), Edge(source=N10, target=N02, earliest_time=1577836800000, latest_time=1577836800000), Edge(source=N10, target=N04, earliest_time=1577836800000, latest_time=1577836800000), Edge(source=N11, target=N01, earliest_time=1577836800000, latest_time=1577836800000), Edge(source=N11, target=N09, earliest_time=1577836800000, latest_time=1577836800000), Edge(source=N11, target=N12, earliest_time=1577836800000, latest_time=1577836800000, properties={capacity : 3456, link_id : s1_150/ob}), Edge(source=N12, target=N01, earliest_time=1577836800000, latest_time=1577836800000), Edge(source=N12, target=N02, earliest_time=1577836800000, latest_time=1577836800000), Edge(source=N12, target=N07, earliest_time=1577836800000, latest_time=1577836800000), Edge(source=N12, target=N09, earliest_time=1577836800000, latest_time=1577836800000), Edge(source=N12, target=N11, earliest_time=1577836800000, latest_time=1577836800000)]\n"
     ]
    }
   ],
   "source": [
    "# List of nodes\n",
    "nodes = list(device_graph.vertices().name())\n",
    "#available links for traffic to travel down\n",
    "known_links = list(device_graph.edges().collect())\n",
    "print(known_links)\n",
    "# Generate traffic between random pairs of nodes\n",
    "current_date = start_date\n",
    "while current_date < end_date:\n",
    "    time = current_date.strftime(\"%Y-%m-%d %H:%M:%S\")\n",
    "    # Generate random traffic a selection of the edges\n",
    "    for edge in random.sample(known_links,10):\n",
    "        # Generate random traffic for each minute\n",
    "        traffic = {\"traffic\":random.randint(1, 80)}\n",
    "        device_graph.add_edge(time,edge.src().id(),edge.dst().id(),traffic)\n",
    "    \n",
    "    # Increment the time by 1 minute\n",
    "    current_date += timedelta(minutes=1)"
   ]
  },
  {
   "cell_type": "code",
   "execution_count": 25,
   "metadata": {},
   "outputs": [
    {
     "data": {
      "text/html": [
       "\n",
       "<div id=\"altair-viz-9d5a82e5deb04be4afa27c93191bcc8e\"></div>\n",
       "<script type=\"text/javascript\">\n",
       "  var VEGA_DEBUG = (typeof VEGA_DEBUG == \"undefined\") ? {} : VEGA_DEBUG;\n",
       "  (function(spec, embedOpt){\n",
       "    let outputDiv = document.currentScript.previousElementSibling;\n",
       "    if (outputDiv.id !== \"altair-viz-9d5a82e5deb04be4afa27c93191bcc8e\") {\n",
       "      outputDiv = document.getElementById(\"altair-viz-9d5a82e5deb04be4afa27c93191bcc8e\");\n",
       "    }\n",
       "    const paths = {\n",
       "      \"vega\": \"https://cdn.jsdelivr.net/npm//vega@5?noext\",\n",
       "      \"vega-lib\": \"https://cdn.jsdelivr.net/npm//vega-lib?noext\",\n",
       "      \"vega-lite\": \"https://cdn.jsdelivr.net/npm//vega-lite@4.17.0?noext\",\n",
       "      \"vega-embed\": \"https://cdn.jsdelivr.net/npm//vega-embed@6?noext\",\n",
       "    };\n",
       "\n",
       "    function maybeLoadScript(lib, version) {\n",
       "      var key = `${lib.replace(\"-\", \"\")}_version`;\n",
       "      return (VEGA_DEBUG[key] == version) ?\n",
       "        Promise.resolve(paths[lib]) :\n",
       "        new Promise(function(resolve, reject) {\n",
       "          var s = document.createElement('script');\n",
       "          document.getElementsByTagName(\"head\")[0].appendChild(s);\n",
       "          s.async = true;\n",
       "          s.onload = () => {\n",
       "            VEGA_DEBUG[key] = version;\n",
       "            return resolve(paths[lib]);\n",
       "          };\n",
       "          s.onerror = () => reject(`Error loading script: ${paths[lib]}`);\n",
       "          s.src = paths[lib];\n",
       "        });\n",
       "    }\n",
       "\n",
       "    function showError(err) {\n",
       "      outputDiv.innerHTML = `<div class=\"error\" style=\"color:red;\">${err}</div>`;\n",
       "      throw err;\n",
       "    }\n",
       "\n",
       "    function displayChart(vegaEmbed) {\n",
       "      vegaEmbed(outputDiv, spec, embedOpt)\n",
       "        .catch(err => showError(`Javascript Error: ${err.message}<br>This usually means there's a typo in your chart specification. See the javascript console for the full traceback.`));\n",
       "    }\n",
       "\n",
       "    if(typeof define === \"function\" && define.amd) {\n",
       "      requirejs.config({paths});\n",
       "      require([\"vega-embed\"], displayChart, err => showError(`Error loading script: ${err.message}`));\n",
       "    } else {\n",
       "      maybeLoadScript(\"vega\", \"5\")\n",
       "        .then(() => maybeLoadScript(\"vega-lite\", \"4.17.0\"))\n",
       "        .then(() => maybeLoadScript(\"vega-embed\", \"6\"))\n",
       "        .catch(showError)\n",
       "        .then(() => displayChart(vegaEmbed));\n",
       "    }\n",
       "  })({\"config\": {\"view\": {\"continuousWidth\": 400, \"continuousHeight\": 300}}, \"layer\": [{\"data\": {\"name\": \"data-da505a829b2c398d113e28f6acb7b8c7\"}, \"mark\": \"line\", \"encoding\": {\"x\": {\"field\": \"Time\", \"type\": \"temporal\"}, \"y\": {\"field\": \"Traffic Sent (MB)\", \"type\": \"quantitative\"}}, \"width\": 800}, {\"data\": {\"name\": \"data-3dbef05335d08111b543db0c09b1669b\"}, \"mark\": {\"type\": \"rule\", \"color\": \"red\", \"strokeDash\": [3, 3], \"strokeWidth\": 3}, \"encoding\": {\"y\": {\"field\": \"capacity\", \"type\": \"quantitative\"}}}], \"$schema\": \"https://vega.github.io/schema/vega-lite/v4.17.0.json\", \"datasets\": {\"data-da505a829b2c398d113e28f6acb7b8c7\": [{\"Traffic Sent (MB)\": 9555, \"Time\": \"2020-01-02T00:00:00\"}, {\"Traffic Sent (MB)\": 10530, \"Time\": \"2020-01-03T00:00:00\"}, {\"Traffic Sent (MB)\": 9645, \"Time\": \"2020-01-04T00:00:00\"}, {\"Traffic Sent (MB)\": 10149, \"Time\": \"2020-01-05T00:00:00\"}, {\"Traffic Sent (MB)\": 11054, \"Time\": \"2020-01-06T00:00:00\"}, {\"Traffic Sent (MB)\": 10885, \"Time\": \"2020-01-07T00:00:00\"}, {\"Traffic Sent (MB)\": 9988, \"Time\": \"2020-01-08T00:00:00\"}, {\"Traffic Sent (MB)\": 9775, \"Time\": \"2020-01-09T00:00:00\"}, {\"Traffic Sent (MB)\": 9310, \"Time\": \"2020-01-10T00:00:00\"}, {\"Traffic Sent (MB)\": 10586, \"Time\": \"2020-01-11T00:00:00\"}, {\"Traffic Sent (MB)\": 9659, \"Time\": \"2020-01-12T00:00:00\"}, {\"Traffic Sent (MB)\": 10171, \"Time\": \"2020-01-13T00:00:00\"}, {\"Traffic Sent (MB)\": 9595, \"Time\": \"2020-01-14T00:00:00\"}, {\"Traffic Sent (MB)\": 11053, \"Time\": \"2020-01-15T00:00:00\"}, {\"Traffic Sent (MB)\": 9044, \"Time\": \"2020-01-16T00:00:00\"}, {\"Traffic Sent (MB)\": 10015, \"Time\": \"2020-01-17T00:00:00\"}, {\"Traffic Sent (MB)\": 11186, \"Time\": \"2020-01-18T00:00:00\"}, {\"Traffic Sent (MB)\": 9438, \"Time\": \"2020-01-19T00:00:00\"}, {\"Traffic Sent (MB)\": 9674, \"Time\": \"2020-01-20T00:00:00\"}, {\"Traffic Sent (MB)\": 9624, \"Time\": \"2020-01-21T00:00:00\"}, {\"Traffic Sent (MB)\": 8486, \"Time\": \"2020-01-22T00:00:00\"}, {\"Traffic Sent (MB)\": 9821, \"Time\": \"2020-01-23T00:00:00\"}, {\"Traffic Sent (MB)\": 9692, \"Time\": \"2020-01-24T00:00:00\"}, {\"Traffic Sent (MB)\": 9633, \"Time\": \"2020-01-25T00:00:00\"}, {\"Traffic Sent (MB)\": 10777, \"Time\": \"2020-01-26T00:00:00\"}, {\"Traffic Sent (MB)\": 9997, \"Time\": \"2020-01-27T00:00:00\"}, {\"Traffic Sent (MB)\": 10063, \"Time\": \"2020-01-28T00:00:00\"}, {\"Traffic Sent (MB)\": 10195, \"Time\": \"2020-01-29T00:00:00\"}, {\"Traffic Sent (MB)\": 9100, \"Time\": \"2020-01-30T00:00:00\"}, {\"Traffic Sent (MB)\": 11255, \"Time\": \"2020-01-31T00:00:00\"}, {\"Traffic Sent (MB)\": 11482, \"Time\": \"2020-02-01T00:00:00\"}, {\"Traffic Sent (MB)\": 9878, \"Time\": \"2020-02-02T00:00:00\"}, {\"Traffic Sent (MB)\": 10041, \"Time\": \"2020-02-03T00:00:00\"}, {\"Traffic Sent (MB)\": 10116, \"Time\": \"2020-02-04T00:00:00\"}, {\"Traffic Sent (MB)\": 9403, \"Time\": \"2020-02-05T00:00:00\"}, {\"Traffic Sent (MB)\": 8429, \"Time\": \"2020-02-06T00:00:00\"}, {\"Traffic Sent (MB)\": 10090, \"Time\": \"2020-02-07T00:00:00\"}, {\"Traffic Sent (MB)\": 10855, \"Time\": \"2020-02-08T00:00:00\"}, {\"Traffic Sent (MB)\": 8892, \"Time\": \"2020-02-09T00:00:00\"}, {\"Traffic Sent (MB)\": 9871, \"Time\": \"2020-02-10T00:00:00\"}, {\"Traffic Sent (MB)\": 9474, \"Time\": \"2020-02-11T00:00:00\"}, {\"Traffic Sent (MB)\": 8965, \"Time\": \"2020-02-12T00:00:00\"}, {\"Traffic Sent (MB)\": 10596, \"Time\": \"2020-02-13T00:00:00\"}, {\"Traffic Sent (MB)\": 10848, \"Time\": \"2020-02-14T00:00:00\"}, {\"Traffic Sent (MB)\": 11118, \"Time\": \"2020-02-15T00:00:00\"}, {\"Traffic Sent (MB)\": 10716, \"Time\": \"2020-02-16T00:00:00\"}, {\"Traffic Sent (MB)\": 9868, \"Time\": \"2020-02-17T00:00:00\"}, {\"Traffic Sent (MB)\": 9870, \"Time\": \"2020-02-18T00:00:00\"}, {\"Traffic Sent (MB)\": 9779, \"Time\": \"2020-02-19T00:00:00\"}, {\"Traffic Sent (MB)\": 10237, \"Time\": \"2020-02-20T00:00:00\"}, {\"Traffic Sent (MB)\": 10021, \"Time\": \"2020-02-21T00:00:00\"}, {\"Traffic Sent (MB)\": 10660, \"Time\": \"2020-02-22T00:00:00\"}, {\"Traffic Sent (MB)\": 11219, \"Time\": \"2020-02-23T00:00:00\"}, {\"Traffic Sent (MB)\": 9471, \"Time\": \"2020-02-24T00:00:00\"}, {\"Traffic Sent (MB)\": 10171, \"Time\": \"2020-02-25T00:00:00\"}, {\"Traffic Sent (MB)\": 10079, \"Time\": \"2020-02-26T00:00:00\"}, {\"Traffic Sent (MB)\": 10566, \"Time\": \"2020-02-27T00:00:00\"}, {\"Traffic Sent (MB)\": 9943, \"Time\": \"2020-02-28T00:00:00\"}, {\"Traffic Sent (MB)\": 10361, \"Time\": \"2020-02-29T00:00:00\"}, {\"Traffic Sent (MB)\": 9858, \"Time\": \"2020-03-01T00:00:00\"}, {\"Traffic Sent (MB)\": 9200, \"Time\": \"2020-03-02T00:00:00\"}, {\"Traffic Sent (MB)\": 9667, \"Time\": \"2020-03-03T00:00:00\"}, {\"Traffic Sent (MB)\": 11142, \"Time\": \"2020-03-04T00:00:00\"}, {\"Traffic Sent (MB)\": 9561, \"Time\": \"2020-03-05T00:00:00\"}, {\"Traffic Sent (MB)\": 10942, \"Time\": \"2020-03-06T00:00:00\"}, {\"Traffic Sent (MB)\": 11218, \"Time\": \"2020-03-07T00:00:00\"}, {\"Traffic Sent (MB)\": 10992, \"Time\": \"2020-03-08T00:00:00\"}, {\"Traffic Sent (MB)\": 10201, \"Time\": \"2020-03-09T00:00:00\"}, {\"Traffic Sent (MB)\": 9659, \"Time\": \"2020-03-10T00:00:00\"}, {\"Traffic Sent (MB)\": 10610, \"Time\": \"2020-03-11T00:00:00\"}, {\"Traffic Sent (MB)\": 10836, \"Time\": \"2020-03-12T00:00:00\"}, {\"Traffic Sent (MB)\": 9452, \"Time\": \"2020-03-13T00:00:00\"}, {\"Traffic Sent (MB)\": 8725, \"Time\": \"2020-03-14T00:00:00\"}, {\"Traffic Sent (MB)\": 10526, \"Time\": \"2020-03-15T00:00:00\"}, {\"Traffic Sent (MB)\": 10819, \"Time\": \"2020-03-16T00:00:00\"}, {\"Traffic Sent (MB)\": 9166, \"Time\": \"2020-03-17T00:00:00\"}, {\"Traffic Sent (MB)\": 9500, \"Time\": \"2020-03-18T00:00:00\"}, {\"Traffic Sent (MB)\": 10010, \"Time\": \"2020-03-19T00:00:00\"}, {\"Traffic Sent (MB)\": 10263, \"Time\": \"2020-03-20T00:00:00\"}, {\"Traffic Sent (MB)\": 11379, \"Time\": \"2020-03-21T00:00:00\"}, {\"Traffic Sent (MB)\": 8806, \"Time\": \"2020-03-22T00:00:00\"}, {\"Traffic Sent (MB)\": 9640, \"Time\": \"2020-03-23T00:00:00\"}, {\"Traffic Sent (MB)\": 9336, \"Time\": \"2020-03-24T00:00:00\"}, {\"Traffic Sent (MB)\": 9106, \"Time\": \"2020-03-25T00:00:00\"}, {\"Traffic Sent (MB)\": 9407, \"Time\": \"2020-03-26T00:00:00\"}, {\"Traffic Sent (MB)\": 9119, \"Time\": \"2020-03-27T00:00:00\"}, {\"Traffic Sent (MB)\": 8948, \"Time\": \"2020-03-28T00:00:00\"}, {\"Traffic Sent (MB)\": 9560, \"Time\": \"2020-03-29T00:00:00\"}, {\"Traffic Sent (MB)\": 9308, \"Time\": \"2020-03-30T00:00:00\"}, {\"Traffic Sent (MB)\": 10977, \"Time\": \"2020-03-31T00:00:00\"}, {\"Traffic Sent (MB)\": 11105, \"Time\": \"2020-04-01T00:00:00\"}, {\"Traffic Sent (MB)\": 10137, \"Time\": \"2020-04-02T00:00:00\"}, {\"Traffic Sent (MB)\": 10282, \"Time\": \"2020-04-03T00:00:00\"}, {\"Traffic Sent (MB)\": 8766, \"Time\": \"2020-04-04T00:00:00\"}, {\"Traffic Sent (MB)\": 10059, \"Time\": \"2020-04-05T00:00:00\"}, {\"Traffic Sent (MB)\": 10836, \"Time\": \"2020-04-06T00:00:00\"}, {\"Traffic Sent (MB)\": 10229, \"Time\": \"2020-04-07T00:00:00\"}, {\"Traffic Sent (MB)\": 9427, \"Time\": \"2020-04-08T00:00:00\"}, {\"Traffic Sent (MB)\": 10820, \"Time\": \"2020-04-09T00:00:00\"}, {\"Traffic Sent (MB)\": 10535, \"Time\": \"2020-04-10T00:00:00\"}, {\"Traffic Sent (MB)\": 11023, \"Time\": \"2020-04-11T00:00:00\"}, {\"Traffic Sent (MB)\": 9922, \"Time\": \"2020-04-12T00:00:00\"}, {\"Traffic Sent (MB)\": 10184, \"Time\": \"2020-04-13T00:00:00\"}, {\"Traffic Sent (MB)\": 10063, \"Time\": \"2020-04-14T00:00:00\"}, {\"Traffic Sent (MB)\": 8625, \"Time\": \"2020-04-15T00:00:00\"}, {\"Traffic Sent (MB)\": 9320, \"Time\": \"2020-04-16T00:00:00\"}, {\"Traffic Sent (MB)\": 8667, \"Time\": \"2020-04-17T00:00:00\"}, {\"Traffic Sent (MB)\": 9413, \"Time\": \"2020-04-18T00:00:00\"}, {\"Traffic Sent (MB)\": 9647, \"Time\": \"2020-04-19T00:00:00\"}, {\"Traffic Sent (MB)\": 9444, \"Time\": \"2020-04-20T00:00:00\"}, {\"Traffic Sent (MB)\": 9213, \"Time\": \"2020-04-21T00:00:00\"}, {\"Traffic Sent (MB)\": 10566, \"Time\": \"2020-04-22T00:00:00\"}, {\"Traffic Sent (MB)\": 10829, \"Time\": \"2020-04-23T00:00:00\"}, {\"Traffic Sent (MB)\": 8733, \"Time\": \"2020-04-24T00:00:00\"}, {\"Traffic Sent (MB)\": 10057, \"Time\": \"2020-04-25T00:00:00\"}, {\"Traffic Sent (MB)\": 9013, \"Time\": \"2020-04-26T00:00:00\"}, {\"Traffic Sent (MB)\": 9218, \"Time\": \"2020-04-27T00:00:00\"}, {\"Traffic Sent (MB)\": 10417, \"Time\": \"2020-04-28T00:00:00\"}, {\"Traffic Sent (MB)\": 9608, \"Time\": \"2020-04-29T00:00:00\"}, {\"Traffic Sent (MB)\": 10031, \"Time\": \"2020-04-30T00:00:00\"}, {\"Traffic Sent (MB)\": 9145, \"Time\": \"2020-05-01T00:00:00\"}, {\"Traffic Sent (MB)\": 11170, \"Time\": \"2020-05-02T00:00:00\"}, {\"Traffic Sent (MB)\": 11443, \"Time\": \"2020-05-03T00:00:00\"}, {\"Traffic Sent (MB)\": 11041, \"Time\": \"2020-05-04T00:00:00\"}, {\"Traffic Sent (MB)\": 8975, \"Time\": \"2020-05-05T00:00:00\"}, {\"Traffic Sent (MB)\": 10945, \"Time\": \"2020-05-06T00:00:00\"}, {\"Traffic Sent (MB)\": 9150, \"Time\": \"2020-05-07T00:00:00\"}, {\"Traffic Sent (MB)\": 9535, \"Time\": \"2020-05-08T00:00:00\"}, {\"Traffic Sent (MB)\": 10738, \"Time\": \"2020-05-09T00:00:00\"}, {\"Traffic Sent (MB)\": 9098, \"Time\": \"2020-05-10T00:00:00\"}, {\"Traffic Sent (MB)\": 10039, \"Time\": \"2020-05-11T00:00:00\"}, {\"Traffic Sent (MB)\": 11094, \"Time\": \"2020-05-12T00:00:00\"}, {\"Traffic Sent (MB)\": 10717, \"Time\": \"2020-05-13T00:00:00\"}, {\"Traffic Sent (MB)\": 10645, \"Time\": \"2020-05-14T00:00:00\"}, {\"Traffic Sent (MB)\": 10667, \"Time\": \"2020-05-15T00:00:00\"}, {\"Traffic Sent (MB)\": 10615, \"Time\": \"2020-05-16T00:00:00\"}, {\"Traffic Sent (MB)\": 10105, \"Time\": \"2020-05-17T00:00:00\"}, {\"Traffic Sent (MB)\": 9978, \"Time\": \"2020-05-18T00:00:00\"}, {\"Traffic Sent (MB)\": 10061, \"Time\": \"2020-05-19T00:00:00\"}, {\"Traffic Sent (MB)\": 8971, \"Time\": \"2020-05-20T00:00:00\"}, {\"Traffic Sent (MB)\": 9562, \"Time\": \"2020-05-21T00:00:00\"}, {\"Traffic Sent (MB)\": 9640, \"Time\": \"2020-05-22T00:00:00\"}, {\"Traffic Sent (MB)\": 10270, \"Time\": \"2020-05-23T00:00:00\"}, {\"Traffic Sent (MB)\": 10349, \"Time\": \"2020-05-24T00:00:00\"}, {\"Traffic Sent (MB)\": 8536, \"Time\": \"2020-05-25T00:00:00\"}, {\"Traffic Sent (MB)\": 9116, \"Time\": \"2020-05-26T00:00:00\"}, {\"Traffic Sent (MB)\": 10641, \"Time\": \"2020-05-27T00:00:00\"}, {\"Traffic Sent (MB)\": 10785, \"Time\": \"2020-05-28T00:00:00\"}, {\"Traffic Sent (MB)\": 8860, \"Time\": \"2020-05-29T00:00:00\"}, {\"Traffic Sent (MB)\": 10122, \"Time\": \"2020-05-30T00:00:00\"}, {\"Traffic Sent (MB)\": 10277, \"Time\": \"2020-05-31T00:00:00\"}, {\"Traffic Sent (MB)\": 9810, \"Time\": \"2020-06-01T00:00:00\"}, {\"Traffic Sent (MB)\": 8917, \"Time\": \"2020-06-02T00:00:00\"}, {\"Traffic Sent (MB)\": 8554, \"Time\": \"2020-06-03T00:00:00\"}, {\"Traffic Sent (MB)\": 10321, \"Time\": \"2020-06-04T00:00:00\"}, {\"Traffic Sent (MB)\": 10467, \"Time\": \"2020-06-05T00:00:00\"}, {\"Traffic Sent (MB)\": 9937, \"Time\": \"2020-06-06T00:00:00\"}, {\"Traffic Sent (MB)\": 8720, \"Time\": \"2020-06-07T00:00:00\"}, {\"Traffic Sent (MB)\": 10823, \"Time\": \"2020-06-08T00:00:00\"}, {\"Traffic Sent (MB)\": 10347, \"Time\": \"2020-06-09T00:00:00\"}, {\"Traffic Sent (MB)\": 10981, \"Time\": \"2020-06-10T00:00:00\"}, {\"Traffic Sent (MB)\": 9690, \"Time\": \"2020-06-11T00:00:00\"}, {\"Traffic Sent (MB)\": 9337, \"Time\": \"2020-06-12T00:00:00\"}, {\"Traffic Sent (MB)\": 8796, \"Time\": \"2020-06-13T00:00:00\"}, {\"Traffic Sent (MB)\": 11419, \"Time\": \"2020-06-14T00:00:00\"}, {\"Traffic Sent (MB)\": 10364, \"Time\": \"2020-06-15T00:00:00\"}, {\"Traffic Sent (MB)\": 10240, \"Time\": \"2020-06-16T00:00:00\"}, {\"Traffic Sent (MB)\": 10479, \"Time\": \"2020-06-17T00:00:00\"}, {\"Traffic Sent (MB)\": 10016, \"Time\": \"2020-06-18T00:00:00\"}, {\"Traffic Sent (MB)\": 10856, \"Time\": \"2020-06-19T00:00:00\"}, {\"Traffic Sent (MB)\": 10448, \"Time\": \"2020-06-20T00:00:00\"}, {\"Traffic Sent (MB)\": 11308, \"Time\": \"2020-06-21T00:00:00\"}, {\"Traffic Sent (MB)\": 10482, \"Time\": \"2020-06-22T00:00:00\"}, {\"Traffic Sent (MB)\": 9464, \"Time\": \"2020-06-23T00:00:00\"}, {\"Traffic Sent (MB)\": 10040, \"Time\": \"2020-06-24T00:00:00\"}, {\"Traffic Sent (MB)\": 9124, \"Time\": \"2020-06-25T00:00:00\"}, {\"Traffic Sent (MB)\": 10631, \"Time\": \"2020-06-26T00:00:00\"}, {\"Traffic Sent (MB)\": 9128, \"Time\": \"2020-06-27T00:00:00\"}, {\"Traffic Sent (MB)\": 9437, \"Time\": \"2020-06-28T00:00:00\"}, {\"Traffic Sent (MB)\": 9836, \"Time\": \"2020-06-29T00:00:00\"}, {\"Traffic Sent (MB)\": 9962, \"Time\": \"2020-06-30T00:00:00\"}, {\"Traffic Sent (MB)\": 10607, \"Time\": \"2020-07-01T00:00:00\"}, {\"Traffic Sent (MB)\": 11022, \"Time\": \"2020-07-02T00:00:00\"}, {\"Traffic Sent (MB)\": 9394, \"Time\": \"2020-07-03T00:00:00\"}, {\"Traffic Sent (MB)\": 11006, \"Time\": \"2020-07-04T00:00:00\"}, {\"Traffic Sent (MB)\": 10165, \"Time\": \"2020-07-05T00:00:00\"}, {\"Traffic Sent (MB)\": 9535, \"Time\": \"2020-07-06T00:00:00\"}, {\"Traffic Sent (MB)\": 9911, \"Time\": \"2020-07-07T00:00:00\"}, {\"Traffic Sent (MB)\": 9454, \"Time\": \"2020-07-08T00:00:00\"}, {\"Traffic Sent (MB)\": 10444, \"Time\": \"2020-07-09T00:00:00\"}, {\"Traffic Sent (MB)\": 10437, \"Time\": \"2020-07-10T00:00:00\"}, {\"Traffic Sent (MB)\": 9599, \"Time\": \"2020-07-11T00:00:00\"}, {\"Traffic Sent (MB)\": 9531, \"Time\": \"2020-07-12T00:00:00\"}, {\"Traffic Sent (MB)\": 9761, \"Time\": \"2020-07-13T00:00:00\"}, {\"Traffic Sent (MB)\": 9568, \"Time\": \"2020-07-14T00:00:00\"}, {\"Traffic Sent (MB)\": 9832, \"Time\": \"2020-07-15T00:00:00\"}, {\"Traffic Sent (MB)\": 10671, \"Time\": \"2020-07-16T00:00:00\"}, {\"Traffic Sent (MB)\": 11022, \"Time\": \"2020-07-17T00:00:00\"}, {\"Traffic Sent (MB)\": 10949, \"Time\": \"2020-07-18T00:00:00\"}, {\"Traffic Sent (MB)\": 10676, \"Time\": \"2020-07-19T00:00:00\"}, {\"Traffic Sent (MB)\": 9864, \"Time\": \"2020-07-20T00:00:00\"}, {\"Traffic Sent (MB)\": 9719, \"Time\": \"2020-07-21T00:00:00\"}, {\"Traffic Sent (MB)\": 9626, \"Time\": \"2020-07-22T00:00:00\"}, {\"Traffic Sent (MB)\": 9730, \"Time\": \"2020-07-23T00:00:00\"}, {\"Traffic Sent (MB)\": 9294, \"Time\": \"2020-07-24T00:00:00\"}, {\"Traffic Sent (MB)\": 10057, \"Time\": \"2020-07-25T00:00:00\"}, {\"Traffic Sent (MB)\": 10420, \"Time\": \"2020-07-26T00:00:00\"}, {\"Traffic Sent (MB)\": 9153, \"Time\": \"2020-07-27T00:00:00\"}, {\"Traffic Sent (MB)\": 10577, \"Time\": \"2020-07-28T00:00:00\"}, {\"Traffic Sent (MB)\": 10645, \"Time\": \"2020-07-29T00:00:00\"}, {\"Traffic Sent (MB)\": 10313, \"Time\": \"2020-07-30T00:00:00\"}, {\"Traffic Sent (MB)\": 11080, \"Time\": \"2020-07-31T00:00:00\"}, {\"Traffic Sent (MB)\": 9598, \"Time\": \"2020-08-01T00:00:00\"}, {\"Traffic Sent (MB)\": 11212, \"Time\": \"2020-08-02T00:00:00\"}, {\"Traffic Sent (MB)\": 10512, \"Time\": \"2020-08-03T00:00:00\"}, {\"Traffic Sent (MB)\": 10897, \"Time\": \"2020-08-04T00:00:00\"}, {\"Traffic Sent (MB)\": 10314, \"Time\": \"2020-08-05T00:00:00\"}, {\"Traffic Sent (MB)\": 9652, \"Time\": \"2020-08-06T00:00:00\"}, {\"Traffic Sent (MB)\": 10883, \"Time\": \"2020-08-07T00:00:00\"}, {\"Traffic Sent (MB)\": 10849, \"Time\": \"2020-08-08T00:00:00\"}, {\"Traffic Sent (MB)\": 11019, \"Time\": \"2020-08-09T00:00:00\"}, {\"Traffic Sent (MB)\": 11739, \"Time\": \"2020-08-10T00:00:00\"}, {\"Traffic Sent (MB)\": 10410, \"Time\": \"2020-08-11T00:00:00\"}, {\"Traffic Sent (MB)\": 9993, \"Time\": \"2020-08-12T00:00:00\"}, {\"Traffic Sent (MB)\": 11249, \"Time\": \"2020-08-13T00:00:00\"}, {\"Traffic Sent (MB)\": 10149, \"Time\": \"2020-08-14T00:00:00\"}, {\"Traffic Sent (MB)\": 10075, \"Time\": \"2020-08-15T00:00:00\"}, {\"Traffic Sent (MB)\": 10810, \"Time\": \"2020-08-16T00:00:00\"}, {\"Traffic Sent (MB)\": 10484, \"Time\": \"2020-08-17T00:00:00\"}, {\"Traffic Sent (MB)\": 9720, \"Time\": \"2020-08-18T00:00:00\"}, {\"Traffic Sent (MB)\": 9655, \"Time\": \"2020-08-19T00:00:00\"}, {\"Traffic Sent (MB)\": 9164, \"Time\": \"2020-08-20T00:00:00\"}, {\"Traffic Sent (MB)\": 9970, \"Time\": \"2020-08-21T00:00:00\"}, {\"Traffic Sent (MB)\": 8788, \"Time\": \"2020-08-22T00:00:00\"}, {\"Traffic Sent (MB)\": 10833, \"Time\": \"2020-08-23T00:00:00\"}, {\"Traffic Sent (MB)\": 9886, \"Time\": \"2020-08-24T00:00:00\"}, {\"Traffic Sent (MB)\": 9361, \"Time\": \"2020-08-25T00:00:00\"}, {\"Traffic Sent (MB)\": 10675, \"Time\": \"2020-08-26T00:00:00\"}, {\"Traffic Sent (MB)\": 10589, \"Time\": \"2020-08-27T00:00:00\"}, {\"Traffic Sent (MB)\": 9407, \"Time\": \"2020-08-28T00:00:00\"}, {\"Traffic Sent (MB)\": 9876, \"Time\": \"2020-08-29T00:00:00\"}, {\"Traffic Sent (MB)\": 10433, \"Time\": \"2020-08-30T00:00:00\"}, {\"Traffic Sent (MB)\": 9376, \"Time\": \"2020-08-31T00:00:00\"}, {\"Traffic Sent (MB)\": 10503, \"Time\": \"2020-09-01T00:00:00\"}, {\"Traffic Sent (MB)\": 9558, \"Time\": \"2020-09-02T00:00:00\"}, {\"Traffic Sent (MB)\": 8635, \"Time\": \"2020-09-03T00:00:00\"}, {\"Traffic Sent (MB)\": 10593, \"Time\": \"2020-09-04T00:00:00\"}, {\"Traffic Sent (MB)\": 10067, \"Time\": \"2020-09-05T00:00:00\"}, {\"Traffic Sent (MB)\": 10399, \"Time\": \"2020-09-06T00:00:00\"}, {\"Traffic Sent (MB)\": 9817, \"Time\": \"2020-09-07T00:00:00\"}, {\"Traffic Sent (MB)\": 10724, \"Time\": \"2020-09-08T00:00:00\"}, {\"Traffic Sent (MB)\": 10896, \"Time\": \"2020-09-09T00:00:00\"}, {\"Traffic Sent (MB)\": 10365, \"Time\": \"2020-09-10T00:00:00\"}, {\"Traffic Sent (MB)\": 10065, \"Time\": \"2020-09-11T00:00:00\"}, {\"Traffic Sent (MB)\": 10036, \"Time\": \"2020-09-12T00:00:00\"}, {\"Traffic Sent (MB)\": 9986, \"Time\": \"2020-09-13T00:00:00\"}, {\"Traffic Sent (MB)\": 10008, \"Time\": \"2020-09-14T00:00:00\"}, {\"Traffic Sent (MB)\": 9913, \"Time\": \"2020-09-15T00:00:00\"}, {\"Traffic Sent (MB)\": 10301, \"Time\": \"2020-09-16T00:00:00\"}, {\"Traffic Sent (MB)\": 9854, \"Time\": \"2020-09-17T00:00:00\"}, {\"Traffic Sent (MB)\": 9813, \"Time\": \"2020-09-18T00:00:00\"}, {\"Traffic Sent (MB)\": 10983, \"Time\": \"2020-09-19T00:00:00\"}, {\"Traffic Sent (MB)\": 10591, \"Time\": \"2020-09-20T00:00:00\"}, {\"Traffic Sent (MB)\": 9056, \"Time\": \"2020-09-21T00:00:00\"}, {\"Traffic Sent (MB)\": 10860, \"Time\": \"2020-09-22T00:00:00\"}, {\"Traffic Sent (MB)\": 9350, \"Time\": \"2020-09-23T00:00:00\"}, {\"Traffic Sent (MB)\": 9929, \"Time\": \"2020-09-24T00:00:00\"}, {\"Traffic Sent (MB)\": 10045, \"Time\": \"2020-09-25T00:00:00\"}, {\"Traffic Sent (MB)\": 8818, \"Time\": \"2020-09-26T00:00:00\"}, {\"Traffic Sent (MB)\": 10026, \"Time\": \"2020-09-27T00:00:00\"}, {\"Traffic Sent (MB)\": 10910, \"Time\": \"2020-09-28T00:00:00\"}, {\"Traffic Sent (MB)\": 10361, \"Time\": \"2020-09-29T00:00:00\"}, {\"Traffic Sent (MB)\": 11243, \"Time\": \"2020-09-30T00:00:00\"}, {\"Traffic Sent (MB)\": 9789, \"Time\": \"2020-10-01T00:00:00\"}, {\"Traffic Sent (MB)\": 11269, \"Time\": \"2020-10-02T00:00:00\"}, {\"Traffic Sent (MB)\": 10067, \"Time\": \"2020-10-03T00:00:00\"}, {\"Traffic Sent (MB)\": 10273, \"Time\": \"2020-10-04T00:00:00\"}, {\"Traffic Sent (MB)\": 10369, \"Time\": \"2020-10-05T00:00:00\"}, {\"Traffic Sent (MB)\": 10002, \"Time\": \"2020-10-06T00:00:00\"}, {\"Traffic Sent (MB)\": 9036, \"Time\": \"2020-10-07T00:00:00\"}, {\"Traffic Sent (MB)\": 10849, \"Time\": \"2020-10-08T00:00:00\"}, {\"Traffic Sent (MB)\": 10965, \"Time\": \"2020-10-09T00:00:00\"}, {\"Traffic Sent (MB)\": 9799, \"Time\": \"2020-10-10T00:00:00\"}, {\"Traffic Sent (MB)\": 9126, \"Time\": \"2020-10-11T00:00:00\"}, {\"Traffic Sent (MB)\": 8603, \"Time\": \"2020-10-12T00:00:00\"}, {\"Traffic Sent (MB)\": 11213, \"Time\": \"2020-10-13T00:00:00\"}, {\"Traffic Sent (MB)\": 10021, \"Time\": \"2020-10-14T00:00:00\"}, {\"Traffic Sent (MB)\": 10169, \"Time\": \"2020-10-15T00:00:00\"}, {\"Traffic Sent (MB)\": 10176, \"Time\": \"2020-10-16T00:00:00\"}, {\"Traffic Sent (MB)\": 10548, \"Time\": \"2020-10-17T00:00:00\"}, {\"Traffic Sent (MB)\": 10469, \"Time\": \"2020-10-18T00:00:00\"}, {\"Traffic Sent (MB)\": 10353, \"Time\": \"2020-10-19T00:00:00\"}, {\"Traffic Sent (MB)\": 10428, \"Time\": \"2020-10-20T00:00:00\"}, {\"Traffic Sent (MB)\": 8726, \"Time\": \"2020-10-21T00:00:00\"}, {\"Traffic Sent (MB)\": 11022, \"Time\": \"2020-10-22T00:00:00\"}, {\"Traffic Sent (MB)\": 11113, \"Time\": \"2020-10-23T00:00:00\"}, {\"Traffic Sent (MB)\": 10573, \"Time\": \"2020-10-24T00:00:00\"}, {\"Traffic Sent (MB)\": 10437, \"Time\": \"2020-10-25T00:00:00\"}, {\"Traffic Sent (MB)\": 11126, \"Time\": \"2020-10-26T00:00:00\"}, {\"Traffic Sent (MB)\": 9161, \"Time\": \"2020-10-27T00:00:00\"}, {\"Traffic Sent (MB)\": 9442, \"Time\": \"2020-10-28T00:00:00\"}, {\"Traffic Sent (MB)\": 10123, \"Time\": \"2020-10-29T00:00:00\"}, {\"Traffic Sent (MB)\": 9517, \"Time\": \"2020-10-30T00:00:00\"}, {\"Traffic Sent (MB)\": 8765, \"Time\": \"2020-10-31T00:00:00\"}, {\"Traffic Sent (MB)\": 9664, \"Time\": \"2020-11-01T00:00:00\"}, {\"Traffic Sent (MB)\": 9012, \"Time\": \"2020-11-02T00:00:00\"}, {\"Traffic Sent (MB)\": 9737, \"Time\": \"2020-11-03T00:00:00\"}, {\"Traffic Sent (MB)\": 10586, \"Time\": \"2020-11-04T00:00:00\"}, {\"Traffic Sent (MB)\": 11364, \"Time\": \"2020-11-05T00:00:00\"}, {\"Traffic Sent (MB)\": 10062, \"Time\": \"2020-11-06T00:00:00\"}, {\"Traffic Sent (MB)\": 10731, \"Time\": \"2020-11-07T00:00:00\"}, {\"Traffic Sent (MB)\": 9613, \"Time\": \"2020-11-08T00:00:00\"}, {\"Traffic Sent (MB)\": 10074, \"Time\": \"2020-11-09T00:00:00\"}, {\"Traffic Sent (MB)\": 9685, \"Time\": \"2020-11-10T00:00:00\"}, {\"Traffic Sent (MB)\": 8407, \"Time\": \"2020-11-11T00:00:00\"}, {\"Traffic Sent (MB)\": 10357, \"Time\": \"2020-11-12T00:00:00\"}, {\"Traffic Sent (MB)\": 8934, \"Time\": \"2020-11-13T00:00:00\"}, {\"Traffic Sent (MB)\": 10182, \"Time\": \"2020-11-14T00:00:00\"}, {\"Traffic Sent (MB)\": 10361, \"Time\": \"2020-11-15T00:00:00\"}, {\"Traffic Sent (MB)\": 9449, \"Time\": \"2020-11-16T00:00:00\"}, {\"Traffic Sent (MB)\": 10012, \"Time\": \"2020-11-17T00:00:00\"}, {\"Traffic Sent (MB)\": 9964, \"Time\": \"2020-11-18T00:00:00\"}, {\"Traffic Sent (MB)\": 10096, \"Time\": \"2020-11-19T00:00:00\"}, {\"Traffic Sent (MB)\": 10063, \"Time\": \"2020-11-20T00:00:00\"}, {\"Traffic Sent (MB)\": 9447, \"Time\": \"2020-11-21T00:00:00\"}, {\"Traffic Sent (MB)\": 10721, \"Time\": \"2020-11-22T00:00:00\"}, {\"Traffic Sent (MB)\": 11331, \"Time\": \"2020-11-23T00:00:00\"}, {\"Traffic Sent (MB)\": 8987, \"Time\": \"2020-11-24T00:00:00\"}, {\"Traffic Sent (MB)\": 9952, \"Time\": \"2020-11-25T00:00:00\"}, {\"Traffic Sent (MB)\": 10484, \"Time\": \"2020-11-26T00:00:00\"}, {\"Traffic Sent (MB)\": 9749, \"Time\": \"2020-11-27T00:00:00\"}, {\"Traffic Sent (MB)\": 9793, \"Time\": \"2020-11-28T00:00:00\"}, {\"Traffic Sent (MB)\": 8582, \"Time\": \"2020-11-29T00:00:00\"}, {\"Traffic Sent (MB)\": 10668, \"Time\": \"2020-11-30T00:00:00\"}, {\"Traffic Sent (MB)\": 10611, \"Time\": \"2020-12-01T00:00:00\"}, {\"Traffic Sent (MB)\": 12264, \"Time\": \"2020-12-02T00:00:00\"}, {\"Traffic Sent (MB)\": 9520, \"Time\": \"2020-12-03T00:00:00\"}, {\"Traffic Sent (MB)\": 11008, \"Time\": \"2020-12-04T00:00:00\"}, {\"Traffic Sent (MB)\": 9619, \"Time\": \"2020-12-05T00:00:00\"}, {\"Traffic Sent (MB)\": 10510, \"Time\": \"2020-12-06T00:00:00\"}, {\"Traffic Sent (MB)\": 10708, \"Time\": \"2020-12-07T00:00:00\"}, {\"Traffic Sent (MB)\": 9909, \"Time\": \"2020-12-08T00:00:00\"}, {\"Traffic Sent (MB)\": 9382, \"Time\": \"2020-12-09T00:00:00\"}, {\"Traffic Sent (MB)\": 10060, \"Time\": \"2020-12-10T00:00:00\"}, {\"Traffic Sent (MB)\": 9776, \"Time\": \"2020-12-11T00:00:00\"}, {\"Traffic Sent (MB)\": 10542, \"Time\": \"2020-12-12T00:00:00\"}, {\"Traffic Sent (MB)\": 9545, \"Time\": \"2020-12-13T00:00:00\"}, {\"Traffic Sent (MB)\": 8401, \"Time\": \"2020-12-14T00:00:00\"}, {\"Traffic Sent (MB)\": 9869, \"Time\": \"2020-12-15T00:00:00\"}, {\"Traffic Sent (MB)\": 11018, \"Time\": \"2020-12-16T00:00:00\"}, {\"Traffic Sent (MB)\": 10058, \"Time\": \"2020-12-17T00:00:00\"}, {\"Traffic Sent (MB)\": 10220, \"Time\": \"2020-12-18T00:00:00\"}, {\"Traffic Sent (MB)\": 10141, \"Time\": \"2020-12-19T00:00:00\"}, {\"Traffic Sent (MB)\": 10963, \"Time\": \"2020-12-20T00:00:00\"}, {\"Traffic Sent (MB)\": 10614, \"Time\": \"2020-12-21T00:00:00\"}, {\"Traffic Sent (MB)\": 11167, \"Time\": \"2020-12-22T00:00:00\"}, {\"Traffic Sent (MB)\": 9146, \"Time\": \"2020-12-23T00:00:00\"}, {\"Traffic Sent (MB)\": 10886, \"Time\": \"2020-12-24T00:00:00\"}, {\"Traffic Sent (MB)\": 9555, \"Time\": \"2020-12-25T00:00:00\"}, {\"Traffic Sent (MB)\": 9250, \"Time\": \"2020-12-26T00:00:00\"}, {\"Traffic Sent (MB)\": 10605, \"Time\": \"2020-12-27T00:00:00\"}, {\"Traffic Sent (MB)\": 10314, \"Time\": \"2020-12-28T00:00:00\"}, {\"Traffic Sent (MB)\": 9352, \"Time\": \"2020-12-29T00:00:00\"}, {\"Traffic Sent (MB)\": 10040, \"Time\": \"2020-12-30T00:00:00\"}, {\"Traffic Sent (MB)\": 9909, \"Time\": \"2020-12-31T00:00:00\"}], \"data-3dbef05335d08111b543db0c09b1669b\": [{\"capacity\": 10752}]}}, {\"mode\": \"vega-lite\"});\n",
       "</script>"
      ],
      "text/plain": [
       "alt.LayerChart(...)"
      ]
     },
     "execution_count": 25,
     "metadata": {},
     "output_type": "execute_result"
    }
   ],
   "source": [
    "#A quick function to sum up the property values on the edge \n",
    "def edge_weight(edge,prop_name):\n",
    "    return sum(list(map(lambda e: e[1],edge.property_history(prop_name))))\n",
    "\n",
    "rolling_edge = device_graph.edge(\"N01\",\"N02\").rolling(step='1 day', window='1 day')\n",
    "\n",
    "result = pd.DataFrame()\n",
    "result['Traffic Sent (MB)'] = [edge_weight(e,\"traffic\") for e in rolling_edge]\n",
    "result['Time'] = [e.end_date_time() for e in rolling_edge]\n",
    "\n",
    "capacity = pd.DataFrame({'capacity': [device_graph.edge(\"N01\",\"N02\")[\"capacity\"]]})\n",
    "\n",
    "\n",
    "chart = alt.Chart(result).mark_line().encode(\n",
    "    x=\"Time:T\",\n",
    "    y=\"Traffic Sent (MB):Q\",\n",
    ").properties(\n",
    "    width=800,\n",
    ")\n",
    "capacity_line = alt.Chart(capacity).mark_rule(color='red', strokeWidth=3,strokeDash=[3, 3]).encode(y='capacity:Q')\n",
    "\n",
    "alt.layer(chart,capacity_line)\n"
   ]
  },
  {
   "cell_type": "code",
   "execution_count": null,
   "metadata": {},
   "outputs": [],
   "source": []
  }
 ],
 "metadata": {
  "kernelspec": {
   "display_name": "docbrown",
   "language": "python",
   "name": "python3"
  },
  "language_info": {
   "codemirror_mode": {
    "name": "ipython",
    "version": 3
   },
   "file_extension": ".py",
   "mimetype": "text/x-python",
   "name": "python",
   "nbconvert_exporter": "python",
   "pygments_lexer": "ipython3",
   "version": "3.10.9"
  },
  "orig_nbformat": 4
 },
 "nbformat": 4,
 "nbformat_minor": 2
}
