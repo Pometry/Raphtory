{
 "cells": [
  {
   "cell_type": "code",
   "execution_count": 8,
   "metadata": {},
   "outputs": [
    {
     "name": "stdout",
     "output_type": "stream",
     "text": [
      "Graph(number_of_edges=250, number_of_vertices=170, earliest_time=1929, latest_time=2012)\n",
      "1990 1\n",
      "1990 1\n",
      "1992 2\n",
      "1993 3\n",
      "1993 3\n",
      "1995 4\n",
      "1996 5\n",
      "1996 5\n",
      "1998 6\n",
      "1999 7\n"
     ]
    }
   ],
   "source": [
    "from raphtory import Graph\n",
    "from raphtory import graph_loader\n",
    "try:\n",
    "    movie_graph = graph_loader.neo4j_movie_graph(\"127.0.0.1:7687\",\"neo4j\",\"password\",\"neo4j\")\n",
    "    print(movie_graph)\n",
    "    tom=movie_graph.vertex(\"Tom Hanks\")\n",
    "    for t in tom.window(1990,2000).expanding(1):\n",
    "        print(t.latest_time(),t.degree())\n",
    "except:\n",
    "    print(\"No movie graph for you\")        "
   ]
  },
  {
   "cell_type": "code",
   "execution_count": null,
   "metadata": {},
   "outputs": [],
   "source": []
  }
 ],
 "metadata": {
  "kernelspec": {
   "display_name": "docbrown",
   "language": "python",
   "name": "python3"
  },
  "language_info": {
   "codemirror_mode": {
    "name": "ipython",
    "version": 3
   },
   "file_extension": ".py",
   "mimetype": "text/x-python",
   "name": "python",
   "nbconvert_exporter": "python",
   "pygments_lexer": "ipython3",
   "version": "3.10.9"
  },
  "orig_nbformat": 4
 },
 "nbformat": 4,
 "nbformat_minor": 2
}
