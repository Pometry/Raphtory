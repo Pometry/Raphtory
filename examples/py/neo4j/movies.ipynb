{
 "cells": [
  {
   "cell_type": "code",
   "execution_count": 20,
   "metadata": {},
   "outputs": [
    {
     "name": "stdout",
     "output_type": "stream",
     "text": [
      "Graph(number_of_edges=250, number_of_vertices=170, earliest_time=1929, latest_time=2012)\n",
      "In 1990 Tom was in 1 films.\n",
      "In 1991 Tom was in 0 films.\n",
      "In 1992 Tom was in 1 films.\n",
      "In 1993 Tom was in 1 films.\n",
      "In 1994 Tom was in 0 films.\n",
      "In 1995 Tom was in 1 films.\n",
      "In 1996 Tom was in 1 films.\n",
      "In 1997 Tom was in 0 films.\n",
      "In 1998 Tom was in 1 films.\n",
      "In 1999 Tom was in 1 films.\n"
     ]
    }
   ],
   "source": [
    "from raphtory import Graph\n",
    "from raphtory import graph_loader\n",
    "try:\n",
    "    movie_graph = graph_loader.neo4j_movie_graph(\"127.0.0.1:7687\",\"neo4j\",\"password\",\"neo4j\")\n",
    "    print(movie_graph)\n",
    "    tom=movie_graph.vertex(\"Tom Hanks\")\n",
    "    for t in tom.window(1990,2000).rolling(1):\n",
    "        print(\"In\",t.start(),\"Tom was in\",t.degree(),\"films.\")\n",
    "except:\n",
    "    print(\"No movie graph for you\")        "
   ]
  },
  {
   "cell_type": "code",
   "execution_count": 15,
   "metadata": {},
   "outputs": [
    {
     "data": {
      "text/plain": [
       "4.0"
      ]
     },
     "execution_count": 15,
     "metadata": {},
     "output_type": "execute_result"
    }
   ],
   "source": [
    "tom.at(1990).neighbours().degree().mean()"
   ]
  },
  {
   "cell_type": "code",
   "execution_count": null,
   "metadata": {},
   "outputs": [],
   "source": []
  }
 ],
 "metadata": {
  "kernelspec": {
   "display_name": "raphtory",
   "language": "python",
   "name": "python3"
  },
  "language_info": {
   "codemirror_mode": {
    "name": "ipython",
    "version": 3
   },
   "file_extension": ".py",
   "mimetype": "text/x-python",
   "name": "python",
   "nbconvert_exporter": "python",
   "pygments_lexer": "ipython3",
   "version": "3.10.9"
  },
  "orig_nbformat": 4
 },
 "nbformat": 4,
 "nbformat_minor": 2
}
