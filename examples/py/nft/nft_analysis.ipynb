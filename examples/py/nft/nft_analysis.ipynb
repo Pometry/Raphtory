{
 "cells": [
  {
   "cell_type": "markdown",
   "id": "f611d863",
   "metadata": {
    "pycharm": {
     "name": "#%% md\n"
    },
    "tags": []
   },
   "source": [
    "# Finding Cycles in NFT Transactions"
   ]
  },
  {
   "cell_type": "markdown",
   "id": "29aca51f",
   "metadata": {
    "pycharm": {
     "name": "#%% md\n"
    }
   },
   "source": [
    "## Overview"
   ]
  },
  {
   "cell_type": "markdown",
   "id": "fcf3feeb",
   "metadata": {
    "pycharm": {
     "name": "#%% md\n"
    }
   },
   "source": [
    "A Non-fungible Token (NFT) is a digital asset which cannot be copied, substituted, or subdivided, meaning it is wholly unique.\n",
    "\n",
    "![title](http://web.archive.org/web/20220328080727im_/https://blog.portion.io/content/images/2021/07/Kevin-McCoy-Quantum.gif)\n",
    "\n",
    "NFT’s are stored on blockchain systems, notably Ethereum, with the owner of an NFT being whomever has access to the wallet it is stored within.\n",
    "\n",
    "Since the first NFT, Quantum (shown above), many new NFT artworks have arisen including Cryptokitties and Cryptopunks. This culminated in a boom in 2021 which included the arrival of the Bored Ape Yacht Club, with NFTS reaching a global market valued of $15.7 Billion.\n",
    "\n",
    "In this example we will analyse an NFT dataset in order to find suspicious trading cycles.\n",
    "\n",
    "1. Using Raphtory to load the NFT data as a graph\n",
    "2. Execute a cycle detection algorithm\n",
    "3. Analyse the results to find suspicious cycles of NFTs\n",
    "\n",
    "The data we used is a cleaned and trimmed version from [1]\n",
    "\n",
    "\n",
    "[1] Nadini, M., Alessandretti, L., Di Giacinto, F. et al. Mapping the NFT revolution: market trends, trade networks, and visual features. Sci Rep 11, 20902 (2021). https://doi.org/10.1038/s41598-021-00053-8"
   ]
  },
  {
   "cell_type": "markdown",
   "id": "f46097e5",
   "metadata": {
    "pycharm": {
     "name": "#%% md\n"
    }
   },
   "source": [
    "## Loading data with Raphtory"
   ]
  },
  {
   "cell_type": "markdown",
   "id": "d2515fbf",
   "metadata": {
    "pycharm": {
     "name": "#%% md\n"
    }
   },
   "source": [
    "First we install some extra packages"
   ]
  },
  {
   "cell_type": "code",
   "execution_count": null,
   "id": "7da4b290",
   "metadata": {
    "collapsed": false,
    "jupyter": {
     "outputs_hidden": false
    },
    "pycharm": {
     "name": "#%%\n"
    }
   },
   "outputs": [],
   "source": [
    "%pip install pandas tqdm seaborn"
   ]
  },
  {
   "cell_type": "markdown",
   "id": "65a9863b",
   "metadata": {
    "pycharm": {
     "name": "#%% md\n"
    }
   },
   "source": [
    "Now we import the following so we can use Raphtory"
   ]
  },
  {
   "cell_type": "code",
   "execution_count": 2,
   "id": "6ea73e22",
   "metadata": {
    "collapsed": false,
    "jupyter": {
     "outputs_hidden": false
    },
    "pycharm": {
     "name": "#%%\n"
    }
   },
   "outputs": [],
   "source": [
    "from raphtory import Graph\n",
    "from raphtory import algorithms\n",
    "\n",
    "from nft_helper import *\n",
    "\n",
    "import pandas as pd\n",
    "import os \n",
    "from tqdm.notebook import tqdm\n",
    "from calendar import timegm\n",
    "import datetime\n",
    "import time\n",
    "import re\n",
    "import os"
   ]
  },
  {
   "cell_type": "markdown",
   "id": "98504950",
   "metadata": {
    "pycharm": {
     "name": "#%% md\n"
    }
   },
   "source": [
    "Below are our data sources\n",
    "- `date_price` a dictionary containing the daily ETH-USD price, we we need to convert as some prices are missing\n",
    "- `filename` - this is the cleaned transaction data, which represents NFTs being bought by wallets \n",
    "- `at_time` - is the time we want to run our analysis, this is the last time in the dataset "
   ]
  },
  {
   "cell_type": "code",
   "execution_count": 62,
   "id": "99b0ca10",
   "metadata": {
    "collapsed": false,
    "jupyter": {
     "outputs_hidden": false
    },
    "pycharm": {
     "name": "#%%\n"
    }
   },
   "outputs": [
    {
     "name": "stdout",
     "output_type": "stream",
     "text": [
      "  % Total    % Received % Xferd  Average Speed   Time    Time     Time  Current\n",
      "                                 Dload  Upload   Total   Spent    Left  Speed\n",
      "100   387  100   387    0     0    564      0 --:--:-- --:--:-- --:--:--   574\n",
      "  0     0    0     0    0     0      0      0 --:--:--  0:00:02 --:--:--     0\n",
      "100  106M  100  106M    0     0  7323k      0  0:00:14  0:00:14 --:--:-- 8794k 0:00:15  0:00:14  0:00:01 8864k\n"
     ]
    }
   ],
   "source": [
    "if not os.path.isfile(\"ETH-USD.csv\"):\n",
    "    !curl -o ETH-USD.csv https://osf.io/download/mw3vh/ -L\n",
    "    \n",
    "if not os.path.isfile(\"Data_API.csv\"):\n",
    "    !curl -o Data_API.csv https://osf.io/download/jpz2e/ -L"
   ]
  },
  {
   "cell_type": "markdown",
   "id": "c602d32b",
   "metadata": {},
   "source": [
    "Set up the variables"
   ]
  },
  {
   "cell_type": "code",
   "execution_count": 4,
   "id": "5fd288ef",
   "metadata": {
    "collapsed": false,
    "jupyter": {
     "outputs_hidden": false
    },
    "pycharm": {
     "name": "#%%\n"
    }
   },
   "outputs": [
    {
     "name": "stdout",
     "output_type": "stream",
     "text": [
      "Loading ETH-USD.csv\n",
      "Loading Data_API.csv\n"
     ]
    },
    {
     "name": "stderr",
     "output_type": "stream",
     "text": [
      "/var/folders/rm/nnz28pc96cv2xqzbwlwvwl2r0000gn/T/ipykernel_29037/2545216830.py:7: DtypeWarning: Columns (0,4,6) have mixed types. Specify dtype option on import or set low_memory=False.\n",
      "  data_df = pd.read_csv(filename)\n"
     ]
    }
   ],
   "source": [
    "eth_price_csv = 'ETH-USD.csv'\n",
    "print(\"Loading ETH-USD.csv\")\n",
    "date_price = setup_date_prices(eth_price_csv)\n",
    "\n",
    "print(\"Loading Data_API.csv\")\n",
    "filename = \"Data_API.csv\"\n",
    "data_df = pd.read_csv(filename)\n",
    "\n",
    "at_time = 1561661534"
   ]
  },
  {
   "cell_type": "markdown",
   "id": "559cc999",
   "metadata": {
    "pycharm": {
     "name": "#%% md\n"
    }
   },
   "source": [
    "For this example, we are going to create a bipartite graph. \n",
    "\n",
    "In our graph, we have wallets on the left, and NFTs on the right. \n",
    "\n",
    "Each edge represents that an NFT was purchased by a wallet. \n",
    "\n",
    "The `parse_graph` function will take each line, from the spout, and turn these into graph updates. \n",
    "\n",
    "\n",
    "![title](https://www.raphtory.com/images/nfts/buy_nft.png)\n"
   ]
  },
  {
   "cell_type": "code",
   "execution_count": 72,
   "id": "aab2b017-e79e-4ccd-80c5-bf21881ea845",
   "metadata": {},
   "outputs": [],
   "source": [
    "import csv\n",
    "def load_or_create_graph_csv(graph_name='/tmp/nft_graph', filename='Data_API.csv'):\n",
    "    if os.path.exists(graph_name):\n",
    "        return Graph.load_from_file(graph_name)\n",
    "    else:\n",
    "        g = Graph()\n",
    "        with open(filename, encoding='utf-8') as f:\n",
    "            reader = csv.reader(f)\n",
    "            header = next(reader)\n",
    "            for row in tqdm(reader, total=359219):\n",
    "                timestamp = int(row[13])\n",
    "                # NFT details + nft node\n",
    "                v_props = {\n",
    "                    'type': 'NFT', \n",
    "                    'collection': row[14], \n",
    "                    'category': row[15]\n",
    "                }\n",
    "                g.add_vertex(0, row[1], v_props)\n",
    "                # Buyer details + buyer node\n",
    "                g.add_vertex(0, row[5], {'type': 'buyer'})\n",
    "                # Transaction details\n",
    "                # Creating a bipartite graph,\n",
    "                # add edge between buyer and nft\n",
    "                price = 0.0\n",
    "                if row[9] != '':\n",
    "                    price = float(row[9])\n",
    "                properties = {\n",
    "                    \"price_usd\": price, \n",
    "                    \"timestamp\": timestamp, \n",
    "                    \"transaction_hash\": row[2]\n",
    "                }\n",
    "                g.add_edge(timestamp, row[5], row[1], properties)\n",
    "        return g"
   ]
  },
  {
   "cell_type": "markdown",
   "id": "b932e8db",
   "metadata": {
    "pycharm": {
     "name": "#%% md\n"
    }
   },
   "source": [
    "Now we will start a raphtory instance and load our data"
   ]
  },
  {
   "cell_type": "code",
   "execution_count": 73,
   "id": "a44c95d4-54e3-444c-a55e-4e837a7a3c95",
   "metadata": {},
   "outputs": [
    {
     "data": {
      "application/vnd.jupyter.widget-view+json": {
       "model_id": "890131eed9484e4f9c5ee5b098369fb4",
       "version_major": 2,
       "version_minor": 0
      },
      "text/plain": [
       "  0%|          | 0/359219 [00:00<?, ?it/s]"
      ]
     },
     "metadata": {},
     "output_type": "display_data"
    }
   ],
   "source": [
    "g = load_or_create_graph_csv()"
   ]
  },
  {
   "cell_type": "markdown",
   "id": "8c3ede0f",
   "metadata": {
    "pycharm": {
     "name": "#%% md\n"
    }
   },
   "source": [
    "## Executing a Cycle detection algorithm"
   ]
  },
  {
   "cell_type": "markdown",
   "id": "bc26b4c5",
   "metadata": {
    "pycharm": {
     "name": "#%% md\n"
    }
   },
   "source": [
    "Below is a visual representation of the cycle detection. \n",
    "\n",
    "This is when a NFT has been sold by a wallet, but eventually ends up being owned by it again. This can involve a chain of any number of other wallets, take any amount of time, and increase or decrease the price by any amount.\n",
    "\n",
    "Below we can see an example of such a cycle where Wallet A sold an NFT to Wallet B for $50$ on Monday, but its back in their position by Thursday, costing them $750$. They either have serious sellers remorse or, more likely, the same person owns all these wallets and is trying to pump up the price of the given NFT.\n",
    "\n",
    "Our algorithm:\n",
    "- Gets each NFT\n",
    "- For each time it was purchased, checks the list of purchases to see if a user re-bought the NFT at a later date, at a higher price\n",
    "\n",
    "This all happens within the `step` function. A `step` is executed once on each node.  \n",
    "\n",
    "The code has been optimised to O(n) complexity. "
   ]
  },
  {
   "cell_type": "markdown",
   "id": "3652af9a",
   "metadata": {
    "pycharm": {
     "name": "#%% md\n"
    }
   },
   "source": [
    "![title](https://www.raphtory.com/images/nfts/NFT_Cycle.png)"
   ]
  },
  {
   "cell_type": "code",
   "execution_count": 74,
   "id": "661e011c",
   "metadata": {
    "collapsed": false,
    "jupyter": {
     "outputs_hidden": false
    },
    "pycharm": {
     "name": "#%%\n"
    }
   },
   "outputs": [],
   "source": [
    "def money_cycle_algorithm(g):\n",
    "    all_cycles_dict = {}\n",
    "    for v in tqdm(g.vertices()):\n",
    "        if v['type'] != \"NFT\":\n",
    "            continue\n",
    "        all_cycles = []\n",
    "        all_purchases = sorted(list(v.in_edges().explode()), key = lambda e: e['timestamp'])\n",
    "        purchasers = list(map(lambda e:\n",
    "                          dict(price_usd=float(e[\"price_usd\"]),\n",
    "                               nft_id=e.dst().name(),\n",
    "                               tx_hash=e[\"transaction_hash\"],\n",
    "                               time=e['timestamp'],\n",
    "                               buyer=e.src().name()),\n",
    "                          all_purchases))\n",
    "        if len(purchasers) > 2:\n",
    "            buyers_seen = {}\n",
    "            for pos, item_sale in enumerate(purchasers):\n",
    "                buyer_id = item_sale['buyer']\n",
    "                if buyer_id not in buyers_seen:\n",
    "                    buyers_seen[buyer_id] = pos\n",
    "                else:\n",
    "                    prev_pos = buyers_seen[buyer_id]\n",
    "                    prev_price = purchasers[prev_pos]['price_usd']\n",
    "                    current_price = item_sale['price_usd']\n",
    "                    buyers_seen[buyer_id] = pos\n",
    "                    if prev_price < current_price:\n",
    "                        all_cycles.append(purchasers[prev_pos:pos + 1])\n",
    "        if len(all_cycles):\n",
    "            all_cycles_dict[v] = all_cycles\n",
    "    return all_cycles_dict\n",
    "\n",
    "def save_to_csv(data):\n",
    "    header = [\"nft_id\", \"nft_collection\", \"nft_category\", \"cycle_lengths\", \"cycle_info\"]\n",
    "    all_rows = []\n",
    "    for k,cycles_found in data.items():\n",
    "        nft_id = k.name()\n",
    "        nft_collection = k['collection']\n",
    "        nft_category = k['category']\n",
    "        cycle_lengths = [len(cycle) for cycle in cycles_found]\n",
    "        cycle_info = [dict(cycle={'sales': single_cycle},\n",
    "                                               profit_usd=float(single_cycle[len(single_cycle) - 1]['price_usd']) -\n",
    "                                                          float(single_cycle[0]['price_usd']),\n",
    "                                               buyer=str(single_cycle[0]['buyer'])) for single_cycle in cycles_found]\n",
    "        rows_found = list(map(lambda single_cycle:\n",
    "                      [\n",
    "                          nft_id,\n",
    "                          nft_collection,\n",
    "                          nft_category,\n",
    "                          len(single_cycle),\n",
    "                          dict(cycle={'sales': single_cycle},\n",
    "                               profit_usd=float(single_cycle[len(single_cycle) - 1]['price_usd']) -\n",
    "                                          float(single_cycle[0]['price_usd']),\n",
    "                               buyer=str(single_cycle[0]['buyer']))\n",
    "                      ], cycles_found))\n",
    "        all_rows.extend(rows_found)\n",
    "    df = pd.DataFrame(all_rows, columns=header)\n",
    "    df.to_csv('results.csv', index=False)\n",
    "    return df"
   ]
  },
  {
   "cell_type": "markdown",
   "id": "9e6141d4",
   "metadata": {
    "pycharm": {
     "name": "#%% md\n"
    }
   },
   "source": [
    "We run the algorithm as follows "
   ]
  },
  {
   "cell_type": "code",
   "execution_count": 76,
   "id": "31e582af",
   "metadata": {
    "collapsed": false,
    "jupyter": {
     "outputs_hidden": false
    },
    "pycharm": {
     "name": "#%%\n"
    }
   },
   "outputs": [
    {
     "data": {
      "application/vnd.jupyter.widget-view+json": {
       "model_id": "6336b4e117224b58bcab2d86469b35c1",
       "version_major": 2,
       "version_minor": 0
      },
      "text/plain": [
       "  0%|          | 0/253114 [00:00<?, ?it/s]"
      ]
     },
     "metadata": {},
     "output_type": "display_data"
    }
   ],
   "source": [
    "# Run algorithm \n",
    "results = money_cycle_algorithm(g)\n",
    "\n",
    "# Save results to a csv \n",
    "df = save_to_csv(results)"
   ]
  },
  {
   "cell_type": "markdown",
   "id": "6cd9a13d",
   "metadata": {
    "pycharm": {
     "name": "#%% md\n"
    }
   },
   "source": [
    "## Analysing the results\n",
    "\n",
    "First we import the tools we are using for analysis"
   ]
  },
  {
   "cell_type": "code",
   "execution_count": 77,
   "id": "44a3eb7e",
   "metadata": {
    "collapsed": false,
    "jupyter": {
     "outputs_hidden": false
    },
    "pycharm": {
     "name": "#%%\n"
    }
   },
   "outputs": [],
   "source": [
    "import pandas as pd\n",
    "import json\n",
    "import seaborn as sns\n",
    "from scipy import stats\n",
    "import numpy as np\n",
    "import time\n",
    "import matplotlib.pyplot as plt\n",
    "plt.rcParams['font.size'] = '16'\n",
    "from nft_helper import *\n",
    "from collections import Counter"
   ]
  },
  {
   "cell_type": "markdown",
   "id": "f08313b6",
   "metadata": {
    "pycharm": {
     "name": "#%% md\n"
    }
   },
   "source": [
    "### Read data\n",
    "\n",
    "We will now read the data that Raphtory produced. \n",
    "\n",
    "Please check which path the data was saved too, and adjust the line below. "
   ]
  },
  {
   "cell_type": "code",
   "execution_count": 78,
   "id": "cb31074e",
   "metadata": {
    "collapsed": false,
    "jupyter": {
     "outputs_hidden": false
    },
    "pycharm": {
     "name": "#%%\n"
    }
   },
   "outputs": [],
   "source": [
    "data = pd.read_csv(\"results.csv\")\n",
    "# filter any cycles that are less than 2 hops\n",
    "data_df = data.loc[(data['cycle_lengths'] > 2)]\n",
    "data_df = data_df.reset_index().drop(columns=['index'])"
   ]
  },
  {
   "cell_type": "code",
   "execution_count": 79,
   "id": "82b25341",
   "metadata": {
    "collapsed": false,
    "jupyter": {
     "outputs_hidden": false
    },
    "pycharm": {
     "name": "#%%\n"
    }
   },
   "outputs": [
    {
     "data": {
      "text/html": [
       "<div>\n",
       "<style scoped>\n",
       "    .dataframe tbody tr th:only-of-type {\n",
       "        vertical-align: middle;\n",
       "    }\n",
       "\n",
       "    .dataframe tbody tr th {\n",
       "        vertical-align: top;\n",
       "    }\n",
       "\n",
       "    .dataframe thead th {\n",
       "        text-align: right;\n",
       "    }\n",
       "</style>\n",
       "<table border=\"1\" class=\"dataframe\">\n",
       "  <thead>\n",
       "    <tr style=\"text-align: right;\">\n",
       "      <th></th>\n",
       "      <th>nft_id</th>\n",
       "      <th>nft_collection</th>\n",
       "      <th>nft_category</th>\n",
       "      <th>cycle_lengths</th>\n",
       "      <th>cycle_info</th>\n",
       "      <th>profit</th>\n",
       "      <th>min_ts</th>\n",
       "      <th>max_ts</th>\n",
       "      <th>length</th>\n",
       "      <th>duration_days</th>\n",
       "    </tr>\n",
       "  </thead>\n",
       "  <tbody>\n",
       "    <tr>\n",
       "      <th>0</th>\n",
       "      <td>1141669_Cryptokittie</td>\n",
       "      <td>Cryptokittie</td>\n",
       "      <td>Art</td>\n",
       "      <td>5</td>\n",
       "      <td>{'cycle': {'sales': [{'price_usd': 43.64039125...</td>\n",
       "      <td>17.599676</td>\n",
       "      <td>1540972504</td>\n",
       "      <td>1542022960</td>\n",
       "      <td>5</td>\n",
       "      <td>12.158056</td>\n",
       "    </tr>\n",
       "    <tr>\n",
       "      <th>1</th>\n",
       "      <td>995907_Cryptokittie</td>\n",
       "      <td>Cryptokittie</td>\n",
       "      <td>Art</td>\n",
       "      <td>5</td>\n",
       "      <td>{'cycle': {'sales': [{'price_usd': 6.2397, 'nf...</td>\n",
       "      <td>1.012800</td>\n",
       "      <td>1549565357</td>\n",
       "      <td>1549994557</td>\n",
       "      <td>5</td>\n",
       "      <td>4.967593</td>\n",
       "    </tr>\n",
       "    <tr>\n",
       "      <th>2</th>\n",
       "      <td>995907_Cryptokittie</td>\n",
       "      <td>Cryptokittie</td>\n",
       "      <td>Art</td>\n",
       "      <td>3</td>\n",
       "      <td>{'cycle': {'sales': [{'price_usd': 7.252499999...</td>\n",
       "      <td>0.102300</td>\n",
       "      <td>1549994557</td>\n",
       "      <td>1550023048</td>\n",
       "      <td>3</td>\n",
       "      <td>0.329757</td>\n",
       "    </tr>\n",
       "    <tr>\n",
       "      <th>3</th>\n",
       "      <td>995907_Cryptokittie</td>\n",
       "      <td>Cryptokittie</td>\n",
       "      <td>Art</td>\n",
       "      <td>9</td>\n",
       "      <td>{'cycle': {'sales': [{'price_usd': 6.2397, 'nf...</td>\n",
       "      <td>1.115100</td>\n",
       "      <td>1549550829</td>\n",
       "      <td>1550037171</td>\n",
       "      <td>9</td>\n",
       "      <td>5.628958</td>\n",
       "    </tr>\n",
       "    <tr>\n",
       "      <th>4</th>\n",
       "      <td>995907_Cryptokittie</td>\n",
       "      <td>Cryptokittie</td>\n",
       "      <td>Art</td>\n",
       "      <td>14</td>\n",
       "      <td>{'cycle': {'sales': [{'price_usd': 7.2579, 'nf...</td>\n",
       "      <td>0.052200</td>\n",
       "      <td>1549913673</td>\n",
       "      <td>1550151248</td>\n",
       "      <td>14</td>\n",
       "      <td>2.749711</td>\n",
       "    </tr>\n",
       "    <tr>\n",
       "      <th>...</th>\n",
       "      <td>...</td>\n",
       "      <td>...</td>\n",
       "      <td>...</td>\n",
       "      <td>...</td>\n",
       "      <td>...</td>\n",
       "      <td>...</td>\n",
       "      <td>...</td>\n",
       "      <td>...</td>\n",
       "      <td>...</td>\n",
       "      <td>...</td>\n",
       "    </tr>\n",
       "    <tr>\n",
       "      <th>11699</th>\n",
       "      <td>1108166479029002817857840180212998734775417615...</td>\n",
       "      <td>Catsinmech</td>\n",
       "      <td>Other</td>\n",
       "      <td>3</td>\n",
       "      <td>{'cycle': {'sales': [{'price_usd': 16.236, 'nf...</td>\n",
       "      <td>8.524000</td>\n",
       "      <td>1556741032</td>\n",
       "      <td>1558582180</td>\n",
       "      <td>3</td>\n",
       "      <td>21.309583</td>\n",
       "    </tr>\n",
       "    <tr>\n",
       "      <th>11700</th>\n",
       "      <td>55205_Block</td>\n",
       "      <td>Block</td>\n",
       "      <td>Collectible</td>\n",
       "      <td>3</td>\n",
       "      <td>{'cycle': {'sales': [{'price_usd': 0.40713, 'n...</td>\n",
       "      <td>0.075090</td>\n",
       "      <td>1558947548</td>\n",
       "      <td>1561714454</td>\n",
       "      <td>3</td>\n",
       "      <td>32.024375</td>\n",
       "    </tr>\n",
       "    <tr>\n",
       "      <th>11701</th>\n",
       "      <td>50080009_Mycrypto</td>\n",
       "      <td>Mycrypto</td>\n",
       "      <td>Games</td>\n",
       "      <td>3</td>\n",
       "      <td>{'cycle': {'sales': [{'price_usd': 2.5362, 'nf...</td>\n",
       "      <td>1535.438800</td>\n",
       "      <td>1558777661</td>\n",
       "      <td>1561193562</td>\n",
       "      <td>3</td>\n",
       "      <td>27.961817</td>\n",
       "    </tr>\n",
       "    <tr>\n",
       "      <th>11702</th>\n",
       "      <td>320_Cryptospace</td>\n",
       "      <td>Cryptospace</td>\n",
       "      <td>Games</td>\n",
       "      <td>3</td>\n",
       "      <td>{'cycle': {'sales': [{'price_usd': 162.0280000...</td>\n",
       "      <td>83.850875</td>\n",
       "      <td>1557771156</td>\n",
       "      <td>1561158414</td>\n",
       "      <td>3</td>\n",
       "      <td>39.204375</td>\n",
       "    </tr>\n",
       "    <tr>\n",
       "      <th>11703</th>\n",
       "      <td>50270009_Mycrypto</td>\n",
       "      <td>Mycrypto</td>\n",
       "      <td>Games</td>\n",
       "      <td>3</td>\n",
       "      <td>{'cycle': {'sales': [{'price_usd': 681.1750000...</td>\n",
       "      <td>87.812500</td>\n",
       "      <td>1560997736</td>\n",
       "      <td>1561191785</td>\n",
       "      <td>3</td>\n",
       "      <td>2.245938</td>\n",
       "    </tr>\n",
       "  </tbody>\n",
       "</table>\n",
       "<p>11704 rows × 10 columns</p>\n",
       "</div>"
      ],
      "text/plain": [
       "                                                  nft_id nft_collection  \\\n",
       "0                                   1141669_Cryptokittie   Cryptokittie   \n",
       "1                                    995907_Cryptokittie   Cryptokittie   \n",
       "2                                    995907_Cryptokittie   Cryptokittie   \n",
       "3                                    995907_Cryptokittie   Cryptokittie   \n",
       "4                                    995907_Cryptokittie   Cryptokittie   \n",
       "...                                                  ...            ...   \n",
       "11699  1108166479029002817857840180212998734775417615...     Catsinmech   \n",
       "11700                                        55205_Block          Block   \n",
       "11701                                  50080009_Mycrypto       Mycrypto   \n",
       "11702                                    320_Cryptospace    Cryptospace   \n",
       "11703                                  50270009_Mycrypto       Mycrypto   \n",
       "\n",
       "      nft_category  cycle_lengths  \\\n",
       "0              Art              5   \n",
       "1              Art              5   \n",
       "2              Art              3   \n",
       "3              Art              9   \n",
       "4              Art             14   \n",
       "...            ...            ...   \n",
       "11699        Other              3   \n",
       "11700  Collectible              3   \n",
       "11701        Games              3   \n",
       "11702        Games              3   \n",
       "11703        Games              3   \n",
       "\n",
       "                                              cycle_info       profit  \\\n",
       "0      {'cycle': {'sales': [{'price_usd': 43.64039125...    17.599676   \n",
       "1      {'cycle': {'sales': [{'price_usd': 6.2397, 'nf...     1.012800   \n",
       "2      {'cycle': {'sales': [{'price_usd': 7.252499999...     0.102300   \n",
       "3      {'cycle': {'sales': [{'price_usd': 6.2397, 'nf...     1.115100   \n",
       "4      {'cycle': {'sales': [{'price_usd': 7.2579, 'nf...     0.052200   \n",
       "...                                                  ...          ...   \n",
       "11699  {'cycle': {'sales': [{'price_usd': 16.236, 'nf...     8.524000   \n",
       "11700  {'cycle': {'sales': [{'price_usd': 0.40713, 'n...     0.075090   \n",
       "11701  {'cycle': {'sales': [{'price_usd': 2.5362, 'nf...  1535.438800   \n",
       "11702  {'cycle': {'sales': [{'price_usd': 162.0280000...    83.850875   \n",
       "11703  {'cycle': {'sales': [{'price_usd': 681.1750000...    87.812500   \n",
       "\n",
       "           min_ts      max_ts  length  duration_days  \n",
       "0      1540972504  1542022960       5      12.158056  \n",
       "1      1549565357  1549994557       5       4.967593  \n",
       "2      1549994557  1550023048       3       0.329757  \n",
       "3      1549550829  1550037171       9       5.628958  \n",
       "4      1549913673  1550151248      14       2.749711  \n",
       "...           ...         ...     ...            ...  \n",
       "11699  1556741032  1558582180       3      21.309583  \n",
       "11700  1558947548  1561714454       3      32.024375  \n",
       "11701  1558777661  1561193562       3      27.961817  \n",
       "11702  1557771156  1561158414       3      39.204375  \n",
       "11703  1560997736  1561191785       3       2.245938  \n",
       "\n",
       "[11704 rows x 10 columns]"
      ]
     },
     "metadata": {},
     "output_type": "display_data"
    }
   ],
   "source": [
    "data_df[\"profit\"] = data_df[\"cycle_info\"].apply(lambda x: eval(x)['profit_usd'])\n",
    "data_df[\"min_ts\"] = data_df[\"cycle_info\"].apply(lambda x: min(map(lambda y: y[\"time\"],eval(x)['cycle']['sales'])))\n",
    "data_df[\"max_ts\"] = data_df[\"cycle_info\"].apply(lambda x: max(map(lambda y: y[\"time\"],eval(x)['cycle']['sales'])))\n",
    "data_df[\"length\"] = data_df[\"cycle_info\"].apply(lambda x: len(eval(x)['cycle']['sales']))\n",
    "data_df[\"duration_days\"] = (data_df[\"max_ts\"] - data_df[\"min_ts\"])/86400\n",
    "display(data_df)"
   ]
  },
  {
   "cell_type": "markdown",
   "id": "4bdd8b26",
   "metadata": {
    "pycharm": {
     "name": "#%% md\n"
    }
   },
   "source": [
    "## Cycle length distributions\n",
    "\n",
    "Below is a simple CDF showing the distribution of the lengths of cycles. "
   ]
  },
  {
   "cell_type": "code",
   "execution_count": 80,
   "id": "00cce174",
   "metadata": {
    "collapsed": false,
    "jupyter": {
     "outputs_hidden": false
    },
    "pycharm": {
     "name": "#%%\n"
    }
   },
   "outputs": [
    {
     "data": {
      "image/png": "[encoded data removed]",
      "text/plain": [
       "<Figure size 640x480 with 1 Axes>"
      ]
     },
     "metadata": {},
     "output_type": "display_data"
    }
   ],
   "source": [
    "x,y = ccdf(data_df.duration_days)\n",
    "\n",
    "fig, ax = plt.subplots()\n",
    "ax.set_xscale(\"log\")\n",
    "ax.set_yscale(\"log\")\n",
    "ax.plot(x,y, marker=\"o\")\n",
    "ax.set_ylabel(\"CCDF\")\n",
    "ax.set_xlabel(\"Cycle duration (days)\")\n",
    "\n",
    "plt.show()"
   ]
  },
  {
   "cell_type": "code",
   "execution_count": 81,
   "id": "1a7f869e",
   "metadata": {
    "collapsed": false,
    "jupyter": {
     "outputs_hidden": false
    },
    "pycharm": {
     "name": "#%%\n"
    }
   },
   "outputs": [
    {
     "data": {
      "image/png": "[encoded data removed]",
      "text/plain": [
       "<Figure size 640x480 with 1 Axes>"
      ]
     },
     "metadata": {},
     "output_type": "display_data"
    }
   ],
   "source": [
    "x,y = ccdf(data_df.length)\n",
    "\n",
    "fig, ax = plt.subplots()\n",
    "ax.set_xscale(\"log\")\n",
    "ax.set_yscale(\"log\")\n",
    "ax.plot(x,y, marker=\"o\")\n",
    "ax.set_ylabel(\"CCDF\")\n",
    "ax.set_xlabel(\"Cycle length (hops)\")\n",
    "\n",
    "plt.show()"
   ]
  },
  {
   "cell_type": "markdown",
   "id": "37038cd3",
   "metadata": {
    "pycharm": {
     "name": "#%% md\n"
    }
   },
   "source": [
    "## How many traders took part in cycles?"
   ]
  },
  {
   "cell_type": "code",
   "execution_count": 82,
   "id": "32bc058a",
   "metadata": {
    "collapsed": false,
    "jupyter": {
     "outputs_hidden": false
    },
    "pycharm": {
     "name": "#%%\n"
    },
    "scrolled": true,
    "tags": []
   },
   "outputs": [
    {
     "data": {
      "application/vnd.jupyter.widget-view+json": {
       "model_id": "7c4aec786a904b458ff3d9d910b457b6",
       "version_major": 2,
       "version_minor": 0
      },
      "text/plain": [
       "0it [00:00, ?it/s]"
      ]
     },
     "metadata": {},
     "output_type": "display_data"
    },
    {
     "data": {
      "application/vnd.jupyter.widget-view+json": {
       "model_id": "aa7e2c42af7946a885557e01328afb59",
       "version_major": 2,
       "version_minor": 0
      },
      "text/plain": [
       "  0%|          | 0/41 [00:00<?, ?it/s]"
      ]
     },
     "metadata": {},
     "output_type": "display_data"
    },
    {
     "name": "stdout",
     "output_type": "stream",
     "text": [
      "0x8acc1421ec98689461ff5777de8ad6648dc6d643\n",
      "{'avg': 2.25195539174045, 'count': 617, 'total_profit': 1389.4564767038578}\n",
      "\n",
      "0x00c9da65b33b4f7034b5f50b90f5f6d8320d6ab8\n",
      "{'avg': 2.19609054383117, 'count': 616, 'total_profit': 1352.7917750000008}\n",
      "\n",
      "0xa21e0974137bf8400eb7dca606d9dcb190d79ed9\n",
      "{'avg': 2.3006426628664483, 'count': 614, 'total_profit': 1412.5945949999993}\n",
      "\n",
      "0x838c14eb3eabe4cb6a696d286c7b2a466629d0ee\n",
      "{'avg': 2.3572472385620915, 'count': 612, 'total_profit': 1442.63531}\n",
      "\n",
      "0x1c1ef71445010114f41ac1feb32dbf5d7281e90f\n",
      "{'avg': 2.347460337171051, 'count': 608, 'total_profit': 1427.255884999999}\n",
      "\n",
      "0xe738725cdcc41c91f734dd7b5b9659df994d6dda\n",
      "{'avg': 2.2413728476821193, 'count': 604, 'total_profit': 1353.7892000000002}\n",
      "\n",
      "0x6a47b60c377450a460d3eb828d534ee66eead668\n",
      "{'avg': 2.2968711341059587, 'count': 604, 'total_profit': 1387.310164999999}\n",
      "\n",
      "0x463215edb66fb6a8f0c979e739a731977617699f\n",
      "{'avg': 2.1705960117056864, 'count': 598, 'total_profit': 1298.0164150000005}\n",
      "\n",
      "0x1e7f320cf5a938465d501f6bd6c405feb3a70f6c\n",
      "{'avg': 2.2265507202680093, 'count': 597, 'total_profit': 1329.2507800000014}\n",
      "\n",
      "0x179d698f5a1c84c3ff4c5eb04e553c15a0c1d8d8\n",
      "{'avg': 2.278309740368508, 'count': 597, 'total_profit': 1360.1509149999993}\n",
      "\n",
      "0x6e13c7e25c2cda6f5c8c4e431bee480bfb312c28\n",
      "{'avg': 2.2607215195246186, 'count': 589, 'total_profit': 1331.5649750000005}\n",
      "\n",
      "0x236ef21dc36d0aec3990dd5ee84a9d5320644262\n",
      "{'avg': 2.302746853448276, 'count': 580, 'total_profit': 1335.593175}\n",
      "\n",
      "0xf5aee6d7b838d5ede8aa65d31dbc11116545180c\n",
      "{'avg': 2.2790570608695635, 'count': 575, 'total_profit': 1310.457809999999}\n",
      "\n",
      "0xbabda06088c242fb2a763aa7cc99706cb77ba735\n",
      "{'avg': 2.312860959860384, 'count': 573, 'total_profit': 1325.26933}\n",
      "\n",
      "0x68d31cb3825e559b1e5c0665f2d65d06a17fce1a\n",
      "{'avg': 2.1250271578947353, 'count': 570, 'total_profit': 1211.2654799999991}\n",
      "\n",
      "0xa37e6b46fa8e1a6f1ddbf035c4e0230b8414ff04\n",
      "{'avg': 2.1527055114638456, 'count': 567, 'total_profit': 1220.5840250000003}\n",
      "\n",
      "0xcdcadf0279ee021a0c40a31ac10fa69e028e21d0\n",
      "{'avg': 2.305673079710144, 'count': 552, 'total_profit': 1272.7315399999995}\n",
      "\n",
      "0x7316e9cf94bef40d4981d66a5c41c38b6b32454c\n",
      "{'avg': 2.220082080291969, 'count': 548, 'total_profit': 1216.6049799999992}\n",
      "\n",
      "0x87b77fabfeb869150b8e1b9462603f9a639c5fae\n",
      "{'avg': 2.2851332674199596, 'count': 531, 'total_profit': 1213.4057649999986}\n",
      "\n",
      "0xadd12bd6375dc21d579cc4abcfa04864d6ac9a62\n",
      "{'avg': 2.2776891950757587, 'count': 528, 'total_profit': 1202.6198950000005}\n",
      "\n",
      "0xc160ce5a535772b3c606a46e19008578e277d55c\n",
      "{'avg': 2.0031915056792546, 'count': 2, 'total_profit': 4.006383011358509}\n",
      "\n",
      "0x44918a232e860498a54a74f8c312e4a6a4b0ccf9\n",
      "{'avg': 1.7402699999999998, 'count': 2, 'total_profit': 3.4805399999999995}\n",
      "\n",
      "0xf6d22b698d04634f218fc03788784fa55765c7b4\n",
      "{'avg': 811.62565, 'count': 2, 'total_profit': 1623.2513}\n",
      "\n",
      "0x8805c680b191a244fb41a8d475e6fe33031396e4\n",
      "{'avg': 17.599675646873358, 'count': 1, 'total_profit': 17.599675646873358}\n",
      "\n",
      "0xfd5aa534af56244a1d7b1740e7783ae7479dfc3d\n",
      "{'avg': 0.005355009970895497, 'count': 1, 'total_profit': 0.005355009970895497}\n",
      "\n",
      "0x56ec15bd7268d71154809dfc5042381168139502\n",
      "{'avg': 0.010728176782828835, 'count': 1, 'total_profit': 0.010728176782828835}\n",
      "\n",
      "0xee68dc68913ee5606608c90d9b5db8ec4b12774c\n",
      "{'avg': 0.7395807262827934, 'count': 1, 'total_profit': 0.7395807262827934}\n",
      "\n",
      "0x36b6e5010732bf1cd0d5178fd130a11635dc40e3\n",
      "{'avg': 1.9479800000000012, 'count': 1, 'total_profit': 1.9479800000000012}\n",
      "\n",
      "0x056bfac0c2abca95490027a6e29e9bf039f1d0f6\n",
      "{'avg': 3.415020000000002, 'count': 1, 'total_profit': 3.415020000000002}\n",
      "\n",
      "0xd94d7922ed9dfa3bdb4253773bcdc78d5fc162e6\n",
      "{'avg': 19.512317006868845, 'count': 1, 'total_profit': 19.512317006868845}\n",
      "\n",
      "0x530cf036ed4fa58f7301a9c788c9806624cefd19\n",
      "{'avg': 0.027382013131371688, 'count': 1, 'total_profit': 0.027382013131371688}\n",
      "\n",
      "0x7e1dcf785f0353bf657c38ab7865c1f184efe208\n",
      "{'avg': 182.58500000000004, 'count': 1, 'total_profit': 182.58500000000004}\n",
      "\n",
      "0x7c259c9162056e109ea5ffdb1a1b6fefdcd4b907\n",
      "{'avg': 4.645528535639883, 'count': 1, 'total_profit': 4.645528535639883}\n",
      "\n",
      "0xfd380c3c8c079e1161bb0f95772e91875b76f80a\n",
      "{'avg': 16.213850000000004, 'count': 1, 'total_profit': 16.213850000000004}\n",
      "\n",
      "0xa1a4ad46867ff5b4cebd83a2a88c2de5637ef2e7\n",
      "{'avg': 19.863466581809753, 'count': 1, 'total_profit': 19.863466581809753}\n",
      "\n",
      "0x6b924183307ef2e529db662f80200611328a0cbd\n",
      "{'avg': 44.4174, 'count': 1, 'total_profit': 44.4174}\n",
      "\n",
      "0x0945255148a4e0fafb31af7964d67a827442c8fd\n",
      "{'avg': 240.57750000000004, 'count': 1, 'total_profit': 240.57750000000004}\n",
      "\n",
      "0x0239769a1adf4def9f07da824b80b9c4fcb59593\n",
      "{'avg': 8.00545, 'count': 1, 'total_profit': 8.00545}\n",
      "\n",
      "0x6be4a7bbb812bfa6a63126ee7b76c8a13529bdb8\n",
      "{'avg': 8.524000000000004, 'count': 1, 'total_profit': 8.524000000000004}\n",
      "\n",
      "0x3523057e290ec9b76d376efe9a892db09ad1b3c9\n",
      "{'avg': 0.07508999999999999, 'count': 1, 'total_profit': 0.07508999999999999}\n",
      "\n",
      "0x37c701ecd86cdddba614cf194d9a41d1f9c55145\n",
      "{'avg': 83.85087499999995, 'count': 1, 'total_profit': 83.85087499999995}\n",
      "\n"
     ]
    }
   ],
   "source": [
    "traders_profit = {}\n",
    "for i, row in tqdm(data_df.iterrows()):\n",
    "    cycle = eval(row['cycle_info'])\n",
    "    trade = {\n",
    "        'profit_usd': cycle['profit_usd'],\n",
    "        'buyer':  cycle['buyer'],\n",
    "        'cycle_size': row['cycle_lengths'],\n",
    "        'nft_id': row['nft_id'],\n",
    "        'cycle': cycle['cycle']['sales']\n",
    "    }\n",
    "    trader = trade['buyer']\n",
    "    profit = trade['profit_usd']\n",
    "    if trader not in traders_profit:\n",
    "        traders_profit[trader] = []\n",
    "    traders_profit[trader].append(profit)\n",
    "traders_avg = {}\n",
    "for trader, _profit in tqdm(traders_profit.items()):\n",
    "    avg = sum(_profit)/len(_profit)\n",
    "    traders_avg[trader] = {\n",
    "        'avg': avg, \n",
    "        'count': len(_profit),\n",
    "        'total_profit': sum(_profit)\n",
    "    }\n",
    "    \n",
    "traders_count_sorted = sorted(traders_avg, key=lambda x: traders_avg[x]['count'], reverse=True)\n",
    "\n",
    "for t in traders_count_sorted[:50]:\n",
    "    print(t)\n",
    "    print(traders_avg[t])\n",
    "    print()"
   ]
  },
  {
   "cell_type": "markdown",
   "id": "67750c96",
   "metadata": {
    "pycharm": {
     "name": "#%% md\n"
    }
   },
   "source": [
    "Above, we can see that 20 traders participated in over 528+ cycles each. \n",
    "\n",
    "Lets write some code to inspect these NFT cycles in more depth. \n",
    "\n",
    "The `pretty_cycle` function takes a cycle and prints out each subsequent trade and the profit and time between trades.  "
   ]
  },
  {
   "cell_type": "code",
   "execution_count": 83,
   "id": "23b84534",
   "metadata": {
    "collapsed": false,
    "jupyter": {
     "outputs_hidden": false
    },
    "pycharm": {
     "name": "#%%\n"
    }
   },
   "outputs": [],
   "source": [
    "def pretty_cycle(cycle):\n",
    "    as_string = '   '\n",
    "    prev_price = cycle[0]['price_usd']\n",
    "    prev_time = cycle[0]['time']\n",
    "    for item in cycle:\n",
    "        diff = item['price_usd']-prev_price\n",
    "        time_secs = item['time']-prev_time\n",
    "        time_mins = time_secs/60\n",
    "        time_hours = time_secs/60/60\n",
    "        time_days = time_secs/60/60/24 \n",
    "        prev_time = item['time']\n",
    "        time_str = '%.1fm/%.1fh/%.2fd' % (time_mins, time_hours, time_days)\n",
    "        as_string += 'T(d) '+time_str+', B: '+item['buyer'][:4]+'.. $'+str(item['price_usd'])+'('+str(diff)+') '+item['tx_hash']+'\\n->'\n",
    "    as_string = as_string[:-3]\n",
    "    print(as_string)"
   ]
  },
  {
   "cell_type": "markdown",
   "id": "69583bee",
   "metadata": {
    "pycharm": {
     "name": "#%% md\n"
    }
   },
   "source": [
    "# Lets take a look at the trader who did the most cycles"
   ]
  },
  {
   "cell_type": "code",
   "execution_count": 84,
   "id": "335ca6a3-b1fb-4f46-af56-b812959f5971",
   "metadata": {},
   "outputs": [
    {
     "data": {
      "text/plain": [
       "nft_id                                            50270009_Mycrypto\n",
       "nft_collection                                             Mycrypto\n",
       "nft_category                                                  Games\n",
       "cycle_lengths                                                     3\n",
       "cycle_info        {'cycle': {'sales': [{'price_usd': 681.1750000...\n",
       "profit                                                      87.8125\n",
       "min_ts                                                   1560997736\n",
       "max_ts                                                   1561191785\n",
       "length                                                            3\n",
       "duration_days                                              2.245938\n",
       "Name: 11703, dtype: object"
      ]
     },
     "execution_count": 84,
     "metadata": {},
     "output_type": "execute_result"
    }
   ],
   "source": [
    "row"
   ]
  },
  {
   "cell_type": "code",
   "execution_count": 85,
   "id": "329b95a4",
   "metadata": {
    "collapsed": false,
    "jupyter": {
     "outputs_hidden": false
    },
    "pycharm": {
     "name": "#%%\n"
    }
   },
   "outputs": [
    {
     "data": {
      "application/vnd.jupyter.widget-view+json": {
       "model_id": "89e2598c1a8441279731cd67dfc7a970",
       "version_major": 2,
       "version_minor": 0
      },
      "text/plain": [
       "0it [00:00, ?it/s]"
      ]
     },
     "metadata": {},
     "output_type": "display_data"
    }
   ],
   "source": [
    "largest_trader_addr = traders_count_sorted[0] # '0x8acc1421ec98689461ff5777de8ad6648dc6d643'\n",
    "largest = []\n",
    "for i, trade in tqdm(data_df.iterrows()):\n",
    "    # ignore any rari tokens, as they are fractionalised\n",
    "    #. ignore any short trades \n",
    "    if '_Rari' in trade['nft_id']:\n",
    "        continue\n",
    "    if eval(trade['cycle_info'])['buyer'] == largest_trader_addr:\n",
    "        largest.append(trade)"
   ]
  },
  {
   "cell_type": "markdown",
   "id": "87b8a693",
   "metadata": {
    "pycharm": {
     "name": "#%% md\n"
    }
   },
   "source": [
    "#### Which NFTs did they trade?"
   ]
  },
  {
   "cell_type": "code",
   "execution_count": 86,
   "id": "34dbb989",
   "metadata": {
    "collapsed": false,
    "jupyter": {
     "outputs_hidden": false
    },
    "pycharm": {
     "name": "#%%\n"
    }
   },
   "outputs": [
    {
     "data": {
      "text/plain": [
       "Counter({'Cryptokittie': 300, 'Mlbchampion': 136, 'Etheremon': 181})"
      ]
     },
     "execution_count": 86,
     "metadata": {},
     "output_type": "execute_result"
    }
   ],
   "source": [
    "from collections import Counter\n",
    "most_common_nft_collection = []\n",
    "most_common_nft = []\n",
    "for trade in largest:\n",
    "    nft_collection =  trade['nft_id'].split('_')\n",
    "    most_common_nft.append(trade['nft_id'])\n",
    "    most_common_nft_collection.append(nft_collection[1])\n",
    "most_common_nft_collection = Counter(most_common_nft_collection)\n",
    "most_common_nft = Counter(most_common_nft)\n",
    "most_common_nft_collection"
   ]
  },
  {
   "cell_type": "markdown",
   "id": "8e835007",
   "metadata": {
    "pycharm": {
     "name": "#%% md\n"
    }
   },
   "source": [
    "#### What happens when we look at their cycles in more detail?"
   ]
  },
  {
   "cell_type": "code",
   "execution_count": 87,
   "id": "c6167f80",
   "metadata": {
    "collapsed": false,
    "jupyter": {
     "outputs_hidden": false
    },
    "pycharm": {
     "name": "#%%\n"
    }
   },
   "outputs": [
    {
     "name": "stdout",
     "output_type": "stream",
     "text": [
      "   T(d) 0.0m/0.0h/0.00d, B: 0x8a.. $10.3494(0.0) 0x01247ccb317a80855278dcdc5c3537a5072d4a7a6140d2c317c261fc7bfecb0b\n",
      "->T(d) 236.1m/3.9h/0.16d, B: 0x6e.. $10.3494(0.0) 0x01846b482c2557de84a069468c7bed8cc5640fe6d2aaa1c40b42c2b219ecfd1b\n",
      "->T(d) 239.2m/4.0h/0.17d, B: 0x68.. $10.3494(0.0) 0xb2e0029ede8239175a61094eaae3ec6513aa2e4760ecfa28ce06ee756b75b5f8\n",
      "->T(d) 234.4m/3.9h/0.16d, B: 0x17.. $10.3374(-0.011999999999998678) 0xadb28bb1bae8d2b76125b44c9ed15b6d43ff2398154386228cbd8d560e36217c\n",
      "->T(d) 241.0m/4.0h/0.17d, B: 0x68.. $10.3374(-0.011999999999998678) 0x0dcb2ba42cf1656761e3b9e4827190d9440b54c4f3212fe94f49a176f7e7b16d\n",
      "->T(d) 234.8m/3.9h/0.16d, B: 0xa2.. $10.3374(-0.011999999999998678) 0xc99839de6d2eb7e2fe59bb0007cb01454978af678bfa9565d3d01c54df381424\n",
      "->T(d) 244.1m/4.1h/0.17d, B: 0xa3.. $10.3374(-0.011999999999998678) 0x7bbb188248a32fc07250f53b2afb6aef9c89e99c20454b6ab0e88f05c220e1e5\n",
      "->T(d) 230.7m/3.8h/0.16d, B: 0xa2.. $10.3374(-0.011999999999998678) 0xa6c6235b212dc305415c85ccea5b2e979565640f365ef057f2e25915e832533a\n",
      "->T(d) 240.2m/4.0h/0.17d, B: 0x23.. $10.3374(-0.011999999999998678) 0x6f9c9b19efbeeee2c79d9a6a10886b68690f73cf41fcf6c9c115025f266ae8e9\n",
      "->T(d) 236.3m/3.9h/0.16d, B: 0x6a.. $10.5063(0.15690000000000026) 0xdd9e67f253e155b2dc429c00cb0178c8138774aa41457a056c9c2f64513a4a5c\n",
      "->T(d) 238.6m/4.0h/0.17d, B: 0x87.. $10.5063(0.15690000000000026) 0xe59096f3d6e3d438ec084c7587693df67663b275c6d56bb6b45246c744eb32f2\n",
      "->T(d) 234.6m/3.9h/0.16d, B: 0x6a.. $10.5063(0.15690000000000026) 0x2ae70132c96b8cf5574ce5a069064deb7367e4786740a5cf3c11501f4793be19\n",
      "->T(d) 5940.9m/99.0h/4.13d, B: 0xad.. $12.5928(2.243400000000001) 0x7b59226da0f0a20edf98b0231378e565ce7109d034100efb8ff44744167516d5\n",
      "->T(d) 234.4m/3.9h/0.16d, B: 0xa2.. $12.5928(2.243400000000001) 0x0618fcafa989bc01eb00aedd78278d2d1c1bef3cf664cfd698167c88778a0cd2\n",
      "->T(d) 241.1m/4.0h/0.17d, B: 0x46.. $12.5928(2.243400000000001) 0x3f84ff27e22f31e022778a3b125036dd7f2a8556060f58b4023f9f2c09a737aa\n",
      "->T(d) 233.9m/3.9h/0.16d, B: 0xa3.. $12.5928(2.243400000000001) 0x8bd06b386789d424398b2488a5f7b229d8c8521794e25eeceef594f1eb197ae0\n",
      "->T(d) 239.7m/4.0h/0.17d, B: 0x1c.. $14.1759(3.826500000000001) 0x645a3b34dac030eb08180da2da648e67130ee5e7c63d130bfc484dd451deb973\n",
      "->T(d) 250.9m/4.2h/0.17d, B: 0x8a.. $14.1759(3.826500000000001) 0xeba2304262542c408386229e3247de886a86820411bacef6edefb92618de74c0\n"
     ]
    }
   ],
   "source": [
    "pretty_cycle(eval(largest[10]['cycle_info'])['cycle']['sales'])"
   ]
  },
  {
   "cell_type": "markdown",
   "id": "c0662f0a",
   "metadata": {
    "pycharm": {
     "name": "#%% md\n"
    }
   },
   "source": [
    "We have found something here, this trader trades each nft between wallets within a ~4 hour window??"
   ]
  },
  {
   "cell_type": "markdown",
   "id": "f39baade",
   "metadata": {
    "pycharm": {
     "name": "#%% md\n"
    }
   },
   "source": [
    "#### What was the time between each transaction?"
   ]
  },
  {
   "cell_type": "code",
   "execution_count": 88,
   "id": "d3c9cf2a",
   "metadata": {
    "collapsed": false,
    "jupyter": {
     "outputs_hidden": false
    },
    "pycharm": {
     "name": "#%%\n"
    }
   },
   "outputs": [
    {
     "name": "stdout",
     "output_type": "stream",
     "text": [
      "total times : 13193\n",
      "times between 3.4 and 4.6 : 11658 - 88.37p\n"
     ]
    }
   ],
   "source": [
    "import math\n",
    "def time_finder(cycle):\n",
    "    prev_time = cycle[0]['time']\n",
    "    times = []\n",
    "    for sale in cycle:\n",
    "        time_secs = sale['time']-prev_time\n",
    "        time_hours = time_secs/60/60\n",
    "        prev_time = sale['time']\n",
    "        time_hours = round(time_hours, 1)\n",
    "        times.append(time_hours)\n",
    "    return times\n",
    "\n",
    "time_found = []\n",
    "for trade in largest:\n",
    "    time_found.extend(time_finder(eval(trade['cycle_info'])['cycle']['sales']))\n",
    "time_found = Counter(time_found)\n",
    "print(\"total times : %i\" % sum(time_found.values()))\n",
    "between_39_41 = time_found[3.4]+time_found[3.5]+time_found[3.6] +time_found[3.7] +time_found[3.8] +time_found[3.9] +time_found[4.0] +time_found[4.1] +time_found[4.2]+time_found[4.3]+time_found[4.4]+time_found[4.5]+time_found[4.6]\n",
    "print(\"times between 3.4 and 4.6 : %i - %.2fp\" % (between_39_41, between_39_41/sum(time_found.values())*100))"
   ]
  },
  {
   "cell_type": "markdown",
   "id": "ed54a52d",
   "metadata": {
    "pycharm": {
     "name": "#%% md\n"
    }
   },
   "source": [
    "#### Who did they trade with?"
   ]
  },
  {
   "cell_type": "code",
   "execution_count": 89,
   "id": "24992f42",
   "metadata": {
    "collapsed": false,
    "jupyter": {
     "outputs_hidden": false
    },
    "pycharm": {
     "name": "#%%\n"
    }
   },
   "outputs": [
    {
     "data": {
      "text/plain": [
       "([('0x8acc1421ec98689461ff5777de8ad6648dc6d643', 1234),\n",
       "  ('0xa21e0974137bf8400eb7dca606d9dcb190d79ed9', 710),\n",
       "  ('0x179d698f5a1c84c3ff4c5eb04e553c15a0c1d8d8', 674),\n",
       "  ('0xe738725cdcc41c91f734dd7b5b9659df994d6dda', 662),\n",
       "  ('0x1c1ef71445010114f41ac1feb32dbf5d7281e90f', 659),\n",
       "  ('0x838c14eb3eabe4cb6a696d286c7b2a466629d0ee', 653),\n",
       "  ('0xf5aee6d7b838d5ede8aa65d31dbc11116545180c', 649),\n",
       "  ('0x6a47b60c377450a460d3eb828d534ee66eead668', 649),\n",
       "  ('0xbabda06088c242fb2a763aa7cc99706cb77ba735', 644),\n",
       "  ('0x00c9da65b33b4f7034b5f50b90f5f6d8320d6ab8', 635),\n",
       "  ('0x463215edb66fb6a8f0c979e739a731977617699f', 624),\n",
       "  ('0x1e7f320cf5a938465d501f6bd6c405feb3a70f6c', 623),\n",
       "  ('0xa37e6b46fa8e1a6f1ddbf035c4e0230b8414ff04', 618),\n",
       "  ('0x87b77fabfeb869150b8e1b9462603f9a639c5fae', 612),\n",
       "  ('0x6e13c7e25c2cda6f5c8c4e431bee480bfb312c28', 600),\n",
       "  ('0x236ef21dc36d0aec3990dd5ee84a9d5320644262', 596),\n",
       "  ('0xadd12bd6375dc21d579cc4abcfa04864d6ac9a62', 594),\n",
       "  ('0x7316e9cf94bef40d4981d66a5c41c38b6b32454c', 590),\n",
       "  ('0x68d31cb3825e559b1e5c0665f2d65d06a17fce1a', 586),\n",
       "  ('0xcdcadf0279ee021a0c40a31ac10fa69e028e21d0', 581)],\n",
       " 20)"
      ]
     },
     "execution_count": 89,
     "metadata": {},
     "output_type": "execute_result"
    }
   ],
   "source": [
    "wallet_interactions = []\n",
    "for trade in largest:\n",
    "    for sale in eval(trade['cycle_info'])['cycle']['sales']:\n",
    "        wallet_interactions.append(sale['buyer'])\n",
    "wallet_interactions = Counter(wallet_interactions)\n",
    "sorted(wallet_interactions.items(), key=lambda x: x[1], reverse=True), len(wallet_interactions)"
   ]
  },
  {
   "cell_type": "markdown",
   "id": "1d662249",
   "metadata": {
    "pycharm": {
     "name": "#%% md\n"
    }
   },
   "source": [
    "Interestingly they only traded their NFTs with 20 other wallets. "
   ]
  },
  {
   "cell_type": "code",
   "execution_count": 90,
   "id": "d51e3093",
   "metadata": {
    "collapsed": false,
    "jupyter": {
     "outputs_hidden": false
    },
    "pycharm": {
     "name": "#%%\n"
    }
   },
   "outputs": [
    {
     "name": "stdout",
     "output_type": "stream",
     "text": [
      "0x8acc1421ec98689461ff5777de8ad6648dc6d643\n",
      "{'avg': 2.25195539174045, 'count': 617, 'total_profit': 1389.4564767038578}\n",
      "\n",
      "0x236ef21dc36d0aec3990dd5ee84a9d5320644262\n",
      "{'avg': 2.302746853448276, 'count': 580, 'total_profit': 1335.593175}\n",
      "\n",
      "0x1e7f320cf5a938465d501f6bd6c405feb3a70f6c\n",
      "{'avg': 2.2265507202680093, 'count': 597, 'total_profit': 1329.2507800000014}\n",
      "\n",
      "0x179d698f5a1c84c3ff4c5eb04e553c15a0c1d8d8\n",
      "{'avg': 2.278309740368508, 'count': 597, 'total_profit': 1360.1509149999993}\n",
      "\n",
      "0x7316e9cf94bef40d4981d66a5c41c38b6b32454c\n",
      "{'avg': 2.220082080291969, 'count': 548, 'total_profit': 1216.6049799999992}\n",
      "\n",
      "0xa37e6b46fa8e1a6f1ddbf035c4e0230b8414ff04\n",
      "{'avg': 2.1527055114638456, 'count': 567, 'total_profit': 1220.5840250000003}\n",
      "\n",
      "0x838c14eb3eabe4cb6a696d286c7b2a466629d0ee\n",
      "{'avg': 2.3572472385620915, 'count': 612, 'total_profit': 1442.63531}\n",
      "\n",
      "0xe738725cdcc41c91f734dd7b5b9659df994d6dda\n",
      "{'avg': 2.2413728476821193, 'count': 604, 'total_profit': 1353.7892000000002}\n",
      "\n",
      "0x463215edb66fb6a8f0c979e739a731977617699f\n",
      "{'avg': 2.1705960117056864, 'count': 598, 'total_profit': 1298.0164150000005}\n",
      "\n",
      "0xa21e0974137bf8400eb7dca606d9dcb190d79ed9\n",
      "{'avg': 2.3006426628664483, 'count': 614, 'total_profit': 1412.5945949999993}\n",
      "\n",
      "0x00c9da65b33b4f7034b5f50b90f5f6d8320d6ab8\n",
      "{'avg': 2.19609054383117, 'count': 616, 'total_profit': 1352.7917750000008}\n",
      "\n",
      "0xbabda06088c242fb2a763aa7cc99706cb77ba735\n",
      "{'avg': 2.312860959860384, 'count': 573, 'total_profit': 1325.26933}\n",
      "\n",
      "0xadd12bd6375dc21d579cc4abcfa04864d6ac9a62\n",
      "{'avg': 2.2776891950757587, 'count': 528, 'total_profit': 1202.6198950000005}\n",
      "\n",
      "0x6e13c7e25c2cda6f5c8c4e431bee480bfb312c28\n",
      "{'avg': 2.2607215195246186, 'count': 589, 'total_profit': 1331.5649750000005}\n",
      "\n",
      "0x1c1ef71445010114f41ac1feb32dbf5d7281e90f\n",
      "{'avg': 2.347460337171051, 'count': 608, 'total_profit': 1427.255884999999}\n",
      "\n",
      "0xf5aee6d7b838d5ede8aa65d31dbc11116545180c\n",
      "{'avg': 2.2790570608695635, 'count': 575, 'total_profit': 1310.457809999999}\n",
      "\n",
      "0x6a47b60c377450a460d3eb828d534ee66eead668\n",
      "{'avg': 2.2968711341059587, 'count': 604, 'total_profit': 1387.310164999999}\n",
      "\n",
      "0x68d31cb3825e559b1e5c0665f2d65d06a17fce1a\n",
      "{'avg': 2.1250271578947353, 'count': 570, 'total_profit': 1211.2654799999991}\n",
      "\n",
      "0x87b77fabfeb869150b8e1b9462603f9a639c5fae\n",
      "{'avg': 2.2851332674199596, 'count': 531, 'total_profit': 1213.4057649999986}\n",
      "\n",
      "0xcdcadf0279ee021a0c40a31ac10fa69e028e21d0\n",
      "{'avg': 2.305673079710144, 'count': 552, 'total_profit': 1272.7315399999995}\n",
      "\n"
     ]
    }
   ],
   "source": [
    "fellow_traders = list(wallet_interactions.keys())\n",
    "for t in fellow_traders:\n",
    "    print(t)\n",
    "    print(traders_avg[t])\n",
    "    print()"
   ]
  },
  {
   "cell_type": "markdown",
   "id": "0113f787",
   "metadata": {
    "pycharm": {
     "name": "#%% md\n"
    }
   },
   "source": [
    "All of these traders also participated in many cycles. "
   ]
  },
  {
   "cell_type": "markdown",
   "id": "0e2d2247",
   "metadata": {
    "pycharm": {
     "name": "#%% md\n"
    }
   },
   "source": [
    "#### What were the patterns of the fellow traders cycles?"
   ]
  },
  {
   "cell_type": "code",
   "execution_count": 91,
   "id": "6889fa48",
   "metadata": {
    "collapsed": false,
    "jupyter": {
     "outputs_hidden": false
    },
    "pycharm": {
     "name": "#%%\n"
    }
   },
   "outputs": [
    {
     "name": "stdout",
     "output_type": "stream",
     "text": [
      "20\n",
      "0x8acc1421ec98689461ff5777de8ad6648dc6d643\n",
      "   T(d) 0.0m/0.0h/0.00d, B: 0x8a.. $20.443085000000004(0.0) 0x564a357899d524c6a4160002bc9c37f3f47feaf83a03090a2b4e308731fc6958\n",
      "->T(d) 239.8m/4.0h/0.17d, B: 0xad.. $20.443085000000004(0.0) 0x929c8d3f856c8cc0c426a8baa981d486e64bfb2b76f0d7aff1acdd29ff31b8ca\n",
      "->T(d) 1110.4m/18.5h/0.77d, B: 0x00.. $20.427875(-0.015210000000003276) 0xf67a6deb2754102077a4be56e8ba1538c29419d24119902c7472e1cab0037744\n",
      "->T(d) 239.9m/4.0h/0.17d, B: 0xad.. $20.427875(-0.015210000000003276) 0xf78f525f93229a9be3738b9cf98e7c047cf99e54a30659cafc99e28ce22cfc73\n",
      "->T(d) 234.2m/3.9h/0.16d, B: 0xf5.. $20.427875(-0.015210000000003276) 0x18521d5a474fcc7fef4e428d993d8c1ea5a42aa69729c05241ad3fbb9c6d62a4\n",
      "->T(d) 240.1m/4.0h/0.17d, B: 0xba.. $20.427875(-0.015210000000003276) 0x5f0cc6764e7d8eb7a5f6d2fe73049706fe39c7d67e9ee5aa1e7f61e4362acc7f\n",
      "->T(d) 709.9m/11.8h/0.49d, B: 0xf5.. $20.716020000000004(0.27293500000000037) 0x23e8e0907882da2bf186c7b8e6c6081732915dfab923550293732a9f22f46a88\n",
      "->T(d) 240.0m/4.0h/0.17d, B: 0xba.. $20.716020000000004(0.27293500000000037) 0x10ce575de3502c77d9aeeeec58acfcc63f2b2d67fd29738b01240c3e597fda4b\n",
      "->T(d) 235.2m/3.9h/0.16d, B: 0x73.. $20.716020000000004(0.27293500000000037) 0xf5a7adf4bd27045c14a32c78d19dffeb7472bbc054f36b29b18dbc7daf1caab8\n",
      "->T(d) 240.9m/4.0h/0.17d, B: 0xf5.. $20.716020000000004(0.27293500000000037) 0x926d26a7857ddd1846e26123f19411383fc66558b1e0c830995da6b6ee640012\n",
      "->T(d) 234.1m/3.9h/0.16d, B: 0x17.. $20.590115000000004(0.14703000000000088) 0x122e2caefebd0f3e76f6bf1cec184044a48569d0ee2019611ff34282a739e557\n",
      "->T(d) 240.7m/4.0h/0.17d, B: 0xa3.. $20.590115000000004(0.14703000000000088) 0xb91d131b022ea3e046fd972b4a2ae076f773ebd2ba8aab6c700e56e40165130e\n",
      "->T(d) 234.9m/3.9h/0.16d, B: 0x23.. $20.590115000000004(0.14703000000000088) 0x88b5dc44f86938d8d03a945bffe6a5f0fe383ddc93adbbb0702be03b306c167f\n",
      "->T(d) 241.1m/4.0h/0.17d, B: 0x83.. $20.590115000000004(0.14703000000000088) 0x5db4f2e25aecef5952d958abc355d5dd975739a1bb94b226570209e88c9c548a\n",
      "->T(d) 234.2m/3.9h/0.16d, B: 0xcd.. $20.590115000000004(0.14703000000000088) 0x9e735e16bc77563332b222a18357e0c832eab1defbd2143f331d8a9e29fedf0c\n",
      "->T(d) 239.7m/4.0h/0.17d, B: 0x6a.. $20.590115000000004(0.14703000000000088) 0x758b1faf79ba6a58c5a4db7236976a7ad091a514cacb28b4b03c805026c63cfd\n",
      "->T(d) 234.2m/3.9h/0.16d, B: 0x8a.. $20.48111(0.03802499999999753) 0x73c48979ec4f2fd7eead1d014cd8eb0c1c7b2902822a62a3dab7afb096a752b1\n",
      "\n"
     ]
    }
   ],
   "source": [
    "import random\n",
    "\n",
    "print(len(fellow_traders))\n",
    "\n",
    "others_sibs = {}\n",
    "for sibling in fellow_traders:\n",
    "    others_sibs[sibling] = []\n",
    "    for i,trade in data_df.iterrows():\n",
    "        if '_Rari' in trade['nft_id']:\n",
    "            continue\n",
    "        if eval(trade['cycle_info'])['buyer'] == sibling:\n",
    "            others_sibs[sibling].append(trade)\n",
    "    print(sibling)\n",
    "    rand = random.choice(range(0,len(others_sibs[sibling])))\n",
    "    pretty_cycle(eval(others_sibs[sibling][rand]['cycle_info'])['cycle']['sales'])\n",
    "    print()\n",
    "    break"
   ]
  },
  {
   "cell_type": "markdown",
   "id": "2f2ce243",
   "metadata": {
    "pycharm": {
     "name": "#%% md\n"
    }
   },
   "source": [
    "All of these traders also follow the same, or a similar pattern.\n",
    "\n",
    "Trading with each other, waiting ~4 hours before trading again. "
   ]
  }
 ],
 "metadata": {
  "kernelspec": {
   "display_name": "Python 3 (ipykernel)",
   "language": "python",
   "name": "python3"
  },
  "language_info": {
   "codemirror_mode": {
    "name": "ipython",
    "version": 3
   },
   "file_extension": ".py",
   "mimetype": "text/x-python",
   "name": "python",
   "nbconvert_exporter": "python",
   "pygments_lexer": "ipython3",
   "version": "3.10.9"
  },
  "vscode": {
   "interpreter": {
    "hash": "a9a34730827747ae273d5a5e0748f342e2039a3997e32d9a086d01739bd0f055"
   }
  }
 },
 "nbformat": 4,
 "nbformat_minor": 5
}
