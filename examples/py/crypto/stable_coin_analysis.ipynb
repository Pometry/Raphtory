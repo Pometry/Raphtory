{
 "cells": [
  {
   "cell_type": "code",
   "execution_count": 2,
   "id": "5e76e492-a0b9-4199-8c46-bb10d1b15db2",
   "metadata": {},
   "outputs": [
    {
     "name": "stdout",
     "output_type": "stream",
     "text": [
      "Loaded graph with 1 shards from encoded data files /tmp/stablecoin/graphdb.bincode with 1523333 vertices, 2814155 edges which took 2 seconds\n"
     ]
    }
   ],
   "source": [
    "from raphtory import Graph\n",
    "from raphtory import algorithms\n",
    "from raphtory import graph_loader\n",
    "import time\n",
    "import sys\n",
    "\n",
    "g = graph_loader.stable_coin_graph(\"/tmp/stablecoin\", 1)"
   ]
  },
  {
   "cell_type": "code",
   "execution_count": 3,
   "id": "f6967541-7c91-4585-99c5-5b9e8f4865b5",
   "metadata": {},
   "outputs": [
    {
     "data": {
      "text/plain": [
       "['Dai', 'LUNC', 'USTC', 'USD', 'USDP', 'USDT']"
      ]
     },
     "execution_count": 3,
     "metadata": {},
     "output_type": "execute_result"
    }
   ],
   "source": [
    "all_layers = g.get_unique_layers()\n",
    "all_layers"
   ]
  },
  {
   "cell_type": "code",
   "execution_count": 4,
   "id": "719e89be-da1f-4662-8055-1c1ee658116a",
   "metadata": {},
   "outputs": [
    {
     "name": "stdout",
     "output_type": "stream",
     "text": [
      "Contract address Dai has 123876 transactions\n",
      "Contract address LUNC has 68811 transactions\n",
      "Contract address USTC has 41771 transactions\n",
      "Contract address USD has 1026779 transactions\n",
      "Contract address USDP has 4415 transactions\n",
      "Contract address USDT has 1605617 transactions\n"
     ]
    }
   ],
   "source": [
    "for l in all_layers:\n",
    "    print(\"Contract address {} has {} transactions\".format(l,g.layer(l).num_edges()))"
   ]
  },
  {
   "cell_type": "code",
   "execution_count": 5,
   "id": "03254ea1-0641-4205-9289-5b2b6f6ab8af",
   "metadata": {},
   "outputs": [],
   "source": [
    "pg = algorithms.pagerank(g, 20)"
   ]
  },
  {
   "cell_type": "code",
   "execution_count": 6,
   "id": "b00ebdbb-625b-4e51-9337-5dd31155a0a4",
   "metadata": {},
   "outputs": [
    {
     "data": {
      "text/plain": [
       "[('0x28c6c06298d514db089934071355e5743bf21d60', 0.04775241017341614),\n",
       " ('0xb5d85cbf7cb3ee0d56b3bb207d5fc4b82f43f511', 0.012821679934859276),\n",
       " ('0x3cd751e6b0078be393132286c442345e5dc49699', 0.01281900517642498),\n",
       " ('0x503828976d22510aad0201ac7ec88293211d23da', 0.012427086010575294),\n",
       " ('0x71660c4005ba85c37ccec55d0c4493e66fe775d3', 0.011451280675828457),\n",
       " ('0x2faf487a4414fe77e2327f0bf4ae2a264a776ad2', 0.011122736148536205),\n",
       " ('0x0d0707963952f2fba59dd06f2b425ace40b492fe', 0.008776657283306122),\n",
       " ('0xec30d02f10353f8efc9601371f56e808751f396f', 0.008413298055529594),\n",
       " ('0x88bd4d3e2997371bceefe8d9386c6b5b4de60346', 0.007808893918991089),\n",
       " ('0x74de5d4fcbf63e00296fd95d33236b9794016631', 0.007107942830771208)]"
      ]
     },
     "execution_count": 6,
     "metadata": {},
     "output_type": "execute_result"
    }
   ],
   "source": [
    "sorted_pg = dict(sorted(pg.items(), key=lambda x: x[1], reverse=True))\n",
    "list(sorted_pg.items())[:10]"
   ]
  },
  {
   "cell_type": "code",
   "execution_count": 7,
   "id": "3ab99b65-9f3f-4441-b358-edb0182d0ded",
   "metadata": {},
   "outputs": [
    {
     "name": "stdout",
     "output_type": "stream",
     "text": [
      "Contract address Dai has 0x28c6c06298d514db089934071355e5743bf21d60? True\n",
      "Contract address LUNC has 0x28c6c06298d514db089934071355e5743bf21d60? True\n",
      "Contract address USTC has 0x28c6c06298d514db089934071355e5743bf21d60? True\n",
      "Contract address USD has 0x28c6c06298d514db089934071355e5743bf21d60? True\n",
      "Contract address USDP has 0x28c6c06298d514db089934071355e5743bf21d60? True\n",
      "Contract address USDT has 0x28c6c06298d514db089934071355e5743bf21d60? True\n"
     ]
    }
   ],
   "source": [
    "for l in all_layers:\n",
    "    print(\"Contract address {} has 0x28c6c06298d514db089934071355e5743bf21d60? {}\".format(l, g.layer(l).has_vertex(\"0x28c6c06298d514db089934071355e5743bf21d60\")))"
   ]
  },
  {
   "cell_type": "code",
   "execution_count": 8,
   "id": "94b714a5-53e3-4cf0-bf9d-cd0493fee031",
   "metadata": {},
   "outputs": [
    {
     "name": "stdout",
     "output_type": "stream",
     "text": [
      "Contract address Dai has 0x74de5d4fcbf63e00296fd95d33236b9794016631? True\n",
      "Contract address LUNC has 0x74de5d4fcbf63e00296fd95d33236b9794016631? True\n",
      "Contract address USTC has 0x74de5d4fcbf63e00296fd95d33236b9794016631? True\n",
      "Contract address USD has 0x74de5d4fcbf63e00296fd95d33236b9794016631? True\n",
      "Contract address USDP has 0x74de5d4fcbf63e00296fd95d33236b9794016631? True\n",
      "Contract address USDT has 0x74de5d4fcbf63e00296fd95d33236b9794016631? True\n"
     ]
    }
   ],
   "source": [
    "for l in all_layers:\n",
    "    print(\"Contract address {} has 0x74de5d4fcbf63e00296fd95d33236b9794016631? {}\".format(l, g.layer(l).has_vertex(\"0x74de5d4fcbf63e00296fd95d33236b9794016631\")))"
   ]
  },
  {
   "cell_type": "code",
   "execution_count": 9,
   "id": "41e82eb4-6415-41d4-aca4-0148aff57e6a",
   "metadata": {},
   "outputs": [
    {
     "name": "stdout",
     "output_type": "stream",
     "text": [
      "Important people from contract address Dai: [('0x503828976d22510aad0201ac7ec88293211d23da', 0.00498485891148448), ('0x28c6c06298d514db089934071355e5743bf21d60', 0.004945699125528336), ('0x74de5d4fcbf63e00296fd95d33236b9794016631', 0.002401345409452915), ('0x60594a405d53811d3bc4766596efd80fd545a270', 0.0020192882511764765), ('0x5777d92f208679db4b9778590fa3cab3ac9e2168', 0.0018381394911557436), ('0x0000000000000000000000000000000000000000', 0.0017881435342133045), ('0x2faf487a4414fe77e2327f0bf4ae2a264a776ad2', 0.001336943358182907), ('0x66c57bf505a85a74609d2c83e94aabb26d691e1f', 0.001156835351139307), ('0xa478c2975ab1ea89e8196811f51a7b7ade33eb11', 0.0011034883791580796), ('0x028171bca77440897b824ca71d1c56cac55b68a3', 0.0009832310024648905)]\n",
      "\n",
      "Important people from contract address LUNC: [('0x77696bb39917c91a0c3908d577d5e322095425ca', 0.003940722439438105), ('0x0000000000000000000000000000000000000000', 0.0016449461691081524), ('0x60a39010e4892b862d1bb6bdde908215ac5af6f3', 0.0015000952407717705), ('0x74de5d4fcbf63e00296fd95d33236b9794016631', 0.0012993544805794954), ('0x16b70f44719b227278a2dc1122e8106cc929ecd1', 0.0012552597327157855), ('0x5f65f7b609678448494de4c87521cdf6cef1e932', 0.0007326977211050689), ('0x738cf6903e6c4e699d1c2dd9ab8b67fcdb3121ea', 0.000548298645298928), ('0x88172e5d79fe75c7aed1453e89ff5d741cfa4ca7', 0.00029962105327285826), ('0xf16e9b0d03470827a95cdfd0cb8a8a3b46969b91', 0.00029123295098543167), ('0xdcad279e517d7be07934ff85949fd6598758ce0b', 0.00020447716815397143)]\n",
      "\n",
      "Important people from contract address USTC: [('0xeb2629a2734e272bcc07bda959863f316f4bd4cf', 0.004675894510000944), ('0x0000000000000000000000000000000000000000', 0.0036399296950548887), ('0x28c6c06298d514db089934071355e5743bf21d60', 0.0031861707102507353), ('0x74de5d4fcbf63e00296fd95d33236b9794016631', 0.0010132028255611658), ('0x5f65f7b609678448494de4c87521cdf6cef1e932', 0.000762246607337147), ('0x8b00ee8606cc70c2dce68dea0cefe632cca0fb7b', 0.0007110822480171919), ('0xf39c29d8f6851d87c40c83b61078eb7384f7cb51', 0.0006504562916234136), ('0x738cf6903e6c4e699d1c2dd9ab8b67fcdb3121ea', 0.0004919510101899505), ('0x220bda5c8994804ac96ebe4df184d25e5c2196d4', 0.00047188971075229347), ('0xf16e9b0d03470827a95cdfd0cb8a8a3b46969b91', 0.0004514167958404869)]\n",
      "\n",
      "Important people from contract address USD: [('0x28c6c06298d514db089934071355e5743bf21d60', 0.03447524085640907), ('0x71660c4005ba85c37ccec55d0c4493e66fe775d3', 0.02334086038172245), ('0x503828976d22510aad0201ac7ec88293211d23da', 0.022647419944405556), ('0x2faf487a4414fe77e2327f0bf4ae2a264a776ad2', 0.010266787372529507), ('0x88e6a0c2ddd26feeb64f039a2c41296fcb3f5640', 0.008800065144896507), ('0x4f6742badb049791cd9a37ea913f2bac38d01279', 0.007591057103127241), ('0x738cf6903e6c4e699d1c2dd9ab8b67fcdb3121ea', 0.0072307162918150425), ('0xae2d4617c862309a3d75a0ffb358c7a5009c673f', 0.007017926312983036), ('0x74de5d4fcbf63e00296fd95d33236b9794016631', 0.006678083911538124), ('0xf16e9b0d03470827a95cdfd0cb8a8a3b46969b91', 0.005125652067363262)]\n",
      "\n",
      "Important people from contract address USDP: [('0x286af5cf60ae834199949bbc815485f07cc9c644', 0.00027308613061904907), ('0x28c6c06298d514db089934071355e5743bf21d60', 0.0002334492892259732), ('0x2faf487a4414fe77e2327f0bf4ae2a264a776ad2', 0.00019284506561234593), ('0xc88f7666330b4b511358b7742dc2a3234710e7b1', 0.00018656268366612494), ('0xa12431d0b9db640034b0cdfceef9cce161e62be4', 0.0001293770328629762), ('0xa81011ae274ef6debd3bdab634102c7b6c2c452d', 0.00011062111298087984), ('0x0d0707963952f2fba59dd06f2b425ace40b492fe', 0.00010764291801024228), ('0x3cd751e6b0078be393132286c442345e5dc49699', 0.00010763891623355448), ('0x4f6742badb049791cd9a37ea913f2bac38d01279', 0.00010310257493983954), ('0xffec0067f5a79cff07527f63d83dd5462ccf8ba4', 9.77367817540653e-05)]\n",
      "\n",
      "Important people from contract address USDT: [('0x28c6c06298d514db089934071355e5743bf21d60', 0.040305245667696), ('0xb5d85cbf7cb3ee0d56b3bb207d5fc4b82f43f511', 0.018110357224941254), ('0x3cd751e6b0078be393132286c442345e5dc49699', 0.01809125952422619), ('0xec30d02f10353f8efc9601371f56e808751f396f', 0.012219266034662724), ('0x0d0707963952f2fba59dd06f2b425ace40b492fe', 0.011637384071946144), ('0x88bd4d3e2997371bceefe8d9386c6b5b4de60346', 0.011286633089184761), ('0x2faf487a4414fe77e2327f0bf4ae2a264a776ad2', 0.008539518341422081), ('0x5041ed759dd4afc3a72b8192c143f72f4724081a', 0.007287964224815369), ('0x89e51fa8ca5d66cd220baed62ed01e8951aa7c40', 0.0053698052652180195), ('0x6262998ced04146fa42253a5c0af90ca02dfd2a3', 0.004639295395463705)]\n",
      "\n"
     ]
    }
   ],
   "source": [
    "for l in all_layers:\n",
    "    pg = algorithms.pagerank(g.layer(l), 20)\n",
    "    sorted_pg = dict(sorted(pg.items(), key=lambda x: x[1], reverse=True))\n",
    "    print(\"Important people from contract address {}: {}\".format(l, list(sorted_pg.items())[:10]))\n",
    "    print()"
   ]
  },
  {
   "cell_type": "code",
   "execution_count": 10,
   "id": "25e6a1d6-7ff8-4478-b5f3-33d2734271bf",
   "metadata": {},
   "outputs": [],
   "source": [
    "luna = g.layer(\"LUNC\")"
   ]
  },
  {
   "cell_type": "code",
   "execution_count": 12,
   "id": "9320c7d3-21dd-4233-b231-79b3225092ca",
   "metadata": {},
   "outputs": [],
   "source": [
    "pg = algorithms.pagerank(luna, 20)"
   ]
  },
  {
   "cell_type": "code",
   "execution_count": 13,
   "id": "888b8c05-60e0-4311-911f-0710bf58de1c",
   "metadata": {},
   "outputs": [
    {
     "data": {
      "text/plain": [
       "0.0016449461691081524"
      ]
     },
     "execution_count": 13,
     "metadata": {},
     "output_type": "execute_result"
    }
   ],
   "source": [
    "pg[\"0x0000000000000000000000000000000000000000\"]"
   ]
  },
  {
   "cell_type": "code",
   "execution_count": 14,
   "id": "26aac633-a738-4b90-b42c-10d94ac34b5b",
   "metadata": {},
   "outputs": [
    {
     "name": "stdout",
     "output_type": "stream",
     "text": [
      "Contract address Dai has 123876 transactions\n",
      "Contract address LUNC has 68811 transactions\n",
      "Contract address USTC has 41771 transactions\n",
      "Contract address USD has 1026779 transactions\n",
      "Contract address USDP has 4415 transactions\n",
      "Contract address USDT has 1605617 transactions\n"
     ]
    }
   ],
   "source": [
    "for l in all_layers:\n",
    "    print(\"Contract address {} has {} transactions\".format(l,g.layer(l).num_edges()))"
   ]
  },
  {
   "cell_type": "code",
   "execution_count": 21,
   "id": "95ee3f6e-445f-43fa-8616-01819a9f3cd4",
   "metadata": {},
   "outputs": [
    {
     "name": "stdout",
     "output_type": "stream",
     "text": [
      "Contract address Dai has 123876 transactions\n",
      "Contract address Dai has 123876 transactions\n",
      "Contract address Dai has 123876 transactions\n",
      "Contract address Dai has 123876 transactions\n",
      "Contract address Dai has 123876 transactions\n",
      "Contract address Dai has 123876 transactions\n",
      "Contract address Dai has 123876 transactions\n",
      "Contract address Dai has 123876 transactions\n",
      "Contract address Dai has 123876 transactions\n",
      "Contract address Dai has 123876 transactions\n",
      "Contract address Dai has 123876 transactions\n",
      "Contract address Dai has 123876 transactions\n",
      "Contract address Dai has 123876 transactions\n",
      "Contract address Dai has 123876 transactions\n",
      "Contract address Dai has 123876 transactions\n",
      "Contract address Dai has 123876 transactions\n",
      "Contract address Dai has 123876 transactions\n",
      "Contract address Dai has 123876 transactions\n",
      "Contract address Dai has 123876 transactions\n",
      "Contract address Dai has 123876 transactions\n",
      "Contract address Dai has 123876 transactions\n",
      "Contract address Dai has 123876 transactions\n",
      "Contract address Dai has 123876 transactions\n",
      "Contract address Dai has 123876 transactions\n",
      "Contract address Dai has 123876 transactions\n",
      "Contract address Dai has 123876 transactions\n",
      "Contract address Dai has 123876 transactions\n",
      "Contract address LUNC has 68811 transactions\n",
      "Contract address LUNC has 68811 transactions\n",
      "Contract address LUNC has 68811 transactions\n",
      "Contract address LUNC has 68811 transactions\n",
      "Contract address LUNC has 68811 transactions\n",
      "Contract address LUNC has 68811 transactions\n",
      "Contract address LUNC has 68811 transactions\n",
      "Contract address LUNC has 68811 transactions\n",
      "Contract address LUNC has 68811 transactions\n",
      "Contract address LUNC has 68811 transactions\n",
      "Contract address LUNC has 68811 transactions\n",
      "Contract address LUNC has 68811 transactions\n",
      "Contract address LUNC has 68811 transactions\n",
      "Contract address LUNC has 68811 transactions\n",
      "Contract address LUNC has 68811 transactions\n",
      "Contract address LUNC has 68811 transactions\n",
      "Contract address LUNC has 68811 transactions\n",
      "Contract address LUNC has 68811 transactions\n",
      "Contract address LUNC has 68811 transactions\n",
      "Contract address LUNC has 68811 transactions\n",
      "Contract address LUNC has 68811 transactions\n",
      "Contract address LUNC has 68811 transactions\n",
      "Contract address LUNC has 68811 transactions\n",
      "Contract address LUNC has 68811 transactions\n",
      "Contract address LUNC has 68811 transactions\n",
      "Contract address LUNC has 68811 transactions\n",
      "Contract address LUNC has 68811 transactions\n",
      "Contract address USTC has 41771 transactions\n",
      "Contract address USTC has 41771 transactions\n",
      "Contract address USTC has 41771 transactions\n",
      "Contract address USTC has 41771 transactions\n",
      "Contract address USTC has 41771 transactions\n",
      "Contract address USTC has 41771 transactions\n",
      "Contract address USTC has 41771 transactions\n",
      "Contract address USTC has 41771 transactions\n",
      "Contract address USTC has 41771 transactions\n",
      "Contract address USTC has 41771 transactions\n",
      "Contract address USTC has 41771 transactions\n",
      "Contract address USTC has 41771 transactions\n",
      "Contract address USTC has 41771 transactions\n",
      "Contract address USTC has 41771 transactions\n",
      "Contract address USTC has 41771 transactions\n",
      "Contract address USTC has 41771 transactions\n",
      "Contract address USTC has 41771 transactions\n",
      "Contract address USTC has 41771 transactions\n",
      "Contract address USTC has 41771 transactions\n",
      "Contract address USTC has 41771 transactions\n",
      "Contract address USTC has 41771 transactions\n",
      "Contract address USTC has 41771 transactions\n",
      "Contract address USTC has 41771 transactions\n",
      "Contract address USTC has 41771 transactions\n",
      "Contract address USTC has 41771 transactions\n",
      "Contract address USTC has 41771 transactions\n",
      "Contract address USTC has 41771 transactions\n",
      "Contract address USD has 1026779 transactions\n",
      "Contract address USD has 1026779 transactions\n",
      "Contract address USD has 1026779 transactions\n",
      "Contract address USD has 1026779 transactions\n",
      "Contract address USD has 1026779 transactions\n",
      "Contract address USD has 1026779 transactions\n",
      "Contract address USD has 1026779 transactions\n",
      "Contract address USD has 1026779 transactions\n",
      "Contract address USD has 1026779 transactions\n",
      "Contract address USD has 1026779 transactions\n",
      "Contract address USD has 1026779 transactions\n",
      "Contract address USD has 1026779 transactions\n",
      "Contract address USD has 1026779 transactions\n",
      "Contract address USD has 1026779 transactions\n",
      "Contract address USD has 1026779 transactions\n",
      "Contract address USD has 1026779 transactions\n",
      "Contract address USD has 1026779 transactions\n",
      "Contract address USD has 1026779 transactions\n",
      "Contract address USD has 1026779 transactions\n",
      "Contract address USD has 1026779 transactions\n",
      "Contract address USD has 1026779 transactions\n",
      "Contract address USD has 1026779 transactions\n",
      "Contract address USD has 1026779 transactions\n",
      "Contract address USD has 1026779 transactions\n",
      "Contract address USD has 1026779 transactions\n",
      "Contract address USD has 1026779 transactions\n",
      "Contract address USD has 1026779 transactions\n",
      "Contract address USDP has 4415 transactions\n",
      "Contract address USDP has 4415 transactions\n",
      "Contract address USDP has 4415 transactions\n",
      "Contract address USDP has 4415 transactions\n",
      "Contract address USDP has 4415 transactions\n",
      "Contract address USDP has 4415 transactions\n",
      "Contract address USDP has 4415 transactions\n",
      "Contract address USDP has 4415 transactions\n",
      "Contract address USDP has 4415 transactions\n",
      "Contract address USDP has 4415 transactions\n",
      "Contract address USDP has 4415 transactions\n",
      "Contract address USDP has 4415 transactions\n",
      "Contract address USDP has 4415 transactions\n",
      "Contract address USDP has 4415 transactions\n",
      "Contract address USDP has 4415 transactions\n",
      "Contract address USDP has 4415 transactions\n",
      "Contract address USDP has 4415 transactions\n",
      "Contract address USDP has 4415 transactions\n",
      "Contract address USDP has 4415 transactions\n",
      "Contract address USDP has 4415 transactions\n",
      "Contract address USDP has 4415 transactions\n",
      "Contract address USDP has 4415 transactions\n",
      "Contract address USDP has 4415 transactions\n",
      "Contract address USDP has 4415 transactions\n",
      "Contract address USDP has 4415 transactions\n",
      "Contract address USDP has 4415 transactions\n",
      "Contract address USDP has 4415 transactions\n",
      "Contract address USDT has 1605617 transactions\n",
      "Contract address USDT has 1605617 transactions\n",
      "Contract address USDT has 1605617 transactions\n",
      "Contract address USDT has 1605617 transactions\n",
      "Contract address USDT has 1605617 transactions\n",
      "Contract address USDT has 1605617 transactions\n",
      "Contract address USDT has 1605617 transactions\n",
      "Contract address USDT has 1605617 transactions\n",
      "Contract address USDT has 1605617 transactions\n",
      "Contract address USDT has 1605617 transactions\n",
      "Contract address USDT has 1605617 transactions\n",
      "Contract address USDT has 1605617 transactions\n",
      "Contract address USDT has 1605617 transactions\n",
      "Contract address USDT has 1605617 transactions\n",
      "Contract address USDT has 1605617 transactions\n",
      "Contract address USDT has 1605617 transactions\n",
      "Contract address USDT has 1605617 transactions\n",
      "Contract address USDT has 1605617 transactions\n",
      "Contract address USDT has 1605617 transactions\n",
      "Contract address USDT has 1605617 transactions\n",
      "Contract address USDT has 1605617 transactions\n",
      "Contract address USDT has 1605617 transactions\n",
      "Contract address USDT has 1605617 transactions\n",
      "Contract address USDT has 1605617 transactions\n",
      "Contract address USDT has 1605617 transactions\n",
      "Contract address USDT has 1605617 transactions\n",
      "Contract address USDT has 1605617 transactions\n"
     ]
    }
   ],
   "source": [
    "for l in all_layers:\n",
    "    for w in g.layer(l).rolling(step='1 day', window='1 day'):\n",
    "        print(\"Contract address {} has {} transactions\".format(l,g.layer(l).num_edges()))"
   ]
  },
  {
   "cell_type": "code",
   "execution_count": null,
   "id": "6e42d0d4-0fdb-4ffb-b85f-85a4bb3296aa",
   "metadata": {},
   "outputs": [],
   "source": []
  }
 ],
 "metadata": {
  "kernelspec": {
   "display_name": "Python [conda env:raphtory] *",
   "language": "python",
   "name": "conda-env-raphtory-py"
  },
  "language_info": {
   "codemirror_mode": {
    "name": "ipython",
    "version": 3
   },
   "file_extension": ".py",
   "mimetype": "text/x-python",
   "name": "python",
   "nbconvert_exporter": "python",
   "pygments_lexer": "ipython3",
   "version": "3.10.9"
  }
 },
 "nbformat": 4,
 "nbformat_minor": 5
}
