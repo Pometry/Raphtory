{
 "cells": [
  {
   "cell_type": "code",
   "execution_count": 3,
   "id": "5e76e492-a0b9-4199-8c46-bb10d1b15db2",
   "metadata": {},
   "outputs": [
    {
     "name": "stdout",
     "output_type": "stream",
     "text": [
      "Loaded graph with 1 shards from encoded data files /tmp/stablecoin/graphdb.bincode with 1523333 vertices, 2871269 edges which took 22 seconds\n"
     ]
    }
   ],
   "source": [
    "from raphtory import Graph\n",
    "from raphtory import algorithms\n",
    "from raphtory import graph_loader\n",
    "import time\n",
    "import sys\n",
    "\n",
    "g = graph_loader.stable_coin_graph(\"/tmp/stablecoin\", 1)"
   ]
  },
  {
   "cell_type": "code",
   "execution_count": 4,
   "id": "f6967541-7c91-4585-99c5-5b9e8f4865b5",
   "metadata": {},
   "outputs": [
    {
     "data": {
      "text/plain": [
       "['0xa0b86991c6218b36c1d19d4a2e9eb0ce3606eb48',\n",
       " '0xd2877702675e6ceb975b4a1dff9fb7baf4c91ea9',\n",
       " '0xa47c8bf37f92abed4a126bda807a7b7498661acd',\n",
       " '0x6b175474e89094c44da98b954eedeac495271d0f',\n",
       " '0xdac17f958d2ee523a2206206994597c13d831ec7',\n",
       " '0x8e870d67f660d95d5be530380d0ec0bd388289e1']"
      ]
     },
     "execution_count": 4,
     "metadata": {},
     "output_type": "execute_result"
    }
   ],
   "source": [
    "g.get_unique_layers()"
   ]
  },
  {
   "cell_type": "code",
   "execution_count": 7,
   "id": "719e89be-da1f-4662-8055-1c1ee658116a",
   "metadata": {},
   "outputs": [
    {
     "name": "stdout",
     "output_type": "stream",
     "text": [
      "Contract address 0xa0b86991c6218b36c1d19d4a2e9eb0ce3606eb48 has 1026779 transactions\n",
      "Contract address 0x8e870d67f660d95d5be530380d0ec0bd388289e1 has 4415 transactions\n",
      "Contract address 0xd2877702675e6ceb975b4a1dff9fb7baf4c91ea9 has 68811 transactions\n",
      "Contract address 0x6b175474e89094c44da98b954eedeac495271d0f has 123876 transactions\n",
      "Contract address 0xdac17f958d2ee523a2206206994597c13d831ec7 has 1605617 transactions\n",
      "Contract address 0xa47c8bf37f92abed4a126bda807a7b7498661acd has 41771 transactions\n"
     ]
    }
   ],
   "source": [
    "for l in all_layers:\n",
    "    print(\"Contract address {} has {} transactions\".format(l,g.layer(l).num_edges()))"
   ]
  },
  {
   "cell_type": "code",
   "execution_count": null,
   "id": "03254ea1-0641-4205-9289-5b2b6f6ab8af",
   "metadata": {},
   "outputs": [],
   "source": [
    "pg = algorithms.pagerank(g, 20)"
   ]
  },
  {
   "cell_type": "code",
   "execution_count": null,
   "id": "b00ebdbb-625b-4e51-9337-5dd31155a0a4",
   "metadata": {},
   "outputs": [],
   "source": [
    "sorted_pg = dict(sorted(pg.items(), key=lambda x: x[1], reverse=True))\n",
    "list(sorted_pg.items())[:10]"
   ]
  },
  {
   "cell_type": "code",
   "execution_count": null,
   "id": "3ab99b65-9f3f-4441-b358-edb0182d0ded",
   "metadata": {},
   "outputs": [],
   "source": [
    "for l in all_layers:\n",
    "    print(\"Contract address {} has 0x28c6c06298d514db089934071355e5743bf21d60? {}\".format(l, g.layer(l).has_vertex(\"0x28c6c06298d514db089934071355e5743bf21d60\")))"
   ]
  },
  {
   "cell_type": "code",
   "execution_count": null,
   "id": "94b714a5-53e3-4cf0-bf9d-cd0493fee031",
   "metadata": {},
   "outputs": [],
   "source": [
    "for l in all_layers:\n",
    "    print(\"Contract address {} has 0x74de5d4fcbf63e00296fd95d33236b9794016631? {}\".format(l, g.layer(l).has_vertex(\"0x74de5d4fcbf63e00296fd95d33236b9794016631\")))"
   ]
  },
  {
   "cell_type": "code",
   "execution_count": null,
   "id": "41e82eb4-6415-41d4-aca4-0148aff57e6a",
   "metadata": {},
   "outputs": [],
   "source": [
    "for l in all_layers:\n",
    "    pg = algorithms.pagerank(g.layer(l), 20)\n",
    "    sorted_pg = dict(sorted(pg.items(), key=lambda x: x[1], reverse=True))\n",
    "    print(\"Important people from contract address {}: {}\".format(l, list(sorted_pg.items())[:10]))\n",
    "    print()"
   ]
  },
  {
   "cell_type": "code",
   "execution_count": null,
   "id": "25e6a1d6-7ff8-4478-b5f3-33d2734271bf",
   "metadata": {},
   "outputs": [],
   "source": [
    "luna = g.layer(\"0xd2877702675e6ceb975b4a1dff9fb7baf4c91ea9\")"
   ]
  },
  {
   "cell_type": "code",
   "execution_count": null,
   "id": "9320c7d3-21dd-4233-b231-79b3225092ca",
   "metadata": {},
   "outputs": [],
   "source": [
    "pg = algorithms.pagerank(g, 20)"
   ]
  },
  {
   "cell_type": "code",
   "execution_count": null,
   "id": "888b8c05-60e0-4311-911f-0710bf58de1c",
   "metadata": {},
   "outputs": [],
   "source": [
    "pg[\"0xd2877702675e6ceb975b4a1dff9fb7baf4c91ea9\"]"
   ]
  },
  {
   "cell_type": "code",
   "execution_count": null,
   "id": "fe5ecb3f-d679-49f7-8a3f-bc6ac8d88eaf",
   "metadata": {},
   "outputs": [],
   "source": [
    "g.rolling('1 day')"
   ]
  },
  {
   "cell_type": "code",
   "execution_count": 6,
   "id": "5c88141d-8d7d-47ea-a632-3704f28dee42",
   "metadata": {},
   "outputs": [],
   "source": [
    "for w in g.rolling('1 day'):\n",
    "    print(w)"
   ]
  },
  {
   "cell_type": "code",
   "execution_count": null,
   "id": "26aac633-a738-4b90-b42c-10d94ac34b5b",
   "metadata": {},
   "outputs": [],
   "source": []
  }
 ],
 "metadata": {
  "kernelspec": {
   "display_name": "Python [conda env:raphtory] *",
   "language": "python",
   "name": "conda-env-raphtory-py"
  },
  "language_info": {
   "codemirror_mode": {
    "name": "ipython",
    "version": 3
   },
   "file_extension": ".py",
   "mimetype": "text/x-python",
   "name": "python",
   "nbconvert_exporter": "python",
   "pygments_lexer": "ipython3",
   "version": "3.10.9"
  }
 },
 "nbformat": 4,
 "nbformat_minor": 5
}
