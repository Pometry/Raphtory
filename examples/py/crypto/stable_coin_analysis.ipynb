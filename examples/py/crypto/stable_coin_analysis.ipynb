{
 "cells": [
  {
   "cell_type": "code",
   "execution_count": null,
   "id": "5e76e492-a0b9-4199-8c46-bb10d1b15db2",
   "metadata": {},
   "outputs": [],
   "source": [
    "from raphtory import Graph\n",
    "from raphtory import algorithms\n",
    "from raphtory import graph_loader\n",
    "import time\n",
    "import sys\n",
    "\n",
    "g = graph_loader.stable_coin_graph(\"/tmp/stablecoin\", 1)\n",
    "\n",
    "max_size = sys.maxsize\n",
    "min_size = -sys.maxsize - 1\n",
    "\n",
    "start_time = time.time()\n",
    "res = algorithms.pagerank(g, min_size, max_size, 20)\n",
    "end_time = time.time()\n",
    "\n",
    "print(\"Time taken in secs\", end_time - start_time)\n",
    "# print(res)"
   ]
  },
  {
   "cell_type": "code",
   "execution_count": null,
   "id": "719e89be-da1f-4662-8055-1c1ee658116a",
   "metadata": {},
   "outputs": [],
   "source": []
  }
 ],
 "metadata": {
  "kernelspec": {
   "display_name": "Python [conda env:raphtory] *",
   "language": "python",
   "name": "conda-env-raphtory-py"
  },
  "language_info": {
   "codemirror_mode": {
    "name": "ipython",
    "version": 3
   },
   "file_extension": ".py",
   "mimetype": "text/x-python",
   "name": "python",
   "nbconvert_exporter": "python",
   "pygments_lexer": "ipython3",
   "version": "3.10.9"
  }
 },
 "nbformat": 4,
 "nbformat_minor": 5
}
