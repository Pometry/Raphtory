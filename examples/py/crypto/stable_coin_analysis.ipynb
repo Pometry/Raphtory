{
 "cells": [
  {
   "cell_type": "code",
   "execution_count": 1,
   "id": "5e76e492-a0b9-4199-8c46-bb10d1b15db2",
   "metadata": {},
   "outputs": [
    {
     "name": "stdout",
     "output_type": "stream",
     "text": [
      "Loaded graph with 1 shards from encoded data files /tmp/stablecoin2/graphdb.bincode with 1523333 vertices, 2814155 edges which took 2 seconds\n"
     ]
    }
   ],
   "source": [
    "from raphtory import Graph\n",
    "from raphtory import algorithms\n",
    "from raphtory import graph_loader\n",
    "import time\n",
    "import sys\n",
    "\n",
    "g = graph_loader.stable_coin_graph(\"/tmp/stablecoin2\", 1)"
   ]
  },
  {
   "cell_type": "code",
   "execution_count": 2,
   "id": "f6967541-7c91-4585-99c5-5b9e8f4865b5",
   "metadata": {},
   "outputs": [
    {
     "data": {
      "text/plain": [
       "['Dai', 'LUNC', 'USTC', 'USD', 'USDP', 'USDT']"
      ]
     },
     "execution_count": 2,
     "metadata": {},
     "output_type": "execute_result"
    }
   ],
   "source": [
    "all_layers = g.get_unique_layers()\n",
    "all_layers"
   ]
  },
  {
   "cell_type": "code",
   "execution_count": 5,
   "id": "719e89be-da1f-4662-8055-1c1ee658116a",
   "metadata": {},
   "outputs": [
    {
     "name": "stdout",
     "output_type": "stream",
     "text": [
      "Contract address Dai has 123876 transactions\n",
      "Contract address LUNC has 68811 transactions\n",
      "Contract address USTC has 41771 transactions\n",
      "Contract address USD has 1026779 transactions\n",
      "Contract address USDP has 4415 transactions\n",
      "Contract address USDT has 1605617 transactions\n"
     ]
    }
   ],
   "source": [
    "for l in all_layers:\n",
    "    print(\"Contract address {} has {} transactions\".format(l,g.layer(l).num_edges()))"
   ]
  },
  {
   "cell_type": "code",
   "execution_count": 5,
   "id": "03254ea1-0641-4205-9289-5b2b6f6ab8af",
   "metadata": {},
   "outputs": [],
   "source": [
    "pg = algorithms.pagerank(g, 20)"
   ]
  },
  {
   "cell_type": "code",
   "execution_count": 6,
   "id": "b00ebdbb-625b-4e51-9337-5dd31155a0a4",
   "metadata": {},
   "outputs": [
    {
     "data": {
      "text/plain": [
       "[('0x28c6c06298d514db089934071355e5743bf21d60', 0.04775241017341614),\n",
       " ('0xb5d85cbf7cb3ee0d56b3bb207d5fc4b82f43f511', 0.012821679934859276),\n",
       " ('0x3cd751e6b0078be393132286c442345e5dc49699', 0.01281900517642498),\n",
       " ('0x503828976d22510aad0201ac7ec88293211d23da', 0.012427086010575294),\n",
       " ('0x71660c4005ba85c37ccec55d0c4493e66fe775d3', 0.011451280675828457),\n",
       " ('0x2faf487a4414fe77e2327f0bf4ae2a264a776ad2', 0.011122736148536205),\n",
       " ('0x0d0707963952f2fba59dd06f2b425ace40b492fe', 0.008776657283306122),\n",
       " ('0xec30d02f10353f8efc9601371f56e808751f396f', 0.008413298055529594),\n",
       " ('0x88bd4d3e2997371bceefe8d9386c6b5b4de60346', 0.007808893918991089),\n",
       " ('0x74de5d4fcbf63e00296fd95d33236b9794016631', 0.007107942830771208)]"
      ]
     },
     "execution_count": 6,
     "metadata": {},
     "output_type": "execute_result"
    }
   ],
   "source": [
    "sorted_pg = dict(sorted(pg.items(), key=lambda x: x[1], reverse=True))\n",
    "list(sorted_pg.items())[:10]"
   ]
  },
  {
   "cell_type": "code",
   "execution_count": 7,
   "id": "3ab99b65-9f3f-4441-b358-edb0182d0ded",
   "metadata": {},
   "outputs": [
    {
     "name": "stdout",
     "output_type": "stream",
     "text": [
      "Contract address Dai has 0x28c6c06298d514db089934071355e5743bf21d60? True\n",
      "Contract address LUNC has 0x28c6c06298d514db089934071355e5743bf21d60? True\n",
      "Contract address USTC has 0x28c6c06298d514db089934071355e5743bf21d60? True\n",
      "Contract address USD has 0x28c6c06298d514db089934071355e5743bf21d60? True\n",
      "Contract address USDP has 0x28c6c06298d514db089934071355e5743bf21d60? True\n",
      "Contract address USDT has 0x28c6c06298d514db089934071355e5743bf21d60? True\n"
     ]
    }
   ],
   "source": [
    "for l in all_layers:\n",
    "    print(\"Contract address {} has 0x28c6c06298d514db089934071355e5743bf21d60? {}\".format(l, g.layer(l).has_vertex(\"0x28c6c06298d514db089934071355e5743bf21d60\")))"
   ]
  },
  {
   "cell_type": "code",
   "execution_count": 8,
   "id": "94b714a5-53e3-4cf0-bf9d-cd0493fee031",
   "metadata": {},
   "outputs": [
    {
     "name": "stdout",
     "output_type": "stream",
     "text": [
      "Contract address Dai has 0x74de5d4fcbf63e00296fd95d33236b9794016631? True\n",
      "Contract address LUNC has 0x74de5d4fcbf63e00296fd95d33236b9794016631? True\n",
      "Contract address USTC has 0x74de5d4fcbf63e00296fd95d33236b9794016631? True\n",
      "Contract address USD has 0x74de5d4fcbf63e00296fd95d33236b9794016631? True\n",
      "Contract address USDP has 0x74de5d4fcbf63e00296fd95d33236b9794016631? True\n",
      "Contract address USDT has 0x74de5d4fcbf63e00296fd95d33236b9794016631? True\n"
     ]
    }
   ],
   "source": [
    "for l in all_layers:\n",
    "    print(\"Contract address {} has 0x74de5d4fcbf63e00296fd95d33236b9794016631? {}\".format(l, g.layer(l).has_vertex(\"0x74de5d4fcbf63e00296fd95d33236b9794016631\")))"
   ]
  },
  {
   "cell_type": "code",
   "execution_count": 9,
   "id": "41e82eb4-6415-41d4-aca4-0148aff57e6a",
   "metadata": {},
   "outputs": [
    {
     "name": "stdout",
     "output_type": "stream",
     "text": [
      "Important people from contract address Dai: [('0x503828976d22510aad0201ac7ec88293211d23da', 0.00498485891148448), ('0x28c6c06298d514db089934071355e5743bf21d60', 0.004945699125528336), ('0x74de5d4fcbf63e00296fd95d33236b9794016631', 0.002401345409452915), ('0x60594a405d53811d3bc4766596efd80fd545a270', 0.0020192882511764765), ('0x5777d92f208679db4b9778590fa3cab3ac9e2168', 0.0018381394911557436), ('0x0000000000000000000000000000000000000000', 0.0017881435342133045), ('0x2faf487a4414fe77e2327f0bf4ae2a264a776ad2', 0.001336943358182907), ('0x66c57bf505a85a74609d2c83e94aabb26d691e1f', 0.001156835351139307), ('0xa478c2975ab1ea89e8196811f51a7b7ade33eb11', 0.0011034883791580796), ('0x028171bca77440897b824ca71d1c56cac55b68a3', 0.0009832310024648905)]\n",
      "\n",
      "Important people from contract address LUNC: [('0x77696bb39917c91a0c3908d577d5e322095425ca', 0.003940722439438105), ('0x0000000000000000000000000000000000000000', 0.0016449461691081524), ('0x60a39010e4892b862d1bb6bdde908215ac5af6f3', 0.0015000952407717705), ('0x74de5d4fcbf63e00296fd95d33236b9794016631', 0.0012993544805794954), ('0x16b70f44719b227278a2dc1122e8106cc929ecd1', 0.0012552597327157855), ('0x5f65f7b609678448494de4c87521cdf6cef1e932', 0.0007326977211050689), ('0x738cf6903e6c4e699d1c2dd9ab8b67fcdb3121ea', 0.000548298645298928), ('0x88172e5d79fe75c7aed1453e89ff5d741cfa4ca7', 0.00029962105327285826), ('0xf16e9b0d03470827a95cdfd0cb8a8a3b46969b91', 0.00029123295098543167), ('0xdcad279e517d7be07934ff85949fd6598758ce0b', 0.00020447716815397143)]\n",
      "\n",
      "Important people from contract address USTC: [('0xeb2629a2734e272bcc07bda959863f316f4bd4cf', 0.004675894510000944), ('0x0000000000000000000000000000000000000000', 0.0036399296950548887), ('0x28c6c06298d514db089934071355e5743bf21d60', 0.0031861707102507353), ('0x74de5d4fcbf63e00296fd95d33236b9794016631', 0.0010132028255611658), ('0x5f65f7b609678448494de4c87521cdf6cef1e932', 0.000762246607337147), ('0x8b00ee8606cc70c2dce68dea0cefe632cca0fb7b', 0.0007110822480171919), ('0xf39c29d8f6851d87c40c83b61078eb7384f7cb51', 0.0006504562916234136), ('0x738cf6903e6c4e699d1c2dd9ab8b67fcdb3121ea', 0.0004919510101899505), ('0x220bda5c8994804ac96ebe4df184d25e5c2196d4', 0.00047188971075229347), ('0xf16e9b0d03470827a95cdfd0cb8a8a3b46969b91', 0.0004514167958404869)]\n",
      "\n",
      "Important people from contract address USD: [('0x28c6c06298d514db089934071355e5743bf21d60', 0.03447524085640907), ('0x71660c4005ba85c37ccec55d0c4493e66fe775d3', 0.02334086038172245), ('0x503828976d22510aad0201ac7ec88293211d23da', 0.022647419944405556), ('0x2faf487a4414fe77e2327f0bf4ae2a264a776ad2', 0.010266787372529507), ('0x88e6a0c2ddd26feeb64f039a2c41296fcb3f5640', 0.008800065144896507), ('0x4f6742badb049791cd9a37ea913f2bac38d01279', 0.007591057103127241), ('0x738cf6903e6c4e699d1c2dd9ab8b67fcdb3121ea', 0.0072307162918150425), ('0xae2d4617c862309a3d75a0ffb358c7a5009c673f', 0.007017926312983036), ('0x74de5d4fcbf63e00296fd95d33236b9794016631', 0.006678083911538124), ('0xf16e9b0d03470827a95cdfd0cb8a8a3b46969b91', 0.005125652067363262)]\n",
      "\n",
      "Important people from contract address USDP: [('0x286af5cf60ae834199949bbc815485f07cc9c644', 0.00027308613061904907), ('0x28c6c06298d514db089934071355e5743bf21d60', 0.0002334492892259732), ('0x2faf487a4414fe77e2327f0bf4ae2a264a776ad2', 0.00019284506561234593), ('0xc88f7666330b4b511358b7742dc2a3234710e7b1', 0.00018656268366612494), ('0xa12431d0b9db640034b0cdfceef9cce161e62be4', 0.0001293770328629762), ('0xa81011ae274ef6debd3bdab634102c7b6c2c452d', 0.00011062111298087984), ('0x0d0707963952f2fba59dd06f2b425ace40b492fe', 0.00010764291801024228), ('0x3cd751e6b0078be393132286c442345e5dc49699', 0.00010763891623355448), ('0x4f6742badb049791cd9a37ea913f2bac38d01279', 0.00010310257493983954), ('0xffec0067f5a79cff07527f63d83dd5462ccf8ba4', 9.77367817540653e-05)]\n",
      "\n",
      "Important people from contract address USDT: [('0x28c6c06298d514db089934071355e5743bf21d60', 0.040305245667696), ('0xb5d85cbf7cb3ee0d56b3bb207d5fc4b82f43f511', 0.018110357224941254), ('0x3cd751e6b0078be393132286c442345e5dc49699', 0.01809125952422619), ('0xec30d02f10353f8efc9601371f56e808751f396f', 0.012219266034662724), ('0x0d0707963952f2fba59dd06f2b425ace40b492fe', 0.011637384071946144), ('0x88bd4d3e2997371bceefe8d9386c6b5b4de60346', 0.011286633089184761), ('0x2faf487a4414fe77e2327f0bf4ae2a264a776ad2', 0.008539518341422081), ('0x5041ed759dd4afc3a72b8192c143f72f4724081a', 0.007287964224815369), ('0x89e51fa8ca5d66cd220baed62ed01e8951aa7c40', 0.0053698052652180195), ('0x6262998ced04146fa42253a5c0af90ca02dfd2a3', 0.004639295395463705)]\n",
      "\n"
     ]
    }
   ],
   "source": [
    "for l in all_layers:\n",
    "    pg = algorithms.pagerank(g.layer(l), 20)\n",
    "    sorted_pg = dict(sorted(pg.items(), key=lambda x: x[1], reverse=True))\n",
    "    print(\"Important people from contract address {}: {}\".format(l, list(sorted_pg.items())[:10]))\n",
    "    print()"
   ]
  },
  {
   "cell_type": "code",
   "execution_count": 10,
   "id": "25e6a1d6-7ff8-4478-b5f3-33d2734271bf",
   "metadata": {},
   "outputs": [],
   "source": [
    "luna = g.layer(\"LUNC\")"
   ]
  },
  {
   "cell_type": "code",
   "execution_count": 12,
   "id": "9320c7d3-21dd-4233-b231-79b3225092ca",
   "metadata": {},
   "outputs": [],
   "source": [
    "pg = algorithms.pagerank(luna, 20)"
   ]
  },
  {
   "cell_type": "code",
   "execution_count": 13,
   "id": "888b8c05-60e0-4311-911f-0710bf58de1c",
   "metadata": {},
   "outputs": [
    {
     "data": {
      "text/plain": [
       "0.0016449461691081524"
      ]
     },
     "execution_count": 13,
     "metadata": {},
     "output_type": "execute_result"
    }
   ],
   "source": [
    "pg[\"0x0000000000000000000000000000000000000000\"]"
   ]
  },
  {
   "cell_type": "code",
   "execution_count": 14,
   "id": "26aac633-a738-4b90-b42c-10d94ac34b5b",
   "metadata": {},
   "outputs": [
    {
     "name": "stdout",
     "output_type": "stream",
     "text": [
      "Contract address Dai has 123876 transactions\n",
      "Contract address LUNC has 68811 transactions\n",
      "Contract address USTC has 41771 transactions\n",
      "Contract address USD has 1026779 transactions\n",
      "Contract address USDP has 4415 transactions\n",
      "Contract address USDT has 1605617 transactions\n"
     ]
    }
   ],
   "source": [
    "for l in all_layers:\n",
    "    print(\"Contract address {} has {} transactions\".format(l,g.layer(l).num_edges()))"
   ]
  },
  {
   "cell_type": "code",
   "execution_count": 9,
   "id": "95ee3f6e-445f-43fa-8616-01819a9f3cd4",
   "metadata": {},
   "outputs": [
    {
     "name": "stdout",
     "output_type": "stream",
     "text": [
      "Date 2022-04-28 00:30:15, Contract address Dai has 4691 transactions\n",
      "Date 2022-04-29 00:30:15, Contract address Dai has 5237 transactions\n",
      "Date 2022-04-30 00:30:15, Contract address Dai has 4828 transactions\n",
      "Date 2022-05-01 00:30:15, Contract address Dai has 4266 transactions\n",
      "Date 2022-05-02 00:30:15, Contract address Dai has 4504 transactions\n",
      "Date 2022-05-03 00:30:15, Contract address Dai has 4354 transactions\n",
      "Date 2022-05-04 00:30:15, Contract address Dai has 5202 transactions\n",
      "Date 2022-05-05 00:30:15, Contract address Dai has 5336 transactions\n",
      "Date 2022-05-06 00:30:15, Contract address Dai has 5475 transactions\n",
      "Date 2022-05-07 00:30:15, Contract address Dai has 5263 transactions\n",
      "Date 2022-05-08 00:30:15, Contract address Dai has 6584 transactions\n",
      "Date 2022-05-09 00:30:15, Contract address Dai has 9524 transactions\n",
      "Date 2022-05-10 00:30:15, Contract address Dai has 7942 transactions\n",
      "Date 2022-05-11 00:30:15, Contract address Dai has 10497 transactions\n",
      "Date 2022-05-12 00:30:15, Contract address Dai has 14508 transactions\n",
      "Date 2022-05-13 00:30:15, Contract address Dai has 8632 transactions\n",
      "Date 2022-05-14 00:30:15, Contract address Dai has 6797 transactions\n",
      "Date 2022-05-15 00:30:15, Contract address Dai has 6723 transactions\n",
      "Date 2022-05-16 00:30:15, Contract address Dai has 6913 transactions\n",
      "Date 2022-05-17 00:30:15, Contract address Dai has 5758 transactions\n",
      "Date 2022-05-18 00:30:15, Contract address Dai has 6190 transactions\n",
      "Date 2022-05-19 00:30:15, Contract address Dai has 6066 transactions\n",
      "Date 2022-05-20 00:30:15, Contract address Dai has 5728 transactions\n",
      "Date 2022-05-21 00:30:15, Contract address Dai has 4405 transactions\n",
      "Date 2022-05-22 00:30:15, Contract address Dai has 4446 transactions\n",
      "Date 2022-05-23 00:30:15, Contract address Dai has 5349 transactions\n",
      "Date 2022-05-24 00:30:15, Contract address Dai has 4937 transactions\n",
      "Date 2022-04-28 00:30:15, Contract address LUNC has 199 transactions\n",
      "Date 2022-04-29 00:30:15, Contract address LUNC has 264 transactions\n",
      "Date 2022-04-30 00:30:15, Contract address LUNC has 235 transactions\n",
      "Date 2022-05-01 00:30:15, Contract address LUNC has 206 transactions\n",
      "Date 2022-05-02 00:30:15, Contract address LUNC has 188 transactions\n",
      "Date 2022-05-03 00:30:15, Contract address LUNC has 207 transactions\n",
      "Date 2022-05-04 00:30:15, Contract address LUNC has 243 transactions\n",
      "Date 2022-05-05 00:30:15, Contract address LUNC has 341 transactions\n",
      "Date 2022-05-06 00:30:15, Contract address LUNC has 230 transactions\n",
      "Date 2022-05-07 00:30:15, Contract address LUNC has 364 transactions\n",
      "Date 2022-05-08 00:30:15, Contract address LUNC has 457 transactions\n",
      "Date 2022-05-09 00:30:15, Contract address LUNC has 841 transactions\n",
      "Date 2022-05-10 00:30:15, Contract address LUNC has 2165 transactions\n",
      "Date 2022-05-11 00:30:15, Contract address LUNC has 5203 transactions\n",
      "Date 2022-05-12 00:30:15, Contract address LUNC has 6372 transactions\n",
      "Date 2022-05-13 00:30:15, Contract address LUNC has 7952 transactions\n",
      "Date 2022-05-14 00:30:15, Contract address LUNC has 15255 transactions\n",
      "Date 2022-05-15 00:30:15, Contract address LUNC has 11456 transactions\n",
      "Date 2022-05-16 00:30:15, Contract address LUNC has 6131 transactions\n",
      "Date 2022-05-17 00:30:15, Contract address LUNC has 3349 transactions\n",
      "Date 2022-05-18 00:30:15, Contract address LUNC has 3403 transactions\n",
      "Date 2022-05-19 00:30:15, Contract address LUNC has 2346 transactions\n",
      "Date 2022-05-20 00:30:15, Contract address LUNC has 2083 transactions\n",
      "Date 2022-05-21 00:30:15, Contract address LUNC has 2082 transactions\n",
      "Date 2022-05-22 00:30:15, Contract address LUNC has 3451 transactions\n",
      "Date 2022-05-23 00:30:15, Contract address LUNC has 4010 transactions\n",
      "Date 2022-05-24 00:30:15, Contract address LUNC has 3401 transactions\n",
      "Date 2022-04-28 00:30:15, Contract address USTC has 1207 transactions\n",
      "Date 2022-04-29 00:30:15, Contract address USTC has 1140 transactions\n",
      "Date 2022-04-30 00:30:15, Contract address USTC has 1097 transactions\n",
      "Date 2022-05-01 00:30:15, Contract address USTC has 855 transactions\n",
      "Date 2022-05-02 00:30:15, Contract address USTC has 1047 transactions\n",
      "Date 2022-05-03 00:30:15, Contract address USTC has 1134 transactions\n",
      "Date 2022-05-04 00:30:15, Contract address USTC has 1121 transactions\n",
      "Date 2022-05-05 00:30:15, Contract address USTC has 1060 transactions\n",
      "Date 2022-05-06 00:30:15, Contract address USTC has 1098 transactions\n",
      "Date 2022-05-07 00:30:15, Contract address USTC has 1687 transactions\n",
      "Date 2022-05-08 00:30:15, Contract address USTC has 1819 transactions\n",
      "Date 2022-05-09 00:30:15, Contract address USTC has 3759 transactions\n",
      "Date 2022-05-10 00:30:15, Contract address USTC has 6236 transactions\n",
      "Date 2022-05-11 00:30:15, Contract address USTC has 7047 transactions\n",
      "Date 2022-05-12 00:30:15, Contract address USTC has 6074 transactions\n",
      "Date 2022-05-13 00:30:15, Contract address USTC has 3244 transactions\n",
      "Date 2022-05-14 00:30:15, Contract address USTC has 1870 transactions\n",
      "Date 2022-05-15 00:30:15, Contract address USTC has 1660 transactions\n",
      "Date 2022-05-16 00:30:15, Contract address USTC has 1429 transactions\n",
      "Date 2022-05-17 00:30:15, Contract address USTC has 736 transactions\n",
      "Date 2022-05-18 00:30:15, Contract address USTC has 935 transactions\n",
      "Date 2022-05-19 00:30:15, Contract address USTC has 722 transactions\n",
      "Date 2022-05-20 00:30:15, Contract address USTC has 613 transactions\n",
      "Date 2022-05-21 00:30:15, Contract address USTC has 568 transactions\n",
      "Date 2022-05-22 00:30:15, Contract address USTC has 497 transactions\n",
      "Date 2022-05-23 00:30:15, Contract address USTC has 713 transactions\n",
      "Date 2022-05-24 00:30:15, Contract address USTC has 1046 transactions\n",
      "Date 2022-04-28 00:30:15, Contract address USD has 39112 transactions\n",
      "Date 2022-04-29 00:30:15, Contract address USD has 42849 transactions\n",
      "Date 2022-04-30 00:30:15, Contract address USD has 38089 transactions\n",
      "Date 2022-05-01 00:30:15, Contract address USD has 31297 transactions\n",
      "Date 2022-05-02 00:30:15, Contract address USD has 41566 transactions\n",
      "Date 2022-05-03 00:30:15, Contract address USD has 37756 transactions\n",
      "Date 2022-05-04 00:30:15, Contract address USD has 40500 transactions\n",
      "Date 2022-05-05 00:30:15, Contract address USD has 70032 transactions\n",
      "Date 2022-05-06 00:30:15, Contract address USD has 42295 transactions\n",
      "Date 2022-05-07 00:30:15, Contract address USD has 36568 transactions\n",
      "Date 2022-05-08 00:30:15, Contract address USD has 50056 transactions\n",
      "Date 2022-05-09 00:30:15, Contract address USD has 63629 transactions\n",
      "Date 2022-05-10 00:30:15, Contract address USD has 59620 transactions\n",
      "Date 2022-05-11 00:30:15, Contract address USD has 74196 transactions\n",
      "Date 2022-05-12 00:30:15, Contract address USD has 95110 transactions\n",
      "Date 2022-05-13 00:30:15, Contract address USD has 68472 transactions\n",
      "Date 2022-05-14 00:30:15, Contract address USD has 50072 transactions\n",
      "Date 2022-05-15 00:30:15, Contract address USD has 45997 transactions\n",
      "Date 2022-05-16 00:30:15, Contract address USD has 52451 transactions\n",
      "Date 2022-05-17 00:30:15, Contract address USD has 46019 transactions\n",
      "Date 2022-05-18 00:30:15, Contract address USD has 51540 transactions\n",
      "Date 2022-05-19 00:30:15, Contract address USD has 45374 transactions\n",
      "Date 2022-05-20 00:30:15, Contract address USD has 41799 transactions\n",
      "Date 2022-05-21 00:30:15, Contract address USD has 30988 transactions\n",
      "Date 2022-05-22 00:30:15, Contract address USD has 33034 transactions\n",
      "Date 2022-05-23 00:30:15, Contract address USD has 44896 transactions\n",
      "Date 2022-05-24 00:30:15, Contract address USD has 41146 transactions\n",
      "Date 2022-04-28 00:30:15, Contract address USDP has 236 transactions\n",
      "Date 2022-04-29 00:30:15, Contract address USDP has 204 transactions\n",
      "Date 2022-04-30 00:30:15, Contract address USDP has 112 transactions\n",
      "Date 2022-05-01 00:30:15, Contract address USDP has 114 transactions\n",
      "Date 2022-05-02 00:30:15, Contract address USDP has 192 transactions\n",
      "Date 2022-05-03 00:30:15, Contract address USDP has 195 transactions\n",
      "Date 2022-05-04 00:30:15, Contract address USDP has 196 transactions\n",
      "Date 2022-05-05 00:30:15, Contract address USDP has 208 transactions\n",
      "Date 2022-05-06 00:30:15, Contract address USDP has 198 transactions\n",
      "Date 2022-05-07 00:30:15, Contract address USDP has 129 transactions\n",
      "Date 2022-05-08 00:30:15, Contract address USDP has 161 transactions\n",
      "Date 2022-05-09 00:30:15, Contract address USDP has 313 transactions\n",
      "Date 2022-05-10 00:30:15, Contract address USDP has 376 transactions\n",
      "Date 2022-05-11 00:30:15, Contract address USDP has 410 transactions\n",
      "Date 2022-05-12 00:30:15, Contract address USDP has 638 transactions\n",
      "Date 2022-05-13 00:30:15, Contract address USDP has 405 transactions\n",
      "Date 2022-05-14 00:30:15, Contract address USDP has 213 transactions\n",
      "Date 2022-05-15 00:30:15, Contract address USDP has 285 transactions\n",
      "Date 2022-05-16 00:30:15, Contract address USDP has 272 transactions\n",
      "Date 2022-05-17 00:30:15, Contract address USDP has 277 transactions\n",
      "Date 2022-05-18 00:30:15, Contract address USDP has 232 transactions\n",
      "Date 2022-05-19 00:30:15, Contract address USDP has 329 transactions\n",
      "Date 2022-05-20 00:30:15, Contract address USDP has 201 transactions\n",
      "Date 2022-05-21 00:30:15, Contract address USDP has 119 transactions\n",
      "Date 2022-05-22 00:30:15, Contract address USDP has 156 transactions\n",
      "Date 2022-05-23 00:30:15, Contract address USDP has 314 transactions\n",
      "Date 2022-05-24 00:30:15, Contract address USDP has 207 transactions\n",
      "Date 2022-04-28 00:30:15, Contract address USDT has 71237 transactions\n",
      "Date 2022-04-29 00:30:15, Contract address USDT has 77921 transactions\n",
      "Date 2022-04-30 00:30:15, Contract address USDT has 65681 transactions\n",
      "Date 2022-05-01 00:30:15, Contract address USDT has 54228 transactions\n",
      "Date 2022-05-02 00:30:15, Contract address USDT has 63697 transactions\n",
      "Date 2022-05-03 00:30:15, Contract address USDT has 63533 transactions\n",
      "Date 2022-05-04 00:30:15, Contract address USDT has 70345 transactions\n",
      "Date 2022-05-05 00:30:15, Contract address USDT has 73926 transactions\n",
      "Date 2022-05-06 00:30:15, Contract address USDT has 71430 transactions\n",
      "Date 2022-05-07 00:30:15, Contract address USDT has 60447 transactions\n",
      "Date 2022-05-08 00:30:15, Contract address USDT has 61810 transactions\n",
      "Date 2022-05-09 00:30:15, Contract address USDT has 91609 transactions\n",
      "Date 2022-05-10 00:30:15, Contract address USDT has 101350 transactions\n",
      "Date 2022-05-11 00:30:15, Contract address USDT has 110277 transactions\n",
      "Date 2022-05-12 00:30:15, Contract address USDT has 135655 transactions\n",
      "Date 2022-05-13 00:30:15, Contract address USDT has 113427 transactions\n",
      "Date 2022-05-14 00:30:15, Contract address USDT has 89688 transactions\n",
      "Date 2022-05-15 00:30:15, Contract address USDT has 69832 transactions\n",
      "Date 2022-05-16 00:30:15, Contract address USDT has 82023 transactions\n",
      "Date 2022-05-17 00:30:15, Contract address USDT has 85771 transactions\n",
      "Date 2022-05-18 00:30:15, Contract address USDT has 86573 transactions\n",
      "Date 2022-05-19 00:30:15, Contract address USDT has 67908 transactions\n",
      "Date 2022-05-20 00:30:15, Contract address USDT has 67374 transactions\n",
      "Date 2022-05-21 00:30:15, Contract address USDT has 51222 transactions\n",
      "Date 2022-05-22 00:30:15, Contract address USDT has 47785 transactions\n",
      "Date 2022-05-23 00:30:15, Contract address USDT has 66711 transactions\n",
      "Date 2022-05-24 00:30:15, Contract address USDT has 66097 transactions\n"
     ]
    }
   ],
   "source": [
    "for l in all_layers:\n",
    "    for w in g.layer(l).rolling(step='1 day', window='1 day'):\n",
    "        print(\"Date {}, Contract address {} has {} transactions\".format(w.start_date_time(), l,w.layer(l).num_edges()))"
   ]
  },
  {
   "cell_type": "code",
   "execution_count": null,
   "id": "6e42d0d4-0fdb-4ffb-b85f-85a4bb3296aa",
   "metadata": {},
   "outputs": [],
   "source": []
  },
  {
   "cell_type": "code",
   "execution_count": null,
   "id": "494154f5-940e-4f1e-b7d2-c73466c76fa2",
   "metadata": {},
   "outputs": [],
   "source": []
  }
 ],
 "metadata": {
  "kernelspec": {
   "display_name": "Python [conda env:raphtory] *",
   "language": "python",
   "name": "conda-env-raphtory-py"
  },
  "language_info": {
   "codemirror_mode": {
    "name": "ipython",
    "version": 3
   },
   "file_extension": ".py",
   "mimetype": "text/x-python",
   "name": "python",
   "nbconvert_exporter": "python",
   "pygments_lexer": "ipython3",
   "version": "3.10.9"
  }
 },
 "nbformat": 4,
 "nbformat_minor": 5
}
