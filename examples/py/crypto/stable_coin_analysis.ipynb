{
 "cells": [
  {
   "cell_type": "code",
   "execution_count": 24,
   "id": "5e76e492-a0b9-4199-8c46-bb10d1b15db2",
   "metadata": {},
   "outputs": [
    {
     "name": "stdout",
     "output_type": "stream",
     "text": [
      "Loaded graph with 1 shards from encoded data files /tmp/stablecoin2/graphdb.bincode with 1523333 vertices, 2814155 edges which took 2 seconds\n"
     ]
    }
   ],
   "source": [
    "from raphtory import Graph\n",
    "from raphtory import algorithms\n",
    "from raphtory import graph_loader\n",
    "import time\n",
    "import sys\n",
    "import pandas as pd\n",
    "import altair as alt\n",
    "from datetime import timezone, datetime\n",
    "\n",
    "g = graph_loader.stable_coin_graph(\"/tmp/stablecoin2\", 1)"
   ]
  },
  {
   "cell_type": "code",
   "execution_count": 28,
   "id": "f6967541-7c91-4585-99c5-5b9e8f4865b5",
   "metadata": {},
   "outputs": [
    {
     "data": {
      "text/plain": [
       "['Dai', 'LUNC', 'USTC', 'USD', 'USDP', 'USDT']"
      ]
     },
     "execution_count": 28,
     "metadata": {},
     "output_type": "execute_result"
    }
   ],
   "source": [
    "all_layers = g.get_unique_layers()\n",
    "all_layers"
   ]
  },
  {
   "cell_type": "code",
   "execution_count": 5,
   "id": "719e89be-da1f-4662-8055-1c1ee658116a",
   "metadata": {},
   "outputs": [
    {
     "name": "stdout",
     "output_type": "stream",
     "text": [
      "Contract address Dai has 123876 transactions\n",
      "Contract address LUNC has 68811 transactions\n",
      "Contract address USTC has 41771 transactions\n",
      "Contract address USD has 1026779 transactions\n",
      "Contract address USDP has 4415 transactions\n",
      "Contract address USDT has 1605617 transactions\n"
     ]
    }
   ],
   "source": [
    "for l in all_layers:\n",
    "    print(\"Contract address {} has {} transactions\".format(l,g.layer(l).num_edges()))"
   ]
  },
  {
   "cell_type": "code",
   "execution_count": 5,
   "id": "03254ea1-0641-4205-9289-5b2b6f6ab8af",
   "metadata": {},
   "outputs": [],
   "source": [
    "pg = algorithms.pagerank(g, 20)"
   ]
  },
  {
   "cell_type": "code",
   "execution_count": 6,
   "id": "b00ebdbb-625b-4e51-9337-5dd31155a0a4",
   "metadata": {},
   "outputs": [
    {
     "data": {
      "text/plain": [
       "[('0x28c6c06298d514db089934071355e5743bf21d60', 0.04775241017341614),\n",
       " ('0xb5d85cbf7cb3ee0d56b3bb207d5fc4b82f43f511', 0.012821679934859276),\n",
       " ('0x3cd751e6b0078be393132286c442345e5dc49699', 0.01281900517642498),\n",
       " ('0x503828976d22510aad0201ac7ec88293211d23da', 0.012427086010575294),\n",
       " ('0x71660c4005ba85c37ccec55d0c4493e66fe775d3', 0.011451280675828457),\n",
       " ('0x2faf487a4414fe77e2327f0bf4ae2a264a776ad2', 0.011122736148536205),\n",
       " ('0x0d0707963952f2fba59dd06f2b425ace40b492fe', 0.008776657283306122),\n",
       " ('0xec30d02f10353f8efc9601371f56e808751f396f', 0.008413298055529594),\n",
       " ('0x88bd4d3e2997371bceefe8d9386c6b5b4de60346', 0.007808893918991089),\n",
       " ('0x74de5d4fcbf63e00296fd95d33236b9794016631', 0.007107942830771208)]"
      ]
     },
     "execution_count": 6,
     "metadata": {},
     "output_type": "execute_result"
    }
   ],
   "source": [
    "sorted_pg = dict(sorted(pg.items(), key=lambda x: x[1], reverse=True))\n",
    "list(sorted_pg.items())[:10]"
   ]
  },
  {
   "cell_type": "code",
   "execution_count": 7,
   "id": "3ab99b65-9f3f-4441-b358-edb0182d0ded",
   "metadata": {},
   "outputs": [
    {
     "name": "stdout",
     "output_type": "stream",
     "text": [
      "Contract address Dai has 0x28c6c06298d514db089934071355e5743bf21d60? True\n",
      "Contract address LUNC has 0x28c6c06298d514db089934071355e5743bf21d60? True\n",
      "Contract address USTC has 0x28c6c06298d514db089934071355e5743bf21d60? True\n",
      "Contract address USD has 0x28c6c06298d514db089934071355e5743bf21d60? True\n",
      "Contract address USDP has 0x28c6c06298d514db089934071355e5743bf21d60? True\n",
      "Contract address USDT has 0x28c6c06298d514db089934071355e5743bf21d60? True\n"
     ]
    }
   ],
   "source": [
    "for l in all_layers:\n",
    "    print(\"Contract address {} has 0x28c6c06298d514db089934071355e5743bf21d60? {}\".format(l, g.layer(l).has_vertex(\"0x28c6c06298d514db089934071355e5743bf21d60\")))"
   ]
  },
  {
   "cell_type": "code",
   "execution_count": 8,
   "id": "94b714a5-53e3-4cf0-bf9d-cd0493fee031",
   "metadata": {},
   "outputs": [
    {
     "name": "stdout",
     "output_type": "stream",
     "text": [
      "Contract address Dai has 0x74de5d4fcbf63e00296fd95d33236b9794016631? True\n",
      "Contract address LUNC has 0x74de5d4fcbf63e00296fd95d33236b9794016631? True\n",
      "Contract address USTC has 0x74de5d4fcbf63e00296fd95d33236b9794016631? True\n",
      "Contract address USD has 0x74de5d4fcbf63e00296fd95d33236b9794016631? True\n",
      "Contract address USDP has 0x74de5d4fcbf63e00296fd95d33236b9794016631? True\n",
      "Contract address USDT has 0x74de5d4fcbf63e00296fd95d33236b9794016631? True\n"
     ]
    }
   ],
   "source": [
    "for l in all_layers:\n",
    "    print(\"Contract address {} has 0x74de5d4fcbf63e00296fd95d33236b9794016631? {}\".format(l, g.layer(l).has_vertex(\"0x74de5d4fcbf63e00296fd95d33236b9794016631\")))"
   ]
  },
  {
   "cell_type": "code",
   "execution_count": 9,
   "id": "41e82eb4-6415-41d4-aca4-0148aff57e6a",
   "metadata": {},
   "outputs": [
    {
     "name": "stdout",
     "output_type": "stream",
     "text": [
      "Important people from contract address Dai: [('0x503828976d22510aad0201ac7ec88293211d23da', 0.00498485891148448), ('0x28c6c06298d514db089934071355e5743bf21d60', 0.004945699125528336), ('0x74de5d4fcbf63e00296fd95d33236b9794016631', 0.002401345409452915), ('0x60594a405d53811d3bc4766596efd80fd545a270', 0.0020192882511764765), ('0x5777d92f208679db4b9778590fa3cab3ac9e2168', 0.0018381394911557436), ('0x0000000000000000000000000000000000000000', 0.0017881435342133045), ('0x2faf487a4414fe77e2327f0bf4ae2a264a776ad2', 0.001336943358182907), ('0x66c57bf505a85a74609d2c83e94aabb26d691e1f', 0.001156835351139307), ('0xa478c2975ab1ea89e8196811f51a7b7ade33eb11', 0.0011034883791580796), ('0x028171bca77440897b824ca71d1c56cac55b68a3', 0.0009832310024648905)]\n",
      "\n",
      "Important people from contract address LUNC: [('0x77696bb39917c91a0c3908d577d5e322095425ca', 0.003940722439438105), ('0x0000000000000000000000000000000000000000', 0.0016449461691081524), ('0x60a39010e4892b862d1bb6bdde908215ac5af6f3', 0.0015000952407717705), ('0x74de5d4fcbf63e00296fd95d33236b9794016631', 0.0012993544805794954), ('0x16b70f44719b227278a2dc1122e8106cc929ecd1', 0.0012552597327157855), ('0x5f65f7b609678448494de4c87521cdf6cef1e932', 0.0007326977211050689), ('0x738cf6903e6c4e699d1c2dd9ab8b67fcdb3121ea', 0.000548298645298928), ('0x88172e5d79fe75c7aed1453e89ff5d741cfa4ca7', 0.00029962105327285826), ('0xf16e9b0d03470827a95cdfd0cb8a8a3b46969b91', 0.00029123295098543167), ('0xdcad279e517d7be07934ff85949fd6598758ce0b', 0.00020447716815397143)]\n",
      "\n",
      "Important people from contract address USTC: [('0xeb2629a2734e272bcc07bda959863f316f4bd4cf', 0.004675894510000944), ('0x0000000000000000000000000000000000000000', 0.0036399296950548887), ('0x28c6c06298d514db089934071355e5743bf21d60', 0.0031861707102507353), ('0x74de5d4fcbf63e00296fd95d33236b9794016631', 0.0010132028255611658), ('0x5f65f7b609678448494de4c87521cdf6cef1e932', 0.000762246607337147), ('0x8b00ee8606cc70c2dce68dea0cefe632cca0fb7b', 0.0007110822480171919), ('0xf39c29d8f6851d87c40c83b61078eb7384f7cb51', 0.0006504562916234136), ('0x738cf6903e6c4e699d1c2dd9ab8b67fcdb3121ea', 0.0004919510101899505), ('0x220bda5c8994804ac96ebe4df184d25e5c2196d4', 0.00047188971075229347), ('0xf16e9b0d03470827a95cdfd0cb8a8a3b46969b91', 0.0004514167958404869)]\n",
      "\n",
      "Important people from contract address USD: [('0x28c6c06298d514db089934071355e5743bf21d60', 0.03447524085640907), ('0x71660c4005ba85c37ccec55d0c4493e66fe775d3', 0.02334086038172245), ('0x503828976d22510aad0201ac7ec88293211d23da', 0.022647419944405556), ('0x2faf487a4414fe77e2327f0bf4ae2a264a776ad2', 0.010266787372529507), ('0x88e6a0c2ddd26feeb64f039a2c41296fcb3f5640', 0.008800065144896507), ('0x4f6742badb049791cd9a37ea913f2bac38d01279', 0.007591057103127241), ('0x738cf6903e6c4e699d1c2dd9ab8b67fcdb3121ea', 0.0072307162918150425), ('0xae2d4617c862309a3d75a0ffb358c7a5009c673f', 0.007017926312983036), ('0x74de5d4fcbf63e00296fd95d33236b9794016631', 0.006678083911538124), ('0xf16e9b0d03470827a95cdfd0cb8a8a3b46969b91', 0.005125652067363262)]\n",
      "\n",
      "Important people from contract address USDP: [('0x286af5cf60ae834199949bbc815485f07cc9c644', 0.00027308613061904907), ('0x28c6c06298d514db089934071355e5743bf21d60', 0.0002334492892259732), ('0x2faf487a4414fe77e2327f0bf4ae2a264a776ad2', 0.00019284506561234593), ('0xc88f7666330b4b511358b7742dc2a3234710e7b1', 0.00018656268366612494), ('0xa12431d0b9db640034b0cdfceef9cce161e62be4', 0.0001293770328629762), ('0xa81011ae274ef6debd3bdab634102c7b6c2c452d', 0.00011062111298087984), ('0x0d0707963952f2fba59dd06f2b425ace40b492fe', 0.00010764291801024228), ('0x3cd751e6b0078be393132286c442345e5dc49699', 0.00010763891623355448), ('0x4f6742badb049791cd9a37ea913f2bac38d01279', 0.00010310257493983954), ('0xffec0067f5a79cff07527f63d83dd5462ccf8ba4', 9.77367817540653e-05)]\n",
      "\n",
      "Important people from contract address USDT: [('0x28c6c06298d514db089934071355e5743bf21d60', 0.040305245667696), ('0xb5d85cbf7cb3ee0d56b3bb207d5fc4b82f43f511', 0.018110357224941254), ('0x3cd751e6b0078be393132286c442345e5dc49699', 0.01809125952422619), ('0xec30d02f10353f8efc9601371f56e808751f396f', 0.012219266034662724), ('0x0d0707963952f2fba59dd06f2b425ace40b492fe', 0.011637384071946144), ('0x88bd4d3e2997371bceefe8d9386c6b5b4de60346', 0.011286633089184761), ('0x2faf487a4414fe77e2327f0bf4ae2a264a776ad2', 0.008539518341422081), ('0x5041ed759dd4afc3a72b8192c143f72f4724081a', 0.007287964224815369), ('0x89e51fa8ca5d66cd220baed62ed01e8951aa7c40', 0.0053698052652180195), ('0x6262998ced04146fa42253a5c0af90ca02dfd2a3', 0.004639295395463705)]\n",
      "\n"
     ]
    }
   ],
   "source": [
    "for l in all_layers:\n",
    "    pg = algorithms.pagerank(g.layer(l), 20)\n",
    "    sorted_pg = dict(sorted(pg.items(), key=lambda x: x[1], reverse=True))\n",
    "    print(\"Important people from contract address {}: {}\".format(l, list(sorted_pg.items())[:10]))\n",
    "    print()"
   ]
  },
  {
   "cell_type": "code",
   "execution_count": 10,
   "id": "25e6a1d6-7ff8-4478-b5f3-33d2734271bf",
   "metadata": {},
   "outputs": [],
   "source": [
    "luna = g.layer(\"LUNC\")"
   ]
  },
  {
   "cell_type": "code",
   "execution_count": 12,
   "id": "9320c7d3-21dd-4233-b231-79b3225092ca",
   "metadata": {},
   "outputs": [],
   "source": [
    "pg = algorithms.pagerank(luna, 20)"
   ]
  },
  {
   "cell_type": "code",
   "execution_count": 13,
   "id": "888b8c05-60e0-4311-911f-0710bf58de1c",
   "metadata": {},
   "outputs": [
    {
     "data": {
      "text/plain": [
       "0.0016449461691081524"
      ]
     },
     "execution_count": 13,
     "metadata": {},
     "output_type": "execute_result"
    }
   ],
   "source": [
    "pg[\"0x0000000000000000000000000000000000000000\"]"
   ]
  },
  {
   "cell_type": "code",
   "execution_count": 30,
   "id": "95ee3f6e-445f-43fa-8616-01819a9f3cd4",
   "metadata": {},
   "outputs": [
    {
     "name": "stdout",
     "output_type": "stream",
     "text": [
      "dt_time 2022-04-28 01:30:15, Date 2022-04-28 00:30:15, Contract address Dai has 4691 transactions\n",
      "dt_time 2022-04-29 01:30:15, Date 2022-04-29 00:30:15, Contract address Dai has 5237 transactions\n",
      "dt_time 2022-04-30 01:30:15, Date 2022-04-30 00:30:15, Contract address Dai has 4828 transactions\n",
      "dt_time 2022-05-01 01:30:15, Date 2022-05-01 00:30:15, Contract address Dai has 4266 transactions\n",
      "dt_time 2022-05-02 01:30:15, Date 2022-05-02 00:30:15, Contract address Dai has 4504 transactions\n",
      "dt_time 2022-05-03 01:30:15, Date 2022-05-03 00:30:15, Contract address Dai has 4354 transactions\n",
      "dt_time 2022-05-04 01:30:15, Date 2022-05-04 00:30:15, Contract address Dai has 5202 transactions\n",
      "dt_time 2022-05-05 01:30:15, Date 2022-05-05 00:30:15, Contract address Dai has 5336 transactions\n",
      "dt_time 2022-05-06 01:30:15, Date 2022-05-06 00:30:15, Contract address Dai has 5475 transactions\n",
      "dt_time 2022-05-07 01:30:15, Date 2022-05-07 00:30:15, Contract address Dai has 5263 transactions\n",
      "dt_time 2022-05-08 01:30:15, Date 2022-05-08 00:30:15, Contract address Dai has 6584 transactions\n",
      "dt_time 2022-05-09 01:30:15, Date 2022-05-09 00:30:15, Contract address Dai has 9524 transactions\n",
      "dt_time 2022-05-10 01:30:15, Date 2022-05-10 00:30:15, Contract address Dai has 7942 transactions\n",
      "dt_time 2022-05-11 01:30:15, Date 2022-05-11 00:30:15, Contract address Dai has 10497 transactions\n",
      "dt_time 2022-05-12 01:30:15, Date 2022-05-12 00:30:15, Contract address Dai has 14508 transactions\n",
      "dt_time 2022-05-13 01:30:15, Date 2022-05-13 00:30:15, Contract address Dai has 8632 transactions\n",
      "dt_time 2022-05-14 01:30:15, Date 2022-05-14 00:30:15, Contract address Dai has 6797 transactions\n",
      "dt_time 2022-05-15 01:30:15, Date 2022-05-15 00:30:15, Contract address Dai has 6723 transactions\n",
      "dt_time 2022-05-16 01:30:15, Date 2022-05-16 00:30:15, Contract address Dai has 6913 transactions\n",
      "dt_time 2022-05-17 01:30:15, Date 2022-05-17 00:30:15, Contract address Dai has 5758 transactions\n",
      "dt_time 2022-05-18 01:30:15, Date 2022-05-18 00:30:15, Contract address Dai has 6190 transactions\n",
      "dt_time 2022-05-19 01:30:15, Date 2022-05-19 00:30:15, Contract address Dai has 6066 transactions\n",
      "dt_time 2022-05-20 01:30:15, Date 2022-05-20 00:30:15, Contract address Dai has 5728 transactions\n",
      "dt_time 2022-05-21 01:30:15, Date 2022-05-21 00:30:15, Contract address Dai has 4405 transactions\n",
      "dt_time 2022-05-22 01:30:15, Date 2022-05-22 00:30:15, Contract address Dai has 4446 transactions\n",
      "dt_time 2022-05-23 01:30:15, Date 2022-05-23 00:30:15, Contract address Dai has 5349 transactions\n",
      "dt_time 2022-05-24 01:30:15, Date 2022-05-24 00:30:15, Contract address Dai has 4937 transactions\n",
      "dt_time 2022-04-28 01:30:15, Date 2022-04-28 00:30:15, Contract address LUNC has 199 transactions\n",
      "dt_time 2022-04-29 01:30:15, Date 2022-04-29 00:30:15, Contract address LUNC has 264 transactions\n",
      "dt_time 2022-04-30 01:30:15, Date 2022-04-30 00:30:15, Contract address LUNC has 235 transactions\n",
      "dt_time 2022-05-01 01:30:15, Date 2022-05-01 00:30:15, Contract address LUNC has 206 transactions\n",
      "dt_time 2022-05-02 01:30:15, Date 2022-05-02 00:30:15, Contract address LUNC has 188 transactions\n",
      "dt_time 2022-05-03 01:30:15, Date 2022-05-03 00:30:15, Contract address LUNC has 207 transactions\n",
      "dt_time 2022-05-04 01:30:15, Date 2022-05-04 00:30:15, Contract address LUNC has 243 transactions\n",
      "dt_time 2022-05-05 01:30:15, Date 2022-05-05 00:30:15, Contract address LUNC has 341 transactions\n",
      "dt_time 2022-05-06 01:30:15, Date 2022-05-06 00:30:15, Contract address LUNC has 230 transactions\n",
      "dt_time 2022-05-07 01:30:15, Date 2022-05-07 00:30:15, Contract address LUNC has 364 transactions\n",
      "dt_time 2022-05-08 01:30:15, Date 2022-05-08 00:30:15, Contract address LUNC has 457 transactions\n",
      "dt_time 2022-05-09 01:30:15, Date 2022-05-09 00:30:15, Contract address LUNC has 841 transactions\n",
      "dt_time 2022-05-10 01:30:15, Date 2022-05-10 00:30:15, Contract address LUNC has 2165 transactions\n",
      "dt_time 2022-05-11 01:30:15, Date 2022-05-11 00:30:15, Contract address LUNC has 5203 transactions\n",
      "dt_time 2022-05-12 01:30:15, Date 2022-05-12 00:30:15, Contract address LUNC has 6372 transactions\n",
      "dt_time 2022-05-13 01:30:15, Date 2022-05-13 00:30:15, Contract address LUNC has 7952 transactions\n",
      "dt_time 2022-05-14 01:30:15, Date 2022-05-14 00:30:15, Contract address LUNC has 15255 transactions\n",
      "dt_time 2022-05-15 01:30:15, Date 2022-05-15 00:30:15, Contract address LUNC has 11456 transactions\n",
      "dt_time 2022-05-16 01:30:15, Date 2022-05-16 00:30:15, Contract address LUNC has 6131 transactions\n",
      "dt_time 2022-05-17 01:30:15, Date 2022-05-17 00:30:15, Contract address LUNC has 3349 transactions\n",
      "dt_time 2022-05-18 01:30:15, Date 2022-05-18 00:30:15, Contract address LUNC has 3403 transactions\n",
      "dt_time 2022-05-19 01:30:15, Date 2022-05-19 00:30:15, Contract address LUNC has 2346 transactions\n",
      "dt_time 2022-05-20 01:30:15, Date 2022-05-20 00:30:15, Contract address LUNC has 2083 transactions\n",
      "dt_time 2022-05-21 01:30:15, Date 2022-05-21 00:30:15, Contract address LUNC has 2082 transactions\n",
      "dt_time 2022-05-22 01:30:15, Date 2022-05-22 00:30:15, Contract address LUNC has 3451 transactions\n",
      "dt_time 2022-05-23 01:30:15, Date 2022-05-23 00:30:15, Contract address LUNC has 4010 transactions\n",
      "dt_time 2022-05-24 01:30:15, Date 2022-05-24 00:30:15, Contract address LUNC has 3401 transactions\n",
      "dt_time 2022-04-28 01:30:15, Date 2022-04-28 00:30:15, Contract address USTC has 1207 transactions\n",
      "dt_time 2022-04-29 01:30:15, Date 2022-04-29 00:30:15, Contract address USTC has 1140 transactions\n",
      "dt_time 2022-04-30 01:30:15, Date 2022-04-30 00:30:15, Contract address USTC has 1097 transactions\n",
      "dt_time 2022-05-01 01:30:15, Date 2022-05-01 00:30:15, Contract address USTC has 855 transactions\n",
      "dt_time 2022-05-02 01:30:15, Date 2022-05-02 00:30:15, Contract address USTC has 1047 transactions\n",
      "dt_time 2022-05-03 01:30:15, Date 2022-05-03 00:30:15, Contract address USTC has 1134 transactions\n",
      "dt_time 2022-05-04 01:30:15, Date 2022-05-04 00:30:15, Contract address USTC has 1121 transactions\n",
      "dt_time 2022-05-05 01:30:15, Date 2022-05-05 00:30:15, Contract address USTC has 1060 transactions\n",
      "dt_time 2022-05-06 01:30:15, Date 2022-05-06 00:30:15, Contract address USTC has 1098 transactions\n",
      "dt_time 2022-05-07 01:30:15, Date 2022-05-07 00:30:15, Contract address USTC has 1687 transactions\n",
      "dt_time 2022-05-08 01:30:15, Date 2022-05-08 00:30:15, Contract address USTC has 1819 transactions\n",
      "dt_time 2022-05-09 01:30:15, Date 2022-05-09 00:30:15, Contract address USTC has 3759 transactions\n",
      "dt_time 2022-05-10 01:30:15, Date 2022-05-10 00:30:15, Contract address USTC has 6236 transactions\n",
      "dt_time 2022-05-11 01:30:15, Date 2022-05-11 00:30:15, Contract address USTC has 7047 transactions\n",
      "dt_time 2022-05-12 01:30:15, Date 2022-05-12 00:30:15, Contract address USTC has 6074 transactions\n",
      "dt_time 2022-05-13 01:30:15, Date 2022-05-13 00:30:15, Contract address USTC has 3244 transactions\n",
      "dt_time 2022-05-14 01:30:15, Date 2022-05-14 00:30:15, Contract address USTC has 1870 transactions\n",
      "dt_time 2022-05-15 01:30:15, Date 2022-05-15 00:30:15, Contract address USTC has 1660 transactions\n",
      "dt_time 2022-05-16 01:30:15, Date 2022-05-16 00:30:15, Contract address USTC has 1429 transactions\n",
      "dt_time 2022-05-17 01:30:15, Date 2022-05-17 00:30:15, Contract address USTC has 736 transactions\n",
      "dt_time 2022-05-18 01:30:15, Date 2022-05-18 00:30:15, Contract address USTC has 935 transactions\n",
      "dt_time 2022-05-19 01:30:15, Date 2022-05-19 00:30:15, Contract address USTC has 722 transactions\n",
      "dt_time 2022-05-20 01:30:15, Date 2022-05-20 00:30:15, Contract address USTC has 613 transactions\n",
      "dt_time 2022-05-21 01:30:15, Date 2022-05-21 00:30:15, Contract address USTC has 568 transactions\n",
      "dt_time 2022-05-22 01:30:15, Date 2022-05-22 00:30:15, Contract address USTC has 497 transactions\n",
      "dt_time 2022-05-23 01:30:15, Date 2022-05-23 00:30:15, Contract address USTC has 713 transactions\n",
      "dt_time 2022-05-24 01:30:15, Date 2022-05-24 00:30:15, Contract address USTC has 1046 transactions\n",
      "dt_time 2022-04-28 01:30:15, Date 2022-04-28 00:30:15, Contract address USD has 39112 transactions\n",
      "dt_time 2022-04-29 01:30:15, Date 2022-04-29 00:30:15, Contract address USD has 42849 transactions\n",
      "dt_time 2022-04-30 01:30:15, Date 2022-04-30 00:30:15, Contract address USD has 38089 transactions\n",
      "dt_time 2022-05-01 01:30:15, Date 2022-05-01 00:30:15, Contract address USD has 31297 transactions\n",
      "dt_time 2022-05-02 01:30:15, Date 2022-05-02 00:30:15, Contract address USD has 41566 transactions\n",
      "dt_time 2022-05-03 01:30:15, Date 2022-05-03 00:30:15, Contract address USD has 37756 transactions\n",
      "dt_time 2022-05-04 01:30:15, Date 2022-05-04 00:30:15, Contract address USD has 40500 transactions\n",
      "dt_time 2022-05-05 01:30:15, Date 2022-05-05 00:30:15, Contract address USD has 70032 transactions\n",
      "dt_time 2022-05-06 01:30:15, Date 2022-05-06 00:30:15, Contract address USD has 42295 transactions\n",
      "dt_time 2022-05-07 01:30:15, Date 2022-05-07 00:30:15, Contract address USD has 36568 transactions\n",
      "dt_time 2022-05-08 01:30:15, Date 2022-05-08 00:30:15, Contract address USD has 50056 transactions\n",
      "dt_time 2022-05-09 01:30:15, Date 2022-05-09 00:30:15, Contract address USD has 63629 transactions\n",
      "dt_time 2022-05-10 01:30:15, Date 2022-05-10 00:30:15, Contract address USD has 59620 transactions\n",
      "dt_time 2022-05-11 01:30:15, Date 2022-05-11 00:30:15, Contract address USD has 74196 transactions\n",
      "dt_time 2022-05-12 01:30:15, Date 2022-05-12 00:30:15, Contract address USD has 95110 transactions\n",
      "dt_time 2022-05-13 01:30:15, Date 2022-05-13 00:30:15, Contract address USD has 68472 transactions\n",
      "dt_time 2022-05-14 01:30:15, Date 2022-05-14 00:30:15, Contract address USD has 50072 transactions\n",
      "dt_time 2022-05-15 01:30:15, Date 2022-05-15 00:30:15, Contract address USD has 45997 transactions\n",
      "dt_time 2022-05-16 01:30:15, Date 2022-05-16 00:30:15, Contract address USD has 52451 transactions\n",
      "dt_time 2022-05-17 01:30:15, Date 2022-05-17 00:30:15, Contract address USD has 46019 transactions\n",
      "dt_time 2022-05-18 01:30:15, Date 2022-05-18 00:30:15, Contract address USD has 51540 transactions\n",
      "dt_time 2022-05-19 01:30:15, Date 2022-05-19 00:30:15, Contract address USD has 45374 transactions\n",
      "dt_time 2022-05-20 01:30:15, Date 2022-05-20 00:30:15, Contract address USD has 41799 transactions\n",
      "dt_time 2022-05-21 01:30:15, Date 2022-05-21 00:30:15, Contract address USD has 30988 transactions\n",
      "dt_time 2022-05-22 01:30:15, Date 2022-05-22 00:30:15, Contract address USD has 33034 transactions\n",
      "dt_time 2022-05-23 01:30:15, Date 2022-05-23 00:30:15, Contract address USD has 44896 transactions\n",
      "dt_time 2022-05-24 01:30:15, Date 2022-05-24 00:30:15, Contract address USD has 41146 transactions\n",
      "dt_time 2022-04-28 01:30:15, Date 2022-04-28 00:30:15, Contract address USDP has 236 transactions\n",
      "dt_time 2022-04-29 01:30:15, Date 2022-04-29 00:30:15, Contract address USDP has 204 transactions\n",
      "dt_time 2022-04-30 01:30:15, Date 2022-04-30 00:30:15, Contract address USDP has 112 transactions\n",
      "dt_time 2022-05-01 01:30:15, Date 2022-05-01 00:30:15, Contract address USDP has 114 transactions\n",
      "dt_time 2022-05-02 01:30:15, Date 2022-05-02 00:30:15, Contract address USDP has 192 transactions\n",
      "dt_time 2022-05-03 01:30:15, Date 2022-05-03 00:30:15, Contract address USDP has 195 transactions\n",
      "dt_time 2022-05-04 01:30:15, Date 2022-05-04 00:30:15, Contract address USDP has 196 transactions\n",
      "dt_time 2022-05-05 01:30:15, Date 2022-05-05 00:30:15, Contract address USDP has 208 transactions\n",
      "dt_time 2022-05-06 01:30:15, Date 2022-05-06 00:30:15, Contract address USDP has 198 transactions\n",
      "dt_time 2022-05-07 01:30:15, Date 2022-05-07 00:30:15, Contract address USDP has 129 transactions\n",
      "dt_time 2022-05-08 01:30:15, Date 2022-05-08 00:30:15, Contract address USDP has 161 transactions\n",
      "dt_time 2022-05-09 01:30:15, Date 2022-05-09 00:30:15, Contract address USDP has 313 transactions\n",
      "dt_time 2022-05-10 01:30:15, Date 2022-05-10 00:30:15, Contract address USDP has 376 transactions\n",
      "dt_time 2022-05-11 01:30:15, Date 2022-05-11 00:30:15, Contract address USDP has 410 transactions\n",
      "dt_time 2022-05-12 01:30:15, Date 2022-05-12 00:30:15, Contract address USDP has 638 transactions\n",
      "dt_time 2022-05-13 01:30:15, Date 2022-05-13 00:30:15, Contract address USDP has 405 transactions\n",
      "dt_time 2022-05-14 01:30:15, Date 2022-05-14 00:30:15, Contract address USDP has 213 transactions\n",
      "dt_time 2022-05-15 01:30:15, Date 2022-05-15 00:30:15, Contract address USDP has 285 transactions\n",
      "dt_time 2022-05-16 01:30:15, Date 2022-05-16 00:30:15, Contract address USDP has 272 transactions\n",
      "dt_time 2022-05-17 01:30:15, Date 2022-05-17 00:30:15, Contract address USDP has 277 transactions\n",
      "dt_time 2022-05-18 01:30:15, Date 2022-05-18 00:30:15, Contract address USDP has 232 transactions\n",
      "dt_time 2022-05-19 01:30:15, Date 2022-05-19 00:30:15, Contract address USDP has 329 transactions\n",
      "dt_time 2022-05-20 01:30:15, Date 2022-05-20 00:30:15, Contract address USDP has 201 transactions\n",
      "dt_time 2022-05-21 01:30:15, Date 2022-05-21 00:30:15, Contract address USDP has 119 transactions\n",
      "dt_time 2022-05-22 01:30:15, Date 2022-05-22 00:30:15, Contract address USDP has 156 transactions\n",
      "dt_time 2022-05-23 01:30:15, Date 2022-05-23 00:30:15, Contract address USDP has 314 transactions\n",
      "dt_time 2022-05-24 01:30:15, Date 2022-05-24 00:30:15, Contract address USDP has 207 transactions\n",
      "dt_time 2022-04-28 01:30:15, Date 2022-04-28 00:30:15, Contract address USDT has 71237 transactions\n",
      "dt_time 2022-04-29 01:30:15, Date 2022-04-29 00:30:15, Contract address USDT has 77921 transactions\n",
      "dt_time 2022-04-30 01:30:15, Date 2022-04-30 00:30:15, Contract address USDT has 65681 transactions\n",
      "dt_time 2022-05-01 01:30:15, Date 2022-05-01 00:30:15, Contract address USDT has 54228 transactions\n",
      "dt_time 2022-05-02 01:30:15, Date 2022-05-02 00:30:15, Contract address USDT has 63697 transactions\n",
      "dt_time 2022-05-03 01:30:15, Date 2022-05-03 00:30:15, Contract address USDT has 63533 transactions\n",
      "dt_time 2022-05-04 01:30:15, Date 2022-05-04 00:30:15, Contract address USDT has 70345 transactions\n",
      "dt_time 2022-05-05 01:30:15, Date 2022-05-05 00:30:15, Contract address USDT has 73926 transactions\n",
      "dt_time 2022-05-06 01:30:15, Date 2022-05-06 00:30:15, Contract address USDT has 71430 transactions\n",
      "dt_time 2022-05-07 01:30:15, Date 2022-05-07 00:30:15, Contract address USDT has 60447 transactions\n",
      "dt_time 2022-05-08 01:30:15, Date 2022-05-08 00:30:15, Contract address USDT has 61810 transactions\n",
      "dt_time 2022-05-09 01:30:15, Date 2022-05-09 00:30:15, Contract address USDT has 91609 transactions\n",
      "dt_time 2022-05-10 01:30:15, Date 2022-05-10 00:30:15, Contract address USDT has 101350 transactions\n",
      "dt_time 2022-05-11 01:30:15, Date 2022-05-11 00:30:15, Contract address USDT has 110277 transactions\n",
      "dt_time 2022-05-12 01:30:15, Date 2022-05-12 00:30:15, Contract address USDT has 135655 transactions\n",
      "dt_time 2022-05-13 01:30:15, Date 2022-05-13 00:30:15, Contract address USDT has 113427 transactions\n",
      "dt_time 2022-05-14 01:30:15, Date 2022-05-14 00:30:15, Contract address USDT has 89688 transactions\n",
      "dt_time 2022-05-15 01:30:15, Date 2022-05-15 00:30:15, Contract address USDT has 69832 transactions\n",
      "dt_time 2022-05-16 01:30:15, Date 2022-05-16 00:30:15, Contract address USDT has 82023 transactions\n",
      "dt_time 2022-05-17 01:30:15, Date 2022-05-17 00:30:15, Contract address USDT has 85771 transactions\n",
      "dt_time 2022-05-18 01:30:15, Date 2022-05-18 00:30:15, Contract address USDT has 86573 transactions\n",
      "dt_time 2022-05-19 01:30:15, Date 2022-05-19 00:30:15, Contract address USDT has 67908 transactions\n",
      "dt_time 2022-05-20 01:30:15, Date 2022-05-20 00:30:15, Contract address USDT has 67374 transactions\n",
      "dt_time 2022-05-21 01:30:15, Date 2022-05-21 00:30:15, Contract address USDT has 51222 transactions\n",
      "dt_time 2022-05-22 01:30:15, Date 2022-05-22 00:30:15, Contract address USDT has 47785 transactions\n",
      "dt_time 2022-05-23 01:30:15, Date 2022-05-23 00:30:15, Contract address USDT has 66711 transactions\n",
      "dt_time 2022-05-24 01:30:15, Date 2022-05-24 00:30:15, Contract address USDT has 66097 transactions\n"
     ]
    }
   ],
   "source": [
    "for l in all_layers:\n",
    "    for w in g.layer(l).rolling(step='1 day', window='1 day'):\n",
    "        print(\"dt_time {}, Date {}, Contract address {} has {} transactions\".format(datetime.fromtimestamp(w.start() / 1000), w.start_date_time(), l,w.layer(l).num_edges()))"
   ]
  },
  {
   "cell_type": "code",
   "execution_count": 102,
   "id": "9c97fbfa-b692-438a-aa6e-6aff925c232e",
   "metadata": {},
   "outputs": [],
   "source": [
    "events = [['2022-05-12', 'LUNA Crash']]\n",
    "events = pd.DataFrame(events, columns=['Time', 'event'])\n",
    "event_rules = alt.Chart(events).mark_rule(color='gray').encode(x='Time:T')\n",
    "labels = alt.Chart(events).mark_text(dx=3, dy=-120, color='black', align='left').encode(\n",
    "    x='Time:T',\n",
    "    text='event'\n",
    ")\n",
    "event_chart = alt.layer(event_rules, labels)"
   ]
  },
  {
   "cell_type": "code",
   "execution_count": 105,
   "id": "6e42d0d4-0fdb-4ffb-b85f-85a4bb3296aa",
   "metadata": {},
   "outputs": [
    {
     "name": "stderr",
     "output_type": "stream",
     "text": [
      "/Users/shivamkapoor/opt/miniconda3/envs/raphtory/lib/python3.10/site-packages/altair/utils/core.py:283: FutureWarning: iteritems is deprecated and will be removed in a future version. Use .items instead.\n",
      "  for col_name, dtype in df.dtypes.iteritems():\n"
     ]
    },
    {
     "data": {
      "text/html": [
       "\n",
       "<div id=\"altair-viz-8865c94600c54a5381151d78ca409d51\"></div>\n",
       "<script type=\"text/javascript\">\n",
       "  (function(spec, embedOpt){\n",
       "    let outputDiv = document.currentScript.previousElementSibling;\n",
       "    if (outputDiv.id !== \"altair-viz-8865c94600c54a5381151d78ca409d51\") {\n",
       "      outputDiv = document.getElementById(\"altair-viz-8865c94600c54a5381151d78ca409d51\");\n",
       "    }\n",
       "    const paths = {\n",
       "      \"vega\": \"https://cdn.jsdelivr.net/npm//vega@5?noext\",\n",
       "      \"vega-lib\": \"https://cdn.jsdelivr.net/npm//vega-lib?noext\",\n",
       "      \"vega-lite\": \"https://cdn.jsdelivr.net/npm//vega-lite@4.8.1?noext\",\n",
       "      \"vega-embed\": \"https://cdn.jsdelivr.net/npm//vega-embed@6?noext\",\n",
       "    };\n",
       "\n",
       "    function loadScript(lib) {\n",
       "      return new Promise(function(resolve, reject) {\n",
       "        var s = document.createElement('script');\n",
       "        s.src = paths[lib];\n",
       "        s.async = true;\n",
       "        s.onload = () => resolve(paths[lib]);\n",
       "        s.onerror = () => reject(`Error loading script: ${paths[lib]}`);\n",
       "        document.getElementsByTagName(\"head\")[0].appendChild(s);\n",
       "      });\n",
       "    }\n",
       "\n",
       "    function showError(err) {\n",
       "      outputDiv.innerHTML = `<div class=\"error\" style=\"color:red;\">${err}</div>`;\n",
       "      throw err;\n",
       "    }\n",
       "\n",
       "    function displayChart(vegaEmbed) {\n",
       "      vegaEmbed(outputDiv, spec, embedOpt)\n",
       "        .catch(err => showError(`Javascript Error: ${err.message}<br>This usually means there's a typo in your chart specification. See the javascript console for the full traceback.`));\n",
       "    }\n",
       "\n",
       "    if(typeof define === \"function\" && define.amd) {\n",
       "      requirejs.config({paths});\n",
       "      require([\"vega-embed\"], displayChart, err => showError(`Error loading script: ${err.message}`));\n",
       "    } else if (typeof vegaEmbed === \"function\") {\n",
       "      displayChart(vegaEmbed);\n",
       "    } else {\n",
       "      loadScript(\"vega\")\n",
       "        .then(() => loadScript(\"vega-lite\"))\n",
       "        .then(() => loadScript(\"vega-embed\"))\n",
       "        .catch(showError)\n",
       "        .then(() => displayChart(vegaEmbed));\n",
       "    }\n",
       "  })({\"config\": {\"view\": {\"continuousWidth\": 400, \"continuousHeight\": 300}}, \"layer\": [{\"data\": {\"name\": \"data-7bed5c847e11c10b92b80f256f40f1c0\"}, \"mark\": \"line\", \"encoding\": {\"color\": {\"type\": \"nominal\", \"field\": \"Layer\"}, \"opacity\": {\"condition\": {\"value\": 1.0, \"selection\": \"selector053\"}, \"value\": 0.2}, \"tooltip\": [{\"type\": \"nominal\", \"field\": \"Layer\"}, {\"type\": \"quantitative\", \"field\": \"Tnx Count\"}], \"x\": {\"type\": \"temporal\", \"field\": \"Time\"}, \"y\": {\"type\": \"quantitative\", \"field\": \"Tnx Count\"}}, \"selection\": {\"selector053\": {\"type\": \"multi\", \"fields\": [\"layer\"], \"bind\": \"legend\"}}, \"width\": 800}, {\"layer\": [{\"mark\": {\"type\": \"rule\", \"color\": \"gray\"}, \"encoding\": {\"x\": {\"type\": \"temporal\", \"field\": \"Time\"}}}, {\"mark\": {\"type\": \"text\", \"align\": \"left\", \"color\": \"black\", \"dx\": 3, \"dy\": -120}, \"encoding\": {\"text\": {\"type\": \"nominal\", \"field\": \"event\"}, \"x\": {\"type\": \"temporal\", \"field\": \"Time\"}}}], \"data\": {\"name\": \"data-03a7e27a271f30803a3f9052d97f8a33\"}}], \"$schema\": \"https://vega.github.io/schema/vega-lite/v4.8.1.json\", \"datasets\": {\"data-7bed5c847e11c10b92b80f256f40f1c0\": [{\"Time\": \"2022-04-29T00:30:15\", \"Layer\": \"USTC\", \"Tnx Count\": 1207}, {\"Time\": \"2022-04-30T00:30:15\", \"Layer\": \"USTC\", \"Tnx Count\": 1140}, {\"Time\": \"2022-05-01T00:30:15\", \"Layer\": \"USTC\", \"Tnx Count\": 1097}, {\"Time\": \"2022-05-02T00:30:15\", \"Layer\": \"USTC\", \"Tnx Count\": 855}, {\"Time\": \"2022-05-03T00:30:15\", \"Layer\": \"USTC\", \"Tnx Count\": 1047}, {\"Time\": \"2022-05-04T00:30:15\", \"Layer\": \"USTC\", \"Tnx Count\": 1134}, {\"Time\": \"2022-05-05T00:30:15\", \"Layer\": \"USTC\", \"Tnx Count\": 1121}, {\"Time\": \"2022-05-06T00:30:15\", \"Layer\": \"USTC\", \"Tnx Count\": 1060}, {\"Time\": \"2022-05-07T00:30:15\", \"Layer\": \"USTC\", \"Tnx Count\": 1098}, {\"Time\": \"2022-05-08T00:30:15\", \"Layer\": \"USTC\", \"Tnx Count\": 1687}, {\"Time\": \"2022-05-09T00:30:15\", \"Layer\": \"USTC\", \"Tnx Count\": 1819}, {\"Time\": \"2022-05-10T00:30:15\", \"Layer\": \"USTC\", \"Tnx Count\": 3759}, {\"Time\": \"2022-05-11T00:30:15\", \"Layer\": \"USTC\", \"Tnx Count\": 6236}, {\"Time\": \"2022-05-12T00:30:15\", \"Layer\": \"USTC\", \"Tnx Count\": 7047}, {\"Time\": \"2022-05-13T00:30:15\", \"Layer\": \"USTC\", \"Tnx Count\": 6074}, {\"Time\": \"2022-05-14T00:30:15\", \"Layer\": \"USTC\", \"Tnx Count\": 3244}, {\"Time\": \"2022-05-15T00:30:15\", \"Layer\": \"USTC\", \"Tnx Count\": 1870}, {\"Time\": \"2022-05-16T00:30:15\", \"Layer\": \"USTC\", \"Tnx Count\": 1660}, {\"Time\": \"2022-05-17T00:30:15\", \"Layer\": \"USTC\", \"Tnx Count\": 1429}, {\"Time\": \"2022-05-18T00:30:15\", \"Layer\": \"USTC\", \"Tnx Count\": 736}, {\"Time\": \"2022-05-19T00:30:15\", \"Layer\": \"USTC\", \"Tnx Count\": 935}, {\"Time\": \"2022-05-20T00:30:15\", \"Layer\": \"USTC\", \"Tnx Count\": 722}, {\"Time\": \"2022-05-21T00:30:15\", \"Layer\": \"USTC\", \"Tnx Count\": 613}, {\"Time\": \"2022-05-22T00:30:15\", \"Layer\": \"USTC\", \"Tnx Count\": 568}, {\"Time\": \"2022-05-23T00:30:15\", \"Layer\": \"USTC\", \"Tnx Count\": 497}, {\"Time\": \"2022-05-24T00:30:15\", \"Layer\": \"USTC\", \"Tnx Count\": 713}, {\"Time\": \"2022-05-25T00:30:15\", \"Layer\": \"USTC\", \"Tnx Count\": 1046}, {\"Time\": \"2022-04-29T00:30:15\", \"Layer\": \"USDP\", \"Tnx Count\": 236}, {\"Time\": \"2022-04-30T00:30:15\", \"Layer\": \"USDP\", \"Tnx Count\": 204}, {\"Time\": \"2022-05-01T00:30:15\", \"Layer\": \"USDP\", \"Tnx Count\": 112}, {\"Time\": \"2022-05-02T00:30:15\", \"Layer\": \"USDP\", \"Tnx Count\": 114}, {\"Time\": \"2022-05-03T00:30:15\", \"Layer\": \"USDP\", \"Tnx Count\": 192}, {\"Time\": \"2022-05-04T00:30:15\", \"Layer\": \"USDP\", \"Tnx Count\": 195}, {\"Time\": \"2022-05-05T00:30:15\", \"Layer\": \"USDP\", \"Tnx Count\": 196}, {\"Time\": \"2022-05-06T00:30:15\", \"Layer\": \"USDP\", \"Tnx Count\": 208}, {\"Time\": \"2022-05-07T00:30:15\", \"Layer\": \"USDP\", \"Tnx Count\": 198}, {\"Time\": \"2022-05-08T00:30:15\", \"Layer\": \"USDP\", \"Tnx Count\": 129}, {\"Time\": \"2022-05-09T00:30:15\", \"Layer\": \"USDP\", \"Tnx Count\": 161}, {\"Time\": \"2022-05-10T00:30:15\", \"Layer\": \"USDP\", \"Tnx Count\": 313}, {\"Time\": \"2022-05-11T00:30:15\", \"Layer\": \"USDP\", \"Tnx Count\": 376}, {\"Time\": \"2022-05-12T00:30:15\", \"Layer\": \"USDP\", \"Tnx Count\": 410}, {\"Time\": \"2022-05-13T00:30:15\", \"Layer\": \"USDP\", \"Tnx Count\": 638}, {\"Time\": \"2022-05-14T00:30:15\", \"Layer\": \"USDP\", \"Tnx Count\": 405}, {\"Time\": \"2022-05-15T00:30:15\", \"Layer\": \"USDP\", \"Tnx Count\": 213}, {\"Time\": \"2022-05-16T00:30:15\", \"Layer\": \"USDP\", \"Tnx Count\": 285}, {\"Time\": \"2022-05-17T00:30:15\", \"Layer\": \"USDP\", \"Tnx Count\": 272}, {\"Time\": \"2022-05-18T00:30:15\", \"Layer\": \"USDP\", \"Tnx Count\": 277}, {\"Time\": \"2022-05-19T00:30:15\", \"Layer\": \"USDP\", \"Tnx Count\": 232}, {\"Time\": \"2022-05-20T00:30:15\", \"Layer\": \"USDP\", \"Tnx Count\": 329}, {\"Time\": \"2022-05-21T00:30:15\", \"Layer\": \"USDP\", \"Tnx Count\": 201}, {\"Time\": \"2022-05-22T00:30:15\", \"Layer\": \"USDP\", \"Tnx Count\": 119}, {\"Time\": \"2022-05-23T00:30:15\", \"Layer\": \"USDP\", \"Tnx Count\": 156}, {\"Time\": \"2022-05-24T00:30:15\", \"Layer\": \"USDP\", \"Tnx Count\": 314}, {\"Time\": \"2022-05-25T00:30:15\", \"Layer\": \"USDP\", \"Tnx Count\": 207}, {\"Time\": \"2022-04-29T00:30:15\", \"Layer\": \"Dai\", \"Tnx Count\": 4691}, {\"Time\": \"2022-04-30T00:30:15\", \"Layer\": \"Dai\", \"Tnx Count\": 5237}, {\"Time\": \"2022-05-01T00:30:15\", \"Layer\": \"Dai\", \"Tnx Count\": 4828}, {\"Time\": \"2022-05-02T00:30:15\", \"Layer\": \"Dai\", \"Tnx Count\": 4266}, {\"Time\": \"2022-05-03T00:30:15\", \"Layer\": \"Dai\", \"Tnx Count\": 4504}, {\"Time\": \"2022-05-04T00:30:15\", \"Layer\": \"Dai\", \"Tnx Count\": 4354}, {\"Time\": \"2022-05-05T00:30:15\", \"Layer\": \"Dai\", \"Tnx Count\": 5202}, {\"Time\": \"2022-05-06T00:30:15\", \"Layer\": \"Dai\", \"Tnx Count\": 5336}, {\"Time\": \"2022-05-07T00:30:15\", \"Layer\": \"Dai\", \"Tnx Count\": 5475}, {\"Time\": \"2022-05-08T00:30:15\", \"Layer\": \"Dai\", \"Tnx Count\": 5263}, {\"Time\": \"2022-05-09T00:30:15\", \"Layer\": \"Dai\", \"Tnx Count\": 6584}, {\"Time\": \"2022-05-10T00:30:15\", \"Layer\": \"Dai\", \"Tnx Count\": 9524}, {\"Time\": \"2022-05-11T00:30:15\", \"Layer\": \"Dai\", \"Tnx Count\": 7942}, {\"Time\": \"2022-05-12T00:30:15\", \"Layer\": \"Dai\", \"Tnx Count\": 10497}, {\"Time\": \"2022-05-13T00:30:15\", \"Layer\": \"Dai\", \"Tnx Count\": 14508}, {\"Time\": \"2022-05-14T00:30:15\", \"Layer\": \"Dai\", \"Tnx Count\": 8632}, {\"Time\": \"2022-05-15T00:30:15\", \"Layer\": \"Dai\", \"Tnx Count\": 6797}, {\"Time\": \"2022-05-16T00:30:15\", \"Layer\": \"Dai\", \"Tnx Count\": 6723}, {\"Time\": \"2022-05-17T00:30:15\", \"Layer\": \"Dai\", \"Tnx Count\": 6913}, {\"Time\": \"2022-05-18T00:30:15\", \"Layer\": \"Dai\", \"Tnx Count\": 5758}, {\"Time\": \"2022-05-19T00:30:15\", \"Layer\": \"Dai\", \"Tnx Count\": 6190}, {\"Time\": \"2022-05-20T00:30:15\", \"Layer\": \"Dai\", \"Tnx Count\": 6066}, {\"Time\": \"2022-05-21T00:30:15\", \"Layer\": \"Dai\", \"Tnx Count\": 5728}, {\"Time\": \"2022-05-22T00:30:15\", \"Layer\": \"Dai\", \"Tnx Count\": 4405}, {\"Time\": \"2022-05-23T00:30:15\", \"Layer\": \"Dai\", \"Tnx Count\": 4446}, {\"Time\": \"2022-05-24T00:30:15\", \"Layer\": \"Dai\", \"Tnx Count\": 5349}, {\"Time\": \"2022-05-25T00:30:15\", \"Layer\": \"Dai\", \"Tnx Count\": 4937}, {\"Time\": \"2022-04-29T00:30:15\", \"Layer\": \"LUNC\", \"Tnx Count\": 199}, {\"Time\": \"2022-04-30T00:30:15\", \"Layer\": \"LUNC\", \"Tnx Count\": 264}, {\"Time\": \"2022-05-01T00:30:15\", \"Layer\": \"LUNC\", \"Tnx Count\": 235}, {\"Time\": \"2022-05-02T00:30:15\", \"Layer\": \"LUNC\", \"Tnx Count\": 206}, {\"Time\": \"2022-05-03T00:30:15\", \"Layer\": \"LUNC\", \"Tnx Count\": 188}, {\"Time\": \"2022-05-04T00:30:15\", \"Layer\": \"LUNC\", \"Tnx Count\": 207}, {\"Time\": \"2022-05-05T00:30:15\", \"Layer\": \"LUNC\", \"Tnx Count\": 243}, {\"Time\": \"2022-05-06T00:30:15\", \"Layer\": \"LUNC\", \"Tnx Count\": 341}, {\"Time\": \"2022-05-07T00:30:15\", \"Layer\": \"LUNC\", \"Tnx Count\": 230}, {\"Time\": \"2022-05-08T00:30:15\", \"Layer\": \"LUNC\", \"Tnx Count\": 364}, {\"Time\": \"2022-05-09T00:30:15\", \"Layer\": \"LUNC\", \"Tnx Count\": 457}, {\"Time\": \"2022-05-10T00:30:15\", \"Layer\": \"LUNC\", \"Tnx Count\": 841}, {\"Time\": \"2022-05-11T00:30:15\", \"Layer\": \"LUNC\", \"Tnx Count\": 2165}, {\"Time\": \"2022-05-12T00:30:15\", \"Layer\": \"LUNC\", \"Tnx Count\": 5203}, {\"Time\": \"2022-05-13T00:30:15\", \"Layer\": \"LUNC\", \"Tnx Count\": 6372}, {\"Time\": \"2022-05-14T00:30:15\", \"Layer\": \"LUNC\", \"Tnx Count\": 7952}, {\"Time\": \"2022-05-15T00:30:15\", \"Layer\": \"LUNC\", \"Tnx Count\": 15255}, {\"Time\": \"2022-05-16T00:30:15\", \"Layer\": \"LUNC\", \"Tnx Count\": 11456}, {\"Time\": \"2022-05-17T00:30:15\", \"Layer\": \"LUNC\", \"Tnx Count\": 6131}, {\"Time\": \"2022-05-18T00:30:15\", \"Layer\": \"LUNC\", \"Tnx Count\": 3349}, {\"Time\": \"2022-05-19T00:30:15\", \"Layer\": \"LUNC\", \"Tnx Count\": 3403}, {\"Time\": \"2022-05-20T00:30:15\", \"Layer\": \"LUNC\", \"Tnx Count\": 2346}, {\"Time\": \"2022-05-21T00:30:15\", \"Layer\": \"LUNC\", \"Tnx Count\": 2083}, {\"Time\": \"2022-05-22T00:30:15\", \"Layer\": \"LUNC\", \"Tnx Count\": 2082}, {\"Time\": \"2022-05-23T00:30:15\", \"Layer\": \"LUNC\", \"Tnx Count\": 3451}, {\"Time\": \"2022-05-24T00:30:15\", \"Layer\": \"LUNC\", \"Tnx Count\": 4010}, {\"Time\": \"2022-05-25T00:30:15\", \"Layer\": \"LUNC\", \"Tnx Count\": 3401}], \"data-03a7e27a271f30803a3f9052d97f8a33\": [{\"Time\": \"2022-05-12\", \"event\": \"LUNA Crash\"}]}}, {\"mode\": \"vega-lite\"});\n",
       "</script>"
      ],
      "text/plain": [
       "alt.LayerChart(...)"
      ]
     },
     "execution_count": 105,
     "metadata": {},
     "output_type": "execute_result"
    }
   ],
   "source": [
    "result = pd.DataFrame()\n",
    "\n",
    "all_layers = g.get_unique_layers()\n",
    "avoid_layers = ['USD', 'USDT']\n",
    "layers = set(all_layers) - set(avoid_layers)\n",
    "\n",
    "rolling = g.rolling(step='1 day', window='1 day')\n",
    "for l in layers:\n",
    "    result[l] = [w.layer(l).num_edges() for w in rolling]\n",
    "\n",
    "result['Time'] = [w.end_date_time() for w in rolling]\n",
    "\n",
    "source = pd.melt(result, id_vars=['Time'], value_vars=layers, var_name='Layer', value_name='Tnx Count')\n",
    "selection = alt.selection_multi(fields=['layer'], bind='legend')\n",
    "chart = alt.Chart(source).mark_line().encode(\n",
    "    x=\"Time:T\",\n",
    "    y=f\"{'Tnx Count'}:Q\",\n",
    "    color=\"Layer\",\n",
    "    tooltip=['Layer', 'Tnx Count'],\n",
    "    opacity=alt.condition(selection, alt.value(1.0), alt.value(0.2))\n",
    ").properties(\n",
    "    width=800,\n",
    ").add_selection(\n",
    "    selection\n",
    ")\n",
    "\n",
    "alt.layer(chart, event_chart)"
   ]
  },
  {
   "cell_type": "code",
   "execution_count": 115,
   "id": "6ec6b48f-b016-4152-8806-09a1a792e8f9",
   "metadata": {},
   "outputs": [
    {
     "name": "stderr",
     "output_type": "stream",
     "text": [
      "/Users/shivamkapoor/opt/miniconda3/envs/raphtory/lib/python3.10/site-packages/altair/utils/core.py:283: FutureWarning: iteritems is deprecated and will be removed in a future version. Use .items instead.\n",
      "  for col_name, dtype in df.dtypes.iteritems():\n"
     ]
    },
    {
     "data": {
      "text/html": [
       "\n",
       "<div id=\"altair-viz-b8597023f86d4adfbae2a83eed992816\"></div>\n",
       "<script type=\"text/javascript\">\n",
       "  (function(spec, embedOpt){\n",
       "    let outputDiv = document.currentScript.previousElementSibling;\n",
       "    if (outputDiv.id !== \"altair-viz-b8597023f86d4adfbae2a83eed992816\") {\n",
       "      outputDiv = document.getElementById(\"altair-viz-b8597023f86d4adfbae2a83eed992816\");\n",
       "    }\n",
       "    const paths = {\n",
       "      \"vega\": \"https://cdn.jsdelivr.net/npm//vega@5?noext\",\n",
       "      \"vega-lib\": \"https://cdn.jsdelivr.net/npm//vega-lib?noext\",\n",
       "      \"vega-lite\": \"https://cdn.jsdelivr.net/npm//vega-lite@4.8.1?noext\",\n",
       "      \"vega-embed\": \"https://cdn.jsdelivr.net/npm//vega-embed@6?noext\",\n",
       "    };\n",
       "\n",
       "    function loadScript(lib) {\n",
       "      return new Promise(function(resolve, reject) {\n",
       "        var s = document.createElement('script');\n",
       "        s.src = paths[lib];\n",
       "        s.async = true;\n",
       "        s.onload = () => resolve(paths[lib]);\n",
       "        s.onerror = () => reject(`Error loading script: ${paths[lib]}`);\n",
       "        document.getElementsByTagName(\"head\")[0].appendChild(s);\n",
       "      });\n",
       "    }\n",
       "\n",
       "    function showError(err) {\n",
       "      outputDiv.innerHTML = `<div class=\"error\" style=\"color:red;\">${err}</div>`;\n",
       "      throw err;\n",
       "    }\n",
       "\n",
       "    function displayChart(vegaEmbed) {\n",
       "      vegaEmbed(outputDiv, spec, embedOpt)\n",
       "        .catch(err => showError(`Javascript Error: ${err.message}<br>This usually means there's a typo in your chart specification. See the javascript console for the full traceback.`));\n",
       "    }\n",
       "\n",
       "    if(typeof define === \"function\" && define.amd) {\n",
       "      requirejs.config({paths});\n",
       "      require([\"vega-embed\"], displayChart, err => showError(`Error loading script: ${err.message}`));\n",
       "    } else if (typeof vegaEmbed === \"function\") {\n",
       "      displayChart(vegaEmbed);\n",
       "    } else {\n",
       "      loadScript(\"vega\")\n",
       "        .then(() => loadScript(\"vega-lite\"))\n",
       "        .then(() => loadScript(\"vega-embed\"))\n",
       "        .catch(showError)\n",
       "        .then(() => displayChart(vegaEmbed));\n",
       "    }\n",
       "  })({\"config\": {\"view\": {\"continuousWidth\": 400, \"continuousHeight\": 300}}, \"layer\": [{\"data\": {\"name\": \"data-a29e08acc7a5480e4be300264dba79b7\"}, \"mark\": \"line\", \"encoding\": {\"color\": {\"type\": \"nominal\", \"field\": \"Layer\"}, \"opacity\": {\"condition\": {\"value\": 1.0, \"selection\": \"selector058\"}, \"value\": 0.2}, \"tooltip\": [{\"type\": \"nominal\", \"field\": \"Layer\"}, {\"type\": \"quantitative\", \"field\": \"Tnx Count\"}], \"x\": {\"type\": \"temporal\", \"field\": \"Time\"}, \"y\": {\"type\": \"quantitative\", \"field\": \"Tnx Count\"}}, \"selection\": {\"selector058\": {\"type\": \"multi\", \"fields\": [\"Layer\"], \"bind\": \"legend\"}}, \"width\": 800}, {\"layer\": [{\"mark\": {\"type\": \"rule\", \"color\": \"gray\"}, \"encoding\": {\"x\": {\"type\": \"temporal\", \"field\": \"Time\"}}}, {\"mark\": {\"type\": \"text\", \"align\": \"left\", \"color\": \"black\", \"dx\": 3, \"dy\": -120}, \"encoding\": {\"text\": {\"type\": \"nominal\", \"field\": \"event\"}, \"x\": {\"type\": \"temporal\", \"field\": \"Time\"}}}], \"data\": {\"name\": \"data-03a7e27a271f30803a3f9052d97f8a33\"}}], \"$schema\": \"https://vega.github.io/schema/vega-lite/v4.8.1.json\", \"datasets\": {\"data-a29e08acc7a5480e4be300264dba79b7\": [{\"Time\": \"2022-04-29T00:30:15\", \"Layer\": \"USTC\", \"Tnx Count\": 1207}, {\"Time\": \"2022-04-30T00:30:15\", \"Layer\": \"USTC\", \"Tnx Count\": 2231}, {\"Time\": \"2022-05-01T00:30:15\", \"Layer\": \"USTC\", \"Tnx Count\": 3195}, {\"Time\": \"2022-05-02T00:30:15\", \"Layer\": \"USTC\", \"Tnx Count\": 3921}, {\"Time\": \"2022-05-03T00:30:15\", \"Layer\": \"USTC\", \"Tnx Count\": 4770}, {\"Time\": \"2022-05-04T00:30:15\", \"Layer\": \"USTC\", \"Tnx Count\": 5671}, {\"Time\": \"2022-05-05T00:30:15\", \"Layer\": \"USTC\", \"Tnx Count\": 6553}, {\"Time\": \"2022-05-06T00:30:15\", \"Layer\": \"USTC\", \"Tnx Count\": 6389}, {\"Time\": \"2022-05-07T00:30:15\", \"Layer\": \"USTC\", \"Tnx Count\": 6366}, {\"Time\": \"2022-05-08T00:30:15\", \"Layer\": \"USTC\", \"Tnx Count\": 6911}, {\"Time\": \"2022-05-09T00:30:15\", \"Layer\": \"USTC\", \"Tnx Count\": 7719}, {\"Time\": \"2022-05-10T00:30:15\", \"Layer\": \"USTC\", \"Tnx Count\": 10193}, {\"Time\": \"2022-05-11T00:30:15\", \"Layer\": \"USTC\", \"Tnx Count\": 14799}, {\"Time\": \"2022-05-12T00:30:15\", \"Layer\": \"USTC\", \"Tnx Count\": 19772}, {\"Time\": \"2022-05-13T00:30:15\", \"Layer\": \"USTC\", \"Tnx Count\": 24111}, {\"Time\": \"2022-05-14T00:30:15\", \"Layer\": \"USTC\", \"Tnx Count\": 25941}, {\"Time\": \"2022-05-15T00:30:15\", \"Layer\": \"USTC\", \"Tnx Count\": 26144}, {\"Time\": \"2022-05-16T00:30:15\", \"Layer\": \"USTC\", \"Tnx Count\": 26053}, {\"Time\": \"2022-05-17T00:30:15\", \"Layer\": \"USTC\", \"Tnx Count\": 24041}, {\"Time\": \"2022-05-18T00:30:15\", \"Layer\": \"USTC\", \"Tnx Count\": 19525}, {\"Time\": \"2022-05-19T00:30:15\", \"Layer\": \"USTC\", \"Tnx Count\": 14112}, {\"Time\": \"2022-05-20T00:30:15\", \"Layer\": \"USTC\", \"Tnx Count\": 9133}, {\"Time\": \"2022-05-21T00:30:15\", \"Layer\": \"USTC\", \"Tnx Count\": 6717}, {\"Time\": \"2022-05-22T00:30:15\", \"Layer\": \"USTC\", \"Tnx Count\": 5566}, {\"Time\": \"2022-05-23T00:30:15\", \"Layer\": \"USTC\", \"Tnx Count\": 4567}, {\"Time\": \"2022-05-24T00:30:15\", \"Layer\": \"USTC\", \"Tnx Count\": 3940}, {\"Time\": \"2022-05-25T00:30:15\", \"Layer\": \"USTC\", \"Tnx Count\": 4279}, {\"Time\": \"2022-04-29T00:30:15\", \"Layer\": \"USDP\", \"Tnx Count\": 236}, {\"Time\": \"2022-04-30T00:30:15\", \"Layer\": \"USDP\", \"Tnx Count\": 406}, {\"Time\": \"2022-05-01T00:30:15\", \"Layer\": \"USDP\", \"Tnx Count\": 485}, {\"Time\": \"2022-05-02T00:30:15\", \"Layer\": \"USDP\", \"Tnx Count\": 566}, {\"Time\": \"2022-05-03T00:30:15\", \"Layer\": \"USDP\", \"Tnx Count\": 694}, {\"Time\": \"2022-05-04T00:30:15\", \"Layer\": \"USDP\", \"Tnx Count\": 826}, {\"Time\": \"2022-05-05T00:30:15\", \"Layer\": \"USDP\", \"Tnx Count\": 933}, {\"Time\": \"2022-05-06T00:30:15\", \"Layer\": \"USDP\", \"Tnx Count\": 883}, {\"Time\": \"2022-05-07T00:30:15\", \"Layer\": \"USDP\", \"Tnx Count\": 868}, {\"Time\": \"2022-05-08T00:30:15\", \"Layer\": \"USDP\", \"Tnx Count\": 879}, {\"Time\": \"2022-05-09T00:30:15\", \"Layer\": \"USDP\", \"Tnx Count\": 911}, {\"Time\": \"2022-05-10T00:30:15\", \"Layer\": \"USDP\", \"Tnx Count\": 993}, {\"Time\": \"2022-05-11T00:30:15\", \"Layer\": \"USDP\", \"Tnx Count\": 1115}, {\"Time\": \"2022-05-12T00:30:15\", \"Layer\": \"USDP\", \"Tnx Count\": 1281}, {\"Time\": \"2022-05-13T00:30:15\", \"Layer\": \"USDP\", \"Tnx Count\": 1619}, {\"Time\": \"2022-05-14T00:30:15\", \"Layer\": \"USDP\", \"Tnx Count\": 1786}, {\"Time\": \"2022-05-15T00:30:15\", \"Layer\": \"USDP\", \"Tnx Count\": 1854}, {\"Time\": \"2022-05-16T00:30:15\", \"Layer\": \"USDP\", \"Tnx Count\": 1999}, {\"Time\": \"2022-05-17T00:30:15\", \"Layer\": \"USDP\", \"Tnx Count\": 1992}, {\"Time\": \"2022-05-18T00:30:15\", \"Layer\": \"USDP\", \"Tnx Count\": 1965}, {\"Time\": \"2022-05-19T00:30:15\", \"Layer\": \"USDP\", \"Tnx Count\": 1876}, {\"Time\": \"2022-05-20T00:30:15\", \"Layer\": \"USDP\", \"Tnx Count\": 1646}, {\"Time\": \"2022-05-21T00:30:15\", \"Layer\": \"USDP\", \"Tnx Count\": 1476}, {\"Time\": \"2022-05-22T00:30:15\", \"Layer\": \"USDP\", \"Tnx Count\": 1412}, {\"Time\": \"2022-05-23T00:30:15\", \"Layer\": \"USDP\", \"Tnx Count\": 1310}, {\"Time\": \"2022-05-24T00:30:15\", \"Layer\": \"USDP\", \"Tnx Count\": 1372}, {\"Time\": \"2022-05-25T00:30:15\", \"Layer\": \"USDP\", \"Tnx Count\": 1304}, {\"Time\": \"2022-04-29T00:30:15\", \"Layer\": \"Dai\", \"Tnx Count\": 4691}, {\"Time\": \"2022-04-30T00:30:15\", \"Layer\": \"Dai\", \"Tnx Count\": 9354}, {\"Time\": \"2022-05-01T00:30:15\", \"Layer\": \"Dai\", \"Tnx Count\": 13320}, {\"Time\": \"2022-05-02T00:30:15\", \"Layer\": \"Dai\", \"Tnx Count\": 16726}, {\"Time\": \"2022-05-03T00:30:15\", \"Layer\": \"Dai\", \"Tnx Count\": 20277}, {\"Time\": \"2022-05-04T00:30:15\", \"Layer\": \"Dai\", \"Tnx Count\": 23619}, {\"Time\": \"2022-05-05T00:30:15\", \"Layer\": \"Dai\", \"Tnx Count\": 27573}, {\"Time\": \"2022-05-06T00:30:15\", \"Layer\": \"Dai\", \"Tnx Count\": 27979}, {\"Time\": \"2022-05-07T00:30:15\", \"Layer\": \"Dai\", \"Tnx Count\": 28247}, {\"Time\": \"2022-05-08T00:30:15\", \"Layer\": \"Dai\", \"Tnx Count\": 28687}, {\"Time\": \"2022-05-09T00:30:15\", \"Layer\": \"Dai\", \"Tnx Count\": 30485}, {\"Time\": \"2022-05-10T00:30:15\", \"Layer\": \"Dai\", \"Tnx Count\": 34299}, {\"Time\": \"2022-05-11T00:30:15\", \"Layer\": \"Dai\", \"Tnx Count\": 36807}, {\"Time\": \"2022-05-12T00:30:15\", \"Layer\": \"Dai\", \"Tnx Count\": 40505}, {\"Time\": \"2022-05-13T00:30:15\", \"Layer\": \"Dai\", \"Tnx Count\": 47643}, {\"Time\": \"2022-05-14T00:30:15\", \"Layer\": \"Dai\", \"Tnx Count\": 50119}, {\"Time\": \"2022-05-15T00:30:15\", \"Layer\": \"Dai\", \"Tnx Count\": 51283}, {\"Time\": \"2022-05-16T00:30:15\", \"Layer\": \"Dai\", \"Tnx Count\": 51792}, {\"Time\": \"2022-05-17T00:30:15\", \"Layer\": \"Dai\", \"Tnx Count\": 50398}, {\"Time\": \"2022-05-18T00:30:15\", \"Layer\": \"Dai\", \"Tnx Count\": 49152}, {\"Time\": \"2022-05-19T00:30:15\", \"Layer\": \"Dai\", \"Tnx Count\": 46053}, {\"Time\": \"2022-05-20T00:30:15\", \"Layer\": \"Dai\", \"Tnx Count\": 38730}, {\"Time\": \"2022-05-21T00:30:15\", \"Layer\": \"Dai\", \"Tnx Count\": 36378}, {\"Time\": \"2022-05-22T00:30:15\", \"Layer\": \"Dai\", \"Tnx Count\": 34603}, {\"Time\": \"2022-05-23T00:30:15\", \"Layer\": \"Dai\", \"Tnx Count\": 32736}, {\"Time\": \"2022-05-24T00:30:15\", \"Layer\": \"Dai\", \"Tnx Count\": 31336}, {\"Time\": \"2022-05-25T00:30:15\", \"Layer\": \"Dai\", \"Tnx Count\": 30640}, {\"Time\": \"2022-04-29T00:30:15\", \"Layer\": \"LUNC\", \"Tnx Count\": 199}, {\"Time\": \"2022-04-30T00:30:15\", \"Layer\": \"LUNC\", \"Tnx Count\": 432}, {\"Time\": \"2022-05-01T00:30:15\", \"Layer\": \"LUNC\", \"Tnx Count\": 621}, {\"Time\": \"2022-05-02T00:30:15\", \"Layer\": \"LUNC\", \"Tnx Count\": 789}, {\"Time\": \"2022-05-03T00:30:15\", \"Layer\": \"LUNC\", \"Tnx Count\": 936}, {\"Time\": \"2022-05-04T00:30:15\", \"Layer\": \"LUNC\", \"Tnx Count\": 1101}, {\"Time\": \"2022-05-05T00:30:15\", \"Layer\": \"LUNC\", \"Tnx Count\": 1284}, {\"Time\": \"2022-05-06T00:30:15\", \"Layer\": \"LUNC\", \"Tnx Count\": 1418}, {\"Time\": \"2022-05-07T00:30:15\", \"Layer\": \"LUNC\", \"Tnx Count\": 1425}, {\"Time\": \"2022-05-08T00:30:15\", \"Layer\": \"LUNC\", \"Tnx Count\": 1519}, {\"Time\": \"2022-05-09T00:30:15\", \"Layer\": \"LUNC\", \"Tnx Count\": 1721}, {\"Time\": \"2022-05-10T00:30:15\", \"Layer\": \"LUNC\", \"Tnx Count\": 2277}, {\"Time\": \"2022-05-11T00:30:15\", \"Layer\": \"LUNC\", \"Tnx Count\": 4013}, {\"Time\": \"2022-05-12T00:30:15\", \"Layer\": \"LUNC\", \"Tnx Count\": 8496}, {\"Time\": \"2022-05-13T00:30:15\", \"Layer\": \"LUNC\", \"Tnx Count\": 13708}, {\"Time\": \"2022-05-14T00:30:15\", \"Layer\": \"LUNC\", \"Tnx Count\": 20370}, {\"Time\": \"2022-05-15T00:30:15\", \"Layer\": \"LUNC\", \"Tnx Count\": 33824}, {\"Time\": \"2022-05-16T00:30:15\", \"Layer\": \"LUNC\", \"Tnx Count\": 42222}, {\"Time\": \"2022-05-17T00:30:15\", \"Layer\": \"LUNC\", \"Tnx Count\": 45834}, {\"Time\": \"2022-05-18T00:30:15\", \"Layer\": \"LUNC\", \"Tnx Count\": 46683}, {\"Time\": \"2022-05-19T00:30:15\", \"Layer\": \"LUNC\", \"Tnx Count\": 45192}, {\"Time\": \"2022-05-20T00:30:15\", \"Layer\": \"LUNC\", \"Tnx Count\": 41798}, {\"Time\": \"2022-05-21T00:30:15\", \"Layer\": \"LUNC\", \"Tnx Count\": 37166}, {\"Time\": \"2022-05-22T00:30:15\", \"Layer\": \"LUNC\", \"Tnx Count\": 26492}, {\"Time\": \"2022-05-23T00:30:15\", \"Layer\": \"LUNC\", \"Tnx Count\": 19564}, {\"Time\": \"2022-05-24T00:30:15\", \"Layer\": \"LUNC\", \"Tnx Count\": 17920}, {\"Time\": \"2022-05-25T00:30:15\", \"Layer\": \"LUNC\", \"Tnx Count\": 18134}], \"data-03a7e27a271f30803a3f9052d97f8a33\": [{\"Time\": \"2022-05-12\", \"event\": \"LUNA Crash\"}]}}, {\"mode\": \"vega-lite\"});\n",
       "</script>"
      ],
      "text/plain": [
       "alt.LayerChart(...)"
      ]
     },
     "execution_count": 115,
     "metadata": {},
     "output_type": "execute_result"
    }
   ],
   "source": [
    "result = pd.DataFrame()\n",
    "all_layers = g.get_unique_layers()\n",
    "avoid_layers = ['USD', 'USDT']\n",
    "layers = set(all_layers) - set(avoid_layers)\n",
    "\n",
    "rolling = g.rolling(step='1 day', window='1 week')\n",
    "for l in layers:\n",
    "    result[l] = [w.layer(l).num_edges() for w in rolling]\n",
    "\n",
    "result['Time'] = [w.end_date_time() for w in rolling]\n",
    "\n",
    "source = pd.melt(result, id_vars=['Time'], value_vars=layers, var_name='Layer', value_name='Tnx Count')\n",
    "selection = alt.selection_multi(fields=['Layer'], bind='legend')\n",
    "chart = alt.Chart(source).mark_line().encode(\n",
    "    x=\"Time:T\",\n",
    "    y=f\"{'Tnx Count'}:Q\",\n",
    "    color=\"Layer\",\n",
    "    tooltip=['Layer', 'Tnx Count'],\n",
    "    opacity=alt.condition(selection, alt.value(1.0), alt.value(0.2))\n",
    ").properties(\n",
    "    width=800,\n",
    ").add_selection(\n",
    "    selection\n",
    ")\n",
    "\n",
    "alt.layer(chart, event_chart)"
   ]
  },
  {
   "cell_type": "code",
   "execution_count": 117,
   "id": "f01a4451-ce19-4b55-b390-b8672eb51d23",
   "metadata": {},
   "outputs": [
    {
     "name": "stderr",
     "output_type": "stream",
     "text": [
      "/Users/shivamkapoor/opt/miniconda3/envs/raphtory/lib/python3.10/site-packages/altair/utils/core.py:283: FutureWarning: iteritems is deprecated and will be removed in a future version. Use .items instead.\n",
      "  for col_name, dtype in df.dtypes.iteritems():\n"
     ]
    },
    {
     "data": {
      "text/html": [
       "\n",
       "<div id=\"altair-viz-19653d23f0494dd9a54d37e7c7433033\"></div>\n",
       "<script type=\"text/javascript\">\n",
       "  (function(spec, embedOpt){\n",
       "    let outputDiv = document.currentScript.previousElementSibling;\n",
       "    if (outputDiv.id !== \"altair-viz-19653d23f0494dd9a54d37e7c7433033\") {\n",
       "      outputDiv = document.getElementById(\"altair-viz-19653d23f0494dd9a54d37e7c7433033\");\n",
       "    }\n",
       "    const paths = {\n",
       "      \"vega\": \"https://cdn.jsdelivr.net/npm//vega@5?noext\",\n",
       "      \"vega-lib\": \"https://cdn.jsdelivr.net/npm//vega-lib?noext\",\n",
       "      \"vega-lite\": \"https://cdn.jsdelivr.net/npm//vega-lite@4.8.1?noext\",\n",
       "      \"vega-embed\": \"https://cdn.jsdelivr.net/npm//vega-embed@6?noext\",\n",
       "    };\n",
       "\n",
       "    function loadScript(lib) {\n",
       "      return new Promise(function(resolve, reject) {\n",
       "        var s = document.createElement('script');\n",
       "        s.src = paths[lib];\n",
       "        s.async = true;\n",
       "        s.onload = () => resolve(paths[lib]);\n",
       "        s.onerror = () => reject(`Error loading script: ${paths[lib]}`);\n",
       "        document.getElementsByTagName(\"head\")[0].appendChild(s);\n",
       "      });\n",
       "    }\n",
       "\n",
       "    function showError(err) {\n",
       "      outputDiv.innerHTML = `<div class=\"error\" style=\"color:red;\">${err}</div>`;\n",
       "      throw err;\n",
       "    }\n",
       "\n",
       "    function displayChart(vegaEmbed) {\n",
       "      vegaEmbed(outputDiv, spec, embedOpt)\n",
       "        .catch(err => showError(`Javascript Error: ${err.message}<br>This usually means there's a typo in your chart specification. See the javascript console for the full traceback.`));\n",
       "    }\n",
       "\n",
       "    if(typeof define === \"function\" && define.amd) {\n",
       "      requirejs.config({paths});\n",
       "      require([\"vega-embed\"], displayChart, err => showError(`Error loading script: ${err.message}`));\n",
       "    } else if (typeof vegaEmbed === \"function\") {\n",
       "      displayChart(vegaEmbed);\n",
       "    } else {\n",
       "      loadScript(\"vega\")\n",
       "        .then(() => loadScript(\"vega-lite\"))\n",
       "        .then(() => loadScript(\"vega-embed\"))\n",
       "        .catch(showError)\n",
       "        .then(() => displayChart(vegaEmbed));\n",
       "    }\n",
       "  })({\"config\": {\"view\": {\"continuousWidth\": 400, \"continuousHeight\": 300}}, \"layer\": [{\"data\": {\"name\": \"data-8e4e58ed3af4d44d39b7cf7b01e7f330\"}, \"mark\": \"line\", \"encoding\": {\"x\": {\"type\": \"temporal\", \"field\": \"Time\"}, \"y\": {\"type\": \"quantitative\", \"field\": \"Tnx Count\"}}, \"selection\": {\"selector058\": {\"type\": \"multi\", \"fields\": [\"Layer\"], \"bind\": \"legend\"}}, \"width\": 800}, {\"layer\": [{\"mark\": {\"type\": \"rule\", \"color\": \"gray\"}, \"encoding\": {\"x\": {\"type\": \"temporal\", \"field\": \"Time\"}}}, {\"mark\": {\"type\": \"text\", \"align\": \"left\", \"color\": \"black\", \"dx\": 3, \"dy\": -120}, \"encoding\": {\"text\": {\"type\": \"nominal\", \"field\": \"event\"}, \"x\": {\"type\": \"temporal\", \"field\": \"Time\"}}}], \"data\": {\"name\": \"data-03a7e27a271f30803a3f9052d97f8a33\"}}], \"$schema\": \"https://vega.github.io/schema/vega-lite/v4.8.1.json\", \"datasets\": {\"data-8e4e58ed3af4d44d39b7cf7b01e7f330\": [{\"Tnx Count\": 199, \"Time\": \"2022-04-29T00:30:15\"}, {\"Tnx Count\": 432, \"Time\": \"2022-04-30T00:30:15\"}, {\"Tnx Count\": 621, \"Time\": \"2022-05-01T00:30:15\"}, {\"Tnx Count\": 789, \"Time\": \"2022-05-02T00:30:15\"}, {\"Tnx Count\": 936, \"Time\": \"2022-05-03T00:30:15\"}, {\"Tnx Count\": 1101, \"Time\": \"2022-05-04T00:30:15\"}, {\"Tnx Count\": 1284, \"Time\": \"2022-05-05T00:30:15\"}, {\"Tnx Count\": 1418, \"Time\": \"2022-05-06T00:30:15\"}, {\"Tnx Count\": 1425, \"Time\": \"2022-05-07T00:30:15\"}, {\"Tnx Count\": 1519, \"Time\": \"2022-05-08T00:30:15\"}, {\"Tnx Count\": 1721, \"Time\": \"2022-05-09T00:30:15\"}, {\"Tnx Count\": 2277, \"Time\": \"2022-05-10T00:30:15\"}, {\"Tnx Count\": 4013, \"Time\": \"2022-05-11T00:30:15\"}, {\"Tnx Count\": 8496, \"Time\": \"2022-05-12T00:30:15\"}, {\"Tnx Count\": 13708, \"Time\": \"2022-05-13T00:30:15\"}, {\"Tnx Count\": 20370, \"Time\": \"2022-05-14T00:30:15\"}, {\"Tnx Count\": 33824, \"Time\": \"2022-05-15T00:30:15\"}, {\"Tnx Count\": 42222, \"Time\": \"2022-05-16T00:30:15\"}, {\"Tnx Count\": 45834, \"Time\": \"2022-05-17T00:30:15\"}, {\"Tnx Count\": 46683, \"Time\": \"2022-05-18T00:30:15\"}, {\"Tnx Count\": 45192, \"Time\": \"2022-05-19T00:30:15\"}, {\"Tnx Count\": 41798, \"Time\": \"2022-05-20T00:30:15\"}, {\"Tnx Count\": 37166, \"Time\": \"2022-05-21T00:30:15\"}, {\"Tnx Count\": 26492, \"Time\": \"2022-05-22T00:30:15\"}, {\"Tnx Count\": 19564, \"Time\": \"2022-05-23T00:30:15\"}, {\"Tnx Count\": 17920, \"Time\": \"2022-05-24T00:30:15\"}, {\"Tnx Count\": 18134, \"Time\": \"2022-05-25T00:30:15\"}], \"data-03a7e27a271f30803a3f9052d97f8a33\": [{\"Time\": \"2022-05-12\", \"event\": \"LUNA Crash\"}]}}, {\"mode\": \"vega-lite\"});\n",
       "</script>"
      ],
      "text/plain": [
       "alt.LayerChart(...)"
      ]
     },
     "execution_count": 117,
     "metadata": {},
     "output_type": "execute_result"
    }
   ],
   "source": [
    "result = pd.DataFrame()\n",
    "\n",
    "rolling = g.rolling(step='1 day', window='1 week')\n",
    "\n",
    "result['Tnx Count'] = [w.layer('LUNC').num_edges() for w in rolling]\n",
    "result['Time'] = [w.layer('LUNC').end_date_time() for w in rolling]\n",
    "\n",
    "chart = alt.Chart(result).mark_line().encode(\n",
    "    x=\"Time:T\",\n",
    "    y=\"Tnx Count:Q\",\n",
    ").properties(\n",
    "    width=800,\n",
    ").add_selection(\n",
    "    selection\n",
    ")\n",
    "\n",
    "alt.layer(chart, event_chart)"
   ]
  },
  {
   "cell_type": "code",
   "execution_count": 118,
   "id": "108d9ba5-315f-404f-a371-b893b5e86963",
   "metadata": {},
   "outputs": [
    {
     "name": "stderr",
     "output_type": "stream",
     "text": [
      "/Users/shivamkapoor/opt/miniconda3/envs/raphtory/lib/python3.10/site-packages/altair/utils/core.py:283: FutureWarning: iteritems is deprecated and will be removed in a future version. Use .items instead.\n",
      "  for col_name, dtype in df.dtypes.iteritems():\n"
     ]
    },
    {
     "data": {
      "text/html": [
       "\n",
       "<div id=\"altair-viz-f38df5cba9ab4d5a8c7259fe5410535b\"></div>\n",
       "<script type=\"text/javascript\">\n",
       "  (function(spec, embedOpt){\n",
       "    let outputDiv = document.currentScript.previousElementSibling;\n",
       "    if (outputDiv.id !== \"altair-viz-f38df5cba9ab4d5a8c7259fe5410535b\") {\n",
       "      outputDiv = document.getElementById(\"altair-viz-f38df5cba9ab4d5a8c7259fe5410535b\");\n",
       "    }\n",
       "    const paths = {\n",
       "      \"vega\": \"https://cdn.jsdelivr.net/npm//vega@5?noext\",\n",
       "      \"vega-lib\": \"https://cdn.jsdelivr.net/npm//vega-lib?noext\",\n",
       "      \"vega-lite\": \"https://cdn.jsdelivr.net/npm//vega-lite@4.8.1?noext\",\n",
       "      \"vega-embed\": \"https://cdn.jsdelivr.net/npm//vega-embed@6?noext\",\n",
       "    };\n",
       "\n",
       "    function loadScript(lib) {\n",
       "      return new Promise(function(resolve, reject) {\n",
       "        var s = document.createElement('script');\n",
       "        s.src = paths[lib];\n",
       "        s.async = true;\n",
       "        s.onload = () => resolve(paths[lib]);\n",
       "        s.onerror = () => reject(`Error loading script: ${paths[lib]}`);\n",
       "        document.getElementsByTagName(\"head\")[0].appendChild(s);\n",
       "      });\n",
       "    }\n",
       "\n",
       "    function showError(err) {\n",
       "      outputDiv.innerHTML = `<div class=\"error\" style=\"color:red;\">${err}</div>`;\n",
       "      throw err;\n",
       "    }\n",
       "\n",
       "    function displayChart(vegaEmbed) {\n",
       "      vegaEmbed(outputDiv, spec, embedOpt)\n",
       "        .catch(err => showError(`Javascript Error: ${err.message}<br>This usually means there's a typo in your chart specification. See the javascript console for the full traceback.`));\n",
       "    }\n",
       "\n",
       "    if(typeof define === \"function\" && define.amd) {\n",
       "      requirejs.config({paths});\n",
       "      require([\"vega-embed\"], displayChart, err => showError(`Error loading script: ${err.message}`));\n",
       "    } else if (typeof vegaEmbed === \"function\") {\n",
       "      displayChart(vegaEmbed);\n",
       "    } else {\n",
       "      loadScript(\"vega\")\n",
       "        .then(() => loadScript(\"vega-lite\"))\n",
       "        .then(() => loadScript(\"vega-embed\"))\n",
       "        .catch(showError)\n",
       "        .then(() => displayChart(vegaEmbed));\n",
       "    }\n",
       "  })({\"config\": {\"view\": {\"continuousWidth\": 400, \"continuousHeight\": 300}}, \"layer\": [{\"data\": {\"name\": \"data-f12f34c52a33cae7676961901c14fcf7\"}, \"mark\": \"line\", \"encoding\": {\"x\": {\"type\": \"temporal\", \"field\": \"Time\"}, \"y\": {\"type\": \"quantitative\", \"field\": \"Page Rank\"}}, \"width\": 800}, {\"layer\": [{\"mark\": {\"type\": \"rule\", \"color\": \"gray\"}, \"encoding\": {\"x\": {\"type\": \"temporal\", \"field\": \"Time\"}}}, {\"mark\": {\"type\": \"text\", \"align\": \"left\", \"color\": \"black\", \"dx\": 3, \"dy\": -120}, \"encoding\": {\"text\": {\"type\": \"nominal\", \"field\": \"event\"}, \"x\": {\"type\": \"temporal\", \"field\": \"Time\"}}}], \"data\": {\"name\": \"data-03a7e27a271f30803a3f9052d97f8a33\"}}], \"$schema\": \"https://vega.github.io/schema/vega-lite/v4.8.1.json\", \"datasets\": {\"data-f12f34c52a33cae7676961901c14fcf7\": [{\"Page Rank\": 1.2031705409754068e-05, \"Time\": \"2022-04-29T00:30:15\"}, {\"Page Rank\": 6.489276984211756e-06, \"Time\": \"2022-04-30T00:30:15\"}, {\"Page Rank\": 4.765639914694475e-06, \"Time\": \"2022-05-01T00:30:15\"}, {\"Page Rank\": 3.93264917875058e-06, \"Time\": \"2022-05-02T00:30:15\"}, {\"Page Rank\": 3.220988674002001e-06, \"Time\": \"2022-05-03T00:30:15\"}, {\"Page Rank\": 2.7998603400192223e-06, \"Time\": \"2022-05-04T00:30:15\"}, {\"Page Rank\": 2.4463301997457165e-06, \"Time\": \"2022-05-05T00:30:15\"}, {\"Page Rank\": 2.3167560811998555e-06, \"Time\": \"2022-05-06T00:30:15\"}, {\"Page Rank\": 2.3189161311165662e-06, \"Time\": \"2022-05-07T00:30:15\"}, {\"Page Rank\": 2.319732175237732e-06, \"Time\": \"2022-05-08T00:30:15\"}, {\"Page Rank\": 2.206884573752177e-06, \"Time\": \"2022-05-09T00:30:15\"}, {\"Page Rank\": 2.086788072119816e-06, \"Time\": \"2022-05-10T00:30:15\"}, {\"Page Rank\": 1.9673070710268803e-06, \"Time\": \"2022-05-11T00:30:15\"}, {\"Page Rank\": 1.839392325564404e-06, \"Time\": \"2022-05-12T00:30:15\"}, {\"Page Rank\": 1.7119649555752403e-06, \"Time\": \"2022-05-13T00:30:15\"}, {\"Page Rank\": 1.6068416925918427e-06, \"Time\": \"2022-05-14T00:30:15\"}, {\"Page Rank\": 1.5343090353781008e-06, \"Time\": \"2022-05-15T00:30:15\"}, {\"Page Rank\": 1.4903048395353835e-06, \"Time\": \"2022-05-16T00:30:15\"}, {\"Page Rank\": 1.4879159380143392e-06, \"Time\": \"2022-05-17T00:30:15\"}, {\"Page Rank\": 1.4909471701685106e-06, \"Time\": \"2022-05-18T00:30:15\"}, {\"Page Rank\": 1.5328993185903528e-06, \"Time\": \"2022-05-19T00:30:15\"}, {\"Page Rank\": 1.6686420849509886e-06, \"Time\": \"2022-05-20T00:30:15\"}, {\"Page Rank\": 1.830889800658042e-06, \"Time\": \"2022-05-21T00:30:15\"}, {\"Page Rank\": 1.9631836494227173e-06, \"Time\": \"2022-05-22T00:30:15\"}, {\"Page Rank\": 2.0815537027374376e-06, \"Time\": \"2022-05-23T00:30:15\"}, {\"Page Rank\": 2.1440214368340094e-06, \"Time\": \"2022-05-24T00:30:15\"}, {\"Page Rank\": 2.2065667053539073e-06, \"Time\": \"2022-05-25T00:30:15\"}], \"data-03a7e27a271f30803a3f9052d97f8a33\": [{\"Time\": \"2022-05-12\", \"event\": \"LUNA Crash\"}]}}, {\"mode\": \"vega-lite\"});\n",
       "</script>"
      ],
      "text/plain": [
       "alt.LayerChart(...)"
      ]
     },
     "execution_count": 118,
     "metadata": {},
     "output_type": "execute_result"
    }
   ],
   "source": [
    "result = pd.DataFrame()\n",
    "\n",
    "rolling = g.rolling(step='1 day', window='1 week')\n",
    "\n",
    "result['Page Rank'] = [algorithms.pagerank(w.layer('LUNC'), 20)[\"0xd30b438df65f4f788563b2b3611bd6059bff4ad9\"] for w in rolling]\n",
    "result['Time'] = [w.layer('LUNC').end_date_time() for w in rolling]\n",
    "\n",
    "chart = alt.Chart(result).mark_line().encode(\n",
    "    x=\"Time:T\",\n",
    "    y=\"Page Rank:Q\",\n",
    ").properties(\n",
    "    width=800,\n",
    ")\n",
    "\n",
    "alt.layer(chart, event_chart)"
   ]
  },
  {
   "cell_type": "code",
   "execution_count": 130,
   "id": "0111d335-6ad6-4153-bcee-2e9f6da37692",
   "metadata": {},
   "outputs": [
    {
     "name": "stderr",
     "output_type": "stream",
     "text": [
      "/Users/shivamkapoor/opt/miniconda3/envs/raphtory/lib/python3.10/site-packages/altair/utils/core.py:283: FutureWarning: iteritems is deprecated and will be removed in a future version. Use .items instead.\n",
      "  for col_name, dtype in df.dtypes.iteritems():\n"
     ]
    },
    {
     "data": {
      "text/html": [
       "\n",
       "<div id=\"altair-viz-56b80759d9d8484cb5ba47ed57ff4580\"></div>\n",
       "<script type=\"text/javascript\">\n",
       "  (function(spec, embedOpt){\n",
       "    let outputDiv = document.currentScript.previousElementSibling;\n",
       "    if (outputDiv.id !== \"altair-viz-56b80759d9d8484cb5ba47ed57ff4580\") {\n",
       "      outputDiv = document.getElementById(\"altair-viz-56b80759d9d8484cb5ba47ed57ff4580\");\n",
       "    }\n",
       "    const paths = {\n",
       "      \"vega\": \"https://cdn.jsdelivr.net/npm//vega@5?noext\",\n",
       "      \"vega-lib\": \"https://cdn.jsdelivr.net/npm//vega-lib?noext\",\n",
       "      \"vega-lite\": \"https://cdn.jsdelivr.net/npm//vega-lite@4.8.1?noext\",\n",
       "      \"vega-embed\": \"https://cdn.jsdelivr.net/npm//vega-embed@6?noext\",\n",
       "    };\n",
       "\n",
       "    function loadScript(lib) {\n",
       "      return new Promise(function(resolve, reject) {\n",
       "        var s = document.createElement('script');\n",
       "        s.src = paths[lib];\n",
       "        s.async = true;\n",
       "        s.onload = () => resolve(paths[lib]);\n",
       "        s.onerror = () => reject(`Error loading script: ${paths[lib]}`);\n",
       "        document.getElementsByTagName(\"head\")[0].appendChild(s);\n",
       "      });\n",
       "    }\n",
       "\n",
       "    function showError(err) {\n",
       "      outputDiv.innerHTML = `<div class=\"error\" style=\"color:red;\">${err}</div>`;\n",
       "      throw err;\n",
       "    }\n",
       "\n",
       "    function displayChart(vegaEmbed) {\n",
       "      vegaEmbed(outputDiv, spec, embedOpt)\n",
       "        .catch(err => showError(`Javascript Error: ${err.message}<br>This usually means there's a typo in your chart specification. See the javascript console for the full traceback.`));\n",
       "    }\n",
       "\n",
       "    if(typeof define === \"function\" && define.amd) {\n",
       "      requirejs.config({paths});\n",
       "      require([\"vega-embed\"], displayChart, err => showError(`Error loading script: ${err.message}`));\n",
       "    } else if (typeof vegaEmbed === \"function\") {\n",
       "      displayChart(vegaEmbed);\n",
       "    } else {\n",
       "      loadScript(\"vega\")\n",
       "        .then(() => loadScript(\"vega-lite\"))\n",
       "        .then(() => loadScript(\"vega-embed\"))\n",
       "        .catch(showError)\n",
       "        .then(() => displayChart(vegaEmbed));\n",
       "    }\n",
       "  })({\"config\": {\"view\": {\"continuousWidth\": 400, \"continuousHeight\": 300}}, \"layer\": [{\"data\": {\"name\": \"data-94014531cba9db12ad317886765e317e\"}, \"mark\": \"line\", \"encoding\": {\"color\": {\"type\": \"nominal\", \"field\": \"Layer\"}, \"opacity\": {\"condition\": {\"value\": 1.0, \"selection\": \"selector065\"}, \"value\": 0.2}, \"tooltip\": [{\"type\": \"nominal\", \"field\": \"Layer\"}, {\"type\": \"quantitative\", \"field\": \"Page Rank\"}], \"x\": {\"type\": \"temporal\", \"field\": \"Time\"}, \"y\": {\"type\": \"quantitative\", \"field\": \"Page Rank\"}}, \"selection\": {\"selector065\": {\"type\": \"multi\", \"fields\": [\"Layer\"], \"bind\": \"legend\"}}, \"width\": 800}, {\"layer\": [{\"mark\": {\"type\": \"rule\", \"color\": \"gray\"}, \"encoding\": {\"x\": {\"type\": \"temporal\", \"field\": \"Time\"}}}, {\"mark\": {\"type\": \"text\", \"align\": \"left\", \"color\": \"black\", \"dx\": 3, \"dy\": -120}, \"encoding\": {\"text\": {\"type\": \"nominal\", \"field\": \"event\"}, \"x\": {\"type\": \"temporal\", \"field\": \"Time\"}}}], \"data\": {\"name\": \"data-03a7e27a271f30803a3f9052d97f8a33\"}}], \"$schema\": \"https://vega.github.io/schema/vega-lite/v4.8.1.json\", \"datasets\": {\"data-94014531cba9db12ad317886765e317e\": [{\"Time\": \"2022-04-29T00:30:15\", \"Layer\": \"Dai\", \"Page Rank\": 0.002552395686507225}, {\"Time\": \"2022-04-30T00:30:15\", \"Layer\": \"Dai\", \"Page Rank\": 0.003285010112449527}, {\"Time\": \"2022-05-01T00:30:15\", \"Layer\": \"Dai\", \"Page Rank\": 0.0032964388374239206}, {\"Time\": \"2022-05-02T00:30:15\", \"Layer\": \"Dai\", \"Page Rank\": 0.0034355197567492723}, {\"Time\": \"2022-05-03T00:30:15\", \"Layer\": \"Dai\", \"Page Rank\": 0.0036167565267533064}, {\"Time\": \"2022-05-04T00:30:15\", \"Layer\": \"Dai\", \"Page Rank\": 0.003882054705172777}, {\"Time\": \"2022-05-05T00:30:15\", \"Layer\": \"Dai\", \"Page Rank\": 0.004122705198824406}, {\"Time\": \"2022-05-06T00:30:15\", \"Layer\": \"Dai\", \"Page Rank\": 0.003940052352845669}, {\"Time\": \"2022-05-07T00:30:15\", \"Layer\": \"Dai\", \"Page Rank\": 0.0038507897406816483}, {\"Time\": \"2022-05-08T00:30:15\", \"Layer\": \"Dai\", \"Page Rank\": 0.003911817446351051}, {\"Time\": \"2022-05-09T00:30:15\", \"Layer\": \"Dai\", \"Page Rank\": 0.003967892844229937}, {\"Time\": \"2022-05-10T00:30:15\", \"Layer\": \"Dai\", \"Page Rank\": 0.003986891824752092}, {\"Time\": \"2022-05-11T00:30:15\", \"Layer\": \"Dai\", \"Page Rank\": 0.003954868298023939}, {\"Time\": \"2022-05-12T00:30:15\", \"Layer\": \"Dai\", \"Page Rank\": 0.0037818970158696175}, {\"Time\": \"2022-05-13T00:30:15\", \"Layer\": \"Dai\", \"Page Rank\": 0.003914296627044678}, {\"Time\": \"2022-05-14T00:30:15\", \"Layer\": \"Dai\", \"Page Rank\": 0.004081187769770622}, {\"Time\": \"2022-05-15T00:30:15\", \"Layer\": \"Dai\", \"Page Rank\": 0.004090816713869572}, {\"Time\": \"2022-05-16T00:30:15\", \"Layer\": \"Dai\", \"Page Rank\": 0.004131366033107042}, {\"Time\": \"2022-05-17T00:30:15\", \"Layer\": \"Dai\", \"Page Rank\": 0.004048935603350401}, {\"Time\": \"2022-05-18T00:30:15\", \"Layer\": \"Dai\", \"Page Rank\": 0.0039684828370809555}, {\"Time\": \"2022-05-19T00:30:15\", \"Layer\": \"Dai\", \"Page Rank\": 0.003837455762550235}, {\"Time\": \"2022-05-20T00:30:15\", \"Layer\": \"Dai\", \"Page Rank\": 0.0036962616723030806}, {\"Time\": \"2022-05-21T00:30:15\", \"Layer\": \"Dai\", \"Page Rank\": 0.0036436181981116533}, {\"Time\": \"2022-05-22T00:30:15\", \"Layer\": \"Dai\", \"Page Rank\": 0.0037171882577240467}, {\"Time\": \"2022-05-23T00:30:15\", \"Layer\": \"Dai\", \"Page Rank\": 0.003890512976795435}, {\"Time\": \"2022-05-24T00:30:15\", \"Layer\": \"Dai\", \"Page Rank\": 0.003798685735091567}, {\"Time\": \"2022-05-25T00:30:15\", \"Layer\": \"Dai\", \"Page Rank\": 0.003831717651337385}, {\"Time\": \"2022-04-29T00:30:15\", \"Layer\": \"LUNC\", \"Page Rank\": 1.2031705409754068e-05}, {\"Time\": \"2022-04-30T00:30:15\", \"Layer\": \"LUNC\", \"Page Rank\": 6.489276984211756e-06}, {\"Time\": \"2022-05-01T00:30:15\", \"Layer\": \"LUNC\", \"Page Rank\": 4.765639914694475e-06}, {\"Time\": \"2022-05-02T00:30:15\", \"Layer\": \"LUNC\", \"Page Rank\": 3.93264917875058e-06}, {\"Time\": \"2022-05-03T00:30:15\", \"Layer\": \"LUNC\", \"Page Rank\": 3.220988674002001e-06}, {\"Time\": \"2022-05-04T00:30:15\", \"Layer\": \"LUNC\", \"Page Rank\": 2.7998603400192223e-06}, {\"Time\": \"2022-05-05T00:30:15\", \"Layer\": \"LUNC\", \"Page Rank\": 2.4463301997457165e-06}, {\"Time\": \"2022-05-06T00:30:15\", \"Layer\": \"LUNC\", \"Page Rank\": 2.3167560811998555e-06}, {\"Time\": \"2022-05-07T00:30:15\", \"Layer\": \"LUNC\", \"Page Rank\": 2.3189161311165662e-06}, {\"Time\": \"2022-05-08T00:30:15\", \"Layer\": \"LUNC\", \"Page Rank\": 2.319732175237732e-06}, {\"Time\": \"2022-05-09T00:30:15\", \"Layer\": \"LUNC\", \"Page Rank\": 2.206884573752177e-06}, {\"Time\": \"2022-05-10T00:30:15\", \"Layer\": \"LUNC\", \"Page Rank\": 2.086788072119816e-06}, {\"Time\": \"2022-05-11T00:30:15\", \"Layer\": \"LUNC\", \"Page Rank\": 1.9673070710268803e-06}, {\"Time\": \"2022-05-12T00:30:15\", \"Layer\": \"LUNC\", \"Page Rank\": 1.839392325564404e-06}, {\"Time\": \"2022-05-13T00:30:15\", \"Layer\": \"LUNC\", \"Page Rank\": 1.7119649555752403e-06}, {\"Time\": \"2022-05-14T00:30:15\", \"Layer\": \"LUNC\", \"Page Rank\": 1.6068416925918427e-06}, {\"Time\": \"2022-05-15T00:30:15\", \"Layer\": \"LUNC\", \"Page Rank\": 1.5343090353781008e-06}, {\"Time\": \"2022-05-16T00:30:15\", \"Layer\": \"LUNC\", \"Page Rank\": 1.4903048395353835e-06}, {\"Time\": \"2022-05-17T00:30:15\", \"Layer\": \"LUNC\", \"Page Rank\": 1.4879159380143392e-06}, {\"Time\": \"2022-05-18T00:30:15\", \"Layer\": \"LUNC\", \"Page Rank\": 1.4909471701685106e-06}, {\"Time\": \"2022-05-19T00:30:15\", \"Layer\": \"LUNC\", \"Page Rank\": 1.5328993185903528e-06}, {\"Time\": \"2022-05-20T00:30:15\", \"Layer\": \"LUNC\", \"Page Rank\": 1.6686420849509886e-06}, {\"Time\": \"2022-05-21T00:30:15\", \"Layer\": \"LUNC\", \"Page Rank\": 1.830889800658042e-06}, {\"Time\": \"2022-05-22T00:30:15\", \"Layer\": \"LUNC\", \"Page Rank\": 1.9631836494227173e-06}, {\"Time\": \"2022-05-23T00:30:15\", \"Layer\": \"LUNC\", \"Page Rank\": 2.0815537027374376e-06}, {\"Time\": \"2022-05-24T00:30:15\", \"Layer\": \"LUNC\", \"Page Rank\": 2.1440214368340094e-06}, {\"Time\": \"2022-05-25T00:30:15\", \"Layer\": \"LUNC\", \"Page Rank\": 2.2065667053539073e-06}, {\"Time\": \"2022-04-29T00:30:15\", \"Layer\": \"USTC\", \"Page Rank\": 1.1792967598012183e-05}, {\"Time\": \"2022-04-30T00:30:15\", \"Layer\": \"USTC\", \"Page Rank\": 6.369488346535945e-06}, {\"Time\": \"2022-05-01T00:30:15\", \"Layer\": \"USTC\", \"Page Rank\": 4.689423349191202e-06}, {\"Time\": \"2022-05-02T00:30:15\", \"Layer\": \"USTC\", \"Page Rank\": 3.868543899443466e-06}, {\"Time\": \"2022-05-03T00:30:15\", \"Layer\": \"USTC\", \"Page Rank\": 3.200557330274023e-06}, {\"Time\": \"2022-05-04T00:30:15\", \"Layer\": \"USTC\", \"Page Rank\": 2.777428562694695e-06}, {\"Time\": \"2022-05-05T00:30:15\", \"Layer\": \"USTC\", \"Page Rank\": 2.434360794723034e-06}, {\"Time\": \"2022-05-06T00:30:15\", \"Layer\": \"USTC\", \"Page Rank\": 2.2997385258349823e-06}, {\"Time\": \"2022-05-07T00:30:15\", \"Layer\": \"USTC\", \"Page Rank\": 2.3006696210359223e-06}, {\"Time\": \"2022-05-08T00:30:15\", \"Layer\": \"USTC\", \"Page Rank\": 2.300274445588002e-06}, {\"Time\": \"2022-05-09T00:30:15\", \"Layer\": \"USTC\", \"Page Rank\": 2.1953621853754157e-06}, {\"Time\": \"2022-05-10T00:30:15\", \"Layer\": \"USTC\", \"Page Rank\": 2.0667380340455566e-06}, {\"Time\": \"2022-05-11T00:30:15\", \"Layer\": \"USTC\", \"Page Rank\": 1.9434946807450615e-06}, {\"Time\": \"2022-05-12T00:30:15\", \"Layer\": \"USTC\", \"Page Rank\": 1.7685225657260162e-06}, {\"Time\": \"2022-05-13T00:30:15\", \"Layer\": \"USTC\", \"Page Rank\": 1.6486733329657e-06}, {\"Time\": \"2022-05-14T00:30:15\", \"Layer\": \"USTC\", \"Page Rank\": 1.5443117717950372e-06}, {\"Time\": \"2022-05-15T00:30:15\", \"Layer\": \"USTC\", \"Page Rank\": 1.4825952803221298e-06}, {\"Time\": \"2022-05-16T00:30:15\", \"Layer\": \"USTC\", \"Page Rank\": 1.480778337281663e-06}, {\"Time\": \"2022-05-17T00:30:15\", \"Layer\": \"USTC\", \"Page Rank\": 1.4808090327278478e-06}, {\"Time\": \"2022-05-18T00:30:15\", \"Layer\": \"USTC\", \"Page Rank\": 1.5263811974364216e-06}, {\"Time\": \"2022-05-19T00:30:15\", \"Layer\": \"USTC\", \"Page Rank\": 1.5419237797686947e-06}, {\"Time\": \"2022-05-20T00:30:15\", \"Layer\": \"USTC\", \"Page Rank\": 1.720447585285001e-06}, {\"Time\": \"2022-05-21T00:30:15\", \"Layer\": \"USTC\", \"Page Rank\": 1.846461032073421e-06}, {\"Time\": \"2022-05-22T00:30:15\", \"Layer\": \"USTC\", \"Page Rank\": 2.0177535589027684e-06}, {\"Time\": \"2022-05-23T00:30:15\", \"Layer\": \"USTC\", \"Page Rank\": 2.128443838955718e-06}, {\"Time\": \"2022-05-24T00:30:15\", \"Layer\": \"USTC\", \"Page Rank\": 2.1975633899273816e-06}, {\"Time\": \"2022-05-25T00:30:15\", \"Layer\": \"USTC\", \"Page Rank\": 2.2629078557656612e-06}, {\"Time\": \"2022-04-29T00:30:15\", \"Layer\": \"USD\", \"Page Rank\": 0.014043623581528664}, {\"Time\": \"2022-04-30T00:30:15\", \"Layer\": \"USD\", \"Page Rank\": 0.016237247735261917}, {\"Time\": \"2022-05-01T00:30:15\", \"Layer\": \"USD\", \"Page Rank\": 0.020657846704125404}, {\"Time\": \"2022-05-02T00:30:15\", \"Layer\": \"USD\", \"Page Rank\": 0.02270529232919216}, {\"Time\": \"2022-05-03T00:30:15\", \"Layer\": \"USD\", \"Page Rank\": 0.02233860455453396}, {\"Time\": \"2022-05-04T00:30:15\", \"Layer\": \"USD\", \"Page Rank\": 0.02233622409403324}, {\"Time\": \"2022-05-05T00:30:15\", \"Layer\": \"USD\", \"Page Rank\": 0.02100784331560135}, {\"Time\": \"2022-05-06T00:30:15\", \"Layer\": \"USD\", \"Page Rank\": 0.022128397598862648}, {\"Time\": \"2022-05-07T00:30:15\", \"Layer\": \"USD\", \"Page Rank\": 0.023357748985290527}, {\"Time\": \"2022-05-08T00:30:15\", \"Layer\": \"USD\", \"Page Rank\": 0.02338072843849659}, {\"Time\": \"2022-05-09T00:30:15\", \"Layer\": \"USD\", \"Page Rank\": 0.020902154967188835}, {\"Time\": \"2022-05-10T00:30:15\", \"Layer\": \"USD\", \"Page Rank\": 0.021987183019518852}, {\"Time\": \"2022-05-11T00:30:15\", \"Layer\": \"USD\", \"Page Rank\": 0.023259056732058525}, {\"Time\": \"2022-05-12T00:30:15\", \"Layer\": \"USD\", \"Page Rank\": 0.021383818238973618}, {\"Time\": \"2022-05-13T00:30:15\", \"Layer\": \"USD\", \"Page Rank\": 0.020813750103116035}, {\"Time\": \"2022-05-14T00:30:15\", \"Layer\": \"USD\", \"Page Rank\": 0.020509343594312668}, {\"Time\": \"2022-05-15T00:30:15\", \"Layer\": \"USD\", \"Page Rank\": 0.01763100177049637}, {\"Time\": \"2022-05-16T00:30:15\", \"Layer\": \"USD\", \"Page Rank\": 0.018081581220030785}, {\"Time\": \"2022-05-17T00:30:15\", \"Layer\": \"USD\", \"Page Rank\": 0.017700182273983955}, {\"Time\": \"2022-05-18T00:30:15\", \"Layer\": \"USD\", \"Page Rank\": 0.015699615702033043}, {\"Time\": \"2022-05-19T00:30:15\", \"Layer\": \"USD\", \"Page Rank\": 0.01697300747036934}, {\"Time\": \"2022-05-20T00:30:15\", \"Layer\": \"USD\", \"Page Rank\": 0.016248002648353577}, {\"Time\": \"2022-05-21T00:30:15\", \"Layer\": \"USD\", \"Page Rank\": 0.015309944748878479}, {\"Time\": \"2022-05-22T00:30:15\", \"Layer\": \"USD\", \"Page Rank\": 0.01734115555882454}, {\"Time\": \"2022-05-23T00:30:15\", \"Layer\": \"USD\", \"Page Rank\": 0.014408135786652565}, {\"Time\": \"2022-05-24T00:30:15\", \"Layer\": \"USD\", \"Page Rank\": 0.014533456414937973}, {\"Time\": \"2022-05-25T00:30:15\", \"Layer\": \"USD\", \"Page Rank\": 0.015986468642950058}, {\"Time\": \"2022-04-29T00:30:15\", \"Layer\": \"USDP\", \"Page Rank\": 1.2020761460007634e-05}, {\"Time\": \"2022-04-30T00:30:15\", \"Layer\": \"USDP\", \"Page Rank\": 6.488167855422944e-06}, {\"Time\": \"2022-05-01T00:30:15\", \"Layer\": \"USDP\", \"Page Rank\": 4.765639914694475e-06}, {\"Time\": \"2022-05-02T00:30:15\", \"Layer\": \"USDP\", \"Page Rank\": 3.932833351427689e-06}, {\"Time\": \"2022-05-03T00:30:15\", \"Layer\": \"USDP\", \"Page Rank\": 3.221180577384075e-06}, {\"Time\": \"2022-05-04T00:30:15\", \"Layer\": \"USDP\", \"Page Rank\": 2.800052016027621e-06}, {\"Time\": \"2022-05-05T00:30:15\", \"Layer\": \"USDP\", \"Page Rank\": 2.4463938643748406e-06}, {\"Time\": \"2022-05-06T00:30:15\", \"Layer\": \"USDP\", \"Page Rank\": 2.318760152775212e-06}, {\"Time\": \"2022-05-07T00:30:15\", \"Layer\": \"USDP\", \"Page Rank\": 2.3194068035081727e-06}, {\"Time\": \"2022-05-08T00:30:15\", \"Layer\": \"USDP\", \"Page Rank\": 2.320258090549032e-06}, {\"Time\": \"2022-05-09T00:30:15\", \"Layer\": \"USDP\", \"Page Rank\": 2.2075364540796727e-06}, {\"Time\": \"2022-05-10T00:30:15\", \"Layer\": \"USDP\", \"Page Rank\": 2.087549773932551e-06}, {\"Time\": \"2022-05-11T00:30:15\", \"Layer\": \"USDP\", \"Page Rank\": 1.9685942334035644e-06}, {\"Time\": \"2022-05-12T00:30:15\", \"Layer\": \"USDP\", \"Page Rank\": 1.8434732282912591e-06}, {\"Time\": \"2022-05-13T00:30:15\", \"Layer\": \"USDP\", \"Page Rank\": 1.7242995227206848e-06}, {\"Time\": \"2022-05-14T00:30:15\", \"Layer\": \"USDP\", \"Page Rank\": 1.61058517278434e-06}, {\"Time\": \"2022-05-15T00:30:15\", \"Layer\": \"USDP\", \"Page Rank\": 1.548951104268781e-06}, {\"Time\": \"2022-05-16T00:30:15\", \"Layer\": \"USDP\", \"Page Rank\": 1.5466764580196468e-06}, {\"Time\": \"2022-05-17T00:30:15\", \"Layer\": \"USDP\", \"Page Rank\": 1.5450137880179682e-06}, {\"Time\": \"2022-05-18T00:30:15\", \"Layer\": \"USDP\", \"Page Rank\": 1.5481696209462825e-06}, {\"Time\": \"2022-05-19T00:30:15\", \"Layer\": \"USDP\", \"Page Rank\": 1.5500429526582593e-06}, {\"Time\": \"2022-05-20T00:30:15\", \"Layer\": \"USDP\", \"Page Rank\": 1.7264566167796147e-06}, {\"Time\": \"2022-05-21T00:30:15\", \"Layer\": \"USDP\", \"Page Rank\": 1.8493104789740755e-06}, {\"Time\": \"2022-05-22T00:30:15\", \"Layer\": \"USDP\", \"Page Rank\": 2.022233275056351e-06}, {\"Time\": \"2022-05-23T00:30:15\", \"Layer\": \"USDP\", \"Page Rank\": 2.130789198417915e-06}, {\"Time\": \"2022-05-24T00:30:15\", \"Layer\": \"USDP\", \"Page Rank\": 2.2010901830071816e-06}, {\"Time\": \"2022-05-25T00:30:15\", \"Layer\": \"USDP\", \"Page Rank\": 2.2654924123344244e-06}, {\"Time\": \"2022-04-29T00:30:15\", \"Layer\": \"USDT\", \"Page Rank\": 6.141650374047458e-06}, {\"Time\": \"2022-04-30T00:30:15\", \"Layer\": \"USDT\", \"Page Rank\": 3.1003469302959275e-06}, {\"Time\": \"2022-05-01T00:30:15\", \"Layer\": \"USDT\", \"Page Rank\": 2.1830976493220078e-06}, {\"Time\": \"2022-05-02T00:30:15\", \"Layer\": \"USDT\", \"Page Rank\": 1.7736749668983975e-06}, {\"Time\": \"2022-05-03T00:30:15\", \"Layer\": \"USDT\", \"Page Rank\": 1.4499790950139868e-06}, {\"Time\": \"2022-05-04T00:30:15\", \"Layer\": \"USDT\", \"Page Rank\": 1.240838287230872e-06}, {\"Time\": \"2022-05-05T00:30:15\", \"Layer\": \"USDT\", \"Page Rank\": 1.0685878351068823e-06}, {\"Time\": \"2022-05-06T00:30:15\", \"Layer\": \"USDT\", \"Page Rank\": 1.0379604873378412e-06}, {\"Time\": \"2022-05-07T00:30:15\", \"Layer\": \"USDT\", \"Page Rank\": 1.0408548405393958e-06}, {\"Time\": \"2022-05-08T00:30:15\", \"Layer\": \"USDT\", \"Page Rank\": 1.0434015393911977e-06}, {\"Time\": \"2022-05-09T00:30:15\", \"Layer\": \"USDT\", \"Page Rank\": 1.012845928016759e-06}, {\"Time\": \"2022-05-10T00:30:15\", \"Layer\": \"USDT\", \"Page Rank\": 9.717973625811283e-07}, {\"Time\": \"2022-05-11T00:30:15\", \"Layer\": \"USDT\", \"Page Rank\": 8.873571459844243e-07}, {\"Time\": \"2022-05-12T00:30:15\", \"Layer\": \"USDT\", \"Page Rank\": 8.439592988906952e-07}, {\"Time\": \"2022-05-13T00:30:15\", \"Layer\": \"USDT\", \"Page Rank\": 7.545288553956198e-07}, {\"Time\": \"2022-05-14T00:30:15\", \"Layer\": \"USDT\", \"Page Rank\": 6.857942480564816e-07}, {\"Time\": \"2022-05-15T00:30:15\", \"Layer\": \"USDT\", \"Page Rank\": 6.566245929207071e-07}, {\"Time\": \"2022-05-16T00:30:15\", \"Layer\": \"USDT\", \"Page Rank\": 6.448780709433777e-07}, {\"Time\": \"2022-05-17T00:30:15\", \"Layer\": \"USDT\", \"Page Rank\": 6.378975854204327e-07}, {\"Time\": \"2022-05-18T00:30:15\", \"Layer\": \"USDT\", \"Page Rank\": 6.376426995302609e-07}, {\"Time\": \"2022-05-19T00:30:15\", \"Layer\": \"USDT\", \"Page Rank\": 6.424115781555884e-07}, {\"Time\": \"2022-05-20T00:30:15\", \"Layer\": \"USDT\", \"Page Rank\": 7.164919679780724e-07}, {\"Time\": \"2022-05-21T00:30:15\", \"Layer\": \"USDT\", \"Page Rank\": 7.844379865673545e-07}, {\"Time\": \"2022-05-22T00:30:15\", \"Layer\": \"USDT\", \"Page Rank\": 8.322741678057355e-07}, {\"Time\": \"2022-05-23T00:30:15\", \"Layer\": \"USDT\", \"Page Rank\": 8.729457476874813e-07}, {\"Time\": \"2022-05-24T00:30:15\", \"Layer\": \"USDT\", \"Page Rank\": 9.113394980886369e-07}, {\"Time\": \"2022-05-25T00:30:15\", \"Layer\": \"USDT\", \"Page Rank\": 9.71599433796655e-07}], \"data-03a7e27a271f30803a3f9052d97f8a33\": [{\"Time\": \"2022-05-12\", \"event\": \"LUNA Crash\"}]}}, {\"mode\": \"vega-lite\"});\n",
       "</script>"
      ],
      "text/plain": [
       "alt.LayerChart(...)"
      ]
     },
     "execution_count": 130,
     "metadata": {},
     "output_type": "execute_result"
    }
   ],
   "source": [
    "result = pd.DataFrame()\n",
    "\n",
    "layers = g.get_unique_layers()\n",
    "rolling = g.rolling(step='1 day', window='1 week')\n",
    "\n",
    "for l in layers:\n",
    "    result[l] = [algorithms.pagerank(w.layer(l), 20)[\"0x503828976d22510aad0201ac7ec88293211d23da\"] for w in rolling]\n",
    "\n",
    "result['Time'] = [w.end_date_time() for w in rolling]\n",
    "\n",
    "source = pd.melt(result, id_vars=['Time'], value_vars=layers, var_name='Layer', value_name='Page Rank')\n",
    "selection = alt.selection_multi(fields=['Layer'], bind='legend')\n",
    "\n",
    "chart = alt.Chart(source).mark_line().encode(\n",
    "    x=\"Time:T\",\n",
    "    y=f\"{'Page Rank'}:Q\",\n",
    "    color=\"Layer\",\n",
    "    tooltip=['Layer', 'Page Rank'],\n",
    "    opacity=alt.condition(selection, alt.value(1.0), alt.value(0.2))\n",
    ").properties(\n",
    "    width=800,\n",
    ").add_selection(\n",
    "    selection\n",
    ")\n",
    "\n",
    "alt.layer(chart, event_chart)"
   ]
  },
  {
   "cell_type": "code",
   "execution_count": null,
   "id": "5cb56ee1-9ef1-4c9f-b67a-90907ee767df",
   "metadata": {},
   "outputs": [],
   "source": []
  }
 ],
 "metadata": {
  "kernelspec": {
   "display_name": "Python [conda env:raphtory] *",
   "language": "python",
   "name": "conda-env-raphtory-py"
  },
  "language_info": {
   "codemirror_mode": {
    "name": "ipython",
    "version": 3
   },
   "file_extension": ".py",
   "mimetype": "text/x-python",
   "name": "python",
   "nbconvert_exporter": "python",
   "pygments_lexer": "ipython3",
   "version": "3.10.9"
  }
 },
 "nbformat": 4,
 "nbformat_minor": 5
}
