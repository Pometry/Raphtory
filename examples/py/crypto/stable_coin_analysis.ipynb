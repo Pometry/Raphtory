{
 "cells": [
  {
   "cell_type": "code",
   "execution_count": 1,
   "id": "5e76e492-a0b9-4199-8c46-bb10d1b15db2",
   "metadata": {},
   "outputs": [
    {
     "name": "stdout",
     "output_type": "stream",
     "text": [
      "Loaded graph with 1 shards from encoded data files /tmp/stablecoin/graphdb.bincode with 1523333 vertices, 2814155 edges which took 6 seconds\n"
     ]
    }
   ],
   "source": [
    "from raphtory import Graph\n",
    "from raphtory import algorithms\n",
    "from raphtory import graph_loader\n",
    "import time\n",
    "import sys\n",
    "import pandas as pd\n",
    "import altair as alt\n",
    "from datetime import timezone, datetime\n",
    "\n",
    "# Warning this loader will automatically download the full 11GB stablecoin dataset from SNAP if it not present at the path provided\n",
    "# If you prefer to do this external to the notebook you can pre-download it from https://snap.stanford.edu/data/ERC20-stablecoins.zip\n",
    "# Once downloaded please provide the path to the ERC20-stablecoins folder below\n",
    "\n",
    "# The loader has an optional parameter 'subset' which if set to True will only ingest the first file \"token_transfers.csv\"\n",
    "# This is suggested if running initial tests as it is only a 10th of the data\n",
    "g = graph_loader.stable_coin_graph(subset=True)"
   ]
  },
  {
   "cell_type": "code",
   "execution_count": 2,
   "id": "f6967541-7c91-4585-99c5-5b9e8f4865b5",
   "metadata": {},
   "outputs": [
    {
     "data": {
      "text/plain": [
       "['Dai', 'LUNC', 'USTC', 'USD', 'USDP', 'USDT']"
      ]
     },
     "execution_count": 2,
     "metadata": {},
     "output_type": "execute_result"
    }
   ],
   "source": [
    "all_layers = g.get_unique_layers()\n",
    "all_layers"
   ]
  },
  {
   "cell_type": "code",
   "execution_count": 3,
   "id": "719e89be-da1f-4662-8055-1c1ee658116a",
   "metadata": {},
   "outputs": [
    {
     "name": "stdout",
     "output_type": "stream",
     "text": [
      "Contract address Dai has 123876 unique transacting pairs\n",
      "Contract address LUNC has 68811 unique transacting pairs\n",
      "Contract address USTC has 41771 unique transacting pairs\n",
      "Contract address USD has 1026779 unique transacting pairs\n",
      "Contract address USDP has 4415 unique transacting pairs\n",
      "Contract address USDT has 1605617 unique transacting pairs\n"
     ]
    }
   ],
   "source": [
    "for l in all_layers:\n",
    "    print(\"Contract address {} has {} unique transacting pairs\".format(l,g.layer(l).num_edges()))"
   ]
  },
  {
   "cell_type": "code",
   "execution_count": 4,
   "id": "03254ea1-0641-4205-9289-5b2b6f6ab8af",
   "metadata": {},
   "outputs": [],
   "source": [
    "pg = algorithms.pagerank(g, 20)"
   ]
  },
  {
   "cell_type": "code",
   "execution_count": 5,
   "id": "b00ebdbb-625b-4e51-9337-5dd31155a0a4",
   "metadata": {},
   "outputs": [
    {
     "data": {
      "text/plain": [
       "[('0x28c6c06298d514db089934071355e5743bf21d60', 0.07171340390501024),\n",
       " ('0x0d0707963952f2fba59dd06f2b425ace40b492fe', 0.02896946268324041),\n",
       " ('0x503828976d22510aad0201ac7ec88293211d23da', 0.019826180105657478),\n",
       " ('0x71660c4005ba85c37ccec55d0c4493e66fe775d3', 0.01920300164775567),\n",
       " ('0x3cd751e6b0078be393132286c442345e5dc49699', 0.018267600938864866),\n",
       " ('0xb5d85cbf7cb3ee0d56b3bb207d5fc4b82f43f511', 0.018201210448803514),\n",
       " ('0x2faf487a4414fe77e2327f0bf4ae2a264a776ad2', 0.014134622881672275),\n",
       " ('0x88bd4d3e2997371bceefe8d9386c6b5b4de60346', 0.012854653398513542),\n",
       " ('0xec30d02f10353f8efc9601371f56e808751f396f', 0.01285194221467036),\n",
       " ('0x74de5d4fcbf63e00296fd95d33236b9794016631', 0.012491201438935555)]"
      ]
     },
     "execution_count": 5,
     "metadata": {},
     "output_type": "execute_result"
    }
   ],
   "source": [
    "sorted_pg = dict(sorted(pg.items(), key=lambda x: x[1], reverse=True))\n",
    "list(sorted_pg.items())[:10]"
   ]
  },
  {
   "cell_type": "code",
   "execution_count": 6,
   "id": "3ab99b65-9f3f-4441-b358-edb0182d0ded",
   "metadata": {},
   "outputs": [
    {
     "name": "stdout",
     "output_type": "stream",
     "text": [
      "Contract address Dai has 0x28c6c06298d514db089934071355e5743bf21d60? True\n",
      "Contract address LUNC has 0x28c6c06298d514db089934071355e5743bf21d60? True\n",
      "Contract address USTC has 0x28c6c06298d514db089934071355e5743bf21d60? True\n",
      "Contract address USD has 0x28c6c06298d514db089934071355e5743bf21d60? True\n",
      "Contract address USDP has 0x28c6c06298d514db089934071355e5743bf21d60? True\n",
      "Contract address USDT has 0x28c6c06298d514db089934071355e5743bf21d60? True\n"
     ]
    }
   ],
   "source": [
    "for l in all_layers:\n",
    "    print(\"Contract address {} has 0x28c6c06298d514db089934071355e5743bf21d60? {}\".format(l, g.layer(l).has_vertex(\"0x28c6c06298d514db089934071355e5743bf21d60\")))"
   ]
  },
  {
   "cell_type": "code",
   "execution_count": 7,
   "id": "94b714a5-53e3-4cf0-bf9d-cd0493fee031",
   "metadata": {},
   "outputs": [
    {
     "name": "stdout",
     "output_type": "stream",
     "text": [
      "Contract address Dai has 0x74de5d4fcbf63e00296fd95d33236b9794016631? True\n",
      "Contract address LUNC has 0x74de5d4fcbf63e00296fd95d33236b9794016631? True\n",
      "Contract address USTC has 0x74de5d4fcbf63e00296fd95d33236b9794016631? True\n",
      "Contract address USD has 0x74de5d4fcbf63e00296fd95d33236b9794016631? True\n",
      "Contract address USDP has 0x74de5d4fcbf63e00296fd95d33236b9794016631? True\n",
      "Contract address USDT has 0x74de5d4fcbf63e00296fd95d33236b9794016631? True\n"
     ]
    }
   ],
   "source": [
    "for l in all_layers:\n",
    "    print(\"Contract address {} has 0x74de5d4fcbf63e00296fd95d33236b9794016631? {}\".format(l, g.layer(l).has_vertex(\"0x74de5d4fcbf63e00296fd95d33236b9794016631\")))"
   ]
  },
  {
   "cell_type": "code",
   "execution_count": 8,
   "id": "41e82eb4-6415-41d4-aca4-0148aff57e6a",
   "metadata": {},
   "outputs": [
    {
     "name": "stdout",
     "output_type": "stream",
     "text": [
      "Important people from contract address Dai: [('0x503828976d22510aad0201ac7ec88293211d23da', 0.0021117792682171037), ('0x28c6c06298d514db089934071355e5743bf21d60', 0.002109268326748625), ('0x74de5d4fcbf63e00296fd95d33236b9794016631', 0.001314686215381458), ('0x60594a405d53811d3bc4766596efd80fd545a270', 0.0009343411267338441), ('0x5777d92f208679db4b9778590fa3cab3ac9e2168', 0.0007376593290049379), ('0xa12431d0b9db640034b0cdfceef9cce161e62be4', 0.0005977745605573248), ('0x0000000000000000000000000000000000000000', 0.0005557580661770019), ('0x2faf487a4414fe77e2327f0bf4ae2a264a776ad2', 0.0004938959820280982), ('0xa478c2975ab1ea89e8196811f51a7b7ade33eb11', 0.00046649946263294117), ('0x66c57bf505a85a74609d2c83e94aabb26d691e1f', 0.0004587428014694163)]\n",
      "\n",
      "Important people from contract address LUNC: [('0x77696bb39917c91a0c3908d577d5e322095425ca', 0.0021130216887443654), ('0x0000000000000000000000000000000000000000', 0.001041933171094226), ('0x74de5d4fcbf63e00296fd95d33236b9794016631', 0.0009952032977101702), ('0x60a39010e4892b862d1bb6bdde908215ac5af6f3', 0.0009703389032042695), ('0x16b70f44719b227278a2dc1122e8106cc929ecd1', 0.0007894346632030009), ('0x5f65f7b609678448494de4c87521cdf6cef1e932', 0.0004074223890533412), ('0x738cf6903e6c4e699d1c2dd9ab8b67fcdb3121ea', 0.00040379547359887407), ('0xf16e9b0d03470827a95cdfd0cb8a8a3b46969b91', 0.00019466230111141183), ('0x88172e5d79fe75c7aed1453e89ff5d741cfa4ca7', 0.00018847376717284398), ('0xdcad279e517d7be07934ff85949fd6598758ce0b', 0.0001239046866776076)]\n",
      "\n",
      "Important people from contract address USTC: [('0xeb2629a2734e272bcc07bda959863f316f4bd4cf', 0.0022450595237130475), ('0x28c6c06298d514db089934071355e5743bf21d60', 0.0013191731066699017), ('0x0000000000000000000000000000000000000000', 0.0011553326452446618), ('0x74de5d4fcbf63e00296fd95d33236b9794016631', 0.0004312046868643483), ('0x5f65f7b609678448494de4c87521cdf6cef1e932', 0.00032037638920894164), ('0x8b00ee8606cc70c2dce68dea0cefe632cca0fb7b', 0.00027140087491967716), ('0x2faf487a4414fe77e2327f0bf4ae2a264a776ad2', 0.00023221444431573967), ('0xf39c29d8f6851d87c40c83b61078eb7384f7cb51', 0.00019561715105894973), ('0x738cf6903e6c4e699d1c2dd9ab8b67fcdb3121ea', 0.00018673850438665033), ('0xf16e9b0d03470827a95cdfd0cb8a8a3b46969b91', 0.00017224334128381613)]\n",
      "\n",
      "Important people from contract address USD: [('0x28c6c06298d514db089934071355e5743bf21d60', 0.03564386220211256), ('0x71660c4005ba85c37ccec55d0c4493e66fe775d3', 0.01921254026398727), ('0x503828976d22510aad0201ac7ec88293211d23da', 0.01773266574021133), ('0x738cf6903e6c4e699d1c2dd9ab8b67fcdb3121ea', 0.007082460985215183), ('0x88e6a0c2ddd26feeb64f039a2c41296fcb3f5640', 0.006850283216571598), ('0x2faf487a4414fe77e2327f0bf4ae2a264a776ad2', 0.006687485906602152), ('0x74de5d4fcbf63e00296fd95d33236b9794016631', 0.006275005411829463), ('0x4f6742badb049791cd9a37ea913f2bac38d01279', 0.004920062106290066), ('0xae2d4617c862309a3d75a0ffb358c7a5009c673f', 0.0047087843345446105), ('0xa12431d0b9db640034b0cdfceef9cce161e62be4', 0.004427080597978865)]\n",
      "\n",
      "Important people from contract address USDP: [('0xa12431d0b9db640034b0cdfceef9cce161e62be4', 0.00012062275256964756), ('0xc88f7666330b4b511358b7742dc2a3234710e7b1', 0.00010551060484270038), ('0x0d0707963952f2fba59dd06f2b425ace40b492fe', 0.00010499911676578832), ('0x28c6c06298d514db089934071355e5743bf21d60', 8.184265655649742e-05), ('0x286af5cf60ae834199949bbc815485f07cc9c644', 7.040392320010067e-05), ('0x2faf487a4414fe77e2327f0bf4ae2a264a776ad2', 6.538204026314605e-05), ('0x3cd751e6b0078be393132286c442345e5dc49699', 5.589626138223171e-05), ('0xffec0067f5a79cff07527f63d83dd5462ccf8ba4', 4.473652152233241e-05), ('0x4f6742badb049791cd9a37ea913f2bac38d01279', 4.473652152233241e-05), ('0x2a549b4af9ec39b03142da6dc32221fc390b5533', 1.6279184879589104e-05)]\n",
      "\n",
      "Important people from contract address USDT: [('0x28c6c06298d514db089934071355e5743bf21d60', 0.036015525803693466), ('0x0d0707963952f2fba59dd06f2b425ace40b492fe', 0.026893736419400415), ('0x3cd751e6b0078be393132286c442345e5dc49699', 0.018223618274300354), ('0xb5d85cbf7cb3ee0d56b3bb207d5fc4b82f43f511', 0.018210376045300986), ('0xec30d02f10353f8efc9601371f56e808751f396f', 0.013076060682316969), ('0x88bd4d3e2997371bceefe8d9386c6b5b4de60346', 0.013052264552234282), ('0x2faf487a4414fe77e2327f0bf4ae2a264a776ad2', 0.007875877341863435), ('0x5041ed759dd4afc3a72b8192c143f72f4724081a', 0.007553605174484788), ('0xf60c2ea62edbfe808163751dd0d8693dcb30019c', 0.006218039900447225), ('0x74de5d4fcbf63e00296fd95d33236b9794016631', 0.005306518391712734)]\n",
      "\n"
     ]
    }
   ],
   "source": [
    "for l in all_layers:\n",
    "    pg = algorithms.pagerank(g.layer(l), 20)\n",
    "    sorted_pg = dict(sorted(pg.items(), key=lambda x: x[1], reverse=True))\n",
    "    print(\"Important people from contract address {}: {}\".format(l, list(sorted_pg.items())[:10]))\n",
    "    print()"
   ]
  },
  {
   "cell_type": "code",
   "execution_count": 9,
   "id": "25e6a1d6-7ff8-4478-b5f3-33d2734271bf",
   "metadata": {},
   "outputs": [],
   "source": [
    "luna = g.layer(\"LUNC\")"
   ]
  },
  {
   "cell_type": "code",
   "execution_count": 10,
   "id": "9320c7d3-21dd-4233-b231-79b3225092ca",
   "metadata": {},
   "outputs": [],
   "source": [
    "pg = algorithms.pagerank(luna, 20)"
   ]
  },
  {
   "cell_type": "code",
   "execution_count": 11,
   "id": "888b8c05-60e0-4311-911f-0710bf58de1c",
   "metadata": {},
   "outputs": [
    {
     "data": {
      "text/plain": [
       "0.001041933171094226"
      ]
     },
     "execution_count": 11,
     "metadata": {},
     "output_type": "execute_result"
    }
   ],
   "source": [
    "pg[\"0x0000000000000000000000000000000000000000\"]"
   ]
  },
  {
   "cell_type": "code",
   "execution_count": 12,
   "id": "95ee3f6e-445f-43fa-8616-01819a9f3cd4",
   "metadata": {},
   "outputs": [
    {
     "name": "stdout",
     "output_type": "stream",
     "text": [
      "dt_time 2022-04-28 01:30:15, Date 2022-04-28 00:30:15, Contract address Dai has 4691 transactions\n",
      "dt_time 2022-04-29 01:30:15, Date 2022-04-29 00:30:15, Contract address Dai has 5237 transactions\n",
      "dt_time 2022-04-30 01:30:15, Date 2022-04-30 00:30:15, Contract address Dai has 4828 transactions\n",
      "dt_time 2022-05-01 01:30:15, Date 2022-05-01 00:30:15, Contract address Dai has 4266 transactions\n",
      "dt_time 2022-05-02 01:30:15, Date 2022-05-02 00:30:15, Contract address Dai has 4504 transactions\n",
      "dt_time 2022-05-03 01:30:15, Date 2022-05-03 00:30:15, Contract address Dai has 4354 transactions\n",
      "dt_time 2022-05-04 01:30:15, Date 2022-05-04 00:30:15, Contract address Dai has 5202 transactions\n",
      "dt_time 2022-05-05 01:30:15, Date 2022-05-05 00:30:15, Contract address Dai has 5336 transactions\n",
      "dt_time 2022-05-06 01:30:15, Date 2022-05-06 00:30:15, Contract address Dai has 5475 transactions\n",
      "dt_time 2022-05-07 01:30:15, Date 2022-05-07 00:30:15, Contract address Dai has 5263 transactions\n",
      "dt_time 2022-05-08 01:30:15, Date 2022-05-08 00:30:15, Contract address Dai has 6584 transactions\n",
      "dt_time 2022-05-09 01:30:15, Date 2022-05-09 00:30:15, Contract address Dai has 9524 transactions\n",
      "dt_time 2022-05-10 01:30:15, Date 2022-05-10 00:30:15, Contract address Dai has 7942 transactions\n",
      "dt_time 2022-05-11 01:30:15, Date 2022-05-11 00:30:15, Contract address Dai has 10497 transactions\n",
      "dt_time 2022-05-12 01:30:15, Date 2022-05-12 00:30:15, Contract address Dai has 14508 transactions\n",
      "dt_time 2022-05-13 01:30:15, Date 2022-05-13 00:30:15, Contract address Dai has 8632 transactions\n",
      "dt_time 2022-05-14 01:30:15, Date 2022-05-14 00:30:15, Contract address Dai has 6797 transactions\n",
      "dt_time 2022-05-15 01:30:15, Date 2022-05-15 00:30:15, Contract address Dai has 6723 transactions\n",
      "dt_time 2022-05-16 01:30:15, Date 2022-05-16 00:30:15, Contract address Dai has 6913 transactions\n",
      "dt_time 2022-05-17 01:30:15, Date 2022-05-17 00:30:15, Contract address Dai has 5758 transactions\n",
      "dt_time 2022-05-18 01:30:15, Date 2022-05-18 00:30:15, Contract address Dai has 6190 transactions\n",
      "dt_time 2022-05-19 01:30:15, Date 2022-05-19 00:30:15, Contract address Dai has 6066 transactions\n",
      "dt_time 2022-05-20 01:30:15, Date 2022-05-20 00:30:15, Contract address Dai has 5728 transactions\n",
      "dt_time 2022-05-21 01:30:15, Date 2022-05-21 00:30:15, Contract address Dai has 4405 transactions\n",
      "dt_time 2022-05-22 01:30:15, Date 2022-05-22 00:30:15, Contract address Dai has 4446 transactions\n",
      "dt_time 2022-05-23 01:30:15, Date 2022-05-23 00:30:15, Contract address Dai has 5349 transactions\n",
      "dt_time 2022-05-24 01:30:15, Date 2022-05-24 00:30:15, Contract address Dai has 4937 transactions\n",
      "dt_time 2022-04-28 01:30:15, Date 2022-04-28 00:30:15, Contract address LUNC has 199 transactions\n",
      "dt_time 2022-04-29 01:30:15, Date 2022-04-29 00:30:15, Contract address LUNC has 264 transactions\n",
      "dt_time 2022-04-30 01:30:15, Date 2022-04-30 00:30:15, Contract address LUNC has 235 transactions\n",
      "dt_time 2022-05-01 01:30:15, Date 2022-05-01 00:30:15, Contract address LUNC has 206 transactions\n",
      "dt_time 2022-05-02 01:30:15, Date 2022-05-02 00:30:15, Contract address LUNC has 188 transactions\n",
      "dt_time 2022-05-03 01:30:15, Date 2022-05-03 00:30:15, Contract address LUNC has 207 transactions\n",
      "dt_time 2022-05-04 01:30:15, Date 2022-05-04 00:30:15, Contract address LUNC has 243 transactions\n",
      "dt_time 2022-05-05 01:30:15, Date 2022-05-05 00:30:15, Contract address LUNC has 341 transactions\n",
      "dt_time 2022-05-06 01:30:15, Date 2022-05-06 00:30:15, Contract address LUNC has 230 transactions\n",
      "dt_time 2022-05-07 01:30:15, Date 2022-05-07 00:30:15, Contract address LUNC has 364 transactions\n",
      "dt_time 2022-05-08 01:30:15, Date 2022-05-08 00:30:15, Contract address LUNC has 457 transactions\n",
      "dt_time 2022-05-09 01:30:15, Date 2022-05-09 00:30:15, Contract address LUNC has 841 transactions\n",
      "dt_time 2022-05-10 01:30:15, Date 2022-05-10 00:30:15, Contract address LUNC has 2165 transactions\n",
      "dt_time 2022-05-11 01:30:15, Date 2022-05-11 00:30:15, Contract address LUNC has 5203 transactions\n",
      "dt_time 2022-05-12 01:30:15, Date 2022-05-12 00:30:15, Contract address LUNC has 6372 transactions\n",
      "dt_time 2022-05-13 01:30:15, Date 2022-05-13 00:30:15, Contract address LUNC has 7952 transactions\n",
      "dt_time 2022-05-14 01:30:15, Date 2022-05-14 00:30:15, Contract address LUNC has 15255 transactions\n",
      "dt_time 2022-05-15 01:30:15, Date 2022-05-15 00:30:15, Contract address LUNC has 11456 transactions\n",
      "dt_time 2022-05-16 01:30:15, Date 2022-05-16 00:30:15, Contract address LUNC has 6131 transactions\n",
      "dt_time 2022-05-17 01:30:15, Date 2022-05-17 00:30:15, Contract address LUNC has 3349 transactions\n",
      "dt_time 2022-05-18 01:30:15, Date 2022-05-18 00:30:15, Contract address LUNC has 3403 transactions\n",
      "dt_time 2022-05-19 01:30:15, Date 2022-05-19 00:30:15, Contract address LUNC has 2346 transactions\n",
      "dt_time 2022-05-20 01:30:15, Date 2022-05-20 00:30:15, Contract address LUNC has 2083 transactions\n",
      "dt_time 2022-05-21 01:30:15, Date 2022-05-21 00:30:15, Contract address LUNC has 2082 transactions\n",
      "dt_time 2022-05-22 01:30:15, Date 2022-05-22 00:30:15, Contract address LUNC has 3451 transactions\n",
      "dt_time 2022-05-23 01:30:15, Date 2022-05-23 00:30:15, Contract address LUNC has 4010 transactions\n",
      "dt_time 2022-05-24 01:30:15, Date 2022-05-24 00:30:15, Contract address LUNC has 3401 transactions\n",
      "dt_time 2022-04-28 01:30:15, Date 2022-04-28 00:30:15, Contract address USTC has 1207 transactions\n",
      "dt_time 2022-04-29 01:30:15, Date 2022-04-29 00:30:15, Contract address USTC has 1140 transactions\n",
      "dt_time 2022-04-30 01:30:15, Date 2022-04-30 00:30:15, Contract address USTC has 1097 transactions\n",
      "dt_time 2022-05-01 01:30:15, Date 2022-05-01 00:30:15, Contract address USTC has 855 transactions\n",
      "dt_time 2022-05-02 01:30:15, Date 2022-05-02 00:30:15, Contract address USTC has 1047 transactions\n",
      "dt_time 2022-05-03 01:30:15, Date 2022-05-03 00:30:15, Contract address USTC has 1134 transactions\n",
      "dt_time 2022-05-04 01:30:15, Date 2022-05-04 00:30:15, Contract address USTC has 1121 transactions\n",
      "dt_time 2022-05-05 01:30:15, Date 2022-05-05 00:30:15, Contract address USTC has 1060 transactions\n",
      "dt_time 2022-05-06 01:30:15, Date 2022-05-06 00:30:15, Contract address USTC has 1098 transactions\n",
      "dt_time 2022-05-07 01:30:15, Date 2022-05-07 00:30:15, Contract address USTC has 1687 transactions\n",
      "dt_time 2022-05-08 01:30:15, Date 2022-05-08 00:30:15, Contract address USTC has 1819 transactions\n",
      "dt_time 2022-05-09 01:30:15, Date 2022-05-09 00:30:15, Contract address USTC has 3759 transactions\n",
      "dt_time 2022-05-10 01:30:15, Date 2022-05-10 00:30:15, Contract address USTC has 6236 transactions\n",
      "dt_time 2022-05-11 01:30:15, Date 2022-05-11 00:30:15, Contract address USTC has 7047 transactions\n",
      "dt_time 2022-05-12 01:30:15, Date 2022-05-12 00:30:15, Contract address USTC has 6074 transactions\n",
      "dt_time 2022-05-13 01:30:15, Date 2022-05-13 00:30:15, Contract address USTC has 3244 transactions\n",
      "dt_time 2022-05-14 01:30:15, Date 2022-05-14 00:30:15, Contract address USTC has 1870 transactions\n",
      "dt_time 2022-05-15 01:30:15, Date 2022-05-15 00:30:15, Contract address USTC has 1660 transactions\n",
      "dt_time 2022-05-16 01:30:15, Date 2022-05-16 00:30:15, Contract address USTC has 1429 transactions\n",
      "dt_time 2022-05-17 01:30:15, Date 2022-05-17 00:30:15, Contract address USTC has 736 transactions\n",
      "dt_time 2022-05-18 01:30:15, Date 2022-05-18 00:30:15, Contract address USTC has 935 transactions\n",
      "dt_time 2022-05-19 01:30:15, Date 2022-05-19 00:30:15, Contract address USTC has 722 transactions\n",
      "dt_time 2022-05-20 01:30:15, Date 2022-05-20 00:30:15, Contract address USTC has 613 transactions\n",
      "dt_time 2022-05-21 01:30:15, Date 2022-05-21 00:30:15, Contract address USTC has 568 transactions\n",
      "dt_time 2022-05-22 01:30:15, Date 2022-05-22 00:30:15, Contract address USTC has 497 transactions\n",
      "dt_time 2022-05-23 01:30:15, Date 2022-05-23 00:30:15, Contract address USTC has 713 transactions\n",
      "dt_time 2022-05-24 01:30:15, Date 2022-05-24 00:30:15, Contract address USTC has 1046 transactions\n",
      "dt_time 2022-04-28 01:30:15, Date 2022-04-28 00:30:15, Contract address USD has 39112 transactions\n",
      "dt_time 2022-04-29 01:30:15, Date 2022-04-29 00:30:15, Contract address USD has 42849 transactions\n",
      "dt_time 2022-04-30 01:30:15, Date 2022-04-30 00:30:15, Contract address USD has 38089 transactions\n",
      "dt_time 2022-05-01 01:30:15, Date 2022-05-01 00:30:15, Contract address USD has 31297 transactions\n",
      "dt_time 2022-05-02 01:30:15, Date 2022-05-02 00:30:15, Contract address USD has 41566 transactions\n",
      "dt_time 2022-05-03 01:30:15, Date 2022-05-03 00:30:15, Contract address USD has 37756 transactions\n",
      "dt_time 2022-05-04 01:30:15, Date 2022-05-04 00:30:15, Contract address USD has 40500 transactions\n",
      "dt_time 2022-05-05 01:30:15, Date 2022-05-05 00:30:15, Contract address USD has 70032 transactions\n",
      "dt_time 2022-05-06 01:30:15, Date 2022-05-06 00:30:15, Contract address USD has 42295 transactions\n",
      "dt_time 2022-05-07 01:30:15, Date 2022-05-07 00:30:15, Contract address USD has 36568 transactions\n",
      "dt_time 2022-05-08 01:30:15, Date 2022-05-08 00:30:15, Contract address USD has 50056 transactions\n",
      "dt_time 2022-05-09 01:30:15, Date 2022-05-09 00:30:15, Contract address USD has 63629 transactions\n",
      "dt_time 2022-05-10 01:30:15, Date 2022-05-10 00:30:15, Contract address USD has 59620 transactions\n",
      "dt_time 2022-05-11 01:30:15, Date 2022-05-11 00:30:15, Contract address USD has 74196 transactions\n",
      "dt_time 2022-05-12 01:30:15, Date 2022-05-12 00:30:15, Contract address USD has 95110 transactions\n",
      "dt_time 2022-05-13 01:30:15, Date 2022-05-13 00:30:15, Contract address USD has 68472 transactions\n",
      "dt_time 2022-05-14 01:30:15, Date 2022-05-14 00:30:15, Contract address USD has 50072 transactions\n",
      "dt_time 2022-05-15 01:30:15, Date 2022-05-15 00:30:15, Contract address USD has 45997 transactions\n",
      "dt_time 2022-05-16 01:30:15, Date 2022-05-16 00:30:15, Contract address USD has 52451 transactions\n",
      "dt_time 2022-05-17 01:30:15, Date 2022-05-17 00:30:15, Contract address USD has 46019 transactions\n",
      "dt_time 2022-05-18 01:30:15, Date 2022-05-18 00:30:15, Contract address USD has 51540 transactions\n",
      "dt_time 2022-05-19 01:30:15, Date 2022-05-19 00:30:15, Contract address USD has 45374 transactions\n",
      "dt_time 2022-05-20 01:30:15, Date 2022-05-20 00:30:15, Contract address USD has 41799 transactions\n",
      "dt_time 2022-05-21 01:30:15, Date 2022-05-21 00:30:15, Contract address USD has 30988 transactions\n",
      "dt_time 2022-05-22 01:30:15, Date 2022-05-22 00:30:15, Contract address USD has 33034 transactions\n",
      "dt_time 2022-05-23 01:30:15, Date 2022-05-23 00:30:15, Contract address USD has 44896 transactions\n",
      "dt_time 2022-05-24 01:30:15, Date 2022-05-24 00:30:15, Contract address USD has 41146 transactions\n",
      "dt_time 2022-04-28 01:30:15, Date 2022-04-28 00:30:15, Contract address USDP has 236 transactions\n",
      "dt_time 2022-04-29 01:30:15, Date 2022-04-29 00:30:15, Contract address USDP has 204 transactions\n",
      "dt_time 2022-04-30 01:30:15, Date 2022-04-30 00:30:15, Contract address USDP has 112 transactions\n",
      "dt_time 2022-05-01 01:30:15, Date 2022-05-01 00:30:15, Contract address USDP has 114 transactions\n",
      "dt_time 2022-05-02 01:30:15, Date 2022-05-02 00:30:15, Contract address USDP has 192 transactions\n",
      "dt_time 2022-05-03 01:30:15, Date 2022-05-03 00:30:15, Contract address USDP has 195 transactions\n",
      "dt_time 2022-05-04 01:30:15, Date 2022-05-04 00:30:15, Contract address USDP has 196 transactions\n",
      "dt_time 2022-05-05 01:30:15, Date 2022-05-05 00:30:15, Contract address USDP has 208 transactions\n",
      "dt_time 2022-05-06 01:30:15, Date 2022-05-06 00:30:15, Contract address USDP has 198 transactions\n",
      "dt_time 2022-05-07 01:30:15, Date 2022-05-07 00:30:15, Contract address USDP has 129 transactions\n",
      "dt_time 2022-05-08 01:30:15, Date 2022-05-08 00:30:15, Contract address USDP has 161 transactions\n",
      "dt_time 2022-05-09 01:30:15, Date 2022-05-09 00:30:15, Contract address USDP has 313 transactions\n",
      "dt_time 2022-05-10 01:30:15, Date 2022-05-10 00:30:15, Contract address USDP has 376 transactions\n",
      "dt_time 2022-05-11 01:30:15, Date 2022-05-11 00:30:15, Contract address USDP has 410 transactions\n",
      "dt_time 2022-05-12 01:30:15, Date 2022-05-12 00:30:15, Contract address USDP has 638 transactions\n",
      "dt_time 2022-05-13 01:30:15, Date 2022-05-13 00:30:15, Contract address USDP has 405 transactions\n",
      "dt_time 2022-05-14 01:30:15, Date 2022-05-14 00:30:15, Contract address USDP has 213 transactions\n",
      "dt_time 2022-05-15 01:30:15, Date 2022-05-15 00:30:15, Contract address USDP has 285 transactions\n",
      "dt_time 2022-05-16 01:30:15, Date 2022-05-16 00:30:15, Contract address USDP has 272 transactions\n",
      "dt_time 2022-05-17 01:30:15, Date 2022-05-17 00:30:15, Contract address USDP has 277 transactions\n",
      "dt_time 2022-05-18 01:30:15, Date 2022-05-18 00:30:15, Contract address USDP has 232 transactions\n",
      "dt_time 2022-05-19 01:30:15, Date 2022-05-19 00:30:15, Contract address USDP has 329 transactions\n",
      "dt_time 2022-05-20 01:30:15, Date 2022-05-20 00:30:15, Contract address USDP has 201 transactions\n",
      "dt_time 2022-05-21 01:30:15, Date 2022-05-21 00:30:15, Contract address USDP has 119 transactions\n",
      "dt_time 2022-05-22 01:30:15, Date 2022-05-22 00:30:15, Contract address USDP has 156 transactions\n",
      "dt_time 2022-05-23 01:30:15, Date 2022-05-23 00:30:15, Contract address USDP has 314 transactions\n",
      "dt_time 2022-05-24 01:30:15, Date 2022-05-24 00:30:15, Contract address USDP has 207 transactions\n",
      "dt_time 2022-04-28 01:30:15, Date 2022-04-28 00:30:15, Contract address USDT has 71237 transactions\n",
      "dt_time 2022-04-29 01:30:15, Date 2022-04-29 00:30:15, Contract address USDT has 77921 transactions\n",
      "dt_time 2022-04-30 01:30:15, Date 2022-04-30 00:30:15, Contract address USDT has 65681 transactions\n",
      "dt_time 2022-05-01 01:30:15, Date 2022-05-01 00:30:15, Contract address USDT has 54228 transactions\n",
      "dt_time 2022-05-02 01:30:15, Date 2022-05-02 00:30:15, Contract address USDT has 63697 transactions\n",
      "dt_time 2022-05-03 01:30:15, Date 2022-05-03 00:30:15, Contract address USDT has 63533 transactions\n",
      "dt_time 2022-05-04 01:30:15, Date 2022-05-04 00:30:15, Contract address USDT has 70345 transactions\n",
      "dt_time 2022-05-05 01:30:15, Date 2022-05-05 00:30:15, Contract address USDT has 73926 transactions\n",
      "dt_time 2022-05-06 01:30:15, Date 2022-05-06 00:30:15, Contract address USDT has 71430 transactions\n",
      "dt_time 2022-05-07 01:30:15, Date 2022-05-07 00:30:15, Contract address USDT has 60447 transactions\n",
      "dt_time 2022-05-08 01:30:15, Date 2022-05-08 00:30:15, Contract address USDT has 61810 transactions\n",
      "dt_time 2022-05-09 01:30:15, Date 2022-05-09 00:30:15, Contract address USDT has 91609 transactions\n",
      "dt_time 2022-05-10 01:30:15, Date 2022-05-10 00:30:15, Contract address USDT has 101350 transactions\n",
      "dt_time 2022-05-11 01:30:15, Date 2022-05-11 00:30:15, Contract address USDT has 110277 transactions\n",
      "dt_time 2022-05-12 01:30:15, Date 2022-05-12 00:30:15, Contract address USDT has 135655 transactions\n",
      "dt_time 2022-05-13 01:30:15, Date 2022-05-13 00:30:15, Contract address USDT has 113427 transactions\n",
      "dt_time 2022-05-14 01:30:15, Date 2022-05-14 00:30:15, Contract address USDT has 89688 transactions\n",
      "dt_time 2022-05-15 01:30:15, Date 2022-05-15 00:30:15, Contract address USDT has 69832 transactions\n",
      "dt_time 2022-05-16 01:30:15, Date 2022-05-16 00:30:15, Contract address USDT has 82023 transactions\n",
      "dt_time 2022-05-17 01:30:15, Date 2022-05-17 00:30:15, Contract address USDT has 85771 transactions\n",
      "dt_time 2022-05-18 01:30:15, Date 2022-05-18 00:30:15, Contract address USDT has 86573 transactions\n",
      "dt_time 2022-05-19 01:30:15, Date 2022-05-19 00:30:15, Contract address USDT has 67908 transactions\n",
      "dt_time 2022-05-20 01:30:15, Date 2022-05-20 00:30:15, Contract address USDT has 67374 transactions\n",
      "dt_time 2022-05-21 01:30:15, Date 2022-05-21 00:30:15, Contract address USDT has 51222 transactions\n",
      "dt_time 2022-05-22 01:30:15, Date 2022-05-22 00:30:15, Contract address USDT has 47785 transactions\n",
      "dt_time 2022-05-23 01:30:15, Date 2022-05-23 00:30:15, Contract address USDT has 66711 transactions\n",
      "dt_time 2022-05-24 01:30:15, Date 2022-05-24 00:30:15, Contract address USDT has 66097 transactions\n"
     ]
    }
   ],
   "source": [
    "for l in all_layers:\n",
    "    for w in g.layer(l).rolling(step='1 day', window='1 day'):\n",
    "        print(\"dt_time {}, Date {}, Contract address {} has {} transactions\".format(datetime.fromtimestamp(w.start() / 1000), w.start_date_time(), l,w.layer(l).num_edges()))"
   ]
  },
  {
   "cell_type": "code",
   "execution_count": 13,
   "id": "9c97fbfa-b692-438a-aa6e-6aff925c232e",
   "metadata": {},
   "outputs": [],
   "source": [
    "events = [['2022-05-12', 'LUNA Crash']]\n",
    "events = pd.DataFrame(events, columns=['Time', 'event'])\n",
    "event_rules = alt.Chart(events).mark_rule(color='gray').encode(x='Time:T')\n",
    "labels = alt.Chart(events).mark_text(dx=3, dy=-120, color='black', align='left').encode(\n",
    "    x='Time:T',\n",
    "    text='event'\n",
    ")\n",
    "event_chart = alt.layer(event_rules, labels)"
   ]
  },
  {
   "cell_type": "code",
   "execution_count": 14,
   "id": "6e42d0d4-0fdb-4ffb-b85f-85a4bb3296aa",
   "metadata": {},
   "outputs": [
    {
     "data": {
      "text/html": [
       "\n",
       "<div id=\"altair-viz-388d7c787b424133ba7665be73e68228\"></div>\n",
       "<script type=\"text/javascript\">\n",
       "  var VEGA_DEBUG = (typeof VEGA_DEBUG == \"undefined\") ? {} : VEGA_DEBUG;\n",
       "  (function(spec, embedOpt){\n",
       "    let outputDiv = document.currentScript.previousElementSibling;\n",
       "    if (outputDiv.id !== \"altair-viz-388d7c787b424133ba7665be73e68228\") {\n",
       "      outputDiv = document.getElementById(\"altair-viz-388d7c787b424133ba7665be73e68228\");\n",
       "    }\n",
       "    const paths = {\n",
       "      \"vega\": \"https://cdn.jsdelivr.net/npm//vega@5?noext\",\n",
       "      \"vega-lib\": \"https://cdn.jsdelivr.net/npm//vega-lib?noext\",\n",
       "      \"vega-lite\": \"https://cdn.jsdelivr.net/npm//vega-lite@4.17.0?noext\",\n",
       "      \"vega-embed\": \"https://cdn.jsdelivr.net/npm//vega-embed@6?noext\",\n",
       "    };\n",
       "\n",
       "    function maybeLoadScript(lib, version) {\n",
       "      var key = `${lib.replace(\"-\", \"\")}_version`;\n",
       "      return (VEGA_DEBUG[key] == version) ?\n",
       "        Promise.resolve(paths[lib]) :\n",
       "        new Promise(function(resolve, reject) {\n",
       "          var s = document.createElement('script');\n",
       "          document.getElementsByTagName(\"head\")[0].appendChild(s);\n",
       "          s.async = true;\n",
       "          s.onload = () => {\n",
       "            VEGA_DEBUG[key] = version;\n",
       "            return resolve(paths[lib]);\n",
       "          };\n",
       "          s.onerror = () => reject(`Error loading script: ${paths[lib]}`);\n",
       "          s.src = paths[lib];\n",
       "        });\n",
       "    }\n",
       "\n",
       "    function showError(err) {\n",
       "      outputDiv.innerHTML = `<div class=\"error\" style=\"color:red;\">${err}</div>`;\n",
       "      throw err;\n",
       "    }\n",
       "\n",
       "    function displayChart(vegaEmbed) {\n",
       "      vegaEmbed(outputDiv, spec, embedOpt)\n",
       "        .catch(err => showError(`Javascript Error: ${err.message}<br>This usually means there's a typo in your chart specification. See the javascript console for the full traceback.`));\n",
       "    }\n",
       "\n",
       "    if(typeof define === \"function\" && define.amd) {\n",
       "      requirejs.config({paths});\n",
       "      require([\"vega-embed\"], displayChart, err => showError(`Error loading script: ${err.message}`));\n",
       "    } else {\n",
       "      maybeLoadScript(\"vega\", \"5\")\n",
       "        .then(() => maybeLoadScript(\"vega-lite\", \"4.17.0\"))\n",
       "        .then(() => maybeLoadScript(\"vega-embed\", \"6\"))\n",
       "        .catch(showError)\n",
       "        .then(() => displayChart(vegaEmbed));\n",
       "    }\n",
       "  })({\"config\": {\"view\": {\"continuousWidth\": 400, \"continuousHeight\": 300}}, \"layer\": [{\"data\": {\"name\": \"data-34f20bcf95cada5a6e006a1be36e6f30\"}, \"mark\": \"line\", \"encoding\": {\"color\": {\"field\": \"Layer\", \"type\": \"nominal\"}, \"opacity\": {\"condition\": {\"value\": 1.0, \"selection\": \"selector001\"}, \"value\": 0.2}, \"tooltip\": [{\"field\": \"Layer\", \"type\": \"nominal\"}, {\"field\": \"Tnx Count\", \"type\": \"quantitative\"}], \"x\": {\"field\": \"Time\", \"type\": \"temporal\"}, \"y\": {\"field\": \"Tnx Count\", \"type\": \"quantitative\"}}, \"selection\": {\"selector001\": {\"type\": \"multi\", \"fields\": [\"layer\"], \"bind\": \"legend\"}}, \"width\": 800}, {\"layer\": [{\"mark\": {\"type\": \"rule\", \"color\": \"gray\"}, \"encoding\": {\"x\": {\"field\": \"Time\", \"type\": \"temporal\"}}}, {\"mark\": {\"type\": \"text\", \"align\": \"left\", \"color\": \"black\", \"dx\": 3, \"dy\": -120}, \"encoding\": {\"text\": {\"field\": \"event\", \"type\": \"nominal\"}, \"x\": {\"field\": \"Time\", \"type\": \"temporal\"}}}], \"data\": {\"name\": \"data-03a7e27a271f30803a3f9052d97f8a33\"}}], \"$schema\": \"https://vega.github.io/schema/vega-lite/v4.17.0.json\", \"datasets\": {\"data-34f20bcf95cada5a6e006a1be36e6f30\": [{\"Time\": \"2022-04-29T00:30:15\", \"Layer\": \"Dai\", \"Tnx Count\": 4691}, {\"Time\": \"2022-04-30T00:30:15\", \"Layer\": \"Dai\", \"Tnx Count\": 5237}, {\"Time\": \"2022-05-01T00:30:15\", \"Layer\": \"Dai\", \"Tnx Count\": 4828}, {\"Time\": \"2022-05-02T00:30:15\", \"Layer\": \"Dai\", \"Tnx Count\": 4266}, {\"Time\": \"2022-05-03T00:30:15\", \"Layer\": \"Dai\", \"Tnx Count\": 4504}, {\"Time\": \"2022-05-04T00:30:15\", \"Layer\": \"Dai\", \"Tnx Count\": 4354}, {\"Time\": \"2022-05-05T00:30:15\", \"Layer\": \"Dai\", \"Tnx Count\": 5202}, {\"Time\": \"2022-05-06T00:30:15\", \"Layer\": \"Dai\", \"Tnx Count\": 5336}, {\"Time\": \"2022-05-07T00:30:15\", \"Layer\": \"Dai\", \"Tnx Count\": 5475}, {\"Time\": \"2022-05-08T00:30:15\", \"Layer\": \"Dai\", \"Tnx Count\": 5263}, {\"Time\": \"2022-05-09T00:30:15\", \"Layer\": \"Dai\", \"Tnx Count\": 6584}, {\"Time\": \"2022-05-10T00:30:15\", \"Layer\": \"Dai\", \"Tnx Count\": 9524}, {\"Time\": \"2022-05-11T00:30:15\", \"Layer\": \"Dai\", \"Tnx Count\": 7942}, {\"Time\": \"2022-05-12T00:30:15\", \"Layer\": \"Dai\", \"Tnx Count\": 10497}, {\"Time\": \"2022-05-13T00:30:15\", \"Layer\": \"Dai\", \"Tnx Count\": 14508}, {\"Time\": \"2022-05-14T00:30:15\", \"Layer\": \"Dai\", \"Tnx Count\": 8632}, {\"Time\": \"2022-05-15T00:30:15\", \"Layer\": \"Dai\", \"Tnx Count\": 6797}, {\"Time\": \"2022-05-16T00:30:15\", \"Layer\": \"Dai\", \"Tnx Count\": 6723}, {\"Time\": \"2022-05-17T00:30:15\", \"Layer\": \"Dai\", \"Tnx Count\": 6913}, {\"Time\": \"2022-05-18T00:30:15\", \"Layer\": \"Dai\", \"Tnx Count\": 5758}, {\"Time\": \"2022-05-19T00:30:15\", \"Layer\": \"Dai\", \"Tnx Count\": 6190}, {\"Time\": \"2022-05-20T00:30:15\", \"Layer\": \"Dai\", \"Tnx Count\": 6066}, {\"Time\": \"2022-05-21T00:30:15\", \"Layer\": \"Dai\", \"Tnx Count\": 5728}, {\"Time\": \"2022-05-22T00:30:15\", \"Layer\": \"Dai\", \"Tnx Count\": 4405}, {\"Time\": \"2022-05-23T00:30:15\", \"Layer\": \"Dai\", \"Tnx Count\": 4446}, {\"Time\": \"2022-05-24T00:30:15\", \"Layer\": \"Dai\", \"Tnx Count\": 5349}, {\"Time\": \"2022-05-25T00:30:15\", \"Layer\": \"Dai\", \"Tnx Count\": 4937}, {\"Time\": \"2022-04-29T00:30:15\", \"Layer\": \"USTC\", \"Tnx Count\": 1207}, {\"Time\": \"2022-04-30T00:30:15\", \"Layer\": \"USTC\", \"Tnx Count\": 1140}, {\"Time\": \"2022-05-01T00:30:15\", \"Layer\": \"USTC\", \"Tnx Count\": 1097}, {\"Time\": \"2022-05-02T00:30:15\", \"Layer\": \"USTC\", \"Tnx Count\": 855}, {\"Time\": \"2022-05-03T00:30:15\", \"Layer\": \"USTC\", \"Tnx Count\": 1047}, {\"Time\": \"2022-05-04T00:30:15\", \"Layer\": \"USTC\", \"Tnx Count\": 1134}, {\"Time\": \"2022-05-05T00:30:15\", \"Layer\": \"USTC\", \"Tnx Count\": 1121}, {\"Time\": \"2022-05-06T00:30:15\", \"Layer\": \"USTC\", \"Tnx Count\": 1060}, {\"Time\": \"2022-05-07T00:30:15\", \"Layer\": \"USTC\", \"Tnx Count\": 1098}, {\"Time\": \"2022-05-08T00:30:15\", \"Layer\": \"USTC\", \"Tnx Count\": 1687}, {\"Time\": \"2022-05-09T00:30:15\", \"Layer\": \"USTC\", \"Tnx Count\": 1819}, {\"Time\": \"2022-05-10T00:30:15\", \"Layer\": \"USTC\", \"Tnx Count\": 3759}, {\"Time\": \"2022-05-11T00:30:15\", \"Layer\": \"USTC\", \"Tnx Count\": 6236}, {\"Time\": \"2022-05-12T00:30:15\", \"Layer\": \"USTC\", \"Tnx Count\": 7047}, {\"Time\": \"2022-05-13T00:30:15\", \"Layer\": \"USTC\", \"Tnx Count\": 6074}, {\"Time\": \"2022-05-14T00:30:15\", \"Layer\": \"USTC\", \"Tnx Count\": 3244}, {\"Time\": \"2022-05-15T00:30:15\", \"Layer\": \"USTC\", \"Tnx Count\": 1870}, {\"Time\": \"2022-05-16T00:30:15\", \"Layer\": \"USTC\", \"Tnx Count\": 1660}, {\"Time\": \"2022-05-17T00:30:15\", \"Layer\": \"USTC\", \"Tnx Count\": 1429}, {\"Time\": \"2022-05-18T00:30:15\", \"Layer\": \"USTC\", \"Tnx Count\": 736}, {\"Time\": \"2022-05-19T00:30:15\", \"Layer\": \"USTC\", \"Tnx Count\": 935}, {\"Time\": \"2022-05-20T00:30:15\", \"Layer\": \"USTC\", \"Tnx Count\": 722}, {\"Time\": \"2022-05-21T00:30:15\", \"Layer\": \"USTC\", \"Tnx Count\": 613}, {\"Time\": \"2022-05-22T00:30:15\", \"Layer\": \"USTC\", \"Tnx Count\": 568}, {\"Time\": \"2022-05-23T00:30:15\", \"Layer\": \"USTC\", \"Tnx Count\": 497}, {\"Time\": \"2022-05-24T00:30:15\", \"Layer\": \"USTC\", \"Tnx Count\": 713}, {\"Time\": \"2022-05-25T00:30:15\", \"Layer\": \"USTC\", \"Tnx Count\": 1046}, {\"Time\": \"2022-04-29T00:30:15\", \"Layer\": \"LUNC\", \"Tnx Count\": 199}, {\"Time\": \"2022-04-30T00:30:15\", \"Layer\": \"LUNC\", \"Tnx Count\": 264}, {\"Time\": \"2022-05-01T00:30:15\", \"Layer\": \"LUNC\", \"Tnx Count\": 235}, {\"Time\": \"2022-05-02T00:30:15\", \"Layer\": \"LUNC\", \"Tnx Count\": 206}, {\"Time\": \"2022-05-03T00:30:15\", \"Layer\": \"LUNC\", \"Tnx Count\": 188}, {\"Time\": \"2022-05-04T00:30:15\", \"Layer\": \"LUNC\", \"Tnx Count\": 207}, {\"Time\": \"2022-05-05T00:30:15\", \"Layer\": \"LUNC\", \"Tnx Count\": 243}, {\"Time\": \"2022-05-06T00:30:15\", \"Layer\": \"LUNC\", \"Tnx Count\": 341}, {\"Time\": \"2022-05-07T00:30:15\", \"Layer\": \"LUNC\", \"Tnx Count\": 230}, {\"Time\": \"2022-05-08T00:30:15\", \"Layer\": \"LUNC\", \"Tnx Count\": 364}, {\"Time\": \"2022-05-09T00:30:15\", \"Layer\": \"LUNC\", \"Tnx Count\": 457}, {\"Time\": \"2022-05-10T00:30:15\", \"Layer\": \"LUNC\", \"Tnx Count\": 841}, {\"Time\": \"2022-05-11T00:30:15\", \"Layer\": \"LUNC\", \"Tnx Count\": 2165}, {\"Time\": \"2022-05-12T00:30:15\", \"Layer\": \"LUNC\", \"Tnx Count\": 5203}, {\"Time\": \"2022-05-13T00:30:15\", \"Layer\": \"LUNC\", \"Tnx Count\": 6372}, {\"Time\": \"2022-05-14T00:30:15\", \"Layer\": \"LUNC\", \"Tnx Count\": 7952}, {\"Time\": \"2022-05-15T00:30:15\", \"Layer\": \"LUNC\", \"Tnx Count\": 15255}, {\"Time\": \"2022-05-16T00:30:15\", \"Layer\": \"LUNC\", \"Tnx Count\": 11456}, {\"Time\": \"2022-05-17T00:30:15\", \"Layer\": \"LUNC\", \"Tnx Count\": 6131}, {\"Time\": \"2022-05-18T00:30:15\", \"Layer\": \"LUNC\", \"Tnx Count\": 3349}, {\"Time\": \"2022-05-19T00:30:15\", \"Layer\": \"LUNC\", \"Tnx Count\": 3403}, {\"Time\": \"2022-05-20T00:30:15\", \"Layer\": \"LUNC\", \"Tnx Count\": 2346}, {\"Time\": \"2022-05-21T00:30:15\", \"Layer\": \"LUNC\", \"Tnx Count\": 2083}, {\"Time\": \"2022-05-22T00:30:15\", \"Layer\": \"LUNC\", \"Tnx Count\": 2082}, {\"Time\": \"2022-05-23T00:30:15\", \"Layer\": \"LUNC\", \"Tnx Count\": 3451}, {\"Time\": \"2022-05-24T00:30:15\", \"Layer\": \"LUNC\", \"Tnx Count\": 4010}, {\"Time\": \"2022-05-25T00:30:15\", \"Layer\": \"LUNC\", \"Tnx Count\": 3401}, {\"Time\": \"2022-04-29T00:30:15\", \"Layer\": \"USDP\", \"Tnx Count\": 236}, {\"Time\": \"2022-04-30T00:30:15\", \"Layer\": \"USDP\", \"Tnx Count\": 204}, {\"Time\": \"2022-05-01T00:30:15\", \"Layer\": \"USDP\", \"Tnx Count\": 112}, {\"Time\": \"2022-05-02T00:30:15\", \"Layer\": \"USDP\", \"Tnx Count\": 114}, {\"Time\": \"2022-05-03T00:30:15\", \"Layer\": \"USDP\", \"Tnx Count\": 192}, {\"Time\": \"2022-05-04T00:30:15\", \"Layer\": \"USDP\", \"Tnx Count\": 195}, {\"Time\": \"2022-05-05T00:30:15\", \"Layer\": \"USDP\", \"Tnx Count\": 196}, {\"Time\": \"2022-05-06T00:30:15\", \"Layer\": \"USDP\", \"Tnx Count\": 208}, {\"Time\": \"2022-05-07T00:30:15\", \"Layer\": \"USDP\", \"Tnx Count\": 198}, {\"Time\": \"2022-05-08T00:30:15\", \"Layer\": \"USDP\", \"Tnx Count\": 129}, {\"Time\": \"2022-05-09T00:30:15\", \"Layer\": \"USDP\", \"Tnx Count\": 161}, {\"Time\": \"2022-05-10T00:30:15\", \"Layer\": \"USDP\", \"Tnx Count\": 313}, {\"Time\": \"2022-05-11T00:30:15\", \"Layer\": \"USDP\", \"Tnx Count\": 376}, {\"Time\": \"2022-05-12T00:30:15\", \"Layer\": \"USDP\", \"Tnx Count\": 410}, {\"Time\": \"2022-05-13T00:30:15\", \"Layer\": \"USDP\", \"Tnx Count\": 638}, {\"Time\": \"2022-05-14T00:30:15\", \"Layer\": \"USDP\", \"Tnx Count\": 405}, {\"Time\": \"2022-05-15T00:30:15\", \"Layer\": \"USDP\", \"Tnx Count\": 213}, {\"Time\": \"2022-05-16T00:30:15\", \"Layer\": \"USDP\", \"Tnx Count\": 285}, {\"Time\": \"2022-05-17T00:30:15\", \"Layer\": \"USDP\", \"Tnx Count\": 272}, {\"Time\": \"2022-05-18T00:30:15\", \"Layer\": \"USDP\", \"Tnx Count\": 277}, {\"Time\": \"2022-05-19T00:30:15\", \"Layer\": \"USDP\", \"Tnx Count\": 232}, {\"Time\": \"2022-05-20T00:30:15\", \"Layer\": \"USDP\", \"Tnx Count\": 329}, {\"Time\": \"2022-05-21T00:30:15\", \"Layer\": \"USDP\", \"Tnx Count\": 201}, {\"Time\": \"2022-05-22T00:30:15\", \"Layer\": \"USDP\", \"Tnx Count\": 119}, {\"Time\": \"2022-05-23T00:30:15\", \"Layer\": \"USDP\", \"Tnx Count\": 156}, {\"Time\": \"2022-05-24T00:30:15\", \"Layer\": \"USDP\", \"Tnx Count\": 314}, {\"Time\": \"2022-05-25T00:30:15\", \"Layer\": \"USDP\", \"Tnx Count\": 207}], \"data-03a7e27a271f30803a3f9052d97f8a33\": [{\"Time\": \"2022-05-12\", \"event\": \"LUNA Crash\"}]}}, {\"mode\": \"vega-lite\"});\n",
       "</script>"
      ],
      "text/plain": [
       "alt.LayerChart(...)"
      ]
     },
     "execution_count": 14,
     "metadata": {},
     "output_type": "execute_result"
    }
   ],
   "source": [
    "result = pd.DataFrame()\n",
    "\n",
    "all_layers = g.get_unique_layers()\n",
    "avoid_layers = ['USD', 'USDT']\n",
    "layers = set(all_layers) - set(avoid_layers)\n",
    "\n",
    "rolling = g.rolling(step='1 day', window='1 day')\n",
    "for l in layers:\n",
    "    result[l] = [w.layer(l).num_edges() for w in rolling]\n",
    "\n",
    "result['Time'] = [w.end_date_time() for w in rolling]\n",
    "\n",
    "source = pd.melt(result, id_vars=['Time'], value_vars=layers, var_name='Layer', value_name='Tnx Count')\n",
    "selection = alt.selection_multi(fields=['layer'], bind='legend')\n",
    "chart = alt.Chart(source).mark_line().encode(\n",
    "    x=\"Time:T\",\n",
    "    y=f\"{'Tnx Count'}:Q\",\n",
    "    color=\"Layer\",\n",
    "    tooltip=['Layer', 'Tnx Count'],\n",
    "    opacity=alt.condition(selection, alt.value(1.0), alt.value(0.2))\n",
    ").properties(\n",
    "    width=800,\n",
    ").add_selection(\n",
    "    selection\n",
    ")\n",
    "\n",
    "alt.layer(chart, event_chart)"
   ]
  },
  {
   "cell_type": "code",
   "execution_count": 15,
   "id": "6ec6b48f-b016-4152-8806-09a1a792e8f9",
   "metadata": {},
   "outputs": [
    {
     "data": {
      "text/html": [
       "\n",
       "<div id=\"altair-viz-a8564c4b31264c8baea035c718c5082f\"></div>\n",
       "<script type=\"text/javascript\">\n",
       "  var VEGA_DEBUG = (typeof VEGA_DEBUG == \"undefined\") ? {} : VEGA_DEBUG;\n",
       "  (function(spec, embedOpt){\n",
       "    let outputDiv = document.currentScript.previousElementSibling;\n",
       "    if (outputDiv.id !== \"altair-viz-a8564c4b31264c8baea035c718c5082f\") {\n",
       "      outputDiv = document.getElementById(\"altair-viz-a8564c4b31264c8baea035c718c5082f\");\n",
       "    }\n",
       "    const paths = {\n",
       "      \"vega\": \"https://cdn.jsdelivr.net/npm//vega@5?noext\",\n",
       "      \"vega-lib\": \"https://cdn.jsdelivr.net/npm//vega-lib?noext\",\n",
       "      \"vega-lite\": \"https://cdn.jsdelivr.net/npm//vega-lite@4.17.0?noext\",\n",
       "      \"vega-embed\": \"https://cdn.jsdelivr.net/npm//vega-embed@6?noext\",\n",
       "    };\n",
       "\n",
       "    function maybeLoadScript(lib, version) {\n",
       "      var key = `${lib.replace(\"-\", \"\")}_version`;\n",
       "      return (VEGA_DEBUG[key] == version) ?\n",
       "        Promise.resolve(paths[lib]) :\n",
       "        new Promise(function(resolve, reject) {\n",
       "          var s = document.createElement('script');\n",
       "          document.getElementsByTagName(\"head\")[0].appendChild(s);\n",
       "          s.async = true;\n",
       "          s.onload = () => {\n",
       "            VEGA_DEBUG[key] = version;\n",
       "            return resolve(paths[lib]);\n",
       "          };\n",
       "          s.onerror = () => reject(`Error loading script: ${paths[lib]}`);\n",
       "          s.src = paths[lib];\n",
       "        });\n",
       "    }\n",
       "\n",
       "    function showError(err) {\n",
       "      outputDiv.innerHTML = `<div class=\"error\" style=\"color:red;\">${err}</div>`;\n",
       "      throw err;\n",
       "    }\n",
       "\n",
       "    function displayChart(vegaEmbed) {\n",
       "      vegaEmbed(outputDiv, spec, embedOpt)\n",
       "        .catch(err => showError(`Javascript Error: ${err.message}<br>This usually means there's a typo in your chart specification. See the javascript console for the full traceback.`));\n",
       "    }\n",
       "\n",
       "    if(typeof define === \"function\" && define.amd) {\n",
       "      requirejs.config({paths});\n",
       "      require([\"vega-embed\"], displayChart, err => showError(`Error loading script: ${err.message}`));\n",
       "    } else {\n",
       "      maybeLoadScript(\"vega\", \"5\")\n",
       "        .then(() => maybeLoadScript(\"vega-lite\", \"4.17.0\"))\n",
       "        .then(() => maybeLoadScript(\"vega-embed\", \"6\"))\n",
       "        .catch(showError)\n",
       "        .then(() => displayChart(vegaEmbed));\n",
       "    }\n",
       "  })({\"config\": {\"view\": {\"continuousWidth\": 400, \"continuousHeight\": 300}}, \"layer\": [{\"data\": {\"name\": \"data-c18ebb3e75f82b9bc981094b076bab64\"}, \"mark\": \"line\", \"encoding\": {\"color\": {\"field\": \"Layer\", \"type\": \"nominal\"}, \"opacity\": {\"condition\": {\"value\": 1.0, \"selection\": \"selector002\"}, \"value\": 0.2}, \"tooltip\": [{\"field\": \"Layer\", \"type\": \"nominal\"}, {\"field\": \"Tnx Count\", \"type\": \"quantitative\"}], \"x\": {\"field\": \"Time\", \"type\": \"temporal\"}, \"y\": {\"field\": \"Tnx Count\", \"type\": \"quantitative\"}}, \"selection\": {\"selector002\": {\"type\": \"multi\", \"fields\": [\"Layer\"], \"bind\": \"legend\"}}, \"width\": 800}, {\"layer\": [{\"mark\": {\"type\": \"rule\", \"color\": \"gray\"}, \"encoding\": {\"x\": {\"field\": \"Time\", \"type\": \"temporal\"}}}, {\"mark\": {\"type\": \"text\", \"align\": \"left\", \"color\": \"black\", \"dx\": 3, \"dy\": -120}, \"encoding\": {\"text\": {\"field\": \"event\", \"type\": \"nominal\"}, \"x\": {\"field\": \"Time\", \"type\": \"temporal\"}}}], \"data\": {\"name\": \"data-03a7e27a271f30803a3f9052d97f8a33\"}}], \"$schema\": \"https://vega.github.io/schema/vega-lite/v4.17.0.json\", \"datasets\": {\"data-c18ebb3e75f82b9bc981094b076bab64\": [{\"Time\": \"2022-04-29T00:30:15\", \"Layer\": \"Dai\", \"Tnx Count\": 4691}, {\"Time\": \"2022-04-30T00:30:15\", \"Layer\": \"Dai\", \"Tnx Count\": 9354}, {\"Time\": \"2022-05-01T00:30:15\", \"Layer\": \"Dai\", \"Tnx Count\": 13320}, {\"Time\": \"2022-05-02T00:30:15\", \"Layer\": \"Dai\", \"Tnx Count\": 16726}, {\"Time\": \"2022-05-03T00:30:15\", \"Layer\": \"Dai\", \"Tnx Count\": 20277}, {\"Time\": \"2022-05-04T00:30:15\", \"Layer\": \"Dai\", \"Tnx Count\": 23619}, {\"Time\": \"2022-05-05T00:30:15\", \"Layer\": \"Dai\", \"Tnx Count\": 27573}, {\"Time\": \"2022-05-06T00:30:15\", \"Layer\": \"Dai\", \"Tnx Count\": 27979}, {\"Time\": \"2022-05-07T00:30:15\", \"Layer\": \"Dai\", \"Tnx Count\": 28247}, {\"Time\": \"2022-05-08T00:30:15\", \"Layer\": \"Dai\", \"Tnx Count\": 28687}, {\"Time\": \"2022-05-09T00:30:15\", \"Layer\": \"Dai\", \"Tnx Count\": 30485}, {\"Time\": \"2022-05-10T00:30:15\", \"Layer\": \"Dai\", \"Tnx Count\": 34299}, {\"Time\": \"2022-05-11T00:30:15\", \"Layer\": \"Dai\", \"Tnx Count\": 36807}, {\"Time\": \"2022-05-12T00:30:15\", \"Layer\": \"Dai\", \"Tnx Count\": 40505}, {\"Time\": \"2022-05-13T00:30:15\", \"Layer\": \"Dai\", \"Tnx Count\": 47643}, {\"Time\": \"2022-05-14T00:30:15\", \"Layer\": \"Dai\", \"Tnx Count\": 50119}, {\"Time\": \"2022-05-15T00:30:15\", \"Layer\": \"Dai\", \"Tnx Count\": 51283}, {\"Time\": \"2022-05-16T00:30:15\", \"Layer\": \"Dai\", \"Tnx Count\": 51792}, {\"Time\": \"2022-05-17T00:30:15\", \"Layer\": \"Dai\", \"Tnx Count\": 50398}, {\"Time\": \"2022-05-18T00:30:15\", \"Layer\": \"Dai\", \"Tnx Count\": 49152}, {\"Time\": \"2022-05-19T00:30:15\", \"Layer\": \"Dai\", \"Tnx Count\": 46053}, {\"Time\": \"2022-05-20T00:30:15\", \"Layer\": \"Dai\", \"Tnx Count\": 38730}, {\"Time\": \"2022-05-21T00:30:15\", \"Layer\": \"Dai\", \"Tnx Count\": 36378}, {\"Time\": \"2022-05-22T00:30:15\", \"Layer\": \"Dai\", \"Tnx Count\": 34603}, {\"Time\": \"2022-05-23T00:30:15\", \"Layer\": \"Dai\", \"Tnx Count\": 32736}, {\"Time\": \"2022-05-24T00:30:15\", \"Layer\": \"Dai\", \"Tnx Count\": 31336}, {\"Time\": \"2022-05-25T00:30:15\", \"Layer\": \"Dai\", \"Tnx Count\": 30640}, {\"Time\": \"2022-04-29T00:30:15\", \"Layer\": \"USTC\", \"Tnx Count\": 1207}, {\"Time\": \"2022-04-30T00:30:15\", \"Layer\": \"USTC\", \"Tnx Count\": 2231}, {\"Time\": \"2022-05-01T00:30:15\", \"Layer\": \"USTC\", \"Tnx Count\": 3195}, {\"Time\": \"2022-05-02T00:30:15\", \"Layer\": \"USTC\", \"Tnx Count\": 3921}, {\"Time\": \"2022-05-03T00:30:15\", \"Layer\": \"USTC\", \"Tnx Count\": 4770}, {\"Time\": \"2022-05-04T00:30:15\", \"Layer\": \"USTC\", \"Tnx Count\": 5671}, {\"Time\": \"2022-05-05T00:30:15\", \"Layer\": \"USTC\", \"Tnx Count\": 6553}, {\"Time\": \"2022-05-06T00:30:15\", \"Layer\": \"USTC\", \"Tnx Count\": 6389}, {\"Time\": \"2022-05-07T00:30:15\", \"Layer\": \"USTC\", \"Tnx Count\": 6366}, {\"Time\": \"2022-05-08T00:30:15\", \"Layer\": \"USTC\", \"Tnx Count\": 6911}, {\"Time\": \"2022-05-09T00:30:15\", \"Layer\": \"USTC\", \"Tnx Count\": 7719}, {\"Time\": \"2022-05-10T00:30:15\", \"Layer\": \"USTC\", \"Tnx Count\": 10193}, {\"Time\": \"2022-05-11T00:30:15\", \"Layer\": \"USTC\", \"Tnx Count\": 14799}, {\"Time\": \"2022-05-12T00:30:15\", \"Layer\": \"USTC\", \"Tnx Count\": 19772}, {\"Time\": \"2022-05-13T00:30:15\", \"Layer\": \"USTC\", \"Tnx Count\": 24111}, {\"Time\": \"2022-05-14T00:30:15\", \"Layer\": \"USTC\", \"Tnx Count\": 25941}, {\"Time\": \"2022-05-15T00:30:15\", \"Layer\": \"USTC\", \"Tnx Count\": 26144}, {\"Time\": \"2022-05-16T00:30:15\", \"Layer\": \"USTC\", \"Tnx Count\": 26053}, {\"Time\": \"2022-05-17T00:30:15\", \"Layer\": \"USTC\", \"Tnx Count\": 24041}, {\"Time\": \"2022-05-18T00:30:15\", \"Layer\": \"USTC\", \"Tnx Count\": 19525}, {\"Time\": \"2022-05-19T00:30:15\", \"Layer\": \"USTC\", \"Tnx Count\": 14112}, {\"Time\": \"2022-05-20T00:30:15\", \"Layer\": \"USTC\", \"Tnx Count\": 9133}, {\"Time\": \"2022-05-21T00:30:15\", \"Layer\": \"USTC\", \"Tnx Count\": 6717}, {\"Time\": \"2022-05-22T00:30:15\", \"Layer\": \"USTC\", \"Tnx Count\": 5566}, {\"Time\": \"2022-05-23T00:30:15\", \"Layer\": \"USTC\", \"Tnx Count\": 4567}, {\"Time\": \"2022-05-24T00:30:15\", \"Layer\": \"USTC\", \"Tnx Count\": 3940}, {\"Time\": \"2022-05-25T00:30:15\", \"Layer\": \"USTC\", \"Tnx Count\": 4279}, {\"Time\": \"2022-04-29T00:30:15\", \"Layer\": \"LUNC\", \"Tnx Count\": 199}, {\"Time\": \"2022-04-30T00:30:15\", \"Layer\": \"LUNC\", \"Tnx Count\": 432}, {\"Time\": \"2022-05-01T00:30:15\", \"Layer\": \"LUNC\", \"Tnx Count\": 621}, {\"Time\": \"2022-05-02T00:30:15\", \"Layer\": \"LUNC\", \"Tnx Count\": 789}, {\"Time\": \"2022-05-03T00:30:15\", \"Layer\": \"LUNC\", \"Tnx Count\": 936}, {\"Time\": \"2022-05-04T00:30:15\", \"Layer\": \"LUNC\", \"Tnx Count\": 1101}, {\"Time\": \"2022-05-05T00:30:15\", \"Layer\": \"LUNC\", \"Tnx Count\": 1284}, {\"Time\": \"2022-05-06T00:30:15\", \"Layer\": \"LUNC\", \"Tnx Count\": 1418}, {\"Time\": \"2022-05-07T00:30:15\", \"Layer\": \"LUNC\", \"Tnx Count\": 1425}, {\"Time\": \"2022-05-08T00:30:15\", \"Layer\": \"LUNC\", \"Tnx Count\": 1519}, {\"Time\": \"2022-05-09T00:30:15\", \"Layer\": \"LUNC\", \"Tnx Count\": 1721}, {\"Time\": \"2022-05-10T00:30:15\", \"Layer\": \"LUNC\", \"Tnx Count\": 2277}, {\"Time\": \"2022-05-11T00:30:15\", \"Layer\": \"LUNC\", \"Tnx Count\": 4013}, {\"Time\": \"2022-05-12T00:30:15\", \"Layer\": \"LUNC\", \"Tnx Count\": 8496}, {\"Time\": \"2022-05-13T00:30:15\", \"Layer\": \"LUNC\", \"Tnx Count\": 13708}, {\"Time\": \"2022-05-14T00:30:15\", \"Layer\": \"LUNC\", \"Tnx Count\": 20370}, {\"Time\": \"2022-05-15T00:30:15\", \"Layer\": \"LUNC\", \"Tnx Count\": 33824}, {\"Time\": \"2022-05-16T00:30:15\", \"Layer\": \"LUNC\", \"Tnx Count\": 42222}, {\"Time\": \"2022-05-17T00:30:15\", \"Layer\": \"LUNC\", \"Tnx Count\": 45834}, {\"Time\": \"2022-05-18T00:30:15\", \"Layer\": \"LUNC\", \"Tnx Count\": 46683}, {\"Time\": \"2022-05-19T00:30:15\", \"Layer\": \"LUNC\", \"Tnx Count\": 45192}, {\"Time\": \"2022-05-20T00:30:15\", \"Layer\": \"LUNC\", \"Tnx Count\": 41798}, {\"Time\": \"2022-05-21T00:30:15\", \"Layer\": \"LUNC\", \"Tnx Count\": 37166}, {\"Time\": \"2022-05-22T00:30:15\", \"Layer\": \"LUNC\", \"Tnx Count\": 26492}, {\"Time\": \"2022-05-23T00:30:15\", \"Layer\": \"LUNC\", \"Tnx Count\": 19564}, {\"Time\": \"2022-05-24T00:30:15\", \"Layer\": \"LUNC\", \"Tnx Count\": 17920}, {\"Time\": \"2022-05-25T00:30:15\", \"Layer\": \"LUNC\", \"Tnx Count\": 18134}, {\"Time\": \"2022-04-29T00:30:15\", \"Layer\": \"USDP\", \"Tnx Count\": 236}, {\"Time\": \"2022-04-30T00:30:15\", \"Layer\": \"USDP\", \"Tnx Count\": 406}, {\"Time\": \"2022-05-01T00:30:15\", \"Layer\": \"USDP\", \"Tnx Count\": 485}, {\"Time\": \"2022-05-02T00:30:15\", \"Layer\": \"USDP\", \"Tnx Count\": 566}, {\"Time\": \"2022-05-03T00:30:15\", \"Layer\": \"USDP\", \"Tnx Count\": 694}, {\"Time\": \"2022-05-04T00:30:15\", \"Layer\": \"USDP\", \"Tnx Count\": 826}, {\"Time\": \"2022-05-05T00:30:15\", \"Layer\": \"USDP\", \"Tnx Count\": 933}, {\"Time\": \"2022-05-06T00:30:15\", \"Layer\": \"USDP\", \"Tnx Count\": 883}, {\"Time\": \"2022-05-07T00:30:15\", \"Layer\": \"USDP\", \"Tnx Count\": 868}, {\"Time\": \"2022-05-08T00:30:15\", \"Layer\": \"USDP\", \"Tnx Count\": 879}, {\"Time\": \"2022-05-09T00:30:15\", \"Layer\": \"USDP\", \"Tnx Count\": 911}, {\"Time\": \"2022-05-10T00:30:15\", \"Layer\": \"USDP\", \"Tnx Count\": 993}, {\"Time\": \"2022-05-11T00:30:15\", \"Layer\": \"USDP\", \"Tnx Count\": 1115}, {\"Time\": \"2022-05-12T00:30:15\", \"Layer\": \"USDP\", \"Tnx Count\": 1281}, {\"Time\": \"2022-05-13T00:30:15\", \"Layer\": \"USDP\", \"Tnx Count\": 1619}, {\"Time\": \"2022-05-14T00:30:15\", \"Layer\": \"USDP\", \"Tnx Count\": 1786}, {\"Time\": \"2022-05-15T00:30:15\", \"Layer\": \"USDP\", \"Tnx Count\": 1854}, {\"Time\": \"2022-05-16T00:30:15\", \"Layer\": \"USDP\", \"Tnx Count\": 1999}, {\"Time\": \"2022-05-17T00:30:15\", \"Layer\": \"USDP\", \"Tnx Count\": 1992}, {\"Time\": \"2022-05-18T00:30:15\", \"Layer\": \"USDP\", \"Tnx Count\": 1965}, {\"Time\": \"2022-05-19T00:30:15\", \"Layer\": \"USDP\", \"Tnx Count\": 1876}, {\"Time\": \"2022-05-20T00:30:15\", \"Layer\": \"USDP\", \"Tnx Count\": 1646}, {\"Time\": \"2022-05-21T00:30:15\", \"Layer\": \"USDP\", \"Tnx Count\": 1476}, {\"Time\": \"2022-05-22T00:30:15\", \"Layer\": \"USDP\", \"Tnx Count\": 1412}, {\"Time\": \"2022-05-23T00:30:15\", \"Layer\": \"USDP\", \"Tnx Count\": 1310}, {\"Time\": \"2022-05-24T00:30:15\", \"Layer\": \"USDP\", \"Tnx Count\": 1372}, {\"Time\": \"2022-05-25T00:30:15\", \"Layer\": \"USDP\", \"Tnx Count\": 1304}], \"data-03a7e27a271f30803a3f9052d97f8a33\": [{\"Time\": \"2022-05-12\", \"event\": \"LUNA Crash\"}]}}, {\"mode\": \"vega-lite\"});\n",
       "</script>"
      ],
      "text/plain": [
       "alt.LayerChart(...)"
      ]
     },
     "execution_count": 15,
     "metadata": {},
     "output_type": "execute_result"
    }
   ],
   "source": [
    "result = pd.DataFrame()\n",
    "all_layers = g.get_unique_layers()\n",
    "avoid_layers = ['USD', 'USDT']\n",
    "layers = set(all_layers) - set(avoid_layers)\n",
    "\n",
    "rolling = g.rolling(step='1 day', window='1 week')\n",
    "for l in layers:\n",
    "    result[l] = [w.layer(l).num_edges() for w in rolling]\n",
    "\n",
    "result['Time'] = [w.end_date_time() for w in rolling]\n",
    "\n",
    "source = pd.melt(result, id_vars=['Time'], value_vars=layers, var_name='Layer', value_name='Tnx Count')\n",
    "selection = alt.selection_multi(fields=['Layer'], bind='legend')\n",
    "chart = alt.Chart(source).mark_line().encode(\n",
    "    x=\"Time:T\",\n",
    "    y=f\"{'Tnx Count'}:Q\",\n",
    "    color=\"Layer\",\n",
    "    tooltip=['Layer', 'Tnx Count'],\n",
    "    opacity=alt.condition(selection, alt.value(1.0), alt.value(0.2))\n",
    ").properties(\n",
    "    width=800,\n",
    ").add_selection(\n",
    "    selection\n",
    ")\n",
    "\n",
    "alt.layer(chart, event_chart)"
   ]
  },
  {
   "cell_type": "code",
   "execution_count": 16,
   "id": "f01a4451-ce19-4b55-b390-b8672eb51d23",
   "metadata": {},
   "outputs": [
    {
     "data": {
      "text/html": [
       "\n",
       "<div id=\"altair-viz-b2a99b730ee241988ac866c8c5441f1f\"></div>\n",
       "<script type=\"text/javascript\">\n",
       "  var VEGA_DEBUG = (typeof VEGA_DEBUG == \"undefined\") ? {} : VEGA_DEBUG;\n",
       "  (function(spec, embedOpt){\n",
       "    let outputDiv = document.currentScript.previousElementSibling;\n",
       "    if (outputDiv.id !== \"altair-viz-b2a99b730ee241988ac866c8c5441f1f\") {\n",
       "      outputDiv = document.getElementById(\"altair-viz-b2a99b730ee241988ac866c8c5441f1f\");\n",
       "    }\n",
       "    const paths = {\n",
       "      \"vega\": \"https://cdn.jsdelivr.net/npm//vega@5?noext\",\n",
       "      \"vega-lib\": \"https://cdn.jsdelivr.net/npm//vega-lib?noext\",\n",
       "      \"vega-lite\": \"https://cdn.jsdelivr.net/npm//vega-lite@4.17.0?noext\",\n",
       "      \"vega-embed\": \"https://cdn.jsdelivr.net/npm//vega-embed@6?noext\",\n",
       "    };\n",
       "\n",
       "    function maybeLoadScript(lib, version) {\n",
       "      var key = `${lib.replace(\"-\", \"\")}_version`;\n",
       "      return (VEGA_DEBUG[key] == version) ?\n",
       "        Promise.resolve(paths[lib]) :\n",
       "        new Promise(function(resolve, reject) {\n",
       "          var s = document.createElement('script');\n",
       "          document.getElementsByTagName(\"head\")[0].appendChild(s);\n",
       "          s.async = true;\n",
       "          s.onload = () => {\n",
       "            VEGA_DEBUG[key] = version;\n",
       "            return resolve(paths[lib]);\n",
       "          };\n",
       "          s.onerror = () => reject(`Error loading script: ${paths[lib]}`);\n",
       "          s.src = paths[lib];\n",
       "        });\n",
       "    }\n",
       "\n",
       "    function showError(err) {\n",
       "      outputDiv.innerHTML = `<div class=\"error\" style=\"color:red;\">${err}</div>`;\n",
       "      throw err;\n",
       "    }\n",
       "\n",
       "    function displayChart(vegaEmbed) {\n",
       "      vegaEmbed(outputDiv, spec, embedOpt)\n",
       "        .catch(err => showError(`Javascript Error: ${err.message}<br>This usually means there's a typo in your chart specification. See the javascript console for the full traceback.`));\n",
       "    }\n",
       "\n",
       "    if(typeof define === \"function\" && define.amd) {\n",
       "      requirejs.config({paths});\n",
       "      require([\"vega-embed\"], displayChart, err => showError(`Error loading script: ${err.message}`));\n",
       "    } else {\n",
       "      maybeLoadScript(\"vega\", \"5\")\n",
       "        .then(() => maybeLoadScript(\"vega-lite\", \"4.17.0\"))\n",
       "        .then(() => maybeLoadScript(\"vega-embed\", \"6\"))\n",
       "        .catch(showError)\n",
       "        .then(() => displayChart(vegaEmbed));\n",
       "    }\n",
       "  })({\"config\": {\"view\": {\"continuousWidth\": 400, \"continuousHeight\": 300}}, \"layer\": [{\"data\": {\"name\": \"data-8e4e58ed3af4d44d39b7cf7b01e7f330\"}, \"mark\": \"line\", \"encoding\": {\"x\": {\"field\": \"Time\", \"type\": \"temporal\"}, \"y\": {\"field\": \"Tnx Count\", \"type\": \"quantitative\"}}, \"selection\": {\"selector002\": {\"type\": \"multi\", \"fields\": [\"Layer\"], \"bind\": \"legend\"}}, \"width\": 800}, {\"layer\": [{\"mark\": {\"type\": \"rule\", \"color\": \"gray\"}, \"encoding\": {\"x\": {\"field\": \"Time\", \"type\": \"temporal\"}}}, {\"mark\": {\"type\": \"text\", \"align\": \"left\", \"color\": \"black\", \"dx\": 3, \"dy\": -120}, \"encoding\": {\"text\": {\"field\": \"event\", \"type\": \"nominal\"}, \"x\": {\"field\": \"Time\", \"type\": \"temporal\"}}}], \"data\": {\"name\": \"data-03a7e27a271f30803a3f9052d97f8a33\"}}], \"$schema\": \"https://vega.github.io/schema/vega-lite/v4.17.0.json\", \"datasets\": {\"data-8e4e58ed3af4d44d39b7cf7b01e7f330\": [{\"Tnx Count\": 199, \"Time\": \"2022-04-29T00:30:15\"}, {\"Tnx Count\": 432, \"Time\": \"2022-04-30T00:30:15\"}, {\"Tnx Count\": 621, \"Time\": \"2022-05-01T00:30:15\"}, {\"Tnx Count\": 789, \"Time\": \"2022-05-02T00:30:15\"}, {\"Tnx Count\": 936, \"Time\": \"2022-05-03T00:30:15\"}, {\"Tnx Count\": 1101, \"Time\": \"2022-05-04T00:30:15\"}, {\"Tnx Count\": 1284, \"Time\": \"2022-05-05T00:30:15\"}, {\"Tnx Count\": 1418, \"Time\": \"2022-05-06T00:30:15\"}, {\"Tnx Count\": 1425, \"Time\": \"2022-05-07T00:30:15\"}, {\"Tnx Count\": 1519, \"Time\": \"2022-05-08T00:30:15\"}, {\"Tnx Count\": 1721, \"Time\": \"2022-05-09T00:30:15\"}, {\"Tnx Count\": 2277, \"Time\": \"2022-05-10T00:30:15\"}, {\"Tnx Count\": 4013, \"Time\": \"2022-05-11T00:30:15\"}, {\"Tnx Count\": 8496, \"Time\": \"2022-05-12T00:30:15\"}, {\"Tnx Count\": 13708, \"Time\": \"2022-05-13T00:30:15\"}, {\"Tnx Count\": 20370, \"Time\": \"2022-05-14T00:30:15\"}, {\"Tnx Count\": 33824, \"Time\": \"2022-05-15T00:30:15\"}, {\"Tnx Count\": 42222, \"Time\": \"2022-05-16T00:30:15\"}, {\"Tnx Count\": 45834, \"Time\": \"2022-05-17T00:30:15\"}, {\"Tnx Count\": 46683, \"Time\": \"2022-05-18T00:30:15\"}, {\"Tnx Count\": 45192, \"Time\": \"2022-05-19T00:30:15\"}, {\"Tnx Count\": 41798, \"Time\": \"2022-05-20T00:30:15\"}, {\"Tnx Count\": 37166, \"Time\": \"2022-05-21T00:30:15\"}, {\"Tnx Count\": 26492, \"Time\": \"2022-05-22T00:30:15\"}, {\"Tnx Count\": 19564, \"Time\": \"2022-05-23T00:30:15\"}, {\"Tnx Count\": 17920, \"Time\": \"2022-05-24T00:30:15\"}, {\"Tnx Count\": 18134, \"Time\": \"2022-05-25T00:30:15\"}], \"data-03a7e27a271f30803a3f9052d97f8a33\": [{\"Time\": \"2022-05-12\", \"event\": \"LUNA Crash\"}]}}, {\"mode\": \"vega-lite\"});\n",
       "</script>"
      ],
      "text/plain": [
       "alt.LayerChart(...)"
      ]
     },
     "execution_count": 16,
     "metadata": {},
     "output_type": "execute_result"
    }
   ],
   "source": [
    "result = pd.DataFrame()\n",
    "\n",
    "rolling = g.rolling(step='1 day', window='1 week')\n",
    "\n",
    "result['Tnx Count'] = [w.layer('LUNC').num_edges() for w in rolling]\n",
    "result['Time'] = [w.layer('LUNC').end_date_time() for w in rolling]\n",
    "\n",
    "chart = alt.Chart(result).mark_line().encode(\n",
    "    x=\"Time:T\",\n",
    "    y=\"Tnx Count:Q\",\n",
    ").properties(\n",
    "    width=800,\n",
    ").add_selection(\n",
    "    selection\n",
    ")\n",
    "\n",
    "alt.layer(chart, event_chart)"
   ]
  },
  {
   "cell_type": "code",
   "execution_count": 17,
   "id": "108d9ba5-315f-404f-a371-b893b5e86963",
   "metadata": {},
   "outputs": [
    {
     "data": {
      "text/html": [
       "\n",
       "<div id=\"altair-viz-4bf2404647614c6c980a91818c0509ca\"></div>\n",
       "<script type=\"text/javascript\">\n",
       "  var VEGA_DEBUG = (typeof VEGA_DEBUG == \"undefined\") ? {} : VEGA_DEBUG;\n",
       "  (function(spec, embedOpt){\n",
       "    let outputDiv = document.currentScript.previousElementSibling;\n",
       "    if (outputDiv.id !== \"altair-viz-4bf2404647614c6c980a91818c0509ca\") {\n",
       "      outputDiv = document.getElementById(\"altair-viz-4bf2404647614c6c980a91818c0509ca\");\n",
       "    }\n",
       "    const paths = {\n",
       "      \"vega\": \"https://cdn.jsdelivr.net/npm//vega@5?noext\",\n",
       "      \"vega-lib\": \"https://cdn.jsdelivr.net/npm//vega-lib?noext\",\n",
       "      \"vega-lite\": \"https://cdn.jsdelivr.net/npm//vega-lite@4.17.0?noext\",\n",
       "      \"vega-embed\": \"https://cdn.jsdelivr.net/npm//vega-embed@6?noext\",\n",
       "    };\n",
       "\n",
       "    function maybeLoadScript(lib, version) {\n",
       "      var key = `${lib.replace(\"-\", \"\")}_version`;\n",
       "      return (VEGA_DEBUG[key] == version) ?\n",
       "        Promise.resolve(paths[lib]) :\n",
       "        new Promise(function(resolve, reject) {\n",
       "          var s = document.createElement('script');\n",
       "          document.getElementsByTagName(\"head\")[0].appendChild(s);\n",
       "          s.async = true;\n",
       "          s.onload = () => {\n",
       "            VEGA_DEBUG[key] = version;\n",
       "            return resolve(paths[lib]);\n",
       "          };\n",
       "          s.onerror = () => reject(`Error loading script: ${paths[lib]}`);\n",
       "          s.src = paths[lib];\n",
       "        });\n",
       "    }\n",
       "\n",
       "    function showError(err) {\n",
       "      outputDiv.innerHTML = `<div class=\"error\" style=\"color:red;\">${err}</div>`;\n",
       "      throw err;\n",
       "    }\n",
       "\n",
       "    function displayChart(vegaEmbed) {\n",
       "      vegaEmbed(outputDiv, spec, embedOpt)\n",
       "        .catch(err => showError(`Javascript Error: ${err.message}<br>This usually means there's a typo in your chart specification. See the javascript console for the full traceback.`));\n",
       "    }\n",
       "\n",
       "    if(typeof define === \"function\" && define.amd) {\n",
       "      requirejs.config({paths});\n",
       "      require([\"vega-embed\"], displayChart, err => showError(`Error loading script: ${err.message}`));\n",
       "    } else {\n",
       "      maybeLoadScript(\"vega\", \"5\")\n",
       "        .then(() => maybeLoadScript(\"vega-lite\", \"4.17.0\"))\n",
       "        .then(() => maybeLoadScript(\"vega-embed\", \"6\"))\n",
       "        .catch(showError)\n",
       "        .then(() => displayChart(vegaEmbed));\n",
       "    }\n",
       "  })({\"config\": {\"view\": {\"continuousWidth\": 400, \"continuousHeight\": 300}}, \"layer\": [{\"data\": {\"name\": \"data-f376a7b32d9aed44d714538bd4ecec21\"}, \"mark\": \"line\", \"encoding\": {\"x\": {\"field\": \"Time\", \"type\": \"temporal\"}, \"y\": {\"field\": \"Page Rank\", \"type\": \"quantitative\"}}, \"width\": 800}, {\"layer\": [{\"mark\": {\"type\": \"rule\", \"color\": \"gray\"}, \"encoding\": {\"x\": {\"field\": \"Time\", \"type\": \"temporal\"}}}, {\"mark\": {\"type\": \"text\", \"align\": \"left\", \"color\": \"black\", \"dx\": 3, \"dy\": -120}, \"encoding\": {\"text\": {\"field\": \"event\", \"type\": \"nominal\"}, \"x\": {\"field\": \"Time\", \"type\": \"temporal\"}}}], \"data\": {\"name\": \"data-03a7e27a271f30803a3f9052d97f8a33\"}}], \"$schema\": \"https://vega.github.io/schema/vega-lite/v4.17.0.json\", \"datasets\": {\"data-f376a7b32d9aed44d714538bd4ecec21\": [{\"Page Rank\": 1.2026863513160783e-05, \"Time\": \"2022-04-29T00:30:15\"}, {\"Page Rank\": 6.479551434164985e-06, \"Time\": \"2022-04-30T00:30:15\"}, {\"Page Rank\": 4.76417308215142e-06, \"Time\": \"2022-05-01T00:30:15\"}, {\"Page Rank\": 3.936306407304258e-06, \"Time\": \"2022-05-02T00:30:15\"}, {\"Page Rank\": 3.2418941450424297e-06, \"Time\": \"2022-05-03T00:30:15\"}, {\"Page Rank\": 2.7992798308525644e-06, \"Time\": \"2022-05-04T00:30:15\"}, {\"Page Rank\": 2.4668894085635253e-06, \"Time\": \"2022-05-05T00:30:15\"}, {\"Page Rank\": 2.298561975786916e-06, \"Time\": \"2022-05-06T00:30:15\"}, {\"Page Rank\": 2.3016985124941565e-06, \"Time\": \"2022-05-07T00:30:15\"}, {\"Page Rank\": 2.306269221929829e-06, \"Time\": \"2022-05-08T00:30:15\"}, {\"Page Rank\": 2.222680478485348e-06, \"Time\": \"2022-05-09T00:30:15\"}, {\"Page Rank\": 2.0983406584019262e-06, \"Time\": \"2022-05-10T00:30:15\"}, {\"Page Rank\": 1.9802383172456926e-06, \"Time\": \"2022-05-11T00:30:15\"}, {\"Page Rank\": 1.8243057480759273e-06, \"Time\": \"2022-05-12T00:30:15\"}, {\"Page Rank\": 1.7032983197798791e-06, \"Time\": \"2022-05-13T00:30:15\"}, {\"Page Rank\": 1.6129296388818096e-06, \"Time\": \"2022-05-14T00:30:15\"}, {\"Page Rank\": 1.5361434305823498e-06, \"Time\": \"2022-05-15T00:30:15\"}, {\"Page Rank\": 1.5193717289871455e-06, \"Time\": \"2022-05-16T00:30:15\"}, {\"Page Rank\": 1.5094651314453127e-06, \"Time\": \"2022-05-17T00:30:15\"}, {\"Page Rank\": 1.5257455331542652e-06, \"Time\": \"2022-05-18T00:30:15\"}, {\"Page Rank\": 1.538573292332637e-06, \"Time\": \"2022-05-19T00:30:15\"}, {\"Page Rank\": 1.7015902366568136e-06, \"Time\": \"2022-05-20T00:30:15\"}, {\"Page Rank\": 1.8404609622942745e-06, \"Time\": \"2022-05-21T00:30:15\"}, {\"Page Rank\": 1.9860248308357723e-06, \"Time\": \"2022-05-22T00:30:15\"}, {\"Page Rank\": 2.0958589121110843e-06, \"Time\": \"2022-05-23T00:30:15\"}, {\"Page Rank\": 2.1698700531233473e-06, \"Time\": \"2022-05-24T00:30:15\"}, {\"Page Rank\": 2.253857289013015e-06, \"Time\": \"2022-05-25T00:30:15\"}], \"data-03a7e27a271f30803a3f9052d97f8a33\": [{\"Time\": \"2022-05-12\", \"event\": \"LUNA Crash\"}]}}, {\"mode\": \"vega-lite\"});\n",
       "</script>"
      ],
      "text/plain": [
       "alt.LayerChart(...)"
      ]
     },
     "execution_count": 17,
     "metadata": {},
     "output_type": "execute_result"
    }
   ],
   "source": [
    "result = pd.DataFrame()\n",
    "\n",
    "rolling = g.rolling(step='1 day', window='1 week')\n",
    "\n",
    "result['Page Rank'] = [algorithms.pagerank(w.layer('LUNC'), 20)[\"0xd30b438df65f4f788563b2b3611bd6059bff4ad9\"] for w in rolling]\n",
    "result['Time'] = [w.layer('LUNC').end_date_time() for w in rolling]\n",
    "\n",
    "chart = alt.Chart(result).mark_line().encode(\n",
    "    x=\"Time:T\",\n",
    "    y=\"Page Rank:Q\",\n",
    ").properties(\n",
    "    width=800,\n",
    ")\n",
    "\n",
    "alt.layer(chart, event_chart)"
   ]
  },
  {
   "cell_type": "code",
   "execution_count": 18,
   "id": "0111d335-6ad6-4153-bcee-2e9f6da37692",
   "metadata": {},
   "outputs": [
    {
     "data": {
      "text/html": [
       "\n",
       "<div id=\"altair-viz-242ea001b85b4a09b3452ae74b130ca0\"></div>\n",
       "<script type=\"text/javascript\">\n",
       "  var VEGA_DEBUG = (typeof VEGA_DEBUG == \"undefined\") ? {} : VEGA_DEBUG;\n",
       "  (function(spec, embedOpt){\n",
       "    let outputDiv = document.currentScript.previousElementSibling;\n",
       "    if (outputDiv.id !== \"altair-viz-242ea001b85b4a09b3452ae74b130ca0\") {\n",
       "      outputDiv = document.getElementById(\"altair-viz-242ea001b85b4a09b3452ae74b130ca0\");\n",
       "    }\n",
       "    const paths = {\n",
       "      \"vega\": \"https://cdn.jsdelivr.net/npm//vega@5?noext\",\n",
       "      \"vega-lib\": \"https://cdn.jsdelivr.net/npm//vega-lib?noext\",\n",
       "      \"vega-lite\": \"https://cdn.jsdelivr.net/npm//vega-lite@4.17.0?noext\",\n",
       "      \"vega-embed\": \"https://cdn.jsdelivr.net/npm//vega-embed@6?noext\",\n",
       "    };\n",
       "\n",
       "    function maybeLoadScript(lib, version) {\n",
       "      var key = `${lib.replace(\"-\", \"\")}_version`;\n",
       "      return (VEGA_DEBUG[key] == version) ?\n",
       "        Promise.resolve(paths[lib]) :\n",
       "        new Promise(function(resolve, reject) {\n",
       "          var s = document.createElement('script');\n",
       "          document.getElementsByTagName(\"head\")[0].appendChild(s);\n",
       "          s.async = true;\n",
       "          s.onload = () => {\n",
       "            VEGA_DEBUG[key] = version;\n",
       "            return resolve(paths[lib]);\n",
       "          };\n",
       "          s.onerror = () => reject(`Error loading script: ${paths[lib]}`);\n",
       "          s.src = paths[lib];\n",
       "        });\n",
       "    }\n",
       "\n",
       "    function showError(err) {\n",
       "      outputDiv.innerHTML = `<div class=\"error\" style=\"color:red;\">${err}</div>`;\n",
       "      throw err;\n",
       "    }\n",
       "\n",
       "    function displayChart(vegaEmbed) {\n",
       "      vegaEmbed(outputDiv, spec, embedOpt)\n",
       "        .catch(err => showError(`Javascript Error: ${err.message}<br>This usually means there's a typo in your chart specification. See the javascript console for the full traceback.`));\n",
       "    }\n",
       "\n",
       "    if(typeof define === \"function\" && define.amd) {\n",
       "      requirejs.config({paths});\n",
       "      require([\"vega-embed\"], displayChart, err => showError(`Error loading script: ${err.message}`));\n",
       "    } else {\n",
       "      maybeLoadScript(\"vega\", \"5\")\n",
       "        .then(() => maybeLoadScript(\"vega-lite\", \"4.17.0\"))\n",
       "        .then(() => maybeLoadScript(\"vega-embed\", \"6\"))\n",
       "        .catch(showError)\n",
       "        .then(() => displayChart(vegaEmbed));\n",
       "    }\n",
       "  })({\"config\": {\"view\": {\"continuousWidth\": 400, \"continuousHeight\": 300}}, \"layer\": [{\"data\": {\"name\": \"data-ecbbef42f1d5e29e7a3cbe903c0a05fa\"}, \"mark\": \"line\", \"encoding\": {\"color\": {\"field\": \"Layer\", \"type\": \"nominal\"}, \"opacity\": {\"condition\": {\"value\": 1.0, \"selection\": \"selector003\"}, \"value\": 0.2}, \"tooltip\": [{\"field\": \"Layer\", \"type\": \"nominal\"}, {\"field\": \"Page Rank\", \"type\": \"quantitative\"}], \"x\": {\"field\": \"Time\", \"type\": \"temporal\"}, \"y\": {\"field\": \"Page Rank\", \"type\": \"quantitative\"}}, \"selection\": {\"selector003\": {\"type\": \"multi\", \"fields\": [\"Layer\"], \"bind\": \"legend\"}}, \"width\": 800}, {\"layer\": [{\"mark\": {\"type\": \"rule\", \"color\": \"gray\"}, \"encoding\": {\"x\": {\"field\": \"Time\", \"type\": \"temporal\"}}}, {\"mark\": {\"type\": \"text\", \"align\": \"left\", \"color\": \"black\", \"dx\": 3, \"dy\": -120}, \"encoding\": {\"text\": {\"field\": \"event\", \"type\": \"nominal\"}, \"x\": {\"field\": \"Time\", \"type\": \"temporal\"}}}], \"data\": {\"name\": \"data-03a7e27a271f30803a3f9052d97f8a33\"}}], \"$schema\": \"https://vega.github.io/schema/vega-lite/v4.17.0.json\", \"datasets\": {\"data-ecbbef42f1d5e29e7a3cbe903c0a05fa\": [{\"Time\": \"2022-04-29T00:30:15\", \"Layer\": \"Dai\", \"Page Rank\": 0.0011272242258707089}, {\"Time\": \"2022-04-30T00:30:15\", \"Layer\": \"Dai\", \"Page Rank\": 0.0013462703963559412}, {\"Time\": \"2022-05-01T00:30:15\", \"Layer\": \"Dai\", \"Page Rank\": 0.0013223571302725507}, {\"Time\": \"2022-05-02T00:30:15\", \"Layer\": \"Dai\", \"Page Rank\": 0.0013539345489471197}, {\"Time\": \"2022-05-03T00:30:15\", \"Layer\": \"Dai\", \"Page Rank\": 0.0014406483522870295}, {\"Time\": \"2022-05-04T00:30:15\", \"Layer\": \"Dai\", \"Page Rank\": 0.0015322554568988575}, {\"Time\": \"2022-05-05T00:30:15\", \"Layer\": \"Dai\", \"Page Rank\": 0.0016254022375639056}, {\"Time\": \"2022-05-06T00:30:15\", \"Layer\": \"Dai\", \"Page Rank\": 0.001540142076962651}, {\"Time\": \"2022-05-07T00:30:15\", \"Layer\": \"Dai\", \"Page Rank\": 0.0015598768289842167}, {\"Time\": \"2022-05-08T00:30:15\", \"Layer\": \"Dai\", \"Page Rank\": 0.0015984443424873786}, {\"Time\": \"2022-05-09T00:30:15\", \"Layer\": \"Dai\", \"Page Rank\": 0.0016068631667608935}, {\"Time\": \"2022-05-10T00:30:15\", \"Layer\": \"Dai\", \"Page Rank\": 0.001624687024513495}, {\"Time\": \"2022-05-11T00:30:15\", \"Layer\": \"Dai\", \"Page Rank\": 0.0015996716046520318}, {\"Time\": \"2022-05-12T00:30:15\", \"Layer\": \"Dai\", \"Page Rank\": 0.001585535567262399}, {\"Time\": \"2022-05-13T00:30:15\", \"Layer\": \"Dai\", \"Page Rank\": 0.001720506964139194}, {\"Time\": \"2022-05-14T00:30:15\", \"Layer\": \"Dai\", \"Page Rank\": 0.0017415181488607554}, {\"Time\": \"2022-05-15T00:30:15\", \"Layer\": \"Dai\", \"Page Rank\": 0.0017476120702484314}, {\"Time\": \"2022-05-16T00:30:15\", \"Layer\": \"Dai\", \"Page Rank\": 0.0017663705146370309}, {\"Time\": \"2022-05-17T00:30:15\", \"Layer\": \"Dai\", \"Page Rank\": 0.0017606292248676164}, {\"Time\": \"2022-05-18T00:30:15\", \"Layer\": \"Dai\", \"Page Rank\": 0.0017453867031721644}, {\"Time\": \"2022-05-19T00:30:15\", \"Layer\": \"Dai\", \"Page Rank\": 0.0016756008807474708}, {\"Time\": \"2022-05-20T00:30:15\", \"Layer\": \"Dai\", \"Page Rank\": 0.0016231989061230969}, {\"Time\": \"2022-05-21T00:30:15\", \"Layer\": \"Dai\", \"Page Rank\": 0.001583691728536264}, {\"Time\": \"2022-05-22T00:30:15\", \"Layer\": \"Dai\", \"Page Rank\": 0.0016196029897182981}, {\"Time\": \"2022-05-23T00:30:15\", \"Layer\": \"Dai\", \"Page Rank\": 0.0017443087169931914}, {\"Time\": \"2022-05-24T00:30:15\", \"Layer\": \"Dai\", \"Page Rank\": 0.0016669520074157078}, {\"Time\": \"2022-05-25T00:30:15\", \"Layer\": \"Dai\", \"Page Rank\": 0.0017208770517852408}, {\"Time\": \"2022-04-29T00:30:15\", \"Layer\": \"LUNC\", \"Page Rank\": 1.2026863513160783e-05}, {\"Time\": \"2022-04-30T00:30:15\", \"Layer\": \"LUNC\", \"Page Rank\": 6.479551434164985e-06}, {\"Time\": \"2022-05-01T00:30:15\", \"Layer\": \"LUNC\", \"Page Rank\": 4.76417308215142e-06}, {\"Time\": \"2022-05-02T00:30:15\", \"Layer\": \"LUNC\", \"Page Rank\": 3.936306407304258e-06}, {\"Time\": \"2022-05-03T00:30:15\", \"Layer\": \"LUNC\", \"Page Rank\": 3.2418941450424297e-06}, {\"Time\": \"2022-05-04T00:30:15\", \"Layer\": \"LUNC\", \"Page Rank\": 2.7992798308525644e-06}, {\"Time\": \"2022-05-05T00:30:15\", \"Layer\": \"LUNC\", \"Page Rank\": 2.4668894085635253e-06}, {\"Time\": \"2022-05-06T00:30:15\", \"Layer\": \"LUNC\", \"Page Rank\": 2.298561975786916e-06}, {\"Time\": \"2022-05-07T00:30:15\", \"Layer\": \"LUNC\", \"Page Rank\": 2.3016985124941565e-06}, {\"Time\": \"2022-05-08T00:30:15\", \"Layer\": \"LUNC\", \"Page Rank\": 2.306269221929829e-06}, {\"Time\": \"2022-05-09T00:30:15\", \"Layer\": \"LUNC\", \"Page Rank\": 2.222680478485348e-06}, {\"Time\": \"2022-05-10T00:30:15\", \"Layer\": \"LUNC\", \"Page Rank\": 2.0983406584019262e-06}, {\"Time\": \"2022-05-11T00:30:15\", \"Layer\": \"LUNC\", \"Page Rank\": 1.9802383172456926e-06}, {\"Time\": \"2022-05-12T00:30:15\", \"Layer\": \"LUNC\", \"Page Rank\": 1.8243057480759273e-06}, {\"Time\": \"2022-05-13T00:30:15\", \"Layer\": \"LUNC\", \"Page Rank\": 1.7032983197798791e-06}, {\"Time\": \"2022-05-14T00:30:15\", \"Layer\": \"LUNC\", \"Page Rank\": 1.6129296388818096e-06}, {\"Time\": \"2022-05-15T00:30:15\", \"Layer\": \"LUNC\", \"Page Rank\": 1.5361434305823498e-06}, {\"Time\": \"2022-05-16T00:30:15\", \"Layer\": \"LUNC\", \"Page Rank\": 1.5193717289871455e-06}, {\"Time\": \"2022-05-17T00:30:15\", \"Layer\": \"LUNC\", \"Page Rank\": 1.5094651314453127e-06}, {\"Time\": \"2022-05-18T00:30:15\", \"Layer\": \"LUNC\", \"Page Rank\": 1.5257455331542652e-06}, {\"Time\": \"2022-05-19T00:30:15\", \"Layer\": \"LUNC\", \"Page Rank\": 1.538573292332637e-06}, {\"Time\": \"2022-05-20T00:30:15\", \"Layer\": \"LUNC\", \"Page Rank\": 1.7015902366568136e-06}, {\"Time\": \"2022-05-21T00:30:15\", \"Layer\": \"LUNC\", \"Page Rank\": 1.8404609622942745e-06}, {\"Time\": \"2022-05-22T00:30:15\", \"Layer\": \"LUNC\", \"Page Rank\": 1.9860248308357723e-06}, {\"Time\": \"2022-05-23T00:30:15\", \"Layer\": \"LUNC\", \"Page Rank\": 2.0958589121110843e-06}, {\"Time\": \"2022-05-24T00:30:15\", \"Layer\": \"LUNC\", \"Page Rank\": 2.1698700531233473e-06}, {\"Time\": \"2022-05-25T00:30:15\", \"Layer\": \"LUNC\", \"Page Rank\": 2.253857289013015e-06}, {\"Time\": \"2022-04-29T00:30:15\", \"Layer\": \"USTC\", \"Page Rank\": 1.1965009175333782e-05}, {\"Time\": \"2022-04-30T00:30:15\", \"Layer\": \"USTC\", \"Page Rank\": 6.449001755778515e-06}, {\"Time\": \"2022-05-01T00:30:15\", \"Layer\": \"USTC\", \"Page Rank\": 4.740423467858819e-06}, {\"Time\": \"2022-05-02T00:30:15\", \"Layer\": \"USTC\", \"Page Rank\": 3.916672033028504e-06}, {\"Time\": \"2022-05-03T00:30:15\", \"Layer\": \"USTC\", \"Page Rank\": 3.225925479226814e-06}, {\"Time\": \"2022-05-04T00:30:15\", \"Layer\": \"USTC\", \"Page Rank\": 2.785256636398311e-06}, {\"Time\": \"2022-05-05T00:30:15\", \"Layer\": \"USTC\", \"Page Rank\": 2.4543384746907227e-06}, {\"Time\": \"2022-05-06T00:30:15\", \"Layer\": \"USTC\", \"Page Rank\": 2.2885181731995753e-06}, {\"Time\": \"2022-05-07T00:30:15\", \"Layer\": \"USTC\", \"Page Rank\": 2.291713088634013e-06}, {\"Time\": \"2022-05-08T00:30:15\", \"Layer\": \"USTC\", \"Page Rank\": 2.295244732376109e-06}, {\"Time\": \"2022-05-09T00:30:15\", \"Layer\": \"USTC\", \"Page Rank\": 2.2110951363386692e-06}, {\"Time\": \"2022-05-10T00:30:15\", \"Layer\": \"USTC\", \"Page Rank\": 2.085051674778496e-06}, {\"Time\": \"2022-05-11T00:30:15\", \"Layer\": \"USTC\", \"Page Rank\": 1.964287649738596e-06}, {\"Time\": \"2022-05-12T00:30:15\", \"Layer\": \"USTC\", \"Page Rank\": 1.8080956432330777e-06}, {\"Time\": \"2022-05-13T00:30:15\", \"Layer\": \"USTC\", \"Page Rank\": 1.688417907058613e-06}, {\"Time\": \"2022-05-14T00:30:15\", \"Layer\": \"USTC\", \"Page Rank\": 1.599617806540551e-06}, {\"Time\": \"2022-05-15T00:30:15\", \"Layer\": \"USTC\", \"Page Rank\": 1.5288473068766274e-06}, {\"Time\": \"2022-05-16T00:30:15\", \"Layer\": \"USTC\", \"Page Rank\": 1.5158906558245174e-06}, {\"Time\": \"2022-05-17T00:30:15\", \"Layer\": \"USTC\", \"Page Rank\": 1.5093815401446485e-06}, {\"Time\": \"2022-05-18T00:30:15\", \"Layer\": \"USTC\", \"Page Rank\": 1.5296402306591646e-06}, {\"Time\": \"2022-05-19T00:30:15\", \"Layer\": \"USTC\", \"Page Rank\": 1.546810120143081e-06}, {\"Time\": \"2022-05-20T00:30:15\", \"Layer\": \"USTC\", \"Page Rank\": 1.7146313619054734e-06}, {\"Time\": \"2022-05-21T00:30:15\", \"Layer\": \"USTC\", \"Page Rank\": 1.8583969049957589e-06}, {\"Time\": \"2022-05-22T00:30:15\", \"Layer\": \"USTC\", \"Page Rank\": 2.0037206552781182e-06}, {\"Time\": \"2022-05-23T00:30:15\", \"Layer\": \"USTC\", \"Page Rank\": 2.1124181442239628e-06}, {\"Time\": \"2022-05-24T00:30:15\", \"Layer\": \"USTC\", \"Page Rank\": 2.186638959329856e-06}, {\"Time\": \"2022-05-25T00:30:15\", \"Layer\": \"USTC\", \"Page Rank\": 2.2707475048635705e-06}, {\"Time\": \"2022-04-29T00:30:15\", \"Layer\": \"USD\", \"Page Rank\": 0.010258960322407862}, {\"Time\": \"2022-04-30T00:30:15\", \"Layer\": \"USD\", \"Page Rank\": 0.011753202763607948}, {\"Time\": \"2022-05-01T00:30:15\", \"Layer\": \"USD\", \"Page Rank\": 0.015137240107269181}, {\"Time\": \"2022-05-02T00:30:15\", \"Layer\": \"USD\", \"Page Rank\": 0.016857651320919462}, {\"Time\": \"2022-05-03T00:30:15\", \"Layer\": \"USD\", \"Page Rank\": 0.017041398968987476}, {\"Time\": \"2022-05-04T00:30:15\", \"Layer\": \"USD\", \"Page Rank\": 0.017128415432958254}, {\"Time\": \"2022-05-05T00:30:15\", \"Layer\": \"USD\", \"Page Rank\": 0.016381021220698098}, {\"Time\": \"2022-05-06T00:30:15\", \"Layer\": \"USD\", \"Page Rank\": 0.016076291139386294}, {\"Time\": \"2022-05-07T00:30:15\", \"Layer\": \"USD\", \"Page Rank\": 0.016575307910874096}, {\"Time\": \"2022-05-08T00:30:15\", \"Layer\": \"USD\", \"Page Rank\": 0.01651733027796679}, {\"Time\": \"2022-05-09T00:30:15\", \"Layer\": \"USD\", \"Page Rank\": 0.014667177287447737}, {\"Time\": \"2022-05-10T00:30:15\", \"Layer\": \"USD\", \"Page Rank\": 0.01571062126350407}, {\"Time\": \"2022-05-11T00:30:15\", \"Layer\": \"USD\", \"Page Rank\": 0.016793367742535984}, {\"Time\": \"2022-05-12T00:30:15\", \"Layer\": \"USD\", \"Page Rank\": 0.016018090008593666}, {\"Time\": \"2022-05-13T00:30:15\", \"Layer\": \"USD\", \"Page Rank\": 0.01689396993366944}, {\"Time\": \"2022-05-14T00:30:15\", \"Layer\": \"USD\", \"Page Rank\": 0.016223702415332743}, {\"Time\": \"2022-05-15T00:30:15\", \"Layer\": \"USD\", \"Page Rank\": 0.013731275676299138}, {\"Time\": \"2022-05-16T00:30:15\", \"Layer\": \"USD\", \"Page Rank\": 0.014186298394882446}, {\"Time\": \"2022-05-17T00:30:15\", \"Layer\": \"USD\", \"Page Rank\": 0.013374622929062668}, {\"Time\": \"2022-05-18T00:30:15\", \"Layer\": \"USD\", \"Page Rank\": 0.01218409985525164}, {\"Time\": \"2022-05-19T00:30:15\", \"Layer\": \"USD\", \"Page Rank\": 0.012550257592937895}, {\"Time\": \"2022-05-20T00:30:15\", \"Layer\": \"USD\", \"Page Rank\": 0.011291173396852686}, {\"Time\": \"2022-05-21T00:30:15\", \"Layer\": \"USD\", \"Page Rank\": 0.010435203895644674}, {\"Time\": \"2022-05-22T00:30:15\", \"Layer\": \"USD\", \"Page Rank\": 0.012198939468426314}, {\"Time\": \"2022-05-23T00:30:15\", \"Layer\": \"USD\", \"Page Rank\": 0.011164133209819927}, {\"Time\": \"2022-05-24T00:30:15\", \"Layer\": \"USD\", \"Page Rank\": 0.011006684432247981}, {\"Time\": \"2022-05-25T00:30:15\", \"Layer\": \"USD\", \"Page Rank\": 0.0121564240053272}, {\"Time\": \"2022-04-29T00:30:15\", \"Layer\": \"USDP\", \"Page Rank\": 1.2017868758855264e-05}, {\"Time\": \"2022-04-30T00:30:15\", \"Layer\": \"USDP\", \"Page Rank\": 6.47708313462322e-06}, {\"Time\": \"2022-05-01T00:30:15\", \"Layer\": \"USDP\", \"Page Rank\": 4.763670240154997e-06}, {\"Time\": \"2022-05-02T00:30:15\", \"Layer\": \"USDP\", \"Page Rank\": 3.936451651498631e-06}, {\"Time\": \"2022-05-03T00:30:15\", \"Layer\": \"USDP\", \"Page Rank\": 3.2421449148925905e-06}, {\"Time\": \"2022-05-04T00:30:15\", \"Layer\": \"USDP\", \"Page Rank\": 2.7995602947416494e-06}, {\"Time\": \"2022-05-05T00:30:15\", \"Layer\": \"USDP\", \"Page Rank\": 2.4672576384416116e-06}, {\"Time\": \"2022-05-06T00:30:15\", \"Layer\": \"USDP\", \"Page Rank\": 2.299633915255879e-06}, {\"Time\": \"2022-05-07T00:30:15\", \"Layer\": \"USDP\", \"Page Rank\": 2.3028140256978897e-06}, {\"Time\": \"2022-05-08T00:30:15\", \"Layer\": \"USDP\", \"Page Rank\": 2.3075390109364273e-06}, {\"Time\": \"2022-05-09T00:30:15\", \"Layer\": \"USDP\", \"Page Rank\": 2.224095996653088e-06}, {\"Time\": \"2022-05-10T00:30:15\", \"Layer\": \"USDP\", \"Page Rank\": 2.100271825374627e-06}, {\"Time\": \"2022-05-11T00:30:15\", \"Layer\": \"USDP\", \"Page Rank\": 1.983775087783731e-06}, {\"Time\": \"2022-05-12T00:30:15\", \"Layer\": \"USDP\", \"Page Rank\": 1.8309914167575885e-06}, {\"Time\": \"2022-05-13T00:30:15\", \"Layer\": \"USDP\", \"Page Rank\": 1.7123449911136116e-06}, {\"Time\": \"2022-05-14T00:30:15\", \"Layer\": \"USDP\", \"Page Rank\": 1.6231655376242273e-06}, {\"Time\": \"2022-05-15T00:30:15\", \"Layer\": \"USDP\", \"Page Rank\": 1.5501725474804473e-06}, {\"Time\": \"2022-05-16T00:30:15\", \"Layer\": \"USDP\", \"Page Rank\": 1.5365014260007106e-06}, {\"Time\": \"2022-05-17T00:30:15\", \"Layer\": \"USDP\", \"Page Rank\": 1.5281358455293432e-06}, {\"Time\": \"2022-05-18T00:30:15\", \"Layer\": \"USDP\", \"Page Rank\": 1.5451457661802486e-06}, {\"Time\": \"2022-05-19T00:30:15\", \"Layer\": \"USDP\", \"Page Rank\": 1.5573268026774664e-06}, {\"Time\": \"2022-05-20T00:30:15\", \"Layer\": \"USDP\", \"Page Rank\": 1.7223417343862085e-06}, {\"Time\": \"2022-05-21T00:30:15\", \"Layer\": \"USDP\", \"Page Rank\": 1.8640211380192256e-06}, {\"Time\": \"2022-05-22T00:30:15\", \"Layer\": \"USDP\", \"Page Rank\": 2.0088119889046096e-06}, {\"Time\": \"2022-05-23T00:30:15\", \"Layer\": \"USDP\", \"Page Rank\": 2.116561771263278e-06}, {\"Time\": \"2022-05-24T00:30:15\", \"Layer\": \"USDP\", \"Page Rank\": 2.1896198256123595e-06}, {\"Time\": \"2022-05-25T00:30:15\", \"Layer\": \"USDP\", \"Page Rank\": 2.27573859898259e-06}, {\"Time\": \"2022-04-29T00:30:15\", \"Layer\": \"USDT\", \"Page Rank\": 7.769510762957885e-06}, {\"Time\": \"2022-04-30T00:30:15\", \"Layer\": \"USDT\", \"Page Rank\": 4.1496913014825944e-06}, {\"Time\": \"2022-05-01T00:30:15\", \"Layer\": \"USDT\", \"Page Rank\": 2.9943819955876953e-06}, {\"Time\": \"2022-05-02T00:30:15\", \"Layer\": \"USDT\", \"Page Rank\": 2.4481079837186394e-06}, {\"Time\": \"2022-05-03T00:30:15\", \"Layer\": \"USDT\", \"Page Rank\": 2.0311952205957023e-06}, {\"Time\": \"2022-05-04T00:30:15\", \"Layer\": \"USDT\", \"Page Rank\": 1.7555868893156192e-06}, {\"Time\": \"2022-05-05T00:30:15\", \"Layer\": \"USDT\", \"Page Rank\": 1.5360353947790857e-06}, {\"Time\": \"2022-05-06T00:30:15\", \"Layer\": \"USDT\", \"Page Rank\": 1.4902520569793601e-06}, {\"Time\": \"2022-05-07T00:30:15\", \"Layer\": \"USDT\", \"Page Rank\": 1.5002316312214743e-06}, {\"Time\": \"2022-05-08T00:30:15\", \"Layer\": \"USDT\", \"Page Rank\": 1.5068327381789273e-06}, {\"Time\": \"2022-05-09T00:30:15\", \"Layer\": \"USDT\", \"Page Rank\": 1.465782692507486e-06}, {\"Time\": \"2022-05-10T00:30:15\", \"Layer\": \"USDT\", \"Page Rank\": 1.3950614953960696e-06}, {\"Time\": \"2022-05-11T00:30:15\", \"Layer\": \"USDT\", \"Page Rank\": 1.2963341716414692e-06}, {\"Time\": \"2022-05-12T00:30:15\", \"Layer\": \"USDT\", \"Page Rank\": 1.2179290213927983e-06}, {\"Time\": \"2022-05-13T00:30:15\", \"Layer\": \"USDT\", \"Page Rank\": 1.0988602522736516e-06}, {\"Time\": \"2022-05-14T00:30:15\", \"Layer\": \"USDT\", \"Page Rank\": 1.0250289198627665e-06}, {\"Time\": \"2022-05-15T00:30:15\", \"Layer\": \"USDT\", \"Page Rank\": 9.843861058530394e-07}, {\"Time\": \"2022-05-16T00:30:15\", \"Layer\": \"USDT\", \"Page Rank\": 9.69193146086717e-07}, {\"Time\": \"2022-05-17T00:30:15\", \"Layer\": \"USDT\", \"Page Rank\": 9.583735596651639e-07}, {\"Time\": \"2022-05-18T00:30:15\", \"Layer\": \"USDT\", \"Page Rank\": 9.570667914112574e-07}, {\"Time\": \"2022-05-19T00:30:15\", \"Layer\": \"USDT\", \"Page Rank\": 9.434629997677707e-07}, {\"Time\": \"2022-05-20T00:30:15\", \"Layer\": \"USDT\", \"Page Rank\": 1.0537950360901965e-06}, {\"Time\": \"2022-05-21T00:30:15\", \"Layer\": \"USDT\", \"Page Rank\": 1.1394250459591515e-06}, {\"Time\": \"2022-05-22T00:30:15\", \"Layer\": \"USDT\", \"Page Rank\": 1.2098200586644918e-06}, {\"Time\": \"2022-05-23T00:30:15\", \"Layer\": \"USDT\", \"Page Rank\": 1.2700092196027124e-06}, {\"Time\": \"2022-05-24T00:30:15\", \"Layer\": \"USDT\", \"Page Rank\": 1.3181560033099231e-06}, {\"Time\": \"2022-05-25T00:30:15\", \"Layer\": \"USDT\", \"Page Rank\": 1.396789257033646e-06}], \"data-03a7e27a271f30803a3f9052d97f8a33\": [{\"Time\": \"2022-05-12\", \"event\": \"LUNA Crash\"}]}}, {\"mode\": \"vega-lite\"});\n",
       "</script>"
      ],
      "text/plain": [
       "alt.LayerChart(...)"
      ]
     },
     "execution_count": 18,
     "metadata": {},
     "output_type": "execute_result"
    }
   ],
   "source": [
    "result = pd.DataFrame()\n",
    "\n",
    "layers = g.get_unique_layers()\n",
    "rolling = g.rolling(step='1 day', window='1 week')\n",
    "\n",
    "for l in layers:\n",
    "    result[l] = [algorithms.pagerank(w.layer(l), 20)[\"0x503828976d22510aad0201ac7ec88293211d23da\"] for w in rolling]\n",
    "\n",
    "result['Time'] = [w.end_date_time() for w in rolling]\n",
    "\n",
    "source = pd.melt(result, id_vars=['Time'], value_vars=layers, var_name='Layer', value_name='Page Rank')\n",
    "selection = alt.selection_multi(fields=['Layer'], bind='legend')\n",
    "\n",
    "chart = alt.Chart(source).mark_line().encode(\n",
    "    x=\"Time:T\",\n",
    "    y=f\"{'Page Rank'}:Q\",\n",
    "    color=\"Layer\",\n",
    "    tooltip=['Layer', 'Page Rank'],\n",
    "    opacity=alt.condition(selection, alt.value(1.0), alt.value(0.2))\n",
    ").properties(\n",
    "    width=800,\n",
    ").add_selection(\n",
    "    selection\n",
    ")\n",
    "\n",
    "alt.layer(chart, event_chart)"
   ]
  },
  {
   "cell_type": "code",
   "execution_count": null,
   "id": "5cb56ee1-9ef1-4c9f-b67a-90907ee767df",
   "metadata": {},
   "outputs": [],
   "source": []
  }
 ],
 "metadata": {
  "kernelspec": {
   "display_name": "docbrown",
   "language": "python",
   "name": "python3"
  },
  "language_info": {
   "codemirror_mode": {
    "name": "ipython",
    "version": 3
   },
   "file_extension": ".py",
   "mimetype": "text/x-python",
   "name": "python",
   "nbconvert_exporter": "python",
   "pygments_lexer": "ipython3",
   "version": "3.10.9"
  }
 },
 "nbformat": 4,
 "nbformat_minor": 5
}
