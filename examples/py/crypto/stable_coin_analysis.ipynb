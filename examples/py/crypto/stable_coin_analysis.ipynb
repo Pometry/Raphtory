{
 "cells": [
  {
   "cell_type": "code",
   "execution_count": 1,
   "id": "5e76e492-a0b9-4199-8c46-bb10d1b15db2",
   "metadata": {},
   "outputs": [
    {
     "name": "stdout",
     "output_type": "stream",
     "text": [
      "Loaded graph with 1 shards from encoded data files /tmp/stablecoin/graphdb.bincode with 1523333 vertices, 2871269 edges which took 2 seconds\n"
     ]
    }
   ],
   "source": [
    "from raphtory import Graph\n",
    "from raphtory import algorithms\n",
    "from raphtory import graph_loader\n",
    "import time\n",
    "import sys\n",
    "\n",
    "g = graph_loader.stable_coin_graph(\"/tmp/stablecoin\", 1)\n",
    "\n",
    "all_layers = g.get_unique_layers()\n",
    "\n",
    "assert(\n",
    "    all_layers == \n",
    "    [\n",
    "        \"0xa0b86991c6218b36c1d19d4a2e9eb0ce3606eb48\", \n",
    "        \"0xd2877702675e6ceb975b4a1dff9fb7baf4c91ea9\", \n",
    "        \"0xa47c8bf37f92abed4a126bda807a7b7498661acd\", \n",
    "        \"0x6b175474e89094c44da98b954eedeac495271d0f\", \n",
    "        \"0xdac17f958d2ee523a2206206994597c13d831ec7\", \n",
    "        \"0x8e870d67f660d95d5be530380d0ec0bd388289e1\"\n",
    "    ]\n",
    ")\n",
    "\n",
    "max_size = sys.maxsize\n",
    "min_size = -sys.maxsize - 1\n",
    "\n",
    "# start_time = time.time()\n",
    "# res = algorithms.pagerank(g, min_size, max_size, 20)\n",
    "# end_time = time.time()\n",
    "\n",
    "# print(\"Time taken in secs\", end_time - start_time)\n"
   ]
  },
  {
   "cell_type": "code",
   "execution_count": 2,
   "id": "719e89be-da1f-4662-8055-1c1ee658116a",
   "metadata": {},
   "outputs": [
    {
     "name": "stdout",
     "output_type": "stream",
     "text": [
      "Contract address 0xa0b86991c6218b36c1d19d4a2e9eb0ce3606eb48 has 1026779 transactions\n",
      "Contract address 0xd2877702675e6ceb975b4a1dff9fb7baf4c91ea9 has 68811 transactions\n",
      "Contract address 0xa47c8bf37f92abed4a126bda807a7b7498661acd has 41771 transactions\n",
      "Contract address 0x6b175474e89094c44da98b954eedeac495271d0f has 123876 transactions\n",
      "Contract address 0xdac17f958d2ee523a2206206994597c13d831ec7 has 1605617 transactions\n",
      "Contract address 0x8e870d67f660d95d5be530380d0ec0bd388289e1 has 4415 transactions\n"
     ]
    }
   ],
   "source": [
    "for l in all_layers:\n",
    "    print(\"Contract address {} has {} transactions\".format(l,g.layer(l).num_edges()))"
   ]
  },
  {
   "cell_type": "code",
   "execution_count": 3,
   "id": "03254ea1-0641-4205-9289-5b2b6f6ab8af",
   "metadata": {},
   "outputs": [
    {
     "name": "stdout",
     "output_type": "stream",
     "text": [
      "Completed 21 steps\n"
     ]
    }
   ],
   "source": [
    "pg = algorithms.pagerank(g, min_size, max_size, 20)"
   ]
  },
  {
   "cell_type": "code",
   "execution_count": 4,
   "id": "b00ebdbb-625b-4e51-9337-5dd31155a0a4",
   "metadata": {},
   "outputs": [
    {
     "data": {
      "text/plain": [
       "[('0x28c6c06298d514db089934071355e5743bf21d60', 42706.00390625),\n",
       " ('0xb5d85cbf7cb3ee0d56b3bb207d5fc4b82f43f511', 11416.375),\n",
       " ('0x3cd751e6b0078be393132286c442345e5dc49699', 11414.626953125),\n",
       " ('0x503828976d22510aad0201ac7ec88293211d23da', 11076.2939453125),\n",
       " ('0x71660c4005ba85c37ccec55d0c4493e66fe775d3', 10205.98046875),\n",
       " ('0x2faf487a4414fe77e2327f0bf4ae2a264a776ad2', 9962.3544921875),\n",
       " ('0x0d0707963952f2fba59dd06f2b425ace40b492fe', 7856.39404296875),\n",
       " ('0xec30d02f10353f8efc9601371f56e808751f396f', 7498.98974609375),\n",
       " ('0x88bd4d3e2997371bceefe8d9386c6b5b4de60346', 6961.708984375),\n",
       " ('0x74de5d4fcbf63e00296fd95d33236b9794016631', 6432.6103515625)]"
      ]
     },
     "execution_count": 4,
     "metadata": {},
     "output_type": "execute_result"
    }
   ],
   "source": [
    "sorted_pg = dict(sorted(pg.items(), key=lambda x: x[1], reverse=True))\n",
    "list(sorted_pg.items())[:10]"
   ]
  },
  {
   "cell_type": "code",
   "execution_count": 5,
   "id": "3ab99b65-9f3f-4441-b358-edb0182d0ded",
   "metadata": {},
   "outputs": [
    {
     "name": "stdout",
     "output_type": "stream",
     "text": [
      "Contract address 0xa0b86991c6218b36c1d19d4a2e9eb0ce3606eb48 has 0x28c6c06298d514db089934071355e5743bf21d60? True\n",
      "Contract address 0xd2877702675e6ceb975b4a1dff9fb7baf4c91ea9 has 0x28c6c06298d514db089934071355e5743bf21d60? True\n",
      "Contract address 0xa47c8bf37f92abed4a126bda807a7b7498661acd has 0x28c6c06298d514db089934071355e5743bf21d60? True\n",
      "Contract address 0x6b175474e89094c44da98b954eedeac495271d0f has 0x28c6c06298d514db089934071355e5743bf21d60? True\n",
      "Contract address 0xdac17f958d2ee523a2206206994597c13d831ec7 has 0x28c6c06298d514db089934071355e5743bf21d60? True\n",
      "Contract address 0x8e870d67f660d95d5be530380d0ec0bd388289e1 has 0x28c6c06298d514db089934071355e5743bf21d60? True\n"
     ]
    }
   ],
   "source": [
    "for l in all_layers:\n",
    "    print(\"Contract address {} has 0x28c6c06298d514db089934071355e5743bf21d60? {}\".format(l, g.layer(l).has_vertex(\"0x28c6c06298d514db089934071355e5743bf21d60\")))"
   ]
  },
  {
   "cell_type": "code",
   "execution_count": 17,
   "id": "94b714a5-53e3-4cf0-bf9d-cd0493fee031",
   "metadata": {},
   "outputs": [
    {
     "name": "stdout",
     "output_type": "stream",
     "text": [
      "Contract address 0xa0b86991c6218b36c1d19d4a2e9eb0ce3606eb48 has 0x74de5d4fcbf63e00296fd95d33236b9794016631? True\n",
      "Contract address 0xd2877702675e6ceb975b4a1dff9fb7baf4c91ea9 has 0x74de5d4fcbf63e00296fd95d33236b9794016631? True\n",
      "Contract address 0xa47c8bf37f92abed4a126bda807a7b7498661acd has 0x74de5d4fcbf63e00296fd95d33236b9794016631? True\n",
      "Contract address 0x6b175474e89094c44da98b954eedeac495271d0f has 0x74de5d4fcbf63e00296fd95d33236b9794016631? True\n",
      "Contract address 0xdac17f958d2ee523a2206206994597c13d831ec7 has 0x74de5d4fcbf63e00296fd95d33236b9794016631? True\n",
      "Contract address 0x8e870d67f660d95d5be530380d0ec0bd388289e1 has 0x74de5d4fcbf63e00296fd95d33236b9794016631? True\n"
     ]
    }
   ],
   "source": [
    "for l in all_layers:\n",
    "    print(\"Contract address {} has 0x74de5d4fcbf63e00296fd95d33236b9794016631? {}\".format(l, g.layer(l).has_vertex(\"0x74de5d4fcbf63e00296fd95d33236b9794016631\")))"
   ]
  },
  {
   "cell_type": "code",
   "execution_count": 25,
   "id": "41e82eb4-6415-41d4-aca4-0148aff57e6a",
   "metadata": {},
   "outputs": [
    {
     "name": "stdout",
     "output_type": "stream",
     "text": [
      "Completed 21 steps\n",
      "Important people from contract address 0xa0b86991c6218b36c1d19d4a2e9eb0ce3606eb48: [('0x28c6c06298d514db089934071355e5743bf21d60', 16422.62890625), ('0x71660c4005ba85c37ccec55d0c4493e66fe775d3', 11112.6669921875), ('0x503828976d22510aad0201ac7ec88293211d23da', 10782.1455078125), ('0x2faf487a4414fe77e2327f0bf4ae2a264a776ad2', 4884.43408203125), ('0x88e6a0c2ddd26feeb64f039a2c41296fcb3f5640', 4187.59423828125), ('0x4f6742badb049791cd9a37ea913f2bac38d01279', 3611.646484375), ('0x738cf6903e6c4e699d1c2dd9ab8b67fcdb3121ea', 3443.69287109375), ('0xae2d4617c862309a3d75a0ffb358c7a5009c673f', 3340.150390625), ('0x74de5d4fcbf63e00296fd95d33236b9794016631', 3180.0703125), ('0xf16e9b0d03470827a95cdfd0cb8a8a3b46969b91', 2440.001953125)]\n",
      "\n",
      "Completed 21 steps\n",
      "Important people from contract address 0xd2877702675e6ceb975b4a1dff9fb7baf4c91ea9: [('0x77696bb39917c91a0c3908d577d5e322095425ca', 905.6795654296875), ('0x0000000000000000000000000000000000000000', 378.0491027832031), ('0x60a39010e4892b862d1bb6bdde908215ac5af6f3', 344.75750732421875), ('0x74de5d4fcbf63e00296fd95d33236b9794016631', 298.6234130859375), ('0x16b70f44719b227278a2dc1122e8106cc929ecd1', 288.48675537109375), ('0x5f65f7b609678448494de4c87521cdf6cef1e932', 168.39158630371094), ('0x738cf6903e6c4e699d1c2dd9ab8b67fcdb3121ea', 126.01033782958984), ('0x88172e5d79fe75c7aed1453e89ff5d741cfa4ca7', 68.85961151123047), ('0xf16e9b0d03470827a95cdfd0cb8a8a3b46969b91', 66.9317626953125), ('0xdcad279e517d7be07934ff85949fd6598758ce0b', 46.993446350097656)]\n",
      "\n",
      "Completed 21 steps\n",
      "Important people from contract address 0xa47c8bf37f92abed4a126bda807a7b7498661acd: [('0xeb2629a2734e272bcc07bda959863f316f4bd4cf', 1079.10205078125), ('0x0000000000000000000000000000000000000000', 840.3057861328125), ('0x28c6c06298d514db089934071355e5743bf21d60', 735.3961181640625), ('0x74de5d4fcbf63e00296fd95d33236b9794016631', 233.8526611328125), ('0x5f65f7b609678448494de4c87521cdf6cef1e932', 175.92185974121094), ('0x8b00ee8606cc70c2dce68dea0cefe632cca0fb7b', 164.16665649414062), ('0xf39c29d8f6851d87c40c83b61078eb7384f7cb51', 150.18472290039062), ('0x738cf6903e6c4e699d1c2dd9ab8b67fcdb3121ea', 113.54081726074219), ('0x220bda5c8994804ac96ebe4df184d25e5c2196d4', 108.97227478027344), ('0xf16e9b0d03470827a95cdfd0cb8a8a3b46969b91', 104.18952941894531)]\n",
      "\n",
      "Completed 21 steps\n",
      "Important people from contract address 0x6b175474e89094c44da98b954eedeac495271d0f: [('0x503828976d22510aad0201ac7ec88293211d23da', 1261.2847900390625), ('0x28c6c06298d514db089934071355e5743bf21d60', 1251.3369140625), ('0x74de5d4fcbf63e00296fd95d33236b9794016631', 607.6018676757812), ('0x60594a405d53811d3bc4766596efd80fd545a270', 511.0513610839844), ('0x5777d92f208679db4b9778590fa3cab3ac9e2168', 465.2397155761719), ('0x0000000000000000000000000000000000000000', 452.6623229980469), ('0x2faf487a4414fe77e2327f0bf4ae2a264a776ad2', 338.2962951660156), ('0x66c57bf505a85a74609d2c83e94aabb26d691e1f', 292.7325744628906), ('0xa478c2975ab1ea89e8196811f51a7b7ade33eb11', 279.31036376953125), ('0x028171bca77440897b824ca71d1c56cac55b68a3', 248.91050720214844)]\n",
      "\n",
      "Completed 21 steps\n",
      "Important people from contract address 0xdac17f958d2ee523a2206206994597c13d831ec7: [('0x28c6c06298d514db089934071355e5743bf21d60', 24863.681640625), ('0xb5d85cbf7cb3ee0d56b3bb207d5fc4b82f43f511', 11175.2021484375), ('0x3cd751e6b0078be393132286c442345e5dc49699', 11163.7216796875), ('0xec30d02f10353f8efc9601371f56e808751f396f', 7539.2109375), ('0x0d0707963952f2fba59dd06f2b425ace40b492fe', 7195.75537109375), ('0x88bd4d3e2997371bceefe8d9386c6b5b4de60346', 6965.0146484375), ('0x2faf487a4414fe77e2327f0bf4ae2a264a776ad2', 5266.037109375), ('0x5041ed759dd4afc3a72b8192c143f72f4724081a', 4496.48291015625), ('0x89e51fa8ca5d66cd220baed62ed01e8951aa7c40', 3311.45361328125), ('0x6262998ced04146fa42253a5c0af90ca02dfd2a3', 2861.906982421875)]\n",
      "\n",
      "Completed 21 steps\n",
      "Important people from contract address 0x8e870d67f660d95d5be530380d0ec0bd388289e1: [('0x286af5cf60ae834199949bbc815485f07cc9c644', 62.58032989501953), ('0x28c6c06298d514db089934071355e5743bf21d60', 53.50147247314453), ('0x2faf487a4414fe77e2327f0bf4ae2a264a776ad2', 44.208404541015625), ('0xc88f7666330b4b511358b7742dc2a3234710e7b1', 42.711788177490234), ('0xa12431d0b9db640034b0cdfceef9cce161e62be4', 29.6192684173584), ('0xa81011ae274ef6debd3bdab634102c7b6c2c452d', 25.325576782226562), ('0x3cd751e6b0078be393132286c442345e5dc49699', 24.66328239440918), ('0x0d0707963952f2fba59dd06f2b425ace40b492fe', 24.642709732055664), ('0x4f6742badb049791cd9a37ea913f2bac38d01279', 23.62653160095215), ('0xffec0067f5a79cff07527f63d83dd5462ccf8ba4', 22.396011352539062)]\n",
      "\n"
     ]
    }
   ],
   "source": [
    "for l in all_layers:\n",
    "    pg = algorithms.pagerank(g.layer(l), min_size, max_size, 20)\n",
    "    sorted_pg = dict(sorted(pg.items(), key=lambda x: x[1], reverse=True))\n",
    "    print(\"Important people from contract address {}: {}\".format(l, list(sorted_pg.items())[:10]))\n",
    "    print()\n"
   ]
  }
 ],
 "metadata": {
  "kernelspec": {
   "display_name": "Python [conda env:raphtory] *",
   "language": "python",
   "name": "conda-env-raphtory-py"
  },
  "language_info": {
   "codemirror_mode": {
    "name": "ipython",
    "version": 3
   },
   "file_extension": ".py",
   "mimetype": "text/x-python",
   "name": "python",
   "nbconvert_exporter": "python",
   "pygments_lexer": "ipython3",
   "version": "3.10.9"
  }
 },
 "nbformat": 4,
 "nbformat_minor": 5
}
