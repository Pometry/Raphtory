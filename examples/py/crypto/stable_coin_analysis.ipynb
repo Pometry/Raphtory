{
 "cells": [
  {
   "cell_type": "code",
   "execution_count": 1,
   "id": "5e76e492-a0b9-4199-8c46-bb10d1b15db2",
   "metadata": {},
   "outputs": [
    {
     "name": "stdout",
     "output_type": "stream",
     "text": [
      "{'5': [(6, 13, '2')], '1': [(0, 11, '1')], '2': [(2, 12, '1'), (2, 11, '1'), (0, 11, '2')], '4': [(5, 12, '2')]}Time taken to complete step 1 = 0\n",
      "\n",
      "Time taken to check convergence = 0\n",
      "Completed 1 steps in 0 secs\n",
      "Time taken to complete step 1 = 0\n",
      "Time taken to check convergence = 0\n"
     ]
    }
   ],
   "source": [
    "from raphtory import Graph\n",
    "from raphtory import algorithms\n",
    "\n",
    "# actual data\n",
    "g = Graph(1)\n",
    "g.add_edge(10, 1, 3, {})\n",
    "g.add_edge(11, 1, 2, {})\n",
    "g.add_edge(12, 1, 2, {})\n",
    "g.add_edge(9, 1, 2, {})\n",
    "g.add_edge(12, 2, 4, {})\n",
    "g.add_edge(13, 2, 5, {})\n",
    "g.add_edge(14, 5, 5, {})\n",
    "g.add_edge(14, 5, 4, {})\n",
    "g.add_edge(5, 4, 6, {})\n",
    "g.add_edge(15, 4, 7, {})\n",
    "g.add_edge(10, 4, 7, {})\n",
    "g.add_edge(10, 5, 8, {})\n",
    "\n",
    "actual = algorithms.generic_taint(g, 20, 11, [1, 2], [4, 5])\n",
    "expected = {\n",
    "    '1': [(0, 11, '1')],\n",
    "    '2': [(2, 12, '1'), (2, 11, '1'), (0, 11, '2')],\n",
    "    '4': [(5, 12, '2')],\n",
    "    '5': [(6, 13, '2')],\n",
    "}\n",
    "\n",
    "assert (actual == expected)\n",
    "\n",
    "print(actual)"
   ]
  },
  {
   "cell_type": "code",
   "execution_count": null,
   "id": "719e89be-da1f-4662-8055-1c1ee658116a",
   "metadata": {},
   "outputs": [],
   "source": []
  }
 ],
 "metadata": {
  "kernelspec": {
   "display_name": "Python [conda env:pyraphtory] *",
   "language": "python",
   "name": "conda-env-pyraphtory-py"
  },
  "language_info": {
   "codemirror_mode": {
    "name": "ipython",
    "version": 3
   },
   "file_extension": ".py",
   "mimetype": "text/x-python",
   "name": "python",
   "nbconvert_exporter": "python",
   "pygments_lexer": "ipython3",
   "version": "3.10.9"
  }
 },
 "nbformat": 4,
 "nbformat_minor": 5
}
