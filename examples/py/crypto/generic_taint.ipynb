{
 "cells": [
  {
   "cell_type": "code",
   "execution_count": null,
   "id": "5e76e492-a0b9-4199-8c46-bb10d1b15db2",
   "metadata": {},
   "outputs": [],
   "source": [
    "from raphtory import Graph\n",
    "from raphtory import algorithms\n",
    "\n"
   ]
  }
 ],
 "metadata": {
  "kernelspec": {
   "display_name": "Python [conda env:pyraphtory] *",
   "language": "python",
   "name": "conda-env-pyraphtory-py"
  },
  "language_info": {
   "codemirror_mode": {
    "name": "ipython",
    "version": 3
   },
   "file_extension": ".py",
   "mimetype": "text/x-python",
   "name": "python",
   "nbconvert_exporter": "python",
   "pygments_lexer": "ipython3",
   "version": "3.10.9"
  }
 },
 "nbformat": 4,
 "nbformat_minor": 5
}
