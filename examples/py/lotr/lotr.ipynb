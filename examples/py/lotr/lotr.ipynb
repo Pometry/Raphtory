{
 "cells": [
  {
   "cell_type": "markdown",
   "metadata": {},
   "source": [
    "# Getting data into a graph\n",
    "\n",
    "Now that we know Raphtory is installed and running, let's look at the different ways to get some real data into a graph. \n",
    "\n",
    "For this first set of tutorials we are going to be building graphs from a Lord of the Rings dataset, looking at when characters interact throughout the trilogy 🧝🏻‍♀️🧙🏻‍♂️💍.\n",
    " \n",
    "<p align=\"center\">\n",
    " <img src=\"../images/lotr-graphic.png\" width=\"700px\" style=\"padding: 15px\" alt=\"Intro Graphic of LOTR slices\"/>\n",
    "</p>\n",
    "\n",
    "As with the quick start install guide, this and all following python pages are built as iPython notebooks. If you want to follow along on your own machine, click the `open on github` link in the top right of this page.\n",
    "\n",
    "## Let's have a look at the example data\n",
    "\n",
    "The data we are going to use is two `csv` files which will be pulled from our <a href=\"https://github.com/Raphtory/Data\">Github data repository</a>. These are the structure of the graph (`lotr.csv`) and some metadata about the characters (`lotr_properties.csv`)\n",
    "\n",
    "For the structure file each line contains two characters that appeared in the same sentence, along with the sentence number, which we will use as a `timestamp`. The first line of the file is `Gandalf,Elrond,33` which tells us that Gandalf and Elrond appears together in sentence 33.\n",
    "\n",
    "For the properties file each line gives a characters name, their race and gender. For example `Gimli,dwarf,male`.\n",
    "\n",
    "\n",
    "### Downloading the csv from Github 💾\n",
    "\n",
    "The following `curl` command will download the csv files and save them in the `tmp` directory on your computer. This will be deleted when you restart your computer, but it's only a couple of KB in any case.\n",
    "\n"
   ]
  },
  {
   "cell_type": "code",
   "execution_count": 1,
   "metadata": {
    "tags": []
   },
   "outputs": [
    {
     "name": "stdout",
     "output_type": "stream",
     "text": [
      "****Downloading Data****\n",
      "  % Total    % Received % Xferd  Average Speed   Time    Time     Time  Current\n",
      "                                 Dload  Upload   Total   Spent    Left  Speed\n",
      "100 52206  100 52206    0     0   154k      0 --:--:-- --:--:-- --:--:--  160k\n",
      "  % Total    % Received % Xferd  Average Speed   Time    Time     Time  Current\n",
      "                                 Dload  Upload   Total   Spent    Left  Speed\n",
      "100   686  100   686    0     0   2906      0 --:--:-- --:--:-- --:--:--  2995\n",
      "  % Total    % Received % Xferd  Average Speed   Time    Time     Time  Current\n",
      "                                 Dload  Upload   Total   Spent    Left  Speed\n",
      "100 69632  100 69632    0     0   287k      0 --:--:-- --:--:-- --:--:--  296k\n",
      "****LOTR GRAPH STRUCTURE****\n",
      "Gandalf,Elrond,33\n",
      "Frodo,Bilbo,114\n",
      "Blanco,Marcho,146\n",
      "****LOTR GRAPH PROPERTIES****\n",
      "Aragorn,men,male\n",
      "Gandalf,ainur,male\n",
      "Goldberry,ainur,female\n"
     ]
    }
   ],
   "source": [
    "print(\"****Downloading Data****\")\n",
    "!curl -o /tmp/lotr.csv https://raw.githubusercontent.com/Raphtory/Data/main/lotr.csv\n",
    "!curl -o /tmp/lotr_properties.csv https://raw.githubusercontent.com/Raphtory/Data/main/lotr_properties.csv\n",
    "!curl -o /tmp/lotr.db https://raw.githubusercontent.com/Raphtory/Data/main/lotr.db\n",
    "print(\"****LOTR GRAPH STRUCTURE****\")\n",
    "!head -n 3 /tmp/lotr.csv\n",
    "print(\"****LOTR GRAPH PROPERTIES****\")\n",
    "!head -n 3 /tmp/lotr_properties.csv"
   ]
  },
  {
   "cell_type": "markdown",
   "metadata": {},
   "source": [
    "## Setting up our imports and Raphtory\n",
    "Now that we have our data we can sort out our imports and create the Raphtory `Graph` which we will use to build our graphs.\n",
    "\n",
    "The imports are for parsing CSV files, accessing pandas dataframes, and bringing in all the Raphtory classes we will use in the tutorial.\n",
    "\n",
    "The filenames are pointing at the data we just downloaded. If you change the download location above, make sure to change them here as well."
   ]
  },
  {
   "cell_type": "code",
   "execution_count": 2,
   "metadata": {
    "tags": []
   },
   "outputs": [],
   "source": [
    "import csv\n",
    "import pandas as pd\n",
    "from raphtory import Graph\n",
    "\n",
    "structure_file = \"/tmp/lotr.csv\"\n",
    "properties_file = \"/tmp/lotr_properties.csv\"\n",
    "graph = Graph(1)\n"
   ]
  },
  {
   "cell_type": "markdown",
   "metadata": {},
   "source": [
    "## Adding data directly into the Graph\n",
    "\n",
    "The simplest way to add data into a graph is to directly call the `add_vertex` and `add_edge` functions, which we saw in the quick start guide. These have required arguments defining the time the addition occurred and an identifier for the entity being updated. These functions, however, have several optional arguments allowing us to add `properties` and within this, `types`, on top of the base structure. \n",
    "\n",
    "\n",
    "| Function     | Required Arguments            | Optional Arguments                           |\n",
    "|--------------|-------------------------------|----------------------------------------------|\n",
    "| `add_vertex` | `timestamp`,`vertex_id`       | `properties` |\n",
    "| `add_edge`   | `timestamp`,`src_id`,`dst_id` | `properties`   |\n",
    "\n",
    "\n",
    "Lets take a look at this with our example data. In the below code we are opening The Lord of The Rings structural data via the csv reader and looping through each line. \n",
    "\n",
    "To insert the data we:\n",
    "\n",
    "* Extract the two characters names, referring to them as the `source_node` and `destination_node`.\n",
    "* Extract the sentence number, referring to is as `timestamp`. This is then cast to an `int` as `epoch` timestamps in Raphtory must be a number.\n",
    "* Call `add_vertex` for both nodes, setting their type to `Character`.\n",
    "* Create an edge between them via `add_edge` and label this a `Co-occurence`."
   ]
  },
  {
   "cell_type": "code",
   "execution_count": 3,
   "metadata": {
    "tags": []
   },
   "outputs": [],
   "source": [
    "with open(structure_file, 'r') as csvfile:\n",
    "    datareader = csv.reader(csvfile)\n",
    "    for row in datareader:\n",
    "\n",
    "        source_node = row[0]\n",
    "        destination_node = row[1]\n",
    "        timestamp = int(row[2])\n",
    "        \n",
    "        graph.add_vertex(timestamp, source_node, {\"vertex_type\": \"Character\"})\n",
    "        graph.add_vertex(timestamp, destination_node, {\"vertex_type\": \"Character\"})  \n",
    "        graph.add_edge(timestamp, source_node, destination_node, {\"edge_type\": \"Character_Co-occurence\"})"
   ]
  },
  {
   "cell_type": "markdown",
   "metadata": {},
   "source": [
    "## Let's see if the data has ingested\n",
    "\n",
    "To do this, much like the quick start, we can run a query on our graph. As Raphtory allows us to explore the network's history, lets add a bit of this in as well. \n",
    "\n",
    "Below we check the data contained in the graph by running the `earliest_time()`, `latest_time()`, and `len` the vertices and edges. "
   ]
  },
  {
   "cell_type": "code",
   "execution_count": 17,
   "metadata": {
    "tags": []
   },
   "outputs": [
    {
     "name": "stdout",
     "output_type": "stream",
     "text": [
      "Earliest time: 33\n",
      "Latest time: 32674\n",
      "Number of vertices: 139\n",
      "Number of edges: 701\n"
     ]
    }
   ],
   "source": [
    "print(\"Earliest time: %i\" % graph.earliest_time())\n",
    "print(\"Latest time: %i\" % graph.latest_time())\n",
    "\n",
    "print(\"Number of vertices: %i\" % len(graph.vertices()))\n",
    "print(\"Number of edges: %i\" % len(graph.edges()))"
   ]
  },
  {
   "cell_type": "markdown",
   "metadata": {},
   "source": [
    "We can also access a specific vertex, such as `Gandalf`, and see his degree at different points in time using the `at()` function. \n",
    "\n",
    "In the first call, we get the entire graph at time 1000, and then check the degree of gandalf. \n",
    "\n",
    "In the second call, we get the vertex gandalf, get their instance at time 10,000 and the degree. "
   ]
  },
  {
   "cell_type": "code",
   "execution_count": 18,
   "metadata": {},
   "outputs": [
    {
     "name": "stdout",
     "output_type": "stream",
     "text": [
      "Gandalf's degree at 1000: 4\n",
      "Gandalf's degree at 10,000: 26\n"
     ]
    }
   ],
   "source": [
    "print(\"Gandalf's degree at 1000: %i\" % graph.at(1000).vertex(\"Gandalf\").degree())\n",
    "\n",
    "print(\"Gandalf's degree at 10,000: %i\" % graph.vertex(\"Gandalf\").at(10000).degree())"
   ]
  },
  {
   "cell_type": "markdown",
   "metadata": {},
   "source": [
    "## Updating graphs, merging datasets and adding properties\n",
    "\n",
    "One cool thing about Raphtory is that we can freely insert new information at any point in time and it will be automatically inserted in chronological order. This makes it really easy to merge datasets or ingest out of order data. \n",
    "\n",
    "A property on a vertex or edge can be either static or non-static. \n",
    "\n",
    "* Static properties, do not change and are fixed throughout the life of the graph, e.g. the `name` property. \n",
    "* Non-static properties can change over time, e.g. `balance` of a bank account. \n",
    "\n",
    "All property objects require the user to specify a name and value.\n",
    "\n",
    "To explore this and to add some properties to our graph, lets load our second dataset!\n",
    "\n",
    "Below we are opening our property file the same way as the structure file. This data does not have a time element, so we can add the properties as static properties. This means they will be available at evert point in time and the values will stay the same. \n",
    "\n",
    "Now it's worthwhile noting that we aren't calling a function called `update_vertex` or something similar, even though we know the vertex exists. This is because everything is considered an addition into the history and Raphtory sorts all the ordering internally!"
   ]
  },
  {
   "cell_type": "code",
   "execution_count": 23,
   "metadata": {
    "tags": []
   },
   "outputs": [],
   "source": [
    "with open(properties_file, 'r') as csvfile:\n",
    "    datareader = csv.reader(csvfile)\n",
    "    for row in datareader:\n",
    "        graph.add_vertex_properties(row[0], {\"race\": row[1],\"gender\": row[2]})\n"
   ]
  },
  {
   "cell_type": "markdown",
   "metadata": {},
   "source": [
    "## Using our properties as part of a query\n",
    "To quickly see if our new properties are included in the graph we can write a new query! Lets have a look at the dwarves who have the most interactions.\n",
    "\n",
    "To start we can create a function which for each vertex and check the size of exploded edges. This takes each edge and measures how many times it was updated. E.g. if Gimli and Balin met four times, in the graph they have one edge between them. But if we explode this edge, we can see each time they met.  \n",
    "\n",
    "We can iterate through each vertex and filter by the **race** property and remove anyone who isn't a **dwarf**.\n",
    "\n",
    "Finally, we can sort the data into a dataframe to see **Gimli** has by far the most!"
   ]
  },
  {
   "cell_type": "code",
   "execution_count": 51,
   "metadata": {},
   "outputs": [
    {
     "data": {
      "text/html": [
       "<div>\n",
       "<style scoped>\n",
       "    .dataframe tbody tr th:only-of-type {\n",
       "        vertical-align: middle;\n",
       "    }\n",
       "\n",
       "    .dataframe tbody tr th {\n",
       "        vertical-align: top;\n",
       "    }\n",
       "\n",
       "    .dataframe thead th {\n",
       "        text-align: right;\n",
       "    }\n",
       "</style>\n",
       "<table border=\"1\" class=\"dataframe\">\n",
       "  <thead>\n",
       "    <tr style=\"text-align: right;\">\n",
       "      <th></th>\n",
       "      <th>timestamp</th>\n",
       "      <th>name</th>\n",
       "      <th>interactions</th>\n",
       "    </tr>\n",
       "  </thead>\n",
       "  <tbody>\n",
       "    <tr>\n",
       "      <th>3</th>\n",
       "      <td>31247</td>\n",
       "      <td>Gimli</td>\n",
       "      <td>185</td>\n",
       "    </tr>\n",
       "    <tr>\n",
       "      <th>1</th>\n",
       "      <td>31129</td>\n",
       "      <td>Glóin</td>\n",
       "      <td>31</td>\n",
       "    </tr>\n",
       "    <tr>\n",
       "      <th>2</th>\n",
       "      <td>10938</td>\n",
       "      <td>Balin</td>\n",
       "      <td>14</td>\n",
       "    </tr>\n",
       "    <tr>\n",
       "      <th>0</th>\n",
       "      <td>9605</td>\n",
       "      <td>Thorin</td>\n",
       "      <td>5</td>\n",
       "    </tr>\n",
       "  </tbody>\n",
       "</table>\n",
       "</div>"
      ],
      "text/plain": [
       "   timestamp    name  interactions\n",
       "3      31247   Gimli           185\n",
       "1      31129   Glóin            31\n",
       "2      10938   Balin            14\n",
       "0       9605  Thorin             5"
      ]
     },
     "execution_count": 51,
     "metadata": {},
     "output_type": "execute_result"
    }
   ],
   "source": [
    "result = []\n",
    "# This returns an iterator, so we should store the value to avoid a deadlock\n",
    "vertices = list(graph.vertices())\n",
    "\n",
    "for vertex in vertices:\n",
    "    if vertex.property(\"race\") == \"dwarf\":\n",
    "        interactions = sum([len(e.explode()) for e in vertex.edges()])\n",
    "        latest = vertex.latest_time()\n",
    "        result.append({\"timestamp\": latest, \"name\": vertex.name(), \"interactions\": interactions })\n",
    "\n",
    "pd.DataFrame(result).sort_values(by=\"interactions\",ascending=False) "
   ]
  }
 ],
 "metadata": {
  "kernelspec": {
   "display_name": "Python 3 (ipykernel)",
   "language": "python",
   "name": "python3"
  },
  "language_info": {
   "codemirror_mode": {
    "name": "ipython",
    "version": 3
   },
   "file_extension": ".py",
   "mimetype": "text/x-python",
   "name": "python",
   "nbconvert_exporter": "python",
   "pygments_lexer": "ipython3",
   "version": "3.10.9"
  },
  "vscode": {
   "interpreter": {
    "hash": "a9a34730827747ae273d5a5e0748f342e2039a3997e32d9a086d01739bd0f055"
   }
  }
 },
 "nbformat": 4,
 "nbformat_minor": 4
}
