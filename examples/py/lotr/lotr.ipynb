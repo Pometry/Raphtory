{
 "cells": [
  {
   "cell_type": "code",
   "execution_count": 1,
   "metadata": {},
   "outputs": [
    {
     "name": "stdout",
     "output_type": "stream",
     "text": [
      "shape: (2648, 3)\n",
      "┌───────────┬─────────┬───────┐\n",
      "│ Gandalf   ┆ Elrond  ┆ 33    │\n",
      "│ ---       ┆ ---     ┆ ---   │\n",
      "│ str       ┆ str     ┆ i64   │\n",
      "╞═══════════╪═════════╪═══════╡\n",
      "│ Frodo     ┆ Bilbo   ┆ 114   │\n",
      "│ Blanco    ┆ Marcho  ┆ 146   │\n",
      "│ Frodo     ┆ Bilbo   ┆ 205   │\n",
      "│ Thorin    ┆ Gandalf ┆ 270   │\n",
      "│ ...       ┆ ...     ┆ ...   │\n",
      "│ Merry     ┆ Sam     ┆ 32666 │\n",
      "│ Galadriel ┆ Sam     ┆ 32666 │\n",
      "│ Pippin    ┆ Merry   ┆ 32671 │\n",
      "│ Pippin    ┆ Merry   ┆ 32674 │\n",
      "└───────────┴─────────┴───────┘\n"
     ]
    }
   ],
   "source": [
    "import polars as pl\n",
    "from raphtory import Graph\n",
    "\n",
    "df = pl.read_csv(\"lotr.csv\");\n",
    "\n",
    "print(df);\n"
   ]
  }
 ],
 "metadata": {
  "kernelspec": {
   "display_name": "raphtory",
   "language": "python",
   "name": "python3"
  },
  "language_info": {
   "codemirror_mode": {
    "name": "ipython",
    "version": 3
   },
   "file_extension": ".py",
   "mimetype": "text/x-python",
   "name": "python",
   "nbconvert_exporter": "python",
   "pygments_lexer": "ipython3",
   "version": "3.10.9"
  },
  "orig_nbformat": 4
 },
 "nbformat": 4,
 "nbformat_minor": 2
}
