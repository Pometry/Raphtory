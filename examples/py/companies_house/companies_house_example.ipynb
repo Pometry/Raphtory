{
 "cells": [
  {
   "cell_type": "markdown",
   "metadata": {},
   "source": [
    "## Tracking activity on Companies House"
   ]
  },
  {
   "cell_type": "code",
   "execution_count": 1,
   "metadata": {},
   "outputs": [],
   "source": [
    "import os, json\n",
    "import matplotlib.pyplot as plt\n",
    "from raphtory import Graph\n",
    "from datetime import datetime\n",
    "from raphtory import vis"
   ]
  },
  {
   "cell_type": "markdown",
   "metadata": {},
   "source": [
    "### How to obtain the data"
   ]
  },
  {
   "attachments": {},
   "cell_type": "markdown",
   "metadata": {},
   "source": [
    "The Companies House data can be obtained via their [REST API](https://developer.company-information.service.gov.uk/overview). For this example to work, you will need to use our Companies House scraper. We have made the scraper accessible [via pip install](https://test.pypi.org/project/cohospider/).  All you will need to do is enter your Companies House REST API key which can be obtained from the website via creating a developer account. Our [blog](https://www.raphtory.com/Companies-House-Tutorial/) explains how to do this, in addition to how you can download and run our scraper via pip install."
   ]
  },
  {
   "cell_type": "markdown",
   "metadata": {},
   "source": [
    "### Analysing the data with Raphtory"
   ]
  },
  {
   "cell_type": "markdown",
   "metadata": {},
   "source": [
    "We use the python json library to parse the json files obtained via the crawler. Through this, we can create a Raphtory graph and add our variables to the graph via the `add_edge` function."
   ]
  },
  {
   "attachments": {},
   "cell_type": "markdown",
   "metadata": {},
   "source": [
    "Enter the directory path to your json files inside the path_to_json quotation marks, it should look something like: ~/companies_house_scraper/tutorial/data/aqWJlHS4_rJSJ7rLgTK49iO4gAg."
   ]
  },
  {
   "cell_type": "code",
   "execution_count": 21,
   "metadata": {},
   "outputs": [],
   "source": [
    "path_to_json = '../companies_house/aqWJlHS4_rJSJ7rLgTK49iO4gAg'\n",
    "json_files = [pos_json for pos_json in os.listdir(path_to_json) if pos_json.endswith('.json')]"
   ]
  },
  {
   "attachments": {},
   "cell_type": "markdown",
   "metadata": {},
   "source": [
    "Create a Raphtory graph."
   ]
  },
  {
   "cell_type": "code",
   "execution_count": 4,
   "metadata": {},
   "outputs": [],
   "source": [
    "g = Graph()"
   ]
  },
  {
   "attachments": {},
   "cell_type": "markdown",
   "metadata": {},
   "source": [
    "Iterate through all the json files (there are many files since the crawler works by crawling page by page) and add values to your Raphtory graph via `add_edge` function."
   ]
  },
  {
   "cell_type": "code",
   "execution_count": 5,
   "metadata": {},
   "outputs": [
    {
     "name": "stdout",
     "output_type": "stream",
     "text": [
      "key 'resigned_on' not found in json block\n",
      "key 'resigned_on' not found in json block\n",
      "key 'resigned_on' not found in json block\n",
      "key 'resigned_on' not found in json block\n",
      "key 'resigned_on' not found in json block\n",
      "key 'resigned_on' not found in json block\n",
      "key 'resigned_on' not found in json block\n",
      "key 'resigned_on' not found in json block\n",
      "key 'resigned_on' not found in json block\n",
      "key 'resigned_on' not found in json block\n",
      "key 'resigned_on' not found in json block\n",
      "key 'resigned_on' not found in json block\n",
      "key 'resigned_on' not found in json block\n"
     ]
    }
   ],
   "source": [
    "for index, js in enumerate(json_files):\n",
    "    with open(os.path.join(path_to_json, js)) as json_file:\n",
    "        json_text = json.load(json_file)\n",
    "# Try assigning values to variables. Note that we convert datetime format to epoch timestamps since Raphtory requires time to be in Epoch format.\n",
    "        try:\n",
    "            ap_d = datetime.strptime(json_text['items'][0]['appointed_on'], \"%Y-%m-%d\")\n",
    "            appointed_on = int(datetime.timestamp(ap_d))\n",
    "            re_d =  datetime.strptime(json_text['items'][0]['resigned_on'], \"%Y-%m-%d\")\n",
    "            resigned_on = int(datetime.timestamp(re_d))\n",
    "            company_name = json_text['items'][0]['appointed_to']['company_name']\n",
    "            director_name = json_text['items'][0]['name']\n",
    "# Create an edge with time director was appointed to this company, source node is the director name and target node is the company name. The date the director resigned on is set as a property.\n",
    "            g.add_edge(appointed_on, director_name, company_name, {'resigned_on': resigned_on})\n",
    "# Catch any missing values in the json files (could be because the director has not resigned at this company yet.)\n",
    "        except KeyError as e:\n",
    "            print(f\"key {e} not found in json block\")\n"
   ]
  },
  {
   "cell_type": "markdown",
   "metadata": {},
   "source": [
    "### Finding quick statistics about our data via graphs in Raphtory"
   ]
  },
  {
   "cell_type": "markdown",
   "metadata": {},
   "source": [
    "With the Raphtory API, we can quickly find stats from our data such as the number of companies the director was assigned to, the earliest/latest date the director was assigned to a company and the earliest/latest date the director resigned from a company."
   ]
  },
  {
   "attachments": {},
   "cell_type": "markdown",
   "metadata": {},
   "source": [
    "Create a list of directors to see how many different names the director goes by"
   ]
  },
  {
   "cell_type": "code",
   "execution_count": 6,
   "metadata": {},
   "outputs": [
    {
     "name": "stdout",
     "output_type": "stream",
     "text": [
      "List of director names: {'Barbara Z KAHAN', 'Barbara KAHAN'}\n"
     ]
    }
   ],
   "source": [
    "list_of_src= []\n",
    "for e in g.edges():\n",
    "   list_of_src.append(e.src().name())\n",
    "print(f\"List of director names: {set(list_of_src)}\")"
   ]
  },
  {
   "attachments": {},
   "cell_type": "markdown",
   "metadata": {},
   "source": [
    "num_edges() to find the number of companies formed by the director (director -- company edge)"
   ]
  },
  {
   "cell_type": "code",
   "execution_count": 7,
   "metadata": {},
   "outputs": [
    {
     "name": "stdout",
     "output_type": "stream",
     "text": [
      "Number of companies director assigned to: 443\n"
     ]
    }
   ],
   "source": [
    "print(f\"Number of companies director assigned to: {g.num_edges()}\")"
   ]
  },
  {
   "attachments": {},
   "cell_type": "markdown",
   "metadata": {},
   "source": [
    "Using Python's datetime library to convert epoch back into dates to see what the earliest and latest date the director was assigned to a company."
   ]
  },
  {
   "cell_type": "code",
   "execution_count": 8,
   "metadata": {},
   "outputs": [
    {
     "name": "stdout",
     "output_type": "stream",
     "text": [
      "Earliest date director was assigned to company: 2006-09-01 00:00:00\n",
      "Latest date director was assigned to company: 2016-02-09 00:00:00\n"
     ]
    }
   ],
   "source": [
    "print(f\"Earliest date director was assigned to company: {datetime.fromtimestamp(g.earliest_time())}\")\n",
    "print(f\"Latest date director was assigned to company: {datetime.fromtimestamp(g.latest_time())}\")"
   ]
  },
  {
   "attachments": {},
   "cell_type": "markdown",
   "metadata": {},
   "source": [
    "To obtain the date the director resigned from the company, we have stored this in a property. You can have an infinite number of properties on edges and vertices in Raphtory to store extra information.\n",
    "\n",
    "Through creating a list of these times, we can see what the earliest and latest resignation that the director made."
   ]
  },
  {
   "cell_type": "code",
   "execution_count": 9,
   "metadata": {},
   "outputs": [
    {
     "name": "stdout",
     "output_type": "stream",
     "text": [
      "Earliest company resignation date: 2008-10-01 00:00:00\n",
      "Latest company resignation date: 2020-03-30 00:00:00\n"
     ]
    }
   ],
   "source": [
    "list_resigned_on = []\n",
    "for e in g.edges():\n",
    "    list_resigned_on.append(e.property(\"resigned_on\"))\n",
    "list_resigned_on_max = max(list_resigned_on)\n",
    "list_resigned_on_min = min(list_resigned_on)\n",
    "print(f\"Earliest company resignation date: {datetime.fromtimestamp(list_resigned_on_min)}\")\n",
    "print(f\"Latest company resignation date: {datetime.fromtimestamp(list_resigned_on_max)}\")"
   ]
  },
  {
   "cell_type": "markdown",
   "metadata": {},
   "source": [
    "### Finding information about a particular time window of our graph"
   ]
  },
  {
   "cell_type": "markdown",
   "metadata": {},
   "source": [
    "We can pick a small view of our graph to filter down all the companies this director was assigned to from 2008 to 2015. We do this with the `g.window()` function which takes a start and end time. \n",
    "\n",
    "After creating a view, we can see how many companies the director was appointed to by running the `.degree()` functions on our view."
   ]
  },
  {
   "cell_type": "code",
   "execution_count": 10,
   "metadata": {},
   "outputs": [
    {
     "name": "stdout",
     "output_type": "stream",
     "text": [
      "Number of companies assigned in this time window: 113\n"
     ]
    }
   ],
   "source": [
    "view = g.window(1400000000, 1450000000)\n",
    "print(f\"Number of companies assigned in this time window: {view.vertex('Barbara KAHAN').degree()}\")"
   ]
  },
  {
   "cell_type": "markdown",
   "metadata": {},
   "source": [
    "### Using Raphtory properties to refine our analysis"
   ]
  },
  {
   "cell_type": "markdown",
   "metadata": {},
   "source": [
    "We filter the edges to only see the companies that this director is assigned to and then resigned to the same day."
   ]
  },
  {
   "cell_type": "code",
   "execution_count": 11,
   "metadata": {},
   "outputs": [
    {
     "name": "stdout",
     "output_type": "stream",
     "text": [
      "95\n"
     ]
    }
   ],
   "source": [
    "sus_companies = []\n",
    "for edge in view.vertex('Barbara KAHAN').edges():\n",
    "    if edge.property(\"resigned_on\") == edge.earliest_time():\n",
    "       sus_companies.append(edge)\n",
    "print(sus_companies.__len__())"
   ]
  },
  {
   "attachments": {},
   "cell_type": "markdown",
   "metadata": {},
   "source": [
    "### Creating a line plot visualisation over time"
   ]
  },
  {
   "attachments": {},
   "cell_type": "markdown",
   "metadata": {},
   "source": [
    "We have a function `.rolling()` with a window size of 10000000 milliseconds (3 hours). This window moves forward by a step size (which is the window if you have not specified a step size). \n",
    "\n",
    "Through these methods, we \"roll\" through all the windows/views, counting the number of companies the director was assigned to over time."
   ]
  },
  {
   "cell_type": "code",
   "execution_count": 12,
   "metadata": {},
   "outputs": [],
   "source": [
    "from raphtory import Perspective\n",
    "import seaborn as sns"
   ]
  },
  {
   "attachments": {},
   "cell_type": "markdown",
   "metadata": {},
   "source": [
    "Create a rolling window of 10000000 milliseconds moving forward with a step of 10000000 milliseconds."
   ]
  },
  {
   "cell_type": "code",
   "execution_count": 13,
   "metadata": {},
   "outputs": [],
   "source": [
    "views = g.rolling(10000000) "
   ]
  },
  {
   "attachments": {},
   "cell_type": "markdown",
   "metadata": {},
   "source": [
    "For each view, count the number of edges and note the time"
   ]
  },
  {
   "cell_type": "code",
   "execution_count": 14,
   "metadata": {},
   "outputs": [],
   "source": [
    "timestamps   = []\n",
    "edge_count   = []\n",
    "for view in views:\n",
    "    time = datetime.fromtimestamp(view.latest_time())\n",
    "    timestamps.append(time)\n",
    "    edge_count.append(view.num_edges())            "
   ]
  },
  {
   "attachments": {},
   "cell_type": "markdown",
   "metadata": {},
   "source": [
    "Create the line plot visualisation with seaborn library"
   ]
  },
  {
   "cell_type": "code",
   "execution_count": 15,
   "metadata": {},
   "outputs": [
    {
     "data": {
      "text/plain": [
       "<Axes: xlabel='Time', ylabel='Companies Created'>"
      ]
     },
     "execution_count": 15,
     "metadata": {},
     "output_type": "execute_result"
    },
    {
     "data": {
      "image/png": "[encoded data removed]",
      "text/plain": [
       "<Figure size 640x480 with 1 Axes>"
      ]
     },
     "metadata": {},
     "output_type": "display_data"
    }
   ],
   "source": [
    "sns.set_context()\n",
    "ax = plt.gca()\n",
    "plt.xticks(rotation=45)\n",
    "ax.set_xlabel(\"Time\")\n",
    "ax.set_ylabel(\"Companies Created\")\n",
    "sns.lineplot(x = timestamps, y = edge_count,ax=ax)"
   ]
  },
  {
   "cell_type": "markdown",
   "metadata": {},
   "source": [
    "### Using windows to filter particular timepoints of interest"
   ]
  },
  {
   "cell_type": "markdown",
   "metadata": {},
   "source": [
    "As seen in the line plot, there is a spike at year 2014. To investigate this further we look at a window of 01-01-2014 to 01-01-2015."
   ]
  },
  {
   "cell_type": "code",
   "execution_count": 16,
   "metadata": {},
   "outputs": [
    {
     "data": {
      "text/plain": [
       "<Axes: xlabel='Time', ylabel='Companies Created'>"
      ]
     },
     "execution_count": 16,
     "metadata": {},
     "output_type": "execute_result"
    },
    {
     "data": {
      "image/png": "[encoded data removed]",
      "text/plain": [
       "<Figure size 640x480 with 1 Axes>"
      ]
     },
     "metadata": {},
     "output_type": "display_data"
    }
   ],
   "source": [
    "filtered_view = g.window(1388534400, 1400070400)\n",
    "filtered_views = filtered_view.rolling(100000)\n",
    "timestamps   = []\n",
    "edge_count   = []\n",
    "\n",
    "for filtered_view in filtered_views:\n",
    "    time = datetime.fromtimestamp(filtered_view.latest_time())\n",
    "    timestamps.append(time)\n",
    "    edge_count.append(filtered_view.num_edges())            \n",
    "\n",
    "sns.set_context()\n",
    "ax = plt.gca()\n",
    "plt.xticks(rotation=45)\n",
    "ax.set_xlabel(\"Time\")\n",
    "ax.set_ylabel(\"Companies Created\")\n",
    "sns.lineplot(x = timestamps, y = edge_count,ax=ax)"
   ]
  },
  {
   "cell_type": "markdown",
   "metadata": {},
   "source": [
    "There seems to be a spike between 2014-02-01 to 2014-02-15. We create a window for this spike to investigate further."
   ]
  },
  {
   "cell_type": "code",
   "execution_count": 17,
   "metadata": {},
   "outputs": [
    {
     "data": {
      "text/plain": [
       "<Axes: xlabel='Time', ylabel='Companies Created'>"
      ]
     },
     "execution_count": 17,
     "metadata": {},
     "output_type": "execute_result"
    },
    {
     "data": {
      "image/png": "[encoded data removed]",
      "text/plain": [
       "<Figure size 640x480 with 1 Axes>"
      ]
     },
     "metadata": {},
     "output_type": "display_data"
    }
   ],
   "source": [
    "filtered_view2 = g.window(1391212800, 1392422400)\n",
    "filtered_views2 = filtered_view2.rolling(window=10000) \n",
    "timestamps   = []\n",
    "edge_count   = []\n",
    "\n",
    "for filtered_view2 in filtered_views2:\n",
    "    time = datetime.fromtimestamp(filtered_view2.latest_time())\n",
    "    timestamps.append(time)\n",
    "    edge_count.append(filtered_view2.num_edges())            \n",
    "\n",
    "sns.set_context()\n",
    "ax = plt.gca()\n",
    "plt.xticks(rotation=45)\n",
    "ax.set_xlabel(\"Time\")\n",
    "ax.set_ylabel(\"Companies Created\")\n",
    "sns.lineplot(x = timestamps, y = edge_count,ax=ax)"
   ]
  },
  {
   "cell_type": "markdown",
   "metadata": {},
   "source": [
    "### Dynamic visualisation of your graph in Raphtory"
   ]
  },
  {
   "cell_type": "markdown",
   "metadata": {},
   "source": [
    "To visualise specific dates, we first create window of the time we want and use Raphtory's `.to_pyvis()` function to create a dynamic visualisation of the edges. In this way, we clearly see the director's company assignation and resignation behaviour.\n",
    "\n",
    "The visualisation will appear in a file called `nx.html` which can be opened in a web browser."
   ]
  },
  {
   "cell_type": "code",
   "execution_count": 18,
   "metadata": {},
   "outputs": [
    {
     "name": "stdout",
     "output_type": "stream",
     "text": [
      "Warning: When  cdn_resources is 'local' jupyter notebook has issues displaying graphics on chrome/safari. Use cdn_resources='in_line' or cdn_resources='remote' if you have issues viewing graphics in a notebook.\n",
      "nx.html\n"
     ]
    }
   ],
   "source": [
    "twelfth_of_feb = g.window(1392163199, 1392163201)\n",
    "vis.to_pyvis(graph=twelfth_of_feb, edge_color='#F6E1D3',shape=\"image\")  "
   ]
  },
  {
   "cell_type": "markdown",
   "metadata": {},
   "source": [
    "If you would like your graph in a list of vertices and edges, you can call methods such as `vertices()` and `edges()`."
   ]
  },
  {
   "cell_type": "code",
   "execution_count": 19,
   "metadata": {},
   "outputs": [
    {
     "data": {
      "text/plain": [
       "Vertices(Vertex(name=Barbara KAHAN, properties={_id : Barbara KAHAN}), Vertex(name=JYNUX SYSTEMS LIMITED, properties={_id : JYNUX SYSTEMS LIMITED}), Vertex(name=SIRTRECH LIMITED, properties={_id : SIRTRECH LIMITED}), Vertex(name=HOTSOUND LIMITED, properties={_id : HOTSOUND LIMITED}), Vertex(name=HAXMED LIMITED, properties={_id : HAXMED LIMITED}), Vertex(name=NITESYS LIMITED, properties={_id : NITESYS LIMITED}), Vertex(name=HYPERMANAGE LIMITED, properties={_id : HYPERMANAGE LIMITED}), Vertex(name=LYNXMECH LIMITED, properties={_id : LYNXMECH LIMITED}), Vertex(name=SISTEMON LIMITED, properties={_id : SISTEMON LIMITED}), Vertex(name=GINDOLA TRADERS LIMITED, properties={_id : GINDOLA TRADERS LIMITED}), ...)"
      ]
     },
     "execution_count": 19,
     "metadata": {},
     "output_type": "execute_result"
    }
   ],
   "source": [
    "twelfth_of_feb.vertices()"
   ]
  },
  {
   "cell_type": "code",
   "execution_count": 20,
   "metadata": {},
   "outputs": [
    {
     "data": {
      "text/plain": [
       "Edges(Edge(source=Barbara KAHAN, target=JYNUX SYSTEMS LIMITED, earliest_time=1392163200, latest_time=1392163200, properties={resigned_on : 1499122800}), Edge(source=Barbara KAHAN, target=SIRTRECH LIMITED, earliest_time=1392163200, latest_time=1392163200, properties={resigned_on : 1423785600}), Edge(source=Barbara KAHAN, target=HOTSOUND LIMITED, earliest_time=1392163200, latest_time=1392163200, properties={resigned_on : 1525215600}), Edge(source=Barbara KAHAN, target=HAXMED LIMITED, earliest_time=1392163200, latest_time=1392163200, properties={resigned_on : 1411686000}), Edge(source=Barbara KAHAN, target=NITESYS LIMITED, earliest_time=1392163200, latest_time=1392163200, properties={resigned_on : 1585522800}), Edge(source=Barbara KAHAN, target=HYPERMANAGE LIMITED, earliest_time=1392163200, latest_time=1392163200, properties={resigned_on : 1457308800}), Edge(source=Barbara KAHAN, target=LYNXMECH LIMITED, earliest_time=1392163200, latest_time=1392163200, properties={resigned_on : 1457308800}), Edge(source=Barbara KAHAN, target=SISTEMON LIMITED, earliest_time=1392163200, latest_time=1392163200, properties={resigned_on : 1445817600}), Edge(source=Barbara KAHAN, target=GINDOLA TRADERS LIMITED, earliest_time=1392163200, latest_time=1392163200, properties={resigned_on : 1565132400}), Edge(source=Barbara KAHAN, target=GINDENE LIMITED, earliest_time=1392163200, latest_time=1392163200, properties={resigned_on : 1410908400}), ...)"
      ]
     },
     "execution_count": 20,
     "metadata": {},
     "output_type": "execute_result"
    }
   ],
   "source": [
    "twelfth_of_feb.edges()"
   ]
  }
 ],
 "metadata": {
  "kernelspec": {
   "display_name": "Python 3 (ipykernel)",
   "language": "python",
   "name": "python3"
  },
  "language_info": {
   "codemirror_mode": {
    "name": "ipython",
    "version": 3
   },
   "file_extension": ".py",
   "mimetype": "text/x-python",
   "name": "python",
   "nbconvert_exporter": "python",
   "pygments_lexer": "ipython3",
   "version": "3.10.9"
  }
 },
 "nbformat": 4,
 "nbformat_minor": 2
}
