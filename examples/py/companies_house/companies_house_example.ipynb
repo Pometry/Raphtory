{
 "cells": [
  {
   "attachments": {},
   "cell_type": "markdown",
   "metadata": {},
   "source": [
    "## Tracking activity on Companies House"
   ]
  },
  {
   "attachments": {},
   "cell_type": "markdown",
   "metadata": {},
   "source": [
    "Import all the dependencies."
   ]
  },
  {
   "cell_type": "code",
   "execution_count": 1,
   "metadata": {},
   "outputs": [],
   "source": [
    "import os, json\n",
    "import matplotlib.pyplot as plt\n",
    "from raphtory import Graph\n",
    "from raphtory import vis\n",
    "import datetime"
   ]
  },
  {
   "attachments": {},
   "cell_type": "markdown",
   "metadata": {},
   "source": [
    "### How to obtain the data"
   ]
  },
  {
   "attachments": {},
   "cell_type": "markdown",
   "metadata": {},
   "source": [
    "The Companies House data can be obtained via their [REST API](https://developer.company-information.service.gov.uk/overview). For this example to work, you will need to use our Companies House scraper. We have made the scraper accessible [via pip install](https://test.pypi.org/project/cohospider/).  All you will need to do is enter your Companies House REST API key which can be obtained from the website via creating a developer account. Our [blog](https://www.raphtory.com/Companies-House-Tutorial/) explains how to do this, in addition to how you can download and run our scraper via pip install."
   ]
  },
  {
   "attachments": {},
   "cell_type": "markdown",
   "metadata": {},
   "source": [
    "### Analysing the data with Raphtory"
   ]
  },
  {
   "attachments": {},
   "cell_type": "markdown",
   "metadata": {},
   "source": [
    "We use the python json library to parse the json files obtained via the crawler. Through this, we can create a Raphtory graph and add our variables to the graph via the `add_edge` function."
   ]
  },
  {
   "attachments": {},
   "cell_type": "markdown",
   "metadata": {},
   "source": [
    "Enter the directory path to your json files inside the path_to_json quotation marks, it should look something like: ~/data/aqWJlHS4_rJSJ7rLgTK49iO4gAg."
   ]
  },
  {
   "cell_type": "code",
   "execution_count": 2,
   "metadata": {},
   "outputs": [],
   "source": [
    "path_to_json = ''\n",
    "json_files = [pos_json for pos_json in os.listdir(path_to_json) if pos_json.endswith('.json')]"
   ]
  },
  {
   "attachments": {},
   "cell_type": "markdown",
   "metadata": {},
   "source": [
    "Create a Raphtory graph."
   ]
  },
  {
   "cell_type": "code",
   "execution_count": 3,
   "metadata": {},
   "outputs": [],
   "source": [
    "g = Graph()"
   ]
  },
  {
   "attachments": {},
   "cell_type": "markdown",
   "metadata": {},
   "source": [
    "Iterate through all the json files (there are many files since the crawler works by crawling page by page) and add values to your Raphtory graph via `add_edge` function."
   ]
  },
  {
   "cell_type": "code",
   "execution_count": null,
   "metadata": {},
   "outputs": [],
   "source": [
    "for index, js in enumerate(json_files):\n",
    "    with open(os.path.join(path_to_json, js)) as json_file:\n",
    "        json_text = json.load(json_file)\n",
    "        try:\n",
    "            for item in json_text['items']:\n",
    "                appointed_on = item['appointed_on']\n",
    "                resigned_on = datetime.datetime.strptime(item['resigned_on'], \"%Y-%m-%d\")\n",
    "                resigned_on_string = str(resigned_on)\n",
    "                epoch_resigned = int(datetime.datetime.timestamp(resigned_on)) * 1000\n",
    "                company_name = item['appointed_to']['company_name']\n",
    "                director_name = item['name']\n",
    "                g.add_edge(appointed_on, director_name, company_name, {'resigned_on': resigned_on_string, 'epoch_resigned': epoch_resigned})\n",
    "# Catch any missing values in the json files (could be because the director has not resigned at this company yet.)\n",
    "        except KeyError as e:\n",
    "            print(f\"key {e} not found in json block\")\n",
    "        except Exception as e:\n",
    "            print(f\"{e}\")\n"
   ]
  },
  {
   "attachments": {},
   "cell_type": "markdown",
   "metadata": {},
   "source": [
    "### Finding quick statistics about our data via graphs in Raphtory"
   ]
  },
  {
   "attachments": {},
   "cell_type": "markdown",
   "metadata": {},
   "source": [
    "With the Raphtory API, we can quickly find stats from our data such as the number of companies the director was assigned to, the earliest/latest date the director was assigned to a company and the earliest/latest date the director resigned from a company."
   ]
  },
  {
   "attachments": {},
   "cell_type": "markdown",
   "metadata": {},
   "source": [
    "Create a list of directors to see how many different names the director goes by"
   ]
  },
  {
   "cell_type": "code",
   "execution_count": 5,
   "metadata": {},
   "outputs": [
    {
     "name": "stdout",
     "output_type": "stream",
     "text": [
      "List of director names: {'Barbara Z KAHAN', 'Barbara KAHAN'}\n"
     ]
    }
   ],
   "source": [
    "list_of_src= []\n",
    "for e in g.edges():\n",
    "   list_of_src.append(e.src().name())\n",
    "print(f\"List of director names: {set(list_of_src)}\")"
   ]
  },
  {
   "attachments": {},
   "cell_type": "markdown",
   "metadata": {},
   "source": [
    "num_edges() to find the number of companies formed by the director (director to company edge)"
   ]
  },
  {
   "cell_type": "code",
   "execution_count": 6,
   "metadata": {},
   "outputs": [
    {
     "name": "stdout",
     "output_type": "stream",
     "text": [
      "Number of companies director assigned to: 22305\n"
     ]
    }
   ],
   "source": [
    "print(f\"Number of companies director assigned to: {g.num_edges()}\")"
   ]
  },
  {
   "attachments": {},
   "cell_type": "markdown",
   "metadata": {},
   "source": [
    "Using Python's datetime library to convert epoch back into dates to see what the earliest and latest date the director was assigned to a company."
   ]
  },
  {
   "cell_type": "code",
   "execution_count": 7,
   "metadata": {},
   "outputs": [
    {
     "name": "stdout",
     "output_type": "stream",
     "text": [
      "Earliest date director was assigned to company: 2002-01-14 00:00:00\n",
      "Latest date director was assigned to company: 2016-02-16 00:00:00\n"
     ]
    }
   ],
   "source": [
    "earliest_date = datetime.datetime.fromtimestamp(g.earliest_time()/1000)\n",
    "latest_date = datetime.datetime.fromtimestamp(g.latest_time()/1000)\n",
    "\n",
    "print(f\"Earliest date director was assigned to company: {earliest_date}\")\n",
    "print(f\"Latest date director was assigned to company: {latest_date}\")"
   ]
  },
  {
   "attachments": {},
   "cell_type": "markdown",
   "metadata": {},
   "source": [
    "To obtain the date the director resigned from the company, we have stored this in a property. You can have an infinite number of properties on edges and vertices in Raphtory to store extra information.\n",
    "\n",
    "Through creating a list of these times, we can see what the earliest and latest resignation that the director made."
   ]
  },
  {
   "cell_type": "code",
   "execution_count": 8,
   "metadata": {},
   "outputs": [
    {
     "name": "stdout",
     "output_type": "stream",
     "text": [
      "Earliest company resignation date: 2003-04-09 00:00:00\n",
      "Latest company resignation date: 2020-07-01 00:00:00\n"
     ]
    }
   ],
   "source": [
    "list_resigned_on = []\n",
    "for e in g.edges():\n",
    "    list_resigned_on.append(e.property(\"resigned_on\"))\n",
    "list_resigned_on_max = max(list_resigned_on)\n",
    "list_resigned_on_min = min(list_resigned_on)\n",
    "print(f\"Earliest company resignation date: {list_resigned_on_min}\")\n",
    "print(f\"Latest company resignation date: {list_resigned_on_max}\")"
   ]
  },
  {
   "attachments": {},
   "cell_type": "markdown",
   "metadata": {},
   "source": [
    "### Finding information about a particular time window of our graph"
   ]
  },
  {
   "attachments": {},
   "cell_type": "markdown",
   "metadata": {},
   "source": [
    "We can pick a small view of our graph to filter down all the companies this director was assigned to from 2008 to 2015. We do this with the `g.window()` function which takes a start and end time. \n",
    "\n",
    "After creating a view, we can see how many companies the director was appointed to by running the `.degree()` functions on our view."
   ]
  },
  {
   "cell_type": "code",
   "execution_count": 9,
   "metadata": {},
   "outputs": [
    {
     "name": "stdout",
     "output_type": "stream",
     "text": [
      "True\n",
      "Number of companies assigned in this time window: 5453\n"
     ]
    }
   ],
   "source": [
    "view = g.window(1400000000000, 1450000000000)\n",
    "print(view.has_vertex('Barbara KAHAN'))\n",
    "print(f\"Number of companies assigned in this time window: {view.vertex('Barbara KAHAN').degree()}\")"
   ]
  },
  {
   "attachments": {},
   "cell_type": "markdown",
   "metadata": {},
   "source": [
    "### Using Raphtory properties to refine our analysis"
   ]
  },
  {
   "attachments": {},
   "cell_type": "markdown",
   "metadata": {},
   "source": [
    "Since this director is likely a company formation agent, we should expect them to immediately resign from the company after company creation and hand the company over to the true beneficiary owner of the company. Therefore, let us find the companies where the director stays on for more than a year."
   ]
  },
  {
   "cell_type": "code",
   "execution_count": 10,
   "metadata": {},
   "outputs": [
    {
     "name": "stdout",
     "output_type": "stream",
     "text": [
      "859\n"
     ]
    }
   ],
   "source": [
    "sus_companies = []\n",
    "\n",
    "for edge in g.vertex('Barbara KAHAN').edges():\n",
    "    if (edge.property(\"epoch_resigned\") - edge.earliest_time()) > 31557600000:\n",
    "       sus_companies.append(edge)\n",
    "       \n",
    "print(sus_companies.__len__())"
   ]
  },
  {
   "attachments": {},
   "cell_type": "markdown",
   "metadata": {},
   "source": [
    "### Creating a line plot visualisation over time"
   ]
  },
  {
   "attachments": {},
   "cell_type": "markdown",
   "metadata": {},
   "source": [
    "We have a function `.rolling()` with a window size of 10000000000 milliseconds (around 4 months). This window moves forward by a step size (which is the window if you have not specified a step size). \n",
    "\n",
    "Through these methods, we \"roll\" through all the windows/views, counting the number of companies the director was assigned to over time."
   ]
  },
  {
   "cell_type": "code",
   "execution_count": 11,
   "metadata": {},
   "outputs": [],
   "source": [
    "import seaborn as sns"
   ]
  },
  {
   "attachments": {},
   "cell_type": "markdown",
   "metadata": {},
   "source": [
    "Create a rolling window of 10000000000 milliseconds."
   ]
  },
  {
   "cell_type": "code",
   "execution_count": 12,
   "metadata": {},
   "outputs": [],
   "source": [
    "views = g.rolling(10000000000) "
   ]
  },
  {
   "attachments": {},
   "cell_type": "markdown",
   "metadata": {},
   "source": [
    "For each view, count the number of edges and note the time"
   ]
  },
  {
   "cell_type": "code",
   "execution_count": 13,
   "metadata": {},
   "outputs": [],
   "source": [
    "timestamps   = []\n",
    "edge_count   = []\n",
    "for view in views:\n",
    "    time = datetime.datetime.fromtimestamp(view.latest_time()/1000)\n",
    "    timestamps.append(time)\n",
    "    edge_count.append(view.num_edges())            "
   ]
  },
  {
   "attachments": {},
   "cell_type": "markdown",
   "metadata": {},
   "source": [
    "Create the line plot visualisation with seaborn library"
   ]
  },
  {
   "cell_type": "code",
   "execution_count": 14,
   "metadata": {},
   "outputs": [
    {
     "data": {
      "text/plain": [
       "<Axes: xlabel='Time', ylabel='Companies Created'>"
      ]
     },
     "execution_count": 14,
     "metadata": {},
     "output_type": "execute_result"
    },
    {
     "data": {
      "image/png": "[encoded data removed]",
      "text/plain": [
       "<Figure size 640x480 with 1 Axes>"
      ]
     },
     "metadata": {},
     "output_type": "display_data"
    }
   ],
   "source": [
    "sns.set_context()\n",
    "ax = plt.gca()\n",
    "plt.xticks(rotation=45)\n",
    "ax.set_xlabel(\"Time\")\n",
    "ax.set_ylabel(\"Companies Created\")\n",
    "sns.lineplot(x = timestamps, y = edge_count,ax=ax)"
   ]
  },
  {
   "attachments": {},
   "cell_type": "markdown",
   "metadata": {},
   "source": [
    "### Using windows to filter particular timepoints of interest"
   ]
  },
  {
   "attachments": {},
   "cell_type": "markdown",
   "metadata": {},
   "source": [
    "As seen in the line plot, there is a spike at year 2014. To investigate this further we look at a window of 01-01-2014 to 01-01-2015."
   ]
  },
  {
   "cell_type": "code",
   "execution_count": 15,
   "metadata": {},
   "outputs": [
    {
     "data": {
      "text/plain": [
       "<Axes: xlabel='Time', ylabel='Companies Created'>"
      ]
     },
     "execution_count": 15,
     "metadata": {},
     "output_type": "execute_result"
    },
    {
     "data": {
      "image/png": "[encoded data removed]",
      "text/plain": [
       "<Figure size 640x480 with 1 Axes>"
      ]
     },
     "metadata": {},
     "output_type": "display_data"
    }
   ],
   "source": [
    "filtered_view = g.window(1388534400000, 1400070400000)\n",
    "filtered_views = filtered_view.rolling(100000000)\n",
    "timestamps   = []\n",
    "edge_count   = []\n",
    "\n",
    "for filtered_view in filtered_views:\n",
    "    time = datetime.datetime.fromtimestamp(filtered_view.latest_time()/1000)\n",
    "    timestamps.append(time)\n",
    "    edge_count.append(filtered_view.num_edges())            \n",
    "\n",
    "sns.set_context()\n",
    "ax = plt.gca()\n",
    "plt.xticks(rotation=45)\n",
    "ax.set_xlabel(\"Time\")\n",
    "ax.set_ylabel(\"Companies Created\")\n",
    "sns.lineplot(x = timestamps, y = edge_count,ax=ax)"
   ]
  },
  {
   "attachments": {},
   "cell_type": "markdown",
   "metadata": {},
   "source": [
    "There seems to be a spike between 2014-02-01 to 2014-02-15. We create a window for this spike to investigate further."
   ]
  },
  {
   "cell_type": "code",
   "execution_count": 16,
   "metadata": {},
   "outputs": [
    {
     "data": {
      "text/plain": [
       "<Axes: xlabel='Time', ylabel='Companies Created'>"
      ]
     },
     "execution_count": 16,
     "metadata": {},
     "output_type": "execute_result"
    },
    {
     "data": {
      "image/png": "[encoded data removed]",
      "text/plain": [
       "<Figure size 640x480 with 1 Axes>"
      ]
     },
     "metadata": {},
     "output_type": "display_data"
    }
   ],
   "source": [
    "filtered_view2 = g.window(1391212800000, 1392422400000)\n",
    "filtered_views2 = filtered_view2.rolling(window=10000000) \n",
    "timestamps   = []\n",
    "edge_count   = []\n",
    "\n",
    "for filtered_view2 in filtered_views2:\n",
    "    time = datetime.datetime.fromtimestamp(filtered_view2.latest_time()/1000)\n",
    "    timestamps.append(time)\n",
    "    edge_count.append(filtered_view2.num_edges())            \n",
    "\n",
    "sns.set_context()\n",
    "ax = plt.gca()\n",
    "plt.xticks(rotation=45)\n",
    "ax.set_xlabel(\"Time\")\n",
    "ax.set_ylabel(\"Companies Created\")\n",
    "sns.lineplot(x = timestamps, y = edge_count,ax=ax)"
   ]
  },
  {
   "attachments": {},
   "cell_type": "markdown",
   "metadata": {},
   "source": [
    "There seems to be a spike on 2014-02-12. We investigate this further by creating a window that only includes this date and create a new graph where companies are only added if the director has stayed at that company longer than a year."
   ]
  },
  {
   "cell_type": "code",
   "execution_count": 17,
   "metadata": {},
   "outputs": [
    {
     "name": "stdout",
     "output_type": "stream",
     "text": [
      "263\n"
     ]
    }
   ],
   "source": [
    "sus_companies = []\n",
    "twelfth_of_feb = g.window(1391212800000, 1392422400000)\n",
    "for edge in twelfth_of_feb.vertex('Barbara KAHAN').edges():\n",
    "    if (edge.property(\"epoch_resigned\") - edge.earliest_time()) > 157784630000:\n",
    "       sus_companies.append(edge)\n",
    "g2 = Graph()\n",
    "for edge in sus_companies:\n",
    "    g2.add_edge(1, edge.src().name(), edge.dst().name())\n",
    "print(sus_companies.__len__())"
   ]
  },
  {
   "attachments": {},
   "cell_type": "markdown",
   "metadata": {},
   "source": [
    "### Dynamic visualisation of your graph in Raphtory"
   ]
  },
  {
   "attachments": {},
   "cell_type": "markdown",
   "metadata": {},
   "source": [
    "To visualise in Raphtory, we use Raphtory's `.to_pyvis()` function to create a dynamic visualisation of the edges. In this way, we can see the companies involved on 2014-02-12, and the companies where the director has stayed longer than a year at.\n",
    "\n",
    "The visualisation will appear in a file called `nx.html` which can be opened in a web browser."
   ]
  },
  {
   "cell_type": "code",
   "execution_count": null,
   "metadata": {},
   "outputs": [],
   "source": [
    "vis.to_pyvis(graph=g2, edge_color='#F6E1D3',shape=\"image\")  "
   ]
  },
  {
   "attachments": {},
   "cell_type": "markdown",
   "metadata": {},
   "source": [
    "If you would like your graph in a list of vertices and edges, you can call methods such as `vertices()` and `edges()`."
   ]
  },
  {
   "cell_type": "code",
   "execution_count": null,
   "metadata": {},
   "outputs": [],
   "source": [
    "twelfth_of_feb.vertices()"
   ]
  },
  {
   "cell_type": "code",
   "execution_count": null,
   "metadata": {},
   "outputs": [],
   "source": [
    "twelfth_of_feb.edges()"
   ]
  }
 ],
 "metadata": {
  "kernelspec": {
   "display_name": "Python 3 (ipykernel)",
   "language": "python",
   "name": "python3"
  },
  "language_info": {
   "codemirror_mode": {
    "name": "ipython",
    "version": 3
   },
   "file_extension": ".py",
   "mimetype": "text/x-python",
   "name": "python",
   "nbconvert_exporter": "python",
   "pygments_lexer": "ipython3",
   "version": "3.11.3"
  }
 },
 "nbformat": 4,
 "nbformat_minor": 2
}
