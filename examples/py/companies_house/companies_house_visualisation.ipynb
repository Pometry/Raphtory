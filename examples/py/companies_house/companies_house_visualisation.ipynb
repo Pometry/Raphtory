{
 "cells": [
  {
   "cell_type": "markdown",
   "metadata": {},
   "source": [
    "# Companies House Example 💼"
   ]
  },
  {
   "cell_type": "markdown",
   "metadata": {},
   "source": [
    "Install and import all dependencies."
   ]
  },
  {
   "cell_type": "code",
   "execution_count": null,
   "metadata": {},
   "outputs": [],
   "source": [
    "%pip install requests\n",
    "%pip install pyvis"
   ]
  },
  {
   "cell_type": "code",
   "execution_count": null,
   "metadata": {},
   "outputs": [],
   "source": [
    "import pandas as pd\n",
    "import csv\n",
    "import matplotlib.pyplot as plt"
   ]
  },
  {
   "cell_type": "markdown",
   "metadata": {},
   "source": [
    "## Visualise graph with vis.draw() method in Raphtory.\n",
    "### vis.draw() requires a Raphtory graph. "
   ]
  },
  {
   "cell_type": "markdown",
   "metadata": {},
   "source": [
    "1. If you would like custom node images, you can add an image url as a property when adding a vertex onto the Raphtory graph. e.g. properties = {\"image\": \"your-image-url.png\"}. Then add the property name to variable `node_image` when calling vis.draw(). You will also need to set the variable `shape` as \"image\".\n",
    "\n",
    "2. To change the thickness of an edge based off edge weight, make sure you add your edge weights as a property when adding edges to your Raphtory graph. e.g. properties = {\"weight\": 1}. You will also need to set the variable `edge_weight` to the your property name when calling vis.draw().\n",
    "\n",
    "3. To add labels on your edges which can be seen when hovering over the edges with your cursor, you will need to add your label text as a property when adding your edges. You will also need to set the variable `edge_label` when you call vis.draw()."
   ]
  },
  {
   "cell_type": "code",
   "execution_count": null,
   "metadata": {},
   "outputs": [],
   "source": [
    "from raphtory import export\n",
    "from raphtory import Graph\n",
    "import requests\n",
    "from contextlib import closing\n",
    "import csv\n",
    "import codecs\n",
    "\n",
    "url = \"https://raw.githubusercontent.com/Raphtory/Data/main/companies_house_nhs_data.csv\"\n",
    "g = Graph()\n",
    "with closing(requests.get(url, stream=True)) as r:\n",
    "    reader = csv.reader(codecs.iterdecode(r.iter_lines(), 'utf-8'), delimiter=',')\n",
    "    next(reader)\n",
    "    for row in reader:\n",
    "        src = row[1].strip()\n",
    "        dst = row[7].strip()\n",
    "        company = row[2].replace(\"'\", \"\")\n",
    "        notified_on = row[0]\n",
    "        share = row[3]\n",
    "        title = f'Ownership: {share}%, Notified On: {notified_on}'\n",
    "\n",
    "        g.add_vertex(1, src, properties={\"image\": \"https://www.seekpng.com/png/small/846-8465978_critres-de-choix-pour-la-solution-de-cration.png\"})\n",
    "        g.add_vertex(1, dst, properties={\"image\": \"https://www.seekpng.com/png/small/846-8465978_critres-de-choix-pour-la-solution-de-cration.png\"})\n",
    "        g.add_vertex(1, company, properties={\"image\": \"https://cdn-icons-png.flaticon.com/512/2083/2083417.png\"})\n",
    "        g.add_edge(1, src, company, properties={\"title\": title, \"weight\": share})\n",
    "        g.add_edge(1, dst, company, properties={\"title\": title, \"weight\": share})\n",
    "\n",
    "export.to_networkx(graph=g)\n",
    "export.to_pyvis(graph=g, edge_color='#F6E1D3', edge_weight=\"weight\", shape=\"image\", edge_label=\"title\", node_image=\"image\")  "
   ]
  }
 ],
 "metadata": {
  "kernelspec": {
   "display_name": "raphtory",
   "language": "python",
   "name": "python3"
  },
  "language_info": {
   "codemirror_mode": {
    "name": "ipython",
    "version": 3
   },
   "file_extension": ".py",
   "mimetype": "text/x-python",
   "name": "python",
   "nbconvert_exporter": "python",
   "pygments_lexer": "ipython3",
   "version": "3.11.3"
  }
 },
 "nbformat": 4,
 "nbformat_minor": 2
}
