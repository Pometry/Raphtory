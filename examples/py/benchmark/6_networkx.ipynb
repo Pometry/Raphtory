{
 "cells": [
  {
   "cell_type": "code",
   "execution_count": 1,
   "id": "9725e87e",
   "metadata": {},
   "outputs": [],
   "source": [
    "import networkx as nx"
   ]
  },
  {
   "cell_type": "code",
   "execution_count": 2,
   "id": "f4989882",
   "metadata": {},
   "outputs": [],
   "source": [
    "import gzip\n",
    "import csv\n",
    "from tqdm import tqdm\n",
    "import random\n",
    "\n",
    "profiles_file = \"data/soc-pokec-profiles.txt.gz\" # 1,632,803\n",
    "relationships_file = \"data/soc-pokec-relationships.txt.gz\" # 30,622,564"
   ]
  },
  {
   "cell_type": "code",
   "execution_count": 5,
   "id": "539eb82c",
   "metadata": {},
   "outputs": [],
   "source": [
    "g = nx.DiGraph()"
   ]
  },
  {
   "cell_type": "markdown",
   "id": "f0a6407c",
   "metadata": {},
   "source": [
    "# LOAD DATA"
   ]
  },
  {
   "cell_type": "code",
   "execution_count": 6,
   "id": "2b382307",
   "metadata": {},
   "outputs": [
    {
     "name": "stderr",
     "output_type": "stream",
     "text": [
      "100%|███████████████████████████████████████████████████| 30622564/30622564 [01:47<00:00, 286160.67it/s]\n"
     ]
    }
   ],
   "source": [
    "with gzip.open(relationships_file, 'rt') as f:\n",
    "    reader = csv.reader(f, delimiter='\\t')\n",
    "    for row in tqdm(reader, total=30622564):\n",
    "        g.add_edge(int(row[0]), int(row[1]))"
   ]
  },
  {
   "cell_type": "markdown",
   "id": "1ffa036f",
   "metadata": {},
   "source": [
    "### Degree → Degree of all nodes "
   ]
  },
  {
   "cell_type": "code",
   "execution_count": 8,
   "id": "687a3993",
   "metadata": {},
   "outputs": [
    {
     "name": "stdout",
     "output_type": "stream",
     "text": [
      "5.1 µs ± 0 ns per loop (mean ± std. dev. of 1 run, 1 loop each)\n"
     ]
    }
   ],
   "source": [
    "%%timeit -r 1 -n 1\n",
    "deg = g.degree()"
   ]
  },
  {
   "cell_type": "markdown",
   "id": "3db8058c",
   "metadata": {},
   "source": [
    "### Out_neighbours"
   ]
  },
  {
   "cell_type": "code",
   "execution_count": 13,
   "id": "80b60654",
   "metadata": {},
   "outputs": [
    {
     "name": "stdout",
     "output_type": "stream",
     "text": [
      "174 µs ± 0 ns per loop (mean ± std. dev. of 1 run, 1 loop each)\n"
     ]
    }
   ],
   "source": [
    "%%timeit -n 1 -r 1\n",
    "_id = 5935\n",
    "len([n for n in g.neighbors(_id)])"
   ]
  },
  {
   "cell_type": "code",
   "execution_count": 15,
   "id": "c809e197",
   "metadata": {},
   "outputs": [
    {
     "data": {
      "text/plain": [
       "6785"
      ]
     },
     "execution_count": 15,
     "metadata": {},
     "output_type": "execute_result"
    }
   ],
   "source": [
    "len([n for n in g.neighbors(5935)])"
   ]
  },
  {
   "cell_type": "markdown",
   "id": "5a1dacc3",
   "metadata": {},
   "source": [
    "### PageRank"
   ]
  },
  {
   "cell_type": "code",
   "execution_count": 17,
   "id": "1ca78708",
   "metadata": {},
   "outputs": [
    {
     "name": "stdout",
     "output_type": "stream",
     "text": [
      "1min 19s ± 0 ns per loop (mean ± std. dev. of 1 run, 1 loop each)\n"
     ]
    }
   ],
   "source": [
    "%%timeit -n 1 -r 1\n",
    "r = nx.pagerank(g)"
   ]
  },
  {
   "cell_type": "code",
   "execution_count": null,
   "id": "01d43909",
   "metadata": {},
   "outputs": [],
   "source": [
    "r = nx.pagerank(g)"
   ]
  },
  {
   "cell_type": "markdown",
   "id": "16dcbde6",
   "metadata": {},
   "source": [
    "### Connected Components"
   ]
  },
  {
   "cell_type": "code",
   "execution_count": null,
   "id": "b5915cf1",
   "metadata": {},
   "outputs": [],
   "source": [
    "%%timeit -n 1 -r 1\n",
    "len([len(comp) for comp in nx.connected_components(g)]"
   ]
  }
 ],
 "metadata": {
  "kernelspec": {
   "display_name": "Python 3 (ipykernel)",
   "language": "python",
   "name": "python3"
  },
  "language_info": {
   "codemirror_mode": {
    "name": "ipython",
    "version": 3
   },
   "file_extension": ".py",
   "mimetype": "text/x-python",
   "name": "python",
   "nbconvert_exporter": "python",
   "pygments_lexer": "ipython3",
   "version": "3.11.3"
  }
 },
 "nbformat": 4,
 "nbformat_minor": 5
}
