{
 "cells": [
  {
   "cell_type": "code",
   "execution_count": 1,
   "id": "9725e87e",
   "metadata": {},
   "outputs": [],
   "source": [
    "import graph_tool.all as gt"
   ]
  },
  {
   "cell_type": "code",
   "execution_count": 2,
   "id": "f4989882",
   "metadata": {},
   "outputs": [],
   "source": [
    "import gzip\n",
    "import csv\n",
    "from tqdm import tqdm\n",
    "import random\n",
    "\n",
    "profiles_file = \"data/soc-pokec-profiles.txt.gz\" # 1,632,803\n",
    "relationships_file = \"data/soc-pokec-relationships.txt.gz\" # 30,622,564"
   ]
  },
  {
   "cell_type": "code",
   "execution_count": 3,
   "id": "539eb82c",
   "metadata": {},
   "outputs": [],
   "source": [
    "g = gt.Graph()"
   ]
  },
  {
   "cell_type": "markdown",
   "id": "f0a6407c",
   "metadata": {},
   "source": [
    "# LOAD DATA"
   ]
  },
  {
   "cell_type": "code",
   "execution_count": 4,
   "id": "2b382307",
   "metadata": {},
   "outputs": [
    {
     "name": "stderr",
     "output_type": "stream",
     "text": [
      "100%|███████████████████████████████████████████████████| 30622564/30622564 [02:29<00:00, 205407.39it/s]\n"
     ]
    }
   ],
   "source": [
    "with gzip.open(relationships_file, 'rt') as f:\n",
    "    reader = csv.reader(f, delimiter='\\t')\n",
    "    for row in tqdm(reader, total=30622564):\n",
    "        g.add_edge(int(row[0]), int(row[1]))"
   ]
  },
  {
   "cell_type": "markdown",
   "id": "1ffa036f",
   "metadata": {},
   "source": [
    "### Degree → Degree of all nodes "
   ]
  },
  {
   "cell_type": "code",
   "execution_count": 63,
   "id": "687a3993",
   "metadata": {},
   "outputs": [],
   "source": [
    "%%timeit\n",
    "all_degrees = g.degree_property_map('total').get_array()"
   ]
  },
  {
   "cell_type": "code",
   "execution_count": 51,
   "id": "174bf05b",
   "metadata": {},
   "outputs": [],
   "source": [
    "vertices = list(g.vertices())"
   ]
  },
  {
   "cell_type": "markdown",
   "id": "3db8058c",
   "metadata": {},
   "source": [
    "### Out_neighbours"
   ]
  },
  {
   "cell_type": "code",
   "execution_count": 72,
   "id": "80b60654",
   "metadata": {},
   "outputs": [
    {
     "name": "stdout",
     "output_type": "stream",
     "text": [
      "4.96 ms ± 0 ns per loop (mean ± std. dev. of 1 run, 1 loop each)\n"
     ]
    }
   ],
   "source": [
    "%%timeit -n 1 -r 1\n",
    "_id = 5935\n",
    "out_neighbours = list(g.iter_out_neighbors(_id))\n",
    "len(out_neighbours)"
   ]
  },
  {
   "cell_type": "markdown",
   "id": "5a1dacc3",
   "metadata": {},
   "source": [
    "### PageRank"
   ]
  },
  {
   "cell_type": "code",
   "execution_count": 73,
   "id": "1ca78708",
   "metadata": {},
   "outputs": [
    {
     "name": "stdout",
     "output_type": "stream",
     "text": [
      "7.76 s ± 0 ns per loop (mean ± std. dev. of 1 run, 1 loop each)\n"
     ]
    }
   ],
   "source": [
    "%%timeit -n 1 -r 1\n",
    "pr = gt.pagerank(g)"
   ]
  },
  {
   "cell_type": "markdown",
   "id": "16dcbde6",
   "metadata": {},
   "source": [
    "### Connected Components"
   ]
  },
  {
   "cell_type": "code",
   "execution_count": 90,
   "id": "7c65ab20",
   "metadata": {},
   "outputs": [
    {
     "name": "stdout",
     "output_type": "stream",
     "text": [
      "2.87 s ± 0 ns per loop (mean ± std. dev. of 1 run, 1 loop each)\n"
     ]
    }
   ],
   "source": [
    "%%timeit -n 1 -r 1\n",
    "comp, hist = gt.label_components(g)\n",
    "len(hist), len(list(comp))"
   ]
  }
 ],
 "metadata": {
  "kernelspec": {
   "display_name": "Python 3 (ipykernel)",
   "language": "python",
   "name": "python3"
  },
  "language_info": {
   "codemirror_mode": {
    "name": "ipython",
    "version": 3
   },
   "file_extension": ".py",
   "mimetype": "text/x-python",
   "name": "python",
   "nbconvert_exporter": "python",
   "pygments_lexer": "ipython3",
   "version": "3.11.3"
  }
 },
 "nbformat": 4,
 "nbformat_minor": 5
}
