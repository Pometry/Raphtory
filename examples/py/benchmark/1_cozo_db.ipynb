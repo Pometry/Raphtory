{
 "cells": [
  {
   "cell_type": "code",
   "execution_count": 1,
   "id": "1d95ac7f-86e3-427f-a122-87d62b6ede66",
   "metadata": {},
   "outputs": [],
   "source": [
    "# pip install \"pycozo[embedded,requests,pandas]\""
   ]
  },
  {
   "cell_type": "code",
   "execution_count": 1,
   "id": "a2909529-03cd-4005-9fd0-795001dd7504",
   "metadata": {},
   "outputs": [],
   "source": [
    "import gzip\n",
    "import csv\n",
    "from tqdm import tqdm\n",
    "import random"
   ]
  },
  {
   "cell_type": "code",
   "execution_count": 2,
   "id": "4bed9ac3-f136-4313-a5cb-d0ae38ed8159",
   "metadata": {},
   "outputs": [],
   "source": [
    "from pycozo.client import Client\n",
    "client = Client('rocksdb', 'file.db')"
   ]
  },
  {
   "cell_type": "code",
   "execution_count": 3,
   "id": "b2963982-f44d-4046-84f0-963983f9f53c",
   "metadata": {},
   "outputs": [],
   "source": [
    "profiles_file = \"data/soc-pokec-profiles.txt.gz\" # 1,632,803\n",
    "relationships_file = \"data/soc-pokec-relationships.txt.gz\" # 30,622,564"
   ]
  },
  {
   "cell_type": "code",
   "execution_count": 4,
   "id": "35a5d5be-8027-4653-8c0f-5c064204dc40",
   "metadata": {},
   "outputs": [],
   "source": [
    "def profile_tx_loader(client, profiles_file):\n",
    "    tx = client.multi_transact(True)\n",
    "    tx.run(':create profile {profile}')\n",
    "    with gzip.open(profiles_file, 'rt') as f:\n",
    "        reader = csv.reader(f, delimiter='\\t')\n",
    "        for row in tqdm(reader, total=30622564):\n",
    "            props = {\n",
    "                \"user_id\": row[0],\n",
    "                \"public\": row[1], \n",
    "                \"gender\": row[3],\n",
    "                \"region\": row[4],\n",
    "                \"last_login\": row[5],\n",
    "                \"registration\": row[6],\n",
    "                \"age\": row[7],\n",
    "            }\n",
    "            tx.run(command)\n",
    "            tx.commit() # `tx.abort()` abandons the changes so far \n",
    "            break"
   ]
  },
  {
   "cell_type": "code",
   "execution_count": null,
   "id": "17d82861-80db-46c0-b7f4-53937bd2ea47",
   "metadata": {},
   "outputs": [],
   "source": [
    "with gzip.open(profiles_file, 'rt') as f:\n",
    "    reader = csv.reader(f, delimiter='\\t')\n",
    "    for row in tqdm(reader, total=30622564):\n",
    "        break\n",
    "\n",
    "tx = client.multi_transact(True)\n",
    "# command = '?[a] <- [[\\''+row[0]+'\\',\\''+row[1]+'\\',\\''+row[3]+'\\',\\''+row[4]+'\\',\\''+row[5]+'\\',\\''+row[6]+'\\']] :put profile {profile}' \n",
    "tx.run('?[user_id, public, gender, region, last_login, registration, age] <- [[$user_id, $public, $gender, $region, $last_login, $registration, $age]]  :put a {a}', \n",
    "       {\n",
    "                \"user_id\": row[0],\n",
    "                \"public\": row[1], \n",
    "                \"gender\": row[3],\n",
    "                \"region\": row[4],\n",
    "                \"last_login\": row[5],\n",
    "                \"registration\": row[6],\n",
    "                \"age\": row[7],\n",
    "            })\n",
    "# tx.commit()"
   ]
  },
  {
   "cell_type": "code",
   "execution_count": 10,
   "id": "9e1be12c-aafa-4e93-a1e1-aa27d74b56e6",
   "metadata": {},
   "outputs": [],
   "source": [
    "tx.run('?[a, b, c, d] <- [[$a, $b, $c, $d]]', \n",
    "       {\n",
    "                \"a\": 'aa',\n",
    "                \"b\": 'bb', \n",
    "                \"c\": 'cc',\n",
    "                \"d\": 'dd',\n",
    "            })\n",
    "tx.commit()"
   ]
  },
  {
   "cell_type": "code",
   "execution_count": 15,
   "id": "18a55771-1d15-4b71-999d-ace719b0b227",
   "metadata": {},
   "outputs": [
    {
     "ename": "QueryException",
     "evalue": "The query parser has encountered unexpected input / end of input at 14..14",
     "output_type": "error",
     "traceback": [
      "\u001b[0;31m---------------------------------------------------------------------------\u001b[0m",
      "\u001b[0;31mQueryException\u001b[0m                            Traceback (most recent call last)",
      "Cell \u001b[0;32mIn[15], line 1\u001b[0m\n\u001b[0;32m----> 1\u001b[0m \u001b[43mclient\u001b[49m\u001b[38;5;241;43m.\u001b[39;49m\u001b[43mrun\u001b[49m\u001b[43m(\u001b[49m\u001b[38;5;124;43m'\u001b[39;49m\u001b[38;5;124;43m?[a,b,c,d] := *a,b,c,d[a,b,c,d]\u001b[39;49m\u001b[38;5;124;43m'\u001b[39;49m\u001b[43m)\u001b[49m\n",
      "File \u001b[0;32m~/opt/anaconda3/envs/docbrown/lib/python3.10/site-packages/pycozo/client.py:112\u001b[0m, in \u001b[0;36mClient.run\u001b[0;34m(self, script, params)\u001b[0m\n\u001b[1;32m    110\u001b[0m     \u001b[38;5;28;01mreturn\u001b[39;00m \u001b[38;5;28mself\u001b[39m\u001b[38;5;241m.\u001b[39m_client_request(script, params)\n\u001b[1;32m    111\u001b[0m \u001b[38;5;28;01melse\u001b[39;00m:\n\u001b[0;32m--> 112\u001b[0m     \u001b[38;5;28;01mreturn\u001b[39;00m \u001b[38;5;28;43mself\u001b[39;49m\u001b[38;5;241;43m.\u001b[39;49m\u001b[43m_embedded_request\u001b[49m\u001b[43m(\u001b[49m\u001b[43mscript\u001b[49m\u001b[43m,\u001b[49m\u001b[43m \u001b[49m\u001b[43mparams\u001b[49m\u001b[43m)\u001b[49m\n",
      "File \u001b[0;32m~/opt/anaconda3/envs/docbrown/lib/python3.10/site-packages/pycozo/client.py:96\u001b[0m, in \u001b[0;36mClient._embedded_request\u001b[0;34m(self, script, params)\u001b[0m\n\u001b[1;32m     94\u001b[0m     res \u001b[38;5;241m=\u001b[39m \u001b[38;5;28mself\u001b[39m\u001b[38;5;241m.\u001b[39membedded\u001b[38;5;241m.\u001b[39mrun_script(script, params \u001b[38;5;129;01mor\u001b[39;00m {})\n\u001b[1;32m     95\u001b[0m \u001b[38;5;28;01mexcept\u001b[39;00m \u001b[38;5;167;01mException\u001b[39;00m \u001b[38;5;28;01mas\u001b[39;00m e:\n\u001b[0;32m---> 96\u001b[0m     \u001b[38;5;28;01mraise\u001b[39;00m QueryException(e\u001b[38;5;241m.\u001b[39margs[\u001b[38;5;241m0\u001b[39m]) \u001b[38;5;28;01mfrom\u001b[39;00m \u001b[38;5;28;01mNone\u001b[39;00m\n\u001b[1;32m     97\u001b[0m \u001b[38;5;28;01mif\u001b[39;00m \u001b[38;5;28mself\u001b[39m\u001b[38;5;241m.\u001b[39mpandas:\n\u001b[1;32m     98\u001b[0m     \u001b[38;5;28;01mreturn\u001b[39;00m \u001b[38;5;28mself\u001b[39m\u001b[38;5;241m.\u001b[39mpandas\u001b[38;5;241m.\u001b[39mDataFrame(columns\u001b[38;5;241m=\u001b[39mres[\u001b[38;5;124m'\u001b[39m\u001b[38;5;124mheaders\u001b[39m\u001b[38;5;124m'\u001b[39m], data\u001b[38;5;241m=\u001b[39mres[\u001b[38;5;124m'\u001b[39m\u001b[38;5;124mrows\u001b[39m\u001b[38;5;124m'\u001b[39m])\n",
      "\u001b[0;31mQueryException\u001b[0m: The query parser has encountered unexpected input / end of input at 14..14"
     ]
    }
   ],
   "source": [
    "client.run('?[a,b,c,d] := *a,b,c,d[a,b,c,d]')"
   ]
  },
  {
   "cell_type": "code",
   "execution_count": 6,
   "id": "639b4f03-18ca-44e2-badb-d9b7741bafda",
   "metadata": {},
   "outputs": [
    {
     "name": "stderr",
     "output_type": "stream",
     "text": [
      "  0%|                                                                                                                                 | 0/30622564 [00:00<?, ?it/s]\n"
     ]
    },
    {
     "ename": "Exception",
     "evalue": "{'causes': [], 'code': 'parser::fixed_rule_head_arity_mismatch', 'display': \"\\x1b[31mparser::fixed_rule_head_arity_mismatch\\x1b[0m\\n\\n  \\x1b[31m×\\x1b[0m Fixed rule head arity mismatch\\n   ╭────\\n \\x1b[2m1\\x1b[0m │ ?[a] <- [['1','1','1','zilinsky kraj, zilina','2012-05-25 11:20:00.0','2005-04-03 00:00:00.0']] :put profile {profile}\\n   · \\x1b[35;1m────────────────────────────────────────────────────────────────────────────────────────────────\\x1b[0m\\n   ╰────\\n\\x1b[36m  help: \\x1b[0mExpected arity: 6, number of arguments given: 1\\n\", 'filename': '', 'help': 'Expected arity: 6, number of arguments given: 1', 'labels': [{'span': {'length': 96, 'offset': 0}}], 'message': 'Fixed rule head arity mismatch', 'ok': False, 'related': [], 'severity': 'error'}",
     "output_type": "error",
     "traceback": [
      "\u001b[0;31m---------------------------------------------------------------------------\u001b[0m",
      "\u001b[0;31mException\u001b[0m                                 Traceback (most recent call last)",
      "Cell \u001b[0;32mIn[6], line 1\u001b[0m\n\u001b[0;32m----> 1\u001b[0m \u001b[43mprofile_tx_loader\u001b[49m\u001b[43m(\u001b[49m\u001b[43mclient\u001b[49m\u001b[43m,\u001b[49m\u001b[43m \u001b[49m\u001b[43mprofiles_file\u001b[49m\u001b[43m)\u001b[49m\n",
      "Cell \u001b[0;32mIn[5], line 17\u001b[0m, in \u001b[0;36mprofile_tx_loader\u001b[0;34m(client, profiles_file)\u001b[0m\n\u001b[1;32m      7\u001b[0m props \u001b[38;5;241m=\u001b[39m {\n\u001b[1;32m      8\u001b[0m     \u001b[38;5;124m\"\u001b[39m\u001b[38;5;124muser_id\u001b[39m\u001b[38;5;124m\"\u001b[39m: row[\u001b[38;5;241m0\u001b[39m],\n\u001b[1;32m      9\u001b[0m     \u001b[38;5;124m\"\u001b[39m\u001b[38;5;124mpublic\u001b[39m\u001b[38;5;124m\"\u001b[39m: row[\u001b[38;5;241m1\u001b[39m], \n\u001b[0;32m   (...)\u001b[0m\n\u001b[1;32m     14\u001b[0m     \u001b[38;5;124m\"\u001b[39m\u001b[38;5;124mage\u001b[39m\u001b[38;5;124m\"\u001b[39m: row[\u001b[38;5;241m7\u001b[39m],\n\u001b[1;32m     15\u001b[0m }\n\u001b[1;32m     16\u001b[0m command \u001b[38;5;241m=\u001b[39m \u001b[38;5;124m'\u001b[39m\u001b[38;5;124m?[a] <- [[\u001b[39m\u001b[38;5;130;01m\\'\u001b[39;00m\u001b[38;5;124m'\u001b[39m\u001b[38;5;241m+\u001b[39mrow[\u001b[38;5;241m0\u001b[39m]\u001b[38;5;241m+\u001b[39m\u001b[38;5;124m'\u001b[39m\u001b[38;5;130;01m\\'\u001b[39;00m\u001b[38;5;124m,\u001b[39m\u001b[38;5;130;01m\\'\u001b[39;00m\u001b[38;5;124m'\u001b[39m\u001b[38;5;241m+\u001b[39mrow[\u001b[38;5;241m1\u001b[39m]\u001b[38;5;241m+\u001b[39m\u001b[38;5;124m'\u001b[39m\u001b[38;5;130;01m\\'\u001b[39;00m\u001b[38;5;124m,\u001b[39m\u001b[38;5;130;01m\\'\u001b[39;00m\u001b[38;5;124m'\u001b[39m\u001b[38;5;241m+\u001b[39mrow[\u001b[38;5;241m3\u001b[39m]\u001b[38;5;241m+\u001b[39m\u001b[38;5;124m'\u001b[39m\u001b[38;5;130;01m\\'\u001b[39;00m\u001b[38;5;124m,\u001b[39m\u001b[38;5;130;01m\\'\u001b[39;00m\u001b[38;5;124m'\u001b[39m\u001b[38;5;241m+\u001b[39mrow[\u001b[38;5;241m4\u001b[39m]\u001b[38;5;241m+\u001b[39m\u001b[38;5;124m'\u001b[39m\u001b[38;5;130;01m\\'\u001b[39;00m\u001b[38;5;124m,\u001b[39m\u001b[38;5;130;01m\\'\u001b[39;00m\u001b[38;5;124m'\u001b[39m\u001b[38;5;241m+\u001b[39mrow[\u001b[38;5;241m5\u001b[39m]\u001b[38;5;241m+\u001b[39m\u001b[38;5;124m'\u001b[39m\u001b[38;5;130;01m\\'\u001b[39;00m\u001b[38;5;124m,\u001b[39m\u001b[38;5;130;01m\\'\u001b[39;00m\u001b[38;5;124m'\u001b[39m\u001b[38;5;241m+\u001b[39mrow[\u001b[38;5;241m6\u001b[39m]\u001b[38;5;241m+\u001b[39m\u001b[38;5;124m'\u001b[39m\u001b[38;5;130;01m\\'\u001b[39;00m\u001b[38;5;124m]] :put profile \u001b[39m\u001b[38;5;132;01m{profile}\u001b[39;00m\u001b[38;5;124m'\u001b[39m \n\u001b[0;32m---> 17\u001b[0m \u001b[43mtx\u001b[49m\u001b[38;5;241;43m.\u001b[39;49m\u001b[43mrun\u001b[49m\u001b[43m(\u001b[49m\u001b[43mcommand\u001b[49m\u001b[43m)\u001b[49m\n\u001b[1;32m     18\u001b[0m tx\u001b[38;5;241m.\u001b[39mcommit() \u001b[38;5;66;03m# `tx.abort()` abandons the changes so far \u001b[39;00m\n\u001b[1;32m     19\u001b[0m \u001b[38;5;28;01mbreak\u001b[39;00m\n",
      "File \u001b[0;32m~/opt/anaconda3/envs/docbrown/lib/python3.10/site-packages/pycozo/client.py:336\u001b[0m, in \u001b[0;36mMultiTransact.run\u001b[0;34m(self, script, params)\u001b[0m\n\u001b[1;32m    335\u001b[0m \u001b[38;5;28;01mdef\u001b[39;00m \u001b[38;5;21mrun\u001b[39m(\u001b[38;5;28mself\u001b[39m, script, params\u001b[38;5;241m=\u001b[39m\u001b[38;5;28;01mNone\u001b[39;00m):\n\u001b[0;32m--> 336\u001b[0m     \u001b[38;5;28;01mreturn\u001b[39;00m \u001b[38;5;28;43mself\u001b[39;49m\u001b[38;5;241;43m.\u001b[39;49m\u001b[43mmulti_tx\u001b[49m\u001b[38;5;241;43m.\u001b[39;49m\u001b[43mrun_script\u001b[49m\u001b[43m(\u001b[49m\u001b[43mscript\u001b[49m\u001b[43m,\u001b[49m\u001b[43m \u001b[49m\u001b[43mparams\u001b[49m\u001b[43m \u001b[49m\u001b[38;5;129;43;01mor\u001b[39;49;00m\u001b[43m \u001b[49m\u001b[43m{\u001b[49m\u001b[43m}\u001b[49m\u001b[43m)\u001b[49m\n",
      "\u001b[0;31mException\u001b[0m: {'causes': [], 'code': 'parser::fixed_rule_head_arity_mismatch', 'display': \"\\x1b[31mparser::fixed_rule_head_arity_mismatch\\x1b[0m\\n\\n  \\x1b[31m×\\x1b[0m Fixed rule head arity mismatch\\n   ╭────\\n \\x1b[2m1\\x1b[0m │ ?[a] <- [['1','1','1','zilinsky kraj, zilina','2012-05-25 11:20:00.0','2005-04-03 00:00:00.0']] :put profile {profile}\\n   · \\x1b[35;1m────────────────────────────────────────────────────────────────────────────────────────────────\\x1b[0m\\n   ╰────\\n\\x1b[36m  help: \\x1b[0mExpected arity: 6, number of arguments given: 1\\n\", 'filename': '', 'help': 'Expected arity: 6, number of arguments given: 1', 'labels': [{'span': {'length': 96, 'offset': 0}}], 'message': 'Fixed rule head arity mismatch', 'ok': False, 'related': [], 'severity': 'error'}"
     ]
    }
   ],
   "source": [
    "profile_tx_loader(client, profiles_file)"
   ]
  },
  {
   "cell_type": "code",
   "execution_count": 16,
   "id": "1ce92ad5-f279-476a-b480-e84251bc96f7",
   "metadata": {},
   "outputs": [],
   "source": [
    "client.close()"
   ]
  },
  {
   "cell_type": "code",
   "execution_count": null,
   "id": "1bc12f92-4ab0-413a-8367-76b3c4092b0c",
   "metadata": {},
   "outputs": [],
   "source": []
  }
 ],
 "metadata": {
  "kernelspec": {
   "display_name": "Python 3 (ipykernel)",
   "language": "python",
   "name": "python3"
  },
  "language_info": {
   "codemirror_mode": {
    "name": "ipython",
    "version": 3
   },
   "file_extension": ".py",
   "mimetype": "text/x-python",
   "name": "python",
   "nbconvert_exporter": "python",
   "pygments_lexer": "ipython3",
   "version": "3.10.9"
  }
 },
 "nbformat": 4,
 "nbformat_minor": 5
}
