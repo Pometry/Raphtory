{
 "cells": [
  {
   "cell_type": "code",
   "execution_count": null,
   "id": "1d95ac7f-86e3-427f-a122-87d62b6ede66",
   "metadata": {},
   "outputs": [],
   "source": [
    "# pip install \"pycozo[embedded,requests,pandas]\""
   ]
  },
  {
   "cell_type": "code",
   "execution_count": 1,
   "id": "a2909529-03cd-4005-9fd0-795001dd7504",
   "metadata": {},
   "outputs": [],
   "source": [
    "import gzip\n",
    "import csv\n",
    "from tqdm import tqdm\n",
    "import random\n",
    "from pycozo.client import Client\n",
    "client = Client()\n",
    "\n",
    "profiles_file = \"data/soc-pokec-profiles.txt.gz\" # 1,632,803\n",
    "relationships_file = \"data/soc-pokec-relationships.txt.gz\" # 30,622,564\n",
    "simple_nodes = \"data/nodes.csv\"\n",
    "simple_edges = \"data/rel.csv\""
   ]
  },
  {
   "cell_type": "code",
   "execution_count": 2,
   "id": "fe6d419e-cf2e-4fe5-a401-c228225030a7",
   "metadata": {},
   "outputs": [
    {
     "name": "stderr",
     "output_type": "stream",
     "text": [
      "  0%|                                                                      | 0/30622564 [00:00<?, ?it/s]\n"
     ]
    }
   ],
   "source": [
    "tx = client.multi_transact(True) # Pass False or nothing for read-only transaction\n",
    "tx.run(':create node {node}')\n",
    "with open(\"data/nodes.csv\", 'rt') as f:\n",
    "    reader = csv.reader(f, delimiter='\\t')\n",
    "    for row in tqdm(reader, total=30622564):\n",
    "        query = '?[node] <- [['+row[0]+']] :put node {node}'\n",
    "        tx.run(query)\n",
    "        break"
   ]
  },
  {
   "cell_type": "code",
   "execution_count": 3,
   "id": "41456de6-f21f-401b-9378-b25f2f754f88",
   "metadata": {},
   "outputs": [
    {
     "ename": "Exception",
     "evalue": "{'causes': [], 'code': 'eval::unbound_variable', 'display': \"\\x1b[31meval::unbound_variable\\x1b[0m\\n\\n  \\x1b[31m×\\x1b[0m Atom contains unbound variable, or rule contains no variable at all\\n   ╭─[2:1]\\n \\x1b[2m2\\x1b[0m │     res[idx],\\n \\x1b[2m3\\x1b[0m │     label == 'person'\\n   · \\x1b[35;1m    ─────────────────\\x1b[0m\\n   ╰────\\n\", 'filename': '', 'labels': [{'span': {'length': 17, 'offset': 29}}], 'message': 'Atom contains unbound variable, or rule contains no variable at all', 'ok': False, 'related': [], 'severity': 'error'}",
     "output_type": "error",
     "traceback": [
      "\u001b[0;31m---------------------------------------------------------------------------\u001b[0m",
      "\u001b[0;31mException\u001b[0m                                 Traceback (most recent call last)",
      "Cell \u001b[0;32mIn[3], line 1\u001b[0m\n\u001b[0;32m----> 1\u001b[0m \u001b[43mtx\u001b[49m\u001b[38;5;241;43m.\u001b[39;49m\u001b[43mrun\u001b[49m\u001b[43m(\u001b[49m\u001b[38;5;124;43m\"\"\"\u001b[39;49m\u001b[38;5;124;43m?[idx] := \u001b[39;49m\n\u001b[1;32m      2\u001b[0m \u001b[38;5;124;43m    res[idx],\u001b[39;49m\n\u001b[1;32m      3\u001b[0m \u001b[38;5;124;43m    label == \u001b[39;49m\u001b[38;5;124;43m'\u001b[39;49m\u001b[38;5;124;43mperson\u001b[39;49m\u001b[38;5;124;43m'\u001b[39;49m\u001b[38;5;124;43m\"\"\"\u001b[39;49m\u001b[43m)\u001b[49m\n",
      "File \u001b[0;32m~/opt/anaconda3/envs/docbrown/lib/python3.10/site-packages/pycozo/client.py:336\u001b[0m, in \u001b[0;36mMultiTransact.run\u001b[0;34m(self, script, params)\u001b[0m\n\u001b[1;32m    335\u001b[0m \u001b[38;5;28;01mdef\u001b[39;00m \u001b[38;5;21mrun\u001b[39m(\u001b[38;5;28mself\u001b[39m, script, params\u001b[38;5;241m=\u001b[39m\u001b[38;5;28;01mNone\u001b[39;00m):\n\u001b[0;32m--> 336\u001b[0m     \u001b[38;5;28;01mreturn\u001b[39;00m \u001b[38;5;28;43mself\u001b[39;49m\u001b[38;5;241;43m.\u001b[39;49m\u001b[43mmulti_tx\u001b[49m\u001b[38;5;241;43m.\u001b[39;49m\u001b[43mrun_script\u001b[49m\u001b[43m(\u001b[49m\u001b[43mscript\u001b[49m\u001b[43m,\u001b[49m\u001b[43m \u001b[49m\u001b[43mparams\u001b[49m\u001b[43m \u001b[49m\u001b[38;5;129;43;01mor\u001b[39;49;00m\u001b[43m \u001b[49m\u001b[43m{\u001b[49m\u001b[43m}\u001b[49m\u001b[43m)\u001b[49m\n",
      "\u001b[0;31mException\u001b[0m: {'causes': [], 'code': 'eval::unbound_variable', 'display': \"\\x1b[31meval::unbound_variable\\x1b[0m\\n\\n  \\x1b[31m×\\x1b[0m Atom contains unbound variable, or rule contains no variable at all\\n   ╭─[2:1]\\n \\x1b[2m2\\x1b[0m │     res[idx],\\n \\x1b[2m3\\x1b[0m │     label == 'person'\\n   · \\x1b[35;1m    ─────────────────\\x1b[0m\\n   ╰────\\n\", 'filename': '', 'labels': [{'span': {'length': 17, 'offset': 29}}], 'message': 'Atom contains unbound variable, or rule contains no variable at all', 'ok': False, 'related': [], 'severity': 'error'}"
     ]
    }
   ],
   "source": [
    "tx.run(\"\"\"?[idx] := \n",
    "    res[idx],\n",
    "    label == 'person'\"\"\")\n"
   ]
  },
  {
   "cell_type": "code",
   "execution_count": 5,
   "id": "63bf6f7c-b8e5-4a7a-8882-f1cda95f3eb6",
   "metadata": {},
   "outputs": [],
   "source": [
    "tx.abort()"
   ]
  },
  {
   "cell_type": "code",
   "execution_count": null,
   "id": "4ddb1ba6-5693-4756-a1a7-d4dc0d487e78",
   "metadata": {},
   "outputs": [],
   "source": [
    "tx = client.multi_transact(True) # Pass False or nothing for read-only transaction\n",
    "tx.run(':create node {node}')\n",
    "with open(\"data/nodes.csv\", 'rt') as f:\n",
    "    reader = csv.reader(f, delimiter='\\t')\n",
    "    for row in tqdm(reader, total=30622564):\n",
    "        query = '?res[node] <- [['+row[0]+']] :put node {node}'\n",
    "        tx.run(query)"
   ]
  },
  {
   "cell_type": "code",
   "execution_count": 4,
   "id": "816d4611-1c2c-4a3e-9b4d-2f47f6b68337",
   "metadata": {},
   "outputs": [
    {
     "ename": "Exception",
     "evalue": "{'causes': [], 'code': 'parser::pest', 'display': '\\x1b[31mparser::pest\\x1b[0m\\n\\n  \\x1b[31m×\\x1b[0m The query parser has encountered unexpected input / end of input at 0..0\\n   ╭────\\n \\x1b[2m1\\x1b[0m │ ?res[node] <- [[1]] :put node {node}\\n   · \\x1b[35;1m▲\\x1b[0m\\n   ╰────\\n', 'filename': '', 'labels': [{'span': {'length': 0, 'offset': 0}}], 'message': 'The query parser has encountered unexpected input / end of input at 0..0', 'ok': False, 'related': [], 'severity': 'error'}",
     "output_type": "error",
     "traceback": [
      "\u001b[0;31m---------------------------------------------------------------------------\u001b[0m",
      "\u001b[0;31mException\u001b[0m                                 Traceback (most recent call last)",
      "Cell \u001b[0;32mIn[4], line 5\u001b[0m\n\u001b[1;32m      1\u001b[0m tx \u001b[38;5;241m=\u001b[39m client\u001b[38;5;241m.\u001b[39mmulti_transact(\u001b[38;5;28;01mTrue\u001b[39;00m) \u001b[38;5;66;03m# Pass False or nothing for read-only transaction\u001b[39;00m\n\u001b[1;32m      3\u001b[0m tx\u001b[38;5;241m.\u001b[39mrun(\u001b[38;5;124m'\u001b[39m\u001b[38;5;124m:create node \u001b[39m\u001b[38;5;132;01m{node}\u001b[39;00m\u001b[38;5;124m'\u001b[39m)\n\u001b[0;32m----> 5\u001b[0m \u001b[43mtx\u001b[49m\u001b[38;5;241;43m.\u001b[39;49m\u001b[43mrun\u001b[49m\u001b[43m(\u001b[49m\u001b[38;5;124;43m'\u001b[39;49m\u001b[38;5;124;43m?res[node] <- [[1]] :put node \u001b[39;49m\u001b[38;5;132;43;01m{node}\u001b[39;49;00m\u001b[38;5;124;43m'\u001b[39;49m\u001b[43m)\u001b[49m\n\u001b[1;32m      6\u001b[0m tx\u001b[38;5;241m.\u001b[39mrun(\u001b[38;5;124m'\u001b[39m\u001b[38;5;124m?res[node] <- [[2]] :put node \u001b[39m\u001b[38;5;132;01m{node}\u001b[39;00m\u001b[38;5;124m'\u001b[39m)\n\u001b[1;32m      7\u001b[0m tx\u001b[38;5;241m.\u001b[39mrun(\u001b[38;5;124m'\u001b[39m\u001b[38;5;124m?res[node] <- [[3]] :put node \u001b[39m\u001b[38;5;132;01m{node}\u001b[39;00m\u001b[38;5;124m'\u001b[39m)\n",
      "File \u001b[0;32m~/opt/anaconda3/envs/docbrown/lib/python3.10/site-packages/pycozo/client.py:336\u001b[0m, in \u001b[0;36mMultiTransact.run\u001b[0;34m(self, script, params)\u001b[0m\n\u001b[1;32m    335\u001b[0m \u001b[38;5;28;01mdef\u001b[39;00m \u001b[38;5;21mrun\u001b[39m(\u001b[38;5;28mself\u001b[39m, script, params\u001b[38;5;241m=\u001b[39m\u001b[38;5;28;01mNone\u001b[39;00m):\n\u001b[0;32m--> 336\u001b[0m     \u001b[38;5;28;01mreturn\u001b[39;00m \u001b[38;5;28;43mself\u001b[39;49m\u001b[38;5;241;43m.\u001b[39;49m\u001b[43mmulti_tx\u001b[49m\u001b[38;5;241;43m.\u001b[39;49m\u001b[43mrun_script\u001b[49m\u001b[43m(\u001b[49m\u001b[43mscript\u001b[49m\u001b[43m,\u001b[49m\u001b[43m \u001b[49m\u001b[43mparams\u001b[49m\u001b[43m \u001b[49m\u001b[38;5;129;43;01mor\u001b[39;49;00m\u001b[43m \u001b[49m\u001b[43m{\u001b[49m\u001b[43m}\u001b[49m\u001b[43m)\u001b[49m\n",
      "\u001b[0;31mException\u001b[0m: {'causes': [], 'code': 'parser::pest', 'display': '\\x1b[31mparser::pest\\x1b[0m\\n\\n  \\x1b[31m×\\x1b[0m The query parser has encountered unexpected input / end of input at 0..0\\n   ╭────\\n \\x1b[2m1\\x1b[0m │ ?res[node] <- [[1]] :put node {node}\\n   · \\x1b[35;1m▲\\x1b[0m\\n   ╰────\\n', 'filename': '', 'labels': [{'span': {'length': 0, 'offset': 0}}], 'message': 'The query parser has encountered unexpected input / end of input at 0..0', 'ok': False, 'related': [], 'severity': 'error'}"
     ]
    }
   ],
   "source": [
    "tx = client.multi_transact(True) # Pass False or nothing for read-only transaction\n",
    "\n",
    "tx.run(':create node {node}')\n",
    "\n",
    "tx.run('?res[node] <- [[1]] :put node {node}')\n",
    "tx.run('?res[node] <- [[2]] :put node {node}')\n",
    "tx.run('?res[node] <- [[3]] :put node {node}')\n",
    "tx.commit() # `tx.abort()` abandons the changes so far \n",
    "            # and deletes resources associated with the transaction.\n",
    "\n",
    "r = client.run('?[node] := *node[node]')\n",
    "assert r['node'].values == [[1], [2], [3]]"
   ]
  },
  {
   "cell_type": "code",
   "execution_count": 8,
   "id": "555603e2-30f8-432a-9b0f-7b06ed692334",
   "metadata": {},
   "outputs": [
    {
     "data": {
      "text/plain": [
       "array([1, 2, 3])"
      ]
     },
     "execution_count": 8,
     "metadata": {},
     "output_type": "execute_result"
    }
   ],
   "source": []
  },
  {
   "cell_type": "code",
   "execution_count": null,
   "id": "35a5d5be-8027-4653-8c0f-5c064204dc40",
   "metadata": {},
   "outputs": [],
   "source": [
    "def profile_tx_loader(client, profiles_file):\n",
    "    tx = client.multi_transact(True)\n",
    "    tx.run(':create profile {profile}')\n",
    "    with gzip.open(profiles_file, 'rt') as f:\n",
    "        reader = csv.reader(f, delimiter='\\t')\n",
    "        for row in tqdm(reader, total=30622564):\n",
    "            props = {\n",
    "                \"user_id\": row[0],\n",
    "                \"public\": row[1], \n",
    "                \"gender\": row[3],\n",
    "                \"region\": row[4],\n",
    "                \"last_login\": row[5],\n",
    "                \"registration\": row[6],\n",
    "                \"age\": row[7],\n",
    "            }\n",
    "            tx.run(command)\n",
    "            tx.commit() # `tx.abort()` abandons the changes so far \n",
    "            break"
   ]
  },
  {
   "cell_type": "code",
   "execution_count": null,
   "id": "d024325a-ac27-4373-9ca7-876bf243831e",
   "metadata": {},
   "outputs": [],
   "source": [
    "profile_tx_loader(client, profiles_file)"
   ]
  },
  {
   "cell_type": "code",
   "execution_count": null,
   "id": "17d82861-80db-46c0-b7f4-53937bd2ea47",
   "metadata": {},
   "outputs": [],
   "source": [
    "with gzip.open(profiles_file, 'rt') as f:\n",
    "    reader = csv.reader(f, delimiter='\\t')\n",
    "    for row in tqdm(reader, total=30622564):\n",
    "        break\n",
    "\n",
    "tx = client.multi_transact(True)\n",
    "# command = '?[a] <- [[\\''+row[0]+'\\',\\''+row[1]+'\\',\\''+row[3]+'\\',\\''+row[4]+'\\',\\''+row[5]+'\\',\\''+row[6]+'\\']] :put profile {profile}' \n",
    "tx.run('?[user_id, public, gender, region, last_login, registration, age] <- [[$user_id, $public, $gender, $region, $last_login, $registration, $age]]  :put a {a}', \n",
    "       {\n",
    "                \"user_id\": row[0],\n",
    "                \"public\": row[1], \n",
    "                \"gender\": row[3],\n",
    "                \"region\": row[4],\n",
    "                \"last_login\": row[5],\n",
    "                \"registration\": row[6],\n",
    "                \"age\": row[7],\n",
    "            })\n",
    "# tx.commit()"
   ]
  },
  {
   "cell_type": "code",
   "execution_count": null,
   "id": "09230361-b525-49b7-a3b8-1dd884821c82",
   "metadata": {},
   "outputs": [],
   "source": [
    "x=1"
   ]
  },
  {
   "cell_type": "code",
   "execution_count": null,
   "id": "9e1be12c-aafa-4e93-a1e1-aa27d74b56e6",
   "metadata": {},
   "outputs": [],
   "source": [
    "tx.run('?[a, b, c, d] <- [[$a, $b, $c, $d]]', \n",
    "       {\n",
    "                \"a\": 'aa',\n",
    "                \"b\": 'bb', \n",
    "                \"c\": 'cc',\n",
    "                \"d\": 'dd',\n",
    "            })\n",
    "tx.commit()"
   ]
  },
  {
   "cell_type": "code",
   "execution_count": null,
   "id": "18a55771-1d15-4b71-999d-ace719b0b227",
   "metadata": {},
   "outputs": [],
   "source": [
    "client.run('?[a,b,c,d] := *a,b,c,d[a,b,c,d]')"
   ]
  },
  {
   "cell_type": "code",
   "execution_count": null,
   "id": "639b4f03-18ca-44e2-badb-d9b7741bafda",
   "metadata": {},
   "outputs": [],
   "source": [
    "profile_tx_loader(client, profiles_file)"
   ]
  },
  {
   "cell_type": "code",
   "execution_count": null,
   "id": "1ce92ad5-f279-476a-b480-e84251bc96f7",
   "metadata": {},
   "outputs": [],
   "source": [
    "client.close()"
   ]
  },
  {
   "cell_type": "code",
   "execution_count": null,
   "id": "1bc12f92-4ab0-413a-8367-76b3c4092b0c",
   "metadata": {},
   "outputs": [],
   "source": []
  }
 ],
 "metadata": {
  "kernelspec": {
   "display_name": "Python 3 (ipykernel)",
   "language": "python",
   "name": "python3"
  },
  "language_info": {
   "codemirror_mode": {
    "name": "ipython",
    "version": 3
   },
   "file_extension": ".py",
   "mimetype": "text/x-python",
   "name": "python",
   "nbconvert_exporter": "python",
   "pygments_lexer": "ipython3",
   "version": "3.10.9"
  }
 },
 "nbformat": 4,
 "nbformat_minor": 5
}
