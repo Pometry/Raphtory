{
 "cells": [
  {
   "cell_type": "code",
   "execution_count": null,
   "id": "d12dd39c",
   "metadata": {},
   "outputs": [],
   "source": [
    "# Load raphtory \n",
    "import gzip\n",
    "import csv\n",
    "import raphtory\n",
    "from tqdm import tqdm\n",
    "import random\n",
    "\n",
    "profiles_file = \"data/soc-pokec-profiles.txt.gz\" # 1,632,803\n",
    "relationships_file = \"data/soc-pokec-relationships.txt.gz\" # 30,622,564"
   ]
  },
  {
   "cell_type": "code",
   "execution_count": null,
   "id": "5ce9f4e9",
   "metadata": {},
   "outputs": [],
   "source": [
    "def load_edges(g):\n",
    "    # Load edges\n",
    "    with gzip.open(relationships_file, 'rt') as f:\n",
    "        reader = csv.reader(f, delimiter='\\t')\n",
    "        c=0\n",
    "        for row in tqdm(reader, total=30622564):\n",
    "            c+=1\n",
    "            if c == 10000:\n",
    "                break\n",
    "            g.add_edge(1, row[0], row[1], {})\n",
    "    # 30622564it [02:07, 240673.12it/s]\n",
    "\n",
    "def load_props(g):\n",
    "    # Load node properties\n",
    "    with gzip.open(profiles_file, 'rt') as f:\n",
    "        reader = csv.reader(f, delimiter='\\t')\n",
    "        for row in tqdm(reader, total=1632803):\n",
    "            props = {\n",
    "                \"user_id\": row[0],\n",
    "                \"public\": row[1], \n",
    "                \"gender\": row[3],\n",
    "                \"region\": row[4],\n",
    "                \"last_login\": row[5],\n",
    "                \"registration\": row[6],\n",
    "                \"age\": row[7],\n",
    "            }\n",
    "            g.add_vertex(1, row[0], props)\n",
    "    # 30622564it [02:07, 240673.12it/s]    \n",
    "\n",
    "def save_graph(g):\n",
    "    # 2gb file\n",
    "    g.save_to_file(\"saved_graph\")\n",
    "    \n",
    "def load_graph():\n",
    "    return raphtory.Graph.load_from_file(\"/Users/haaroony/Documents/dev/Raphtory/examples/py/benchmark/saved_graph\")\n",
    "    \n",
    "def new_graph():\n",
    "    g = raphtory.Graph()\n",
    "    load_edges(g)\n",
    "    load_props(g)\n",
    "    return g"
   ]
  },
  {
   "cell_type": "code",
   "execution_count": null,
   "id": "8e9a367a",
   "metadata": {},
   "outputs": [],
   "source": [
    "# Graph(number_of_edges=30622564, \n",
    "#    number_of_vertices=1632803, \n",
    "#   earliest_time=1, latest_time=1)\n",
    "# g = new_graph()\n",
    "g = load_graph()"
   ]
  },
  {
   "cell_type": "code",
   "execution_count": null,
   "id": "0cd600db",
   "metadata": {},
   "outputs": [],
   "source": []
  }
 ],
 "metadata": {
  "kernelspec": {
   "display_name": "Python 3 (ipykernel)",
   "language": "python",
   "name": "python3"
  },
  "language_info": {
   "codemirror_mode": {
    "name": "ipython",
    "version": 3
   },
   "file_extension": ".py",
   "mimetype": "text/x-python",
   "name": "python",
   "nbconvert_exporter": "python",
   "pygments_lexer": "ipython3",
   "version": "3.11.3"
  }
 },
 "nbformat": 4,
 "nbformat_minor": 5
}
