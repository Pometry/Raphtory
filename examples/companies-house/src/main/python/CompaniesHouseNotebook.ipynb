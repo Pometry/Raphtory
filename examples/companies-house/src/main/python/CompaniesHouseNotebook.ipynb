{
 "cells": [
  {
   "cell_type": "code",
   "execution_count": null,
   "id": "282ea3ac",
   "metadata": {},
   "outputs": [],
   "source": [
    "import pandas as pd\n",
    "import seaborn as sns\n",
    "from scipy import stats\n",
    "import numpy as np\n",
    "import time\n",
    "import matplotlib.pyplot as plt\n",
    "plt.rcParams['font.size'] = '16'"
   ]
  },
  {
   "cell_type": "code",
   "execution_count": null,
   "id": "f5a89b0f",
   "metadata": {},
   "outputs": [],
   "source": [
    "cohodf = pd.read_csv(\"\",sep=',',header=None)"
   ]
  },
  {
   "cell_type": "code",
   "execution_count": null,
   "id": "b57ba669",
   "metadata": {},
   "outputs": [],
   "source": [
    "cohodf.columns=[\"timestamp\",\"window\",\"psc\",\"company\"]"
   ]
  },
  {
   "cell_type": "code",
   "execution_count": null,
   "id": "5da15981",
   "metadata": {},
   "outputs": [],
   "source": [
    "swiftFilter = \"8d_bnTiwfxh8JIr3YfuwkmkWkCg\"\n",
    "swiftDf=cohodf[cohodf['officer']==swiftFilter]\n",
    "\n",
    "instantFilter = \"SBjtBss_I4XEupbfAUXoeAkMcIk\"\n",
    "instantDf=cohodf[cohodf['officer']==instantFilter]\n",
    "\n",
    "companyDirectorsFilter = \"C7trUnW0xAvzpaSmVXVviwNi2BY\"\n",
    "companyDirectorsDf = cohodf[cohodf['officer']==companyDirectorsFilter]\n",
    "\n",
    "templeSecretariesFilter=\"xLPL0PBzn14BtfuhzOZQswj4AoM\"\n",
    "templeSecretariesDf = cohodf[cohodf['officer']==templeSecretariesFilter]\n",
    "\n",
    "formTenDirectorsFilter = \"aDjhOpnMaB_uAHDxRnMLWpa9C-I\"\n",
    "formTenDirectorsDf = cohodf[cohodf['officer']==formTenDirectorsFilter]\n",
    "\n",
    "formTenSecretariesFilter = \"Yg4rTn5QucYg_hJOxGTnx3B51WY\"\n",
    "formTenSecretariesDf = cohodf[cohodf['officer']==formTenSecretariesFilter]\n",
    "\n",
    "harleyStreetFilter = \"NjXloTUDlStWw9T7mfDI5dkFLsg\"\n",
    "harleyStreetDf=cohodf[cohodf['officer']==harleyStreetFilter]"
   ]
  },
  {
   "cell_type": "code",
   "execution_count": null,
   "id": "9b45560c",
   "metadata": {},
   "outputs": [],
   "source": [
    "harleyStreetDf1=harleyStreetDf[harleyStreetDf[\"Company Duration\"]<4000]\n",
    "harleyStreetDf2=harleyStreetDf[harleyStreetDf[\"Company Duration\"]<1000]\n",
    "harleyStreetDf3=harleyStreetDf[harleyStreetDf[\"Company Duration\"]<365]\n",
    "\n",
    "sns.histplot(data=harleyStreetDf3, x=\"Company Duration\", color=\"skyblue\")\n",
    "plt.xlabel(\"Days\", fontsize=15)\n",
    "plt.ylabel(\"Frequency\",fontsize=15)\n",
    "plt.title(\"Company Duration\")"
   ]
  },
  {
   "cell_type": "code",
   "execution_count": null,
   "id": "71738914",
   "metadata": {},
   "outputs": [],
   "source": [
    "templeSecretariesDf=templeSecretariesDf[templeSecretariesDf[\"Company Duration\"]>=0]\n",
    "templeSecretariesDf1=templeSecretariesDf[templeSecretariesDf[\"Company Duration\"]<4000]\n",
    "templeSecretariesDf2=templeSecretariesDf[templeSecretariesDf[\"Company Duration\"]<1000]\n",
    "templeSecretariesDf3=templeSecretariesDf[templeSecretariesDf[\"Company Duration\"]<365]\n",
    "\n",
    "g= sns.histplot(data=templeSecretariesDf1, x=\"Company Duration\", color=\"salmon\")\n",
    "g.set_yscale(\"log\")\n",
    "plt.xlabel(\"Days\", fontsize=15)\n",
    "plt.ylabel(\"Frequency\",fontsize=15)\n",
    "plt.title(\"Company Duration\")"
   ]
  },
  {
   "cell_type": "code",
   "execution_count": null,
   "id": "15040759",
   "metadata": {},
   "outputs": [],
   "source": [
    "companyDirectorsDf=companyDirectorsDf[companyDirectorsDf[\"Company Duration\"]>=0]\n",
    "companyDirectorsDf1=companyDirectorsDf[companyDirectorsDf[\"Company Duration\"]<4000]\n",
    "companyDirectorsDf2=companyDirectorsDf[companyDirectorsDf[\"Company Duration\"]<1000]\n",
    "companyDirectorsDf3=companyDirectorsDf[companyDirectorsDf[\"Company Duration\"]<365]\n",
    "\n",
    "\n",
    "g= sns.histplot(data=companyDirectorsDf3, x=\"Company Duration\", color= \"burlywood\")\n",
    "#g.set_yscale(\"log\")\n",
    "plt.xlabel(\"Days\", fontsize=15)\n",
    "plt.ylabel(\"Frequency\",fontsize=15)\n",
    "plt.title(\"Company Duration\")"
   ]
  }
 ],
 "metadata": {
  "kernelspec": {
   "display_name": "Python 3 (ipykernel)",
   "language": "python",
   "name": "python3"
  },
  "language_info": {
   "codemirror_mode": {
    "name": "ipython",
    "version": 3
   },
   "file_extension": ".py",
   "mimetype": "text/x-python",
   "name": "python",
   "nbconvert_exporter": "python",
   "pygments_lexer": "ipython3",
   "version": "3.9.13"
  }
 },
 "nbformat": 4,
 "nbformat_minor": 5
}
