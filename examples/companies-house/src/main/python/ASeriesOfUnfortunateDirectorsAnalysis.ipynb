{
 "cells": [
  {
   "cell_type": "markdown",
   "id": "aab10e33",
   "metadata": {},
   "source": [
    "# Analysis Notebook for A Series Of Unfortunate Directors Blog"
   ]
  },
  {
   "cell_type": "code",
   "execution_count": null,
   "id": "282ea3ac",
   "metadata": {},
   "outputs": [],
   "source": [
    "import pandas as pd\n",
    "import seaborn as sns\n",
    "from scipy import stats\n",
    "import numpy as np\n",
    "import time\n",
    "import matplotlib.pyplot as plt\n",
    "plt.rcParams['font.size'] = '16'"
   ]
  },
  {
   "cell_type": "markdown",
   "id": "84d72cfd",
   "metadata": {},
   "source": [
    "# Ownership share of companies analysis"
   ]
  },
  {
   "cell_type": "code",
   "execution_count": null,
   "id": "63970a94",
   "metadata": {},
   "outputs": [],
   "source": [
    "df1 = pd.read_csv(\"\",sep=',',header=None,on_bad_lines='skip')\n",
    "df1.columns=[\"timestamp\",\"window\",\"psc\",\"company\", \"weight\"]\n",
    "df1"
   ]
  },
  {
   "cell_type": "code",
   "execution_count": null,
   "id": "1fd528f2",
   "metadata": {},
   "outputs": [],
   "source": [
    "df2 = pd.read_csv(\"\",sep=',',header=None,on_bad_lines='skip')\n",
    "df2.columns=[\"timestamp\",\"window\",\"psc\",\"company\", \"weight\"]\n",
    "df2"
   ]
  },
  {
   "cell_type": "code",
   "execution_count": null,
   "id": "be1b7089",
   "metadata": {},
   "outputs": [],
   "source": [
    "df3 = pd.read_csv(\"\",sep=',',header=None,on_bad_lines='skip')\n",
    "df3.columns=[\"timestamp\",\"window\",\"psc\",\"company\", \"weight\"]\n",
    "df3"
   ]
  },
  {
   "cell_type": "code",
   "execution_count": null,
   "id": "5c641c19",
   "metadata": {},
   "outputs": [],
   "source": [
    "df4 = pd.read_csv(\"\",sep=',',header=None,on_bad_lines='skip')\n",
    "df4.columns=[\"timestamp\",\"window\",\"psc\",\"company\", \"weight\"]\n",
    "df4"
   ]
  },
  {
   "cell_type": "code",
   "execution_count": null,
   "id": "8ceea40d",
   "metadata": {},
   "outputs": [],
   "source": [
    "# Concatenate dataframes from partitions into one\n",
    "ceasedCompaniesDf = pd.concat([df1, df2, df3, df4], axis=0)\n",
    "ceasedCompaniesDf"
   ]
  },
  {
   "cell_type": "code",
   "execution_count": null,
   "id": "89cf82ed",
   "metadata": {},
   "outputs": [],
   "source": [
    "# Convert from Epoch milliseconds to Date Time\n",
    "ceasedCompaniesDf['timestamp'] = ceasedCompaniesDf['timestamp']/1000\n",
    "import datetime\n",
    "ceasedCompaniesDf['timestamp'] = pd.to_datetime(ceasedCompaniesDf['timestamp'], unit=\"s\")"
   ]
  },
  {
   "cell_type": "code",
   "execution_count": null,
   "id": "fe33922c",
   "metadata": {},
   "outputs": [],
   "source": [
    "# Filter persons that have significant control of over 100 companies\n",
    "ceasedCompaniesDf = ceasedCompaniesDf[ceasedCompaniesDf['psc'].map(ceasedCompaniesDf['psc'].value_counts()) > 100]"
   ]
  },
  {
   "cell_type": "code",
   "execution_count": null,
   "id": "6c73295b",
   "metadata": {},
   "outputs": [],
   "source": [
    "# Filter all people that had empty names\n",
    "ceasedCompaniesDf = ceasedCompaniesDf.drop(ceasedCompaniesDf[ceasedCompaniesDf['psc']==\"No-Name-00\"].index)"
   ]
  },
  {
   "cell_type": "code",
   "execution_count": null,
   "id": "a56855ed",
   "metadata": {},
   "outputs": [],
   "source": [
    "# Create dataframe for companies at One George Yard\n",
    "pscFilterList = [\"Sdg-Secretaries-Limited-00\", \"Fd-Secretarial-Ltd-00\", \"Woodberry-Secretarial-Limited-00\", \"Sdg-Registrars-Limited-00\"]\n",
    "filteredSeries = ceasedCompaniesDf.psc.isin(pscFilterList)\n",
    "filteredDf = ceasedCompaniesDf[filteredSeries]"
   ]
  },
  {
   "cell_type": "code",
   "execution_count": null,
   "id": "3bc422e0",
   "metadata": {},
   "outputs": [],
   "source": [
    "bulkdf1 = pd.read_csv(\"\",sep=',',header=None,on_bad_lines='skip')\n",
    "bulkdf1.columns=[\"timestamp\",\"window\",\"psc\",\"company\", \"weight\"]\n",
    "bulkdf1"
   ]
  },
  {
   "cell_type": "code",
   "execution_count": null,
   "id": "51b075eb",
   "metadata": {},
   "outputs": [],
   "source": [
    "bulkdf2 = pd.read_csv(\"\",sep=',',header=None,on_bad_lines='skip')\n",
    "bulkdf2.columns=[\"timestamp\",\"window\",\"psc\",\"company\", \"weight\"]\n",
    "bulkdf2"
   ]
  },
  {
   "cell_type": "code",
   "execution_count": null,
   "id": "49a6e947",
   "metadata": {},
   "outputs": [],
   "source": [
    "bulkdf3 = pd.read_csv(\"\",sep=',',header=None,on_bad_lines='skip')\n",
    "bulkdf3.columns=[\"timestamp\",\"window\",\"psc\",\"company\", \"weight\"]\n",
    "bulkdf3"
   ]
  },
  {
   "cell_type": "code",
   "execution_count": null,
   "id": "dd96bd0a",
   "metadata": {},
   "outputs": [],
   "source": [
    "bulkdf4 = pd.read_csv(\"\",sep=',',header=None,on_bad_lines='skip')\n",
    "bulkdf4.columns=[\"timestamp\",\"window\",\"psc\",\"company\", \"weight\"]\n",
    "bulkdf4"
   ]
  },
  {
   "cell_type": "code",
   "execution_count": null,
   "id": "407a797c",
   "metadata": {},
   "outputs": [],
   "source": [
    "# Concatenate dataframes from partitions into one dataframe\n",
    "bulkDf = pd.concat([bulkdf1, bulkdf2, bulkdf3, bulkdf4], axis=0)\n",
    "bulkDf"
   ]
  },
  {
   "cell_type": "code",
   "execution_count": null,
   "id": "7792669b",
   "metadata": {},
   "outputs": [],
   "source": [
    "# Filter all people that had empty names\n",
    "openedCompaniesDf = bulkDf.drop(bulkDf[bulkDf['psc']==\"No-Name-00\"].index)"
   ]
  },
  {
   "cell_type": "code",
   "execution_count": null,
   "id": "e92a490a",
   "metadata": {},
   "outputs": [],
   "source": [
    "# Convert from Epoch milliseconds to date time\n",
    "openedCompaniesDf['timestamp'] = openedCompaniesDf['timestamp']/1000\n",
    "import datetime\n",
    "openedCompaniesDf['timestamp'] = pd.to_datetime(openedCompaniesDf['timestamp'], unit=\"s\")"
   ]
  },
  {
   "cell_type": "code",
   "execution_count": null,
   "id": "03e933cd",
   "metadata": {},
   "outputs": [],
   "source": [
    "# Filter out psc's with over 100 companies\n",
    "openedCompanies = openedCompaniesDf[openedCompaniesDf['psc'].map(openedCompaniesDf['psc'].value_counts()) > 100]\n",
    "openedCompanies"
   ]
  },
  {
   "cell_type": "code",
   "execution_count": null,
   "id": "fb53435f",
   "metadata": {},
   "outputs": [],
   "source": [
    "# Filter related companies\n",
    "openCompaniesFilter = [\"Sdg-Secretaries-Limited-00\", \"Fd-Secretarial-Ltd-00\", \"Woodberry-Secretarial-Limited-00\", \"Sdg-Registrars-Limited-00\"]\n",
    "filteredList = openedCompaniesDf.psc.isin(openCompaniesFilter)\n",
    "filteredCompaniesOpened = openedCompaniesDf[filteredList]"
   ]
  },
  {
   "cell_type": "code",
   "execution_count": null,
   "id": "ba10fce0",
   "metadata": {},
   "outputs": [],
   "source": [
    "# Create heatmap of Person with Significant Control's (PSC) ownership of companies opening\n",
    "plt.figure(figsize=(15,10))\n",
    "plt.title('Shared Ownership (%) in companies registering on Companies House')\n",
    "plt.xlabel('Time (Year-Month)')\n",
    "plt.ylabel('Person With Significant Control')\n",
    "g = sns.scatterplot(data=openedCompanies, x=\"timestamp\", y=\"psc\", hue=\"weight\")"
   ]
  },
  {
   "cell_type": "code",
   "execution_count": null,
   "id": "84c02f03",
   "metadata": {},
   "outputs": [],
   "source": [
    "# Create heatmap of Person with Significant Control's (PSC) ownership of companies closing\n",
    "plt.figure(figsize=(15,10))\n",
    "plt.title('Shared Ownership (%) in companies closing down on Companies House')\n",
    "plt.xlabel('Time (Year-Month)')\n",
    "plt.ylabel('Person With Significant Control')\n",
    "g = sns.scatterplot(data=ceasedCompaniesDf, x=\"timestamp\", y=\"psc\", hue=\"weight\")"
   ]
  },
  {
   "cell_type": "code",
   "execution_count": null,
   "id": "5858277f",
   "metadata": {
    "scrolled": true
   },
   "outputs": [],
   "source": [
    "# Plot cool graphs of all the edges between people and companies\n",
    "import graphistry\n",
    "g=graphistry.bind(source='company', destination='psc').edges(df)\n",
    "g.plot()\n",
    "filteredGraph=graphistry.edges(filteredDf).bind(source='psc', destination='company', edge_weight='weight')\n",
    "filteredGraph.plot()"
   ]
  },
  {
   "cell_type": "markdown",
   "id": "83abbca4",
   "metadata": {},
   "source": [
    "# Company Formation Agents Analysis"
   ]
  },
  {
   "cell_type": "code",
   "execution_count": null,
   "id": "f5a89b0f",
   "metadata": {},
   "outputs": [],
   "source": [
    "cohodf = pd.read_csv(\"\",sep=',',header=None)"
   ]
  },
  {
   "cell_type": "code",
   "execution_count": null,
   "id": "b57ba669",
   "metadata": {},
   "outputs": [],
   "source": [
    "cohodf.columns=[\"timestamp\",\"window\",\"psc\",\"company\"]"
   ]
  },
  {
   "cell_type": "code",
   "execution_count": null,
   "id": "5da15981",
   "metadata": {},
   "outputs": [],
   "source": [
    "swiftFilter = \"8d_bnTiwfxh8JIr3YfuwkmkWkCg\"\n",
    "swiftDf=cohodf[cohodf['officer']==swiftFilter]\n",
    "\n",
    "instantFilter = \"SBjtBss_I4XEupbfAUXoeAkMcIk\"\n",
    "instantDf=cohodf[cohodf['officer']==instantFilter]\n",
    "\n",
    "companyDirectorsFilter = \"C7trUnW0xAvzpaSmVXVviwNi2BY\"\n",
    "companyDirectorsDf = cohodf[cohodf['officer']==companyDirectorsFilter]\n",
    "\n",
    "templeSecretariesFilter=\"xLPL0PBzn14BtfuhzOZQswj4AoM\"\n",
    "templeSecretariesDf = cohodf[cohodf['officer']==templeSecretariesFilter]\n",
    "\n",
    "formTenDirectorsFilter = \"aDjhOpnMaB_uAHDxRnMLWpa9C-I\"\n",
    "formTenDirectorsDf = cohodf[cohodf['officer']==formTenDirectorsFilter]\n",
    "\n",
    "formTenSecretariesFilter = \"Yg4rTn5QucYg_hJOxGTnx3B51WY\"\n",
    "formTenSecretariesDf = cohodf[cohodf['officer']==formTenSecretariesFilter]\n",
    "\n",
    "harleyStreetFilter = \"NjXloTUDlStWw9T7mfDI5dkFLsg\"\n",
    "harleyStreetDf=cohodf[cohodf['officer']==harleyStreetFilter]"
   ]
  },
  {
   "cell_type": "code",
   "execution_count": null,
   "id": "9b45560c",
   "metadata": {},
   "outputs": [],
   "source": [
    "harleyStreetDf1=harleyStreetDf[harleyStreetDf[\"Company Duration\"]<4000]\n",
    "harleyStreetDf2=harleyStreetDf[harleyStreetDf[\"Company Duration\"]<1000]\n",
    "harleyStreetDf3=harleyStreetDf[harleyStreetDf[\"Company Duration\"]<365]\n",
    "\n",
    "sns.histplot(data=harleyStreetDf3, x=\"Company Duration\", color=\"skyblue\")\n",
    "plt.xlabel(\"Days\", fontsize=15)\n",
    "plt.ylabel(\"Frequency\",fontsize=15)\n",
    "plt.title(\"Company Duration\")"
   ]
  },
  {
   "cell_type": "code",
   "execution_count": null,
   "id": "71738914",
   "metadata": {},
   "outputs": [],
   "source": [
    "templeSecretariesDf=templeSecretariesDf[templeSecretariesDf[\"Company Duration\"]>=0]\n",
    "templeSecretariesDf1=templeSecretariesDf[templeSecretariesDf[\"Company Duration\"]<4000]\n",
    "templeSecretariesDf2=templeSecretariesDf[templeSecretariesDf[\"Company Duration\"]<1000]\n",
    "templeSecretariesDf3=templeSecretariesDf[templeSecretariesDf[\"Company Duration\"]<365]\n",
    "\n",
    "g= sns.histplot(data=templeSecretariesDf1, x=\"Company Duration\", color=\"salmon\")\n",
    "g.set_yscale(\"log\")\n",
    "plt.xlabel(\"Days\", fontsize=15)\n",
    "plt.ylabel(\"Frequency\",fontsize=15)\n",
    "plt.title(\"Company Duration\")"
   ]
  },
  {
   "cell_type": "code",
   "execution_count": null,
   "id": "15040759",
   "metadata": {},
   "outputs": [],
   "source": [
    "companyDirectorsDf=companyDirectorsDf[companyDirectorsDf[\"Company Duration\"]>=0]\n",
    "companyDirectorsDf1=companyDirectorsDf[companyDirectorsDf[\"Company Duration\"]<4000]\n",
    "companyDirectorsDf2=companyDirectorsDf[companyDirectorsDf[\"Company Duration\"]<1000]\n",
    "companyDirectorsDf3=companyDirectorsDf[companyDirectorsDf[\"Company Duration\"]<365]\n",
    "\n",
    "\n",
    "g= sns.histplot(data=companyDirectorsDf3, x=\"Company Duration\", color= \"burlywood\")\n",
    "#g.set_yscale(\"log\")\n",
    "plt.xlabel(\"Days\", fontsize=15)\n",
    "plt.ylabel(\"Frequency\",fontsize=15)\n",
    "plt.title(\"Company Duration\")"
   ]
  }
 ],
 "metadata": {
  "kernelspec": {
   "display_name": "Python 3 (ipykernel)",
   "language": "python",
   "name": "python3"
  },
  "language_info": {
   "codemirror_mode": {
    "name": "ipython",
    "version": 3
   },
   "file_extension": ".py",
   "mimetype": "text/x-python",
   "name": "python",
   "nbconvert_exporter": "python",
   "pygments_lexer": "ipython3",
   "version": "3.9.13"
  }
 },
 "nbformat": 4,
 "nbformat_minor": 5
}
