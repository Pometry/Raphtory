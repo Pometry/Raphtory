{
 "cells": [
  {
   "cell_type": "markdown",
   "id": "aab10e33",
   "metadata": {},
   "source": [
    "# Analysis Notebook for A Series Of Unfortunate Directors Blog"
   ]
  },
  {
   "cell_type": "raw",
   "id": "9a8b4d7e",
   "metadata": {},
   "source": [
    "import pandas as pd\n",
    "import seaborn as sns\n",
    "from scipy import stats\n",
    "import numpy as np\n",
    "import time\n",
    "import matplotlib.pyplot as plt\n",
    "plt.rcParams['font.size'] = '16'"
   ]
  },
  {
   "cell_type": "markdown",
   "id": "84d72cfd",
   "metadata": {},
   "source": [
    "# Ownership share of companies analysis"
   ]
  },
  {
   "cell_type": "raw",
   "id": "be0ee436",
   "metadata": {},
   "source": [
    "df1 = pd.read_csv(\"\",sep=',',header=None,on_bad_lines='skip')\n",
    "df1.columns=[\"timestamp\",\"window\",\"psc\",\"company\", \"weight\"]\n",
    "df1"
   ]
  },
  {
   "cell_type": "raw",
   "id": "a621f4d6",
   "metadata": {},
   "source": [
    "df2 = pd.read_csv(\"\",sep=',',header=None,on_bad_lines='skip')\n",
    "df2.columns=[\"timestamp\",\"window\",\"psc\",\"company\", \"weight\"]\n",
    "df2"
   ]
  },
  {
   "cell_type": "raw",
   "id": "1c4d2b20",
   "metadata": {},
   "source": [
    "df3 = pd.read_csv(\"\",sep=',',header=None,on_bad_lines='skip')\n",
    "df3.columns=[\"timestamp\",\"window\",\"psc\",\"company\", \"weight\"]\n",
    "df3"
   ]
  },
  {
   "cell_type": "raw",
   "id": "eb9f5cbd",
   "metadata": {},
   "source": [
    "df4 = pd.read_csv(\"\",sep=',',header=None,on_bad_lines='skip')\n",
    "df4.columns=[\"timestamp\",\"window\",\"psc\",\"company\", \"weight\"]\n",
    "df4"
   ]
  },
  {
   "cell_type": "raw",
   "id": "7d8377b7",
   "metadata": {},
   "source": [
    "# Concatenate dataframes from partitions into one\n",
    "ceasedCompaniesDf = pd.concat([df1, df2, df3, df4], axis=0)\n",
    "ceasedCompaniesDf"
   ]
  },
  {
   "cell_type": "raw",
   "id": "d459b0f4",
   "metadata": {},
   "source": [
    "# Convert from Epoch milliseconds to Date Time\n",
    "ceasedCompaniesDf['timestamp'] = ceasedCompaniesDf['timestamp']/1000\n",
    "import datetime\n",
    "ceasedCompaniesDf['timestamp'] = pd.to_datetime(ceasedCompaniesDf['timestamp'], unit=\"s\")"
   ]
  },
  {
   "cell_type": "raw",
   "id": "f0ea5027",
   "metadata": {},
   "source": [
    "# Filter persons that have significant control of over 100 companies\n",
    "ceasedCompaniesDf = ceasedCompaniesDf[ceasedCompaniesDf['psc'].map(ceasedCompaniesDf['psc'].value_counts()) > 100]"
   ]
  },
  {
   "cell_type": "raw",
   "id": "c58fea8e",
   "metadata": {},
   "source": [
    "# Filter all people that had empty names\n",
    "ceasedCompaniesDf = ceasedCompaniesDf.drop(ceasedCompaniesDf[ceasedCompaniesDf['psc']==\"No-Name-00\"].index)"
   ]
  },
  {
   "cell_type": "raw",
   "id": "f6b6ce75",
   "metadata": {},
   "source": [
    "# Create dataframe for companies at One George Yard\n",
    "pscFilterList = [\"Sdg-Secretaries-Limited-00\", \"Fd-Secretarial-Ltd-00\", \"Woodberry-Secretarial-Limited-00\", \"Sdg-Registrars-Limited-00\"]\n",
    "filteredSeries = ceasedCompaniesDf.psc.isin(pscFilterList)\n",
    "filteredDf = ceasedCompaniesDf[filteredSeries]"
   ]
  },
  {
   "cell_type": "raw",
   "id": "c6256301",
   "metadata": {},
   "source": [
    "bulkdf1 = pd.read_csv(\"\",sep=',',header=None,on_bad_lines='skip')\n",
    "bulkdf1.columns=[\"timestamp\",\"window\",\"psc\",\"company\", \"weight\"]\n",
    "bulkdf1"
   ]
  },
  {
   "cell_type": "raw",
   "id": "5d272043",
   "metadata": {},
   "source": [
    "bulkdf2 = pd.read_csv(\"\",sep=',',header=None,on_bad_lines='skip')\n",
    "bulkdf2.columns=[\"timestamp\",\"window\",\"psc\",\"company\", \"weight\"]\n",
    "bulkdf2"
   ]
  },
  {
   "cell_type": "raw",
   "id": "b7bef0cc",
   "metadata": {},
   "source": [
    "bulkdf3 = pd.read_csv(\"\",sep=',',header=None,on_bad_lines='skip')\n",
    "bulkdf3.columns=[\"timestamp\",\"window\",\"psc\",\"company\", \"weight\"]\n",
    "bulkdf3"
   ]
  },
  {
   "cell_type": "raw",
   "id": "a1531b7d",
   "metadata": {},
   "source": [
    "bulkdf4 = pd.read_csv(\"\",sep=',',header=None,on_bad_lines='skip')\n",
    "bulkdf4.columns=[\"timestamp\",\"window\",\"psc\",\"company\", \"weight\"]\n",
    "bulkdf4"
   ]
  },
  {
   "cell_type": "raw",
   "id": "da9e9f88",
   "metadata": {},
   "source": [
    "# Concatenate dataframes from partitions into one dataframe\n",
    "bulkDf = pd.concat([bulkdf1, bulkdf2, bulkdf3, bulkdf4], axis=0)\n",
    "bulkDf"
   ]
  },
  {
   "cell_type": "raw",
   "id": "3451493d",
   "metadata": {},
   "source": [
    "# Filter all people that had empty names\n",
    "openedCompaniesDf = bulkDf.drop(bulkDf[bulkDf['psc']==\"No-Name-00\"].index)"
   ]
  },
  {
   "cell_type": "raw",
   "id": "c08c28ff",
   "metadata": {},
   "source": [
    "# Convert from Epoch milliseconds to date time\n",
    "openedCompaniesDf['timestamp'] = openedCompaniesDf['timestamp']/1000\n",
    "import datetime\n",
    "openedCompaniesDf['timestamp'] = pd.to_datetime(openedCompaniesDf['timestamp'], unit=\"s\")"
   ]
  },
  {
   "cell_type": "raw",
   "id": "d9516fed",
   "metadata": {},
   "source": [
    "# Filter out psc's with over 100 companies\n",
    "openedCompanies = openedCompaniesDf[openedCompaniesDf['psc'].map(openedCompaniesDf['psc'].value_counts()) > 100]\n",
    "openedCompanies"
   ]
  },
  {
   "cell_type": "raw",
   "id": "b7804e49",
   "metadata": {},
   "source": [
    "# Filter related companies\n",
    "openCompaniesFilter = [\"Sdg-Secretaries-Limited-00\", \"Fd-Secretarial-Ltd-00\", \"Woodberry-Secretarial-Limited-00\", \"Sdg-Registrars-Limited-00\"]\n",
    "filteredList = openedCompaniesDf.psc.isin(openCompaniesFilter)\n",
    "filteredCompaniesOpened = openedCompaniesDf[filteredList]"
   ]
  },
  {
   "cell_type": "raw",
   "id": "eefc93d9",
   "metadata": {},
   "source": [
    "# Create heatmap of Person with Significant Control's (PSC) ownership of companies opening\n",
    "plt.figure(figsize=(15,10))\n",
    "plt.title('Shared Ownership (%) in companies registering on Companies House')\n",
    "plt.xlabel('Time (Year-Month)')\n",
    "plt.ylabel('Person With Significant Control')\n",
    "g = sns.scatterplot(data=openedCompanies, x=\"timestamp\", y=\"psc\", hue=\"weight\")"
   ]
  },
  {
   "cell_type": "raw",
   "id": "75e5e7b2",
   "metadata": {},
   "source": [
    "# Create heatmap of Person with Significant Control's (PSC) ownership of companies closing\n",
    "plt.figure(figsize=(15,10))\n",
    "plt.title('Shared Ownership (%) in companies closing down on Companies House')\n",
    "plt.xlabel('Time (Year-Month)')\n",
    "plt.ylabel('Person With Significant Control')\n",
    "g = sns.scatterplot(data=ceasedCompaniesDf, x=\"timestamp\", y=\"psc\", hue=\"weight\")"
   ]
  },
  {
   "cell_type": "raw",
   "id": "8c33bec2",
   "metadata": {
    "scrolled": true
   },
   "source": [
    "# Plot cool graphs of all the edges between people and companies\n",
    "import graphistry\n",
    "g=graphistry.bind(source='company', destination='psc').edges(df)\n",
    "g.plot()\n",
    "filteredGraph=graphistry.edges(filteredDf).bind(source='psc', destination='company', edge_weight='weight')\n",
    "filteredGraph.plot()"
   ]
  },
  {
   "cell_type": "markdown",
   "id": "9b49ea49",
   "metadata": {},
   "source": [
    "# Company Formation Agents Analysis"
   ]
  },
  {
   "cell_type": "raw",
   "id": "820218c6",
   "metadata": {},
   "source": [
    "cohodf = pd.read_csv(\"\",sep=',',header=None)"
   ]
  },
  {
   "cell_type": "raw",
   "id": "07965d85",
   "metadata": {},
   "source": [
    "cohodf.columns=[\"timestamp\",\"window\",\"psc\",\"company\"]"
   ]
  },
  {
   "cell_type": "raw",
   "id": "4f1d4aab",
   "metadata": {},
   "source": [
    "swiftFilter = \"8d_bnTiwfxh8JIr3YfuwkmkWkCg\"\n",
    "swiftDf=cohodf[cohodf['officer']==swiftFilter]\n",
    "\n",
    "instantFilter = \"SBjtBss_I4XEupbfAUXoeAkMcIk\"\n",
    "instantDf=cohodf[cohodf['officer']==instantFilter]\n",
    "\n",
    "companyDirectorsFilter = \"C7trUnW0xAvzpaSmVXVviwNi2BY\"\n",
    "companyDirectorsDf = cohodf[cohodf['officer']==companyDirectorsFilter]\n",
    "\n",
    "templeSecretariesFilter=\"xLPL0PBzn14BtfuhzOZQswj4AoM\"\n",
    "templeSecretariesDf = cohodf[cohodf['officer']==templeSecretariesFilter]\n",
    "\n",
    "formTenDirectorsFilter = \"aDjhOpnMaB_uAHDxRnMLWpa9C-I\"\n",
    "formTenDirectorsDf = cohodf[cohodf['officer']==formTenDirectorsFilter]\n",
    "\n",
    "formTenSecretariesFilter = \"Yg4rTn5QucYg_hJOxGTnx3B51WY\"\n",
    "formTenSecretariesDf = cohodf[cohodf['officer']==formTenSecretariesFilter]\n",
    "\n",
    "harleyStreetFilter = \"NjXloTUDlStWw9T7mfDI5dkFLsg\"\n",
    "harleyStreetDf=cohodf[cohodf['officer']==harleyStreetFilter]"
   ]
  },
  {
   "cell_type": "raw",
   "id": "f5ae1bdd",
   "metadata": {},
   "source": [
    "harleyStreetDf1=harleyStreetDf[harleyStreetDf[\"Company Duration\"]<4000]\n",
    "harleyStreetDf2=harleyStreetDf[harleyStreetDf[\"Company Duration\"]<1000]\n",
    "harleyStreetDf3=harleyStreetDf[harleyStreetDf[\"Company Duration\"]<365]\n",
    "\n",
    "sns.histplot(data=harleyStreetDf3, x=\"Company Duration\", color=\"skyblue\")\n",
    "plt.xlabel(\"Days\", fontsize=15)\n",
    "plt.ylabel(\"Frequency\",fontsize=15)\n",
    "plt.title(\"Company Duration\")"
   ]
  },
  {
   "cell_type": "raw",
   "id": "7de68a96",
   "metadata": {},
   "source": [
    "templeSecretariesDf=templeSecretariesDf[templeSecretariesDf[\"Company Duration\"]>=0]\n",
    "templeSecretariesDf1=templeSecretariesDf[templeSecretariesDf[\"Company Duration\"]<4000]\n",
    "templeSecretariesDf2=templeSecretariesDf[templeSecretariesDf[\"Company Duration\"]<1000]\n",
    "templeSecretariesDf3=templeSecretariesDf[templeSecretariesDf[\"Company Duration\"]<365]\n",
    "\n",
    "g= sns.histplot(data=templeSecretariesDf1, x=\"Company Duration\", color=\"salmon\")\n",
    "g.set_yscale(\"log\")\n",
    "plt.xlabel(\"Days\", fontsize=15)\n",
    "plt.ylabel(\"Frequency\",fontsize=15)\n",
    "plt.title(\"Company Duration\")"
   ]
  },
  {
   "cell_type": "raw",
   "id": "9192ed86",
   "metadata": {},
   "source": [
    "companyDirectorsDf=companyDirectorsDf[companyDirectorsDf[\"Company Duration\"]>=0]\n",
    "companyDirectorsDf1=companyDirectorsDf[companyDirectorsDf[\"Company Duration\"]<4000]\n",
    "companyDirectorsDf2=companyDirectorsDf[companyDirectorsDf[\"Company Duration\"]<1000]\n",
    "companyDirectorsDf3=companyDirectorsDf[companyDirectorsDf[\"Company Duration\"]<365]\n",
    "\n",
    "\n",
    "g= sns.histplot(data=companyDirectorsDf3, x=\"Company Duration\", color= \"burlywood\")\n",
    "#g.set_yscale(\"log\")\n",
    "plt.xlabel(\"Days\", fontsize=15)\n",
    "plt.ylabel(\"Frequency\",fontsize=15)\n",
    "plt.title(\"Company Duration\")"
   ]
  }
 ],
 "metadata": {
  "kernelspec": {
   "display_name": "Python 3 (ipykernel)",
   "language": "python",
   "name": "python3"
  },
  "language_info": {
   "codemirror_mode": {
    "name": "ipython",
    "version": 3
   },
   "file_extension": ".py",
   "mimetype": "text/x-python",
   "name": "python",
   "nbconvert_exporter": "python",
   "pygments_lexer": "ipython3",
   "version": "3.9.12"
  }
 },
 "nbformat": 4,
 "nbformat_minor": 5
}
