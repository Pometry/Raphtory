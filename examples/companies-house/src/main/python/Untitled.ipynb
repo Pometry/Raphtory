{
 "cells": [
  {
   "cell_type": "code",
   "execution_count": 37,
   "id": "d0632a50",
   "metadata": {},
   "outputs": [],
   "source": [
    "import json\n",
    "import networkx as nx\n",
    "import pandas as pd"
   ]
  },
  {
   "cell_type": "code",
   "execution_count": 40,
   "id": "aa39212e",
   "metadata": {
    "scrolled": true
   },
   "outputs": [],
   "source": [
    "df=pd.read_csv('/tmp/lotr.csv',names=[\"source\", \"target\", \"time\"])\n",
    "\n",
    "graphtype = nx.Graph()\n",
    "\n",
    "G = nx.from_pandas_edgelist(df, source= \"source\", target= \"target\", edge_attr=\"time\",create_using=graphtype)"
   ]
  },
  {
   "cell_type": "code",
   "execution_count": 42,
   "id": "64afdb58",
   "metadata": {},
   "outputs": [],
   "source": [
    "data1 = nx.node_link_data(G)"
   ]
  },
  {
   "cell_type": "code",
   "execution_count": 41,
   "id": "7c41df80",
   "metadata": {},
   "outputs": [
    {
     "ename": "AttributeError",
     "evalue": "'Graph' object has no attribute 'get'",
     "output_type": "error",
     "traceback": [
      "\u001b[0;31m---------------------------------------------------------------------------\u001b[0m",
      "\u001b[0;31mAttributeError\u001b[0m                            Traceback (most recent call last)",
      "Input \u001b[0;32mIn [41]\u001b[0m, in \u001b[0;36m<cell line: 2>\u001b[0;34m()\u001b[0m\n\u001b[1;32m      1\u001b[0m \u001b[38;5;28;01mfrom\u001b[39;00m \u001b[38;5;21;01mnetworkx\u001b[39;00m\u001b[38;5;21;01m.\u001b[39;00m\u001b[38;5;21;01mreadwrite\u001b[39;00m \u001b[38;5;28;01mimport\u001b[39;00m json_graph\n\u001b[0;32m----> 2\u001b[0m data \u001b[38;5;241m=\u001b[39m \u001b[43mjson_graph\u001b[49m\u001b[38;5;241;43m.\u001b[39;49m\u001b[43mnode_link_graph\u001b[49m\u001b[43m(\u001b[49m\u001b[43mG\u001b[49m\u001b[43m)\u001b[49m\n",
      "File \u001b[0;32m/opt/homebrew/lib/python3.10/site-packages/networkx/readwrite/json_graph/node_link.py:302\u001b[0m, in \u001b[0;36mnode_link_graph\u001b[0;34m(data, directed, multigraph, attrs, source, target, name, key, link)\u001b[0m\n\u001b[1;32m    300\u001b[0m     link \u001b[38;5;241m=\u001b[39m attrs\u001b[38;5;241m.\u001b[39mget(\u001b[38;5;124m\"\u001b[39m\u001b[38;5;124mlink\u001b[39m\u001b[38;5;124m\"\u001b[39m, \u001b[38;5;124m\"\u001b[39m\u001b[38;5;124mlinks\u001b[39m\u001b[38;5;124m\"\u001b[39m)\n\u001b[1;32m    301\u001b[0m \u001b[38;5;66;03m# -------------------------------------------------- #\u001b[39;00m\n\u001b[0;32m--> 302\u001b[0m multigraph \u001b[38;5;241m=\u001b[39m \u001b[43mdata\u001b[49m\u001b[38;5;241;43m.\u001b[39;49m\u001b[43mget\u001b[49m(\u001b[38;5;124m\"\u001b[39m\u001b[38;5;124mmultigraph\u001b[39m\u001b[38;5;124m\"\u001b[39m, multigraph)\n\u001b[1;32m    303\u001b[0m directed \u001b[38;5;241m=\u001b[39m data\u001b[38;5;241m.\u001b[39mget(\u001b[38;5;124m\"\u001b[39m\u001b[38;5;124mdirected\u001b[39m\u001b[38;5;124m\"\u001b[39m, directed)\n\u001b[1;32m    304\u001b[0m \u001b[38;5;28;01mif\u001b[39;00m multigraph:\n",
      "\u001b[0;31mAttributeError\u001b[0m: 'Graph' object has no attribute 'get'"
     ]
    }
   ],
   "source": [
    "from networkx.readwrite import json_graph\n",
    "data = json_graph.node_link_graph(G)"
   ]
  },
  {
   "cell_type": "code",
   "execution_count": 43,
   "id": "d7c948f0",
   "metadata": {},
   "outputs": [],
   "source": [
    "with open('networkdata1.json', 'w') as outfile1:\n",
    "    outfile1.write(json.dumps(data1))"
   ]
  },
  {
   "cell_type": "code",
   "execution_count": null,
   "id": "87b87866",
   "metadata": {},
   "outputs": [],
   "source": [
    "data"
   ]
  },
  {
   "cell_type": "code",
   "execution_count": null,
   "id": "2639ebf6",
   "metadata": {},
   "outputs": [],
   "source": []
  }
 ],
 "metadata": {
  "kernelspec": {
   "display_name": "Python 3 (ipykernel)",
   "language": "python",
   "name": "python3"
  },
  "language_info": {
   "codemirror_mode": {
    "name": "ipython",
    "version": 3
   },
   "file_extension": ".py",
   "mimetype": "text/x-python",
   "name": "python",
   "nbconvert_exporter": "python",
   "pygments_lexer": "ipython3",
   "version": "3.10.6"
  }
 },
 "nbformat": 4,
 "nbformat_minor": 5
}
