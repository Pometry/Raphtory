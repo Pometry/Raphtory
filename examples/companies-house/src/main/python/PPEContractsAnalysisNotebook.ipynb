{
 "cells": [
  {
   "cell_type": "markdown",
   "id": "ef5cc2c8",
   "metadata": {},
   "source": [
    "# PPE Contracts, PSCs and Companies Analysis Notebook"
   ]
  },
  {
   "cell_type": "raw",
   "id": "adb77887",
   "metadata": {},
   "source": [
    "# import dependencies\n",
    "import pandas as pd\n",
    "import time\n",
    "import json\n",
    "import matplotlib.pyplot as plt\n",
    "plt.rcParams['font.size'] = '16'"
   ]
  },
  {
   "cell_type": "raw",
   "id": "db9043ae",
   "metadata": {},
   "source": [
    "# ingest all data and concatenate partitions\n",
    "pscs = []\n",
    "for line in open('','r'):\n",
    "    pscs.append(json.loads(line))\n",
    "for line in open('', 'r'):\n",
    "    pscs.append(json.loads(line))\n",
    "for line in open('', 'r'):\n",
    "    pscs.append(json.loads(line))\n",
    "for line in open('', 'r'):\n",
    "    pscs.append(json.loads(line))\n",
    "    \n",
    "pscs"
   ]
  },
  {
   "cell_type": "raw",
   "id": "61b04f27",
   "metadata": {},
   "source": [
    "# Drop window column as empty\n",
    "pscRawDataframe = pd.DataFrame.from_dict(pscs)\n",
    "pscRawDataframe.drop('window', inplace=True, axis=1)\n",
    "pscRawDataframe"
   ]
  },
  {
   "cell_type": "raw",
   "id": "4bfefe77",
   "metadata": {},
   "source": [
    "# Split up row column to its respective columns\n",
    "splitUpDataframe = pd.DataFrame(pscRawDataframe['row'].tolist(), columns=['psc','time-company-share', 'other_pscs','company_number'])\n",
    "cleanDataframe=splitUpDataframe.dropna()\n",
    "cleanDataframe"
   ]
  },
  {
   "cell_type": "raw",
   "id": "48a39f41",
   "metadata": {},
   "source": [
    "# extract other_pscs column out of dictionary format\n",
    "new_rows=[]\n",
    "\n",
    "for i,row in cleanDataframe.iterrows():\n",
    "    for key, value in row['other_pscs'].items():\n",
    "        temp_row={\n",
    "            'psc': row['psc'],\n",
    "            'time-company-share': row['time-company-share'],\n",
    "            'company_number': row['company_number'],\n",
    "            'other_psc': key,\n",
    "            'other_psc_count': value\n",
    "        }\n",
    "        new_rows.append(temp_row)  \n",
    "pscdf = pd.DataFrame(new_rows)"
   ]
  },
  {
   "cell_type": "raw",
   "id": "822f2358",
   "metadata": {},
   "source": [
    "# Get company number out of brackets\n",
    "pscdf = pscdf.explode('company_number')"
   ]
  },
  {
   "cell_type": "raw",
   "id": "af603424",
   "metadata": {},
   "source": [
    "# extract time-company-share column into its own separate columns\n",
    "new_rows=[]\n",
    "\n",
    "for i,row in pscdf.iterrows():\n",
    "    company_number = row['company_number']\n",
    "    foundtime = None\n",
    "    for triplet in row['time-company-share']:\n",
    "        timeA, companyA, shareA = triplet.split(\"-\")\n",
    "        if (companyA == company_number):\n",
    "            foundtime = timeA\n",
    "        temp_row={\n",
    "            'psc': row['psc'],\n",
    "            'time': foundtime,\n",
    "            'company_number': row['company_number'],\n",
    "            'other_psc': row['other_psc'],\n",
    "            'share_ownership': shareA,\n",
    "            'other_psc_count': row['other_psc_count']\n",
    "        }\n",
    "        new_rows.append(temp_row)  \n",
    "finaldf = pd.DataFrame(new_rows).drop_duplicates()\n",
    "finaldf"
   ]
  },
  {
   "cell_type": "raw",
   "id": "5840e944",
   "metadata": {
    "scrolled": true
   },
   "source": [
    "# drop None values\n",
    "finaldf = finaldf.dropna()\n",
    "finaldf"
   ]
  },
  {
   "cell_type": "raw",
   "id": "54a5800b",
   "metadata": {},
   "source": [
    "# Remove duplicates regardless of order\n",
    "sortedFinalDf = finaldf[~pd.DataFrame(np.sort(finaldf[['psc','time','company_number','other_psc']], axis=1), index=finaldf.index).duplicated()]\n",
    "sortedFinalDf"
   ]
  },
  {
   "cell_type": "raw",
   "id": "9bf62c54",
   "metadata": {},
   "source": [
    "# Get PSCs with greater than 5 companies\n",
    "greaterThanFiveDf = df[df.groupby(\"company_number\")['psc'].transform('size') > 5]\n",
    "greaterThanFiveDf"
   ]
  },
  {
   "cell_type": "raw",
   "id": "84daca70",
   "metadata": {},
   "source": [
    "# Get PSCs with greater than 1 company\n",
    "greaterThanOneDf = df[df.groupby(\"company_number\")['psc'].transform('size') > 1]\n",
    "greaterThanOneDf"
   ]
  },
  {
   "cell_type": "raw",
   "id": "b6cd20cd",
   "metadata": {},
   "source": [
    "# Convert time column from epoch to datetime\n",
    "greaterThanOneDf['time']=pd.to_datetime(greaterThanOneDf['time'], unit='ms')\\\n",
    "                 .dt.tz_localize('UTC' )\\\n",
    "                 .dt.tz_convert('Europe/London')"
   ]
  },
  {
   "cell_type": "raw",
   "id": "42fea202",
   "metadata": {},
   "source": [
    "# Remove time from date\n",
    "greaterThanOneDf['date'] = pd.to_datetime(greaterThanOneDf['time']).dt.date"
   ]
  },
  {
   "cell_type": "raw",
   "id": "6a06691a",
   "metadata": {},
   "source": [
    "# Drop other_psc_count and time column as this is not needed for our visualisation\n",
    "greaterThanOneDf = greaterThanOneDf.drop('other_psc_count', axis=1)\n",
    "greaterThanOneDf = greaterThanOneDf.drop('time', axis=1)\n",
    "greaterThanOneDf"
   ]
  },
  {
   "cell_type": "raw",
   "id": "397fd949",
   "metadata": {},
   "source": [
    "# Convert date column to string type\n",
    "greaterThanOneDf['date'] = greaterThanOneDf['date'].astype(str)"
   ]
  },
  {
   "cell_type": "raw",
   "id": "7fab753d",
   "metadata": {},
   "source": [
    "greaterThanOneDf['company_number'] = greaterThanOneDf['company_number'].replace(['SC399884'], 'Pursuit Marketing Limited')"
   ]
  },
  {
   "cell_type": "raw",
   "id": "42202d7f",
   "metadata": {},
   "source": [
    "# Using pyvis to visualise a psc to company network graph with edge weights labelled with date and share ownership, \n",
    "# thickness of edge corresponds to share ownership percentage.\n",
    "\n",
    "from pyvis.network import Network\n",
    "nt = Network('800px', '800px',bgcolor='#white', font_color='black')\n",
    "pscs = greaterThanOneDf['psc']\n",
    "otherpscs = greaterThanOneDf['other_psc']\n",
    "companies = greaterThanOneDf['company_number']\n",
    "share = greaterThanOneDf['share_ownership']\n",
    "date = greaterThanOneDf['date']\n",
    "\n",
    "edge_data = zip(pscs, otherpscs, share, companies, date)\n",
    "\n",
    "for e in edge_data:\n",
    "    src = e[0]\n",
    "    dst = e[1]\n",
    "    w = e[2]\n",
    "    newdst = e[3]\n",
    "    date = e[4]\n",
    "    \n",
    "    nt.add_node(src, src, title=src,shape='image', image =\"https://www.seekpng.com/png/small/846-8465978_critres-de-choix-pour-la-solution-de-cration.png\")\n",
    "    nt.add_node(dst, dst, title=dst, shape='image', image =\"https://www.seekpng.com/png/small/846-8465978_critres-de-choix-pour-la-solution-de-cration.png\")\n",
    "    nt.add_node(newdst,newdst,title=newdst, shape='image', image=\"https://cdn-icons-png.flaticon.com/512/2083/2083417.png\")\n",
    "    nt.add_edge(src, newdst, value=w, title=f'Ownership: {w}%, Notified On: {date}', color='#F6E1D3')\n",
    "    nt.add_edge(dst, newdst, value=w, title=f'Ownership: {w}%, Notified On: {date}', color='#F6E1D3')\n",
    "        \n",
    "nt.show_buttons(filter_=['physics'])\n",
    "nt.show('nx.html')   "
   ]
  },
  {
   "cell_type": "raw",
   "id": "2d13d485",
   "metadata": {},
   "source": [
    "IFrame(src='nx.html', width=1000, height=1000)"
   ]
  }
 ],
 "metadata": {
  "kernelspec": {
   "display_name": "Python 3 (ipykernel)",
   "language": "python",
   "name": "python3"
  },
  "language_info": {
   "codemirror_mode": {
    "name": "ipython",
    "version": 3
   },
   "file_extension": ".py",
   "mimetype": "text/x-python",
   "name": "python",
   "nbconvert_exporter": "python",
   "pygments_lexer": "ipython3",
   "version": "3.9.12"
  }
 },
 "nbformat": 4,
 "nbformat_minor": 5
}
