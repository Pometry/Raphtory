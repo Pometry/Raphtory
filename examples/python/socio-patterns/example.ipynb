{
 "cells": [
  {
   "cell_type": "markdown",
   "metadata": {},
   "source": [
    "_The following notebook is a summarised tutorial that is avaialble in full at https://www.raphtory.com/user-guide_"
   ]
  },
  {
   "cell_type": "markdown",
   "metadata": {},
   "source": [
    "# Loading and Cleaning the data\n",
    "\n",
    "After reading data into Raphtory we can now make use of the graph representation to ask some interesting questions. For this tutorial, we will use a dataset from [SocioPatterns](http://www.sociopatterns.org/datasets/baboons-interactions/), comprising different behavioural interactions between a group of 22 baboons over a month. \n",
    "\n",
    "If you want to read more about the dataset, you can check it out in this paper: [V. Gelardi, J. Godard, D. Paleressompoulle, N. Claidière, A. Barrat, “Measuring social networks in primates: wearable sensors vs. direct observations”, Proc. R. Soc. A 476:20190737 (2020)](https://royalsocietypublishing.org/doi/10.1098/rspa.2019.0737). \n",
    "\n",
    "In the below code we load this dataset into a dataframe and do a small amount of preprocessing to prepare it for loading into Raphtory. This includes dropping rows with blank fields and mapping the values of the `behaviour category` into a `weight` which can be aggregated. The mapping consists of the following conversions:\n",
    "\n",
    "* Affiliative (positive interaction) → `+1`\n",
    "* Agonistic (negative interaction) → `-1` \n",
    "* Other (neutral interaction) → `0`"
   ]
  },
  {
   "cell_type": "code",
   "execution_count": 1,
   "metadata": {},
   "outputs": [
    {
     "name": "stdout",
     "output_type": "stream",
     "text": [
      "              DateTime   Actor Recipient  Behavior     Category  Weight\n",
      "15 2019-06-13 09:50:00  ANGELE    FELIPE  Grooming  Affiliative       1\n",
      "17 2019-06-13 09:50:00  ANGELE    FELIPE  Grooming  Affiliative       1\n",
      "19 2019-06-13 09:51:00  FELIPE    ANGELE   Resting  Affiliative       1\n",
      "20 2019-06-13 09:51:00  FELIPE      LIPS   Resting  Affiliative       1\n",
      "21 2019-06-13 09:51:00  ANGELE    FELIPE  Grooming  Affiliative       1\n"
     ]
    }
   ],
   "source": [
    "import pandas as pd\n",
    "\n",
    "edges_df = pd.read_csv(\n",
    "    \"data/OBS_data.txt\", sep=\"\\t\", header=0, usecols=[0, 1, 2, 3, 4], parse_dates=[0], date_format='%d/%m/%Y %H:%M'\n",
    ")\n",
    "edges_df[\"DateTime\"] =edges_df[\"DateTime\"].astype(\"datetime64[ms]\")\n",
    "edges_df.dropna(axis=0, inplace=True)\n",
    "edges_df[\"Weight\"] = edges_df[\"Category\"].apply(\n",
    "    lambda c: 1 if (c == \"Affiliative\") else (-1 if (c == \"Agonistic\") else 0)\n",
    ")\n",
    "print(edges_df.head())"
   ]
  },
  {
   "cell_type": "markdown",
   "metadata": {},
   "source": [
    "# Creating a graph\n",
    "\n",
    "There are plenty of ways to get data into Raphtory and start running analysis. In this tutorial we are going to cover loading from a Pandas Dataframe. You can also directly update or loading from a saved graph.\n",
    "\n",
    "To get started we first need to create a graph to store our data. Printing this graph will show it as empty with no nodes, edges or update times."
   ]
  },
  {
   "cell_type": "code",
   "execution_count": 2,
   "metadata": {},
   "outputs": [
    {
     "data": {
      "text/plain": [
       "Graph(number_of_nodes=0, number_of_edges=0, number_of_temporal_edges=0, earliest_time=None, latest_time=None)"
      ]
     },
     "execution_count": 2,
     "metadata": {},
     "output_type": "execute_result"
    }
   ],
   "source": [
    "import raphtory as rp\n",
    "\n",
    "g = rp.Graph()\n",
    "g"
   ]
  },
  {
   "cell_type": "markdown",
   "metadata": {},
   "source": [
    "Next we load this into Raphtory using the `load_edges_from_pandas` function, modelling it as a weighted multi-layer graph, with a layer per unique `behaviour`. "
   ]
  },
  {
   "cell_type": "code",
   "execution_count": 3,
   "metadata": {},
   "outputs": [
    {
     "data": {
      "application/vnd.jupyter.widget-view+json": {
       "model_id": "19ff255da8d54df8abc420a29e7070f9",
       "version_major": 2,
       "version_minor": 0
      },
      "text/plain": [
       "HBox(children=(HTML(value=''), IntProgress(value=0, max=3196), HTML(value='')))"
      ]
     },
     "metadata": {},
     "output_type": "display_data"
    },
    {
     "name": "stdout",
     "output_type": "stream",
     "text": [
      "Graph(number_of_nodes=22, number_of_edges=290, number_of_temporal_edges=3196, earliest_time=1560419400000, latest_time=1562756700000)\n"
     ]
    }
   ],
   "source": [
    "g.load_edges_from_pandas(\n",
    "    df=edges_df,\n",
    "    src=\"Actor\",\n",
    "    dst=\"Recipient\",\n",
    "    time=\"DateTime\",\n",
    "    layer_col=\"Behavior\",\n",
    "    properties=[\"Weight\"],\n",
    ")\n",
    "print(g)"
   ]
  },
  {
   "cell_type": "markdown",
   "metadata": {},
   "source": [
    "# Basic Metrics\n",
    "\n",
    "Now that we have our graph let's start probing it for some basic metrics, such as how many nodes and edges it contains and the time range over which it exists. \n",
    "\n",
    "Note, as the property APIs are the same for the graph, nodes and edges, these are discussed together in [Property queries](https://www.raphtory.com/user-guide/querying/5_properties/)."
   ]
  },
  {
   "cell_type": "code",
   "execution_count": 4,
   "metadata": {},
   "outputs": [
    {
     "name": "stdout",
     "output_type": "stream",
     "text": [
      "Stats on the graph structure:\n",
      "Number of nodes (Baboons): 22\n",
      "Number of unique edges (src,dst,layer): 290\n",
      "Total interactions (edge updates): 3196\n",
      "Unique layers: ['_default', 'Touching', 'Resting', 'Carrying', 'Presenting', 'Playing with', 'Grooming', 'Threatening', 'Attacking', 'Embracing', 'Avoiding', 'Grunting-Lipsmacking', 'Supplanting', 'Submission', 'Mounting', 'Copulating', 'Chasing'] \n",
      "\n",
      "Stats on the graphs time range:\n",
      "Earliest datetime: 2019-06-13 09:50:00+00:00\n",
      "Latest datetime: 2019-07-10 11:05:00+00:00\n",
      "Earliest time (Unix Epoch): 1560419400000\n",
      "Latest time (Unix Epoch): 1562756700000\n"
     ]
    }
   ],
   "source": [
    "print(\"Stats on the graph structure:\")\n",
    "\n",
    "number_of_nodes = g.count_nodes()\n",
    "number_of_edges = g.count_edges()\n",
    "total_interactions = g.count_temporal_edges()\n",
    "unique_layers = g.unique_layers\n",
    "\n",
    "print(\"Number of nodes (Baboons):\", number_of_nodes)\n",
    "print(\"Number of unique edges (src,dst,layer):\", number_of_edges)\n",
    "print(\"Total interactions (edge updates):\", total_interactions)\n",
    "print(\"Unique layers:\", unique_layers, \"\\n\")\n",
    "\n",
    "\n",
    "print(\"Stats on the graphs time range:\")\n",
    "\n",
    "earliest_datetime = g.earliest_date_time\n",
    "latest_datetime = g.latest_date_time\n",
    "earliest_epoch = g.earliest_time\n",
    "latest_epoch = g.latest_time\n",
    "\n",
    "print(\"Earliest datetime:\", earliest_datetime)\n",
    "print(\"Latest datetime:\", latest_datetime)\n",
    "print(\"Earliest time (Unix Epoch):\", earliest_epoch)\n",
    "print(\"Latest time (Unix Epoch):\", latest_epoch)"
   ]
  },
  {
   "cell_type": "markdown",
   "metadata": {},
   "source": [
    "## Accessing nodes and edges  \n",
    "Three types of functions are provided for accessing the nodes and edges within the graph: \n",
    "\n",
    "* **Existance check:** Via `has_node()` and `has_edge()` you can check if an entity is present within the graph.\n",
    "* **Direct access:** `node()` and `edge()` will return a node/edge object if the entity is present and `None` if it is not.\n",
    "* **Iterable access:** `nodes` and `edges` will return iterables for all nodes/edges which can be used within a for loop or as part of a [function chain](https://www.raphtory.com/user-guide/querying/6_chaining/).\n",
    "\n",
    "All of these functions are shown in the code below and will appear in several other examples throughout this tutorial."
   ]
  },
  {
   "cell_type": "code",
   "execution_count": 5,
   "metadata": {},
   "outputs": [
    {
     "name": "stdout",
     "output_type": "stream",
     "text": [
      "Checking if specific nodes and edges are in the graph:\n",
      "Lomme is in the graph\n",
      "Lomme has played with Nekke \n",
      "\n",
      "Getting individual nodes and edges:\n",
      "Node(name=LOME, earliest_time=1560419520000, latest_time=1562756100000)\n",
      "Edge(source=LOME, target=NEKKE, earliest_time=1560421080000, latest_time=1562755980000, properties={Weight: 1}, layer(s)=[Touching, Resting, Carrying, Playing with, Grooming]) \n",
      "\n",
      "Getting iterators over all nodes and edges:\n",
      "[Node(name=MALI, earliest_time=1560422040000, latest_time=1562755320000), Node(name=FEYA, earliest_time=1560420000000, latest_time=1562756040000), Node(name=FANA, earliest_time=1560420000000, latest_time=1562754600000), Node(name=EWINE, earliest_time=1560442020000, latest_time=1562754600000), Node(name=MAKO, earliest_time=1560421620000, latest_time=1562756100000)]\n",
      "[Edge(source=ARIELLE, target=PETOULETTE, earliest_time=1560437700000, latest_time=1561626660000, properties={Weight: 1}, layer(s)=[Resting, Grooming]), Edge(source=FEYA, target=FANA, earliest_time=1560420000000, latest_time=1562248680000, properties={Weight: 1}, layer(s)=[Touching, Resting, Presenting]), Edge(source=LOME, target=NEKKE, earliest_time=1560421080000, latest_time=1562755980000, properties={Weight: 1}, layer(s)=[Touching, Resting, Carrying, Playing with, Grooming])]\n"
     ]
    }
   ],
   "source": [
    "print(\"Checking if specific nodes and edges are in the graph:\")\n",
    "if g.has_node(id=\"LOME\"):\n",
    "    print(\"Lomme is in the graph\")\n",
    "if g.layer(\"Playing with\").has_edge(src=\"LOME\", dst=\"NEKKE\"):\n",
    "    print(\"Lomme has played with Nekke \\n\")\n",
    "\n",
    "print(\"Getting individual nodes and edges:\")\n",
    "print(g.node(\"LOME\"))\n",
    "print(g.edge(\"LOME\", \"NEKKE\"), \"\\n\")\n",
    "\n",
    "print(\"Getting iterators over all nodes and edges:\")\n",
    "print(list(g.nodes)[:5])\n",
    "print(list(g.edges)[:3])"
   ]
  },
  {
   "cell_type": "markdown",
   "metadata": {},
   "source": [
    "# Update history\n",
    "\n",
    "In the code below we create a node object for the monkey Felipe and see when their updates occurred. \n",
    "\n",
    "We've limited Felipes updates to the first 10 since they have had many interactions! \n"
   ]
  },
  {
   "cell_type": "code",
   "execution_count": 6,
   "metadata": {},
   "outputs": [
    {
     "name": "stdout",
     "output_type": "stream",
     "text": [
      "FELIPE's first interaction was at 2019-06-13 09:50:00+00:00 and their last interaction was at 2019-07-10 11:05:00+00:00\n",
      "\n",
      "FELIPE had interactions at the following times: [1560419400000 1560419460000 1560419520000 1560419580000 1560419640000\n",
      " 1560420720000 1560421260000 1560422580000 1560423360000 1560423420000]\n",
      "\n"
     ]
    }
   ],
   "source": [
    "v = g.node(\"FELIPE\")\n",
    "print(\n",
    "    f\"{v.name}'s first interaction was at {v.earliest_date_time} and their last interaction was at {v.latest_date_time}\\n\"\n",
    ")\n",
    "print(f\"{v.name} had interactions at the following times: {v.history()[:10]}\\n\")"
   ]
  },
  {
   "cell_type": "markdown",
   "metadata": {},
   "source": [
    "# Neighbours, edges and paths\n"
   ]
  },
  {
   "cell_type": "markdown",
   "metadata": {},
   "source": [
    "To investigate who a node is connected with we can ask for its `degree()`, `edges`, or `neighbours`. As Raphtory is a directed graph all of these functions also have an `in_` and `out_` variation, allowing you get only incoming and outgoing connections respectively. These functions return the following:\n",
    "\n",
    "* **degree:** A count of the number of unique connections a node has.\n",
    "* **edges:** An iterable (`Edges`) of edge objects, one for each unique `(src,dst)` pair.\n",
    "* **neighbours:** An iterable of node objects (`PathFromNode`), one for each node the node shares an edge with.\n",
    "\n",
    "Let's look at `Felipe` and find their degrees and neighbours.  "
   ]
  },
  {
   "cell_type": "code",
   "execution_count": 7,
   "metadata": {
    "scrolled": true
   },
   "outputs": [
    {
     "name": "stdout",
     "output_type": "stream",
     "text": [
      "FELIPE has 17 incoming interactions and 18 outgoing interactions.\n",
      "\n",
      "[Edge(source=MALI, target=FELIPE, earliest_time=1561117140000, latest_time=1562753160000, properties={Weight: 1}, layer(s)=[Resting, Presenting, Grooming]), Edge(source=FEYA, target=FELIPE, earliest_time=1560853500000, latest_time=1562586000000, properties={Weight: 1}, layer(s)=[Resting, Presenting]), Edge(source=FANA, target=FELIPE, earliest_time=1560526140000, latest_time=1562752800000, properties={Weight: 1}, layer(s)=[Touching, Resting, Presenting, Grooming, Submission, Copulating])]\n",
      "[Node(name=MALI, earliest_time=1560422040000, latest_time=1562755320000), Node(name=FEYA, earliest_time=1560420000000, latest_time=1562756040000), Node(name=FANA, earliest_time=1560420000000, latest_time=1562754600000)] \n",
      "\n",
      "FELIPE interacted with the following baboons ['MALI', 'FEYA', 'FANA', 'EWINE', 'MAKO', 'ANGELE', 'LOME', 'BOBO', 'MUSE', 'NEKKE', 'PETOULETTE', 'ARIELLE', 'HARLEM', 'ATMOSPHERE', 'LIPS', 'PIPO', 'VIOLETTE', 'SELF']\n"
     ]
    }
   ],
   "source": [
    "v = g.node(\"FELIPE\")\n",
    "v_name = v.name\n",
    "in_degree = v.in_degree()\n",
    "out_degree = v.out_degree()\n",
    "in_edges = v.in_edges\n",
    "neighbours = v.neighbours\n",
    "neighbour_names = v.neighbours.name.collect()\n",
    "\n",
    "print(\n",
    "    f\"{v_name} has {in_degree} incoming interactions and {out_degree} outgoing interactions.\\n\"\n",
    ")\n",
    "\n",
    "print(list(in_edges)[:3])\n",
    "print(list(neighbours)[:3], \"\\n\")\n",
    "print(f\"{v_name} interacted with the following baboons {neighbour_names}\")\n"
   ]
  },
  {
   "cell_type": "markdown",
   "metadata": {},
   "source": [
    "## Exploded edges\n",
    "The very first question you may have after reading this is \"What if I don't want all of the layers?\" For this Raphtory offers you three different ways to split the edge, depending on your use case:\n",
    "\n",
    "* `.layers()`: which takes a list of layer names and returns a new `Edge View` which only contains updates for the specified layers - This is discussed in more detail in the [Layer views](https://www.raphtory.com/user-guide/views/3_layer/) chapter.\n",
    "* `.explode_layers()`: which returns an iterable of `Edge Views`, each containing the updates for one layer.\n",
    "* `.explode()`: which returns an `Exploded Edge` containing only the information from one call to `add_edge()` i.e. an edge object for each update. \n",
    "\n",
    "In the code below you can see usage of all of these functions. We first call `explode_layers()`, seeing which layer each edge object represents and output its update history. Next we fully `explode()` the edge and see each update as an individual object. Thirdly we use the `layer()` function to look at only the `Touching` and `Carrying` layers and chain this with a call to `explode()` to see the updates within these individually. \n",
    "\n",
    "Each update below has been truncated to only show the first five. "
   ]
  },
  {
   "cell_type": "code",
   "execution_count": 8,
   "metadata": {
    "scrolled": true
   },
   "outputs": [
    {
     "name": "stdout",
     "output_type": "stream",
     "text": [
      "Update history per layer:\n",
      "FELIPE interacted with MAKO with the following behaviour 'Touching' at this times: [1562149020000]\n",
      "FELIPE interacted with MAKO with the following behaviour 'Resting' at this times: [1560437400000 1560437640000 1560935460000 1561117620000 1561373880000\n",
      " 1561390860000 1561390860000 1561390860000 1561643580000 1561970760000\n",
      " 1562149020000 1562671020000]\n",
      "FELIPE interacted with MAKO with the following behaviour 'Carrying' at this times: [1561043280000 1561373940000]\n",
      "FELIPE interacted with MAKO with the following behaviour 'Playing with' at this times: [1561373880000 1561373940000 1561373940000 1561390920000 1562148960000\n",
      " 1562148960000 1562149080000]\n",
      "FELIPE interacted with MAKO with the following behaviour 'Grooming' at this times: [1561043280000 1561043340000]\n",
      "\n",
      "Individual updates as edges:\n",
      "At 2019-06-13 14:50:00+00:00 FELIPE interacted with MAKO in the following manner: 'Resting'\n",
      "At 2019-06-13 14:54:00+00:00 FELIPE interacted with MAKO in the following manner: 'Resting'\n",
      "At 2019-06-19 09:11:00+00:00 FELIPE interacted with MAKO in the following manner: 'Resting'\n",
      "At 2019-06-20 15:08:00+00:00 FELIPE interacted with MAKO in the following manner: 'Carrying'\n",
      "At 2019-06-20 15:08:00+00:00 FELIPE interacted with MAKO in the following manner: 'Grooming'\n",
      "...\n",
      "\n",
      "Individual updates for 'Touching' and 'Carrying:\n",
      "At 2019-06-20 15:08:00+00:00 FELIPE interacted with MAKO in the following manner: 'Carrying'\n",
      "At 2019-06-24 10:59:00+00:00 FELIPE interacted with MAKO in the following manner: 'Carrying'\n",
      "At 2019-07-03 10:17:00+00:00 FELIPE interacted with MAKO in the following manner: 'Touching'\n",
      "...\n",
      "\n"
     ]
    }
   ],
   "source": [
    "print(\"Update history per layer:\")\n",
    "for e in list(g.edge(\"FELIPE\", \"MAKO\").explode_layers())[:5]:\n",
    "    print(f\"{e.src.name} interacted with {e.dst.name} with the following behaviour '{e.layer_name}' at this times: {e.history()}\")\n",
    "\n",
    "\n",
    "print()\n",
    "print(\"Individual updates as edges:\")\n",
    "for e in list(g.edge(\"FELIPE\", \"MAKO\").explode())[:5]:\n",
    "    print(f\"At {e.date_time} {e.src.name} interacted with {e.dst.name} in the following manner: '{e.layer_name}'\")\n",
    "\n",
    "print(\"...\\n\")\n",
    "print(\"Individual updates for 'Touching' and 'Carrying:\")\n",
    "for e in list(g.edge(\"FELIPE\", \"MAKO\").layers([\"Touching\", \"Carrying\"]).explode())[:5]:\n",
    "    print(f\"At {e.date_time} {e.src.name} interacted with {e.dst.name} in the following manner: '{e.layer_name}'\")\n",
    "print(\"...\\n\")"
   ]
  },
  {
   "cell_type": "markdown",
   "metadata": {},
   "source": [
    "# Chaining Functions \n",
    "\n",
    "When we called `v.neighbours` in [Node metrics](https://www.raphtory.com/user-guide/querying/3_node-metrics/#neighbours-edges-and-paths), a `PathFromNode` was returned rather than a `List`. This, along with all other iterables previously mentioned (`Nodes`,`Edges`,`Properties`), are [lazy](https://en.wikipedia.org/wiki/Lazy_evaluation) data structures which allow you to chain multiple functions together before a final execution. \n",
    "\n",
    "For example, for a node `v`, `v.neighbours.neighbours` will return the two-hop neighbours. The first call of `neighbours` returns the immediate neighbours of `v`, the second applies the`neighbours` function to each of the nodes returned by the first call. \n",
    "\n",
    "We can continue this chain for as long as we like, with any functions in the Node, Edge or Property API until we either: \n",
    "\n",
    "* Call `.collect()`, which will execute the chain and return the result.\n",
    "* Execute the chain by handing it to a python function such as `list()`, `set()`, `sum()`, etc.\n",
    "* Iterate through the chain via a loop/list comprehension.\n",
    "\n",
    "We can see a basic example of these function chains below in which we get the names of all the monkeys, the names of their two-hop neighbours, zip these together and print the result.\n",
    "\n",
    "For clarity, we have limited the out to show the first 15 monkeys and their first 10 two-hop neighbours. "
   ]
  },
  {
   "cell_type": "code",
   "execution_count": 9,
   "metadata": {
    "scrolled": true
   },
   "outputs": [
    {
     "name": "stdout",
     "output_type": "stream",
     "text": [
      "MALI has the following two hop neighbours ['MALI', 'FEYA', 'FANA', 'EWINE', 'MAKO', 'ANGELE', 'LOME', 'BOBO', 'MUSE', 'NEKKE']\n",
      "FEYA has the following two hop neighbours ['MALI', 'FEYA', 'FANA', 'EWINE', 'MAKO', 'ANGELE', 'LOME', 'BOBO', 'MUSE', 'NEKKE']\n",
      "FANA has the following two hop neighbours ['MALI', 'FEYA', 'FANA', 'EWINE', 'MAKO', 'ANGELE', 'LOME', 'BOBO', 'MUSE', 'NEKKE']\n",
      "EWINE has the following two hop neighbours ['MALI', 'FEYA', 'FANA', 'EWINE', 'MAKO', 'ANGELE', 'LOME', 'BOBO', 'MUSE', 'NEKKE']\n",
      "MAKO has the following two hop neighbours ['MALI', 'FEYA', 'FANA', 'EWINE', 'MAKO', 'ANGELE', 'LOME', 'BOBO', 'MUSE', 'NEKKE']\n",
      "ANGELE has the following two hop neighbours ['MALI', 'FEYA', 'FANA', 'EWINE', 'MAKO', 'ANGELE', 'LOME', 'BOBO', 'MUSE', 'NEKKE']\n",
      "LOME has the following two hop neighbours ['MALI', 'FEYA', 'FANA', 'EWINE', 'MAKO', 'ANGELE', 'LOME', 'BOBO', 'MUSE', 'NEKKE']\n",
      "BOBO has the following two hop neighbours ['MALI', 'FEYA', 'FANA', 'EWINE', 'MAKO', 'ANGELE', 'LOME', 'BOBO', 'MUSE', 'NEKKE']\n",
      "MUSE has the following two hop neighbours ['MALI', 'FEYA', 'FANA', 'EWINE', 'MAKO', 'ANGELE', 'LOME', 'BOBO', 'MUSE', 'NEKKE']\n",
      "KALI has the following two hop neighbours ['MALI', 'FEYA', 'EWINE', 'MAKO', 'ANGELE', 'LOME', 'BOBO', 'MUSE', 'KALI', 'NEKKE']\n",
      "NEKKE has the following two hop neighbours ['MALI', 'FEYA', 'FANA', 'EWINE', 'MAKO', 'ANGELE', 'LOME', 'BOBO', 'MUSE', 'NEKKE']\n",
      "PETOULETTE has the following two hop neighbours ['MALI', 'FEYA', 'FANA', 'EWINE', 'MAKO', 'ANGELE', 'LOME', 'BOBO', 'MUSE', 'NEKKE']\n",
      "ARIELLE has the following two hop neighbours ['MALI', 'FEYA', 'FANA', 'EWINE', 'MAKO', 'ANGELE', 'LOME', 'BOBO', 'MUSE', 'NEKKE']\n",
      "HARLEM has the following two hop neighbours ['MALI', 'FEYA', 'FANA', 'EWINE', 'MAKO', 'ANGELE', 'LOME', 'BOBO', 'MUSE', 'NEKKE']\n",
      "ATMOSPHERE has the following two hop neighbours ['MALI', 'FEYA', 'FANA', 'EWINE', 'MAKO', 'ANGELE', 'LOME', 'BOBO', 'MUSE', 'NEKKE']\n"
     ]
    }
   ],
   "source": [
    "node_names = g.nodes.name\n",
    "two_hop_neighbours = g.nodes.neighbours.neighbours.name.collect()\n",
    "combined = zip(node_names, two_hop_neighbours)\n",
    "for name, two_hop_neighbour in list(combined)[:15]:\n",
    "    print(f\"{name} has the following two hop neighbours {list(two_hop_neighbour)[:10]}\") "
   ]
  },
  {
   "cell_type": "markdown",
   "metadata": {},
   "source": [
    "# Chains with properties \n",
    "\n",
    "To demonstrate this question, we can include some property aggregation into our chains. \n",
    "\n",
    "In the code below we sum the `Weight` value of each of `Felipe's` out-neighbours to rank them by the number of positive interactions he has initiated with them. \n",
    "\n",
    "Following this find the most annoying monkey by ranking globally who on average has had the most negative interactions initiated against them."
   ]
  },
  {
   "cell_type": "code",
   "execution_count": 10,
   "metadata": {},
   "outputs": [
    {
     "name": "stdout",
     "output_type": "stream",
     "text": [
      "Felipe's favourite baboons in descending order are [('NEKKE', 41), ('ANGELE', 31), ('MAKO', 26), ('LOME', 23), ('LIPS', 11), ('HARLEM', 10), ('FANA', 8), ('MALI', 6), ('FEYA', 5), ('EWINE', 5), ('ARIELLE', 5), ('PIPO', 3), ('SELF', 2), ('BOBO', 1), ('PETOULETTE', 1), ('ATMOSPHERE', 1), ('VIOLETTE', 1), ('MUSE', -1)]\n",
      "EXTERNE is the most annoying monkey with an average score of -2.0\n"
     ]
    }
   ],
   "source": [
    "v = g.node(\"FELIPE\")\n",
    "neighbours_weighted = list(\n",
    "    zip(\n",
    "        v.out_edges.dst.name,\n",
    "        v.out_edges.properties.temporal.get(\"Weight\").values().sum(),\n",
    "    )\n",
    ")\n",
    "sorted_weights = sorted(neighbours_weighted, key=lambda v: v[1], reverse=True)\n",
    "print(f\"Felipe's favourite baboons in descending order are {sorted_weights}\")\n",
    "\n",
    "annoying_monkeys = list(\n",
    "    zip(\n",
    "        g.nodes.name,\n",
    "        g.nodes.in_edges.properties.temporal.get(\"Weight\")\n",
    "        .values()\n",
    "        .sum()  # sum the weights within each edge\n",
    "        .mean()  # average the summed weights for each monkey\n",
    "        .collect(),\n",
    "    )\n",
    ")\n",
    "most_annoying = sorted(annoying_monkeys, key=lambda v: v[1])[0]\n",
    "print(\n",
    "    f\"{most_annoying[0]} is the most annoying monkey with an average score of {most_annoying[1]}\"\n",
    ")\n"
   ]
  },
  {
   "cell_type": "markdown",
   "metadata": {},
   "source": [
    "# Graph Views\n",
    "\n",
    "\n",
    "Raphtory can maintain hundreds of thousands of Graph Views in parallel, allows chaining view functions together to create as specific a filter as is required for your use case, and provides a unified API such that all functions mentioned can be called on a graph, node or edge."
   ]
  },
  {
   "cell_type": "markdown",
   "metadata": {},
   "source": [
    "There are a number of views supported, such as `before()` takes a time argument in epoch (integer) or datetime (string/datetime object) format and can be called on a graph, node, or edge. This will return an equivalent Graph View, Node View or Edge View which includes all updates between the beginning of the graphs history and the provided time (exclusive of the time provided). \n",
    "\n",
    "You can also apply windows with the `window()` function. This allows you to set a start time as well as an end time (inclusive of start, exclusive of end).\n",
    "\n",
    "This is useful for digging into specific ranges of the history that you are interested in, for example a given day within your data, filtering everything else outside this range. An example of this can be seen below where we look at the number of times Lome interacts wth Nekke within the full dataset and for one day between the 13th of June and the 14th of June."
   ]
  },
  {
   "cell_type": "code",
   "execution_count": 11,
   "metadata": {},
   "outputs": [
    {
     "name": "stdout",
     "output_type": "stream",
     "text": [
      "Across the full dataset LOME interacted with NEKKE 41 times\n",
      "Between None and 2019-06-13 12:17:19+00:00, LOME interacted with NEKKE 8 times\n",
      "Window start: 2019-06-13 00:00:00+00:00, First update: 2019-06-13 10:18:00+00:00, Last update: 2019-06-13 15:05:00+00:00, Window End: 2019-06-14 00:00:00+00:00\n"
     ]
    }
   ],
   "source": [
    "from datetime import datetime\n",
    "\n",
    "start_day = datetime.strptime(\"2019-06-13\", \"%Y-%m-%d\")\n",
    "end_day = datetime.strptime(\"2019-06-14\", \"%Y-%m-%d\")\n",
    "v_at_2 = g.before(1560428239000).node(\"LOME\")  # 13/06/2019 12:17:19 as epoch\n",
    "e = g.edge(\"LOME\", \"NEKKE\")\n",
    "print(\n",
    "    f\"Across the full dataset {e.src.name} interacted with {e.dst.name} {len(e.history())} times\"\n",
    ")\n",
    "e = e.window(start_day, end_day)\n",
    "print(\n",
    "    f\"Between {v_at_2.start_date_time} and {v_at_2.end_date_time}, {e.src.name} interacted with {e.dst.name} {len(e.history())} times\"\n",
    ")\n",
    "print(\n",
    "    f\"Window start: {e.start_date_time}, First update: {e.earliest_date_time}, Last update: {e.latest_date_time}, Window End: {e.end_date_time}\"\n",
    ")\n"
   ]
  },
  {
   "cell_type": "markdown",
   "metadata": {},
   "source": [
    "## Rolling\n",
    "\n",
    "\n"
   ]
  },
  {
   "cell_type": "markdown",
   "metadata": {},
   "source": [
    "Where `at()` has `expanding()`, `window()` has `rolling()`. This function will return an iterable of views, incrementing by a `window` size and only including the history from inside the window period (**Inclusive of start, exclusive of end**). This allows you to easily extract daily or monthly metrics.\n",
    "\n",
    "`rolling()` takes an option `step` argument which specifies how far along the timeline it should increment before applying the next window. By default this is the same as `window`, allowing all updates to be analysed exactly once in non-overlapping windows.\n",
    "\n",
    "We use the `rolling()` function, to analyse `Lome's` daily interactions, with the step being `1 day`"
   ]
  },
  {
   "cell_type": "code",
   "execution_count": 12,
   "metadata": {},
   "outputs": [
    {
     "data": {
      "image/png": "[encoded data removed]",
      "text/plain": [
       "<Figure size 640x480 with 1 Axes>"
      ]
     },
     "metadata": {},
     "output_type": "display_data"
    }
   ],
   "source": [
    "import matplotlib.pyplot as plt\n",
    "importance = []\n",
    "time = []\n",
    "for rolling_lome in g.node(\"LOME\").rolling(\"1 day\"):\n",
    "    importance.append(rolling_lome.degree())\n",
    "    time.append(rolling_lome.end_date_time)\n",
    "\n",
    "plt.plot(time, importance, marker=\"o\")\n",
    "plt.xlabel(\"Date\")\n",
    "plt.xticks(rotation=45)\n",
    "plt.ylabel(\"Daily Unique Interactions\")\n",
    "plt.title(\"Lome's daily interaction count\")\n",
    "plt.grid(True)"
   ]
  },
  {
   "cell_type": "markdown",
   "metadata": {},
   "source": [
    "## Layered Graphs\n",
    "\n",
    " As previously discussed, an edge object by default will contain information on all layers between its source and destination nodes. However, it is often the case that there are a subset of these relationships that we are interested in. To handle this the `Graph`, `Node` and `Edge` provide the `layers()` function. \n",
    "\n",
    " This takes a list of layer names and returns a view with only edge updates that occurred on these layers. Layer views will pass their restrictions on to any object they return (as with the time views) and can be used in combination with any other view function.\n",
    "\n",
    " As an example of this, in the code below we look at the total edge weight over the full graph, then restrict this to the `Grooming` and `Resting` layers and then reduce this further by applying a window between the 13th and 20th of June."
   ]
  },
  {
   "cell_type": "code",
   "execution_count": 13,
   "metadata": {},
   "outputs": [
    {
     "name": "stdout",
     "output_type": "stream",
     "text": [
      "Total weight across all edges is 2948.\n",
      "Total weight across Grooming and Resting is 1685.\n",
      "Total weight across Grooming and Resting between 2019-06-13 00:00:00 and 2019-06-20 00:00:00 is 403.\n"
     ]
    }
   ],
   "source": [
    "total_weight = g.edges.properties.temporal.get(\"Weight\").values().sum().sum()\n",
    "print(f\"Total weight across all edges is {total_weight}.\")\n",
    "\n",
    "total_weight = (\n",
    "    g.layers([\"Grooming\", \"Resting\"])\n",
    "    .edges.properties.temporal.get(\"Weight\")\n",
    "    .values()\n",
    "    .sum()\n",
    "    .sum()\n",
    ")\n",
    "print(f\"Total weight across Grooming and Resting is {total_weight}.\")\n",
    "\n",
    "start_day = datetime.strptime(\"2019-06-13\", \"%Y-%m-%d\")\n",
    "end_day = datetime.strptime(\"2019-06-20\", \"%Y-%m-%d\")\n",
    "total_weight = (\n",
    "    g.layers([\"Grooming\", \"Resting\"])\n",
    "    .window(start_day, end_day)\n",
    "    .edges.properties.temporal.get(\"Weight\")\n",
    "    .values()\n",
    "    .sum()\n",
    "    .sum()\n",
    ")\n",
    "print(\n",
    "    f\"Total weight across Grooming and Resting between {start_day} and {end_day} is {total_weight}.\"\n",
    ")"
   ]
  },
  {
   "cell_type": "markdown",
   "metadata": {},
   "source": [
    "## Subgraph\n",
    "Similar to only being interested in a subset of edge layers, for some use cases we may only be interested in a subset of nodes within the graph. One solution to this could be to call `g.nodes` and filter this before continuing your workflow. However, this does not remove anything for later calls to `neighbours`, `edges`, etc. Meaning you will have to constantly recheck these lists. \n",
    "\n",
    "To handle all of these corner cases Raphtory provides the `subgraph()` function which takes a list of nodes of interest. This applies a view such that all nodes not in the list are hidden from all future function calls. This also hides any edges linked to hidden nodes to keep the subgraph consistent. \n",
    "\n",
    "In the below example we demonstrate this by looking at the neighbours of `FELIPE` in the full graph, vs a subgraph of `FELIPE`, `LIPS`, `NEKKE`, `LOME` and `BOBO`. We also show how that `subgraph()` can be combined with other view functions, in this case a window between the 17th and 18th of June.\n"
   ]
  },
  {
   "cell_type": "code",
   "execution_count": 14,
   "metadata": {},
   "outputs": [
    {
     "name": "stdout",
     "output_type": "stream",
     "text": [
      "There are 22 monkeys in the whole graph\n",
      "There are 5 monkeys in the subgraph\n",
      "FELIPE has the following neighbours in the full graph: ['MALI', 'FEYA', 'FANA', 'EWINE', 'MAKO', 'ANGELE', 'LOME', 'BOBO', 'MUSE', 'NEKKE', 'PETOULETTE', 'ARIELLE', 'HARLEM', 'ATMOSPHERE', 'LIPS', 'PIPO', 'VIOLETTE', 'SELF']\n",
      "FELIPE has the following neighbours in the subgraph: ['LOME', 'BOBO', 'NEKKE', 'LIPS']\n",
      "FELIPE has the following neighbours in the subgraph between 2019-06-17 00:00:00 and 2019-06-18 00:00:00: ['NEKKE']\n"
     ]
    }
   ],
   "source": [
    "print(f\"There are {g.count_nodes()} monkeys in the whole graph\")\n",
    "subgraph = g.subgraph([\"FELIPE\", \"LIPS\", \"NEKKE\", \"LOME\", \"BOBO\"])\n",
    "print(f\"There are {subgraph.count_nodes()} monkeys in the subgraph\")\n",
    "neighbours = g.node(\"FELIPE\").neighbours.name.collect()\n",
    "print(f\"FELIPE has the following neighbours in the full graph: {neighbours}\")\n",
    "neighbours = subgraph.node(\"FELIPE\").neighbours.name.collect()\n",
    "print(f\"FELIPE has the following neighbours in the subgraph: {neighbours}\")\n",
    "start_day = datetime.strptime(\"2019-06-17\", \"%Y-%m-%d\")\n",
    "end_day = datetime.strptime(\"2019-06-18\", \"%Y-%m-%d\")\n",
    "neighbours = (\n",
    "    subgraph.node(\"FELIPE\").window(start_day, end_day).neighbours.name.collect()\n",
    ")\n",
    "print(\n",
    "    f\"FELIPE has the following neighbours in the subgraph between {start_day} and {end_day}: {neighbours}\"\n",
    ")"
   ]
  },
  {
   "cell_type": "markdown",
   "metadata": {},
   "source": [
    "# Running Algorithms \n",
    "\n",
    "Within Raphtory we have implemented many of the standard algorithms you may expect within a graph library, but have also added several temporal algorithms such as `Temporal Reachability` and `Temporal Motifs`. You can check out the full list of available algorithms [here](https://docs.raphtory.com/en/master/reference/algorithms/index.html) and edit the code snippets below in your own notebook to test them out. "
   ]
  },
  {
   "cell_type": "markdown",
   "metadata": {},
   "source": [
    "## Graph wide algorithms\n",
    "The first category of algorithms we can run are `graph wide`, returning one value for the whole graph. There are many useful metrics that fall into this category, of which we run three in the code below:\n",
    "\n",
    "* [Graph Density](https://en.wikipedia.org/wiki/Dense_graph) - which represents the ratio between the edges present in a graph and the maximum number of edges that the graph could contain.\n",
    "* [Clustering coefficient](https://en.wikipedia.org/wiki/Clustering_coefficient) - which is a measure of the degree to which nodes in a graph tend to cluster together e.g. how many of your friends are also friends.\n",
    "* [Reciprocity](https://en.wikipedia.org/wiki/Reciprocity_(network_science)) - which is a measure of the likelihood of nodes in a directed network to be mutually connected e.g. if you follow someone on twitter, whats the change of them following you back.\n",
    "\n",
    "As you can see below, to run an algorithm you simply need to import the algorithm package, choose an algorithm to run and hand it your graph."
   ]
  },
  {
   "cell_type": "code",
   "execution_count": 15,
   "metadata": {},
   "outputs": [
    {
     "name": "stdout",
     "output_type": "stream",
     "text": [
      "The graph's density is 0.6277056277056277\n",
      "The graph's clustering coefficient is 0.917550058892815\n",
      "The graph's reciprocity is 0.8819444444444444\n"
     ]
    }
   ],
   "source": [
    "from raphtory import algorithms as rp\n",
    "\n",
    "density = rp.directed_graph_density(g)\n",
    "clustering_coefficient = rp.global_clustering_coefficient(g)\n",
    "reciprocity = rp.global_reciprocity(g)\n",
    "\n",
    "print(f\"The graph's density is {density}\")\n",
    "print(f\"The graph's clustering coefficient is {clustering_coefficient}\")\n",
    "print(f\"The graph's reciprocity is {reciprocity}\")"
   ]
  },
  {
   "cell_type": "markdown",
   "metadata": {},
   "source": [
    "## Node centric algorithms \n",
    "The second category of algorithms are `node centric` and return a value for each node in the graph. These results are stored within a [AlgorithmResult](https://docs.raphtory.com/en/master/reference/algorithms/algorithmresult.html) object which has functions for sorting, grouping, top_k and conversion to dataframes. To demonstrate these functions below we have run [PageRank](https://en.wikipedia.org/wiki/PageRank) and [Weakly Connected Components](https://en.wikipedia.org/wiki/Component_(graph_theory)).\n",
    "\n",
    "## Continuous Results (PageRank)\n",
    "`PageRank` is an centrality metric developed by Google's founders to rank web pages in search engine results based on their importance and relevance. This has since become a standard ranking algorithm for a whole host of other usecases.\n",
    "\n",
    "Raphtory's implementation returns the score for each node - these are continuous values, meaning we can discover the most important monekys in our dataset via `top_k()`.\n",
    "\n",
    "In the code below we first get the result of an individual monkey (Nekke), followed by the values of the top 5 most important monkeys. "
   ]
  },
  {
   "cell_type": "code",
   "execution_count": 16,
   "metadata": {},
   "outputs": [
    {
     "name": "stdout",
     "output_type": "stream",
     "text": [
      "Nekkes's ranking is 0.05593041224988802\n",
      "\n",
      "Rank 1: Node(name=PETOULETTE, earliest_time=1560422520000, latest_time=1562754420000) with a score of 0.05990\n",
      "Rank 2: Node(name=BOBO, earliest_time=1560419520000, latest_time=1562755500000) with a score of 0.05941\n",
      "Rank 3: Node(name=LIPS, earliest_time=1560419460000, latest_time=1562756700000) with a score of 0.05812\n",
      "Rank 4: Node(name=FELIPE, earliest_time=1560419400000, latest_time=1562756700000) with a score of 0.05788\n",
      "Rank 5: Node(name=VIOLETTE, earliest_time=1560423600000, latest_time=1562754900000) with a score of 0.05759\n"
     ]
    }
   ],
   "source": [
    "from raphtory import algorithms as rp\n",
    "\n",
    "results = rp.pagerank(g)\n",
    "\n",
    "# Getting the results for an individual monkey (NEKKE)\n",
    "nekke_rank = results.get(\"NEKKE\")\n",
    "print(f\"Nekkes's ranking is {nekke_rank}\\n\")\n",
    "\n",
    "# Getting the top 5 most important characters and printing out their scores\n",
    "top_5 = results.top_k(5)\n",
    "for rank, (name, score) in enumerate(top_5.items(), 1):\n",
    "    print(f\"Rank {rank}: {name} with a score of {score:.5f}\")"
   ]
  },
  {
   "cell_type": "markdown",
   "metadata": {},
   "source": [
    "## Running algorithms on graph views \n",
    "\n",
    "As with all the queries we above, both `graphwide` and `node centric` algorithms can be run on `graph views`. This allows us to see how results change over time, run algorithms on subsets of the layers or remove specific nodes from the graph to see the impact this has. \n",
    "\n",
    "To demonstrate this, below is an example of how you could track Nekkes's importance using rolling windows and the `PageRank` algorithm. \n",
    "\n",
    "Within each windowed graph we use the api to extract Nekke's score and record it alongside the earliest timestamp in the window, which can then be plotted via matplotlib."
   ]
  },
  {
   "cell_type": "code",
   "execution_count": 17,
   "metadata": {},
   "outputs": [
    {
     "data": {
      "image/png": "[encoded data removed]",
      "text/plain": [
       "<Figure size 640x480 with 1 Axes>"
      ]
     },
     "metadata": {},
     "output_type": "display_data"
    }
   ],
   "source": [
    "from datetime import datetime\n",
    "\n",
    "importance = []\n",
    "time = []\n",
    "\n",
    "for windowed_graph in g.rolling(window=\"3 days\"):\n",
    "    result = rp.pagerank(windowed_graph)\n",
    "    importance.append(result.get(\"NEKKE\"))\n",
    "    time.append(windowed_graph.earliest_date_time)\n",
    "\n",
    "plt.plot(time, importance, marker=\"o\")\n",
    "plt.xlabel(\"Date\")\n",
    "plt.xticks(rotation=45)\n",
    "plt.ylabel(\"Pagerank Score\")\n",
    "plt.title(\"Nekke's importance over time\")\n",
    "plt.grid(True)"
   ]
  }
 ],
 "metadata": {
  "kernelspec": {
   "display_name": "base",
   "language": "python",
   "name": "python3"
  },
  "language_info": {
   "codemirror_mode": {
    "name": "ipython",
    "version": 3
   },
   "file_extension": ".py",
   "mimetype": "text/x-python",
   "name": "python",
   "nbconvert_exporter": "python",
   "pygments_lexer": "ipython3",
   "version": "3.12.4"
  }
 },
 "nbformat": 4,
 "nbformat_minor": 4
}
