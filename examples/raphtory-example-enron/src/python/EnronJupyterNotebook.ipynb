{
 "cells": [
  {
   "cell_type": "markdown",
   "id": "36e10588",
   "metadata": {},
   "source": [
    "# Raphtory Python Client - ENRON DEMO"
   ]
  },
  {
   "cell_type": "markdown",
   "id": "4d55d2f1",
   "metadata": {},
   "source": [
    "In this demo we will\n",
    "* Create a Python Raphtory client\n",
    "* Create a Graph from data in Raphtory\n",
    "* Pull results from an algorithm in Raphtory\n",
    "* Add these results to the Graph\n",
    "* Visualise the graph with pymotif"
   ]
  },
  {
   "cell_type": "markdown",
   "id": "0eabfb58",
   "metadata": {},
   "source": [
    "### Setup Code"
   ]
  },
  {
   "cell_type": "markdown",
   "id": "a9a1ae6e",
   "metadata": {},
   "source": [
    "First we setup the various libraries we will need"
   ]
  },
  {
   "cell_type": "code",
   "execution_count": 1,
   "id": "583a44aa",
   "metadata": {},
   "outputs": [],
   "source": [
    "pip install raphtory-client"
   ]
  },
  {
   "cell_type": "code",
   "execution_count": 2,
   "id": "4ed25912",
   "metadata": {},
   "outputs": [],
   "source": [
    "# Getting data outputted from Raphtory algorithm\n",
    "import conf\n",
    "import networkx as nx\n",
    "from pymotif import Motif\n",
    "import pandas as pd\n",
    "from raphtoryclient import client"
   ]
  },
  {
   "cell_type": "markdown",
   "id": "babf36c4",
   "metadata": {},
   "source": [
    "### Create Client\n",
    "\n",
    "Now we create a client, and then create the readers which read from topics.\n",
    "\n",
    "If the connection fails, the code with automatically retry.\n",
    "\n",
    "This can occur when you have not closed previous pulsar connections.\n",
    "\n",
    "In this case we are reading the topic: EdgeList, ConnectedComponents\n",
    "\n",
    "Note: Prior to this you should have already run these algorithms in Raphtory."
   ]
  },
  {
   "cell_type": "code",
   "execution_count": 3,
   "id": "949db519",
   "metadata": {},
   "outputs": [],
   "source": [
    "raphtoryClient = client()"
   ]
  },
  {
   "cell_type": "code",
   "execution_count": 4,
   "id": "456e5d3e",
   "metadata": {},
   "outputs": [],
   "source": [
    "edgeListReader = raphtoryClient.createReader(\"EdgeList\", subscription_name='edgelist_reader')\n",
    "conCompReader  = raphtoryClient.createReader(\"ConnectedComponents\", subscription_name='concomp_reader')"
   ]
  },
  {
   "cell_type": "markdown",
   "id": "d85dc04c",
   "metadata": {},
   "source": [
    "### Obtain dataframes\n",
    "\n",
    "Now we will run the getDataframe function to retrieve results as dataframes."
   ]
  },
  {
   "cell_type": "code",
   "execution_count": 6,
   "id": "cdd41fdf",
   "metadata": {},
   "outputs": [],
   "source": [
    "df_edge = raphtoryClient.getDataframe(edgeListReader)\n",
    "## df_con  = raphtoryClient.getDataframe(conCompReader)"
   ]
  },
  {
   "cell_type": "markdown",
   "id": "7f568c24",
   "metadata": {},
   "source": [
    "### Create a graph\n",
    "\n",
    "Next we create a graph by pulling the edge list from Raphtory.\n",
    "\n",
    "In this case we would like to create a graph from the ENRON dataset.\n",
    "\n",
    "So we run the `createGraphFromEdgeList` method on the `EdgeList` dataframe."
   ]
  },
  {
   "cell_type": "code",
   "execution_count": 7,
   "id": "36778289",
   "metadata": {},
   "outputs": [],
   "source": [
    "G = raphtoryClient.createGraphFromEdgeList(df_edge, isMultiGraph=False)\n",
    "G.number_of_nodes(), G.number_of_edges()"
   ]
  },
  {
   "cell_type": "markdown",
   "id": "4a262baf",
   "metadata": {},
   "source": [
    "### Adding properties to our graph\n",
    "Now we merge these as node properties into our graph"
   ]
  },
  {
   "cell_type": "code",
   "execution_count": null,
   "id": "0deb2cde",
   "metadata": {},
   "outputs": [],
   "source": [
    "raphtoryClient.add_node_attributes(G, [df_page], ['ConnectedComponents'])"
   ]
  },
  {
   "cell_type": "markdown",
   "id": "b70372bf",
   "metadata": {},
   "source": [
    "### Visualisation\n",
    "\n",
    "Finally we plot the graph with an open source visualisation tool ."
   ]
  },
  {
   "cell_type": "code",
   "execution_count": null,
   "id": "6e0b61a0",
   "metadata": {},
   "outputs": [],
   "source": [
    "motif_nx = Motif(nx_graph=G, title='NetworkX')\n",
    "motif_nx.plot()"
   ]
  }
 ],
 "metadata": {
  "kernelspec": {
   "display_name": "Python 3 (ipykernel)",
   "language": "python",
   "name": "python3"
  },
  "language_info": {
   "codemirror_mode": {
    "name": "ipython",
    "version": 3
   },
   "file_extension": ".py",
   "mimetype": "text/x-python",
   "name": "python",
   "nbconvert_exporter": "python",
   "pygments_lexer": "ipython3",
   "version": "3.9.10"
  }
 },
 "nbformat": 4,
 "nbformat_minor": 5
}
