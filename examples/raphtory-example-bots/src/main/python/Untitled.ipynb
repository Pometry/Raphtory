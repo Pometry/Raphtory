{
 "cells": [
  {
   "cell_type": "code",
   "execution_count": 18,
   "id": "e6d1696a",
   "metadata": {},
   "outputs": [],
   "source": [
    "import pandas as pd"
   ]
  },
  {
   "cell_type": "code",
   "execution_count": 34,
   "id": "fa053e26",
   "metadata": {},
   "outputs": [
    {
     "name": "stdout",
     "output_type": "stream",
     "text": [
      "<class 'pandas.core.frame.DataFrame'>\n",
      "RangeIndex: 171932 entries, 0 to 171931\n",
      "Data columns (total 13 columns):\n",
      " #   Column           Non-Null Count   Dtype  \n",
      "---  ------           --------------   -----  \n",
      " 0   index            171932 non-null  object \n",
      " 1   created_at       154078 non-null  object \n",
      " 2   description      133601 non-null  object \n",
      " 3   id               93485 non-null   object \n",
      " 4   location         43219 non-null   object \n",
      " 5   name             93479 non-null   object \n",
      " 6   followers_count  93485 non-null   float64\n",
      " 7   following_count  93480 non-null   object \n",
      " 8   listed_count     93485 non-null   object \n",
      " 9   url              13209 non-null   object \n",
      " 10  username         93485 non-null   object \n",
      " 11  verified         93478 non-null   object \n",
      " 12  tweet_count      93478 non-null   float64\n",
      "dtypes: float64(2), object(11)\n",
      "memory usage: 17.1+ MB\n"
     ]
    },
    {
     "name": "stderr",
     "output_type": "stream",
     "text": [
      "/var/folders/qh/lc_s3cmd2v1__m12ckks3gnm0000gp/T/ipykernel_8646/2663305890.py:1: DtypeWarning: Columns (7) have mixed types. Specify dtype option on import or set low_memory=False.\n",
      "  dfUsers = pd.read_csv('/Users/pometry/Desktop/ClientData/client_users.csv')\n"
     ]
    }
   ],
   "source": [
    "dfUsers = pd.read_csv('/Users/pometry/Desktop/ClientData/client_users.csv')\n",
    "dfUsers.info()"
   ]
  },
  {
   "cell_type": "code",
   "execution_count": 31,
   "id": "5e2c5afb",
   "metadata": {},
   "outputs": [
    {
     "data": {
      "text/plain": [
       "index                                                              9\n",
       "created_at                                 2017-03-10 17:48:04+00:00\n",
       "description        DEMOCRAT, ARTIST, \\n NEW YORKER.      🇺🇸  🇺🇦  ...\n",
       "id                                                     JacquieWells4\n",
       "location                                               United States\n",
       "name                                                    freedom 2022\n",
       "followers_count                                               2182.0\n",
       "following_count                                                 2313\n",
       "listed_count                                                       4\n",
       "url                                                              NaN\n",
       "username                                               JacquieWells4\n",
       "verified                                                       False\n",
       "tweet_count                                                      2.0\n",
       "Name: 6, dtype: object"
      ]
     },
     "execution_count": 31,
     "metadata": {},
     "output_type": "execute_result"
    }
   ],
   "source": [
    "dfUsers.iloc[6]"
   ]
  },
  {
   "cell_type": "code",
   "execution_count": null,
   "id": "1102b584",
   "metadata": {},
   "outputs": [],
   "source": []
  },
  {
   "cell_type": "code",
   "execution_count": null,
   "id": "a90ace76",
   "metadata": {},
   "outputs": [],
   "source": []
  },
  {
   "cell_type": "code",
   "execution_count": null,
   "id": "e26f62be",
   "metadata": {},
   "outputs": [],
   "source": []
  }
 ],
 "metadata": {
  "kernelspec": {
   "display_name": "Python 3 (ipykernel)",
   "language": "python",
   "name": "python3"
  },
  "language_info": {
   "codemirror_mode": {
    "name": "ipython",
    "version": 3
   },
   "file_extension": ".py",
   "mimetype": "text/x-python",
   "name": "python",
   "nbconvert_exporter": "python",
   "pygments_lexer": "ipython3",
   "version": "3.9.13"
  }
 },
 "nbformat": 4,
 "nbformat_minor": 5
}
