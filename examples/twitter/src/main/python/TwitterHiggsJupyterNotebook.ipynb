{
 "cells": [
  {
   "cell_type": "code",
   "execution_count": null,
   "id": "54bbc16b",
   "metadata": {},
   "outputs": [],
   "source": [
    "from pathlib import Path\n",
    "from pyraphtory.context import PyRaphtory\n",
    "from pyraphtory.vertex import Vertex\n",
    "from pyraphtory.spouts import FileSpout\n",
    "from pyraphtory.builder import *\n",
    "\n",
    "!curl -o /tmp/twitter.csv https://raw.githubusercontent.com/Raphtory/Data/main/higgs-retweet-activity.csv"
   ]
  },
  {
   "cell_type": "code",
   "execution_count": null,
   "id": "9d3b60f8",
   "metadata": {},
   "outputs": [],
   "source": [
    "pr = PyRaphtory(logging=True).open()\n",
    "rg = pr.new_graph()"
   ]
  },
  {
   "cell_type": "code",
   "execution_count": null,
   "id": "17208a3d",
   "metadata": {},
   "outputs": [],
   "source": [
    "def parse(graph, tuple: str):\n",
    "    parts = [v.strip() for v in tuple.split(\",\")]\n",
    "    source_node = parts[0]\n",
    "    src_id = graph.assign_id(source_node)\n",
    "    target_node = parts[1]\n",
    "    tar_id = graph.assign_id(target_node)\n",
    "    time_stamp = int(parts[2])\n",
    "\n",
    "    graph.add_vertex(time_stamp, src_id, Properties(ImmutableProperty(\"username\", source_node)), Type(\"User\"))\n",
    "    graph.add_vertex(time_stamp, tar_id, Properties(ImmutableProperty(\"username\", target_node)), Type(\"User\"))\n",
    "    graph.add_edge(time_stamp, src_id, tar_id, Type(\"Tweet\"))\n",
    "\n",
    "twitter_builder = GraphBuilder(parse)\n",
    "twitter_spout = FileSpout(\"/tmp/twitter.csv\")\n",
    "rg.load(Source(twitter_spout, twitter_builder))"
   ]
  },
  {
   "cell_type": "code",
   "execution_count": null,
   "id": "bc484725",
   "metadata": {},
   "outputs": [],
   "source": [
    "cols = [\"inDegree\", \"outDegree\", \"degree\",\"triangleCount\",\"prlabel\",\"cclabel\",\"twoHopPaths\"]\n",
    "\n",
    "\n",
    "df = rg.at(32674) \\\n",
    "                .past() \\\n",
    "                .transform(pr.algorithms.generic.centrality.PageRank())\\\n",
    "                .transform(pr.algorithms.generic.ConnectedComponents)\\\n",
    "                .transform(pr.algorithms.generic.centrality.Degree())\\\n",
    "                .transform(pr.algorithms.generic.TwoHopPaths())\\\n",
    "                .transform(pr.algorithms.generic.motif.LocalTriangleCount())\\\n",
    "                .execute(pr.algorithms.generic.NodeList(*cols)) \\\n",
    "                .write_to_dataframe([\"name\"] + cols)\n",
    "\n",
    "df"
   ]
  },
  {
   "cell_type": "code",
   "execution_count": null,
   "id": "b7e0ee05",
   "metadata": {},
   "outputs": [],
   "source": [
    "pr.shutdown()"
   ]
  }
 ],
 "metadata": {
  "kernelspec": {
   "display_name": "Python 3 (ipykernel)",
   "language": "python",
   "name": "python3"
  },
  "language_info": {
   "codemirror_mode": {
    "name": "ipython",
    "version": 3
   },
   "file_extension": ".py",
   "mimetype": "text/x-python",
   "name": "python",
   "nbconvert_exporter": "python",
   "pygments_lexer": "ipython3",
   "version": "3.9.10"
  }
 },
 "nbformat": 4,
 "nbformat_minor": 5
}
