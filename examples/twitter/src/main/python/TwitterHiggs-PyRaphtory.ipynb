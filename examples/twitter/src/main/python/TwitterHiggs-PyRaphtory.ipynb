{
 "cells": [
  {
   "cell_type": "markdown",
   "id": "2caaa275",
   "metadata": {},
   "source": [
    "# Higgs Boson Tweets PyRaphtory Example Notebook 💥"
   ]
  },
  {
   "cell_type": "markdown",
   "id": "bc69db04",
   "metadata": {},
   "source": [
    "## Setup environment and download data 💾"
   ]
  },
  {
   "cell_type": "markdown",
   "id": "3bdb377a",
   "metadata": {},
   "source": [
    "Import all necessary dependencies needed to build a graph from your data in PyRaphtory. "
   ]
  },
  {
   "cell_type": "raw",
   "id": "733fec03",
   "metadata": {},
   "source": [
    "pip install pyvis"
   ]
  },
  {
   "cell_type": "markdown",
   "id": "02ddf869",
   "metadata": {},
   "source": [
    "If you would like to use the full dataset, please uncomment the curl command in the cell below and the preview data cell."
   ]
  },
  {
   "cell_type": "raw",
   "id": "9f66418e",
   "metadata": {},
   "source": [
    "from pathlib import Path\n",
    "from pyraphtory.context import PyRaphtory\n",
    "from pyraphtory.vertex import Vertex\n",
    "from pyraphtory.spouts import FileSpout\n",
    "from pyraphtory.input import *\n",
    "from pyvis.network import Network\n",
    "import csv\n",
    "\n",
    "# !curl -o /tmp/twitter.csv https://raw.githubusercontent.com/Raphtory/Data/main/higgs-retweet-activity.csv"
   ]
  },
  {
   "cell_type": "markdown",
   "id": "4585af63",
   "metadata": {},
   "source": [
    "## Preview data 👀"
   ]
  },
  {
   "cell_type": "markdown",
   "id": "3cb08060",
   "metadata": {},
   "source": [
    "Preview the retweet twitter data: each line includes the source user A (the retweeter), the destination user B (the user being retweeted) and the time at which the retweet occurs."
   ]
  },
  {
   "cell_type": "raw",
   "id": "926a66a7",
   "metadata": {},
   "source": [
    "!head /tmp/twitter.csv"
   ]
  },
  {
   "cell_type": "markdown",
   "id": "4a3d24ad",
   "metadata": {},
   "source": [
    "## Create a new Raphtory graph 📊"
   ]
  },
  {
   "cell_type": "markdown",
   "id": "f511c398",
   "metadata": {},
   "source": [
    "Turn on logs to see what is going on in PyRaphtory. Initialise Raphtory by creating a PyRaphtory object and create your new graph."
   ]
  },
  {
   "cell_type": "raw",
   "id": "c6b58344",
   "metadata": {},
   "source": [
    "graph = PyRaphtory.new_graph()"
   ]
  },
  {
   "cell_type": "markdown",
   "id": "a20280e2",
   "metadata": {},
   "source": [
    "## Ingest the data into a graph 😋"
   ]
  },
  {
   "cell_type": "markdown",
   "id": "5570f7c5",
   "metadata": {},
   "source": [
    "Write a parsing method to parse your csv file and ultimately create a graph."
   ]
  },
  {
   "cell_type": "markdown",
   "id": "4443ba52",
   "metadata": {},
   "source": [
    "Swap twitter_spout with /tmp/twitter.csv if using the big dataset, otherwise keep it as higgstestdata.csv for testing"
   ]
  },
  {
   "cell_type": "raw",
   "id": "3afcfef4",
   "metadata": {},
   "source": [
    "def parse(graph, tuple: str):\n",
    "    parts = [v.strip() for v in tuple.split(\",\")]\n",
    "    source_node = parts[0]\n",
    "    src_id = graph.assign_id(source_node)\n",
    "    target_node = parts[1]\n",
    "    tar_id = graph.assign_id(target_node)\n",
    "    time_stamp = int(parts[2])\n",
    "\n",
    "    graph.add_vertex(time_stamp, src_id, Properties(ImmutableProperty(\"name\", source_node)), Type(\"User\"))\n",
    "    graph.add_vertex(time_stamp, tar_id, Properties(ImmutableProperty(\"name\", target_node)), Type(\"User\"))\n",
    "    graph.add_edge(time_stamp, src_id, tar_id, Type(\"Tweet\"))\n",
    "\n",
    "twitter_builder = GraphBuilder(parse)\n",
    "# twitter_spout = FileSpout(\"/tmp/twitter.csv\")\n",
    "twitter_spout = FileSpout(\"higgstestdata.csv\")\n",
    "graph.load(Source(twitter_spout, twitter_builder))"
   ]
  },
  {
   "cell_type": "markdown",
   "id": "c1e5e594",
   "metadata": {},
   "source": [
    "## Collect simple metrics 📈"
   ]
  },
  {
   "cell_type": "markdown",
   "id": "c35558df",
   "metadata": {},
   "source": [
    "Select certain metrics to show in your output dataframe. Here we have selected vertex name, degree, out degree and in degree. **Time to finish: ~2 to 3 minutes**"
   ]
  },
  {
   "cell_type": "raw",
   "id": "c4a68ed4",
   "metadata": {},
   "source": [
    "from pyraphtory.graph import Row\n",
    "df = graph \\\n",
    "      .select(lambda vertex: Row(vertex.name(), vertex.degree(), vertex.out_degree(), vertex.in_degree())) \\\n",
    "      .to_df([\"name\", \"degree\", \"out_degree\", \"in_degree\"])"
   ]
  },
  {
   "cell_type": "markdown",
   "id": "04f43d0c",
   "metadata": {},
   "source": [
    "#### Clean the dataframe, we have deleted the unused window column. 🧹"
   ]
  },
  {
   "cell_type": "raw",
   "id": "c424a632",
   "metadata": {},
   "source": [
    "df.drop(columns=['window'], inplace=True)"
   ]
  },
  {
   "cell_type": "markdown",
   "id": "49e993f5",
   "metadata": {},
   "source": [
    "### Preview the dataframe 👀"
   ]
  },
  {
   "cell_type": "raw",
   "id": "6c83423b",
   "metadata": {},
   "source": [
    "df"
   ]
  },
  {
   "cell_type": "markdown",
   "id": "596ab577",
   "metadata": {},
   "source": [
    "**Sort by highest degree, top 10**"
   ]
  },
  {
   "cell_type": "raw",
   "id": "afec3b50",
   "metadata": {},
   "source": [
    "df.sort_values(['degree'], ascending=False)[:10]"
   ]
  },
  {
   "cell_type": "markdown",
   "id": "213d33a2",
   "metadata": {},
   "source": [
    "**Sort by highest in-degree, top 10**"
   ]
  },
  {
   "cell_type": "raw",
   "id": "ae32643c",
   "metadata": {},
   "source": [
    "df.sort_values(['in_degree'], ascending=False)[:10]"
   ]
  },
  {
   "cell_type": "markdown",
   "id": "6cbe1414",
   "metadata": {},
   "source": [
    "**Sort by highest out-degree, top 10**"
   ]
  },
  {
   "cell_type": "raw",
   "id": "9d06d6b3",
   "metadata": {},
   "source": [
    "df.sort_values(['out_degree'], ascending=False)[:10]"
   ]
  },
  {
   "cell_type": "markdown",
   "id": "211dc6fd",
   "metadata": {},
   "source": [
    "# Run a PageRank algorithm 📑"
   ]
  },
  {
   "cell_type": "markdown",
   "id": "d7096fd9",
   "metadata": {},
   "source": [
    "Run your selected algorithm on your graph, here we run PageRank. Your algorithms can be obtained from the PyRaphtory object you created at the start. Specify where you write the result of your algorithm to, e.g. the additional column results in your dataframe. **Time to finish: ~3 to 4 minutes**"
   ]
  },
  {
   "cell_type": "raw",
   "id": "d512adb3",
   "metadata": {},
   "source": [
    "cols = [\"prlabel\"]\n",
    "\n",
    "\n",
    "df_pagerank = graph.at(1341705593) \\\n",
    "                .past() \\\n",
    "                .execute(PyRaphtory.algorithms.generic.centrality.PageRank())\\\n",
    "                .to_df([\"name\"] + cols)\n",
    "\n",
    "df_pagerank"
   ]
  },
  {
   "cell_type": "markdown",
   "id": "132afb65",
   "metadata": {},
   "source": [
    "**Clean your dataframe** 🧹"
   ]
  },
  {
   "cell_type": "raw",
   "id": "9a145771",
   "metadata": {},
   "source": [
    "df_pagerank.drop(columns=['window'], inplace=True)"
   ]
  },
  {
   "cell_type": "raw",
   "id": "9423742d",
   "metadata": {},
   "source": [
    "df_pagerank"
   ]
  },
  {
   "cell_type": "markdown",
   "id": "cf6542be",
   "metadata": {},
   "source": [
    "**The top ten most ranked users**"
   ]
  },
  {
   "cell_type": "raw",
   "id": "144d9762",
   "metadata": {},
   "source": [
    "df_pagerank.sort_values(['prlabel'], ascending=False)[:10]"
   ]
  },
  {
   "cell_type": "markdown",
   "id": "cd6aa00a",
   "metadata": {},
   "source": [
    "### Run chained algorithms at once"
   ]
  },
  {
   "cell_type": "markdown",
   "id": "6899923d",
   "metadata": {},
   "source": [
    "In this example, we chain PageRank, Connected Components and Degree algorithms, running them one after another on the graph. Specify all the columns in the output dataframe, including an output column for each algorithm in the chain. **Time to finish: ~4 minutes**"
   ]
  },
  {
   "cell_type": "raw",
   "id": "da24620c",
   "metadata": {},
   "source": [
    "cols = [\"inDegree\", \"outDegree\", \"degree\",\"prlabel\",\"cclabel\"]\n",
    "\n",
    "df_chained = graph.at(1341705593) \\\n",
    "                .past() \\\n",
    "                .transform(PyRaphtory.algorithms.generic.centrality.PageRank())\\\n",
    "                .transform(PyRaphtory.algorithms.generic.ConnectedComponents)\\\n",
    "                .transform(PyRaphtory.algorithms.generic.centrality.Degree())\\\n",
    "                .execute(PyRaphtory.algorithms.generic.NodeList(*cols)) \\\n",
    "                .to_df([\"name\"] + cols)"
   ]
  },
  {
   "cell_type": "raw",
   "id": "65e9e68f",
   "metadata": {},
   "source": [
    "df_chained.drop(columns=['window'], inplace=True)"
   ]
  },
  {
   "cell_type": "raw",
   "id": "a7f478d0",
   "metadata": {},
   "source": [
    "df_chained"
   ]
  },
  {
   "cell_type": "markdown",
   "id": "6a67b8fb",
   "metadata": {},
   "source": [
    "## Create visualisation by adding nodes 🔎"
   ]
  },
  {
   "cell_type": "raw",
   "id": "f369dfb7",
   "metadata": {},
   "source": [
    "def visualise(graph, df_chained):\n",
    "    # Create network object\n",
    "    net = Network(notebook=True, height='750px', width='100%', bgcolor='#222222', font_color='white')\n",
    "    # Set visualisation tool\n",
    "    net.force_atlas_2based()\n",
    "    # Get the node list \n",
    "    df_node_list = graph.at(1341705593) \\\n",
    "                .past() \\\n",
    "                .execute(PyRaphtory.algorithms.generic.NodeList()) \\\n",
    "                .to_df(['name'])\n",
    "    \n",
    "    nodes = df_node_list['name'].tolist()\n",
    "    \n",
    "    node_data = []\n",
    "    ignore_items = ['timestamp', 'name', 'window']\n",
    "    for node_name in nodes:\n",
    "        for i, row in df_chained.iterrows():\n",
    "            if row['name']==node_name:\n",
    "                data = ''\n",
    "                for k,v in row.iteritems():\n",
    "                    if k not in ignore_items:\n",
    "                        data = data+str(k)+': '+str(v)+'\\n'\n",
    "                node_data.append(data)\n",
    "                continue\n",
    "    # Add the nodes\n",
    "    net.add_nodes(nodes, title=node_data)\n",
    "    # Get the edge list\n",
    "#     df_edge_list = graph.at(1341705593) \\\n",
    "#             .past() \\\n",
    "#             .execute(PyRaphtory.algorithms.generic.EdgeList()) \\\n",
    "#             .write_to_dataframe(['from', 'to'])\n",
    "#     edges = []\n",
    "#     for i, row in df_edge_list[['from', 'to']].iterrows():\n",
    "#         edges.append([row['from'], row['to']])\n",
    "#     # Add the edges\n",
    "#     net.add_edges(edges)\n",
    "    # Toggle physics\n",
    "    net.toggle_physics(True)\n",
    "    return net"
   ]
  },
  {
   "cell_type": "raw",
   "id": "896a0b93",
   "metadata": {},
   "source": [
    "net = visualise(graph, df_chained)"
   ]
  },
  {
   "cell_type": "raw",
   "id": "5ba28a63",
   "metadata": {},
   "source": [
    "net.show('preview.html')"
   ]
  },
  {
   "cell_type": "raw",
   "id": "2c8bae5f",
   "metadata": {},
   "source": [
    "PyRaphtory.close_graphs"
   ]
  },
  {
   "cell_type": "code",
   "execution_count": null,
   "id": "212b03d0",
   "metadata": {},
   "outputs": [],
   "source": []
  }
 ],
 "metadata": {
  "kernelspec": {
   "display_name": "Python 3 (ipykernel)",
   "language": "python",
   "name": "python3"
  },
  "language_info": {
   "codemirror_mode": {
    "name": "ipython",
    "version": 3
   },
   "file_extension": ".py",
   "mimetype": "text/x-python",
   "name": "python",
   "nbconvert_exporter": "python",
   "pygments_lexer": "ipython3",
   "version": "3.9.12"
  }
 },
 "nbformat": 4,
 "nbformat_minor": 5
}
