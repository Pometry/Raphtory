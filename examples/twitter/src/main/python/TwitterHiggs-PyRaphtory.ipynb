{
 "cells": [
  {
   "cell_type": "markdown",
   "id": "2caaa275",
   "metadata": {},
   "source": [
    "# Higgs Boson Tweets PyRaphtory Example Notebook 💥"
   ]
  },
  {
   "cell_type": "markdown",
   "id": "bc69db04",
   "metadata": {},
   "source": [
    "## Setup environment and download data 💾"
   ]
  },
  {
   "cell_type": "markdown",
   "id": "3bdb377a",
   "metadata": {},
   "source": [
    "Import all necessary dependencies needed to build a graph from your data in PyRaphtory. "
   ]
  },
  {
   "cell_type": "code",
   "execution_count": null,
   "id": "494964f1",
   "metadata": {},
   "outputs": [],
   "source": [
    "pip install pyvis"
   ]
  },
  {
   "cell_type": "markdown",
   "id": "981f86a3",
   "metadata": {},
   "source": [
    "If you would like to use the full dataset, please uncomment the curl command in the cell below and the preview data cell."
   ]
  },
  {
   "cell_type": "code",
   "execution_count": 1,
   "id": "54bbc16b",
   "metadata": {},
   "outputs": [
    {
     "name": "stdout",
     "output_type": "stream",
     "text": [
      "WARNING: sun.reflect.Reflection.getCallerClass is not supported. This will impact performance.\n",
      "15:55:11.067 [io-compute-blocker-1] INFO  com.raphtory.internals.management.Py4JServer - Starting PythonGatewayServer...\n"
     ]
    },
    {
     "name": "stderr",
     "output_type": "stream",
     "text": [
      "WARNING: An illegal reflective access operation has occurred\n",
      "WARNING: Illegal reflective access by py4j.reflection.MethodInvoker$1 (file:/Users/rachelchan/Raphtory/python/pyraphtory/lib/core-assembly-0.2.0a1.jar) to method java.util.AbstractMap$1.iterator()\n",
      "WARNING: Please consider reporting this to the maintainers of py4j.reflection.MethodInvoker$1\n",
      "WARNING: Use --illegal-access=warn to enable warnings of further illegal reflective access operations\n",
      "WARNING: All illegal access operations will be denied in a future release\n"
     ]
    }
   ],
   "source": [
    "from pathlib import Path\n",
    "from pyraphtory.context import PyRaphtory\n",
    "from pyraphtory.vertex import Vertex\n",
    "from pyraphtory.spouts import FileSpout\n",
    "from pyraphtory.builder import *\n",
    "from pyvis.network import Network\n",
    "import csv\n",
    "\n",
    "# !curl -o /tmp/twitter.csv https://raw.githubusercontent.com/Raphtory/Data/main/higgs-retweet-activity.csv"
   ]
  },
  {
   "cell_type": "markdown",
   "id": "b39a8ecf",
   "metadata": {},
   "source": [
    "## Preview data 👀"
   ]
  },
  {
   "cell_type": "markdown",
   "id": "fa4b9fe0",
   "metadata": {},
   "source": [
    "Preview the retweet twitter data: each line includes the source user A (the retweeter), the destination user B (the user being retweeted) and the time at which the retweet occurs."
   ]
  },
  {
   "cell_type": "code",
   "execution_count": null,
   "id": "0ab27352",
   "metadata": {},
   "outputs": [],
   "source": [
    "# !head /tmp/twitter.csv"
   ]
  },
  {
   "cell_type": "markdown",
   "id": "59ac018a",
   "metadata": {},
   "source": [
    "## Create a new Raphtory graph 📊"
   ]
  },
  {
   "cell_type": "markdown",
   "id": "0efd72c5",
   "metadata": {},
   "source": [
    "Turn on logs to see what is going on in PyRaphtory. Initialise Raphtory by creating a PyRaphtory object and create your new graph."
   ]
  },
  {
   "cell_type": "code",
   "execution_count": 2,
   "id": "9d3b60f8",
   "metadata": {},
   "outputs": [
    {
     "name": "stdout",
     "output_type": "stream",
     "text": [
      "15:55:20.917 [Thread-12] INFO  com.raphtory.internals.context.LocalContext$ - Creating Service for 'interesting_olive_trout'\n",
      "15:55:20.935 [io-compute-blocker-7] INFO  com.raphtory.internals.management.Prometheus$ - Prometheus started on port /0:0:0:0:0:0:0:0:9999\n",
      "2022-10-21 15:55:20,947 io-compute-blocker-7 INFO No Watcher plugin is available for protocol 'jar'\n",
      "15:55:20.958 [io-compute-blocker-7] INFO  org.apache.arrow.memory.BaseAllocator - Debug mode disabled.\n",
      "15:55:20.958 [io-compute-blocker-7] INFO  org.apache.arrow.memory.DefaultAllocationManagerOption - allocation manager type not specified, using netty as the default type\n",
      "15:55:20.959 [io-compute-blocker-7] INFO  org.apache.arrow.memory.CheckAllocator - Using DefaultAllocationManager at memory/DefaultAllocationManagerFactory.class\n",
      "15:55:21.074 [io-compute-blocker-7] INFO  com.raphtory.arrowmessaging.ArrowFlightServer - ArrowFlightServer(192.168.2.243,64184) is online\n",
      "15:55:21.235 [spawner-akka.actor.default-dispatcher-3] INFO  akka.event.slf4j.Slf4jLogger - Slf4jLogger started\n",
      "15:55:21.350 [spawner-akka.actor.default-dispatcher-3] INFO  akka.event.slf4j.Slf4jLogger - Slf4jLogger started\n",
      "15:55:21.362 [io-compute-blocker-9] INFO  com.raphtory.internals.components.ingestion.IngestionOrchestrator - Starting Ingestion Service\n",
      "15:55:21.366 [io-compute-blocker-6] INFO  com.raphtory.internals.components.partition.PartitionOrchestrator - Starting Partition Service\n",
      "15:55:21.367 [io-compute-blocker-10] INFO  com.raphtory.internals.components.querymanager.QueryOrchestrator - Starting Query Service\n",
      "15:55:21.446 [spawner-akka.actor.default-dispatcher-8] INFO  com.raphtory.internals.components.partition.PartitionOrchestrator - Deploying new Partition Manager for graph 'interesting_olive_trout' - request by 'fatal_cyan_toad' \n",
      "15:55:21.446 [spawner-akka.actor.default-dispatcher-9] INFO  com.raphtory.internals.components.ingestion.IngestionOrchestrator - Deploying new Ingestion Manager for graph 'interesting_olive_trout' - request by 'fatal_cyan_toad' \n",
      "15:55:21.446 [spawner-akka.actor.default-dispatcher-8] INFO  com.raphtory.internals.components.partition.PartitionOrchestrator$ - Creating '2' Partition Managers for 'interesting_olive_trout'.\n",
      "15:55:21.446 [spawner-akka.actor.default-dispatcher-7] INFO  com.raphtory.internals.components.querymanager.QueryOrchestrator - Deploying new Query Manager for graph 'interesting_olive_trout' - request by 'fatal_cyan_toad' \n",
      "15:55:21.579 [io-compute-blocker-6] INFO  com.raphtory.internals.components.partition.PartitionManager - Partition 0: Starting partition manager for 'interesting_olive_trout'.\n",
      "15:55:21.580 [io-compute-blocker-2] INFO  com.raphtory.internals.components.partition.PartitionManager - Partition 1: Starting partition manager for 'interesting_olive_trout'.\n"
     ]
    }
   ],
   "source": [
    "graph = PyRaphtory.new_graph()"
   ]
  },
  {
   "cell_type": "markdown",
   "id": "9267d75a",
   "metadata": {},
   "source": [
    "## Ingest the data into a graph 😋"
   ]
  },
  {
   "cell_type": "markdown",
   "id": "2dd6adc6",
   "metadata": {},
   "source": [
    "Write a parsing method to parse your csv file and ultimately create a graph."
   ]
  },
  {
   "cell_type": "markdown",
   "id": "2f54d307",
   "metadata": {},
   "source": [
    "Swap twitter_spout with /tmp/twitter.csv if using the big dataset, otherwise keep it as higgstestdata.csv for testing"
   ]
  },
  {
   "cell_type": "code",
   "execution_count": 3,
   "id": "17208a3d",
   "metadata": {},
   "outputs": [
    {
     "name": "stdout",
     "output_type": "stream",
     "text": [
      "15:55:25.067 [spawner-akka.actor.default-dispatcher-10] INFO  com.raphtory.internals.components.ingestion.IngestionManager - Ingestion Manager for 'interesting_olive_trout' establishing new data source\n"
     ]
    },
    {
     "data": {
      "text/plain": [
       "com.raphtory.api.analysis.graphview.DeployedTemporalGraph@7370347e"
      ]
     },
     "execution_count": 3,
     "metadata": {},
     "output_type": "execute_result"
    },
    {
     "name": "stdout",
     "output_type": "stream",
     "text": [
      "15:55:25.073 [io-compute-2] INFO  com.raphtory.spouts.FileSpoutInstance - Spout: Processing file 'higgstestdata.csv' ...\n",
      "15:55:25.079 [spawner-akka.actor.default-dispatcher-10] INFO  com.raphtory.internals.components.querymanager.QueryManager - Source '0' is blocking analysis for Graph 'interesting_olive_trout'\n",
      "15:55:26.889 [spawner-akka.actor.default-dispatcher-8] INFO  com.raphtory.internals.components.querymanager.QueryManager - Source '0' is unblocking analysis for Graph 'interesting_olive_trout' with 15 messages sent. Latest update time was 1341101732\n"
     ]
    }
   ],
   "source": [
    "def parse(graph, tuple: str):\n",
    "    parts = [v.strip() for v in tuple.split(\",\")]\n",
    "    source_node = parts[0]\n",
    "    src_id = graph.assign_id(source_node)\n",
    "    target_node = parts[1]\n",
    "    tar_id = graph.assign_id(target_node)\n",
    "    time_stamp = int(parts[2])\n",
    "\n",
    "    graph.add_vertex(time_stamp, src_id, Properties(ImmutableProperty(\"name\", source_node)), Type(\"User\"))\n",
    "    graph.add_vertex(time_stamp, tar_id, Properties(ImmutableProperty(\"name\", target_node)), Type(\"User\"))\n",
    "    graph.add_edge(time_stamp, src_id, tar_id, Type(\"Tweet\"))\n",
    "\n",
    "twitter_builder = GraphBuilder(parse)\n",
    "# twitter_spout = FileSpout(\"/tmp/twitter.csv\")\n",
    "twitter_spout = FileSpout(\"higgstestdata.csv\")\n",
    "graph.load(Source(twitter_spout, twitter_builder))"
   ]
  },
  {
   "cell_type": "markdown",
   "id": "ab62d636",
   "metadata": {},
   "source": [
    "## Collect simple metrics 📈"
   ]
  },
  {
   "cell_type": "markdown",
   "id": "32956914",
   "metadata": {},
   "source": [
    "Select certain metrics to show in your output dataframe. Here we have selected vertex name, degree, out degree and in degree. **Time to finish: ~2 to 3 minutes**"
   ]
  },
  {
   "cell_type": "code",
   "execution_count": 4,
   "id": "28301667",
   "metadata": {},
   "outputs": [
    {
     "name": "stdout",
     "output_type": "stream",
     "text": [
      "15:55:29.965 [io-compute-blocker-9] INFO  com.raphtory.api.analysis.table.TableOutputTracker - Job 737823992_7542332978495795720: Starting query progress tracker.\n",
      "15:55:29.965 [io-compute-blocker-9] INFO  com.raphtory.api.analysis.table.TableOutputTracker - Job 737823992_7542332978495795720: Starting output collector.\n",
      "15:55:29.983 [spawner-akka.actor.default-dispatcher-10] INFO  com.raphtory.internals.components.querymanager.QueryManager - Source 0 has completed ingesting and will now unblock\n",
      "15:55:29.984 [spawner-akka.actor.default-dispatcher-10] INFO  com.raphtory.internals.components.querymanager.QueryManager - Query '737823992_7542332978495795720' received, your job ID is '737823992_7542332978495795720'.\n",
      "15:55:29.990 [spawner-akka.actor.default-dispatcher-3] INFO  com.raphtory.internals.components.partition.QueryExecutor - 737823992_7542332978495795720_0: Starting QueryExecutor.\n",
      "15:55:29.990 [spawner-akka.actor.default-dispatcher-10] INFO  com.raphtory.internals.components.partition.QueryExecutor - 737823992_7542332978495795720_1: Starting QueryExecutor.\n",
      "15:55:30.603 [spawner-akka.actor.default-dispatcher-11] INFO  com.raphtory.internals.components.querymanager.QueryHandler - Job '737823992_7542332978495795720': Perspective at Time '1341101732' took 605 ms to run. \n",
      "15:55:30.615 [spawner-akka.actor.default-dispatcher-8] INFO  com.raphtory.api.analysis.table.TableOutputTracker - Job '737823992_7542332978495795720': Perspective '1341101732' finished after 651 ms.\n",
      "15:55:30.615 [spawner-akka.actor.default-dispatcher-8] INFO  com.raphtory.api.analysis.table.TableOutputTracker - Job 737823992_7542332978495795720: Running query, processed 1 perspectives.\n",
      "15:55:30.618 [spawner-akka.actor.default-dispatcher-3] INFO  akka.actor.LocalActorRef - Message [[B] to Actor[akka://spawner/user/interesting_olive_trout-737823992_7542332978495795720-query-tracker#758590872] was not delivered. [1] dead letters encountered. If this is not an expected behavior then Actor[akka://spawner/user/interesting_olive_trout-737823992_7542332978495795720-query-tracker#758590872] may have terminated unexpectedly. This logging can be turned off or adjusted with configuration settings 'akka.log-dead-letters' and 'akka.log-dead-letters-during-shutdown'.\n"
     ]
    }
   ],
   "source": [
    "from pyraphtory.graph import Row\n",
    "df = graph \\\n",
    "      .select(lambda vertex: Row(vertex.name(), vertex.degree(), vertex.out_degree(), vertex.in_degree())) \\\n",
    "      .to_df([\"name\", \"degree\", \"out_degree\", \"in_degree\"])"
   ]
  },
  {
   "cell_type": "markdown",
   "id": "b14b6090",
   "metadata": {},
   "source": [
    "#### Clean the dataframe, we have deleted the unused window column. 🧹"
   ]
  },
  {
   "cell_type": "code",
   "execution_count": 5,
   "id": "9f4a00e8",
   "metadata": {},
   "outputs": [],
   "source": [
    "df.drop(columns=['window'], inplace=True)"
   ]
  },
  {
   "cell_type": "markdown",
   "id": "e6683760",
   "metadata": {},
   "source": [
    "### Preview the dataframe 👀"
   ]
  },
  {
   "cell_type": "code",
   "execution_count": 6,
   "id": "0ba962ab",
   "metadata": {},
   "outputs": [
    {
     "data": {
      "text/html": [
       "<div>\n",
       "<style scoped>\n",
       "    .dataframe tbody tr th:only-of-type {\n",
       "        vertical-align: middle;\n",
       "    }\n",
       "\n",
       "    .dataframe tbody tr th {\n",
       "        vertical-align: top;\n",
       "    }\n",
       "\n",
       "    .dataframe thead th {\n",
       "        text-align: right;\n",
       "    }\n",
       "</style>\n",
       "<table border=\"1\" class=\"dataframe\">\n",
       "  <thead>\n",
       "    <tr style=\"text-align: right;\">\n",
       "      <th></th>\n",
       "      <th>timestamp</th>\n",
       "      <th>name</th>\n",
       "      <th>degree</th>\n",
       "      <th>out_degree</th>\n",
       "      <th>in_degree</th>\n",
       "    </tr>\n",
       "  </thead>\n",
       "  <tbody>\n",
       "    <tr>\n",
       "      <th>0</th>\n",
       "      <td>1341101732</td>\n",
       "      <td>99258</td>\n",
       "      <td>1</td>\n",
       "      <td>1</td>\n",
       "      <td>0</td>\n",
       "    </tr>\n",
       "    <tr>\n",
       "      <th>1</th>\n",
       "      <td>1341101732</td>\n",
       "      <td>8</td>\n",
       "      <td>1</td>\n",
       "      <td>0</td>\n",
       "      <td>1</td>\n",
       "    </tr>\n",
       "    <tr>\n",
       "      <th>2</th>\n",
       "      <td>1341101732</td>\n",
       "      <td>75083</td>\n",
       "      <td>1</td>\n",
       "      <td>1</td>\n",
       "      <td>0</td>\n",
       "    </tr>\n",
       "    <tr>\n",
       "      <th>3</th>\n",
       "      <td>1341101732</td>\n",
       "      <td>376989</td>\n",
       "      <td>2</td>\n",
       "      <td>2</td>\n",
       "      <td>0</td>\n",
       "    </tr>\n",
       "    <tr>\n",
       "      <th>4</th>\n",
       "      <td>1341101732</td>\n",
       "      <td>453850</td>\n",
       "      <td>1</td>\n",
       "      <td>1</td>\n",
       "      <td>0</td>\n",
       "    </tr>\n",
       "    <tr>\n",
       "      <th>5</th>\n",
       "      <td>1341101732</td>\n",
       "      <td>84647</td>\n",
       "      <td>1</td>\n",
       "      <td>0</td>\n",
       "      <td>1</td>\n",
       "    </tr>\n",
       "    <tr>\n",
       "      <th>6</th>\n",
       "      <td>1341101732</td>\n",
       "      <td>50329</td>\n",
       "      <td>2</td>\n",
       "      <td>0</td>\n",
       "      <td>2</td>\n",
       "    </tr>\n",
       "    <tr>\n",
       "      <th>7</th>\n",
       "      <td>1341101732</td>\n",
       "      <td>13813</td>\n",
       "      <td>1</td>\n",
       "      <td>0</td>\n",
       "      <td>1</td>\n",
       "    </tr>\n",
       "  </tbody>\n",
       "</table>\n",
       "</div>"
      ],
      "text/plain": [
       "    timestamp    name  degree  out_degree  in_degree\n",
       "0  1341101732   99258       1           1          0\n",
       "1  1341101732       8       1           0          1\n",
       "2  1341101732   75083       1           1          0\n",
       "3  1341101732  376989       2           2          0\n",
       "4  1341101732  453850       1           1          0\n",
       "5  1341101732   84647       1           0          1\n",
       "6  1341101732   50329       2           0          2\n",
       "7  1341101732   13813       1           0          1"
      ]
     },
     "execution_count": 6,
     "metadata": {},
     "output_type": "execute_result"
    }
   ],
   "source": [
    "df"
   ]
  },
  {
   "cell_type": "markdown",
   "id": "32a5e9b4",
   "metadata": {},
   "source": [
    "**Sort by highest degree, top 10**"
   ]
  },
  {
   "cell_type": "code",
   "execution_count": 7,
   "id": "3fb150db",
   "metadata": {},
   "outputs": [
    {
     "data": {
      "text/html": [
       "<div>\n",
       "<style scoped>\n",
       "    .dataframe tbody tr th:only-of-type {\n",
       "        vertical-align: middle;\n",
       "    }\n",
       "\n",
       "    .dataframe tbody tr th {\n",
       "        vertical-align: top;\n",
       "    }\n",
       "\n",
       "    .dataframe thead th {\n",
       "        text-align: right;\n",
       "    }\n",
       "</style>\n",
       "<table border=\"1\" class=\"dataframe\">\n",
       "  <thead>\n",
       "    <tr style=\"text-align: right;\">\n",
       "      <th></th>\n",
       "      <th>timestamp</th>\n",
       "      <th>name</th>\n",
       "      <th>degree</th>\n",
       "      <th>out_degree</th>\n",
       "      <th>in_degree</th>\n",
       "    </tr>\n",
       "  </thead>\n",
       "  <tbody>\n",
       "    <tr>\n",
       "      <th>3</th>\n",
       "      <td>1341101732</td>\n",
       "      <td>376989</td>\n",
       "      <td>2</td>\n",
       "      <td>2</td>\n",
       "      <td>0</td>\n",
       "    </tr>\n",
       "    <tr>\n",
       "      <th>6</th>\n",
       "      <td>1341101732</td>\n",
       "      <td>50329</td>\n",
       "      <td>2</td>\n",
       "      <td>0</td>\n",
       "      <td>2</td>\n",
       "    </tr>\n",
       "    <tr>\n",
       "      <th>0</th>\n",
       "      <td>1341101732</td>\n",
       "      <td>99258</td>\n",
       "      <td>1</td>\n",
       "      <td>1</td>\n",
       "      <td>0</td>\n",
       "    </tr>\n",
       "    <tr>\n",
       "      <th>1</th>\n",
       "      <td>1341101732</td>\n",
       "      <td>8</td>\n",
       "      <td>1</td>\n",
       "      <td>0</td>\n",
       "      <td>1</td>\n",
       "    </tr>\n",
       "    <tr>\n",
       "      <th>2</th>\n",
       "      <td>1341101732</td>\n",
       "      <td>75083</td>\n",
       "      <td>1</td>\n",
       "      <td>1</td>\n",
       "      <td>0</td>\n",
       "    </tr>\n",
       "    <tr>\n",
       "      <th>4</th>\n",
       "      <td>1341101732</td>\n",
       "      <td>453850</td>\n",
       "      <td>1</td>\n",
       "      <td>1</td>\n",
       "      <td>0</td>\n",
       "    </tr>\n",
       "    <tr>\n",
       "      <th>5</th>\n",
       "      <td>1341101732</td>\n",
       "      <td>84647</td>\n",
       "      <td>1</td>\n",
       "      <td>0</td>\n",
       "      <td>1</td>\n",
       "    </tr>\n",
       "    <tr>\n",
       "      <th>7</th>\n",
       "      <td>1341101732</td>\n",
       "      <td>13813</td>\n",
       "      <td>1</td>\n",
       "      <td>0</td>\n",
       "      <td>1</td>\n",
       "    </tr>\n",
       "  </tbody>\n",
       "</table>\n",
       "</div>"
      ],
      "text/plain": [
       "    timestamp    name  degree  out_degree  in_degree\n",
       "3  1341101732  376989       2           2          0\n",
       "6  1341101732   50329       2           0          2\n",
       "0  1341101732   99258       1           1          0\n",
       "1  1341101732       8       1           0          1\n",
       "2  1341101732   75083       1           1          0\n",
       "4  1341101732  453850       1           1          0\n",
       "5  1341101732   84647       1           0          1\n",
       "7  1341101732   13813       1           0          1"
      ]
     },
     "execution_count": 7,
     "metadata": {},
     "output_type": "execute_result"
    }
   ],
   "source": [
    "df.sort_values(['degree'], ascending=False)[:10]"
   ]
  },
  {
   "cell_type": "markdown",
   "id": "b3493520",
   "metadata": {},
   "source": [
    "**Sort by highest in-degree, top 10**"
   ]
  },
  {
   "cell_type": "code",
   "execution_count": 8,
   "id": "11326af6",
   "metadata": {},
   "outputs": [
    {
     "data": {
      "text/html": [
       "<div>\n",
       "<style scoped>\n",
       "    .dataframe tbody tr th:only-of-type {\n",
       "        vertical-align: middle;\n",
       "    }\n",
       "\n",
       "    .dataframe tbody tr th {\n",
       "        vertical-align: top;\n",
       "    }\n",
       "\n",
       "    .dataframe thead th {\n",
       "        text-align: right;\n",
       "    }\n",
       "</style>\n",
       "<table border=\"1\" class=\"dataframe\">\n",
       "  <thead>\n",
       "    <tr style=\"text-align: right;\">\n",
       "      <th></th>\n",
       "      <th>timestamp</th>\n",
       "      <th>name</th>\n",
       "      <th>degree</th>\n",
       "      <th>out_degree</th>\n",
       "      <th>in_degree</th>\n",
       "    </tr>\n",
       "  </thead>\n",
       "  <tbody>\n",
       "    <tr>\n",
       "      <th>6</th>\n",
       "      <td>1341101732</td>\n",
       "      <td>50329</td>\n",
       "      <td>2</td>\n",
       "      <td>0</td>\n",
       "      <td>2</td>\n",
       "    </tr>\n",
       "    <tr>\n",
       "      <th>1</th>\n",
       "      <td>1341101732</td>\n",
       "      <td>8</td>\n",
       "      <td>1</td>\n",
       "      <td>0</td>\n",
       "      <td>1</td>\n",
       "    </tr>\n",
       "    <tr>\n",
       "      <th>5</th>\n",
       "      <td>1341101732</td>\n",
       "      <td>84647</td>\n",
       "      <td>1</td>\n",
       "      <td>0</td>\n",
       "      <td>1</td>\n",
       "    </tr>\n",
       "    <tr>\n",
       "      <th>7</th>\n",
       "      <td>1341101732</td>\n",
       "      <td>13813</td>\n",
       "      <td>1</td>\n",
       "      <td>0</td>\n",
       "      <td>1</td>\n",
       "    </tr>\n",
       "    <tr>\n",
       "      <th>0</th>\n",
       "      <td>1341101732</td>\n",
       "      <td>99258</td>\n",
       "      <td>1</td>\n",
       "      <td>1</td>\n",
       "      <td>0</td>\n",
       "    </tr>\n",
       "    <tr>\n",
       "      <th>2</th>\n",
       "      <td>1341101732</td>\n",
       "      <td>75083</td>\n",
       "      <td>1</td>\n",
       "      <td>1</td>\n",
       "      <td>0</td>\n",
       "    </tr>\n",
       "    <tr>\n",
       "      <th>3</th>\n",
       "      <td>1341101732</td>\n",
       "      <td>376989</td>\n",
       "      <td>2</td>\n",
       "      <td>2</td>\n",
       "      <td>0</td>\n",
       "    </tr>\n",
       "    <tr>\n",
       "      <th>4</th>\n",
       "      <td>1341101732</td>\n",
       "      <td>453850</td>\n",
       "      <td>1</td>\n",
       "      <td>1</td>\n",
       "      <td>0</td>\n",
       "    </tr>\n",
       "  </tbody>\n",
       "</table>\n",
       "</div>"
      ],
      "text/plain": [
       "    timestamp    name  degree  out_degree  in_degree\n",
       "6  1341101732   50329       2           0          2\n",
       "1  1341101732       8       1           0          1\n",
       "5  1341101732   84647       1           0          1\n",
       "7  1341101732   13813       1           0          1\n",
       "0  1341101732   99258       1           1          0\n",
       "2  1341101732   75083       1           1          0\n",
       "3  1341101732  376989       2           2          0\n",
       "4  1341101732  453850       1           1          0"
      ]
     },
     "execution_count": 8,
     "metadata": {},
     "output_type": "execute_result"
    }
   ],
   "source": [
    "df.sort_values(['in_degree'], ascending=False)[:10]"
   ]
  },
  {
   "cell_type": "markdown",
   "id": "4d5bcada",
   "metadata": {},
   "source": [
    "**Sort by highest out-degree, top 10**"
   ]
  },
  {
   "cell_type": "code",
   "execution_count": 9,
   "id": "2ec65e2c",
   "metadata": {},
   "outputs": [
    {
     "data": {
      "text/html": [
       "<div>\n",
       "<style scoped>\n",
       "    .dataframe tbody tr th:only-of-type {\n",
       "        vertical-align: middle;\n",
       "    }\n",
       "\n",
       "    .dataframe tbody tr th {\n",
       "        vertical-align: top;\n",
       "    }\n",
       "\n",
       "    .dataframe thead th {\n",
       "        text-align: right;\n",
       "    }\n",
       "</style>\n",
       "<table border=\"1\" class=\"dataframe\">\n",
       "  <thead>\n",
       "    <tr style=\"text-align: right;\">\n",
       "      <th></th>\n",
       "      <th>timestamp</th>\n",
       "      <th>name</th>\n",
       "      <th>degree</th>\n",
       "      <th>out_degree</th>\n",
       "      <th>in_degree</th>\n",
       "    </tr>\n",
       "  </thead>\n",
       "  <tbody>\n",
       "    <tr>\n",
       "      <th>3</th>\n",
       "      <td>1341101732</td>\n",
       "      <td>376989</td>\n",
       "      <td>2</td>\n",
       "      <td>2</td>\n",
       "      <td>0</td>\n",
       "    </tr>\n",
       "    <tr>\n",
       "      <th>0</th>\n",
       "      <td>1341101732</td>\n",
       "      <td>99258</td>\n",
       "      <td>1</td>\n",
       "      <td>1</td>\n",
       "      <td>0</td>\n",
       "    </tr>\n",
       "    <tr>\n",
       "      <th>2</th>\n",
       "      <td>1341101732</td>\n",
       "      <td>75083</td>\n",
       "      <td>1</td>\n",
       "      <td>1</td>\n",
       "      <td>0</td>\n",
       "    </tr>\n",
       "    <tr>\n",
       "      <th>4</th>\n",
       "      <td>1341101732</td>\n",
       "      <td>453850</td>\n",
       "      <td>1</td>\n",
       "      <td>1</td>\n",
       "      <td>0</td>\n",
       "    </tr>\n",
       "    <tr>\n",
       "      <th>1</th>\n",
       "      <td>1341101732</td>\n",
       "      <td>8</td>\n",
       "      <td>1</td>\n",
       "      <td>0</td>\n",
       "      <td>1</td>\n",
       "    </tr>\n",
       "    <tr>\n",
       "      <th>5</th>\n",
       "      <td>1341101732</td>\n",
       "      <td>84647</td>\n",
       "      <td>1</td>\n",
       "      <td>0</td>\n",
       "      <td>1</td>\n",
       "    </tr>\n",
       "    <tr>\n",
       "      <th>6</th>\n",
       "      <td>1341101732</td>\n",
       "      <td>50329</td>\n",
       "      <td>2</td>\n",
       "      <td>0</td>\n",
       "      <td>2</td>\n",
       "    </tr>\n",
       "    <tr>\n",
       "      <th>7</th>\n",
       "      <td>1341101732</td>\n",
       "      <td>13813</td>\n",
       "      <td>1</td>\n",
       "      <td>0</td>\n",
       "      <td>1</td>\n",
       "    </tr>\n",
       "  </tbody>\n",
       "</table>\n",
       "</div>"
      ],
      "text/plain": [
       "    timestamp    name  degree  out_degree  in_degree\n",
       "3  1341101732  376989       2           2          0\n",
       "0  1341101732   99258       1           1          0\n",
       "2  1341101732   75083       1           1          0\n",
       "4  1341101732  453850       1           1          0\n",
       "1  1341101732       8       1           0          1\n",
       "5  1341101732   84647       1           0          1\n",
       "6  1341101732   50329       2           0          2\n",
       "7  1341101732   13813       1           0          1"
      ]
     },
     "execution_count": 9,
     "metadata": {},
     "output_type": "execute_result"
    }
   ],
   "source": [
    "df.sort_values(['out_degree'], ascending=False)[:10]"
   ]
  },
  {
   "cell_type": "markdown",
   "id": "159df059",
   "metadata": {},
   "source": [
    "# Run a PageRank algorithm 📑"
   ]
  },
  {
   "cell_type": "markdown",
   "id": "04c5ae15",
   "metadata": {},
   "source": [
    "Run your selected algorithm on your graph, here we run PageRank. Your algorithms can be obtained from the PyRaphtory object you created at the start. Specify where you write the result of your algorithm to, e.g. the additional column results in your dataframe. **Time to finish: ~3 to 4 minutes**"
   ]
  },
  {
   "cell_type": "raw",
   "id": "17fe6c78",
   "metadata": {},
   "source": [
    "cols = [\"prlabel\"]\n",
    "\n",
    "\n",
    "df_pagerank = graph.at(1341705593) \\\n",
    "                .past() \\\n",
    "                .execute(PyRaphtory.algorithms.generic.centrality.PageRank())\\\n",
    "                .to_df([\"name\"] + cols)\n",
    "\n",
    "df_pagerank"
   ]
  },
  {
   "cell_type": "markdown",
   "id": "488dd2e2",
   "metadata": {},
   "source": [
    "**Clean your dataframe** 🧹"
   ]
  },
  {
   "cell_type": "raw",
   "id": "14e370ab",
   "metadata": {},
   "source": [
    "df_pagerank.drop(columns=['window'], inplace=True)"
   ]
  },
  {
   "cell_type": "raw",
   "id": "03404e10",
   "metadata": {},
   "source": [
    "df_pagerank"
   ]
  },
  {
   "cell_type": "raw",
   "id": "d57f70e1",
   "metadata": {},
   "source": [
    "**The top ten most ranked users**"
   ]
  },
  {
   "cell_type": "raw",
   "id": "d5ae3981",
   "metadata": {},
   "source": [
    "df_pagerank.sort_values(['prlabel'], ascending=False)[:10]"
   ]
  },
  {
   "cell_type": "raw",
   "id": "7d12deff",
   "metadata": {},
   "source": [
    "### Run chained algorithms at once"
   ]
  },
  {
   "cell_type": "raw",
   "id": "e312a7ca",
   "metadata": {},
   "source": [
    "In this example, we chain PageRank, Connected Components and Degree algorithms, running them one after another on the graph. Specify all the columns in the output dataframe, including an output column for each algorithm in the chain. **Time to finish: ~4 minutes**"
   ]
  },
  {
   "cell_type": "raw",
   "id": "df3a28f3",
   "metadata": {},
   "source": [
    "cols = [\"inDegree\", \"outDegree\", \"degree\",\"prlabel\",\"cclabel\"]\n",
    "\n",
    "df_chained = graph.at(1341705593) \\\n",
    "                .past() \\\n",
    "                .transform(PyRaphtory.algorithms.generic.centrality.PageRank())\\\n",
    "                .transform(PyRaphtory.algorithms.generic.ConnectedComponents)\\\n",
    "                .transform(PyRaphtory.algorithms.generic.centrality.Degree())\\\n",
    "                .execute(PyRaphtory.algorithms.generic.NodeList(*cols)) \\\n",
    "                .to_df([\"name\"] + cols)"
   ]
  },
  {
   "cell_type": "raw",
   "id": "3607a556",
   "metadata": {},
   "source": [
    "df_chained.drop(columns=['window'], inplace=True)"
   ]
  },
  {
   "cell_type": "raw",
   "id": "88eb6a7f",
   "metadata": {},
   "source": [
    "df_chained"
   ]
  },
  {
   "cell_type": "raw",
   "id": "a1d0ada7",
   "metadata": {},
   "source": [
    "## Create visualisation by adding nodes 🔎"
   ]
  },
  {
   "cell_type": "raw",
   "id": "0273dea5",
   "metadata": {},
   "source": [
    "def visualise(graph, df_chained):\n",
    "    # Create network object\n",
    "    net = Network(notebook=True, height='750px', width='100%', bgcolor='#222222', font_color='white')\n",
    "    # Set visualisation tool\n",
    "    net.force_atlas_2based()\n",
    "    # Get the node list \n",
    "    df_node_list = graph.at(1341705593) \\\n",
    "                .past() \\\n",
    "                .execute(PyRaphtory.algorithms.generic.NodeList()) \\\n",
    "                .to_df(['name'])\n",
    "    \n",
    "    nodes = df_node_list['name'].tolist()\n",
    "    \n",
    "    node_data = []\n",
    "    ignore_items = ['timestamp', 'name', 'window']\n",
    "    for node_name in nodes:\n",
    "        for i, row in df_chained.iterrows():\n",
    "            if row['name']==node_name:\n",
    "                data = ''\n",
    "                for k,v in row.iteritems():\n",
    "                    if k not in ignore_items:\n",
    "                        data = data+str(k)+': '+str(v)+'\\n'\n",
    "                node_data.append(data)\n",
    "                continue\n",
    "    # Add the nodes\n",
    "    net.add_nodes(nodes, title=node_data)\n",
    "    # Get the edge list\n",
    "#     df_edge_list = graph.at(1341705593) \\\n",
    "#             .past() \\\n",
    "#             .execute(PyRaphtory.algorithms.generic.EdgeList()) \\\n",
    "#             .write_to_dataframe(['from', 'to'])\n",
    "#     edges = []\n",
    "#     for i, row in df_edge_list[['from', 'to']].iterrows():\n",
    "#         edges.append([row['from'], row['to']])\n",
    "#     # Add the edges\n",
    "#     net.add_edges(edges)\n",
    "    # Toggle physics\n",
    "    net.toggle_physics(True)\n",
    "    return net"
   ]
  },
  {
   "cell_type": "raw",
   "id": "9475b3e5",
   "metadata": {},
   "source": [
    "net = visualise(graph, df_chained)"
   ]
  },
  {
   "cell_type": "raw",
   "id": "c8505c03",
   "metadata": {},
   "source": [
    "net.show('preview.html')"
   ]
  },
  {
   "cell_type": "code",
   "execution_count": null,
   "id": "b7e0ee05",
   "metadata": {},
   "outputs": [],
   "source": [
    "PyRaphtory.close_graphs"
   ]
  },
  {
   "cell_type": "code",
   "execution_count": null,
   "id": "212b03d0",
   "metadata": {},
   "outputs": [],
   "source": []
  }
 ],
 "metadata": {
  "kernelspec": {
   "display_name": "Python 3 (ipykernel)",
   "language": "python",
   "name": "python3"
  },
  "language_info": {
   "codemirror_mode": {
    "name": "ipython",
    "version": 3
   },
   "file_extension": ".py",
   "mimetype": "text/x-python",
   "name": "python",
   "nbconvert_exporter": "python",
   "pygments_lexer": "ipython3",
   "version": "3.9.12"
  }
 },
 "nbformat": 4,
 "nbformat_minor": 5
}
