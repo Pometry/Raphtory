{
 "cells": [
  {
   "cell_type": "markdown",
   "id": "1496b112-0ef7-4c29-acdf-855d75afabf3",
   "metadata": {
    "pycharm": {
     "name": "#%% md\n"
    },
    "tags": []
   },
   "source": [
    "# Finding Cycles in NFT Transactions"
   ]
  },
  {
   "cell_type": "markdown",
   "source": [
    "## Overview"
   ],
   "metadata": {
    "collapsed": false,
    "pycharm": {
     "name": "#%% md\n"
    }
   },
   "execution_count": 1
  },
  {
   "cell_type": "markdown",
   "source": [
    "A Non-fungible Token (NFT) is a digital asset which cannot be copied, substituted, or subdivided, meaning it is wholly unique.\n",
    "\n",
    "NFT’s are stored on blockchain systems, notably Ethereum, with the owner of an NFT being whomever has access to the wallet it is stored within.\n",
    "\n",
    "Since the first NFT, Quantum, many new NFT artworks have arisen including Cryptokitties and Cryptopunks. This culminated in a boom in 2021 which included the arrival of the Bored Ape Yacht Club, with NFTS reaching a global market valued of $15.7 Billion.\n",
    "\n",
    "In this example we will analyse an NFT dataset in order to find suspicious trading cycles.\n",
    "\n",
    "1. Using Raphtory to load the NFT data as a graph\n",
    "2. Execute a cycle detection algorithm\n",
    "3. Analyse the results"
   ],
   "metadata": {
    "collapsed": false,
    "pycharm": {
     "name": "#%% md\n"
    }
   }
  },
  {
   "cell_type": "markdown",
   "source": [
    "## Loading data with Raphtory"
   ],
   "metadata": {
    "collapsed": false,
    "pycharm": {
     "name": "#%% md\n"
    }
   }
  },
  {
   "cell_type": "markdown",
   "source": [
    "Our imports"
   ],
   "metadata": {
    "collapsed": false,
    "pycharm": {
     "name": "#%% md\n"
    }
   }
  },
  {
   "cell_type": "code",
   "execution_count": null,
   "outputs": [],
   "source": [
    "pip install scipy seaborn"
   ],
   "metadata": {
    "collapsed": false,
    "pycharm": {
     "name": "#%%\n"
    }
   }
  },
  {
   "cell_type": "code",
   "execution_count": 4,
   "outputs": [],
   "source": [
    "import time\n",
    "from calendar import timegm\n",
    "from pyraphtory.context import PyRaphtory\n",
    "from pyraphtory.builder import *\n",
    "from pyraphtory.spouts import FileSpout\n",
    "from pyraphtory.sinks import FileSink\n",
    "from pyraphtory.formats import JsonFormat\n",
    "import csv"
   ],
   "metadata": {
    "collapsed": false,
    "pycharm": {
     "name": "#%%\n"
    }
   }
  },
  {
   "cell_type": "markdown",
   "source": [
    "Our data sources"
   ],
   "metadata": {
    "collapsed": false,
    "pycharm": {
     "name": "#%% md\n"
    }
   }
  },
  {
   "cell_type": "code",
   "execution_count": null,
   "outputs": [],
   "source": [
    "eth_price_csv = '/Users/haaroony/Documents/nft/ETH-USD.csv'\n",
    "filename = \"/Users/haaroony/OneDrive - Pometry Ltd/nft_andrea/sample/Data_API_250k.csv\"\n",
    "at_time = 1619560520"
   ],
   "metadata": {
    "collapsed": false,
    "pycharm": {
     "name": "#%%\n"
    }
   }
  },
  {
   "cell_type": "markdown",
   "source": [
    "Helper functions"
   ],
   "metadata": {
    "collapsed": false,
    "pycharm": {
     "name": "#%% md\n"
    }
   }
  },
  {
   "cell_type": "code",
   "execution_count": null,
   "outputs": [],
   "source": [
    "def setup_date_prices(eth_historic_csv=\"/tmp/ETH-USD.csv\"):\n",
    "    date_price_map = {}\n",
    "    with open(eth_historic_csv) as csvfile:\n",
    "        reader = csv.DictReader(csvfile, delimiter=',')\n",
    "        for row in reader:\n",
    "            date_price_map[row['Date']] = (float(row['High']) + float(row['Low'])) / 2\n",
    "    return date_price_map\n",
    "\n",
    "date_price = setup_date_prices(eth_price_csv)"
   ],
   "metadata": {
    "collapsed": false,
    "pycharm": {
     "name": "#%%\n"
    }
   }
  },
  {
   "cell_type": "markdown",
   "source": [
    "The code we use to load our the data into a graph"
   ],
   "metadata": {
    "collapsed": false,
    "pycharm": {
     "name": "#%% md\n"
    }
   }
  },
  {
   "cell_type": "code",
   "execution_count": null,
   "outputs": [],
   "source": [
    "def parse_graph(graph, line):\n",
    "    file_line = line.split(',')\n",
    "    if file_line[0] == \"Smart_contract\":\n",
    "        return\n",
    "    # Seller details\n",
    "    seller_address = file_line[3]\n",
    "    seller_address_hash = graph.assign_id(seller_address)\n",
    "    # Buyer details\n",
    "    buyer_address = file_line[5]\n",
    "    buyer_address_hash = graph.assign_id(buyer_address)\n",
    "    # Transaction details\n",
    "    datetime_str = file_line[13]\n",
    "    timestamp_utc = time.strptime(datetime_str, \"%Y-%m-%d %H:%M:%S\")\n",
    "    timestamp = timegm(timestamp_utc)\n",
    "    tx_hash = file_line[2]\n",
    "    token_id_str = file_line[1]\n",
    "    token_id_hash = graph.assign_id(token_id_str)\n",
    "\n",
    "    crypto = file_line[8]\n",
    "    if crypto != 'ETH':\n",
    "        return\n",
    "\n",
    "    if file_line[9] == \"\":\n",
    "        price_usd = date_price[datetime_str[0:10]]\n",
    "    else:\n",
    "        price_usd = float(file_line[9])\n",
    "\n",
    "    # NFT Details\n",
    "    collection_cleaned = file_line[14]\n",
    "    market = file_line[11]\n",
    "    category = file_line[15]\n",
    "\n",
    "    #  add buyer node\n",
    "    graph.add_vertex(\n",
    "        timestamp,\n",
    "        buyer_address_hash,\n",
    "        Properties(ImmutableProperty(\"address\", buyer_address)),\n",
    "        Type(\"Wallet\")\n",
    "    )\n",
    "\n",
    "    # add seller node\n",
    "    graph.add_vertex(\n",
    "        timestamp,\n",
    "        seller_address_hash,\n",
    "        Properties(ImmutableProperty(\"address\", seller_address)),\n",
    "        Type(\"Wallet\")\n",
    "    )\n",
    "\n",
    "    # Add node for NFT\n",
    "    graph.add_vertex(\n",
    "        timestamp,\n",
    "        token_id_hash,\n",
    "        Properties(\n",
    "            ImmutableProperty(\"id\", token_id_str),\n",
    "            ImmutableProperty(\"collection\", collection_cleaned),\n",
    "            ImmutableProperty(\"category\", category)\n",
    "        ),\n",
    "        Type(\"NFT\")\n",
    "    )\n",
    "\n",
    "    # Creating a bipartite graph,\n",
    "    # add edge between buyer and nft\n",
    "    graph.add_edge(\n",
    "        timestamp,\n",
    "        buyer_address_hash,\n",
    "        token_id_hash,\n",
    "        Properties(\n",
    "            StringProperty(\"transaction_hash\", tx_hash),\n",
    "            StringProperty(\"crypto\", crypto),\n",
    "            StringProperty(\"price_usd\", str(price_usd)),\n",
    "            StringProperty(\"market\", market),\n",
    "            StringProperty(\"token_id\", token_id_str),\n",
    "            StringProperty(\"buyer_address\", buyer_address)\n",
    "        ),\n",
    "        Type(\"Purchase\")\n",
    "    )"
   ],
   "metadata": {
    "collapsed": false,
    "pycharm": {
     "name": "#%%\n"
    }
   }
  },
  {
   "cell_type": "markdown",
   "source": [
    "Now we will start a raphtory instance and load our data"
   ],
   "metadata": {
    "collapsed": false,
    "pycharm": {
     "name": "#%% md\n"
    }
   }
  },
  {
   "cell_type": "code",
   "execution_count": null,
   "outputs": [],
   "source": [
    "pr = PyRaphtory(logging=True).open()\n",
    "graph = pr.new_graph()\n",
    "\n",
    "graph.load(Source(FileSpout(filename), GraphBuilder(parse_graph)))"
   ],
   "metadata": {
    "collapsed": false,
    "pycharm": {
     "name": "#%%\n"
    }
   }
  },
  {
   "cell_type": "markdown",
   "source": [
    "## Executing a Cycle detection algorithm"
   ],
   "metadata": {
    "collapsed": false,
    "pycharm": {
     "name": "#%% md\n"
    }
   }
  },
  {
   "cell_type": "markdown",
   "source": [],
   "metadata": {
    "collapsed": false,
    "pycharm": {
     "name": "#%% md\n"
    }
   }
  },
  {
   "cell_type": "code",
   "execution_count": null,
   "outputs": [],
   "source": [
    "from pyraphtory.algorithm import PyAlgorithm\n",
    "from pyraphtory.graph import TemporalGraph, Row\n",
    "from pyraphtory.vertex import Vertex\n",
    "\n",
    "CYCLES_FOUND: str = \"CYCLES_FOUND\"\n",
    "\n",
    "class CycleMania(PyAlgorithm):\n",
    "def __call__(self, graph: TemporalGraph) -> TemporalGraph:\n",
    "    def step(v: Vertex):\n",
    "        if v.type() != \"NFT\":\n",
    "            v[CYCLES_FOUND] = []\n",
    "            return\n",
    "        all_cycles = []\n",
    "        all_purchases = sorted(v.explode_in_edges(), key=lambda e: e.timestamp())\n",
    "        purchasers = list(map(lambda e:\n",
    "                              dict(buyer=e.get_property_or_else(\"buyer_address\", \"_UNKNOWN_\"),\n",
    "                                   price_usd=float(e.get_property_or_else(\"price_usd\", 0.0)),\n",
    "                                   time=e.timestamp(),\n",
    "                                   tx_hash=e.get_property_or_else(\"transaction_hash\", \"\"),\n",
    "                                   nft_id=e.get_property_or_else(\"token_id\", \"_UNKNOWN_\")),\n",
    "                              all_purchases))\n",
    "        if len(purchasers) > 2:\n",
    "            buyers_seen = {}\n",
    "            for pos, item_sale in enumerate(purchasers):\n",
    "                buyer_id = item_sale['buyer']\n",
    "                if buyer_id not in buyers_seen:\n",
    "                    buyers_seen[buyer_id] = pos\n",
    "                else:\n",
    "                    prev_pos = buyers_seen[buyer_id]\n",
    "                    prev_price = purchasers[prev_pos]['price_usd']\n",
    "                    current_price = item_sale['price_usd']\n",
    "                    buyers_seen[buyer_id] = pos\n",
    "                    if prev_price < current_price:\n",
    "                        all_cycles.append(purchasers[prev_pos:pos + 1])\n",
    "        if len(all_cycles):\n",
    "            v[CYCLES_FOUND] = all_cycles\n",
    "        else:\n",
    "            v[CYCLES_FOUND] = []\n",
    "\n",
    "    return graph.reduced_view().step(step)\n",
    "\n",
    "def tabularise(self, graph: TemporalGraph):\n",
    "    def get_cycles(v: Vertex):\n",
    "        vertex_type = v.type()\n",
    "        rows_found = [Row()]\n",
    "        if vertex_type == \"NFT\" and len(v[CYCLES_FOUND]):\n",
    "            nft_id = str(v.id())\n",
    "            cycles_found = v[CYCLES_FOUND]\n",
    "            nft_collection = v.get_property_or_else('collection', '_UNKNOWN_')\n",
    "            nft_category = v.get_property_or_else('category', '_UNKNOWN_')\n",
    "            rows_found = list(map(lambda single_cycle:\n",
    "                                  Row(\n",
    "                                      nft_id,\n",
    "                                      nft_collection,\n",
    "                                      nft_category,\n",
    "                                      len(single_cycle),\n",
    "                                      dict(buyer=str(single_cycle[0]['buyer']),\n",
    "                                           profit_usd=float(single_cycle[len(single_cycle) - 1]['price_usd']) -\n",
    "                                                      float(single_cycle[0]['price_usd']),\n",
    "                                           cycle=single_cycle)\n",
    "                                  ), cycles_found))\n",
    "        return rows_found\n",
    "\n",
    "    return graph.explode_select(lambda v: get_cycles(v)).filter(lambda row: len(row.get_values()) > 0)"
   ],
   "metadata": {
    "collapsed": false,
    "pycharm": {
     "name": "#%%\n"
    }
   }
  },
  {
   "cell_type": "markdown",
   "source": [
    "Executing the cycle detection algorithm"
   ],
   "metadata": {
    "collapsed": false,
    "pycharm": {
     "name": "#%% md\n"
    }
   }
  },
  {
   "cell_type": "code",
   "execution_count": null,
   "outputs": [],
   "source": [
    "graph\n",
    "    .at(at_time)\n",
    "    .past()\n",
    "    .execute(CycleMania())\n",
    "    .write_to(FileSink('/tmp/raphtory_nft_python', format=JsonFormat()))\n",
    "    .wait_for_job()"
   ],
   "metadata": {
    "collapsed": false,
    "pycharm": {
     "name": "#%%\n"
    }
   }
  },
  {
   "cell_type": "markdown",
   "source": [
    "## Analysing the results"
   ],
   "metadata": {
    "collapsed": false,
    "pycharm": {
     "name": "#%% md\n"
    }
   }
  },
  {
   "cell_type": "code",
   "execution_count": 10,
   "id": "daa48d4d-3d73-4a54-b03f-a030760e86e2",
   "metadata": {
    "pycharm": {
     "name": "#%%\n"
    }
   },
   "outputs": [],
   "source": [
    "import pandas as pd\n",
    "import json\n",
    "import seaborn as sns\n",
    "from scipy import stats\n",
    "import numpy as np\n",
    "import time\n",
    "import matplotlib.pyplot as plt\n",
    "plt.rcParams['font.size'] = '16'"
   ]
  },
  {
   "cell_type": "code",
   "execution_count": 11,
   "id": "37ea13e9-71b1-44d2-b2f7-fea684a5259f",
   "metadata": {
    "pycharm": {
     "name": "#%%\n"
    }
   },
   "outputs": [],
   "source": [
    "def load_json(filename):\n",
    "    data = []\n",
    "    with open(filename, 'r') as f:\n",
    "        for r in f.readlines():\n",
    "            r_json = json.loads(r)\n",
    "            if r_json['row'][4]['buyer']=='0x0000000000000000000000000000000000000000':\n",
    "                continue\n",
    "            else:\n",
    "                data.append(r_json)\n",
    "    print(\"amount of data %i\"  % len(data))\n",
    "    return data"
   ]
  },
  {
   "cell_type": "code",
   "execution_count": 12,
   "id": "7e926f1c",
   "metadata": {
    "pycharm": {
     "name": "#%%\n"
    }
   },
   "outputs": [],
   "source": [
    "# For making CDFs and CCDFs\n",
    "def cdf(listlike, normalised=True):\n",
    "    data = np.array(listlike)\n",
    "    N = len(listlike)\n",
    "\n",
    "    x = np.sort(data)\n",
    "    if (normalised):\n",
    "        y = np.arange(N)/float(N-1)\n",
    "    else:\n",
    "        y = np.arange(N)\n",
    "    return x, y\n",
    "\n",
    "def ccdf(listlike, normalised=True):\n",
    "    x, y = cdf(listlike,normalised)\n",
    "    if normalised:\n",
    "        return x, 1.0-y\n",
    "    else:\n",
    "        return x, len(listlike)-y"
   ]
  },
  {
   "cell_type": "markdown",
   "id": "74fdf863-a783-4702-a626-6b117da34ba4",
   "metadata": {
    "pycharm": {
     "name": "#%% md\n"
    }
   },
   "source": [
    "### Read data"
   ]
  },
  {
   "cell_type": "code",
   "execution_count": 13,
   "id": "828ebbed-0cad-4c30-b753-6b51c33c3c1d",
   "metadata": {
    "pycharm": {
     "name": "#%%\n"
    }
   },
   "outputs": [
    {
     "name": "stdout",
     "output_type": "stream",
     "text": [
      "amount of data 16673\n"
     ]
    }
   ],
   "source": [
    "# data = load_json('/tmp/raphtory_nft_python/CycleMania_8220652547042296969/partition-0.json')\n",
    "data = load_json(\"/Users/haaroony/OneDrive - Pometry Ltd/nft_andrea/results/cycle_results_eth_erc721_1155.json\")\n",
    "data_df = pd.DataFrame(data)"
   ]
  },
  {
   "cell_type": "code",
   "execution_count": 15,
   "id": "e47ef94a",
   "metadata": {
    "pycharm": {
     "name": "#%%\n"
    }
   },
   "outputs": [],
   "source": [
    "data_df[\"profit\"]=data_df[\"row\"].apply(lambda x: x[4]['profit_usd'])"
   ]
  },
  {
   "cell_type": "code",
   "execution_count": 16,
   "id": "e8d2b904",
   "metadata": {
    "pycharm": {
     "name": "#%%\n"
    }
   },
   "outputs": [],
   "source": [
    "data_df[\"min_ts\"] = data_df[\"row\"].apply(lambda x: min(map(lambda y: y[\"time\"],x[4]['cycle']['sales'])))"
   ]
  },
  {
   "cell_type": "code",
   "execution_count": 17,
   "id": "873201b8",
   "metadata": {
    "pycharm": {
     "name": "#%%\n"
    }
   },
   "outputs": [],
   "source": [
    "data_df[\"max_ts\"] = data_df[\"row\"].apply(lambda x: max(map(lambda y: y[\"time\"],x[4]['cycle']['sales'])))"
   ]
  },
  {
   "cell_type": "code",
   "execution_count": 18,
   "id": "3ad01894",
   "metadata": {
    "pycharm": {
     "name": "#%%\n"
    }
   },
   "outputs": [],
   "source": [
    "data_df[\"length\"] = data_df[\"row\"].apply(lambda x: len(x[4]['cycle']['sales']))"
   ]
  },
  {
   "cell_type": "code",
   "execution_count": 19,
   "id": "b556217f",
   "metadata": {
    "pycharm": {
     "name": "#%%\n"
    }
   },
   "outputs": [],
   "source": [
    "data_df[\"duration_days\"] = (data_df[\"max_ts\"] - data_df[\"min_ts\"])/86400"
   ]
  },
  {
   "cell_type": "code",
   "execution_count": 20,
   "id": "5deb9a08",
   "metadata": {
    "pycharm": {
     "name": "#%%\n"
    }
   },
   "outputs": [
    {
     "data": {
      "text/plain": "        timestamp window                                                row  \\\n0      1619562578   None  [60259_Rari, Rari, Art, 2, {'buyer': '0xfc233a...   \n1      1619562578   None  [60259_Rari, Rari, Art, 2, {'buyer': '0xfc233a...   \n2      1619562578   None  [60259_Rari, Rari, Art, 2, {'buyer': '0xfc233a...   \n3      1619562578   None  [557720982044760014422846897256062512766055887...   \n4      1619562578   None  [633479_Cryptokittie, Cryptokittie, Art, 4, {'...   \n...           ...    ...                                                ...   \n16668  1619562578   None  [72491_Rari, Rari, Art, 5, {'buyer': '0x3c1ce6...   \n16669  1619562578   None  [569997_Cryptokittie, Cryptokittie, Art, 2, {'...   \n16670  1619562578   None  [26111_Rari, Rari, Art, 3, {'buyer': '0x830f79...   \n16671  1619562578   None  [11108_Rari, Rari, Art, 8, {'buyer': '0x4c8e27...   \n16672  1619562578   None  [978681_Cryptokittie, Cryptokittie, Art, 2, {'...   \n\n            profit      min_ts      max_ts  length  duration_days  \n0      3747.449500  1609577631  1610247255       2       7.750278  \n1        18.099500  1608425450  1609033299       2       7.035289  \n2       828.065000  1607718374  1608425450       2       8.183750  \n3        28.137960  1614352229  1617500507       3      36.438403  \n4         3.522571  1521531679  1521614131       4       0.954306  \n...            ...         ...         ...     ...            ...  \n16668    69.890400  1604682716  1604682888       5       0.001991  \n16669     0.000229  1520013937  1521092896       2      12.487951  \n16670     1.914630  1604605155  1604653389       3       0.558264  \n16671   196.705605  1600302704  1602109731       8      20.914664  \n16672     3.398566  1536695960  1536936433       2       2.783252  \n\n[16673 rows x 8 columns]",
      "text/html": "<div>\n<style scoped>\n    .dataframe tbody tr th:only-of-type {\n        vertical-align: middle;\n    }\n\n    .dataframe tbody tr th {\n        vertical-align: top;\n    }\n\n    .dataframe thead th {\n        text-align: right;\n    }\n</style>\n<table border=\"1\" class=\"dataframe\">\n  <thead>\n    <tr style=\"text-align: right;\">\n      <th></th>\n      <th>timestamp</th>\n      <th>window</th>\n      <th>row</th>\n      <th>profit</th>\n      <th>min_ts</th>\n      <th>max_ts</th>\n      <th>length</th>\n      <th>duration_days</th>\n    </tr>\n  </thead>\n  <tbody>\n    <tr>\n      <th>0</th>\n      <td>1619562578</td>\n      <td>None</td>\n      <td>[60259_Rari, Rari, Art, 2, {'buyer': '0xfc233a...</td>\n      <td>3747.449500</td>\n      <td>1609577631</td>\n      <td>1610247255</td>\n      <td>2</td>\n      <td>7.750278</td>\n    </tr>\n    <tr>\n      <th>1</th>\n      <td>1619562578</td>\n      <td>None</td>\n      <td>[60259_Rari, Rari, Art, 2, {'buyer': '0xfc233a...</td>\n      <td>18.099500</td>\n      <td>1608425450</td>\n      <td>1609033299</td>\n      <td>2</td>\n      <td>7.035289</td>\n    </tr>\n    <tr>\n      <th>2</th>\n      <td>1619562578</td>\n      <td>None</td>\n      <td>[60259_Rari, Rari, Art, 2, {'buyer': '0xfc233a...</td>\n      <td>828.065000</td>\n      <td>1607718374</td>\n      <td>1608425450</td>\n      <td>2</td>\n      <td>8.183750</td>\n    </tr>\n    <tr>\n      <th>3</th>\n      <td>1619562578</td>\n      <td>None</td>\n      <td>[557720982044760014422846897256062512766055887...</td>\n      <td>28.137960</td>\n      <td>1614352229</td>\n      <td>1617500507</td>\n      <td>3</td>\n      <td>36.438403</td>\n    </tr>\n    <tr>\n      <th>4</th>\n      <td>1619562578</td>\n      <td>None</td>\n      <td>[633479_Cryptokittie, Cryptokittie, Art, 4, {'...</td>\n      <td>3.522571</td>\n      <td>1521531679</td>\n      <td>1521614131</td>\n      <td>4</td>\n      <td>0.954306</td>\n    </tr>\n    <tr>\n      <th>...</th>\n      <td>...</td>\n      <td>...</td>\n      <td>...</td>\n      <td>...</td>\n      <td>...</td>\n      <td>...</td>\n      <td>...</td>\n      <td>...</td>\n    </tr>\n    <tr>\n      <th>16668</th>\n      <td>1619562578</td>\n      <td>None</td>\n      <td>[72491_Rari, Rari, Art, 5, {'buyer': '0x3c1ce6...</td>\n      <td>69.890400</td>\n      <td>1604682716</td>\n      <td>1604682888</td>\n      <td>5</td>\n      <td>0.001991</td>\n    </tr>\n    <tr>\n      <th>16669</th>\n      <td>1619562578</td>\n      <td>None</td>\n      <td>[569997_Cryptokittie, Cryptokittie, Art, 2, {'...</td>\n      <td>0.000229</td>\n      <td>1520013937</td>\n      <td>1521092896</td>\n      <td>2</td>\n      <td>12.487951</td>\n    </tr>\n    <tr>\n      <th>16670</th>\n      <td>1619562578</td>\n      <td>None</td>\n      <td>[26111_Rari, Rari, Art, 3, {'buyer': '0x830f79...</td>\n      <td>1.914630</td>\n      <td>1604605155</td>\n      <td>1604653389</td>\n      <td>3</td>\n      <td>0.558264</td>\n    </tr>\n    <tr>\n      <th>16671</th>\n      <td>1619562578</td>\n      <td>None</td>\n      <td>[11108_Rari, Rari, Art, 8, {'buyer': '0x4c8e27...</td>\n      <td>196.705605</td>\n      <td>1600302704</td>\n      <td>1602109731</td>\n      <td>8</td>\n      <td>20.914664</td>\n    </tr>\n    <tr>\n      <th>16672</th>\n      <td>1619562578</td>\n      <td>None</td>\n      <td>[978681_Cryptokittie, Cryptokittie, Art, 2, {'...</td>\n      <td>3.398566</td>\n      <td>1536695960</td>\n      <td>1536936433</td>\n      <td>2</td>\n      <td>2.783252</td>\n    </tr>\n  </tbody>\n</table>\n<p>16673 rows × 8 columns</p>\n</div>"
     },
     "metadata": {},
     "output_type": "display_data"
    }
   ],
   "source": [
    "display(data_df)"
   ]
  },
  {
   "cell_type": "markdown",
   "id": "07f4b57d-6e61-4784-bb08-3f24dad0f451",
   "metadata": {
    "pycharm": {
     "name": "#%% md\n"
    }
   },
   "source": [
    "## Cycle length distributions"
   ]
  },
  {
   "cell_type": "code",
   "execution_count": 21,
   "id": "49f90558",
   "metadata": {
    "pycharm": {
     "name": "#%%\n"
    }
   },
   "outputs": [
    {
     "data": {
      "text/plain": "<Figure size 640x480 with 1 Axes>",
      "image/png": "[encoded data removed]"
     },
     "metadata": {},
     "output_type": "display_data"
    }
   ],
   "source": [
    "x,y = ccdf(data_df.duration_days)\n",
    "\n",
    "fig, ax = plt.subplots()\n",
    "ax.set_xscale(\"log\")\n",
    "ax.set_yscale(\"log\")\n",
    "ax.plot(x,y, marker=\"o\")\n",
    "ax.set_ylabel(\"CCDF\")\n",
    "ax.set_xlabel(\"Cycle duration (days)\")\n",
    "\n",
    "plt.show()"
   ]
  },
  {
   "cell_type": "code",
   "execution_count": 22,
   "id": "aca2c97f",
   "metadata": {
    "pycharm": {
     "name": "#%%\n"
    }
   },
   "outputs": [
    {
     "data": {
      "text/plain": "<Figure size 640x480 with 1 Axes>",
      "image/png": "[encoded data removed]"
     },
     "metadata": {},
     "output_type": "display_data"
    }
   ],
   "source": [
    "x,y = ccdf(data_df.length)\n",
    "\n",
    "fig, ax = plt.subplots()\n",
    "ax.set_xscale(\"log\")\n",
    "ax.set_yscale(\"log\")\n",
    "ax.plot(x,y, marker=\"o\")\n",
    "ax.set_ylabel(\"CCDF\")\n",
    "ax.set_xlabel(\"Cycle length (hops)\")\n",
    "\n",
    "plt.show()"
   ]
  },
  {
   "cell_type": "code",
   "execution_count": 23,
   "id": "f47aeb82",
   "metadata": {
    "pycharm": {
     "name": "#%%\n"
    }
   },
   "outputs": [
    {
     "name": "stdout",
     "output_type": "stream",
     "text": [
      "[7.56712963e-03 9.91689815e-01 2.91678241e+00 6.11468750e+00\n",
      " 2.00502199e+01]\n"
     ]
    },
    {
     "data": {
      "text/plain": "<Figure size 640x480 with 1 Axes>",
      "image/png": "[encoded data removed]"
     },
     "metadata": {},
     "output_type": "display_data"
    }
   ],
   "source": [
    "quantiles_of_interest = [0.05,0.25,0.50,0.75,0.95]\n",
    "duration_quantiles = np.quantile(data_df.duration_days, q=quantiles_of_interest)\n",
    "print(duration_quantiles)\n",
    "\n",
    "fig, ax = plt.subplots()\n",
    "\n",
    "for i,q in enumerate(duration_quantiles):\n",
    "    x,y = ccdf(data_df[data_df.duration_days<q].length)\n",
    "    ax.plot(x,y,label=\"Shortest \"+str(quantiles_of_interest[i]*100)+\"%\")\n",
    "\n",
    "ax.legend(loc=\"upper right\")\n",
    "plt.show()"
   ]
  },
  {
   "cell_type": "code",
   "execution_count": 24,
   "id": "10f10c5e",
   "metadata": {
    "pycharm": {
     "name": "#%%\n"
    }
   },
   "outputs": [
    {
     "name": "stderr",
     "output_type": "stream",
     "text": [
      "No artists with labels found to put in legend.  Note that artists whose label start with an underscore are ignored when legend() is called with no argument.\n"
     ]
    },
    {
     "data": {
      "text/plain": "<Figure size 640x480 with 1 Axes>",
      "image/png": "[encoded data removed]"
     },
     "metadata": {},
     "output_type": "display_data"
    }
   ],
   "source": [
    "fig, ax = plt.subplots()\n",
    "for i,q in enumerate(duration_quantiles):\n",
    "    sns.kdeplot(data_df[data_df.duration_days<q].max_ts,ax=ax)\n",
    "\n",
    "ax.legend(loc=\"upper right\")\n",
    "plt.show()"
   ]
  },
  {
   "cell_type": "code",
   "execution_count": 25,
   "id": "1048b13d",
   "metadata": {
    "pycharm": {
     "name": "#%%\n"
    }
   },
   "outputs": [
    {
     "data": {
      "text/plain": "<Figure size 640x480 with 1 Axes>",
      "image/png": "[encoded data removed]"
     },
     "metadata": {},
     "output_type": "display_data"
    }
   ],
   "source": [
    "ax = sns.scatterplot(data=data_df, x=\"duration_days\", y=\"length\")\n",
    "ax.set_xlabel(\"Cycle duration (days)\")\n",
    "ax.set_ylabel(\"Cycle length (hops)\")\n",
    "# ax.set_xscale(\"log\")\n",
    "# ax.set_yscale(\"log\")\n",
    "plt.show()"
   ]
  },
  {
   "cell_type": "code",
   "execution_count": 26,
   "id": "6593e3cb",
   "metadata": {
    "pycharm": {
     "name": "#%%\n"
    }
   },
   "outputs": [
    {
     "data": {
      "text/plain": "<Figure size 640x480 with 1 Axes>",
      "image/png": "[encoded data removed]"
     },
     "metadata": {},
     "output_type": "display_data"
    }
   ],
   "source": [
    "ax = sns.scatterplot(data=data_df, x=\"duration_days\", y=\"profit\")\n",
    "ax.set_xlabel(\"Cycle duration (days)\")\n",
    "ax.set_ylabel(\"Cycle profit (USD)\")\n",
    "# ax.set_xscale(\"log\")\n",
    "# ax.set_yscale(\"log\")\n",
    "plt.show()"
   ]
  },
  {
   "cell_type": "code",
   "execution_count": 27,
   "id": "7eabd040",
   "metadata": {
    "pycharm": {
     "name": "#%%\n"
    }
   },
   "outputs": [
    {
     "data": {
      "text/plain": "<Figure size 640x480 with 1 Axes>",
      "image/png": "[encoded data removed]"
     },
     "metadata": {},
     "output_type": "display_data"
    }
   ],
   "source": [
    "ax = sns.scatterplot(data=data_df, x=\"length\", y=\"profit\")\n",
    "ax.set_xlabel(\"Cycle length (hops)\")\n",
    "ax.set_ylabel(\"Cycle profit (USD)\")\n",
    "# ax.set_xscale(\"log\")\n",
    "# ax.set_yscale(\"log\")\n",
    "plt.show()"
   ]
  },
  {
   "cell_type": "code",
   "execution_count": 28,
   "id": "d7e3533f",
   "metadata": {
    "pycharm": {
     "name": "#%%\n"
    }
   },
   "outputs": [
    {
     "data": {
      "text/plain": "<Figure size 640x480 with 1 Axes>",
      "image/png": "[encoded data removed]"
     },
     "metadata": {},
     "output_type": "display_data"
    }
   ],
   "source": [
    "fig, ax = plt.subplots()\n",
    "ax = sns.kdeplot(data_df.min_ts)\n",
    "ax = sns.kdeplot(data_df.max_ts)"
   ]
  },
  {
   "cell_type": "code",
   "execution_count": 29,
   "id": "5e9be7cc-445a-4003-a4dc-8cdd64296d55",
   "metadata": {
    "pycharm": {
     "name": "#%%\n"
    },
    "scrolled": true,
    "tags": []
   },
   "outputs": [
    {
     "name": "stdout",
     "output_type": "stream",
     "text": [
      "size of chain\n"
     ]
    },
    {
     "data": {
      "text/plain": "206"
     },
     "execution_count": 29,
     "metadata": {},
     "output_type": "execute_result"
    }
   ],
   "source": [
    "longest_data = max(data, key=lambda row: len(row[\"row\"][4]['cycle']['sales']))\n",
    "print(\"size of chain\")\n",
    "len(longest_data['row'][4]['cycle']['sales'])"
   ]
  },
  {
   "cell_type": "markdown",
   "id": "bea5a8ba-9c3f-4f4c-b056-cdcad9395589",
   "metadata": {
    "pycharm": {
     "name": "#%% md\n"
    }
   },
   "source": [
    "#### Most profitable NFT cycles"
   ]
  },
  {
   "cell_type": "code",
   "execution_count": 31,
   "id": "a99982da-0ae9-4896-aae2-053a4c15fa0b",
   "metadata": {
    "pycharm": {
     "name": "#%%\n"
    }
   },
   "outputs": [],
   "source": [
    "profitable_trades = np.array([x['row'][4]['profit_usd'] for x in data])"
   ]
  },
  {
   "cell_type": "code",
   "execution_count": 32,
   "id": "860d9d62-d2e5-4bb7-8ab3-0380cf730956",
   "metadata": {
    "pycharm": {
     "name": "#%%\n"
    }
   },
   "outputs": [
    {
     "name": "stdout",
     "output_type": "stream",
     "text": [
      "Max profit 59220.018\n",
      "Min profit 6.697753462958644e-12\n"
     ]
    }
   ],
   "source": [
    "print(\"Max profit %s\" % profitable_trades.max())\n",
    "print(\"Min profit %s\" % profitable_trades.min())"
   ]
  },
  {
   "cell_type": "markdown",
   "id": "ac7cd05c-c650-423e-bd59-c920c3f841c7",
   "metadata": {
    "pycharm": {
     "name": "#%% md\n"
    }
   },
   "source": [
    "#### frequency of profits\n",
    "\n",
    "highly skewed"
   ]
  },
  {
   "cell_type": "code",
   "execution_count": 33,
   "id": "4b97ac2c-1c43-4914-94d9-22d65a0f36e5",
   "metadata": {
    "pycharm": {
     "name": "#%%\n"
    }
   },
   "outputs": [],
   "source": [
    "profits = [trade['row'][4]['profit_usd'] for trade in data]"
   ]
  },
  {
   "cell_type": "code",
   "execution_count": 34,
   "id": "baa41748-1cde-4a41-ad4f-4489205cfa44",
   "metadata": {
    "pycharm": {
     "name": "#%%\n"
    }
   },
   "outputs": [
    {
     "data": {
      "text/plain": "(1141.993050903458, 6.697753462958644e-12, 59220.018, 16673)"
     },
     "execution_count": 34,
     "metadata": {},
     "output_type": "execute_result"
    }
   ],
   "source": [
    "np.std(profits), min(profits), max(profits), len(profits)"
   ]
  },
  {
   "cell_type": "code",
   "execution_count": 35,
   "id": "3229faa1-82ef-488f-89ff-a9a2b449ac13",
   "metadata": {
    "pycharm": {
     "name": "#%%\n"
    }
   },
   "outputs": [
    {
     "data": {
      "text/plain": "(118.17145378028405, 14.269678921028847, 5.234855907639334, 2.031706742531798)"
     },
     "execution_count": 35,
     "metadata": {},
     "output_type": "execute_result"
    }
   ],
   "source": [
    "np.mean(profits), stats.trim_mean(profits, 0.05), stats.trim_mean(profits, 0.10), stats.trim_mean(profits, 0.25)"
   ]
  },
  {
   "cell_type": "code",
   "execution_count": 37,
   "id": "8a77d86e-dfd4-4ce6-8a66-19f116f2f479",
   "metadata": {
    "pycharm": {
     "name": "#%%\n"
    }
   },
   "outputs": [
    {
     "data": {
      "text/plain": "<Figure size 640x480 with 1 Axes>",
      "image/png": "[encoded data removed]"
     },
     "metadata": {},
     "output_type": "display_data"
    }
   ],
   "source": [
    "trimmed_profits = stats.trimboth(profits, 0.05)\n",
    "plt.hist(trimmed_profits, bins=20)\n",
    "plt.xlabel(\"profit (USD)\")\n",
    "plt.ylabel(\"frequency\")\n",
    "plt.savefig(\"/tmp/frequency_profits_trimmed.png\")"
   ]
  },
  {
   "cell_type": "markdown",
   "id": "8536cdf8-e82a-4f63-9e7e-8f4efb5a4f97",
   "metadata": {
    "pycharm": {
     "name": "#%% md\n"
    }
   },
   "source": [
    "#### how much of the nfts appreciated the most in the cycle"
   ]
  },
  {
   "cell_type": "code",
   "execution_count": 38,
   "id": "ae059c4d-b4a8-4dc3-814b-892d5f81faba",
   "metadata": {
    "pycharm": {
     "name": "#%%\n"
    },
    "scrolled": true,
    "tags": []
   },
   "outputs": [
    {
     "name": "stdout",
     "output_type": "stream",
     "text": [
      "min 0.0000, max 59220.0180, amt 16673\n"
     ]
    },
    {
     "data": {
      "text/plain": "90.04378336232232"
     },
     "execution_count": 38,
     "metadata": {},
     "output_type": "execute_result"
    }
   ],
   "source": [
    "print(\"min %.4f, max %.4f, amt %i\" % (min(profits), max(profits), len(profits)))\n",
    "value = 80 # USD\n",
    "(len([_ for _ in profits if _ <= value])/len(profits)) * 100"
   ]
  },
  {
   "cell_type": "markdown",
   "id": "b69cda3e-d45a-4820-af59-e2f776a1a5fe",
   "metadata": {
    "pycharm": {
     "name": "#%% md\n"
    }
   },
   "source": [
    "# Highest Cost Cycles"
   ]
  },
  {
   "cell_type": "markdown",
   "id": "b5c1cd6f-73b4-43a4-bf7e-72b9f4553c7f",
   "metadata": {
    "pycharm": {
     "name": "#%% md\n"
    }
   },
   "source": [
    "Top 5 NFTs that appreciated the most"
   ]
  },
  {
   "cell_type": "code",
   "execution_count": 39,
   "id": "c210acf5-6262-4c37-8e3c-ef435639ac16",
   "metadata": {
    "pycharm": {
     "name": "#%%\n"
    }
   },
   "outputs": [],
   "source": [
    "def pretty_cycle(cycle):\n",
    "    as_string = '   '\n",
    "    prev_price = cycle[0]['price_usd']\n",
    "    prev_time = cycle[0]['time']\n",
    "    for item in cycle:\n",
    "        diff = item['price_usd']-prev_price\n",
    "        time_secs = item['time']-prev_time\n",
    "        time_mins = time_secs/60\n",
    "        time_hours = time_secs/60/60\n",
    "        time_days = time_secs/60/60/24 \n",
    "        prev_time = item['time']\n",
    "        time_str = '%.1fm/%.1fh/%.2fd' % (time_mins, time_hours, time_days)\n",
    "        as_string += 'T(d) '+time_str+', B: '+item['buyer'][:4]+'.. $'+str(item['price_usd'])+'('+str(diff)+') '+item['tx_hash']+'\\n->'\n",
    "    as_string = as_string[:-3]\n",
    "    print(as_string)\n",
    "# pretty_cycle(all_profits_sorted[0]['cycle'])"
   ]
  },
  {
   "cell_type": "code",
   "execution_count": 40,
   "id": "9ac5eb6a-a0c5-48d7-97e1-b195c011f8f4",
   "metadata": {
    "pycharm": {
     "name": "#%%\n"
    }
   },
   "outputs": [],
   "source": [
    "profits = [trade['row'][4]['profit_usd'] for trade in data]\n",
    "all_profits_sorted = []\n",
    "for trade in data:\n",
    "    new_trade = {\n",
    "        'profit_usd': trade['row'][4]['profit_usd'],\n",
    "        'buyer':  trade['row'][4]['buyer'],\n",
    "        'cycle_size': trade['row'][3],\n",
    "        'nft_id': trade['row'][0],\n",
    "        'cycle': trade['row'][4]['cycle']['sales']\n",
    "    }\n",
    "    all_profits_sorted.append(new_trade)\n",
    "all_profits_sorted = sorted(all_profits_sorted, key=lambda d: d['profit_usd'], reverse=True)"
   ]
  },
  {
   "cell_type": "code",
   "execution_count": 41,
   "id": "b1b72761-e12d-4dc2-af6e-c0a654780cbc",
   "metadata": {
    "pycharm": {
     "name": "#%%\n"
    },
    "scrolled": true,
    "tags": []
   },
   "outputs": [
    {
     "data": {
      "text/plain": "{'profit_usd': 59220.018,\n 'buyer': '0x879c2ee5adc372d0542d65d80ebfe647ac1a5f10',\n 'cycle_size': 7,\n 'nft_id': '6929_Rari',\n 'cycle': [{'buyer': '0x879c2ee5adc372d0542d65d80ebfe647ac1a5f10',\n   'price_usd': 56942.325,\n   'time': 1599679592,\n   'tx_hash': '0x8530cee364e3aa98c5c1c4cef849dbe0780dfdb8d9a9b4674d22837028312084',\n   'nft_id': '6929_Rari'},\n  {'buyer': '0x896b94f4f27f12369698c302e2049cae86936bbb',\n   'price_usd': 1138.8465000000006,\n   'time': 1599680220,\n   'tx_hash': '0xb805851908065988cb9c1747c8693e396d22432024e951b5133be7ff5ea8053a',\n   'nft_id': '6929_Rari'},\n  {'buyer': '0x93207b8c861cf2b96a92c41d99da0e9615f1a3ea',\n   'price_usd': 4555.386000000001,\n   'time': 1599681810,\n   'tx_hash': '0x5cd83126cc066245a1da552c7f6f97f0537ac8d705838d1010f74432cdd8c6fd',\n   'nft_id': '6929_Rari'},\n  {'buyer': '0x490697b59520cfa81938df18b4634081556d3d15',\n   'price_usd': 113.88465,\n   'time': 1599682010,\n   'tx_hash': '0xa2de576299276233ce73cc62494f93150c0efbda23ffaf9be80a5e75ba88a378',\n   'nft_id': '6929_Rari'},\n  {'buyer': '0xd3f714357a3a5ab971941ca475a006814edd0d2b',\n   'price_usd': 113.88465,\n   'time': 1599682445,\n   'tx_hash': '0x14f8867198a82fb96bc63a4eff8dcce46d49a17ef92200b2bf89d17d2a9dfb92',\n   'nft_id': '6929_Rari'},\n  {'buyer': '0x42147ee918238fdff257a15fa758944d6b870b6a',\n   'price_usd': 341.65395,\n   'time': 1599682446,\n   'tx_hash': '0x2f6ef591fb1a2da6a8a27edc56b088ab9104aa77063099cfb72d82e67125eb99',\n   'nft_id': '6929_Rari'},\n  {'buyer': '0x879c2ee5adc372d0542d65d80ebfe647ac1a5f10',\n   'price_usd': 116162.343,\n   'time': 1599683071,\n   'tx_hash': '0x6401d73024c774a98789d7745fd7e70eeb8b43f86ede0d64438409e83023e5eb',\n   'nft_id': '6929_Rari'}]}"
     },
     "execution_count": 41,
     "metadata": {},
     "output_type": "execute_result"
    }
   ],
   "source": [
    "all_profits_sorted[0]"
   ]
  },
  {
   "cell_type": "code",
   "execution_count": 42,
   "id": "03f1866c-4741-4cdf-b759-e95dd2656f84",
   "metadata": {
    "pycharm": {
     "name": "#%%\n"
    },
    "scrolled": true,
    "tags": []
   },
   "outputs": [
    {
     "name": "stdout",
     "output_type": "stream",
     "text": [
      "B: 0x879, PROFIT 59220.018, HOPS 7\n",
      "   T(d) 0.0m/0.0h/0.00d, B: 0x87.. $56942.325(0.0) 0x8530cee364e3aa98c5c1c4cef849dbe0780dfdb8d9a9b4674d22837028312084\n",
      "->T(d) 10.5m/0.2h/0.01d, B: 0x89.. $1138.8465000000006(-55803.4785) 0xb805851908065988cb9c1747c8693e396d22432024e951b5133be7ff5ea8053a\n",
      "->T(d) 26.5m/0.4h/0.02d, B: 0x93.. $4555.386000000001(-52386.939) 0x5cd83126cc066245a1da552c7f6f97f0537ac8d705838d1010f74432cdd8c6fd\n",
      "->T(d) 3.3m/0.1h/0.00d, B: 0x49.. $113.88465(-56828.44035) 0xa2de576299276233ce73cc62494f93150c0efbda23ffaf9be80a5e75ba88a378\n",
      "->T(d) 7.2m/0.1h/0.01d, B: 0xd3.. $113.88465(-56828.44035) 0x14f8867198a82fb96bc63a4eff8dcce46d49a17ef92200b2bf89d17d2a9dfb92\n",
      "->T(d) 0.0m/0.0h/0.00d, B: 0x42.. $341.65395(-56600.67105) 0x2f6ef591fb1a2da6a8a27edc56b088ab9104aa77063099cfb72d82e67125eb99\n",
      "->T(d) 10.4m/0.2h/0.01d, B: 0x87.. $116162.343(59220.018) 0x6401d73024c774a98789d7745fd7e70eeb8b43f86ede0d64438409e83023e5eb\n",
      "\n",
      "B: 0xb16, PROFIT 49936.400, HOPS 3\n",
      "   T(d) 0.0m/0.0h/0.00d, B: 0xb1.. $47512.0(0.0) 0x5f070ac611b997e4a87696ce962cbfd6798eb600c941895e0488273c69aea5b9\n",
      "->T(d) 32128.7m/535.5h/22.31d, B: 0x8e.. $80190.9(32678.899999999994) 0x905ed48693a03d5258546e97b4485daa44c7d789ee493d91b67e6e80e049ea0c\n",
      "->T(d) 8561.3m/142.7h/5.95d, B: 0xb1.. $97448.4(49936.399999999994) 0x3c9d576d6a16b0c8705765eca1f2abdbb184e63bd815d656d6724a35786d367e\n",
      "\n",
      "B: 0xeca, PROFIT 46004.696, HOPS 4\n",
      "   T(d) 0.0m/0.0h/0.00d, B: 0xec.. $8408.169(0.0) 0x2520df2030b45f83b1f1471bbe435d4606516e76190ca8660d8feb54f6b7d8fa\n",
      "->T(d) 46.2m/0.8h/0.03d, B: 0x71.. $1081.0503(-7327.1187) 0xb17351128f73c85d44273bcabdb09b572ea2c067782ace22a4c0e20a844e6b18\n",
      "->T(d) 3.6m/0.1h/0.00d, B: 0x05.. $9008.7525(600.5835000000006) 0xd55505fe478ea3a2b16c9fa6e2203b98334901da0302da954890cc16757ad119\n",
      "->T(d) 34.8m/0.6h/0.02d, B: 0xec.. $54412.8651(46004.6961) 0x82db2f0eed444598ce26f1516f5c3762c656d82023fa38d7aef478b54dde0a00\n",
      "\n",
      "B: 0x0a2, PROFIT 40313.700, HOPS 2\n",
      "   T(d) 0.0m/0.0h/0.00d, B: 0x0a.. $4479.299999999998(0.0) 0x408695ef71818dd622878bd12deddc84ebb4c59af4261ef3d621d221a1832f19\n",
      "->T(d) 7.5m/0.1h/0.01d, B: 0x0a.. $44793.0(40313.700000000004) 0x90bfb24e8b94f6e2a8d9375d8f3ea565caeee9a2a129090dcec960d06a27d44e\n",
      "\n",
      "B: 0x932, PROFIT 36443.088, HOPS 7\n",
      "   T(d) 0.0m/0.0h/0.00d, B: 0x93.. $7971.925500000001(0.0) 0x3ae894d9de8099295678e7979327a5736e7fa73b393affb03d81e0a65ca4ce3c\n",
      "->T(d) 0.4m/0.0h/0.00d, B: 0x98.. $113.88465(-7858.040850000001) 0x8497f492ec3b21cb6b190663f94f5689ec335ecb721f044ddf8bebc86b7013ec\n",
      "->T(d) 0.7m/0.0h/0.00d, B: 0xec.. $10477.387800000002(2505.462300000001) 0xe4180402baee133c5562e7ae21357abda652877d8986746196bf4455eedf4015\n",
      "->T(d) 0.5m/0.0h/0.00d, B: 0x33.. $3302.654850000001(-4669.27065) 0x9eb73122a94f20d656e943802c02e762aa0dc8878b0dc3d3efbf9f8761cfec20\n",
      "->T(d) 0.3m/0.0h/0.00d, B: 0xec.. $1708.2697500000004(-6263.655750000001) 0x9f44d3f6dd19406f55adf07887a23dffbc57e7414823087fa6aa1ac9ec5d83bf\n",
      "->T(d) 0.1m/0.0h/0.00d, B: 0x33.. $3416.5395000000008(-4555.386) 0xabdde92523b5825019e4f2461969a2c19babf53d4732456f79ed701460d0f796\n",
      "->T(d) 0.4m/0.0h/0.00d, B: 0x93.. $44415.0135(36443.088) 0x9ed7fc536d0ca9184b12b8a14d63c506c60a556054d00dcc29be32e68a89ccdf\n",
      "\n"
     ]
    }
   ],
   "source": [
    "for trade in all_profits_sorted[:5]:\n",
    "    print(\"B: %s, PROFIT %.3f, HOPS %i\" % (trade['buyer'][:5],trade['profit_usd'], trade['cycle_size']))\n",
    "    pretty_cycle(trade['cycle'])\n",
    "    print()"
   ]
  },
  {
   "cell_type": "markdown",
   "id": "b865ef7c-a0b8-4cbf-bc48-1ad5ec80d30a",
   "metadata": {
    "pycharm": {
     "name": "#%% md\n"
    }
   },
   "source": [
    "### Delete all rari token cycles"
   ]
  },
  {
   "cell_type": "code",
   "execution_count": 43,
   "id": "07f9eabc-a502-45c3-a137-9a95b45a7edd",
   "metadata": {
    "pycharm": {
     "name": "#%%\n"
    }
   },
   "outputs": [],
   "source": [
    "all_profits_sorted_no_rari = []\n",
    "for trade in data:\n",
    "    if '_Rari' in trade['row'][0] or trade['row'][3] <= 2:\n",
    "        continue\n",
    "    new_trade = {\n",
    "        'profit_usd': trade['row'][4]['profit_usd'],\n",
    "        'buyer':  trade['row'][4]['buyer'],\n",
    "        'cycle_size': trade['row'][3],\n",
    "        'nft_id': trade['row'][0],\n",
    "        'cycle': trade['row'][4]['cycle']['sales']\n",
    "    }\n",
    "    all_profits_sorted_no_rari.append(new_trade)\n",
    "all_profits_sorted_no_rari = sorted(all_profits_sorted_no_rari, key=lambda d: d['profit_usd'], reverse=True)"
   ]
  },
  {
   "cell_type": "code",
   "execution_count": 44,
   "id": "29243085-0c2a-42e1-ab26-82ff6f6963da",
   "metadata": {
    "pycharm": {
     "name": "#%%\n"
    }
   },
   "outputs": [
    {
     "name": "stdout",
     "output_type": "stream",
     "text": [
      "B: 0xb16, PROFIT 49936.400, HOPS 3\n",
      "   T(d) 0.0m/0.0h/0.00d, B: 0xb1.. $47512.0(0.0) 0x5f070ac611b997e4a87696ce962cbfd6798eb600c941895e0488273c69aea5b9\n",
      "->T(d) 32128.7m/535.5h/22.31d, B: 0x8e.. $80190.9(32678.899999999994) 0x905ed48693a03d5258546e97b4485daa44c7d789ee493d91b67e6e80e049ea0c\n",
      "->T(d) 8561.3m/142.7h/5.95d, B: 0xb1.. $97448.4(49936.399999999994) 0x3c9d576d6a16b0c8705765eca1f2abdbb184e63bd815d656d6724a35786d367e\n",
      "\n",
      "B: 0xef7, PROFIT 12606.265, HOPS 3\n",
      "   T(d) 0.0m/0.0h/0.00d, B: 0xef.. $51233.07499999999(0.0) 0x3d9f15234fe1348ff17d1f8118e6405c8ae1b2c0c87e25a588e95f68c3ff498e\n",
      "->T(d) 48071.5m/801.2h/33.38d, B: 0x00.. $47406.62100000001(-3826.4539999999834) 0x69f1eea5568cfd217d8e3d6c7ae601e34c9af905feb6249ac510741b62f0a3c4\n",
      "->T(d) 12.9m/0.2h/0.01d, B: 0xef.. $63839.34(12606.265000000007) 0x941a42df26a585af6aafa0720ea315213333c15f9ab6ae72947e047fd03ed0de\n",
      "\n",
      "B: 0x107, PROFIT 11245.599, HOPS 3\n",
      "   T(d) 0.0m/0.0h/0.00d, B: 0x10.. $5122.584299999999(0.0) 0xeda7207b6d1ced6e3eb34cecd07ccb0129cebfe9bc1a432cf319504990dd9d74\n",
      "->T(d) 53109.9m/885.2h/36.88d, B: 0x90.. $15820.197449999998(10697.61315) 0x1ae8fc82e58fa5b98340f7313449ac484f238c794719679ea006c5172d16fe62\n",
      "->T(d) 4327.8m/72.1h/3.01d, B: 0x10.. $16368.182899999998(11245.5986) 0x22514b0960d1004d07926458f4c76cf8a486c24c495a40b9dc5988fda8cb41be\n",
      "\n",
      "B: 0x08c, PROFIT 5544.701, HOPS 3\n",
      "   T(d) 0.0m/0.0h/0.00d, B: 0x08.. $2183.286(0.0) 0x5df30bc4138e0af1797f6466282a7776a16fd9c4a3e93d9ef8c6f04c9e3a4d51\n",
      "->T(d) 22379.3m/373.0h/15.54d, B: 0x2b.. $11198.25(9014.964) 0xf8a9bb16486842c52dcd322475ba1f1654ee749f04f99912ba8d807521966433\n",
      "->T(d) 13217.9m/220.3h/9.18d, B: 0x08.. $7727.987499999998(5544.701499999998) 0x631a5d2bf09ad1792e30f8a05ed173fb9593fedc278f9c37c2659ca4420f5d7e\n",
      "\n",
      "B: 0x1e3, PROFIT 5361.123, HOPS 3\n",
      "   T(d) 0.0m/0.0h/0.00d, B: 0x1e.. $194.11(0.0) 0xc847465b20b0c3314f5ee53683d69ba7f5a3254a00db5705f86e2131c2cc1318\n",
      "->T(d) 969494.0m/16158.2h/673.26d, B: 0xcb.. $2974.88(2780.77) 0xf47e31ba9da49667bc096d82949e7770ec244a24bfb30a1211b19a2665540b20\n",
      "->T(d) 151203.3m/2520.1h/105.00d, B: 0x1e.. $5555.232695023147(5361.122695023148) 0xcb74990a8a987613a6c6d20fe816fbda182520ea0437ac8ef0588f258562f6ec\n",
      "\n"
     ]
    }
   ],
   "source": [
    "for trade in all_profits_sorted_no_rari[:5]:\n",
    "    print(\"B: %s, PROFIT %.3f, HOPS %i\" % (trade['buyer'][:5],trade['profit_usd'], trade['cycle_size']))\n",
    "    pretty_cycle(trade['cycle'])\n",
    "    print()"
   ]
  },
  {
   "cell_type": "markdown",
   "id": "fbd73f27-2ecc-4617-9761-88d0aeee9cd2",
   "metadata": {
    "pycharm": {
     "name": "#%% md\n"
    }
   },
   "source": [
    "## Traders that made the most on average per cycle"
   ]
  },
  {
   "cell_type": "code",
   "execution_count": 45,
   "id": "8115cd76-e063-45b6-af60-c707c516eda5",
   "metadata": {
    "pycharm": {
     "name": "#%%\n"
    }
   },
   "outputs": [
    {
     "data": {
      "text/plain": "{'profit_usd': 49936.399999999994,\n 'buyer': '0xb166dd9d114c59774a13c3291e7d50ec74f23dfd',\n 'cycle_size': 3,\n 'nft_id': '8033_Cryptopunk',\n 'cycle': [{'buyer': '0xb166dd9d114c59774a13c3291e7d50ec74f23dfd',\n   'price_usd': 47512.0,\n   'time': 1613663309,\n   'tx_hash': '0x5f070ac611b997e4a87696ce962cbfd6798eb600c941895e0488273c69aea5b9',\n   'nft_id': '8033_Cryptopunk'},\n  {'buyer': '0x8ee483a4c53eb4b1da23da5448c884f6e7a09dbb',\n   'price_usd': 80190.9,\n   'time': 1615591029,\n   'tx_hash': '0x905ed48693a03d5258546e97b4485daa44c7d789ee493d91b67e6e80e049ea0c',\n   'nft_id': '8033_Cryptopunk'},\n  {'buyer': '0xb166dd9d114c59774a13c3291e7d50ec74f23dfd',\n   'price_usd': 97448.4,\n   'time': 1616104709,\n   'tx_hash': '0x3c9d576d6a16b0c8705765eca1f2abdbb184e63bd815d656d6724a35786d367e',\n   'nft_id': '8033_Cryptopunk'}]}"
     },
     "execution_count": 45,
     "metadata": {},
     "output_type": "execute_result"
    }
   ],
   "source": [
    "all_profits_sorted_no_rari[0]"
   ]
  },
  {
   "cell_type": "code",
   "execution_count": 47,
   "id": "67647665-8d74-40cb-8370-60e1806b9bdf",
   "metadata": {
    "pycharm": {
     "name": "#%%\n"
    }
   },
   "outputs": [],
   "source": [
    "traders_profit = {}\n",
    "# load data\n",
    "for trade in all_profits_sorted_no_rari:\n",
    "    trader = trade['buyer']\n",
    "    profit = trade['profit_usd']\n",
    "    if trader not in traders_profit:\n",
    "        traders_profit[trader] = []\n",
    "    traders_profit[trader].append(profit)\n",
    "# calc average\n",
    "traders_avg = {}\n",
    "for trader, _profit in traders_profit.items():\n",
    "    avg = sum(_profit)/len(_profit)\n",
    "    traders_avg[trader] = {\n",
    "        'avg': avg, \n",
    "        'count': len(_profit),\n",
    "        'total_profit': sum(_profit)\n",
    "    }\n",
    "# sort\n",
    "traders_avg_sorted = sorted(traders_avg, key=lambda x: traders_avg[x]['avg'], reverse=True)"
   ]
  },
  {
   "cell_type": "code",
   "execution_count": 48,
   "id": "c4d2f9e4-aae2-4436-922d-d3754ca6e31a",
   "metadata": {
    "pycharm": {
     "name": "#%%\n"
    },
    "scrolled": true,
    "tags": []
   },
   "outputs": [
    {
     "name": "stdout",
     "output_type": "stream",
     "text": [
      "0xb166dd9d114c59774a13c3291e7d50ec74f23dfd\n",
      "{'avg': 49936.399999999994, 'count': 1, 'total_profit': 49936.399999999994}\n",
      "\n",
      "0xef784caf2d2001fb8fbb9678f9a0a1b83cd582dc\n",
      "{'avg': 12606.265000000007, 'count': 1, 'total_profit': 12606.265000000007}\n",
      "\n",
      "0x10725af1f2919d0acc5cf294285d97710f980490\n",
      "{'avg': 11245.5986, 'count': 1, 'total_profit': 11245.5986}\n",
      "\n",
      "0x08ceb8bba685ee708c9c4c65576837cbe19b9dea\n",
      "{'avg': 5544.701499999998, 'count': 1, 'total_profit': 5544.701499999998}\n",
      "\n",
      "0xb4d0e809a1903143c17e213abe9202fb436b2513\n",
      "{'avg': 5276.670249999999, 'count': 1, 'total_profit': 5276.670249999999}\n",
      "\n",
      "0x71bd9f709dd252db7f5226bc895fdcd16905394a\n",
      "{'avg': 4974.266305000001, 'count': 1, 'total_profit': 4974.266305000001}\n",
      "\n",
      "0xff1e28b303c7eab54bcbd98cd0dc921b3f4b853e\n",
      "{'avg': 4790.793750000002, 'count': 1, 'total_profit': 4790.793750000002}\n",
      "\n",
      "0xc4e261aae8652d48ea572808b491e96f96d11dba\n",
      "{'avg': 4710.8982685, 'count': 1, 'total_profit': 4710.8982685}\n",
      "\n",
      "0x62391b370a4761f7087f83d9d2c8d7bfa91036ab\n",
      "{'avg': 4324.6448, 'count': 1, 'total_profit': 4324.6448}\n",
      "\n",
      "0x0eb9a7ff5cbf719251989caf1599c1270eafb531\n",
      "{'avg': 3762.0174999999995, 'count': 1, 'total_profit': 3762.0174999999995}\n",
      "\n"
     ]
    }
   ],
   "source": [
    "for t in traders_avg_sorted[:10]:\n",
    "    print(t)\n",
    "    print(traders_avg[t])\n",
    "    print()"
   ]
  },
  {
   "cell_type": "markdown",
   "id": "2fe374b6-c92c-46a7-80a7-95e261c20d74",
   "metadata": {
    "pycharm": {
     "name": "#%% md\n"
    }
   },
   "source": [
    "okay this is pretty bad, how about instead i check how many traders did more than 1 cycle?"
   ]
  },
  {
   "cell_type": "markdown",
   "id": "16998477-aa46-46d6-9b95-332464fdc204",
   "metadata": {
    "pycharm": {
     "name": "#%% md\n"
    }
   },
   "source": [
    "### How many traders did how many cycles?"
   ]
  },
  {
   "cell_type": "code",
   "execution_count": 49,
   "id": "fb143577-898e-4845-af7d-dfdc41ae6c42",
   "metadata": {
    "pycharm": {
     "name": "#%%\n"
    }
   },
   "outputs": [
    {
     "name": "stdout",
     "output_type": "stream",
     "text": [
      "total_cycles  12176\n",
      "traders  352\n",
      "traders under 1 cycle - 249, 249 70.74p\n",
      "traders under 2 cycle - 50, 299 84.94p\n",
      "traders under 3 cycle - 17, 316 89.77p\n",
      "traders under 4 cycle - 6, 322 91.48p\n",
      "traders under 5 cycle - 4, 326 92.61p\n",
      "traders under 6 cycle - 2, 328 93.18p\n",
      "traders under 7 cycle - 1, 329 93.47p\n",
      "traders under 9 cycle - 1, 330 93.75p\n",
      "traders under 10 cycle - 1, 331 94.03p\n",
      "traders under 14 cycle - 1, 332 94.32p\n",
      "traders under 528 cycle - 1, 333 94.60p\n",
      "traders under 531 cycle - 1, 334 94.89p\n",
      "traders under 548 cycle - 1, 335 95.17p\n",
      "traders under 552 cycle - 1, 336 95.45p\n",
      "traders under 567 cycle - 1, 337 95.74p\n",
      "traders under 570 cycle - 1, 338 96.02p\n",
      "traders under 573 cycle - 1, 339 96.31p\n",
      "traders under 575 cycle - 1, 340 96.59p\n",
      "traders under 580 cycle - 1, 341 96.88p\n",
      "traders under 589 cycle - 1, 342 97.16p\n",
      "traders under 597 cycle - 2, 344 97.73p\n",
      "traders under 598 cycle - 1, 345 98.01p\n",
      "traders under 604 cycle - 2, 347 98.58p\n",
      "traders under 608 cycle - 1, 348 98.86p\n",
      "traders under 612 cycle - 1, 349 99.15p\n",
      "traders under 614 cycle - 1, 350 99.43p\n",
      "traders under 616 cycle - 1, 351 99.72p\n",
      "traders under 617 cycle - 1, 352 100.00p\n"
     ]
    }
   ],
   "source": [
    "from collections import Counter\n",
    "traders_cycle_count = Counter([x['count'] for x in traders_avg.values()])\n",
    "traders_cycle_count = sorted(traders_cycle_count.items())\n",
    "total_cycles = sum([x['count'] for x in traders_avg.values()])\n",
    "print('total_cycles ', total_cycles)\n",
    "print('traders ', len(traders_avg))\n",
    "cum_sum_traders = 0\n",
    "for cycle_size,traders in traders_cycle_count:\n",
    "    cum_sum_traders += traders\n",
    "    print('traders under %i cycle - %i, %i %.2fp' % (cycle_size, traders, cum_sum_traders, cum_sum_traders/len(traders_avg)*100))"
   ]
  },
  {
   "cell_type": "code",
   "execution_count": 50,
   "id": "110f3c46-3f97-4c52-b787-761e190e55f8",
   "metadata": {
    "pycharm": {
     "name": "#%%\n"
    }
   },
   "outputs": [],
   "source": [
    "traders_count_sorted = sorted(traders_avg, key=lambda x: traders_avg[x]['count'], reverse=True)"
   ]
  },
  {
   "cell_type": "code",
   "execution_count": 51,
   "id": "d67e3f51-e6e9-4eba-848a-b2505004561d",
   "metadata": {
    "pycharm": {
     "name": "#%%\n"
    },
    "scrolled": true,
    "tags": []
   },
   "outputs": [
    {
     "name": "stdout",
     "output_type": "stream",
     "text": [
      "0x8acc1421ec98689461ff5777de8ad6648dc6d643\n",
      "{'avg': 2.2519553917404505, 'count': 617, 'total_profit': 1389.456476703858}\n",
      "\n",
      "0x00c9da65b33b4f7034b5f50b90f5f6d8320d6ab8\n",
      "{'avg': 2.19609054383117, 'count': 616, 'total_profit': 1352.7917750000008}\n",
      "\n",
      "0xa21e0974137bf8400eb7dca606d9dcb190d79ed9\n",
      "{'avg': 2.3006426628664522, 'count': 614, 'total_profit': 1412.5945950000016}\n",
      "\n",
      "0x838c14eb3eabe4cb6a696d286c7b2a466629d0ee\n",
      "{'avg': 2.3572472385620915, 'count': 612, 'total_profit': 1442.6353100000001}\n",
      "\n",
      "0x1c1ef71445010114f41ac1feb32dbf5d7281e90f\n",
      "{'avg': 2.3474603371710523, 'count': 608, 'total_profit': 1427.2558849999998}\n",
      "\n",
      "0x6a47b60c377450a460d3eb828d534ee66eead668\n",
      "{'avg': 2.2968711341059636, 'count': 604, 'total_profit': 1387.310165000002}\n",
      "\n",
      "0xe738725cdcc41c91f734dd7b5b9659df994d6dda\n",
      "{'avg': 2.2413728476821193, 'count': 604, 'total_profit': 1353.7892000000002}\n",
      "\n",
      "0x463215edb66fb6a8f0c979e739a731977617699f\n",
      "{'avg': 2.170596011705686, 'count': 598, 'total_profit': 1298.0164150000003}\n",
      "\n",
      "0x179d698f5a1c84c3ff4c5eb04e553c15a0c1d8d8\n",
      "{'avg': 2.2783097403685093, 'count': 597, 'total_profit': 1360.1509150000002}\n",
      "\n",
      "0x1e7f320cf5a938465d501f6bd6c405feb3a70f6c\n",
      "{'avg': 2.2265507202680044, 'count': 597, 'total_profit': 1329.2507799999985}\n",
      "\n",
      "0x6e13c7e25c2cda6f5c8c4e431bee480bfb312c28\n",
      "{'avg': 2.260721519524621, 'count': 589, 'total_profit': 1331.5649750000016}\n",
      "\n",
      "0x236ef21dc36d0aec3990dd5ee84a9d5320644262\n",
      "{'avg': 2.3027468534482822, 'count': 580, 'total_profit': 1335.5931750000036}\n",
      "\n",
      "0xf5aee6d7b838d5ede8aa65d31dbc11116545180c\n",
      "{'avg': 2.279057060869569, 'count': 575, 'total_profit': 1310.4578100000022}\n",
      "\n",
      "0xbabda06088c242fb2a763aa7cc99706cb77ba735\n",
      "{'avg': 2.312860959860382, 'count': 573, 'total_profit': 1325.269329999999}\n",
      "\n",
      "0x68d31cb3825e559b1e5c0665f2d65d06a17fce1a\n",
      "{'avg': 2.1250271578947357, 'count': 570, 'total_profit': 1211.2654799999993}\n",
      "\n",
      "0xa37e6b46fa8e1a6f1ddbf035c4e0230b8414ff04\n",
      "{'avg': 2.152705511463846, 'count': 567, 'total_profit': 1220.5840250000008}\n",
      "\n",
      "0xcdcadf0279ee021a0c40a31ac10fa69e028e21d0\n",
      "{'avg': 2.305673079710144, 'count': 552, 'total_profit': 1272.7315399999993}\n",
      "\n",
      "0x7316e9cf94bef40d4981d66a5c41c38b6b32454c\n",
      "{'avg': 2.2200820802919665, 'count': 548, 'total_profit': 1216.6049799999976}\n",
      "\n",
      "0x87b77fabfeb869150b8e1b9462603f9a639c5fae\n",
      "{'avg': 2.2851332674199623, 'count': 531, 'total_profit': 1213.405765}\n",
      "\n",
      "0xadd12bd6375dc21d579cc4abcfa04864d6ac9a62\n",
      "{'avg': 2.2776891950757587, 'count': 528, 'total_profit': 1202.6198950000005}\n",
      "\n",
      "0xd387a6e4e84a6c86bd90c158c6028a58cc8ac459\n",
      "{'avg': 258.71556392609153, 'count': 14, 'total_profit': 3622.0178949652814}\n",
      "\n",
      "0x7054bdfa61dc8c1baa1d5de76ba7ee1b4ab791d9\n",
      "{'avg': 11.8304085, 'count': 10, 'total_profit': 118.304085}\n",
      "\n",
      "0x2283de856c95f08f9c0ffef26317b92e9ff89639\n",
      "{'avg': 707.7822511111112, 'count': 9, 'total_profit': 6370.040260000001}\n",
      "\n",
      "0x61592a6f682bbabfd743aa7596ee269e7448212c\n",
      "{'avg': 3.41708, 'count': 7, 'total_profit': 23.91956}\n",
      "\n",
      "0xeaf421dd681d94902f85a56f060260d63982f406\n",
      "{'avg': 581.5879249999999, 'count': 6, 'total_profit': 3489.5275499999993}\n",
      "\n",
      "0x19804927f74c3c0899afd49d56bff6ddae6cf518\n",
      "{'avg': 2.9001991666666656, 'count': 6, 'total_profit': 17.401194999999994}\n",
      "\n",
      "0xe6b221eb84084cbf557465cb8972ce2eaca59382\n",
      "{'avg': 495.5782000000001, 'count': 5, 'total_profit': 2477.8910000000005}\n",
      "\n",
      "0x8ba7e4d44f4b1dcee13b8d2343329ce0351bf3bc\n",
      "{'avg': 180.49696500000005, 'count': 5, 'total_profit': 902.4848250000002}\n",
      "\n",
      "0x6d11f89bf007dc1b679bd420487e0058e0a64dcc\n",
      "{'avg': 3.012759, 'count': 5, 'total_profit': 15.063795}\n",
      "\n",
      "0xfe5745fe855e49db6ff78c07b5a3c9b496ceffdc\n",
      "{'avg': 0.4808585596064815, 'count': 5, 'total_profit': 2.4042927980324076}\n",
      "\n",
      "0xf6d22b698d04634f218fc03788784fa55765c7b4\n",
      "{'avg': 417.00652999999994, 'count': 4, 'total_profit': 1668.0261199999998}\n",
      "\n",
      "0x73deaeb8aa241b6fcdb992060ae43193cccbf638\n",
      "{'avg': 526.119375, 'count': 4, 'total_profit': 2104.4775}\n",
      "\n",
      "0x09d57f361f794d150c04443a7b6e369120dc2bea\n",
      "{'avg': 142.28774999999996, 'count': 4, 'total_profit': 569.1509999999998}\n",
      "\n",
      "0x3591d4291e027b86b99c779c2bbf866a822b1567\n",
      "{'avg': 34.964755, 'count': 4, 'total_profit': 139.85902}\n",
      "\n",
      "0x66598ef9f2b654b11e31ca6ea45e2b084300c6e2\n",
      "{'avg': 16.679158750000003, 'count': 4, 'total_profit': 66.71663500000001}\n",
      "\n",
      "0x69810ffe90c429555de923ae9174d96f471fa14d\n",
      "{'avg': 7.272724999999997, 'count': 4, 'total_profit': 29.090899999999987}\n",
      "\n",
      "0x387ddb81ecab04287e16e0e1381df44448bab38a\n",
      "{'avg': 745.9223333333333, 'count': 3, 'total_profit': 2237.767}\n",
      "\n",
      "0x7e1dcf785f0353bf657c38ab7865c1f184efe208\n",
      "{'avg': 506.31445, 'count': 3, 'total_profit': 1518.94335}\n",
      "\n",
      "0x7dcd835259cac15d60f006d0a6e4bfcc5e9cc9bb\n",
      "{'avg': 641.3222166666666, 'count': 3, 'total_profit': 1923.9666499999998}\n",
      "\n",
      "0xa629bb0e3e3c5df86d4e067fea51e7b23e420d12\n",
      "{'avg': 683.3316297453704, 'count': 3, 'total_profit': 2049.9948892361112}\n",
      "\n",
      "0x4306893ff11748254489465650e09ff4b555bba9\n",
      "{'avg': 299.11630499999995, 'count': 3, 'total_profit': 897.3489149999999}\n",
      "\n",
      "0x576a655161b5502dcf40602be1f3519a89b71658\n",
      "{'avg': 252.753075, 'count': 3, 'total_profit': 758.259225}\n",
      "\n",
      "0xd8e9aed17941ca327f5d99c58eacfbc48e0fa2a8\n",
      "{'avg': 84.39765999999999, 'count': 3, 'total_profit': 253.19297999999998}\n",
      "\n",
      "0xa0d1476011a971b4f63dd5b2b9ac1e3f1229bb59\n",
      "{'avg': 74.21100666666666, 'count': 3, 'total_profit': 222.63302}\n",
      "\n",
      "0xa8672c3cef0dce305102f20ac820c921c91ff7e2\n",
      "{'avg': 103.38333333333334, 'count': 3, 'total_profit': 310.15000000000003}\n",
      "\n",
      "0xdcf3b04605886d8f6fa943e50aba8db4d0728795\n",
      "{'avg': 98.73670833333325, 'count': 3, 'total_profit': 296.2101249999998}\n",
      "\n",
      "0x58ac38489b7dfeeb761ff1720a37223692d779c7\n",
      "{'avg': 152.46749999999997, 'count': 3, 'total_profit': 457.4024999999999}\n",
      "\n",
      "0xd89f88ab81820ab109689fabf47d68c35b7888d2\n",
      "{'avg': 69.35868333333336, 'count': 3, 'total_profit': 208.07605000000007}\n",
      "\n",
      "0x9eec3976435a37b0340ecbd966c226a691956b35\n",
      "{'avg': 18.537500000000005, 'count': 3, 'total_profit': 55.61250000000001}\n",
      "\n",
      "0x8805c680b191a244fb41a8d475e6fe33031396e4\n",
      "{'avg': 11.461246556700468, 'count': 3, 'total_profit': 34.383739670101406}\n",
      "\n"
     ]
    }
   ],
   "source": [
    "for t in traders_count_sorted[:50]:\n",
    "    print(t)\n",
    "    print(traders_avg[t])\n",
    "    print()"
   ]
  },
  {
   "cell_type": "markdown",
   "id": "570cf5b9-d4dc-474c-b056-2e7690364057",
   "metadata": {
    "pycharm": {
     "name": "#%% md\n"
    }
   },
   "source": [
    "# Lets take a look at the trader who did the most cycles"
   ]
  },
  {
   "cell_type": "code",
   "execution_count": 52,
   "id": "9244d0fd-96d3-41bc-8cfd-852005f687ee",
   "metadata": {
    "pycharm": {
     "name": "#%%\n"
    }
   },
   "outputs": [],
   "source": [
    "largest_trader_addr = '0x8acc1421ec98689461ff5777de8ad6648dc6d643'\n",
    "largest = []\n",
    "for trade in data:\n",
    "    if '_Rari' in trade['row'][0] or trade['row'][3] <= 2:\n",
    "        continue\n",
    "    if trade['row'][4]['buyer'] == largest_trader_addr:\n",
    "        largest.append(trade)"
   ]
  },
  {
   "cell_type": "code",
   "execution_count": 53,
   "id": "e0697ca1-c6de-49b0-a1eb-5229e1a21239",
   "metadata": {
    "pycharm": {
     "name": "#%%\n"
    },
    "scrolled": true,
    "tags": []
   },
   "outputs": [
    {
     "data": {
      "text/plain": "{'timestamp': 1619562578,\n 'window': None,\n 'row': ['965763_Cryptokittie',\n  'Cryptokittie',\n  'Art',\n  17,\n  {'buyer': '0x8acc1421ec98689461ff5777de8ad6648dc6d643',\n   'profit_usd': 2.8115099999999913,\n   'cycle': {'sales': [{'buyer': '0x8acc1421ec98689461ff5777de8ad6648dc6d643',\n      'price_usd': 57.49848,\n      'time': 1560138735,\n      'tx_hash': '0x9b6eb9ca770ea267d6e6b8bf343a893af27bdf3396647b6981d0665958221f43',\n      'nft_id': '965763_Cryptokittie'},\n     {'buyer': '0x87b77fabfeb869150b8e1b9462603f9a639c5fae',\n      'price_usd': 57.49848,\n      'time': 1560152822,\n      'tx_hash': '0xe0fb8033db0f60763e674f0e643c5bcbf89dcd1d9ca6c2105a37dc3ad63e839a',\n      'nft_id': '965763_Cryptokittie'},\n     {'buyer': '0x1e7f320cf5a938465d501f6bd6c405feb3a70f6c',\n      'price_usd': 57.49848,\n      'time': 1560167201,\n      'tx_hash': '0xc95e523bd5f5df70002acdcafb8b1dd7e2965648e4868f5af5da47f32be1e87d',\n      'nft_id': '965763_Cryptokittie'},\n     {'buyer': '0xcdcadf0279ee021a0c40a31ac10fa69e028e21d0',\n      'price_usd': 57.49848,\n      'time': 1560181657,\n      'tx_hash': '0x7a6ada57032543eeb5ffb592ced9b8d01306475fee092349321bbf4079814666',\n      'nft_id': '965763_Cryptokittie'},\n     {'buyer': '0x00c9da65b33b4f7034b5f50b90f5f6d8320d6ab8',\n      'price_usd': 57.49848,\n      'time': 1560195749,\n      'tx_hash': '0xf3855af1918f7ec96abbdfda6b945d0ae8b24a513f813bd32584ad3ab9a478cc',\n      'nft_id': '965763_Cryptokittie'},\n     {'buyer': '0xf5aee6d7b838d5ede8aa65d31dbc11116545180c',\n      'price_usd': 57.49848,\n      'time': 1560209798,\n      'tx_hash': '0x104e444a9e5a93858b0512ef45839caafb34e587e2ca0f095aba2d9a7495db9f',\n      'nft_id': '965763_Cryptokittie'},\n     {'buyer': '0xa21e0974137bf8400eb7dca606d9dcb190d79ed9',\n      'price_usd': 57.36743999999999,\n      'time': 1560224192,\n      'tx_hash': '0x539fafd28bd0b98f9524d1740d18c5f51b968bd1486cef5f55a0b5130d3714e1',\n      'nft_id': '965763_Cryptokittie'},\n     {'buyer': '0x68d31cb3825e559b1e5c0665f2d65d06a17fce1a',\n      'price_usd': 57.36743999999999,\n      'time': 1560238318,\n      'tx_hash': '0x3894ae297cbca3e9df2e27de73c3c302a65ec859efd940b4d2ddda3f5b11bdb6',\n      'nft_id': '965763_Cryptokittie'},\n     {'buyer': '0x6a47b60c377450a460d3eb828d534ee66eead668',\n      'price_usd': 57.36743999999999,\n      'time': 1560252719,\n      'tx_hash': '0x40547e4df37a539a86cbba4d922988c3cc42b61a6be3fd05355fb74c42b3a85a',\n      'nft_id': '965763_Cryptokittie'},\n     {'buyer': '0x838c14eb3eabe4cb6a696d286c7b2a466629d0ee',\n      'price_usd': 57.36743999999999,\n      'time': 1560266936,\n      'tx_hash': '0xd2db646b6afb373c33e629c018bb470ef6bb056879e17751a192201ed099a92f',\n      'nft_id': '965763_Cryptokittie'},\n     {'buyer': '0x00c9da65b33b4f7034b5f50b90f5f6d8320d6ab8',\n      'price_usd': 57.36743999999999,\n      'time': 1560281218,\n      'tx_hash': '0x2154ff9d46cd01bb0db4179fd6adc31caaa30f56b0a684a2e4592e9d252c18c2',\n      'nft_id': '965763_Cryptokittie'},\n     {'buyer': '0x68d31cb3825e559b1e5c0665f2d65d06a17fce1a',\n      'price_usd': 57.36743999999999,\n      'time': 1560295312,\n      'tx_hash': '0x0d9b97533a6890162159b448c95cbb710190e8b1bcdcbc7614ee23e8b7c0d60d',\n      'nft_id': '965763_Cryptokittie'},\n     {'buyer': '0xcdcadf0279ee021a0c40a31ac10fa69e028e21d0',\n      'price_usd': 60.30998999999999,\n      'time': 1560309706,\n      'tx_hash': '0x76bd357af6238bbe2c6c95ea033d50d79b492889b5b6f9f01bd16dd507e48494',\n      'nft_id': '965763_Cryptokittie'},\n     {'buyer': '0xa21e0974137bf8400eb7dca606d9dcb190d79ed9',\n      'price_usd': 60.30998999999999,\n      'time': 1560323803,\n      'tx_hash': '0x2acc5d1d6a69dbbb6599d4a12d05653ef6a5cb01ad59db106da65f980307ec77',\n      'nft_id': '965763_Cryptokittie'},\n     {'buyer': '0xbabda06088c242fb2a763aa7cc99706cb77ba735',\n      'price_usd': 60.30998999999999,\n      'time': 1560338207,\n      'tx_hash': '0x91fdc68c71f8e85ba85608097060e296ddd76e1ec23253c97fbbf2b51adcf338',\n      'nft_id': '965763_Cryptokittie'},\n     {'buyer': '0x179d698f5a1c84c3ff4c5eb04e553c15a0c1d8d8',\n      'price_usd': 60.30998999999999,\n      'time': 1560352393,\n      'tx_hash': '0xddcfa99038a02f6f28a7c19e5e311d7358a3452cf0b7267d434706956f37e948',\n      'nft_id': '965763_Cryptokittie'},\n     {'buyer': '0x8acc1421ec98689461ff5777de8ad6648dc6d643',\n      'price_usd': 60.30998999999999,\n      'time': 1560366716,\n      'tx_hash': '0xe17d883e2d56f7544dc4203d1bbfb3101f522b774b1a2926655cc0ad2d8a405b',\n      'nft_id': '965763_Cryptokittie'}]}}]}"
     },
     "execution_count": 53,
     "metadata": {},
     "output_type": "execute_result"
    }
   ],
   "source": [
    "largest[25]"
   ]
  },
  {
   "cell_type": "markdown",
   "id": "39ebd72c-4700-46bd-bcb1-ebe55f61be2e",
   "metadata": {
    "pycharm": {
     "name": "#%% md\n"
    },
    "tags": []
   },
   "source": [
    "#### Largest: NFTs they traded"
   ]
  },
  {
   "cell_type": "code",
   "execution_count": 56,
   "id": "c9320f70-1913-4406-9c43-a83824d98404",
   "metadata": {
    "pycharm": {
     "name": "#%%\n"
    }
   },
   "outputs": [
    {
     "data": {
      "text/plain": "Counter({'Mlbchampion': 1, 'Etheremon': 1, 'Cryptokittie': 1})"
     },
     "execution_count": 56,
     "metadata": {},
     "output_type": "execute_result"
    }
   ],
   "source": [
    "from collections import Counter\n",
    "most_common_nft_collection = []\n",
    "most_common_nft = []\n",
    "for trade in largest:\n",
    "    nft_collection =  trade['row'][0].split('_')\n",
    "    if len(nft_collection) > 2:\n",
    "        print(\"crap\")\n",
    "    most_common_nft.append(trade['row'][0])\n",
    "    most_common_nft_collection.append(nft_collection[1])\n",
    "most_common_nft_collection = set(most_common_nft_collection)\n",
    "most_common_nft_collection = Counter(most_common_nft_collection)\n",
    "most_common_nft = Counter(most_common_nft)\n",
    "most_common_nft_collection"
   ]
  },
  {
   "cell_type": "code",
   "execution_count": 57,
   "id": "4e5ee31f-5249-44f9-a22e-92b3de609540",
   "metadata": {
    "pycharm": {
     "name": "#%%\n"
    }
   },
   "outputs": [
    {
     "data": {
      "text/plain": "([('43995_Etheremon', 28),\n  ('965763_Cryptokittie', 26),\n  ('35008_Mlbchampion', 25),\n  ('1009482_Cryptokittie', 24),\n  ('1016910_Cryptokittie', 24),\n  ('34508_Etheremon', 23),\n  ('41419_Etheremon', 23),\n  ('108489_Mlbchampion', 22),\n  ('882455_Cryptokittie', 22),\n  ('1037945_Cryptokittie', 21),\n  ('41303_Etheremon', 21),\n  ('26643_Mlbchampion', 20),\n  ('38623_Etheremon', 19),\n  ('857510_Cryptokittie', 19),\n  ('1067790_Cryptokittie', 19),\n  ('128117_Mlbchampion', 19),\n  ('37525_Mlbchampion', 18),\n  ('995907_Cryptokittie', 18),\n  ('1080953_Cryptokittie', 18),\n  ('8002_Etheremon', 18),\n  ('34718_Etheremon', 18),\n  ('966604_Cryptokittie', 18),\n  ('1043670_Cryptokittie', 17),\n  ('84456_Mlbchampion', 17),\n  ('853115_Cryptokittie', 16),\n  ('42919_Etheremon', 16),\n  ('145277_Mlbchampion', 15),\n  ('28832_Etheremon', 15),\n  ('1010032_Cryptokittie', 15),\n  ('917284_Cryptokittie', 15),\n  ('1151860_Cryptokittie', 14),\n  ('945435_Cryptokittie', 14)],\n 32)"
     },
     "execution_count": 57,
     "metadata": {},
     "output_type": "execute_result"
    }
   ],
   "source": [
    "sorted(most_common_nft.items(), key=lambda x: x[1], reverse=True), len(most_common_nft)"
   ]
  },
  {
   "cell_type": "markdown",
   "id": "26c39089-9d78-48bd-943c-0dbd5c6e8a04",
   "metadata": {
    "pycharm": {
     "name": "#%% md\n"
    }
   },
   "source": [
    "#### Largest: Wallets they often traded with?"
   ]
  },
  {
   "cell_type": "code",
   "execution_count": 58,
   "id": "22a7d7b9-817e-4d57-809d-ee8be50b14e0",
   "metadata": {
    "pycharm": {
     "name": "#%%\n"
    }
   },
   "outputs": [],
   "source": [
    "wallet_interactions = []\n",
    "for trade in largest:\n",
    "    for sale in trade['row'][4]['cycle']['sales']:\n",
    "        wallet_interactions.append(sale['buyer'])\n",
    "wallet_interactions = Counter(wallet_interactions)"
   ]
  },
  {
   "cell_type": "code",
   "execution_count": 60,
   "id": "9e2a253f-cbe6-4095-a57c-50cb4c14a2dd",
   "metadata": {
    "pycharm": {
     "name": "#%%\n"
    }
   },
   "outputs": [
    {
     "data": {
      "text/plain": "([('0x8acc1421ec98689461ff5777de8ad6648dc6d643', 1234),\n  ('0xa21e0974137bf8400eb7dca606d9dcb190d79ed9', 710),\n  ('0x179d698f5a1c84c3ff4c5eb04e553c15a0c1d8d8', 674),\n  ('0xe738725cdcc41c91f734dd7b5b9659df994d6dda', 662),\n  ('0x1c1ef71445010114f41ac1feb32dbf5d7281e90f', 659),\n  ('0x838c14eb3eabe4cb6a696d286c7b2a466629d0ee', 653),\n  ('0xf5aee6d7b838d5ede8aa65d31dbc11116545180c', 649),\n  ('0x6a47b60c377450a460d3eb828d534ee66eead668', 649),\n  ('0xbabda06088c242fb2a763aa7cc99706cb77ba735', 644),\n  ('0x00c9da65b33b4f7034b5f50b90f5f6d8320d6ab8', 635),\n  ('0x463215edb66fb6a8f0c979e739a731977617699f', 624),\n  ('0x1e7f320cf5a938465d501f6bd6c405feb3a70f6c', 623),\n  ('0xa37e6b46fa8e1a6f1ddbf035c4e0230b8414ff04', 618),\n  ('0x87b77fabfeb869150b8e1b9462603f9a639c5fae', 612),\n  ('0x6e13c7e25c2cda6f5c8c4e431bee480bfb312c28', 600),\n  ('0x236ef21dc36d0aec3990dd5ee84a9d5320644262', 596),\n  ('0xadd12bd6375dc21d579cc4abcfa04864d6ac9a62', 594),\n  ('0x7316e9cf94bef40d4981d66a5c41c38b6b32454c', 590),\n  ('0x68d31cb3825e559b1e5c0665f2d65d06a17fce1a', 586),\n  ('0xcdcadf0279ee021a0c40a31ac10fa69e028e21d0', 581)],\n 20)"
     },
     "execution_count": 60,
     "metadata": {},
     "output_type": "execute_result"
    }
   ],
   "source": [
    "sorted(wallet_interactions.items(), key=lambda x: x[1], reverse=True), len(wallet_interactions)"
   ]
  },
  {
   "cell_type": "markdown",
   "id": "e221f40c-6bd6-407d-841a-45152a8477b2",
   "metadata": {
    "pycharm": {
     "name": "#%% md\n"
    }
   },
   "source": [
    "#### Largest: the times between each of their trades? m"
   ]
  },
  {
   "cell_type": "code",
   "execution_count": 47,
   "id": "e0a0032e-6d71-4720-959b-5a3180149d66",
   "metadata": {
    "pycharm": {
     "name": "#%%\n"
    },
    "scrolled": true,
    "tags": []
   },
   "outputs": [
    {
     "data": {
      "text/plain": [
       "[90.99527777777777,\n",
       " 186.09805555555556,\n",
       " 217.6625,\n",
       " 31.638055555555557,\n",
       " 15.866388888888888,\n",
       " 55.41583333333333,\n",
       " 134.56194444444444,\n",
       " 44.73361111111112,\n",
       " 89.86777777777777,\n",
       " 94.95,\n",
       " 178.12972222222223,\n",
       " 63.32944444444445,\n",
       " 103.22166666666666,\n",
       " 170.16666666666666,\n",
       " 35.64361111111111,\n",
       " 47.49055555555556,\n",
       " 19.736944444444443,\n",
       " 154.42583333333332,\n",
       " 27.758888888888887,\n",
       " 67.23111111111112,\n",
       " 31.64638888888889,\n",
       " 138.60472222222222,\n",
       " 85.82222222222222,\n",
       " 126.67361111111111,\n",
       " 35.58305555555555,\n",
       " 63.32805555555556,\n",
       " 110.84194444444444,\n",
       " 19.619444444444447,\n",
       " 154.54833333333332,\n",
       " 75.15944444444445,\n",
       " 166.25916666666666,\n",
       " 27.73,\n",
       " 35.57194444444444,\n",
       " 158.28861111111112,\n",
       " 83.22472222222223,\n",
       " 27.683055555555555,\n",
       " 27.660277777777775,\n",
       " 19.7625,\n",
       " 75.13916666666667,\n",
       " 142.535,\n",
       " 19.737222222222222,\n",
       " 189.95499999999998,\n",
       " 225.58055555555558,\n",
       " 63.3375,\n",
       " 158.32916666666668,\n",
       " 142.46,\n",
       " 31.57638888888889,\n",
       " 23.87,\n",
       " 63.333888888888886,\n",
       " 67.24472222222222,\n",
       " 178.10888888888888,\n",
       " 63.33083333333333,\n",
       " 31.65083333333333,\n",
       " 282.22305555555556,\n",
       " 117.52749999999999,\n",
       " 23.75,\n",
       " 67.26055555555556,\n",
       " 67.33527777777778,\n",
       " 19.735555555555557,\n",
       " 71.25666666666666,\n",
       " 110.84166666666667,\n",
       " 225.66138888888887,\n",
       " 225.6475,\n",
       " 15.770555555555555,\n",
       " 83.1325,\n",
       " 31.65972222222222,\n",
       " 39.644999999999996,\n",
       " 126.66305555555556,\n",
       " 55.40694444444444,\n",
       " 23.711666666666666,\n",
       " 75.26777777777778,\n",
       " 15.834444444444445,\n",
       " 138.5025,\n",
       " 79.16277777777778,\n",
       " 35.62777777777777,\n",
       " 35.61083333333333,\n",
       " 27.767222222222223,\n",
       " 90.99972222222223,\n",
       " 29.19722222222222,\n",
       " 22.191944444444445,\n",
       " 35.678888888888885,\n",
       " 75.25638888888889,\n",
       " 138.51055555555556,\n",
       " 110.83,\n",
       " 31.668611111111108,\n",
       " 47.50083333333334,\n",
       " 15.825555555555555,\n",
       " 518.5522222222222,\n",
       " 241.49166666666667,\n",
       " 98.91972222222222,\n",
       " 31.654444444444444,\n",
       " 153.17416666666668,\n",
       " 344.45694444444445,\n",
       " 11.911388888888888,\n",
       " 23.753333333333334,\n",
       " 75.13555555555556,\n",
       " 193.93722222222223,\n",
       " 47.376666666666665,\n",
       " 348.45222222222225,\n",
       " 95.00833333333334,\n",
       " 7.97138888888889,\n",
       " 23.750833333333333,\n",
       " 178.14194444444445,\n",
       " 55.42805555555556,\n",
       " 411.6458333333333,\n",
       " 55.45027777777778,\n",
       " 91.00111111111111,\n",
       " 229.56861111111112,\n",
       " 277.08416666666665,\n",
       " 126.66888888888889,\n",
       " 47.475833333333334,\n",
       " 23.772222222222222,\n",
       " 150.4288888888889,\n",
       " 118.18583333333332,\n",
       " 24.275555555555556,\n",
       " 126.6225,\n",
       " 11.916666666666666,\n",
       " 35.57388888888889,\n",
       " 178.17166666666665,\n",
       " 356.245,\n",
       " 23.75972222222222,\n",
       " 217.6563888888889,\n",
       " 23.81722222222222,\n",
       " 174.17583333333332,\n",
       " 35.5625,\n",
       " 182.0825,\n",
       " 265.1827777777778,\n",
       " 39.57388888888889,\n",
       " 23.764166666666664,\n",
       " 166.23361111111112,\n",
       " 27.768055555555556,\n",
       " 43.5,\n",
       " 43.50277777777777,\n",
       " 241.48250000000002,\n",
       " 75.27055555555556,\n",
       " 185.99527777777777,\n",
       " 308.7086111111111,\n",
       " 23.39027777777778,\n",
       " 182.07000000000002,\n",
       " 110.82194444444444,\n",
       " 182.08944444444444,\n",
       " 106.8375,\n",
       " 281.08583333333337,\n",
       " 312.7580555555556,\n",
       " 150.3861111111111,\n",
       " 95.01888888888888,\n",
       " 71.27777777777779,\n",
       " 83.07166666666667,\n",
       " 344.4266666666666,\n",
       " 154.32583333333332,\n",
       " 59.1,\n",
       " 47.80083333333334,\n",
       " 158.33083333333335,\n",
       " 79.24166666666666,\n",
       " 102.93666666666667,\n",
       " 35.67944444444445,\n",
       " 19.741666666666667,\n",
       " 87.07722222222222,\n",
       " 126.67527777777778,\n",
       " 102.92583333333333,\n",
       " 122.74805555555555,\n",
       " 700.5788888888889,\n",
       " 67.3325,\n",
       " 19.75972222222222,\n",
       " 110.85583333333334,\n",
       " 296.8719444444444,\n",
       " 19.769444444444446,\n",
       " 201.83694444444444,\n",
       " 83.12472222222223,\n",
       " 31.66111111111111,\n",
       " 55.37777777777777,\n",
       " 19.736944444444443,\n",
       " 23.753611111111113,\n",
       " 75.25055555555556,\n",
       " 63.33833333333334,\n",
       " 15.814444444444444,\n",
       " 130.6027777777778,\n",
       " 91.07916666666667,\n",
       " 126.67083333333333,\n",
       " 11.806111111111111,\n",
       " 51.524722222222216,\n",
       " 23.74361111111111,\n",
       " 27.750833333333333,\n",
       " 51.271388888888886,\n",
       " 399.9827777777778,\n",
       " 134.57861111111112,\n",
       " 110.82972222222223,\n",
       " 47.50416666666667,\n",
       " 39.600833333333334,\n",
       " 19.746111111111112,\n",
       " 87.06472222222222,\n",
       " 19.756944444444446,\n",
       " 63.26166666666666,\n",
       " 7.97861111111111,\n",
       " 35.69583333333333,\n",
       " 39.57694444444444,\n",
       " 229.58138888888888,\n",
       " 205.88,\n",
       " 122.6875,\n",
       " 63.32055555555555,\n",
       " 15.820833333333333,\n",
       " 225.6763888888889,\n",
       " 87.08722222222222,\n",
       " 7.918611111111111,\n",
       " 71.25111111111111,\n",
       " 15.836944444444445,\n",
       " 324.58250000000004,\n",
       " 55.41972222222223,\n",
       " 47.49527777777778,\n",
       " 83.17194444444445,\n",
       " 23.7325,\n",
       " 114.77333333333333,\n",
       " 43.497499999999995,\n",
       " 102.91000000000001,\n",
       " 55.41472222222222,\n",
       " 7.908055555555555,\n",
       " 154.43388888888887,\n",
       " 23.7525,\n",
       " 162.26305555555555,\n",
       " 114.8386111111111,\n",
       " 19.69527777777778,\n",
       " 35.675555555555555,\n",
       " 83.09027777777779,\n",
       " 35.58638888888889,\n",
       " 51.43777777777778,\n",
       " 71.26916666666666,\n",
       " 158.3138888888889,\n",
       " 79.15083333333334,\n",
       " 27.77388888888889,\n",
       " 158.07611111111112,\n",
       " 162.51611111111112,\n",
       " 126.66305555555556,\n",
       " 23.73611111111111,\n",
       " 19.841944444444444,\n",
       " 90.98944444444444,\n",
       " 415.6744444444445,\n",
       " 106.82805555555555,\n",
       " 23.670555555555556,\n",
       " 23.814722222222223,\n",
       " 47.507222222222225,\n",
       " 2724.0480555555555,\n",
       " 158.37444444444446,\n",
       " 15.829444444444444,\n",
       " 126.63694444444444,\n",
       " 63.37777777777777,\n",
       " 75.17833333333333,\n",
       " 27.37777777777778,\n",
       " 27.752222222222223,\n",
       " 71.24361111111111,\n",
       " 15.860000000000001,\n",
       " 19.75277777777778,\n",
       " 19.826944444444443,\n",
       " 63.345,\n",
       " 83.08055555555555,\n",
       " 201.92277777777778,\n",
       " 142.49944444444446,\n",
       " 87.05972222222222,\n",
       " 19.76055555555556,\n",
       " 130.66666666666666,\n",
       " 39.58305555555555,\n",
       " 312.7275,\n",
       " 95.00861111111111,\n",
       " 15.846666666666666,\n",
       " 23.745555555555555,\n",
       " 55.443888888888885,\n",
       " 59.31666666666667,\n",
       " 67.32527777777779,\n",
       " 23.744722222222222,\n",
       " 230.0925,\n",
       " 15.841666666666667,\n",
       " 35.670833333333334,\n",
       " 51.76472222222222,\n",
       " 79.16916666666665,\n",
       " 158.33305555555555,\n",
       " 79.14555555555556,\n",
       " 435.4238888888889,\n",
       " 39.580000000000005,\n",
       " 31.63277777777778,\n",
       " 11.999722222222223,\n",
       " 35.57888888888888,\n",
       " 67.30333333333333,\n",
       " 110.82277777777777,\n",
       " 23.733055555555556,\n",
       " 217.62222222222223,\n",
       " 23.89611111111111,\n",
       " 174.17305555555555,\n",
       " 35.60555555555556,\n",
       " 182.095,\n",
       " 35.665277777777774,\n",
       " 67.24222222222222,\n",
       " 193.985,\n",
       " 43.52361111111111,\n",
       " 146.48527777777778,\n",
       " 102.93555555555555,\n",
       " 63.321111111111115,\n",
       " 106.91916666666665,\n",
       " 67.22555555555556,\n",
       " 91.11361111111111,\n",
       " 51.41694444444445,\n",
       " 31.641944444444444,\n",
       " 209.8461111111111,\n",
       " 19.813888888888886,\n",
       " 197.90944444444446,\n",
       " 28.574722222222224,\n",
       " 51.419444444444444,\n",
       " 245.3425,\n",
       " 197.89111111111112,\n",
       " 494.8675,\n",
       " 51.41805555555556,\n",
       " 63.321111111111115,\n",
       " 170.26611111111112,\n",
       " 75.17666666666668,\n",
       " 75.195,\n",
       " 98.96666666666667,\n",
       " 59.424166666666665,\n",
       " 114.73805555555556,\n",
       " 106.72,\n",
       " 7.907222222222222,\n",
       " 320.76861111111106,\n",
       " 31.670833333333334,\n",
       " 75.24138888888889,\n",
       " 19.731944444444444,\n",
       " 142.52138888888888,\n",
       " 75.25305555555556,\n",
       " 15.806111111111111,\n",
       " 59.007222222222225,\n",
       " 27.69611111111111,\n",
       " 166.24249999999998,\n",
       " 59.32972222222222,\n",
       " 653.1619444444444,\n",
       " 162.31694444444443,\n",
       " 39.58638888888889,\n",
       " 142.47944444444445,\n",
       " 19.823333333333334,\n",
       " 189.91361111111112,\n",
       " 67.33222222222223,\n",
       " 19.739722222222223,\n",
       " 158.31944444444443,\n",
       " 174.1327777777778,\n",
       " 23.768888888888892,\n",
       " 11.899722222222222,\n",
       " 174.1616666666667,\n",
       " 31.6625,\n",
       " 35.58305555555555,\n",
       " 59.405,\n",
       " 55.429722222222225,\n",
       " 75.08111111111111,\n",
       " 83.25222222222222,\n",
       " 102.90277777777779,\n",
       " 47.515277777777776,\n",
       " 415.5813888888889,\n",
       " 19.706388888888892,\n",
       " 122.75138888888888,\n",
       " 15.835,\n",
       " 23.75861111111111,\n",
       " 273.1502777777778,\n",
       " 257.3183333333333,\n",
       " 94.99944444444444,\n",
       " 55.43666666666666,\n",
       " 75.15944444444445,\n",
       " 178.1786111111111,\n",
       " 150.42055555555555,\n",
       " 142.49388888888888,\n",
       " 83.07361111111112,\n",
       " 114.84305555555555,\n",
       " 39.57527777777778,\n",
       " 19.760833333333334,\n",
       " 641.2458333333333,\n",
       " 31.641111111111112,\n",
       " 174.14027777777775,\n",
       " 7.922777777777778,\n",
       " 51.43055555555556,\n",
       " 5.793333333333334,\n",
       " 71.23694444444443,\n",
       " 138.49055555555555,\n",
       " 82.80833333333334,\n",
       " 47.49722222222223,\n",
       " 186.0702777777778,\n",
       " 31.677500000000002,\n",
       " 63.329166666666666,\n",
       " 47.52944444444445,\n",
       " 75.23944444444444,\n",
       " 122.67944444444444,\n",
       " 15.823888888888888,\n",
       " 83.17583333333333,\n",
       " 59.363055555555555,\n",
       " 118.73666666666666,\n",
       " 15.838611111111112,\n",
       " 19.71611111111111,\n",
       " 99.03694444444444,\n",
       " 265.12583333333333,\n",
       " 110.84027777777779,\n",
       " 43.56527777777777,\n",
       " 39.569722222222225,\n",
       " 71.30388888888889,\n",
       " 27.74361111111111,\n",
       " 7.912222222222223,\n",
       " 360.17833333333334,\n",
       " 31.670833333333334,\n",
       " 142.49249999999998,\n",
       " 47.508611111111115,\n",
       " 75.14444444444445,\n",
       " 43.59583333333333,\n",
       " 31.657777777777778,\n",
       " 63.208888888888886,\n",
       " 71.36861111111111,\n",
       " 83.0988888888889,\n",
       " 59.38972222222222,\n",
       " 154.5052777777778,\n",
       " 19.7425,\n",
       " 51.42305555555556,\n",
       " 249.38888888888889,\n",
       " 126.68277777777777,\n",
       " 102.92277777777778,\n",
       " 94.9863888888889,\n",
       " 225.26694444444445,\n",
       " 55.428888888888885,\n",
       " 116.60833333333333,\n",
       " 44.37527777777778,\n",
       " 122.42055555555557,\n",
       " 23.77638888888889,\n",
       " 43.559999999999995,\n",
       " 63.37416666666666,\n",
       " 59.41027777777778,\n",
       " 35.57277777777778,\n",
       " 67.32916666666667,\n",
       " 122.64444444444445,\n",
       " 35.62361111111111,\n",
       " 11.870277777777778,\n",
       " 43.59222222222222,\n",
       " 63.34861111111111,\n",
       " 225.66083333333333,\n",
       " 67.34361111111112,\n",
       " 11.84861111111111,\n",
       " 87.07222222222222,\n",
       " 39.594166666666666,\n",
       " 59.43055555555556,\n",
       " 11.914166666666667,\n",
       " 47.486666666666665,\n",
       " 43.51583333333333,\n",
       " 59.41166666666666,\n",
       " 221.67333333333332,\n",
       " 11.926111111111112,\n",
       " 79.1511111111111,\n",
       " 134.5911111111111,\n",
       " 55.42027777777778,\n",
       " 91.00166666666668,\n",
       " 43.49666666666667,\n",
       " 118.78833333333334,\n",
       " 154.27416666666667,\n",
       " 300.8725,\n",
       " 75.22583333333334,\n",
       " 43.50527777777778,\n",
       " 241.48638888888888,\n",
       " 91.00555555555555,\n",
       " 142.5025,\n",
       " 205.83194444444445,\n",
       " 11.89611111111111,\n",
       " 23.75972222222222,\n",
       " 35.583888888888886,\n",
       " 43.49611111111111,\n",
       " 154.4116666666667,\n",
       " 59.319722222222225,\n",
       " 91.11999999999999,\n",
       " 39.579166666666666,\n",
       " 79.50555555555555,\n",
       " 122.75277777777778,\n",
       " 27.74527777777778,\n",
       " 150.39027777777775,\n",
       " 23.758888888888887,\n",
       " 185.99888888888887,\n",
       " 35.59555555555555,\n",
       " 174.17666666666668,\n",
       " 67.35166666666666,\n",
       " 27.684444444444445,\n",
       " 229.54833333333332,\n",
       " 130.65,\n",
       " 27.643055555555556,\n",
       " 162.38111111111112,\n",
       " 35.58638888888889,\n",
       " 348.3591666666667,\n",
       " 79.14416666666666,\n",
       " 83.04222222222224,\n",
       " 27.80638888888889,\n",
       " 23.77583333333333,\n",
       " 114.845,\n",
       " 83.17,\n",
       " 31.66166666666667,\n",
       " 31.66111111111111,\n",
       " 79.20027777777777,\n",
       " 39.57861111111111,\n",
       " 71.24666666666667,\n",
       " 296.90444444444444,\n",
       " 142.50555555555556,\n",
       " 158.35,\n",
       " 134.69805555555556,\n",
       " 308.7327777777778,\n",
       " 35.66638888888888,\n",
       " 35.58555555555555,\n",
       " 23.756666666666668,\n",
       " 178.17527777777778,\n",
       " 43.46722222222222,\n",
       " 158.34833333333333,\n",
       " 99.015,\n",
       " 39.57972222222222,\n",
       " 75.24388888888889,\n",
       " 55.44277777777778,\n",
       " 94.98194444444445,\n",
       " 39.55777777777778,\n",
       " 130.6186111111111,\n",
       " 150.42333333333332,\n",
       " 7.939722222222222,\n",
       " 192.68666666666667,\n",
       " 100.74472222222222,\n",
       " 43.56444444444445,\n",
       " 43.51944444444444,\n",
       " 90.84750000000001,\n",
       " 170.39222222222222,\n",
       " 19.854166666666668,\n",
       " 47.494166666666665,\n",
       " 23.761111111111113,\n",
       " 502.6713888888889,\n",
       " 95.00027777777777,\n",
       " 43.53722222222222,\n",
       " 7.9127777777777775,\n",
       " 23.753888888888888,\n",
       " 170.25027777777777,\n",
       " 55.415277777777774,\n",
       " 439.3316666666667,\n",
       " 27.74361111111111,\n",
       " 233.48777777777778,\n",
       " 154.3388888888889,\n",
       " 471.07444444444445,\n",
       " 47.38305555555555,\n",
       " 63.950833333333335,\n",
       " 74.66527777777779,\n",
       " 138.57555555555555,\n",
       " 83.0838888888889,\n",
       " 27.76527777777778,\n",
       " 23.744722222222222,\n",
       " 182.07555555555555,\n",
       " 154.33194444444445,\n",
       " 71.24444444444445,\n",
       " 443.3625,\n",
       " 189.9975,\n",
       " 130.87444444444444,\n",
       " 98.90972222222221,\n",
       " 118.7661111111111,\n",
       " 19.74277777777778,\n",
       " 150.33805555555554,\n",
       " 126.75333333333333,\n",
       " 352.2291666666667,\n",
       " 39.60166666666667,\n",
       " 19.80277777777778,\n",
       " 91.02916666666667,\n",
       " 79.2663888888889,\n",
       " 23.748055555555556,\n",
       " 59.41388888888889,\n",
       " 118.77972222222223,\n",
       " 75.27,\n",
       " 217.74694444444447,\n",
       " 190.03916666666666,\n",
       " 189.9875,\n",
       " 114.8411111111111,\n",
       " 126.57722222222222,\n",
       " 174.28444444444446,\n",
       " 39.57861111111111,\n",
       " 19.809444444444445,\n",
       " 126.66555555555556,\n",
       " 23.768055555555556,\n",
       " 102.90194444444445,\n",
       " 19.558333333333334,\n",
       " 20.01138888888889,\n",
       " 55.444722222222225,\n",
       " 332.4508333333333,\n",
       " 121.76972222222223,\n",
       " 67.27361111111111,\n",
       " 142.51055555555556,\n",
       " 23.747777777777777,\n",
       " 98.99305555555556,\n",
       " 570.0063888888889,\n",
       " 43.5775,\n",
       " 118.75222222222222,\n",
       " 27.613333333333333,\n",
       " 150.44222222222223,\n",
       " 15.852222222222222,\n",
       " 83.05944444444444,\n",
       " 59.430277777777775,\n",
       " 67.35444444444445,\n",
       " 67.23027777777777,\n",
       " 154.45583333333335,\n",
       " 19.7425,\n",
       " 300.8327777777778,\n",
       " 197.9175,\n",
       " 31.670277777777777,\n",
       " 221.65444444444444,\n",
       " 102.86638888888889,\n",
       " 87.07194444444444,\n",
       " 94.99972222222223,\n",
       " 35.58777777777778,\n",
       " 221.66361111111112,\n",
       " 47.47555555555555,\n",
       " 31.677222222222223,\n",
       " 118.75944444444444,\n",
       " 75.24027777777778,\n",
       " 19.769444444444446,\n",
       " 51.49777777777778,\n",
       " 19.834166666666665,\n",
       " 51.40972222222222,\n",
       " 79.16305555555556,\n",
       " 91.01277777777777,\n",
       " 63.37833333333333,\n",
       " 463.0861111111111,\n",
       " 186.04527777777778,\n",
       " 7.890277777777778,\n",
       " 174.17472222222221,\n",
       " 119.24805555555555]"
      ]
     },
     "execution_count": 47,
     "metadata": {},
     "output_type": "execute_result"
    }
   ],
   "source": [
    "times_between_trades = []\n",
    "for trade in largest:\n",
    "    first_time = trade['row'][4]['cycle']['sales'][0]['time']\n",
    "    last_time = trade['row'][4]['cycle']['sales'][-1]['time']\n",
    "    diff = (last_time - first_time)/60/60\n",
    "    times_between_trades.append(diff)\n",
    "times_between_trades"
   ]
  },
  {
   "cell_type": "code",
   "execution_count": 61,
   "id": "03e903de-d267-496b-8945-6db182f6e873",
   "metadata": {
    "pycharm": {
     "name": "#%%\n"
    },
    "scrolled": true,
    "tags": []
   },
   "outputs": [
    {
     "name": "stdout",
     "output_type": "stream",
     "text": [
      "   T(d) 0.0m/0.0h/0.00d, B: 0x8a.. $27.154920000000004(0.0) 0xcf9c78d0d6298cfacf16b1333c29c3e925ff27f80c6835062e3167b92e8cbd78\n",
      "->T(d) 235.0m/3.9h/0.16d, B: 0xf5.. $27.154920000000004(0.0) 0x1e662233d7f3d7986054062c0a538955ed66c6e52d29f1ba2b8e4c961138255b\n",
      "->T(d) 240.7m/4.0h/0.17d, B: 0x87.. $27.154920000000004(0.0) 0xa0a72d30beb89211cfbce243df96b81b070d563213ad201aa644d1db99529ad4\n",
      "->T(d) 234.1m/3.9h/0.16d, B: 0x6a.. $27.154920000000004(0.0) 0x25bd70c90e9c1cb169326bb6479ebd3bc438ef1a58d8d6a822ff7d81cd85e0cb\n",
      "->T(d) 239.7m/4.0h/0.17d, B: 0xa2.. $27.43884000000001(0.2839200000000055) 0xc4ecc72367add3b226833699cb22ef94f78a56eb630c2606816d34dc439e878a\n",
      "->T(d) 236.8m/3.9h/0.16d, B: 0xcd.. $27.43884000000001(0.2839200000000055) 0x4b51c6b9377c8778adf60ca5f99ed9ee4d5cd41145f2d2c8e238a61043a89cc2\n",
      "->T(d) 238.2m/4.0h/0.17d, B: 0xba.. $27.43884000000001(0.2839200000000055) 0x1ac4cc0424eba8113ea068e8c9eff3f9d8c07352ba43e9cd1683e52d5900a89d\n",
      "->T(d) 238.8m/4.0h/0.17d, B: 0x87.. $27.43884000000001(0.2839200000000055) 0xb289ff92a57dc3d00506383e66c3eef5c20a5a61c1de35c0d2496e230946830b\n",
      "->T(d) 236.3m/3.9h/0.16d, B: 0x6a.. $27.43884000000001(0.2839200000000055) 0xdc6c377dda8c52bb1a5d5ab48b3ea60493e1d52bbc04613193996b42e70802d0\n",
      "->T(d) 235.2m/3.9h/0.16d, B: 0x6e.. $27.43884000000001(0.2839200000000055) 0x59de80e5199c6ac7187f9bc977bae6cf636c1ca1fad75a5624aaebf8340fec23\n",
      "->T(d) 240.6m/4.0h/0.17d, B: 0xa3.. $27.45236(0.2974399999999946) 0x5e11a58e0b5ca932663605e1d8690415be7a55662c78ff41da548c04f4fea83d\n",
      "->T(d) 234.8m/3.9h/0.16d, B: 0xba.. $27.45236(0.2974399999999946) 0x09d88eb2b4b6e8033030cc6eeb9d42cca58e5ca6dfbbb3e7e81674d3acb7522c\n",
      "->T(d) 240.5m/4.0h/0.17d, B: 0xe7.. $27.45236(0.2974399999999946) 0x9ac8f4f544e87dfb581387bdfde5eaa66a81d6a167187c1b61e37eabf87d82a9\n",
      "->T(d) 234.9m/3.9h/0.16d, B: 0x1e.. $27.45236(0.2974399999999946) 0x5559d4b689cb51a69f8411a8eb31c6ddda868d4996be828e2896c8457e540b16\n",
      "->T(d) 242.5m/4.0h/0.17d, B: 0x1c.. $27.45236(0.2974399999999946) 0xaa147b6c6402038568f04468ee56513821bfa9eb3485ebac3c61a8d31a9f4540\n",
      "->T(d) 231.9m/3.9h/0.16d, B: 0xa2.. $27.45236(0.2974399999999946) 0x0c7eaa72c470c7abaeb73b895b86aac02a9850cfcfdfdce88e69002c78038c2c\n",
      "->T(d) 241.9m/4.0h/0.17d, B: 0x73.. $28.080195000000003(0.9252749999999992) 0x52f9be5eb18757c2b4c55818596849840cfcca63f9e3019b9087395d589f1a5d\n",
      "->T(d) 233.6m/3.9h/0.16d, B: 0x83.. $28.080195000000003(0.9252749999999992) 0xc8275b4d8525c1472f8cd1d9841279659d0453ce1f14ecda6487063afb984d7b\n",
      "->T(d) 239.2m/4.0h/0.17d, B: 0xf5.. $28.080195000000003(0.9252749999999992) 0x7a732b9bfa41a85458db620db82ce964f0c28ca8f42805481b71d8d76264decd\n",
      "->T(d) 235.3m/3.9h/0.16d, B: 0x17.. $28.080195000000003(0.9252749999999992) 0xa54934a3e0340eeebc56e4d563c24121ad5fc03def43e792d1add7b4eeeb9997\n",
      "->T(d) 240.1m/4.0h/0.17d, B: 0x87.. $28.080195000000003(0.9252749999999992) 0xaa878250b790d0c0f463b1c60727ee65ddf3e6b7bf423462cdc16f2f00583a4c\n",
      "->T(d) 234.3m/3.9h/0.16d, B: 0x46.. $28.080195000000003(0.9252749999999992) 0x5dd4f736209a9b895032e81634f738ff2cd32f4f7cd360a4a7daa0d60ec322a9\n",
      "->T(d) 240.1m/4.0h/0.17d, B: 0xcd.. $28.227225000000004(1.072305) 0xbed8b7765884a14b9b05d196d326ed170c16199b7e16ffda929db71e08338a56\n",
      "->T(d) 235.3m/3.9h/0.16d, B: 0x1e.. $28.227225000000004(1.072305) 0xa794385c9cd8498fca6e385ba35947b9030568eb6e0e162b136d46eba69ca016\n",
      "->T(d) 239.8m/4.0h/0.17d, B: 0xf5.. $28.227225000000004(1.072305) 0x6d90e910d1f70adc9b6b82cf58e6834d9ad364da6a4eaae30eb6948edb7ce841\n",
      "->T(d) 236.3m/3.9h/0.16d, B: 0x68.. $28.227225000000004(1.072305) 0x79d015a1cbe323e7e101814baad9ba3ca9d56d48c096659d1df56ac7828ffdf5\n",
      "->T(d) 238.6m/4.0h/0.17d, B: 0xba.. $28.227225000000004(1.072305) 0xb31d3c58cecc221464c39886596d594421ed6984ac5d153320ea99d4f3b98d5b\n",
      "->T(d) 235.5m/3.9h/0.16d, B: 0xad.. $28.227225000000004(1.072305) 0xf40ab2dc1d8a0e080a477f0508d400a7b167ffd8bf4ae4d550c34afea2b7c83f\n",
      "->T(d) 239.8m/4.0h/0.17d, B: 0x23.. $27.56474500000001(0.409825000000005) 0x3342c27d9d3e465490a8bf8b8993b89be074bfbe937747c85c3666411161e08b\n",
      "->T(d) 234.7m/3.9h/0.16d, B: 0x00.. $27.56474500000001(0.409825000000005) 0x7a77094aa31cc3f4a27c7a214fa4a43996bbcf5774e9d216b38d7b2ad83a99bf\n",
      "->T(d) 240.2m/4.0h/0.17d, B: 0x6e.. $27.56474500000001(0.409825000000005) 0xc19f1949e2d848841cb9d887f184bedff677991d2edb6badd7a2fca63597eac0\n",
      "->T(d) 236.5m/3.9h/0.16d, B: 0xe7.. $27.56474500000001(0.409825000000005) 0xcc1d61a75d6abe88b971a28797fee7ae2391c323b00836f5d45ea418ed315feb\n",
      "->T(d) 239.0m/4.0h/0.17d, B: 0x1c.. $27.56474500000001(0.409825000000005) 0x8265425b72da87159b046ec8c04dd6c1edf79e8c88181b8fd7150c1920a9a057\n",
      "->T(d) 234.2m/3.9h/0.16d, B: 0xa2.. $27.56474500000001(0.409825000000005) 0x3c7e4690d015b22357f84f43219468795a841ebaf811a9e339e73198ed101be7\n",
      "->T(d) 241.6m/4.0h/0.17d, B: 0x73.. $28.593955(1.439034999999997) 0x4907491c2ab14cdac12fb1cdcd972d147d009632a8ddf6cdba1dbccffc1958b2\n",
      "->T(d) 233.8m/3.9h/0.16d, B: 0x83.. $28.593955(1.439034999999997) 0x6c4fa44e73373f80e8f9bd77aa9969afd0f70ccb68dd92dcc6d75aadce1113dd\n",
      "->T(d) 241.4m/4.0h/0.17d, B: 0x17.. $28.593955(1.439034999999997) 0x0aa144e026ccda8c2384ae8cf9ec8b6d6619bd20d73ff9bb062ecb8888b8b0c7\n",
      "->T(d) 235.2m/3.9h/0.16d, B: 0xa3.. $28.593955(1.439034999999997) 0x6f0d9d0756b159c7cba66df46b880e47021ba9cd2041dceebf078a45e793f01d\n",
      "->T(d) 238.1m/4.0h/0.17d, B: 0x6a.. $28.593955(1.439034999999997) 0xf299df6faab074b87fceeb1e8c353f49683020b6264a9eb7eb21b6939b23739c\n",
      "->T(d) 235.1m/3.9h/0.16d, B: 0x6e.. $28.593955(1.439034999999997) 0xfb618e660492a8d65c1097029d54af125511da613ba089a7f7ebc7b8384415bb\n",
      "->T(d) 241.7m/4.0h/0.17d, B: 0x17.. $29.623165000000004(2.4682449999999996) 0x811c4ccb19b5b2ae3f079a8a86e735a909c844a48fb51f1f1fb468d9a26bfca6\n",
      "->T(d) 233.2m/3.9h/0.16d, B: 0x46.. $29.623165000000004(2.4682449999999996) 0xf05405cce052a4f263f33b6c39b18ae6c10f2ad3167bb6a2273c464cd722f580\n",
      "->T(d) 246.7m/4.1h/0.17d, B: 0xad.. $29.623165000000004(2.4682449999999996) 0xc579c102c1af75ba094b0e8eecfc30172805e7e7220ecc64de5ba2e73a940470\n",
      "->T(d) 229.1m/3.8h/0.16d, B: 0x17.. $29.623165000000004(2.4682449999999996) 0xa25522e23f12255f2cd89b2a70c85cefb13dfd1f6cfc3d9902f95e2f55dc69bd\n",
      "->T(d) 240.1m/4.0h/0.17d, B: 0xad.. $29.623165000000004(2.4682449999999996) 0x25cfc9a59c86b4e9eda2dcad6aed652525616c285eb8d9aa2ceca4089c8247ad\n",
      "->T(d) 237.7m/4.0h/0.17d, B: 0x8a.. $29.623165000000004(2.4682449999999996) 0x425e5966947952c41a64591626ad74aaadf59b83fb034f7d1c58b2763e6bdbc8\n"
     ]
    }
   ],
   "source": [
    "pretty_cycle(largest[10]['row'][4]['cycle']['sales'])"
   ]
  },
  {
   "cell_type": "markdown",
   "id": "8b03c26f-df5b-4634-bee2-6cd8062d72a3",
   "metadata": {
    "pycharm": {
     "name": "#%% md\n"
    }
   },
   "source": [
    "We have found something here, this trader trades each nft between wallets within a 4 hour window??"
   ]
  },
  {
   "cell_type": "markdown",
   "id": "2654a8fa-4840-413f-a331-a33ee1e6b84d",
   "metadata": {
    "pycharm": {
     "name": "#%% md\n"
    }
   },
   "source": [
    "#### largest: how many times did were each nft involved in a transaction?"
   ]
  },
  {
   "cell_type": "code",
   "execution_count": 62,
   "id": "cd0cf64e-9f4b-4a88-8285-a859df8ea6a9",
   "metadata": {
    "pycharm": {
     "name": "#%%\n"
    }
   },
   "outputs": [
    {
     "data": {
      "text/plain": "(13193, 12874)"
     },
     "execution_count": 62,
     "metadata": {},
     "output_type": "execute_result"
    }
   ],
   "source": [
    "transactions = []\n",
    "for trade in largest:\n",
    "    _txs =  [sale['tx_hash'] for sale in trade['row'][4]['cycle']['sales']]\n",
    "    transactions.extend(_txs)\n",
    "len(transactions), len(set(transactions))"
   ]
  },
  {
   "cell_type": "markdown",
   "id": "b853555f-10fd-4c86-aa3e-0c45d025e725",
   "metadata": {
    "pycharm": {
     "name": "#%% md\n"
    }
   },
   "source": [
    "#### largest: What was the time between each transaction?"
   ]
  },
  {
   "cell_type": "code",
   "execution_count": 63,
   "id": "4e5e2177-bbb6-40e4-b9ee-2bbe9041736f",
   "metadata": {
    "pycharm": {
     "name": "#%%\n"
    }
   },
   "outputs": [],
   "source": [
    "import math\n",
    "def time_finder(cycle):\n",
    "    prev_time = cycle[0]['time']\n",
    "    times = []\n",
    "    for sale in cycle:\n",
    "        time_secs = sale['time']-prev_time\n",
    "        time_hours = time_secs/60/60\n",
    "        prev_time = sale['time']\n",
    "        time_hours = round(time_hours, 1)\n",
    "        times.append(time_hours)\n",
    "    return times"
   ]
  },
  {
   "cell_type": "code",
   "execution_count": 64,
   "id": "6b84520a-5653-40a1-9729-e425a9e62c7b",
   "metadata": {
    "pycharm": {
     "name": "#%%\n"
    }
   },
   "outputs": [
    {
     "name": "stdout",
     "output_type": "stream",
     "text": [
      "total times : 13193\n",
      "times between 3.4 and 4.6 : 11658 - 88.37p\n"
     ]
    }
   ],
   "source": [
    "time_found = []\n",
    "for trade in largest:\n",
    "    time_found.extend(time_finder(trade['row'][4]['cycle']['sales']))\n",
    "time_found = Counter(time_found)\n",
    "print(\"total times : %i\" % sum(time_found.values()))\n",
    "between_39_41 = time_found[3.4]+time_found[3.5]+time_found[3.6] +time_found[3.7] +time_found[3.8] +time_found[3.9] +time_found[4.0] +time_found[4.1] +time_found[4.2]+time_found[4.3]+time_found[4.4]+time_found[4.5]+time_found[4.6]\n",
    "print(\"times between 3.4 and 4.6 : %i - %.2fp\" % (between_39_41, between_39_41/sum(time_found.values())*100))"
   ]
  },
  {
   "cell_type": "code",
   "execution_count": 65,
   "id": "423a795d-9581-41ff-a5ea-f4a3af3470f9",
   "metadata": {
    "pycharm": {
     "name": "#%%\n"
    },
    "scrolled": true,
    "tags": []
   },
   "outputs": [
    {
     "data": {
      "text/plain": "[(2430.6, 1),\n (554.2, 1),\n (328.6, 1),\n (320.5, 1),\n (312.7, 1),\n (277.1, 1),\n (190.5, 1),\n (185.4, 1),\n (167.0, 1),\n (162.2, 1),\n (142.4, 1),\n (130.5, 1),\n (126.7, 1),\n (126.0, 1),\n (121.2, 1),\n (114.8, 2),\n (106.9, 1),\n (103.6, 1),\n (103.0, 1),\n (99.3, 1),\n (99.0, 1),\n (98.9, 1),\n (96.8, 1),\n (95.1, 1),\n (95.0, 4),\n (93.3, 1),\n (92.8, 1),\n (92.7, 2),\n (92.5, 2),\n (79.2, 1),\n (69.7, 1),\n (67.3, 1),\n (64.9, 1),\n (64.5, 1),\n (63.4, 1),\n (63.3, 2),\n (58.7, 1),\n (55.5, 2),\n (55.4, 4),\n (53.4, 1),\n (51.5, 3),\n (51.4, 3),\n (49.6, 1),\n (47.5, 6),\n (43.6, 1),\n (39.6, 10),\n (38.7, 1),\n (36.1, 1),\n (35.9, 1),\n (35.7, 4),\n (35.6, 4),\n (35.5, 1),\n (35.4, 1),\n (35.1, 1),\n (35.0, 1),\n (34.6, 1),\n (34.5, 1),\n (34.4, 1),\n (34.3, 1),\n (33.9, 1),\n (33.6, 1),\n (31.7, 9),\n (31.1, 1),\n (31.0, 1),\n (30.1, 1),\n (29.8, 1),\n (29.5, 1),\n (27.9, 1),\n (27.8, 5),\n (27.7, 15),\n (27.6, 3),\n (27.3, 2),\n (27.2, 1),\n (27.0, 2),\n (26.7, 1),\n (26.6, 1),\n (26.4, 1),\n (26.1, 1),\n (25.1, 1),\n (24.2, 1),\n (23.9, 1),\n (23.8, 14),\n (23.7, 12),\n (23.6, 3),\n (23.3, 1),\n (22.6, 1),\n (22.5, 2),\n (21.6, 1),\n (21.2, 1),\n (20.3, 1),\n (20.1, 2),\n (19.9, 13),\n (19.8, 65),\n (19.7, 22),\n (19.4, 2),\n (19.2, 1),\n (19.1, 1),\n (19.0, 2),\n (18.9, 1),\n (18.8, 1),\n (18.6, 2),\n (18.5, 4),\n (18.4, 1),\n (18.3, 1),\n (18.2, 3),\n (16.9, 1),\n (16.8, 1),\n (16.7, 1),\n (15.9, 10),\n (15.8, 23),\n (15.7, 1),\n (14.4, 1),\n (13.6, 1),\n (13.4, 1),\n (12.2, 1),\n (12.1, 5),\n (12.0, 9),\n (11.9, 62),\n (11.8, 51),\n (11.7, 2),\n (11.5, 4),\n (10.4, 1),\n (9.8, 1),\n (9.6, 1),\n (9.1, 2),\n (8.7, 3),\n (8.4, 1),\n (8.3, 3),\n (8.2, 2),\n (8.1, 4),\n (8.0, 19),\n (7.9, 173),\n (7.8, 9),\n (7.7, 4),\n (7.6, 3),\n (7.5, 5),\n (7.4, 3),\n (7.3, 3),\n (7.2, 1),\n (7.1, 3),\n (7.0, 5),\n (6.9, 7),\n (6.7, 2),\n (6.6, 2),\n (6.5, 3),\n (6.4, 3),\n (6.3, 1),\n (6.2, 3),\n (6.1, 3),\n (6.0, 1),\n (5.9, 1),\n (5.7, 3),\n (5.6, 3),\n (5.5, 9),\n (5.4, 3),\n (5.3, 11),\n (5.2, 2),\n (5.1, 2),\n (5.0, 6),\n (4.9, 5),\n (4.8, 9),\n (4.7, 8),\n (4.6, 10),\n (4.5, 20),\n (4.4, 41),\n (4.3, 69),\n (4.2, 84),\n (4.1, 328),\n (4.0, 5464),\n (3.9, 5206),\n (3.8, 246),\n (3.7, 79),\n (3.6, 61),\n (3.5, 36),\n (3.4, 14),\n (3.3, 6),\n (3.2, 6),\n (3.1, 6),\n (3.0, 6),\n (2.9, 1),\n (2.8, 3),\n (2.7, 5),\n (2.6, 5),\n (2.5, 3),\n (2.4, 5),\n (2.3, 3),\n (2.2, 3),\n (2.1, 1),\n (2.0, 2),\n (1.9, 3),\n (1.8, 5),\n (1.7, 1),\n (1.4, 1),\n (1.3, 4),\n (1.2, 2),\n (1.1, 1),\n (1.0, 7),\n (0.9, 2),\n (0.8, 8),\n (0.7, 7),\n (0.6, 2),\n (0.5, 1),\n (0.4, 2),\n (0.3, 2),\n (0.1, 3),\n (0.0, 619)]"
     },
     "execution_count": 65,
     "metadata": {},
     "output_type": "execute_result"
    }
   ],
   "source": [
    "sorted(time_found.items(), key=lambda x:x[0], reverse=True)"
   ]
  },
  {
   "cell_type": "code",
   "execution_count": 67,
   "outputs": [
    {
     "data": {
      "text/plain": "{'sales': [{'buyer': '0x8acc1421ec98689461ff5777de8ad6648dc6d643',\n   'price_usd': 17.679150000000003,\n   'time': 1549545195,\n   'tx_hash': '0xf5da5dfc2c0bffecc3a588fd1921572dbd7b3cf809624e890f1828c83d0af83b',\n   'nft_id': '41303_Etheremon'},\n  {'buyer': '0x463215edb66fb6a8f0c979e739a731977617699f',\n   'price_usd': 17.679150000000003,\n   'time': 1549559611,\n   'tx_hash': '0x570c345f9c1f23c31f6bc11dd535e9e5e9bc47036cc7c6684f433ab1f432c210',\n   'nft_id': '41303_Etheremon'},\n  {'buyer': '0x68d31cb3825e559b1e5c0665f2d65d06a17fce1a',\n   'price_usd': 20.56405,\n   'time': 1549893534,\n   'tx_hash': '0xdfe909bef90fde2106d6901cc807b00230425fb3e4abc7c49dd0ccbd2eeb8b33',\n   'nft_id': '41303_Etheremon'},\n  {'buyer': '0xa21e0974137bf8400eb7dca606d9dcb190d79ed9',\n   'price_usd': 20.56405,\n   'time': 1549907899,\n   'tx_hash': '0x9eed65758324a59107cd8d29b201c0d6ff2dd4e96e431ccb4e6fadca3332b517',\n   'nft_id': '41303_Etheremon'},\n  {'buyer': '0x8acc1421ec98689461ff5777de8ad6648dc6d643',\n   'price_usd': 20.54875,\n   'time': 1549974488,\n   'tx_hash': '0xd59a30e5e165fdcb938a8130f397ab62267d399a15011232faad5e9c5a1f2b99',\n   'nft_id': '41303_Etheremon'}]}"
     },
     "execution_count": 67,
     "metadata": {},
     "output_type": "execute_result"
    }
   ],
   "source": [
    "trade['row'][4]['cycle']"
   ],
   "metadata": {
    "collapsed": false,
    "pycharm": {
     "name": "#%%\n"
    }
   }
  },
  {
   "cell_type": "markdown",
   "id": "779f33f5-d556-4119-91b0-ddd9eb8271c9",
   "metadata": {
    "pycharm": {
     "name": "#%% md\n"
    }
   },
   "source": [
    "##### HIS BROTHERS AND SISTERS?"
   ]
  },
  {
   "cell_type": "markdown",
   "id": "85216596-94cc-4c75-9436-ddc77ae56db6",
   "metadata": {
    "pycharm": {
     "name": "#%% md\n"
    }
   },
   "source": [
    "0x8acc1421ec98689461ff5777de8ad6648dc6d643\n",
    "{'avg': 2.2519553917404505, 'count': 617, 'total_profit': 1389.456476703858}\n",
    "\n",
    "0x00c9da65b33b4f7034b5f50b90f5f6d8320d6ab8\n",
    "{'avg': 2.19609054383117, 'count': 616, 'total_profit': 1352.7917750000008}\n",
    "\n",
    "0xa21e0974137bf8400eb7dca606d9dcb190d79ed9\n",
    "{'avg': 2.3006426628664522, 'count': 614, 'total_profit': 1412.5945950000016}\n",
    "\n",
    "0x838c14eb3eabe4cb6a696d286c7b2a466629d0ee\n",
    "{'avg': 2.3572472385620915, 'count': 612, 'total_profit': 1442.6353100000001}\n",
    "\n",
    "0x1c1ef71445010114f41ac1feb32dbf5d7281e90f\n",
    "{'avg': 2.3474603371710523, 'count': 608, 'total_profit': 1427.2558849999998}\n",
    "\n",
    "0x6a47b60c377450a460d3eb828d534ee66eead668\n",
    "{'avg': 2.2968711341059636, 'count': 604, 'total_profit': 1387.310165000002}\n",
    "\n",
    "0xe738725cdcc41c91f734dd7b5b9659df994d6dda\n",
    "{'avg': 2.2413728476821193, 'count': 604, 'total_profit': 1353.7892000000002}\n",
    "\n",
    "0x463215edb66fb6a8f0c979e739a731977617699f\n",
    "{'avg': 2.170596011705686, 'count': 598, 'total_profit': 1298.0164150000003}\n",
    "\n",
    "0x179d698f5a1c84c3ff4c5eb04e553c15a0c1d8d8\n",
    "{'avg': 2.2783097403685093, 'count': 597, 'total_profit': 1360.1509150000002}\n",
    "\n",
    "0x1e7f320cf5a938465d501f6bd6c405feb3a70f6c\n",
    "{'avg': 2.2265507202680044, 'count': 597, 'total_profit': 1329.2507799999985}\n",
    "\n",
    "0x6e13c7e25c2cda6f5c8c4e431bee480bfb312c28\n",
    "{'avg': 2.260721519524621, 'count': 589, 'total_profit': 1331.5649750000016}\n",
    "\n",
    "0x236ef21dc36d0aec3990dd5ee84a9d5320644262\n",
    "{'avg': 2.3027468534482822, 'count': 580, 'total_profit': 1335.5931750000036}\n",
    "\n",
    "0xf5aee6d7b838d5ede8aa65d31dbc11116545180c\n",
    "{'avg': 2.279057060869569, 'count': 575, 'total_profit': 1310.4578100000022}\n",
    "\n",
    "0xbabda06088c242fb2a763aa7cc99706cb77ba735\n",
    "{'avg': 2.312860959860382, 'count': 573, 'total_profit': 1325.269329999999}\n",
    "\n",
    "0x68d31cb3825e559b1e5c0665f2d65d06a17fce1a\n",
    "{'avg': 2.1250271578947357, 'count': 570, 'total_profit': 1211.2654799999993}\n",
    "\n",
    "0xa37e6b46fa8e1a6f1ddbf035c4e0230b8414ff04\n",
    "{'avg': 2.152705511463846, 'count': 567, 'total_profit': 1220.5840250000008}\n",
    "\n",
    "0xcdcadf0279ee021a0c40a31ac10fa69e028e21d0\n",
    "{'avg': 2.305673079710144, 'count': 552, 'total_profit': 1272.7315399999993}\n",
    "\n",
    "0x7316e9cf94bef40d4981d66a5c41c38b6b32454c\n",
    "{'avg': 2.2200820802919665, 'count': 548, 'total_profit': 1216.6049799999976}\n",
    "\n",
    "0x87b77fabfeb869150b8e1b9462603f9a639c5fae\n",
    "{'avg': 2.2851332674199623, 'count': 531, 'total_profit': 1213.405765}\n",
    "\n",
    "0xadd12bd6375dc21d579cc4abcfa04864d6ac9a62\n",
    "{'avg': 2.2776891950757587, 'count': 528, 'total_profit': 1202.6198950000005}"
   ]
  },
  {
   "cell_type": "code",
   "execution_count": 61,
   "id": "3f718518-976c-455c-9bdf-e8dd17f89aa5",
   "metadata": {
    "pycharm": {
     "name": "#%%\n"
    }
   },
   "outputs": [
    {
     "name": "stdout",
     "output_type": "stream",
     "text": [
      "19\n",
      "0x00c9da65b33b4f7034b5f50b90f5f6d8320d6ab8\n",
      "   T(d) 0.0m/0.0h/0.00d, B: 0x00.. $30.9591(0.0) 0x50e0b3e4a092a94c962a9d54d39762690b8b2521d251740eb8e3e1cb8d1041de\n",
      "->T(d) 240.2m/4.0h/0.17d, B: 0xad.. $31.2507(0.29159999999999897) 0x42065515d455998c43c2beceb083758f24c6df4793cd16365538071ea3cc09aa\n",
      "->T(d) 235.3m/3.9h/0.16d, B: 0x00.. $31.2507(0.29159999999999897) 0x13110bfd1f1730b6e81fa8e136332fd7266911b121ab5837ae6ed8b54aff66be\n",
      "\n",
      "0xa21e0974137bf8400eb7dca606d9dcb190d79ed9\n",
      "   T(d) 0.0m/0.0h/0.00d, B: 0xa2.. $20.4022(0.0) 0x8c8d50a11fecba7cabe85c9758f3e66a40ba26e4f13e36c42330e951c3fd2302\n",
      "->T(d) 238.7m/4.0h/0.17d, B: 0xf5.. $20.4022(0.0) 0x018b7022be5c5f2a31b4a00c96a83b52a64318478211f9e387b2016c0a7e0d51\n",
      "->T(d) 236.9m/3.9h/0.16d, B: 0x00.. $20.4022(0.0) 0xa8f94a8d5543679f60b28dda00b39700c87df4a3a71de7afde1cd65d7e1058cb\n",
      "->T(d) 233.7m/3.9h/0.16d, B: 0x6e.. $20.640200000000004(0.2380000000000031) 0x41c725a89a04ed6d7e3769bc930fe75144647d35938cea7779fc31c4d0dff2b6\n",
      "->T(d) 247.8m/4.1h/0.17d, B: 0x83.. $20.640200000000004(0.2380000000000031) 0x7d404e1a79cfbf728df1fe758bd850caf2d50b7fb4a7c21c200f6f39aafbfaff\n",
      "->T(d) 227.5m/3.8h/0.16d, B: 0x1e.. $20.640200000000004(0.2380000000000031) 0x26d2f653c14636b2cc9b6969bced524502dc2fe26b32f262cd290f1a2d615a3f\n",
      "->T(d) 239.4m/4.0h/0.17d, B: 0xf5.. $20.640200000000004(0.2380000000000031) 0xdd4e8f1877a34d19bba5f6e1a777720a22288c6c3e65b403a62f0b53c689426a\n",
      "->T(d) 236.9m/3.9h/0.16d, B: 0x23.. $20.640200000000004(0.2380000000000031) 0x70aacd3577f6b074ab769f6087d967f3e3023aae5950f9240ef6350e906112a8\n",
      "->T(d) 238.4m/4.0h/0.17d, B: 0xa2.. $20.640200000000004(0.2380000000000031) 0xd5c59994bfe8fbbf2511032d083d24f61630b428a7573c2bfe9932a83ca80468\n",
      "\n",
      "0x838c14eb3eabe4cb6a696d286c7b2a466629d0ee\n",
      "   T(d) 0.0m/0.0h/0.00d, B: 0x83.. $44.04393500000001(0.0) 0x1cba0ede7c16919ace5f866e6304246cb73bd2dd14e523ba8337647d80729dfa\n",
      "->T(d) 234.5m/3.9h/0.16d, B: 0x1c.. $41.8806(-2.1633350000000107) 0x7087582f711538e3f5abfbc2ca339c34ccbeed0502bb07029b098fd6d9219cfb\n",
      "->T(d) 260.9m/4.3h/0.18d, B: 0x17.. $47.1486(3.10466499999999) 0xafb48ef5d4b33c9d22f38d817b25254c50baccf8b58b1af2a3bf979988cb9b76\n",
      "->T(d) 213.1m/3.6h/0.15d, B: 0x00.. $47.1486(3.10466499999999) 0xca0f2b36f047e5cd86bed58c61d99a54ff1383afba68b4b05e39e8134fcacaf6\n",
      "->T(d) 241.8m/4.0h/0.17d, B: 0xa2.. $44.5146(0.4706649999999897) 0x4dcbaa12544380710f4a4b144d5b64b3d96401d0456ed9cae42400e697dc8226\n",
      "->T(d) 233.6m/3.9h/0.16d, B: 0x1e.. $41.8806(-2.1633350000000107) 0x449be0d80d60a5f2090c5801aa2853313d9ff911019d14754a1ae4372e7d2c91\n",
      "->T(d) 241.5m/4.0h/0.17d, B: 0x17.. $47.1486(3.10466499999999) 0x757b149c2b097656ff11ee80c02bf653ec6e0fd64036ab1e9042b8d0d57a4a6e\n",
      "->T(d) 233.6m/3.9h/0.16d, B: 0x00.. $48.20380499999999(4.159869999999977) 0x8ef77762e828c6cae2cc93d520f4b2b4a008396ba24e45372f6d24d7ad11ecaf\n",
      "->T(d) 250.9m/4.2h/0.17d, B: 0x1c.. $37.432005(-6.611930000000015) 0xa7eb2f4cbff24b6500535f03785b823ce00ed9a9aa22185191dc2a2ea2ea2de4\n",
      "->T(d) 223.3m/3.7h/0.16d, B: 0x6e.. $48.20380499999999(4.159869999999977) 0x17897effebc8e0e1aa35df83c0d91cdda15f2be3d9d8694adcafd00d3530d3bd\n",
      "->T(d) 240.7m/4.0h/0.17d, B: 0x8a.. $42.817905(-1.2260300000000086) 0x3f8c1e65f8bfcf5ab96b7d62aa2dd6fefa8e9ae81d461f4d38f712b8ea4ae5c8\n",
      "->T(d) 235.2m/3.9h/0.16d, B: 0xba.. $48.20380499999999(4.159869999999977) 0x3422fe5e7e88359c0666d32310781e166156b863aeb215e29ce6fda8ce0f4bf9\n",
      "->T(d) 239.2m/4.0h/0.17d, B: 0x6e.. $48.20380499999999(4.159869999999977) 0xad903b1897fc343786ff56f3cd13405e0c5b21c13990e473e50fbecb969110f2\n",
      "->T(d) 237.2m/4.0h/0.16d, B: 0x83.. $45.77027000000001(1.7263349999999988) 0x444fa0f54e6c9180d9a70e90f8095023cddb134f79b864e429d0113b5e3ba210\n",
      "\n",
      "0x1c1ef71445010114f41ac1feb32dbf5d7281e90f\n",
      "   T(d) 0.0m/0.0h/0.00d, B: 0x1c.. $24.261640000000003(0.0) 0x9cf0092347c8dd45e4c63ee50253bd9343d41880cd393896484f322ef651f5b9\n",
      "->T(d) 240.3m/4.0h/0.17d, B: 0x00.. $24.261640000000003(0.0) 0x05cb2dc665174671363cc5dd3851c980bdf626c5fcf46d5f2c93e6423b26471f\n",
      "->T(d) 237.6m/4.0h/0.16d, B: 0x8a.. $24.261640000000003(0.0) 0x1464cab0e36b1a6761396496f8ade7ac6d3d9caf4b1bd0b0d199013cbc5c2a68\n",
      "->T(d) 237.6m/4.0h/0.17d, B: 0x6e.. $24.261640000000003(0.0) 0xdcb1ec5c0d2fd3e1b93bb83d767fd26f7cccdace07cb961a1a8c222a5f603364\n",
      "->T(d) 235.3m/3.9h/0.16d, B: 0x00.. $24.261640000000003(0.0) 0x6fdee3141bfcff4619ebf24f3b7ccb8d70af2cae94ec197b7bbfa47825856eb4\n",
      "->T(d) 239.5m/4.0h/0.17d, B: 0x73.. $24.261640000000003(0.0) 0xe3d0eebcb9069541fb378eec9b25b95826bd547c23e5c40e98be150eeadc3656\n",
      "->T(d) 235.3m/3.9h/0.16d, B: 0x6e.. $23.948145(-0.3134950000000032) 0x4a5ea994d856c89e302ce63342b34fda3f653f667d245e460d036c9d4a74c343\n",
      "->T(d) 240.1m/4.0h/0.17d, B: 0xf5.. $23.948145(-0.3134950000000032) 0xf1c696647885159127d449eda9dd2e2f0eb06c32d3092c3d1b24141eff1c7899\n",
      "->T(d) 235.0m/3.9h/0.16d, B: 0xa2.. $23.948145(-0.3134950000000032) 0x9a4edbb167599af7acc5abe1a3fc9491b83afb5130f12e28a1033950c25ff70c\n",
      "->T(d) 240.8m/4.0h/0.17d, B: 0x17.. $23.948145(-0.3134950000000032) 0xf3e88b0448ef2542be8bfdf5419b937776905e32b1343d217b42e0b559c2bcdb\n",
      "->T(d) 237.2m/4.0h/0.16d, B: 0xa3.. $23.948145(-0.3134950000000032) 0x424f818131d871089372d5a1c04adffe8ec7f2ce4f3581dea13501f8e086150c\n",
      "->T(d) 237.1m/4.0h/0.16d, B: 0xba.. $23.948145(-0.3134950000000032) 0x49fe3475451bcb176288d544f51cd70661864c748a5baf264fa13a061506690e\n",
      "->T(d) 234.5m/3.9h/0.16d, B: 0x46.. $24.00814(-0.2535000000000025) 0x70d220d584db03824ba40c0a4a7c2820966f746e2b47fdc0d0c498071053d138\n",
      "->T(d) 240.3m/4.0h/0.17d, B: 0x6a.. $24.00814(-0.2535000000000025) 0x49391d92b62a448a8c4742675a251cb96929f05cc0d8d722a837a0d4d76ee186\n",
      "->T(d) 239.8m/4.0h/0.17d, B: 0x8a.. $24.00814(-0.2535000000000025) 0x7ad0522ee01af6767ad5a14d1f712f2d5b836996144ef2a9167921c465c63a50\n",
      "->T(d) 238.2m/4.0h/0.17d, B: 0xad.. $24.00814(-0.2535000000000025) 0xa8a6c0dec420238109619a8ada9e13c6ec00f082a47155cebe2f1ba6c51ac036\n",
      "->T(d) 233.8m/3.9h/0.16d, B: 0x6e.. $24.00814(-0.2535000000000025) 0x5b9a5884ec6e605f9713076db846f984170a6dfefd5d14c07c0ff1fd7ad5b587\n",
      "->T(d) 237.7m/4.0h/0.17d, B: 0x68.. $24.00814(-0.2535000000000025) 0x76de68fec24517fef426ae61431674c1a324f92a3e1fe63ba54aa4fb53f3f07d\n",
      "->T(d) 235.3m/3.9h/0.16d, B: 0xa2.. $27.312090000000005(3.0504500000000014) 0xf368d33bbc498509a8e6c1eab849778574256297786b5b50c712ae99c0629fa5\n",
      "->T(d) 239.9m/4.0h/0.17d, B: 0x73.. $27.312090000000005(3.0504500000000014) 0x713f7c47b1424a54fb629b86641d631eea2edaf8d017c20510ce9c6fa89b77a5\n",
      "->T(d) 234.6m/3.9h/0.16d, B: 0x17.. $27.312090000000005(3.0504500000000014) 0xf7b20612aceda2e5c8a62e4f178c07853d6b9bd12bcad632280226e4bcad94d5\n",
      "->T(d) 241.4m/4.0h/0.17d, B: 0xa2.. $27.312090000000005(3.0504500000000014) 0x8427057008838ed811269d7cd270b01c0ad9db1936f78f20f5d55dcc00fe6c73\n",
      "->T(d) 234.1m/3.9h/0.16d, B: 0x1c.. $27.312090000000005(3.0504500000000014) 0x8966e41f67f38f48209a2c0f6f576e34e1699002e23b10ea5cdd83c56d74d862\n",
      "\n",
      "0x6a47b60c377450a460d3eb828d534ee66eead668\n",
      "   T(d) 0.0m/0.0h/0.00d, B: 0x6a.. $40.94054999999999(0.0) 0x13585f006d24df8f9108e639067656a05c24963e0ee57f8717442a83aff949f0\n",
      "->T(d) 233.9m/3.9h/0.16d, B: 0xa3.. $40.94054999999999(0.0) 0x94438e03e908b49ca41de5c529f04d21995976b3018d314589a968a8e6b4e14c\n",
      "->T(d) 236.4m/3.9h/0.16d, B: 0x17.. $40.94054999999999(0.0) 0xfb9e70293245c78b957c5e1a83a38dace461a433f01e257ae59885f79538d49f\n",
      "->T(d) 239.4m/4.0h/0.17d, B: 0x83.. $40.94054999999999(0.0) 0x4e3c247a977e80aea1340c92c601f3be5adac1503e499db53337cb652195ea85\n",
      "->T(d) 234.8m/3.9h/0.16d, B: 0x8a.. $40.94054999999999(0.0) 0x1c994ac1a4d85e6a412d972d3bd4510a1f439a02011d2cfb273400f5f5d9d420\n",
      "->T(d) 239.9m/4.0h/0.17d, B: 0x68.. $39.1377(-1.8028499999999852) 0x2e5a5ff82a694f1dd99bceb3b7221059b3daa7d55bd852ef21ada0c011fbacee\n",
      "->T(d) 234.7m/3.9h/0.16d, B: 0x46.. $39.1377(-1.8028499999999852) 0x78d44b4aea4e32a63fed00862661b32b16940454ef7f367d1363353293d0100f\n",
      "->T(d) 3090.0m/51.5h/2.15d, B: 0xe7.. $44.07479999999999(3.1342500000000015) 0xa417ca84414a84a6e04d94f2af6db81e00c05a16a110ae32fa382dbb438a0a3d\n",
      "->T(d) 235.7m/3.9h/0.16d, B: 0x23.. $44.07479999999999(3.1342500000000015) 0x81ecb1887028233e830fd0dd53aa2b8736a1008f4ca8611c0393b2338dccc428\n",
      "->T(d) 240.0m/4.0h/0.17d, B: 0xba.. $44.07479999999999(3.1342500000000015) 0x5ca86e8abef91cfa5beed6894a55a6ee982ada10756f44741abcee0ca39224cc\n",
      "->T(d) 234.7m/3.9h/0.16d, B: 0xcd.. $44.07479999999999(3.1342500000000015) 0xde37173d9671d7a0e335bd390bb5fa93cbdad3d309bede4db1758d53823414ea\n",
      "->T(d) 240.0m/4.0h/0.17d, B: 0xa2.. $49.61564999999999(8.6751) 0x5b587fd4629817ed87a1e2bc3c0ecf129e1c2d75d88407cbba78a36a960df345\n",
      "->T(d) 243.0m/4.0h/0.17d, B: 0x46.. $49.61564999999999(8.6751) 0x2a2d9fb04cfc19aa41b3ec67bbc3bd8b1f214c64681eaaf771cc16f3b28a01cd\n",
      "->T(d) 422.8m/7.0h/0.29d, B: 0x73.. $49.61564999999999(8.6751) 0x4c67fba520f4a7e0eba55c7d78eb84967c3474cdb992ae14be79f009de2deed1\n",
      "->T(d) 228.1m/3.8h/0.16d, B: 0x83.. $49.61564999999999(8.6751) 0xc99d931d9d00b3d6f3c8f8c728f6f166cdfbb3481a7d8c251391a72f470b532e\n",
      "->T(d) 58.1m/1.0h/0.04d, B: 0x8a.. $49.61564999999999(8.6751) 0x550788b130dd6240766adfd19279d35d9206b112f497490ba2e6718984f74a25\n",
      "->T(d) 238.7m/4.0h/0.17d, B: 0x6e.. $49.61564999999999(8.6751) 0xf299650bc47663743738a5ad0b38ebd5b0d1db16073af82bdb5fea1cb3278582\n",
      "->T(d) 234.2m/3.9h/0.16d, B: 0xa3.. $53.74844999999999(12.807900000000004) 0xdaeac5fa0261abb08a4d8536a79974152c2c27cb9bc80e48a608ae7f0993f450\n",
      "->T(d) 234.8m/3.9h/0.16d, B: 0x68.. $53.74844999999999(12.807900000000004) 0xb5ccacd7ad304a9599589c644350b44d06515c321dc4404e31fc863d68916efd\n",
      "->T(d) 477.0m/8.0h/0.33d, B: 0x73.. $53.74844999999999(12.807900000000004) 0xccdbef80592beafc838a24002a1074a4b4ddad56bd383d0e2e01f32cd164ca37\n",
      "->T(d) 239.6m/4.0h/0.17d, B: 0xcd.. $53.74844999999999(12.807900000000004) 0xb8464443161ffda9868a3486443a1961651a277547cacf6001d38c94b94b713d\n",
      "->T(d) 234.1m/3.9h/0.16d, B: 0x17.. $53.74844999999999(12.807900000000004) 0xa362b6b219f8e9f12051c931ad461d7004a785bd274e548855338b3662e4da08\n",
      "->T(d) 239.2m/4.0h/0.17d, B: 0xa2.. $50.69294999999999(9.752400000000002) 0x4719af8f61274f6b35feb547533634ea2d1d6797d495b6b8ae81d058e65ef856\n",
      "->T(d) 236.4m/3.9h/0.16d, B: 0x83.. $50.69294999999999(9.752400000000002) 0xcde4b0e448efdb134775e76bc397215b2cde25dc884d2743cb271863070ef863\n",
      "->T(d) 239.5m/4.0h/0.17d, B: 0x1e.. $50.69294999999999(9.752400000000002) 0x2d901e276e62c39b3965fdfbc638702d2c6500edc5e72c18a9abfce200a75b27\n",
      "->T(d) 234.8m/3.9h/0.16d, B: 0x1c.. $50.69294999999999(9.752400000000002) 0x84c40c8958e21ab3e4a2b618a9101a41deba20adb16779e395f9034192c4245f\n",
      "->T(d) 239.6m/4.0h/0.17d, B: 0x87.. $50.69294999999999(9.752400000000002) 0xe62b765597e63f77eb92f584749d0d0cfaede33eec3afc2570adad20024da20d\n",
      "->T(d) 235.0m/3.9h/0.16d, B: 0x83.. $50.69294999999999(9.752400000000002) 0x79395c852a75cd73631b54bc8449611ca70f2cbba27daa70d948c0f564e48bfb\n",
      "->T(d) 244.1m/4.1h/0.17d, B: 0x6a.. $49.94114999999999(9.000600000000006) 0x4cbb133e10c935ebb5da797a7a9b350b0984da4d90f7554795fa4a68378a4f46\n",
      "\n",
      "0xe738725cdcc41c91f734dd7b5b9659df994d6dda\n",
      "   T(d) 0.0m/0.0h/0.00d, B: 0xe7.. $21.03408(0.0) 0x27e5fda9710bae72f9e0763d8819c8826fba341decc9227093784d9dbc0bd9d2\n",
      "->T(d) 238.0m/4.0h/0.17d, B: 0xa2.. $21.03408(0.0) 0x1b0ba64003026fff7abd0032982db3f8e9a2af70e0957822e01c6c3b83bb210e\n",
      "->T(d) 237.0m/3.9h/0.16d, B: 0x00.. $23.61393(2.5798500000000004) 0x7bc7b4ae8fa82c9ecb7dc694a8c163521e82edfb8befd866dffe394981725599\n",
      "->T(d) 239.0m/4.0h/0.17d, B: 0xe7.. $23.61393(2.5798500000000004) 0x64cf26ba331199f21cc7bbf71e6eeec39e9beefe4ec466c8527e2869b572e411\n",
      "\n",
      "0x463215edb66fb6a8f0c979e739a731977617699f\n",
      "   T(d) 0.0m/0.0h/0.00d, B: 0x46.. $42.29143499999999(0.0) 0x9afdd79768d79d58db62e1b8aceca8d7e9c619b5c6207b048cb304794189bce9\n",
      "->T(d) 242.5m/4.0h/0.17d, B: 0x83.. $45.814155(3.5227200000000067) 0x09873f6d1adb30de6f154747635592cf3bc7b1bbd9695773165632ebbcffb2d6\n",
      "->T(d) 238.6m/4.0h/0.17d, B: 0x87.. $45.814155(3.5227200000000067) 0x9b09041de07705d08affaea849d67b66e8a7834f87544ca59a979b1c751f98c4\n",
      "->T(d) 242.2m/4.0h/0.17d, B: 0x46.. $45.814155(3.5227200000000067) 0x1b7b7b49c8bcf60948c21fc4bf604759a9e892e20d6b0005bda037b7ba4a2898\n",
      "\n",
      "0x179d698f5a1c84c3ff4c5eb04e553c15a0c1d8d8\n",
      "   T(d) 0.0m/0.0h/0.00d, B: 0x17.. $48.9153(0.0) 0x34a105185130884fb2eb59f3e47860764c3f9767e05314f39a333a5d1eae5636\n",
      "->T(d) 243.7m/4.1h/0.17d, B: 0x6a.. $48.9153(0.0) 0x97829d2c516d971ace8a2669d6fb1564a891e03bd700f880629fd212949223b2\n",
      "->T(d) 231.8m/3.9h/0.16d, B: 0x1e.. $51.60119999999999(2.6858999999999895) 0x0df7a57c1c0225188b5a6f709ed33920354143706045d81aacec058950da88a7\n",
      "->T(d) 234.7m/3.9h/0.16d, B: 0x00.. $51.60119999999999(2.6858999999999895) 0xb75a47ac6e94ec393fb8313abee9530c39df21f4d0ef297414c2133a5d47776c\n",
      "->T(d) 239.8m/4.0h/0.17d, B: 0x8a.. $51.60119999999999(2.6858999999999895) 0x3c720ecbb9a531864eaf7fdbb8e066466faf08f08907c22606887e32be85fb8b\n",
      "->T(d) 236.5m/3.9h/0.16d, B: 0x00.. $51.60119999999999(2.6858999999999895) 0x8ac4ba9a35ad2d033e66353ebe0bb4493f43782ad524b6abaa880b6c7a842dd3\n",
      "->T(d) 239.9m/4.0h/0.17d, B: 0x23.. $51.60119999999999(2.6858999999999895) 0xf5f0cb0d81febca6f3c21d31a35993dd5dc99e6ec5e758743573d7c1286a54fd\n",
      "->T(d) 233.6m/3.9h/0.16d, B: 0x73.. $51.60119999999999(2.6858999999999895) 0xb1d71192385cd4286f3abaad160afb5086e7c5c83ddd1145253dae3c2a20a07d\n",
      "->T(d) 240.5m/4.0h/0.17d, B: 0x6a.. $51.48359999999999(2.5682999999999865) 0x0b7302b5b1546b6b259a0d62f244b1dabb42a0f6109d97dcc55051362d8fe023\n",
      "->T(d) 238.3m/4.0h/0.17d, B: 0x1e.. $51.48359999999999(2.5682999999999865) 0xf7e941374aba3fdf57dd15ab8689a26d6aa68a23e3cd0ce370e9ba97e838ffef\n",
      "->T(d) 236.6m/3.9h/0.16d, B: 0x1c.. $51.48359999999999(2.5682999999999865) 0x3fb523121ebacb327d6bf57c903179633ad2459e357034221dced29a053c9cd6\n",
      "->T(d) 234.6m/3.9h/0.16d, B: 0x46.. $51.48359999999999(2.5682999999999865) 0xd38985bf9df05bf53b136da01b28dfbb3ccc224a15f3b9529eb020a94514287a\n",
      "->T(d) 240.8m/4.0h/0.17d, B: 0xad.. $51.48359999999999(2.5682999999999865) 0xf8b3b810e348c01f8b89754145410df9a9a631a1d07e1637d861332d53432928\n",
      "->T(d) 234.1m/3.9h/0.16d, B: 0x17.. $51.48359999999999(2.5682999999999865) 0xbc55b2aa6ec742f342fbbd540f733bead2888aa293501e9176ad131953c350ca\n",
      "\n",
      "0x1e7f320cf5a938465d501f6bd6c405feb3a70f6c\n",
      "   T(d) 0.0m/0.0h/0.00d, B: 0x1e.. $31.496530000000003(0.0) 0xbf59c0746441e2874f9e62be39eccceaf1ad834b09fa70ddaee173baef51261e\n",
      "->T(d) 238.1m/4.0h/0.17d, B: 0xe7.. $31.496530000000003(0.0) 0x2388966e1d4bfdafe22a42556f6e6f15b6b2b38b4f010ad73922eef98f32ea67\n",
      "->T(d) 237.1m/4.0h/0.16d, B: 0x73.. $34.228415000000005(2.731885000000002) 0xbaf526d3a3c671184d5b14059e157b1c49f9c31e1efbee2ea20c69e3e877fb1b\n",
      "->T(d) 235.8m/3.9h/0.16d, B: 0xad.. $34.228415000000005(2.731885000000002) 0x9f34c363c4dfaac05f34e3b73f9a8f036428084818e7246b79a6b7fecdf61b45\n",
      "->T(d) 239.2m/4.0h/0.17d, B: 0xba.. $34.228415000000005(2.731885000000002) 0x1b31bba5fb88e8d54786ddf393093abd639061898323f81fec98fc252a218ddf\n",
      "->T(d) 547.4m/9.1h/0.38d, B: 0x83.. $34.228415000000005(2.731885000000002) 0xf14e75f9c64761ac8e1c1911760cbe24d68a4fad04a79cbd55ec72efc9d31b7f\n",
      "->T(d) 1113.7m/18.6h/0.77d, B: 0xe7.. $35.46972(3.973189999999999) 0x6f17c1b723aa330b39ff8ce601e3aa27aa77226a507a115fdb037913824f586d\n",
      "->T(d) 238.5m/4.0h/0.17d, B: 0x23.. $35.46972(3.973189999999999) 0xce673c92f78a663b622b62fafc9ed46fb26793919cc630adb7af3821d4882e0b\n",
      "->T(d) 235.6m/3.9h/0.16d, B: 0xba.. $35.46972(3.973189999999999) 0x571316592fa4b68dc2e5a03040868661f4c0f035421742380b357754d705a6e0\n",
      "->T(d) 240.5m/4.0h/0.17d, B: 0xcd.. $35.46972(3.973189999999999) 0x04d494333c2e26fd51a212d9ad3daba0fa3b562f79cd021e84bc90f77254f792\n",
      "->T(d) 234.2m/3.9h/0.16d, B: 0xa2.. $39.928785(8.432254999999994) 0xccf7c4059c48e7ea82e55c72637281fb13e5223cfb76f859005da353225c3d2b\n",
      "->T(d) 253.7m/4.2h/0.18d, B: 0x46.. $39.928785(8.432254999999994) 0x62a55f9cca39170e2eebf2cf31534ff553e5f5d263b1318ba10377dc5501449b\n",
      "->T(d) 388.1m/6.5h/0.27d, B: 0x8a.. $39.928785(8.432254999999994) 0x47920f0eebaec88d8b9ba143a44e8e28e795e3eb64d932740b4826003064e482\n",
      "->T(d) 74.3m/1.2h/0.05d, B: 0xe7.. $39.928785(8.432254999999994) 0x83d26b32a97fcc0f26a9f1394004fb04403dba2619c9b0d6d66789c4a5147ea1\n",
      "->T(d) 233.9m/3.9h/0.16d, B: 0xad.. $39.928785(8.432254999999994) 0x1f9944d48c288380ca0b914b9b4a0e8030d7da3f90edf55cf57e41242d40e86c\n",
      "->T(d) 244.0m/4.1h/0.17d, B: 0x17.. $39.928785(8.432254999999994) 0x892cae4275097b4b2f04a9395fcf8145983c52e25618d22964e928b5b9b8cbbb\n",
      "->T(d) 2131.8m/35.5h/1.48d, B: 0x8a.. $40.795755(9.299224999999996) 0xbd7e80cc16dde1382b2c0fbf782d79a8e0572d5af8a666aed59c68c3497dbb25\n",
      "->T(d) 238.6m/4.0h/0.17d, B: 0xe7.. $40.795755(9.299224999999996) 0x5cb7f54f98ca3c37757da9a20c948a5dc2b74107ff782f84f8550837bc664ff3\n",
      "->T(d) 235.4m/3.9h/0.16d, B: 0x1c.. $40.795755(9.299224999999996) 0x6b13b1d3bc7c6ce65288790bacf1aca81dfcf4b3ee5576694c82b09047e7d625\n",
      "->T(d) 242.7m/4.0h/0.17d, B: 0x87.. $40.795755(9.299224999999996) 0x5af0d2f334cc1db976ca1eb8c8c1983e387da065562c2a8dc429838ed7f6a15f\n",
      "->T(d) 250.5m/4.2h/0.17d, B: 0x83.. $40.190735(8.694204999999993) 0xb0a093b1d0389b27ff60d84f7e38b71120a762fbb2e5f5625626f7a58f106282\n",
      "->T(d) 222.4m/3.7h/0.15d, B: 0x6a.. $40.190735(8.694204999999993) 0xac0716807e93c025d39a36b4645d8b14435c5230b865a9b9e48c8d3fdfc530f7\n",
      "->T(d) 248.2m/4.1h/0.17d, B: 0xa2.. $40.190735(8.694204999999993) 0xa3ad98517785610dc900090b82d316cff48a434b03c104e06c92e67b9acff7a9\n",
      "->T(d) 227.9m/3.8h/0.16d, B: 0xad.. $40.190735(8.694204999999993) 0xd526699411ddc42cdf40a23a0e1edf1b3dc2a88115e4076372c8cbdb7232b887\n",
      "->T(d) 233.1m/3.9h/0.16d, B: 0x68.. $40.190735(8.694204999999993) 0x247625df2aeb1c83e4e1a1e287e0aa8bc0628f030de8b05cfa6e85200f9dd0d7\n",
      "->T(d) 240.8m/4.0h/0.17d, B: 0x17.. $40.190735(8.694204999999993) 0xd005d2de7a4c17c4f62008820ccf54455692d49ea9529b0aa09b826750957272\n",
      "->T(d) 234.4m/3.9h/0.16d, B: 0x1c.. $44.322785(12.826255) 0x06344b9c03129302ef11b80016f62922bb2154b7690a9196b821a9d22bd8c5fe\n",
      "->T(d) 241.7m/4.0h/0.17d, B: 0xa2.. $44.322785(12.826255) 0x32c943f64e9df1598328427ec4f7d5914b4b27486f448dd31fa74390b8fc0b34\n",
      "->T(d) 233.2m/3.9h/0.16d, B: 0xba.. $44.322785(12.826255) 0x3aa70fa30f59b9e7af135a3c977921087da45e1a9bf99937613ceef643293982\n",
      "->T(d) 260.3m/4.3h/0.18d, B: 0x6e.. $44.322785(12.826255) 0x24cab30a4e1ec8c5ae1574acc8885c0b4da2a280d1b8d6d1d1d76390887c6b53\n",
      "->T(d) 215.2m/3.6h/0.15d, B: 0x83.. $44.322785(12.826255) 0x72e417f4065019c3da20f0ac0110e12aca232fc036b5feb85597292548c4e474\n",
      "->T(d) 240.4m/4.0h/0.17d, B: 0xe7.. $44.322785(12.826255) 0xda6eef16ba1dd3fd33326d165d4275b25d0d62dc076c5848be9e51860b900519\n",
      "->T(d) 234.6m/3.9h/0.16d, B: 0x73.. $42.801785(11.305254999999999) 0x7e60836ba48aa77b5dfaf72752090ba612287e2e0051912b0c438ab6fa9d0dbd\n",
      "->T(d) 239.9m/4.0h/0.17d, B: 0x6a.. $42.801785(11.305254999999999) 0x45d1e7d244118e07c795e48ea7d4e3a6fd3c3b3696f4007275c93e10223f0b2b\n",
      "->T(d) 234.4m/3.9h/0.16d, B: 0x1e.. $42.801785(11.305254999999999) 0x258c4ac04c9031dadb5f13a846f6b26c48cbc51f68a7bd85e2276aca4dcd25ae\n",
      "\n",
      "0x6e13c7e25c2cda6f5c8c4e431bee480bfb312c28\n",
      "   T(d) 0.0m/0.0h/0.00d, B: 0x6e.. $44.031075(0.0) 0x126eb0ab984c8c75c027b75e39dd858be780cb77273434c84528443d653bd25b\n",
      "->T(d) 235.1m/3.9h/0.16d, B: 0x23.. $44.031075(0.0) 0x660b35aa00611025e36c897e3c253a100341639701a43da3e32ff334242dbe3b\n",
      "->T(d) 239.6m/4.0h/0.17d, B: 0x1c.. $44.261625(0.23055000000000092) 0xd4378bdd5e571007345babe8e465bdd35833dafee034fc7a015e12d8e54aed75\n",
      "->T(d) 235.3m/3.9h/0.16d, B: 0x6e.. $44.261625(0.23055000000000092) 0x9777aca8ee7b53d259fa5fb708040d637648b0c9ec8022bf86070c3490eda344\n",
      "\n",
      "0x236ef21dc36d0aec3990dd5ee84a9d5320644262\n",
      "   T(d) 0.0m/0.0h/0.00d, B: 0x23.. $6.3431700000000015(0.0) 0xdda32445f4e446d4ae7d0058b4b42e2a51062e26e309333a45b8e038824722ea\n",
      "->T(d) 211.4m/3.5h/0.15d, B: 0xf5.. $7.170539999999999(0.8273699999999975) 0xb4767d120aefd477e1cd4af0a3ce706b40519d90a38f98569af34ae93a542bf8\n",
      "->T(d) 240.3m/4.0h/0.17d, B: 0x46.. $7.170539999999999(0.8273699999999975) 0x4c7546875206f7894949e6cd9c10b5b6c05245de02cebc6eab49825ae5231019\n",
      "->T(d) 236.0m/3.9h/0.16d, B: 0x6e.. $7.170539999999999(0.8273699999999975) 0x93e1dc455ee8cd1cccde4bc2796204f993a67f1e81aa70dcd897b046793ade83\n",
      "->T(d) 237.9m/4.0h/0.17d, B: 0xa2.. $7.008819999999999(0.6656499999999976) 0x17b7ba1633935b3f8b61040730998a81af7311bad692168a507df70e6eebfe6f\n",
      "->T(d) 235.4m/3.9h/0.16d, B: 0x1c.. $7.008819999999999(0.6656499999999976) 0x191f018e9a8837f9af74a978f01e6807e03e26ec9191e8a2fdcb76bc9a579353\n",
      "->T(d) 239.2m/4.0h/0.17d, B: 0x87.. $7.008819999999999(0.6656499999999976) 0xda45fa2794660a0fa880e29584550316af5761035d5cc5bfb640553f5ea97f13\n",
      "->T(d) 235.2m/3.9h/0.16d, B: 0x8a.. $7.008819999999999(0.6656499999999976) 0xb0a3fa4b1f6335343af06bae2f1d70262c3dd36dcdb52636e865ab40a9c012dd\n",
      "->T(d) 240.5m/4.0h/0.17d, B: 0x1c.. $7.008819999999999(0.6656499999999976) 0x4dd89c35d174c9311354ad6ebed8ffc5fccc45167bb518321f61113c062aa630\n",
      "->T(d) 234.9m/3.9h/0.16d, B: 0x46.. $7.008819999999999(0.6656499999999976) 0x67c219b9556263ae5d706e65414cc5a321854d6a6cc636261122fd031820db11\n",
      "->T(d) 239.9m/4.0h/0.17d, B: 0x00.. $7.15936(0.8161899999999989) 0x1f0d0d6a014888527a88bb06e62c8dffc89a415e935b5e6cd239e597ff11f60a\n",
      "->T(d) 235.0m/3.9h/0.16d, B: 0xa2.. $7.15936(0.8161899999999989) 0x2d26294b97196044544e30b73671727ac69d6ca5ee32b07f04cb39c652e6e93f\n",
      "->T(d) 239.9m/4.0h/0.17d, B: 0x23.. $7.15936(0.8161899999999989) 0x4a77270ec0adce3baa9a62eeab01754a64aa9759ee4de95ad619a92dd31543e5\n",
      "\n",
      "0xf5aee6d7b838d5ede8aa65d31dbc11116545180c\n",
      "   T(d) 0.0m/0.0h/0.00d, B: 0xf5.. $21.94182(0.0) 0xee30fc51c9f4a28e0763210df86ba19d39ebd557e958ed6f6e145c014069ba9a\n",
      "->T(d) 240.4m/4.0h/0.17d, B: 0xba.. $21.94182(0.0) 0xb4e31ab07d0b505a3f5e91933ab72735da390fd28eca6cd8f39c380b20530c81\n",
      "->T(d) 234.8m/3.9h/0.16d, B: 0x6e.. $21.94182(0.0) 0xf27390fe1c917015516529bf1330eddc1f5230b5c9e614826941ad4af3e82e35\n",
      "->T(d) 241.4m/4.0h/0.17d, B: 0x1c.. $21.94182(0.0) 0xf20f940a15576c1f8506048c06ae48ef17e7237c488c52460594436f5dbb240b\n",
      "->T(d) 232.9m/3.9h/0.16d, B: 0xa3.. $21.94182(0.0) 0x7fa9396fbc6f7ce2c5c1c1151dc1a520281932dc8f2b0c595b130a0930342ed6\n",
      "->T(d) 241.6m/4.0h/0.17d, B: 0x23.. $21.808465(-0.13335499999999811) 0x714c77e097567958493a6e68186ebc788e9725a8a618147ec6f2781b0de64398\n",
      "->T(d) 234.4m/3.9h/0.16d, B: 0x83.. $21.808465(-0.13335499999999811) 0x7f0f527061b1e6cc0d42313b8661a622891a4650c9a2bb871c2584f0a83eee35\n",
      "->T(d) 239.6m/4.0h/0.17d, B: 0xcd.. $21.808465(-0.13335499999999811) 0x6fa322d0db0e6be4e8c6b617ad3f52c1941a144e57cb0633fbfc4ddf08b62905\n",
      "->T(d) 236.0m/3.9h/0.16d, B: 0x6a.. $21.808465(-0.13335499999999811) 0x5847f63bafad877993440d91b5a416e975476bfbb47b75ebac7f7104c3da30ac\n",
      "->T(d) 238.3m/4.0h/0.17d, B: 0x1e.. $21.808465(-0.13335499999999811) 0x2ce6a6dd01cddc1a192bade0dfb59e94fad4e7e377335fe928858e9fb05a96d0\n",
      "->T(d) 235.9m/3.9h/0.16d, B: 0x8a.. $21.808465(-0.13335499999999811) 0xbbf718816167d4f9e83fc74a9e6da0e24dec335a8166bd755fbc5015c941cfb1\n",
      "->T(d) 242.4m/4.0h/0.17d, B: 0x46.. $21.69301(-0.24880999999999887) 0x2472b4c81c353ebfe85d713ae26f271d826ed3abf4924f8a1aec0f944f668415\n",
      "->T(d) 236.6m/3.9h/0.16d, B: 0xe7.. $21.69301(-0.24880999999999887) 0x1a138fdb74b38cfc51554afee387a1f8055e1f87b4ac15e5f2419754cb7aacf0\n",
      "->T(d) 236.8m/3.9h/0.16d, B: 0x17.. $21.69301(-0.24880999999999887) 0xe05f51cf1b8338998ee7fce1c27967a7d9c93e842f2d20b406c4a8410c5cb614\n",
      "->T(d) 234.1m/3.9h/0.16d, B: 0x83.. $21.69301(-0.24880999999999887) 0xac851da87f174abf10167f52a0a426dab4393d6c02ffed035272d94cd34216b7\n",
      "->T(d) 239.8m/4.0h/0.17d, B: 0x46.. $21.69301(-0.24880999999999887) 0xcd90cd216d7b3b6ae55449bb606f9531abf30a3d1f5a8ca2450fcf136843bcb9\n",
      "->T(d) 237.3m/4.0h/0.16d, B: 0xcd.. $21.69301(-0.24880999999999887) 0xccf83ef85421b0dd7ce044786f24b51339b7ab7aaa0e36b4d993782487ef32f3\n",
      "->T(d) 948.1m/15.8h/0.66d, B: 0xcd.. $21.87559(-0.0662300000000009) 0x5a38524cbc15d4363fcb6b396ac72bf78a2e39bfc93ec03eaf1005d5c39b5301\n",
      "->T(d) 242.3m/4.0h/0.17d, B: 0x46.. $21.87559(-0.0662300000000009) 0x2cbbadb8a7226255136366ce2cd42bf5fe2e2487aff869c3f7ee9b9e8740ca5e\n",
      "->T(d) 232.2m/3.9h/0.16d, B: 0x1c.. $21.87559(-0.0662300000000009) 0x133f15e1ff066727ef95ee762d16f3a5e59eeaa7803485d74f84f7977328d8d0\n",
      "->T(d) 241.7m/4.0h/0.17d, B: 0x1e.. $23.24136(1.2995400000000004) 0xd5ff3acafc3f2319af47526e5e84e9e6bb3454b155d967fe2d6ba3a51f73685f\n",
      "->T(d) 473.7m/7.9h/0.33d, B: 0x73.. $23.24136(1.2995400000000004) 0xba9c66072bec5a7da6fbabb1e4946124dc6fb7a30f170f76935f503d974432bf\n",
      "->T(d) 235.6m/3.9h/0.16d, B: 0x87.. $23.24136(1.2995400000000004) 0xae7574480bc0b56b40db9e992d67ff02238da158251c3a83b42dccd5cd2723a2\n",
      "->T(d) 240.4m/4.0h/0.17d, B: 0x1e.. $23.24136(1.2995400000000004) 0xc1a4d8546821eded8e96620693696a7666ac1ab71dc1b53ca3cf516cb617e5bc\n",
      "->T(d) 235.6m/3.9h/0.16d, B: 0x00.. $23.24136(1.2995400000000004) 0xc616d7bde2f5dff3c89226248790eca6b2dbdaa55378fa9371453167f7092f6b\n",
      "->T(d) 239.7m/4.0h/0.17d, B: 0x46.. $26.091935(4.1501149999999996) 0xfca52e52e64f60d11f573da9132cd274fe5df285a1b96e7b14ead7d77c774278\n",
      "->T(d) 708.6m/11.8h/0.49d, B: 0x68.. $26.091935(4.1501149999999996) 0xbe37dd6ea0abe7cf03bdab106800de87e6d8c0eff899670e926088145db5b6ad\n",
      "->T(d) 244.9m/4.1h/0.17d, B: 0xa3.. $26.091935(4.1501149999999996) 0x17246d5df62d60bb97a34a66b0224d303d197f5816ce9dfde3361816f38f6d15\n",
      "->T(d) 230.2m/3.8h/0.16d, B: 0x83.. $26.091935(4.1501149999999996) 0xde30e6a208ef5059f455acfbb14203d7160f44b6445d028788d45fde3e36ce57\n",
      "->T(d) 239.6m/4.0h/0.17d, B: 0x17.. $26.204705(4.262885000000001) 0x6b05929928242b0c5be4378745fa633cf5fdd0a5f7fdda367bc577d0f419c45a\n",
      "->T(d) 236.1m/3.9h/0.16d, B: 0xba.. $26.204705(4.262885000000001) 0x05363fbd50fe7c4445da15279270782c5466de285190bb7fb55eb0a2c2b2a2a9\n",
      "->T(d) 239.7m/4.0h/0.17d, B: 0xe7.. $26.204705(4.262885000000001) 0x22030dbf2fc174a61477e178f4b6b4d37d0a1a3a69f9339c0554821df953990d\n",
      "->T(d) 233.8m/3.9h/0.16d, B: 0x1c.. $26.204705(4.262885000000001) 0x93ad20c3bb7c801da46273f0c990f27dd2328e28c84204acaae3ab364d4f1588\n",
      "->T(d) 243.3m/4.1h/0.17d, B: 0x87.. $26.204705(4.262885000000001) 0x2650b3ae33eced86269d63272333164c6813451a3521c1ce2645ba1516d5f485\n",
      "->T(d) 234.5m/3.9h/0.16d, B: 0xa3.. $26.204705(4.262885000000001) 0x545a7a58da66f3fa801c6336e06053b80af12e5e6bcb4f40a42b3a585b16a01e\n",
      "->T(d) 240.9m/4.0h/0.17d, B: 0x00.. $26.204705(4.262885000000001) 0x663751b93a792335c06896dacc11d0e83071104b3a13e6aeccd1a0fc702f878d\n",
      "->T(d) 232.6m/3.9h/0.16d, B: 0x17.. $26.185015000000003(4.243195000000004) 0x70184d2360833d42037f96d69f27b26f52e8563215fcd242e9461b08b0c8d483\n",
      "->T(d) 240.5m/4.0h/0.17d, B: 0xe7.. $26.185015000000003(4.243195000000004) 0xc9e44f2266bc69bae4e9aa766437347ec71664276106852f7c5afc9ca8173c09\n",
      "->T(d) 234.3m/3.9h/0.16d, B: 0x87.. $26.185015000000003(4.243195000000004) 0x22d43f6718e1ea36d92b4bc4b5070f87576c54b843adfded8f60fea14994d24e\n",
      "->T(d) 239.5m/4.0h/0.17d, B: 0xa3.. $26.185015000000003(4.243195000000004) 0x5d5f5f895fdb7e43620ea1306ef40b90af1577476d46a7284a357eb5a63ad6f3\n",
      "->T(d) 235.6m/3.9h/0.16d, B: 0x68.. $26.185015000000003(4.243195000000004) 0x6cce84049c02555be217163da353ad9941f4d80dfa7c0adb9a2b3ebc7579ccab\n",
      "->T(d) 241.2m/4.0h/0.17d, B: 0xa3.. $26.185015000000003(4.243195000000004) 0x7ac119464ab7bc173984064941e1fa1721c0c45f98823832a4ce2d0714a31037\n",
      "->T(d) 235.6m/3.9h/0.16d, B: 0x73.. $26.08567(4.1438500000000005) 0xc307cf0de77e6ab70915be3ee76b9d02c801b2edd7f77487867f51be2039b532\n",
      "->T(d) 239.3m/4.0h/0.17d, B: 0x46.. $26.08567(4.1438500000000005) 0xb27dbae4d28f4eefa143119f6ff8a11c89c646689f8be2e988a96fd1bf161345\n",
      "->T(d) 233.8m/3.9h/0.16d, B: 0x83.. $26.08567(4.1438500000000005) 0xc7058cdbe7db1df52b501608aabfab6bdd55a21db0ba1793cd40d5582103fd40\n",
      "->T(d) 241.1m/4.0h/0.17d, B: 0x6a.. $26.08567(4.1438500000000005) 0xb0bb50fcc1dc90f4e9f1b2bc0e3f2988568bc11dc1475df0941596c6c9cc6dbb\n",
      "->T(d) 240.0m/4.0h/0.17d, B: 0xad.. $26.08567(4.1438500000000005) 0xb9128803d9adfdbeb508380670f4e6d76a12e0770dff96763b0030ff7665f0a0\n",
      "->T(d) 233.0m/3.9h/0.16d, B: 0xe7.. $26.08567(4.1438500000000005) 0x28ad5cacb1947a9605a5e0532bb19a7a60ada97f6e9422f30c15526513686bcf\n",
      "->T(d) 237.4m/4.0h/0.16d, B: 0xba.. $26.38997(4.448150000000002) 0x27e0cd15084129f710eef43b237e71bda8bdaee64200c3304db8f1588872a0e9\n",
      "->T(d) 238.5m/4.0h/0.17d, B: 0x46.. $26.38997(4.448150000000002) 0x631af90a5122a06b99bc77969b71c4d4068f5e8e93c21248283b631f4d052567\n",
      "->T(d) 235.1m/3.9h/0.16d, B: 0x8a.. $26.38997(4.448150000000002) 0x934e0e6b899c429c700dc7b4bb2b95fee659b60641024634c8891af41f3a9948\n",
      "->T(d) 239.0m/4.0h/0.17d, B: 0xad.. $26.38997(4.448150000000002) 0xf7d259cea54c53ae5e5dbf1ef95b4cd4d2a2637e9a8a2d843ca3bc13f7fc8400\n",
      "->T(d) 236.1m/3.9h/0.16d, B: 0xcd.. $26.38997(4.448150000000002) 0xf53ce56cf5cc249768436d502192fbfa4b49db06212be773089804785089d5ff\n",
      "->T(d) 238.8m/4.0h/0.17d, B: 0xa3.. $26.38997(4.448150000000002) 0x7b01bba2150203be842e3283bacdfb96bda255eee1d1b512526b93c4e330d80c\n",
      "->T(d) 235.0m/3.9h/0.16d, B: 0x87.. $28.200555(6.2587350000000015) 0x1f43ab72548fac5b7950c78af8b28490d095afcca048bc0ae5df79fce8a2a2c4\n",
      "->T(d) 241.0m/4.0h/0.17d, B: 0x68.. $28.200555(6.2587350000000015) 0xf055af1f04eb0e4b504de9d825c74e7e42175ede4d47c644f7273642bddde134\n",
      "->T(d) 236.8m/3.9h/0.16d, B: 0x00.. $28.200555(6.2587350000000015) 0x360fb0625aa5d3187bb6383c839ed0581c934cac1eb0ac6d4fa51dfe77066d54\n",
      "->T(d) 237.7m/4.0h/0.17d, B: 0x6e.. $28.200555(6.2587350000000015) 0xc7833bf32358350d76838c9ba857aaf9232fc6ff623dab8caca4c65b1e1496ee\n",
      "->T(d) 235.6m/3.9h/0.16d, B: 0x83.. $28.200555(6.2587350000000015) 0x95b817342d49d7a5760716fb29074472017d341fb182e0f03766d34539e1970a\n",
      "->T(d) 239.5m/4.0h/0.17d, B: 0x1e.. $28.200555(6.2587350000000015) 0x23e431c60c7be155edb730d24d639a3ea1f78bb4a6c41cbf4790663c0e13db8c\n",
      "->T(d) 235.2m/3.9h/0.16d, B: 0x1c.. $25.279275(3.3374549999999985) 0x59aba14f02e4d140f4910c88bed137650ba1a9e5bc042fe45a61d7e44b39f8f9\n",
      "->T(d) 238.9m/4.0h/0.17d, B: 0xcd.. $25.279275(3.3374549999999985) 0x5c81d1d7ded5c742796e27eb2c26226c9883328da10e449e445edad67f9bd64f\n",
      "->T(d) 235.5m/3.9h/0.16d, B: 0x8a.. $25.279275(3.3374549999999985) 0x87a10f846ed5b31eea166ca5f2f5ef257ec05e0ce58940ccc148e94507948456\n",
      "->T(d) 240.0m/4.0h/0.17d, B: 0x1e.. $25.279275(3.3374549999999985) 0xd4b5e4c01356f238a092d886e43151a728dd436b469da1031a8cf8495f7cf490\n",
      "->T(d) 235.3m/3.9h/0.16d, B: 0xad.. $25.279275(3.3374549999999985) 0xb0d441582ee80eb0136d1c15543c791f10e4964589bd01dcd1bf1e338b7525cf\n",
      "->T(d) 240.9m/4.0h/0.17d, B: 0xf5.. $25.279275(3.3374549999999985) 0x564ef9bfe3028728b84d03f3ab3bce16ce8b66b5eead04e932f924b6e95a42ec\n",
      "\n",
      "0xbabda06088c242fb2a763aa7cc99706cb77ba735\n",
      "   T(d) 0.0m/0.0h/0.00d, B: 0xba.. $24.51772(0.0) 0xb39e29d1a6d78e219706a5f67691c244dcd7fba4cfe4603939a2982d34957202\n",
      "->T(d) 715.1m/11.9h/0.50d, B: 0xe7.. $24.51772(0.0) 0x0fd864b4636785e14a575ea504b93c411c5d81956ea261825ec6d657c0c80d8a\n",
      "->T(d) 234.8m/3.9h/0.16d, B: 0x17.. $24.51772(0.0) 0x060fdb92ba6268d6ec67defad4d8d7ea94d6f611613bdf73c71f48c3c46bd017\n",
      "->T(d) 239.8m/4.0h/0.17d, B: 0x1c.. $26.030919999999995(1.513199999999994) 0x45b0f6c6d9e59fb5d796c86a67945172c08ba96f31f6e0182ae199d9b75a5dd5\n",
      "->T(d) 235.0m/3.9h/0.16d, B: 0xcd.. $26.030919999999995(1.513199999999994) 0xf782d47086323c9c61e99e3bec0be9f05ab2e9b06922beff4b295e40d06aa98f\n",
      "->T(d) 240.1m/4.0h/0.17d, B: 0x6a.. $26.030919999999995(1.513199999999994) 0xc16b09f8888b4a0356ebd3a676831402e44ca8681f863fb3491bbf2d45dd20e6\n",
      "->T(d) 235.3m/3.9h/0.16d, B: 0xcd.. $26.030919999999995(1.513199999999994) 0x154b099efa811cd6f62c98cba99ddf4943522074b9fab44ff7d0e6bce6e515a9\n",
      "->T(d) 239.6m/4.0h/0.17d, B: 0xa3.. $26.030919999999995(1.513199999999994) 0x2aa52e6f74144ef118a17ae4e79ee81551bf79c5d822f818f35907cfc5d70d98\n",
      "->T(d) 235.5m/3.9h/0.16d, B: 0xa2.. $26.030919999999995(1.513199999999994) 0xde4b628b89902a254324fcfda4c1909d298a83ccf1e1f30e5fbc386a43d9c91b\n",
      "->T(d) 240.6m/4.0h/0.17d, B: 0x68.. $26.69439999999999(2.1766799999999904) 0xaba4c335dfd294eac84f5270cff75f4f014e12014bea3ecd570bd4cee551c715\n",
      "->T(d) 234.4m/3.9h/0.16d, B: 0x23.. $26.69439999999999(2.1766799999999904) 0xffdf36aa0a3b8930e6f5d0834032f8e03a407b0d56af2069b5c8b8403b5c1224\n",
      "->T(d) 239.3m/4.0h/0.17d, B: 0xba.. $26.69439999999999(2.1766799999999904) 0xb0e1ae9b95db8ec069577836e51a71e7821764201075b85f9d146dffe4b6f3fa\n",
      "\n",
      "0x68d31cb3825e559b1e5c0665f2d65d06a17fce1a\n",
      "   T(d) 0.0m/0.0h/0.00d, B: 0x68.. $42.18615000000001(0.0) 0x9662b4a58d87e5812976e5858447390b85b1be60b0175257b33a81210d65a7bf\n",
      "->T(d) 234.5m/3.9h/0.16d, B: 0x1c.. $42.18615000000001(0.0) 0xc54ed81b9c964b0a2a17a86202b653256dd27007555e7d29e48c747406148ecb\n",
      "->T(d) 239.9m/4.0h/0.17d, B: 0x00.. $42.18615000000001(0.0) 0x26e48cfc4162b709c0d27dca8f8378d1a91e1b7cf178ae6d2433f053c1a67990\n",
      "->T(d) 235.5m/3.9h/0.16d, B: 0x73.. $42.18615000000001(0.0) 0x331750f8c73817b73326932db42aa015d51228cc0881db11b6f6fc41164ca2d7\n",
      "->T(d) 239.5m/4.0h/0.17d, B: 0x00.. $42.18615000000001(0.0) 0x60ccf34abc3363851ed108d6bb1ed4eed63a290b72f7f8db3754c4ea55739155\n",
      "->T(d) 235.0m/3.9h/0.16d, B: 0x6e.. $42.1767(-0.00945000000001528) 0x20a65dd287948eb077c1bcd39bc5d887b8bd9b34706f08c1ee556d8447546871\n",
      "->T(d) 242.1m/4.0h/0.17d, B: 0xf5.. $42.1767(-0.00945000000001528) 0x4cafa6b698ab68b685081a2ddaf75ea9d3a4b2ed211e29e685cb8c64c1d3adcf\n",
      "->T(d) 473.0m/7.9h/0.33d, B: 0xf5.. $42.1767(-0.00945000000001528) 0xc3aa8c4bc660ef3347398b2bb87e6768c499541c3cbe3f6c101f89edf8697cc7\n",
      "->T(d) 235.1m/3.9h/0.16d, B: 0x46.. $42.1767(-0.00945000000001528) 0xa6269919072c0642798a19e35c7038b6d4ba4b4817ac28b5073a578ba76db970\n",
      "->T(d) 240.7m/4.0h/0.17d, B: 0xa2.. $42.1767(-0.00945000000001528) 0xd31168cff165ee6e68971c58e308b3609ebe20c947750cf2c5df6a836a488843\n",
      "->T(d) 234.0m/3.9h/0.16d, B: 0x23.. $43.673175(1.4870249999999885) 0x281071efb130b44e828a385db6ee1f620cd4e73e96d1838d09a3bf4c6a7f6d8b\n",
      "->T(d) 239.9m/4.0h/0.17d, B: 0x1e.. $43.673175(1.4870249999999885) 0x52ddfaec92286c54080ca9408e3ca1c0bb0117ee233feebec3d60ca9ddb9c867\n",
      "->T(d) 238.0m/4.0h/0.17d, B: 0x73.. $43.673175(1.4870249999999885) 0x443734065829a54e831e8dcbb796963919482ea2f45596da387f7cda522ae216\n",
      "->T(d) 239.4m/4.0h/0.17d, B: 0xe7.. $43.673175(1.4870249999999885) 0xf20678199de9c341533f49fb969af421d05399884607140d21563075cbbbaec6\n",
      "->T(d) 232.7m/3.9h/0.16d, B: 0x87.. $43.673175(1.4870249999999885) 0x6ec8afcb881ba4deac61a04126915404b30c30c8bbe70e94d6c9698ceec9c438\n",
      "->T(d) 239.9m/4.0h/0.17d, B: 0xba.. $43.673175(1.4870249999999885) 0x9bbd5e1ee47c274673deec5a06859e229d6731da2d787c0c6590a7696a62d514\n",
      "->T(d) 238.9m/4.0h/0.17d, B: 0x00.. $46.145025(3.958874999999985) 0x9184571ef709c09be2edd29e9a2deaa383391a3262247eede22ec73ea3193ea4\n",
      "->T(d) 236.2m/3.9h/0.16d, B: 0xa3.. $46.145025(3.958874999999985) 0x62dbced675e70523bb187659e19c019ab79e58284bdd9321eb60bc98c9132b9b\n",
      "->T(d) 235.0m/3.9h/0.16d, B: 0x68.. $46.145025(3.958874999999985) 0xf4183e59f790999d5c4fa26471b540fcc9cb5ce24b5a2111210a3329d558f53a\n",
      "\n",
      "0xa37e6b46fa8e1a6f1ddbf035c4e0230b8414ff04\n",
      "   T(d) 0.0m/0.0h/0.00d, B: 0xa3.. $12.46225(0.0) 0x728e675953ffa01f02a69aeeda28e9984d1fab35f4aa727e3fde7580f038cab9\n",
      "->T(d) 240.7m/4.0h/0.17d, B: 0xba.. $12.46225(0.0) 0xd391186557179c8119ef4aa084579db6aef3c42fa8ea45466fa26f63aeb243e9\n",
      "->T(d) 474.3m/7.9h/0.33d, B: 0xba.. $12.46225(0.0) 0xae844a3e2c39db6c7b004b7a06578d9505bf41031cf83ee1828ccd2185076c3d\n",
      "->T(d) 235.1m/3.9h/0.16d, B: 0x87.. $12.46225(0.0) 0x7aa57918988d054e4b5bc029e708d30b2ebc0593b906e9c438d3186c39fe95b0\n",
      "->T(d) 1190.1m/19.8h/0.83d, B: 0xba.. $12.24026(-0.2219899999999999) 0xf222668fcb57a216a47b4b4301906d66964de8ea591cac7d1864aeec1c0bd4b9\n",
      "->T(d) 236.7m/3.9h/0.16d, B: 0x87.. $12.24026(-0.2219899999999999) 0x24c2bd3bad8d65ba4e1b853dec6259e28a30d44638c74066f86c069caeda2fc4\n",
      "->T(d) 714.4m/11.9h/0.50d, B: 0xba.. $12.69372(0.23147000000000162) 0x7e5831c5140f8e55565c6256104c61b2b390eeb3ec51d9069101379bf6b362f5\n",
      "->T(d) 233.9m/3.9h/0.16d, B: 0x87.. $12.69372(0.23147000000000162) 0x0e24df8e022601f4010a501833a6af34d114a0d20fb18cf33c17ee9acc33c853\n",
      "->T(d) 241.7m/4.0h/0.17d, B: 0xf5.. $12.69372(0.23147000000000162) 0x0a652bbab0cad8af03b2f7f915064a1c81fb59bd659b4ccf058941d082e30581\n",
      "->T(d) 233.2m/3.9h/0.16d, B: 0x46.. $12.69372(0.23147000000000162) 0x1d77ec607e50f2e762ce59783d27027493f111953348a8b4105f664af4749664\n",
      "->T(d) 240.4m/4.0h/0.17d, B: 0x6e.. $12.826440000000002(0.36419000000000246) 0x8efa6a6fd1aefb2d6c01c17fdddb4fd0ad25395e4697c226bc01fd6af5be4b5e\n",
      "->T(d) 236.2m/3.9h/0.16d, B: 0xa3.. $12.826440000000002(0.36419000000000246) 0xc3644fc546294221602358071810ba0b68f5cbe8e2a093789233a6b13e956033\n",
      "\n",
      "0xcdcadf0279ee021a0c40a31ac10fa69e028e21d0\n",
      "   T(d) 0.0m/0.0h/0.00d, B: 0xcd.. $24.09903(0.0) 0xea698f27d13c2812fa7f065009e7180079af99ea9e5162d06b0f3ada1185c350\n",
      "->T(d) 720.2m/12.0h/0.50d, B: 0xe7.. $26.10639(2.007360000000002) 0x4c05c1acd8ffd759dd679fd7da25ff5b5f9208d9ef7044970e77a90bb6f59b62\n",
      "->T(d) 230.2m/3.8h/0.16d, B: 0x6a.. $26.10639(2.007360000000002) 0x392e86761e263e5fab0e66c42e13edac0617f1a770be0a5a70c58399fbb9b96e\n",
      "->T(d) 239.8m/4.0h/0.17d, B: 0xba.. $26.10639(2.007360000000002) 0xa70e0f3e7c182951b46db18683b15a3a92d55d00fc0054d329af69de7ac728e1\n",
      "->T(d) 235.1m/3.9h/0.16d, B: 0x6e.. $26.10639(2.007360000000002) 0x62eece17d85078bfade4cff40daa894d45f8a873fc359c0d76f05d1abaa5e0f9\n",
      "->T(d) 240.6m/4.0h/0.17d, B: 0x6a.. $24.62229(0.5232600000000005) 0x575e6818305ecdcc4984ac6d326afcc065a3d5c1078f4eca1a61cd89f4104cb8\n",
      "->T(d) 233.8m/3.9h/0.16d, B: 0xba.. $24.62229(0.5232600000000005) 0xa42c8d6a6dcb75b7ffca39c979d83a5dc8fe8140dfba5f97823549993c138786\n",
      "->T(d) 240.2m/4.0h/0.17d, B: 0x6e.. $24.62229(0.5232600000000005) 0x574b5ed83e7dc00c217dadea24977451be5085ff9210c3ca992fe852dcfb5ac8\n",
      "->T(d) 236.6m/3.9h/0.16d, B: 0xcd.. $24.62229(0.5232600000000005) 0x8f6589a5919c79a54bcac7340860f76bedc71866608aff8782942e1de722fbc2\n",
      "\n",
      "0x7316e9cf94bef40d4981d66a5c41c38b6b32454c\n",
      "   T(d) 0.0m/0.0h/0.00d, B: 0x73.. $9.7416(0.0) 0x49b29c58718ec0f4771c349ca719859b128671c2ab533db027dc8fec716de20a\n",
      "->T(d) 240.5m/4.0h/0.17d, B: 0x00.. $9.7416(0.0) 0xf8d76c08440ec8654412a08ccd3a9c9036253446bb58729a75a9214913011e9c\n",
      "->T(d) 234.5m/3.9h/0.16d, B: 0x8a.. $9.7416(0.0) 0x54fbecf7eddce2e879ec3aab6cfef215edd0cc6c3a5a74b0b85545245b383436\n",
      "->T(d) 240.0m/4.0h/0.17d, B: 0x23.. $9.7416(0.0) 0xede55358637ec79b53b520eb301effadc6ff294515c0ff9ab6ab32b80187e7e3\n",
      "->T(d) 234.7m/3.9h/0.16d, B: 0x17.. $9.7416(0.0) 0xb2c8a2a4d662e08e946da4df7799fc8c218dfa0855a17f200268537fe0d5c35b\n",
      "->T(d) 240.1m/4.0h/0.17d, B: 0x1e.. $9.7416(0.0) 0xc6893bc4f84c9ef271cf44695b400b98be3e628d349921d5c5e4ab179700eb08\n",
      "->T(d) 234.8m/3.9h/0.16d, B: 0xe7.. $9.7464(0.004799999999999471) 0xa271e79533a3c12aba3efcffc3538b0e67d8b04b23d90f8ff88e69c575eeef5d\n",
      "->T(d) 241.0m/4.0h/0.17d, B: 0x8a.. $9.7464(0.004799999999999471) 0x1ed2166eb60b8f8141b6bf1960b08486864f2e1da79b428583c52e6102f03470\n",
      "->T(d) 234.2m/3.9h/0.16d, B: 0xa2.. $9.7464(0.004799999999999471) 0xad373667f2b7ee64146b8d4635e9d0dea7792710a843a327d6f4d05edf721da7\n",
      "->T(d) 244.6m/4.1h/0.17d, B: 0xad.. $9.7464(0.004799999999999471) 0xfa330e5b9e202bc2d3ff5c308efa0e4842ed3e02f374e5e2edfc44c333a8d9c4\n",
      "->T(d) 229.9m/3.8h/0.16d, B: 0x6e.. $9.7464(0.004799999999999471) 0xd7fabfb83f2e334645c45550e989ee315abbb15cf97e15781f56932832fcf0dc\n",
      "->T(d) 240.3m/4.0h/0.17d, B: 0x73.. $9.7464(0.004799999999999471) 0x326e97f9015afb273398d689a66c22a1b6f7df58339e0c576950cc29f23f992e\n",
      "\n",
      "0x87b77fabfeb869150b8e1b9462603f9a639c5fae\n",
      "   T(d) 0.0m/0.0h/0.00d, B: 0x87.. $22.569255(0.0) 0xb66ac6b2045e00398d7440cf357e5b9f23a6b88acfce8a1d59385f51615387c5\n",
      "->T(d) 235.9m/3.9h/0.16d, B: 0x1c.. $22.569255(0.0) 0x5f5a83d5860aa62284b2c983ddd5ae6e3889a4954874e8226e190566e2badc31\n",
      "->T(d) 228.5m/3.8h/0.16d, B: 0xa3.. $22.569255(0.0) 0x53cf115dced230467091b243e8dfaa759a4096d0f254bcf43de161f773001e90\n",
      "->T(d) 243.9m/4.1h/0.17d, B: 0xcd.. $22.569255(0.0) 0x809cdfd47e15edebcf68123416790f88bdc53b212784d40db07c1b984b15d7bf\n",
      "->T(d) 231.5m/3.9h/0.16d, B: 0xe7.. $22.569255(0.0) 0x83b69444e97ac383d497c764c4c5f8f8f77a3e74f77ce2bbc52ea40c7936ce96\n",
      "->T(d) 239.4m/4.0h/0.17d, B: 0x1e.. $22.569255(0.0) 0x02e46da781d4d789a8f7f0f24929f0edd8ca54b201c359c7d59e7272317ccdf8\n",
      "->T(d) 236.0m/3.9h/0.16d, B: 0x46.. $22.82604000000001(0.25678500000001137) 0x926268e706437d5440fa4b17080650b8b02f360a982ea5c0764876ed5bcf9360\n",
      "->T(d) 239.6m/4.0h/0.17d, B: 0x6a.. $22.82604000000001(0.25678500000001137) 0x7be7a32e105e97925dc447d8ae32e224049687cdc95637d9fb4d4e155a5a9837\n",
      "->T(d) 234.4m/3.9h/0.16d, B: 0x1c.. $22.82604000000001(0.25678500000001137) 0x0d8a4b25ac682edaaf76eb6534348e1503af3a90fb8b7e1efc44c4dd74ebfe88\n",
      "->T(d) 240.4m/4.0h/0.17d, B: 0xf5.. $22.82604000000001(0.25678500000001137) 0x053771aa30a36d686770757e86d019542db7315836a80339fb876246597b0e77\n",
      "->T(d) 235.9m/3.9h/0.16d, B: 0x8a.. $22.82604000000001(0.25678500000001137) 0x3f1f30c71306eaaeabc56b4e69d38bd1e6d2f22e9a0e00a9b055efcadf7b0870\n",
      "->T(d) 239.0m/4.0h/0.17d, B: 0xad.. $22.82604000000001(0.25678500000001137) 0xebc5be68d3948ec4559d4c99645da020914fa0f2453ebe4e28f378b249171f04\n",
      "->T(d) 234.8m/3.9h/0.16d, B: 0x00.. $22.531095(-0.03815999999999775) 0x299118006a9b15c86aa8ddc8d500f3857822af76dcefee75ec168c38486bb301\n",
      "->T(d) 240.2m/4.0h/0.17d, B: 0x6a.. $22.531095(-0.03815999999999775) 0x816aa056d2c6c0357a7d4e6fa67f99123692f76539f068696bef2c9743302fea\n",
      "->T(d) 236.8m/3.9h/0.16d, B: 0x83.. $22.531095(-0.03815999999999775) 0x6c2122b85d06dcb43d14daaaa8ca9e6007b97dcd587011a674d79412d7010f69\n",
      "->T(d) 238.2m/4.0h/0.17d, B: 0xad.. $22.531095(-0.03815999999999775) 0xe4f2c91deae65853a11e2c77739debc68b28c1875d525100d0de48c3943afadf\n",
      "->T(d) 255.3m/4.3h/0.18d, B: 0xcd.. $22.531095(-0.03815999999999775) 0x1dc93088e75c88f52bc2965274f170940ac61596832f6e6b7c4d481151311475\n",
      "->T(d) 221.6m/3.7h/0.15d, B: 0x68.. $22.531095(-0.03815999999999775) 0xc6b7640604f20855c392a9c404b697bc7f3b7053d534cfca2ec95b8a55ce0c12\n",
      "->T(d) 232.8m/3.9h/0.16d, B: 0xe7.. $22.587540000000004(0.01828500000000588) 0x65f66d7d789435bf172eb11768d2f0ba486beec49eefd282d5f305f52c427e75\n",
      "->T(d) 240.1m/4.0h/0.17d, B: 0x73.. $22.587540000000004(0.01828500000000588) 0x024fad0225f5d371fd0bd82031c3dd5815793be39f6694f18e0681f7e04349a1\n",
      "->T(d) 241.3m/4.0h/0.17d, B: 0x1c.. $22.587540000000004(0.01828500000000588) 0x88351b618162b8bdaec8b94eb8fa81f994cb4a70e4c8c652624548f7a9858a2d\n",
      "->T(d) 233.7m/3.9h/0.16d, B: 0x87.. $22.587540000000004(0.01828500000000588) 0x75d6378ebf9926696074404eccdb4d1073cdaac774a301c5b7f49c94636d1791\n",
      "\n",
      "0xadd12bd6375dc21d579cc4abcfa04864d6ac9a62\n",
      "   T(d) 0.0m/0.0h/0.00d, B: 0xad.. $14.644650000000002(0.0) 0x81ea3a8edfbefeede1a31275e0e0d15cf9f3a2e13d175a441765c05691b9ae3a\n",
      "->T(d) 236.0m/3.9h/0.16d, B: 0x68.. $14.644650000000002(0.0) 0xb005a8989f76b94e7d0d9060a5f3be838419da3967cbb0003e8ef6e4e785a1ae\n",
      "->T(d) 252.5m/4.2h/0.18d, B: 0xe7.. $14.883925000000003(0.23927500000000101) 0xa4bd0d2bb7c17e9f5270bae80f6a7fbec6629124fcac70d87ede26871fa9d489\n",
      "->T(d) 221.6m/3.7h/0.15d, B: 0x68.. $14.883925000000003(0.23927500000000101) 0x7e87aa2bc40f29b5be02bb643e7ec94f32f5c4998bd9e2abebbac52dfc8001a2\n",
      "->T(d) 715.7m/11.9h/0.50d, B: 0x00.. $14.883925000000003(0.23927500000000101) 0x1c590ca60c3b0c389e4fb95286916fc9b192b1ed6ca4f6ea82656a1c2ba2c705\n",
      "->T(d) 234.1m/3.9h/0.16d, B: 0x73.. $14.883925000000003(0.23927500000000101) 0x76c0c9a308a16589fd64be10db49bf6d24204550c17e2931a3992005f8a06216\n",
      "->T(d) 244.5m/4.1h/0.17d, B: 0x6a.. $16.571175(1.926524999999998) 0x7870f76d6f34896267ab9935d3ec4e808ae8d949988ba7e1c2dffb501f80afe2\n",
      "->T(d) 232.2m/3.9h/0.16d, B: 0xa3.. $16.571175(1.926524999999998) 0x79802f9638194fc7db3eaf9e85c749a7eb3edc366b8f3dfece7567d4fc9b39e4\n",
      "->T(d) 239.4m/4.0h/0.17d, B: 0x17.. $16.571175(1.926524999999998) 0x720b3651bfb361d4245e53368ab945a3ab58b870dca2fe7acaf76c0351ca3bce\n",
      "->T(d) 235.8m/3.9h/0.16d, B: 0x83.. $16.571175(1.926524999999998) 0x24aa6463da37e616e009a0315d84f134aa715d2727cff12ce928c391a6d1b38a\n",
      "->T(d) 240.5m/4.0h/0.17d, B: 0x8a.. $16.571175(1.926524999999998) 0x01911451f999f3dd307fb5596b8f5bdbbb2be7a4f38dd017087bbf54f190b58b\n",
      "->T(d) 235.3m/3.9h/0.16d, B: 0x68.. $16.571175(1.926524999999998) 0x782a5e026ec728c73a3c1f0d5eadd1c9d6655c12a165f64ee5aac928ca0dd1c5\n",
      "->T(d) 238.5m/4.0h/0.17d, B: 0x46.. $15.841450000000002(1.1967999999999996) 0x8baf1be44fb7b32ba6308e623113315e0abfa46569750c749ee22d09312be9db\n",
      "->T(d) 233.4m/3.9h/0.16d, B: 0x23.. $15.841450000000002(1.1967999999999996) 0xcfa8a753fa4898d840d2b88d6aad393cc793267f0252a6512835dbb395ddcc22\n",
      "->T(d) 241.1m/4.0h/0.17d, B: 0x8a.. $15.841450000000002(1.1967999999999996) 0x82eec30f02083abadf66eebc3517925878452f723b93a5c5b44501b7ea27a11a\n",
      "->T(d) 234.6m/3.9h/0.16d, B: 0xa3.. $15.841450000000002(1.1967999999999996) 0x0e31fed84d2d4df1c7b50495c4e27f8f604a3a5f6589a6231d3de1c80a60c261\n",
      "->T(d) 240.2m/4.0h/0.17d, B: 0xf5.. $15.841450000000002(1.1967999999999996) 0xd7b6427487218646c2eb224ddedc0d4540acfea5a2027bc4592c27b518eafcc3\n",
      "->T(d) 236.3m/3.9h/0.16d, B: 0x6a.. $15.841450000000002(1.1967999999999996) 0x0127b7d7830e43b181250ef80f53fdde5d8a200c3ace2afe063798f7b47d541a\n",
      "->T(d) 238.6m/4.0h/0.17d, B: 0x87.. $17.215475(2.5708249999999992) 0x5c016dd6c9f8e35fbecb1e6a18ace09cf9d12e4c232d7f09a0d315f6673ea4e9\n",
      "->T(d) 235.4m/3.9h/0.16d, B: 0xcd.. $17.215475(2.5708249999999992) 0xa34953891290fe22abd9f20ba611c3bbd35ab0399869aca4a92526cbde4a32e9\n",
      "->T(d) 242.3m/4.0h/0.17d, B: 0x17.. $17.215475(2.5708249999999992) 0x403d95b48644eed01b602d8a218e0f001b84e3120a51ad3b7fc1903f2399bf25\n",
      "->T(d) 1421.5m/23.7h/0.99d, B: 0xe7.. $17.8398(3.195149999999998) 0x2c024bc0411fd722f5e73fd1e9585b9b6193008cd271b33bcdf64a90966cf7e9\n",
      "->T(d) 235.7m/3.9h/0.16d, B: 0x6e.. $17.8398(3.195149999999998) 0x37ae787cb4c9aca2b4d2021abe785751a1351de44ed01f88de03329494eb6ca4\n",
      "->T(d) 240.4m/4.0h/0.17d, B: 0x87.. $17.8398(3.195149999999998) 0x0c0fe4bc2114cce9eebd0f1fd54b7f2074b1c4b559c99ea5709645dc8b0f642d\n",
      "->T(d) 234.0m/3.9h/0.16d, B: 0x8a.. $17.8398(3.195149999999998) 0xdb520e1aba586c7acf55263eb9ab93f2a7a99b10a7cc40ef78e439a848596621\n",
      "->T(d) 240.4m/4.0h/0.17d, B: 0x6a.. $20.082525(5.437874999999998) 0x13dd9e3210ebae7de00e496d24bb93aefa9461d19130ee8f4aac3793190032e9\n",
      "->T(d) 234.5m/3.9h/0.16d, B: 0x00.. $20.082525(5.437874999999998) 0x46ad69d37160725786dcf66417c3a7bf082d5ba83e8625ffa2b4fa2c02fb4139\n",
      "->T(d) 373.6m/6.2h/0.26d, B: 0x1e.. $20.082525(5.437874999999998) 0xdbf8fc7e30801ee800865f47ae9020b8edf402ee6b53aebe804a5b2d9285926e\n",
      "->T(d) 263.8m/4.4h/0.18d, B: 0x68.. $20.082525(5.437874999999998) 0x00d397bf548db7df46966547a4f8fe9e9787222aa4ee0effe9e78f201eae70d9\n",
      "->T(d) 79.1m/1.3h/0.05d, B: 0xe7.. $20.082525(5.437874999999998) 0xe464906b7197c94bc6a6bbbbdb603987368936a3d0d7b086244189357cc2c550\n",
      "->T(d) 233.4m/3.9h/0.16d, B: 0xad.. $20.082525(5.437874999999998) 0xc3eacdd6ec7b2fb6865da17a246d50953a7cf4a0225d87bb719e6ca187f0d63a\n",
      "\n"
     ]
    }
   ],
   "source": [
    "import random\n",
    "\n",
    "bro_and_sis = [\n",
    "'0x00c9da65b33b4f7034b5f50b90f5f6d8320d6ab8',\n",
    "'0xa21e0974137bf8400eb7dca606d9dcb190d79ed9',\n",
    "'0x838c14eb3eabe4cb6a696d286c7b2a466629d0ee',\n",
    "'0x1c1ef71445010114f41ac1feb32dbf5d7281e90f',\n",
    "'0x6a47b60c377450a460d3eb828d534ee66eead668',\n",
    "'0xe738725cdcc41c91f734dd7b5b9659df994d6dda',\n",
    "'0x463215edb66fb6a8f0c979e739a731977617699f',\n",
    "'0x179d698f5a1c84c3ff4c5eb04e553c15a0c1d8d8',\n",
    "'0x1e7f320cf5a938465d501f6bd6c405feb3a70f6c',\n",
    "'0x6e13c7e25c2cda6f5c8c4e431bee480bfb312c28',\n",
    "'0x236ef21dc36d0aec3990dd5ee84a9d5320644262',\n",
    "'0xf5aee6d7b838d5ede8aa65d31dbc11116545180c',\n",
    "'0xbabda06088c242fb2a763aa7cc99706cb77ba735',\n",
    "'0x68d31cb3825e559b1e5c0665f2d65d06a17fce1a',\n",
    "'0xa37e6b46fa8e1a6f1ddbf035c4e0230b8414ff04',\n",
    "'0xcdcadf0279ee021a0c40a31ac10fa69e028e21d0',\n",
    "'0x7316e9cf94bef40d4981d66a5c41c38b6b32454c',\n",
    "'0x87b77fabfeb869150b8e1b9462603f9a639c5fae',\n",
    "'0xadd12bd6375dc21d579cc4abcfa04864d6ac9a62']\n",
    "\n",
    "print(len(bro_and_sis))\n",
    "\n",
    "others_sibs = {}\n",
    "for sibling in bro_and_sis:\n",
    "    others_sibs[sibling] = []\n",
    "    for trade in data:\n",
    "        if '_Rari' in trade['row'][0] or trade['row'][3] <= 2:\n",
    "            continue\n",
    "        if trade['row'][4]['buyer'] == sibling:\n",
    "            others_sibs[sibling].append(trade)\n",
    "    print(sibling)\n",
    "    rand = random.choice(range(0,len(others_sibs[sibling])))\n",
    "    pretty_cycle(others_sibs[sibling][rand]['row'][4]['cycle']['sales'])\n",
    "    print()"
   ]
  }
 ],
 "metadata": {
  "kernelspec": {
   "display_name": "Python 3 (ipykernel)",
   "language": "python",
   "name": "python3"
  },
  "language_info": {
   "codemirror_mode": {
    "name": "ipython",
    "version": 3
   },
   "file_extension": ".py",
   "mimetype": "text/x-python",
   "name": "python",
   "nbconvert_exporter": "python",
   "pygments_lexer": "ipython3",
   "version": "3.10.5"
  },
  "vscode": {
   "interpreter": {
    "hash": "b0fa6594d8f4cbf19f97940f81e996739fb7646882a419484c72d19e05852a7e"
   }
  }
 },
 "nbformat": 4,
 "nbformat_minor": 5
}