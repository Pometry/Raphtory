{
 "cells": [
  {
   "cell_type": "markdown",
   "id": "1496b112-0ef7-4c29-acdf-855d75afabf3",
   "metadata": {
    "pycharm": {
     "name": "#%% md\n"
    },
    "tags": []
   },
   "source": [
    "# Finding Cycles in NFT Transactions"
   ]
  },
  {
   "cell_type": "markdown",
   "id": "c1e1a792",
   "metadata": {
    "pycharm": {
     "name": "#%% md\n"
    }
   },
   "source": [
    "## Overview"
   ]
  },
  {
   "cell_type": "markdown",
   "id": "f20a3d87",
   "metadata": {
    "pycharm": {
     "name": "#%% md\n"
    }
   },
   "source": [
    "A Non-fungible Token (NFT) is a digital asset which cannot be copied, substituted, or subdivided, meaning it is wholly unique.\n",
    "\n",
    "![title](http://web.archive.org/web/20220328080727im_/https://blog.portion.io/content/images/2021/07/Kevin-McCoy-Quantum.gif)\n",
    "\n",
    "NFT’s are stored on blockchain systems, notably Ethereum, with the owner of an NFT being whomever has access to the wallet it is stored within.\n",
    "\n",
    "Since the first NFT, Quantum (shown above), many new NFT artworks have arisen including Cryptokitties and Cryptopunks. This culminated in a boom in 2021 which included the arrival of the Bored Ape Yacht Club, with NFTS reaching a global market valued of $15.7 Billion.\n",
    "\n",
    "In this example we will analyse an NFT dataset in order to find suspicious trading cycles.\n",
    "\n",
    "1. Using Raphtory to load the NFT data as a graph\n",
    "2. Execute a cycle detection algorithm\n",
    "3. Analyse the results to find suspicious cycles of NFTs\n",
    "\n",
    "The data we used is a cleaned and trimmed version from [1]\n",
    "\n",
    "\n",
    "[1] Nadini, M., Alessandretti, L., Di Giacinto, F. et al. Mapping the NFT revolution: market trends, trade networks, and visual features. Sci Rep 11, 20902 (2021). https://doi.org/10.1038/s41598-021-00053-8"
   ]
  },
  {
   "cell_type": "markdown",
   "id": "310ce4ff",
   "metadata": {
    "pycharm": {
     "name": "#%% md\n"
    }
   },
   "source": [
    "## Loading data with Raphtory"
   ]
  },
  {
   "cell_type": "markdown",
   "id": "88edeb5e",
   "metadata": {
    "pycharm": {
     "name": "#%% md\n"
    }
   },
   "source": [
    "First we install some extra packages"
   ]
  },
  {
   "cell_type": "code",
   "execution_count": null,
   "id": "78adcdb3",
   "metadata": {
    "collapsed": false,
    "jupyter": {
     "outputs_hidden": false
    },
    "pycharm": {
     "name": "#%%\n"
    }
   },
   "outputs": [],
   "source": [
    "pip install scipy seaborn"
   ]
  },
  {
   "cell_type": "markdown",
   "id": "aa26f6d7-38dd-42ce-b0ad-6ce373252faf",
   "metadata": {},
   "source": [
    "Now we import the following so we can use Raphtory"
   ]
  },
  {
   "cell_type": "code",
   "execution_count": 1,
   "id": "ce777af2",
   "metadata": {
    "collapsed": false,
    "jupyter": {
     "outputs_hidden": false
    },
    "pycharm": {
     "name": "#%%\n"
    }
   },
   "outputs": [],
   "source": [
    "import time\n",
    "from calendar import timegm\n",
    "from pyraphtory.context import PyRaphtory\n",
    "from pyraphtory.builder import *\n",
    "from pyraphtory.spouts import FileSpout\n",
    "from pyraphtory.sinks import FileSink\n",
    "from pyraphtory.formats import JsonFormat\n",
    "import csv\n",
    "from nft_helper import *"
   ]
  },
  {
   "cell_type": "markdown",
   "id": "959bbe6e",
   "metadata": {
    "pycharm": {
     "name": "#%% md\n"
    }
   },
   "source": [
    "Below are our data sources\n",
    "- `date_price` a dictionary containing the daily ETH-USD price, we we need to convert as some prices are missing\n",
    "- `filename` - this is the cleaned transaction data, which represents NFTs being bought by wallets \n",
    "- `at_time` - is the time we want to run our analysis, this is the last time in the dataset "
   ]
  },
  {
   "cell_type": "code",
   "execution_count": null,
   "id": "44569125-e911-4c06-b1be-956d3f492ccb",
   "metadata": {},
   "outputs": [],
   "source": [
    "# Download the data\n",
    "\n",
    "!wget https://osf.io/download/mw3vh/ -O ETH-USD.csv\n",
    "!wget https://osf.io/download/kaumt/ -O Data_API_reduced.csv "
   ]
  },
  {
   "cell_type": "code",
   "execution_count": 5,
   "id": "643a67f4",
   "metadata": {
    "collapsed": false,
    "jupyter": {
     "outputs_hidden": false
    },
    "pycharm": {
     "name": "#%%\n"
    }
   },
   "outputs": [],
   "source": [
    "eth_price_csv = 'ETH-USD.csv'\n",
    "filename = \"Data_API_reduced.csv\"\n",
    "at_time = 1561661534\n",
    "\n",
    "date_price = setup_date_prices(eth_price_csv)"
   ]
  },
  {
   "cell_type": "markdown",
   "id": "7efb0899",
   "metadata": {
    "pycharm": {
     "name": "#%% md\n"
    }
   },
   "source": [
    "For this example, we are going to create a bipartite graph. \n",
    "\n",
    "In our graph, we have wallets on the left, and NFTs on the right. \n",
    "\n",
    "Each edge represents that an NFT was purchased by a wallet. \n",
    "\n",
    "The `parse_graph` function will take each line, from the spout, and turn these into graph updates. \n",
    "\n",
    "\n",
    "![title](https://www.raphtory.com/images/nfts/buy_nft.png)\n"
   ]
  },
  {
   "cell_type": "code",
   "execution_count": 6,
   "id": "59bc5c3f",
   "metadata": {
    "pycharm": {
     "name": "#%%\n"
    },
    "tags": []
   },
   "outputs": [],
   "source": [
    "def parse_graph(graph, line):\n",
    "    file_line = line.split(',')\n",
    "    if file_line[0] == \"Smart_contract\":\n",
    "        return\n",
    "    # Seller details\n",
    "    seller_address = file_line[3]\n",
    "    seller_address_hash = graph.assign_id(seller_address)\n",
    "    # Buyer details\n",
    "    buyer_address = file_line[5]\n",
    "    buyer_address_hash = graph.assign_id(buyer_address)\n",
    "    # Transaction details\n",
    "    datetime_str = file_line[13]\n",
    "    timestamp_utc = time.strptime(datetime_str, \"%Y-%m-%d %H:%M:%S\")\n",
    "    timestamp = timegm(timestamp_utc)\n",
    "    tx_hash = file_line[2]\n",
    "    token_id_str = file_line[1]\n",
    "    token_id_hash = graph.assign_id(token_id_str)\n",
    "\n",
    "    crypto = file_line[8]\n",
    "    if crypto != 'ETH':\n",
    "        return\n",
    "\n",
    "    if file_line[9] == \"\":\n",
    "        price_usd = date_price[datetime_str[0:10]]\n",
    "    else:\n",
    "        price_usd = float(file_line[9])\n",
    "\n",
    "    # NFT Details\n",
    "    collection_cleaned = file_line[14]\n",
    "    market = file_line[11]\n",
    "    category = file_line[15]\n",
    "\n",
    "    #  add buyer node\n",
    "    graph.add_vertex(\n",
    "        timestamp,\n",
    "        buyer_address_hash,\n",
    "        Properties(ImmutableProperty(\"address\", buyer_address)),\n",
    "        Type(\"Wallet\")\n",
    "    )\n",
    "\n",
    "    # Add node for NFT\n",
    "    graph.add_vertex(\n",
    "        timestamp,\n",
    "        token_id_hash,\n",
    "        Properties(\n",
    "            ImmutableProperty(\"id\", token_id_str),\n",
    "            ImmutableProperty(\"collection\", collection_cleaned),\n",
    "            ImmutableProperty(\"category\", category)\n",
    "        ),\n",
    "        Type(\"NFT\")\n",
    "    )\n",
    "\n",
    "    # Creating a bipartite graph,\n",
    "    # add edge between buyer and nft\n",
    "    graph.add_edge(\n",
    "        timestamp,\n",
    "        buyer_address_hash,\n",
    "        token_id_hash,\n",
    "        Properties(\n",
    "            StringProperty(\"transaction_hash\", tx_hash),\n",
    "            StringProperty(\"crypto\", crypto),\n",
    "            StringProperty(\"price_usd\", str(price_usd)),\n",
    "            StringProperty(\"market\", market),\n",
    "            StringProperty(\"token_id\", token_id_str),\n",
    "            StringProperty(\"buyer_address\", buyer_address)\n",
    "        ),\n",
    "        Type(\"Purchase\")\n",
    "    )"
   ]
  },
  {
   "cell_type": "markdown",
   "id": "8151c747",
   "metadata": {
    "pycharm": {
     "name": "#%% md\n"
    }
   },
   "source": [
    "Now we will start a raphtory instance and load our data"
   ]
  },
  {
   "cell_type": "code",
   "execution_count": 7,
   "id": "b4cc50b4",
   "metadata": {
    "collapsed": false,
    "jupyter": {
     "outputs_hidden": false
    },
    "pycharm": {
     "name": "#%%\n"
    }
   },
   "outputs": [
    {
     "name": "stdout",
     "output_type": "stream",
     "text": [
      "10:40:43.597 [io-compute-blocker-5] INFO  com.raphtory.internals.management.Py4JServer - Starting PythonGatewayServer...\n",
      "Port: 60003\n",
      "Secret: d740fe48110b3a213522d89a0f90c616f8dbfda785a03a6827b553dd2cb8b461\n",
      "10:40:44.496 [Thread-12] INFO  com.raphtory.internals.management.PythonInterop$ - Shutting down pyraphtory\n",
      "10:40:44.570 [Thread-11] INFO  com.raphtory.internals.context.LocalContext$ - Creating Service for 'empty_fuchsia_wildcat'\n",
      "10:40:44.603 [io-compute-blocker-3] INFO  com.raphtory.internals.management.Prometheus$ - Prometheus started on port /0:0:0:0:0:0:0:0:9999\n",
      "10:40:45.198 [io-compute-blocker-3] INFO  com.raphtory.internals.components.partition.PartitionOrchestrator$ - Creating '1' Partition Managers for 'empty_fuchsia_wildcat'.\n",
      "10:40:45.476 [io-compute-blocker-5] INFO  com.raphtory.internals.components.partition.PartitionManager - Partition 0: Starting partition manager for 'empty_fuchsia_wildcat'.\n"
     ]
    },
    {
     "ename": "RuntimeError",
     "evalue": "No overloaded implementations matched for apply with args=('/Users/haaroony/Documents/nft/Data_API_reduced.csv',) and kwargs={}",
     "output_type": "error",
     "traceback": [
      "\u001b[0;31m---------------------------------------------------------------------------\u001b[0m",
      "\u001b[0;31mRuntimeError\u001b[0m                              Traceback (most recent call last)",
      "Input \u001b[0;32mIn [7]\u001b[0m, in \u001b[0;36m<cell line: 4>\u001b[0;34m()\u001b[0m\n\u001b[1;32m      1\u001b[0m pr \u001b[38;5;241m=\u001b[39m PyRaphtory(logging\u001b[38;5;241m=\u001b[39m\u001b[38;5;28;01mTrue\u001b[39;00m)\u001b[38;5;241m.\u001b[39mopen()\n\u001b[1;32m      2\u001b[0m graph \u001b[38;5;241m=\u001b[39m pr\u001b[38;5;241m.\u001b[39mnew_graph()\n\u001b[0;32m----> 4\u001b[0m graph\u001b[38;5;241m.\u001b[39mload(Source(\u001b[43mFileSpout\u001b[49m\u001b[43m(\u001b[49m\u001b[43mfilename\u001b[49m\u001b[43m)\u001b[49m, GraphBuilder(parse_graph)))\n",
      "File \u001b[0;32m~/opt/anaconda3/envs/test2/lib/python3.9/site-packages/pyraphtory/interop.py:565\u001b[0m, in \u001b[0;36mScalaClassProxy.__new__\u001b[0;34m(cls, jvm_object, *args, **kwargs)\u001b[0m\n\u001b[1;32m    562\u001b[0m \u001b[38;5;28;01mdef\u001b[39;00m \u001b[38;5;21m__new__\u001b[39m(\u001b[38;5;28mcls\u001b[39m, \u001b[38;5;241m*\u001b[39margs, jvm_object\u001b[38;5;241m=\u001b[39m\u001b[38;5;28;01mNone\u001b[39;00m, \u001b[38;5;241m*\u001b[39m\u001b[38;5;241m*\u001b[39mkwargs):\n\u001b[1;32m    563\u001b[0m     \u001b[38;5;28;01mif\u001b[39;00m jvm_object \u001b[38;5;129;01mis\u001b[39;00m \u001b[38;5;28;01mNone\u001b[39;00m:\n\u001b[1;32m    564\u001b[0m         \u001b[38;5;66;03m# call scala constructor\u001b[39;00m\n\u001b[0;32m--> 565\u001b[0m         \u001b[38;5;28;01mreturn\u001b[39;00m \u001b[38;5;28;43mcls\u001b[39;49m\u001b[38;5;241;43m.\u001b[39;49m\u001b[43m_build_from_python\u001b[49m\u001b[43m(\u001b[49m\u001b[38;5;241;43m*\u001b[39;49m\u001b[43margs\u001b[49m\u001b[43m,\u001b[49m\u001b[43m \u001b[49m\u001b[38;5;241;43m*\u001b[39;49m\u001b[38;5;241;43m*\u001b[39;49m\u001b[43mkwargs\u001b[49m\u001b[43m)\u001b[49m\n\u001b[1;32m    566\u001b[0m     \u001b[38;5;28;01melse\u001b[39;00m:\n\u001b[1;32m    567\u001b[0m         \u001b[38;5;66;03m# construct from existing object\u001b[39;00m\n\u001b[1;32m    568\u001b[0m         \u001b[38;5;28mself\u001b[39m \u001b[38;5;241m=\u001b[39m \u001b[38;5;28msuper\u001b[39m()\u001b[38;5;241m.\u001b[39m\u001b[38;5;21m__new__\u001b[39m(\u001b[38;5;28mcls\u001b[39m, jvm_object\u001b[38;5;241m=\u001b[39mjvm_object)\n",
      "File \u001b[0;32m~/opt/anaconda3/envs/test2/lib/python3.9/site-packages/pyraphtory/interop.py:560\u001b[0m, in \u001b[0;36mScalaClassProxy._build_from_python\u001b[0;34m(cls, *args, **kwargs)\u001b[0m\n\u001b[1;32m    557\u001b[0m \u001b[38;5;129m@classmethod\u001b[39m\n\u001b[1;32m    558\u001b[0m \u001b[38;5;28;01mdef\u001b[39;00m \u001b[38;5;21m_build_from_python\u001b[39m(\u001b[38;5;28mcls\u001b[39m, \u001b[38;5;241m*\u001b[39margs, \u001b[38;5;241m*\u001b[39m\u001b[38;5;241m*\u001b[39mkwargs):\n\u001b[1;32m    559\u001b[0m     \u001b[38;5;124;03m\"\"\"Override to control python-side constructor behaviours (e.g., using a builder for sequence construction)\"\"\"\u001b[39;00m\n\u001b[0;32m--> 560\u001b[0m     \u001b[38;5;28;01mreturn\u001b[39;00m \u001b[38;5;28;43mcls\u001b[39;49m\u001b[38;5;241;43m.\u001b[39;49m\u001b[43mapply\u001b[49m\u001b[43m(\u001b[49m\u001b[38;5;241;43m*\u001b[39;49m\u001b[43margs\u001b[49m\u001b[43m,\u001b[49m\u001b[43m \u001b[49m\u001b[38;5;241;43m*\u001b[39;49m\u001b[38;5;241;43m*\u001b[39;49m\u001b[43mkwargs\u001b[49m\u001b[43m)\u001b[49m\n",
      "File \u001b[0;32m~/opt/anaconda3/envs/test2/lib/python3.9/site-packages/pyraphtory/interop.py:445\u001b[0m, in \u001b[0;36mOverloadedMethod.__call__\u001b[0;34m(self, *args, **kwargs)\u001b[0m\n\u001b[1;32m    443\u001b[0m     \u001b[38;5;28;01mexcept\u001b[39;00m \u001b[38;5;167;01mException\u001b[39;00m \u001b[38;5;28;01mas\u001b[39;00m e:\n\u001b[1;32m    444\u001b[0m         logger\u001b[38;5;241m.\u001b[39mtrace(\u001b[38;5;124m\"\u001b[39m\u001b[38;5;124mcall failed for \u001b[39m\u001b[38;5;132;01m{name}\u001b[39;00m\u001b[38;5;124m with exception \u001b[39m\u001b[38;5;132;01m{e}\u001b[39;00m\u001b[38;5;124m\"\u001b[39m, e\u001b[38;5;241m=\u001b[39me, name\u001b[38;5;241m=\u001b[39m\u001b[38;5;28mself\u001b[39m\u001b[38;5;241m.\u001b[39m\u001b[38;5;18m__name__\u001b[39m)\n\u001b[0;32m--> 445\u001b[0m \u001b[38;5;28;01mraise\u001b[39;00m \u001b[38;5;167;01mRuntimeError\u001b[39;00m(\u001b[38;5;124mf\u001b[39m\u001b[38;5;124m\"\u001b[39m\u001b[38;5;124mNo overloaded implementations matched for \u001b[39m\u001b[38;5;132;01m{\u001b[39;00m\u001b[38;5;28mself\u001b[39m\u001b[38;5;241m.\u001b[39m\u001b[38;5;18m__name__\u001b[39m\u001b[38;5;132;01m}\u001b[39;00m\u001b[38;5;124m with \u001b[39m\u001b[38;5;132;01m{\u001b[39;00margs\u001b[38;5;132;01m=}\u001b[39;00m\u001b[38;5;124m and \u001b[39m\u001b[38;5;132;01m{\u001b[39;00mkwargs\u001b[38;5;132;01m=}\u001b[39;00m\u001b[38;5;124m\"\u001b[39m)\n",
      "\u001b[0;31mRuntimeError\u001b[0m: No overloaded implementations matched for apply with args=('/Users/haaroony/Documents/nft/Data_API_reduced.csv',) and kwargs={}"
     ]
    }
   ],
   "source": [
    "pr = PyRaphtory(logging=True).open()\n",
    "graph = pr.new_graph()\n",
    "\n",
    "graph.load(Source(FileSpout(filename), GraphBuilder(parse_graph)))"
   ]
  },
  {
   "cell_type": "markdown",
   "id": "dde587a5",
   "metadata": {
    "pycharm": {
     "name": "#%% md\n"
    }
   },
   "source": [
    "## Executing a Cycle detection algorithm"
   ]
  },
  {
   "cell_type": "markdown",
   "id": "03722ce8",
   "metadata": {
    "pycharm": {
     "name": "#%% md\n"
    }
   },
   "source": [
    "Below is a visual representation of the cycle detection. \n",
    "\n",
    "This is when a NFT has been sold by a wallet, but eventually ends up being owned by it again. This can involve a chain of any number of other wallets, take any amount of time, and increase or decrease the price by any amount.\n",
    "\n",
    "Below we can see an example of such a cycle where Wallet A sold an NFT to Wallet B for $50$ on Monday, but its back in their position by Thursday, costing them $750$. They either have serious sellers remorse or, more likely, the same person owns all these wallets and is trying to pump up the price of the given NFT.\n",
    "\n",
    "Our algorithm:\n",
    "- Gets each NFT\n",
    "- For each time it was purchased, checks the list of purchases to see if a user re-bought the NFT at a later date, at a higher price\n",
    "\n",
    "This all happens within the `step` function. A `step` is executed once on each node.  \n",
    "\n",
    "The code has been optimised to O(n) complexity. "
   ]
  },
  {
   "cell_type": "markdown",
   "id": "961be03e-f436-426f-bf96-2acd7ecdee04",
   "metadata": {},
   "source": [
    "![title](https://www.raphtory.com/images/nfts/NFT_Cycle.png)"
   ]
  },
  {
   "cell_type": "code",
   "execution_count": null,
   "id": "75bf8002",
   "metadata": {
    "collapsed": false,
    "jupyter": {
     "outputs_hidden": false
    },
    "pycharm": {
     "name": "#%%\n"
    }
   },
   "outputs": [],
   "source": [
    "from pyraphtory.algorithm import PyAlgorithm\n",
    "from pyraphtory.graph import TemporalGraph, Row\n",
    "from pyraphtory.vertex import Vertex\n",
    "\n",
    "CYCLES_FOUND: str = \"CYCLES_FOUND\"\n",
    "\n",
    "class CycleMania(PyAlgorithm):\n",
    "def __call__(self, graph: TemporalGraph) -> TemporalGraph:\n",
    "    def step(v: Vertex):\n",
    "        if v.type() != \"NFT\":\n",
    "            v[CYCLES_FOUND] = []\n",
    "            return\n",
    "        all_cycles = []\n",
    "        all_purchases = sorted(v.explode_in_edges(), key=lambda e: e.timestamp())\n",
    "        purchasers = list(map(lambda e:\n",
    "                              dict(price_usd=float(e.get_property_or_else(\"price_usd\", 0.0)),\n",
    "                                   nft_id=e.get_property_or_else(\"token_id\", \"_UNKNOWN_\"),\n",
    "                                   tx_hash=e.get_property_or_else(\"transaction_hash\", \"\"),\n",
    "                                   time=e.timestamp(),\n",
    "                                   buyer=e.get_property_or_else(\"buyer_address\", \"_UNKNOWN_\")),\n",
    "                                  all_purchases))\n",
    "                              all_purchases))\n",
    "        if len(purchasers) > 2:\n",
    "            buyers_seen = {}\n",
    "            for pos, item_sale in enumerate(purchasers):\n",
    "                buyer_id = item_sale['buyer']\n",
    "                if buyer_id not in buyers_seen:\n",
    "                    buyers_seen[buyer_id] = pos\n",
    "                else:\n",
    "                    prev_pos = buyers_seen[buyer_id]\n",
    "                    prev_price = purchasers[prev_pos]['price_usd']\n",
    "                    current_price = item_sale['price_usd']\n",
    "                    buyers_seen[buyer_id] = pos\n",
    "                    if prev_price < current_price:\n",
    "                        all_cycles.append(purchasers[prev_pos:pos + 1])\n",
    "        if len(all_cycles):\n",
    "            v[CYCLES_FOUND] = all_cycles\n",
    "        else:\n",
    "            v[CYCLES_FOUND] = []\n",
    "\n",
    "    return graph.reduced_view().step(step)\n",
    "\n",
    "def tabularise(self, graph: TemporalGraph):\n",
    "    def get_cycles(v: Vertex):\n",
    "        vertex_type = v.type()\n",
    "        rows_found = [Row()]\n",
    "        if vertex_type == \"NFT\" and len(v[CYCLES_FOUND]):\n",
    "            nft_id = v.get_property_or_else('collection', '_UNKNOWN_')\n",
    "            cycles_found = v[CYCLES_FOUND]\n",
    "            nft_collection = v.get_property_or_else('collection', '_UNKNOWN_')\n",
    "            nft_category = v.get_property_or_else('category', '_UNKNOWN_')\n",
    "            rows_found = list(map(lambda single_cycle:\n",
    "                                  Row(\n",
    "                                      nft_id,\n",
    "                                      nft_collection,\n",
    "                                      nft_category,\n",
    "                                      len(single_cycle),\n",
    "                                      dict(cycle={'sales': single_cycle}),\n",
    "                                      profit_usd=float(single_cycle[len(single_cycle) - 1]['price_usd']) -\n",
    "                                                 float(single_cycle[0]['price_usd']),\n",
    "                                      buyer=str(single_cycle[0]['buyer'])\n",
    "                                  ), cycles_found))\n",
    "        return rows_found\n",
    "\n",
    "    return graph.explode_select(lambda v: get_cycles(v)).filter(lambda row: len(row.get_values()) > 0)"
   ]
  },
  {
   "cell_type": "markdown",
   "id": "d446664f",
   "metadata": {
    "pycharm": {
     "name": "#%% md\n"
    }
   },
   "source": [
    "We run the algorithm as follows "
   ]
  },
  {
   "cell_type": "code",
   "execution_count": null,
   "id": "440d9036",
   "metadata": {
    "collapsed": false,
    "jupyter": {
     "outputs_hidden": false
    },
    "pycharm": {
     "name": "#%%\n"
    }
   },
   "outputs": [],
   "source": [
    "graph\n",
    "    .at(at_time)\n",
    "    .past()\n",
    "    .execute(CycleMania())\n",
    "    .write_to(FileSink('/tmp/raphtory_nft_python', format=JsonFormat()))\n",
    "    .wait_for_job()"
   ]
  },
  {
   "cell_type": "markdown",
   "id": "80fca3c4",
   "metadata": {
    "pycharm": {
     "name": "#%% md\n"
    }
   },
   "source": [
    "## Analysing the results\n",
    "\n",
    "First we import the tools we are using for analysis"
   ]
  },
  {
   "cell_type": "code",
   "execution_count": 9,
   "id": "daa48d4d-3d73-4a54-b03f-a030760e86e2",
   "metadata": {
    "pycharm": {
     "name": "#%%\n"
    }
   },
   "outputs": [],
   "source": [
    "import pandas as pd\n",
    "import json\n",
    "import seaborn as sns\n",
    "from scipy import stats\n",
    "import numpy as np\n",
    "import time\n",
    "import matplotlib.pyplot as plt\n",
    "plt.rcParams['font.size'] = '16'\n",
    "from nft_helper import *\n",
    "from collections import Counter"
   ]
  },
  {
   "cell_type": "markdown",
   "id": "74fdf863-a783-4702-a626-6b117da34ba4",
   "metadata": {
    "pycharm": {
     "name": "#%% md\n"
    }
   },
   "source": [
    "### Read data\n",
    "\n",
    "We will now read the data that Raphtory produced. \n",
    "\n",
    "Please check which path the data was saved too, and adjust the line below. \n",
    "\n",
    "In our case, Raphtory saved the data to the `CycleMania_8220652547042296969` folder. "
   ]
  },
  {
   "cell_type": "code",
   "execution_count": 14,
   "id": "828ebbed-0cad-4c30-b753-6b51c33c3c1d",
   "metadata": {
    "pycharm": {
     "name": "#%%\n"
    }
   },
   "outputs": [
    {
     "name": "stdout",
     "output_type": "stream",
     "text": [
      "amount of data 11848\n"
     ]
    }
   ],
   "source": [
    "# data = load_json('/tmp/raphtory_nft_python/CycleMania_8220652547042296969/partition-0.json')\n",
    "data = load_json(\"/private/tmp/raphtory_nft_scala/CycleMania_7751601672828082098/partition-0.json\")\n",
    "new_data = []\n",
    "# filter any cycles that are less than 2 hops\n",
    "for d in data:\n",
    "    if d['row'][3] > 2:\n",
    "        new_data.append(d)\n",
    "data = new_data\n",
    "data_df = pd.DataFrame(data)"
   ]
  },
  {
   "cell_type": "code",
   "execution_count": 15,
   "id": "5deb9a08",
   "metadata": {
    "pycharm": {
     "name": "#%%\n"
    }
   },
   "outputs": [
    {
     "data": {
      "text/html": [
       "<div>\n",
       "<style scoped>\n",
       "    .dataframe tbody tr th:only-of-type {\n",
       "        vertical-align: middle;\n",
       "    }\n",
       "\n",
       "    .dataframe tbody tr th {\n",
       "        vertical-align: top;\n",
       "    }\n",
       "\n",
       "    .dataframe thead th {\n",
       "        text-align: right;\n",
       "    }\n",
       "</style>\n",
       "<table border=\"1\" class=\"dataframe\">\n",
       "  <thead>\n",
       "    <tr style=\"text-align: right;\">\n",
       "      <th></th>\n",
       "      <th>timestamp</th>\n",
       "      <th>window</th>\n",
       "      <th>row</th>\n",
       "      <th>profit</th>\n",
       "      <th>min_ts</th>\n",
       "      <th>max_ts</th>\n",
       "      <th>length</th>\n",
       "      <th>duration_days</th>\n",
       "    </tr>\n",
       "  </thead>\n",
       "  <tbody>\n",
       "    <tr>\n",
       "      <th>0</th>\n",
       "      <td>1561661534</td>\n",
       "      <td>None</td>\n",
       "      <td>[34508_Etheremon, Etheremon, Games, 132, {'buy...</td>\n",
       "      <td>14.948830</td>\n",
       "      <td>1559431032</td>\n",
       "      <td>1561568522</td>\n",
       "      <td>132</td>\n",
       "      <td>24.739468</td>\n",
       "    </tr>\n",
       "    <tr>\n",
       "      <th>1</th>\n",
       "      <td>1561661534</td>\n",
       "      <td>None</td>\n",
       "      <td>[34508_Etheremon, Etheremon, Games, 35, {'buye...</td>\n",
       "      <td>11.719305</td>\n",
       "      <td>1561069915</td>\n",
       "      <td>1561554482</td>\n",
       "      <td>35</td>\n",
       "      <td>5.608414</td>\n",
       "    </tr>\n",
       "    <tr>\n",
       "      <th>2</th>\n",
       "      <td>1561661534</td>\n",
       "      <td>None</td>\n",
       "      <td>[34508_Etheremon, Etheremon, Games, 24, {'buye...</td>\n",
       "      <td>5.783180</td>\n",
       "      <td>1561212460</td>\n",
       "      <td>1561540043</td>\n",
       "      <td>24</td>\n",
       "      <td>3.791470</td>\n",
       "    </tr>\n",
       "    <tr>\n",
       "      <th>3</th>\n",
       "      <td>1561661534</td>\n",
       "      <td>None</td>\n",
       "      <td>[34508_Etheremon, Etheremon, Games, 8, {'buyer...</td>\n",
       "      <td>3.094390</td>\n",
       "      <td>1561426005</td>\n",
       "      <td>1561525986</td>\n",
       "      <td>8</td>\n",
       "      <td>1.157188</td>\n",
       "    </tr>\n",
       "    <tr>\n",
       "      <th>4</th>\n",
       "      <td>1561661534</td>\n",
       "      <td>None</td>\n",
       "      <td>[34508_Etheremon, Etheremon, Games, 9, {'buyer...</td>\n",
       "      <td>4.967755</td>\n",
       "      <td>1561397526</td>\n",
       "      <td>1561511567</td>\n",
       "      <td>9</td>\n",
       "      <td>1.319919</td>\n",
       "    </tr>\n",
       "    <tr>\n",
       "      <th>...</th>\n",
       "      <td>...</td>\n",
       "      <td>...</td>\n",
       "      <td>...</td>\n",
       "      <td>...</td>\n",
       "      <td>...</td>\n",
       "      <td>...</td>\n",
       "      <td>...</td>\n",
       "      <td>...</td>\n",
       "    </tr>\n",
       "    <tr>\n",
       "      <th>11698</th>\n",
       "      <td>1561661534</td>\n",
       "      <td>None</td>\n",
       "      <td>[1043670_Cryptokittie, Cryptokittie, Art, 3, {...</td>\n",
       "      <td>0.137700</td>\n",
       "      <td>1550255282</td>\n",
       "      <td>1550312298</td>\n",
       "      <td>3</td>\n",
       "      <td>0.659907</td>\n",
       "    </tr>\n",
       "    <tr>\n",
       "      <th>11699</th>\n",
       "      <td>1561661534</td>\n",
       "      <td>None</td>\n",
       "      <td>[1043670_Cryptokittie, Cryptokittie, Art, 12, ...</td>\n",
       "      <td>0.042525</td>\n",
       "      <td>1550013179</td>\n",
       "      <td>1550226823</td>\n",
       "      <td>12</td>\n",
       "      <td>2.472731</td>\n",
       "    </tr>\n",
       "    <tr>\n",
       "      <th>11700</th>\n",
       "      <td>1561661534</td>\n",
       "      <td>None</td>\n",
       "      <td>[1043670_Cryptokittie, Cryptokittie, Art, 4, {...</td>\n",
       "      <td>0.230175</td>\n",
       "      <td>1549984672</td>\n",
       "      <td>1550027402</td>\n",
       "      <td>4</td>\n",
       "      <td>0.494560</td>\n",
       "    </tr>\n",
       "    <tr>\n",
       "      <th>11701</th>\n",
       "      <td>1561661534</td>\n",
       "      <td>None</td>\n",
       "      <td>[1043670_Cryptokittie, Cryptokittie, Art, 6, {...</td>\n",
       "      <td>2.278800</td>\n",
       "      <td>1549557084</td>\n",
       "      <td>1549998801</td>\n",
       "      <td>6</td>\n",
       "      <td>5.112465</td>\n",
       "    </tr>\n",
       "    <tr>\n",
       "      <th>11702</th>\n",
       "      <td>1561661534</td>\n",
       "      <td>None</td>\n",
       "      <td>[1043670_Cryptokittie, Cryptokittie, Art, 6, {...</td>\n",
       "      <td>2.278800</td>\n",
       "      <td>1549540983</td>\n",
       "      <td>1549984672</td>\n",
       "      <td>6</td>\n",
       "      <td>5.135289</td>\n",
       "    </tr>\n",
       "  </tbody>\n",
       "</table>\n",
       "<p>11703 rows × 8 columns</p>\n",
       "</div>"
      ],
      "text/plain": [
       "        timestamp window                                                row  \\\n",
       "0      1561661534   None  [34508_Etheremon, Etheremon, Games, 132, {'buy...   \n",
       "1      1561661534   None  [34508_Etheremon, Etheremon, Games, 35, {'buye...   \n",
       "2      1561661534   None  [34508_Etheremon, Etheremon, Games, 24, {'buye...   \n",
       "3      1561661534   None  [34508_Etheremon, Etheremon, Games, 8, {'buyer...   \n",
       "4      1561661534   None  [34508_Etheremon, Etheremon, Games, 9, {'buyer...   \n",
       "...           ...    ...                                                ...   \n",
       "11698  1561661534   None  [1043670_Cryptokittie, Cryptokittie, Art, 3, {...   \n",
       "11699  1561661534   None  [1043670_Cryptokittie, Cryptokittie, Art, 12, ...   \n",
       "11700  1561661534   None  [1043670_Cryptokittie, Cryptokittie, Art, 4, {...   \n",
       "11701  1561661534   None  [1043670_Cryptokittie, Cryptokittie, Art, 6, {...   \n",
       "11702  1561661534   None  [1043670_Cryptokittie, Cryptokittie, Art, 6, {...   \n",
       "\n",
       "          profit      min_ts      max_ts  length  duration_days  \n",
       "0      14.948830  1559431032  1561568522     132      24.739468  \n",
       "1      11.719305  1561069915  1561554482      35       5.608414  \n",
       "2       5.783180  1561212460  1561540043      24       3.791470  \n",
       "3       3.094390  1561426005  1561525986       8       1.157188  \n",
       "4       4.967755  1561397526  1561511567       9       1.319919  \n",
       "...          ...         ...         ...     ...            ...  \n",
       "11698   0.137700  1550255282  1550312298       3       0.659907  \n",
       "11699   0.042525  1550013179  1550226823      12       2.472731  \n",
       "11700   0.230175  1549984672  1550027402       4       0.494560  \n",
       "11701   2.278800  1549557084  1549998801       6       5.112465  \n",
       "11702   2.278800  1549540983  1549984672       6       5.135289  \n",
       "\n",
       "[11703 rows x 8 columns]"
      ]
     },
     "metadata": {},
     "output_type": "display_data"
    }
   ],
   "source": [
    "data_df[\"profit\"]=data_df[\"row\"].apply(lambda x: x[4]['profit_usd'])\n",
    "data_df[\"min_ts\"] = data_df[\"row\"].apply(lambda x: min(map(lambda y: y[\"time\"],x[4]['cycle']['sales'])))\n",
    "data_df[\"max_ts\"] = data_df[\"row\"].apply(lambda x: max(map(lambda y: y[\"time\"],x[4]['cycle']['sales'])))\n",
    "data_df[\"length\"] = data_df[\"row\"].apply(lambda x: len(x[4]['cycle']['sales']))\n",
    "data_df[\"duration_days\"] = (data_df[\"max_ts\"] - data_df[\"min_ts\"])/86400\n",
    "display(data_df)"
   ]
  },
  {
   "cell_type": "markdown",
   "id": "07f4b57d-6e61-4784-bb08-3f24dad0f451",
   "metadata": {
    "pycharm": {
     "name": "#%% md\n"
    }
   },
   "source": [
    "## Cycle length distributions\n",
    "\n",
    "Below is a simple CDF showing the distribution of the lengths of cycles. "
   ]
  },
  {
   "cell_type": "code",
   "execution_count": 27,
   "id": "49f90558",
   "metadata": {
    "pycharm": {
     "name": "#%%\n"
    }
   },
   "outputs": [
    {
     "data": {
      "image/png": "[encoded data removed]",
      "text/plain": [
       "<Figure size 640x480 with 1 Axes>"
      ]
     },
     "metadata": {},
     "output_type": "display_data"
    }
   ],
   "source": [
    "x,y = ccdf(data_df.duration_days)\n",
    "\n",
    "fig, ax = plt.subplots()\n",
    "ax.set_xscale(\"log\")\n",
    "ax.set_yscale(\"log\")\n",
    "ax.plot(x,y, marker=\"o\")\n",
    "ax.set_ylabel(\"CCDF\")\n",
    "ax.set_xlabel(\"Cycle duration (days)\")\n",
    "\n",
    "plt.show()"
   ]
  },
  {
   "cell_type": "code",
   "execution_count": 28,
   "id": "aca2c97f",
   "metadata": {
    "pycharm": {
     "name": "#%%\n"
    }
   },
   "outputs": [
    {
     "data": {
      "image/png": "[encoded data removed]",
      "text/plain": [
       "<Figure size 640x480 with 1 Axes>"
      ]
     },
     "metadata": {},
     "output_type": "display_data"
    }
   ],
   "source": [
    "x,y = ccdf(data_df.length)\n",
    "\n",
    "fig, ax = plt.subplots()\n",
    "ax.set_xscale(\"log\")\n",
    "ax.set_yscale(\"log\")\n",
    "ax.plot(x,y, marker=\"o\")\n",
    "ax.set_ylabel(\"CCDF\")\n",
    "ax.set_xlabel(\"Cycle length (hops)\")\n",
    "\n",
    "plt.show()"
   ]
  },
  {
   "cell_type": "markdown",
   "id": "16998477-aa46-46d6-9b95-332464fdc204",
   "metadata": {
    "pycharm": {
     "name": "#%% md\n"
    }
   },
   "source": [
    "## How many traders took part in cycles?"
   ]
  },
  {
   "cell_type": "code",
   "execution_count": 29,
   "id": "2bda6800-39d1-4683-948b-992a8b2b947d",
   "metadata": {
    "scrolled": true,
    "tags": []
   },
   "outputs": [
    {
     "name": "stdout",
     "output_type": "stream",
     "text": [
      "0x8acc1421ec98689461ff5777de8ad6648dc6d643\n",
      "{'avg': 2.25195539174045, 'count': 617, 'total_profit': 1389.4564767038576}\n",
      "\n",
      "0x00c9da65b33b4f7034b5f50b90f5f6d8320d6ab8\n",
      "{'avg': 2.1960905438311666, 'count': 616, 'total_profit': 1352.7917749999988}\n",
      "\n",
      "0xa21e0974137bf8400eb7dca606d9dcb190d79ed9\n",
      "{'avg': 2.30064266286645, 'count': 614, 'total_profit': 1412.5945950000003}\n",
      "\n",
      "0x838c14eb3eabe4cb6a696d286c7b2a466629d0ee\n",
      "{'avg': 2.357247238562093, 'count': 612, 'total_profit': 1442.6353100000008}\n",
      "\n",
      "0x1c1ef71445010114f41ac1feb32dbf5d7281e90f\n",
      "{'avg': 2.347460337171053, 'count': 608, 'total_profit': 1427.2558850000003}\n",
      "\n",
      "0x6a47b60c377450a460d3eb828d534ee66eead668\n",
      "{'avg': 2.29687113410596, 'count': 604, 'total_profit': 1387.3101649999999}\n",
      "\n",
      "0xe738725cdcc41c91f734dd7b5b9659df994d6dda\n",
      "{'avg': 2.2413728476821198, 'count': 604, 'total_profit': 1353.7892000000004}\n",
      "\n",
      "0x463215edb66fb6a8f0c979e739a731977617699f\n",
      "{'avg': 2.1705960117056864, 'count': 598, 'total_profit': 1298.0164150000005}\n",
      "\n",
      "0x1e7f320cf5a938465d501f6bd6c405feb3a70f6c\n",
      "{'avg': 2.226550720268008, 'count': 597, 'total_profit': 1329.2507800000008}\n",
      "\n",
      "0x179d698f5a1c84c3ff4c5eb04e553c15a0c1d8d8\n",
      "{'avg': 2.2783097403685084, 'count': 597, 'total_profit': 1360.1509149999995}\n",
      "\n",
      "0x6e13c7e25c2cda6f5c8c4e431bee480bfb312c28\n",
      "{'avg': 2.260721519524618, 'count': 589, 'total_profit': 1331.5649750000002}\n",
      "\n",
      "0x236ef21dc36d0aec3990dd5ee84a9d5320644262\n",
      "{'avg': 2.302746853448277, 'count': 580, 'total_profit': 1335.5931750000007}\n",
      "\n",
      "0xf5aee6d7b838d5ede8aa65d31dbc11116545180c\n",
      "{'avg': 2.2790570608695653, 'count': 575, 'total_profit': 1310.45781}\n",
      "\n",
      "0xbabda06088c242fb2a763aa7cc99706cb77ba735\n",
      "{'avg': 2.312860959860383, 'count': 573, 'total_profit': 1325.2693299999994}\n",
      "\n",
      "0x68d31cb3825e559b1e5c0665f2d65d06a17fce1a\n",
      "{'avg': 2.1250271578947344, 'count': 570, 'total_profit': 1211.2654799999987}\n",
      "\n",
      "0xa37e6b46fa8e1a6f1ddbf035c4e0230b8414ff04\n",
      "{'avg': 2.1527055114638456, 'count': 567, 'total_profit': 1220.5840250000003}\n",
      "\n",
      "0xcdcadf0279ee021a0c40a31ac10fa69e028e21d0\n",
      "{'avg': 2.3056730797101417, 'count': 552, 'total_profit': 1272.7315399999982}\n",
      "\n",
      "0x7316e9cf94bef40d4981d66a5c41c38b6b32454c\n",
      "{'avg': 2.2200820802919687, 'count': 548, 'total_profit': 1216.604979999999}\n",
      "\n",
      "0x87b77fabfeb869150b8e1b9462603f9a639c5fae\n",
      "{'avg': 2.285133267419961, 'count': 531, 'total_profit': 1213.4057649999993}\n",
      "\n",
      "0xadd12bd6375dc21d579cc4abcfa04864d6ac9a62\n",
      "{'avg': 2.277689195075759, 'count': 528, 'total_profit': 1202.619895000001}\n",
      "\n",
      "0xf6d22b698d04634f218fc03788784fa55765c7b4\n",
      "{'avg': 811.62565, 'count': 2, 'total_profit': 1623.2513}\n",
      "\n",
      "0x44918a232e860498a54a74f8c312e4a6a4b0ccf9\n",
      "{'avg': 1.7402699999999998, 'count': 2, 'total_profit': 3.4805399999999995}\n",
      "\n",
      "0xc160ce5a535772b3c606a46e19008578e277d55c\n",
      "{'avg': 2.0031915056792546, 'count': 2, 'total_profit': 4.006383011358509}\n",
      "\n",
      "0x056bfac0c2abca95490027a6e29e9bf039f1d0f6\n",
      "{'avg': 3.415020000000002, 'count': 1, 'total_profit': 3.415020000000002}\n",
      "\n",
      "0x36b6e5010732bf1cd0d5178fd130a11635dc40e3\n",
      "{'avg': 1.9479800000000012, 'count': 1, 'total_profit': 1.9479800000000012}\n",
      "\n",
      "0xfd380c3c8c079e1161bb0f95772e91875b76f80a\n",
      "{'avg': 16.213850000000004, 'count': 1, 'total_profit': 16.213850000000004}\n",
      "\n",
      "0x0945255148a4e0fafb31af7964d67a827442c8fd\n",
      "{'avg': 240.57750000000004, 'count': 1, 'total_profit': 240.57750000000004}\n",
      "\n",
      "0x7c259c9162056e109ea5ffdb1a1b6fefdcd4b907\n",
      "{'avg': 4.645528535639883, 'count': 1, 'total_profit': 4.645528535639883}\n",
      "\n",
      "0xfd5aa534af56244a1d7b1740e7783ae7479dfc3d\n",
      "{'avg': 0.005355009970895497, 'count': 1, 'total_profit': 0.005355009970895497}\n",
      "\n",
      "0xee68dc68913ee5606608c90d9b5db8ec4b12774c\n",
      "{'avg': 0.7395807262827934, 'count': 1, 'total_profit': 0.7395807262827934}\n",
      "\n",
      "0x8805c680b191a244fb41a8d475e6fe33031396e4\n",
      "{'avg': 17.599675646873358, 'count': 1, 'total_profit': 17.599675646873358}\n",
      "\n",
      "0x6be4a7bbb812bfa6a63126ee7b76c8a13529bdb8\n",
      "{'avg': 8.524000000000004, 'count': 1, 'total_profit': 8.524000000000004}\n",
      "\n",
      "0x0239769a1adf4def9f07da824b80b9c4fcb59593\n",
      "{'avg': 8.00545, 'count': 1, 'total_profit': 8.00545}\n",
      "\n",
      "0x530cf036ed4fa58f7301a9c788c9806624cefd19\n",
      "{'avg': 0.027382013131371688, 'count': 1, 'total_profit': 0.027382013131371688}\n",
      "\n",
      "0xd94d7922ed9dfa3bdb4253773bcdc78d5fc162e6\n",
      "{'avg': 19.512317006868845, 'count': 1, 'total_profit': 19.512317006868845}\n",
      "\n",
      "0x37c701ecd86cdddba614cf194d9a41d1f9c55145\n",
      "{'avg': 83.85087499999995, 'count': 1, 'total_profit': 83.85087499999995}\n",
      "\n",
      "0x7e1dcf785f0353bf657c38ab7865c1f184efe208\n",
      "{'avg': 182.58500000000004, 'count': 1, 'total_profit': 182.58500000000004}\n",
      "\n",
      "0x6b924183307ef2e529db662f80200611328a0cbd\n",
      "{'avg': 44.4174, 'count': 1, 'total_profit': 44.4174}\n",
      "\n",
      "0x56ec15bd7268d71154809dfc5042381168139502\n",
      "{'avg': 0.010728176782828835, 'count': 1, 'total_profit': 0.010728176782828835}\n",
      "\n",
      "0xa1a4ad46867ff5b4cebd83a2a88c2de5637ef2e7\n",
      "{'avg': 19.863466581809753, 'count': 1, 'total_profit': 19.863466581809753}\n",
      "\n"
     ]
    }
   ],
   "source": [
    "traders_profit = {}\n",
    "for row in data:\n",
    "    trade = {\n",
    "        'profit_usd': row['row'][4]['profit_usd'],\n",
    "        'buyer':  row['row'][4]['buyer'],\n",
    "        'cycle_size': row['row'][3],\n",
    "        'nft_id': row['row'][0],\n",
    "        'cycle': row['row'][4]['cycle']['sales']\n",
    "    }\n",
    "    trader = trade['buyer']\n",
    "    profit = trade['profit_usd']\n",
    "    if trader not in traders_profit:\n",
    "        traders_profit[trader] = []\n",
    "    traders_profit[trader].append(profit)\n",
    "traders_avg = {}\n",
    "for trader, _profit in traders_profit.items():\n",
    "    avg = sum(_profit)/len(_profit)\n",
    "    traders_avg[trader] = {\n",
    "        'avg': avg, \n",
    "        'count': len(_profit),\n",
    "        'total_profit': sum(_profit)\n",
    "    }\n",
    "    \n",
    "traders_count_sorted = sorted(traders_avg, key=lambda x: traders_avg[x]['count'], reverse=True)\n",
    "\n",
    "for t in traders_count_sorted[:50]:\n",
    "    print(t)\n",
    "    print(traders_avg[t])\n",
    "    print()"
   ]
  },
  {
   "cell_type": "markdown",
   "id": "b5c1cd6f-73b4-43a4-bf7e-72b9f4553c7f",
   "metadata": {
    "pycharm": {
     "name": "#%% md\n"
    }
   },
   "source": [
    "Above, we can see that 20 traders participated in over 528 cycles each. \n",
    "\n",
    "Lets write some code to inspect these NFT cycles in more depth. \n",
    "\n",
    "The `pretty_cycle` function takes a cycle and prints out each subsequent trade and the profit and time between trades.  "
   ]
  },
  {
   "cell_type": "code",
   "execution_count": 30,
   "id": "c210acf5-6262-4c37-8e3c-ef435639ac16",
   "metadata": {
    "pycharm": {
     "name": "#%%\n"
    }
   },
   "outputs": [],
   "source": [
    "def pretty_cycle(cycle):\n",
    "    as_string = '   '\n",
    "    prev_price = cycle[0]['price_usd']\n",
    "    prev_time = cycle[0]['time']\n",
    "    for item in cycle:\n",
    "        diff = item['price_usd']-prev_price\n",
    "        time_secs = item['time']-prev_time\n",
    "        time_mins = time_secs/60\n",
    "        time_hours = time_secs/60/60\n",
    "        time_days = time_secs/60/60/24 \n",
    "        prev_time = item['time']\n",
    "        time_str = '%.1fm/%.1fh/%.2fd' % (time_mins, time_hours, time_days)\n",
    "        as_string += 'T(d) '+time_str+', B: '+item['buyer'][:4]+'.. $'+str(item['price_usd'])+'('+str(diff)+') '+item['tx_hash']+'\\n->'\n",
    "    as_string = as_string[:-3]\n",
    "    print(as_string)"
   ]
  },
  {
   "cell_type": "markdown",
   "id": "570cf5b9-d4dc-474c-b056-2e7690364057",
   "metadata": {
    "pycharm": {
     "name": "#%% md\n"
    }
   },
   "source": [
    "# Lets take a look at the trader who did the most cycles"
   ]
  },
  {
   "cell_type": "code",
   "execution_count": 36,
   "id": "9244d0fd-96d3-41bc-8cfd-852005f687ee",
   "metadata": {
    "pycharm": {
     "name": "#%%\n"
    }
   },
   "outputs": [],
   "source": [
    "largest_trader_addr = traders_count_sorted[0] # '0x8acc1421ec98689461ff5777de8ad6648dc6d643'\n",
    "largest = []\n",
    "for trade in data:\n",
    "    # ignore any rari tokens, as they are fractionalised\n",
    "    #. ignore any short trades \n",
    "    if '_Rari' in trade['row'][0] or trade['row'][3] <= 2:\n",
    "        continue\n",
    "    if trade['row'][4]['buyer'] == largest_trader_addr:\n",
    "        largest.append(trade)"
   ]
  },
  {
   "cell_type": "markdown",
   "id": "39ebd72c-4700-46bd-bcb1-ebe55f61be2e",
   "metadata": {
    "pycharm": {
     "name": "#%% md\n"
    },
    "tags": []
   },
   "source": [
    "#### Which NFTs did they trade?"
   ]
  },
  {
   "cell_type": "code",
   "execution_count": 33,
   "id": "c9320f70-1913-4406-9c43-a83824d98404",
   "metadata": {
    "pycharm": {
     "name": "#%%\n"
    }
   },
   "outputs": [
    {
     "data": {
      "text/plain": [
       "Counter({'Mlbchampion': 1, 'Cryptokittie': 1, 'Etheremon': 1})"
      ]
     },
     "execution_count": 33,
     "metadata": {},
     "output_type": "execute_result"
    }
   ],
   "source": [
    "from collections import Counter\n",
    "most_common_nft_collection = []\n",
    "most_common_nft = []\n",
    "for trade in largest:\n",
    "    nft_collection =  trade['row'][0].split('_')\n",
    "    if len(nft_collection) > 2:\n",
    "        print(\"crap\")\n",
    "    most_common_nft.append(trade['row'][0])\n",
    "    most_common_nft_collection.append(nft_collection[1])\n",
    "most_common_nft_collection = set(most_common_nft_collection)\n",
    "most_common_nft_collection = Counter(most_common_nft_collection)\n",
    "most_common_nft = Counter(most_common_nft)\n",
    "most_common_nft_collection"
   ]
  },
  {
   "cell_type": "markdown",
   "id": "e221f40c-6bd6-407d-841a-45152a8477b2",
   "metadata": {
    "pycharm": {
     "name": "#%% md\n"
    }
   },
   "source": [
    "#### What happens when we look at their cycles in more detail?"
   ]
  },
  {
   "cell_type": "code",
   "execution_count": 35,
   "id": "03e903de-d267-496b-8945-6db182f6e873",
   "metadata": {
    "pycharm": {
     "name": "#%%\n"
    },
    "scrolled": true,
    "tags": []
   },
   "outputs": [
    {
     "name": "stdout",
     "output_type": "stream",
     "text": [
      "   T(d) 0.0m/0.0h/0.00d, B: 0x8a.. $27.154920000000004(0.0) 0xcf9c78d0d6298cfacf16b1333c29c3e925ff27f80c6835062e3167b92e8cbd78\n",
      "->T(d) 235.0m/3.9h/0.16d, B: 0xf5.. $27.154920000000004(0.0) 0x1e662233d7f3d7986054062c0a538955ed66c6e52d29f1ba2b8e4c961138255b\n",
      "->T(d) 240.7m/4.0h/0.17d, B: 0x87.. $27.154920000000004(0.0) 0xa0a72d30beb89211cfbce243df96b81b070d563213ad201aa644d1db99529ad4\n",
      "->T(d) 234.1m/3.9h/0.16d, B: 0x6a.. $27.154920000000004(0.0) 0x25bd70c90e9c1cb169326bb6479ebd3bc438ef1a58d8d6a822ff7d81cd85e0cb\n",
      "->T(d) 239.7m/4.0h/0.17d, B: 0xa2.. $27.43884000000001(0.2839200000000055) 0xc4ecc72367add3b226833699cb22ef94f78a56eb630c2606816d34dc439e878a\n",
      "->T(d) 236.8m/3.9h/0.16d, B: 0xcd.. $27.43884000000001(0.2839200000000055) 0x4b51c6b9377c8778adf60ca5f99ed9ee4d5cd41145f2d2c8e238a61043a89cc2\n",
      "->T(d) 238.2m/4.0h/0.17d, B: 0xba.. $27.43884000000001(0.2839200000000055) 0x1ac4cc0424eba8113ea068e8c9eff3f9d8c07352ba43e9cd1683e52d5900a89d\n",
      "->T(d) 238.8m/4.0h/0.17d, B: 0x87.. $27.43884000000001(0.2839200000000055) 0xb289ff92a57dc3d00506383e66c3eef5c20a5a61c1de35c0d2496e230946830b\n",
      "->T(d) 236.3m/3.9h/0.16d, B: 0x6a.. $27.43884000000001(0.2839200000000055) 0xdc6c377dda8c52bb1a5d5ab48b3ea60493e1d52bbc04613193996b42e70802d0\n",
      "->T(d) 235.2m/3.9h/0.16d, B: 0x6e.. $27.43884000000001(0.2839200000000055) 0x59de80e5199c6ac7187f9bc977bae6cf636c1ca1fad75a5624aaebf8340fec23\n",
      "->T(d) 240.6m/4.0h/0.17d, B: 0xa3.. $27.45236(0.2974399999999946) 0x5e11a58e0b5ca932663605e1d8690415be7a55662c78ff41da548c04f4fea83d\n",
      "->T(d) 234.8m/3.9h/0.16d, B: 0xba.. $27.45236(0.2974399999999946) 0x09d88eb2b4b6e8033030cc6eeb9d42cca58e5ca6dfbbb3e7e81674d3acb7522c\n",
      "->T(d) 240.5m/4.0h/0.17d, B: 0xe7.. $27.45236(0.2974399999999946) 0x9ac8f4f544e87dfb581387bdfde5eaa66a81d6a167187c1b61e37eabf87d82a9\n",
      "->T(d) 234.9m/3.9h/0.16d, B: 0x1e.. $27.45236(0.2974399999999946) 0x5559d4b689cb51a69f8411a8eb31c6ddda868d4996be828e2896c8457e540b16\n",
      "->T(d) 242.5m/4.0h/0.17d, B: 0x1c.. $27.45236(0.2974399999999946) 0xaa147b6c6402038568f04468ee56513821bfa9eb3485ebac3c61a8d31a9f4540\n",
      "->T(d) 231.9m/3.9h/0.16d, B: 0xa2.. $27.45236(0.2974399999999946) 0x0c7eaa72c470c7abaeb73b895b86aac02a9850cfcfdfdce88e69002c78038c2c\n",
      "->T(d) 241.9m/4.0h/0.17d, B: 0x73.. $28.080195000000003(0.9252749999999992) 0x52f9be5eb18757c2b4c55818596849840cfcca63f9e3019b9087395d589f1a5d\n",
      "->T(d) 233.6m/3.9h/0.16d, B: 0x83.. $28.080195000000003(0.9252749999999992) 0xc8275b4d8525c1472f8cd1d9841279659d0453ce1f14ecda6487063afb984d7b\n",
      "->T(d) 239.2m/4.0h/0.17d, B: 0xf5.. $28.080195000000003(0.9252749999999992) 0x7a732b9bfa41a85458db620db82ce964f0c28ca8f42805481b71d8d76264decd\n",
      "->T(d) 235.3m/3.9h/0.16d, B: 0x17.. $28.080195000000003(0.9252749999999992) 0xa54934a3e0340eeebc56e4d563c24121ad5fc03def43e792d1add7b4eeeb9997\n",
      "->T(d) 240.1m/4.0h/0.17d, B: 0x87.. $28.080195000000003(0.9252749999999992) 0xaa878250b790d0c0f463b1c60727ee65ddf3e6b7bf423462cdc16f2f00583a4c\n",
      "->T(d) 234.3m/3.9h/0.16d, B: 0x46.. $28.080195000000003(0.9252749999999992) 0x5dd4f736209a9b895032e81634f738ff2cd32f4f7cd360a4a7daa0d60ec322a9\n",
      "->T(d) 240.1m/4.0h/0.17d, B: 0xcd.. $28.227225000000004(1.072305) 0xbed8b7765884a14b9b05d196d326ed170c16199b7e16ffda929db71e08338a56\n",
      "->T(d) 235.3m/3.9h/0.16d, B: 0x1e.. $28.227225000000004(1.072305) 0xa794385c9cd8498fca6e385ba35947b9030568eb6e0e162b136d46eba69ca016\n",
      "->T(d) 239.8m/4.0h/0.17d, B: 0xf5.. $28.227225000000004(1.072305) 0x6d90e910d1f70adc9b6b82cf58e6834d9ad364da6a4eaae30eb6948edb7ce841\n",
      "->T(d) 236.3m/3.9h/0.16d, B: 0x68.. $28.227225000000004(1.072305) 0x79d015a1cbe323e7e101814baad9ba3ca9d56d48c096659d1df56ac7828ffdf5\n",
      "->T(d) 238.6m/4.0h/0.17d, B: 0xba.. $28.227225000000004(1.072305) 0xb31d3c58cecc221464c39886596d594421ed6984ac5d153320ea99d4f3b98d5b\n",
      "->T(d) 235.5m/3.9h/0.16d, B: 0xad.. $28.227225000000004(1.072305) 0xf40ab2dc1d8a0e080a477f0508d400a7b167ffd8bf4ae4d550c34afea2b7c83f\n",
      "->T(d) 239.8m/4.0h/0.17d, B: 0x23.. $27.56474500000001(0.409825000000005) 0x3342c27d9d3e465490a8bf8b8993b89be074bfbe937747c85c3666411161e08b\n",
      "->T(d) 234.7m/3.9h/0.16d, B: 0x00.. $27.56474500000001(0.409825000000005) 0x7a77094aa31cc3f4a27c7a214fa4a43996bbcf5774e9d216b38d7b2ad83a99bf\n",
      "->T(d) 240.2m/4.0h/0.17d, B: 0x6e.. $27.56474500000001(0.409825000000005) 0xc19f1949e2d848841cb9d887f184bedff677991d2edb6badd7a2fca63597eac0\n",
      "->T(d) 236.5m/3.9h/0.16d, B: 0xe7.. $27.56474500000001(0.409825000000005) 0xcc1d61a75d6abe88b971a28797fee7ae2391c323b00836f5d45ea418ed315feb\n",
      "->T(d) 239.0m/4.0h/0.17d, B: 0x1c.. $27.56474500000001(0.409825000000005) 0x8265425b72da87159b046ec8c04dd6c1edf79e8c88181b8fd7150c1920a9a057\n",
      "->T(d) 234.2m/3.9h/0.16d, B: 0xa2.. $27.56474500000001(0.409825000000005) 0x3c7e4690d015b22357f84f43219468795a841ebaf811a9e339e73198ed101be7\n",
      "->T(d) 241.6m/4.0h/0.17d, B: 0x73.. $28.593955(1.439034999999997) 0x4907491c2ab14cdac12fb1cdcd972d147d009632a8ddf6cdba1dbccffc1958b2\n",
      "->T(d) 233.8m/3.9h/0.16d, B: 0x83.. $28.593955(1.439034999999997) 0x6c4fa44e73373f80e8f9bd77aa9969afd0f70ccb68dd92dcc6d75aadce1113dd\n",
      "->T(d) 241.4m/4.0h/0.17d, B: 0x17.. $28.593955(1.439034999999997) 0x0aa144e026ccda8c2384ae8cf9ec8b6d6619bd20d73ff9bb062ecb8888b8b0c7\n",
      "->T(d) 235.2m/3.9h/0.16d, B: 0xa3.. $28.593955(1.439034999999997) 0x6f0d9d0756b159c7cba66df46b880e47021ba9cd2041dceebf078a45e793f01d\n",
      "->T(d) 238.1m/4.0h/0.17d, B: 0x6a.. $28.593955(1.439034999999997) 0xf299df6faab074b87fceeb1e8c353f49683020b6264a9eb7eb21b6939b23739c\n",
      "->T(d) 235.1m/3.9h/0.16d, B: 0x6e.. $28.593955(1.439034999999997) 0xfb618e660492a8d65c1097029d54af125511da613ba089a7f7ebc7b8384415bb\n",
      "->T(d) 241.7m/4.0h/0.17d, B: 0x17.. $29.623165000000004(2.4682449999999996) 0x811c4ccb19b5b2ae3f079a8a86e735a909c844a48fb51f1f1fb468d9a26bfca6\n",
      "->T(d) 233.2m/3.9h/0.16d, B: 0x46.. $29.623165000000004(2.4682449999999996) 0xf05405cce052a4f263f33b6c39b18ae6c10f2ad3167bb6a2273c464cd722f580\n",
      "->T(d) 246.7m/4.1h/0.17d, B: 0xad.. $29.623165000000004(2.4682449999999996) 0xc579c102c1af75ba094b0e8eecfc30172805e7e7220ecc64de5ba2e73a940470\n",
      "->T(d) 229.1m/3.8h/0.16d, B: 0x17.. $29.623165000000004(2.4682449999999996) 0xa25522e23f12255f2cd89b2a70c85cefb13dfd1f6cfc3d9902f95e2f55dc69bd\n",
      "->T(d) 240.1m/4.0h/0.17d, B: 0xad.. $29.623165000000004(2.4682449999999996) 0x25cfc9a59c86b4e9eda2dcad6aed652525616c285eb8d9aa2ceca4089c8247ad\n",
      "->T(d) 237.7m/4.0h/0.17d, B: 0x8a.. $29.623165000000004(2.4682449999999996) 0x425e5966947952c41a64591626ad74aaadf59b83fb034f7d1c58b2763e6bdbc8\n"
     ]
    }
   ],
   "source": [
    "pretty_cycle(largest[10]['row'][4]['cycle']['sales'])"
   ]
  },
  {
   "cell_type": "markdown",
   "id": "8b03c26f-df5b-4634-bee2-6cd8062d72a3",
   "metadata": {
    "pycharm": {
     "name": "#%% md\n"
    }
   },
   "source": [
    "We have found something here, this trader trades each nft between wallets within a ~4 hour window??"
   ]
  },
  {
   "cell_type": "markdown",
   "id": "b853555f-10fd-4c86-aa3e-0c45d025e725",
   "metadata": {
    "pycharm": {
     "name": "#%% md\n"
    }
   },
   "source": [
    "#### What was the time between each transaction?"
   ]
  },
  {
   "cell_type": "code",
   "execution_count": 37,
   "id": "4e5e2177-bbb6-40e4-b9ee-2bbe9041736f",
   "metadata": {
    "pycharm": {
     "name": "#%%\n"
    }
   },
   "outputs": [
    {
     "name": "stdout",
     "output_type": "stream",
     "text": [
      "total times : 13193\n",
      "times between 3.4 and 4.6 : 11658 - 88.37p\n"
     ]
    }
   ],
   "source": [
    "import math\n",
    "def time_finder(cycle):\n",
    "    prev_time = cycle[0]['time']\n",
    "    times = []\n",
    "    for sale in cycle:\n",
    "        time_secs = sale['time']-prev_time\n",
    "        time_hours = time_secs/60/60\n",
    "        prev_time = sale['time']\n",
    "        time_hours = round(time_hours, 1)\n",
    "        times.append(time_hours)\n",
    "    return times\n",
    "\n",
    "time_found = []\n",
    "for trade in largest:\n",
    "    time_found.extend(time_finder(trade['row'][4]['cycle']['sales']))\n",
    "time_found = Counter(time_found)\n",
    "print(\"total times : %i\" % sum(time_found.values()))\n",
    "between_39_41 = time_found[3.4]+time_found[3.5]+time_found[3.6] +time_found[3.7] +time_found[3.8] +time_found[3.9] +time_found[4.0] +time_found[4.1] +time_found[4.2]+time_found[4.3]+time_found[4.4]+time_found[4.5]+time_found[4.6]\n",
    "print(\"times between 3.4 and 4.6 : %i - %.2fp\" % (between_39_41, between_39_41/sum(time_found.values())*100))"
   ]
  },
  {
   "cell_type": "markdown",
   "id": "79ff4a69-f821-46a0-bc35-87e46ac04cf2",
   "metadata": {
    "pycharm": {
     "name": "#%% md\n"
    }
   },
   "source": [
    "#### Who did they trade with?"
   ]
  },
  {
   "cell_type": "code",
   "execution_count": 34,
   "id": "22a7d7b9-817e-4d57-809d-ee8be50b14e0",
   "metadata": {
    "pycharm": {
     "name": "#%%\n"
    }
   },
   "outputs": [
    {
     "data": {
      "text/plain": [
       "([('0x8acc1421ec98689461ff5777de8ad6648dc6d643', 1234),\n",
       "  ('0xa21e0974137bf8400eb7dca606d9dcb190d79ed9', 710),\n",
       "  ('0x179d698f5a1c84c3ff4c5eb04e553c15a0c1d8d8', 674),\n",
       "  ('0xe738725cdcc41c91f734dd7b5b9659df994d6dda', 662),\n",
       "  ('0x1c1ef71445010114f41ac1feb32dbf5d7281e90f', 659),\n",
       "  ('0x838c14eb3eabe4cb6a696d286c7b2a466629d0ee', 653),\n",
       "  ('0xf5aee6d7b838d5ede8aa65d31dbc11116545180c', 649),\n",
       "  ('0x6a47b60c377450a460d3eb828d534ee66eead668', 649),\n",
       "  ('0xbabda06088c242fb2a763aa7cc99706cb77ba735', 644),\n",
       "  ('0x00c9da65b33b4f7034b5f50b90f5f6d8320d6ab8', 635),\n",
       "  ('0x463215edb66fb6a8f0c979e739a731977617699f', 624),\n",
       "  ('0x1e7f320cf5a938465d501f6bd6c405feb3a70f6c', 623),\n",
       "  ('0xa37e6b46fa8e1a6f1ddbf035c4e0230b8414ff04', 618),\n",
       "  ('0x87b77fabfeb869150b8e1b9462603f9a639c5fae', 612),\n",
       "  ('0x6e13c7e25c2cda6f5c8c4e431bee480bfb312c28', 600),\n",
       "  ('0x236ef21dc36d0aec3990dd5ee84a9d5320644262', 596),\n",
       "  ('0xadd12bd6375dc21d579cc4abcfa04864d6ac9a62', 594),\n",
       "  ('0x7316e9cf94bef40d4981d66a5c41c38b6b32454c', 590),\n",
       "  ('0x68d31cb3825e559b1e5c0665f2d65d06a17fce1a', 586),\n",
       "  ('0xcdcadf0279ee021a0c40a31ac10fa69e028e21d0', 581)],\n",
       " 20)"
      ]
     },
     "execution_count": 34,
     "metadata": {},
     "output_type": "execute_result"
    }
   ],
   "source": [
    "wallet_interactions = []\n",
    "for trade in largest:\n",
    "    for sale in trade['row'][4]['cycle']['sales']:\n",
    "        wallet_interactions.append(sale['buyer'])\n",
    "wallet_interactions = Counter(wallet_interactions)\n",
    "sorted(wallet_interactions.items(), key=lambda x: x[1], reverse=True), len(wallet_interactions)"
   ]
  },
  {
   "cell_type": "markdown",
   "id": "d2a55778-ed08-4843-ace7-b05b69644046",
   "metadata": {
    "tags": []
   },
   "source": [
    "Interestingly they only traded their NFTs with 20 other wallets. "
   ]
  },
  {
   "cell_type": "code",
   "execution_count": 49,
   "id": "06d54cbd-6781-4d33-a546-3f4af0986567",
   "metadata": {
    "scrolled": true,
    "tags": []
   },
   "outputs": [
    {
     "name": "stdout",
     "output_type": "stream",
     "text": [
      "0x8acc1421ec98689461ff5777de8ad6648dc6d643\n",
      "{'avg': 2.25195539174045, 'count': 617, 'total_profit': 1389.4564767038576}\n",
      "\n",
      "0x87b77fabfeb869150b8e1b9462603f9a639c5fae\n",
      "{'avg': 2.285133267419961, 'count': 531, 'total_profit': 1213.4057649999993}\n",
      "\n",
      "0x1e7f320cf5a938465d501f6bd6c405feb3a70f6c\n",
      "{'avg': 2.226550720268008, 'count': 597, 'total_profit': 1329.2507800000008}\n",
      "\n",
      "0xbabda06088c242fb2a763aa7cc99706cb77ba735\n",
      "{'avg': 2.312860959860383, 'count': 573, 'total_profit': 1325.2693299999994}\n",
      "\n",
      "0x7316e9cf94bef40d4981d66a5c41c38b6b32454c\n",
      "{'avg': 2.2200820802919687, 'count': 548, 'total_profit': 1216.604979999999}\n",
      "\n",
      "0xa37e6b46fa8e1a6f1ddbf035c4e0230b8414ff04\n",
      "{'avg': 2.1527055114638456, 'count': 567, 'total_profit': 1220.5840250000003}\n",
      "\n",
      "0xcdcadf0279ee021a0c40a31ac10fa69e028e21d0\n",
      "{'avg': 2.3056730797101417, 'count': 552, 'total_profit': 1272.7315399999982}\n",
      "\n",
      "0xf5aee6d7b838d5ede8aa65d31dbc11116545180c\n",
      "{'avg': 2.2790570608695653, 'count': 575, 'total_profit': 1310.45781}\n",
      "\n",
      "0x463215edb66fb6a8f0c979e739a731977617699f\n",
      "{'avg': 2.1705960117056864, 'count': 598, 'total_profit': 1298.0164150000005}\n",
      "\n",
      "0xadd12bd6375dc21d579cc4abcfa04864d6ac9a62\n",
      "{'avg': 2.277689195075759, 'count': 528, 'total_profit': 1202.619895000001}\n",
      "\n",
      "0x6a47b60c377450a460d3eb828d534ee66eead668\n",
      "{'avg': 2.29687113410596, 'count': 604, 'total_profit': 1387.3101649999999}\n",
      "\n",
      "0x838c14eb3eabe4cb6a696d286c7b2a466629d0ee\n",
      "{'avg': 2.357247238562093, 'count': 612, 'total_profit': 1442.6353100000008}\n",
      "\n",
      "0xa21e0974137bf8400eb7dca606d9dcb190d79ed9\n",
      "{'avg': 2.30064266286645, 'count': 614, 'total_profit': 1412.5945950000003}\n",
      "\n",
      "0x236ef21dc36d0aec3990dd5ee84a9d5320644262\n",
      "{'avg': 2.302746853448277, 'count': 580, 'total_profit': 1335.5931750000007}\n",
      "\n",
      "0xe738725cdcc41c91f734dd7b5b9659df994d6dda\n",
      "{'avg': 2.2413728476821198, 'count': 604, 'total_profit': 1353.7892000000004}\n",
      "\n",
      "0x00c9da65b33b4f7034b5f50b90f5f6d8320d6ab8\n",
      "{'avg': 2.1960905438311666, 'count': 616, 'total_profit': 1352.7917749999988}\n",
      "\n",
      "0x179d698f5a1c84c3ff4c5eb04e553c15a0c1d8d8\n",
      "{'avg': 2.2783097403685084, 'count': 597, 'total_profit': 1360.1509149999995}\n",
      "\n",
      "0x1c1ef71445010114f41ac1feb32dbf5d7281e90f\n",
      "{'avg': 2.347460337171053, 'count': 608, 'total_profit': 1427.2558850000003}\n",
      "\n",
      "0x68d31cb3825e559b1e5c0665f2d65d06a17fce1a\n",
      "{'avg': 2.1250271578947344, 'count': 570, 'total_profit': 1211.2654799999987}\n",
      "\n",
      "0x6e13c7e25c2cda6f5c8c4e431bee480bfb312c28\n",
      "{'avg': 2.260721519524618, 'count': 589, 'total_profit': 1331.5649750000002}\n",
      "\n"
     ]
    }
   ],
   "source": [
    "fellow_traders = list(wallet_interactions.keys())\n",
    "for t in fellow_traders:\n",
    "    print(t)\n",
    "    print(traders_avg[t])\n",
    "    print()"
   ]
  },
  {
   "cell_type": "markdown",
   "id": "fcfe29e1-0418-49db-a184-e24798cff99c",
   "metadata": {
    "pycharm": {
     "name": "#%% md\n"
    },
    "tags": []
   },
   "source": [
    "All of these traders also participated in many cycles. "
   ]
  },
  {
   "cell_type": "markdown",
   "id": "74e0f909-b146-46eb-a913-a6712cc6d9f2",
   "metadata": {},
   "source": [
    "#### What were the patterns of the fellow traders cycles?"
   ]
  },
  {
   "cell_type": "code",
   "execution_count": 50,
   "id": "3f718518-976c-455c-9bdf-e8dd17f89aa5",
   "metadata": {
    "pycharm": {
     "name": "#%%\n"
    },
    "scrolled": true,
    "tags": []
   },
   "outputs": [
    {
     "name": "stdout",
     "output_type": "stream",
     "text": [
      "20\n",
      "0x8acc1421ec98689461ff5777de8ad6648dc6d643\n",
      "   T(d) 0.0m/0.0h/0.00d, B: 0x8a.. $29.63283000000001(0.0) 0x3f209008d2bf5d53680402fa2b6f93ec22c00b53d84be4f058694fe0ee700d3c\n",
      "->T(d) 234.9m/3.9h/0.16d, B: 0x68.. $29.63283000000001(0.0) 0x9e29fefc5fc9fa14df9a0af35ba38066acda45c9a7b2169ddb28f012e7375ac0\n",
      "->T(d) 240.5m/4.0h/0.17d, B: 0x1e.. $29.63283000000001(0.0) 0x15cf93df67c77c61092d12aeb7ff13d21636cd53a5810dfb50f4706d89b89d9b\n",
      "->T(d) 234.9m/3.9h/0.16d, B: 0xe7.. $29.63283000000001(0.0) 0xae58b5e29a233af96edf11ef7ea8b3e039e0aa35399f9e4ac2a90f02d772ae4b\n",
      "->T(d) 239.8m/4.0h/0.17d, B: 0x73.. $29.63283000000001(0.0) 0xf5fb4ebfff84d332aa2836b76cba3f81bb6d1e5ffca16b6e1bc42a52b3c0eced\n",
      "->T(d) 234.7m/3.9h/0.16d, B: 0xad.. $29.63283000000001(0.0) 0x4133ba3614b0e888b5d130d28861d2d7094b00c2ac40f60ef28367532da9ce4f\n",
      "->T(d) 240.9m/4.0h/0.17d, B: 0xba.. $32.203065(2.570234999999993) 0x5cc138f67427369b9a6e2bfb35ead5762198cef5adeb9f80964d89df32b32a7b\n",
      "->T(d) 236.5m/3.9h/0.16d, B: 0x83.. $32.203065(2.570234999999993) 0xd8180a447730c0f5e49d8b0fcdc7fae0e3b2a68b769d2e7d4dab8c66f26dbd5a\n",
      "->T(d) 238.1m/4.0h/0.17d, B: 0x46.. $32.203065(2.570234999999993) 0x214a9cbe94b338c41d4c188d8859a362f9b334acc978ba00abb5b2b658acf331\n",
      "->T(d) 237.6m/4.0h/0.16d, B: 0x6e.. $32.203065(2.570234999999993) 0x12a3972df2a507e1c9405d682d9e2e0a900e9051cbbe9e76daffa2579a0441e6\n",
      "->T(d) 1187.7m/19.8h/0.82d, B: 0xa2.. $33.370920000000005(3.738089999999996) 0x26dbcc29b1824933e8556f4a21fa7af2c692403d80d5333f81debbb0bc6e754d\n",
      "->T(d) 235.4m/3.9h/0.16d, B: 0xad.. $33.370920000000005(3.738089999999996) 0x7a5d5d92a335b7c52f54e72e08563ec925cbc3499d5ef7e2edb116b2c6221893\n",
      "->T(d) 239.1m/4.0h/0.17d, B: 0x1e.. $33.370920000000005(3.738089999999996) 0xa6f5592a80f1b2fd9af4aa591f9b3ab94004a80876aad77929c6b2117a1fc1df\n",
      "->T(d) 236.2m/3.9h/0.16d, B: 0xa3.. $33.370920000000005(3.738089999999996) 0x6c407c45bce611ad3c759268a9a8696e440d626e4d1c1e1cbe8fe6e5f7c64868\n",
      "->T(d) 244.3m/4.1h/0.17d, B: 0x87.. $37.566135(7.933304999999994) 0x18c2e8c4d368942594013b07559f1953d4429e234b84ab516d97ac39e51c38ee\n",
      "->T(d) 230.0m/3.8h/0.16d, B: 0x8a.. $37.566135(7.933304999999994) 0x364103e7abb32467a12c656affd82faa9ed68b6aec176b258f098a3c11fa17a8\n",
      "\n",
      "0x87b77fabfeb869150b8e1b9462603f9a639c5fae\n",
      "   T(d) 0.0m/0.0h/0.00d, B: 0x87.. $17.215475(0.0) 0x5c016dd6c9f8e35fbecb1e6a18ace09cf9d12e4c232d7f09a0d315f6673ea4e9\n",
      "->T(d) 235.4m/3.9h/0.16d, B: 0xcd.. $17.215475(0.0) 0xa34953891290fe22abd9f20ba611c3bbd35ab0399869aca4a92526cbde4a32e9\n",
      "->T(d) 242.3m/4.0h/0.17d, B: 0x17.. $17.215475(0.0) 0x403d95b48644eed01b602d8a218e0f001b84e3120a51ad3b7fc1903f2399bf25\n",
      "->T(d) 1421.5m/23.7h/0.99d, B: 0xe7.. $17.8398(0.6243249999999989) 0x2c024bc0411fd722f5e73fd1e9585b9b6193008cd271b33bcdf64a90966cf7e9\n",
      "->T(d) 235.7m/3.9h/0.16d, B: 0x6e.. $17.8398(0.6243249999999989) 0x37ae787cb4c9aca2b4d2021abe785751a1351de44ed01f88de03329494eb6ca4\n",
      "->T(d) 240.4m/4.0h/0.17d, B: 0x87.. $17.8398(0.6243249999999989) 0x0c0fe4bc2114cce9eebd0f1fd54b7f2074b1c4b559c99ea5709645dc8b0f642d\n",
      "\n",
      "0x1e7f320cf5a938465d501f6bd6c405feb3a70f6c\n",
      "   T(d) 0.0m/0.0h/0.00d, B: 0x1e.. $27.60783(0.0) 0x17d46fc841614086fc56e3eeac66372ec98f9d4c9c68604729cde25dea1d2ab1\n",
      "->T(d) 2133.8m/35.6h/1.48d, B: 0xa3.. $27.791940000000004(0.184110000000004) 0xbe6b825e0a26ed011e1b6c01f83f37e9a489c95fa01129be5785135a1cfcd141\n",
      "->T(d) 240.3m/4.0h/0.17d, B: 0x23.. $27.791940000000004(0.184110000000004) 0x8f8ec485b6e15a28c75ee889dbd9c379423f2911fc98cbae6ca2ba1de817aa5c\n",
      "->T(d) 235.1m/3.9h/0.16d, B: 0x00.. $27.791940000000004(0.184110000000004) 0xab19a60640b6220840706e0ae1e3407f2dc7a818f265db98df9189d015d09fd7\n",
      "->T(d) 239.3m/4.0h/0.17d, B: 0x6a.. $30.39957(2.7917400000000008) 0xac8e340b74f60db381a07d2c2803b1cf9293d0cf8bc6338c2852dfbf0660eca1\n",
      "->T(d) 235.7m/3.9h/0.16d, B: 0xa2.. $30.39957(2.7917400000000008) 0x3f1a4cb75f4c1d8905c1a8385cd216536c785ecf435bc6a2cec9318c9d631b11\n",
      "->T(d) 239.2m/4.0h/0.17d, B: 0x87.. $30.39957(2.7917400000000008) 0xdd7788b787f5dc6f1296fc1937d4098adce94124ae2caee3c3f4181640ba550f\n",
      "->T(d) 235.5m/3.9h/0.16d, B: 0x83.. $30.39957(2.7917400000000008) 0xc138c5a71c38cd21cc6354e71a04d8471e808baf112668a8d9d5aef96c69b2e5\n",
      "->T(d) 240.2m/4.0h/0.17d, B: 0x00.. $30.39957(2.7917400000000008) 0x738a2767aa5cb6e31894834d5ebe7675c008f528a3436ac6775190b6f64675db\n",
      "->T(d) 234.4m/3.9h/0.16d, B: 0x83.. $30.39957(2.7917400000000008) 0x8e88faf9d59a02abb6abfce749b9c08f4c9ac7645baaaf7fc6aed5061bbdb8fa\n",
      "->T(d) 240.4m/4.0h/0.17d, B: 0x1c.. $31.37469(3.766860000000001) 0x26ad31e369c868df2df2e54625609dff8d68c83de7eb78c8ceec7e8764e28723\n",
      "->T(d) 234.4m/3.9h/0.16d, B: 0x23.. $31.37469(3.766860000000001) 0xbcf7b4d6bcda1f39b051663962403157e601457bedd4f23c53dd3678d906c1d3\n",
      "->T(d) 240.4m/4.0h/0.17d, B: 0x73.. $31.37469(3.766860000000001) 0x087bb5a1072e2922d461c452108992d215bdc31e7d480f4cd68b5dd82313f0a4\n",
      "->T(d) 234.8m/3.9h/0.16d, B: 0xba.. $31.37469(3.766860000000001) 0x4a2f08b3378e02817a8eeb495b776dcb52192233a356abd80e956c5bdcd11694\n",
      "->T(d) 239.8m/4.0h/0.17d, B: 0x00.. $31.37469(3.766860000000001) 0xfca25c80b37f754d28826c47a1bca64274596a824119190902985ec593572e6b\n",
      "->T(d) 235.4m/3.9h/0.16d, B: 0x6e.. $31.37469(3.766860000000001) 0xcb5b7ccf2fcde290195384fa00c688ae4072c6b37b8853475da722aceed5106a\n",
      "->T(d) 240.5m/4.0h/0.17d, B: 0x6a.. $31.87398(4.26615) 0xc45d7179f13d373521493e72bca433dc184f94302ccb749241b1216789830ca2\n",
      "->T(d) 234.2m/3.9h/0.16d, B: 0xf5.. $31.87398(4.26615) 0x744d0c4f7177406e224d53fc8b10ead3a9c86766e5689a8de9861e90fd6173de\n",
      "->T(d) 242.2m/4.0h/0.17d, B: 0xba.. $31.87398(4.26615) 0x4cd93abfa6a16d281fc38df08e12f6a43d32d153b63bb5a7f9ba00062bb6830a\n",
      "->T(d) 239.6m/4.0h/0.17d, B: 0x1e.. $31.87398(4.26615) 0xac6413b298652c04ee9ef0a222ad00f412c42f0bc2d51a4c80a3e5e758fb3025\n",
      "\n",
      "0xbabda06088c242fb2a763aa7cc99706cb77ba735\n",
      "   T(d) 0.0m/0.0h/0.00d, B: 0xba.. $18.70425(0.0) 0xba6533406d6455c3dfa9425c54bdcdd381a2d4e6329914e09545d09fcf3d89f7\n",
      "->T(d) 238.5m/4.0h/0.17d, B: 0x6e.. $19.162575(0.4583250000000021) 0xf437e8a2fe80aa5e2a78b05f77cef5500710952526889b02bbb38779e8eb86c5\n",
      "->T(d) 237.2m/4.0h/0.16d, B: 0x83.. $19.162575(0.4583250000000021) 0x94dae9bd3ace867533f2a83bf8a20645c3e748e569825050474e6c413b909720\n",
      "->T(d) 235.3m/3.9h/0.16d, B: 0x17.. $19.162575(0.4583250000000021) 0x661b0fe5a9ce339744f6a49a0dbb4e36e3de22d3ecb4a7fdc114496604af87c7\n",
      "->T(d) 239.3m/4.0h/0.17d, B: 0x1e.. $19.162575(0.4583250000000021) 0x087a59c60f4477154ba8c1105eb42b014e0d2087cf57dff35b0ce73cb0818ecf\n",
      "->T(d) 235.1m/3.9h/0.16d, B: 0x46.. $19.162575(0.4583250000000021) 0x7d8e5b247f569125d41680bb5166c3eac515787683e9d7ae1669c2c208b8c415\n",
      "->T(d) 240.3m/4.0h/0.17d, B: 0x6a.. $19.162575(0.4583250000000021) 0xc0081a7b0db39f90f88cf04c465cc798dd3d53ffb5c47f0ef65c629208c2f884\n",
      "->T(d) 234.3m/3.9h/0.16d, B: 0x1c.. $19.162575(0.4583250000000021) 0xea50cb140430b7470da68a82b18d055f6753efb0e0b62c1485b889cd8dbaaa06\n",
      "->T(d) 239.4m/4.0h/0.17d, B: 0xf5.. $19.3806(0.6763500000000029) 0x2b12addb94d1bedb52a8ad963dd017d4ae531fe87984dbdf83bb0195191a8fa8\n",
      "->T(d) 235.0m/3.9h/0.16d, B: 0x8a.. $19.3806(0.6763500000000029) 0x918e918dfdb657c9863fc4b99f53586e8e451ea3a27d18e060369d9a52567782\n",
      "->T(d) 241.3m/4.0h/0.17d, B: 0xad.. $19.3806(0.6763500000000029) 0xb5ebeed6483793e35b1ab2387bf45fbf0423ed58c432c150a4e5f02adc62c81f\n",
      "->T(d) 234.2m/3.9h/0.16d, B: 0x00.. $19.3806(0.6763500000000029) 0x16222953ebee091aacd9474a8f7ea8f742e12f41c6877d8a95f5696f6c7cc0d6\n",
      "->T(d) 239.5m/4.0h/0.17d, B: 0x17.. $19.3806(0.6763500000000029) 0x0daa5c3cd59db7383afe681b86b1e033e4f13d277b13f4f724c3e0e98fb65c37\n",
      "->T(d) 235.5m/3.9h/0.16d, B: 0x6e.. $19.3806(0.6763500000000029) 0xc36828d8a4d228ebf3de5047974fe12b97dc89698d11869c373e51594f3b3f7f\n",
      "->T(d) 6889.7m/114.8h/4.78d, B: 0x6a.. $21.24225000000001(2.538000000000011) 0xa237788ee05d32d85f06b3b0fbfe6d45524303280d5f0a471a783d8c9953bf79\n",
      "->T(d) 235.2m/3.9h/0.16d, B: 0xad.. $21.24225000000001(2.538000000000011) 0xa57d6d5bdac377d302f1afc728e6011e06b9fb39426ad2ec4b9039fe361258fb\n",
      "->T(d) 240.0m/4.0h/0.17d, B: 0x68.. $22.263525000000005(3.5592750000000066) 0xddaed9106e5151bd64cb8848cc2459e9d2376ebbbff3de15075124e818ba91d1\n",
      "->T(d) 235.2m/3.9h/0.16d, B: 0xe7.. $22.263525000000005(3.5592750000000066) 0x42602e2f02c2f8bd08d82eca63dc07a94d041ec106bc21478c89d122f969d65d\n",
      "->T(d) 239.4m/4.0h/0.17d, B: 0x1e.. $22.263525000000005(3.5592750000000066) 0xdb7409910fb73dbc39c4c9be913808c366021416858f8c6dbd44d4f687253d69\n",
      "->T(d) 475.3m/7.9h/0.33d, B: 0x1e.. $22.263525000000005(3.5592750000000066) 0xb6a27839803b49092990fe207e1021b85e9d0f584fed77cddb3de06240dfe4c8\n",
      "->T(d) 235.2m/3.9h/0.16d, B: 0xa2.. $22.263525000000005(3.5592750000000066) 0x0e7deebba767ef285321d918fce2cad62ea08a13aeb41f64788a125c2600d728\n",
      "->T(d) 240.7m/4.0h/0.17d, B: 0x1e.. $22.42755(3.723300000000002) 0x0aa508a658bd7d724e086f98ce2a0f794cf249dd5ac3712c99c3ca74b5aa244d\n",
      "->T(d) 234.9m/3.9h/0.16d, B: 0x46.. $22.42755(3.723300000000002) 0xc3676fb746af46c8841426baea632c9530528009b89181f646f07aa29da54704\n",
      "->T(d) 238.9m/4.0h/0.17d, B: 0x8a.. $22.42755(3.723300000000002) 0x5b04fb31de47b40e03e254a296062779a421a43590174b96fd00e58b78c717cc\n",
      "->T(d) 475.6m/7.9h/0.33d, B: 0x8a.. $22.42755(3.723300000000002) 0x4aac4d8e4b0e9a1c7a4cc144c19faf16a351a58d2674a9af75466f961dd196f4\n",
      "->T(d) 234.4m/3.9h/0.16d, B: 0xba.. $22.42755(3.723300000000002) 0x927c8a3a6fcedfaad623d99be8452653cb24eaff2c4d67f277d7ee90ad862a6b\n",
      "\n",
      "0x7316e9cf94bef40d4981d66a5c41c38b6b32454c\n",
      "   T(d) 0.0m/0.0h/0.00d, B: 0x73.. $29.38542(0.0) 0x2b94c2807f27a2a94ae857917a3a22aa7d3fba7962fd5c1d6e629e7177029036\n",
      "->T(d) 241.7m/4.0h/0.17d, B: 0x46.. $30.1344(0.7489799999999995) 0x221ad6c22e93ee4e0fecd805261ea2b05bf00a2242174082f64f03a59d7ee58d\n",
      "->T(d) 232.7m/3.9h/0.16d, B: 0x83.. $28.7584(-0.6270199999999981) 0x99f08cebd13d25cd4122d7bc6a67b7763a8545b4f650daf5c8e463a9cf304b22\n",
      "->T(d) 240.0m/4.0h/0.17d, B: 0x17.. $30.1344(0.7489799999999995) 0xe212698aa728fba3f50f6a148a6e50a5ff7724ed458c8a4f4a42c793a15c3cab\n",
      "->T(d) 235.4m/3.9h/0.16d, B: 0xf5.. $30.1344(0.7489799999999995) 0x3da8190dc008fc2a7f5e0c004aa074b2197076a58653289f4e9c3f8b3b87b983\n",
      "->T(d) 240.5m/4.0h/0.17d, B: 0x17.. $30.1344(0.7489799999999995) 0x01e0707bd4c539f14460cdaccfd8d2cc5b0492eb81afe68040ee8f1db2b5f488\n",
      "->T(d) 233.9m/3.9h/0.16d, B: 0x87.. $30.1344(0.7489799999999995) 0x4a7203cc78a9c2a8ccbfa2c4d55cc66b97079a0b4358ca07a91d37ffea5c3b60\n",
      "->T(d) 240.5m/4.0h/0.17d, B: 0xad.. $30.199005000000003(0.8135850000000033) 0xe2baaf605cf2268f2eb769405c2fed7b04b73a8cb1e85b31ba7bc9ae44f0ec2e\n",
      "->T(d) 234.7m/3.9h/0.16d, B: 0x00.. $30.199005000000003(0.8135850000000033) 0xd7accf46d5768e03237421bfad73fc02e4ae772a42ca7593dd6062021dab1a4b\n",
      "->T(d) 241.1m/4.0h/0.17d, B: 0x6a.. $30.199005000000003(0.8135850000000033) 0x355f0b54b72424d0dea6fde91476c0dd9805cd31d5d7a4b6e8f4d4a7a5c21e06\n",
      "->T(d) 234.8m/3.9h/0.16d, B: 0x00.. $30.199005000000003(0.8135850000000033) 0x9941323cbda06675b5dfb3c1b19d76ee29d826b7d8dfceceb1bef6e7b5e02514\n",
      "->T(d) 241.1m/4.0h/0.17d, B: 0x83.. $30.199005000000003(0.8135850000000033) 0x28acadd7df18b7144562f1a672603ad222ba688e59687818eda7e89b393108ba\n",
      "->T(d) 236.4m/3.9h/0.16d, B: 0x8a.. $30.199005000000003(0.8135850000000033) 0xdaa1bf8d5fdd890e4cf487518f95790b21bf8b6ff036357679bd090accad3769\n",
      "->T(d) 240.8m/4.0h/0.17d, B: 0xcd.. $29.517915(0.1324949999999987) 0x00f6471d5a1ad686ac0d01c6f5758d791f67a507ca8afafa1173e89f97cf4feb\n",
      "->T(d) 231.3m/3.9h/0.16d, B: 0x83.. $29.517915(0.1324949999999987) 0xa64d7d068665020b520f8e89c7dfd5f7651df00ba151a7f0290271cbfdc64d23\n",
      "->T(d) 239.2m/4.0h/0.17d, B: 0x68.. $29.517915(0.1324949999999987) 0x7ead40ed7f664982e6f54b5fb592daac333e1d9401252831633277b0e744cc3f\n",
      "->T(d) 235.1m/3.9h/0.16d, B: 0x73.. $29.517915(0.1324949999999987) 0xd1f5a22b40781be33294b0231ea7fc0d725d9eb75bcca4f25e8d448d08cddc25\n",
      "\n",
      "0xa37e6b46fa8e1a6f1ddbf035c4e0230b8414ff04\n",
      "   T(d) 0.0m/0.0h/0.00d, B: 0xa3.. $34.02215999999999(0.0) 0xcf0efa8adc6443f4bcc16ddb6bf0a00a78d6af00d6377615952bef6a65fa1be0\n",
      "->T(d) 240.9m/4.0h/0.17d, B: 0x17.. $36.85608(2.833920000000006) 0x93eea50c53bcec8be9b98a713288f72dbc9c58b6d64c5bf3db98b1dbb0d7293f\n",
      "->T(d) 7558.3m/126.0h/5.25d, B: 0xa2.. $36.77904(2.7568800000000095) 0x8e7cef033ca76bfa0279ae11e662a8759bd80bea531cefd6002fbc5e9279c9af\n",
      "->T(d) 276.7m/4.6h/0.19d, B: 0x1e.. $36.77904(2.7568800000000095) 0x20dd6acb3dcc6524954e2f3839bc6b7e9df798a218af0fb1ace4aace717a9bb3\n",
      "->T(d) 240.1m/4.0h/0.17d, B: 0x6e.. $36.77904(2.7568800000000095) 0xdc789bb9dba4c02b3818ddb7f111ce765fa4592da5fe701054ab8f6ce60581bc\n",
      "->T(d) 235.1m/3.9h/0.16d, B: 0x1c.. $36.77904(2.7568800000000095) 0xc096204d73cee8b6ed9010b6007d566394f2bf903a5092da3c8f526f425436c8\n",
      "->T(d) 243.4m/4.1h/0.17d, B: 0xa3.. $36.77904(2.7568800000000095) 0xfc223e8dd1a6f3aae15921f0650807deceb88320b281d2e77cad31fee5b77e7b\n",
      "\n",
      "0xcdcadf0279ee021a0c40a31ac10fa69e028e21d0\n",
      "   T(d) 0.0m/0.0h/0.00d, B: 0xcd.. $16.63832(0.0) 0xb5a1742671d1b6166fa6912660d93fcc02f8e5bf49abf0903a946d5af10b2fd8\n",
      "->T(d) 239.8m/4.0h/0.17d, B: 0x6a.. $16.63832(0.0) 0x4f0b8d00d174be7388797524a7fa2e9b97042ff6d9dd93dd038e9bbf75995953\n",
      "->T(d) 235.4m/3.9h/0.16d, B: 0xf5.. $16.63832(0.0) 0x362a0046b08fa5f8cf146e7cb091e3c409fb88b2b5989b7e699f66661842fb90\n",
      "->T(d) 240.4m/4.0h/0.17d, B: 0x00.. $16.63832(0.0) 0x7937bd13edf9215f4a2d0009cb37bd094ad46f13e96435ca98bce7b3dcb121d8\n",
      "->T(d) 234.8m/3.9h/0.16d, B: 0x73.. $17.0624(0.42408) 0x0d5a06fc78afaa839a7a534edda79a8f060f1d7f4fc03882fdf215bcb4963b87\n",
      "->T(d) 239.7m/4.0h/0.17d, B: 0x46.. $17.0624(0.42408) 0x5cfb6a329621b056dc321007b42f4cf337434080e112ea854b84c9f0cf273aaf\n",
      "->T(d) 234.7m/3.9h/0.16d, B: 0x8a.. $17.0624(0.42408) 0x56f22c3ecabe15de3139889c6242807423a20c032c7bd2b6048541c7ae87cd0c\n",
      "->T(d) 240.7m/4.0h/0.17d, B: 0xba.. $17.0624(0.42408) 0x7b1dc3acc3c8603d45952550c0550d3a55fb4c5c6165eb5f0f25b0b977cafc77\n",
      "->T(d) 234.3m/3.9h/0.16d, B: 0xe7.. $17.0624(0.42408) 0x523e8e7b7cb794070755d9d2afe20d68779baab4b4bc7f3830a8dedbb1f65bc5\n",
      "->T(d) 1425.8m/23.8h/0.99d, B: 0xf5.. $17.098979999999997(0.4606599999999972) 0x263f0568a2370f260354eee244daf3a3861ede29236db017d97b2ec145043fc7\n",
      "->T(d) 240.5m/4.0h/0.17d, B: 0x46.. $17.098979999999997(0.4606599999999972) 0x500bf10dc370f31270d3b93a56e3e1578183bc810233eb96a5c4d0508912e993\n",
      "->T(d) 235.5m/3.9h/0.16d, B: 0x6e.. $17.098979999999997(0.4606599999999972) 0x67da01b7447e29954140d4d4bb1ac9874215e47074b330c269d9bc475c7e25f0\n",
      "->T(d) 238.8m/4.0h/0.17d, B: 0xa2.. $16.71334(0.07501999999999853) 0xde88dbf4448e929e894dc08c51e1f3a4fdf7a5c9cdab230f78dc81f098bd6572\n",
      "->T(d) 234.5m/3.9h/0.16d, B: 0x1c.. $16.71334(0.07501999999999853) 0x3225f2b1d19197347fd677aeae4e22ec8ff35bc5f8c3e55b52fc0aa0066b067c\n",
      "->T(d) 239.9m/4.0h/0.17d, B: 0x87.. $16.71334(0.07501999999999853) 0x2ec0117a4132f6887cf0437e82d6129077daf94da165da9d6de334b8575d0f7d\n",
      "->T(d) 235.3m/3.9h/0.16d, B: 0x73.. $16.71334(0.07501999999999853) 0x363be51aa9cf6952a7950cb02980504ac4ef76760e226c24b245620a8c4a918a\n",
      "->T(d) 239.9m/4.0h/0.17d, B: 0xcd.. $16.71334(0.07501999999999853) 0x9fa73b581ed8b858477671b1336edd3358edb0ae94308f9072bd380617aab717\n",
      "\n",
      "0xf5aee6d7b838d5ede8aa65d31dbc11116545180c\n",
      "   T(d) 0.0m/0.0h/0.00d, B: 0xf5.. $35.888625(0.0) 0xda01c3663f77203a1356b8651c567f15ef9874d9d3d564e00298c3435919d983\n",
      "->T(d) 240.4m/4.0h/0.17d, B: 0xcd.. $35.888625(0.0) 0x5d9d63c90bfde65b42c80250917d0bc782887d255b2cba813387db22546d6f2f\n",
      "->T(d) 234.9m/3.9h/0.16d, B: 0xa3.. $35.888625(0.0) 0x14a5b03da770cf5e6843a26b3391cc9c8684204a35e0ca095bca649dc3e50aab\n",
      "->T(d) 240.2m/4.0h/0.17d, B: 0x8a.. $36.631035(0.7424099999999996) 0x984ae48c40f9e70f0d39364294f9850610b61db703ae39cb68a14b73537f99cd\n",
      "->T(d) 236.0m/3.9h/0.16d, B: 0xa2.. $36.631035(0.7424099999999996) 0xb39d52cf6db2436e20d04cc9542770609eb0c23b19f6c75d8743caee8e76f977\n",
      "->T(d) 241.3m/4.0h/0.17d, B: 0x68.. $36.631035(0.7424099999999996) 0x1d2124ce49c3e0cb10701e60b940491dcb642fab4c33aa0fd7bb6262019a5fad\n",
      "->T(d) 232.3m/3.9h/0.16d, B: 0x87.. $36.631035(0.7424099999999996) 0x63571d7b80e1d46f794925cce10f9831278e76eb6f173726d8ae5f802ba28a73\n",
      "->T(d) 240.4m/4.0h/0.17d, B: 0x8a.. $36.631035(0.7424099999999996) 0x67565b66b6e39556f50a2b912d39474ccc73fe08a19ed7393a89d215a1a3fc87\n",
      "->T(d) 235.7m/3.9h/0.16d, B: 0x46.. $36.631035(0.7424099999999996) 0x02874f856baca46ad7a56dd7cf041b14b8f61fc0c8fe413c726d6b5e163fa224\n",
      "->T(d) 474.5m/7.9h/0.33d, B: 0x8a.. $35.23491(-0.6537149999999983) 0x57a2e828b66220d6631476027e715d054b43653513876e6ba6961cb53ea82d02\n",
      "->T(d) 241.5m/4.0h/0.17d, B: 0x46.. $35.23491(-0.6537149999999983) 0x0ec3329a9d559b399c12e9202fe3f1a4b623b4e2a5c167aef422f325e193f2c1\n",
      "->T(d) 233.2m/3.9h/0.16d, B: 0x87.. $35.23491(-0.6537149999999983) 0x019860d5bcba8e5da3dbbcb29ab86462c5b32b8fa73e999474f132c7323cf118\n",
      "->T(d) 1413.7m/23.6h/0.98d, B: 0xa2.. $36.56643(0.6778049999999993) 0x2b404df512da5e5b53bd0d5aa2c4f4ae4958aad55f4b69dc44cd9b46c5314d31\n",
      "->T(d) 253.9m/4.2h/0.18d, B: 0x87.. $36.56643(0.6778049999999993) 0xe8fd389045c66ab268ee40b2f6a0e47689362580c925aab90b222fc1c1526e1f\n",
      "->T(d) 233.0m/3.9h/0.16d, B: 0xa3.. $36.56643(0.6778049999999993) 0xd5fee38d60de5e8735448372751dc9aaec68a5d7a151171c57a766e0e0c9e142\n",
      "->T(d) 240.5m/4.0h/0.17d, B: 0x1e.. $36.56643(0.6778049999999993) 0x6a8968ca5d08a0361715f2a9db4f62ef21c635fb526a6089caf4750faa3cf767\n",
      "->T(d) 234.3m/3.9h/0.16d, B: 0x73.. $36.48321(0.5945850000000021) 0x385c8aee406478765deda1b31928aa8c67e1608886953935e7476e7976d22ddd\n",
      "->T(d) 245.9m/4.1h/0.17d, B: 0xad.. $36.48321(0.5945850000000021) 0x84da5b52a2ef4960f33abce04236e0edea0b248e7114be52f51f7e43664c9bcd\n",
      "->T(d) 228.4m/3.8h/0.16d, B: 0xa3.. $36.48321(0.5945850000000021) 0x9be2fd22aa455f719ab20d5cd349519896986ccc42cdde6510a3c91a22734bb4\n",
      "->T(d) 248.3m/4.1h/0.17d, B: 0xa2.. $36.48321(0.5945850000000021) 0x32e07b136080d2e9c65af894c398cd962ff8be21c7161070e8e8debb552c99da\n",
      "->T(d) 227.1m/3.8h/0.16d, B: 0x73.. $36.48321(0.5945850000000021) 0x8ab34bbc118f08536b2391554078f0660a04779af1505cea82e3b4d89bed4673\n",
      "->T(d) 240.4m/4.0h/0.17d, B: 0xcd.. $36.48321(0.5945850000000021) 0xc07c4a1d0088823d67d33e8e2e25d70d941b27e1c21c6a9d300e465cb51831fd\n",
      "->T(d) 474.6m/7.9h/0.33d, B: 0xcd.. $37.666905(1.7782800000000023) 0xa5ed637a181649197aae4e26e14cc2976b64d5080a994b34f715ec70753c0150\n",
      "->T(d) 238.6m/4.0h/0.17d, B: 0x73.. $37.666905(1.7782800000000023) 0x2e7bb8a3e85474289f6d75aab670d5a6fddd7bdd471162f042757c54ab197d70\n",
      "->T(d) 236.6m/3.9h/0.16d, B: 0x17.. $37.666905(1.7782800000000023) 0x03f3f80d8c57b9281007bccfc66f31d7dc6e9f37ae29aee627c64a8829ed46ad\n",
      "->T(d) 234.6m/3.9h/0.16d, B: 0x46.. $37.666905(1.7782800000000023) 0xb4bd825a9cf618d86df7f596840b619ebbaa6dab5a9541605fc0b1b7d7e619e8\n",
      "->T(d) 239.8m/4.0h/0.17d, B: 0x6a.. $37.666905(1.7782800000000023) 0x2fd0c3db429c28e6abaf8b62cffc09b604dcf64f3c952665db1f7f7d78c4ec0f\n",
      "->T(d) 236.0m/3.9h/0.16d, B: 0xcd.. $38.02168500000001(2.1330600000000146) 0x939994e093dc4730f8d185bd995a2fd962b630a843b274d84131417df1ca2bcf\n",
      "->T(d) 239.3m/4.0h/0.17d, B: 0xba.. $38.02168500000001(2.1330600000000146) 0xebe3c9b2433adfe7a33683a5ecded8747d551e566927d20e7265142b078ae5f6\n",
      "->T(d) 234.9m/3.9h/0.16d, B: 0xa2.. $38.02168500000001(2.1330600000000146) 0xca83944b447df99e4b8771eb78db8485a8dd45162641b446d4340431e3a2d615\n",
      "->T(d) 239.8m/4.0h/0.17d, B: 0x17.. $38.02168500000001(2.1330600000000146) 0x6e07e71f12b7f6708e1489a67e0a61156e889b8ed6a9d535b81c1d542a4ce0bb\n",
      "->T(d) 236.9m/3.9h/0.16d, B: 0x8a.. $38.02168500000001(2.1330600000000146) 0x9ac7f6c3c489bd1ede73f6c46ce7abcb82dfa9e9b113d51f3cf85e815c333830\n",
      "->T(d) 238.5m/4.0h/0.17d, B: 0xad.. $38.02168500000001(2.1330600000000146) 0x87375e9f1869d588eeb400c016ed0f91038cbb43cb0e4f452161b090c41c570f\n",
      "->T(d) 234.8m/3.9h/0.16d, B: 0xf5.. $38.1717(2.2830750000000037) 0x3c8f342ad646addf61a86f9ebd5caa45a2f642a09822cf33c2fc9c601f838c6b\n",
      "\n",
      "0x463215edb66fb6a8f0c979e739a731977617699f\n",
      "   T(d) 0.0m/0.0h/0.00d, B: 0x46.. $20.99016(0.0) 0x2011621c61838d4a27b0deb96245c4c9e89d53898260aa217f20d23cf7d4bee9\n",
      "->T(d) 241.4m/4.0h/0.17d, B: 0x1e.. $20.99016(0.0) 0x526062958656c2a5a9ec181a0ff185c4caf8a085cc4d267d0db556072336391c\n",
      "->T(d) 236.6m/3.9h/0.16d, B: 0x23.. $20.99016(0.0) 0x5a932211807e45c426f26a96ab206fc7a492359b28091b3be5eb7a410b58db2d\n",
      "->T(d) 236.3m/3.9h/0.16d, B: 0x8a.. $20.99016(0.0) 0x19e5192cc623dda9e0602e2ad78e3a5feff12e9722851d9f9eb82b246d3b0ea2\n",
      "->T(d) 237.4m/4.0h/0.16d, B: 0xa3.. $20.99016(0.0) 0xd1d9bbd750a0a30b8b16e5636ceb5886045e97ebb41faff1d5a3fb1cf885f0b3\n",
      "->T(d) 238.3m/4.0h/0.17d, B: 0x1c.. $20.99016(0.0) 0x905f98f2829bf98472c4c99e54901346eea574698fd8c1f0986dd8bc64bf5dd0\n",
      "->T(d) 2610.2m/43.5h/1.81d, B: 0x68.. $21.065040000000003(0.07488000000000383) 0x7cb85f609da90fd87fb988329b489e9567da71568cdfb4a261b82471d0e8d190\n",
      "->T(d) 241.2m/4.0h/0.17d, B: 0x1e.. $21.065040000000003(0.07488000000000383) 0xb1ff3a0cb9e3d30826fb647149daae5e78338fea5824383500de317e9547b865\n",
      "->T(d) 235.2m/3.9h/0.16d, B: 0x87.. $20.98512(-0.005040000000001044) 0x55a56c378353c1c0f448bc9e8859141780547116144f35cb730b8ab81891407b\n",
      "->T(d) 239.2m/4.0h/0.17d, B: 0x17.. $20.98512(-0.005040000000001044) 0x7c20f56cf242af594d5be440becadb76be01d0669d65c7096d2d1144e3451878\n",
      "->T(d) 234.7m/3.9h/0.16d, B: 0x8a.. $20.98512(-0.005040000000001044) 0x6c8f9244c5223d27d03124f2f73e1ec2d44fcc6ae6f07eb80912b46913144eb0\n",
      "->T(d) 241.0m/4.0h/0.17d, B: 0x00.. $20.98512(-0.005040000000001044) 0x2404d70788351a8a7e2ced72e90e6de585e74a82660e6dbc8d9bccf7829591c1\n",
      "->T(d) 241.3m/4.0h/0.17d, B: 0xa2.. $20.98512(-0.005040000000001044) 0x1a7598ce12d3539648997d5f6a6a29850c52c2da8df40dcf44017db101f5c042\n",
      "->T(d) 235.3m/3.9h/0.16d, B: 0x83.. $20.98512(-0.005040000000001044) 0x307540609b7cb4d84238dbdfa06adbdc26597538dd190f8d486ea45014334fb7\n",
      "->T(d) 470.8m/7.8h/0.33d, B: 0x1c.. $21.22992(0.23976000000000042) 0xc6bfdce89bdc7741f852645ce4d3cb907e8ff0cea51a4575ebef18549c5df955\n",
      "->T(d) 235.6m/3.9h/0.16d, B: 0xe7.. $21.22992(0.23976000000000042) 0x74b173c5e86d4c0d8c42f7a29b4fd45d6afc652290e2f4daac4f9a6611ef2def\n",
      "->T(d) 240.9m/4.0h/0.17d, B: 0xa2.. $21.22992(0.23976000000000042) 0xd5a67f0bab2457e4b00bcfbb66d00d3655d51c1d946464849e6c918df98f8098\n",
      "->T(d) 233.9m/3.9h/0.16d, B: 0x83.. $21.22992(0.23976000000000042) 0xb9afbeb696451e11d479438798932ff722e7d587f605d412d9d0921ceab7e200\n",
      "->T(d) 239.9m/4.0h/0.17d, B: 0x1e.. $21.22992(0.23976000000000042) 0xe8727ce0d0f3afce28d772daf6af3d546129bba4da75763b1d45c35f7f642661\n",
      "->T(d) 235.2m/3.9h/0.16d, B: 0x1c.. $22.68648(1.69632) 0x49eeb9074edb7990156aa61d6cd9fe8804c0b906ce8b02969edc30101fad3ac8\n",
      "->T(d) 241.9m/4.0h/0.17d, B: 0xe7.. $22.68648(1.69632) 0x9566c93f3d4ee06fbd20982ce5ea6d7acf64d3f1cf1c74d2dcf450d24052791f\n",
      "->T(d) 233.3m/3.9h/0.16d, B: 0xba.. $22.68648(1.69632) 0x511584690f49fa479b38a80eb56dfbf353d3be9b3669af0fcca8219e4b0be464\n",
      "->T(d) 239.4m/4.0h/0.17d, B: 0x46.. $22.68648(1.69632) 0x97144aba3a5500a60b61881a7b99ff97c86045ca97b23f0d878eab598a56a2c1\n",
      "\n",
      "0xadd12bd6375dc21d579cc4abcfa04864d6ac9a62\n",
      "   T(d) 0.0m/0.0h/0.00d, B: 0xad.. $27.34720500000001(0.0) 0x180d862399e117c809aa29e0a0fecbbcf03219c71013cb6b4ab95c2cb1c34b49\n",
      "->T(d) 234.1m/3.9h/0.16d, B: 0x46.. $27.34720500000001(0.0) 0x9db844278d653862d822395781f3c33350e0b0b69fba75f9967400fc845b1b52\n",
      "->T(d) 246.3m/4.1h/0.17d, B: 0xe7.. $27.34720500000001(0.0) 0x50a65787b7412ce2facd15f40eaf1e1387414bf17d814d2d6c68a5c099d30b6e\n",
      "->T(d) 228.9m/3.8h/0.16d, B: 0xa2.. $27.34720500000001(0.0) 0x67f7eacaed1b5e7d95dacf56159863b698a076f736e93acca86d6c44abf07b74\n",
      "->T(d) 246.5m/4.1h/0.17d, B: 0x8a.. $27.34720500000001(0.0) 0x1f4cb11464427cdd0a442a6035563137b1c8723224d0a9105f6127891dfb7602\n",
      "->T(d) 230.3m/3.8h/0.16d, B: 0xad.. $27.60478500000001(0.2575800000000008) 0xaf6a053491156b67cb2a825bf48c371ec5a15ca35305f6e9bc8419dadf50abda\n",
      "\n",
      "0x6a47b60c377450a460d3eb828d534ee66eead668\n",
      "   T(d) 0.0m/0.0h/0.00d, B: 0x6a.. $28.9224(0.0) 0x41c2e3e51d596c21f732133f5d848e25559661d37abb6132b96fea01231d7789\n",
      "->T(d) 242.5m/4.0h/0.17d, B: 0x1c.. $28.9224(0.0) 0xa3c5e7b8487c9d1cfdc799a21a91e2b907569651a76028d738adcda9f9a0017f\n",
      "->T(d) 231.0m/3.8h/0.16d, B: 0x23.. $28.9224(0.0) 0x16b4068bb794e41cbda20c996f79aab54525a6b156f0693d9b78ebc14c27a18a\n",
      "->T(d) 241.5m/4.0h/0.17d, B: 0xe7.. $28.9224(0.0) 0xce7ca8036a8afe489301877efc5424a0021cb784d9264aee1b7e5ea2d0a7c1ce\n",
      "->T(d) 233.4m/3.9h/0.16d, B: 0xa3.. $29.2248(0.30239999999999867) 0xd309eff3703abb3e09c55a04a4f5f7a468ccddb47b1c1ad25ac3e307f91a3345\n",
      "->T(d) 240.9m/4.0h/0.17d, B: 0xe7.. $29.2248(0.30239999999999867) 0x87391a83a4634efc39499ab8c53bb0063dd4a357fdc37df7c90ab6f5d9126819\n",
      "->T(d) 236.4m/3.9h/0.16d, B: 0x8a.. $29.2248(0.30239999999999867) 0x896cae1df19fa1a0d8cba36824f4040c727c792c2975ef534ce0f1484c9d8390\n",
      "->T(d) 238.6m/4.0h/0.17d, B: 0x23.. $29.2248(0.30239999999999867) 0xa61e0d96d1751df0b95bcd1e60ac694f46d6b8f8341f0cebcd73bf74b95ac7ac\n",
      "->T(d) 236.3m/3.9h/0.16d, B: 0x68.. $29.2248(0.30239999999999867) 0xdb3eec22faaddc091868c8f1ffcc1e3c2e4492b9d25426de4a2ef796844535e1\n",
      "->T(d) 238.3m/4.0h/0.17d, B: 0x23.. $29.2248(0.30239999999999867) 0x518f221a18e6aa5f28bf29bcac5d29135c12c1fd420afc347ad904917ce87ab3\n",
      "->T(d) 236.6m/3.9h/0.16d, B: 0xe7.. $29.2392(0.31680000000000064) 0x6ed5b21ab2f15dfffab963975c19ff67703e7065bb7227c1a90c9fe7caa931de\n",
      "->T(d) 238.5m/4.0h/0.17d, B: 0x8a.. $29.2392(0.31680000000000064) 0xd9ae368df3558b7dbe5ab49c93ba7c9f65cb15fbe397c9ebe73b56aa7ca50fb0\n",
      "->T(d) 370.4m/6.2h/0.26d, B: 0xad.. $29.2392(0.31680000000000064) 0x876ba71b6975ba90fa5a224416fa60f38fea7b550d09ad9f2c2d2205c7af285d\n",
      "->T(d) 105.5m/1.8h/0.07d, B: 0xa2.. $29.2392(0.31680000000000064) 0x6b631fafb44332157d73665fc3343554fd867fd8118825686450f142c8ea7cef\n",
      "->T(d) 235.1m/3.9h/0.16d, B: 0x6e.. $29.2392(0.31680000000000064) 0x4069d91a2585ced5dc296961d6500c9d9f7da31a58be22ad9dcdc678ce623c6b\n",
      "->T(d) 239.8m/4.0h/0.17d, B: 0xe7.. $29.2392(0.31680000000000064) 0xfdeb80171021d5c2dbcd5ada6e87e7f366fd643a3e9ff4a52febbf3d2cb7f45e\n",
      "->T(d) 234.0m/3.9h/0.16d, B: 0x1c.. $29.9079(0.9855000000000018) 0x93deaccebdea90c05fb227b60d7c24c8bbec00385689b5ab78c01e1c22f8d171\n",
      "->T(d) 240.3m/4.0h/0.17d, B: 0xa2.. $29.9079(0.9855000000000018) 0x25d507197164b8d24bfcb8d9bf1d11535913924f8e95f62988849d5e965ff3b9\n",
      "->T(d) 235.5m/3.9h/0.16d, B: 0x73.. $29.9079(0.9855000000000018) 0x675f6b31e7ad8c1409a9c00bb7072aceb6dbb1bbb64e43222ff56cb64025182e\n",
      "->T(d) 254.2m/4.2h/0.18d, B: 0xba.. $29.9079(0.9855000000000018) 0x39450941bf413e3e97749bf85900968c338679cdf97b40962180de954de7166d\n",
      "->T(d) 220.7m/3.7h/0.15d, B: 0x6a.. $29.9079(0.9855000000000018) 0x7b00d5e3334f07be78546dc5862316e75e53277617d7efe2469628537b9bd794\n",
      "\n",
      "0x838c14eb3eabe4cb6a696d286c7b2a466629d0ee\n",
      "   T(d) 0.0m/0.0h/0.00d, B: 0x83.. $38.135805(0.0) 0x87f680da6859326a76d1531675307c7defd49c9c7146fc04f0718b1aa954c568\n",
      "->T(d) 228.3m/3.8h/0.16d, B: 0xf5.. $38.135805(0.0) 0x2218d559c6ffaf512a0ca23ab1109ca1d89d9b04bfe0366551e338068d600de2\n",
      "->T(d) 218.3m/3.6h/0.15d, B: 0x8a.. $38.135805(0.0) 0x754956353af3bde50b2820a91a1c78fbb65da80152116579d61b6ec395b32897\n",
      "->T(d) 233.6m/3.9h/0.16d, B: 0xba.. $38.135805(0.0) 0x97e9a40740eccdc0a486256a75d3ae1994af129df8eacf7c31568e40573f9fb1\n",
      "->T(d) 241.4m/4.0h/0.17d, B: 0x6e.. $38.135805(0.0) 0x7619f6822e520f585dc08eb4f849213b3f5bc0f9b7a9c42e56b9b780b953e8ee\n",
      "->T(d) 233.9m/3.9h/0.16d, B: 0x6a.. $38.135805(0.0) 0x938d25d9e9d5dfa9fb7abf5cbc9c073fc0b026444099694268dce4305f7997da\n",
      "->T(d) 241.7m/4.0h/0.17d, B: 0xba.. $35.96785499999999(-2.1679500000000047) 0xccfc75a8b4e9963b4e3df5b7857e774a64547f58d58763f7855f3bdca9c99fba\n",
      "->T(d) 232.9m/3.9h/0.16d, B: 0x6e.. $35.96785499999999(-2.1679500000000047) 0xf704036c9c9f27d4d0d7c0213ab708807fdfa75cd317de9cd79c4afdd585e276\n",
      "->T(d) 240.2m/4.0h/0.17d, B: 0x6a.. $35.96785499999999(-2.1679500000000047) 0x8d27cd31778bce943f93d64b8b6e913dbcbc89a24ad366eaacf0517c15366b50\n",
      "->T(d) 235.4m/3.9h/0.16d, B: 0x68.. $35.96785499999999(-2.1679500000000047) 0xe9dc313acc705988e7ad24b88145246caea16886fb92c7542bbaacaf29704670\n",
      "->T(d) 239.6m/4.0h/0.17d, B: 0xf5.. $35.96785499999999(-2.1679500000000047) 0xa22f5fbf3f65784615675042ee8964e410978f308aab0ce93652776b0c07179a\n",
      "->T(d) 235.0m/3.9h/0.16d, B: 0x23.. $35.96785499999999(-2.1679500000000047) 0xb7b2e5802b14176f8e301f0b7ba1052e9d915b578416655160c7783221f5f725\n",
      "->T(d) 240.8m/4.0h/0.17d, B: 0x73.. $35.434435(-2.701369999999997) 0x5f6a421b29401cbecb7798962c9c7ab663fac186ab7fd4b08e2459bcdee7e379\n",
      "->T(d) 235.2m/3.9h/0.16d, B: 0x17.. $35.434435(-2.701369999999997) 0x477ebb9112883cc7d22e91773e8e1107124a60fed2bbac446b3ec72bfc4525fb\n",
      "->T(d) 239.8m/4.0h/0.17d, B: 0x1e.. $35.434435(-2.701369999999997) 0xeec9bcef3e8a740be3c23659422136aef9aec47a2d17d9f34df37e1e1e5a3f88\n",
      "->T(d) 234.0m/3.9h/0.16d, B: 0xa3.. $35.434435(-2.701369999999997) 0xbd6e3da09dc2c1c8bc9a31c2de1f68c57ac8faa914ea0e8b9f2946c64463cce9\n",
      "->T(d) 239.8m/4.0h/0.17d, B: 0x00.. $35.434435(-2.701369999999997) 0x21427179353943ac279e9d6e2eff5ae985c63e1825f98077df50179ea24f96da\n",
      "->T(d) 235.7m/3.9h/0.16d, B: 0xad.. $35.434435(-2.701369999999997) 0xafc1d46cf339e83d6d2c42f125429ff44072eeca40dfa276542c7d57656c8706\n",
      "->T(d) 240.5m/4.0h/0.17d, B: 0x68.. $39.077485(0.9416800000000052) 0xc40e8dc963aed1a20aff0de36f96221ff4981bcc5adfd823ac31c841f779f812\n",
      "->T(d) 250.0m/4.2h/0.17d, B: 0x17.. $39.077485(0.9416800000000052) 0x859911557bdebbd16e75eb8176c8aaa5892443bd9918c743ade0e0ca88a63cdb\n",
      "->T(d) 224.1m/3.7h/0.16d, B: 0x1c.. $39.077485(0.9416800000000052) 0x56c3cc973219b540db0ade746b1a8b39bbd33e88ab20247f3e16c36493d86ce7\n",
      "->T(d) 234.9m/3.9h/0.16d, B: 0xa2.. $39.077485(0.9416800000000052) 0xb08bf5d287b2fdf7ad4eb08bde06b5bf475349d74f0d7d3fb621d2612f832b01\n",
      "->T(d) 239.8m/4.0h/0.17d, B: 0xba.. $39.077485(0.9416800000000052) 0x82086b49bde94161d09b92f4112044ccaa38cb0f5166e75c22e0c83e91a18726\n",
      "->T(d) 241.3m/4.0h/0.17d, B: 0x6e.. $39.077485(0.9416800000000052) 0xd320497c49ce9fb4a4e7decebc43460464a28d3c9cedc582099b91b2fd8ab315\n",
      "->T(d) 244.5m/4.1h/0.17d, B: 0x83.. $39.077485(0.9416800000000052) 0x3fc6158cf3bdc02a91022b169fffd6458c7403022593b25dd35880e1abb96487\n",
      "\n",
      "0xa21e0974137bf8400eb7dca606d9dcb190d79ed9\n",
      "   T(d) 0.0m/0.0h/0.00d, B: 0xa2.. $20.4508(0.0) 0x44017a75e06f2dd4bd670fe4f8c99d5c8d1aeb883001bf852af80d5e50bf14b7\n",
      "->T(d) 240.6m/4.0h/0.17d, B: 0x1c.. $22.94016(2.489359999999998) 0x89594a38dab7dcfb26380c3f862ae5a4ff02160ece4ff5122be3de0d8b60acb1\n",
      "->T(d) 234.7m/3.9h/0.16d, B: 0xba.. $19.59472(-0.8560800000000022) 0xb1522ea1e7db8eec630f618817950b225c6a96be88a92c3b099bca6f60a09932\n",
      "->T(d) 240.1m/4.0h/0.17d, B: 0xe7.. $22.94016(2.489359999999998) 0x113c60f8fa644cd5a0a20aec5c7efed43b33b62216f1fe3e2b79dfb9356aa9b2\n",
      "->T(d) 234.9m/3.9h/0.16d, B: 0x1e.. $21.98432(1.5335199999999993) 0xa4ace3bd55a90ff5f9ab60e20f990f262764496636fdbe4b71a3cf54b60857dd\n",
      "->T(d) 239.9m/4.0h/0.17d, B: 0x46.. $22.46224(2.0114400000000003) 0x5248c9d72d92e9be8a595f0c1dbd922136471baf382a8aa9721606cf5d70fa62\n",
      "->T(d) 235.3m/3.9h/0.16d, B: 0x87.. $22.46224(2.0114400000000003) 0xcc7b553d342902278919e34d7810a0d02c770af64668aeff916c29a2858782ab\n",
      "->T(d) 240.1m/4.0h/0.17d, B: 0x68.. $23.47104(3.0202399999999976) 0x8b020c791395ab6812fb6da045d7596d070d07c945e560e92509cf0166c1e5eb\n",
      "->T(d) 234.5m/3.9h/0.16d, B: 0xe7.. $22.49308(2.042279999999998) 0x8625ef26a659771e12eb3c6ae7aea71d19746ac171327b633900dcce2865a4a4\n",
      "->T(d) 240.8m/4.0h/0.17d, B: 0x46.. $23.47104(3.0202399999999976) 0xec8ccc12f915dbf692c62b32417fbb29ee7678ab14c4af56635205539c274be1\n",
      "->T(d) 236.7m/3.9h/0.16d, B: 0xe7.. $23.47104(3.0202399999999976) 0xc0aa3ffea4bda7e51f1372de9e6369846e4377eaed15fd18ccf7a2633e9517e2\n",
      "->T(d) 237.7m/4.0h/0.17d, B: 0xcd.. $23.47104(3.0202399999999976) 0x0d383e7c71d175a0fda74ae6098c374b0ea84f57219782734987db24620a9696\n",
      "->T(d) 234.6m/3.9h/0.16d, B: 0x87.. $23.47104(3.0202399999999976) 0x48578ccee7ca80345bba6bcb16c7a3c6d3de3cad2dbe1735d7991ce96d87ff5c\n",
      "->T(d) 240.0m/4.0h/0.17d, B: 0x1e.. $23.75184(3.3010400000000004) 0xb4bb78d2e2c06b772f980cf79985a0d478cc228de0b25d4be128d9fca8733fe2\n",
      "->T(d) 6412.6m/106.9h/4.45d, B: 0xf5.. $23.58912(3.13832) 0xdac30e9fe51c140c9a396b12cf8fd6e038f51f0718081bd0ee09ce23a1cc49e7\n",
      "->T(d) 238.7m/4.0h/0.17d, B: 0x6e.. $23.58912(3.13832) 0xd03246c41ed9866830f16294ed7bc48c9cb44cd513ebd9e170b7e17f05f171e3\n",
      "->T(d) 235.1m/3.9h/0.16d, B: 0x1e.. $23.58912(3.13832) 0x9bf86510ae9d13f066b77252059ba6bdc5d81d464da83a40a8227d35feaccb25\n",
      "->T(d) 238.8m/4.0h/0.17d, B: 0x8a.. $23.53536(3.0845599999999997) 0xc56108eca82d813741349a1c9ce2a817b32dbc6ef5957191a62b2f9e40277eaf\n",
      "->T(d) 243.4m/4.1h/0.17d, B: 0x17.. $23.53536(3.0845599999999997) 0x6eb9312387b4e6f83abca237835c720968108ee07ad77c0c351ace5ec028fa63\n",
      "->T(d) 231.5m/3.9h/0.16d, B: 0xe7.. $23.53536(3.0845599999999997) 0x23f5db6d4dc39e25dba3b0efa04ff4ef5e97c3134ff8f37bc5cf4f8a058e928f\n",
      "->T(d) 1900.3m/31.7h/1.32d, B: 0x1c.. $24.74256(4.29176) 0x777c8ed727952299fa5a7e7d3d9773780359c2058eafb32d662e9d8725c718c8\n",
      "->T(d) 235.0m/3.9h/0.16d, B: 0x73.. $24.74256(4.29176) 0xf9541d7310c4d5624f7a7ad7fe982d0324532777b8b6c809a0b363bf613ee221\n",
      "->T(d) 240.3m/4.0h/0.17d, B: 0x46.. $24.939840000000004(4.489040000000003) 0xea164fdaf1fb12ab0dfbd4721f080b820691101eaf731eb245d142b27fbd8745\n",
      "->T(d) 234.5m/3.9h/0.16d, B: 0x83.. $24.939840000000004(4.489040000000003) 0x323099e76f23e457c58cea301e78c7722c21616ababa2406ee1208fae636fdf4\n",
      "->T(d) 240.1m/4.0h/0.17d, B: 0x6e.. $24.939840000000004(4.489040000000003) 0x6e53e155dbec2b8601a9692728e8836c44b902d94bc61cd72b8fa590d88fa086\n",
      "->T(d) 234.9m/3.9h/0.16d, B: 0x73.. $24.939840000000004(4.489040000000003) 0x39f25c043c11b7a55ba85215c84be6b81fb38abc1d4508baffbbd7405b4b83d4\n",
      "->T(d) 1900.4m/31.7h/1.32d, B: 0x68.. $25.63536(5.184559999999998) 0x654bf9a7eb9adc260b88d2e0811e66a74716651c40a37a11274d7a97ebc8f1b6\n",
      "->T(d) 239.7m/4.0h/0.17d, B: 0xa3.. $25.9488(5.4979999999999976) 0x75ac5f1fe1c2d6f8883faead164a1f389276fb6616a0f41efbd05f041d21fd22\n",
      "->T(d) 235.5m/3.9h/0.16d, B: 0x87.. $25.9488(5.4979999999999976) 0x95211a43d33340b0713aac45a553fca88b61b023a4b35c428821c6ea921a38b9\n",
      "->T(d) 242.0m/4.0h/0.17d, B: 0x00.. $25.9488(5.4979999999999976) 0x7641ac6a43f836a0c128661ae062b92dd329417546f0215dd23e469be3504483\n",
      "->T(d) 232.3m/3.9h/0.16d, B: 0x6e.. $25.9488(5.4979999999999976) 0x36229ae48d78de84675c6e5c17a7bdf455be2a39fac3a46058e464d4d5384507\n",
      "->T(d) 240.1m/4.0h/0.17d, B: 0x23.. $25.9488(5.4979999999999976) 0xb60ca39d80f4674df0b264082f3bcb5f372122c43633261a5c5dbcada4547df5\n",
      "->T(d) 235.2m/3.9h/0.16d, B: 0x46.. $25.9488(5.4979999999999976) 0x265b4a6f29af231eeed9ea5668fc88b34b20bbcdc635f5809598bc96503b8013\n",
      "->T(d) 240.2m/4.0h/0.17d, B: 0x73.. $25.78272(5.33192) 0x76fb025712fd801344e6e8ed64a27496bb16ebc9b199d19428f8cc1e63f64b6a\n",
      "->T(d) 235.1m/3.9h/0.16d, B: 0xba.. $25.78272(5.33192) 0x118ae94d98b9056dcc9e8627baf5cd8b7dd3cbbc0f311fe906557ce764b8897b\n",
      "->T(d) 240.1m/4.0h/0.17d, B: 0x6a.. $25.78272(5.33192) 0xfd3054637dfd917774864383c1f7162194236abbe52dc11e03be9a4d21abdf19\n",
      "->T(d) 234.8m/3.9h/0.16d, B: 0x87.. $25.78272(5.33192) 0xb118020306d8ff6f764c88d0bf1a4bac893fb59c92a4218d7788ca2473843833\n",
      "->T(d) 239.9m/4.0h/0.17d, B: 0x83.. $25.78272(5.33192) 0x28f04be3e95c0f30057638cbdf9f83e74eb5c8b03119ed84a537aa0ab4867b4e\n",
      "->T(d) 236.7m/3.9h/0.16d, B: 0x6e.. $25.78272(5.33192) 0xf7e12a72b694f58cda2b1f62ecbb02543294cf8855548914e92581d726c3305b\n",
      "->T(d) 241.8m/4.0h/0.17d, B: 0xe7.. $26.461920000000003(6.011120000000002) 0xe2768de6e2a89da5af6be8d42fea0f9985c6853b588994f0273d512d5270e806\n",
      "->T(d) 231.3m/3.9h/0.16d, B: 0xba.. $26.461920000000003(6.011120000000002) 0x6af415e70f06af3ce406471811484bbf154deed11abe7ef04526b628e95c5eca\n",
      "->T(d) 243.2m/4.1h/0.17d, B: 0xad.. $26.461920000000003(6.011120000000002) 0x34cbbc3ca7254a2156fb6c3853622e14d402e315136086178437b33abd624a74\n",
      "->T(d) 232.0m/3.9h/0.16d, B: 0x8a.. $26.461920000000003(6.011120000000002) 0xff20b1dd363bb543b87fd284cdd300d305638a7ded9e2dd753fde15b66530c2f\n",
      "->T(d) 240.4m/4.0h/0.17d, B: 0x68.. $26.461920000000003(6.011120000000002) 0x39d984f31dcb975979afb41421f72fc1b7bf093dc50f1bc7fe606bc33e16d40a\n",
      "->T(d) 234.8m/3.9h/0.16d, B: 0x83.. $26.461920000000003(6.011120000000002) 0x23fc9a39c4490127a32bb3d88871275a0b719db32ce38d997753d7ce24019c4a\n",
      "->T(d) 239.6m/4.0h/0.17d, B: 0x87.. $26.461920000000003(6.011120000000002) 0xccdc9cb014d8f0a7804c983cfc6fd186523a9c6e5c376a433b3177108fde4107\n",
      "->T(d) 235.0m/3.9h/0.16d, B: 0x46.. $25.423200000000005(4.972400000000004) 0x047fca6de858c1e7d4719d89e694dd3cbbc2573e819fbd5c5fcc6c4bf32f0d6d\n",
      "->T(d) 241.6m/4.0h/0.17d, B: 0x17.. $25.423200000000005(4.972400000000004) 0x3e1b465bad1ae91f95e130015c0c15191951693d681f6206a47dc9ee103c3acc\n",
      "->T(d) 233.7m/3.9h/0.16d, B: 0x00.. $25.423200000000005(4.972400000000004) 0x3e1ac8de3b59ea4d84adc273030ca145c92736deecfb4497561dca0983303647\n",
      "->T(d) 239.9m/4.0h/0.17d, B: 0x17.. $25.423200000000005(4.972400000000004) 0x1cefaa3db94e8d1c2394283f4bda5176bc418ebf9b72987e98615b441e1a344f\n",
      "->T(d) 236.1m/3.9h/0.16d, B: 0x68.. $25.423200000000005(4.972400000000004) 0x89df42cb8777ab53b3adfb39615a575d19a15f3c254fa3de7a4d6cd65204a7e8\n",
      "->T(d) 238.9m/4.0h/0.17d, B: 0xcd.. $25.423200000000005(4.972400000000004) 0x24dd3830050d171a68de99cd1de3117cb1c4a87b2191b0df7021ffe425e1d9f7\n",
      "->T(d) 2375.2m/39.6h/1.65d, B: 0xf5.. $26.15712000000001(5.706320000000009) 0x1fbcd83927fd69c04913852ece8017dba6fc01ea3946ffcc1ef63a4e95bb834f\n",
      "->T(d) 238.1m/4.0h/0.17d, B: 0xcd.. $26.15712000000001(5.706320000000009) 0x102277b5586cd9ad5e5df6be0d2c100d9555b400430bd9088378dc83ca205424\n",
      "->T(d) 236.2m/3.9h/0.16d, B: 0x00.. $26.15712000000001(5.706320000000009) 0xccc823791617d0834b66867a1988184793bb62e90839837a70449c872b77e018\n",
      "->T(d) 236.0m/3.9h/0.16d, B: 0xf5.. $28.61136(8.16056) 0x2995eabae001774fe8523cd9e97b8e07a9f7a6fb0d0d7d928f7674521b99973b\n",
      "->T(d) 239.5m/4.0h/0.17d, B: 0xa2.. $28.61136(8.16056) 0x1faf10e58e79b0e2fda766f7bf9416e4d0a9a43e7e8951815a37db16a688c9f4\n",
      "\n",
      "0x236ef21dc36d0aec3990dd5ee84a9d5320644262\n",
      "   T(d) 0.0m/0.0h/0.00d, B: 0x23.. $29.195795(0.0) 0xbd55fdf88cfd79fd011721be7529ade1baa230d6660562143061ab9fe4c3a1a5\n",
      "->T(d) 235.0m/3.9h/0.16d, B: 0x00.. $29.195795(0.0) 0x9a730cf2a09d47722e6f09b5b4cfce4ef8f6ecc9cc7e41bd7effacaad0e40d69\n",
      "->T(d) 239.8m/4.0h/0.17d, B: 0x6e.. $29.195795(0.0) 0xcde3d0797671c96bc4b99f843189b4a6a1e9dbc6e90bbf8a8570d017352429c7\n",
      "->T(d) 235.4m/3.9h/0.16d, B: 0xe7.. $30.285905(1.0901099999999992) 0xc7711fb785f6ba48004c3f9d0967cced94bfbedf6b133939031bf02278269a44\n",
      "->T(d) 240.1m/4.0h/0.17d, B: 0x1c.. $30.285905(1.0901099999999992) 0x93929c4fcd8e3f24e1aea028e44c19e9f169a99e877443427f3738220b6b461e\n",
      "->T(d) 235.2m/3.9h/0.16d, B: 0xa2.. $30.285905(1.0901099999999992) 0xf0b403f7beaeb698090a1369ba731dd1a38d6bd1a77f7b1e5cc26ada18d0051f\n",
      "->T(d) 239.8m/4.0h/0.17d, B: 0x73.. $30.285905(1.0901099999999992) 0x04383f21e5e1b75e5913f94e40f2e148ec6dab934426df96b682ab063e2d2760\n",
      "->T(d) 234.9m/3.9h/0.16d, B: 0x83.. $30.285905(1.0901099999999992) 0x0da9c1cca54af91f3a5f1bc48fa8d4cf436abb3d105dd76f3d7ad5f3b41a5228\n",
      "->T(d) 240.9m/4.0h/0.17d, B: 0xad.. $30.285905(1.0901099999999992) 0x3d8f17c6d6a1d45967140e840108c580ac656a6c76c56f8b2ff099beff4e3a11\n",
      "->T(d) 234.5m/3.9h/0.16d, B: 0xa2.. $31.376015(2.1802199999999985) 0xbf588546bd399e20ceea88331eb7cd4f1f9e73f0b1cfe9b85b65e29cdbfc5f37\n",
      "->T(d) 240.7m/4.0h/0.17d, B: 0x8a.. $31.376015(2.1802199999999985) 0x83e226e7cfcd4f79e14c0c59932c2fae1d59e5c38eb3847af48280e2c90014d3\n",
      "->T(d) 237.2m/4.0h/0.16d, B: 0x17.. $31.376015(2.1802199999999985) 0xaecf2aff1fb6b5b62bc4131643d6d2d4d01dd490a8aed879cec397aec338dae0\n",
      "->T(d) 240.8m/4.0h/0.17d, B: 0x8a.. $31.376015(2.1802199999999985) 0xd228d9386894049ae3c608f388787dade960583dc6bb81efc5e822c9aa976b4f\n",
      "->T(d) 230.8m/3.8h/0.16d, B: 0xcd.. $31.376015(2.1802199999999985) 0x4c3136b0ad24919a65a35750cad67787a1f90708d27f48aba9914faa8c484fa4\n",
      "->T(d) 240.2m/4.0h/0.17d, B: 0x68.. $31.376015(2.1802199999999985) 0xb40e891a7302932233a33ae37fa90abf348fedad8335af3d8a3fa2a2c84b734e\n",
      "->T(d) 236.6m/3.9h/0.16d, B: 0x23.. $30.87571(1.6799150000000012) 0x5e7a4ac137c4677d8690225b2507bcd47472484219cce70fb5751b8b0786dedf\n",
      "\n",
      "0xe738725cdcc41c91f734dd7b5b9659df994d6dda\n",
      "   T(d) 0.0m/0.0h/0.00d, B: 0xe7.. $19.490220000000004(0.0) 0x6c6ba63d64bb382339e143b094e6b0ddff282811a38f61a029a62a190456b8f3\n",
      "->T(d) 235.7m/3.9h/0.16d, B: 0x46.. $19.490220000000004(0.0) 0xe2d7072929f1b38c1c33cfb9824b00fb32ffb721994bda96c49e7e1759774ea0\n",
      "->T(d) 240.4m/4.0h/0.17d, B: 0x8a.. $19.490220000000004(0.0) 0xf0259022547071687c168c5f99b451fdbe913915748b3ea32d7679101efe825d\n",
      "->T(d) 233.8m/3.9h/0.16d, B: 0x46.. $19.490220000000004(0.0) 0x7f32813101b980b22c99db2e933aabfaf517cb968f7daf150e75041109f68204\n",
      "->T(d) 240.9m/4.0h/0.17d, B: 0xa2.. $19.490220000000004(0.0) 0xc5ecc15266dfbf497e79d8efb430ee901771c832744a40813726e61c8dbb7759\n",
      "->T(d) 234.1m/3.9h/0.16d, B: 0x00.. $19.371765000000003(-0.11845500000000087) 0xa189cd28209a3a76b4ea08882c2ba50788db86bd474f69b050d4dd40a3a3be38\n",
      "->T(d) 240.4m/4.0h/0.17d, B: 0xba.. $19.371765000000003(-0.11845500000000087) 0xbf9bafb7a0dea419cace89ea93a23c72801bc18a358fcfaae673c902a290c50c\n",
      "->T(d) 237.0m/4.0h/0.16d, B: 0x73.. $19.371765000000003(-0.11845500000000087) 0x57d16a11240ec15129c4b526bfcfde6157e24edbf6183396e205f11a37589449\n",
      "->T(d) 239.2m/4.0h/0.17d, B: 0xad.. $19.371765000000003(-0.11845500000000087) 0x100e202b2dc897635e0605bebfb8dca3a21fc042b8332421f8a1739769d2b622\n",
      "->T(d) 236.4m/3.9h/0.16d, B: 0x6e.. $19.371765000000003(-0.11845500000000087) 0x6886d4690518a1b2801e7c5a77e94fe2b551b5bfaa9768c962a41bd47ccca96b\n",
      "->T(d) 237.8m/4.0h/0.17d, B: 0x1c.. $19.371765000000003(-0.11845500000000087) 0x150c5aa1a2038fb61423f42f31b755e649b8e9ab9f34691256fb081dbc0f47a8\n",
      "->T(d) 234.9m/3.9h/0.16d, B: 0xf5.. $19.269210000000005(-0.2210099999999997) 0x84b0bbcb5e71ba83abb1bea8a87d37d0401f2589a687a5bf9191fa8fdf99aedf\n",
      "->T(d) 241.3m/4.0h/0.17d, B: 0xa3.. $19.269210000000005(-0.2210099999999997) 0xe82ea3d60e850f80368a06cf6eddb017ea50c9541758332f2ef4cb29d4de440c\n",
      "->T(d) 234.3m/3.9h/0.16d, B: 0x6a.. $19.269210000000005(-0.2210099999999997) 0x722a681f8a467a3d9ee3ef9a0526ed4333dc950fb07bed6e6134a9edf4644959\n",
      "->T(d) 241.3m/4.0h/0.17d, B: 0xf5.. $19.269210000000005(-0.2210099999999997) 0x6aeea08bb3d4e51cbf78d608f908d0ecbe35d5c1989d85100c635175f38d54ee\n",
      "->T(d) 234.3m/3.9h/0.16d, B: 0x8a.. $19.269210000000005(-0.2210099999999997) 0x042360d6576b983ea7fd652e51b2a4b073802325fbd1c32ab146ae130f99a51a\n",
      "->T(d) 238.8m/4.0h/0.17d, B: 0xf5.. $19.269210000000005(-0.2210099999999997) 0xd807e8f6d99cb2631d56f3f4e7ea0d83f026fe506cc12ecc3d35012eca12b817\n",
      "->T(d) 709.5m/11.8h/0.49d, B: 0x8a.. $19.431390000000004(-0.05883000000000038) 0x7ed892b3bac31db05b7ce74fe8a1a52958a0767d43821c2c4bb3b674ccc12821\n",
      "->T(d) 241.1m/4.0h/0.17d, B: 0xf5.. $19.431390000000004(-0.05883000000000038) 0xc4942116d2cc815e0334912087f5293155bca6faee9ea49b3d6e06f33022f38f\n",
      "->T(d) 234.1m/3.9h/0.16d, B: 0x68.. $19.431390000000004(-0.05883000000000038) 0x594e5bd09082f9014cb9b78df8de7b2f3ab2ecc64e5898d4fa72fd2da2b4c36d\n",
      "->T(d) 240.2m/4.0h/0.17d, B: 0x00.. $19.431390000000004(-0.05883000000000038) 0x8738b5b3eedea93a8f3c01e22c3148fa97f5bc995fdfe5af76ff15067674bf7d\n",
      "->T(d) 235.7m/3.9h/0.16d, B: 0x6e.. $20.64456000000001(1.1543400000000048) 0x1f1beeca3c9c6d62a7ecf7b37663787717c3f89347a6ed1ef1ca7632ab827497\n",
      "->T(d) 241.0m/4.0h/0.17d, B: 0x83.. $20.64456000000001(1.1543400000000048) 0x9ee838cb6c98842f1ff1c5dcec3fb6a918d761b3860febb0789230ad4374dac2\n",
      "->T(d) 235.2m/3.9h/0.16d, B: 0xa3.. $20.64456000000001(1.1543400000000048) 0xc06bd845ace5d643c09c5b4adcc432b09c678ce70351d265d63f5612281a63f3\n",
      "->T(d) 240.1m/4.0h/0.17d, B: 0x46.. $20.64456000000001(1.1543400000000048) 0xc3762f03113e537cf0acd63e1978c96e6dc020ebe4cd8b67eeee8c7199c4bce6\n",
      "->T(d) 234.2m/3.9h/0.16d, B: 0xf5.. $20.64456000000001(1.1543400000000048) 0xccf0fa095eb2abbbe64d28d4109f3e375a63ce4787d209bc9b87226198dfd692\n",
      "->T(d) 238.6m/4.0h/0.17d, B: 0x17.. $20.64456000000001(1.1543400000000048) 0xe03c4e9751b029dd5006212f62bc78cdb2d9722b32cb2db755497c739c1532cf\n",
      "->T(d) 234.8m/3.9h/0.16d, B: 0x87.. $23.176635(3.6864149999999967) 0xf2eceee6a92a95e360b3667769bf311fd3fa9add3d1bcadc4736079532089729\n",
      "->T(d) 242.5m/4.0h/0.17d, B: 0x73.. $23.176635(3.6864149999999967) 0x2e72a9ce19b92c07c69de631ba700648a2763d7868f353312d3ef7b5d4a0b302\n",
      "->T(d) 235.0m/3.9h/0.16d, B: 0xa2.. $23.176635(3.6864149999999967) 0xc190017543e31aa6292aa7db99408e1b4539fe949fc5b6f5ad119639fbadb8cf\n",
      "->T(d) 242.2m/4.0h/0.17d, B: 0xad.. $23.176635(3.6864149999999967) 0xbb309acb7234062cf9cf1c85ff872e90c79568b75bcf9bcd6c91c59b0094fe2e\n",
      "->T(d) 232.1m/3.9h/0.16d, B: 0x6a.. $23.176635(3.6864149999999967) 0x248345a00fabdec3a99d19e566fa9ec465ead976a3666d13054b6fd269d2f99d\n",
      "->T(d) 237.7m/4.0h/0.17d, B: 0x23.. $23.176635(3.6864149999999967) 0xceac98eb8defe5701b7d3340582f9054e4f94a52e1f27ca80f81813baa940e30\n",
      "->T(d) 236.9m/3.9h/0.16d, B: 0x83.. $23.276805000000003(3.7865849999999988) 0xf1e95faf9bc9802cef3baced20b7c92535041ab5963bc650a37ca9980682e24e\n",
      "->T(d) 241.6m/4.0h/0.17d, B: 0x46.. $23.276805000000003(3.7865849999999988) 0x60ecf57000999169e390745475479ee83cc3f434a1523bd6c7bbefb05e606755\n",
      "->T(d) 232.5m/3.9h/0.16d, B: 0xa2.. $23.276805000000003(3.7865849999999988) 0x1d6390e1714d8efe705fb07b6aee13e36a2fecda6837cedb61ef4d57c5722b91\n",
      "->T(d) 239.8m/4.0h/0.17d, B: 0x8a.. $23.276805000000003(3.7865849999999988) 0x2b6a7da2980b6fb4619290ae0e4cf6483f739888d781785d6e2452456ab303ef\n",
      "->T(d) 236.6m/3.9h/0.16d, B: 0xf5.. $23.276805000000003(3.7865849999999988) 0x085e352acc1f391d61767394fdc4a57c3b65c284e65b34f3ce3b72cded59db11\n",
      "->T(d) 241.1m/4.0h/0.17d, B: 0x23.. $23.276805000000003(3.7865849999999988) 0x43737007ebd31e27c40f42e6a912e8a6684e4cb6f6ce6230a9fc0f47a368f50a\n",
      "->T(d) 232.6m/3.9h/0.16d, B: 0xad.. $23.259315000000008(3.7690950000000036) 0xa9c12123e3f10c06599ad986392dc9d68c55fc568fd170e4b6f2ac79c6340e73\n",
      "->T(d) 239.7m/4.0h/0.17d, B: 0x83.. $23.259315000000008(3.7690950000000036) 0x7d122f4e78742b60a80630ba360b963b2f4b771597e85025db56a9565ad1069e\n",
      "->T(d) 235.9m/3.9h/0.16d, B: 0xa2.. $23.259315000000008(3.7690950000000036) 0x7a6b1c8da749ba71a82ab3e16c2020bcb1ee0db5774c8cd465c9995909f19561\n",
      "->T(d) 238.3m/4.0h/0.17d, B: 0xf5.. $23.259315000000008(3.7690950000000036) 0x29a1c11c81e525725f7106b544db19ee2d01665ac8722c52d19aeb5f350e5b94\n",
      "->T(d) 236.9m/3.9h/0.16d, B: 0x00.. $23.259315000000008(3.7690950000000036) 0x73a98abc1aa1efe00b412e63dd31f4a793de141f1096d8476fb0e6d6cd01b414\n",
      "->T(d) 239.7m/4.0h/0.17d, B: 0xad.. $23.259315000000008(3.7690950000000036) 0x455fdf604f4c16c1a2ac01f77e5903e93ed6f4341208e40551d316a0fbb64bea\n",
      "->T(d) 236.3m/3.9h/0.16d, B: 0x1c.. $23.171070000000004(3.6808499999999995) 0xff5e374153a245699aa3c0240791a2ec4a1a5af417b535014fc15a8f9a561b00\n",
      "->T(d) 239.0m/4.0h/0.17d, B: 0xe7.. $23.171070000000004(3.6808499999999995) 0xa310fcc0c83306f620a1e590022d275e071cf6d694de7fc8170e2a33f0bf5154\n",
      "\n",
      "0x00c9da65b33b4f7034b5f50b90f5f6d8320d6ab8\n",
      "   T(d) 0.0m/0.0h/0.00d, B: 0x00.. $33.318000000000005(0.0) 0xd1cc70357c158e9638577a1252c61214fae3d6c86d7ee8f0492608d8c27e6083\n",
      "->T(d) 239.8m/4.0h/0.17d, B: 0xf5.. $33.318000000000005(0.0) 0x876ca8dff947c5739d7ca7ff2cf7325952c5619ce5b78574db296ebd2f977ffc\n",
      "->T(d) 234.6m/3.9h/0.16d, B: 0x17.. $33.318000000000005(0.0) 0xcb162c8a90c50ba731a376bb5e41f79fa0a7dec30b4591e6c3b533396218302c\n",
      "->T(d) 240.0m/4.0h/0.17d, B: 0x6e.. $33.318000000000005(0.0) 0x0a36db3405ae3ec122b39305494253af4858a0b8100b225cbfcb62dfdeccfbcb\n",
      "->T(d) 475.0m/7.9h/0.33d, B: 0x6e.. $34.399(1.080999999999996) 0xfdf1ca993d75f2dce6f0f62ad036f21920014956140b3c4c56bd50973c0c1c72\n",
      "->T(d) 235.0m/3.9h/0.16d, B: 0x17.. $34.399(1.080999999999996) 0x45964b730a84f5b90aa20252cc5e7bca063b381ea93e190b6e7e63a7aac952f3\n",
      "->T(d) 715.3m/11.9h/0.50d, B: 0x1e.. $34.399(1.080999999999996) 0xff300789a51aa908e11296170efb985a325268335e9b2f4794194119a9256921\n",
      "->T(d) 236.6m/3.9h/0.16d, B: 0xa3.. $34.723000000000006(1.4050000000000011) 0x6f784a92178a62f14580cfd06d75f0e436da61ec6e7dd560b8dc22f0f05f0b8a\n",
      "->T(d) 238.5m/4.0h/0.17d, B: 0x23.. $34.723000000000006(1.4050000000000011) 0x858ba85b6ae373da6f985d7c8d07b6ae234330c2b88c6f5848a267679ee03d64\n",
      "->T(d) 234.9m/3.9h/0.16d, B: 0x68.. $34.723000000000006(1.4050000000000011) 0xe1869dbc0ac0b2da737dbd5379cf402f22edab3828c442cd13694bc3d538507e\n",
      "->T(d) 241.8m/4.0h/0.17d, B: 0x87.. $34.723000000000006(1.4050000000000011) 0x29315f7500dc3879d5be29f65a27b75330ea8bdc1c05e4ee7b7ab5a5752f3088\n",
      "->T(d) 232.9m/3.9h/0.16d, B: 0xba.. $34.723000000000006(1.4050000000000011) 0x504eafa40c49b0b5e2201a8ea756f5c6f1fd998463f861a3af73ab05f115283e\n",
      "->T(d) 240.6m/4.0h/0.17d, B: 0xa2.. $34.723000000000006(1.4050000000000011) 0xf4fede9ffe340ebe22ef0ee2dc0cab66adf0995cb43e37f0a245ab422384ae6d\n",
      "->T(d) 234.4m/3.9h/0.16d, B: 0x17.. $34.86000000000001(1.5420000000000016) 0xe561db3313a992ec87bc1deb6b4e02cb731a8ff8132670416777937c28a7710c\n",
      "->T(d) 241.0m/4.0h/0.17d, B: 0x8a.. $34.86000000000001(1.5420000000000016) 0xae69b43f49edfc9c9225cde1c7f0605c041e2b13999cc2063b73969580eca2c6\n",
      "->T(d) 234.3m/3.9h/0.16d, B: 0xad.. $34.86000000000001(1.5420000000000016) 0xd66286c005361f52a7afc99fd8c4bc7a7099531f783b21eeb853b180ff1ca1ab\n",
      "->T(d) 240.5m/4.0h/0.17d, B: 0xf5.. $34.86000000000001(1.5420000000000016) 0xcb4ecab6c92159cb257a3ddd1da0b4a078224d3fca28db01bb870baf2e64dd87\n",
      "->T(d) 234.3m/3.9h/0.16d, B: 0x46.. $34.86000000000001(1.5420000000000016) 0x842d4d8d517ffa239e70203277c7e395fb044675deca2c75d82e74b3fb3debb5\n",
      "->T(d) 240.7m/4.0h/0.17d, B: 0x00.. $34.86000000000001(1.5420000000000016) 0x53fc76f8af23c224b51a16a6d36ac2bf1c6269c7b0f5d15b2567338e8cb5aff9\n",
      "\n",
      "0x179d698f5a1c84c3ff4c5eb04e553c15a0c1d8d8\n",
      "   T(d) 0.0m/0.0h/0.00d, B: 0x17.. $29.83875(0.0) 0x90196e42f397b22cc0fcd5cdfdb2462808373c749e4fa68d1d7d086c19ea5e47\n",
      "->T(d) 234.3m/3.9h/0.16d, B: 0x1c.. $29.83875(0.0) 0x3665aa351e807b0ec39812cc54fef6e132813c84e52fd2978773bdab5fd3c34c\n",
      "->T(d) 240.7m/4.0h/0.17d, B: 0x68.. $29.83875(0.0) 0xfd88f89cec00a331b04bf3414bdd42293da33ca06503cc15bd2883e1d13b7db5\n",
      "->T(d) 235.8m/3.9h/0.16d, B: 0x87.. $29.83875(0.0) 0x9e8a313cf5823e993b10231c7f6fda1e5690b3d452a4a8602741ebd9ec135dad\n",
      "->T(d) 238.6m/4.0h/0.17d, B: 0xa2.. $29.158755(-0.6799950000000017) 0x300dca854b7fbc8153cf7773ed792319c047a972baa0d6a80c8473e2aa1e9bd4\n",
      "->T(d) 235.0m/3.9h/0.16d, B: 0x1c.. $29.158755(-0.6799950000000017) 0x22812ed12ad8d43062ec61c42be743fc6cb5b28c2864d21de13bc930609ac48f\n",
      "->T(d) 241.8m/4.0h/0.17d, B: 0xad.. $29.158755(-0.6799950000000017) 0xd921cbf39e3acfd7378c4ea00cb06f7878f665d7f507ab72c10dff75c2c6b702\n",
      "->T(d) 232.9m/3.9h/0.16d, B: 0x6e.. $29.158755(-0.6799950000000017) 0xb4b2c279827be3e84c52447f8c7416dae98c70863eb77a21c6f34f6de29d0393\n",
      "->T(d) 241.5m/4.0h/0.17d, B: 0x87.. $29.158755(-0.6799950000000017) 0xb8bbac501bcb04123173ae8ee4bd534338795acd310c5a8f73b5c85cc32692ce\n",
      "->T(d) 233.9m/3.9h/0.16d, B: 0xf5.. $29.158755(-0.6799950000000017) 0xe9a9d25fb5782d9975395d578cc0433c70fc0f18b4db35aa6a1fb60f15420639\n",
      "->T(d) 240.3m/4.0h/0.17d, B: 0x83.. $29.141235(-0.6975149999999992) 0xdce023a500cc7cf54327393d903e87b15ffbf99422b305350e389819953aca84\n",
      "->T(d) 235.8m/3.9h/0.16d, B: 0xad.. $29.141235(-0.6975149999999992) 0x8669c0e542e445c6d31bd480050c88a91032044ccfb36f3f770f1d03a5ac905b\n",
      "->T(d) 262.3m/4.4h/0.18d, B: 0xa3.. $29.141235(-0.6975149999999992) 0x8f94ea0324832ecd4665b253702f9dbdf3db3cfebea97176b5e155146a6e0b8d\n",
      "->T(d) 212.5m/3.5h/0.15d, B: 0x83.. $29.141235(-0.6975149999999992) 0xaab47326b055152601d7000855e39087bb1193dc37fe2fc8d481eefcb01c3586\n",
      "->T(d) 241.0m/4.0h/0.17d, B: 0x23.. $29.141235(-0.6975149999999992) 0xc6371c299bcbe4bb81c8e03760c0b906193b22ee9ef6b4c93c7f41d6a35cec45\n",
      "->T(d) 235.2m/3.9h/0.16d, B: 0x00.. $29.141235(-0.6975149999999992) 0xdf2945de82ddef1b3d2aad917578863339eedde4347e0663cc5df64d948c5d07\n",
      "->T(d) 238.2m/4.0h/0.17d, B: 0xcd.. $29.049255(-0.7894950000000023) 0x752755b91d27ec759ce6c82dd644c69ed64a194ea78d51f7130938e5d8c95aaa\n",
      "->T(d) 237.7m/4.0h/0.17d, B: 0x8a.. $29.049255(-0.7894950000000023) 0x60e35df9f0b391cd7a5b6044db4ca5f0dae3a6211a1a3785550cd5abb3dddaa7\n",
      "->T(d) 239.6m/4.0h/0.17d, B: 0xba.. $29.049255(-0.7894950000000023) 0xc2a45dcd170574f3997ec0a957b953f1764c5369e194946ec2906362af5fd848\n",
      "->T(d) 473.2m/7.9h/0.33d, B: 0xba.. $29.049255(-0.7894950000000023) 0xff08153991f8f842c5dd95ccf4714c6264b9ff7f1f79e498b4565347d3e918ae\n",
      "->T(d) 234.2m/3.9h/0.16d, B: 0x6a.. $29.049255(-0.7894950000000023) 0x977d5abec011682ee2373c2746bab76059d45ba92505906a50d9b21103128fde\n",
      "->T(d) 240.1m/4.0h/0.17d, B: 0xba.. $29.037209999999995(-0.8015400000000064) 0x37c59c75710d28f5462e625cf0cd4eb2e33140bd26597a69edf97138a5018ae3\n",
      "->T(d) 234.5m/3.9h/0.16d, B: 0x87.. $29.037209999999995(-0.8015400000000064) 0x0afcfb92f0f875efc2d40c29c551ac9437b50d3c52b1bbcfb9a28c25fa1d31f3\n",
      "->T(d) 240.9m/4.0h/0.17d, B: 0xad.. $29.037209999999995(-0.8015400000000064) 0x277e95f6eb1ba0309eea083c11fbdd7387c7b7216b461e45d856d2b5f2c904a4\n",
      "->T(d) 236.2m/3.9h/0.16d, B: 0xf5.. $29.037209999999995(-0.8015400000000064) 0xec2edfba61667af13cd5938de13858b5320879a1673e4546f19810e369e8e43b\n",
      "->T(d) 415.9m/6.9h/0.29d, B: 0x83.. $29.037209999999995(-0.8015400000000064) 0x394cf2f4bef8ae56071e6561ee2021ea1f654c1d2331671bb239ab570565c55f\n",
      "->T(d) 58.9m/1.0h/0.04d, B: 0xa2.. $29.037209999999995(-0.8015400000000064) 0x4274092c2ec41d4ca2755467100f53dabe235bd00080cc6ba7308cac7321ea82\n",
      "->T(d) 1188.0m/19.8h/0.82d, B: 0x83.. $29.70516(-0.13359000000000165) 0xf37faee837488439b21c52d09e64e9f401682a83c8d80625c64eb7bdd9a530e4\n",
      "->T(d) 238.4m/4.0h/0.17d, B: 0xa2.. $29.70516(-0.13359000000000165) 0x80391b38bb151c554dd20bba8f30ec3cbd48b7cd0b95797dca8a4d55c9786354\n",
      "->T(d) 711.9m/11.9h/0.49d, B: 0x83.. $31.06953(1.2307799999999993) 0xd230a9af6868fc19e18f3ebbbe2258b1b99238f0f3ff16627aa1537b0c6655c4\n",
      "->T(d) 236.8m/3.9h/0.16d, B: 0xa2.. $31.06953(1.2307799999999993) 0x0e78f86335ea4bf3dee610901b2746c1df9d944c6f628c6e95aa2e8f9b91bd43\n",
      "->T(d) 238.9m/4.0h/0.17d, B: 0x8a.. $31.06953(1.2307799999999993) 0x149ec585cc5541f9e6db95a02eba439def9f854542f1ce0ed4498ce0fde24c44\n",
      "->T(d) 234.5m/3.9h/0.16d, B: 0x6e.. $31.06953(1.2307799999999993) 0x429c9ba2101819095d79adc347781dae8399861612263f4e70acaf7be2090ea9\n",
      "->T(d) 240.2m/4.0h/0.17d, B: 0x6a.. $31.06953(1.2307799999999993) 0xa1307f99cd1b6b8087f0bd6ddafb02741721700a3fbc19b9f1ad1109188783b2\n",
      "->T(d) 234.7m/3.9h/0.16d, B: 0x17.. $30.574590000000004(0.7358400000000032) 0x256a63a990a97e0c4eca26ba33364826ae46deea378ebdb4b4656c432d9e86fe\n",
      "\n",
      "0x1c1ef71445010114f41ac1feb32dbf5d7281e90f\n",
      "   T(d) 0.0m/0.0h/0.00d, B: 0x1c.. $52.85918(0.0) 0xe9a980d9d1cbe162aa9326e174cab7d31912bfca694358d4649d22d085c7e32b\n",
      "->T(d) 236.0m/3.9h/0.16d, B: 0x8a.. $52.85918(0.0) 0x05fd66a8d7d0de9bb075f9c040eed5ed8be527567a4e98a4949e23095b0cae3f\n",
      "->T(d) 239.4m/4.0h/0.17d, B: 0x73.. $57.81878999999998(4.9596099999999765) 0x0c6e612f4fb8e067134439d8b27596799e0c03a3ab8a8427a8ea8b30aba7c1b1\n",
      "->T(d) 235.3m/3.9h/0.16d, B: 0x8a.. $57.81878999999998(4.9596099999999765) 0xb33672a27d5dac276e3c7f8ccefe1d8419b3f0b652436a4802e1dc3bbcd815be\n",
      "->T(d) 240.7m/4.0h/0.17d, B: 0xe7.. $57.81878999999998(4.9596099999999765) 0x55454cbf850143a8ecb4eed0e8a7410eb8af8a1f6c8d8707e4e54c8615e2f67c\n",
      "->T(d) 234.6m/3.9h/0.16d, B: 0xa3.. $57.81878999999998(4.9596099999999765) 0x129116945ce76e2c4ce94ad3514a307eabc6d4c001135cf8986a4a2bdf8fa31b\n",
      "->T(d) 239.6m/4.0h/0.17d, B: 0x1e.. $57.81878999999998(4.9596099999999765) 0x361b5a2917ab75541f50c08746d676b90c3b19352570b10eb3acbf0f431e634c\n",
      "->T(d) 234.4m/3.9h/0.16d, B: 0xba.. $57.81878999999998(4.9596099999999765) 0x91e7204df910ca05a7c90998fc1f88963c34584254f5ef08315073c727dc119d\n",
      "->T(d) 240.2m/4.0h/0.17d, B: 0xa2.. $59.67342999999999(6.814249999999987) 0xfb6a71c9e568b07884ca06ea5f2f4295bcd84c96eefbe26943270fbe2dd188cb\n",
      "->T(d) 234.9m/3.9h/0.16d, B: 0xe7.. $59.67342999999999(6.814249999999987) 0xe105e146d202958820706f674a321c4aecec2bbbd5eaa6682633c65bc9a4c4d6\n",
      "->T(d) 240.2m/4.0h/0.17d, B: 0x8a.. $59.67342999999999(6.814249999999987) 0xe89b75f07f4f6d0e95308ecfa775d5d1e60c94bb9d2fa7544916cb6dede30004\n",
      "->T(d) 235.0m/3.9h/0.16d, B: 0xf5.. $59.67342999999999(6.814249999999987) 0x8765c40ed418e07482d482cce508b2d597c0901e00e14a5ddc801df2205ebf59\n",
      "->T(d) 239.7m/4.0h/0.17d, B: 0x1e.. $59.67342999999999(6.814249999999987) 0x726eb148d71807a07a3e9b373d9373c16c512f67b27ec8afa6cfdeaa58cb895f\n",
      "->T(d) 235.1m/3.9h/0.16d, B: 0x73.. $59.67342999999999(6.814249999999987) 0x587c89145bcef66bf80b83871506b571f6d42b3e3ad22d3d37e8ce95c1beba20\n",
      "->T(d) 239.9m/4.0h/0.17d, B: 0x1c.. $60.62305999999999(7.763879999999986) 0xf959a40787ce3000408e4bdf0dedf082267e8b24eaf66edd86590415497f4903\n",
      "\n",
      "0x68d31cb3825e559b1e5c0665f2d65d06a17fce1a\n",
      "   T(d) 0.0m/0.0h/0.00d, B: 0x68.. $32.488(0.0) 0x0466b433744ca56f808e96d37ea1c7614307cbfd08f486ae4bdf2d13906913c4\n",
      "->T(d) 716.5m/11.9h/0.50d, B: 0xe7.. $32.488(0.0) 0xfc1128f4f1b8e4fdac638c5863cbe0f36e6d2478df598e5685c6c03057f61d92\n",
      "->T(d) 233.7m/3.9h/0.16d, B: 0x1c.. $32.488(0.0) 0x75c459180f906cad34bf4a0b8938c2fe15990c8944eb0a59c266700e595a9b7a\n",
      "->T(d) 240.3m/4.0h/0.17d, B: 0xa2.. $33.231(0.7430000000000021) 0xa1755f1e2cba7d74f01ccddf5fdab961e7de4686bd5c722330d3c32178ba9e42\n",
      "->T(d) 256.7m/4.3h/0.18d, B: 0x73.. $33.231(0.7430000000000021) 0x255d3197ea82bbd3df1d220d5d898377f8b0a17fe8296a4a6eee35c52260f007\n",
      "->T(d) 218.7m/3.6h/0.15d, B: 0xba.. $33.231(0.7430000000000021) 0x32fde443130d10f632b901b0e11ee94340f6e0d18023bad826578809359db1cd\n",
      "->T(d) 234.6m/3.9h/0.16d, B: 0x6a.. $33.231(0.7430000000000021) 0xcbb9d4c6307b57eaa4a5facd920593989562fe463558f0dc5615b3ddc5375ea7\n",
      "->T(d) 239.7m/4.0h/0.17d, B: 0x8a.. $33.231(0.7430000000000021) 0x853db223ac9d12e060821dd37eaf1e81dcc3858f681f7c33ccaffdda36714db1\n",
      "->T(d) 234.8m/3.9h/0.16d, B: 0x87.. $33.231(0.7430000000000021) 0x2622b1d410a3f7c791a723c302450faccf5d317ae08a014db9d066cfa31858ec\n",
      "->T(d) 240.1m/4.0h/0.17d, B: 0x46.. $33.405(0.9170000000000016) 0xd0b9aad0b881305b58b72498bb98ffc4e351ca2ec9ad2281c8ac3d761ecc2a95\n",
      "->T(d) 234.9m/3.9h/0.16d, B: 0xcd.. $33.405(0.9170000000000016) 0x38121212fa3dc9627a0f26b9d8669b3fc4093889103e2483ddd930eb1322e630\n",
      "->T(d) 240.6m/4.0h/0.17d, B: 0x1e.. $33.405(0.9170000000000016) 0xacb5ba9899830f86d515ef90eb23b91b6dd2914bca32b7b725fc1202b2ea514b\n",
      "->T(d) 234.5m/3.9h/0.16d, B: 0xf5.. $33.405(0.9170000000000016) 0x5d3bf3ad0d3a96309c5253bbc96e628f924f69b60044619289f452d9c5c43e21\n",
      "->T(d) 240.2m/4.0h/0.17d, B: 0x68.. $33.405(0.9170000000000016) 0xd4caf51e1d3565d43304231f6961aa8b7f0a2ee4018d4635912f05791efaba9b\n",
      "\n",
      "0x6e13c7e25c2cda6f5c8c4e431bee480bfb312c28\n",
      "   T(d) 0.0m/0.0h/0.00d, B: 0x6e.. $44.261625(0.0) 0x9777aca8ee7b53d259fa5fb708040d637648b0c9ec8022bf86070c3490eda344\n",
      "->T(d) 239.4m/4.0h/0.17d, B: 0x73.. $44.261625(0.0) 0x7e9e9bcaf3313415948397a701293f4e8fe03ec5c743f5a453d76266f4500910\n",
      "->T(d) 237.3m/4.0h/0.16d, B: 0x1c.. $44.261625(0.0) 0xc01a65e879476fe934d46f11936a35ca16e2bf245fa9bca0750b9c1910c4f03e\n",
      "->T(d) 239.2m/4.0h/0.17d, B: 0x17.. $44.261625(0.0) 0x0cad89031c60e29b464fa6d6d36c7a19164a0ff6f254ed53ffea83760b1ee488\n",
      "->T(d) 233.5m/3.9h/0.16d, B: 0x73.. $44.261625(0.0) 0xdc5eda4f814b2d3edca9daaac855a6a41bb325f7b1acac0dcdd697155de6616a\n",
      "->T(d) 241.2m/4.0h/0.17d, B: 0x6a.. $43.22282500000001(-1.0387999999999948) 0x8f26331fb87006eb580b3a2addbde3cd394c684e26fa0d0548cc6f842fc47aaa\n",
      "->T(d) 233.8m/3.9h/0.16d, B: 0x17.. $43.22282500000001(-1.0387999999999948) 0x07fb40059907fb57e0462e8cb14985125813c85416874b16fdf66ab15b65f7f9\n",
      "->T(d) 240.4m/4.0h/0.17d, B: 0x87.. $43.22282500000001(-1.0387999999999948) 0x57d71cf6f25b5eca19e60882b620438095e459873d4fd522c91a258a249aaa24\n",
      "->T(d) 235.1m/3.9h/0.16d, B: 0x6a.. $43.22282500000001(-1.0387999999999948) 0x0f3ba5442f2638229aad21864f8d4bdbfa46cf276315d893e590138cdf5a03dd\n",
      "->T(d) 240.1m/4.0h/0.17d, B: 0xcd.. $43.22282500000001(-1.0387999999999948) 0xb5b961d5f622117a109d653ea00654983018ced104f6c9f6f2c1db042e00a2ee\n",
      "->T(d) 234.8m/3.9h/0.16d, B: 0x87.. $43.22282500000001(-1.0387999999999948) 0x251d69bece6b44e9755e2053d9dd0066c0029b5ca36b24a29d0be9d3e0d9a3f4\n",
      "->T(d) 240.0m/4.0h/0.17d, B: 0xf5.. $44.836675(0.5750499999999974) 0x7d0629aa2e27e3ea4cdc9b3218082ad436353fd833d2ccb0918b5c8412e1cfda\n",
      "->T(d) 236.5m/3.9h/0.16d, B: 0xcd.. $44.836675(0.5750499999999974) 0x91c7a4b4bcd3af5aae0f9f868c5ee90a1471d0aa5f3a194ce1d6c96a67f8161d\n",
      "->T(d) 237.9m/4.0h/0.17d, B: 0xba.. $44.836675(0.5750499999999974) 0x2a263a228e28ef5a0e3ac5874341b1881c09ffe4b33ff116224a6984112dae8a\n",
      "->T(d) 237.8m/4.0h/0.17d, B: 0xf5.. $44.836675(0.5750499999999974) 0x447d08183e6dbe4719a1a1f53f91f3015fc332049bcc4c1eb82986f1551aaadf\n",
      "->T(d) 238.5m/4.0h/0.17d, B: 0x23.. $44.836675(0.5750499999999974) 0x955e5090f3503304fdd5a887804224c0d2bcbe1edcfa8b5308535e8ad1f578c4\n",
      "->T(d) 259.2m/4.3h/0.18d, B: 0xa3.. $44.836675(0.5750499999999974) 0xaff3901bd8ac3bc7fccaa40f981563249c7bbf77f97a24bec3fdb14329f7c9b0\n",
      "->T(d) 220.8m/3.7h/0.15d, B: 0xba.. $46.450525(2.1888999999999967) 0x257071a89c2f4a8be33747de4b6780fa18168611a41efca18d71aca78097b978\n",
      "->T(d) 234.4m/3.9h/0.16d, B: 0x00.. $46.450525(2.1888999999999967) 0xdbc99f09afa33dbfb79ba65996b5943c0e6084ab6befbd030ed49abb74bf6b91\n",
      "->T(d) 235.2m/3.9h/0.16d, B: 0x83.. $46.450525(2.1888999999999967) 0x96ff1b00dadff7e2029f355a9844c9e5d4f8f8e39a72886cad4d340b5420511b\n",
      "->T(d) 235.1m/3.9h/0.16d, B: 0x00.. $46.450525(2.1888999999999967) 0x88970fc79712bd23feb1449768e06cfc9b85dbf33163225d7060e0ff0c9386dd\n",
      "->T(d) 240.0m/4.0h/0.17d, B: 0xf5.. $46.450525(2.1888999999999967) 0x0d55429421d086c0b3378d3ed1167b9c6494181796469942bf2af94d2edef88e\n",
      "->T(d) 265.2m/4.4h/0.18d, B: 0x00.. $46.450525(2.1888999999999967) 0xad91c7618b07252e8b37850c0c36b37d19eb1c6050f3b73313035695a5a1d3a3\n",
      "->T(d) 210.4m/3.5h/0.15d, B: 0xf5.. $45.70985(1.4482250000000008) 0xdc9e85f885ffe961054eff7262ec35e88731f185159b59685c648375d5a19eec\n",
      "->T(d) 233.7m/3.9h/0.16d, B: 0x8a.. $45.70985(1.4482250000000008) 0x02fce692a6e9dc6419de8fd654817a4ae742a965e6866a53713d05418c19fe62\n",
      "->T(d) 241.3m/4.0h/0.17d, B: 0x17.. $45.70985(1.4482250000000008) 0x789f53247deb11163603318a31f9d5e223dc6dbc3483d9d680ce8f50b7e20541\n",
      "->T(d) 234.4m/3.9h/0.16d, B: 0xa3.. $45.70985(1.4482250000000008) 0x9dfd1dbdffed696df98e221519b4bc60df4752792860596c481599e0663d67f6\n",
      "->T(d) 239.3m/4.0h/0.17d, B: 0x1e.. $45.70985(1.4482250000000008) 0xab22762da1097a36e698e279162785197b3e792ee3daf52ec92ca838314d8b3f\n",
      "->T(d) 235.7m/3.9h/0.16d, B: 0xa3.. $45.70985(1.4482250000000008) 0x6cc2f6d488935c786a1c3815df6a130c2f6b3d8de0049ee0dd9de5bab10e5971\n",
      "->T(d) 474.9m/7.9h/0.33d, B: 0xa3.. $45.65685000000001(1.3952250000000106) 0x2746ea3f5dad6dde5f07885e339e102c3f3469f15e242c07c3c7d6851e0f195e\n",
      "->T(d) 239.9m/4.0h/0.17d, B: 0x73.. $45.65685000000001(1.3952250000000106) 0x0ecc003c7f276897133b3b897cb7ee9b632d45d763109cc2d809455cda6477c2\n",
      "->T(d) 235.1m/3.9h/0.16d, B: 0x46.. $45.65685000000001(1.3952250000000106) 0x1d50bc05df5ae768cb3307fb8f52bdca79294019775ce2a21fed8ce4a6f9e711\n",
      "->T(d) 240.0m/4.0h/0.17d, B: 0x73.. $45.65685000000001(1.3952250000000106) 0xd3f6c49a0917fca451e0fe1867dc2630b21ec3ad0eba7a489516722d4cb1cc53\n",
      "->T(d) 235.2m/3.9h/0.16d, B: 0x00.. $45.65685000000001(1.3952250000000106) 0xda801e3f02b381ee8f78488928e610f59c28230985a5e10e239d9efb8cb0ac40\n",
      "->T(d) 239.7m/4.0h/0.17d, B: 0xad.. $46.40282500000001(2.141200000000005) 0xa7371f41bf4370a8324bf07773ec9631d3ce9d8b2873c0c25751dd3621dc714b\n",
      "->T(d) 252.8m/4.2h/0.18d, B: 0x83.. $46.40282500000001(2.141200000000005) 0x5a860c0150da0ece402acfb7e2c325b8e7a741bc44f29984bbad5fb05a32c3bb\n",
      "->T(d) 222.8m/3.7h/0.15d, B: 0xad.. $46.40282500000001(2.141200000000005) 0xa4a9c0d873c4a271d634314f224b971dc696e1f07ffb40e21205087848ca1176\n",
      "->T(d) 711.6m/11.9h/0.49d, B: 0x1e.. $46.40282500000001(2.141200000000005) 0xc633359250ff7d03f8e0d6bbce21880b8b80f8521387c29504579e99377780b4\n",
      "->T(d) 237.9m/4.0h/0.17d, B: 0x83.. $51.663075(7.401449999999997) 0x47dee03510732314393f61b8f2a392a2b110bc821d8ba9acb90d501faca6a39f\n",
      "->T(d) 236.4m/3.9h/0.16d, B: 0xe7.. $51.663075(7.401449999999997) 0x093fdc4b18a63a7e17ad870bc5473e62bdf3cb3af7916e7d0baa2befaa7f2796\n",
      "->T(d) 241.4m/4.0h/0.17d, B: 0x68.. $51.663075(7.401449999999997) 0xabb1350787db3e2be40dcf4828871eb6fc5533eb04defd55bfca9da10aaefa3b\n",
      "->T(d) 231.7m/3.9h/0.16d, B: 0xba.. $51.663075(7.401449999999997) 0xe2571029096b3461840eb770dcd84db0d74cf75157b70289b0b80f6047eb54d7\n",
      "->T(d) 245.3m/4.1h/0.17d, B: 0x23.. $51.663075(7.401449999999997) 0x352ae3125efddf2b6689746affdae12530473e3606fe5a55b5a26b9d9910329a\n",
      "->T(d) 232.7m/3.9h/0.16d, B: 0x1e.. $51.663075(7.401449999999997) 0x1a85f6cf3dee85428b44698f322d0d2f96a51ef649eb35588014443bffaf6a19\n",
      "->T(d) 240.6m/4.0h/0.17d, B: 0x87.. $49.38805000000001(5.126425000000005) 0x3c952608327bd9be5ce5e19d8b7424c18369611034179fdd1c80c251ad5c8e95\n",
      "->T(d) 231.5m/3.9h/0.16d, B: 0xf5.. $49.38805000000001(5.126425000000005) 0x9287b51366c9f0d74e100e1a141b9038ef88548861c8593019f35a0e61648a24\n",
      "->T(d) 239.9m/4.0h/0.17d, B: 0xe7.. $49.38805000000001(5.126425000000005) 0xde8389296837716c63db743bcf0ec6490eb4c56e1e6539ca4cdb3c2331f2f45f\n",
      "->T(d) 235.1m/3.9h/0.16d, B: 0x23.. $49.38805000000001(5.126425000000005) 0xde58a7fc6ab42cd17f4bf43065a0bb1bcff84923b1b84166c01b6b64a0880c37\n",
      "->T(d) 246.2m/4.1h/0.17d, B: 0xad.. $49.38805000000001(5.126425000000005) 0x114fbafc2456193f2b82f3e0d281a1b27b3c4fad2c03cde6bae6afe31e735e5e\n",
      "->T(d) 231.4m/3.9h/0.16d, B: 0xa3.. $49.38805000000001(5.126425000000005) 0xfc02d32cac76eb8a842253363a3e7f809d61e804e9bc043428a9267b674797c1\n",
      "->T(d) 237.0m/4.0h/0.16d, B: 0x83.. $49.38805000000001(5.126425000000005) 0xc730440a047a1c7feee6d78fbc877baaae253611b0ff6c09343841b212c46ea1\n",
      "->T(d) 235.7m/3.9h/0.16d, B: 0x6a.. $53.671775(9.410149999999994) 0x885f7061a69d343e955780ea59a845bc3261f45daf17ed0c953abee09d77e677\n",
      "->T(d) 239.8m/4.0h/0.17d, B: 0x6e.. $53.671775(9.410149999999994) 0x40948a9a1f86db8bd485936a8d7192efcda55ce350b0effc95f09e238065de4f\n",
      "\n"
     ]
    }
   ],
   "source": [
    "import random\n",
    "\n",
    "fellow_traders\n",
    "print(len(fellow_traders))\n",
    "\n",
    "others_sibs = {}\n",
    "for sibling in fellow_traders:\n",
    "    others_sibs[sibling] = []\n",
    "    for trade in data:\n",
    "        if '_Rari' in trade['row'][0] or trade['row'][3] <= 2:\n",
    "            continue\n",
    "        if trade['row'][4]['buyer'] == sibling:\n",
    "            others_sibs[sibling].append(trade)\n",
    "    print(sibling)\n",
    "    rand = random.choice(range(0,len(others_sibs[sibling])))\n",
    "    pretty_cycle(others_sibs[sibling][rand]['row'][4]['cycle']['sales'])\n",
    "    print()"
   ]
  },
  {
   "cell_type": "markdown",
   "id": "c7671c90-f38d-403d-a0a5-389fbc3fc0e8",
   "metadata": {},
   "source": [
    "All of these traders also follow the same, or a similar pattern.\n",
    "\n",
    "Trading with each other, waiting ~4 hours before trading again. "
   ]
  }
 ],
 "metadata": {
  "kernelspec": {
   "display_name": "Python 3 (ipykernel)",
   "language": "python",
   "name": "python3"
  },
  "language_info": {
   "codemirror_mode": {
    "name": "ipython",
    "version": 3
   },
   "file_extension": ".py",
   "mimetype": "text/x-python",
   "name": "python",
   "nbconvert_exporter": "python",
   "pygments_lexer": "ipython3",
   "version": "3.9.13"
  },
  "vscode": {
   "interpreter": {
    "hash": "b0fa6594d8f4cbf19f97940f81e996739fb7646882a419484c72d19e05852a7e"
   }
  }
 },
 "nbformat": 4,
 "nbformat_minor": 5
}
