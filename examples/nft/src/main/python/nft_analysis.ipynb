{
 "cells": [
  {
   "cell_type": "markdown",
   "source": [
    "# Finding Cycles in NFT Transactions"
   ],
   "metadata": {
    "pycharm": {
     "name": "#%% md\n"
    },
    "tags": []
   }
  },
  {
   "cell_type": "markdown",
   "source": [
    "## Overview"
   ],
   "metadata": {
    "pycharm": {
     "name": "#%% md\n"
    }
   }
  },
  {
   "cell_type": "markdown",
   "source": [
    "A Non-fungible Token (NFT) is a digital asset which cannot be copied, substituted, or subdivided, meaning it is wholly unique.\n",
    "\n",
    "![title](http://web.archive.org/web/20220328080727im_/https://blog.portion.io/content/images/2021/07/Kevin-McCoy-Quantum.gif)\n",
    "\n",
    "NFT’s are stored on blockchain systems, notably Ethereum, with the owner of an NFT being whomever has access to the wallet it is stored within.\n",
    "\n",
    "Since the first NFT, Quantum (shown above), many new NFT artworks have arisen including Cryptokitties and Cryptopunks. This culminated in a boom in 2021 which included the arrival of the Bored Ape Yacht Club, with NFTS reaching a global market valued of $15.7 Billion.\n",
    "\n",
    "In this example we will analyse an NFT dataset in order to find suspicious trading cycles.\n",
    "\n",
    "1. Using Raphtory to load the NFT data as a graph\n",
    "2. Execute a cycle detection algorithm\n",
    "3. Analyse the results to find suspicious cycles of NFTs\n",
    "\n",
    "The data we used is a cleaned and trimmed version from [1]\n",
    "\n",
    "\n",
    "[1] Nadini, M., Alessandretti, L., Di Giacinto, F. et al. Mapping the NFT revolution: market trends, trade networks, and visual features. Sci Rep 11, 20902 (2021). https://doi.org/10.1038/s41598-021-00053-8"
   ],
   "metadata": {
    "pycharm": {
     "name": "#%% md\n"
    }
   }
  },
  {
   "cell_type": "markdown",
   "source": [
    "## Loading data with Raphtory"
   ],
   "metadata": {
    "pycharm": {
     "name": "#%% md\n"
    }
   }
  },
  {
   "cell_type": "markdown",
   "source": [
    "First we install some extra packages"
   ],
   "metadata": {
    "pycharm": {
     "name": "#%% md\n"
    }
   }
  },
  {
   "cell_type": "code",
   "execution_count": 1,
   "source": [
    "pip install scipy seaborn"
   ],
   "outputs": [
    {
     "output_type": "stream",
     "name": "stdout",
     "text": [
      "Requirement already satisfied: scipy in /Users/bensteer/miniconda3/envs/pyraph39/lib/python3.9/site-packages (1.9.3)\n",
      "Requirement already satisfied: seaborn in /Users/bensteer/miniconda3/envs/pyraph39/lib/python3.9/site-packages (0.12.1)\n",
      "Requirement already satisfied: numpy<1.26.0,>=1.18.5 in /Users/bensteer/miniconda3/envs/pyraph39/lib/python3.9/site-packages (from scipy) (1.21.4)\n",
      "Requirement already satisfied: matplotlib!=3.6.1,>=3.1 in /Users/bensteer/miniconda3/envs/pyraph39/lib/python3.9/site-packages (from seaborn) (3.6.2)\n",
      "Requirement already satisfied: pandas>=0.25 in /Users/bensteer/miniconda3/envs/pyraph39/lib/python3.9/site-packages (from seaborn) (1.5.2)\n",
      "Requirement already satisfied: fonttools>=4.22.0 in /Users/bensteer/miniconda3/envs/pyraph39/lib/python3.9/site-packages (from matplotlib!=3.6.1,>=3.1->seaborn) (4.38.0)\n",
      "Requirement already satisfied: pyparsing>=2.2.1 in /Users/bensteer/miniconda3/envs/pyraph39/lib/python3.9/site-packages (from matplotlib!=3.6.1,>=3.1->seaborn) (3.0.9)\n",
      "Requirement already satisfied: contourpy>=1.0.1 in /Users/bensteer/miniconda3/envs/pyraph39/lib/python3.9/site-packages (from matplotlib!=3.6.1,>=3.1->seaborn) (1.0.6)\n",
      "Requirement already satisfied: kiwisolver>=1.0.1 in /Users/bensteer/miniconda3/envs/pyraph39/lib/python3.9/site-packages (from matplotlib!=3.6.1,>=3.1->seaborn) (1.4.4)\n",
      "Requirement already satisfied: packaging>=20.0 in /Users/bensteer/miniconda3/envs/pyraph39/lib/python3.9/site-packages (from matplotlib!=3.6.1,>=3.1->seaborn) (21.3)\n",
      "Requirement already satisfied: pillow>=6.2.0 in /Users/bensteer/miniconda3/envs/pyraph39/lib/python3.9/site-packages (from matplotlib!=3.6.1,>=3.1->seaborn) (9.3.0)\n",
      "Requirement already satisfied: python-dateutil>=2.7 in /Users/bensteer/miniconda3/envs/pyraph39/lib/python3.9/site-packages (from matplotlib!=3.6.1,>=3.1->seaborn) (2.8.2)\n",
      "Requirement already satisfied: cycler>=0.10 in /Users/bensteer/miniconda3/envs/pyraph39/lib/python3.9/site-packages (from matplotlib!=3.6.1,>=3.1->seaborn) (0.11.0)\n",
      "Requirement already satisfied: pytz>=2020.1 in /Users/bensteer/miniconda3/envs/pyraph39/lib/python3.9/site-packages (from pandas>=0.25->seaborn) (2022.6)\n",
      "Requirement already satisfied: six>=1.5 in /Users/bensteer/miniconda3/envs/pyraph39/lib/python3.9/site-packages (from python-dateutil>=2.7->matplotlib!=3.6.1,>=3.1->seaborn) (1.16.0)\n",
      "Note: you may need to restart the kernel to use updated packages.\n"
     ]
    }
   ],
   "metadata": {
    "collapsed": false,
    "jupyter": {
     "outputs_hidden": false
    },
    "pycharm": {
     "name": "#%%\n"
    }
   }
  },
  {
   "cell_type": "markdown",
   "source": [
    "Now we import the following so we can use Raphtory"
   ],
   "metadata": {
    "pycharm": {
     "name": "#%% md\n"
    }
   }
  },
  {
   "cell_type": "code",
   "execution_count": 2,
   "source": [
    "import time\n",
    "from calendar import timegm\n",
    "from pyraphtory.context import PyRaphtory\n",
    "from pyraphtory.input import *\n",
    "from pyraphtory.spouts import FileSpout\n",
    "from pyraphtory.sinks import *\n",
    "from pyraphtory.sources import *\n",
    "from pyraphtory.formats import JsonFormat\n",
    "import csv\n",
    "from nft_helper import *\n",
    "!curl -o ETH-USD.csv https://osf.io/download/mw3vh/ -L"
   ],
   "outputs": [
    {
     "output_type": "stream",
     "name": "stdout",
     "text": [
      "  % Total    % Received % Xferd  Average Speed   Time    Time     Time  Current\n",
      "                                 Dload  Upload   Total   Spent    Left  Speed\n",
      "100   387  100   387    0     0   1032      0 --:--:-- --:--:-- --:--:--  1029\n",
      "  0     0    0     0    0     0      0      0 --:--:--  0:00:01 --:--:--     0\n",
      "100  130k  100  130k    0     0  87380      0  0:00:01  0:00:01 --:--:-- 87380\n"
     ]
    }
   ],
   "metadata": {
    "collapsed": false,
    "jupyter": {
     "outputs_hidden": false
    },
    "pycharm": {
     "name": "#%%\n"
    }
   }
  },
  {
   "cell_type": "markdown",
   "source": [
    "Below are our data sources\n",
    "- `date_price` a dictionary containing the daily ETH-USD price, we we need to convert as some prices are missing\n",
    "- `filename` - this is the cleaned transaction data, which represents NFTs being bought by wallets \n",
    "- `at_time` - is the time we want to run our analysis, this is the last time in the dataset "
   ],
   "metadata": {
    "pycharm": {
     "name": "#%% md\n"
    }
   }
  },
  {
   "cell_type": "code",
   "execution_count": 3,
   "source": [
    "!curl -o ETH-USD.csv https://osf.io/download/mw3vh/ -L"
   ],
   "outputs": [
    {
     "output_type": "stream",
     "name": "stdout",
     "text": [
      "  % Total    % Received % Xferd  Average Speed   Time    Time     Time  Current\n",
      "                                 Dload  Upload   Total   Spent    Left  Speed\n",
      "100   387  100   387    0     0   1066      0 --:--:-- --:--:-- --:--:--  1063\n",
      "  0     0    0     0    0     0      0      0 --:--:--  0:00:02 --:--:--     0\n",
      "100  130k  100  130k    0     0  62572      0  0:00:02  0:00:02 --:--:-- 62572\n"
     ]
    }
   ],
   "metadata": {
    "collapsed": false,
    "pycharm": {
     "name": "#%%\n"
    }
   }
  },
  {
   "cell_type": "markdown",
   "source": [
    "#### Run this below if you want the full data, turn this into a code block\n",
    "\n",
    "!curl -o Data_API_reduced.csv https://osf.io/download/kaumt/ -L"
   ],
   "metadata": {
    "pycharm": {
     "name": "#%% md\n"
    }
   }
  },
  {
   "cell_type": "markdown",
   "source": [
    "#### Run this below if you want the full data, turn this into a code block\n",
    "\n",
    "!curl -o Data_API_reduced.csv https://osf.io/download/kaumt/ -L"
   ],
   "metadata": {
    "pycharm": {
     "name": "#%% md\n"
    }
   }
  },
  {
   "cell_type": "code",
   "execution_count": 4,
   "source": [
    "eth_price_csv = 'ETH-USD.csv'\n",
    "filename = \"Data_API_reduced.csv\"\n",
    "at_time = 1561661534\n",
    "\n",
    "date_price = setup_date_prices(eth_price_csv)"
   ],
   "outputs": [],
   "metadata": {
    "collapsed": false,
    "jupyter": {
     "outputs_hidden": false
    },
    "pycharm": {
     "name": "#%%\n"
    }
   }
  },
  {
   "cell_type": "markdown",
   "source": [
    "For this example, we are going to create a bipartite graph. \n",
    "\n",
    "In our graph, we have wallets on the left, and NFTs on the right. \n",
    "\n",
    "Each edge represents that an NFT was purchased by a wallet. \n",
    "\n",
    "The `parse_graph` function will take each line, from the spout, and turn these into graph updates. \n",
    "\n",
    "\n",
    "![title](https://www.raphtory.com/images/nfts/buy_nft.png)\n"
   ],
   "metadata": {
    "pycharm": {
     "name": "#%% md\n"
    }
   }
  },
  {
   "cell_type": "code",
   "execution_count": 5,
   "source": [
    "def parse_graph(graph, line):\n",
    "    file_line = line.split(',')\n",
    "    if file_line[0] == \"Smart_contract\":\n",
    "        return\n",
    "    # Seller details\n",
    "    seller_address = file_line[3]\n",
    "    seller_address_hash = graph.assign_id(seller_address)\n",
    "    # Buyer details\n",
    "    buyer_address = file_line[5]\n",
    "    buyer_address_hash = graph.assign_id(buyer_address)\n",
    "    # Transaction details\n",
    "    datetime_str = file_line[13]\n",
    "    timestamp_utc = time.strptime(datetime_str, \"%Y-%m-%d %H:%M:%S\")\n",
    "    timestamp = timegm(timestamp_utc)\n",
    "    tx_hash = file_line[2]\n",
    "    token_id_str = file_line[1]\n",
    "    token_id_hash = graph.assign_id(token_id_str)\n",
    "\n",
    "    crypto = file_line[8]\n",
    "    if crypto != 'ETH':\n",
    "        return\n",
    "\n",
    "    if file_line[9] == \"\":\n",
    "        price_usd = date_price[datetime_str[0:10]]\n",
    "    else:\n",
    "        price_usd = float(file_line[9])\n",
    "\n",
    "    # NFT Details\n",
    "    collection_cleaned = file_line[14]\n",
    "    market = file_line[11]\n",
    "    category = file_line[15]\n",
    "\n",
    "    #  add buyer node\n",
    "    graph.add_vertex(\n",
    "        timestamp,\n",
    "        buyer_address_hash,\n",
    "        properties=[ImmutableString(\"address\", buyer_address)],\n",
    "        type=\"Wallet\"\n",
    "    )\n",
    "\n",
    "    # Add node for NFT\n",
    "    graph.add_vertex(\n",
    "        timestamp,\n",
    "        token_id_hash,\n",
    "        properties=[\n",
    "            ImmutableString(\"id\", token_id_str),\n",
    "            ImmutableString(\"collection\", collection_cleaned),\n",
    "            ImmutableString(\"category\", category)\n",
    "        ],\n",
    "        type=\"NFT\"\n",
    "    )\n",
    "\n",
    "    # Creating a bipartite graph,\n",
    "    # add edge between buyer and nft\n",
    "    graph.add_edge(\n",
    "        timestamp,\n",
    "        buyer_address_hash,\n",
    "        token_id_hash,\n",
    "        properties=[\n",
    "            MutableString(\"transaction_hash\", tx_hash),\n",
    "            MutableString(\"crypto\", crypto),\n",
    "            MutableString(\"price_usd\", str(price_usd)),\n",
    "            MutableString(\"market\", market),\n",
    "            MutableString(\"token_id\", token_id_str),\n",
    "            MutableString(\"buyer_address\", buyer_address)\n",
    "        ],\n",
    "        type=\"Purchase\"\n",
    "    )"
   ],
   "outputs": [],
   "metadata": {
    "collapsed": false,
    "jupyter": {
     "outputs_hidden": false
    },
    "pycharm": {
     "name": "#%%\n"
    }
   }
  },
  {
   "cell_type": "markdown",
   "source": [
    "Now we will start a raphtory instance and load our data"
   ],
   "metadata": {
    "pycharm": {
     "name": "#%% md\n"
    }
   }
  },
  {
   "cell_type": "code",
   "execution_count": 6,
   "source": [
    "graph = PyRaphtory.local().new_graph()\n",
    "\n",
    "graph.load(Source(FileSpout(filename), GraphBuilder(parse_graph)))"
   ],
   "outputs": [
    {
     "output_type": "execute_result",
     "data": {
      "text/plain": [
       "com.raphtory.api.analysis.graphview.PyDeployedTemporalGraph@2f15a964"
      ]
     },
     "metadata": {},
     "execution_count": 6
    }
   ],
   "metadata": {
    "collapsed": false,
    "jupyter": {
     "outputs_hidden": false
    },
    "pycharm": {
     "name": "#%%\n"
    }
   }
  },
  {
   "cell_type": "markdown",
   "source": [
    "## Executing a Cycle detection algorithm"
   ],
   "metadata": {
    "pycharm": {
     "name": "#%% md\n"
    }
   }
  },
  {
   "cell_type": "markdown",
   "source": [
    "Below is a visual representation of the cycle detection. \n",
    "\n",
    "This is when a NFT has been sold by a wallet, but eventually ends up being owned by it again. This can involve a chain of any number of other wallets, take any amount of time, and increase or decrease the price by any amount.\n",
    "\n",
    "Below we can see an example of such a cycle where Wallet A sold an NFT to Wallet B for $50$ on Monday, but its back in their position by Thursday, costing them $750$. They either have serious sellers remorse or, more likely, the same person owns all these wallets and is trying to pump up the price of the given NFT.\n",
    "\n",
    "Our algorithm:\n",
    "- Gets each NFT\n",
    "- For each time it was purchased, checks the list of purchases to see if a user re-bought the NFT at a later date, at a higher price\n",
    "\n",
    "This all happens within the `step` function. A `step` is executed once on each node.  \n",
    "\n",
    "The code has been optimised to O(n) complexity. "
   ],
   "metadata": {
    "pycharm": {
     "name": "#%% md\n"
    }
   }
  },
  {
   "cell_type": "markdown",
   "source": [
    "![title](https://www.raphtory.com/images/nfts/NFT_Cycle.png)"
   ],
   "metadata": {
    "pycharm": {
     "name": "#%% md\n"
    }
   }
  },
  {
   "cell_type": "code",
   "execution_count": 7,
   "source": [
    "from pyraphtory.algorithm import PyAlgorithm\n",
    "from pyraphtory.graph import TemporalGraph, Row, Table\n",
    "from pyraphtory.vertex import Vertex\n",
    "import pyraphtory.scala.collection\n",
    "\n",
    "CYCLES_FOUND: str = \"CYCLES_FOUND\"\n",
    "\n",
    "\n",
    "class CycleMania(PyAlgorithm):\n",
    "    def __call__(self, graph: TemporalGraph) -> TemporalGraph:\n",
    "        def step(v: Vertex):\n",
    "            if v.type() != \"NFT\":\n",
    "                v[CYCLES_FOUND] = []\n",
    "                return\n",
    "            all_cycles = []\n",
    "            all_purchases = sorted(v.explode_in_edges(), key=lambda e: e.timestamp())\n",
    "            purchasers = list(map(lambda e:\n",
    "                                  dict(price_usd=float(e.get_property_or_else(\"price_usd\", 0.0)),\n",
    "                                       nft_id=e.get_property_or_else(\"token_id\", \"_UNKNOWN_\"),\n",
    "                                       tx_hash=e.get_property_or_else(\"transaction_hash\", \"\"),\n",
    "                                       time=e.timestamp(),\n",
    "                                       buyer=e.get_property_or_else(\"buyer_address\", \"_UNKNOWN_\")),\n",
    "                                  all_purchases))\n",
    "            if len(purchasers) > 2:\n",
    "                buyers_seen = {}\n",
    "                for pos, item_sale in enumerate(purchasers):\n",
    "                    buyer_id = item_sale['buyer']\n",
    "                    if buyer_id not in buyers_seen:\n",
    "                        buyers_seen[buyer_id] = pos\n",
    "                    else:\n",
    "                        prev_pos = buyers_seen[buyer_id]\n",
    "                        prev_price = purchasers[prev_pos]['price_usd']\n",
    "                        current_price = item_sale['price_usd']\n",
    "                        buyers_seen[buyer_id] = pos\n",
    "                        if prev_price < current_price:\n",
    "                            all_cycles.append(purchasers[prev_pos:pos + 1])\n",
    "            if len(all_cycles):\n",
    "                v[CYCLES_FOUND] = all_cycles\n",
    "            else:\n",
    "                v[CYCLES_FOUND] = []\n",
    "\n",
    "        return graph.reduced_view().step(step)\n",
    "\n",
    "    def tabularise(self, graph: TemporalGraph):\n",
    "        def get_cycles(v: Vertex):\n",
    "            vertex_type = v.type()\n",
    "            rows_found = [Row()]\n",
    "            if vertex_type == \"NFT\" and len(v[CYCLES_FOUND]):\n",
    "                nft_id = v.get_property_or_else('id', '_UNKNOWN_')\n",
    "                cycles_found = v[CYCLES_FOUND]\n",
    "                nft_collection = v.get_property_or_else('collection', '_UNKNOWN_')\n",
    "                nft_category = v.get_property_or_else('category', '_UNKNOWN_')\n",
    "                rows_found = list(map(lambda single_cycle:\n",
    "                                      Row(\n",
    "                                          nft_id,\n",
    "                                          nft_collection,\n",
    "                                          nft_category,\n",
    "                                          len(single_cycle),\n",
    "                                          dict(cycle={'sales': single_cycle},\n",
    "                                               profit_usd=float(single_cycle[len(single_cycle) - 1]['price_usd']) -\n",
    "                                                          float(single_cycle[0]['price_usd']),\n",
    "                                               buyer=str(single_cycle[0]['buyer']))\n",
    "                                      ), cycles_found))\n",
    "            return rows_found\n",
    "\n",
    "        return graph.explode_select(lambda v: get_cycles(v)).filter(lambda row: len(row.get_values()) > 0)\n"
   ],
   "outputs": [],
   "metadata": {
    "collapsed": false,
    "jupyter": {
     "outputs_hidden": false
    },
    "pycharm": {
     "name": "#%%\n"
    }
   }
  },
  {
   "cell_type": "markdown",
   "source": [
    "We run the algorithm as follows "
   ],
   "metadata": {
    "pycharm": {
     "name": "#%% md\n"
    }
   }
  },
  {
   "cell_type": "code",
   "execution_count": 8,
   "source": [
    "# graph \\\n",
    "#     .at(at_time) \\\n",
    "#     .past() \\\n",
    "#     .execute(CycleMania()) \\\n",
    "#     .write_to(FileSink('/tmp/raphtory_nft_python', format=JsonFormat())) \\\n",
    "#     .wait_for_job()"
   ],
   "outputs": [],
   "metadata": {
    "collapsed": false,
    "jupyter": {
     "outputs_hidden": false
    },
    "pycharm": {
     "name": "#%%\n"
    }
   }
  },
  {
   "cell_type": "markdown",
   "source": [
    "## Analysing the results\n",
    "\n",
    "First we import the tools we are using for analysis"
   ],
   "metadata": {
    "pycharm": {
     "name": "#%% md\n"
    }
   }
  },
  {
   "cell_type": "code",
   "execution_count": 9,
   "source": [
    "import pandas as pd\n",
    "import json\n",
    "import seaborn as sns\n",
    "from scipy import stats\n",
    "import numpy as np\n",
    "import time\n",
    "import matplotlib.pyplot as plt\n",
    "plt.rcParams['font.size'] = '16'\n",
    "from nft_helper import *\n",
    "from collections import Counter"
   ],
   "outputs": [
    {
     "output_type": "stream",
     "name": "stdout",
     "text": [
      "add_vertex0() got an unexpected keyword argument 'properties'\n",
      "add_vertex1() got an unexpected keyword argument 'type'\n",
      "14:02:41.618 [io-compute-5] ERROR s.c.c.c.c.IngestionServiceImpl - Exception while executing source: {}\n",
      "org.jpype.PyExceptionProxy: null\n",
      "\tat org.jpype.JPypeContext.createException(Unknown Source) ~[?:?]\n",
      "\tat org.jpype.proxy.JPypeProxy.hostInvoke(Native Method) ~[?:?]\n",
      "\tat org.jpype.proxy.JPypeProxy.invoke(Unknown Source) ~[?:?]\n",
      "\tat com.sun.proxy.$Proxy10.invokeMethod(Unknown Source) ~[?:?]\n",
      "\tat com.raphtory.internals.management.python.JPypeEmbeddedPython.invoke(JPypeEmbeddedPython.scala:9) ~[core_2.13.jar:0.2.0a7]\n",
      "\tat com.raphtory.internals.management.PythonFunction.invoke(PythonInterop.scala:302) ~[core_2.13.jar:0.2.0a7]\n",
      "\tat com.raphtory.internals.management.PythonFunction.invoke$(PythonInterop.scala:300) ~[core_2.13.jar:0.2.0a7]\n",
      "\tat com.raphtory.internals.management.PythonFunction2.invoke(PythonInterop.scala:314) ~[core_2.13.jar:0.2.0a7]\n",
      "\tat com.raphtory.internals.management.PythonFunction2.apply(PythonInterop.scala:321) ~[core_2.13.jar:0.2.0a7]\n",
      "\tat com.raphtory.api.input.GraphBuilder$$anon$1.apply(GraphBuilder.scala:27) ~[core_2.13.jar:0.2.0a7]\n",
      "\tat com.raphtory.api.input.GraphBuilder$$anon$1.apply(GraphBuilder.scala:27) ~[core_2.13.jar:0.2.0a7]\n",
      "\tat com.raphtory.internals.graph.GraphBuilderF.$anonfun$buildGraphFromT$6(GraphBuilder.scala:35) ~[core_2.13.jar:0.2.0a7]\n",
      "\tat com.raphtory.internals.graph.GraphBuilderF.$anonfun$buildGraphFromT$6$adapted(GraphBuilder.scala:34) ~[core_2.13.jar:0.2.0a7]\n",
      "\tat fs2.Chunk.$anonfun$foldLeft$1(Chunk.scala:139) ~[fs2-core_2.13.jar:3.2.12]\n",
      "\tat fs2.Chunk.$anonfun$foldLeft$1$adapted(Chunk.scala:139) ~[fs2-core_2.13.jar:3.2.12]\n",
      "\tat fs2.Chunk.foreach(Chunk.scala:151) ~[fs2-core_2.13.jar:3.2.12]\n",
      "\tat fs2.Chunk.foldLeft(Chunk.scala:139) ~[fs2-core_2.13.jar:3.2.12]\n",
      "\tat com.raphtory.internals.graph.GraphBuilderF.$anonfun$buildGraphFromT$5(GraphBuilder.scala:34) ~[core_2.13.jar:0.2.0a7]\n",
      "\tat getAndUpdate @ com.raphtory.internals.graph.GraphBuilderF.$anonfun$buildGraphFromT$3(GraphBuilder.scala:33) ~[?:?]\n",
      "\tat map @ com.raphtory.internals.graph.GraphBuilderF.$anonfun$buildGraphFromT$3(GraphBuilder.scala:33) ~[?:?]\n",
      "\tat flatMap @ com.raphtory.internals.graph.GraphBuilderF.$anonfun$buildGraphFromT$3(GraphBuilder.scala:33) ~[?:?]\n",
      "\tat delay @ com.raphtory.internals.graph.GraphBuilderF.buildGraphFromT(GraphBuilder.scala:31) ~[?:?]\n",
      "\tat map @ com.raphtory.internals.graph.GraphBuilderF.buildGraphFromT(GraphBuilder.scala:31) ~[?:?]\n",
      "\tat flatMap @ com.raphtory.internals.graph.GraphBuilderF.buildGraphFromT(GraphBuilder.scala:31) ~[?:?]\n",
      "\tat *> @ com.raphtory.internals.management.Prometheus$.$anonfun$startHttpServer$4(Prometheus.scala:45) ~[?:?]\n",
      "\tat flatMap @ fs2.Stream.$anonfun$parEvalMapAction$6(Stream.scala:2133) ~[?:?]\n",
      "\tat *> @ com.raphtory.internals.management.Prometheus$.$anonfun$startHttpServer$4(Prometheus.scala:45) ~[?:?]\n"
     ]
    },
    {
     "output_type": "stream",
     "name": "stderr",
     "text": [
      "Traceback (most recent call last):\n",
      "  File \"/Users/bensteer/miniconda3/envs/pyraph39/lib/python3.9/site-packages/pyraphtory/_jpypeinterpreter.py\", line 58, in invokeMethod\n",
      "    result = method(*args)\n",
      "  File \"/Users/bensteer/miniconda3/envs/pyraph39/lib/python3.9/site-packages/pyraphtory/interop.py\", line 299, in eval_from_jvm\n",
      "    return to_jvm(self(*(to_python(v) for v in args)))\n",
      "  File \"/Users/bensteer/miniconda3/envs/pyraph39/lib/python3.9/site-packages/pyraphtory/interop.py\", line 302, in __call__\n",
      "    return self._fun(*args, **kwargs)\n",
      "  File \"/var/folders/g0/9w1p6w5120556qmxhks7lc8c0000gn/T/ipykernel_18677/3982627305.py\", line 34, in parse_graph\n",
      "    graph.add_vertex(\n",
      "  File \"/Users/bensteer/miniconda3/envs/pyraph39/lib/python3.9/site-packages/pyraphtory/interop.py\", line 497, in __call__\n",
      "    raise RuntimeError(f\"No overloaded implementations matched for {self.__name__} with {args=} and {kwargs=}\")\n",
      "RuntimeError: No overloaded implementations matched for add_vertex with args=(1541029113, -2534416188024403351) and kwargs={'properties': [ImmutableString(key=address, value=0x6353cc3c3898bab604bba392c77a66ebe0e92fa5)], 'type': 'Wallet'}\n"
     ]
    }
   ],
   "metadata": {
    "collapsed": false,
    "jupyter": {
     "outputs_hidden": false
    },
    "pycharm": {
     "name": "#%%\n"
    }
   }
  },
  {
   "cell_type": "markdown",
   "source": [
    "### Read data\n",
    "\n",
    "We will now read the data that Raphtory produced. \n",
    "\n",
    "Please check which path the data was saved too, and adjust the line below. "
   ],
   "metadata": {
    "pycharm": {
     "name": "#%% md\n"
    }
   }
  },
  {
   "cell_type": "code",
   "execution_count": 10,
   "source": [
    "!curl -o results.json https://osf.io/download/p3u64 -L"
   ],
   "outputs": [
    {
     "output_type": "stream",
     "name": "stdout",
     "text": [
      "  % Total    % Received % Xferd  Average Speed   Time    Time     Time  Current\n",
      "                                 Dload  Upload   Total   Spent    Left  Speed\n",
      "100   267  100   267    0     0    797      0 --:--:-- --:--:-- --:--:--   797\n",
      "100   387  100   387    0     0    793      0 --:--:-- --:--:-- --:--:--   793\n",
      "  0     0    0     0    0     0      0      0 --:--:--  0:00:01 --:--:--     0\n",
      "100 54.1M  100 54.1M    0     0  16.5M      0  0:00:03  0:00:03 --:--:-- 31.7M\n"
     ]
    }
   ],
   "metadata": {
    "pycharm": {
     "name": "#%%\n"
    }
   }
  },
  {
   "cell_type": "markdown",
   "source": [
    "#### If you ran with the full data you can uncomment the code block below"
   ],
   "metadata": {
    "pycharm": {
     "name": "#%% md\n"
    }
   }
  },
  {
   "cell_type": "code",
   "execution_count": 11,
   "source": [
    "# import glob\n",
    "# for filename in glob.glob('/tmp/raphtory_nft_python/*/partition-0.json'):\n",
    "#     with open(filename,'r') as f:\n",
    "#         data = load_json(filename)"
   ],
   "outputs": [],
   "metadata": {
    "pycharm": {
     "name": "#%%\n"
    }
   }
  },
  {
   "cell_type": "code",
   "execution_count": 12,
   "source": [
    "data = load_json(\"results.json\")\n",
    "\n",
    "new_data = []\n",
    "# filter any cycles that are less than 2 hops\n",
    "for d in data:\n",
    "    if d['row'][3] > 2:\n",
    "        new_data.append(d)\n",
    "data = new_data\n",
    "data_df = pd.DataFrame(data)"
   ],
   "outputs": [
    {
     "output_type": "stream",
     "name": "stdout",
     "text": [
      "amount of data 11848\n"
     ]
    }
   ],
   "metadata": {
    "collapsed": false,
    "pycharm": {
     "name": "#%%\n"
    }
   }
  },
  {
   "cell_type": "code",
   "execution_count": 13,
   "source": [
    "data_df[\"profit\"]=data_df[\"row\"].apply(lambda x: x[4]['profit_usd'])\n",
    "data_df[\"min_ts\"] = data_df[\"row\"].apply(lambda x: min(map(lambda y: y[\"time\"],x[4]['cycle']['sales'])))\n",
    "data_df[\"max_ts\"] = data_df[\"row\"].apply(lambda x: max(map(lambda y: y[\"time\"],x[4]['cycle']['sales'])))\n",
    "data_df[\"length\"] = data_df[\"row\"].apply(lambda x: len(x[4]['cycle']['sales']))\n",
    "data_df[\"duration_days\"] = (data_df[\"max_ts\"] - data_df[\"min_ts\"])/86400\n",
    "display(data_df)"
   ],
   "outputs": [
    {
     "output_type": "display_data",
     "data": {
      "text/html": [
       "<div>\n",
       "<style scoped>\n",
       "    .dataframe tbody tr th:only-of-type {\n",
       "        vertical-align: middle;\n",
       "    }\n",
       "\n",
       "    .dataframe tbody tr th {\n",
       "        vertical-align: top;\n",
       "    }\n",
       "\n",
       "    .dataframe thead th {\n",
       "        text-align: right;\n",
       "    }\n",
       "</style>\n",
       "<table border=\"1\" class=\"dataframe\">\n",
       "  <thead>\n",
       "    <tr style=\"text-align: right;\">\n",
       "      <th></th>\n",
       "      <th>timestamp</th>\n",
       "      <th>window</th>\n",
       "      <th>row</th>\n",
       "      <th>profit</th>\n",
       "      <th>min_ts</th>\n",
       "      <th>max_ts</th>\n",
       "      <th>length</th>\n",
       "      <th>duration_days</th>\n",
       "    </tr>\n",
       "  </thead>\n",
       "  <tbody>\n",
       "    <tr>\n",
       "      <th>0</th>\n",
       "      <td>1561661534</td>\n",
       "      <td>None</td>\n",
       "      <td>[1009482_Cryptokittie, Cryptokittie, Art, 10, ...</td>\n",
       "      <td>0.007950</td>\n",
       "      <td>1553287096</td>\n",
       "      <td>1553415176</td>\n",
       "      <td>10</td>\n",
       "      <td>1.482407</td>\n",
       "    </tr>\n",
       "    <tr>\n",
       "      <th>1</th>\n",
       "      <td>1561661534</td>\n",
       "      <td>None</td>\n",
       "      <td>[1009482_Cryptokittie, Cryptokittie, Art, 10, ...</td>\n",
       "      <td>1.327650</td>\n",
       "      <td>1553814093</td>\n",
       "      <td>1553942495</td>\n",
       "      <td>10</td>\n",
       "      <td>1.486134</td>\n",
       "    </tr>\n",
       "    <tr>\n",
       "      <th>2</th>\n",
       "      <td>1561661534</td>\n",
       "      <td>None</td>\n",
       "      <td>[1009482_Cryptokittie, Cryptokittie, Art, 10, ...</td>\n",
       "      <td>0.427975</td>\n",
       "      <td>1553842682</td>\n",
       "      <td>1553971022</td>\n",
       "      <td>10</td>\n",
       "      <td>1.485417</td>\n",
       "    </tr>\n",
       "    <tr>\n",
       "      <th>3</th>\n",
       "      <td>1561661534</td>\n",
       "      <td>None</td>\n",
       "      <td>[1009482_Cryptokittie, Cryptokittie, Art, 10, ...</td>\n",
       "      <td>5.180750</td>\n",
       "      <td>1554084999</td>\n",
       "      <td>1554213172</td>\n",
       "      <td>10</td>\n",
       "      <td>1.483484</td>\n",
       "    </tr>\n",
       "    <tr>\n",
       "      <th>4</th>\n",
       "      <td>1561661534</td>\n",
       "      <td>None</td>\n",
       "      <td>[1009482_Cryptokittie, Cryptokittie, Art, 10, ...</td>\n",
       "      <td>0.983150</td>\n",
       "      <td>1554184608</td>\n",
       "      <td>1554313113</td>\n",
       "      <td>10</td>\n",
       "      <td>1.487326</td>\n",
       "    </tr>\n",
       "    <tr>\n",
       "      <th>...</th>\n",
       "      <td>...</td>\n",
       "      <td>...</td>\n",
       "      <td>...</td>\n",
       "      <td>...</td>\n",
       "      <td>...</td>\n",
       "      <td>...</td>\n",
       "      <td>...</td>\n",
       "      <td>...</td>\n",
       "    </tr>\n",
       "    <tr>\n",
       "      <th>11698</th>\n",
       "      <td>1561661534</td>\n",
       "      <td>None</td>\n",
       "      <td>[995907_Cryptokittie, Cryptokittie, Art, 9, {'...</td>\n",
       "      <td>0.222900</td>\n",
       "      <td>1551804104</td>\n",
       "      <td>1551975130</td>\n",
       "      <td>9</td>\n",
       "      <td>1.979468</td>\n",
       "    </tr>\n",
       "    <tr>\n",
       "      <th>11699</th>\n",
       "      <td>1561661534</td>\n",
       "      <td>None</td>\n",
       "      <td>[995907_Cryptokittie, Cryptokittie, Art, 9, {'...</td>\n",
       "      <td>0.102000</td>\n",
       "      <td>1550764115</td>\n",
       "      <td>1550878121</td>\n",
       "      <td>9</td>\n",
       "      <td>1.319514</td>\n",
       "    </tr>\n",
       "    <tr>\n",
       "      <th>11700</th>\n",
       "      <td>1561661534</td>\n",
       "      <td>None</td>\n",
       "      <td>[995907_Cryptokittie, Cryptokittie, Art, 9, {'...</td>\n",
       "      <td>0.222600</td>\n",
       "      <td>1554169611</td>\n",
       "      <td>1554283687</td>\n",
       "      <td>9</td>\n",
       "      <td>1.320324</td>\n",
       "    </tr>\n",
       "    <tr>\n",
       "      <th>11701</th>\n",
       "      <td>1561661534</td>\n",
       "      <td>None</td>\n",
       "      <td>[995907_Cryptokittie, Cryptokittie, Art, 9, {'...</td>\n",
       "      <td>0.072900</td>\n",
       "      <td>1554440815</td>\n",
       "      <td>1554568600</td>\n",
       "      <td>9</td>\n",
       "      <td>1.478993</td>\n",
       "    </tr>\n",
       "    <tr>\n",
       "      <th>11702</th>\n",
       "      <td>1561661534</td>\n",
       "      <td>None</td>\n",
       "      <td>[995907_Cryptokittie, Cryptokittie, Art, 97, {...</td>\n",
       "      <td>5.740200</td>\n",
       "      <td>1556506610</td>\n",
       "      <td>1558658558</td>\n",
       "      <td>97</td>\n",
       "      <td>24.906806</td>\n",
       "    </tr>\n",
       "  </tbody>\n",
       "</table>\n",
       "<p>11703 rows × 8 columns</p>\n",
       "</div>"
      ],
      "text/plain": [
       "        timestamp window                                                row  \\\n",
       "0      1561661534   None  [1009482_Cryptokittie, Cryptokittie, Art, 10, ...   \n",
       "1      1561661534   None  [1009482_Cryptokittie, Cryptokittie, Art, 10, ...   \n",
       "2      1561661534   None  [1009482_Cryptokittie, Cryptokittie, Art, 10, ...   \n",
       "3      1561661534   None  [1009482_Cryptokittie, Cryptokittie, Art, 10, ...   \n",
       "4      1561661534   None  [1009482_Cryptokittie, Cryptokittie, Art, 10, ...   \n",
       "...           ...    ...                                                ...   \n",
       "11698  1561661534   None  [995907_Cryptokittie, Cryptokittie, Art, 9, {'...   \n",
       "11699  1561661534   None  [995907_Cryptokittie, Cryptokittie, Art, 9, {'...   \n",
       "11700  1561661534   None  [995907_Cryptokittie, Cryptokittie, Art, 9, {'...   \n",
       "11701  1561661534   None  [995907_Cryptokittie, Cryptokittie, Art, 9, {'...   \n",
       "11702  1561661534   None  [995907_Cryptokittie, Cryptokittie, Art, 97, {...   \n",
       "\n",
       "         profit      min_ts      max_ts  length  duration_days  \n",
       "0      0.007950  1553287096  1553415176      10       1.482407  \n",
       "1      1.327650  1553814093  1553942495      10       1.486134  \n",
       "2      0.427975  1553842682  1553971022      10       1.485417  \n",
       "3      5.180750  1554084999  1554213172      10       1.483484  \n",
       "4      0.983150  1554184608  1554313113      10       1.487326  \n",
       "...         ...         ...         ...     ...            ...  \n",
       "11698  0.222900  1551804104  1551975130       9       1.979468  \n",
       "11699  0.102000  1550764115  1550878121       9       1.319514  \n",
       "11700  0.222600  1554169611  1554283687       9       1.320324  \n",
       "11701  0.072900  1554440815  1554568600       9       1.478993  \n",
       "11702  5.740200  1556506610  1558658558      97      24.906806  \n",
       "\n",
       "[11703 rows x 8 columns]"
      ]
     },
     "metadata": {}
    }
   ],
   "metadata": {
    "collapsed": false,
    "pycharm": {
     "name": "#%%\n"
    }
   }
  },
  {
   "cell_type": "markdown",
   "source": [
    "## Cycle length distributions\n",
    "\n",
    "Below is a simple CDF showing the distribution of the lengths of cycles. "
   ],
   "metadata": {
    "collapsed": false,
    "pycharm": {
     "name": "#%% md\n"
    }
   }
  },
  {
   "cell_type": "code",
   "execution_count": 14,
   "source": [
    "x,y = ccdf(data_df.duration_days)\n",
    "\n",
    "fig, ax = plt.subplots()\n",
    "ax.set_xscale(\"log\")\n",
    "ax.set_yscale(\"log\")\n",
    "ax.plot(x,y, marker=\"o\")\n",
    "ax.set_ylabel(\"CCDF\")\n",
    "ax.set_xlabel(\"Cycle duration (days)\")\n",
    "\n",
    "plt.show()"
   ],
   "outputs": [
    {
     "output_type": "display_data",
     "data": {
      "image/png": "[encoded data removed]",
      "text/plain": [
       "<Figure size 640x480 with 1 Axes>"
      ]
     },
     "metadata": {}
    }
   ],
   "metadata": {
    "collapsed": false,
    "pycharm": {
     "name": "#%%\n"
    }
   }
  },
  {
   "cell_type": "code",
   "execution_count": 15,
   "source": [
    "x,y = ccdf(data_df.length)\n",
    "\n",
    "fig, ax = plt.subplots()\n",
    "ax.set_xscale(\"log\")\n",
    "ax.set_yscale(\"log\")\n",
    "ax.plot(x,y, marker=\"o\")\n",
    "ax.set_ylabel(\"CCDF\")\n",
    "ax.set_xlabel(\"Cycle length (hops)\")\n",
    "\n",
    "plt.show()"
   ],
   "outputs": [
    {
     "output_type": "display_data",
     "data": {
      "image/png": "[encoded data removed]",
      "text/plain": [
       "<Figure size 640x480 with 1 Axes>"
      ]
     },
     "metadata": {}
    }
   ],
   "metadata": {
    "collapsed": false,
    "pycharm": {
     "name": "#%%\n"
    }
   }
  },
  {
   "cell_type": "markdown",
   "source": [
    "## How many traders took part in cycles?"
   ],
   "metadata": {
    "collapsed": false,
    "pycharm": {
     "name": "#%% md\n"
    }
   }
  },
  {
   "cell_type": "code",
   "execution_count": 16,
   "source": [
    "traders_profit = {}\n",
    "for row in data:\n",
    "    trade = {\n",
    "        'profit_usd': row['row'][4]['profit_usd'],\n",
    "        'buyer':  row['row'][4]['buyer'],\n",
    "        'cycle_size': row['row'][3],\n",
    "        'nft_id': row['row'][0],\n",
    "        'cycle': row['row'][4]['cycle']['sales']\n",
    "    }\n",
    "    trader = trade['buyer']\n",
    "    profit = trade['profit_usd']\n",
    "    if trader not in traders_profit:\n",
    "        traders_profit[trader] = []\n",
    "    traders_profit[trader].append(profit)\n",
    "traders_avg = {}\n",
    "for trader, _profit in traders_profit.items():\n",
    "    avg = sum(_profit)/len(_profit)\n",
    "    traders_avg[trader] = {\n",
    "        'avg': avg, \n",
    "        'count': len(_profit),\n",
    "        'total_profit': sum(_profit)\n",
    "    }\n",
    "    \n",
    "traders_count_sorted = sorted(traders_avg, key=lambda x: traders_avg[x]['count'], reverse=True)\n",
    "\n",
    "for t in traders_count_sorted[:50]:\n",
    "    print(t)\n",
    "    print(traders_avg[t])\n",
    "    print()"
   ],
   "outputs": [
    {
     "output_type": "stream",
     "name": "stdout",
     "text": [
      "0x8acc1421ec98689461ff5777de8ad6648dc6d643\n",
      "{'avg': 2.2519553917404496, 'count': 617, 'total_profit': 1389.4564767038573}\n",
      "\n",
      "0x00c9da65b33b4f7034b5f50b90f5f6d8320d6ab8\n",
      "{'avg': 2.1960905438311693, 'count': 616, 'total_profit': 1352.7917750000004}\n",
      "\n",
      "0xa21e0974137bf8400eb7dca606d9dcb190d79ed9\n",
      "{'avg': 2.3006426628664483, 'count': 614, 'total_profit': 1412.5945949999993}\n",
      "\n",
      "0x838c14eb3eabe4cb6a696d286c7b2a466629d0ee\n",
      "{'avg': 2.357247238562091, 'count': 612, 'total_profit': 1442.6353099999997}\n",
      "\n",
      "0x1c1ef71445010114f41ac1feb32dbf5d7281e90f\n",
      "{'avg': 2.3474603371710536, 'count': 608, 'total_profit': 1427.2558850000005}\n",
      "\n",
      "0x6a47b60c377450a460d3eb828d534ee66eead668\n",
      "{'avg': 2.2968711341059587, 'count': 604, 'total_profit': 1387.310164999999}\n",
      "\n",
      "0xe738725cdcc41c91f734dd7b5b9659df994d6dda\n",
      "{'avg': 2.2413728476821175, 'count': 604, 'total_profit': 1353.789199999999}\n",
      "\n",
      "0x463215edb66fb6a8f0c979e739a731977617699f\n",
      "{'avg': 2.170596011705684, 'count': 598, 'total_profit': 1298.0164149999991}\n",
      "\n",
      "0x179d698f5a1c84c3ff4c5eb04e553c15a0c1d8d8\n",
      "{'avg': 2.278309740368509, 'count': 597, 'total_profit': 1360.1509149999997}\n",
      "\n",
      "0x1e7f320cf5a938465d501f6bd6c405feb3a70f6c\n",
      "{'avg': 2.226550720268007, 'count': 597, 'total_profit': 1329.2507800000003}\n",
      "\n",
      "0x6e13c7e25c2cda6f5c8c4e431bee480bfb312c28\n",
      "{'avg': 2.2607215195246204, 'count': 589, 'total_profit': 1331.5649750000014}\n",
      "\n",
      "0x236ef21dc36d0aec3990dd5ee84a9d5320644262\n",
      "{'avg': 2.302746853448279, 'count': 580, 'total_profit': 1335.5931750000018}\n",
      "\n",
      "0xf5aee6d7b838d5ede8aa65d31dbc11116545180c\n",
      "{'avg': 2.279057060869564, 'count': 575, 'total_profit': 1310.4578099999992}\n",
      "\n",
      "0xbabda06088c242fb2a763aa7cc99706cb77ba735\n",
      "{'avg': 2.3128609598603846, 'count': 573, 'total_profit': 1325.2693300000003}\n",
      "\n",
      "0x68d31cb3825e559b1e5c0665f2d65d06a17fce1a\n",
      "{'avg': 2.1250271578947357, 'count': 570, 'total_profit': 1211.2654799999993}\n",
      "\n",
      "0xa37e6b46fa8e1a6f1ddbf035c4e0230b8414ff04\n",
      "{'avg': 2.1527055114638434, 'count': 567, 'total_profit': 1220.5840249999992}\n",
      "\n",
      "0xcdcadf0279ee021a0c40a31ac10fa69e028e21d0\n",
      "{'avg': 2.3056730797101452, 'count': 552, 'total_profit': 1272.7315400000002}\n",
      "\n",
      "0x7316e9cf94bef40d4981d66a5c41c38b6b32454c\n",
      "{'avg': 2.2200820802919683, 'count': 548, 'total_profit': 1216.6049799999987}\n",
      "\n",
      "0x87b77fabfeb869150b8e1b9462603f9a639c5fae\n",
      "{'avg': 2.2851332674199605, 'count': 531, 'total_profit': 1213.405764999999}\n",
      "\n",
      "0xadd12bd6375dc21d579cc4abcfa04864d6ac9a62\n",
      "{'avg': 2.2776891950757574, 'count': 528, 'total_profit': 1202.6198949999998}\n",
      "\n",
      "0xf6d22b698d04634f218fc03788784fa55765c7b4\n",
      "{'avg': 811.62565, 'count': 2, 'total_profit': 1623.2513}\n",
      "\n",
      "0xc160ce5a535772b3c606a46e19008578e277d55c\n",
      "{'avg': 2.0031915056792546, 'count': 2, 'total_profit': 4.006383011358509}\n",
      "\n",
      "0x44918a232e860498a54a74f8c312e4a6a4b0ccf9\n",
      "{'avg': 1.7402699999999998, 'count': 2, 'total_profit': 3.4805399999999995}\n",
      "\n",
      "0x0239769a1adf4def9f07da824b80b9c4fcb59593\n",
      "{'avg': 8.00545, 'count': 1, 'total_profit': 8.00545}\n",
      "\n",
      "0x6be4a7bbb812bfa6a63126ee7b76c8a13529bdb8\n",
      "{'avg': 8.524000000000004, 'count': 1, 'total_profit': 8.524000000000004}\n",
      "\n",
      "0x8805c680b191a244fb41a8d475e6fe33031396e4\n",
      "{'avg': 17.599675646873358, 'count': 1, 'total_profit': 17.599675646873358}\n",
      "\n",
      "0xfd5aa534af56244a1d7b1740e7783ae7479dfc3d\n",
      "{'avg': 0.005355009970895497, 'count': 1, 'total_profit': 0.005355009970895497}\n",
      "\n",
      "0x56ec15bd7268d71154809dfc5042381168139502\n",
      "{'avg': 0.010728176782828835, 'count': 1, 'total_profit': 0.010728176782828835}\n",
      "\n",
      "0xee68dc68913ee5606608c90d9b5db8ec4b12774c\n",
      "{'avg': 0.7395807262827934, 'count': 1, 'total_profit': 0.7395807262827934}\n",
      "\n",
      "0x7c259c9162056e109ea5ffdb1a1b6fefdcd4b907\n",
      "{'avg': 4.645528535639883, 'count': 1, 'total_profit': 4.645528535639883}\n",
      "\n",
      "0xfd380c3c8c079e1161bb0f95772e91875b76f80a\n",
      "{'avg': 16.213850000000004, 'count': 1, 'total_profit': 16.213850000000004}\n",
      "\n",
      "0x6b924183307ef2e529db662f80200611328a0cbd\n",
      "{'avg': 44.4174, 'count': 1, 'total_profit': 44.4174}\n",
      "\n",
      "0xd94d7922ed9dfa3bdb4253773bcdc78d5fc162e6\n",
      "{'avg': 19.512317006868845, 'count': 1, 'total_profit': 19.512317006868845}\n",
      "\n",
      "0xa1a4ad46867ff5b4cebd83a2a88c2de5637ef2e7\n",
      "{'avg': 19.863466581809753, 'count': 1, 'total_profit': 19.863466581809753}\n",
      "\n",
      "0x37c701ecd86cdddba614cf194d9a41d1f9c55145\n",
      "{'avg': 83.85087499999995, 'count': 1, 'total_profit': 83.85087499999995}\n",
      "\n",
      "0x056bfac0c2abca95490027a6e29e9bf039f1d0f6\n",
      "{'avg': 3.415020000000002, 'count': 1, 'total_profit': 3.415020000000002}\n",
      "\n",
      "0x36b6e5010732bf1cd0d5178fd130a11635dc40e3\n",
      "{'avg': 1.9479800000000012, 'count': 1, 'total_profit': 1.9479800000000012}\n",
      "\n",
      "0x0945255148a4e0fafb31af7964d67a827442c8fd\n",
      "{'avg': 240.57750000000004, 'count': 1, 'total_profit': 240.57750000000004}\n",
      "\n",
      "0x7e1dcf785f0353bf657c38ab7865c1f184efe208\n",
      "{'avg': 182.58500000000004, 'count': 1, 'total_profit': 182.58500000000004}\n",
      "\n",
      "0x530cf036ed4fa58f7301a9c788c9806624cefd19\n",
      "{'avg': 0.027382013131371688, 'count': 1, 'total_profit': 0.027382013131371688}\n",
      "\n"
     ]
    }
   ],
   "metadata": {
    "collapsed": false,
    "pycharm": {
     "name": "#%%\n"
    }
   }
  },
  {
   "cell_type": "markdown",
   "source": [
    "Above, we can see that 20 traders participated in over 528 cycles each. \n",
    "\n",
    "Lets write some code to inspect these NFT cycles in more depth. \n",
    "\n",
    "The `pretty_cycle` function takes a cycle and prints out each subsequent trade and the profit and time between trades.  "
   ],
   "metadata": {
    "collapsed": false,
    "pycharm": {
     "name": "#%% md\n"
    }
   }
  },
  {
   "cell_type": "code",
   "execution_count": 17,
   "source": [
    "def pretty_cycle(cycle):\n",
    "    as_string = '   '\n",
    "    prev_price = cycle[0]['price_usd']\n",
    "    prev_time = cycle[0]['time']\n",
    "    for item in cycle:\n",
    "        diff = item['price_usd']-prev_price\n",
    "        time_secs = item['time']-prev_time\n",
    "        time_mins = time_secs/60\n",
    "        time_hours = time_secs/60/60\n",
    "        time_days = time_secs/60/60/24 \n",
    "        prev_time = item['time']\n",
    "        time_str = '%.1fm/%.1fh/%.2fd' % (time_mins, time_hours, time_days)\n",
    "        as_string += 'T(d) '+time_str+', B: '+item['buyer'][:4]+'.. $'+str(item['price_usd'])+'('+str(diff)+') '+item['tx_hash']+'\\n->'\n",
    "    as_string = as_string[:-3]\n",
    "    print(as_string)"
   ],
   "outputs": [],
   "metadata": {
    "collapsed": false,
    "pycharm": {
     "name": "#%%\n"
    }
   }
  },
  {
   "cell_type": "markdown",
   "source": [
    "# Lets take a look at the trader who did the most cycles"
   ],
   "metadata": {
    "collapsed": false,
    "pycharm": {
     "name": "#%% md\n"
    }
   }
  },
  {
   "cell_type": "code",
   "execution_count": 18,
   "source": [
    "largest_trader_addr = traders_count_sorted[0] # '0x8acc1421ec98689461ff5777de8ad6648dc6d643'\n",
    "largest = []\n",
    "for trade in data:\n",
    "    # ignore any rari tokens, as they are fractionalised\n",
    "    #. ignore any short trades \n",
    "    if '_Rari' in trade['row'][0] or trade['row'][3] <= 2:\n",
    "        continue\n",
    "    if trade['row'][4]['buyer'] == largest_trader_addr:\n",
    "        largest.append(trade)"
   ],
   "outputs": [],
   "metadata": {
    "collapsed": false,
    "pycharm": {
     "name": "#%%\n"
    }
   }
  },
  {
   "cell_type": "markdown",
   "source": [
    "#### Which NFTs did they trade?"
   ],
   "metadata": {
    "collapsed": false,
    "pycharm": {
     "name": "#%% md\n"
    }
   }
  },
  {
   "cell_type": "code",
   "execution_count": 19,
   "source": [
    "from collections import Counter\n",
    "most_common_nft_collection = []\n",
    "most_common_nft = []\n",
    "for trade in largest:\n",
    "    nft_collection =  trade['row'][0].split('_')\n",
    "    if len(nft_collection) > 2:\n",
    "        print(\"crap\")\n",
    "    most_common_nft.append(trade['row'][0])\n",
    "    most_common_nft_collection.append(nft_collection[1])\n",
    "most_common_nft_collection = set(most_common_nft_collection)\n",
    "most_common_nft_collection = Counter(most_common_nft_collection)\n",
    "most_common_nft = Counter(most_common_nft)\n",
    "most_common_nft_collection"
   ],
   "outputs": [
    {
     "output_type": "execute_result",
     "data": {
      "text/plain": [
       "Counter({'Mlbchampion': 1, 'Etheremon': 1, 'Cryptokittie': 1})"
      ]
     },
     "metadata": {},
     "execution_count": 19
    }
   ],
   "metadata": {
    "collapsed": false,
    "pycharm": {
     "name": "#%%\n"
    }
   }
  },
  {
   "cell_type": "markdown",
   "source": [
    "#### What happens when we look at their cycles in more detail?"
   ],
   "metadata": {
    "collapsed": false,
    "pycharm": {
     "name": "#%% md\n"
    }
   }
  },
  {
   "cell_type": "code",
   "execution_count": 20,
   "source": [
    "pretty_cycle(largest[10]['row'][4]['cycle']['sales'])"
   ],
   "outputs": [
    {
     "output_type": "stream",
     "name": "stdout",
     "text": [
      "   T(d) 0.0m/0.0h/0.00d, B: 0x8a.. $71.17105000000002(0.0) 0xb1fd9fb3ce4494088231d96c25cfb173b82e5ce1658eb7c9dfa4d64ef7eb1528\n",
      "->T(d) 235.6m/3.9h/0.16d, B: 0x1c.. $71.17105000000002(0.0) 0x9b4ecd9c68b862219652d91dcc36465754af72c3c2245350e6ebfd0c7d19022b\n",
      "->T(d) 239.3m/4.0h/0.17d, B: 0x23.. $71.17105000000002(0.0) 0x0a8c9672be0475dfa915b121688c6e11d23af243cd784632f555fcd4ce825c54\n",
      "->T(d) 235.4m/3.9h/0.16d, B: 0xcd.. $71.17105000000002(0.0) 0x91a0b2ad2fe680c9f5cce76dc8bb9a532a85189d402d0d464bf9a6899f734348\n",
      "->T(d) 239.8m/4.0h/0.17d, B: 0x1e.. $71.17105000000002(0.0) 0x414cd57a004699e683603a363075272be155b7293185bec866824fa5e9e862fb\n",
      "->T(d) 234.7m/3.9h/0.16d, B: 0xa2.. $73.045925(1.8748749999999745) 0x23beab369912cef65bf311cb9989c1fa573016ac779ba49b0af825781a62e5f1\n",
      "->T(d) 240.5m/4.0h/0.17d, B: 0xa3.. $73.045925(1.8748749999999745) 0x2595f9a76565f840df309af76d980f681aa5e96529255e68300afaefd6e8e23f\n",
      "->T(d) 234.9m/3.9h/0.16d, B: 0x00.. $73.045925(1.8748749999999745) 0xf20aae9af2fa4905ccca603f2cdbb54d01e5b43e1a3cc4866d4b8c052e424d23\n",
      "->T(d) 239.9m/4.0h/0.17d, B: 0x1c.. $73.045925(1.8748749999999745) 0xac11eaf21eaf01b42b66cb4d2ceeb8da531d544df9ba8230fb9640f726cbef86\n",
      "->T(d) 234.7m/3.9h/0.16d, B: 0xa3.. $73.045925(1.8748749999999745) 0x8050d087c38c1606c8971d2e904d8482f7c506b71793993afdc2c0def41bc3bf\n",
      "->T(d) 241.4m/4.0h/0.17d, B: 0x23.. $73.045925(1.8748749999999745) 0x31d86d3f252c1a24bd3cf629978f8ab5b19ca0236a21b0a465dfcda34d817e95\n",
      "->T(d) 234.3m/3.9h/0.16d, B: 0xe7.. $70.17862500000001(-0.9924250000000114) 0x104f8f292de9c63da116fa7f09a8620db896ddaf75d695cf510cc204256a1675\n",
      "->T(d) 239.7m/4.0h/0.17d, B: 0x68.. $70.17862500000001(-0.9924250000000114) 0x656038977360da6fe16ce023ec9d831141ea0fa456c7027f26701e68fc8f2d98\n",
      "->T(d) 239.6m/4.0h/0.17d, B: 0x1e.. $70.17862500000001(-0.9924250000000114) 0xd10eb462c13e25c3720c160a6e4cc094c5f97174d2d00f736f8381143f08dfa7\n",
      "->T(d) 236.0m/3.9h/0.16d, B: 0x23.. $70.17862500000001(-0.9924250000000114) 0x260105aab69faa96d56045054af34862ca5641a72d5718c4a5769b1fdb173751\n",
      "->T(d) 234.3m/3.9h/0.16d, B: 0x87.. $70.17862500000001(-0.9924250000000114) 0x2b8de6f626e098e1a849fd52fe21345f1930e8078e3043cc6eb931f4f4b817d1\n",
      "->T(d) 239.8m/4.0h/0.17d, B: 0xa2.. $70.17862500000001(-0.9924250000000114) 0xc559364d8dd633bc08c6cf86a1b57860e948bf992a7babe0b5cf649a457355c5\n",
      "->T(d) 2374.9m/39.6h/1.65d, B: 0x23.. $72.20455000000003(1.0335000000000036) 0xd048b49c4b72fcc8cdcc24eda004669489767eab3657505f673dfa40fa0209d1\n",
      "->T(d) 236.1m/3.9h/0.16d, B: 0x00.. $72.20455000000003(1.0335000000000036) 0xe8d45dcf3c71f055c8d86ca300b2884c2c73882e38e652668c84c032d9d06afc\n",
      "->T(d) 240.3m/4.0h/0.17d, B: 0x6a.. $72.20455000000003(1.0335000000000036) 0xb9b87478536eb526dc217ab808bbfdbb57ef8979ff8bf622d21036fc34592cc0\n",
      "->T(d) 233.9m/3.9h/0.16d, B: 0xa2.. $78.979275(7.808224999999979) 0xa2b15ac3def1b4cb0c9519a90758158f4aab9834493bfb18ea1b91287c6ec34b\n",
      "->T(d) 240.4m/4.0h/0.17d, B: 0x87.. $78.979275(7.808224999999979) 0xf83e4710d5c159840a4e5ece249305a4124470b926a8c4a9b501412b344f641b\n",
      "->T(d) 234.8m/3.9h/0.16d, B: 0x83.. $78.979275(7.808224999999979) 0xf645d130d0e9789d01d3d3e692ee2f3b502508e105ee8820826f165e27c5bbd4\n",
      "->T(d) 240.1m/4.0h/0.17d, B: 0x17.. $78.979275(7.808224999999979) 0x4927118f8d24fa5c1be693fa2ed11bbe433028f520bbf597f75abb07bb491a95\n",
      "->T(d) 235.8m/3.9h/0.16d, B: 0x8a.. $78.979275(7.808224999999979) 0x00b0cdfd278c4d463f29e5a5ec231311a515ee49a6305406baa758a396ee9dab\n"
     ]
    }
   ],
   "metadata": {
    "collapsed": false,
    "pycharm": {
     "name": "#%%\n"
    }
   }
  },
  {
   "cell_type": "markdown",
   "source": [
    "We have found something here, this trader trades each nft between wallets within a ~4 hour window??"
   ],
   "metadata": {
    "collapsed": false,
    "pycharm": {
     "name": "#%% md\n"
    }
   }
  },
  {
   "cell_type": "markdown",
   "source": [
    "#### What was the time between each transaction?"
   ],
   "metadata": {
    "collapsed": false,
    "pycharm": {
     "name": "#%% md\n"
    }
   }
  },
  {
   "cell_type": "code",
   "execution_count": 21,
   "source": [
    "import math\n",
    "def time_finder(cycle):\n",
    "    prev_time = cycle[0]['time']\n",
    "    times = []\n",
    "    for sale in cycle:\n",
    "        time_secs = sale['time']-prev_time\n",
    "        time_hours = time_secs/60/60\n",
    "        prev_time = sale['time']\n",
    "        time_hours = round(time_hours, 1)\n",
    "        times.append(time_hours)\n",
    "    return times\n",
    "\n",
    "time_found = []\n",
    "for trade in largest:\n",
    "    time_found.extend(time_finder(trade['row'][4]['cycle']['sales']))\n",
    "time_found = Counter(time_found)\n",
    "print(\"total times : %i\" % sum(time_found.values()))\n",
    "between_39_41 = time_found[3.4]+time_found[3.5]+time_found[3.6] +time_found[3.7] +time_found[3.8] +time_found[3.9] +time_found[4.0] +time_found[4.1] +time_found[4.2]+time_found[4.3]+time_found[4.4]+time_found[4.5]+time_found[4.6]\n",
    "print(\"times between 3.4 and 4.6 : %i - %.2fp\" % (between_39_41, between_39_41/sum(time_found.values())*100))"
   ],
   "outputs": [
    {
     "output_type": "stream",
     "name": "stdout",
     "text": [
      "total times : 13193\n",
      "times between 3.4 and 4.6 : 11658 - 88.37p\n"
     ]
    }
   ],
   "metadata": {
    "collapsed": false,
    "pycharm": {
     "name": "#%%\n"
    }
   }
  },
  {
   "cell_type": "markdown",
   "source": [
    "#### Who did they trade with?"
   ],
   "metadata": {
    "collapsed": false,
    "pycharm": {
     "name": "#%% md\n"
    }
   }
  },
  {
   "cell_type": "code",
   "execution_count": 22,
   "source": [
    "wallet_interactions = []\n",
    "for trade in largest:\n",
    "    for sale in trade['row'][4]['cycle']['sales']:\n",
    "        wallet_interactions.append(sale['buyer'])\n",
    "wallet_interactions = Counter(wallet_interactions)\n",
    "sorted(wallet_interactions.items(), key=lambda x: x[1], reverse=True), len(wallet_interactions)"
   ],
   "outputs": [
    {
     "output_type": "execute_result",
     "data": {
      "text/plain": [
       "([('0x8acc1421ec98689461ff5777de8ad6648dc6d643', 1234),\n",
       "  ('0xa21e0974137bf8400eb7dca606d9dcb190d79ed9', 710),\n",
       "  ('0x179d698f5a1c84c3ff4c5eb04e553c15a0c1d8d8', 674),\n",
       "  ('0xe738725cdcc41c91f734dd7b5b9659df994d6dda', 662),\n",
       "  ('0x1c1ef71445010114f41ac1feb32dbf5d7281e90f', 659),\n",
       "  ('0x838c14eb3eabe4cb6a696d286c7b2a466629d0ee', 653),\n",
       "  ('0xf5aee6d7b838d5ede8aa65d31dbc11116545180c', 649),\n",
       "  ('0x6a47b60c377450a460d3eb828d534ee66eead668', 649),\n",
       "  ('0xbabda06088c242fb2a763aa7cc99706cb77ba735', 644),\n",
       "  ('0x00c9da65b33b4f7034b5f50b90f5f6d8320d6ab8', 635),\n",
       "  ('0x463215edb66fb6a8f0c979e739a731977617699f', 624),\n",
       "  ('0x1e7f320cf5a938465d501f6bd6c405feb3a70f6c', 623),\n",
       "  ('0xa37e6b46fa8e1a6f1ddbf035c4e0230b8414ff04', 618),\n",
       "  ('0x87b77fabfeb869150b8e1b9462603f9a639c5fae', 612),\n",
       "  ('0x6e13c7e25c2cda6f5c8c4e431bee480bfb312c28', 600),\n",
       "  ('0x236ef21dc36d0aec3990dd5ee84a9d5320644262', 596),\n",
       "  ('0xadd12bd6375dc21d579cc4abcfa04864d6ac9a62', 594),\n",
       "  ('0x7316e9cf94bef40d4981d66a5c41c38b6b32454c', 590),\n",
       "  ('0x68d31cb3825e559b1e5c0665f2d65d06a17fce1a', 586),\n",
       "  ('0xcdcadf0279ee021a0c40a31ac10fa69e028e21d0', 581)],\n",
       " 20)"
      ]
     },
     "metadata": {},
     "execution_count": 22
    }
   ],
   "metadata": {
    "collapsed": false,
    "pycharm": {
     "name": "#%%\n"
    }
   }
  },
  {
   "cell_type": "markdown",
   "source": [
    "Interestingly they only traded their NFTs with 20 other wallets. "
   ],
   "metadata": {
    "collapsed": false,
    "pycharm": {
     "name": "#%% md\n"
    }
   }
  },
  {
   "cell_type": "code",
   "execution_count": 23,
   "source": [
    "fellow_traders = list(wallet_interactions.keys())\n",
    "for t in fellow_traders:\n",
    "    print(t)\n",
    "    print(traders_avg[t])\n",
    "    print()"
   ],
   "outputs": [
    {
     "output_type": "stream",
     "name": "stdout",
     "text": [
      "0x8acc1421ec98689461ff5777de8ad6648dc6d643\n",
      "{'avg': 2.2519553917404496, 'count': 617, 'total_profit': 1389.4564767038573}\n",
      "\n",
      "0xa37e6b46fa8e1a6f1ddbf035c4e0230b8414ff04\n",
      "{'avg': 2.1527055114638434, 'count': 567, 'total_profit': 1220.5840249999992}\n",
      "\n",
      "0xf5aee6d7b838d5ede8aa65d31dbc11116545180c\n",
      "{'avg': 2.279057060869564, 'count': 575, 'total_profit': 1310.4578099999992}\n",
      "\n",
      "0x6e13c7e25c2cda6f5c8c4e431bee480bfb312c28\n",
      "{'avg': 2.2607215195246204, 'count': 589, 'total_profit': 1331.5649750000014}\n",
      "\n",
      "0xe738725cdcc41c91f734dd7b5b9659df994d6dda\n",
      "{'avg': 2.2413728476821175, 'count': 604, 'total_profit': 1353.789199999999}\n",
      "\n",
      "0x68d31cb3825e559b1e5c0665f2d65d06a17fce1a\n",
      "{'avg': 2.1250271578947357, 'count': 570, 'total_profit': 1211.2654799999993}\n",
      "\n",
      "0x179d698f5a1c84c3ff4c5eb04e553c15a0c1d8d8\n",
      "{'avg': 2.278309740368509, 'count': 597, 'total_profit': 1360.1509149999997}\n",
      "\n",
      "0xa21e0974137bf8400eb7dca606d9dcb190d79ed9\n",
      "{'avg': 2.3006426628664483, 'count': 614, 'total_profit': 1412.5945949999993}\n",
      "\n",
      "0x1c1ef71445010114f41ac1feb32dbf5d7281e90f\n",
      "{'avg': 2.3474603371710536, 'count': 608, 'total_profit': 1427.2558850000005}\n",
      "\n",
      "0x1e7f320cf5a938465d501f6bd6c405feb3a70f6c\n",
      "{'avg': 2.226550720268007, 'count': 597, 'total_profit': 1329.2507800000003}\n",
      "\n",
      "0xbabda06088c242fb2a763aa7cc99706cb77ba735\n",
      "{'avg': 2.3128609598603846, 'count': 573, 'total_profit': 1325.2693300000003}\n",
      "\n",
      "0x463215edb66fb6a8f0c979e739a731977617699f\n",
      "{'avg': 2.170596011705684, 'count': 598, 'total_profit': 1298.0164149999991}\n",
      "\n",
      "0x6a47b60c377450a460d3eb828d534ee66eead668\n",
      "{'avg': 2.2968711341059587, 'count': 604, 'total_profit': 1387.310164999999}\n",
      "\n",
      "0x87b77fabfeb869150b8e1b9462603f9a639c5fae\n",
      "{'avg': 2.2851332674199605, 'count': 531, 'total_profit': 1213.405764999999}\n",
      "\n",
      "0x236ef21dc36d0aec3990dd5ee84a9d5320644262\n",
      "{'avg': 2.302746853448279, 'count': 580, 'total_profit': 1335.5931750000018}\n",
      "\n",
      "0x838c14eb3eabe4cb6a696d286c7b2a466629d0ee\n",
      "{'avg': 2.357247238562091, 'count': 612, 'total_profit': 1442.6353099999997}\n",
      "\n",
      "0x00c9da65b33b4f7034b5f50b90f5f6d8320d6ab8\n",
      "{'avg': 2.1960905438311693, 'count': 616, 'total_profit': 1352.7917750000004}\n",
      "\n",
      "0x7316e9cf94bef40d4981d66a5c41c38b6b32454c\n",
      "{'avg': 2.2200820802919683, 'count': 548, 'total_profit': 1216.6049799999987}\n",
      "\n",
      "0xadd12bd6375dc21d579cc4abcfa04864d6ac9a62\n",
      "{'avg': 2.2776891950757574, 'count': 528, 'total_profit': 1202.6198949999998}\n",
      "\n",
      "0xcdcadf0279ee021a0c40a31ac10fa69e028e21d0\n",
      "{'avg': 2.3056730797101452, 'count': 552, 'total_profit': 1272.7315400000002}\n",
      "\n"
     ]
    }
   ],
   "metadata": {
    "collapsed": false,
    "pycharm": {
     "name": "#%%\n"
    }
   }
  },
  {
   "cell_type": "markdown",
   "source": [
    "All of these traders also participated in many cycles. "
   ],
   "metadata": {
    "collapsed": false,
    "pycharm": {
     "name": "#%% md\n"
    }
   }
  },
  {
   "cell_type": "markdown",
   "source": [
    "#### What were the patterns of the fellow traders cycles?"
   ],
   "metadata": {
    "collapsed": false,
    "pycharm": {
     "name": "#%% md\n"
    }
   }
  },
  {
   "cell_type": "code",
   "execution_count": 24,
   "source": [
    "import random\n",
    "\n",
    "print(len(fellow_traders))\n",
    "\n",
    "others_sibs = {}\n",
    "for sibling in fellow_traders:\n",
    "    others_sibs[sibling] = []\n",
    "    for trade in data:\n",
    "        if '_Rari' in trade['row'][0] or trade['row'][3] <= 2:\n",
    "            continue\n",
    "        if trade['row'][4]['buyer'] == sibling:\n",
    "            others_sibs[sibling].append(trade)\n",
    "    print(sibling)\n",
    "    rand = random.choice(range(0,len(others_sibs[sibling])))\n",
    "    pretty_cycle(others_sibs[sibling][rand]['row'][4]['cycle']['sales'])\n",
    "    print()"
   ],
   "outputs": [
    {
     "output_type": "stream",
     "name": "stdout",
     "text": [
      "20\n",
      "0x8acc1421ec98689461ff5777de8ad6648dc6d643\n",
      "   T(d) 0.0m/0.0h/0.00d, B: 0x8a.. $24.01822(0.0) 0x0b2b4461db4b496593a859c5a99c29707a258328dc55195409bc49568c8e0566\n",
      "->T(d) 234.2m/3.9h/0.16d, B: 0xba.. $24.6304(0.6121800000000022) 0x36f1da676f8f5399232ef73d04c8bd9c611ca5c824f4f945bdfc54f04a70c89e\n",
      "->T(d) 241.0m/4.0h/0.17d, B: 0xad.. $24.6304(0.6121800000000022) 0xcd2ef91efaf4c1d16b11dc50d3686c95f549831b8a37cef310d695d7cc2acb59\n",
      "->T(d) 233.8m/3.9h/0.16d, B: 0xcd.. $24.6304(0.6121800000000022) 0x133b5444003a1b764212b5e64e9c4510559f650e43434a2f16a43bd241de054c\n",
      "->T(d) 240.9m/4.0h/0.17d, B: 0xa3.. $24.6304(0.6121800000000022) 0x6966a1d9dde82ed10c8a33525c22b2b2b742d21ac8807734b5ea1904219b4c5d\n",
      "->T(d) 235.8m/3.9h/0.16d, B: 0x46.. $24.6304(0.6121800000000022) 0x1305fefd74e4636c2bb64f3d83cfed5e9f4c117960f81e281fa85c58f15ada90\n",
      "->T(d) 2849.0m/47.5h/1.98d, B: 0x6a.. $24.126515(0.1082950000000018) 0x37c72ca81dfb2b4133913cc58660edd7eab8431cc545af9d7d5da1c3c046dff8\n",
      "->T(d) 239.7m/4.0h/0.17d, B: 0x68.. $24.126515(0.1082950000000018) 0x6ce9ccf0d1624f3a465ea33a47c148f4ec19ee5601fe0bdfcffdb90fa19cf5ad\n",
      "->T(d) 235.0m/3.9h/0.16d, B: 0xe7.. $24.126515(0.1082950000000018) 0xffcc83f02726a2a7f9eb5511287d37a04e3a43d84bdb40e00163b2cb5d2b6c39\n",
      "->T(d) 240.6m/4.0h/0.17d, B: 0x73.. $24.64472(0.6265000000000001) 0xad2acbe2075fd185188020a391c8d18bd0e84216fdb5b520f14470975cb62f9c\n",
      "->T(d) 235.3m/3.9h/0.16d, B: 0xf5.. $24.64472(0.6265000000000001) 0xc8b3cbb37a23b7ee6f7083746fc23f7400b6fd0c1f9ac4db38056066568e62ac\n",
      "->T(d) 239.2m/4.0h/0.17d, B: 0xba.. $24.64472(0.6265000000000001) 0x18f4cde5ad38c2cfb61c14b82cabde0977605ac6464f21e283572af3d850b3a2\n",
      "->T(d) 235.0m/3.9h/0.16d, B: 0x6a.. $24.64472(0.6265000000000001) 0x47c59231f350c0741dfd9036bc8c803f555b85cc68d8e40355fea59c735ea8fd\n",
      "->T(d) 240.7m/4.0h/0.17d, B: 0x6e.. $24.64472(0.6265000000000001) 0x9ee5ec9935551e3df0e8388c1da23a8dd5b3e554080de140ae48b49f7478e9fa\n",
      "->T(d) 234.1m/3.9h/0.16d, B: 0x46.. $24.64472(0.6265000000000001) 0x2659db22de1b9602e299e812e9c6a1266cb04d5711d907fdb20598a42fb01843\n",
      "->T(d) 240.7m/4.0h/0.17d, B: 0xa3.. $24.38875(0.37053000000000225) 0x77c70c96ccb03f1282c0060daf1ef90a379580bca86a5f108efa42013d18afae\n",
      "->T(d) 234.4m/3.9h/0.16d, B: 0x83.. $24.38875(0.37053000000000225) 0x52db4d25b0b2ddcdc0d2327341fffb0649e349285ca54e8e0528967ff67c18bb\n",
      "->T(d) 240.1m/4.0h/0.17d, B: 0x8a.. $24.38875(0.37053000000000225) 0x270dc8ab30e4aec3c32a9dc902bfaa407632c9ba19f9255e7f5cb9775a662de5\n",
      "\n",
      "0xa37e6b46fa8e1a6f1ddbf035c4e0230b8414ff04\n",
      "   T(d) 0.0m/0.0h/0.00d, B: 0xa3.. $47.2077(0.0) 0xb5660a3e0bf169d6e08a225c98ca8347cb22dba322fc5c86281175584a37cc64\n",
      "->T(d) 194.0m/3.2h/0.13d, B: 0x46.. $52.453(5.2453) 0x696d9f4bc49b624fb992977fe9a8824c44f278259e61b1a62b75172b4c6f4e66\n",
      "->T(d) 239.6m/4.0h/0.17d, B: 0x1e.. $52.453(5.2453) 0x75611bd0a3ed16515ad68cc4a5a2033426c4941be1be22262c14ea2377402f6c\n",
      "->T(d) 236.0m/3.9h/0.16d, B: 0x23.. $50.653(3.445299999999996) 0xf1488bf9bbbb19fa7adc0615037dba5ad0fbd9c4286ab67a97e228dd2386cf95\n",
      "->T(d) 239.1m/4.0h/0.17d, B: 0x8a.. $50.653(3.445299999999996) 0xe08362aa7b3daf2e9349adb479810db576e491e0746192786d3c78dcaccc205f\n",
      "->T(d) 235.9m/3.9h/0.16d, B: 0xcd.. $50.653(3.445299999999996) 0x5c3d927f4c8b6f0bc417e32d2307aa4220a99e4aaed78ee26be8ba33123ef23b\n",
      "->T(d) 239.4m/4.0h/0.17d, B: 0xa3.. $50.653(3.445299999999996) 0x3c9efd92cccda7e1f0117dbeadbde56f0f126e999c0960167e2237b89ecf9165\n",
      "\n",
      "0xf5aee6d7b838d5ede8aa65d31dbc11116545180c\n",
      "   T(d) 0.0m/0.0h/0.00d, B: 0xf5.. $34.242(0.0) 0x5dfe22b8238a29668f9248b2fd43c007d5ea51baa9f56fe609fc1d1774a2ea33\n",
      "->T(d) 472.6m/7.9h/0.33d, B: 0x6e.. $51.16605(16.92405) 0xa49d75d82a9f13bb1d400a540d03bd3c7d4f5d3c736fdf12e78a607ff29b9be4\n",
      "->T(d) 234.9m/3.9h/0.16d, B: 0x17.. $51.16605(16.92405) 0x6fc74dccc442c2b3698102bb24626c3e69652ca87305c48a4199f7e761277382\n",
      "->T(d) 239.9m/4.0h/0.17d, B: 0x87.. $51.16605(16.92405) 0x17da0a23ccdd249b748be7c1d941a4dd03b4aa287c0b7742cf4fb8090e531f7b\n",
      "->T(d) 235.5m/3.9h/0.16d, B: 0x17.. $51.16605(16.92405) 0xa0299002e52bd50575c0e7a5e0ccc5923ae7d05937619673665cebf38356e40d\n",
      "->T(d) 239.8m/4.0h/0.17d, B: 0x6a.. $43.0872(8.845200000000006) 0xa3ff679f72e5f9a32e43418fbb5d09da46ea236871cb922476b08f3cbaaac8f9\n",
      "->T(d) 236.0m/3.9h/0.16d, B: 0x17.. $51.45770000000002(17.21570000000002) 0x633e3624ea6f052e7f64e32ad7d901249782ab9d33344a9108246dd0f0101be4\n",
      "->T(d) 241.4m/4.0h/0.17d, B: 0xa2.. $51.45770000000002(17.21570000000002) 0xeb2f265353eceb2d48ce9cd4b9c653502c7f4db32ccc88c47fbf22db90dff209\n",
      "->T(d) 232.6m/3.9h/0.16d, B: 0x46.. $43.33280000000001(9.090800000000016) 0x35969ddf9c1165abb0b9274f50256297a3613e5d11f8adc4cff0823321d14e9f\n",
      "->T(d) 243.0m/4.1h/0.17d, B: 0x23.. $35.20790000000001(0.965900000000012) 0x4dd3108c8db59cdd808328891a9a5bd2063df36bb47f9d0efdb5aa9c51f053bf\n",
      "->T(d) 239.7m/4.0h/0.17d, B: 0x83.. $43.33280000000001(9.090800000000016) 0x7e97639eaa5d8be17e88b45df5d17e21130f8726dbf9ccd4c0e9a5c4dc523e74\n",
      "->T(d) 233.0m/3.9h/0.16d, B: 0x6a.. $43.33280000000001(9.090800000000016) 0x05ed9cd88c6d5ede6d5e5689e8e2dea3bc931dc7d97e7697b08a20b39aec6646\n",
      "->T(d) 473.9m/7.9h/0.33d, B: 0x6e.. $39.904(5.662000000000006) 0xe3c34ee4463af46e99d80ec776f646e50ae6a874c9e52f229a15d22b84b2da17\n",
      "->T(d) 235.9m/3.9h/0.16d, B: 0xf5.. $39.904(5.662000000000006) 0xd88ce0dfafe4d1f02e1b4510e51b7b0b149bb647dd03a770b823d7ca81a383cd\n",
      "\n",
      "0x6e13c7e25c2cda6f5c8c4e431bee480bfb312c28\n",
      "   T(d) 0.0m/0.0h/0.00d, B: 0x6e.. $2.4193(0.0) 0x0c88eac6e0465c2ee55b9e13f9871e4f24949a22d11c7fd7cc5e1463ed055bb4\n",
      "->T(d) 1108.3m/18.5h/0.77d, B: 0xba.. $2.4175(-0.0017999999999998018) 0x0dacd74980f22dd0146d34b84ea677ad26144f2701e16a274f5ffd8860064a18\n",
      "->T(d) 240.4m/4.0h/0.17d, B: 0x1e.. $2.4175(-0.0017999999999998018) 0x00c393fdf3c05f38debd5f3136b24ffff9b34ee8a6833ffc5de24a430f6130f0\n",
      "->T(d) 235.4m/3.9h/0.16d, B: 0xad.. $2.4175(-0.0017999999999998018) 0x966dbf1320118f17b590a123f738a02d4e267dc0856a87beac0396fee96c1127\n",
      "->T(d) 239.5m/4.0h/0.17d, B: 0x73.. $2.4175(-0.0017999999999998018) 0x51a2f5f44329ceb911b960feba798622f9b6aef5cd07d56cca3c58c010b3d2aa\n",
      "->T(d) 236.7m/3.9h/0.16d, B: 0x6e.. $2.4516000000000004(0.03230000000000066) 0x1e90ff9466d55aa10d3c529a978bf20233907acf502ee851fb270c16dda91715\n",
      "\n",
      "0xe738725cdcc41c91f734dd7b5b9659df994d6dda\n",
      "   T(d) 0.0m/0.0h/0.00d, B: 0xe7.. $37.99224(0.0) 0xebd1b570cafafd0d4309f9a07b09072b5b9906a36f6d2802a1aa21be0f63396e\n",
      "->T(d) 238.8m/4.0h/0.17d, B: 0x8a.. $37.99224(0.0) 0xd625f0b4d2194504db337d31f059c0b89c73abc29e4b85a8b1df12bdcf3f18c3\n",
      "->T(d) 235.2m/3.9h/0.16d, B: 0xad.. $38.01095999999999(0.018719999999987635) 0x14af2d9a261ece984c0213537de9d4124fa639611a8882947cdbc2bf39f00a25\n",
      "->T(d) 239.9m/4.0h/0.17d, B: 0x17.. $38.01095999999999(0.018719999999987635) 0xce9d3fae65f38758d5c1e3e8ca159774a7ed9649b9332ef2e155fbb80cce75f4\n",
      "->T(d) 235.4m/3.9h/0.16d, B: 0x23.. $38.01095999999999(0.018719999999987635) 0xe51abf6f576ef0769d9f0b4d7e310c175292a32ddbdf2e2b78085cc001f41c7a\n",
      "->T(d) 242.3m/4.0h/0.17d, B: 0x73.. $38.01095999999999(0.018719999999987635) 0xbe1ab009ddce9fc5ecc6a2682a70831b9807b1e73e4b0092d7ca5c85ebd5cc63\n",
      "->T(d) 233.0m/3.9h/0.16d, B: 0xa3.. $38.01095999999999(0.018719999999987635) 0xcafb43f7be175ee59ba8a177a044bbe1f5bfad71785ca1835f12c2e6293de902\n",
      "->T(d) 239.4m/4.0h/0.17d, B: 0x83.. $38.01095999999999(0.018719999999987635) 0x91ccf31af8a0a636d987fe183da54776d812b183ef50f36925469e7bd6c846e2\n",
      "->T(d) 235.8m/3.9h/0.16d, B: 0x8a.. $38.88027(0.8880300000000005) 0xe0e2e5fb4d2a78c8d60b5d287b009ee884851d2c5992bbd23b4fc98a0233f9e4\n",
      "->T(d) 240.4m/4.0h/0.17d, B: 0xa3.. $38.88027(0.8880300000000005) 0x49e6f3756803165beca5d079b2962f8fac4e07174e7b557c21326942463def26\n",
      "->T(d) 233.6m/3.9h/0.16d, B: 0x6a.. $38.88027(0.8880300000000005) 0x776e6e331bf6a1fc01aeea5cae7b80e0391abc6885af56904cd5c0e42582c3b9\n",
      "->T(d) 243.9m/4.1h/0.17d, B: 0x6e.. $38.88027(0.8880300000000005) 0x593afc25d3e6ce52c16f97498a7ec8d5071943a0067f44702ef2f7cbdbe3df1c\n",
      "->T(d) 230.9m/3.8h/0.16d, B: 0xcd.. $38.88027(0.8880300000000005) 0x8b4425479f8a2544f257ae2b21d582ca682c81379eaa6400178d9f4e314a4c50\n",
      "->T(d) 240.1m/4.0h/0.17d, B: 0x1e.. $38.88027(0.8880300000000005) 0x572e9090f631fbad4c3284b33743e9bfae38bd9b16650ad60f1b668ffce4ee0d\n",
      "->T(d) 235.2m/3.9h/0.16d, B: 0xad.. $39.08384999999999(1.0916099999999886) 0xdb02b0a5f04e44c65524257d46614bfcdcad37d7a0890cd0c215b85b62ec4722\n",
      "->T(d) 239.7m/4.0h/0.17d, B: 0x68.. $39.08384999999999(1.0916099999999886) 0x88529b0bd4de91b814ccfc37c5934ce8a9e0aa8fd3d9a7b0aead9a4c3646f741\n",
      "->T(d) 235.0m/3.9h/0.16d, B: 0xba.. $39.08384999999999(1.0916099999999886) 0xd4b1efecea0b5b3221a4e1c8a14496cc7191a34353d48a7f943819b0fc1a492c\n",
      "->T(d) 239.9m/4.0h/0.17d, B: 0xad.. $39.08384999999999(1.0916099999999886) 0x3552d8c804c0587c51b435493e9185109145fec360234e5719f1af20dd20763a\n",
      "->T(d) 235.4m/3.9h/0.16d, B: 0x23.. $39.08384999999999(1.0916099999999886) 0x676717cd4d0cdd72fce57a847307e5da926e62a547bdcae6e125e379e6d187c8\n",
      "->T(d) 239.7m/4.0h/0.17d, B: 0x00.. $39.08384999999999(1.0916099999999886) 0xd7f42846a6c1fa7423ddb431bbd762700285544f2346e24d4327cdd2d292c781\n",
      "->T(d) 235.0m/3.9h/0.16d, B: 0x6e.. $38.16657(0.17432999999999765) 0x5677e904260353a2bd4457d43849207152c072ce79180cfded08f6472552d570\n",
      "->T(d) 241.7m/4.0h/0.17d, B: 0xe7.. $38.16657(0.17432999999999765) 0x7676eb7747340fcd0bdcaa729fef824fede81ac58a3efdc0a07a8cb821eb932f\n",
      "\n",
      "0x68d31cb3825e559b1e5c0665f2d65d06a17fce1a\n",
      "   T(d) 0.0m/0.0h/0.00d, B: 0x68.. $32.983000000000004(0.0) 0x9281fec36cf7eea47bc3be3b8235184eade7ffc09fef28d3c78a4858b7071434\n",
      "->T(d) 235.8m/3.9h/0.16d, B: 0xe7.. $32.983000000000004(0.0) 0xf110c1d7b59da00e97bd1906301049f3c339f43c39035e0908d2abb8d30d7839\n",
      "->T(d) 238.9m/4.0h/0.17d, B: 0x1e.. $32.983000000000004(0.0) 0xfe27a8d7876b3826d40b2e25cdefba685acfc184dc67729000caa6e5177466b5\n",
      "->T(d) 475.6m/7.9h/0.33d, B: 0x1e.. $32.983000000000004(0.0) 0xa9e52c26327e319e202cfd01b3d96f958fdc69bf2083d7de076ec74abab1c2ad\n",
      "->T(d) 235.4m/3.9h/0.16d, B: 0xa2.. $32.983000000000004(0.0) 0x813dade6a0a82b7a7a9d780a17b8d520dc7c26519da74d29ba42dbfb67301f40\n",
      "->T(d) 239.4m/4.0h/0.17d, B: 0x1e.. $33.226(0.242999999999995) 0xe8899dbcad72c6837cd4394feea1d70427f7064fac2f4433244a7e375692cbb3\n",
      "->T(d) 234.7m/3.9h/0.16d, B: 0xa2.. $33.226(0.242999999999995) 0x4b27ceca13ab2269f3b89478922a392cb4c6510fd9c7bf7504b01c14c22556ba\n",
      "->T(d) 241.0m/4.0h/0.17d, B: 0x83.. $33.226(0.242999999999995) 0x7d079dbfbdcfaaa934edbb6605338eefc132ca76a371f5c03e38b41a45658808\n",
      "->T(d) 234.3m/3.9h/0.16d, B: 0xba.. $33.226(0.242999999999995) 0xeff1a74323fd5561703a5326f420bdcf29a03b1198c785efe5f88a8dc3333270\n",
      "->T(d) 240.1m/4.0h/0.17d, B: 0x8a.. $33.226(0.242999999999995) 0xbe5b9e61a4021c808fdaa78fabfba72bfc3242dc60288478546f22a056616586\n",
      "->T(d) 235.9m/3.9h/0.16d, B: 0xba.. $33.226(0.242999999999995) 0xc74033f6664a40546208025dc1a40a90f589e90fbe47e6ceae219f8bf29387c4\n",
      "->T(d) 1189.1m/19.8h/0.83d, B: 0x8a.. $34.58300000000001(1.6000000000000085) 0x9665d863da020abb8af4d4188c2c5651bf21c10a89a5f67416bdecad6af92838\n",
      "->T(d) 234.9m/3.9h/0.16d, B: 0xba.. $34.58300000000001(1.6000000000000085) 0x2eeca565e138301d47947679c33c724443bdab3e619a0a6d230b7ed65729f942\n",
      "->T(d) 243.4m/4.1h/0.17d, B: 0x8a.. $36.45(3.4669999999999987) 0x1dabc792b94a1b3a7ee80e2860fe262ebf365a307d3b1e39fddfa62a59fda4f7\n",
      "->T(d) 231.4m/3.9h/0.16d, B: 0x23.. $36.45(3.4669999999999987) 0xa230e1c49e157581638513938e07111ed197f1d092545c2fd97c233f81605660\n",
      "->T(d) 715.6m/11.9h/0.50d, B: 0x1c.. $36.45(3.4669999999999987) 0xed4a64b3a3b0570fb300a657cf9e407c2dd0da056c8c6ed119d673c4941ea641\n",
      "->T(d) 234.8m/3.9h/0.16d, B: 0x23.. $36.45(3.4669999999999987) 0xde2784221d157c70df3b456b33135b1827e33e01b93845f02266df97a41a1d9b\n",
      "->T(d) 241.2m/4.0h/0.17d, B: 0x1c.. $35.45700000000001(2.4740000000000038) 0x381c0bf5814d5ce7e9ceafb80d8612e977ee3d13a8aac03769cecb8a8cb85b86\n",
      "->T(d) 233.8m/3.9h/0.16d, B: 0x6a.. $35.45700000000001(2.4740000000000038) 0xba6dffd38ad6452d0f96c4cd70f603e05014a81a1641c4ea2e3faa828d09c363\n",
      "->T(d) 715.5m/11.9h/0.50d, B: 0xba.. $35.45700000000001(2.4740000000000038) 0xa61fe42232d4c43115a81b84a18a235f30ead04820ea2d47e270113b65098c83\n",
      "->T(d) 236.6m/3.9h/0.16d, B: 0x6a.. $35.45700000000001(2.4740000000000038) 0x0df816c53b6e78923c104986aa04ad21b7ca752de3f4b9d10a9762d2bf584c1d\n",
      "->T(d) 237.7m/4.0h/0.17d, B: 0x46.. $35.927(2.9439999999999955) 0xa5d0d6dede351ca497f6761a1309ea69c304736f6d730e086697fa681df333f2\n",
      "->T(d) 235.1m/3.9h/0.16d, B: 0x73.. $35.927(2.9439999999999955) 0x2a6af996099a6b81f96fc1e3984859cb4155fb58c5828dc1b783b8601262d757\n",
      "->T(d) 239.6m/4.0h/0.17d, B: 0x87.. $35.927(2.9439999999999955) 0x9e640d1604e1c3f2336904228f5dba14c31696de04aa908e1666543a76e40565\n",
      "->T(d) 235.1m/3.9h/0.16d, B: 0x46.. $35.927(2.9439999999999955) 0x71cd08c73b7aa96f7cc61116710ca2ab348fab0424e36823506417b5fe735ec0\n",
      "->T(d) 3090.3m/51.5h/2.15d, B: 0x73.. $33.07000000000001(0.0870000000000033) 0x71fbad642c13f68372f579c2346c9f85a283dafccd8a89825bc71b3ad6306de0\n",
      "->T(d) 237.1m/4.0h/0.16d, B: 0xe7.. $33.07000000000001(0.0870000000000033) 0xad0c01de300f8e39405823e9b16e8ed67bf3b4be6162497ae5a7cb0493607bd8\n",
      "->T(d) 238.6m/4.0h/0.17d, B: 0x46.. $33.07000000000001(0.0870000000000033) 0x629d95f1822d7d2ff380765cd099bb66c7e5bcdf6c21d8e931bfa7c8a19e59dd\n",
      "->T(d) 234.2m/3.9h/0.16d, B: 0xba.. $32.775(-0.2080000000000055) 0x7ecdf24e6331b04dedeed47258d6cea02ef3659a593bc8abece06eba9ab35b99\n",
      "->T(d) 241.7m/4.0h/0.17d, B: 0x1e.. $32.775(-0.2080000000000055) 0x9d743381914819158edaf1bdf4ddbb459ae5256e81a4e04e0879be1e873bc427\n",
      "->T(d) 234.4m/3.9h/0.16d, B: 0x83.. $32.775(-0.2080000000000055) 0x45db5e8b18c7b210bf74b319406f85bbfdc7065f6e03adb2a9d6c04fe7fc5607\n",
      "->T(d) 238.8m/4.0h/0.17d, B: 0x6a.. $32.775(-0.2080000000000055) 0xb24ca2edd3ec642e2962092511ef7c650446c8c6a65a74a5811f2acbcdffd095\n",
      "->T(d) 235.5m/3.9h/0.16d, B: 0x00.. $32.775(-0.2080000000000055) 0x75e5908a38dbaefcc3c53459ab8d4a3e8b8ab125a0c8e547e5c9d171a3b44a76\n",
      "->T(d) 239.4m/4.0h/0.17d, B: 0x6e.. $32.775(-0.2080000000000055) 0xaa7cd0c3fb766570a7c46d34971a3ddce60c7d59ade5ef9cbd39bfe84bc14382\n",
      "->T(d) 236.4m/3.9h/0.16d, B: 0x1c.. $33.453(0.46999999999999886) 0xc5e49a5fa8c3232b6424a6508e0bd5643d454861740aeb985054d6dd5a72a80e\n",
      "->T(d) 238.5m/4.0h/0.17d, B: 0x73.. $33.453(0.46999999999999886) 0xed69cb755d0c00ccbfadc0a8a8d3b145902017dcb948fe2742571ffa40c5b275\n",
      "->T(d) 4467.7m/74.5h/3.10d, B: 0xe7.. $33.318000000000005(0.33500000000000085) 0x0cad337f8ed64c40218d77bef9d908731df43cf60fa8b5bedcf39028e2206088\n",
      "->T(d) 286.4m/4.8h/0.20d, B: 0x73.. $33.318000000000005(0.33500000000000085) 0x768c8f746a68862105dac314a9798fa452162d4e617bb742a5a756421455b095\n",
      "->T(d) 230.9m/3.8h/0.16d, B: 0x6a.. $33.318000000000005(0.33500000000000085) 0x2a25d77c8fe0a527d93da879f61cb7c7be62d927e9bf12d3779ecbd2afb1f060\n",
      "->T(d) 240.5m/4.0h/0.17d, B: 0x1c.. $33.318000000000005(0.33500000000000085) 0xf6c797f951d39433d1084de7ca167a5c5a09e7b75dfabfa11922860b9f23f969\n",
      "->T(d) 474.7m/7.9h/0.33d, B: 0x1c.. $34.399(1.4159999999999968) 0x913361f0b12fe967aa6c2f5464d184aaf88a7faccdf12655b293aca93603ecad\n",
      "->T(d) 235.2m/3.9h/0.16d, B: 0x6a.. $34.399(1.4159999999999968) 0x3227ba8cc90a932a51a562df1dcb72f1434943bf6c633bbf8a963fc485ca9885\n",
      "->T(d) 715.7m/11.9h/0.50d, B: 0x73.. $34.399(1.4159999999999968) 0x461ac964eae6535b2c7c0495b427782da0fe029a72f4cf1ad873136d7276b1d9\n",
      "->T(d) 235.1m/3.9h/0.16d, B: 0x6e.. $34.723000000000006(1.740000000000002) 0x80da8f0d64bfd4a0e6c839548edfede21684cbf511bf5f860a092a1c3b3d53b3\n",
      "->T(d) 239.4m/4.0h/0.17d, B: 0xa3.. $34.723000000000006(1.740000000000002) 0x30569965a6913954b84651e0afb0321262dd4f37a67467ba9fd36c4ed9f2069f\n",
      "->T(d) 234.3m/3.9h/0.16d, B: 0x23.. $34.723000000000006(1.740000000000002) 0xa07ac399d54c990c59f94f56d40f03a1150d7c35b34416fb6bec2ff099af84e4\n",
      "->T(d) 242.6m/4.0h/0.17d, B: 0x68.. $34.723000000000006(1.740000000000002) 0x0afc4e0859935aefb0ec58957096e22387d041f75b6d8416b9a93739fc028c31\n",
      "\n",
      "0x179d698f5a1c84c3ff4c5eb04e553c15a0c1d8d8\n",
      "   T(d) 0.0m/0.0h/0.00d, B: 0x17.. $45.37860000000001(0.0) 0xd1486ab62aabb6ee977f72821e2a2acd4bbedf1e1fc4c13385cfa8bceabe75d8\n",
      "->T(d) 240.0m/4.0h/0.17d, B: 0x8a.. $45.37860000000001(0.0) 0x99f139131e81ff62d0da9ef5446c91fa5f5b2badffbe6bcfd3dc3fcc33651c9e\n",
      "->T(d) 235.0m/3.9h/0.16d, B: 0xad.. $45.37860000000001(0.0) 0x8c1872a22652fcc9113abf0627e11c6658f61dc075d6834e868221c745acfa78\n",
      "->T(d) 240.0m/4.0h/0.17d, B: 0xf5.. $45.37860000000001(0.0) 0x518aad337935d3c90f17f33b77d2b19644324cfc5e90fe8bb7f295a68350005f\n",
      "->T(d) 235.7m/3.9h/0.16d, B: 0x46.. $45.37860000000001(0.0) 0x94b5e6755f86ecd996f0e2839b90fbc8b0ab044c856f27a467fc6d6eed918853\n",
      "->T(d) 239.5m/4.0h/0.17d, B: 0xad.. $45.37860000000001(0.0) 0x4405038eb182baca70f84597caee364b5b0b4f0cd9b81cecd5d5bef4383cc555\n",
      "->T(d) 234.6m/3.9h/0.16d, B: 0x8a.. $45.925825(0.5472249999999903) 0xfb1659a26b22d1b36790797278e1846e226009c40a8e53ce28d60ca9b52b3426\n",
      "->T(d) 240.2m/4.0h/0.17d, B: 0x87.. $45.925825(0.5472249999999903) 0xc04a7b0d6edfddca27dd3d5e0100a76a3c4c71dda1258ec3eaf83e3cfe4353d0\n",
      "->T(d) 236.2m/3.9h/0.16d, B: 0xa3.. $45.925825(0.5472249999999903) 0x090a893dea20b1c290743aadeb61bcbe708e09545d15e51f3af2097dcc014da5\n",
      "->T(d) 239.4m/4.0h/0.17d, B: 0x1e.. $45.925825(0.5472249999999903) 0xe346b924610d4bb23d344b03a19808880d2aba1b3f320743aa0ed2c5e744c2ca\n",
      "->T(d) 234.4m/3.9h/0.16d, B: 0x73.. $45.925825(0.5472249999999903) 0xe912f0c68c0863e30a032569b60b7122644e52a166713b44c9832af14f3937b0\n",
      "->T(d) 239.9m/4.0h/0.17d, B: 0x83.. $45.925825(0.5472249999999903) 0x6ba51695b6bd12b796f5423693509aed19ac71c12e92973da955e4533b00d9bb\n",
      "->T(d) 235.2m/3.9h/0.16d, B: 0xe7.. $45.93775(0.5591499999999883) 0x3f95ac5bb6aad0179a339198107dec4d5fac786830abc02d4dbfbbed2cd1db3f\n",
      "->T(d) 240.2m/4.0h/0.17d, B: 0x6a.. $45.93775(0.5591499999999883) 0xd3fbfa30ef4e7b8da51bc9e4fe2aea431f2fa62b60e883077b1ed11589bcb5f5\n",
      "->T(d) 234.7m/3.9h/0.16d, B: 0xe7.. $45.93775(0.5591499999999883) 0x890d5d160197f1afa84b678d663fadeb5eda26f7c7d12a4f7cff226985cf2e0a\n",
      "->T(d) 240.2m/4.0h/0.17d, B: 0x17.. $45.93775(0.5591499999999883) 0xd4ef71bd0ff0ac0c62bcea8a3289374607f27dd5cf51010e598bdf97e72f12c9\n",
      "\n",
      "0xa21e0974137bf8400eb7dca606d9dcb190d79ed9\n",
      "   T(d) 0.0m/0.0h/0.00d, B: 0xa2.. $21.334620000000005(0.0) 0xf5df80a68af52147f5c34bd577f7171cd97a4df9df280db371ad0913895df0af\n",
      "->T(d) 238.0m/4.0h/0.17d, B: 0x00.. $21.334620000000005(0.0) 0x721f25ce4a996b41ce7233c4b8968e167c3c4f5a375db911b2955ad0513ddbff\n",
      "->T(d) 235.1m/3.9h/0.16d, B: 0x73.. $21.334620000000005(0.0) 0x6a584edefd4e1dc79846941dc914cf106f48384ca2e7ba232152fe28e6ddc57c\n",
      "->T(d) 239.5m/4.0h/0.17d, B: 0x46.. $21.334620000000005(0.0) 0x5a8f9adadc2335c91f473be8911728f1f4c535df977179a0b2ceb3cf50eec403\n",
      "->T(d) 236.3m/3.9h/0.16d, B: 0x23.. $21.878400000000006(0.5437800000000017) 0xe87b4c936205a53d8e78cfa3451632bac3e26b626f5633c607de22a09524ff29\n",
      "->T(d) 239.4m/4.0h/0.17d, B: 0x87.. $21.878400000000006(0.5437800000000017) 0xd24c98aedbe4bf379edc13eddb3794347404e718d9fad5c1f22909afc99a3d1b\n",
      "->T(d) 235.6m/3.9h/0.16d, B: 0xf5.. $21.878400000000006(0.5437800000000017) 0x2071ecf885d2d894f6616fca29080fb292be93ab5fe602ccac7577101ce5109c\n",
      "->T(d) 238.6m/4.0h/0.17d, B: 0x83.. $21.878400000000006(0.5437800000000017) 0x9f35c0dbe3aca60a9a1dadf45b9e3e59cdbb96aba1f6d378f420d1483a867f8d\n",
      "->T(d) 259.8m/4.3h/0.18d, B: 0x1c.. $21.878400000000006(0.5437800000000017) 0x5bbf83b95f5ebd1670996b575cb926c2ddea31fbdbcdce6d9daece4294d37dc2\n",
      "->T(d) 1114.1m/18.6h/0.77d, B: 0xad.. $19.167405(-2.167215000000006) 0x17d6c000c5e1703c04b5d98c9721c5a487d7cfeed27733736600365ed38fd591\n",
      "->T(d) 286.8m/4.8h/0.20d, B: 0x6e.. $21.925305000000005(0.5906850000000006) 0x067f1bcc7653fb2e9d7f37b5106c93edd13a600b94a0b46de5e70d0ff85fa761\n",
      "->T(d) 240.9m/4.0h/0.17d, B: 0xa2.. $21.925305000000005(0.5906850000000006) 0x56a3bf4364464699bbc497262f5d462e9d350f22ad3c2d6801177e0af850d93c\n",
      "\n",
      "0x1c1ef71445010114f41ac1feb32dbf5d7281e90f\n",
      "   T(d) 0.0m/0.0h/0.00d, B: 0x1c.. $46.35307(0.0) 0x2c6d931016ae109538b136d621fce5f9272c4358ce3856554ef5e65dd7d766a5\n",
      "->T(d) 235.1m/3.9h/0.16d, B: 0xcd.. $46.35307(0.0) 0xbbeb7bab9514be00a5c7831fdac6baa843e9a75b6f33829091b004c0ba5c7cad\n",
      "->T(d) 240.1m/4.0h/0.17d, B: 0x00.. $46.35307(0.0) 0x3ddf14a568256807dfc28fa8665e32b7ddb6ae2641a96b604aa349dae221abd8\n",
      "->T(d) 235.2m/3.9h/0.16d, B: 0x68.. $46.35307(0.0) 0xfb32afb561d05a78a0a0ab9b4e92699b4bf3d302925416979f507c2271fe8f05\n",
      "->T(d) 240.6m/4.0h/0.17d, B: 0x83.. $46.35307(0.0) 0x48186d8d4d2a77352b4ff9daa75ad38e2e725777432b59bdde36529e34722185\n",
      "->T(d) 234.5m/3.9h/0.16d, B: 0x23.. $46.35307(0.0) 0x7236da2f9a3bbd87f3937b364401662870f71dcc03477debdf04b04583b869d4\n",
      "->T(d) 239.7m/4.0h/0.17d, B: 0xa2.. $48.89828(2.5452099999999973) 0x04212eb451c9db1ca3aedd82c20e5704b4fa9cb4d8f31439111e6e747e2d2dc6\n",
      "->T(d) 234.8m/3.9h/0.16d, B: 0x73.. $48.89828(2.5452099999999973) 0x2b930861d37b57139721afcb85102ee072e26c7a5a9e936bac4f7d731e0b8386\n",
      "->T(d) 240.2m/4.0h/0.17d, B: 0xa3.. $48.89828(2.5452099999999973) 0x80f6f21ef4ca384e82a98aa1bfbb78f2c05a402eb62921df4f369d8ec6b66d60\n",
      "->T(d) 235.7m/3.9h/0.16d, B: 0x83.. $48.89828(2.5452099999999973) 0x61f79b35421e4486b57c7a8a193af6600dacfe7fdc6a7b2856084797628247a3\n",
      "->T(d) 239.7m/4.0h/0.17d, B: 0xa2.. $48.89828(2.5452099999999973) 0x14abd0e4b110a7b960f23cc47304b9cbb5d86d4f2ca33b67bbf3266e54a9ba17\n",
      "->T(d) 234.5m/3.9h/0.16d, B: 0xad.. $48.89828(2.5452099999999973) 0x60a3f3ff76bd9d1da67493d103d8e33e5ec8b93e5f7e2c131c733508e8b8e840\n",
      "->T(d) 239.9m/4.0h/0.17d, B: 0x00.. $48.78684000000001(2.4337700000000098) 0xedfc8e0a336bdbe7ba465c6ec5e40e26c87cc45722fd4798ea0ad328436f5887\n",
      "->T(d) 267.4m/4.5h/0.19d, B: 0xf5.. $48.78684000000001(2.4337700000000098) 0x019cbd7e3f4615dec648813eb609c5248626e7152d8cff6b85452799d9b061f5\n",
      "->T(d) 208.9m/3.5h/0.15d, B: 0xa2.. $48.78684000000001(2.4337700000000098) 0xce5c3d9129b91af804b7e07a7a8bb274dd83d66848966280872b8b3f9308fd1b\n",
      "->T(d) 236.4m/3.9h/0.16d, B: 0x68.. $48.78684000000001(2.4337700000000098) 0x50b4072ea09f69940f50d8d9e7c2104023e4e682b1e3add8ebeed49d3e8d3b5c\n",
      "->T(d) 240.3m/4.0h/0.17d, B: 0x23.. $48.78684000000001(2.4337700000000098) 0x347f160e376879d044bb205887d0cd3bc351fb21c1b05e21d1a0c5511e8a9379\n",
      "->T(d) 232.7m/3.9h/0.16d, B: 0xad.. $48.78684000000001(2.4337700000000098) 0x84e27b551deb1acafdb8b4647c38d9572e2d6d2808d338d602baf9232d67fa30\n",
      "->T(d) 239.5m/4.0h/0.17d, B: 0x1c.. $51.28926500000001(4.936195000000005) 0x47d3621203f4f29950c342ca024eb70688fe5b18ce1ec6ee24929ac736e441ca\n",
      "\n",
      "0x1e7f320cf5a938465d501f6bd6c405feb3a70f6c\n",
      "   T(d) 0.0m/0.0h/0.00d, B: 0x1e.. $23.65704(0.0) 0xcb61c20cb319d21d5dd96f2991562dd1ad0b6d42e89f90b2086f98fb127c60a4\n",
      "->T(d) 236.9m/3.9h/0.16d, B: 0xe7.. $24.373919999999995(0.7168799999999962) 0x849c9f74a56dd414146f1278f0dcc2813e9da299b2acb45bf06a14fdd9e832ec\n",
      "->T(d) 235.4m/3.9h/0.16d, B: 0x83.. $24.373919999999995(0.7168799999999962) 0xeae748341c130487b63cf966fa5c2e44879db98c8528fe6d14e5ba8e61c8daf7\n",
      "->T(d) 239.6m/4.0h/0.17d, B: 0x6a.. $24.373919999999995(0.7168799999999962) 0x00c7d444b6ad854c288c054bf16f177a39abec0c03a77659da5b6de22a8f6a7a\n",
      "->T(d) 234.9m/3.9h/0.16d, B: 0x68.. $24.93798(1.280940000000001) 0x86f0d69916d0b10df9642f40e1d63becf8a35ba0b66f8a18cbd4e042c1b8108f\n",
      "->T(d) 239.7m/4.0h/0.17d, B: 0xe7.. $24.93798(1.280940000000001) 0xc72520d8e3410cd497b1fdabc19e14877f48f57e93a07f579891fedbc46ff447\n",
      "->T(d) 235.5m/3.9h/0.16d, B: 0x46.. $24.93798(1.280940000000001) 0xed057bf270e9b20563b6e87b925dddc972673ccd483aba922dac89425c707b66\n",
      "->T(d) 245.1m/4.1h/0.17d, B: 0xcd.. $24.93798(1.280940000000001) 0xb9643febcf1e197bf5df39570960ae99e842dc33e7aa119e605c709ab5a5b7e6\n",
      "->T(d) 231.3m/3.9h/0.16d, B: 0xad.. $24.93798(1.280940000000001) 0x666ae65298c44dcbf99eb9254f340161529abc9c7b6208a5094bf2f4a8de12f7\n",
      "->T(d) 238.7m/4.0h/0.17d, B: 0x1e.. $24.93798(1.280940000000001) 0x266fa8c877b4eca42a3088ecda5f93907f499a54a8db3cb6ac31c2c1def23e25\n",
      "\n",
      "0xbabda06088c242fb2a763aa7cc99706cb77ba735\n",
      "   T(d) 0.0m/0.0h/0.00d, B: 0xba.. $24.757095(0.0) 0x62d997be14566b3923057ad58c83c1b06c1a634bc32c23db78d473c8db0f1b4e\n",
      "->T(d) 234.8m/3.9h/0.16d, B: 0x6a.. $24.757095(0.0) 0x88bc0d01dd789c84aa1928030e9e4355293a477346aecccc92d9179a7af87522\n",
      "->T(d) 239.1m/4.0h/0.17d, B: 0x8a.. $24.757095(0.0) 0x0758967069e8d9868ff87e3e310ba2824d3d132cddb17852d51da01648a46045\n",
      "->T(d) 235.0m/3.9h/0.16d, B: 0x87.. $24.757095(0.0) 0x154e334368824fcecd1c8731a23410fabb822f5e16c04b3b72ba669b4e232ac6\n",
      "->T(d) 242.0m/4.0h/0.17d, B: 0x46.. $24.886725(0.1296299999999988) 0x5f93c4aa2eb474d7de6c6ba82711b48173181df7a1b63e825fdfd8be94b1ccfc\n",
      "->T(d) 236.8m/3.9h/0.16d, B: 0xcd.. $24.886725(0.1296299999999988) 0xa38c588d77b462e659503ad079fd78b78036ce731eed43b9bc4eb9e6ef7ffe88\n",
      "->T(d) 236.5m/3.9h/0.16d, B: 0x1e.. $24.886725(0.1296299999999988) 0x1d5bd181e43005ab5599d77a95fcb8e9b90303308b46f3a19e6ea04d48df88b3\n",
      "->T(d) 234.8m/3.9h/0.16d, B: 0xf5.. $24.886725(0.1296299999999988) 0xddfc7739ed41d97f146055fc13eb6a3d8d6629a26f90d27d4452243d01769165\n",
      "->T(d) 240.5m/4.0h/0.17d, B: 0x68.. $24.886725(0.1296299999999988) 0x1d903db48dca155ef9ae047a7b49eed0247ac9c7980fe7a73d914c0401a8d580\n",
      "->T(d) 234.5m/3.9h/0.16d, B: 0xba.. $24.886725(0.1296299999999988) 0xde80d2dc6d5d4affa3b587b713c3a070c8d9a5fd86825294278d60c7bb5f4828\n",
      "\n",
      "0x463215edb66fb6a8f0c979e739a731977617699f\n",
      "   T(d) 0.0m/0.0h/0.00d, B: 0x46.. $43.05505(0.0) 0x42339d4976f92c80adf4fc6bf36968dcf76444777f5450cdfeaeef4dbfc260e7\n",
      "->T(d) 234.8m/3.9h/0.16d, B: 0x83.. $43.41970000000001(0.3646500000000117) 0xdf10996fdbbf26fb4d0b426cf8472eb5367c8a1e61e479e6b72ecb87e5f2ae69\n",
      "->T(d) 239.8m/4.0h/0.17d, B: 0xf5.. $43.41970000000001(0.3646500000000117) 0xcd46f60ecbc3878ac0081556cf8532705b7563221af629492d8a052bd46fef46\n",
      "->T(d) 235.6m/3.9h/0.16d, B: 0x73.. $43.41970000000001(0.3646500000000117) 0xe2bf7e7012f8a4fe957d5a0bd5c2e8a7c99f77ce61964d0a0e61ef0e3604b82d\n",
      "->T(d) 239.4m/4.0h/0.17d, B: 0x23.. $43.41970000000001(0.3646500000000117) 0x50c4979cbdafd57dcf2e4fd5222d94290d68b391052a8db3c83b7f5a8f5e360c\n",
      "->T(d) 236.3m/3.9h/0.16d, B: 0x17.. $43.41970000000001(0.3646500000000117) 0xd3578487866ae58bf68880ca83c4fbdf896e0b3893104aa3a9da8df58b98356a\n",
      "->T(d) 240.1m/4.0h/0.17d, B: 0x6e.. $43.41970000000001(0.3646500000000117) 0x10f06715222b74986b4e93af67cf57b7e5fb099bbef96e5f3e51d9e33f02c483\n",
      "->T(d) 262.3m/4.4h/0.18d, B: 0x68.. $41.5293(-1.5257500000000022) 0x9a69e050027ecbd3ce83252bf09b3bc8078afa486ac4786c00f00793a032baa8\n",
      "->T(d) 211.2m/3.5h/0.15d, B: 0xa2.. $41.5293(-1.5257500000000022) 0x48c8ae462742e56f892d90b978dbdd3bb379ce31af46859740ffc167583f927c\n",
      "->T(d) 235.8m/3.9h/0.16d, B: 0x6a.. $41.5293(-1.5257500000000022) 0xaa048b4c5d5d7008d4ddc2ef898c7ca429ac1f9a83e0eaf95fd6ede9f71dbf3f\n",
      "->T(d) 239.4m/4.0h/0.17d, B: 0x8a.. $41.5293(-1.5257500000000022) 0x53f7ff281f58aae8bb5fca03d47351ba6488d7df463426662dff9b71cd0e4651\n",
      "->T(d) 236.1m/3.9h/0.16d, B: 0x17.. $41.5293(-1.5257500000000022) 0xf5c7e18d7175f6216dcd6d36be0fb4fe55694cc9c6d25a0c458b8bb19c36bd59\n",
      "->T(d) 239.3m/4.0h/0.17d, B: 0xcd.. $41.5293(-1.5257500000000022) 0x0bc6ea9d9d1051d215af55668911b1b54c33cc6a248edeb0e8f4025ae1ce9cba\n",
      "->T(d) 235.8m/3.9h/0.16d, B: 0xa2.. $42.09200000000001(-0.9630499999999884) 0xe2fd91a04e7c33319b754d3e4ac84837e35a9fb761d7b10ea88a9fce3ad59f46\n",
      "->T(d) 240.2m/4.0h/0.17d, B: 0x1e.. $42.09200000000001(-0.9630499999999884) 0x527aeb61877e4a081edf5a66ced2c9bf0d5c15c5f06eaf4e9b5140dc8ea5f0a2\n",
      "->T(d) 233.9m/3.9h/0.16d, B: 0x6e.. $42.09200000000001(-0.9630499999999884) 0xc36c3aa812ad60f1c951147ad0493a9dd4129788f17ed11adb18ea1301ca47d9\n",
      "->T(d) 241.0m/4.0h/0.17d, B: 0xcd.. $42.09200000000001(-0.9630499999999884) 0xfd389a372c4bcc2012a8097909417d0ea1cb6c0c02596c17c8be7faf72049b87\n",
      "->T(d) 234.1m/3.9h/0.16d, B: 0x73.. $42.09200000000001(-0.9630499999999884) 0x6b6ed1d868390a31c5f7061c5ec3ea93fd17a0890dbb83c47023ebe92b6a4b5e\n",
      "->T(d) 240.8m/4.0h/0.17d, B: 0x17.. $42.09200000000001(-0.9630499999999884) 0x7486f070206b5062ab3b7259b6d9f8f0c216df6ba7ebd4108a5e419f6004db3c\n",
      "->T(d) 234.1m/3.9h/0.16d, B: 0x8a.. $42.6037(-0.4513499999999979) 0x684f043ca7453e67228bda251df87a680ef0a53733c1862683077d07feb95a66\n",
      "->T(d) 242.6m/4.0h/0.17d, B: 0x6e.. $42.6037(-0.4513499999999979) 0x5b19ea6cc91cde3ffc1c07f467fd0cdd15b145f76a217a857288d77f491b3aab\n",
      "->T(d) 232.6m/3.9h/0.16d, B: 0x1e.. $42.6037(-0.4513499999999979) 0x7c89f5bb732a5bae0c6d2b23e7bdd5ca2c5b071bec7f535e1fea83be077f2667\n",
      "->T(d) 240.9m/4.0h/0.17d, B: 0xe7.. $42.6037(-0.4513499999999979) 0x8d284aeb53c14205edfa196afeaea615e7d7149f449d0c8895f43c29b376eca9\n",
      "->T(d) 234.7m/3.9h/0.16d, B: 0x83.. $42.6037(-0.4513499999999979) 0x5661e20769a98253f938e8ad5d709a8d3cec2a261e6ff98e31ffc677592c88ba\n",
      "->T(d) 241.9m/4.0h/0.17d, B: 0x17.. $42.6037(-0.4513499999999979) 0x953c8d140d27f156d9cab8221122b6cda2c19db0e9553477a1851f28ed416f47\n",
      "->T(d) 232.5m/3.9h/0.16d, B: 0x6a.. $43.1154(0.06034999999999968) 0xde86cd863cb950fe8d23eeab2f348cab4cb683d186cd614afd2998bb505fb636\n",
      "->T(d) 239.5m/4.0h/0.17d, B: 0x00.. $43.1154(0.06034999999999968) 0x738cd919f646df6fbe3b8bfb0876285317a38ce53833e253adb81106c4bf1be9\n",
      "->T(d) 234.8m/3.9h/0.16d, B: 0xcd.. $43.1154(0.06034999999999968) 0xe2a5d685011bfe59db6180d90c39f61775b794fbf52240bb2a568e2c3d050e40\n",
      "->T(d) 240.3m/4.0h/0.17d, B: 0x73.. $43.1154(0.06034999999999968) 0x13793a6209dbd0a549a36798b001343567299c4951e31d6a84b0878cd9f49169\n",
      "->T(d) 234.9m/3.9h/0.16d, B: 0xa2.. $43.1154(0.06034999999999968) 0x2862485176f0c040fc605f58e111d6dd4cff7722ecb78ae0c93e43cef6c97244\n",
      "->T(d) 317.1m/5.3h/0.22d, B: 0xba.. $43.1154(0.06034999999999968) 0x49685456e1d57ae98d50d55aa3cd6449b3f9fbe664b56a996e067d4630d4deb5\n",
      "->T(d) 158.6m/2.6h/0.11d, B: 0x00.. $45.66030000000001(2.605250000000005) 0xec6afa2e63cdb8bdca620ecaa3279f5b84ce8a5c1e99843693adfc44aac63122\n",
      "->T(d) 240.6m/4.0h/0.17d, B: 0xad.. $45.66030000000001(2.605250000000005) 0xadbd9783e585fb4189ef2d6a5cfbe148f3376fab22de13bf178f903db333406a\n",
      "->T(d) 234.0m/3.9h/0.16d, B: 0x6a.. $45.66030000000001(2.605250000000005) 0xe841f4fa9063f36ae98e11a1f04e16968c39ecb57045e31ac6f532d01f3b6916\n",
      "->T(d) 240.5m/4.0h/0.17d, B: 0xcd.. $45.66030000000001(2.605250000000005) 0x14c41fccf7b38d49b4a6630a486e431ffb39977a2c5ecc3c64b4c8be109e0294\n",
      "->T(d) 234.0m/3.9h/0.16d, B: 0x17.. $45.66030000000001(2.605250000000005) 0xe1c634337619cd9c738316aceefcf2cc3d88df22b536a631f3d5d0bf79e647e3\n",
      "->T(d) 240.6m/4.0h/0.17d, B: 0x46.. $45.66030000000001(2.605250000000005) 0x7fcb422dd22a6e0271bfbea8b18620082db9fa1683bc8b4debf3d66dd5d6aa51\n",
      "\n",
      "0x6a47b60c377450a460d3eb828d534ee66eead668\n",
      "   T(d) 0.0m/0.0h/0.00d, B: 0x6a.. $32.036415000000005(0.0) 0xef8eb047d7a7e630cc4c0ffff0d2e58121395c5f43592ece07b36c912448adcf\n",
      "->T(d) 237.5m/4.0h/0.16d, B: 0x46.. $32.036415000000005(0.0) 0x6a38ac559ee10243b3c0c81183585d89e89142b00932e9e9cda221f895858cb9\n",
      "->T(d) 236.7m/3.9h/0.16d, B: 0x8a.. $32.036415000000005(0.0) 0xa45f5051839267d898166d1d6f6dc043031bd59961da388747763fe203e66b54\n",
      "->T(d) 238.9m/4.0h/0.17d, B: 0x73.. $32.036415000000005(0.0) 0xaeb14bc2f04df68ebb1df7e83144bf6c5470e033fb2ffd790a6384c7729fe47d\n",
      "->T(d) 234.3m/3.9h/0.16d, B: 0x68.. $32.036415000000005(0.0) 0x7deefa12f88cb4d5081ea67381677a98b276fe19b93af2fb22c9c0515752cde2\n",
      "->T(d) 240.3m/4.0h/0.17d, B: 0x1e.. $32.036415000000005(0.0) 0x781b9a8313291c22499fd0c3ad9cc6ae789c0fa92b33cd77868324ce1c1dba52\n",
      "->T(d) 236.6m/3.9h/0.16d, B: 0x87.. $31.91487(-0.12154500000000468) 0x98f55fe1a61e34da6706bde776f29eafbaddd1d72e59591342a82a55bc11532d\n",
      "->T(d) 241.7m/4.0h/0.17d, B: 0x17.. $31.91487(-0.12154500000000468) 0x4dbf4b01572a24fdcbb001004c89fc3934209430f7397be791095186c5b28f4e\n",
      "->T(d) 233.6m/3.9h/0.16d, B: 0x8a.. $31.91487(-0.12154500000000468) 0x2c838435bc381811e07f0859145aca0de7b20fb627e139ae6fcd9ec3c5afca6a\n",
      "->T(d) 237.6m/4.0h/0.16d, B: 0x00.. $31.91487(-0.12154500000000468) 0xac43e460369ca8d73fde044dee6ba63b894bbe47492a9e5cd24d65edbd634c2a\n",
      "->T(d) 235.4m/3.9h/0.16d, B: 0xa2.. $31.91487(-0.12154500000000468) 0x69ed04234b594f37852ef8b93530b6ff9c2e6e754595deffb8aba412b518e101\n",
      "->T(d) 243.7m/4.1h/0.17d, B: 0x83.. $31.91487(-0.12154500000000468) 0x3251e0a943e434121b2c818a15b8b7d9e3d24bc807838526dedd0b82d8d869f9\n",
      "->T(d) 232.7m/3.9h/0.16d, B: 0xa2.. $32.28717(0.25075499999999806) 0xbcf280f23e482e9ced5972916380736ac566a956c8aecc2fd12a0b28666df2f0\n",
      "->T(d) 239.1m/4.0h/0.17d, B: 0x17.. $32.28717(0.25075499999999806) 0xe8c15f13535cc8fbafa97a2273f1174a079eb25f6560492c9b453e0ba8bc919f\n",
      "->T(d) 233.9m/3.9h/0.16d, B: 0x6a.. $32.28717(0.25075499999999806) 0x133c9d8c1b061faad3f0043ace06f0d6a891f2ba2764137ae5ca09a4f12772c2\n",
      "\n",
      "0x87b77fabfeb869150b8e1b9462603f9a639c5fae\n",
      "   T(d) 0.0m/0.0h/0.00d, B: 0x87.. $41.7249(0.0) 0x71adb3934a20dba6116f2b661baaf6486c785435977d8e5881e03a4c122a47e1\n",
      "->T(d) 235.9m/3.9h/0.16d, B: 0x1c.. $41.7249(0.0) 0x58b259d0f50f411aeb5a3a128c10fd2cbb2ca89273858c1cefcce22d1979c311\n",
      "->T(d) 241.2m/4.0h/0.17d, B: 0x00.. $41.7249(0.0) 0xc565b97267ef4ffdddafe24c3a02906ab7a44758e48560dd5910f3a260d369a5\n",
      "->T(d) 233.0m/3.9h/0.16d, B: 0x73.. $41.7249(0.0) 0x27f1d08ef8f75a98d01b01716989f0ad4ba29f650f9a693e60cd0a6918e5678f\n",
      "->T(d) 240.4m/4.0h/0.17d, B: 0x46.. $41.7249(0.0) 0xb896013d1753179043713c64ed3330bd21fbc5f94e0b034741c1ca08fc247ca3\n",
      "->T(d) 234.6m/3.9h/0.16d, B: 0x23.. $41.7249(0.0) 0xfb7fd2ad37f179df7a305b8345c23b7db31f0aa7bd3688d577f77b5a114e490c\n",
      "->T(d) 241.6m/4.0h/0.17d, B: 0x00.. $43.06330000000001(1.3384000000000142) 0x211ac8515b500065ef8c8bb40d87978910bf482b0a477ba633cdb88fa9b63646\n",
      "->T(d) 233.5m/3.9h/0.16d, B: 0x17.. $43.06330000000001(1.3384000000000142) 0x7f714da39ef212f55bf815fd32a77eb939622e56f4cbc8404f97661c91f5c4c3\n",
      "->T(d) 239.9m/4.0h/0.17d, B: 0xe7.. $43.06330000000001(1.3384000000000142) 0x4dfe3bd5137bc36b96b1e773e89dc219f08e0d6bcddc122d60eccc5d259c5d8d\n",
      "->T(d) 235.4m/3.9h/0.16d, B: 0x8a.. $43.06330000000001(1.3384000000000142) 0xdb7f3eeb11b4f09b8f6f007a9e401d319087997c0b83fb28393901a1ec6ae92c\n",
      "->T(d) 239.6m/4.0h/0.17d, B: 0x87.. $43.06330000000001(1.3384000000000142) 0x07e65ef171c275220631f67a9e03b1cf26af85c7667dcfe717f6254b06ac0c18\n",
      "\n",
      "0x236ef21dc36d0aec3990dd5ee84a9d5320644262\n",
      "   T(d) 0.0m/0.0h/0.00d, B: 0x23.. $35.27971500000001(0.0) 0xbceb184af0293373ab8329e0378f4c27687b25f9c67cb2b67d7ad04c986bee66\n",
      "->T(d) 240.4m/4.0h/0.17d, B: 0x1c.. $35.747365(0.4676499999999919) 0x4dd1d020f2738d6a22b241778c326eff2808873063b1d1c59debf04add41194c\n",
      "->T(d) 234.7m/3.9h/0.16d, B: 0x23.. $35.747365(0.4676499999999919) 0xf1faa1d76edf80c63985009206e9c024b05b5cbd502fe879a95429cce9ded9d0\n",
      "\n",
      "0x838c14eb3eabe4cb6a696d286c7b2a466629d0ee\n",
      "   T(d) 0.0m/0.0h/0.00d, B: 0x83.. $9.2964(0.0) 0x2baa8766750accece97de7f6d0f5107827449d355b8158c5e39450d75f8e583b\n",
      "->T(d) 239.9m/4.0h/0.17d, B: 0x00.. $9.2964(0.0) 0x9546fb8bd11aaf64e49b091f26072e48f78a649efcabb4445774df6ccf538380\n",
      "->T(d) 234.8m/3.9h/0.16d, B: 0xe7.. $9.2964(0.0) 0xc0de7126514d028775fa2a9040ec921c4236dbf40b313e3574e4719a3ce72d60\n",
      "->T(d) 240.8m/4.0h/0.17d, B: 0x17.. $9.2964(0.0) 0xb62325da09923baf40fd17986f94b368a2c776c3a80d92c482c4326617fe3ee2\n",
      "->T(d) 234.7m/3.9h/0.16d, B: 0x6e.. $9.2964(0.0) 0x8f8ad4ca567d77387ec131ca3cefa65568744dc4550e5e9dd7fad1d21658f4fb\n",
      "->T(d) 239.6m/4.0h/0.17d, B: 0xad.. $9.2964(0.0) 0xd739a031cb6d7861fad791e46fdc959da42329e86f2e8ffb8481fbac61d2253b\n",
      "->T(d) 235.2m/3.9h/0.16d, B: 0x68.. $9.6408(0.34440000000000026) 0x5f515b3ebced28948c3a5c1367e7f7de6287e54d664c243b8378ac973a990904\n",
      "->T(d) 273.7m/4.6h/0.19d, B: 0x23.. $9.6408(0.34440000000000026) 0xd3e10e0e73763cd14cdf7e329c88e04c2194560dc169760dc85dfc8596bbe8b5\n",
      "->T(d) 202.3m/3.4h/0.14d, B: 0xa2.. $9.6408(0.34440000000000026) 0x7f68aded7bdb545abdb63f99269af8bb3155f4544fb385c62a158d1eaacced01\n",
      "->T(d) 239.1m/4.0h/0.17d, B: 0x1c.. $9.6408(0.34440000000000026) 0xf6ac9872e55bc92a3b78f4eb90933fb662f08fc4bd4fc886fba3df54cb9ccdd8\n",
      "->T(d) 248.0m/4.1h/0.17d, B: 0x23.. $9.6408(0.34440000000000026) 0xd6f785f87a75cce484a8be0a31d836062852497bb642b2e7d38d75e492fc8218\n",
      "->T(d) 227.8m/3.8h/0.16d, B: 0xe7.. $9.6408(0.34440000000000026) 0x9d344c7fdba970e9d9949dad63a82cbc1122e81f2dc304df0c80ffb48b261ffd\n",
      "->T(d) 234.3m/3.9h/0.16d, B: 0x73.. $9.7416(0.4451999999999998) 0x49b29c58718ec0f4771c349ca719859b128671c2ab533db027dc8fec716de20a\n",
      "->T(d) 240.5m/4.0h/0.17d, B: 0x00.. $9.7416(0.4451999999999998) 0xf8d76c08440ec8654412a08ccd3a9c9036253446bb58729a75a9214913011e9c\n",
      "->T(d) 234.5m/3.9h/0.16d, B: 0x8a.. $9.7416(0.4451999999999998) 0x54fbecf7eddce2e879ec3aab6cfef215edd0cc6c3a5a74b0b85545245b383436\n",
      "->T(d) 240.0m/4.0h/0.17d, B: 0x23.. $9.7416(0.4451999999999998) 0xede55358637ec79b53b520eb301effadc6ff294515c0ff9ab6ab32b80187e7e3\n",
      "->T(d) 234.7m/3.9h/0.16d, B: 0x17.. $9.7416(0.4451999999999998) 0xb2c8a2a4d662e08e946da4df7799fc8c218dfa0855a17f200268537fe0d5c35b\n",
      "->T(d) 240.1m/4.0h/0.17d, B: 0x1e.. $9.7416(0.4451999999999998) 0xc6893bc4f84c9ef271cf44695b400b98be3e628d349921d5c5e4ab179700eb08\n",
      "->T(d) 234.8m/3.9h/0.16d, B: 0xe7.. $9.7464(0.4499999999999993) 0xa271e79533a3c12aba3efcffc3538b0e67d8b04b23d90f8ff88e69c575eeef5d\n",
      "->T(d) 241.0m/4.0h/0.17d, B: 0x8a.. $9.7464(0.4499999999999993) 0x1ed2166eb60b8f8141b6bf1960b08486864f2e1da79b428583c52e6102f03470\n",
      "->T(d) 234.2m/3.9h/0.16d, B: 0xa2.. $9.7464(0.4499999999999993) 0xad373667f2b7ee64146b8d4635e9d0dea7792710a843a327d6f4d05edf721da7\n",
      "->T(d) 244.6m/4.1h/0.17d, B: 0xad.. $9.7464(0.4499999999999993) 0xfa330e5b9e202bc2d3ff5c308efa0e4842ed3e02f374e5e2edfc44c333a8d9c4\n",
      "->T(d) 229.9m/3.8h/0.16d, B: 0x6e.. $9.7464(0.4499999999999993) 0xd7fabfb83f2e334645c45550e989ee315abbb15cf97e15781f56932832fcf0dc\n",
      "->T(d) 240.3m/4.0h/0.17d, B: 0x73.. $9.7464(0.4499999999999993) 0x326e97f9015afb273398d689a66c22a1b6f7df58339e0c576950cc29f23f992e\n",
      "->T(d) 236.0m/3.9h/0.16d, B: 0x1c.. $9.9693(0.6729000000000003) 0x3d95b604c44012cd8bda742c15bf9ab2111ad221c59fe4609926e72967e6708d\n",
      "->T(d) 239.1m/4.0h/0.17d, B: 0x8a.. $9.9693(0.6729000000000003) 0xffae27037a5733ca5e1ad5a7ad374cdee11eb8ac05f43ce8d0a45506c0390270\n",
      "->T(d) 235.7m/3.9h/0.16d, B: 0x73.. $9.9693(0.6729000000000003) 0xa16cdf4641b95a612a7b7fc0a8cbaf6e33a3fda7f0762e629e697bcd2bd6c605\n",
      "->T(d) 239.3m/4.0h/0.17d, B: 0xba.. $9.9693(0.6729000000000003) 0xecc70cfe6d448b73ed6736dde27bcf26e86b9b8be4160ca42702ab0ff3a4046b\n",
      "->T(d) 237.3m/4.0h/0.16d, B: 0x6a.. $9.9693(0.6729000000000003) 0xa03aa459d60280163d19d7c3d764edb0a2b7cf7112d6d87dd2f2076577d1decc\n",
      "->T(d) 237.6m/4.0h/0.17d, B: 0xcd.. $9.9693(0.6729000000000003) 0x9aa8ecb33b960b97e55afd3e478aa5cc7f56e104d3f575706977b4bc51160289\n",
      "->T(d) 234.7m/3.9h/0.16d, B: 0x87.. $10.0215(0.7250999999999994) 0x92b29d93f9438043445756036dbebb885e30a12960cad45db8e0011ae65a831f\n",
      "->T(d) 240.3m/4.0h/0.17d, B: 0xf5.. $10.0215(0.7250999999999994) 0x65c8fbc8733a225ff97d7de146db4cbaf0f06e2d6fdc4df8313e7065eb98d2d0\n",
      "->T(d) 236.1m/3.9h/0.16d, B: 0xcd.. $10.0215(0.7250999999999994) 0xd1c384de1ad6b3ee2c2a4614d35dda60ed93a2872d33202dc3c1c1cadcebd702\n",
      "->T(d) 239.0m/4.0h/0.17d, B: 0xba.. $10.0215(0.7250999999999994) 0xcbc9f7fb945e64e7eccfd5c0dff17303ae6998c6b78c2fbcbea77d322b609804\n",
      "->T(d) 236.2m/3.9h/0.16d, B: 0xf5.. $10.0215(0.7250999999999994) 0x2b410c8be40db2869e62088558844da96258e7ca354a9b708898b824102301ec\n",
      "->T(d) 238.7m/4.0h/0.17d, B: 0x23.. $10.0215(0.7250999999999994) 0xa513a7b79bb1e217e2419f5e3fceafa6d001b9925e7497779cd5636980d0afed\n",
      "->T(d) 235.8m/3.9h/0.16d, B: 0xba.. $9.7863(0.48990000000000045) 0xffa9d4462ecbe9943f3a3f6974b7bb5df6e88b27c4df665e9e0317bb3c52fe08\n",
      "->T(d) 240.3m/4.0h/0.17d, B: 0x6e.. $9.7863(0.48990000000000045) 0x39b6bb3c12068a548a5866c25d426201329e02ebd454e5ae54095ea33ac3e37d\n",
      "->T(d) 234.9m/3.9h/0.16d, B: 0x23.. $9.7863(0.48990000000000045) 0xdedc1a3e3da1f435791960ca127151b02574fa2262c1c943593f32a1aa83489c\n",
      "->T(d) 238.9m/4.0h/0.17d, B: 0x1c.. $9.7863(0.48990000000000045) 0xfa4687e7b1055525ec015440b7b38ba82bc8ea438b92934d3df4355344eccaf3\n",
      "->T(d) 235.0m/3.9h/0.16d, B: 0x6e.. $9.7863(0.48990000000000045) 0x28b9e3fcc69f269aff5f7e683d7b7cea9342fa0a84ae147939453697107a44be\n",
      "->T(d) 240.5m/4.0h/0.17d, B: 0x73.. $9.7863(0.48990000000000045) 0xd3b01db4a22c74d4bdc21443618a553689af57c3eb5e653f38789cc39068dabd\n",
      "->T(d) 234.5m/3.9h/0.16d, B: 0x1c.. $10.1517(0.8552999999999997) 0xab4e7514e0cad2f04ec5302955925b20fcc80527a39b1001abed12467ac289d0\n",
      "->T(d) 239.7m/4.0h/0.17d, B: 0x17.. $10.1517(0.8552999999999997) 0xa49fd29b1f5bfd1f60a9434fd3d8b0f9bd93eff53d7b8ba0e918e2fc8f224f83\n",
      "->T(d) 236.4m/3.9h/0.16d, B: 0x73.. $10.1517(0.8552999999999997) 0xf079249a977663db05e62de3e2ef671dd5b6c19f23492f5d11ef3650012cb220\n",
      "->T(d) 242.7m/4.0h/0.17d, B: 0x6a.. $10.1517(0.8552999999999997) 0x2092df433ab3002f1e8bac54914e30a8f7cfcb9bfc61ce5b991f6b4775e847f2\n",
      "->T(d) 233.8m/3.9h/0.16d, B: 0x17.. $10.1517(0.8552999999999997) 0xd79f7ee963187c8ad555402e66de4aaf0962f18e92b6b0cd2f60298b35b9137d\n",
      "->T(d) 240.0m/4.0h/0.17d, B: 0x23.. $10.1517(0.8552999999999997) 0x326286babe06d4665ffb067532e664cdb93289bb1a4f89bfa7d3191fb37848f5\n",
      "->T(d) 233.0m/3.9h/0.16d, B: 0xa3.. $10.5171(1.220699999999999) 0x2d4c519a880a4836b327a2e72c9b1d882b408726c24cd9fd8eb15e33191c86a3\n",
      "->T(d) 239.4m/4.0h/0.17d, B: 0x1e.. $10.5171(1.220699999999999) 0x2476a69b32a69d0afa256a16d1dc21824436354c7c79cd501b3011b76779c4ef\n",
      "->T(d) 235.0m/3.9h/0.16d, B: 0x73.. $10.5171(1.220699999999999) 0xf0645ff1f6e3eed5b805ae86f8fce1d63a11fbaf6a0091d91e991c3c8eb4abdd\n",
      "->T(d) 241.4m/4.0h/0.17d, B: 0xba.. $10.5171(1.220699999999999) 0x213bd610b38c069dae021baa9314766ff7d66906884dc638e84767515b57af3a\n",
      "->T(d) 234.2m/3.9h/0.16d, B: 0x87.. $10.5171(1.220699999999999) 0x26316b75b90dc9cc9705dc2de96d7953492661691686eab0f405e91c6e3d4679\n",
      "->T(d) 239.5m/4.0h/0.17d, B: 0xba.. $10.5171(1.220699999999999) 0x2dd9a0671c3036206d7ea507061725211618b289b5dcadfba085f9a527a44047\n",
      "->T(d) 235.3m/3.9h/0.16d, B: 0xa2.. $10.3494(1.052999999999999) 0xebfbb3dc409206106dc5222a326d7dddb7275594da5ff91d637b426a048df9b5\n",
      "->T(d) 239.2m/4.0h/0.17d, B: 0xad.. $10.3494(1.052999999999999) 0x641698017d06e3ad217437c51f8eaadff2ee45d1b46e647ea5517cd349d8ce78\n",
      "->T(d) 235.0m/3.9h/0.16d, B: 0x6e.. $10.3494(1.052999999999999) 0x334c84e91a1903815692c4554528fd8e1363143ad9a8f08f7cf0385b57cc6d74\n",
      "->T(d) 240.1m/4.0h/0.17d, B: 0x8a.. $10.3494(1.052999999999999) 0x01247ccb317a80855278dcdc5c3537a5072d4a7a6140d2c317c261fc7bfecb0b\n",
      "->T(d) 236.1m/3.9h/0.16d, B: 0x6e.. $10.3494(1.052999999999999) 0x01846b482c2557de84a069468c7bed8cc5640fe6d2aaa1c40b42c2b219ecfd1b\n",
      "->T(d) 239.2m/4.0h/0.17d, B: 0x68.. $10.3494(1.052999999999999) 0xb2e0029ede8239175a61094eaae3ec6513aa2e4760ecfa28ce06ee756b75b5f8\n",
      "->T(d) 234.4m/3.9h/0.16d, B: 0x17.. $10.3374(1.0410000000000004) 0xadb28bb1bae8d2b76125b44c9ed15b6d43ff2398154386228cbd8d560e36217c\n",
      "->T(d) 241.0m/4.0h/0.17d, B: 0x68.. $10.3374(1.0410000000000004) 0x0dcb2ba42cf1656761e3b9e4827190d9440b54c4f3212fe94f49a176f7e7b16d\n",
      "->T(d) 234.8m/3.9h/0.16d, B: 0xa2.. $10.3374(1.0410000000000004) 0xc99839de6d2eb7e2fe59bb0007cb01454978af678bfa9565d3d01c54df381424\n",
      "->T(d) 244.1m/4.1h/0.17d, B: 0xa3.. $10.3374(1.0410000000000004) 0x7bbb188248a32fc07250f53b2afb6aef9c89e99c20454b6ab0e88f05c220e1e5\n",
      "->T(d) 230.7m/3.8h/0.16d, B: 0xa2.. $10.3374(1.0410000000000004) 0xa6c6235b212dc305415c85ccea5b2e979565640f365ef057f2e25915e832533a\n",
      "->T(d) 240.2m/4.0h/0.17d, B: 0x23.. $10.3374(1.0410000000000004) 0x6f9c9b19efbeeee2c79d9a6a10886b68690f73cf41fcf6c9c115025f266ae8e9\n",
      "->T(d) 236.3m/3.9h/0.16d, B: 0x6a.. $10.5063(1.2098999999999993) 0xdd9e67f253e155b2dc429c00cb0178c8138774aa41457a056c9c2f64513a4a5c\n",
      "->T(d) 238.6m/4.0h/0.17d, B: 0x87.. $10.5063(1.2098999999999993) 0xe59096f3d6e3d438ec084c7587693df67663b275c6d56bb6b45246c744eb32f2\n",
      "->T(d) 234.6m/3.9h/0.16d, B: 0x6a.. $10.5063(1.2098999999999993) 0x2ae70132c96b8cf5574ce5a069064deb7367e4786740a5cf3c11501f4793be19\n",
      "->T(d) 5940.9m/99.0h/4.13d, B: 0xad.. $12.5928(3.2964) 0x7b59226da0f0a20edf98b0231378e565ce7109d034100efb8ff44744167516d5\n",
      "->T(d) 234.4m/3.9h/0.16d, B: 0xa2.. $12.5928(3.2964) 0x0618fcafa989bc01eb00aedd78278d2d1c1bef3cf664cfd698167c88778a0cd2\n",
      "->T(d) 241.1m/4.0h/0.17d, B: 0x46.. $12.5928(3.2964) 0x3f84ff27e22f31e022778a3b125036dd7f2a8556060f58b4023f9f2c09a737aa\n",
      "->T(d) 233.9m/3.9h/0.16d, B: 0xa3.. $12.5928(3.2964) 0x8bd06b386789d424398b2488a5f7b229d8c8521794e25eeceef594f1eb197ae0\n",
      "->T(d) 239.7m/4.0h/0.17d, B: 0x1c.. $14.1759(4.8795) 0x645a3b34dac030eb08180da2da648e67130ee5e7c63d130bfc484dd451deb973\n",
      "->T(d) 250.9m/4.2h/0.17d, B: 0x8a.. $14.1759(4.8795) 0xeba2304262542c408386229e3247de886a86820411bacef6edefb92618de74c0\n",
      "->T(d) 417.3m/7.0h/0.29d, B: 0xe7.. $14.1759(4.8795) 0xcfb37a903a40e1c7d84f57f86187ecef484aa8cdea609aaf1533bc537d2e848b\n",
      "->T(d) 47.7m/0.8h/0.03d, B: 0xa3.. $14.1759(4.8795) 0x358e63ff3f4346420d1b96e71357022a67378e8770b0213950161936d1af5595\n",
      "->T(d) 235.9m/3.9h/0.16d, B: 0x68.. $14.1759(4.8795) 0x2d7a45e9fe26158236cf6f59e692c1b23787c5e501d32f883ef5f18c001ca0ed\n",
      "->T(d) 232.9m/3.9h/0.16d, B: 0x00.. $14.1759(4.8795) 0xbcb222ba84c9460e489378c930fdf6d3f70dcb52b9fcb64c7bb1d8e99a34e4d1\n",
      "->T(d) 257.4m/4.3h/0.18d, B: 0xa2.. $15.356699999999998(6.060299999999998) 0xe73535590aee1f0b4b66bf4f40805968b5affebe6b35e98a019a0618842cf431\n",
      "->T(d) 218.2m/3.6h/0.15d, B: 0x68.. $15.356699999999998(6.060299999999998) 0x2c339a654bec9042159a5a517e74cd62e8fe610ecfb51ca11fd80dbbfdf8668c\n",
      "->T(d) 7599.7m/126.7h/5.28d, B: 0xe7.. $15.324599999999998(6.028199999999998) 0xe6f784baa3983e97e1270c53fd2e7a9ecd724516cae331c8aabcd5de65465694\n",
      "->T(d) 240.5m/4.0h/0.17d, B: 0x17.. $15.324599999999998(6.028199999999998) 0x2deb230282663d040b277838720f9936bc070d09808b5d4025add0dbe3d505a4\n",
      "->T(d) 234.9m/3.9h/0.16d, B: 0x8a.. $15.324599999999998(6.028199999999998) 0x8faf8192c1b8ff9f2f4cf2f31011e7c6f68893305996eeaac35eb9967a4a23be\n",
      "->T(d) 240.1m/4.0h/0.17d, B: 0x73.. $14.6574(5.361000000000001) 0x1d4a6c408312e298b2b02a6eb2c5f98da34a11cbd36de9dcbb33ce24989859d7\n",
      "->T(d) 235.2m/3.9h/0.16d, B: 0xa2.. $14.6574(5.361000000000001) 0x459835dcae0628d3dd580c566a91e5fc804c9e5b8164772e51ed3863450fa2cd\n",
      "->T(d) 239.7m/4.0h/0.17d, B: 0x00.. $14.6574(5.361000000000001) 0x748fcbdc881e09aa437e21106dd044c94a42f2d3ad486a30c7efda302f55b3d1\n",
      "->T(d) 239.2m/4.0h/0.17d, B: 0xad.. $14.6574(5.361000000000001) 0xeef92627d6ca1c31664bc305976e546018230a704ffcd947a54d0773dc8f32ff\n",
      "->T(d) 237.3m/4.0h/0.16d, B: 0x23.. $14.6574(5.361000000000001) 0x8a8c73b977680b0e577e06469b3afcf473d14c75392e3a925ed5ffac20e2b752\n",
      "->T(d) 233.8m/3.9h/0.16d, B: 0xa2.. $14.6574(5.361000000000001) 0x2d9d805c4970b2f5b2af20176e935f074e71dc7f045e8c7b48defc45e6c5a3e7\n",
      "->T(d) 240.1m/4.0h/0.17d, B: 0x6a.. $14.856000000000002(5.559600000000001) 0x4362fc5412bb711af7e6801f2c1435280bb021fc78601b444250b3bf3b936205\n",
      "->T(d) 234.4m/3.9h/0.16d, B: 0x8a.. $14.856000000000002(5.559600000000001) 0x603b837fb00c1a3256591e3c509213397033cbcc37d426fdf98e11e190c5185e\n",
      "->T(d) 242.0m/4.0h/0.17d, B: 0x87.. $14.856000000000002(5.559600000000001) 0xff83ba07f27806c19a6593cda5ae707fd1cc2bcd5be23ed1e615b67db2b3ab36\n",
      "->T(d) 232.9m/3.9h/0.16d, B: 0xa3.. $14.856000000000002(5.559600000000001) 0xd7634d4bfd985a77a513b7becde9a44ad4e2b3d1e90ed2307d5ef2ac99772755\n",
      "->T(d) 240.2m/4.0h/0.17d, B: 0xa2.. $14.856000000000002(5.559600000000001) 0x7d21da27981fe97a6c0db3bd7efbc0ef2a5bb311f4b26110287ab0e36cd87075\n",
      "->T(d) 254.6m/4.2h/0.18d, B: 0xad.. $14.856000000000002(5.559600000000001) 0xa2df8df6f9a13266dea8c0f241458c878a04c71dc4513d2f0c6987dab744a82f\n",
      "->T(d) 220.9m/3.7h/0.15d, B: 0x83.. $15.0366(5.7402) 0xcc77b2ab178b31f5640b4d93862c062dd66d15f408e99af0996150e9532c2b09\n",
      "\n",
      "0x00c9da65b33b4f7034b5f50b90f5f6d8320d6ab8\n",
      "   T(d) 0.0m/0.0h/0.00d, B: 0x00.. $13.480830000000005(0.0) 0x529f5c6fa32dd03ec40c44441512bac083e7324e7c888eae887c0083bdefaa87\n",
      "->T(d) 240.0m/4.0h/0.17d, B: 0x87.. $13.480830000000005(0.0) 0x70e33ce8c0df2201668e3c3ed76f9c3cc8dcbfb293e1fe4f461edfece57dc643\n",
      "->T(d) 235.5m/3.9h/0.16d, B: 0xe7.. $13.480830000000005(0.0) 0xdde6dc64f0454a02d30081adf1582755e0ff778bb643bf9f0d55e317e4bfe0ca\n",
      "->T(d) 241.8m/4.0h/0.17d, B: 0xba.. $13.480830000000005(0.0) 0xd1c43c2a454b85e3f4b517c85af28a7f9bbdb921a5a1afc329e71fcda8f7f6a6\n",
      "->T(d) 232.2m/3.9h/0.16d, B: 0xa2.. $13.480830000000005(0.0) 0x4bc676de1ad7e61faa12790d1ae1427f1a17e0e9016b8ddafa2c48d7e5bd42a9\n",
      "->T(d) 241.0m/4.0h/0.17d, B: 0x17.. $13.480830000000005(0.0) 0x8db44d262e6ae4230770d67dee3c3abea23d5b93147b3e88be63ef6b0961b592\n",
      "->T(d) 234.0m/3.9h/0.16d, B: 0xad.. $13.587750000000003(0.1069199999999988) 0x30d21e0f4b2f130acd32fe58489e643561cbbcd3033c48da297c4ad4c5fe3226\n",
      "->T(d) 243.8m/4.1h/0.17d, B: 0x6e.. $13.587750000000003(0.1069199999999988) 0xb26d349e7345abb1bb10e1f5760bcb759c953b12bf703c681335fcaa51af43cd\n",
      "->T(d) 231.0m/3.8h/0.16d, B: 0x87.. $13.587750000000003(0.1069199999999988) 0x3c742e3f490acba429019ec4ccf597a608b7f2fc7a1f4c7fe029041de45d7544\n",
      "->T(d) 240.7m/4.0h/0.17d, B: 0xcd.. $13.587750000000003(0.1069199999999988) 0x382d061b618ecb047eba4ada993235f5aa96eb20c6fe6a6a8b982820db0a0729\n",
      "->T(d) 235.0m/3.9h/0.16d, B: 0xe7.. $13.587750000000003(0.1069199999999988) 0x9210635be7b80bc52087f8e078107a11b5e095fa3193fb040dec9387f2c06c05\n",
      "->T(d) 239.5m/4.0h/0.17d, B: 0x83.. $13.587750000000003(0.1069199999999988) 0x553b6498a06be83d706dd50e699616e47473b78aca20fcb4cd86faca57261b11\n",
      "->T(d) 235.8m/3.9h/0.16d, B: 0x1c.. $13.483800000000002(0.0029699999999976967) 0x1eb4853da9c09222b319c754ba1b2e36291896a3c2576dd55ab36ed0791e9bf6\n",
      "->T(d) 240.6m/4.0h/0.17d, B: 0xe7.. $13.483800000000002(0.0029699999999976967) 0x453abd7f2367ed58e7232612bc341721ab9fd22493deaff0314959109d7036c3\n",
      "->T(d) 233.8m/3.9h/0.16d, B: 0xad.. $13.483800000000002(0.0029699999999976967) 0x18aeee1de7ef72679e69522e53ec3b1aec7b987f93a2ed941e333214028bf4a3\n",
      "->T(d) 241.2m/4.0h/0.17d, B: 0xba.. $13.483800000000002(0.0029699999999976967) 0x15c6f252d2849edd0fa4054f665358e111b6c7c69fdebbdbe856365aeeae1782\n",
      "->T(d) 234.5m/3.9h/0.16d, B: 0x87.. $13.483800000000002(0.0029699999999976967) 0x989504c3a95191a1ca1e6e04eadc5c62c64218732d95f6bd3e1f5b0a16f94d92\n",
      "->T(d) 239.1m/4.0h/0.17d, B: 0x6a.. $13.483800000000002(0.0029699999999976967) 0x4882039ee5c948463d538abbad1d80c79a7ebc0dc22aa430dbf6c52ffacd83b7\n",
      "->T(d) 235.8m/3.9h/0.16d, B: 0x8a.. $13.192740000000002(-0.2880900000000022) 0x2a5ef7ffa8c2c1f97b84ce76f6d7ef36d7e801d353747151d395b24cbb45dd38\n",
      "->T(d) 241.7m/4.0h/0.17d, B: 0xad.. $13.192740000000002(-0.2880900000000022) 0x5ba3d4eb8311a67bbfd5ea6f29095bbe5b8ea50eece8423d8790efcaecf6dc5e\n",
      "->T(d) 233.9m/3.9h/0.16d, B: 0x6e.. $13.192740000000002(-0.2880900000000022) 0xc37a492d9678e91df2a91f8df463c6c2fe77b103b989a894c111e086a2eb279e\n",
      "->T(d) 239.7m/4.0h/0.17d, B: 0x1c.. $13.192740000000002(-0.2880900000000022) 0xa590ce40f73c5518c9d81c30345260c69aec39a916938d193cae534a59a05e42\n",
      "->T(d) 233.7m/3.9h/0.16d, B: 0xe7.. $13.192740000000002(-0.2880900000000022) 0x99cbf84c458179aa8d98d106d31d9f7a48aa261602906248f41053242481ab7f\n",
      "->T(d) 240.2m/4.0h/0.17d, B: 0x87.. $13.192740000000002(-0.2880900000000022) 0xb580cfe65b9d057b937be9de332219234be07246a092bd2a4b73986fd57bbad8\n",
      "->T(d) 235.8m/3.9h/0.16d, B: 0xf5.. $13.269465000000002(-0.21136500000000247) 0x16414a5f644f878f7900c0fd85a556578ccf3c0ebcbbfec8e5581a68da8be079\n",
      "->T(d) 238.9m/4.0h/0.17d, B: 0x73.. $13.269465000000002(-0.21136500000000247) 0xff815d5a9d5aa60286a76b19accf4f3578d00e61ab66b314bca3c05f6547607f\n",
      "->T(d) 235.3m/3.9h/0.16d, B: 0x46.. $13.269465000000002(-0.21136500000000247) 0xd9b929af5ed47e709420823801a6248ca8f41dcf9ec4896f0d9672217c4adbe7\n",
      "->T(d) 240.8m/4.0h/0.17d, B: 0x17.. $13.269465000000002(-0.21136500000000247) 0x3bc05c355a7f9680a1ac7b6c1d6e4a6a655146baf3da4172dfcac92e4e9d7281\n",
      "->T(d) 234.0m/3.9h/0.16d, B: 0x1e.. $13.269465000000002(-0.21136500000000247) 0x1fac912454c3df3acedb29fec990eeebbe50f8f308583d17b7fd835d9894e1d4\n",
      "->T(d) 241.6m/4.0h/0.17d, B: 0xcd.. $13.269465000000002(-0.21136500000000247) 0x45a4f82f2aa30951e52236f3c9bd4624ec30737a7fdd9051f1043e06002d174c\n",
      "->T(d) 252.6m/4.2h/0.18d, B: 0x8a.. $13.730805000000002(0.2499749999999974) 0x9e805e561bee70cb99e0797a504529128ba3481e208df92b50d4b482041cf9a9\n",
      "->T(d) 228.4m/3.8h/0.16d, B: 0x73.. $13.730805000000002(0.2499749999999974) 0x3e769ece2b89e8b1bc097db93b22d5b2b5d1e303c999efa2f9786f95f01066a2\n",
      "->T(d) 229.5m/3.8h/0.16d, B: 0x1c.. $13.730805000000002(0.2499749999999974) 0x46db0ace03cb6bb701a939ff613b437b148c7ace4781053e6b5487ec301e4b71\n",
      "->T(d) 238.5m/4.0h/0.17d, B: 0xa2.. $13.730805000000002(0.2499749999999974) 0x244a096b58c1b78464d366a621a7902543e631d5f5f10a885126652c31c66438\n",
      "->T(d) 234.7m/3.9h/0.16d, B: 0x17.. $13.730805000000002(0.2499749999999974) 0x2ca0b25e4eae466453b36cacedddafe0e5d997f0f897b947fdc417148e28bb58\n",
      "->T(d) 240.1m/4.0h/0.17d, B: 0x6e.. $13.730805000000002(0.2499749999999974) 0x4eb7798d407db08530d7c1328287daf7c19318f660e1586e46a6e0f47d36b537\n",
      "->T(d) 239.9m/4.0h/0.17d, B: 0xcd.. $13.716450000000004(0.23561999999999905) 0x2d7bee39a2bb1fcd65fbc05d568bb7e49c3c697a17525c18f1c672e1d46bf41b\n",
      "->T(d) 236.4m/3.9h/0.16d, B: 0xf5.. $13.716450000000004(0.23561999999999905) 0x3e82fe78f3a4372edb74f7276e3716817fc897b4b75f258a8736eb90ebca30d2\n",
      "->T(d) 234.1m/3.9h/0.16d, B: 0x1c.. $13.716450000000004(0.23561999999999905) 0x104de8eed2deb5eefa62fb72f90ec296770179809ad19b9fd639a563f4160da0\n",
      "->T(d) 243.2m/4.1h/0.17d, B: 0xa3.. $13.716450000000004(0.23561999999999905) 0x8f59b9f2aaf073dade8b231253e1a320019167dcb3ab36428635f97219ae2b66\n",
      "->T(d) 270.1m/4.5h/0.19d, B: 0xad.. $13.716450000000004(0.23561999999999905) 0x316624aa72f6a7e1c644da88a6a2539127a43a3a765dacde8ceb6c7119ce7832\n",
      "->T(d) 201.0m/3.4h/0.14d, B: 0x73.. $13.716450000000004(0.23561999999999905) 0x4cca7cc642d29adba0524c2e76f9a8162f1243aed540167c8e2058de73e6ad88\n",
      "->T(d) 236.8m/3.9h/0.16d, B: 0x17.. $14.052555000000002(0.5717249999999972) 0x25b59569775787fd3a76bcd46f87947b3b621d5d73bcc386ce3ca24112e965ed\n",
      "->T(d) 239.2m/4.0h/0.17d, B: 0x6a.. $14.052555000000002(0.5717249999999972) 0x6077430ec07a29e51d89e680b45488cb1d1bdca7e85514061d30c3a20f0c5389\n",
      "->T(d) 235.1m/3.9h/0.16d, B: 0x68.. $14.052555000000002(0.5717249999999972) 0x5ccacb92c056b396707d1acaadc764bb6c727db99f2927a0c057cc7de8fc3dcb\n",
      "->T(d) 239.1m/4.0h/0.17d, B: 0x8a.. $14.052555000000002(0.5717249999999972) 0x607d61c579af231730cee3432dc7502ca313c14011bdb970c0b6cbf1427acf51\n",
      "->T(d) 237.7m/4.0h/0.17d, B: 0xad.. $14.052555000000002(0.5717249999999972) 0x97320f63097e85ba208e850a27edefc195d21cd7e0c2ae470db374a68cda3696\n",
      "->T(d) 236.9m/3.9h/0.16d, B: 0x00.. $14.052555000000002(0.5717249999999972) 0xc719f992843f89c544afa0aa70f3ea63a264f507d9de9eb2778ba55fa15e8b85\n",
      "\n",
      "0x7316e9cf94bef40d4981d66a5c41c38b6b32454c\n",
      "   T(d) 0.0m/0.0h/0.00d, B: 0x73.. $34.58300000000001(0.0) 0x67f3286be683a44142f4d79e6958ade07f6456b9199f55d49c6774b4a4fa962f\n",
      "->T(d) 234.9m/3.9h/0.16d, B: 0xcd.. $34.58300000000001(0.0) 0x2d0cc1d1279c8d6428210ab467e75642e565a8a6a5b6ab3e7a628244b5f5e196\n",
      "->T(d) 240.8m/4.0h/0.17d, B: 0x73.. $36.45(1.8669999999999902) 0xcfa923140bea2945043e590b3b6b0b732d685c0f18d5bc26c03484f927a72b83\n",
      "\n",
      "0xadd12bd6375dc21d579cc4abcfa04864d6ac9a62\n",
      "   T(d) 0.0m/0.0h/0.00d, B: 0xad.. $25.6641(0.0) 0x1284d94720ae5e968cf1bf9084a6a904861ad5fa5fd182305f65fe0dc0c85201\n",
      "->T(d) 240.5m/4.0h/0.17d, B: 0xcd.. $25.6641(0.0) 0xdc2812699d38708a9bb3691b0eb6db46b6fd87256bb33689e673bba6147dd4a7\n",
      "->T(d) 236.3m/3.9h/0.16d, B: 0x6a.. $27.2664(1.6022999999999996) 0xb04fa988830493e48679a4f0bfb5c9f0132c09794abcd059e8ff277bcc73b576\n",
      "->T(d) 240.8m/4.0h/0.17d, B: 0xba.. $27.2664(1.6022999999999996) 0x6de2aff67a9932c46f0a765a66c5d15be2a4f9c835cd75a7b67ad5bd88e6322a\n",
      "->T(d) 235.4m/3.9h/0.16d, B: 0x1c.. $27.2664(1.6022999999999996) 0x9466f8034e935eca1424fc64580e716b657a96fdf6eb1ce1403dd30026cc4b32\n",
      "->T(d) 238.2m/4.0h/0.17d, B: 0x68.. $27.2664(1.6022999999999996) 0x62bb31c176de9e1d236c7c62b56447acbb75b1496ba5ffe0081e580c0ee214b9\n",
      "->T(d) 236.1m/3.9h/0.16d, B: 0x6a.. $27.2664(1.6022999999999996) 0x592dcc5f99b28dddaef894c3a45f58a9a6399b7a8f4228b3b8e445e50d91d381\n",
      "->T(d) 241.0m/4.0h/0.17d, B: 0x00.. $27.2664(1.6022999999999996) 0xda922bd8ea5067bc270e9c9b40f71b6fceca755b04b5e7c0348b59725c4dab24\n",
      "->T(d) 233.1m/3.9h/0.16d, B: 0x6a.. $30.61065(4.9465499999999984) 0x0cbdddaa76de3d427a01e3fec56c5a5c69e70824246e15d1720e19accd824724\n",
      "->T(d) 241.7m/4.0h/0.17d, B: 0xa3.. $30.61065(4.9465499999999984) 0x840fe701613935154a677905423091e25af532a41d344201ddcb9d27c672654a\n",
      "->T(d) 232.5m/3.9h/0.16d, B: 0xcd.. $30.61065(4.9465499999999984) 0x466771a44553cbb260f3e227122c388a3532e8acebb7a15e4710c4ca194a2fac\n",
      "->T(d) 240.1m/4.0h/0.17d, B: 0x68.. $30.61065(4.9465499999999984) 0x8644bad0e0f3ce34dfbe9a96285d33cff8b261b179a4f5b36519ed0db411d867\n",
      "->T(d) 236.8m/3.9h/0.16d, B: 0x1c.. $30.61065(4.9465499999999984) 0x109d79b2e36b263e32d3780e29500f66a11731ee88ec9cddcb078b571c08bd88\n",
      "->T(d) 241.8m/4.0h/0.17d, B: 0x46.. $30.61065(4.9465499999999984) 0xc341e14602154e1ad70b86e39902b83adf2a314aa0a33c17da58869d89c8ab41\n",
      "->T(d) 234.2m/3.9h/0.16d, B: 0xad.. $30.74294999999999(5.0788499999999885) 0x4b6bdd8d29df90a95b082e453e322b3bcaf1d7e562e3c2b8a446e86159e10450\n",
      "\n",
      "0xcdcadf0279ee021a0c40a31ac10fa69e028e21d0\n",
      "   T(d) 0.0m/0.0h/0.00d, B: 0xcd.. $30.5259(0.0) 0x3a16e7c7f34d6a45852c7fba9a6baf89571c124ab01dde9d8de4493c820e90f1\n",
      "->T(d) 233.1m/3.9h/0.16d, B: 0x17.. $30.5259(0.0) 0xe1a13fc64b72a3bb1799ab60d7e88d8a6de1ad456ffeb711d0402e81f9553fc1\n",
      "->T(d) 244.0m/4.1h/0.17d, B: 0xba.. $30.5259(0.0) 0xaeb04bbd065e8ca6a4ec82c1692d87cb1209b51855675c41d944a1462a715d3c\n",
      "->T(d) 231.2m/3.9h/0.16d, B: 0x23.. $31.99351(1.4676100000000005) 0xe56ab717ef389e12c07fe824a8bd16929b42c2effd3c98e67dfec8e9fdf1473a\n",
      "->T(d) 237.6m/4.0h/0.17d, B: 0xa3.. $31.99351(1.4676100000000005) 0x314cd6eafbadc3b8dba402f49f3995bfcad846e12be4acb1c19a56525757d1fc\n",
      "->T(d) 240.1m/4.0h/0.17d, B: 0xcd.. $31.99351(1.4676100000000005) 0x3edba03510e620e0adef99338f2dd3a5ed710c66ae5d900cfbdab306e87e8b9d\n",
      "\n"
     ]
    }
   ],
   "metadata": {
    "collapsed": false,
    "pycharm": {
     "name": "#%%\n"
    }
   }
  },
  {
   "cell_type": "markdown",
   "source": [
    "All of these traders also follow the same, or a similar pattern.\n",
    "\n",
    "Trading with each other, waiting ~4 hours before trading again. "
   ],
   "metadata": {
    "pycharm": {
     "name": "#%% md\n"
    }
   }
  }
 ],
 "metadata": {
  "kernelspec": {
   "name": "python3",
   "display_name": "Python 3.9.13 64-bit ('pyraph39': conda)"
  },
  "language_info": {
   "codemirror_mode": {
    "name": "ipython",
    "version": 3
   },
   "file_extension": ".py",
   "mimetype": "text/x-python",
   "name": "python",
   "nbconvert_exporter": "python",
   "pygments_lexer": "ipython3",
   "version": "3.9.13"
  },
  "vscode": {
   "interpreter": {
    "hash": "b0fa6594d8f4cbf19f97940f81e996739fb7646882a419484c72d19e05852a7e"
   }
  },
  "interpreter": {
   "hash": "2fd8b0dd52cc294f3672afec541bd883b30f7293219263d147e74d62b7608382"
  }
 },
 "nbformat": 4,
 "nbformat_minor": 5
}