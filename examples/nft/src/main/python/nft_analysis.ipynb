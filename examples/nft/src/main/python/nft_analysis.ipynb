{
 "cells": [
  {
   "cell_type": "markdown",
   "id": "1496b112-0ef7-4c29-acdf-855d75afabf3",
   "metadata": {
    "pycharm": {
     "name": "#%% md\n"
    },
    "tags": []
   },
   "source": [
    "# Finding Cycles in NFT Transactions"
   ]
  },
  {
   "cell_type": "markdown",
   "id": "c1e1a792",
   "metadata": {
    "pycharm": {
     "name": "#%% md\n"
    }
   },
   "source": [
    "## Overview"
   ]
  },
  {
   "cell_type": "markdown",
   "id": "f20a3d87",
   "metadata": {
    "pycharm": {
     "name": "#%% md\n"
    }
   },
   "source": [
    "A Non-fungible Token (NFT) is a digital asset which cannot be copied, substituted, or subdivided, meaning it is wholly unique.\n",
    "\n",
    "![title](http://web.archive.org/web/20220328080727im_/https://blog.portion.io/content/images/2021/07/Kevin-McCoy-Quantum.gif)\n",
    "\n",
    "NFT’s are stored on blockchain systems, notably Ethereum, with the owner of an NFT being whomever has access to the wallet it is stored within.\n",
    "\n",
    "Since the first NFT, Quantum (shown above), many new NFT artworks have arisen including Cryptokitties and Cryptopunks. This culminated in a boom in 2021 which included the arrival of the Bored Ape Yacht Club, with NFTS reaching a global market valued of $15.7 Billion.\n",
    "\n",
    "In this example we will analyse an NFT dataset in order to find suspicious trading cycles.\n",
    "\n",
    "1. Using Raphtory to load the NFT data as a graph\n",
    "2. Execute a cycle detection algorithm\n",
    "3. Analyse the results to find suspicious cycles of NFTs\n",
    "\n",
    "The data we used is a cleaned and trimmed version from [1]\n",
    "\n",
    "\n",
    "[1] Nadini, M., Alessandretti, L., Di Giacinto, F. et al. Mapping the NFT revolution: market trends, trade networks, and visual features. Sci Rep 11, 20902 (2021). https://doi.org/10.1038/s41598-021-00053-8"
   ]
  },
  {
   "cell_type": "markdown",
   "id": "310ce4ff",
   "metadata": {
    "pycharm": {
     "name": "#%% md\n"
    }
   },
   "source": [
    "## Loading data with Raphtory"
   ]
  },
  {
   "cell_type": "markdown",
   "id": "88edeb5e",
   "metadata": {
    "pycharm": {
     "name": "#%% md\n"
    }
   },
   "source": [
    "First we install some extra packages"
   ]
  },
  {
   "cell_type": "raw",
   "id": "11952da9",
   "metadata": {
    "jupyter": {
     "outputs_hidden": false
    },
    "pycharm": {
     "name": "#%%\n"
    }
   },
   "source": [
    "pip install scipy seaborn"
   ]
  },
  {
   "cell_type": "markdown",
   "id": "c6bc46b6",
   "metadata": {},
   "source": [
    "Now we import the following so we can use Raphtory"
   ]
  },
  {
   "cell_type": "raw",
   "id": "adea0841",
   "metadata": {
    "jupyter": {
     "outputs_hidden": false
    },
    "pycharm": {
     "name": "#%%\n"
    }
   },
   "source": [
    "import time\n",
    "from calendar import timegm\n",
    "from pyraphtory.context import PyRaphtory\n",
    "from pyraphtory.builder import *\n",
    "from pyraphtory.spouts import FileSpout\n",
    "from pyraphtory.sinks import *\n",
    "from pyraphtory.formats import JsonFormat\n",
    "import csv\n",
    "from nft_helper import *"
   ]
  },
  {
   "cell_type": "markdown",
   "id": "ac4d133f",
   "metadata": {
    "pycharm": {
     "name": "#%% md\n"
    }
   },
   "source": [
    "Below are our data sources\n",
    "- `date_price` a dictionary containing the daily ETH-USD price, we we need to convert as some prices are missing\n",
    "- `filename` - this is the cleaned transaction data, which represents NFTs being bought by wallets \n",
    "- `at_time` - is the time we want to run our analysis, this is the last time in the dataset "
   ]
  },
  {
   "cell_type": "raw",
   "id": "82871c6f",
   "metadata": {},
   "source": [
    "!curl -o ETH-USD.csv https://osf.io/download/mw3vh/ -L\n",
    "!curl -o Data_API_reduced.csv https://osf.io/download/kaumt/ -L"
   ]
  },
  {
   "cell_type": "raw",
   "id": "7d8629fd",
   "metadata": {
    "jupyter": {
     "outputs_hidden": false
    },
    "pycharm": {
     "name": "#%%\n"
    }
   },
   "source": [
    "eth_price_csv = 'ETH-USD.csv'\n",
    "filename = \"Data_API_reduced.csv\"\n",
    "at_time = 1561661534\n",
    "\n",
    "date_price = setup_date_prices(eth_price_csv)"
   ]
  },
  {
   "cell_type": "markdown",
   "id": "f8a3cc00",
   "metadata": {
    "pycharm": {
     "name": "#%% md\n"
    }
   },
   "source": [
    "For this example, we are going to create a bipartite graph. \n",
    "\n",
    "In our graph, we have wallets on the left, and NFTs on the right. \n",
    "\n",
    "Each edge represents that an NFT was purchased by a wallet. \n",
    "\n",
    "The `parse_graph` function will take each line, from the spout, and turn these into graph updates. \n",
    "\n",
    "\n",
    "![title](https://www.raphtory.com/images/nfts/buy_nft.png)\n"
   ]
  },
  {
   "cell_type": "raw",
   "id": "7d256ec2",
   "metadata": {
    "pycharm": {
     "name": "#%%\n"
    },
    "tags": []
   },
   "source": [
    "def parse_graph(graph, line):\n",
    "    file_line = line.split(',')\n",
    "    if file_line[0] == \"Smart_contract\":\n",
    "        return\n",
    "    # Seller details\n",
    "    seller_address = file_line[3]\n",
    "    seller_address_hash = graph.assign_id(seller_address)\n",
    "    # Buyer details\n",
    "    buyer_address = file_line[5]\n",
    "    buyer_address_hash = graph.assign_id(buyer_address)\n",
    "    # Transaction details\n",
    "    datetime_str = file_line[13]\n",
    "    timestamp_utc = time.strptime(datetime_str, \"%Y-%m-%d %H:%M:%S\")\n",
    "    timestamp = timegm(timestamp_utc)\n",
    "    tx_hash = file_line[2]\n",
    "    token_id_str = file_line[1]\n",
    "    token_id_hash = graph.assign_id(token_id_str)\n",
    "\n",
    "    crypto = file_line[8]\n",
    "    if crypto != 'ETH':\n",
    "        return\n",
    "\n",
    "    if file_line[9] == \"\":\n",
    "        price_usd = date_price[datetime_str[0:10]]\n",
    "    else:\n",
    "        price_usd = float(file_line[9])\n",
    "\n",
    "    # NFT Details\n",
    "    collection_cleaned = file_line[14]\n",
    "    market = file_line[11]\n",
    "    category = file_line[15]\n",
    "\n",
    "    #  add buyer node\n",
    "    graph.add_vertex(\n",
    "        timestamp,\n",
    "        buyer_address_hash,\n",
    "        Properties(ImmutableProperty(\"address\", buyer_address)),\n",
    "        Type(\"Wallet\")\n",
    "    )\n",
    "\n",
    "    # Add node for NFT\n",
    "    graph.add_vertex(\n",
    "        timestamp,\n",
    "        token_id_hash,\n",
    "        Properties(\n",
    "            ImmutableProperty(\"id\", token_id_str),\n",
    "            ImmutableProperty(\"collection\", collection_cleaned),\n",
    "            ImmutableProperty(\"category\", category)\n",
    "        ),\n",
    "        Type(\"NFT\")\n",
    "    )\n",
    "\n",
    "    # Creating a bipartite graph,\n",
    "    # add edge between buyer and nft\n",
    "    graph.add_edge(\n",
    "        timestamp,\n",
    "        buyer_address_hash,\n",
    "        token_id_hash,\n",
    "        Properties(\n",
    "            StringProperty(\"transaction_hash\", tx_hash),\n",
    "            StringProperty(\"crypto\", crypto),\n",
    "            StringProperty(\"price_usd\", str(price_usd)),\n",
    "            StringProperty(\"market\", market),\n",
    "            StringProperty(\"token_id\", token_id_str),\n",
    "            StringProperty(\"buyer_address\", buyer_address)\n",
    "        ),\n",
    "        Type(\"Purchase\")\n",
    "    )"
   ]
  },
  {
   "cell_type": "markdown",
   "id": "1136b6a8",
   "metadata": {
    "pycharm": {
     "name": "#%% md\n"
    }
   },
   "source": [
    "Now we will start a raphtory instance and load our data"
   ]
  },
  {
   "cell_type": "raw",
   "id": "0912a6fb",
   "metadata": {
    "jupyter": {
     "outputs_hidden": false
    },
    "pycharm": {
     "name": "#%%\n"
    }
   },
   "source": [
    "graph = PyRaphtory.new_graph()\n",
    "\n",
    "graph.load(Source(FileSpout(filename), GraphBuilder(parse_graph)))"
   ]
  },
  {
   "cell_type": "markdown",
   "id": "dca2e777",
   "metadata": {
    "pycharm": {
     "name": "#%% md\n"
    }
   },
   "source": [
    "## Executing a Cycle detection algorithm"
   ]
  },
  {
   "cell_type": "markdown",
   "id": "c338d016",
   "metadata": {
    "pycharm": {
     "name": "#%% md\n"
    }
   },
   "source": [
    "Below is a visual representation of the cycle detection. \n",
    "\n",
    "This is when a NFT has been sold by a wallet, but eventually ends up being owned by it again. This can involve a chain of any number of other wallets, take any amount of time, and increase or decrease the price by any amount.\n",
    "\n",
    "Below we can see an example of such a cycle where Wallet A sold an NFT to Wallet B for $50$ on Monday, but its back in their position by Thursday, costing them $750$. They either have serious sellers remorse or, more likely, the same person owns all these wallets and is trying to pump up the price of the given NFT.\n",
    "\n",
    "Our algorithm:\n",
    "- Gets each NFT\n",
    "- For each time it was purchased, checks the list of purchases to see if a user re-bought the NFT at a later date, at a higher price\n",
    "\n",
    "This all happens within the `step` function. A `step` is executed once on each node.  \n",
    "\n",
    "The code has been optimised to O(n) complexity. "
   ]
  },
  {
   "cell_type": "markdown",
   "id": "bae3e051",
   "metadata": {},
   "source": [
    "![title](https://www.raphtory.com/images/nfts/NFT_Cycle.png)"
   ]
  },
  {
   "cell_type": "raw",
   "id": "7ea2201a",
   "metadata": {
    "jupyter": {
     "source_hidden": true
    },
    "pycharm": {
     "name": "#%%\n"
    },
    "tags": []
   },
   "source": [
    "from pyraphtory.algorithm import PyAlgorithm\n",
    "from pyraphtory.graph import TemporalGraph, Row, Table\n",
    "from pyraphtory.vertex import Vertex\n",
    "import pyraphtory.scala.collection\n",
    "\n",
    "CYCLES_FOUND: str = \"CYCLES_FOUND\"\n",
    "\n",
    "\n",
    "class CycleMania(PyAlgorithm):\n",
    "    def __call__(self, graph: TemporalGraph) -> TemporalGraph:\n",
    "        def step(v: Vertex):\n",
    "            if v.type() != \"NFT\":\n",
    "                v[CYCLES_FOUND] = []\n",
    "                return\n",
    "            all_cycles = []\n",
    "            all_purchases = sorted(v.explode_in_edges(), key=lambda e: e.timestamp())\n",
    "            purchasers = list(map(lambda e:\n",
    "                                  dict(price_usd=float(e.get_property_or_else(\"price_usd\", 0.0)),\n",
    "                                       nft_id=e.get_property_or_else(\"token_id\", \"_UNKNOWN_\"),\n",
    "                                       tx_hash=e.get_property_or_else(\"transaction_hash\", \"\"),\n",
    "                                       time=e.timestamp(),\n",
    "                                       buyer=e.get_property_or_else(\"buyer_address\", \"_UNKNOWN_\")),\n",
    "                                  all_purchases))\n",
    "            if len(purchasers) > 2:\n",
    "                buyers_seen = {}\n",
    "                for pos, item_sale in enumerate(purchasers):\n",
    "                    buyer_id = item_sale['buyer']\n",
    "                    if buyer_id not in buyers_seen:\n",
    "                        buyers_seen[buyer_id] = pos\n",
    "                    else:\n",
    "                        prev_pos = buyers_seen[buyer_id]\n",
    "                        prev_price = purchasers[prev_pos]['price_usd']\n",
    "                        current_price = item_sale['price_usd']\n",
    "                        buyers_seen[buyer_id] = pos\n",
    "                        if prev_price < current_price:\n",
    "                            all_cycles.append(purchasers[prev_pos:pos + 1])\n",
    "            if len(all_cycles):\n",
    "                v[CYCLES_FOUND] = all_cycles\n",
    "            else:\n",
    "                v[CYCLES_FOUND] = []\n",
    "\n",
    "        return graph.reduced_view().step(step)\n",
    "\n",
    "    def tabularise(self, graph: TemporalGraph):\n",
    "        def get_cycles(v: Vertex):\n",
    "            vertex_type = v.type()\n",
    "            rows_found = [Row()]\n",
    "            if vertex_type == \"NFT\" and len(v[CYCLES_FOUND]):\n",
    "                nft_id = v.get_property_or_else('id', '_UNKNOWN_')\n",
    "                cycles_found = v[CYCLES_FOUND]\n",
    "                nft_collection = v.get_property_or_else('collection', '_UNKNOWN_')\n",
    "                nft_category = v.get_property_or_else('category', '_UNKNOWN_')\n",
    "                rows_found = list(map(lambda single_cycle:\n",
    "                                      Row(\n",
    "                                          nft_id,\n",
    "                                          nft_collection,\n",
    "                                          nft_category,\n",
    "                                          len(single_cycle),\n",
    "                                          dict(cycle={'sales': single_cycle},\n",
    "                                               profit_usd=float(single_cycle[len(single_cycle) - 1]['price_usd']) -\n",
    "                                                          float(single_cycle[0]['price_usd']),\n",
    "                                               buyer=str(single_cycle[0]['buyer']))\n",
    "                                      ), cycles_found))\n",
    "            return rows_found\n",
    "\n",
    "        return graph.explode_select(lambda v: get_cycles(v)).filter(lambda row: len(row.get_values()) > 0)\n"
   ]
  },
  {
   "cell_type": "markdown",
   "id": "0f2e4afd",
   "metadata": {
    "pycharm": {
     "name": "#%% md\n"
    }
   },
   "source": [
    "We run the algorithm as follows "
   ]
  },
  {
   "cell_type": "raw",
   "id": "acfcfe23",
   "metadata": {
    "jupyter": {
     "outputs_hidden": false
    },
    "pycharm": {
     "name": "#%%\n"
    }
   },
   "source": [
    "graph \\\n",
    "    .at(at_time) \\\n",
    "    .past() \\\n",
    "    .execute(CycleMania()) \\\n",
    "    .write_to(FileSink('/tmp/raphtory_nft_python', format=JsonFormat())) \\\n",
    "    .wait_for_job()"
   ]
  },
  {
   "cell_type": "markdown",
   "id": "433b9da6",
   "metadata": {
    "pycharm": {
     "name": "#%% md\n"
    }
   },
   "source": [
    "## Analysing the results\n",
    "\n",
    "First we import the tools we are using for analysis"
   ]
  },
  {
   "cell_type": "raw",
   "id": "34424309",
   "metadata": {
    "pycharm": {
     "name": "#%%\n"
    }
   },
   "source": [
    "import pandas as pd\n",
    "import json\n",
    "import seaborn as sns\n",
    "from scipy import stats\n",
    "import numpy as np\n",
    "import time\n",
    "import matplotlib.pyplot as plt\n",
    "plt.rcParams['font.size'] = '16'\n",
    "from nft_helper import *\n",
    "from collections import Counter"
   ]
  },
  {
   "cell_type": "markdown",
   "id": "05f3d749",
   "metadata": {
    "pycharm": {
     "name": "#%% md\n"
    }
   },
   "source": [
    "### Read data\n",
    "\n",
    "We will now read the data that Raphtory produced. \n",
    "\n",
    "Please check which path the data was saved too, and adjust the line below. "
   ]
  },
  {
   "cell_type": "raw",
   "id": "1d67aab7",
   "metadata": {
    "pycharm": {
     "name": "#%%\n"
    }
   },
   "source": [
    "import glob\n",
    "for filename in glob.glob('/tmp/raphtory_nft_python/*/partition-0.json'):\n",
    "    with open(filename,'r') as f:\n",
    "        data = load_json(filename)\n",
    "\n",
    "new_data = []\n",
    "# filter any cycles that are less than 2 hops\n",
    "for d in data:\n",
    "    if d['row'][3] > 2:\n",
    "        new_data.append(d)\n",
    "data = new_data\n",
    "data_df = pd.DataFrame(data)"
   ]
  },
  {
   "cell_type": "raw",
   "id": "b33d074e",
   "metadata": {
    "pycharm": {
     "name": "#%%\n"
    }
   },
   "source": [
    "data_df[\"profit\"]=data_df[\"row\"].apply(lambda x: x[4]['profit_usd'])\n",
    "data_df[\"min_ts\"] = data_df[\"row\"].apply(lambda x: min(map(lambda y: y[\"time\"],x[4]['cycle']['sales'])))\n",
    "data_df[\"max_ts\"] = data_df[\"row\"].apply(lambda x: max(map(lambda y: y[\"time\"],x[4]['cycle']['sales'])))\n",
    "data_df[\"length\"] = data_df[\"row\"].apply(lambda x: len(x[4]['cycle']['sales']))\n",
    "data_df[\"duration_days\"] = (data_df[\"max_ts\"] - data_df[\"min_ts\"])/86400\n",
    "display(data_df)"
   ]
  },
  {
   "cell_type": "markdown",
   "id": "0845eea9",
   "metadata": {
    "pycharm": {
     "name": "#%% md\n"
    }
   },
   "source": [
    "## Cycle length distributions\n",
    "\n",
    "Below is a simple CDF showing the distribution of the lengths of cycles. "
   ]
  },
  {
   "cell_type": "raw",
   "id": "0c34ddf6",
   "metadata": {
    "pycharm": {
     "name": "#%%\n"
    }
   },
   "source": [
    "x,y = ccdf(data_df.duration_days)\n",
    "\n",
    "fig, ax = plt.subplots()\n",
    "ax.set_xscale(\"log\")\n",
    "ax.set_yscale(\"log\")\n",
    "ax.plot(x,y, marker=\"o\")\n",
    "ax.set_ylabel(\"CCDF\")\n",
    "ax.set_xlabel(\"Cycle duration (days)\")\n",
    "\n",
    "plt.show()"
   ]
  },
  {
   "cell_type": "raw",
   "id": "602f8ab7",
   "metadata": {
    "pycharm": {
     "name": "#%%\n"
    }
   },
   "source": [
    "x,y = ccdf(data_df.length)\n",
    "\n",
    "fig, ax = plt.subplots()\n",
    "ax.set_xscale(\"log\")\n",
    "ax.set_yscale(\"log\")\n",
    "ax.plot(x,y, marker=\"o\")\n",
    "ax.set_ylabel(\"CCDF\")\n",
    "ax.set_xlabel(\"Cycle length (hops)\")\n",
    "\n",
    "plt.show()"
   ]
  },
  {
   "cell_type": "markdown",
   "id": "99700e0d",
   "metadata": {
    "pycharm": {
     "name": "#%% md\n"
    }
   },
   "source": [
    "## How many traders took part in cycles?"
   ]
  },
  {
   "cell_type": "raw",
   "id": "718835ba",
   "metadata": {
    "tags": []
   },
   "source": [
    "traders_profit = {}\n",
    "for row in data:\n",
    "    trade = {\n",
    "        'profit_usd': row['row'][4]['profit_usd'],\n",
    "        'buyer':  row['row'][4]['buyer'],\n",
    "        'cycle_size': row['row'][3],\n",
    "        'nft_id': row['row'][0],\n",
    "        'cycle': row['row'][4]['cycle']['sales']\n",
    "    }\n",
    "    trader = trade['buyer']\n",
    "    profit = trade['profit_usd']\n",
    "    if trader not in traders_profit:\n",
    "        traders_profit[trader] = []\n",
    "    traders_profit[trader].append(profit)\n",
    "traders_avg = {}\n",
    "for trader, _profit in traders_profit.items():\n",
    "    avg = sum(_profit)/len(_profit)\n",
    "    traders_avg[trader] = {\n",
    "        'avg': avg, \n",
    "        'count': len(_profit),\n",
    "        'total_profit': sum(_profit)\n",
    "    }\n",
    "    \n",
    "traders_count_sorted = sorted(traders_avg, key=lambda x: traders_avg[x]['count'], reverse=True)\n",
    "\n",
    "for t in traders_count_sorted[:50]:\n",
    "    print(t)\n",
    "    print(traders_avg[t])\n",
    "    print()"
   ]
  },
  {
   "cell_type": "markdown",
   "id": "84261713",
   "metadata": {
    "pycharm": {
     "name": "#%% md\n"
    }
   },
   "source": [
    "Above, we can see that 20 traders participated in over 528 cycles each. \n",
    "\n",
    "Lets write some code to inspect these NFT cycles in more depth. \n",
    "\n",
    "The `pretty_cycle` function takes a cycle and prints out each subsequent trade and the profit and time between trades.  "
   ]
  },
  {
   "cell_type": "raw",
   "id": "26b9fa77",
   "metadata": {
    "pycharm": {
     "name": "#%%\n"
    }
   },
   "source": [
    "def pretty_cycle(cycle):\n",
    "    as_string = '   '\n",
    "    prev_price = cycle[0]['price_usd']\n",
    "    prev_time = cycle[0]['time']\n",
    "    for item in cycle:\n",
    "        diff = item['price_usd']-prev_price\n",
    "        time_secs = item['time']-prev_time\n",
    "        time_mins = time_secs/60\n",
    "        time_hours = time_secs/60/60\n",
    "        time_days = time_secs/60/60/24 \n",
    "        prev_time = item['time']\n",
    "        time_str = '%.1fm/%.1fh/%.2fd' % (time_mins, time_hours, time_days)\n",
    "        as_string += 'T(d) '+time_str+', B: '+item['buyer'][:4]+'.. $'+str(item['price_usd'])+'('+str(diff)+') '+item['tx_hash']+'\\n->'\n",
    "    as_string = as_string[:-3]\n",
    "    print(as_string)"
   ]
  },
  {
   "cell_type": "markdown",
   "id": "91c354ba",
   "metadata": {
    "pycharm": {
     "name": "#%% md\n"
    }
   },
   "source": [
    "# Lets take a look at the trader who did the most cycles"
   ]
  },
  {
   "cell_type": "raw",
   "id": "7eeb98ea",
   "metadata": {
    "pycharm": {
     "name": "#%%\n"
    }
   },
   "source": [
    "largest_trader_addr = traders_count_sorted[0] # '0x8acc1421ec98689461ff5777de8ad6648dc6d643'\n",
    "largest = []\n",
    "for trade in data:\n",
    "    # ignore any rari tokens, as they are fractionalised\n",
    "    #. ignore any short trades \n",
    "    if '_Rari' in trade['row'][0] or trade['row'][3] <= 2:\n",
    "        continue\n",
    "    if trade['row'][4]['buyer'] == largest_trader_addr:\n",
    "        largest.append(trade)"
   ]
  },
  {
   "cell_type": "markdown",
   "id": "e978e97d",
   "metadata": {
    "pycharm": {
     "name": "#%% md\n"
    },
    "tags": []
   },
   "source": [
    "#### Which NFTs did they trade?"
   ]
  },
  {
   "cell_type": "raw",
   "id": "3800c677",
   "metadata": {
    "pycharm": {
     "name": "#%%\n"
    }
   },
   "source": [
    "from collections import Counter\n",
    "most_common_nft_collection = []\n",
    "most_common_nft = []\n",
    "for trade in largest:\n",
    "    nft_collection =  trade['row'][0].split('_')\n",
    "    if len(nft_collection) > 2:\n",
    "        print(\"crap\")\n",
    "    most_common_nft.append(trade['row'][0])\n",
    "    most_common_nft_collection.append(nft_collection[1])\n",
    "most_common_nft_collection = set(most_common_nft_collection)\n",
    "most_common_nft_collection = Counter(most_common_nft_collection)\n",
    "most_common_nft = Counter(most_common_nft)\n",
    "most_common_nft_collection"
   ]
  },
  {
   "cell_type": "markdown",
   "id": "2acf66e4",
   "metadata": {
    "pycharm": {
     "name": "#%% md\n"
    }
   },
   "source": [
    "#### What happens when we look at their cycles in more detail?"
   ]
  },
  {
   "cell_type": "raw",
   "id": "863f45e4",
   "metadata": {
    "pycharm": {
     "name": "#%%\n"
    },
    "tags": []
   },
   "source": [
    "pretty_cycle(largest[10]['row'][4]['cycle']['sales'])"
   ]
  },
  {
   "cell_type": "markdown",
   "id": "ea1a174d",
   "metadata": {
    "pycharm": {
     "name": "#%% md\n"
    }
   },
   "source": [
    "We have found something here, this trader trades each nft between wallets within a ~4 hour window??"
   ]
  },
  {
   "cell_type": "markdown",
   "id": "38383153",
   "metadata": {
    "pycharm": {
     "name": "#%% md\n"
    }
   },
   "source": [
    "#### What was the time between each transaction?"
   ]
  },
  {
   "cell_type": "raw",
   "id": "fea9593d",
   "metadata": {
    "pycharm": {
     "name": "#%%\n"
    }
   },
   "source": [
    "import math\n",
    "def time_finder(cycle):\n",
    "    prev_time = cycle[0]['time']\n",
    "    times = []\n",
    "    for sale in cycle:\n",
    "        time_secs = sale['time']-prev_time\n",
    "        time_hours = time_secs/60/60\n",
    "        prev_time = sale['time']\n",
    "        time_hours = round(time_hours, 1)\n",
    "        times.append(time_hours)\n",
    "    return times\n",
    "\n",
    "time_found = []\n",
    "for trade in largest:\n",
    "    time_found.extend(time_finder(trade['row'][4]['cycle']['sales']))\n",
    "time_found = Counter(time_found)\n",
    "print(\"total times : %i\" % sum(time_found.values()))\n",
    "between_39_41 = time_found[3.4]+time_found[3.5]+time_found[3.6] +time_found[3.7] +time_found[3.8] +time_found[3.9] +time_found[4.0] +time_found[4.1] +time_found[4.2]+time_found[4.3]+time_found[4.4]+time_found[4.5]+time_found[4.6]\n",
    "print(\"times between 3.4 and 4.6 : %i - %.2fp\" % (between_39_41, between_39_41/sum(time_found.values())*100))"
   ]
  },
  {
   "cell_type": "markdown",
   "id": "8941eeaf",
   "metadata": {
    "pycharm": {
     "name": "#%% md\n"
    }
   },
   "source": [
    "#### Who did they trade with?"
   ]
  },
  {
   "cell_type": "raw",
   "id": "35031889",
   "metadata": {
    "pycharm": {
     "name": "#%%\n"
    }
   },
   "source": [
    "wallet_interactions = []\n",
    "for trade in largest:\n",
    "    for sale in trade['row'][4]['cycle']['sales']:\n",
    "        wallet_interactions.append(sale['buyer'])\n",
    "wallet_interactions = Counter(wallet_interactions)\n",
    "sorted(wallet_interactions.items(), key=lambda x: x[1], reverse=True), len(wallet_interactions)"
   ]
  },
  {
   "cell_type": "markdown",
   "id": "bd5d81a2",
   "metadata": {
    "tags": []
   },
   "source": [
    "Interestingly they only traded their NFTs with 20 other wallets. "
   ]
  },
  {
   "cell_type": "raw",
   "id": "b285332e",
   "metadata": {
    "tags": []
   },
   "source": [
    "fellow_traders = list(wallet_interactions.keys())\n",
    "for t in fellow_traders:\n",
    "    print(t)\n",
    "    print(traders_avg[t])\n",
    "    print()"
   ]
  },
  {
   "cell_type": "markdown",
   "id": "2b426e8e",
   "metadata": {
    "pycharm": {
     "name": "#%% md\n"
    },
    "tags": []
   },
   "source": [
    "All of these traders also participated in many cycles. "
   ]
  },
  {
   "cell_type": "markdown",
   "id": "d54a575d",
   "metadata": {},
   "source": [
    "#### What were the patterns of the fellow traders cycles?"
   ]
  },
  {
   "cell_type": "raw",
   "id": "636ebd7a",
   "metadata": {
    "pycharm": {
     "name": "#%%\n"
    },
    "tags": []
   },
   "source": [
    "import random\n",
    "\n",
    "fellow_traders\n",
    "print(len(fellow_traders))\n",
    "\n",
    "others_sibs = {}\n",
    "for sibling in fellow_traders:\n",
    "    others_sibs[sibling] = []\n",
    "    for trade in data:\n",
    "        if '_Rari' in trade['row'][0] or trade['row'][3] <= 2:\n",
    "            continue\n",
    "        if trade['row'][4]['buyer'] == sibling:\n",
    "            others_sibs[sibling].append(trade)\n",
    "    print(sibling)\n",
    "    rand = random.choice(range(0,len(others_sibs[sibling])))\n",
    "    pretty_cycle(others_sibs[sibling][rand]['row'][4]['cycle']['sales'])\n",
    "    print()"
   ]
  },
  {
   "cell_type": "markdown",
   "id": "c7671c90-f38d-403d-a0a5-389fbc3fc0e8",
   "metadata": {},
   "source": [
    "All of these traders also follow the same, or a similar pattern.\n",
    "\n",
    "Trading with each other, waiting ~4 hours before trading again. "
   ]
  }
 ],
 "metadata": {
  "kernelspec": {
   "display_name": "Python 3 (ipykernel)",
   "language": "python",
   "name": "python3"
  },
  "language_info": {
   "codemirror_mode": {
    "name": "ipython",
    "version": 3
   },
   "file_extension": ".py",
   "mimetype": "text/x-python",
   "name": "python",
   "nbconvert_exporter": "python",
   "pygments_lexer": "ipython3",
   "version": "3.9.13"
  },
  "vscode": {
   "interpreter": {
    "hash": "b0fa6594d8f4cbf19f97940f81e996739fb7646882a419484c72d19e05852a7e"
   }
  }
 },
 "nbformat": 4,
 "nbformat_minor": 5
}
