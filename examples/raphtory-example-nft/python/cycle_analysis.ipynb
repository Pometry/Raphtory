{
 "cells": [
  {
   "cell_type": "markdown",
   "id": "1496b112-0ef7-4c29-acdf-855d75afabf3",
   "metadata": {
    "pycharm": {
     "name": "#%% md\n"
    },
    "tags": []
   },
   "source": [
    "#### imports "
   ]
  },
  {
   "cell_type": "code",
   "execution_count": 1,
   "id": "daa48d4d-3d73-4a54-b03f-a030760e86e2",
   "metadata": {
    "pycharm": {
     "name": "#%%\n"
    }
   },
   "outputs": [],
   "source": [
    "import pandas as pd\n",
    "import json\n",
    "import seaborn as sns\n",
    "from scipy import stats\n",
    "import numpy as np\n",
    "import time\n",
    "import matplotlib.pyplot as plt\n",
    "plt.rcParams['font.size'] = '16'"
   ]
  },
  {
   "cell_type": "code",
   "execution_count": 2,
   "id": "37ea13e9-71b1-44d2-b2f7-fea684a5259f",
   "metadata": {
    "pycharm": {
     "name": "#%%\n"
    }
   },
   "outputs": [],
   "source": [
    "def load_json(filename):\n",
    "    data = []\n",
    "    with open(filename, 'r') as f:\n",
    "        for r in f.readlines():\n",
    "            r_json = json.loads(r)\n",
    "            if r_json['row'][4]['buyer']=='0x0000000000000000000000000000000000000000':\n",
    "                continue\n",
    "            else:\n",
    "                data.append(r_json)\n",
    "    print(\"amount of data %i\"  % len(data))\n",
    "    return data"
   ]
  },
  {
   "cell_type": "code",
   "execution_count": 3,
   "id": "7e926f1c",
   "metadata": {
    "pycharm": {
     "name": "#%%\n"
    }
   },
   "outputs": [],
   "source": [
    "# For making CDFs and CCDFs\n",
    "\n",
    "def cdf(listlike, normalised=True):\n",
    "    data = np.array(listlike)\n",
    "    N = len(listlike)\n",
    "\n",
    "    x = np.sort(data)\n",
    "    if (normalised):\n",
    "        y = np.arange(N)/float(N-1)\n",
    "    else:\n",
    "        y = np.arange(N)\n",
    "    return x, y\n",
    "\n",
    "def ccdf(listlike, normalised=True):\n",
    "    x, y = cdf(listlike,normalised)\n",
    "    if normalised:\n",
    "        return x, 1.0-y\n",
    "    else:\n",
    "        return x, len(listlike)-y"
   ]
  },
  {
   "cell_type": "code",
   "execution_count": null,
   "id": "4f136774-859c-4151-8060-69ab8ec91845",
   "metadata": {
    "pycharm": {
     "is_executing": true,
     "name": "#%%\n"
    }
   },
   "outputs": [],
   "source": [
    "original_df = pd.read_csv(\"/tmp/Data_API_clean_nfts_ETH_only.csv\")"
   ]
  },
  {
   "cell_type": "code",
   "execution_count": null,
   "id": "08be6a8a-b347-4e7d-b34e-ae95f5b16b12",
   "metadata": {
    "pycharm": {
     "name": "#%%\n"
    }
   },
   "outputs": [],
   "source": [
    "t = max(original_df['Datetime_updated_seconds'])\n",
    "time.mktime(time.strptime(t, '%Y-%m-%d %H:%M:%S'))"
   ]
  },
  {
   "cell_type": "markdown",
   "id": "74fdf863-a783-4702-a626-6b117da34ba4",
   "metadata": {
    "pycharm": {
     "name": "#%% md\n"
    }
   },
   "source": [
    "### Read data"
   ]
  },
  {
   "cell_type": "code",
   "execution_count": 5,
   "id": "828ebbed-0cad-4c30-b753-6b51c33c3c1d",
   "metadata": {
    "pycharm": {
     "name": "#%%\n"
    }
   },
   "outputs": [
    {
     "name": "stdout",
     "output_type": "stream",
     "text": [
      "amount of data 16673\n"
     ]
    }
   ],
   "source": [
    "data = load_json('/tmp/results_nft_cycles.json')"
   ]
  },
  {
   "cell_type": "code",
   "execution_count": 6,
   "id": "5f58c94b",
   "metadata": {
    "pycharm": {
     "name": "#%%\n"
    }
   },
   "outputs": [
    {
     "data": {
      "text/plain": [
       "[{'buyer': '0x6a47b60c377450a460d3eb828d534ee66eead668',\n",
       "  'price_usd': 46.584005,\n",
       "  'time': 1560799003,\n",
       "  'tx_hash': '0x7616fef86fa64847313027c4fd8fcac4fbae4a6e9aa365c6e1ca7b298eb25953',\n",
       "  'nft_id': '34508_Etheremon'},\n",
       " {'buyer': '0x68d31cb3825e559b1e5c0665f2d65d06a17fce1a',\n",
       "  'price_usd': 46.584005,\n",
       "  'time': 1560813429,\n",
       "  'tx_hash': '0x2a43025b03149efa2552fef430ee039ed7b4e420cf4b99bf9e0a28226b4ec5bd',\n",
       "  'nft_id': '34508_Etheremon'},\n",
       " {'buyer': '0x1e7f320cf5a938465d501f6bd6c405feb3a70f6c',\n",
       "  'price_usd': 44.75542500000001,\n",
       "  'time': 1560827531,\n",
       "  'tx_hash': '0x255bf04be9f794f5e5820774f1bcce8eb83ab9f0af51697a2261f87e38da039b',\n",
       "  'nft_id': '34508_Etheremon'},\n",
       " {'buyer': '0xcdcadf0279ee021a0c40a31ac10fa69e028e21d0',\n",
       "  'price_usd': 44.75542500000001,\n",
       "  'time': 1560841956,\n",
       "  'tx_hash': '0x12d8db7c840025019b2819a6bed59f1ae2d2b7fe715d683ed87aa858a5c9c4ee',\n",
       "  'nft_id': '34508_Etheremon'},\n",
       " {'buyer': '0xa37e6b46fa8e1a6f1ddbf035c4e0230b8414ff04',\n",
       "  'price_usd': 44.75542500000001,\n",
       "  'time': 1560856068,\n",
       "  'tx_hash': '0xa5288840c90657232e9923b108b12cb642dbbdf30e593d61e731782a759750f7',\n",
       "  'nft_id': '34508_Etheremon'},\n",
       " {'buyer': '0xadd12bd6375dc21d579cc4abcfa04864d6ac9a62',\n",
       "  'price_usd': 44.75542500000001,\n",
       "  'time': 1560870441,\n",
       "  'tx_hash': '0xb74e2035bd90fdcb5bef8ae10258dbe86b060a88f03a2e806da6e8d8c38edcbd',\n",
       "  'nft_id': '34508_Etheremon'},\n",
       " {'buyer': '0x1e7f320cf5a938465d501f6bd6c405feb3a70f6c',\n",
       "  'price_usd': 44.75542500000001,\n",
       "  'time': 1560884605,\n",
       "  'tx_hash': '0x954a7b0e96cd2927bb26d891fb4b9c7ae9465e53fa576a4834c583d7019ca2d7',\n",
       "  'nft_id': '34508_Etheremon'},\n",
       " {'buyer': '0x87b77fabfeb869150b8e1b9462603f9a639c5fae',\n",
       "  'price_usd': 44.75542500000001,\n",
       "  'time': 1560898922,\n",
       "  'tx_hash': '0x298573b75ec6996ac08f39083a3166b10661e2d50bc9fd57d1f4a15cd6a6eedf',\n",
       "  'nft_id': '34508_Etheremon'},\n",
       " {'buyer': '0x1c1ef71445010114f41ac1feb32dbf5d7281e90f',\n",
       "  'price_usd': 37.87333000000001,\n",
       "  'time': 1561019828,\n",
       "  'tx_hash': '0x0b1644066190d7dbabb42a31a9b584135566220555f470847794ac39e4eb5364',\n",
       "  'nft_id': '34508_Etheremon'},\n",
       " {'buyer': '0x463215edb66fb6a8f0c979e739a731977617699f',\n",
       "  'price_usd': 46.04743000000001,\n",
       "  'time': 1561030156,\n",
       "  'tx_hash': '0x6a2fc00bf34f24d7e35defb226dfc607300ed3d6fca0c28bda0bbc97f61f3211',\n",
       "  'nft_id': '34508_Etheremon'},\n",
       " {'buyer': '0xadd12bd6375dc21d579cc4abcfa04864d6ac9a62',\n",
       "  'price_usd': 46.04743000000001,\n",
       "  'time': 1561041466,\n",
       "  'tx_hash': '0xaa95009a683ce1c69037296674ff1f1e0601fa58f8b3917822f113182697ff40',\n",
       "  'nft_id': '34508_Etheremon'},\n",
       " {'buyer': '0x463215edb66fb6a8f0c979e739a731977617699f',\n",
       "  'price_usd': 46.04743000000001,\n",
       "  'time': 1561055577,\n",
       "  'tx_hash': '0x191d6658f767c03c4226605f323bff8cae4967a92a7d75a60e179823648aabcf',\n",
       "  'nft_id': '34508_Etheremon'},\n",
       " {'buyer': '0x68d31cb3825e559b1e5c0665f2d65d06a17fce1a',\n",
       "  'price_usd': 46.04743000000001,\n",
       "  'time': 1561069915,\n",
       "  'tx_hash': '0xcac8e3978907859377a0b2ef57ce40e32a4e564cee53f5e5589835f90d9d4048',\n",
       "  'nft_id': '34508_Etheremon'},\n",
       " {'buyer': '0x463215edb66fb6a8f0c979e739a731977617699f',\n",
       "  'price_usd': 50.367915,\n",
       "  'time': 1561084079,\n",
       "  'tx_hash': '0xfe73d1f8e827b29480cb39fe2ab811acca81f6d85e5904734903a8a51d800bde',\n",
       "  'nft_id': '34508_Etheremon'},\n",
       " {'buyer': '0x1c1ef71445010114f41ac1feb32dbf5d7281e90f',\n",
       "  'price_usd': 50.367915,\n",
       "  'time': 1561098406,\n",
       "  'tx_hash': '0xdfb176f3f3237bab279f81f2cda44790f70b8bef756cc569bab384921268087b',\n",
       "  'nft_id': '34508_Etheremon'},\n",
       " {'buyer': '0xadd12bd6375dc21d579cc4abcfa04864d6ac9a62',\n",
       "  'price_usd': 50.367915,\n",
       "  'time': 1561112544,\n",
       "  'tx_hash': '0x25984e7342faaf75d472423b723f8b906bc274d2d40b9f27914d2c24e1e777df',\n",
       "  'nft_id': '34508_Etheremon'},\n",
       " {'buyer': '0xa21e0974137bf8400eb7dca606d9dcb190d79ed9',\n",
       "  'price_usd': 50.367915,\n",
       "  'time': 1561126916,\n",
       "  'tx_hash': '0x77ca44988434781acb47975596080f415e3dafb5d5a16d3e72ede7bc8eeba1c8',\n",
       "  'nft_id': '34508_Etheremon'},\n",
       " {'buyer': '0x463215edb66fb6a8f0c979e739a731977617699f',\n",
       "  'price_usd': 50.367915,\n",
       "  'time': 1561141036,\n",
       "  'tx_hash': '0xa84c4c6687ef226ab2e6384ec1ffae9a81acd55318e5fc7d47db52676d158752',\n",
       "  'nft_id': '34508_Etheremon'},\n",
       " {'buyer': '0x236ef21dc36d0aec3990dd5ee84a9d5320644262',\n",
       "  'price_usd': 50.367915,\n",
       "  'time': 1561155467,\n",
       "  'tx_hash': '0xf339f963d9413d83ae197841b3b1e21cbb58b4ff276da89088a625550e692d7c',\n",
       "  'nft_id': '34508_Etheremon'},\n",
       " {'buyer': '0x00c9da65b33b4f7034b5f50b90f5f6d8320d6ab8',\n",
       "  'price_usd': 51.98355500000001,\n",
       "  'time': 1561169560,\n",
       "  'tx_hash': '0xa2d7bb013c1caa0b747e2652910896611cb0f980f65a14f819bbf27c32ecbf19',\n",
       "  'nft_id': '34508_Etheremon'},\n",
       " {'buyer': '0x1e7f320cf5a938465d501f6bd6c405feb3a70f6c',\n",
       "  'price_usd': 51.98355500000001,\n",
       "  'time': 1561183954,\n",
       "  'tx_hash': '0x97aae77d67af5bb82e56f65abd6a96be0942c3978b30e1e61407cd206ecac760',\n",
       "  'nft_id': '34508_Etheremon'},\n",
       " {'buyer': '0xe738725cdcc41c91f734dd7b5b9659df994d6dda',\n",
       "  'price_usd': 51.98355500000001,\n",
       "  'time': 1561198009,\n",
       "  'tx_hash': '0xb3fa37b293cd7c1b79a5eaa69c3ec552c25f850843feb82dad727c1942a80848',\n",
       "  'nft_id': '34508_Etheremon'},\n",
       " {'buyer': '0x8acc1421ec98689461ff5777de8ad6648dc6d643',\n",
       "  'price_usd': 51.98355500000001,\n",
       "  'time': 1561212460,\n",
       "  'tx_hash': '0x0adf0e1f4b73fbe9b34fff28d62c1fec8e6ca199fe2d2fc7fd9b4544fcc556d6',\n",
       "  'nft_id': '34508_Etheremon'},\n",
       " {'buyer': '0x87b77fabfeb869150b8e1b9462603f9a639c5fae',\n",
       "  'price_usd': 51.98355500000001,\n",
       "  'time': 1561226569,\n",
       "  'tx_hash': '0x46a5633d85ad57a55821ab766f185d44b7226bc093a84145c6232c24f05b38ce',\n",
       "  'nft_id': '34508_Etheremon'},\n",
       " {'buyer': '0x1e7f320cf5a938465d501f6bd6c405feb3a70f6c',\n",
       "  'price_usd': 51.98355500000001,\n",
       "  'time': 1561240909,\n",
       "  'tx_hash': '0x96c03efe8d4ea7bda151f5466409e9a233fb49ea4c65c2d7a53c4cd0ac650ef5',\n",
       "  'nft_id': '34508_Etheremon'},\n",
       " {'buyer': '0xbabda06088c242fb2a763aa7cc99706cb77ba735',\n",
       "  'price_usd': 52.81081,\n",
       "  'time': 1561255040,\n",
       "  'tx_hash': '0x72816b0995cfde5772b576d9359633d563f9574dd066ce3d0b3a4b017b439bc2',\n",
       "  'nft_id': '34508_Etheremon'},\n",
       " {'buyer': '0x7316e9cf94bef40d4981d66a5c41c38b6b32454c',\n",
       "  'price_usd': 52.81081,\n",
       "  'time': 1561269429,\n",
       "  'tx_hash': '0x2bc77c3f7e4116cdcf096680c7e6c7ec7516e0129cb0e58960835f18c6ce2636',\n",
       "  'nft_id': '34508_Etheremon'},\n",
       " {'buyer': '0xa37e6b46fa8e1a6f1ddbf035c4e0230b8414ff04',\n",
       "  'price_usd': 52.81081,\n",
       "  'time': 1561283557,\n",
       "  'tx_hash': '0x44f170a495b69996f9932e35995ef16137250f201cb72e17b8c4d5b6fb89b1ae',\n",
       "  'nft_id': '34508_Etheremon'},\n",
       " {'buyer': '0xcdcadf0279ee021a0c40a31ac10fa69e028e21d0',\n",
       "  'price_usd': 52.81081,\n",
       "  'time': 1561297930,\n",
       "  'tx_hash': '0xa3e35ee18f43fb9ee61c07b42ad84639868b5e6d5c5c167298703ec0327d98ce',\n",
       "  'nft_id': '34508_Etheremon'},\n",
       " {'buyer': '0xf5aee6d7b838d5ede8aa65d31dbc11116545180c',\n",
       "  'price_usd': 52.81081,\n",
       "  'time': 1561312032,\n",
       "  'tx_hash': '0x8e5a828351b0bf67003763bcbc51ca3175b641593d410e43f55bd937e86c3588',\n",
       "  'nft_id': '34508_Etheremon'},\n",
       " {'buyer': '0x463215edb66fb6a8f0c979e739a731977617699f',\n",
       "  'price_usd': 52.81081,\n",
       "  'time': 1561326445,\n",
       "  'tx_hash': '0x8e75b90da56fda17bc8cb29b58cf874201bf502f6e5b9a485e45c1e4a7e8dafe',\n",
       "  'nft_id': '34508_Etheremon'},\n",
       " {'buyer': '0x87b77fabfeb869150b8e1b9462603f9a639c5fae',\n",
       "  'price_usd': 52.79898000000001,\n",
       "  'time': 1561340511,\n",
       "  'tx_hash': '0x2df11ce407e7fbf2b607d712c564049ca7a459c30842e7ef8edd901199f06d1c',\n",
       "  'nft_id': '34508_Etheremon'},\n",
       " {'buyer': '0xadd12bd6375dc21d579cc4abcfa04864d6ac9a62',\n",
       "  'price_usd': 52.79898000000001,\n",
       "  'time': 1561354928,\n",
       "  'tx_hash': '0xdfc5d65301c6a16933480126883461c866ce1f8f678c34fc54a9f0da1ba7acbb',\n",
       "  'nft_id': '34508_Etheremon'},\n",
       " {'buyer': '0xa37e6b46fa8e1a6f1ddbf035c4e0230b8414ff04',\n",
       "  'price_usd': 52.79898000000001,\n",
       "  'time': 1561369017,\n",
       "  'tx_hash': '0xda141ba421380044827822b7614dad70fe0491f059b1bc7968c7c58faff4c60a',\n",
       "  'nft_id': '34508_Etheremon'},\n",
       " {'buyer': '0x6a47b60c377450a460d3eb828d534ee66eead668',\n",
       "  'price_usd': 52.79898000000001,\n",
       "  'time': 1561383428,\n",
       "  'tx_hash': '0xba0eea8b5f44dbfeef32a728f1f31e1cdcecc65904130af399e95001b0e043b4',\n",
       "  'nft_id': '34508_Etheremon'}]"
      ]
     },
     "metadata": {},
     "output_type": "display_data"
    }
   ],
   "source": [
    "data_df = pd.DataFrame(data)\n",
    "display(data_df.iloc[20][\"row\"][4]['cycle']['sales'])"
   ]
  },
  {
   "cell_type": "code",
   "execution_count": 61,
   "id": "e47ef94a",
   "metadata": {
    "pycharm": {
     "name": "#%%\n"
    }
   },
   "outputs": [],
   "source": [
    "data_df[\"profit\"]=data_df[\"row\"].apply(lambda x: x[4]['profit_usd'])"
   ]
  },
  {
   "cell_type": "code",
   "execution_count": 21,
   "id": "e8d2b904",
   "metadata": {
    "pycharm": {
     "name": "#%%\n"
    }
   },
   "outputs": [],
   "source": [
    "data_df[\"min_ts\"] = data_df[\"row\"].apply(lambda x: min(map(lambda y: y[\"time\"],x[4]['cycle']['sales'])))"
   ]
  },
  {
   "cell_type": "code",
   "execution_count": 22,
   "id": "873201b8",
   "metadata": {
    "pycharm": {
     "name": "#%%\n"
    }
   },
   "outputs": [],
   "source": [
    "data_df[\"max_ts\"] = data_df[\"row\"].apply(lambda x: max(map(lambda y: y[\"time\"],x[4]['cycle']['sales'])))"
   ]
  },
  {
   "cell_type": "code",
   "execution_count": 24,
   "id": "3ad01894",
   "metadata": {
    "pycharm": {
     "name": "#%%\n"
    }
   },
   "outputs": [],
   "source": [
    "data_df[\"length\"] = data_df[\"row\"].apply(lambda x: len(x[4]['cycle']['sales']))"
   ]
  },
  {
   "cell_type": "code",
   "execution_count": 25,
   "id": "b556217f",
   "metadata": {
    "pycharm": {
     "name": "#%%\n"
    }
   },
   "outputs": [],
   "source": [
    "data_df[\"duration_days\"] = (data_df[\"max_ts\"] - data_df[\"min_ts\"])/86400"
   ]
  },
  {
   "cell_type": "code",
   "execution_count": 62,
   "id": "5deb9a08",
   "metadata": {
    "pycharm": {
     "name": "#%%\n"
    }
   },
   "outputs": [
    {
     "data": {
      "text/html": [
       "<div>\n",
       "<style scoped>\n",
       "    .dataframe tbody tr th:only-of-type {\n",
       "        vertical-align: middle;\n",
       "    }\n",
       "\n",
       "    .dataframe tbody tr th {\n",
       "        vertical-align: top;\n",
       "    }\n",
       "\n",
       "    .dataframe thead th {\n",
       "        text-align: right;\n",
       "    }\n",
       "</style>\n",
       "<table border=\"1\" class=\"dataframe\">\n",
       "  <thead>\n",
       "    <tr style=\"text-align: right;\">\n",
       "      <th></th>\n",
       "      <th>timestamp</th>\n",
       "      <th>window</th>\n",
       "      <th>row</th>\n",
       "      <th>min_ts</th>\n",
       "      <th>max_ts</th>\n",
       "      <th>length</th>\n",
       "      <th>duration_days</th>\n",
       "      <th>profit</th>\n",
       "    </tr>\n",
       "  </thead>\n",
       "  <tbody>\n",
       "    <tr>\n",
       "      <th>0</th>\n",
       "      <td>1619562578</td>\n",
       "      <td>None</td>\n",
       "      <td>[60259_Rari, Rari, Art, 2, {'buyer': '0xfc233a...</td>\n",
       "      <td>1609577631</td>\n",
       "      <td>1610247255</td>\n",
       "      <td>2</td>\n",
       "      <td>7.750278</td>\n",
       "      <td>3747.449500</td>\n",
       "    </tr>\n",
       "    <tr>\n",
       "      <th>1</th>\n",
       "      <td>1619562578</td>\n",
       "      <td>None</td>\n",
       "      <td>[60259_Rari, Rari, Art, 2, {'buyer': '0xfc233a...</td>\n",
       "      <td>1608425450</td>\n",
       "      <td>1609033299</td>\n",
       "      <td>2</td>\n",
       "      <td>7.035289</td>\n",
       "      <td>18.099500</td>\n",
       "    </tr>\n",
       "    <tr>\n",
       "      <th>2</th>\n",
       "      <td>1619562578</td>\n",
       "      <td>None</td>\n",
       "      <td>[60259_Rari, Rari, Art, 2, {'buyer': '0xfc233a...</td>\n",
       "      <td>1607718374</td>\n",
       "      <td>1608425450</td>\n",
       "      <td>2</td>\n",
       "      <td>8.183750</td>\n",
       "      <td>828.065000</td>\n",
       "    </tr>\n",
       "    <tr>\n",
       "      <th>3</th>\n",
       "      <td>1619562578</td>\n",
       "      <td>None</td>\n",
       "      <td>[557720982044760014422846897256062512766055887...</td>\n",
       "      <td>1614352229</td>\n",
       "      <td>1617500507</td>\n",
       "      <td>3</td>\n",
       "      <td>36.438403</td>\n",
       "      <td>28.137960</td>\n",
       "    </tr>\n",
       "    <tr>\n",
       "      <th>4</th>\n",
       "      <td>1619562578</td>\n",
       "      <td>None</td>\n",
       "      <td>[633479_Cryptokittie, Cryptokittie, Art, 4, {'...</td>\n",
       "      <td>1521531679</td>\n",
       "      <td>1521614131</td>\n",
       "      <td>4</td>\n",
       "      <td>0.954306</td>\n",
       "      <td>3.522571</td>\n",
       "    </tr>\n",
       "    <tr>\n",
       "      <th>...</th>\n",
       "      <td>...</td>\n",
       "      <td>...</td>\n",
       "      <td>...</td>\n",
       "      <td>...</td>\n",
       "      <td>...</td>\n",
       "      <td>...</td>\n",
       "      <td>...</td>\n",
       "      <td>...</td>\n",
       "    </tr>\n",
       "    <tr>\n",
       "      <th>16668</th>\n",
       "      <td>1619562578</td>\n",
       "      <td>None</td>\n",
       "      <td>[72491_Rari, Rari, Art, 5, {'buyer': '0x3c1ce6...</td>\n",
       "      <td>1604682716</td>\n",
       "      <td>1604682888</td>\n",
       "      <td>5</td>\n",
       "      <td>0.001991</td>\n",
       "      <td>69.890400</td>\n",
       "    </tr>\n",
       "    <tr>\n",
       "      <th>16669</th>\n",
       "      <td>1619562578</td>\n",
       "      <td>None</td>\n",
       "      <td>[569997_Cryptokittie, Cryptokittie, Art, 2, {'...</td>\n",
       "      <td>1520013937</td>\n",
       "      <td>1521092896</td>\n",
       "      <td>2</td>\n",
       "      <td>12.487951</td>\n",
       "      <td>0.000229</td>\n",
       "    </tr>\n",
       "    <tr>\n",
       "      <th>16670</th>\n",
       "      <td>1619562578</td>\n",
       "      <td>None</td>\n",
       "      <td>[26111_Rari, Rari, Art, 3, {'buyer': '0x830f79...</td>\n",
       "      <td>1604605155</td>\n",
       "      <td>1604653389</td>\n",
       "      <td>3</td>\n",
       "      <td>0.558264</td>\n",
       "      <td>1.914630</td>\n",
       "    </tr>\n",
       "    <tr>\n",
       "      <th>16671</th>\n",
       "      <td>1619562578</td>\n",
       "      <td>None</td>\n",
       "      <td>[11108_Rari, Rari, Art, 8, {'buyer': '0x4c8e27...</td>\n",
       "      <td>1600302704</td>\n",
       "      <td>1602109731</td>\n",
       "      <td>8</td>\n",
       "      <td>20.914664</td>\n",
       "      <td>196.705605</td>\n",
       "    </tr>\n",
       "    <tr>\n",
       "      <th>16672</th>\n",
       "      <td>1619562578</td>\n",
       "      <td>None</td>\n",
       "      <td>[978681_Cryptokittie, Cryptokittie, Art, 2, {'...</td>\n",
       "      <td>1536695960</td>\n",
       "      <td>1536936433</td>\n",
       "      <td>2</td>\n",
       "      <td>2.783252</td>\n",
       "      <td>3.398566</td>\n",
       "    </tr>\n",
       "  </tbody>\n",
       "</table>\n",
       "<p>16673 rows × 8 columns</p>\n",
       "</div>"
      ],
      "text/plain": [
       "        timestamp window                                                row  \\\n",
       "0      1619562578   None  [60259_Rari, Rari, Art, 2, {'buyer': '0xfc233a...   \n",
       "1      1619562578   None  [60259_Rari, Rari, Art, 2, {'buyer': '0xfc233a...   \n",
       "2      1619562578   None  [60259_Rari, Rari, Art, 2, {'buyer': '0xfc233a...   \n",
       "3      1619562578   None  [557720982044760014422846897256062512766055887...   \n",
       "4      1619562578   None  [633479_Cryptokittie, Cryptokittie, Art, 4, {'...   \n",
       "...           ...    ...                                                ...   \n",
       "16668  1619562578   None  [72491_Rari, Rari, Art, 5, {'buyer': '0x3c1ce6...   \n",
       "16669  1619562578   None  [569997_Cryptokittie, Cryptokittie, Art, 2, {'...   \n",
       "16670  1619562578   None  [26111_Rari, Rari, Art, 3, {'buyer': '0x830f79...   \n",
       "16671  1619562578   None  [11108_Rari, Rari, Art, 8, {'buyer': '0x4c8e27...   \n",
       "16672  1619562578   None  [978681_Cryptokittie, Cryptokittie, Art, 2, {'...   \n",
       "\n",
       "           min_ts      max_ts  length  duration_days       profit  \n",
       "0      1609577631  1610247255       2       7.750278  3747.449500  \n",
       "1      1608425450  1609033299       2       7.035289    18.099500  \n",
       "2      1607718374  1608425450       2       8.183750   828.065000  \n",
       "3      1614352229  1617500507       3      36.438403    28.137960  \n",
       "4      1521531679  1521614131       4       0.954306     3.522571  \n",
       "...           ...         ...     ...            ...          ...  \n",
       "16668  1604682716  1604682888       5       0.001991    69.890400  \n",
       "16669  1520013937  1521092896       2      12.487951     0.000229  \n",
       "16670  1604605155  1604653389       3       0.558264     1.914630  \n",
       "16671  1600302704  1602109731       8      20.914664   196.705605  \n",
       "16672  1536695960  1536936433       2       2.783252     3.398566  \n",
       "\n",
       "[16673 rows x 8 columns]"
      ]
     },
     "metadata": {},
     "output_type": "display_data"
    }
   ],
   "source": [
    "display(data_df)"
   ]
  },
  {
   "cell_type": "markdown",
   "id": "07f4b57d-6e61-4784-bb08-3f24dad0f451",
   "metadata": {
    "pycharm": {
     "name": "#%% md\n"
    }
   },
   "source": [
    "## Cycle length distributions"
   ]
  },
  {
   "cell_type": "code",
   "execution_count": 39,
   "id": "49f90558",
   "metadata": {
    "pycharm": {
     "name": "#%%\n"
    }
   },
   "outputs": [
    {
     "data": {
      "image/png": "[encoded data removed]",
      "text/plain": [
       "<Figure size 432x288 with 1 Axes>"
      ]
     },
     "metadata": {
      "needs_background": "light"
     },
     "output_type": "display_data"
    }
   ],
   "source": [
    "x,y = ccdf(data_df.duration_days)\n",
    "\n",
    "fig, ax = plt.subplots()\n",
    "ax.set_xscale(\"log\")\n",
    "ax.set_yscale(\"log\")\n",
    "ax.plot(x,y, marker=\"o\")\n",
    "ax.set_ylabel(\"CCDF\")\n",
    "ax.set_xlabel(\"Cycle duration (days)\")\n",
    "\n",
    "plt.show()"
   ]
  },
  {
   "cell_type": "code",
   "execution_count": 40,
   "id": "aca2c97f",
   "metadata": {
    "pycharm": {
     "name": "#%%\n"
    }
   },
   "outputs": [
    {
     "data": {
      "image/png": "[encoded data removed]",
      "text/plain": [
       "<Figure size 432x288 with 1 Axes>"
      ]
     },
     "metadata": {
      "needs_background": "light"
     },
     "output_type": "display_data"
    }
   ],
   "source": [
    "x,y = ccdf(data_df.length)\n",
    "\n",
    "fig, ax = plt.subplots()\n",
    "ax.set_xscale(\"log\")\n",
    "ax.set_yscale(\"log\")\n",
    "ax.plot(x,y, marker=\"o\")\n",
    "ax.set_ylabel(\"CCDF\")\n",
    "ax.set_xlabel(\"Cycle length (hops)\")\n",
    "\n",
    "plt.show()"
   ]
  },
  {
   "cell_type": "code",
   "execution_count": 52,
   "id": "f47aeb82",
   "metadata": {
    "pycharm": {
     "name": "#%%\n"
    }
   },
   "outputs": [
    {
     "name": "stdout",
     "output_type": "stream",
     "text": [
      "[7.56712963e-03 9.91689815e-01 2.91678241e+00 6.11468750e+00\n",
      " 2.00502199e+01]\n"
     ]
    },
    {
     "data": {
      "image/png": "[encoded data removed]",
      "text/plain": [
       "<Figure size 432x288 with 1 Axes>"
      ]
     },
     "metadata": {
      "needs_background": "light"
     },
     "output_type": "display_data"
    }
   ],
   "source": [
    "quantiles_of_interest = [0.05,0.25,0.50,0.75,0.95]\n",
    "duration_quantiles = np.quantile(data_df.duration_days, q=quantiles_of_interest)\n",
    "print(duration_quantiles)\n",
    "\n",
    "fig, ax = plt.subplots()\n",
    "\n",
    "for i,q in enumerate(duration_quantiles):\n",
    "    x,y = ccdf(data_df[data_df.duration_days<q].length)\n",
    "    ax.plot(x,y,label=\"Shortest \"+str(quantiles_of_interest[i]*100)+\"%\")\n",
    "\n",
    "ax.legend(loc=\"upper right\")\n",
    "plt.show()"
   ]
  },
  {
   "cell_type": "code",
   "execution_count": 58,
   "id": "10f10c5e",
   "metadata": {
    "pycharm": {
     "name": "#%%\n"
    }
   },
   "outputs": [
    {
     "name": "stderr",
     "output_type": "stream",
     "text": [
      "No artists with labels found to put in legend.  Note that artists whose label start with an underscore are ignored when legend() is called with no argument.\n"
     ]
    },
    {
     "data": {
      "image/png": "[encoded data removed]",
      "text/plain": [
       "<Figure size 432x288 with 1 Axes>"
      ]
     },
     "metadata": {
      "needs_background": "light"
     },
     "output_type": "display_data"
    }
   ],
   "source": [
    "fig, ax = plt.subplots()\n",
    "for i,q in enumerate(duration_quantiles):\n",
    "    sns.kdeplot(data_df[data_df.duration_days<q].max_ts,ax=ax)\n",
    "\n",
    "ax.legend(loc=\"upper right\")\n",
    "plt.show()"
   ]
  },
  {
   "cell_type": "code",
   "execution_count": 73,
   "id": "1048b13d",
   "metadata": {
    "pycharm": {
     "name": "#%%\n"
    }
   },
   "outputs": [
    {
     "data": {
      "image/png": "[encoded data removed]",
      "text/plain": [
       "<Figure size 432x288 with 1 Axes>"
      ]
     },
     "metadata": {
      "needs_background": "light"
     },
     "output_type": "display_data"
    }
   ],
   "source": [
    "ax = sns.scatterplot(data=data_df, x=\"duration_days\", y=\"length\")\n",
    "ax.set_xlabel(\"Cycle duration (days)\")\n",
    "ax.set_ylabel(\"Cycle length (hops)\")\n",
    "# ax.set_xscale(\"log\")\n",
    "# ax.set_yscale(\"log\")\n",
    "plt.show()"
   ]
  },
  {
   "cell_type": "code",
   "execution_count": 75,
   "id": "6593e3cb",
   "metadata": {
    "pycharm": {
     "name": "#%%\n"
    }
   },
   "outputs": [
    {
     "data": {
      "image/png": "[encoded data removed]",
      "text/plain": [
       "<Figure size 432x288 with 1 Axes>"
      ]
     },
     "metadata": {
      "needs_background": "light"
     },
     "output_type": "display_data"
    }
   ],
   "source": [
    "ax = sns.scatterplot(data=data_df, x=\"duration_days\", y=\"profit\")\n",
    "ax.set_xlabel(\"Cycle duration (days)\")\n",
    "ax.set_ylabel(\"Cycle profit (USD)\")\n",
    "# ax.set_xscale(\"log\")\n",
    "# ax.set_yscale(\"log\")\n",
    "plt.show()"
   ]
  },
  {
   "cell_type": "code",
   "execution_count": 70,
   "id": "7eabd040",
   "metadata": {
    "pycharm": {
     "name": "#%%\n"
    }
   },
   "outputs": [
    {
     "data": {
      "image/png": "[encoded data removed]",
      "text/plain": [
       "<Figure size 432x288 with 1 Axes>"
      ]
     },
     "metadata": {
      "needs_background": "light"
     },
     "output_type": "display_data"
    }
   ],
   "source": [
    "ax = sns.scatterplot(data=data_df, x=\"length\", y=\"profit\")\n",
    "ax.set_xlabel(\"Cycle length (hops)\")\n",
    "ax.set_ylabel(\"Cycle profit (USD)\")\n",
    "# ax.set_xscale(\"log\")\n",
    "# ax.set_yscale(\"log\")\n",
    "plt.show()"
   ]
  },
  {
   "cell_type": "code",
   "execution_count": 32,
   "id": "d7e3533f",
   "metadata": {
    "pycharm": {
     "name": "#%%\n"
    }
   },
   "outputs": [
    {
     "data": {
      "image/png": "[encoded data removed]",
      "text/plain": [
       "<Figure size 432x288 with 1 Axes>"
      ]
     },
     "metadata": {
      "needs_background": "light"
     },
     "output_type": "display_data"
    }
   ],
   "source": [
    "fig, ax = plt.subplots()\n",
    "ax = sns.kdeplot(data_df.min_ts)\n",
    "ax = sns.kdeplot(data_df.max_ts)"
   ]
  },
  {
   "cell_type": "code",
   "execution_count": 14,
   "id": "5e9be7cc-445a-4003-a4dc-8cdd64296d55",
   "metadata": {
    "pycharm": {
     "name": "#%%\n"
    },
    "scrolled": true,
    "tags": []
   },
   "outputs": [
    {
     "name": "stdout",
     "output_type": "stream",
     "text": [
      "size of chain\n"
     ]
    },
    {
     "data": {
      "text/plain": [
       "206"
      ]
     },
     "execution_count": 14,
     "metadata": {},
     "output_type": "execute_result"
    }
   ],
   "source": [
    "longest_data = max(data, key=lambda row: len(row[\"row\"][4]['cycle']['sales']))\n",
    "print(\"size of chain\")\n",
    "len(longest_data['row'][4]['cycle']['sales'])"
   ]
  },
  {
   "cell_type": "code",
   "execution_count": 9,
   "id": "81792489",
   "metadata": {
    "pycharm": {
     "name": "#%%\n"
    }
   },
   "outputs": [
    {
     "name": "stdout",
     "output_type": "stream",
     "text": [
      "1619562578\n"
     ]
    }
   ],
   "source": []
  },
  {
   "cell_type": "code",
   "execution_count": 9,
   "id": "d3be176b-d4bb-438d-ae38-814c97a2d07d",
   "metadata": {
    "pycharm": {
     "name": "#%%\n"
    }
   },
   "outputs": [
    {
     "data": {
      "text/plain": [
       "Counter({'0xe738725cdcc41c91f734dd7b5b9659df994d6dda': 2,\n",
       "         '0xbabda06088c242fb2a763aa7cc99706cb77ba735': 9,\n",
       "         '0x463215edb66fb6a8f0c979e739a731977617699f': 7,\n",
       "         '0x8acc1421ec98689461ff5777de8ad6648dc6d643': 15,\n",
       "         '0x7316e9cf94bef40d4981d66a5c41c38b6b32454c': 11,\n",
       "         '0xf5aee6d7b838d5ede8aa65d31dbc11116545180c': 16,\n",
       "         '0x838c14eb3eabe4cb6a696d286c7b2a466629d0ee': 16,\n",
       "         '0x6a47b60c377450a460d3eb828d534ee66eead668': 14,\n",
       "         '0x6e13c7e25c2cda6f5c8c4e431bee480bfb312c28': 12,\n",
       "         '0x68d31cb3825e559b1e5c0665f2d65d06a17fce1a': 15,\n",
       "         '0x87b77fabfeb869150b8e1b9462603f9a639c5fae': 15,\n",
       "         '0xa21e0974137bf8400eb7dca606d9dcb190d79ed9': 12,\n",
       "         '0x179d698f5a1c84c3ff4c5eb04e553c15a0c1d8d8': 13,\n",
       "         '0x1e7f320cf5a938465d501f6bd6c405feb3a70f6c': 5,\n",
       "         '0xadd12bd6375dc21d579cc4abcfa04864d6ac9a62': 6,\n",
       "         '0x00c9da65b33b4f7034b5f50b90f5f6d8320d6ab8': 9,\n",
       "         '0xa37e6b46fa8e1a6f1ddbf035c4e0230b8414ff04': 10,\n",
       "         '0xcdcadf0279ee021a0c40a31ac10fa69e028e21d0': 8,\n",
       "         '0x236ef21dc36d0aec3990dd5ee84a9d5320644262': 4,\n",
       "         '0x1c1ef71445010114f41ac1feb32dbf5d7281e90f': 6,\n",
       "         '0x4802fb847d96ad2896fc78745befa1ccad01ab9a': 1})"
      ]
     },
     "execution_count": 9,
     "metadata": {},
     "output_type": "execute_result"
    }
   ],
   "source": [
    "from collections import Counter\n",
    "Counter([sale['buyer'] for sale in longest_data['row'][4]['cycle']['sales']])"
   ]
  },
  {
   "cell_type": "code",
   "execution_count": 10,
   "id": "5e2666cf-84cc-4c66-8784-04a19c70e0ee",
   "metadata": {
    "pycharm": {
     "name": "#%%\n"
    },
    "scrolled": true,
    "tags": []
   },
   "outputs": [
    {
     "data": {
      "text/plain": [
       "(1554691950, 1550901539, 63173.51666666667)"
      ]
     },
     "execution_count": 10,
     "metadata": {},
     "output_type": "execute_result"
    }
   ],
   "source": [
    "longest_data['row'][4]['cycle']['sales'][-1]['time'], longest_data['row'][4]['cycle']['sales'][0]['time'], (longest_data['row'][4]['cycle']['sales'][-1]['time']-longest_data['row'][4]['cycle']['sales'][0]['time'])/60"
   ]
  },
  {
   "cell_type": "markdown",
   "id": "ef70d4ec-1317-4c83-9020-ef6a3b6c689d",
   "metadata": {
    "pycharm": {
     "name": "#%% md\n"
    }
   },
   "source": [
    "Not suspicious?"
   ]
  },
  {
   "cell_type": "markdown",
   "id": "bea5a8ba-9c3f-4f4c-b056-cdcad9395589",
   "metadata": {
    "pycharm": {
     "name": "#%% md\n"
    }
   },
   "source": [
    "#### Most profitable NFT cycles"
   ]
  },
  {
   "cell_type": "code",
   "execution_count": 11,
   "id": "a99982da-0ae9-4896-aae2-053a4c15fa0b",
   "metadata": {
    "pycharm": {
     "name": "#%%\n"
    }
   },
   "outputs": [],
   "source": [
    "profitable_trades = np.array([x['row'][4]['profit_usd'] for x in data])"
   ]
  },
  {
   "cell_type": "code",
   "execution_count": 12,
   "id": "860d9d62-d2e5-4bb7-8ab3-0380cf730956",
   "metadata": {
    "pycharm": {
     "name": "#%%\n"
    }
   },
   "outputs": [
    {
     "name": "stdout",
     "output_type": "stream",
     "text": [
      "Max profit 59220.018\n",
      "Min profit 6.697753462958644e-12\n"
     ]
    }
   ],
   "source": [
    "print(\"Max profit %s\" % profitable_trades.max())\n",
    "print(\"Min profit %s\" % profitable_trades.min())"
   ]
  },
  {
   "cell_type": "markdown",
   "id": "ac7cd05c-c650-423e-bd59-c920c3f841c7",
   "metadata": {
    "pycharm": {
     "name": "#%% md\n"
    }
   },
   "source": [
    "#### frequency of profits\n",
    "\n",
    "highly skewed"
   ]
  },
  {
   "cell_type": "code",
   "execution_count": 13,
   "id": "4b97ac2c-1c43-4914-94d9-22d65a0f36e5",
   "metadata": {
    "pycharm": {
     "name": "#%%\n"
    }
   },
   "outputs": [],
   "source": [
    "profits = [trade['row'][4]['profit_usd'] for trade in data]"
   ]
  },
  {
   "cell_type": "code",
   "execution_count": 14,
   "id": "baa41748-1cde-4a41-ad4f-4489205cfa44",
   "metadata": {
    "pycharm": {
     "name": "#%%\n"
    }
   },
   "outputs": [
    {
     "data": {
      "text/plain": [
       "(1141.993050903458, 6.697753462958644e-12, 59220.018, 16673)"
      ]
     },
     "execution_count": 14,
     "metadata": {},
     "output_type": "execute_result"
    }
   ],
   "source": [
    "np.std(profits), min(profits), max(profits), len(profits)"
   ]
  },
  {
   "cell_type": "code",
   "execution_count": 15,
   "id": "3229faa1-82ef-488f-89ff-a9a2b449ac13",
   "metadata": {
    "pycharm": {
     "name": "#%%\n"
    }
   },
   "outputs": [
    {
     "data": {
      "text/plain": [
       "(118.17145378028405, 14.269678921028847, 5.234855907639334, 2.031706742531798)"
      ]
     },
     "execution_count": 15,
     "metadata": {},
     "output_type": "execute_result"
    }
   ],
   "source": [
    "np.mean(profits), stats.trim_mean(profits, 0.05), stats.trim_mean(profits, 0.10), stats.trim_mean(profits, 0.25)"
   ]
  },
  {
   "cell_type": "code",
   "execution_count": 16,
   "id": "4097b666-9fec-412c-bc2f-629dcd6c7ff0",
   "metadata": {
    "pycharm": {
     "name": "#%%\n"
    }
   },
   "outputs": [
    {
     "data": {
      "image/png": "[encoded data removed]",
      "text/plain": [
       "<Figure size 432x288 with 1 Axes>"
      ]
     },
     "metadata": {
      "needs_background": "light"
     },
     "output_type": "display_data"
    }
   ],
   "source": [
    "plt.hist(profits, bins=20)\n",
    "plt.xlabel(\"profit (USD)\")\n",
    "plt.ylabel(\"frequency\")\n",
    "plt.savefig(\"frequency_profits.png\")"
   ]
  },
  {
   "cell_type": "code",
   "execution_count": 17,
   "id": "7da9939c-a266-42f3-bdd2-52545077517b",
   "metadata": {
    "pycharm": {
     "name": "#%%\n"
    }
   },
   "outputs": [],
   "source": [
    "# trim top and bottom 5%\n",
    "trimmed_profits = stats.trimboth(profits, 0.05)"
   ]
  },
  {
   "cell_type": "code",
   "execution_count": 20,
   "id": "8a77d86e-dfd4-4ce6-8a66-19f116f2f479",
   "metadata": {
    "pycharm": {
     "name": "#%%\n"
    }
   },
   "outputs": [
    {
     "data": {
      "image/png": "[encoded data removed]",
      "text/plain": [
       "<Figure size 432x288 with 1 Axes>"
      ]
     },
     "metadata": {
      "needs_background": "light"
     },
     "output_type": "display_data"
    }
   ],
   "source": [
    "plt.hist(trimmed_profits, bins=20)\n",
    "plt.xlabel(\"profit (USD)\")\n",
    "plt.ylabel(\"frequency\")\n",
    "plt.savefig(\"/tmp/frequency_profits_trimmed.png\")"
   ]
  },
  {
   "cell_type": "markdown",
   "id": "8536cdf8-e82a-4f63-9e7e-8f4efb5a4f97",
   "metadata": {
    "pycharm": {
     "name": "#%% md\n"
    }
   },
   "source": [
    "#### how much of the nfts appreciated the most in the cycle"
   ]
  },
  {
   "cell_type": "code",
   "execution_count": 21,
   "id": "ae059c4d-b4a8-4dc3-814b-892d5f81faba",
   "metadata": {
    "pycharm": {
     "name": "#%%\n"
    },
    "scrolled": true,
    "tags": []
   },
   "outputs": [
    {
     "name": "stdout",
     "output_type": "stream",
     "text": [
      "min 0.0000, max 59220.0180, amt 16673\n"
     ]
    },
    {
     "data": {
      "text/plain": [
       "90.04378336232232"
      ]
     },
     "execution_count": 21,
     "metadata": {},
     "output_type": "execute_result"
    }
   ],
   "source": [
    "print(\"min %.4f, max %.4f, amt %i\" % (min(profits), max(profits), len(profits)))\n",
    "value = 80 # USD\n",
    "(len([_ for _ in profits if _ <= value])/len(profits)) * 100"
   ]
  },
  {
   "cell_type": "code",
   "execution_count": null,
   "id": "1bcb58f7-f2ab-455e-9b27-edd291b8695e",
   "metadata": {
    "pycharm": {
     "name": "#%%\n"
    }
   },
   "outputs": [],
   "source": [
    "# sns_plot.figure.savefig(\"output.png\")"
   ]
  },
  {
   "cell_type": "code",
   "execution_count": 22,
   "id": "422bcc8c-ab67-4a98-ab81-ce93f0188f8c",
   "metadata": {
    "pycharm": {
     "name": "#%%\n"
    }
   },
   "outputs": [
    {
     "name": "stderr",
     "output_type": "stream",
     "text": [
      "/opt/homebrew/lib/python3.9/site-packages/seaborn/distributions.py:2619: FutureWarning: `distplot` is a deprecated function and will be removed in a future version. Please adapt your code to use either `displot` (a figure-level function with similar flexibility) or `histplot` (an axes-level function for histograms).\n",
      "  warnings.warn(msg, FutureWarning)\n",
      "/opt/homebrew/lib/python3.9/site-packages/seaborn/distributions.py:2619: FutureWarning: `distplot` is a deprecated function and will be removed in a future version. Please adapt your code to use either `displot` (a figure-level function with similar flexibility) or `histplot` (an axes-level function for histograms).\n",
      "  warnings.warn(msg, FutureWarning)\n"
     ]
    },
    {
     "data": {
      "image/png": "[encoded data removed]",
      "text/plain": [
       "<Figure size 720x360 with 2 Axes>"
      ]
     },
     "metadata": {
      "needs_background": "light"
     },
     "output_type": "display_data"
    }
   ],
   "source": [
    "# the histogram of the data\n",
    "\n",
    "fig, ax = plt.subplots(1, 2, figsize=(10, 5))\n",
    "sns.distplot(profitable_trades, ax=ax[0])\n",
    "sns.distplot(np.log(profitable_trades), ax=ax[1])\n",
    "ax[1].set_xscale(\"log\")\n",
    "plt.show()"
   ]
  },
  {
   "cell_type": "markdown",
   "id": "b69cda3e-d45a-4820-af59-e2f776a1a5fe",
   "metadata": {
    "pycharm": {
     "name": "#%% md\n"
    }
   },
   "source": [
    "# Highest Cost Cycles"
   ]
  },
  {
   "cell_type": "markdown",
   "id": "b5c1cd6f-73b4-43a4-bf7e-72b9f4553c7f",
   "metadata": {
    "pycharm": {
     "name": "#%% md\n"
    }
   },
   "source": [
    "Top 5 NFTs that appreciated the most"
   ]
  },
  {
   "cell_type": "code",
   "execution_count": 23,
   "id": "92c1ea9c-2639-4734-b125-e6f6cacf05d4",
   "metadata": {
    "pycharm": {
     "name": "#%%\n"
    }
   },
   "outputs": [
    {
     "ename": "NameError",
     "evalue": "name 'trade' is not defined",
     "output_type": "error",
     "traceback": [
      "\u001b[0;31m---------------------------------------------------------------------------\u001b[0m",
      "\u001b[0;31mNameError\u001b[0m                                 Traceback (most recent call last)",
      "\u001b[1;32m/Users/naomiarnold/CODE/Raphtory/Raphtory/examples/raphtory-example-nft/python/analysis.ipynb Cell 32\u001b[0m in \u001b[0;36m<module>\u001b[0;34m\u001b[0m\n\u001b[0;32m----> <a href='vscode-notebook-cell:/Users/naomiarnold/CODE/Raphtory/Raphtory/examples/raphtory-example-nft/python/analysis.ipynb#ch0000031?line=0'>1</a>\u001b[0m trade\n",
      "\u001b[0;31mNameError\u001b[0m: name 'trade' is not defined"
     ]
    }
   ],
   "source": [
    "trade"
   ]
  },
  {
   "cell_type": "code",
   "execution_count": 25,
   "id": "c210acf5-6262-4c37-8e3c-ef435639ac16",
   "metadata": {
    "pycharm": {
     "name": "#%%\n"
    }
   },
   "outputs": [],
   "source": [
    "def pretty_cycle(cycle):\n",
    "    as_string = '   '\n",
    "    prev_price = cycle[0]['price_usd']\n",
    "    prev_time = cycle[0]['time']\n",
    "    for item in cycle:\n",
    "        diff = item['price_usd']-prev_price\n",
    "        time_secs = item['time']-prev_time\n",
    "        time_mins = time_secs/60\n",
    "        time_hours = time_secs/60/60\n",
    "        time_days = time_secs/60/60/24 \n",
    "        prev_time = item['time']\n",
    "        time_str = '%.1fm/%.1fh/%.2fd' % (time_mins, time_hours, time_days)\n",
    "        as_string += 'T(d) '+time_str+', B: '+item['buyer'][:4]+'.. $'+str(item['price_usd'])+'('+str(diff)+') '+item['tx_hash']+'\\n->'\n",
    "    as_string = as_string[:-3]\n",
    "    print(as_string)\n",
    "# pretty_cycle(all_profits_sorted[0]['cycle'])"
   ]
  },
  {
   "cell_type": "code",
   "execution_count": 26,
   "id": "9ac5eb6a-a0c5-48d7-97e1-b195c011f8f4",
   "metadata": {
    "pycharm": {
     "name": "#%%\n"
    }
   },
   "outputs": [],
   "source": [
    "profits = [trade['row'][4]['profit_usd'] for trade in data]\n",
    "all_profits_sorted = []\n",
    "for trade in data:\n",
    "    new_trade = {\n",
    "        'profit_usd': trade['row'][4]['profit_usd'],\n",
    "        'buyer':  trade['row'][4]['buyer'],\n",
    "        'cycle_size': trade['row'][3],\n",
    "        'nft_id': trade['row'][0],\n",
    "        'cycle': trade['row'][4]['cycle']['sales']\n",
    "    }\n",
    "    all_profits_sorted.append(new_trade)\n",
    "all_profits_sorted = sorted(all_profits_sorted, key=lambda d: d['profit_usd'], reverse=True)"
   ]
  },
  {
   "cell_type": "code",
   "execution_count": 27,
   "id": "b1b72761-e12d-4dc2-af6e-c0a654780cbc",
   "metadata": {
    "pycharm": {
     "name": "#%%\n"
    },
    "scrolled": true,
    "tags": []
   },
   "outputs": [
    {
     "data": {
      "text/plain": [
       "{'profit_usd': 59220.018,\n",
       " 'buyer': '0x879c2ee5adc372d0542d65d80ebfe647ac1a5f10',\n",
       " 'cycle_size': 7,\n",
       " 'nft_id': '6929_Rari',\n",
       " 'cycle': [{'buyer': '0x879c2ee5adc372d0542d65d80ebfe647ac1a5f10',\n",
       "   'price_usd': 56942.325,\n",
       "   'time': 1599679592,\n",
       "   'tx_hash': '0x8530cee364e3aa98c5c1c4cef849dbe0780dfdb8d9a9b4674d22837028312084',\n",
       "   'nft_id': '6929_Rari'},\n",
       "  {'buyer': '0x896b94f4f27f12369698c302e2049cae86936bbb',\n",
       "   'price_usd': 1138.8465000000006,\n",
       "   'time': 1599680220,\n",
       "   'tx_hash': '0xb805851908065988cb9c1747c8693e396d22432024e951b5133be7ff5ea8053a',\n",
       "   'nft_id': '6929_Rari'},\n",
       "  {'buyer': '0x93207b8c861cf2b96a92c41d99da0e9615f1a3ea',\n",
       "   'price_usd': 4555.386000000001,\n",
       "   'time': 1599681810,\n",
       "   'tx_hash': '0x5cd83126cc066245a1da552c7f6f97f0537ac8d705838d1010f74432cdd8c6fd',\n",
       "   'nft_id': '6929_Rari'},\n",
       "  {'buyer': '0x490697b59520cfa81938df18b4634081556d3d15',\n",
       "   'price_usd': 113.88465,\n",
       "   'time': 1599682010,\n",
       "   'tx_hash': '0xa2de576299276233ce73cc62494f93150c0efbda23ffaf9be80a5e75ba88a378',\n",
       "   'nft_id': '6929_Rari'},\n",
       "  {'buyer': '0xd3f714357a3a5ab971941ca475a006814edd0d2b',\n",
       "   'price_usd': 113.88465,\n",
       "   'time': 1599682445,\n",
       "   'tx_hash': '0x14f8867198a82fb96bc63a4eff8dcce46d49a17ef92200b2bf89d17d2a9dfb92',\n",
       "   'nft_id': '6929_Rari'},\n",
       "  {'buyer': '0x42147ee918238fdff257a15fa758944d6b870b6a',\n",
       "   'price_usd': 341.65395,\n",
       "   'time': 1599682446,\n",
       "   'tx_hash': '0x2f6ef591fb1a2da6a8a27edc56b088ab9104aa77063099cfb72d82e67125eb99',\n",
       "   'nft_id': '6929_Rari'},\n",
       "  {'buyer': '0x879c2ee5adc372d0542d65d80ebfe647ac1a5f10',\n",
       "   'price_usd': 116162.343,\n",
       "   'time': 1599683071,\n",
       "   'tx_hash': '0x6401d73024c774a98789d7745fd7e70eeb8b43f86ede0d64438409e83023e5eb',\n",
       "   'nft_id': '6929_Rari'}]}"
      ]
     },
     "execution_count": 27,
     "metadata": {},
     "output_type": "execute_result"
    }
   ],
   "source": [
    "all_profits_sorted[0]"
   ]
  },
  {
   "cell_type": "code",
   "execution_count": 28,
   "id": "03f1866c-4741-4cdf-b759-e95dd2656f84",
   "metadata": {
    "pycharm": {
     "name": "#%%\n"
    },
    "scrolled": true,
    "tags": []
   },
   "outputs": [
    {
     "name": "stdout",
     "output_type": "stream",
     "text": [
      "B: 0x879, PROFIT 59220.018, HOPS 7\n",
      "   T(d) 0.0m/0.0h/0.00d, B: 0x87.. $56942.325(0.0) 0x8530cee364e3aa98c5c1c4cef849dbe0780dfdb8d9a9b4674d22837028312084\n",
      "->T(d) 10.5m/0.2h/0.01d, B: 0x89.. $1138.8465000000006(-55803.4785) 0xb805851908065988cb9c1747c8693e396d22432024e951b5133be7ff5ea8053a\n",
      "->T(d) 26.5m/0.4h/0.02d, B: 0x93.. $4555.386000000001(-52386.939) 0x5cd83126cc066245a1da552c7f6f97f0537ac8d705838d1010f74432cdd8c6fd\n",
      "->T(d) 3.3m/0.1h/0.00d, B: 0x49.. $113.88465(-56828.44035) 0xa2de576299276233ce73cc62494f93150c0efbda23ffaf9be80a5e75ba88a378\n",
      "->T(d) 7.2m/0.1h/0.01d, B: 0xd3.. $113.88465(-56828.44035) 0x14f8867198a82fb96bc63a4eff8dcce46d49a17ef92200b2bf89d17d2a9dfb92\n",
      "->T(d) 0.0m/0.0h/0.00d, B: 0x42.. $341.65395(-56600.67105) 0x2f6ef591fb1a2da6a8a27edc56b088ab9104aa77063099cfb72d82e67125eb99\n",
      "->T(d) 10.4m/0.2h/0.01d, B: 0x87.. $116162.343(59220.018) 0x6401d73024c774a98789d7745fd7e70eeb8b43f86ede0d64438409e83023e5eb\n",
      "\n",
      "B: 0xb16, PROFIT 49936.400, HOPS 3\n",
      "   T(d) 0.0m/0.0h/0.00d, B: 0xb1.. $47512.0(0.0) 0x5f070ac611b997e4a87696ce962cbfd6798eb600c941895e0488273c69aea5b9\n",
      "->T(d) 32128.7m/535.5h/22.31d, B: 0x8e.. $80190.9(32678.899999999994) 0x905ed48693a03d5258546e97b4485daa44c7d789ee493d91b67e6e80e049ea0c\n",
      "->T(d) 8561.3m/142.7h/5.95d, B: 0xb1.. $97448.4(49936.399999999994) 0x3c9d576d6a16b0c8705765eca1f2abdbb184e63bd815d656d6724a35786d367e\n",
      "\n",
      "B: 0xeca, PROFIT 46004.696, HOPS 4\n",
      "   T(d) 0.0m/0.0h/0.00d, B: 0xec.. $8408.169(0.0) 0x2520df2030b45f83b1f1471bbe435d4606516e76190ca8660d8feb54f6b7d8fa\n",
      "->T(d) 46.2m/0.8h/0.03d, B: 0x71.. $1081.0503(-7327.1187) 0xb17351128f73c85d44273bcabdb09b572ea2c067782ace22a4c0e20a844e6b18\n",
      "->T(d) 3.6m/0.1h/0.00d, B: 0x05.. $9008.7525(600.5835000000006) 0xd55505fe478ea3a2b16c9fa6e2203b98334901da0302da954890cc16757ad119\n",
      "->T(d) 34.8m/0.6h/0.02d, B: 0xec.. $54412.8651(46004.6961) 0x82db2f0eed444598ce26f1516f5c3762c656d82023fa38d7aef478b54dde0a00\n",
      "\n",
      "B: 0x0a2, PROFIT 40313.700, HOPS 2\n",
      "   T(d) 0.0m/0.0h/0.00d, B: 0x0a.. $4479.299999999998(0.0) 0x408695ef71818dd622878bd12deddc84ebb4c59af4261ef3d621d221a1832f19\n",
      "->T(d) 7.5m/0.1h/0.01d, B: 0x0a.. $44793.0(40313.700000000004) 0x90bfb24e8b94f6e2a8d9375d8f3ea565caeee9a2a129090dcec960d06a27d44e\n",
      "\n",
      "B: 0x932, PROFIT 36443.088, HOPS 7\n",
      "   T(d) 0.0m/0.0h/0.00d, B: 0x93.. $7971.925500000001(0.0) 0x3ae894d9de8099295678e7979327a5736e7fa73b393affb03d81e0a65ca4ce3c\n",
      "->T(d) 0.4m/0.0h/0.00d, B: 0x98.. $113.88465(-7858.040850000001) 0x8497f492ec3b21cb6b190663f94f5689ec335ecb721f044ddf8bebc86b7013ec\n",
      "->T(d) 0.7m/0.0h/0.00d, B: 0xec.. $10477.387800000002(2505.462300000001) 0xe4180402baee133c5562e7ae21357abda652877d8986746196bf4455eedf4015\n",
      "->T(d) 0.5m/0.0h/0.00d, B: 0x33.. $3302.654850000001(-4669.27065) 0x9eb73122a94f20d656e943802c02e762aa0dc8878b0dc3d3efbf9f8761cfec20\n",
      "->T(d) 0.3m/0.0h/0.00d, B: 0xec.. $1708.2697500000004(-6263.655750000001) 0x9f44d3f6dd19406f55adf07887a23dffbc57e7414823087fa6aa1ac9ec5d83bf\n",
      "->T(d) 0.1m/0.0h/0.00d, B: 0x33.. $3416.5395000000008(-4555.386) 0xabdde92523b5825019e4f2461969a2c19babf53d4732456f79ed701460d0f796\n",
      "->T(d) 0.4m/0.0h/0.00d, B: 0x93.. $44415.0135(36443.088) 0x9ed7fc536d0ca9184b12b8a14d63c506c60a556054d00dcc29be32e68a89ccdf\n",
      "\n"
     ]
    }
   ],
   "source": [
    "for trade in all_profits_sorted[:5]:\n",
    "    print(\"B: %s, PROFIT %.3f, HOPS %i\" % (trade['buyer'][:5],trade['profit_usd'], trade['cycle_size']))\n",
    "    pretty_cycle(trade['cycle'])\n",
    "    print()"
   ]
  },
  {
   "cell_type": "markdown",
   "id": "b865ef7c-a0b8-4cbf-bc48-1ad5ec80d30a",
   "metadata": {
    "pycharm": {
     "name": "#%% md\n"
    }
   },
   "source": [
    "### Delete all rari token cycles"
   ]
  },
  {
   "cell_type": "code",
   "execution_count": 29,
   "id": "07f9eabc-a502-45c3-a137-9a95b45a7edd",
   "metadata": {
    "pycharm": {
     "name": "#%%\n"
    }
   },
   "outputs": [],
   "source": [
    "all_profits_sorted_no_rari = []\n",
    "for trade in data:\n",
    "    if '_Rari' in trade['row'][0] or trade['row'][3] <= 2:\n",
    "        continue\n",
    "    new_trade = {\n",
    "        'profit_usd': trade['row'][4]['profit_usd'],\n",
    "        'buyer':  trade['row'][4]['buyer'],\n",
    "        'cycle_size': trade['row'][3],\n",
    "        'nft_id': trade['row'][0],\n",
    "        'cycle': trade['row'][4]['cycle']['sales']\n",
    "    }\n",
    "    all_profits_sorted_no_rari.append(new_trade)\n",
    "all_profits_sorted_no_rari = sorted(all_profits_sorted_no_rari, key=lambda d: d['profit_usd'], reverse=True)"
   ]
  },
  {
   "cell_type": "code",
   "execution_count": 30,
   "id": "29243085-0c2a-42e1-ab26-82ff6f6963da",
   "metadata": {
    "pycharm": {
     "name": "#%%\n"
    }
   },
   "outputs": [
    {
     "name": "stdout",
     "output_type": "stream",
     "text": [
      "B: 0xb16, PROFIT 49936.400, HOPS 3\n",
      "   T(d) 0.0m/0.0h/0.00d, B: 0xb1.. $47512.0(0.0) 0x5f070ac611b997e4a87696ce962cbfd6798eb600c941895e0488273c69aea5b9\n",
      "->T(d) 32128.7m/535.5h/22.31d, B: 0x8e.. $80190.9(32678.899999999994) 0x905ed48693a03d5258546e97b4485daa44c7d789ee493d91b67e6e80e049ea0c\n",
      "->T(d) 8561.3m/142.7h/5.95d, B: 0xb1.. $97448.4(49936.399999999994) 0x3c9d576d6a16b0c8705765eca1f2abdbb184e63bd815d656d6724a35786d367e\n",
      "\n",
      "B: 0xef7, PROFIT 12606.265, HOPS 3\n",
      "   T(d) 0.0m/0.0h/0.00d, B: 0xef.. $51233.07499999999(0.0) 0x3d9f15234fe1348ff17d1f8118e6405c8ae1b2c0c87e25a588e95f68c3ff498e\n",
      "->T(d) 48071.5m/801.2h/33.38d, B: 0x00.. $47406.62100000001(-3826.4539999999834) 0x69f1eea5568cfd217d8e3d6c7ae601e34c9af905feb6249ac510741b62f0a3c4\n",
      "->T(d) 12.9m/0.2h/0.01d, B: 0xef.. $63839.34(12606.265000000007) 0x941a42df26a585af6aafa0720ea315213333c15f9ab6ae72947e047fd03ed0de\n",
      "\n",
      "B: 0x107, PROFIT 11245.599, HOPS 3\n",
      "   T(d) 0.0m/0.0h/0.00d, B: 0x10.. $5122.584299999999(0.0) 0xeda7207b6d1ced6e3eb34cecd07ccb0129cebfe9bc1a432cf319504990dd9d74\n",
      "->T(d) 53109.9m/885.2h/36.88d, B: 0x90.. $15820.197449999998(10697.61315) 0x1ae8fc82e58fa5b98340f7313449ac484f238c794719679ea006c5172d16fe62\n",
      "->T(d) 4327.8m/72.1h/3.01d, B: 0x10.. $16368.182899999998(11245.5986) 0x22514b0960d1004d07926458f4c76cf8a486c24c495a40b9dc5988fda8cb41be\n",
      "\n",
      "B: 0x08c, PROFIT 5544.701, HOPS 3\n",
      "   T(d) 0.0m/0.0h/0.00d, B: 0x08.. $2183.286(0.0) 0x5df30bc4138e0af1797f6466282a7776a16fd9c4a3e93d9ef8c6f04c9e3a4d51\n",
      "->T(d) 22379.3m/373.0h/15.54d, B: 0x2b.. $11198.25(9014.964) 0xf8a9bb16486842c52dcd322475ba1f1654ee749f04f99912ba8d807521966433\n",
      "->T(d) 13217.9m/220.3h/9.18d, B: 0x08.. $7727.987499999998(5544.701499999998) 0x631a5d2bf09ad1792e30f8a05ed173fb9593fedc278f9c37c2659ca4420f5d7e\n",
      "\n",
      "B: 0x1e3, PROFIT 5361.123, HOPS 3\n",
      "   T(d) 0.0m/0.0h/0.00d, B: 0x1e.. $194.11(0.0) 0xc847465b20b0c3314f5ee53683d69ba7f5a3254a00db5705f86e2131c2cc1318\n",
      "->T(d) 969494.0m/16158.2h/673.26d, B: 0xcb.. $2974.88(2780.77) 0xf47e31ba9da49667bc096d82949e7770ec244a24bfb30a1211b19a2665540b20\n",
      "->T(d) 151203.3m/2520.1h/105.00d, B: 0x1e.. $5555.232695023147(5361.122695023148) 0xcb74990a8a987613a6c6d20fe816fbda182520ea0437ac8ef0588f258562f6ec\n",
      "\n"
     ]
    }
   ],
   "source": [
    "for trade in all_profits_sorted_no_rari[:5]:\n",
    "    print(\"B: %s, PROFIT %.3f, HOPS %i\" % (trade['buyer'][:5],trade['profit_usd'], trade['cycle_size']))\n",
    "    pretty_cycle(trade['cycle'])\n",
    "    print()"
   ]
  },
  {
   "cell_type": "markdown",
   "id": "fbd73f27-2ecc-4617-9761-88d0aeee9cd2",
   "metadata": {
    "pycharm": {
     "name": "#%% md\n"
    }
   },
   "source": [
    "## Traders that made the most on average per cycle"
   ]
  },
  {
   "cell_type": "code",
   "execution_count": 31,
   "id": "8115cd76-e063-45b6-af60-c707c516eda5",
   "metadata": {
    "pycharm": {
     "name": "#%%\n"
    }
   },
   "outputs": [
    {
     "data": {
      "text/plain": [
       "{'profit_usd': 49936.399999999994,\n",
       " 'buyer': '0xb166dd9d114c59774a13c3291e7d50ec74f23dfd',\n",
       " 'cycle_size': 3,\n",
       " 'nft_id': '8033_Cryptopunk',\n",
       " 'cycle': [{'buyer': '0xb166dd9d114c59774a13c3291e7d50ec74f23dfd',\n",
       "   'price_usd': 47512.0,\n",
       "   'time': 1613663309,\n",
       "   'tx_hash': '0x5f070ac611b997e4a87696ce962cbfd6798eb600c941895e0488273c69aea5b9',\n",
       "   'nft_id': '8033_Cryptopunk'},\n",
       "  {'buyer': '0x8ee483a4c53eb4b1da23da5448c884f6e7a09dbb',\n",
       "   'price_usd': 80190.9,\n",
       "   'time': 1615591029,\n",
       "   'tx_hash': '0x905ed48693a03d5258546e97b4485daa44c7d789ee493d91b67e6e80e049ea0c',\n",
       "   'nft_id': '8033_Cryptopunk'},\n",
       "  {'buyer': '0xb166dd9d114c59774a13c3291e7d50ec74f23dfd',\n",
       "   'price_usd': 97448.4,\n",
       "   'time': 1616104709,\n",
       "   'tx_hash': '0x3c9d576d6a16b0c8705765eca1f2abdbb184e63bd815d656d6724a35786d367e',\n",
       "   'nft_id': '8033_Cryptopunk'}]}"
      ]
     },
     "execution_count": 31,
     "metadata": {},
     "output_type": "execute_result"
    }
   ],
   "source": [
    "all_profits_sorted_no_rari[0]"
   ]
  },
  {
   "cell_type": "code",
   "execution_count": 32,
   "id": "8ae565f4-c378-435d-8825-adda3491201b",
   "metadata": {
    "pycharm": {
     "name": "#%%\n"
    },
    "scrolled": true,
    "tags": []
   },
   "outputs": [
    {
     "ename": "NameError",
     "evalue": "name 'traders_avg' is not defined",
     "output_type": "error",
     "traceback": [
      "\u001b[0;31m---------------------------------------------------------------------------\u001b[0m",
      "\u001b[0;31mNameError\u001b[0m                                 Traceback (most recent call last)",
      "\u001b[1;32m/Users/naomiarnold/CODE/Raphtory/Raphtory/examples/raphtory-example-nft/python/analysis.ipynb Cell 42\u001b[0m in \u001b[0;36m<module>\u001b[0;34m\u001b[0m\n\u001b[0;32m----> <a href='vscode-notebook-cell:/Users/naomiarnold/CODE/Raphtory/Raphtory/examples/raphtory-example-nft/python/analysis.ipynb#ch0000041?line=0'>1</a>\u001b[0m traders_avg\n",
      "\u001b[0;31mNameError\u001b[0m: name 'traders_avg' is not defined"
     ]
    }
   ],
   "source": [
    "traders_avg"
   ]
  },
  {
   "cell_type": "code",
   "execution_count": 33,
   "id": "67647665-8d74-40cb-8370-60e1806b9bdf",
   "metadata": {
    "pycharm": {
     "name": "#%%\n"
    }
   },
   "outputs": [],
   "source": [
    "traders_profit = {}\n",
    "# load data\n",
    "for trade in all_profits_sorted_no_rari:\n",
    "    trader = trade['buyer']\n",
    "    profit = trade['profit_usd']\n",
    "    if trader not in traders_profit:\n",
    "        traders_profit[trader] = []\n",
    "    traders_profit[trader].append(profit)\n",
    "# calc average\n",
    "traders_avg = {}\n",
    "for trader, _profit in traders_profit.items():\n",
    "    avg = sum(_profit)/len(_profit)\n",
    "    traders_avg[trader] = {\n",
    "        'avg': avg, \n",
    "        'count': len(_profit),\n",
    "        'total_profit': sum(_profit)\n",
    "    }\n",
    "# sort\n",
    "traders_avg_sorted = sorted(traders_avg, key=lambda x: traders_avg[x]['avg'], reverse=True)"
   ]
  },
  {
   "cell_type": "code",
   "execution_count": 34,
   "id": "c4d2f9e4-aae2-4436-922d-d3754ca6e31a",
   "metadata": {
    "pycharm": {
     "name": "#%%\n"
    },
    "scrolled": true,
    "tags": []
   },
   "outputs": [
    {
     "name": "stdout",
     "output_type": "stream",
     "text": [
      "0xb166dd9d114c59774a13c3291e7d50ec74f23dfd\n",
      "{'avg': 49936.399999999994, 'count': 1, 'total_profit': 49936.399999999994}\n",
      "\n",
      "0xef784caf2d2001fb8fbb9678f9a0a1b83cd582dc\n",
      "{'avg': 12606.265000000007, 'count': 1, 'total_profit': 12606.265000000007}\n",
      "\n",
      "0x10725af1f2919d0acc5cf294285d97710f980490\n",
      "{'avg': 11245.5986, 'count': 1, 'total_profit': 11245.5986}\n",
      "\n",
      "0x08ceb8bba685ee708c9c4c65576837cbe19b9dea\n",
      "{'avg': 5544.701499999998, 'count': 1, 'total_profit': 5544.701499999998}\n",
      "\n",
      "0xb4d0e809a1903143c17e213abe9202fb436b2513\n",
      "{'avg': 5276.670249999999, 'count': 1, 'total_profit': 5276.670249999999}\n",
      "\n",
      "0x71bd9f709dd252db7f5226bc895fdcd16905394a\n",
      "{'avg': 4974.266305000001, 'count': 1, 'total_profit': 4974.266305000001}\n",
      "\n",
      "0xff1e28b303c7eab54bcbd98cd0dc921b3f4b853e\n",
      "{'avg': 4790.793750000002, 'count': 1, 'total_profit': 4790.793750000002}\n",
      "\n",
      "0xc4e261aae8652d48ea572808b491e96f96d11dba\n",
      "{'avg': 4710.8982685, 'count': 1, 'total_profit': 4710.8982685}\n",
      "\n",
      "0x62391b370a4761f7087f83d9d2c8d7bfa91036ab\n",
      "{'avg': 4324.6448, 'count': 1, 'total_profit': 4324.6448}\n",
      "\n",
      "0x0eb9a7ff5cbf719251989caf1599c1270eafb531\n",
      "{'avg': 3762.0174999999995, 'count': 1, 'total_profit': 3762.0174999999995}\n",
      "\n"
     ]
    }
   ],
   "source": [
    "for t in traders_avg_sorted[:10]:\n",
    "    print(t)\n",
    "    print(traders_avg[t])\n",
    "    print()"
   ]
  },
  {
   "cell_type": "markdown",
   "id": "2fe374b6-c92c-46a7-80a7-95e261c20d74",
   "metadata": {
    "pycharm": {
     "name": "#%% md\n"
    }
   },
   "source": [
    "okay this is pretty bad, how about instead i check how many traders did more than 1 cycle?"
   ]
  },
  {
   "cell_type": "markdown",
   "id": "16998477-aa46-46d6-9b95-332464fdc204",
   "metadata": {
    "pycharm": {
     "name": "#%% md\n"
    }
   },
   "source": [
    "### How many traders did how many cycles?"
   ]
  },
  {
   "cell_type": "code",
   "execution_count": 35,
   "id": "fb143577-898e-4845-af7d-dfdc41ae6c42",
   "metadata": {
    "pycharm": {
     "name": "#%%\n"
    }
   },
   "outputs": [
    {
     "name": "stdout",
     "output_type": "stream",
     "text": [
      "total_cycles  12176\n",
      "traders  352\n",
      "traders under 1 cycle - 249, 249 70.74p\n",
      "traders under 2 cycle - 50, 299 84.94p\n",
      "traders under 3 cycle - 17, 316 89.77p\n",
      "traders under 4 cycle - 6, 322 91.48p\n",
      "traders under 5 cycle - 4, 326 92.61p\n",
      "traders under 6 cycle - 2, 328 93.18p\n",
      "traders under 7 cycle - 1, 329 93.47p\n",
      "traders under 9 cycle - 1, 330 93.75p\n",
      "traders under 10 cycle - 1, 331 94.03p\n",
      "traders under 14 cycle - 1, 332 94.32p\n",
      "traders under 528 cycle - 1, 333 94.60p\n",
      "traders under 531 cycle - 1, 334 94.89p\n",
      "traders under 548 cycle - 1, 335 95.17p\n",
      "traders under 552 cycle - 1, 336 95.45p\n",
      "traders under 567 cycle - 1, 337 95.74p\n",
      "traders under 570 cycle - 1, 338 96.02p\n",
      "traders under 573 cycle - 1, 339 96.31p\n",
      "traders under 575 cycle - 1, 340 96.59p\n",
      "traders under 580 cycle - 1, 341 96.88p\n",
      "traders under 589 cycle - 1, 342 97.16p\n",
      "traders under 597 cycle - 2, 344 97.73p\n",
      "traders under 598 cycle - 1, 345 98.01p\n",
      "traders under 604 cycle - 2, 347 98.58p\n",
      "traders under 608 cycle - 1, 348 98.86p\n",
      "traders under 612 cycle - 1, 349 99.15p\n",
      "traders under 614 cycle - 1, 350 99.43p\n",
      "traders under 616 cycle - 1, 351 99.72p\n",
      "traders under 617 cycle - 1, 352 100.00p\n"
     ]
    }
   ],
   "source": [
    "from collections import Counter\n",
    "traders_cycle_count = Counter([x['count'] for x in traders_avg.values()])\n",
    "traders_cycle_count = sorted(traders_cycle_count.items())\n",
    "total_cycles = sum([x['count'] for x in traders_avg.values()])\n",
    "print('total_cycles ', total_cycles)\n",
    "print('traders ', len(traders_avg))\n",
    "cum_sum_traders = 0\n",
    "for cycle_size,traders in traders_cycle_count:\n",
    "    cum_sum_traders += traders\n",
    "    print('traders under %i cycle - %i, %i %.2fp' % (cycle_size, traders, cum_sum_traders, cum_sum_traders/len(traders_avg)*100))"
   ]
  },
  {
   "cell_type": "code",
   "execution_count": 36,
   "id": "110f3c46-3f97-4c52-b787-761e190e55f8",
   "metadata": {
    "pycharm": {
     "name": "#%%\n"
    }
   },
   "outputs": [],
   "source": [
    "traders_count_sorted = sorted(traders_avg, key=lambda x: traders_avg[x]['count'], reverse=True)"
   ]
  },
  {
   "cell_type": "code",
   "execution_count": 37,
   "id": "d67e3f51-e6e9-4eba-848a-b2505004561d",
   "metadata": {
    "pycharm": {
     "name": "#%%\n"
    },
    "scrolled": true,
    "tags": []
   },
   "outputs": [
    {
     "name": "stdout",
     "output_type": "stream",
     "text": [
      "0x8acc1421ec98689461ff5777de8ad6648dc6d643\n",
      "{'avg': 2.2519553917404505, 'count': 617, 'total_profit': 1389.456476703858}\n",
      "\n",
      "0x00c9da65b33b4f7034b5f50b90f5f6d8320d6ab8\n",
      "{'avg': 2.19609054383117, 'count': 616, 'total_profit': 1352.7917750000008}\n",
      "\n",
      "0xa21e0974137bf8400eb7dca606d9dcb190d79ed9\n",
      "{'avg': 2.3006426628664522, 'count': 614, 'total_profit': 1412.5945950000016}\n",
      "\n",
      "0x838c14eb3eabe4cb6a696d286c7b2a466629d0ee\n",
      "{'avg': 2.3572472385620915, 'count': 612, 'total_profit': 1442.6353100000001}\n",
      "\n",
      "0x1c1ef71445010114f41ac1feb32dbf5d7281e90f\n",
      "{'avg': 2.3474603371710523, 'count': 608, 'total_profit': 1427.2558849999998}\n",
      "\n",
      "0x6a47b60c377450a460d3eb828d534ee66eead668\n",
      "{'avg': 2.2968711341059636, 'count': 604, 'total_profit': 1387.310165000002}\n",
      "\n",
      "0xe738725cdcc41c91f734dd7b5b9659df994d6dda\n",
      "{'avg': 2.2413728476821193, 'count': 604, 'total_profit': 1353.7892000000002}\n",
      "\n",
      "0x463215edb66fb6a8f0c979e739a731977617699f\n",
      "{'avg': 2.170596011705686, 'count': 598, 'total_profit': 1298.0164150000003}\n",
      "\n",
      "0x179d698f5a1c84c3ff4c5eb04e553c15a0c1d8d8\n",
      "{'avg': 2.2783097403685093, 'count': 597, 'total_profit': 1360.1509150000002}\n",
      "\n",
      "0x1e7f320cf5a938465d501f6bd6c405feb3a70f6c\n",
      "{'avg': 2.2265507202680044, 'count': 597, 'total_profit': 1329.2507799999985}\n",
      "\n",
      "0x6e13c7e25c2cda6f5c8c4e431bee480bfb312c28\n",
      "{'avg': 2.260721519524621, 'count': 589, 'total_profit': 1331.5649750000016}\n",
      "\n",
      "0x236ef21dc36d0aec3990dd5ee84a9d5320644262\n",
      "{'avg': 2.3027468534482822, 'count': 580, 'total_profit': 1335.5931750000036}\n",
      "\n",
      "0xf5aee6d7b838d5ede8aa65d31dbc11116545180c\n",
      "{'avg': 2.279057060869569, 'count': 575, 'total_profit': 1310.4578100000022}\n",
      "\n",
      "0xbabda06088c242fb2a763aa7cc99706cb77ba735\n",
      "{'avg': 2.312860959860382, 'count': 573, 'total_profit': 1325.269329999999}\n",
      "\n",
      "0x68d31cb3825e559b1e5c0665f2d65d06a17fce1a\n",
      "{'avg': 2.1250271578947357, 'count': 570, 'total_profit': 1211.2654799999993}\n",
      "\n",
      "0xa37e6b46fa8e1a6f1ddbf035c4e0230b8414ff04\n",
      "{'avg': 2.152705511463846, 'count': 567, 'total_profit': 1220.5840250000008}\n",
      "\n",
      "0xcdcadf0279ee021a0c40a31ac10fa69e028e21d0\n",
      "{'avg': 2.305673079710144, 'count': 552, 'total_profit': 1272.7315399999993}\n",
      "\n",
      "0x7316e9cf94bef40d4981d66a5c41c38b6b32454c\n",
      "{'avg': 2.2200820802919665, 'count': 548, 'total_profit': 1216.6049799999976}\n",
      "\n",
      "0x87b77fabfeb869150b8e1b9462603f9a639c5fae\n",
      "{'avg': 2.2851332674199623, 'count': 531, 'total_profit': 1213.405765}\n",
      "\n",
      "0xadd12bd6375dc21d579cc4abcfa04864d6ac9a62\n",
      "{'avg': 2.2776891950757587, 'count': 528, 'total_profit': 1202.6198950000005}\n",
      "\n",
      "0xd387a6e4e84a6c86bd90c158c6028a58cc8ac459\n",
      "{'avg': 258.71556392609153, 'count': 14, 'total_profit': 3622.0178949652814}\n",
      "\n",
      "0x7054bdfa61dc8c1baa1d5de76ba7ee1b4ab791d9\n",
      "{'avg': 11.8304085, 'count': 10, 'total_profit': 118.304085}\n",
      "\n",
      "0x2283de856c95f08f9c0ffef26317b92e9ff89639\n",
      "{'avg': 707.7822511111112, 'count': 9, 'total_profit': 6370.040260000001}\n",
      "\n",
      "0x61592a6f682bbabfd743aa7596ee269e7448212c\n",
      "{'avg': 3.41708, 'count': 7, 'total_profit': 23.91956}\n",
      "\n",
      "0xeaf421dd681d94902f85a56f060260d63982f406\n",
      "{'avg': 581.5879249999999, 'count': 6, 'total_profit': 3489.5275499999993}\n",
      "\n",
      "0x19804927f74c3c0899afd49d56bff6ddae6cf518\n",
      "{'avg': 2.9001991666666656, 'count': 6, 'total_profit': 17.401194999999994}\n",
      "\n",
      "0xe6b221eb84084cbf557465cb8972ce2eaca59382\n",
      "{'avg': 495.5782000000001, 'count': 5, 'total_profit': 2477.8910000000005}\n",
      "\n",
      "0x8ba7e4d44f4b1dcee13b8d2343329ce0351bf3bc\n",
      "{'avg': 180.49696500000005, 'count': 5, 'total_profit': 902.4848250000002}\n",
      "\n",
      "0x6d11f89bf007dc1b679bd420487e0058e0a64dcc\n",
      "{'avg': 3.012759, 'count': 5, 'total_profit': 15.063795}\n",
      "\n",
      "0xfe5745fe855e49db6ff78c07b5a3c9b496ceffdc\n",
      "{'avg': 0.4808585596064815, 'count': 5, 'total_profit': 2.4042927980324076}\n",
      "\n",
      "0xf6d22b698d04634f218fc03788784fa55765c7b4\n",
      "{'avg': 417.00652999999994, 'count': 4, 'total_profit': 1668.0261199999998}\n",
      "\n",
      "0x73deaeb8aa241b6fcdb992060ae43193cccbf638\n",
      "{'avg': 526.119375, 'count': 4, 'total_profit': 2104.4775}\n",
      "\n",
      "0x09d57f361f794d150c04443a7b6e369120dc2bea\n",
      "{'avg': 142.28774999999996, 'count': 4, 'total_profit': 569.1509999999998}\n",
      "\n",
      "0x3591d4291e027b86b99c779c2bbf866a822b1567\n",
      "{'avg': 34.964755, 'count': 4, 'total_profit': 139.85902}\n",
      "\n",
      "0x66598ef9f2b654b11e31ca6ea45e2b084300c6e2\n",
      "{'avg': 16.679158750000003, 'count': 4, 'total_profit': 66.71663500000001}\n",
      "\n",
      "0x69810ffe90c429555de923ae9174d96f471fa14d\n",
      "{'avg': 7.272724999999997, 'count': 4, 'total_profit': 29.090899999999987}\n",
      "\n",
      "0x387ddb81ecab04287e16e0e1381df44448bab38a\n",
      "{'avg': 745.9223333333333, 'count': 3, 'total_profit': 2237.767}\n",
      "\n",
      "0x7e1dcf785f0353bf657c38ab7865c1f184efe208\n",
      "{'avg': 506.31445, 'count': 3, 'total_profit': 1518.94335}\n",
      "\n",
      "0x7dcd835259cac15d60f006d0a6e4bfcc5e9cc9bb\n",
      "{'avg': 641.3222166666666, 'count': 3, 'total_profit': 1923.9666499999998}\n",
      "\n",
      "0xa629bb0e3e3c5df86d4e067fea51e7b23e420d12\n",
      "{'avg': 683.3316297453704, 'count': 3, 'total_profit': 2049.9948892361112}\n",
      "\n",
      "0x4306893ff11748254489465650e09ff4b555bba9\n",
      "{'avg': 299.11630499999995, 'count': 3, 'total_profit': 897.3489149999999}\n",
      "\n",
      "0x576a655161b5502dcf40602be1f3519a89b71658\n",
      "{'avg': 252.753075, 'count': 3, 'total_profit': 758.259225}\n",
      "\n",
      "0xd8e9aed17941ca327f5d99c58eacfbc48e0fa2a8\n",
      "{'avg': 84.39765999999999, 'count': 3, 'total_profit': 253.19297999999998}\n",
      "\n",
      "0xa0d1476011a971b4f63dd5b2b9ac1e3f1229bb59\n",
      "{'avg': 74.21100666666666, 'count': 3, 'total_profit': 222.63302}\n",
      "\n",
      "0xa8672c3cef0dce305102f20ac820c921c91ff7e2\n",
      "{'avg': 103.38333333333334, 'count': 3, 'total_profit': 310.15000000000003}\n",
      "\n",
      "0xdcf3b04605886d8f6fa943e50aba8db4d0728795\n",
      "{'avg': 98.73670833333325, 'count': 3, 'total_profit': 296.2101249999998}\n",
      "\n",
      "0x58ac38489b7dfeeb761ff1720a37223692d779c7\n",
      "{'avg': 152.46749999999997, 'count': 3, 'total_profit': 457.4024999999999}\n",
      "\n",
      "0xd89f88ab81820ab109689fabf47d68c35b7888d2\n",
      "{'avg': 69.35868333333336, 'count': 3, 'total_profit': 208.07605000000007}\n",
      "\n",
      "0x9eec3976435a37b0340ecbd966c226a691956b35\n",
      "{'avg': 18.537500000000005, 'count': 3, 'total_profit': 55.61250000000001}\n",
      "\n",
      "0x8805c680b191a244fb41a8d475e6fe33031396e4\n",
      "{'avg': 11.461246556700468, 'count': 3, 'total_profit': 34.383739670101406}\n",
      "\n"
     ]
    }
   ],
   "source": [
    "for t in traders_count_sorted[:50]:\n",
    "    print(t)\n",
    "    print(traders_avg[t])\n",
    "    print()"
   ]
  },
  {
   "cell_type": "markdown",
   "id": "570cf5b9-d4dc-474c-b056-2e7690364057",
   "metadata": {
    "pycharm": {
     "name": "#%% md\n"
    }
   },
   "source": [
    "# Lets take a look at the trader who did the most cycles"
   ]
  },
  {
   "cell_type": "code",
   "execution_count": 38,
   "id": "8a100fde-98a1-4358-845b-1327d43328af",
   "metadata": {
    "pycharm": {
     "name": "#%%\n"
    }
   },
   "outputs": [],
   "source": [
    "big_boy_trader = '0x8acc1421ec98689461ff5777de8ad6648dc6d643'"
   ]
  },
  {
   "cell_type": "code",
   "execution_count": 39,
   "id": "9244d0fd-96d3-41bc-8cfd-852005f687ee",
   "metadata": {
    "pycharm": {
     "name": "#%%\n"
    }
   },
   "outputs": [],
   "source": [
    "big_boy = []\n",
    "for trade in data:\n",
    "    if '_Rari' in trade['row'][0] or trade['row'][3] <= 2:\n",
    "        continue\n",
    "    if trade['row'][4]['buyer'] == big_boy_trader:\n",
    "        big_boy.append(trade)"
   ]
  },
  {
   "cell_type": "code",
   "execution_count": 40,
   "id": "e0697ca1-c6de-49b0-a1eb-5229e1a21239",
   "metadata": {
    "pycharm": {
     "name": "#%%\n"
    },
    "scrolled": true,
    "tags": []
   },
   "outputs": [
    {
     "data": {
      "text/plain": [
       "{'timestamp': 1619562578,\n",
       " 'window': None,\n",
       " 'row': ['965763_Cryptokittie',\n",
       "  'Cryptokittie',\n",
       "  'Art',\n",
       "  17,\n",
       "  {'buyer': '0x8acc1421ec98689461ff5777de8ad6648dc6d643',\n",
       "   'profit_usd': 2.8115099999999913,\n",
       "   'cycle': {'sales': [{'buyer': '0x8acc1421ec98689461ff5777de8ad6648dc6d643',\n",
       "      'price_usd': 57.49848,\n",
       "      'time': 1560138735,\n",
       "      'tx_hash': '0x9b6eb9ca770ea267d6e6b8bf343a893af27bdf3396647b6981d0665958221f43',\n",
       "      'nft_id': '965763_Cryptokittie'},\n",
       "     {'buyer': '0x87b77fabfeb869150b8e1b9462603f9a639c5fae',\n",
       "      'price_usd': 57.49848,\n",
       "      'time': 1560152822,\n",
       "      'tx_hash': '0xe0fb8033db0f60763e674f0e643c5bcbf89dcd1d9ca6c2105a37dc3ad63e839a',\n",
       "      'nft_id': '965763_Cryptokittie'},\n",
       "     {'buyer': '0x1e7f320cf5a938465d501f6bd6c405feb3a70f6c',\n",
       "      'price_usd': 57.49848,\n",
       "      'time': 1560167201,\n",
       "      'tx_hash': '0xc95e523bd5f5df70002acdcafb8b1dd7e2965648e4868f5af5da47f32be1e87d',\n",
       "      'nft_id': '965763_Cryptokittie'},\n",
       "     {'buyer': '0xcdcadf0279ee021a0c40a31ac10fa69e028e21d0',\n",
       "      'price_usd': 57.49848,\n",
       "      'time': 1560181657,\n",
       "      'tx_hash': '0x7a6ada57032543eeb5ffb592ced9b8d01306475fee092349321bbf4079814666',\n",
       "      'nft_id': '965763_Cryptokittie'},\n",
       "     {'buyer': '0x00c9da65b33b4f7034b5f50b90f5f6d8320d6ab8',\n",
       "      'price_usd': 57.49848,\n",
       "      'time': 1560195749,\n",
       "      'tx_hash': '0xf3855af1918f7ec96abbdfda6b945d0ae8b24a513f813bd32584ad3ab9a478cc',\n",
       "      'nft_id': '965763_Cryptokittie'},\n",
       "     {'buyer': '0xf5aee6d7b838d5ede8aa65d31dbc11116545180c',\n",
       "      'price_usd': 57.49848,\n",
       "      'time': 1560209798,\n",
       "      'tx_hash': '0x104e444a9e5a93858b0512ef45839caafb34e587e2ca0f095aba2d9a7495db9f',\n",
       "      'nft_id': '965763_Cryptokittie'},\n",
       "     {'buyer': '0xa21e0974137bf8400eb7dca606d9dcb190d79ed9',\n",
       "      'price_usd': 57.36743999999999,\n",
       "      'time': 1560224192,\n",
       "      'tx_hash': '0x539fafd28bd0b98f9524d1740d18c5f51b968bd1486cef5f55a0b5130d3714e1',\n",
       "      'nft_id': '965763_Cryptokittie'},\n",
       "     {'buyer': '0x68d31cb3825e559b1e5c0665f2d65d06a17fce1a',\n",
       "      'price_usd': 57.36743999999999,\n",
       "      'time': 1560238318,\n",
       "      'tx_hash': '0x3894ae297cbca3e9df2e27de73c3c302a65ec859efd940b4d2ddda3f5b11bdb6',\n",
       "      'nft_id': '965763_Cryptokittie'},\n",
       "     {'buyer': '0x6a47b60c377450a460d3eb828d534ee66eead668',\n",
       "      'price_usd': 57.36743999999999,\n",
       "      'time': 1560252719,\n",
       "      'tx_hash': '0x40547e4df37a539a86cbba4d922988c3cc42b61a6be3fd05355fb74c42b3a85a',\n",
       "      'nft_id': '965763_Cryptokittie'},\n",
       "     {'buyer': '0x838c14eb3eabe4cb6a696d286c7b2a466629d0ee',\n",
       "      'price_usd': 57.36743999999999,\n",
       "      'time': 1560266936,\n",
       "      'tx_hash': '0xd2db646b6afb373c33e629c018bb470ef6bb056879e17751a192201ed099a92f',\n",
       "      'nft_id': '965763_Cryptokittie'},\n",
       "     {'buyer': '0x00c9da65b33b4f7034b5f50b90f5f6d8320d6ab8',\n",
       "      'price_usd': 57.36743999999999,\n",
       "      'time': 1560281218,\n",
       "      'tx_hash': '0x2154ff9d46cd01bb0db4179fd6adc31caaa30f56b0a684a2e4592e9d252c18c2',\n",
       "      'nft_id': '965763_Cryptokittie'},\n",
       "     {'buyer': '0x68d31cb3825e559b1e5c0665f2d65d06a17fce1a',\n",
       "      'price_usd': 57.36743999999999,\n",
       "      'time': 1560295312,\n",
       "      'tx_hash': '0x0d9b97533a6890162159b448c95cbb710190e8b1bcdcbc7614ee23e8b7c0d60d',\n",
       "      'nft_id': '965763_Cryptokittie'},\n",
       "     {'buyer': '0xcdcadf0279ee021a0c40a31ac10fa69e028e21d0',\n",
       "      'price_usd': 60.30998999999999,\n",
       "      'time': 1560309706,\n",
       "      'tx_hash': '0x76bd357af6238bbe2c6c95ea033d50d79b492889b5b6f9f01bd16dd507e48494',\n",
       "      'nft_id': '965763_Cryptokittie'},\n",
       "     {'buyer': '0xa21e0974137bf8400eb7dca606d9dcb190d79ed9',\n",
       "      'price_usd': 60.30998999999999,\n",
       "      'time': 1560323803,\n",
       "      'tx_hash': '0x2acc5d1d6a69dbbb6599d4a12d05653ef6a5cb01ad59db106da65f980307ec77',\n",
       "      'nft_id': '965763_Cryptokittie'},\n",
       "     {'buyer': '0xbabda06088c242fb2a763aa7cc99706cb77ba735',\n",
       "      'price_usd': 60.30998999999999,\n",
       "      'time': 1560338207,\n",
       "      'tx_hash': '0x91fdc68c71f8e85ba85608097060e296ddd76e1ec23253c97fbbf2b51adcf338',\n",
       "      'nft_id': '965763_Cryptokittie'},\n",
       "     {'buyer': '0x179d698f5a1c84c3ff4c5eb04e553c15a0c1d8d8',\n",
       "      'price_usd': 60.30998999999999,\n",
       "      'time': 1560352393,\n",
       "      'tx_hash': '0xddcfa99038a02f6f28a7c19e5e311d7358a3452cf0b7267d434706956f37e948',\n",
       "      'nft_id': '965763_Cryptokittie'},\n",
       "     {'buyer': '0x8acc1421ec98689461ff5777de8ad6648dc6d643',\n",
       "      'price_usd': 60.30998999999999,\n",
       "      'time': 1560366716,\n",
       "      'tx_hash': '0xe17d883e2d56f7544dc4203d1bbfb3101f522b774b1a2926655cc0ad2d8a405b',\n",
       "      'nft_id': '965763_Cryptokittie'}]}}]}"
      ]
     },
     "execution_count": 40,
     "metadata": {},
     "output_type": "execute_result"
    }
   ],
   "source": [
    "big_boy[25]"
   ]
  },
  {
   "cell_type": "code",
   "execution_count": 41,
   "id": "414444a1-a32b-42b2-baeb-3109e289d302",
   "metadata": {
    "pycharm": {
     "name": "#%%\n"
    },
    "scrolled": true,
    "tags": []
   },
   "outputs": [
    {
     "data": {
      "text/plain": [
       "{'timestamp': 1619562578,\n",
       " 'window': None,\n",
       " 'row': ['37525_Mlbchampion',\n",
       "  'Mlbchampion',\n",
       "  'Collectible',\n",
       "  10,\n",
       "  {'buyer': '0x8acc1421ec98689461ff5777de8ad6648dc6d643',\n",
       "   'profit_usd': 0.6018300000000032,\n",
       "   'cycle': {'sales': [{'buyer': '0x8acc1421ec98689461ff5777de8ad6648dc6d643',\n",
       "      'price_usd': 21.737160000000006,\n",
       "      'time': 1551809865,\n",
       "      'tx_hash': '0x4a85311a64cf9812d55d8317d1ca18f9408f790030407e75e91fa01cd582fc6d',\n",
       "      'nft_id': '37525_Mlbchampion'},\n",
       "     {'buyer': '0xbabda06088c242fb2a763aa7cc99706cb77ba735',\n",
       "      'price_usd': 21.737160000000006,\n",
       "      'time': 1551823915,\n",
       "      'tx_hash': '0xa147bc921941aa252170c805d2c095c09b144a552ed6a49a160581ef8e7b4653',\n",
       "      'nft_id': '37525_Mlbchampion'},\n",
       "     {'buyer': '0xadd12bd6375dc21d579cc4abcfa04864d6ac9a62',\n",
       "      'price_usd': 22.2912,\n",
       "      'time': 1551838325,\n",
       "      'tx_hash': '0x0d143e712069434b347300c2fd2a144c466f06e398e76c64ebc4926b0fe22354',\n",
       "      'nft_id': '37525_Mlbchampion'},\n",
       "     {'buyer': '0xcdcadf0279ee021a0c40a31ac10fa69e028e21d0',\n",
       "      'price_usd': 22.2912,\n",
       "      'time': 1551852398,\n",
       "      'tx_hash': '0xa4af22ab85fd3984bb8162cc8e929ae6322478c56e42e66dc8df11e7457832a7',\n",
       "      'nft_id': '37525_Mlbchampion'},\n",
       "     {'buyer': '0x00c9da65b33b4f7034b5f50b90f5f6d8320d6ab8',\n",
       "      'price_usd': 22.2912,\n",
       "      'time': 1551866806,\n",
       "      'tx_hash': '0xfd9663affecbe9703530fb355a33e713d987f8e0a65ccf3760392b2fd719fd29',\n",
       "      'nft_id': '37525_Mlbchampion'},\n",
       "     {'buyer': '0xa21e0974137bf8400eb7dca606d9dcb190d79ed9',\n",
       "      'price_usd': 22.2912,\n",
       "      'time': 1551880908,\n",
       "      'tx_hash': '0xa754334b5c0e1df3364ee1770456a4ae1ba970bf265ba8736e4cdbf3fc56e89b',\n",
       "      'nft_id': '37525_Mlbchampion'},\n",
       "     {'buyer': '0x00c9da65b33b4f7034b5f50b90f5f6d8320d6ab8',\n",
       "      'price_usd': 22.2912,\n",
       "      'time': 1551895400,\n",
       "      'tx_hash': '0xef291837c5683ca3356d21fd2d49bea2ae73bb70b2ab5e010cd8ef643b1dfd50',\n",
       "      'nft_id': '37525_Mlbchampion'},\n",
       "     {'buyer': '0x6a47b60c377450a460d3eb828d534ee66eead668',\n",
       "      'price_usd': 22.2912,\n",
       "      'time': 1551909396,\n",
       "      'tx_hash': '0xf0f7c48d1be189e69284e59bb823dbeee7c046ce83d1d7e029b2a7b6787ecb10',\n",
       "      'nft_id': '37525_Mlbchampion'},\n",
       "     {'buyer': '0xf5aee6d7b838d5ede8aa65d31dbc11116545180c',\n",
       "      'price_usd': 22.33899000000001,\n",
       "      'time': 1551923804,\n",
       "      'tx_hash': '0x1f25f7ce97ea41b8da8c7d0f4c753bf032c3753fce98a46d6d1e5c30ca8898a5',\n",
       "      'nft_id': '37525_Mlbchampion'},\n",
       "     {'buyer': '0x8acc1421ec98689461ff5777de8ad6648dc6d643',\n",
       "      'price_usd': 22.33899000000001,\n",
       "      'time': 1551937890,\n",
       "      'tx_hash': '0x26c44d180a437cbe4f013e97a585492d915a2606d536ab3d063275aca7358be0',\n",
       "      'nft_id': '37525_Mlbchampion'}]}}]}"
      ]
     },
     "execution_count": 41,
     "metadata": {},
     "output_type": "execute_result"
    }
   ],
   "source": [
    "big_boy[124]"
   ]
  },
  {
   "cell_type": "markdown",
   "id": "39ebd72c-4700-46bd-bcb1-ebe55f61be2e",
   "metadata": {
    "pycharm": {
     "name": "#%% md\n"
    },
    "tags": []
   },
   "source": [
    "#### Big boy: NFTs they traded"
   ]
  },
  {
   "cell_type": "code",
   "execution_count": 42,
   "id": "c9320f70-1913-4406-9c43-a83824d98404",
   "metadata": {
    "pycharm": {
     "name": "#%%\n"
    }
   },
   "outputs": [],
   "source": [
    "from collections import Counter\n",
    "most_common_nft_collection = []\n",
    "most_common_nft = []\n",
    "for trade in big_boy:\n",
    "    nft_collection =  trade['row'][0].split('_')\n",
    "    if len(nft_collection) > 2:\n",
    "        print(\"crap\")\n",
    "    most_common_nft.append(trade['row'][0])\n",
    "    most_common_nft_collection.append(nft_collection[1])\n",
    "most_common_nft_collection = set(most_common_nft_collection)\n",
    "most_common_nft_collection = Counter(most_common_nft_collection)\n",
    "most_common_nft = Counter(most_common_nft)"
   ]
  },
  {
   "cell_type": "code",
   "execution_count": 43,
   "id": "ba38ff86-bab5-4f8d-a9bb-91780406c8b3",
   "metadata": {
    "pycharm": {
     "name": "#%%\n"
    }
   },
   "outputs": [
    {
     "data": {
      "text/plain": [
       "Counter({'Mlbchampion': 1, 'Etheremon': 1, 'Cryptokittie': 1})"
      ]
     },
     "execution_count": 43,
     "metadata": {},
     "output_type": "execute_result"
    }
   ],
   "source": [
    "most_common_nft_collection"
   ]
  },
  {
   "cell_type": "code",
   "execution_count": 44,
   "id": "4e5ee31f-5249-44f9-a22e-92b3de609540",
   "metadata": {
    "pycharm": {
     "name": "#%%\n"
    }
   },
   "outputs": [
    {
     "data": {
      "text/plain": [
       "([('43995_Etheremon', 28),\n",
       "  ('965763_Cryptokittie', 26),\n",
       "  ('35008_Mlbchampion', 25),\n",
       "  ('1009482_Cryptokittie', 24),\n",
       "  ('1016910_Cryptokittie', 24),\n",
       "  ('34508_Etheremon', 23),\n",
       "  ('41419_Etheremon', 23),\n",
       "  ('108489_Mlbchampion', 22),\n",
       "  ('882455_Cryptokittie', 22),\n",
       "  ('1037945_Cryptokittie', 21),\n",
       "  ('41303_Etheremon', 21),\n",
       "  ('26643_Mlbchampion', 20),\n",
       "  ('38623_Etheremon', 19),\n",
       "  ('857510_Cryptokittie', 19),\n",
       "  ('1067790_Cryptokittie', 19),\n",
       "  ('128117_Mlbchampion', 19),\n",
       "  ('37525_Mlbchampion', 18),\n",
       "  ('995907_Cryptokittie', 18),\n",
       "  ('1080953_Cryptokittie', 18),\n",
       "  ('8002_Etheremon', 18),\n",
       "  ('34718_Etheremon', 18),\n",
       "  ('966604_Cryptokittie', 18),\n",
       "  ('1043670_Cryptokittie', 17),\n",
       "  ('84456_Mlbchampion', 17),\n",
       "  ('853115_Cryptokittie', 16),\n",
       "  ('42919_Etheremon', 16),\n",
       "  ('145277_Mlbchampion', 15),\n",
       "  ('28832_Etheremon', 15),\n",
       "  ('1010032_Cryptokittie', 15),\n",
       "  ('917284_Cryptokittie', 15),\n",
       "  ('1151860_Cryptokittie', 14),\n",
       "  ('945435_Cryptokittie', 14)],\n",
       " 32)"
      ]
     },
     "execution_count": 44,
     "metadata": {},
     "output_type": "execute_result"
    }
   ],
   "source": [
    "sorted(most_common_nft.items(), key=lambda x: x[1], reverse=True), len(most_common_nft)"
   ]
  },
  {
   "cell_type": "markdown",
   "id": "26c39089-9d78-48bd-943c-0dbd5c6e8a04",
   "metadata": {
    "pycharm": {
     "name": "#%% md\n"
    }
   },
   "source": [
    "#### Big boy: Wallets they often traded with?"
   ]
  },
  {
   "cell_type": "code",
   "execution_count": 45,
   "id": "22a7d7b9-817e-4d57-809d-ee8be50b14e0",
   "metadata": {
    "pycharm": {
     "name": "#%%\n"
    }
   },
   "outputs": [],
   "source": [
    "wallet_interactions = []\n",
    "for trade in big_boy:\n",
    "    for sale in trade['row'][4]['cycle']['sales']:\n",
    "        wallet_interactions.append(sale['buyer'])\n",
    "wallet_interactions = Counter(wallet_interactions)"
   ]
  },
  {
   "cell_type": "code",
   "execution_count": 46,
   "id": "9e2a253f-cbe6-4095-a57c-50cb4c14a2dd",
   "metadata": {
    "pycharm": {
     "name": "#%%\n"
    }
   },
   "outputs": [
    {
     "data": {
      "text/plain": [
       "([('0x8acc1421ec98689461ff5777de8ad6648dc6d643', 1234),\n",
       "  ('0xa21e0974137bf8400eb7dca606d9dcb190d79ed9', 710),\n",
       "  ('0x179d698f5a1c84c3ff4c5eb04e553c15a0c1d8d8', 674),\n",
       "  ('0xe738725cdcc41c91f734dd7b5b9659df994d6dda', 662),\n",
       "  ('0x1c1ef71445010114f41ac1feb32dbf5d7281e90f', 659),\n",
       "  ('0x838c14eb3eabe4cb6a696d286c7b2a466629d0ee', 653),\n",
       "  ('0xf5aee6d7b838d5ede8aa65d31dbc11116545180c', 649),\n",
       "  ('0x6a47b60c377450a460d3eb828d534ee66eead668', 649),\n",
       "  ('0xbabda06088c242fb2a763aa7cc99706cb77ba735', 644),\n",
       "  ('0x00c9da65b33b4f7034b5f50b90f5f6d8320d6ab8', 635),\n",
       "  ('0x463215edb66fb6a8f0c979e739a731977617699f', 624),\n",
       "  ('0x1e7f320cf5a938465d501f6bd6c405feb3a70f6c', 623),\n",
       "  ('0xa37e6b46fa8e1a6f1ddbf035c4e0230b8414ff04', 618),\n",
       "  ('0x87b77fabfeb869150b8e1b9462603f9a639c5fae', 612),\n",
       "  ('0x6e13c7e25c2cda6f5c8c4e431bee480bfb312c28', 600),\n",
       "  ('0x236ef21dc36d0aec3990dd5ee84a9d5320644262', 596),\n",
       "  ('0xadd12bd6375dc21d579cc4abcfa04864d6ac9a62', 594),\n",
       "  ('0x7316e9cf94bef40d4981d66a5c41c38b6b32454c', 590),\n",
       "  ('0x68d31cb3825e559b1e5c0665f2d65d06a17fce1a', 586),\n",
       "  ('0xcdcadf0279ee021a0c40a31ac10fa69e028e21d0', 581)],\n",
       " 20)"
      ]
     },
     "execution_count": 46,
     "metadata": {},
     "output_type": "execute_result"
    }
   ],
   "source": [
    "sorted(wallet_interactions.items(), key=lambda x: x[1], reverse=True), len(wallet_interactions)"
   ]
  },
  {
   "cell_type": "markdown",
   "id": "e221f40c-6bd6-407d-841a-45152a8477b2",
   "metadata": {
    "pycharm": {
     "name": "#%% md\n"
    }
   },
   "source": [
    "#### Big boy: the times between each of their trades? m"
   ]
  },
  {
   "cell_type": "code",
   "execution_count": 47,
   "id": "e0a0032e-6d71-4720-959b-5a3180149d66",
   "metadata": {
    "pycharm": {
     "name": "#%%\n"
    },
    "scrolled": true,
    "tags": []
   },
   "outputs": [
    {
     "data": {
      "text/plain": [
       "[90.99527777777777,\n",
       " 186.09805555555556,\n",
       " 217.6625,\n",
       " 31.638055555555557,\n",
       " 15.866388888888888,\n",
       " 55.41583333333333,\n",
       " 134.56194444444444,\n",
       " 44.73361111111112,\n",
       " 89.86777777777777,\n",
       " 94.95,\n",
       " 178.12972222222223,\n",
       " 63.32944444444445,\n",
       " 103.22166666666666,\n",
       " 170.16666666666666,\n",
       " 35.64361111111111,\n",
       " 47.49055555555556,\n",
       " 19.736944444444443,\n",
       " 154.42583333333332,\n",
       " 27.758888888888887,\n",
       " 67.23111111111112,\n",
       " 31.64638888888889,\n",
       " 138.60472222222222,\n",
       " 85.82222222222222,\n",
       " 126.67361111111111,\n",
       " 35.58305555555555,\n",
       " 63.32805555555556,\n",
       " 110.84194444444444,\n",
       " 19.619444444444447,\n",
       " 154.54833333333332,\n",
       " 75.15944444444445,\n",
       " 166.25916666666666,\n",
       " 27.73,\n",
       " 35.57194444444444,\n",
       " 158.28861111111112,\n",
       " 83.22472222222223,\n",
       " 27.683055555555555,\n",
       " 27.660277777777775,\n",
       " 19.7625,\n",
       " 75.13916666666667,\n",
       " 142.535,\n",
       " 19.737222222222222,\n",
       " 189.95499999999998,\n",
       " 225.58055555555558,\n",
       " 63.3375,\n",
       " 158.32916666666668,\n",
       " 142.46,\n",
       " 31.57638888888889,\n",
       " 23.87,\n",
       " 63.333888888888886,\n",
       " 67.24472222222222,\n",
       " 178.10888888888888,\n",
       " 63.33083333333333,\n",
       " 31.65083333333333,\n",
       " 282.22305555555556,\n",
       " 117.52749999999999,\n",
       " 23.75,\n",
       " 67.26055555555556,\n",
       " 67.33527777777778,\n",
       " 19.735555555555557,\n",
       " 71.25666666666666,\n",
       " 110.84166666666667,\n",
       " 225.66138888888887,\n",
       " 225.6475,\n",
       " 15.770555555555555,\n",
       " 83.1325,\n",
       " 31.65972222222222,\n",
       " 39.644999999999996,\n",
       " 126.66305555555556,\n",
       " 55.40694444444444,\n",
       " 23.711666666666666,\n",
       " 75.26777777777778,\n",
       " 15.834444444444445,\n",
       " 138.5025,\n",
       " 79.16277777777778,\n",
       " 35.62777777777777,\n",
       " 35.61083333333333,\n",
       " 27.767222222222223,\n",
       " 90.99972222222223,\n",
       " 29.19722222222222,\n",
       " 22.191944444444445,\n",
       " 35.678888888888885,\n",
       " 75.25638888888889,\n",
       " 138.51055555555556,\n",
       " 110.83,\n",
       " 31.668611111111108,\n",
       " 47.50083333333334,\n",
       " 15.825555555555555,\n",
       " 518.5522222222222,\n",
       " 241.49166666666667,\n",
       " 98.91972222222222,\n",
       " 31.654444444444444,\n",
       " 153.17416666666668,\n",
       " 344.45694444444445,\n",
       " 11.911388888888888,\n",
       " 23.753333333333334,\n",
       " 75.13555555555556,\n",
       " 193.93722222222223,\n",
       " 47.376666666666665,\n",
       " 348.45222222222225,\n",
       " 95.00833333333334,\n",
       " 7.97138888888889,\n",
       " 23.750833333333333,\n",
       " 178.14194444444445,\n",
       " 55.42805555555556,\n",
       " 411.6458333333333,\n",
       " 55.45027777777778,\n",
       " 91.00111111111111,\n",
       " 229.56861111111112,\n",
       " 277.08416666666665,\n",
       " 126.66888888888889,\n",
       " 47.475833333333334,\n",
       " 23.772222222222222,\n",
       " 150.4288888888889,\n",
       " 118.18583333333332,\n",
       " 24.275555555555556,\n",
       " 126.6225,\n",
       " 11.916666666666666,\n",
       " 35.57388888888889,\n",
       " 178.17166666666665,\n",
       " 356.245,\n",
       " 23.75972222222222,\n",
       " 217.6563888888889,\n",
       " 23.81722222222222,\n",
       " 174.17583333333332,\n",
       " 35.5625,\n",
       " 182.0825,\n",
       " 265.1827777777778,\n",
       " 39.57388888888889,\n",
       " 23.764166666666664,\n",
       " 166.23361111111112,\n",
       " 27.768055555555556,\n",
       " 43.5,\n",
       " 43.50277777777777,\n",
       " 241.48250000000002,\n",
       " 75.27055555555556,\n",
       " 185.99527777777777,\n",
       " 308.7086111111111,\n",
       " 23.39027777777778,\n",
       " 182.07000000000002,\n",
       " 110.82194444444444,\n",
       " 182.08944444444444,\n",
       " 106.8375,\n",
       " 281.08583333333337,\n",
       " 312.7580555555556,\n",
       " 150.3861111111111,\n",
       " 95.01888888888888,\n",
       " 71.27777777777779,\n",
       " 83.07166666666667,\n",
       " 344.4266666666666,\n",
       " 154.32583333333332,\n",
       " 59.1,\n",
       " 47.80083333333334,\n",
       " 158.33083333333335,\n",
       " 79.24166666666666,\n",
       " 102.93666666666667,\n",
       " 35.67944444444445,\n",
       " 19.741666666666667,\n",
       " 87.07722222222222,\n",
       " 126.67527777777778,\n",
       " 102.92583333333333,\n",
       " 122.74805555555555,\n",
       " 700.5788888888889,\n",
       " 67.3325,\n",
       " 19.75972222222222,\n",
       " 110.85583333333334,\n",
       " 296.8719444444444,\n",
       " 19.769444444444446,\n",
       " 201.83694444444444,\n",
       " 83.12472222222223,\n",
       " 31.66111111111111,\n",
       " 55.37777777777777,\n",
       " 19.736944444444443,\n",
       " 23.753611111111113,\n",
       " 75.25055555555556,\n",
       " 63.33833333333334,\n",
       " 15.814444444444444,\n",
       " 130.6027777777778,\n",
       " 91.07916666666667,\n",
       " 126.67083333333333,\n",
       " 11.806111111111111,\n",
       " 51.524722222222216,\n",
       " 23.74361111111111,\n",
       " 27.750833333333333,\n",
       " 51.271388888888886,\n",
       " 399.9827777777778,\n",
       " 134.57861111111112,\n",
       " 110.82972222222223,\n",
       " 47.50416666666667,\n",
       " 39.600833333333334,\n",
       " 19.746111111111112,\n",
       " 87.06472222222222,\n",
       " 19.756944444444446,\n",
       " 63.26166666666666,\n",
       " 7.97861111111111,\n",
       " 35.69583333333333,\n",
       " 39.57694444444444,\n",
       " 229.58138888888888,\n",
       " 205.88,\n",
       " 122.6875,\n",
       " 63.32055555555555,\n",
       " 15.820833333333333,\n",
       " 225.6763888888889,\n",
       " 87.08722222222222,\n",
       " 7.918611111111111,\n",
       " 71.25111111111111,\n",
       " 15.836944444444445,\n",
       " 324.58250000000004,\n",
       " 55.41972222222223,\n",
       " 47.49527777777778,\n",
       " 83.17194444444445,\n",
       " 23.7325,\n",
       " 114.77333333333333,\n",
       " 43.497499999999995,\n",
       " 102.91000000000001,\n",
       " 55.41472222222222,\n",
       " 7.908055555555555,\n",
       " 154.43388888888887,\n",
       " 23.7525,\n",
       " 162.26305555555555,\n",
       " 114.8386111111111,\n",
       " 19.69527777777778,\n",
       " 35.675555555555555,\n",
       " 83.09027777777779,\n",
       " 35.58638888888889,\n",
       " 51.43777777777778,\n",
       " 71.26916666666666,\n",
       " 158.3138888888889,\n",
       " 79.15083333333334,\n",
       " 27.77388888888889,\n",
       " 158.07611111111112,\n",
       " 162.51611111111112,\n",
       " 126.66305555555556,\n",
       " 23.73611111111111,\n",
       " 19.841944444444444,\n",
       " 90.98944444444444,\n",
       " 415.6744444444445,\n",
       " 106.82805555555555,\n",
       " 23.670555555555556,\n",
       " 23.814722222222223,\n",
       " 47.507222222222225,\n",
       " 2724.0480555555555,\n",
       " 158.37444444444446,\n",
       " 15.829444444444444,\n",
       " 126.63694444444444,\n",
       " 63.37777777777777,\n",
       " 75.17833333333333,\n",
       " 27.37777777777778,\n",
       " 27.752222222222223,\n",
       " 71.24361111111111,\n",
       " 15.860000000000001,\n",
       " 19.75277777777778,\n",
       " 19.826944444444443,\n",
       " 63.345,\n",
       " 83.08055555555555,\n",
       " 201.92277777777778,\n",
       " 142.49944444444446,\n",
       " 87.05972222222222,\n",
       " 19.76055555555556,\n",
       " 130.66666666666666,\n",
       " 39.58305555555555,\n",
       " 312.7275,\n",
       " 95.00861111111111,\n",
       " 15.846666666666666,\n",
       " 23.745555555555555,\n",
       " 55.443888888888885,\n",
       " 59.31666666666667,\n",
       " 67.32527777777779,\n",
       " 23.744722222222222,\n",
       " 230.0925,\n",
       " 15.841666666666667,\n",
       " 35.670833333333334,\n",
       " 51.76472222222222,\n",
       " 79.16916666666665,\n",
       " 158.33305555555555,\n",
       " 79.14555555555556,\n",
       " 435.4238888888889,\n",
       " 39.580000000000005,\n",
       " 31.63277777777778,\n",
       " 11.999722222222223,\n",
       " 35.57888888888888,\n",
       " 67.30333333333333,\n",
       " 110.82277777777777,\n",
       " 23.733055555555556,\n",
       " 217.62222222222223,\n",
       " 23.89611111111111,\n",
       " 174.17305555555555,\n",
       " 35.60555555555556,\n",
       " 182.095,\n",
       " 35.665277777777774,\n",
       " 67.24222222222222,\n",
       " 193.985,\n",
       " 43.52361111111111,\n",
       " 146.48527777777778,\n",
       " 102.93555555555555,\n",
       " 63.321111111111115,\n",
       " 106.91916666666665,\n",
       " 67.22555555555556,\n",
       " 91.11361111111111,\n",
       " 51.41694444444445,\n",
       " 31.641944444444444,\n",
       " 209.8461111111111,\n",
       " 19.813888888888886,\n",
       " 197.90944444444446,\n",
       " 28.574722222222224,\n",
       " 51.419444444444444,\n",
       " 245.3425,\n",
       " 197.89111111111112,\n",
       " 494.8675,\n",
       " 51.41805555555556,\n",
       " 63.321111111111115,\n",
       " 170.26611111111112,\n",
       " 75.17666666666668,\n",
       " 75.195,\n",
       " 98.96666666666667,\n",
       " 59.424166666666665,\n",
       " 114.73805555555556,\n",
       " 106.72,\n",
       " 7.907222222222222,\n",
       " 320.76861111111106,\n",
       " 31.670833333333334,\n",
       " 75.24138888888889,\n",
       " 19.731944444444444,\n",
       " 142.52138888888888,\n",
       " 75.25305555555556,\n",
       " 15.806111111111111,\n",
       " 59.007222222222225,\n",
       " 27.69611111111111,\n",
       " 166.24249999999998,\n",
       " 59.32972222222222,\n",
       " 653.1619444444444,\n",
       " 162.31694444444443,\n",
       " 39.58638888888889,\n",
       " 142.47944444444445,\n",
       " 19.823333333333334,\n",
       " 189.91361111111112,\n",
       " 67.33222222222223,\n",
       " 19.739722222222223,\n",
       " 158.31944444444443,\n",
       " 174.1327777777778,\n",
       " 23.768888888888892,\n",
       " 11.899722222222222,\n",
       " 174.1616666666667,\n",
       " 31.6625,\n",
       " 35.58305555555555,\n",
       " 59.405,\n",
       " 55.429722222222225,\n",
       " 75.08111111111111,\n",
       " 83.25222222222222,\n",
       " 102.90277777777779,\n",
       " 47.515277777777776,\n",
       " 415.5813888888889,\n",
       " 19.706388888888892,\n",
       " 122.75138888888888,\n",
       " 15.835,\n",
       " 23.75861111111111,\n",
       " 273.1502777777778,\n",
       " 257.3183333333333,\n",
       " 94.99944444444444,\n",
       " 55.43666666666666,\n",
       " 75.15944444444445,\n",
       " 178.1786111111111,\n",
       " 150.42055555555555,\n",
       " 142.49388888888888,\n",
       " 83.07361111111112,\n",
       " 114.84305555555555,\n",
       " 39.57527777777778,\n",
       " 19.760833333333334,\n",
       " 641.2458333333333,\n",
       " 31.641111111111112,\n",
       " 174.14027777777775,\n",
       " 7.922777777777778,\n",
       " 51.43055555555556,\n",
       " 5.793333333333334,\n",
       " 71.23694444444443,\n",
       " 138.49055555555555,\n",
       " 82.80833333333334,\n",
       " 47.49722222222223,\n",
       " 186.0702777777778,\n",
       " 31.677500000000002,\n",
       " 63.329166666666666,\n",
       " 47.52944444444445,\n",
       " 75.23944444444444,\n",
       " 122.67944444444444,\n",
       " 15.823888888888888,\n",
       " 83.17583333333333,\n",
       " 59.363055555555555,\n",
       " 118.73666666666666,\n",
       " 15.838611111111112,\n",
       " 19.71611111111111,\n",
       " 99.03694444444444,\n",
       " 265.12583333333333,\n",
       " 110.84027777777779,\n",
       " 43.56527777777777,\n",
       " 39.569722222222225,\n",
       " 71.30388888888889,\n",
       " 27.74361111111111,\n",
       " 7.912222222222223,\n",
       " 360.17833333333334,\n",
       " 31.670833333333334,\n",
       " 142.49249999999998,\n",
       " 47.508611111111115,\n",
       " 75.14444444444445,\n",
       " 43.59583333333333,\n",
       " 31.657777777777778,\n",
       " 63.208888888888886,\n",
       " 71.36861111111111,\n",
       " 83.0988888888889,\n",
       " 59.38972222222222,\n",
       " 154.5052777777778,\n",
       " 19.7425,\n",
       " 51.42305555555556,\n",
       " 249.38888888888889,\n",
       " 126.68277777777777,\n",
       " 102.92277777777778,\n",
       " 94.9863888888889,\n",
       " 225.26694444444445,\n",
       " 55.428888888888885,\n",
       " 116.60833333333333,\n",
       " 44.37527777777778,\n",
       " 122.42055555555557,\n",
       " 23.77638888888889,\n",
       " 43.559999999999995,\n",
       " 63.37416666666666,\n",
       " 59.41027777777778,\n",
       " 35.57277777777778,\n",
       " 67.32916666666667,\n",
       " 122.64444444444445,\n",
       " 35.62361111111111,\n",
       " 11.870277777777778,\n",
       " 43.59222222222222,\n",
       " 63.34861111111111,\n",
       " 225.66083333333333,\n",
       " 67.34361111111112,\n",
       " 11.84861111111111,\n",
       " 87.07222222222222,\n",
       " 39.594166666666666,\n",
       " 59.43055555555556,\n",
       " 11.914166666666667,\n",
       " 47.486666666666665,\n",
       " 43.51583333333333,\n",
       " 59.41166666666666,\n",
       " 221.67333333333332,\n",
       " 11.926111111111112,\n",
       " 79.1511111111111,\n",
       " 134.5911111111111,\n",
       " 55.42027777777778,\n",
       " 91.00166666666668,\n",
       " 43.49666666666667,\n",
       " 118.78833333333334,\n",
       " 154.27416666666667,\n",
       " 300.8725,\n",
       " 75.22583333333334,\n",
       " 43.50527777777778,\n",
       " 241.48638888888888,\n",
       " 91.00555555555555,\n",
       " 142.5025,\n",
       " 205.83194444444445,\n",
       " 11.89611111111111,\n",
       " 23.75972222222222,\n",
       " 35.583888888888886,\n",
       " 43.49611111111111,\n",
       " 154.4116666666667,\n",
       " 59.319722222222225,\n",
       " 91.11999999999999,\n",
       " 39.579166666666666,\n",
       " 79.50555555555555,\n",
       " 122.75277777777778,\n",
       " 27.74527777777778,\n",
       " 150.39027777777775,\n",
       " 23.758888888888887,\n",
       " 185.99888888888887,\n",
       " 35.59555555555555,\n",
       " 174.17666666666668,\n",
       " 67.35166666666666,\n",
       " 27.684444444444445,\n",
       " 229.54833333333332,\n",
       " 130.65,\n",
       " 27.643055555555556,\n",
       " 162.38111111111112,\n",
       " 35.58638888888889,\n",
       " 348.3591666666667,\n",
       " 79.14416666666666,\n",
       " 83.04222222222224,\n",
       " 27.80638888888889,\n",
       " 23.77583333333333,\n",
       " 114.845,\n",
       " 83.17,\n",
       " 31.66166666666667,\n",
       " 31.66111111111111,\n",
       " 79.20027777777777,\n",
       " 39.57861111111111,\n",
       " 71.24666666666667,\n",
       " 296.90444444444444,\n",
       " 142.50555555555556,\n",
       " 158.35,\n",
       " 134.69805555555556,\n",
       " 308.7327777777778,\n",
       " 35.66638888888888,\n",
       " 35.58555555555555,\n",
       " 23.756666666666668,\n",
       " 178.17527777777778,\n",
       " 43.46722222222222,\n",
       " 158.34833333333333,\n",
       " 99.015,\n",
       " 39.57972222222222,\n",
       " 75.24388888888889,\n",
       " 55.44277777777778,\n",
       " 94.98194444444445,\n",
       " 39.55777777777778,\n",
       " 130.6186111111111,\n",
       " 150.42333333333332,\n",
       " 7.939722222222222,\n",
       " 192.68666666666667,\n",
       " 100.74472222222222,\n",
       " 43.56444444444445,\n",
       " 43.51944444444444,\n",
       " 90.84750000000001,\n",
       " 170.39222222222222,\n",
       " 19.854166666666668,\n",
       " 47.494166666666665,\n",
       " 23.761111111111113,\n",
       " 502.6713888888889,\n",
       " 95.00027777777777,\n",
       " 43.53722222222222,\n",
       " 7.9127777777777775,\n",
       " 23.753888888888888,\n",
       " 170.25027777777777,\n",
       " 55.415277777777774,\n",
       " 439.3316666666667,\n",
       " 27.74361111111111,\n",
       " 233.48777777777778,\n",
       " 154.3388888888889,\n",
       " 471.07444444444445,\n",
       " 47.38305555555555,\n",
       " 63.950833333333335,\n",
       " 74.66527777777779,\n",
       " 138.57555555555555,\n",
       " 83.0838888888889,\n",
       " 27.76527777777778,\n",
       " 23.744722222222222,\n",
       " 182.07555555555555,\n",
       " 154.33194444444445,\n",
       " 71.24444444444445,\n",
       " 443.3625,\n",
       " 189.9975,\n",
       " 130.87444444444444,\n",
       " 98.90972222222221,\n",
       " 118.7661111111111,\n",
       " 19.74277777777778,\n",
       " 150.33805555555554,\n",
       " 126.75333333333333,\n",
       " 352.2291666666667,\n",
       " 39.60166666666667,\n",
       " 19.80277777777778,\n",
       " 91.02916666666667,\n",
       " 79.2663888888889,\n",
       " 23.748055555555556,\n",
       " 59.41388888888889,\n",
       " 118.77972222222223,\n",
       " 75.27,\n",
       " 217.74694444444447,\n",
       " 190.03916666666666,\n",
       " 189.9875,\n",
       " 114.8411111111111,\n",
       " 126.57722222222222,\n",
       " 174.28444444444446,\n",
       " 39.57861111111111,\n",
       " 19.809444444444445,\n",
       " 126.66555555555556,\n",
       " 23.768055555555556,\n",
       " 102.90194444444445,\n",
       " 19.558333333333334,\n",
       " 20.01138888888889,\n",
       " 55.444722222222225,\n",
       " 332.4508333333333,\n",
       " 121.76972222222223,\n",
       " 67.27361111111111,\n",
       " 142.51055555555556,\n",
       " 23.747777777777777,\n",
       " 98.99305555555556,\n",
       " 570.0063888888889,\n",
       " 43.5775,\n",
       " 118.75222222222222,\n",
       " 27.613333333333333,\n",
       " 150.44222222222223,\n",
       " 15.852222222222222,\n",
       " 83.05944444444444,\n",
       " 59.430277777777775,\n",
       " 67.35444444444445,\n",
       " 67.23027777777777,\n",
       " 154.45583333333335,\n",
       " 19.7425,\n",
       " 300.8327777777778,\n",
       " 197.9175,\n",
       " 31.670277777777777,\n",
       " 221.65444444444444,\n",
       " 102.86638888888889,\n",
       " 87.07194444444444,\n",
       " 94.99972222222223,\n",
       " 35.58777777777778,\n",
       " 221.66361111111112,\n",
       " 47.47555555555555,\n",
       " 31.677222222222223,\n",
       " 118.75944444444444,\n",
       " 75.24027777777778,\n",
       " 19.769444444444446,\n",
       " 51.49777777777778,\n",
       " 19.834166666666665,\n",
       " 51.40972222222222,\n",
       " 79.16305555555556,\n",
       " 91.01277777777777,\n",
       " 63.37833333333333,\n",
       " 463.0861111111111,\n",
       " 186.04527777777778,\n",
       " 7.890277777777778,\n",
       " 174.17472222222221,\n",
       " 119.24805555555555]"
      ]
     },
     "execution_count": 47,
     "metadata": {},
     "output_type": "execute_result"
    }
   ],
   "source": [
    "times_between_trades = []\n",
    "for trade in big_boy:\n",
    "    first_time = trade['row'][4]['cycle']['sales'][0]['time']\n",
    "    last_time = trade['row'][4]['cycle']['sales'][-1]['time']\n",
    "    diff = (last_time - first_time)/60/60\n",
    "    times_between_trades.append(diff)\n",
    "times_between_trades"
   ]
  },
  {
   "cell_type": "code",
   "execution_count": 51,
   "id": "03e903de-d267-496b-8945-6db182f6e873",
   "metadata": {
    "pycharm": {
     "name": "#%%\n"
    },
    "scrolled": true,
    "tags": []
   },
   "outputs": [
    {
     "name": "stdout",
     "output_type": "stream",
     "text": [
      "   T(d) 0.0m/0.0h/0.00d, B: 0x8a.. $27.154920000000004(0.0) 0xcf9c78d0d6298cfacf16b1333c29c3e925ff27f80c6835062e3167b92e8cbd78\n",
      "->T(d) 235.0m/3.9h/0.16d, B: 0xf5.. $27.154920000000004(0.0) 0x1e662233d7f3d7986054062c0a538955ed66c6e52d29f1ba2b8e4c961138255b\n",
      "->T(d) 240.7m/4.0h/0.17d, B: 0x87.. $27.154920000000004(0.0) 0xa0a72d30beb89211cfbce243df96b81b070d563213ad201aa644d1db99529ad4\n",
      "->T(d) 234.1m/3.9h/0.16d, B: 0x6a.. $27.154920000000004(0.0) 0x25bd70c90e9c1cb169326bb6479ebd3bc438ef1a58d8d6a822ff7d81cd85e0cb\n",
      "->T(d) 239.7m/4.0h/0.17d, B: 0xa2.. $27.43884000000001(0.2839200000000055) 0xc4ecc72367add3b226833699cb22ef94f78a56eb630c2606816d34dc439e878a\n",
      "->T(d) 236.8m/3.9h/0.16d, B: 0xcd.. $27.43884000000001(0.2839200000000055) 0x4b51c6b9377c8778adf60ca5f99ed9ee4d5cd41145f2d2c8e238a61043a89cc2\n",
      "->T(d) 238.2m/4.0h/0.17d, B: 0xba.. $27.43884000000001(0.2839200000000055) 0x1ac4cc0424eba8113ea068e8c9eff3f9d8c07352ba43e9cd1683e52d5900a89d\n",
      "->T(d) 238.8m/4.0h/0.17d, B: 0x87.. $27.43884000000001(0.2839200000000055) 0xb289ff92a57dc3d00506383e66c3eef5c20a5a61c1de35c0d2496e230946830b\n",
      "->T(d) 236.3m/3.9h/0.16d, B: 0x6a.. $27.43884000000001(0.2839200000000055) 0xdc6c377dda8c52bb1a5d5ab48b3ea60493e1d52bbc04613193996b42e70802d0\n",
      "->T(d) 235.2m/3.9h/0.16d, B: 0x6e.. $27.43884000000001(0.2839200000000055) 0x59de80e5199c6ac7187f9bc977bae6cf636c1ca1fad75a5624aaebf8340fec23\n",
      "->T(d) 240.6m/4.0h/0.17d, B: 0xa3.. $27.45236(0.2974399999999946) 0x5e11a58e0b5ca932663605e1d8690415be7a55662c78ff41da548c04f4fea83d\n",
      "->T(d) 234.8m/3.9h/0.16d, B: 0xba.. $27.45236(0.2974399999999946) 0x09d88eb2b4b6e8033030cc6eeb9d42cca58e5ca6dfbbb3e7e81674d3acb7522c\n",
      "->T(d) 240.5m/4.0h/0.17d, B: 0xe7.. $27.45236(0.2974399999999946) 0x9ac8f4f544e87dfb581387bdfde5eaa66a81d6a167187c1b61e37eabf87d82a9\n",
      "->T(d) 234.9m/3.9h/0.16d, B: 0x1e.. $27.45236(0.2974399999999946) 0x5559d4b689cb51a69f8411a8eb31c6ddda868d4996be828e2896c8457e540b16\n",
      "->T(d) 242.5m/4.0h/0.17d, B: 0x1c.. $27.45236(0.2974399999999946) 0xaa147b6c6402038568f04468ee56513821bfa9eb3485ebac3c61a8d31a9f4540\n",
      "->T(d) 231.9m/3.9h/0.16d, B: 0xa2.. $27.45236(0.2974399999999946) 0x0c7eaa72c470c7abaeb73b895b86aac02a9850cfcfdfdce88e69002c78038c2c\n",
      "->T(d) 241.9m/4.0h/0.17d, B: 0x73.. $28.080195000000003(0.9252749999999992) 0x52f9be5eb18757c2b4c55818596849840cfcca63f9e3019b9087395d589f1a5d\n",
      "->T(d) 233.6m/3.9h/0.16d, B: 0x83.. $28.080195000000003(0.9252749999999992) 0xc8275b4d8525c1472f8cd1d9841279659d0453ce1f14ecda6487063afb984d7b\n",
      "->T(d) 239.2m/4.0h/0.17d, B: 0xf5.. $28.080195000000003(0.9252749999999992) 0x7a732b9bfa41a85458db620db82ce964f0c28ca8f42805481b71d8d76264decd\n",
      "->T(d) 235.3m/3.9h/0.16d, B: 0x17.. $28.080195000000003(0.9252749999999992) 0xa54934a3e0340eeebc56e4d563c24121ad5fc03def43e792d1add7b4eeeb9997\n",
      "->T(d) 240.1m/4.0h/0.17d, B: 0x87.. $28.080195000000003(0.9252749999999992) 0xaa878250b790d0c0f463b1c60727ee65ddf3e6b7bf423462cdc16f2f00583a4c\n",
      "->T(d) 234.3m/3.9h/0.16d, B: 0x46.. $28.080195000000003(0.9252749999999992) 0x5dd4f736209a9b895032e81634f738ff2cd32f4f7cd360a4a7daa0d60ec322a9\n",
      "->T(d) 240.1m/4.0h/0.17d, B: 0xcd.. $28.227225000000004(1.072305) 0xbed8b7765884a14b9b05d196d326ed170c16199b7e16ffda929db71e08338a56\n",
      "->T(d) 235.3m/3.9h/0.16d, B: 0x1e.. $28.227225000000004(1.072305) 0xa794385c9cd8498fca6e385ba35947b9030568eb6e0e162b136d46eba69ca016\n",
      "->T(d) 239.8m/4.0h/0.17d, B: 0xf5.. $28.227225000000004(1.072305) 0x6d90e910d1f70adc9b6b82cf58e6834d9ad364da6a4eaae30eb6948edb7ce841\n",
      "->T(d) 236.3m/3.9h/0.16d, B: 0x68.. $28.227225000000004(1.072305) 0x79d015a1cbe323e7e101814baad9ba3ca9d56d48c096659d1df56ac7828ffdf5\n",
      "->T(d) 238.6m/4.0h/0.17d, B: 0xba.. $28.227225000000004(1.072305) 0xb31d3c58cecc221464c39886596d594421ed6984ac5d153320ea99d4f3b98d5b\n",
      "->T(d) 235.5m/3.9h/0.16d, B: 0xad.. $28.227225000000004(1.072305) 0xf40ab2dc1d8a0e080a477f0508d400a7b167ffd8bf4ae4d550c34afea2b7c83f\n",
      "->T(d) 239.8m/4.0h/0.17d, B: 0x23.. $27.56474500000001(0.409825000000005) 0x3342c27d9d3e465490a8bf8b8993b89be074bfbe937747c85c3666411161e08b\n",
      "->T(d) 234.7m/3.9h/0.16d, B: 0x00.. $27.56474500000001(0.409825000000005) 0x7a77094aa31cc3f4a27c7a214fa4a43996bbcf5774e9d216b38d7b2ad83a99bf\n",
      "->T(d) 240.2m/4.0h/0.17d, B: 0x6e.. $27.56474500000001(0.409825000000005) 0xc19f1949e2d848841cb9d887f184bedff677991d2edb6badd7a2fca63597eac0\n",
      "->T(d) 236.5m/3.9h/0.16d, B: 0xe7.. $27.56474500000001(0.409825000000005) 0xcc1d61a75d6abe88b971a28797fee7ae2391c323b00836f5d45ea418ed315feb\n",
      "->T(d) 239.0m/4.0h/0.17d, B: 0x1c.. $27.56474500000001(0.409825000000005) 0x8265425b72da87159b046ec8c04dd6c1edf79e8c88181b8fd7150c1920a9a057\n",
      "->T(d) 234.2m/3.9h/0.16d, B: 0xa2.. $27.56474500000001(0.409825000000005) 0x3c7e4690d015b22357f84f43219468795a841ebaf811a9e339e73198ed101be7\n",
      "->T(d) 241.6m/4.0h/0.17d, B: 0x73.. $28.593955(1.439034999999997) 0x4907491c2ab14cdac12fb1cdcd972d147d009632a8ddf6cdba1dbccffc1958b2\n",
      "->T(d) 233.8m/3.9h/0.16d, B: 0x83.. $28.593955(1.439034999999997) 0x6c4fa44e73373f80e8f9bd77aa9969afd0f70ccb68dd92dcc6d75aadce1113dd\n",
      "->T(d) 241.4m/4.0h/0.17d, B: 0x17.. $28.593955(1.439034999999997) 0x0aa144e026ccda8c2384ae8cf9ec8b6d6619bd20d73ff9bb062ecb8888b8b0c7\n",
      "->T(d) 235.2m/3.9h/0.16d, B: 0xa3.. $28.593955(1.439034999999997) 0x6f0d9d0756b159c7cba66df46b880e47021ba9cd2041dceebf078a45e793f01d\n",
      "->T(d) 238.1m/4.0h/0.17d, B: 0x6a.. $28.593955(1.439034999999997) 0xf299df6faab074b87fceeb1e8c353f49683020b6264a9eb7eb21b6939b23739c\n",
      "->T(d) 235.1m/3.9h/0.16d, B: 0x6e.. $28.593955(1.439034999999997) 0xfb618e660492a8d65c1097029d54af125511da613ba089a7f7ebc7b8384415bb\n",
      "->T(d) 241.7m/4.0h/0.17d, B: 0x17.. $29.623165000000004(2.4682449999999996) 0x811c4ccb19b5b2ae3f079a8a86e735a909c844a48fb51f1f1fb468d9a26bfca6\n",
      "->T(d) 233.2m/3.9h/0.16d, B: 0x46.. $29.623165000000004(2.4682449999999996) 0xf05405cce052a4f263f33b6c39b18ae6c10f2ad3167bb6a2273c464cd722f580\n",
      "->T(d) 246.7m/4.1h/0.17d, B: 0xad.. $29.623165000000004(2.4682449999999996) 0xc579c102c1af75ba094b0e8eecfc30172805e7e7220ecc64de5ba2e73a940470\n",
      "->T(d) 229.1m/3.8h/0.16d, B: 0x17.. $29.623165000000004(2.4682449999999996) 0xa25522e23f12255f2cd89b2a70c85cefb13dfd1f6cfc3d9902f95e2f55dc69bd\n",
      "->T(d) 240.1m/4.0h/0.17d, B: 0xad.. $29.623165000000004(2.4682449999999996) 0x25cfc9a59c86b4e9eda2dcad6aed652525616c285eb8d9aa2ceca4089c8247ad\n",
      "->T(d) 237.7m/4.0h/0.17d, B: 0x8a.. $29.623165000000004(2.4682449999999996) 0x425e5966947952c41a64591626ad74aaadf59b83fb034f7d1c58b2763e6bdbc8\n"
     ]
    }
   ],
   "source": [
    "pretty_cycle(big_boy[10]['row'][4]['cycle']['sales'])"
   ]
  },
  {
   "cell_type": "code",
   "execution_count": 49,
   "id": "dc1d238f-3de7-49c3-813c-5f3b2b0f0395",
   "metadata": {
    "pycharm": {
     "name": "#%%\n"
    },
    "scrolled": true,
    "tags": []
   },
   "outputs": [
    {
     "data": {
      "text/plain": [
       "[{'buyer': '0x8acc1421ec98689461ff5777de8ad6648dc6d643',\n",
       "  'price_usd': 24.62837,\n",
       "  'time': 1550753030,\n",
       "  'tx_hash': '0x2c14a11af2efcd71ecbf6e391f423d8d82a719d12cd38a78cb6cfcb8911647e8',\n",
       "  'nft_id': '34508_Etheremon'},\n",
       " {'buyer': '0xbabda06088c242fb2a763aa7cc99706cb77ba735',\n",
       "  'price_usd': 18.79917,\n",
       "  'time': 1550767202,\n",
       "  'tx_hash': '0x578603b33e4ab6d6402a87e9c096d0b9c6ba345caf168ae580fab88f487844c2',\n",
       "  'nft_id': '34508_Etheremon'},\n",
       " {'buyer': '0x463215edb66fb6a8f0c979e739a731977617699f',\n",
       "  'price_usd': 24.62837,\n",
       "  'time': 1550781761,\n",
       "  'tx_hash': '0x8ca90485db647c962d65be927b7235efd06b1f50c3766cd99f8b36fa7d1cadd5',\n",
       "  'nft_id': '34508_Etheremon'},\n",
       " {'buyer': '0xa37e6b46fa8e1a6f1ddbf035c4e0230b8414ff04',\n",
       "  'price_usd': 24.91567,\n",
       "  'time': 1550795914,\n",
       "  'tx_hash': '0x6bd619cd1568f54c2c8567fcd4d2095e4ae0d1d6825c85cdcb252e9712f6cd71',\n",
       "  'nft_id': '34508_Etheremon'},\n",
       " {'buyer': '0x87b77fabfeb869150b8e1b9462603f9a639c5fae',\n",
       "  'price_usd': 24.91567,\n",
       "  'time': 1550809922,\n",
       "  'tx_hash': '0xf5b233b07db48da23f4d52e34b6128dd45d81db3fc4581cd126edf234ade931a',\n",
       "  'nft_id': '34508_Etheremon'},\n",
       " {'buyer': '0x68d31cb3825e559b1e5c0665f2d65d06a17fce1a',\n",
       "  'price_usd': 24.91567,\n",
       "  'time': 1550824035,\n",
       "  'tx_hash': '0x2002b28210f7ac948a4154e76a6fe6f48d23c6527476554c8d165cea90543b49',\n",
       "  'nft_id': '34508_Etheremon'},\n",
       " {'buyer': '0x00c9da65b33b4f7034b5f50b90f5f6d8320d6ab8',\n",
       "  'price_usd': 24.91567,\n",
       "  'time': 1550838544,\n",
       "  'tx_hash': '0xc7526f495bde6bfa21dd89bc091043ffdeaa77d39e43d737d189ac5c7d714598',\n",
       "  'nft_id': '34508_Etheremon'},\n",
       " {'buyer': '0x463215edb66fb6a8f0c979e739a731977617699f',\n",
       "  'price_usd': 24.91567,\n",
       "  'time': 1550852564,\n",
       "  'tx_hash': '0x5b6089495d305313d193bf4805ac68cf53bfa770c443ed3565656cde51722673',\n",
       "  'nft_id': '34508_Etheremon'},\n",
       " {'buyer': '0x8acc1421ec98689461ff5777de8ad6648dc6d643',\n",
       "  'price_usd': 24.91567,\n",
       "  'time': 1550866957,\n",
       "  'tx_hash': '0x97484bbaa9c47a9b62b4d221248c1ccbd5902bca58176bf1df3cac57bb99e1c4',\n",
       "  'nft_id': '34508_Etheremon'}]"
      ]
     },
     "execution_count": 49,
     "metadata": {},
     "output_type": "execute_result"
    }
   ],
   "source": [
    "big_boy[20]['row'][4]['cycle']['sales']"
   ]
  },
  {
   "cell_type": "markdown",
   "id": "8b03c26f-df5b-4634-bee2-6cd8062d72a3",
   "metadata": {
    "pycharm": {
     "name": "#%% md\n"
    }
   },
   "source": [
    "okay i found something here, he basically trades each nft between wallets within a 4 hour window??"
   ]
  },
  {
   "cell_type": "markdown",
   "id": "2654a8fa-4840-413f-a331-a33ee1e6b84d",
   "metadata": {
    "pycharm": {
     "name": "#%% md\n"
    }
   },
   "source": [
    "#### Big boy: how many times did were each nft involved in a transaction?"
   ]
  },
  {
   "cell_type": "code",
   "execution_count": 52,
   "id": "cd0cf64e-9f4b-4a88-8285-a859df8ea6a9",
   "metadata": {
    "pycharm": {
     "name": "#%%\n"
    }
   },
   "outputs": [
    {
     "data": {
      "text/plain": [
       "(13193, 12874)"
      ]
     },
     "execution_count": 52,
     "metadata": {},
     "output_type": "execute_result"
    }
   ],
   "source": [
    "transactions = []\n",
    "for trade in big_boy:\n",
    "    _txs =  [sale['tx_hash'] for sale in trade['row'][4]['cycle']['sales']]\n",
    "    transactions.extend(_txs)\n",
    "len(transactions), len(set(transactions))"
   ]
  },
  {
   "cell_type": "markdown",
   "id": "b853555f-10fd-4c86-aa3e-0c45d025e725",
   "metadata": {
    "pycharm": {
     "name": "#%% md\n"
    }
   },
   "source": [
    "#### Big boy: What was the time between each transaction?"
   ]
  },
  {
   "cell_type": "code",
   "execution_count": 53,
   "id": "4e5e2177-bbb6-40e4-b9ee-2bbe9041736f",
   "metadata": {
    "pycharm": {
     "name": "#%%\n"
    }
   },
   "outputs": [],
   "source": [
    "import math\n",
    "def time_finder(cycle):\n",
    "    prev_time = cycle[0]['time']\n",
    "    times = []\n",
    "    for sale in cycle:\n",
    "        time_secs = sale['time']-prev_time\n",
    "        time_hours = time_secs/60/60\n",
    "        prev_time = sale['time']\n",
    "        time_hours = round(time_hours, 1)\n",
    "        times.append(time_hours)\n",
    "    return times"
   ]
  },
  {
   "cell_type": "code",
   "execution_count": 54,
   "id": "6b84520a-5653-40a1-9729-e425a9e62c7b",
   "metadata": {
    "pycharm": {
     "name": "#%%\n"
    }
   },
   "outputs": [
    {
     "name": "stdout",
     "output_type": "stream",
     "text": [
      "total times : 13193\n",
      "times between 3.4 and 4.6 : 11658 - 88.37p\n"
     ]
    }
   ],
   "source": [
    "time_found = []\n",
    "for trade in big_boy:\n",
    "    time_found.extend(time_finder(trade['row'][4]['cycle']['sales']))\n",
    "time_found = Counter(time_found)\n",
    "print(\"total times : %i\" % sum(time_found.values()))\n",
    "between_39_41 = time_found[3.4]+time_found[3.5]+time_found[3.6] +time_found[3.7] +time_found[3.8] +time_found[3.9] +time_found[4.0] +time_found[4.1] +time_found[4.2]+time_found[4.3]+time_found[4.4]+time_found[4.5]+time_found[4.6]\n",
    "print(\"times between 3.4 and 4.6 : %i - %.2fp\" % (between_39_41, between_39_41/sum(time_found.values())*100))"
   ]
  },
  {
   "cell_type": "code",
   "execution_count": 55,
   "id": "423a795d-9581-41ff-a5ea-f4a3af3470f9",
   "metadata": {
    "pycharm": {
     "name": "#%%\n"
    },
    "scrolled": true,
    "tags": []
   },
   "outputs": [
    {
     "data": {
      "text/plain": [
       "[(2430.6, 1),\n",
       " (554.2, 1),\n",
       " (328.6, 1),\n",
       " (320.5, 1),\n",
       " (312.7, 1),\n",
       " (277.1, 1),\n",
       " (190.5, 1),\n",
       " (185.4, 1),\n",
       " (167.0, 1),\n",
       " (162.2, 1),\n",
       " (142.4, 1),\n",
       " (130.5, 1),\n",
       " (126.7, 1),\n",
       " (126.0, 1),\n",
       " (121.2, 1),\n",
       " (114.8, 2),\n",
       " (106.9, 1),\n",
       " (103.6, 1),\n",
       " (103.0, 1),\n",
       " (99.3, 1),\n",
       " (99.0, 1),\n",
       " (98.9, 1),\n",
       " (96.8, 1),\n",
       " (95.1, 1),\n",
       " (95.0, 4),\n",
       " (93.3, 1),\n",
       " (92.8, 1),\n",
       " (92.7, 2),\n",
       " (92.5, 2),\n",
       " (79.2, 1),\n",
       " (69.7, 1),\n",
       " (67.3, 1),\n",
       " (64.9, 1),\n",
       " (64.5, 1),\n",
       " (63.4, 1),\n",
       " (63.3, 2),\n",
       " (58.7, 1),\n",
       " (55.5, 2),\n",
       " (55.4, 4),\n",
       " (53.4, 1),\n",
       " (51.5, 3),\n",
       " (51.4, 3),\n",
       " (49.6, 1),\n",
       " (47.5, 6),\n",
       " (43.6, 1),\n",
       " (39.6, 10),\n",
       " (38.7, 1),\n",
       " (36.1, 1),\n",
       " (35.9, 1),\n",
       " (35.7, 4),\n",
       " (35.6, 4),\n",
       " (35.5, 1),\n",
       " (35.4, 1),\n",
       " (35.1, 1),\n",
       " (35.0, 1),\n",
       " (34.6, 1),\n",
       " (34.5, 1),\n",
       " (34.4, 1),\n",
       " (34.3, 1),\n",
       " (33.9, 1),\n",
       " (33.6, 1),\n",
       " (31.7, 9),\n",
       " (31.1, 1),\n",
       " (31.0, 1),\n",
       " (30.1, 1),\n",
       " (29.8, 1),\n",
       " (29.5, 1),\n",
       " (27.9, 1),\n",
       " (27.8, 5),\n",
       " (27.7, 15),\n",
       " (27.6, 3),\n",
       " (27.3, 2),\n",
       " (27.2, 1),\n",
       " (27.0, 2),\n",
       " (26.7, 1),\n",
       " (26.6, 1),\n",
       " (26.4, 1),\n",
       " (26.1, 1),\n",
       " (25.1, 1),\n",
       " (24.2, 1),\n",
       " (23.9, 1),\n",
       " (23.8, 14),\n",
       " (23.7, 12),\n",
       " (23.6, 3),\n",
       " (23.3, 1),\n",
       " (22.6, 1),\n",
       " (22.5, 2),\n",
       " (21.6, 1),\n",
       " (21.2, 1),\n",
       " (20.3, 1),\n",
       " (20.1, 2),\n",
       " (19.9, 13),\n",
       " (19.8, 65),\n",
       " (19.7, 22),\n",
       " (19.4, 2),\n",
       " (19.2, 1),\n",
       " (19.1, 1),\n",
       " (19.0, 2),\n",
       " (18.9, 1),\n",
       " (18.8, 1),\n",
       " (18.6, 2),\n",
       " (18.5, 4),\n",
       " (18.4, 1),\n",
       " (18.3, 1),\n",
       " (18.2, 3),\n",
       " (16.9, 1),\n",
       " (16.8, 1),\n",
       " (16.7, 1),\n",
       " (15.9, 10),\n",
       " (15.8, 23),\n",
       " (15.7, 1),\n",
       " (14.4, 1),\n",
       " (13.6, 1),\n",
       " (13.4, 1),\n",
       " (12.2, 1),\n",
       " (12.1, 5),\n",
       " (12.0, 9),\n",
       " (11.9, 62),\n",
       " (11.8, 51),\n",
       " (11.7, 2),\n",
       " (11.5, 4),\n",
       " (10.4, 1),\n",
       " (9.8, 1),\n",
       " (9.6, 1),\n",
       " (9.1, 2),\n",
       " (8.7, 3),\n",
       " (8.4, 1),\n",
       " (8.3, 3),\n",
       " (8.2, 2),\n",
       " (8.1, 4),\n",
       " (8.0, 19),\n",
       " (7.9, 173),\n",
       " (7.8, 9),\n",
       " (7.7, 4),\n",
       " (7.6, 3),\n",
       " (7.5, 5),\n",
       " (7.4, 3),\n",
       " (7.3, 3),\n",
       " (7.2, 1),\n",
       " (7.1, 3),\n",
       " (7.0, 5),\n",
       " (6.9, 7),\n",
       " (6.7, 2),\n",
       " (6.6, 2),\n",
       " (6.5, 3),\n",
       " (6.4, 3),\n",
       " (6.3, 1),\n",
       " (6.2, 3),\n",
       " (6.1, 3),\n",
       " (6.0, 1),\n",
       " (5.9, 1),\n",
       " (5.7, 3),\n",
       " (5.6, 3),\n",
       " (5.5, 9),\n",
       " (5.4, 3),\n",
       " (5.3, 11),\n",
       " (5.2, 2),\n",
       " (5.1, 2),\n",
       " (5.0, 6),\n",
       " (4.9, 5),\n",
       " (4.8, 9),\n",
       " (4.7, 8),\n",
       " (4.6, 10),\n",
       " (4.5, 20),\n",
       " (4.4, 41),\n",
       " (4.3, 69),\n",
       " (4.2, 84),\n",
       " (4.1, 328),\n",
       " (4.0, 5464),\n",
       " (3.9, 5206),\n",
       " (3.8, 246),\n",
       " (3.7, 79),\n",
       " (3.6, 61),\n",
       " (3.5, 36),\n",
       " (3.4, 14),\n",
       " (3.3, 6),\n",
       " (3.2, 6),\n",
       " (3.1, 6),\n",
       " (3.0, 6),\n",
       " (2.9, 1),\n",
       " (2.8, 3),\n",
       " (2.7, 5),\n",
       " (2.6, 5),\n",
       " (2.5, 3),\n",
       " (2.4, 5),\n",
       " (2.3, 3),\n",
       " (2.2, 3),\n",
       " (2.1, 1),\n",
       " (2.0, 2),\n",
       " (1.9, 3),\n",
       " (1.8, 5),\n",
       " (1.7, 1),\n",
       " (1.4, 1),\n",
       " (1.3, 4),\n",
       " (1.2, 2),\n",
       " (1.1, 1),\n",
       " (1.0, 7),\n",
       " (0.9, 2),\n",
       " (0.8, 8),\n",
       " (0.7, 7),\n",
       " (0.6, 2),\n",
       " (0.5, 1),\n",
       " (0.4, 2),\n",
       " (0.3, 2),\n",
       " (0.1, 3),\n",
       " (0.0, 619)]"
      ]
     },
     "execution_count": 55,
     "metadata": {},
     "output_type": "execute_result"
    }
   ],
   "source": [
    "sorted(time_found.items(), key=lambda x:x[0], reverse=True)"
   ]
  },
  {
   "cell_type": "code",
   "execution_count": 56,
   "id": "c5b698c9-c83c-4c94-a672-456de3a42ea2",
   "metadata": {
    "pycharm": {
     "name": "#%%\n"
    },
    "scrolled": true,
    "tags": []
   },
   "outputs": [
    {
     "data": {
      "text/plain": [
       "{'sales': [{'buyer': '0x8acc1421ec98689461ff5777de8ad6648dc6d643',\n",
       "   'price_usd': 17.679150000000003,\n",
       "   'time': 1549545195,\n",
       "   'tx_hash': '0xf5da5dfc2c0bffecc3a588fd1921572dbd7b3cf809624e890f1828c83d0af83b',\n",
       "   'nft_id': '41303_Etheremon'},\n",
       "  {'buyer': '0x463215edb66fb6a8f0c979e739a731977617699f',\n",
       "   'price_usd': 17.679150000000003,\n",
       "   'time': 1549559611,\n",
       "   'tx_hash': '0x570c345f9c1f23c31f6bc11dd535e9e5e9bc47036cc7c6684f433ab1f432c210',\n",
       "   'nft_id': '41303_Etheremon'},\n",
       "  {'buyer': '0x68d31cb3825e559b1e5c0665f2d65d06a17fce1a',\n",
       "   'price_usd': 20.56405,\n",
       "   'time': 1549893534,\n",
       "   'tx_hash': '0xdfe909bef90fde2106d6901cc807b00230425fb3e4abc7c49dd0ccbd2eeb8b33',\n",
       "   'nft_id': '41303_Etheremon'},\n",
       "  {'buyer': '0xa21e0974137bf8400eb7dca606d9dcb190d79ed9',\n",
       "   'price_usd': 20.56405,\n",
       "   'time': 1549907899,\n",
       "   'tx_hash': '0x9eed65758324a59107cd8d29b201c0d6ff2dd4e96e431ccb4e6fadca3332b517',\n",
       "   'nft_id': '41303_Etheremon'},\n",
       "  {'buyer': '0x8acc1421ec98689461ff5777de8ad6648dc6d643',\n",
       "   'price_usd': 20.54875,\n",
       "   'time': 1549974488,\n",
       "   'tx_hash': '0xd59a30e5e165fdcb938a8130f397ab62267d399a15011232faad5e9c5a1f2b99',\n",
       "   'nft_id': '41303_Etheremon'}]}"
      ]
     },
     "execution_count": 56,
     "metadata": {},
     "output_type": "execute_result"
    }
   ],
   "source": [
    "trade['row'][4]['cycle']"
   ]
  },
  {
   "cell_type": "markdown",
   "id": "40db6cce-c815-412a-be8f-e37baaccd2eb",
   "metadata": {
    "pycharm": {
     "name": "#%% md\n"
    }
   },
   "source": [
    "#### Whale as a graph in gephi"
   ]
  },
  {
   "cell_type": "markdown",
   "id": "97b0d07f-c281-4d12-8e46-8093733f780b",
   "metadata": {
    "pycharm": {
     "name": "#%% md\n"
    }
   },
   "source": [
    "##### Whale as bipartide between nfts"
   ]
  },
  {
   "cell_type": "code",
   "execution_count": 57,
   "id": "4cb8bc41-9072-4854-b7b0-b58e1a7f42c1",
   "metadata": {
    "pycharm": {
     "name": "#%%\n"
    }
   },
   "outputs": [
    {
     "name": "stdout",
     "output_type": "stream",
     "text": [
      "52 13193\n"
     ]
    }
   ],
   "source": [
    "import networkx as nx\n",
    "G = nx.MultiGraph()\n",
    "wallets = set([])\n",
    "for cycle in big_boy:\n",
    "    for trade in cycle['row'][4]['cycle']['sales']:\n",
    "        from_ = trade['buyer']\n",
    "        to_ = trade['nft_id']\n",
    "        if from_ not in G.nodes:\n",
    "            wallets.add(from_)\n",
    "            G.add_node(from_, node_type='wallet')\n",
    "        if to_ not in G.nodes:\n",
    "            G.add_node(to_, node_type='nft')\n",
    "        G.add_edge(from_, to_)\n",
    "print(G.number_of_nodes(), G.number_of_edges())"
   ]
  },
  {
   "cell_type": "code",
   "execution_count": 58,
   "id": "d3cccfc3-1c89-4d19-afa6-7d810d9721cf",
   "metadata": {
    "pycharm": {
     "name": "#%%\n"
    }
   },
   "outputs": [
    {
     "data": {
      "image/png": "[encoded data removed]",
      "text/plain": [
       "<Figure size 1440x864 with 1 Axes>"
      ]
     },
     "metadata": {},
     "output_type": "display_data"
    }
   ],
   "source": [
    "pos = nx.bipartite_layout(G, nodes=wallets)\n",
    "color_map = {'nft': 'red', 'wallet': 'blue'}\n",
    "plt.figure(figsize=(20, 12))\n",
    "nx.draw_networkx(G, \\\n",
    "                 pos, \\\n",
    "                 node_size = 100, \\\n",
    "                 node_color=[color_map[node[1]['node_type']] for node in G.nodes(data=True)], \\\n",
    "                 alpha = 1, \\\n",
    "                 with_labels=False)\n",
    "plt.axis('off')\n",
    "plt.savefig('Whale_bipartide_node_to_nfts.png')"
   ]
  },
  {
   "cell_type": "markdown",
   "id": "da5469f0-657c-4b91-bff0-fa7d82dc9389",
   "metadata": {
    "pycharm": {
     "name": "#%% md\n"
    }
   },
   "source": [
    "##### Whale between their wallets"
   ]
  },
  {
   "cell_type": "code",
   "execution_count": 59,
   "id": "e61cd1ef-11ba-47f1-989c-72239f704ac5",
   "metadata": {
    "pycharm": {
     "name": "#%%\n"
    }
   },
   "outputs": [
    {
     "name": "stdout",
     "output_type": "stream",
     "text": [
      "21 21\n"
     ]
    }
   ],
   "source": [
    "import networkx as nx\n",
    "G = nx.DiGraph()\n",
    "wallets = set([])\n",
    "for cycle in big_boy:\n",
    "    prev_buyer = ''\n",
    "    for trade in cycle['row'][4]['cycle']['sales']:\n",
    "        to_ = trade['buyer']\n",
    "        from_ = prev_buyer\n",
    "        if prev_buyer == '':\n",
    "            prev_buyer = to_\n",
    "        if from_ not in G.nodes:\n",
    "            wallets.add(from_)\n",
    "            G.add_node(from_, node_type='wallet')\n",
    "        if to_ not in G.nodes:\n",
    "            wallets.add(to_)\n",
    "            G.add_node(to_, node_type='wallet')\n",
    "        G.add_edge(from_, to_)\n",
    "print(G.number_of_nodes(), G.number_of_edges())"
   ]
  },
  {
   "cell_type": "code",
   "execution_count": 60,
   "id": "1ec745d8-164f-4bd8-8bd5-a31234f7b358",
   "metadata": {
    "pycharm": {
     "name": "#%%\n"
    }
   },
   "outputs": [
    {
     "data": {
      "image/png": "[encoded data removed]",
      "text/plain": [
       "<Figure size 864x432 with 1 Axes>"
      ]
     },
     "metadata": {},
     "output_type": "display_data"
    }
   ],
   "source": [
    "pos = nx.random_layout(G)\n",
    "color_map = {'nft': 'red', 'wallet': 'blue'}\n",
    "plt.figure(figsize=(12, 6))\n",
    "nx.draw_networkx(G, \\\n",
    "                 pos, \\\n",
    "                 node_size = 150, \\\n",
    "                 node_color=[color_map[node[1]['node_type']] for node in G.nodes(data=True)], \\\n",
    "                 alpha = 1, \\\n",
    "                 with_labels=False)\n",
    "plt.axis('off')\n",
    "plt.savefig('Whale_bipartide_wallet_to_wallet.png')"
   ]
  },
  {
   "cell_type": "code",
   "execution_count": 460,
   "id": "dd75cc45-be17-4921-a5fe-5aac6d8292de",
   "metadata": {
    "pycharm": {
     "name": "#%%\n"
    }
   },
   "outputs": [
    {
     "data": {
      "text/plain": [
       "DiDegreeView({'': 1, '0x8acc1421ec98689461ff5777de8ad6648dc6d643': 22, '0x87b77fabfeb869150b8e1b9462603f9a639c5fae': 1, '0x1e7f320cf5a938465d501f6bd6c405feb3a70f6c': 1, '0xbabda06088c242fb2a763aa7cc99706cb77ba735': 1, '0x7316e9cf94bef40d4981d66a5c41c38b6b32454c': 1, '0xa37e6b46fa8e1a6f1ddbf035c4e0230b8414ff04': 1, '0xcdcadf0279ee021a0c40a31ac10fa69e028e21d0': 1, '0xf5aee6d7b838d5ede8aa65d31dbc11116545180c': 1, '0x463215edb66fb6a8f0c979e739a731977617699f': 1, '0xadd12bd6375dc21d579cc4abcfa04864d6ac9a62': 1, '0x6a47b60c377450a460d3eb828d534ee66eead668': 1, '0x838c14eb3eabe4cb6a696d286c7b2a466629d0ee': 1, '0xa21e0974137bf8400eb7dca606d9dcb190d79ed9': 1, '0x236ef21dc36d0aec3990dd5ee84a9d5320644262': 1, '0xe738725cdcc41c91f734dd7b5b9659df994d6dda': 1, '0x00c9da65b33b4f7034b5f50b90f5f6d8320d6ab8': 1, '0x179d698f5a1c84c3ff4c5eb04e553c15a0c1d8d8': 1, '0x1c1ef71445010114f41ac1feb32dbf5d7281e90f': 1, '0x68d31cb3825e559b1e5c0665f2d65d06a17fce1a': 1, '0x6e13c7e25c2cda6f5c8c4e431bee480bfb312c28': 1})"
      ]
     },
     "execution_count": 460,
     "metadata": {},
     "output_type": "execute_result"
    }
   ],
   "source": [
    "G.degree"
   ]
  },
  {
   "cell_type": "markdown",
   "id": "779f33f5-d556-4119-91b0-ddd9eb8271c9",
   "metadata": {
    "pycharm": {
     "name": "#%% md\n"
    }
   },
   "source": [
    "##### HIS BROTHERS AND SISTERS?"
   ]
  },
  {
   "cell_type": "markdown",
   "id": "85216596-94cc-4c75-9436-ddc77ae56db6",
   "metadata": {
    "pycharm": {
     "name": "#%% md\n"
    }
   },
   "source": [
    "0x8acc1421ec98689461ff5777de8ad6648dc6d643\n",
    "{'avg': 2.2519553917404505, 'count': 617, 'total_profit': 1389.456476703858}\n",
    "\n",
    "0x00c9da65b33b4f7034b5f50b90f5f6d8320d6ab8\n",
    "{'avg': 2.19609054383117, 'count': 616, 'total_profit': 1352.7917750000008}\n",
    "\n",
    "0xa21e0974137bf8400eb7dca606d9dcb190d79ed9\n",
    "{'avg': 2.3006426628664522, 'count': 614, 'total_profit': 1412.5945950000016}\n",
    "\n",
    "0x838c14eb3eabe4cb6a696d286c7b2a466629d0ee\n",
    "{'avg': 2.3572472385620915, 'count': 612, 'total_profit': 1442.6353100000001}\n",
    "\n",
    "0x1c1ef71445010114f41ac1feb32dbf5d7281e90f\n",
    "{'avg': 2.3474603371710523, 'count': 608, 'total_profit': 1427.2558849999998}\n",
    "\n",
    "0x6a47b60c377450a460d3eb828d534ee66eead668\n",
    "{'avg': 2.2968711341059636, 'count': 604, 'total_profit': 1387.310165000002}\n",
    "\n",
    "0xe738725cdcc41c91f734dd7b5b9659df994d6dda\n",
    "{'avg': 2.2413728476821193, 'count': 604, 'total_profit': 1353.7892000000002}\n",
    "\n",
    "0x463215edb66fb6a8f0c979e739a731977617699f\n",
    "{'avg': 2.170596011705686, 'count': 598, 'total_profit': 1298.0164150000003}\n",
    "\n",
    "0x179d698f5a1c84c3ff4c5eb04e553c15a0c1d8d8\n",
    "{'avg': 2.2783097403685093, 'count': 597, 'total_profit': 1360.1509150000002}\n",
    "\n",
    "0x1e7f320cf5a938465d501f6bd6c405feb3a70f6c\n",
    "{'avg': 2.2265507202680044, 'count': 597, 'total_profit': 1329.2507799999985}\n",
    "\n",
    "0x6e13c7e25c2cda6f5c8c4e431bee480bfb312c28\n",
    "{'avg': 2.260721519524621, 'count': 589, 'total_profit': 1331.5649750000016}\n",
    "\n",
    "0x236ef21dc36d0aec3990dd5ee84a9d5320644262\n",
    "{'avg': 2.3027468534482822, 'count': 580, 'total_profit': 1335.5931750000036}\n",
    "\n",
    "0xf5aee6d7b838d5ede8aa65d31dbc11116545180c\n",
    "{'avg': 2.279057060869569, 'count': 575, 'total_profit': 1310.4578100000022}\n",
    "\n",
    "0xbabda06088c242fb2a763aa7cc99706cb77ba735\n",
    "{'avg': 2.312860959860382, 'count': 573, 'total_profit': 1325.269329999999}\n",
    "\n",
    "0x68d31cb3825e559b1e5c0665f2d65d06a17fce1a\n",
    "{'avg': 2.1250271578947357, 'count': 570, 'total_profit': 1211.2654799999993}\n",
    "\n",
    "0xa37e6b46fa8e1a6f1ddbf035c4e0230b8414ff04\n",
    "{'avg': 2.152705511463846, 'count': 567, 'total_profit': 1220.5840250000008}\n",
    "\n",
    "0xcdcadf0279ee021a0c40a31ac10fa69e028e21d0\n",
    "{'avg': 2.305673079710144, 'count': 552, 'total_profit': 1272.7315399999993}\n",
    "\n",
    "0x7316e9cf94bef40d4981d66a5c41c38b6b32454c\n",
    "{'avg': 2.2200820802919665, 'count': 548, 'total_profit': 1216.6049799999976}\n",
    "\n",
    "0x87b77fabfeb869150b8e1b9462603f9a639c5fae\n",
    "{'avg': 2.2851332674199623, 'count': 531, 'total_profit': 1213.405765}\n",
    "\n",
    "0xadd12bd6375dc21d579cc4abcfa04864d6ac9a62\n",
    "{'avg': 2.2776891950757587, 'count': 528, 'total_profit': 1202.6198950000005}"
   ]
  },
  {
   "cell_type": "code",
   "execution_count": 61,
   "id": "3f718518-976c-455c-9bdf-e8dd17f89aa5",
   "metadata": {
    "pycharm": {
     "name": "#%%\n"
    }
   },
   "outputs": [
    {
     "name": "stdout",
     "output_type": "stream",
     "text": [
      "19\n",
      "0x00c9da65b33b4f7034b5f50b90f5f6d8320d6ab8\n",
      "   T(d) 0.0m/0.0h/0.00d, B: 0x00.. $30.9591(0.0) 0x50e0b3e4a092a94c962a9d54d39762690b8b2521d251740eb8e3e1cb8d1041de\n",
      "->T(d) 240.2m/4.0h/0.17d, B: 0xad.. $31.2507(0.29159999999999897) 0x42065515d455998c43c2beceb083758f24c6df4793cd16365538071ea3cc09aa\n",
      "->T(d) 235.3m/3.9h/0.16d, B: 0x00.. $31.2507(0.29159999999999897) 0x13110bfd1f1730b6e81fa8e136332fd7266911b121ab5837ae6ed8b54aff66be\n",
      "\n",
      "0xa21e0974137bf8400eb7dca606d9dcb190d79ed9\n",
      "   T(d) 0.0m/0.0h/0.00d, B: 0xa2.. $20.4022(0.0) 0x8c8d50a11fecba7cabe85c9758f3e66a40ba26e4f13e36c42330e951c3fd2302\n",
      "->T(d) 238.7m/4.0h/0.17d, B: 0xf5.. $20.4022(0.0) 0x018b7022be5c5f2a31b4a00c96a83b52a64318478211f9e387b2016c0a7e0d51\n",
      "->T(d) 236.9m/3.9h/0.16d, B: 0x00.. $20.4022(0.0) 0xa8f94a8d5543679f60b28dda00b39700c87df4a3a71de7afde1cd65d7e1058cb\n",
      "->T(d) 233.7m/3.9h/0.16d, B: 0x6e.. $20.640200000000004(0.2380000000000031) 0x41c725a89a04ed6d7e3769bc930fe75144647d35938cea7779fc31c4d0dff2b6\n",
      "->T(d) 247.8m/4.1h/0.17d, B: 0x83.. $20.640200000000004(0.2380000000000031) 0x7d404e1a79cfbf728df1fe758bd850caf2d50b7fb4a7c21c200f6f39aafbfaff\n",
      "->T(d) 227.5m/3.8h/0.16d, B: 0x1e.. $20.640200000000004(0.2380000000000031) 0x26d2f653c14636b2cc9b6969bced524502dc2fe26b32f262cd290f1a2d615a3f\n",
      "->T(d) 239.4m/4.0h/0.17d, B: 0xf5.. $20.640200000000004(0.2380000000000031) 0xdd4e8f1877a34d19bba5f6e1a777720a22288c6c3e65b403a62f0b53c689426a\n",
      "->T(d) 236.9m/3.9h/0.16d, B: 0x23.. $20.640200000000004(0.2380000000000031) 0x70aacd3577f6b074ab769f6087d967f3e3023aae5950f9240ef6350e906112a8\n",
      "->T(d) 238.4m/4.0h/0.17d, B: 0xa2.. $20.640200000000004(0.2380000000000031) 0xd5c59994bfe8fbbf2511032d083d24f61630b428a7573c2bfe9932a83ca80468\n",
      "\n",
      "0x838c14eb3eabe4cb6a696d286c7b2a466629d0ee\n",
      "   T(d) 0.0m/0.0h/0.00d, B: 0x83.. $44.04393500000001(0.0) 0x1cba0ede7c16919ace5f866e6304246cb73bd2dd14e523ba8337647d80729dfa\n",
      "->T(d) 234.5m/3.9h/0.16d, B: 0x1c.. $41.8806(-2.1633350000000107) 0x7087582f711538e3f5abfbc2ca339c34ccbeed0502bb07029b098fd6d9219cfb\n",
      "->T(d) 260.9m/4.3h/0.18d, B: 0x17.. $47.1486(3.10466499999999) 0xafb48ef5d4b33c9d22f38d817b25254c50baccf8b58b1af2a3bf979988cb9b76\n",
      "->T(d) 213.1m/3.6h/0.15d, B: 0x00.. $47.1486(3.10466499999999) 0xca0f2b36f047e5cd86bed58c61d99a54ff1383afba68b4b05e39e8134fcacaf6\n",
      "->T(d) 241.8m/4.0h/0.17d, B: 0xa2.. $44.5146(0.4706649999999897) 0x4dcbaa12544380710f4a4b144d5b64b3d96401d0456ed9cae42400e697dc8226\n",
      "->T(d) 233.6m/3.9h/0.16d, B: 0x1e.. $41.8806(-2.1633350000000107) 0x449be0d80d60a5f2090c5801aa2853313d9ff911019d14754a1ae4372e7d2c91\n",
      "->T(d) 241.5m/4.0h/0.17d, B: 0x17.. $47.1486(3.10466499999999) 0x757b149c2b097656ff11ee80c02bf653ec6e0fd64036ab1e9042b8d0d57a4a6e\n",
      "->T(d) 233.6m/3.9h/0.16d, B: 0x00.. $48.20380499999999(4.159869999999977) 0x8ef77762e828c6cae2cc93d520f4b2b4a008396ba24e45372f6d24d7ad11ecaf\n",
      "->T(d) 250.9m/4.2h/0.17d, B: 0x1c.. $37.432005(-6.611930000000015) 0xa7eb2f4cbff24b6500535f03785b823ce00ed9a9aa22185191dc2a2ea2ea2de4\n",
      "->T(d) 223.3m/3.7h/0.16d, B: 0x6e.. $48.20380499999999(4.159869999999977) 0x17897effebc8e0e1aa35df83c0d91cdda15f2be3d9d8694adcafd00d3530d3bd\n",
      "->T(d) 240.7m/4.0h/0.17d, B: 0x8a.. $42.817905(-1.2260300000000086) 0x3f8c1e65f8bfcf5ab96b7d62aa2dd6fefa8e9ae81d461f4d38f712b8ea4ae5c8\n",
      "->T(d) 235.2m/3.9h/0.16d, B: 0xba.. $48.20380499999999(4.159869999999977) 0x3422fe5e7e88359c0666d32310781e166156b863aeb215e29ce6fda8ce0f4bf9\n",
      "->T(d) 239.2m/4.0h/0.17d, B: 0x6e.. $48.20380499999999(4.159869999999977) 0xad903b1897fc343786ff56f3cd13405e0c5b21c13990e473e50fbecb969110f2\n",
      "->T(d) 237.2m/4.0h/0.16d, B: 0x83.. $45.77027000000001(1.7263349999999988) 0x444fa0f54e6c9180d9a70e90f8095023cddb134f79b864e429d0113b5e3ba210\n",
      "\n",
      "0x1c1ef71445010114f41ac1feb32dbf5d7281e90f\n",
      "   T(d) 0.0m/0.0h/0.00d, B: 0x1c.. $24.261640000000003(0.0) 0x9cf0092347c8dd45e4c63ee50253bd9343d41880cd393896484f322ef651f5b9\n",
      "->T(d) 240.3m/4.0h/0.17d, B: 0x00.. $24.261640000000003(0.0) 0x05cb2dc665174671363cc5dd3851c980bdf626c5fcf46d5f2c93e6423b26471f\n",
      "->T(d) 237.6m/4.0h/0.16d, B: 0x8a.. $24.261640000000003(0.0) 0x1464cab0e36b1a6761396496f8ade7ac6d3d9caf4b1bd0b0d199013cbc5c2a68\n",
      "->T(d) 237.6m/4.0h/0.17d, B: 0x6e.. $24.261640000000003(0.0) 0xdcb1ec5c0d2fd3e1b93bb83d767fd26f7cccdace07cb961a1a8c222a5f603364\n",
      "->T(d) 235.3m/3.9h/0.16d, B: 0x00.. $24.261640000000003(0.0) 0x6fdee3141bfcff4619ebf24f3b7ccb8d70af2cae94ec197b7bbfa47825856eb4\n",
      "->T(d) 239.5m/4.0h/0.17d, B: 0x73.. $24.261640000000003(0.0) 0xe3d0eebcb9069541fb378eec9b25b95826bd547c23e5c40e98be150eeadc3656\n",
      "->T(d) 235.3m/3.9h/0.16d, B: 0x6e.. $23.948145(-0.3134950000000032) 0x4a5ea994d856c89e302ce63342b34fda3f653f667d245e460d036c9d4a74c343\n",
      "->T(d) 240.1m/4.0h/0.17d, B: 0xf5.. $23.948145(-0.3134950000000032) 0xf1c696647885159127d449eda9dd2e2f0eb06c32d3092c3d1b24141eff1c7899\n",
      "->T(d) 235.0m/3.9h/0.16d, B: 0xa2.. $23.948145(-0.3134950000000032) 0x9a4edbb167599af7acc5abe1a3fc9491b83afb5130f12e28a1033950c25ff70c\n",
      "->T(d) 240.8m/4.0h/0.17d, B: 0x17.. $23.948145(-0.3134950000000032) 0xf3e88b0448ef2542be8bfdf5419b937776905e32b1343d217b42e0b559c2bcdb\n",
      "->T(d) 237.2m/4.0h/0.16d, B: 0xa3.. $23.948145(-0.3134950000000032) 0x424f818131d871089372d5a1c04adffe8ec7f2ce4f3581dea13501f8e086150c\n",
      "->T(d) 237.1m/4.0h/0.16d, B: 0xba.. $23.948145(-0.3134950000000032) 0x49fe3475451bcb176288d544f51cd70661864c748a5baf264fa13a061506690e\n",
      "->T(d) 234.5m/3.9h/0.16d, B: 0x46.. $24.00814(-0.2535000000000025) 0x70d220d584db03824ba40c0a4a7c2820966f746e2b47fdc0d0c498071053d138\n",
      "->T(d) 240.3m/4.0h/0.17d, B: 0x6a.. $24.00814(-0.2535000000000025) 0x49391d92b62a448a8c4742675a251cb96929f05cc0d8d722a837a0d4d76ee186\n",
      "->T(d) 239.8m/4.0h/0.17d, B: 0x8a.. $24.00814(-0.2535000000000025) 0x7ad0522ee01af6767ad5a14d1f712f2d5b836996144ef2a9167921c465c63a50\n",
      "->T(d) 238.2m/4.0h/0.17d, B: 0xad.. $24.00814(-0.2535000000000025) 0xa8a6c0dec420238109619a8ada9e13c6ec00f082a47155cebe2f1ba6c51ac036\n",
      "->T(d) 233.8m/3.9h/0.16d, B: 0x6e.. $24.00814(-0.2535000000000025) 0x5b9a5884ec6e605f9713076db846f984170a6dfefd5d14c07c0ff1fd7ad5b587\n",
      "->T(d) 237.7m/4.0h/0.17d, B: 0x68.. $24.00814(-0.2535000000000025) 0x76de68fec24517fef426ae61431674c1a324f92a3e1fe63ba54aa4fb53f3f07d\n",
      "->T(d) 235.3m/3.9h/0.16d, B: 0xa2.. $27.312090000000005(3.0504500000000014) 0xf368d33bbc498509a8e6c1eab849778574256297786b5b50c712ae99c0629fa5\n",
      "->T(d) 239.9m/4.0h/0.17d, B: 0x73.. $27.312090000000005(3.0504500000000014) 0x713f7c47b1424a54fb629b86641d631eea2edaf8d017c20510ce9c6fa89b77a5\n",
      "->T(d) 234.6m/3.9h/0.16d, B: 0x17.. $27.312090000000005(3.0504500000000014) 0xf7b20612aceda2e5c8a62e4f178c07853d6b9bd12bcad632280226e4bcad94d5\n",
      "->T(d) 241.4m/4.0h/0.17d, B: 0xa2.. $27.312090000000005(3.0504500000000014) 0x8427057008838ed811269d7cd270b01c0ad9db1936f78f20f5d55dcc00fe6c73\n",
      "->T(d) 234.1m/3.9h/0.16d, B: 0x1c.. $27.312090000000005(3.0504500000000014) 0x8966e41f67f38f48209a2c0f6f576e34e1699002e23b10ea5cdd83c56d74d862\n",
      "\n",
      "0x6a47b60c377450a460d3eb828d534ee66eead668\n",
      "   T(d) 0.0m/0.0h/0.00d, B: 0x6a.. $40.94054999999999(0.0) 0x13585f006d24df8f9108e639067656a05c24963e0ee57f8717442a83aff949f0\n",
      "->T(d) 233.9m/3.9h/0.16d, B: 0xa3.. $40.94054999999999(0.0) 0x94438e03e908b49ca41de5c529f04d21995976b3018d314589a968a8e6b4e14c\n",
      "->T(d) 236.4m/3.9h/0.16d, B: 0x17.. $40.94054999999999(0.0) 0xfb9e70293245c78b957c5e1a83a38dace461a433f01e257ae59885f79538d49f\n",
      "->T(d) 239.4m/4.0h/0.17d, B: 0x83.. $40.94054999999999(0.0) 0x4e3c247a977e80aea1340c92c601f3be5adac1503e499db53337cb652195ea85\n",
      "->T(d) 234.8m/3.9h/0.16d, B: 0x8a.. $40.94054999999999(0.0) 0x1c994ac1a4d85e6a412d972d3bd4510a1f439a02011d2cfb273400f5f5d9d420\n",
      "->T(d) 239.9m/4.0h/0.17d, B: 0x68.. $39.1377(-1.8028499999999852) 0x2e5a5ff82a694f1dd99bceb3b7221059b3daa7d55bd852ef21ada0c011fbacee\n",
      "->T(d) 234.7m/3.9h/0.16d, B: 0x46.. $39.1377(-1.8028499999999852) 0x78d44b4aea4e32a63fed00862661b32b16940454ef7f367d1363353293d0100f\n",
      "->T(d) 3090.0m/51.5h/2.15d, B: 0xe7.. $44.07479999999999(3.1342500000000015) 0xa417ca84414a84a6e04d94f2af6db81e00c05a16a110ae32fa382dbb438a0a3d\n",
      "->T(d) 235.7m/3.9h/0.16d, B: 0x23.. $44.07479999999999(3.1342500000000015) 0x81ecb1887028233e830fd0dd53aa2b8736a1008f4ca8611c0393b2338dccc428\n",
      "->T(d) 240.0m/4.0h/0.17d, B: 0xba.. $44.07479999999999(3.1342500000000015) 0x5ca86e8abef91cfa5beed6894a55a6ee982ada10756f44741abcee0ca39224cc\n",
      "->T(d) 234.7m/3.9h/0.16d, B: 0xcd.. $44.07479999999999(3.1342500000000015) 0xde37173d9671d7a0e335bd390bb5fa93cbdad3d309bede4db1758d53823414ea\n",
      "->T(d) 240.0m/4.0h/0.17d, B: 0xa2.. $49.61564999999999(8.6751) 0x5b587fd4629817ed87a1e2bc3c0ecf129e1c2d75d88407cbba78a36a960df345\n",
      "->T(d) 243.0m/4.0h/0.17d, B: 0x46.. $49.61564999999999(8.6751) 0x2a2d9fb04cfc19aa41b3ec67bbc3bd8b1f214c64681eaaf771cc16f3b28a01cd\n",
      "->T(d) 422.8m/7.0h/0.29d, B: 0x73.. $49.61564999999999(8.6751) 0x4c67fba520f4a7e0eba55c7d78eb84967c3474cdb992ae14be79f009de2deed1\n",
      "->T(d) 228.1m/3.8h/0.16d, B: 0x83.. $49.61564999999999(8.6751) 0xc99d931d9d00b3d6f3c8f8c728f6f166cdfbb3481a7d8c251391a72f470b532e\n",
      "->T(d) 58.1m/1.0h/0.04d, B: 0x8a.. $49.61564999999999(8.6751) 0x550788b130dd6240766adfd19279d35d9206b112f497490ba2e6718984f74a25\n",
      "->T(d) 238.7m/4.0h/0.17d, B: 0x6e.. $49.61564999999999(8.6751) 0xf299650bc47663743738a5ad0b38ebd5b0d1db16073af82bdb5fea1cb3278582\n",
      "->T(d) 234.2m/3.9h/0.16d, B: 0xa3.. $53.74844999999999(12.807900000000004) 0xdaeac5fa0261abb08a4d8536a79974152c2c27cb9bc80e48a608ae7f0993f450\n",
      "->T(d) 234.8m/3.9h/0.16d, B: 0x68.. $53.74844999999999(12.807900000000004) 0xb5ccacd7ad304a9599589c644350b44d06515c321dc4404e31fc863d68916efd\n",
      "->T(d) 477.0m/8.0h/0.33d, B: 0x73.. $53.74844999999999(12.807900000000004) 0xccdbef80592beafc838a24002a1074a4b4ddad56bd383d0e2e01f32cd164ca37\n",
      "->T(d) 239.6m/4.0h/0.17d, B: 0xcd.. $53.74844999999999(12.807900000000004) 0xb8464443161ffda9868a3486443a1961651a277547cacf6001d38c94b94b713d\n",
      "->T(d) 234.1m/3.9h/0.16d, B: 0x17.. $53.74844999999999(12.807900000000004) 0xa362b6b219f8e9f12051c931ad461d7004a785bd274e548855338b3662e4da08\n",
      "->T(d) 239.2m/4.0h/0.17d, B: 0xa2.. $50.69294999999999(9.752400000000002) 0x4719af8f61274f6b35feb547533634ea2d1d6797d495b6b8ae81d058e65ef856\n",
      "->T(d) 236.4m/3.9h/0.16d, B: 0x83.. $50.69294999999999(9.752400000000002) 0xcde4b0e448efdb134775e76bc397215b2cde25dc884d2743cb271863070ef863\n",
      "->T(d) 239.5m/4.0h/0.17d, B: 0x1e.. $50.69294999999999(9.752400000000002) 0x2d901e276e62c39b3965fdfbc638702d2c6500edc5e72c18a9abfce200a75b27\n",
      "->T(d) 234.8m/3.9h/0.16d, B: 0x1c.. $50.69294999999999(9.752400000000002) 0x84c40c8958e21ab3e4a2b618a9101a41deba20adb16779e395f9034192c4245f\n",
      "->T(d) 239.6m/4.0h/0.17d, B: 0x87.. $50.69294999999999(9.752400000000002) 0xe62b765597e63f77eb92f584749d0d0cfaede33eec3afc2570adad20024da20d\n",
      "->T(d) 235.0m/3.9h/0.16d, B: 0x83.. $50.69294999999999(9.752400000000002) 0x79395c852a75cd73631b54bc8449611ca70f2cbba27daa70d948c0f564e48bfb\n",
      "->T(d) 244.1m/4.1h/0.17d, B: 0x6a.. $49.94114999999999(9.000600000000006) 0x4cbb133e10c935ebb5da797a7a9b350b0984da4d90f7554795fa4a68378a4f46\n",
      "\n",
      "0xe738725cdcc41c91f734dd7b5b9659df994d6dda\n",
      "   T(d) 0.0m/0.0h/0.00d, B: 0xe7.. $21.03408(0.0) 0x27e5fda9710bae72f9e0763d8819c8826fba341decc9227093784d9dbc0bd9d2\n",
      "->T(d) 238.0m/4.0h/0.17d, B: 0xa2.. $21.03408(0.0) 0x1b0ba64003026fff7abd0032982db3f8e9a2af70e0957822e01c6c3b83bb210e\n",
      "->T(d) 237.0m/3.9h/0.16d, B: 0x00.. $23.61393(2.5798500000000004) 0x7bc7b4ae8fa82c9ecb7dc694a8c163521e82edfb8befd866dffe394981725599\n",
      "->T(d) 239.0m/4.0h/0.17d, B: 0xe7.. $23.61393(2.5798500000000004) 0x64cf26ba331199f21cc7bbf71e6eeec39e9beefe4ec466c8527e2869b572e411\n",
      "\n",
      "0x463215edb66fb6a8f0c979e739a731977617699f\n",
      "   T(d) 0.0m/0.0h/0.00d, B: 0x46.. $42.29143499999999(0.0) 0x9afdd79768d79d58db62e1b8aceca8d7e9c619b5c6207b048cb304794189bce9\n",
      "->T(d) 242.5m/4.0h/0.17d, B: 0x83.. $45.814155(3.5227200000000067) 0x09873f6d1adb30de6f154747635592cf3bc7b1bbd9695773165632ebbcffb2d6\n",
      "->T(d) 238.6m/4.0h/0.17d, B: 0x87.. $45.814155(3.5227200000000067) 0x9b09041de07705d08affaea849d67b66e8a7834f87544ca59a979b1c751f98c4\n",
      "->T(d) 242.2m/4.0h/0.17d, B: 0x46.. $45.814155(3.5227200000000067) 0x1b7b7b49c8bcf60948c21fc4bf604759a9e892e20d6b0005bda037b7ba4a2898\n",
      "\n",
      "0x179d698f5a1c84c3ff4c5eb04e553c15a0c1d8d8\n",
      "   T(d) 0.0m/0.0h/0.00d, B: 0x17.. $48.9153(0.0) 0x34a105185130884fb2eb59f3e47860764c3f9767e05314f39a333a5d1eae5636\n",
      "->T(d) 243.7m/4.1h/0.17d, B: 0x6a.. $48.9153(0.0) 0x97829d2c516d971ace8a2669d6fb1564a891e03bd700f880629fd212949223b2\n",
      "->T(d) 231.8m/3.9h/0.16d, B: 0x1e.. $51.60119999999999(2.6858999999999895) 0x0df7a57c1c0225188b5a6f709ed33920354143706045d81aacec058950da88a7\n",
      "->T(d) 234.7m/3.9h/0.16d, B: 0x00.. $51.60119999999999(2.6858999999999895) 0xb75a47ac6e94ec393fb8313abee9530c39df21f4d0ef297414c2133a5d47776c\n",
      "->T(d) 239.8m/4.0h/0.17d, B: 0x8a.. $51.60119999999999(2.6858999999999895) 0x3c720ecbb9a531864eaf7fdbb8e066466faf08f08907c22606887e32be85fb8b\n",
      "->T(d) 236.5m/3.9h/0.16d, B: 0x00.. $51.60119999999999(2.6858999999999895) 0x8ac4ba9a35ad2d033e66353ebe0bb4493f43782ad524b6abaa880b6c7a842dd3\n",
      "->T(d) 239.9m/4.0h/0.17d, B: 0x23.. $51.60119999999999(2.6858999999999895) 0xf5f0cb0d81febca6f3c21d31a35993dd5dc99e6ec5e758743573d7c1286a54fd\n",
      "->T(d) 233.6m/3.9h/0.16d, B: 0x73.. $51.60119999999999(2.6858999999999895) 0xb1d71192385cd4286f3abaad160afb5086e7c5c83ddd1145253dae3c2a20a07d\n",
      "->T(d) 240.5m/4.0h/0.17d, B: 0x6a.. $51.48359999999999(2.5682999999999865) 0x0b7302b5b1546b6b259a0d62f244b1dabb42a0f6109d97dcc55051362d8fe023\n",
      "->T(d) 238.3m/4.0h/0.17d, B: 0x1e.. $51.48359999999999(2.5682999999999865) 0xf7e941374aba3fdf57dd15ab8689a26d6aa68a23e3cd0ce370e9ba97e838ffef\n",
      "->T(d) 236.6m/3.9h/0.16d, B: 0x1c.. $51.48359999999999(2.5682999999999865) 0x3fb523121ebacb327d6bf57c903179633ad2459e357034221dced29a053c9cd6\n",
      "->T(d) 234.6m/3.9h/0.16d, B: 0x46.. $51.48359999999999(2.5682999999999865) 0xd38985bf9df05bf53b136da01b28dfbb3ccc224a15f3b9529eb020a94514287a\n",
      "->T(d) 240.8m/4.0h/0.17d, B: 0xad.. $51.48359999999999(2.5682999999999865) 0xf8b3b810e348c01f8b89754145410df9a9a631a1d07e1637d861332d53432928\n",
      "->T(d) 234.1m/3.9h/0.16d, B: 0x17.. $51.48359999999999(2.5682999999999865) 0xbc55b2aa6ec742f342fbbd540f733bead2888aa293501e9176ad131953c350ca\n",
      "\n",
      "0x1e7f320cf5a938465d501f6bd6c405feb3a70f6c\n",
      "   T(d) 0.0m/0.0h/0.00d, B: 0x1e.. $31.496530000000003(0.0) 0xbf59c0746441e2874f9e62be39eccceaf1ad834b09fa70ddaee173baef51261e\n",
      "->T(d) 238.1m/4.0h/0.17d, B: 0xe7.. $31.496530000000003(0.0) 0x2388966e1d4bfdafe22a42556f6e6f15b6b2b38b4f010ad73922eef98f32ea67\n",
      "->T(d) 237.1m/4.0h/0.16d, B: 0x73.. $34.228415000000005(2.731885000000002) 0xbaf526d3a3c671184d5b14059e157b1c49f9c31e1efbee2ea20c69e3e877fb1b\n",
      "->T(d) 235.8m/3.9h/0.16d, B: 0xad.. $34.228415000000005(2.731885000000002) 0x9f34c363c4dfaac05f34e3b73f9a8f036428084818e7246b79a6b7fecdf61b45\n",
      "->T(d) 239.2m/4.0h/0.17d, B: 0xba.. $34.228415000000005(2.731885000000002) 0x1b31bba5fb88e8d54786ddf393093abd639061898323f81fec98fc252a218ddf\n",
      "->T(d) 547.4m/9.1h/0.38d, B: 0x83.. $34.228415000000005(2.731885000000002) 0xf14e75f9c64761ac8e1c1911760cbe24d68a4fad04a79cbd55ec72efc9d31b7f\n",
      "->T(d) 1113.7m/18.6h/0.77d, B: 0xe7.. $35.46972(3.973189999999999) 0x6f17c1b723aa330b39ff8ce601e3aa27aa77226a507a115fdb037913824f586d\n",
      "->T(d) 238.5m/4.0h/0.17d, B: 0x23.. $35.46972(3.973189999999999) 0xce673c92f78a663b622b62fafc9ed46fb26793919cc630adb7af3821d4882e0b\n",
      "->T(d) 235.6m/3.9h/0.16d, B: 0xba.. $35.46972(3.973189999999999) 0x571316592fa4b68dc2e5a03040868661f4c0f035421742380b357754d705a6e0\n",
      "->T(d) 240.5m/4.0h/0.17d, B: 0xcd.. $35.46972(3.973189999999999) 0x04d494333c2e26fd51a212d9ad3daba0fa3b562f79cd021e84bc90f77254f792\n",
      "->T(d) 234.2m/3.9h/0.16d, B: 0xa2.. $39.928785(8.432254999999994) 0xccf7c4059c48e7ea82e55c72637281fb13e5223cfb76f859005da353225c3d2b\n",
      "->T(d) 253.7m/4.2h/0.18d, B: 0x46.. $39.928785(8.432254999999994) 0x62a55f9cca39170e2eebf2cf31534ff553e5f5d263b1318ba10377dc5501449b\n",
      "->T(d) 388.1m/6.5h/0.27d, B: 0x8a.. $39.928785(8.432254999999994) 0x47920f0eebaec88d8b9ba143a44e8e28e795e3eb64d932740b4826003064e482\n",
      "->T(d) 74.3m/1.2h/0.05d, B: 0xe7.. $39.928785(8.432254999999994) 0x83d26b32a97fcc0f26a9f1394004fb04403dba2619c9b0d6d66789c4a5147ea1\n",
      "->T(d) 233.9m/3.9h/0.16d, B: 0xad.. $39.928785(8.432254999999994) 0x1f9944d48c288380ca0b914b9b4a0e8030d7da3f90edf55cf57e41242d40e86c\n",
      "->T(d) 244.0m/4.1h/0.17d, B: 0x17.. $39.928785(8.432254999999994) 0x892cae4275097b4b2f04a9395fcf8145983c52e25618d22964e928b5b9b8cbbb\n",
      "->T(d) 2131.8m/35.5h/1.48d, B: 0x8a.. $40.795755(9.299224999999996) 0xbd7e80cc16dde1382b2c0fbf782d79a8e0572d5af8a666aed59c68c3497dbb25\n",
      "->T(d) 238.6m/4.0h/0.17d, B: 0xe7.. $40.795755(9.299224999999996) 0x5cb7f54f98ca3c37757da9a20c948a5dc2b74107ff782f84f8550837bc664ff3\n",
      "->T(d) 235.4m/3.9h/0.16d, B: 0x1c.. $40.795755(9.299224999999996) 0x6b13b1d3bc7c6ce65288790bacf1aca81dfcf4b3ee5576694c82b09047e7d625\n",
      "->T(d) 242.7m/4.0h/0.17d, B: 0x87.. $40.795755(9.299224999999996) 0x5af0d2f334cc1db976ca1eb8c8c1983e387da065562c2a8dc429838ed7f6a15f\n",
      "->T(d) 250.5m/4.2h/0.17d, B: 0x83.. $40.190735(8.694204999999993) 0xb0a093b1d0389b27ff60d84f7e38b71120a762fbb2e5f5625626f7a58f106282\n",
      "->T(d) 222.4m/3.7h/0.15d, B: 0x6a.. $40.190735(8.694204999999993) 0xac0716807e93c025d39a36b4645d8b14435c5230b865a9b9e48c8d3fdfc530f7\n",
      "->T(d) 248.2m/4.1h/0.17d, B: 0xa2.. $40.190735(8.694204999999993) 0xa3ad98517785610dc900090b82d316cff48a434b03c104e06c92e67b9acff7a9\n",
      "->T(d) 227.9m/3.8h/0.16d, B: 0xad.. $40.190735(8.694204999999993) 0xd526699411ddc42cdf40a23a0e1edf1b3dc2a88115e4076372c8cbdb7232b887\n",
      "->T(d) 233.1m/3.9h/0.16d, B: 0x68.. $40.190735(8.694204999999993) 0x247625df2aeb1c83e4e1a1e287e0aa8bc0628f030de8b05cfa6e85200f9dd0d7\n",
      "->T(d) 240.8m/4.0h/0.17d, B: 0x17.. $40.190735(8.694204999999993) 0xd005d2de7a4c17c4f62008820ccf54455692d49ea9529b0aa09b826750957272\n",
      "->T(d) 234.4m/3.9h/0.16d, B: 0x1c.. $44.322785(12.826255) 0x06344b9c03129302ef11b80016f62922bb2154b7690a9196b821a9d22bd8c5fe\n",
      "->T(d) 241.7m/4.0h/0.17d, B: 0xa2.. $44.322785(12.826255) 0x32c943f64e9df1598328427ec4f7d5914b4b27486f448dd31fa74390b8fc0b34\n",
      "->T(d) 233.2m/3.9h/0.16d, B: 0xba.. $44.322785(12.826255) 0x3aa70fa30f59b9e7af135a3c977921087da45e1a9bf99937613ceef643293982\n",
      "->T(d) 260.3m/4.3h/0.18d, B: 0x6e.. $44.322785(12.826255) 0x24cab30a4e1ec8c5ae1574acc8885c0b4da2a280d1b8d6d1d1d76390887c6b53\n",
      "->T(d) 215.2m/3.6h/0.15d, B: 0x83.. $44.322785(12.826255) 0x72e417f4065019c3da20f0ac0110e12aca232fc036b5feb85597292548c4e474\n",
      "->T(d) 240.4m/4.0h/0.17d, B: 0xe7.. $44.322785(12.826255) 0xda6eef16ba1dd3fd33326d165d4275b25d0d62dc076c5848be9e51860b900519\n",
      "->T(d) 234.6m/3.9h/0.16d, B: 0x73.. $42.801785(11.305254999999999) 0x7e60836ba48aa77b5dfaf72752090ba612287e2e0051912b0c438ab6fa9d0dbd\n",
      "->T(d) 239.9m/4.0h/0.17d, B: 0x6a.. $42.801785(11.305254999999999) 0x45d1e7d244118e07c795e48ea7d4e3a6fd3c3b3696f4007275c93e10223f0b2b\n",
      "->T(d) 234.4m/3.9h/0.16d, B: 0x1e.. $42.801785(11.305254999999999) 0x258c4ac04c9031dadb5f13a846f6b26c48cbc51f68a7bd85e2276aca4dcd25ae\n",
      "\n",
      "0x6e13c7e25c2cda6f5c8c4e431bee480bfb312c28\n",
      "   T(d) 0.0m/0.0h/0.00d, B: 0x6e.. $44.031075(0.0) 0x126eb0ab984c8c75c027b75e39dd858be780cb77273434c84528443d653bd25b\n",
      "->T(d) 235.1m/3.9h/0.16d, B: 0x23.. $44.031075(0.0) 0x660b35aa00611025e36c897e3c253a100341639701a43da3e32ff334242dbe3b\n",
      "->T(d) 239.6m/4.0h/0.17d, B: 0x1c.. $44.261625(0.23055000000000092) 0xd4378bdd5e571007345babe8e465bdd35833dafee034fc7a015e12d8e54aed75\n",
      "->T(d) 235.3m/3.9h/0.16d, B: 0x6e.. $44.261625(0.23055000000000092) 0x9777aca8ee7b53d259fa5fb708040d637648b0c9ec8022bf86070c3490eda344\n",
      "\n",
      "0x236ef21dc36d0aec3990dd5ee84a9d5320644262\n",
      "   T(d) 0.0m/0.0h/0.00d, B: 0x23.. $6.3431700000000015(0.0) 0xdda32445f4e446d4ae7d0058b4b42e2a51062e26e309333a45b8e038824722ea\n",
      "->T(d) 211.4m/3.5h/0.15d, B: 0xf5.. $7.170539999999999(0.8273699999999975) 0xb4767d120aefd477e1cd4af0a3ce706b40519d90a38f98569af34ae93a542bf8\n",
      "->T(d) 240.3m/4.0h/0.17d, B: 0x46.. $7.170539999999999(0.8273699999999975) 0x4c7546875206f7894949e6cd9c10b5b6c05245de02cebc6eab49825ae5231019\n",
      "->T(d) 236.0m/3.9h/0.16d, B: 0x6e.. $7.170539999999999(0.8273699999999975) 0x93e1dc455ee8cd1cccde4bc2796204f993a67f1e81aa70dcd897b046793ade83\n",
      "->T(d) 237.9m/4.0h/0.17d, B: 0xa2.. $7.008819999999999(0.6656499999999976) 0x17b7ba1633935b3f8b61040730998a81af7311bad692168a507df70e6eebfe6f\n",
      "->T(d) 235.4m/3.9h/0.16d, B: 0x1c.. $7.008819999999999(0.6656499999999976) 0x191f018e9a8837f9af74a978f01e6807e03e26ec9191e8a2fdcb76bc9a579353\n",
      "->T(d) 239.2m/4.0h/0.17d, B: 0x87.. $7.008819999999999(0.6656499999999976) 0xda45fa2794660a0fa880e29584550316af5761035d5cc5bfb640553f5ea97f13\n",
      "->T(d) 235.2m/3.9h/0.16d, B: 0x8a.. $7.008819999999999(0.6656499999999976) 0xb0a3fa4b1f6335343af06bae2f1d70262c3dd36dcdb52636e865ab40a9c012dd\n",
      "->T(d) 240.5m/4.0h/0.17d, B: 0x1c.. $7.008819999999999(0.6656499999999976) 0x4dd89c35d174c9311354ad6ebed8ffc5fccc45167bb518321f61113c062aa630\n",
      "->T(d) 234.9m/3.9h/0.16d, B: 0x46.. $7.008819999999999(0.6656499999999976) 0x67c219b9556263ae5d706e65414cc5a321854d6a6cc636261122fd031820db11\n",
      "->T(d) 239.9m/4.0h/0.17d, B: 0x00.. $7.15936(0.8161899999999989) 0x1f0d0d6a014888527a88bb06e62c8dffc89a415e935b5e6cd239e597ff11f60a\n",
      "->T(d) 235.0m/3.9h/0.16d, B: 0xa2.. $7.15936(0.8161899999999989) 0x2d26294b97196044544e30b73671727ac69d6ca5ee32b07f04cb39c652e6e93f\n",
      "->T(d) 239.9m/4.0h/0.17d, B: 0x23.. $7.15936(0.8161899999999989) 0x4a77270ec0adce3baa9a62eeab01754a64aa9759ee4de95ad619a92dd31543e5\n",
      "\n",
      "0xf5aee6d7b838d5ede8aa65d31dbc11116545180c\n",
      "   T(d) 0.0m/0.0h/0.00d, B: 0xf5.. $21.94182(0.0) 0xee30fc51c9f4a28e0763210df86ba19d39ebd557e958ed6f6e145c014069ba9a\n",
      "->T(d) 240.4m/4.0h/0.17d, B: 0xba.. $21.94182(0.0) 0xb4e31ab07d0b505a3f5e91933ab72735da390fd28eca6cd8f39c380b20530c81\n",
      "->T(d) 234.8m/3.9h/0.16d, B: 0x6e.. $21.94182(0.0) 0xf27390fe1c917015516529bf1330eddc1f5230b5c9e614826941ad4af3e82e35\n",
      "->T(d) 241.4m/4.0h/0.17d, B: 0x1c.. $21.94182(0.0) 0xf20f940a15576c1f8506048c06ae48ef17e7237c488c52460594436f5dbb240b\n",
      "->T(d) 232.9m/3.9h/0.16d, B: 0xa3.. $21.94182(0.0) 0x7fa9396fbc6f7ce2c5c1c1151dc1a520281932dc8f2b0c595b130a0930342ed6\n",
      "->T(d) 241.6m/4.0h/0.17d, B: 0x23.. $21.808465(-0.13335499999999811) 0x714c77e097567958493a6e68186ebc788e9725a8a618147ec6f2781b0de64398\n",
      "->T(d) 234.4m/3.9h/0.16d, B: 0x83.. $21.808465(-0.13335499999999811) 0x7f0f527061b1e6cc0d42313b8661a622891a4650c9a2bb871c2584f0a83eee35\n",
      "->T(d) 239.6m/4.0h/0.17d, B: 0xcd.. $21.808465(-0.13335499999999811) 0x6fa322d0db0e6be4e8c6b617ad3f52c1941a144e57cb0633fbfc4ddf08b62905\n",
      "->T(d) 236.0m/3.9h/0.16d, B: 0x6a.. $21.808465(-0.13335499999999811) 0x5847f63bafad877993440d91b5a416e975476bfbb47b75ebac7f7104c3da30ac\n",
      "->T(d) 238.3m/4.0h/0.17d, B: 0x1e.. $21.808465(-0.13335499999999811) 0x2ce6a6dd01cddc1a192bade0dfb59e94fad4e7e377335fe928858e9fb05a96d0\n",
      "->T(d) 235.9m/3.9h/0.16d, B: 0x8a.. $21.808465(-0.13335499999999811) 0xbbf718816167d4f9e83fc74a9e6da0e24dec335a8166bd755fbc5015c941cfb1\n",
      "->T(d) 242.4m/4.0h/0.17d, B: 0x46.. $21.69301(-0.24880999999999887) 0x2472b4c81c353ebfe85d713ae26f271d826ed3abf4924f8a1aec0f944f668415\n",
      "->T(d) 236.6m/3.9h/0.16d, B: 0xe7.. $21.69301(-0.24880999999999887) 0x1a138fdb74b38cfc51554afee387a1f8055e1f87b4ac15e5f2419754cb7aacf0\n",
      "->T(d) 236.8m/3.9h/0.16d, B: 0x17.. $21.69301(-0.24880999999999887) 0xe05f51cf1b8338998ee7fce1c27967a7d9c93e842f2d20b406c4a8410c5cb614\n",
      "->T(d) 234.1m/3.9h/0.16d, B: 0x83.. $21.69301(-0.24880999999999887) 0xac851da87f174abf10167f52a0a426dab4393d6c02ffed035272d94cd34216b7\n",
      "->T(d) 239.8m/4.0h/0.17d, B: 0x46.. $21.69301(-0.24880999999999887) 0xcd90cd216d7b3b6ae55449bb606f9531abf30a3d1f5a8ca2450fcf136843bcb9\n",
      "->T(d) 237.3m/4.0h/0.16d, B: 0xcd.. $21.69301(-0.24880999999999887) 0xccf83ef85421b0dd7ce044786f24b51339b7ab7aaa0e36b4d993782487ef32f3\n",
      "->T(d) 948.1m/15.8h/0.66d, B: 0xcd.. $21.87559(-0.0662300000000009) 0x5a38524cbc15d4363fcb6b396ac72bf78a2e39bfc93ec03eaf1005d5c39b5301\n",
      "->T(d) 242.3m/4.0h/0.17d, B: 0x46.. $21.87559(-0.0662300000000009) 0x2cbbadb8a7226255136366ce2cd42bf5fe2e2487aff869c3f7ee9b9e8740ca5e\n",
      "->T(d) 232.2m/3.9h/0.16d, B: 0x1c.. $21.87559(-0.0662300000000009) 0x133f15e1ff066727ef95ee762d16f3a5e59eeaa7803485d74f84f7977328d8d0\n",
      "->T(d) 241.7m/4.0h/0.17d, B: 0x1e.. $23.24136(1.2995400000000004) 0xd5ff3acafc3f2319af47526e5e84e9e6bb3454b155d967fe2d6ba3a51f73685f\n",
      "->T(d) 473.7m/7.9h/0.33d, B: 0x73.. $23.24136(1.2995400000000004) 0xba9c66072bec5a7da6fbabb1e4946124dc6fb7a30f170f76935f503d974432bf\n",
      "->T(d) 235.6m/3.9h/0.16d, B: 0x87.. $23.24136(1.2995400000000004) 0xae7574480bc0b56b40db9e992d67ff02238da158251c3a83b42dccd5cd2723a2\n",
      "->T(d) 240.4m/4.0h/0.17d, B: 0x1e.. $23.24136(1.2995400000000004) 0xc1a4d8546821eded8e96620693696a7666ac1ab71dc1b53ca3cf516cb617e5bc\n",
      "->T(d) 235.6m/3.9h/0.16d, B: 0x00.. $23.24136(1.2995400000000004) 0xc616d7bde2f5dff3c89226248790eca6b2dbdaa55378fa9371453167f7092f6b\n",
      "->T(d) 239.7m/4.0h/0.17d, B: 0x46.. $26.091935(4.1501149999999996) 0xfca52e52e64f60d11f573da9132cd274fe5df285a1b96e7b14ead7d77c774278\n",
      "->T(d) 708.6m/11.8h/0.49d, B: 0x68.. $26.091935(4.1501149999999996) 0xbe37dd6ea0abe7cf03bdab106800de87e6d8c0eff899670e926088145db5b6ad\n",
      "->T(d) 244.9m/4.1h/0.17d, B: 0xa3.. $26.091935(4.1501149999999996) 0x17246d5df62d60bb97a34a66b0224d303d197f5816ce9dfde3361816f38f6d15\n",
      "->T(d) 230.2m/3.8h/0.16d, B: 0x83.. $26.091935(4.1501149999999996) 0xde30e6a208ef5059f455acfbb14203d7160f44b6445d028788d45fde3e36ce57\n",
      "->T(d) 239.6m/4.0h/0.17d, B: 0x17.. $26.204705(4.262885000000001) 0x6b05929928242b0c5be4378745fa633cf5fdd0a5f7fdda367bc577d0f419c45a\n",
      "->T(d) 236.1m/3.9h/0.16d, B: 0xba.. $26.204705(4.262885000000001) 0x05363fbd50fe7c4445da15279270782c5466de285190bb7fb55eb0a2c2b2a2a9\n",
      "->T(d) 239.7m/4.0h/0.17d, B: 0xe7.. $26.204705(4.262885000000001) 0x22030dbf2fc174a61477e178f4b6b4d37d0a1a3a69f9339c0554821df953990d\n",
      "->T(d) 233.8m/3.9h/0.16d, B: 0x1c.. $26.204705(4.262885000000001) 0x93ad20c3bb7c801da46273f0c990f27dd2328e28c84204acaae3ab364d4f1588\n",
      "->T(d) 243.3m/4.1h/0.17d, B: 0x87.. $26.204705(4.262885000000001) 0x2650b3ae33eced86269d63272333164c6813451a3521c1ce2645ba1516d5f485\n",
      "->T(d) 234.5m/3.9h/0.16d, B: 0xa3.. $26.204705(4.262885000000001) 0x545a7a58da66f3fa801c6336e06053b80af12e5e6bcb4f40a42b3a585b16a01e\n",
      "->T(d) 240.9m/4.0h/0.17d, B: 0x00.. $26.204705(4.262885000000001) 0x663751b93a792335c06896dacc11d0e83071104b3a13e6aeccd1a0fc702f878d\n",
      "->T(d) 232.6m/3.9h/0.16d, B: 0x17.. $26.185015000000003(4.243195000000004) 0x70184d2360833d42037f96d69f27b26f52e8563215fcd242e9461b08b0c8d483\n",
      "->T(d) 240.5m/4.0h/0.17d, B: 0xe7.. $26.185015000000003(4.243195000000004) 0xc9e44f2266bc69bae4e9aa766437347ec71664276106852f7c5afc9ca8173c09\n",
      "->T(d) 234.3m/3.9h/0.16d, B: 0x87.. $26.185015000000003(4.243195000000004) 0x22d43f6718e1ea36d92b4bc4b5070f87576c54b843adfded8f60fea14994d24e\n",
      "->T(d) 239.5m/4.0h/0.17d, B: 0xa3.. $26.185015000000003(4.243195000000004) 0x5d5f5f895fdb7e43620ea1306ef40b90af1577476d46a7284a357eb5a63ad6f3\n",
      "->T(d) 235.6m/3.9h/0.16d, B: 0x68.. $26.185015000000003(4.243195000000004) 0x6cce84049c02555be217163da353ad9941f4d80dfa7c0adb9a2b3ebc7579ccab\n",
      "->T(d) 241.2m/4.0h/0.17d, B: 0xa3.. $26.185015000000003(4.243195000000004) 0x7ac119464ab7bc173984064941e1fa1721c0c45f98823832a4ce2d0714a31037\n",
      "->T(d) 235.6m/3.9h/0.16d, B: 0x73.. $26.08567(4.1438500000000005) 0xc307cf0de77e6ab70915be3ee76b9d02c801b2edd7f77487867f51be2039b532\n",
      "->T(d) 239.3m/4.0h/0.17d, B: 0x46.. $26.08567(4.1438500000000005) 0xb27dbae4d28f4eefa143119f6ff8a11c89c646689f8be2e988a96fd1bf161345\n",
      "->T(d) 233.8m/3.9h/0.16d, B: 0x83.. $26.08567(4.1438500000000005) 0xc7058cdbe7db1df52b501608aabfab6bdd55a21db0ba1793cd40d5582103fd40\n",
      "->T(d) 241.1m/4.0h/0.17d, B: 0x6a.. $26.08567(4.1438500000000005) 0xb0bb50fcc1dc90f4e9f1b2bc0e3f2988568bc11dc1475df0941596c6c9cc6dbb\n",
      "->T(d) 240.0m/4.0h/0.17d, B: 0xad.. $26.08567(4.1438500000000005) 0xb9128803d9adfdbeb508380670f4e6d76a12e0770dff96763b0030ff7665f0a0\n",
      "->T(d) 233.0m/3.9h/0.16d, B: 0xe7.. $26.08567(4.1438500000000005) 0x28ad5cacb1947a9605a5e0532bb19a7a60ada97f6e9422f30c15526513686bcf\n",
      "->T(d) 237.4m/4.0h/0.16d, B: 0xba.. $26.38997(4.448150000000002) 0x27e0cd15084129f710eef43b237e71bda8bdaee64200c3304db8f1588872a0e9\n",
      "->T(d) 238.5m/4.0h/0.17d, B: 0x46.. $26.38997(4.448150000000002) 0x631af90a5122a06b99bc77969b71c4d4068f5e8e93c21248283b631f4d052567\n",
      "->T(d) 235.1m/3.9h/0.16d, B: 0x8a.. $26.38997(4.448150000000002) 0x934e0e6b899c429c700dc7b4bb2b95fee659b60641024634c8891af41f3a9948\n",
      "->T(d) 239.0m/4.0h/0.17d, B: 0xad.. $26.38997(4.448150000000002) 0xf7d259cea54c53ae5e5dbf1ef95b4cd4d2a2637e9a8a2d843ca3bc13f7fc8400\n",
      "->T(d) 236.1m/3.9h/0.16d, B: 0xcd.. $26.38997(4.448150000000002) 0xf53ce56cf5cc249768436d502192fbfa4b49db06212be773089804785089d5ff\n",
      "->T(d) 238.8m/4.0h/0.17d, B: 0xa3.. $26.38997(4.448150000000002) 0x7b01bba2150203be842e3283bacdfb96bda255eee1d1b512526b93c4e330d80c\n",
      "->T(d) 235.0m/3.9h/0.16d, B: 0x87.. $28.200555(6.2587350000000015) 0x1f43ab72548fac5b7950c78af8b28490d095afcca048bc0ae5df79fce8a2a2c4\n",
      "->T(d) 241.0m/4.0h/0.17d, B: 0x68.. $28.200555(6.2587350000000015) 0xf055af1f04eb0e4b504de9d825c74e7e42175ede4d47c644f7273642bddde134\n",
      "->T(d) 236.8m/3.9h/0.16d, B: 0x00.. $28.200555(6.2587350000000015) 0x360fb0625aa5d3187bb6383c839ed0581c934cac1eb0ac6d4fa51dfe77066d54\n",
      "->T(d) 237.7m/4.0h/0.17d, B: 0x6e.. $28.200555(6.2587350000000015) 0xc7833bf32358350d76838c9ba857aaf9232fc6ff623dab8caca4c65b1e1496ee\n",
      "->T(d) 235.6m/3.9h/0.16d, B: 0x83.. $28.200555(6.2587350000000015) 0x95b817342d49d7a5760716fb29074472017d341fb182e0f03766d34539e1970a\n",
      "->T(d) 239.5m/4.0h/0.17d, B: 0x1e.. $28.200555(6.2587350000000015) 0x23e431c60c7be155edb730d24d639a3ea1f78bb4a6c41cbf4790663c0e13db8c\n",
      "->T(d) 235.2m/3.9h/0.16d, B: 0x1c.. $25.279275(3.3374549999999985) 0x59aba14f02e4d140f4910c88bed137650ba1a9e5bc042fe45a61d7e44b39f8f9\n",
      "->T(d) 238.9m/4.0h/0.17d, B: 0xcd.. $25.279275(3.3374549999999985) 0x5c81d1d7ded5c742796e27eb2c26226c9883328da10e449e445edad67f9bd64f\n",
      "->T(d) 235.5m/3.9h/0.16d, B: 0x8a.. $25.279275(3.3374549999999985) 0x87a10f846ed5b31eea166ca5f2f5ef257ec05e0ce58940ccc148e94507948456\n",
      "->T(d) 240.0m/4.0h/0.17d, B: 0x1e.. $25.279275(3.3374549999999985) 0xd4b5e4c01356f238a092d886e43151a728dd436b469da1031a8cf8495f7cf490\n",
      "->T(d) 235.3m/3.9h/0.16d, B: 0xad.. $25.279275(3.3374549999999985) 0xb0d441582ee80eb0136d1c15543c791f10e4964589bd01dcd1bf1e338b7525cf\n",
      "->T(d) 240.9m/4.0h/0.17d, B: 0xf5.. $25.279275(3.3374549999999985) 0x564ef9bfe3028728b84d03f3ab3bce16ce8b66b5eead04e932f924b6e95a42ec\n",
      "\n",
      "0xbabda06088c242fb2a763aa7cc99706cb77ba735\n",
      "   T(d) 0.0m/0.0h/0.00d, B: 0xba.. $24.51772(0.0) 0xb39e29d1a6d78e219706a5f67691c244dcd7fba4cfe4603939a2982d34957202\n",
      "->T(d) 715.1m/11.9h/0.50d, B: 0xe7.. $24.51772(0.0) 0x0fd864b4636785e14a575ea504b93c411c5d81956ea261825ec6d657c0c80d8a\n",
      "->T(d) 234.8m/3.9h/0.16d, B: 0x17.. $24.51772(0.0) 0x060fdb92ba6268d6ec67defad4d8d7ea94d6f611613bdf73c71f48c3c46bd017\n",
      "->T(d) 239.8m/4.0h/0.17d, B: 0x1c.. $26.030919999999995(1.513199999999994) 0x45b0f6c6d9e59fb5d796c86a67945172c08ba96f31f6e0182ae199d9b75a5dd5\n",
      "->T(d) 235.0m/3.9h/0.16d, B: 0xcd.. $26.030919999999995(1.513199999999994) 0xf782d47086323c9c61e99e3bec0be9f05ab2e9b06922beff4b295e40d06aa98f\n",
      "->T(d) 240.1m/4.0h/0.17d, B: 0x6a.. $26.030919999999995(1.513199999999994) 0xc16b09f8888b4a0356ebd3a676831402e44ca8681f863fb3491bbf2d45dd20e6\n",
      "->T(d) 235.3m/3.9h/0.16d, B: 0xcd.. $26.030919999999995(1.513199999999994) 0x154b099efa811cd6f62c98cba99ddf4943522074b9fab44ff7d0e6bce6e515a9\n",
      "->T(d) 239.6m/4.0h/0.17d, B: 0xa3.. $26.030919999999995(1.513199999999994) 0x2aa52e6f74144ef118a17ae4e79ee81551bf79c5d822f818f35907cfc5d70d98\n",
      "->T(d) 235.5m/3.9h/0.16d, B: 0xa2.. $26.030919999999995(1.513199999999994) 0xde4b628b89902a254324fcfda4c1909d298a83ccf1e1f30e5fbc386a43d9c91b\n",
      "->T(d) 240.6m/4.0h/0.17d, B: 0x68.. $26.69439999999999(2.1766799999999904) 0xaba4c335dfd294eac84f5270cff75f4f014e12014bea3ecd570bd4cee551c715\n",
      "->T(d) 234.4m/3.9h/0.16d, B: 0x23.. $26.69439999999999(2.1766799999999904) 0xffdf36aa0a3b8930e6f5d0834032f8e03a407b0d56af2069b5c8b8403b5c1224\n",
      "->T(d) 239.3m/4.0h/0.17d, B: 0xba.. $26.69439999999999(2.1766799999999904) 0xb0e1ae9b95db8ec069577836e51a71e7821764201075b85f9d146dffe4b6f3fa\n",
      "\n",
      "0x68d31cb3825e559b1e5c0665f2d65d06a17fce1a\n",
      "   T(d) 0.0m/0.0h/0.00d, B: 0x68.. $42.18615000000001(0.0) 0x9662b4a58d87e5812976e5858447390b85b1be60b0175257b33a81210d65a7bf\n",
      "->T(d) 234.5m/3.9h/0.16d, B: 0x1c.. $42.18615000000001(0.0) 0xc54ed81b9c964b0a2a17a86202b653256dd27007555e7d29e48c747406148ecb\n",
      "->T(d) 239.9m/4.0h/0.17d, B: 0x00.. $42.18615000000001(0.0) 0x26e48cfc4162b709c0d27dca8f8378d1a91e1b7cf178ae6d2433f053c1a67990\n",
      "->T(d) 235.5m/3.9h/0.16d, B: 0x73.. $42.18615000000001(0.0) 0x331750f8c73817b73326932db42aa015d51228cc0881db11b6f6fc41164ca2d7\n",
      "->T(d) 239.5m/4.0h/0.17d, B: 0x00.. $42.18615000000001(0.0) 0x60ccf34abc3363851ed108d6bb1ed4eed63a290b72f7f8db3754c4ea55739155\n",
      "->T(d) 235.0m/3.9h/0.16d, B: 0x6e.. $42.1767(-0.00945000000001528) 0x20a65dd287948eb077c1bcd39bc5d887b8bd9b34706f08c1ee556d8447546871\n",
      "->T(d) 242.1m/4.0h/0.17d, B: 0xf5.. $42.1767(-0.00945000000001528) 0x4cafa6b698ab68b685081a2ddaf75ea9d3a4b2ed211e29e685cb8c64c1d3adcf\n",
      "->T(d) 473.0m/7.9h/0.33d, B: 0xf5.. $42.1767(-0.00945000000001528) 0xc3aa8c4bc660ef3347398b2bb87e6768c499541c3cbe3f6c101f89edf8697cc7\n",
      "->T(d) 235.1m/3.9h/0.16d, B: 0x46.. $42.1767(-0.00945000000001528) 0xa6269919072c0642798a19e35c7038b6d4ba4b4817ac28b5073a578ba76db970\n",
      "->T(d) 240.7m/4.0h/0.17d, B: 0xa2.. $42.1767(-0.00945000000001528) 0xd31168cff165ee6e68971c58e308b3609ebe20c947750cf2c5df6a836a488843\n",
      "->T(d) 234.0m/3.9h/0.16d, B: 0x23.. $43.673175(1.4870249999999885) 0x281071efb130b44e828a385db6ee1f620cd4e73e96d1838d09a3bf4c6a7f6d8b\n",
      "->T(d) 239.9m/4.0h/0.17d, B: 0x1e.. $43.673175(1.4870249999999885) 0x52ddfaec92286c54080ca9408e3ca1c0bb0117ee233feebec3d60ca9ddb9c867\n",
      "->T(d) 238.0m/4.0h/0.17d, B: 0x73.. $43.673175(1.4870249999999885) 0x443734065829a54e831e8dcbb796963919482ea2f45596da387f7cda522ae216\n",
      "->T(d) 239.4m/4.0h/0.17d, B: 0xe7.. $43.673175(1.4870249999999885) 0xf20678199de9c341533f49fb969af421d05399884607140d21563075cbbbaec6\n",
      "->T(d) 232.7m/3.9h/0.16d, B: 0x87.. $43.673175(1.4870249999999885) 0x6ec8afcb881ba4deac61a04126915404b30c30c8bbe70e94d6c9698ceec9c438\n",
      "->T(d) 239.9m/4.0h/0.17d, B: 0xba.. $43.673175(1.4870249999999885) 0x9bbd5e1ee47c274673deec5a06859e229d6731da2d787c0c6590a7696a62d514\n",
      "->T(d) 238.9m/4.0h/0.17d, B: 0x00.. $46.145025(3.958874999999985) 0x9184571ef709c09be2edd29e9a2deaa383391a3262247eede22ec73ea3193ea4\n",
      "->T(d) 236.2m/3.9h/0.16d, B: 0xa3.. $46.145025(3.958874999999985) 0x62dbced675e70523bb187659e19c019ab79e58284bdd9321eb60bc98c9132b9b\n",
      "->T(d) 235.0m/3.9h/0.16d, B: 0x68.. $46.145025(3.958874999999985) 0xf4183e59f790999d5c4fa26471b540fcc9cb5ce24b5a2111210a3329d558f53a\n",
      "\n",
      "0xa37e6b46fa8e1a6f1ddbf035c4e0230b8414ff04\n",
      "   T(d) 0.0m/0.0h/0.00d, B: 0xa3.. $12.46225(0.0) 0x728e675953ffa01f02a69aeeda28e9984d1fab35f4aa727e3fde7580f038cab9\n",
      "->T(d) 240.7m/4.0h/0.17d, B: 0xba.. $12.46225(0.0) 0xd391186557179c8119ef4aa084579db6aef3c42fa8ea45466fa26f63aeb243e9\n",
      "->T(d) 474.3m/7.9h/0.33d, B: 0xba.. $12.46225(0.0) 0xae844a3e2c39db6c7b004b7a06578d9505bf41031cf83ee1828ccd2185076c3d\n",
      "->T(d) 235.1m/3.9h/0.16d, B: 0x87.. $12.46225(0.0) 0x7aa57918988d054e4b5bc029e708d30b2ebc0593b906e9c438d3186c39fe95b0\n",
      "->T(d) 1190.1m/19.8h/0.83d, B: 0xba.. $12.24026(-0.2219899999999999) 0xf222668fcb57a216a47b4b4301906d66964de8ea591cac7d1864aeec1c0bd4b9\n",
      "->T(d) 236.7m/3.9h/0.16d, B: 0x87.. $12.24026(-0.2219899999999999) 0x24c2bd3bad8d65ba4e1b853dec6259e28a30d44638c74066f86c069caeda2fc4\n",
      "->T(d) 714.4m/11.9h/0.50d, B: 0xba.. $12.69372(0.23147000000000162) 0x7e5831c5140f8e55565c6256104c61b2b390eeb3ec51d9069101379bf6b362f5\n",
      "->T(d) 233.9m/3.9h/0.16d, B: 0x87.. $12.69372(0.23147000000000162) 0x0e24df8e022601f4010a501833a6af34d114a0d20fb18cf33c17ee9acc33c853\n",
      "->T(d) 241.7m/4.0h/0.17d, B: 0xf5.. $12.69372(0.23147000000000162) 0x0a652bbab0cad8af03b2f7f915064a1c81fb59bd659b4ccf058941d082e30581\n",
      "->T(d) 233.2m/3.9h/0.16d, B: 0x46.. $12.69372(0.23147000000000162) 0x1d77ec607e50f2e762ce59783d27027493f111953348a8b4105f664af4749664\n",
      "->T(d) 240.4m/4.0h/0.17d, B: 0x6e.. $12.826440000000002(0.36419000000000246) 0x8efa6a6fd1aefb2d6c01c17fdddb4fd0ad25395e4697c226bc01fd6af5be4b5e\n",
      "->T(d) 236.2m/3.9h/0.16d, B: 0xa3.. $12.826440000000002(0.36419000000000246) 0xc3644fc546294221602358071810ba0b68f5cbe8e2a093789233a6b13e956033\n",
      "\n",
      "0xcdcadf0279ee021a0c40a31ac10fa69e028e21d0\n",
      "   T(d) 0.0m/0.0h/0.00d, B: 0xcd.. $24.09903(0.0) 0xea698f27d13c2812fa7f065009e7180079af99ea9e5162d06b0f3ada1185c350\n",
      "->T(d) 720.2m/12.0h/0.50d, B: 0xe7.. $26.10639(2.007360000000002) 0x4c05c1acd8ffd759dd679fd7da25ff5b5f9208d9ef7044970e77a90bb6f59b62\n",
      "->T(d) 230.2m/3.8h/0.16d, B: 0x6a.. $26.10639(2.007360000000002) 0x392e86761e263e5fab0e66c42e13edac0617f1a770be0a5a70c58399fbb9b96e\n",
      "->T(d) 239.8m/4.0h/0.17d, B: 0xba.. $26.10639(2.007360000000002) 0xa70e0f3e7c182951b46db18683b15a3a92d55d00fc0054d329af69de7ac728e1\n",
      "->T(d) 235.1m/3.9h/0.16d, B: 0x6e.. $26.10639(2.007360000000002) 0x62eece17d85078bfade4cff40daa894d45f8a873fc359c0d76f05d1abaa5e0f9\n",
      "->T(d) 240.6m/4.0h/0.17d, B: 0x6a.. $24.62229(0.5232600000000005) 0x575e6818305ecdcc4984ac6d326afcc065a3d5c1078f4eca1a61cd89f4104cb8\n",
      "->T(d) 233.8m/3.9h/0.16d, B: 0xba.. $24.62229(0.5232600000000005) 0xa42c8d6a6dcb75b7ffca39c979d83a5dc8fe8140dfba5f97823549993c138786\n",
      "->T(d) 240.2m/4.0h/0.17d, B: 0x6e.. $24.62229(0.5232600000000005) 0x574b5ed83e7dc00c217dadea24977451be5085ff9210c3ca992fe852dcfb5ac8\n",
      "->T(d) 236.6m/3.9h/0.16d, B: 0xcd.. $24.62229(0.5232600000000005) 0x8f6589a5919c79a54bcac7340860f76bedc71866608aff8782942e1de722fbc2\n",
      "\n",
      "0x7316e9cf94bef40d4981d66a5c41c38b6b32454c\n",
      "   T(d) 0.0m/0.0h/0.00d, B: 0x73.. $9.7416(0.0) 0x49b29c58718ec0f4771c349ca719859b128671c2ab533db027dc8fec716de20a\n",
      "->T(d) 240.5m/4.0h/0.17d, B: 0x00.. $9.7416(0.0) 0xf8d76c08440ec8654412a08ccd3a9c9036253446bb58729a75a9214913011e9c\n",
      "->T(d) 234.5m/3.9h/0.16d, B: 0x8a.. $9.7416(0.0) 0x54fbecf7eddce2e879ec3aab6cfef215edd0cc6c3a5a74b0b85545245b383436\n",
      "->T(d) 240.0m/4.0h/0.17d, B: 0x23.. $9.7416(0.0) 0xede55358637ec79b53b520eb301effadc6ff294515c0ff9ab6ab32b80187e7e3\n",
      "->T(d) 234.7m/3.9h/0.16d, B: 0x17.. $9.7416(0.0) 0xb2c8a2a4d662e08e946da4df7799fc8c218dfa0855a17f200268537fe0d5c35b\n",
      "->T(d) 240.1m/4.0h/0.17d, B: 0x1e.. $9.7416(0.0) 0xc6893bc4f84c9ef271cf44695b400b98be3e628d349921d5c5e4ab179700eb08\n",
      "->T(d) 234.8m/3.9h/0.16d, B: 0xe7.. $9.7464(0.004799999999999471) 0xa271e79533a3c12aba3efcffc3538b0e67d8b04b23d90f8ff88e69c575eeef5d\n",
      "->T(d) 241.0m/4.0h/0.17d, B: 0x8a.. $9.7464(0.004799999999999471) 0x1ed2166eb60b8f8141b6bf1960b08486864f2e1da79b428583c52e6102f03470\n",
      "->T(d) 234.2m/3.9h/0.16d, B: 0xa2.. $9.7464(0.004799999999999471) 0xad373667f2b7ee64146b8d4635e9d0dea7792710a843a327d6f4d05edf721da7\n",
      "->T(d) 244.6m/4.1h/0.17d, B: 0xad.. $9.7464(0.004799999999999471) 0xfa330e5b9e202bc2d3ff5c308efa0e4842ed3e02f374e5e2edfc44c333a8d9c4\n",
      "->T(d) 229.9m/3.8h/0.16d, B: 0x6e.. $9.7464(0.004799999999999471) 0xd7fabfb83f2e334645c45550e989ee315abbb15cf97e15781f56932832fcf0dc\n",
      "->T(d) 240.3m/4.0h/0.17d, B: 0x73.. $9.7464(0.004799999999999471) 0x326e97f9015afb273398d689a66c22a1b6f7df58339e0c576950cc29f23f992e\n",
      "\n",
      "0x87b77fabfeb869150b8e1b9462603f9a639c5fae\n",
      "   T(d) 0.0m/0.0h/0.00d, B: 0x87.. $22.569255(0.0) 0xb66ac6b2045e00398d7440cf357e5b9f23a6b88acfce8a1d59385f51615387c5\n",
      "->T(d) 235.9m/3.9h/0.16d, B: 0x1c.. $22.569255(0.0) 0x5f5a83d5860aa62284b2c983ddd5ae6e3889a4954874e8226e190566e2badc31\n",
      "->T(d) 228.5m/3.8h/0.16d, B: 0xa3.. $22.569255(0.0) 0x53cf115dced230467091b243e8dfaa759a4096d0f254bcf43de161f773001e90\n",
      "->T(d) 243.9m/4.1h/0.17d, B: 0xcd.. $22.569255(0.0) 0x809cdfd47e15edebcf68123416790f88bdc53b212784d40db07c1b984b15d7bf\n",
      "->T(d) 231.5m/3.9h/0.16d, B: 0xe7.. $22.569255(0.0) 0x83b69444e97ac383d497c764c4c5f8f8f77a3e74f77ce2bbc52ea40c7936ce96\n",
      "->T(d) 239.4m/4.0h/0.17d, B: 0x1e.. $22.569255(0.0) 0x02e46da781d4d789a8f7f0f24929f0edd8ca54b201c359c7d59e7272317ccdf8\n",
      "->T(d) 236.0m/3.9h/0.16d, B: 0x46.. $22.82604000000001(0.25678500000001137) 0x926268e706437d5440fa4b17080650b8b02f360a982ea5c0764876ed5bcf9360\n",
      "->T(d) 239.6m/4.0h/0.17d, B: 0x6a.. $22.82604000000001(0.25678500000001137) 0x7be7a32e105e97925dc447d8ae32e224049687cdc95637d9fb4d4e155a5a9837\n",
      "->T(d) 234.4m/3.9h/0.16d, B: 0x1c.. $22.82604000000001(0.25678500000001137) 0x0d8a4b25ac682edaaf76eb6534348e1503af3a90fb8b7e1efc44c4dd74ebfe88\n",
      "->T(d) 240.4m/4.0h/0.17d, B: 0xf5.. $22.82604000000001(0.25678500000001137) 0x053771aa30a36d686770757e86d019542db7315836a80339fb876246597b0e77\n",
      "->T(d) 235.9m/3.9h/0.16d, B: 0x8a.. $22.82604000000001(0.25678500000001137) 0x3f1f30c71306eaaeabc56b4e69d38bd1e6d2f22e9a0e00a9b055efcadf7b0870\n",
      "->T(d) 239.0m/4.0h/0.17d, B: 0xad.. $22.82604000000001(0.25678500000001137) 0xebc5be68d3948ec4559d4c99645da020914fa0f2453ebe4e28f378b249171f04\n",
      "->T(d) 234.8m/3.9h/0.16d, B: 0x00.. $22.531095(-0.03815999999999775) 0x299118006a9b15c86aa8ddc8d500f3857822af76dcefee75ec168c38486bb301\n",
      "->T(d) 240.2m/4.0h/0.17d, B: 0x6a.. $22.531095(-0.03815999999999775) 0x816aa056d2c6c0357a7d4e6fa67f99123692f76539f068696bef2c9743302fea\n",
      "->T(d) 236.8m/3.9h/0.16d, B: 0x83.. $22.531095(-0.03815999999999775) 0x6c2122b85d06dcb43d14daaaa8ca9e6007b97dcd587011a674d79412d7010f69\n",
      "->T(d) 238.2m/4.0h/0.17d, B: 0xad.. $22.531095(-0.03815999999999775) 0xe4f2c91deae65853a11e2c77739debc68b28c1875d525100d0de48c3943afadf\n",
      "->T(d) 255.3m/4.3h/0.18d, B: 0xcd.. $22.531095(-0.03815999999999775) 0x1dc93088e75c88f52bc2965274f170940ac61596832f6e6b7c4d481151311475\n",
      "->T(d) 221.6m/3.7h/0.15d, B: 0x68.. $22.531095(-0.03815999999999775) 0xc6b7640604f20855c392a9c404b697bc7f3b7053d534cfca2ec95b8a55ce0c12\n",
      "->T(d) 232.8m/3.9h/0.16d, B: 0xe7.. $22.587540000000004(0.01828500000000588) 0x65f66d7d789435bf172eb11768d2f0ba486beec49eefd282d5f305f52c427e75\n",
      "->T(d) 240.1m/4.0h/0.17d, B: 0x73.. $22.587540000000004(0.01828500000000588) 0x024fad0225f5d371fd0bd82031c3dd5815793be39f6694f18e0681f7e04349a1\n",
      "->T(d) 241.3m/4.0h/0.17d, B: 0x1c.. $22.587540000000004(0.01828500000000588) 0x88351b618162b8bdaec8b94eb8fa81f994cb4a70e4c8c652624548f7a9858a2d\n",
      "->T(d) 233.7m/3.9h/0.16d, B: 0x87.. $22.587540000000004(0.01828500000000588) 0x75d6378ebf9926696074404eccdb4d1073cdaac774a301c5b7f49c94636d1791\n",
      "\n",
      "0xadd12bd6375dc21d579cc4abcfa04864d6ac9a62\n",
      "   T(d) 0.0m/0.0h/0.00d, B: 0xad.. $14.644650000000002(0.0) 0x81ea3a8edfbefeede1a31275e0e0d15cf9f3a2e13d175a441765c05691b9ae3a\n",
      "->T(d) 236.0m/3.9h/0.16d, B: 0x68.. $14.644650000000002(0.0) 0xb005a8989f76b94e7d0d9060a5f3be838419da3967cbb0003e8ef6e4e785a1ae\n",
      "->T(d) 252.5m/4.2h/0.18d, B: 0xe7.. $14.883925000000003(0.23927500000000101) 0xa4bd0d2bb7c17e9f5270bae80f6a7fbec6629124fcac70d87ede26871fa9d489\n",
      "->T(d) 221.6m/3.7h/0.15d, B: 0x68.. $14.883925000000003(0.23927500000000101) 0x7e87aa2bc40f29b5be02bb643e7ec94f32f5c4998bd9e2abebbac52dfc8001a2\n",
      "->T(d) 715.7m/11.9h/0.50d, B: 0x00.. $14.883925000000003(0.23927500000000101) 0x1c590ca60c3b0c389e4fb95286916fc9b192b1ed6ca4f6ea82656a1c2ba2c705\n",
      "->T(d) 234.1m/3.9h/0.16d, B: 0x73.. $14.883925000000003(0.23927500000000101) 0x76c0c9a308a16589fd64be10db49bf6d24204550c17e2931a3992005f8a06216\n",
      "->T(d) 244.5m/4.1h/0.17d, B: 0x6a.. $16.571175(1.926524999999998) 0x7870f76d6f34896267ab9935d3ec4e808ae8d949988ba7e1c2dffb501f80afe2\n",
      "->T(d) 232.2m/3.9h/0.16d, B: 0xa3.. $16.571175(1.926524999999998) 0x79802f9638194fc7db3eaf9e85c749a7eb3edc366b8f3dfece7567d4fc9b39e4\n",
      "->T(d) 239.4m/4.0h/0.17d, B: 0x17.. $16.571175(1.926524999999998) 0x720b3651bfb361d4245e53368ab945a3ab58b870dca2fe7acaf76c0351ca3bce\n",
      "->T(d) 235.8m/3.9h/0.16d, B: 0x83.. $16.571175(1.926524999999998) 0x24aa6463da37e616e009a0315d84f134aa715d2727cff12ce928c391a6d1b38a\n",
      "->T(d) 240.5m/4.0h/0.17d, B: 0x8a.. $16.571175(1.926524999999998) 0x01911451f999f3dd307fb5596b8f5bdbbb2be7a4f38dd017087bbf54f190b58b\n",
      "->T(d) 235.3m/3.9h/0.16d, B: 0x68.. $16.571175(1.926524999999998) 0x782a5e026ec728c73a3c1f0d5eadd1c9d6655c12a165f64ee5aac928ca0dd1c5\n",
      "->T(d) 238.5m/4.0h/0.17d, B: 0x46.. $15.841450000000002(1.1967999999999996) 0x8baf1be44fb7b32ba6308e623113315e0abfa46569750c749ee22d09312be9db\n",
      "->T(d) 233.4m/3.9h/0.16d, B: 0x23.. $15.841450000000002(1.1967999999999996) 0xcfa8a753fa4898d840d2b88d6aad393cc793267f0252a6512835dbb395ddcc22\n",
      "->T(d) 241.1m/4.0h/0.17d, B: 0x8a.. $15.841450000000002(1.1967999999999996) 0x82eec30f02083abadf66eebc3517925878452f723b93a5c5b44501b7ea27a11a\n",
      "->T(d) 234.6m/3.9h/0.16d, B: 0xa3.. $15.841450000000002(1.1967999999999996) 0x0e31fed84d2d4df1c7b50495c4e27f8f604a3a5f6589a6231d3de1c80a60c261\n",
      "->T(d) 240.2m/4.0h/0.17d, B: 0xf5.. $15.841450000000002(1.1967999999999996) 0xd7b6427487218646c2eb224ddedc0d4540acfea5a2027bc4592c27b518eafcc3\n",
      "->T(d) 236.3m/3.9h/0.16d, B: 0x6a.. $15.841450000000002(1.1967999999999996) 0x0127b7d7830e43b181250ef80f53fdde5d8a200c3ace2afe063798f7b47d541a\n",
      "->T(d) 238.6m/4.0h/0.17d, B: 0x87.. $17.215475(2.5708249999999992) 0x5c016dd6c9f8e35fbecb1e6a18ace09cf9d12e4c232d7f09a0d315f6673ea4e9\n",
      "->T(d) 235.4m/3.9h/0.16d, B: 0xcd.. $17.215475(2.5708249999999992) 0xa34953891290fe22abd9f20ba611c3bbd35ab0399869aca4a92526cbde4a32e9\n",
      "->T(d) 242.3m/4.0h/0.17d, B: 0x17.. $17.215475(2.5708249999999992) 0x403d95b48644eed01b602d8a218e0f001b84e3120a51ad3b7fc1903f2399bf25\n",
      "->T(d) 1421.5m/23.7h/0.99d, B: 0xe7.. $17.8398(3.195149999999998) 0x2c024bc0411fd722f5e73fd1e9585b9b6193008cd271b33bcdf64a90966cf7e9\n",
      "->T(d) 235.7m/3.9h/0.16d, B: 0x6e.. $17.8398(3.195149999999998) 0x37ae787cb4c9aca2b4d2021abe785751a1351de44ed01f88de03329494eb6ca4\n",
      "->T(d) 240.4m/4.0h/0.17d, B: 0x87.. $17.8398(3.195149999999998) 0x0c0fe4bc2114cce9eebd0f1fd54b7f2074b1c4b559c99ea5709645dc8b0f642d\n",
      "->T(d) 234.0m/3.9h/0.16d, B: 0x8a.. $17.8398(3.195149999999998) 0xdb520e1aba586c7acf55263eb9ab93f2a7a99b10a7cc40ef78e439a848596621\n",
      "->T(d) 240.4m/4.0h/0.17d, B: 0x6a.. $20.082525(5.437874999999998) 0x13dd9e3210ebae7de00e496d24bb93aefa9461d19130ee8f4aac3793190032e9\n",
      "->T(d) 234.5m/3.9h/0.16d, B: 0x00.. $20.082525(5.437874999999998) 0x46ad69d37160725786dcf66417c3a7bf082d5ba83e8625ffa2b4fa2c02fb4139\n",
      "->T(d) 373.6m/6.2h/0.26d, B: 0x1e.. $20.082525(5.437874999999998) 0xdbf8fc7e30801ee800865f47ae9020b8edf402ee6b53aebe804a5b2d9285926e\n",
      "->T(d) 263.8m/4.4h/0.18d, B: 0x68.. $20.082525(5.437874999999998) 0x00d397bf548db7df46966547a4f8fe9e9787222aa4ee0effe9e78f201eae70d9\n",
      "->T(d) 79.1m/1.3h/0.05d, B: 0xe7.. $20.082525(5.437874999999998) 0xe464906b7197c94bc6a6bbbbdb603987368936a3d0d7b086244189357cc2c550\n",
      "->T(d) 233.4m/3.9h/0.16d, B: 0xad.. $20.082525(5.437874999999998) 0xc3eacdd6ec7b2fb6865da17a246d50953a7cf4a0225d87bb719e6ca187f0d63a\n",
      "\n"
     ]
    }
   ],
   "source": [
    "import random\n",
    "\n",
    "bro_and_sis = [\n",
    "'0x00c9da65b33b4f7034b5f50b90f5f6d8320d6ab8',\n",
    "'0xa21e0974137bf8400eb7dca606d9dcb190d79ed9',\n",
    "'0x838c14eb3eabe4cb6a696d286c7b2a466629d0ee',\n",
    "'0x1c1ef71445010114f41ac1feb32dbf5d7281e90f',\n",
    "'0x6a47b60c377450a460d3eb828d534ee66eead668',\n",
    "'0xe738725cdcc41c91f734dd7b5b9659df994d6dda',\n",
    "'0x463215edb66fb6a8f0c979e739a731977617699f',\n",
    "'0x179d698f5a1c84c3ff4c5eb04e553c15a0c1d8d8',\n",
    "'0x1e7f320cf5a938465d501f6bd6c405feb3a70f6c',\n",
    "'0x6e13c7e25c2cda6f5c8c4e431bee480bfb312c28',\n",
    "'0x236ef21dc36d0aec3990dd5ee84a9d5320644262',\n",
    "'0xf5aee6d7b838d5ede8aa65d31dbc11116545180c',\n",
    "'0xbabda06088c242fb2a763aa7cc99706cb77ba735',\n",
    "'0x68d31cb3825e559b1e5c0665f2d65d06a17fce1a',\n",
    "'0xa37e6b46fa8e1a6f1ddbf035c4e0230b8414ff04',\n",
    "'0xcdcadf0279ee021a0c40a31ac10fa69e028e21d0',\n",
    "'0x7316e9cf94bef40d4981d66a5c41c38b6b32454c',\n",
    "'0x87b77fabfeb869150b8e1b9462603f9a639c5fae',\n",
    "'0xadd12bd6375dc21d579cc4abcfa04864d6ac9a62']\n",
    "\n",
    "print(len(bro_and_sis))\n",
    "\n",
    "others_sibs = {}\n",
    "for sibling in bro_and_sis:\n",
    "    others_sibs[sibling] = []\n",
    "    for trade in data:\n",
    "        if '_Rari' in trade['row'][0] or trade['row'][3] <= 2:\n",
    "            continue\n",
    "        if trade['row'][4]['buyer'] == sibling:\n",
    "            others_sibs[sibling].append(trade)\n",
    "    print(sibling)\n",
    "    rand = random.choice(range(0,len(others_sibs[sibling])))\n",
    "    pretty_cycle(others_sibs[sibling][rand]['row'][4]['cycle']['sales'])\n",
    "    print()"
   ]
  },
  {
   "cell_type": "markdown",
   "id": "3f47fa39-6f69-4066-ad20-da2e02b770ce",
   "metadata": {
    "pycharm": {
     "name": "#%% md\n"
    }
   },
   "source": [
    "### Traders that made the most profits in total"
   ]
  },
  {
   "cell_type": "code",
   "execution_count": 62,
   "id": "d31a7f95-2e2a-4ccc-83c1-99fed0ae47cf",
   "metadata": {
    "pycharm": {
     "name": "#%%\n"
    },
    "scrolled": true,
    "tags": []
   },
   "outputs": [
    {
     "data": {
      "text/plain": [
       "{'0x879c2ee5adc372d0542d65d80ebfe647ac1a5f10': 99141.5205,\n",
       " '0x597b4719d1e6692913ebfd29f8f59ba8f5cc4bd3': 68180.9625,\n",
       " '0x93207b8c861cf2b96a92c41d99da0e9615f1a3ea': 64137.793499999985,\n",
       " '0xeca5ac6bad45c1128981d5a78baafec3a1e471d9': 62612.55990000001,\n",
       " '0xb166dd9d114c59774a13c3291e7d50ec74f23dfd': 49936.399999999994,\n",
       " '0x0a2542a170aa02b96b588aa3af8b09ab22a9d7ac': 42553.01239,\n",
       " '0x4a17fd7aa0d240599cf13d670dbde7e124adcfff': 29064.630999999998,\n",
       " '0xb1adceddb2941033a090dd166a462fe1c2029484': 27478.108250000005,\n",
       " '0x7a37a180b143bf8b9b3875c0dcdbc6bca5b0050f': 26451.2,\n",
       " '0x871dfdea4a2f426624f24310dfd93ffae93c6522': 25439.746660400007,\n",
       " '0x7397f163f6ef1d5ea97256e9bc081fd89353c3a2': 24035.227999999996,\n",
       " '0xf8283d5f9ea151dd6710f7558de94d6cfba6198d': 20840.89095,\n",
       " '0xef467a7a5061900eef3952c9562163bda9944954': 18637.2803,\n",
       " '0xd30874ca82901d41fe66ded3012909d81924a0b8': 17173.352,\n",
       " '0xb30a35bb3b3830626c97f0ea9b123a3d9439c468': 15739.812,\n",
       " '0x339df4db958e19ad3b642baad7ad7f7dc3900ed5': 15224.2596,\n",
       " '0x9c10303229079e387ddd6621502a44b038df79e9': 14007.883915,\n",
       " '0xbf3c74d8efd7646db36df32c4ee518ac9e1237a4': 13893.927300000003,\n",
       " '0xb60df4b313573dc57e5179c39a9863d76ad0425c': 13631.592499999999,\n",
       " '0xccb93ccfa1f9ffc231ad8950adf9aaf733f4567e': 12704.0625,\n",
       " '0xef784caf2d2001fb8fbb9678f9a0a1b83cd582dc': 12606.265000000007,\n",
       " '0xf52393e120f918ffba50410b90a29b1f8250c879': 12323.066480000001,\n",
       " '0xc56569c2a7a3c5dd95b1f287a47826aae2295495': 12004.908599999999,\n",
       " '0x285969a35492505ce1b873af7f2a0676afda4e0d': 11904.410000000002,\n",
       " '0x8d5c726f6fa5cff911cb8e941285c31dfb1e7cdd': 11308.694,\n",
       " '0x10725af1f2919d0acc5cf294285d97710f980490': 11245.5986,\n",
       " '0xb4ee1f8d41c853dc2b84583cd91985885c28970f': 10824.848863100002,\n",
       " '0x783401fdb9f937e77b4b51b9a1b00a64b28129a1': 10745.5775,\n",
       " '0x89427008ea00e3fee76ba2012fcea4e8ec3d33f0': 10073.4207,\n",
       " '0x191390bf43d7d987684a7fb2a0aacfa509984a2e': 9903.527549999999,\n",
       " '0x5a3a3bc62fe85bd4a72862044a40bd0573c77442': 9676.31649,\n",
       " '0x208b82b04449cd51803fae4b1561450ba13d9510': 9532.98215,\n",
       " '0x0942a739c7af64f3e4d583a8a3d1d01019f9c750': 9524.058,\n",
       " '0xea5abc1a1689984ebfdc41130886bdaeb5c24078': 9496.0,\n",
       " '0x5d0a754bab7dabd5ca306da696a5e7a4f0df1715': 9146.9928,\n",
       " '0x2416f8e669e667f276474c3c052e613eb1d17e8c': 9128.8692,\n",
       " '0x5d2b883f193c7cf111791614f0d46fd56173f065': 9016.144999999999,\n",
       " '0x1af26c320f1598a6f447256dd75c3f34d736079f': 8976.195049999998,\n",
       " '0x91f993632b2da592d93eaf07d8845912e57d781c': 8967.814000000002,\n",
       " '0x412d7a81b5edbdd960815acc762c126b4e814594': 8735.938499999998,\n",
       " '0x0eb9a7ff5cbf719251989caf1599c1270eafb531': 8616.724355349997,\n",
       " '0x8318c893406e21be303d9c1904762ee78c7be3a8': 8310.975,\n",
       " '0xe43840e77829b2df75959b7107d172060ab6bd87': 8097.523,\n",
       " '0xc68dac40416870dc47454d8902026a02bead5909': 7929.197029999994,\n",
       " '0x607f9024c8d90d68ed2295d9542348edf7d6c1f7': 7860.830161999999,\n",
       " '0xf1adae9c87b1def590f5fe86021a24b47598da18': 7812.240000000001,\n",
       " '0x3c038615f93b348fa6e68e7398089947c5ed91a5': 7404.032299999999,\n",
       " '0x3e5d946391abf8e95be304d94ca37a940ca5be88': 7245.076749999999,\n",
       " '0x4fa27cc10a22e0f82c8eaf820d9eaa385a50f114': 7180.405000000001,\n",
       " '0x9d1dd0bb280a2d61c6f9087751d4fb48bbc27564': 7112.772300000002,\n",
       " '0xf59371600251640ab1af91400eab792e56aa2dd9': 7033.269249999999,\n",
       " '0xfbd80f23acc9107df8687a40b058b1aca0655d23': 6988.110000000001,\n",
       " '0x2054f5261c1fffa1478f4f3b2e74243c9ede4736': 6905.269999999999,\n",
       " '0x6f2b74273fdfa05f0c598491e92a2256a63d1f77': 6751.3375,\n",
       " '0x05913a70848be8964523a029b834d324a737c17a': 6666.083382,\n",
       " '0x36de990133d36d7e3df9a820aa3ede5a2320de71': 6543.13425,\n",
       " '0x54d7f921785ebe46010d83c73712e80dfaff1e81': 6524.664000000001,\n",
       " '0x979a0cda82167619e5b694469fd346fd0305b9ef': 6412.406999999999,\n",
       " '0x2283de856c95f08f9c0ffef26317b92e9ff89639': 6370.04026,\n",
       " '0xf65501fca16a69f18551f4d1a8a51599cd62562d': 6279.12125,\n",
       " '0xb310fe5d1b89f5eef5efdf4b1f5293660344f785': 5859.10275,\n",
       " '0xaca4a25bd9b165a216829b110a94948ac3c85512': 5837.4000000000015,\n",
       " '0x8e3a9866580d636eae9e7a3130751ac1c6a8a92f': 5705.3224,\n",
       " '0x063f064b06269995a023e076a6cf18b5c83582a4': 5702.854,\n",
       " '0x72bc6e4899452c2abfefb3e70720e5dfb8fc077d': 5656.206949999998,\n",
       " '0x0da3698928fd3ac373173f773dc5ccfdd5363651': 5593.665000000001,\n",
       " '0x08ceb8bba685ee708c9c4c65576837cbe19b9dea': 5544.701499999998,\n",
       " '0x6cf27aa96ea166bfa973b8bafffe7856d12d99e9': 5514.5475,\n",
       " '0x87169a5f9c01ff874a5b350b924c9ce1e07bf3b6': 5418.9974999999995,\n",
       " '0x1e3934ea7e416f4e2bc5f7d55ae9783da0061475': 5385.245479560908,\n",
       " '0xb4d0e809a1903143c17e213abe9202fb436b2513': 5276.670249999999,\n",
       " '0xc27ea1a00d2514330464ff91fa43e6fba0a1fae6': 5216.0025000000005,\n",
       " '0x6719a70e3b9652d0cd3d4cd28a93556497e2bf96': 5203.785,\n",
       " '0xd73e8aea2c3dccb8d0a0572cdc52944bea9312c2': 5182.750499999999,\n",
       " '0x1f00c8221ba028811d4d9e299e6e6caa7a5464c2': 5169.846,\n",
       " '0x579bcec32e3c64a67e1112f116718eb321a890e7': 5029.476,\n",
       " '0x27899282184a2c3a18b54766d6435fee75910a70': 4991.5751,\n",
       " '0x71bd9f709dd252db7f5226bc895fdcd16905394a': 4974.266305000001,\n",
       " '0x0a690b298f84d12414f5c8db7de1ece5a4605877': 4872.90346,\n",
       " '0xff1e28b303c7eab54bcbd98cd0dc921b3f4b853e': 4790.793750000002,\n",
       " '0xc4e261aae8652d48ea572808b491e96f96d11dba': 4710.8982685,\n",
       " '0x139a0975ea36cec4c59447002a875749ac9c460f': 4677.1931399999985,\n",
       " '0x24472cbe4ea52948e827f3e2b5203a7588ab214c': 4674.047500000001,\n",
       " '0xfb21f1218a5d8f2930dfc7ac0e95feed899b968b': 4598.906625,\n",
       " '0xfc233ad00bda0442e81719ea7397bdf8ec810c80': 4593.6140000000005,\n",
       " '0x55947ed26dc3e0a5b093ec7ebaa463637ef37d28': 4563.058219999999,\n",
       " '0xc63ea85cc823c440319013d4b30e19b66466642d': 4532.71775,\n",
       " '0xe00a7cc2d874c1c7b4381a1eb04b598bc82fbda3': 4480.34775,\n",
       " '0xabec673d63168db21593b3f2ec5afef293de9548': 4411.2750000000015,\n",
       " '0x2194ef8b2c8c719df62e79522ecf86edab27060c': 4392.133,\n",
       " '0x85669d7f1e9fed106f8bc14df86869ebfd33d7b2': 4353.263544,\n",
       " '0x62391b370a4761f7087f83d9d2c8d7bfa91036ab': 4324.6448,\n",
       " '0xd387a6e4e84a6c86bd90c158c6028a58cc8ac459': 4304.239812995732,\n",
       " '0x8ca7e48255f3dda02efc7ded4cbaca3490397d90': 4289.4852,\n",
       " '0xebed2200b9ad455fec52650d00ab86fc2858fde4': 4273.200000000001,\n",
       " '0xbf5c6d85510e491cd45d1264fffec0c2c4282564': 4253.053833449998,\n",
       " '0x704c978d50590b21e4c2f43eb4da24fe61fcd707': 4231.71525,\n",
       " '0xb89f229c192d5aa93a19bde322c3d5d211f0f901': 4139.668000000003,\n",
       " '0x73deaeb8aa241b6fcdb992060ae43193cccbf638': 4063.7047499999994,\n",
       " '0x6e9eb9a96e66ba04e199b377db138e76fa270c17': 4063.1081250000016,\n",
       " '0x45b7ae620e8a1d28cf165c50ddee9c39bd54450f': 4040.9117000000006,\n",
       " '0x4fe2c4f4362384f7dc404af36d0ab8dd6272c1d2': 4010.249999999999,\n",
       " '0x83db5c6dfd2f8899bf634953472799e0097c9d5d': 3981.6983499999997,\n",
       " '0x3455fe74e224ebeebd2ecb565a53ea85b10a1e72': 3922.0081659999996,\n",
       " '0xe9822f18f2654e606a8dff9d75edd98367e7c0ae': 3916.18293009838,\n",
       " '0xab6b3d152d8a169aa9f228011fbf0ceebd8b3827': 3886.27855,\n",
       " '0x87464a7b755a0cb506fed19a289d6e47b1d88d99': 3865.24,\n",
       " '0xc0fe1f7544412f7f7d126098b95f868796502a8e': 3862.7620000000006,\n",
       " '0x96f2a6b7eff77243248a71e8839870e9fb21a742': 3795.4516500000004,\n",
       " '0xdde47a1a9fdddbe685f161fda23a312f3b3e6fa8': 3774.6545,\n",
       " '0x51500b37fa72791c3ae7c14f7c96184d2d5e3ce0': 3736.0254999999993,\n",
       " '0xae9deddf056811f91fb58208a0ef973e1eecc911': 3721.380000000002,\n",
       " '0x3825fc868e8e66ed3764bb588859dddab6f04a74': 3709.7205000000013,\n",
       " '0xd6ffc1b3447668122e7782f79b2b038b91bcad6d': 3699.0083999999997,\n",
       " '0xc287ca5dd3a381f701d17c0932e962cae7089025': 3547.9353600000004,\n",
       " '0xf6d22b698d04634f218fc03788784fa55765c7b4': 3491.7413699999997,\n",
       " '0xeaf421dd681d94902f85a56f060260d63982f406': 3489.527549999999,\n",
       " '0xa81b966f426fe2709b3ee3d7751625419e53275b': 3442.3,\n",
       " '0x225189a1ea477a62fe4d27cf30aca8b9168441d0': 3436.8259942,\n",
       " '0xecc253efda93af9271521fefc218ad788841bddf': 3420.8640000000005,\n",
       " '0x979f5d0c67bcdd750546cf29c367f4bc1bf5aa16': 3389.5157850000005,\n",
       " '0x5cbffebdf2f12a8984b9eff74a85acab24730fff': 3382.108487650001,\n",
       " '0xedba5d56d0147aee8a227d284bcaac03b4a87ed4': 3372.331747044636,\n",
       " '0xd301214a959ae6a13f03c372cf7b64c00b27ff93': 3371.257499999999,\n",
       " '0x8c5dfaacc64a2263dcd0791eab170a21a40853eb': 3353.2707,\n",
       " '0xf3fdc875a9414cf09ebd90a4fcb8194ac4d60961': 3332.4399999999987,\n",
       " '0x117902524047dd1edd03e832a1f6cf6db8acc6e0': 3257.8379999999997,\n",
       " '0xb8ad334af19df2171c2a20930f00f81b715bb5cf': 3210.5599999999995,\n",
       " '0xdce5b3c96a85115717b6a3514fbb6084ea4a73ff': 3201.02215,\n",
       " '0x620be56eee712c6e0115e25bc4dae71a17572442': 3183.125,\n",
       " '0xfcaf5b8babb4864a446671f9b88cb73bab169bda': 3152.732100000001,\n",
       " '0x3bccbee550607f8176d84ae7d56f662d4f0250aa': 3140.60625,\n",
       " '0x5dba925b162768a8886dc74514d8accafeb1a268': 3101.5715,\n",
       " '0xa0baefd1923bba70859c9762028a0ce7eb4e5105': 3050.181,\n",
       " '0xb8de71574b454b3df97aa42fd8433e52a97a8526': 3019.1519310999993,\n",
       " '0x2cd7c1adfb03177d2f9eb6efb81647d9f3c21787': 2972.3639,\n",
       " '0xf125992ce656c94c736f2e3a26ad117efbea2cd8': 2893.4579999999996,\n",
       " '0xab873db44f90b1b5558a19853ad36f51759b7a8b': 2878.2169999999987,\n",
       " '0xffd20f56def5c06d982a58211386b4113ba2c731': 2847.95625,\n",
       " '0xf35f6f312d25a98352bc1321df9e3045ea5ebc22': 2822.7954999999997,\n",
       " '0x46596cc0d38a68403fdb5b1720267ef4ae93ba58': 2785.5879999999993,\n",
       " '0x4fc36d663e4a06557f4f2465cc10f2b76e8755d6': 2755.623366000001,\n",
       " '0x49b74d33a6b3e03c96c8a9584866c9236b429be3': 2752.4475,\n",
       " '0x67fe91875c95d85e389c5f3a9fea5b1af946a506': 2749.575,\n",
       " '0x46ec81ab57a48caeab71d6981183e617190ad87f': 2740.351500000001,\n",
       " '0x674cc294039505a24ae04258549b021187274a6c': 2715.644250000002,\n",
       " '0x4a9528e53f3f9bc12baa0db57be40b1c6a68a886': 2692.3008,\n",
       " '0x83dbf749d06afb75d67ee98c2e1f7b338d8e54d8': 2686.0389999999998,\n",
       " '0x4621088e81f82af549d97bd9f13d856eb19d9970': 2676.885000000002,\n",
       " '0x0031a2d5ea5b69bcb8e191f5f0ae7919e9c9f0db': 2672.7200000000007,\n",
       " '0x033b09eebad17e824b646a37f3ad7fc92ca9d20b': 2660.0752829500007,\n",
       " '0xfa3486fad13b198c276918e5fd99ee0ef24fb294': 2653.614599999999,\n",
       " '0x2c123fc5c27888571cd525e8ae9b0c5ff848386d': 2647.1949999999993,\n",
       " '0x7dabf3c786a35df52ac10704e21c14a9151bb695': 2614.695000000001,\n",
       " '0xe6b221eb84084cbf557465cb8972ce2eaca59382': 2557.5175,\n",
       " '0xa3202d49590f4b71f734e47a99844a4c3ce9e202': 2553.2890000000007,\n",
       " '0x0615774010b017e7ec09d228ef37d06564a1d825': 2539.3550000000005,\n",
       " '0x6cd3b432cdf9e4e77c5d132bc45514bbe62696da': 2536.5668000000023,\n",
       " '0xb24cedb4f9b37aa88e97b6e41e9d92ea1f48c79f': 2507.7519500000003,\n",
       " '0xee8595c67193c49ceac73cbeb9c0efa83ef00f62': 2497.5780000000004,\n",
       " '0xe1dd6b9bfeb8bb7abd146db41f39f00e22bde9ad': 2488.36,\n",
       " '0xadd18b6c8a77cb7a119bfb2d70a29b89bb8ba1a5': 2480.78,\n",
       " '0x9e693b3c3cc68282056af5b05e9c7daa413aa47c': 2475.167145,\n",
       " '0x2e0b873d26f6d90f347757ed0d041bc65e02a89f': 2473.139596,\n",
       " '0xb854fb86e821ac7ee0f5f2c704cd606ca37d2d2f': 2454.7106000000003,\n",
       " '0xb29c9cb215c61ac941c34f570697a4a3f60d0ea1': 2414.9094999999998,\n",
       " '0x86fd451b80ccb14670bafbf9ef0c31f56585035e': 2402.0935500000005,\n",
       " '0x06c29c74c1f5aee987460a96e29fc84f3374144f': 2393.3136650000006,\n",
       " '0xa4e7918fb5f4a8c12f9513b193be1d764d5757dc': 2355.9265,\n",
       " '0x202ac9a140c49fffc51acd4c65272a339fb9ef02': 2329.9588305,\n",
       " '0xe7e1ff8feb3a3ace6f76300a4c6d1f4b060769c1': 2303.5018499999996,\n",
       " '0xc1b31ada93d7e393d100c5fb5ff678a62c73b270': 2284.6612499999997,\n",
       " '0xc8bd28fc090986dce15f0a996e96de4a7d64b974': 2281.9100000000035,\n",
       " '0x387ddb81ecab04287e16e0e1381df44448bab38a': 2237.767,\n",
       " '0x36529590b896f2ea00841b7d88ca7f4c246bd2b3': 2235.27845,\n",
       " '0x260fcf88102fb038b2506dc60fc49270199e12fe': 2229.9545,\n",
       " '0x7ac0f4b954db10ff02e11544909e1024be844243': 2186.4136000000008,\n",
       " '0xb8e4ff851f4a5ebb0b1bd7c7effd70ee14f50db4': 2164.9781999999996,\n",
       " '0x196d4f9272e4fa8e551a714fc093a94733e8c2b1': 2164.6563000000006,\n",
       " '0x2d1f6d2cb1d24d89b195eaf8b8bfec1096d7c0b9': 2142.177975000001,\n",
       " '0x3b1e58c4a9124dc19065d6f6ec30261a6e6f6bed': 2140.9861750000014,\n",
       " '0xca12f25e73e211254b2b0c57fcd2e8d181158ce9': 2124.045,\n",
       " '0x49b1cfa513b655f303a42f700dce6d7bed8ab4d7': 2116.1065,\n",
       " '0x0b0607c55fb3164da5fbd608c6a4d3e7e59850c3': 2093.987999999994,\n",
       " '0xbcec960cfa8ee5bfd4bf66cdb38c6874826f0bcd': 2077.21382,\n",
       " '0x2e78d95fe9efd615824ecf9055f49823c892d57d': 2068.9334,\n",
       " '0xa629bb0e3e3c5df86d4e067fea51e7b23e420d12': 2049.9948892361112,\n",
       " '0x2168aa9313d12dc0ee56252ebb91efe5d42b94e0': 2045.3700000000008,\n",
       " '0xf26e8a0b1819065f855ec9671b3ccb7563158271': 2036.81115,\n",
       " '0x4d4fefd746fa41f4924771e6f114cb9d78334885': 2022.3160000000003,\n",
       " '0x7dcd835259cac15d60f006d0a6e4bfcc5e9cc9bb': 2021.15745,\n",
       " '0x44fd475d8b5c8480c609f8af3b830bf1fa533917': 2018.8853885010415,\n",
       " '0xc197af21e9327815170fb5ef79c30992f90d62c1': 2003.382450000001,\n",
       " '0x267b4d06e3a9bc0418fef636d8228696bc7ed87f': 1979.4885,\n",
       " '0x83025a9d26d79cdccbc1de5a9e0807d5bdce37b3': 1969.6768000000002,\n",
       " '0x04f2290215b18b79a5ddf2e98ee983755dd7a645': 1953.0274499999996,\n",
       " '0xb4fac39ec509ae6cf0a385ed8c9de8f82d4256cb': 1947.3780000000008,\n",
       " '0xe1c4297d6e947a9522346a87993d4580e8869abb': 1925.091460000002,\n",
       " '0x0512bf1df19252ebbb3783b0613be1bbd5f0795a': 1908.9840000000002,\n",
       " '0xc2af8c3bd74ffea57d70735b62d5d7da19c52d52': 1898.188500000002,\n",
       " '0xd9fb3c9e4e4b2bfa4e97e8816cdff8d7caaac851': 1890.2199999999991,\n",
       " '0xbb851739d0f3978a402bd5ae8cd047eb0ad64406': 1887.5062415590974,\n",
       " '0xcaff6995a763e8db0b19cbc102f357caa2fc7a62': 1886.1299999999999,\n",
       " '0x9abb658c8c8bf939c904c98df788acbf11433b52': 1886.1299999999999,\n",
       " '0x6da4f2cd16c6c9d0394b277fd4b095471468aaf6': 1886.1299999999999,\n",
       " '0x40214ebdf45262c9ea4abdf1be822e6af67b6f64': 1884.795,\n",
       " '0xe07b86dfe1cf42d51909fd46e34b2d1a6c93700c': 1882.265,\n",
       " '0x95e8a4792d7e5bf6ce3973184400cc9c37b6ae67': 1881.2827874999998,\n",
       " '0x389e27978ecde1690d77b3b48352da64ffebb1ea': 1881.2477999999996,\n",
       " '0x11c9a7bc7dc20859f04408166c0af218d5cadc00': 1871.4288500000007,\n",
       " '0xde9f22bc340c850ea88a2ed76dd7f993a09e893a': 1863.755,\n",
       " '0xa0d1476011a971b4f63dd5b2b9ac1e3f1229bb59': 1847.7945200000001,\n",
       " '0xd333d43902b146b4dfe3801067b0f0f4417726ec': 1836.119999999999,\n",
       " '0x4d12bafaf23e87f16396424980c22b12811e9477': 1827.2598750000002,\n",
       " '0xb76089019b42a1b2ce739cdabadfb81880b8fd22': 1821.2344999999998,\n",
       " '0xda004d2f32da073723bf03e77496efe47c3584ae': 1809.5220000000004,\n",
       " '0xa096b47ebf7727d01ff4f09c34fc6591f2c375f0': 1801.095158424718,\n",
       " '0x09fa6493598e40261b210edba861fc41538c1a2f': 1800.6310676370058,\n",
       " '0x07bcff6aeca9e0152c5c02eebd924e5fb82ad063': 1798.7865000000002,\n",
       " '0x74c0ea38432dd68e495eea1029646ce4fdec1d50': 1797.0050000000003,\n",
       " '0xb15df64d62e15ca14dd28a6c22bce3e72df4428e': 1786.8059999999998,\n",
       " '0x754680d7da4e808470a945f57888acf8f572a9c8': 1780.9622,\n",
       " '0xba4e1f34aa2b4a8878b112f8c0ada958142793b1': 1779.3029999999999,\n",
       " '0xe37212e066d7184e74561ad6716e2b51ae70eabf': 1764.7049999999995,\n",
       " '0x488ed54ca0ae6d64683286278be99e9c3a9c203e': 1752.9226500000002,\n",
       " '0xa3e2f84fc715b48ed9a6db19d9dc409162ec5a9d': 1743.5858500000002,\n",
       " '0x04e0fff19e7f9dc3f1f52512e21c8cfb16f16704': 1741.2199999999993,\n",
       " '0xa21d2e14c43807a9a4ec15a11d34b45a8c99ad5b': 1738.047235,\n",
       " '0x9e51bb6841fe9d6fbc7bcc9bafb67d65767ceb32': 1733.0663025000001,\n",
       " '0x269f7e2c6f6ba938ba354bb71a6fd6223f7b1415': 1726.76416,\n",
       " '0xdd4c376733e9db18c2f3344e1c75bf4a3f54e1b2': 1725.897949999999,\n",
       " '0xb0fc8bc5b4fe5c4c6a5838bde4691cec30d4edbe': 1706.121400000001,\n",
       " '0x95f623def3b5a01603ca08e90646fbfd363fb7d5': 1704.9825,\n",
       " '0xaa706b7bb8b840c05cf5e2aff84c4ff8f6c90120': 1697.8393000000008,\n",
       " '0x720de32d3878bd7ab8b225685ffe39d9ffa2b066': 1696.7081,\n",
       " '0x607ae8199404221ff8fa898687e6dd7e45be761a': 1683.7549999999987,\n",
       " '0x5e7804fd585341a17664b2a4641665d39bf3f481': 1678.9045449999999,\n",
       " '0x698f6ef2baea72cf9e10c78dee2516be789c8efb': 1675.0491649999997,\n",
       " '0x9aa9baea2b28f7eb034627b852e212097e55ec6b': 1657.9589999999996,\n",
       " '0x8761ee79a0c2b2f075d00a8d01471c947e4fbe69': 1657.9494999999995,\n",
       " '0x1d95b0b6d3582feec7ef35d2ccf91564ded0cf7f': 1649.9613800000004,\n",
       " '0x0e2c54dac4382fe7edc0e825afbdbf0e0ff6de4d': 1646.835385,\n",
       " '0xc3f5f67fcd2452a15972367bbc1ad92ccf88e630': 1627.7149999999992,\n",
       " '0x8f11a50844ea912d8526d8a150edeb8edf7215ff': 1624.1399999999999,\n",
       " '0x8ddd99328f94489460ed8387a9bd6577a42fb3aa': 1603.3316999999997,\n",
       " '0x7ee762e98e9fdb2b62c533db480a018e16cedb39': 1599.0774000000001,\n",
       " '0x103bc7d7f48d0ab189b30575acfbde37d1b7dcf2': 1595.5672955750001,\n",
       " '0x3fddde5ed6f20cb9e2a8215d5e851744d9c93d17': 1589.7849420000016,\n",
       " '0x7a3426924adefde1206f370505c910722b36b0e8': 1586.7149999999997,\n",
       " '0x3a9c888976d969472a7297998fa55dc3f924eebb': 1584.0339000000008,\n",
       " '0xbc7f0cbf65746672d9db16a23c6eb4ff77981bd4': 1578.0900000000004,\n",
       " '0x9f37ea2cf958be391a331dd837965aa0a1967d84': 1569.3177,\n",
       " '0x772975aa0c98d1ee2032a91c0102f1033bd54c26': 1567.876799999999,\n",
       " '0xd355f8b99c59d409dc5ed09ca1be45f22690c604': 1567.7831999999999,\n",
       " '0x587344c59d71ffaac33a4ac5bc0358cb07cf547d': 1566.5039999999997,\n",
       " '0x60515c13f09854d1e4833a4bd23ac7f8958cfb35': 1557.6099999999988,\n",
       " '0x4e04a5320ca2e6278c5192136e6992659dcf4607': 1545.2227999999998,\n",
       " '0xc4f6095aaddcd84a4a9e45084c21575cc3fc6554': 1523.31,\n",
       " '0x7e1dcf785f0353bf657c38ab7865c1f184efe208': 1518.94335,\n",
       " '0x45f937d6032796b1e65d93a70c2c64c0e3eab62e': 1497.5616500000015,\n",
       " '0x78b5c928baa639bdc1e48670b450eb8717bb746a': 1486.758025,\n",
       " '0x8b71f46a1912648a75f9fe5a561f2199aa6b6dd7': 1486.0770000000011,\n",
       " '0xee98b671a935b6c975f7fdd1b712e04f35ff9947': 1485.8000000000002,\n",
       " '0x2569a0adc04ced0ca2a2b91bd10dda0ecfd93032': 1482.06555,\n",
       " '0x7c5db18fe5954a14715507c8a01faba69aa770d3': 1481.1741000000002,\n",
       " '0xfc1336a59568edfc3a2eb8f6be5cb661e1bc353b': 1460.1512000000002,\n",
       " '0x0d41f957181e584db82d2e316837b2de1738c477': 1448.1722999999995,\n",
       " '0xb178c27a2f3074537fa46330f4deb34a5db38f17': 1445.616,\n",
       " '0xf3b8869c906f5c185084ab379de0c607f23f4747': 1445.4089999999997,\n",
       " '0x838c14eb3eabe4cb6a696d286c7b2a466629d0ee': 1442.6353100000001,\n",
       " '0x6d60173f4ddeacff28f2ce9fbc21b75f5c210484': 1441.4004000000002,\n",
       " '0xe748f643b9b5debe0a025e118512be787e5a1ea8': 1436.6671420000005,\n",
       " '0x1c1ef71445010114f41ac1feb32dbf5d7281e90f': 1431.6069750000001,\n",
       " '0xa21e0974137bf8400eb7dca606d9dcb190d79ed9': 1415.5757950000025,\n",
       " '0x37fa71c4811718ada8fc09caa683497093903302': 1414.24815,\n",
       " '0x7d1e4b91d8cdfcea9515387689718d373a452f16': 1403.8319999999994,\n",
       " '0x6a47b60c377450a460d3eb828d534ee66eead668': 1391.2858399999989,\n",
       " '0x8acc1421ec98689461ff5777de8ad6648dc6d643': 1390.9881567038565,\n",
       " '0xc2988df4d1c2f9759090d159296871bc145d5024': 1390.8779999999992,\n",
       " '0x026bdeaec2cc94be3d4d5dbb255b8fc7334d55ee': 1377.9126,\n",
       " '0x73848a8e18816d25d4d49a4c4d9258a344f15006': 1374.48,\n",
       " '0x179d698f5a1c84c3ff4c5eb04e553c15a0c1d8d8': 1361.4887749999998,\n",
       " '0xa8672c3cef0dce305102f20ac820c921c91ff7e2': 1359.7506999999996,\n",
       " '0xe738725cdcc41c91f734dd7b5b9659df994d6dda': 1354.3854099999996,\n",
       " '0x00c9da65b33b4f7034b5f50b90f5f6d8320d6ab8': 1353.3268700000006,\n",
       " '0x8748ae4536a37ec7210ec677d8cbcc88f2e2fd80': 1351.5600605999998,\n",
       " '0x099b939c9abe0c146a3c915ef065161607e75ac2': 1343.7899999999995,\n",
       " '0x236ef21dc36d0aec3990dd5ee84a9d5320644262': 1337.5675450000012,\n",
       " '0x6e13c7e25c2cda6f5c8c4e431bee480bfb312c28': 1334.9147249999994,\n",
       " '0x1e7f320cf5a938465d501f6bd6c405feb3a70f6c': 1330.73388,\n",
       " '0xbabda06088c242fb2a763aa7cc99706cb77ba735': 1329.6417550000003,\n",
       " '0xf5aee6d7b838d5ede8aa65d31dbc11116545180c': 1315.6479499999996,\n",
       " '0xf56345338cb4cddaf915ebef3bfde63e70fe3053': 1309.6061649999995,\n",
       " '0x463215edb66fb6a8f0c979e739a731977617699f': 1308.236770000001,\n",
       " '0x9a472bea43db18808188bb101aeffcdbb7b5a41a': 1304.6206,\n",
       " '0xf3d8ec6d828f05bcb17f0c7ceecf3a8be7f50090': 1296.006,\n",
       " '0x119c593a56629700bcf49bf710b082d2efc6c819': 1295.1201499999988,\n",
       " '0xf9c31f7e0e3bfb7af75a4e60e50d6211a6654f98': 1281.043,\n",
       " '0xcdcadf0279ee021a0c40a31ac10fa69e028e21d0': 1277.3783899999987,\n",
       " '0xc6d3f40124ae45c7c60ca03c94492f644177a158': 1274.9012749999997,\n",
       " '0x55ea4ddc7e4490cb9d6b96c36610272623ebd84a': 1274.689575,\n",
       " '0x72a709967948e3069272c319f40555b2dd8880bd': 1270.0610999999997,\n",
       " '0x3299c562429ea97a5c459b17484f1d8f9d14a576': 1267.8662499999998,\n",
       " '0x5154dceeadd948111678616de0394a4544e3abe4': 1264.1019000000001,\n",
       " '0xa24de545f402aee3444ef00adab7b1001953a7f4': 1253.9829,\n",
       " '0x372846b47451c665a9d02f3d878941e9992386e2': 1253.4060000000009,\n",
       " '0x4c4a5490deefefa16f49a1a48c9acdc60f4117d0': 1248.3964069999997,\n",
       " '0xd78495a42f51092b01bf4f87f4b11d2e35f1d206': 1239.796,\n",
       " '0xcd9af5f9ce249fd24a2bf58f8619d7e57654bf0d': 1236.7930799999995,\n",
       " '0x5a418d8bc0c074a4a8fa88d1322dc51cc1cb9d29': 1230.8630000000003,\n",
       " '0x86318830cfb33df331d3148b80e03e6334b58b4c': 1227.0269999999996,\n",
       " '0xce38aefbecbda066f00b2b1fbe2457fb6ce3c360': 1224.0616300000002,\n",
       " '0xa37e6b46fa8e1a6f1ddbf035c4e0230b8414ff04': 1221.3958499999992,\n",
       " '0x7316e9cf94bef40d4981d66a5c41c38b6b32454c': 1216.6049799999994,\n",
       " '0x87b77fabfeb869150b8e1b9462603f9a639c5fae': 1216.1797250000002,\n",
       " '0x10472fea972d9dde0c7ef98bd81209a4e4d13277': 1214.6555999999996,\n",
       " '0x68d31cb3825e559b1e5c0665f2d65d06a17fce1a': 1211.5898399999994,\n",
       " '0x49ad9ed62e6aab193647847ca047566e80fd3589': 1211.0660000000003,\n",
       " '0x2b92242ea752e86ee072206a6f1deadb5aaf5861': 1205.3212499999997,\n",
       " '0xadd12bd6375dc21d579cc4abcfa04864d6ac9a62': 1204.5051350000003,\n",
       " '0x986ccf030a018f8190e7cf488ba9fec8df058199': 1198.3987339999999,\n",
       " '0xcafa0ea8beb1b039269f7af322799120c3bbbf3a': 1191.9317619000003,\n",
       " '0x5ebb53ca3faada5e46934c90ccbf7d79d50ba9f8': 1180.1108399999994,\n",
       " '0xea5c001aa97e0041ace44a45f55e2253396bcad3': 1175.1960000000001,\n",
       " '0x0866deedf98fb951db0e03aa1b3121b511ce808d': 1171.6557000000003,\n",
       " '0x0c88f0f125c59cad35c704b8044107f2e51d28fe': 1167.6240500000001,\n",
       " '0x3b73b651bd1d5248bd28e2c76b3c9e719ec09f5d': 1162.81646,\n",
       " '0xc21efa6371439ad6a177bc716e2b1bbfff9f4d09': 1157.1449999999998,\n",
       " '0x8915faab6f4f4ca5b65ef0652ab0bf44a5898b52': 1154.6009999999997,\n",
       " '0xd19ba0b426fc5123d545af81d38e1761d5d653a2': 1153.243,\n",
       " '0x740b2ea9b6c4b895d0b04c762509c0ddebf5c610': 1146.1000320000003,\n",
       " '0xe83abb2df92e2acc3f0f070262339892441bc7c2': 1146.0732099999998,\n",
       " '0x5b9a65eabc2cbfc5eceec377afa4399f702eb3d4': 1142.94613655,\n",
       " '0xe24e763d66f1c03fdbbed699f272c6b6fca183ca': 1142.4615000000006,\n",
       " '0x5f1088110edcba27fc206cdcc326b413b5867361': 1141.1524519419997,\n",
       " '0x7a85371500e2e5c60c997f7aaf56993ac5bda8dd': 1128.7559999999999,\n",
       " '0x808784309e6e05c5c3f75d14152f83053750f544': 1126.9064999999998,\n",
       " '0xbdb374d113934e0fe6ff2c69c1516769f65db2ee': 1125.361128,\n",
       " '0x4e5db7de32773dfd852c0259aea4bb10a3a0bd45': 1111.8372999999997,\n",
       " '0xb8adcc8e382a7c43bdfa2e1c47059a1afec10e06': 1104.4500418885,\n",
       " '0x6941f45c846955cc077e459ab283e21b5a85960b': 1099.74645,\n",
       " '0x2f261a227480b7d1802433d05a92a27bab645032': 1098.9522556000002,\n",
       " '0x306f83515f46cba19f761a1f88f511d112569ba5': 1092.5317499999996,\n",
       " '0x5b52a95855f90323ab6a9bbcfde5506ae1e85640': 1085.604550000001,\n",
       " '0x08481d20c6c34f00f0752d7c0b2a7998fc23ca0b': 1084.15015,\n",
       " '0xe59d87e5298ac2fb24c2fc55d256cb8fcb696238': 1074.33790965,\n",
       " '0xf06415c0b9425aa78ec7b160dd5943678db06ef0': 1059.7904599999997,\n",
       " '0xdf86d6023d10b0a1a07eed36ddc41f9517d2d223': 1057.314974,\n",
       " '0x347981b8c2aa71d454cb44a08cda752a5760ad38': 1051.362,\n",
       " '0xbac06fa9d26b16a5b096a0c3ff60a6ae4c44034e': 1047.8867599999999,\n",
       " '0xff4d2d37a08f1b0d40dda7ead1d88aa5ceef7c66': 1044.0749999999998,\n",
       " '0x0048d02963b97445a012ad6d44bd38a0239c5b88': 1036.40625,\n",
       " '0x7dff2acb62f463232f9e52fe0763a5afce1e0b49': 1035.9048149999996,\n",
       " '0x0a4424d17fc2de79842845bd8e76f2e7d003ba61': 1031.5124999999998,\n",
       " '0x6440017ac0a67f527c7304bfb9f960e68e7de6af': 1027.6513000000004,\n",
       " '0x925e4fc5888d30f5dc3f7345a172f85fd9f73913': 1026.4862000000003,\n",
       " '0x197143a6b8592bfdff9e8195dff6a87bcdc73147': 1021.5989999999998,\n",
       " '0xe099e0e8fe51bc257418951f93e0e57aa38c0ae8': 1019.868185,\n",
       " '0x1d51de6129f32eeb32b1bd9dedd03133c2372db2': 1007.0100000000014,\n",
       " '0x6e7cacc6f2b49dfb980663bf2bb014046ac45320': 995.9359749999999,\n",
       " '0x1d6b58b5121c51f9ccc997d8899fca8effb3a1a3': 980.604,\n",
       " '0xfe4f8b7627b79b799fac5267dee3a480071e6661': 977.607199999999,\n",
       " '0x05e2461c8c10138aee241268f28de6003d3dbadb': 976.0785,\n",
       " '0x36ed2d75a82e180e0871456b15c239b73b4ee9f4': 975.6950500000003,\n",
       " '0xdfe279c336e767beb9fb1c19c1695e2000a2c720': 973.9304499999994,\n",
       " '0x4306893ff11748254489465650e09ff4b555bba9': 968.9721149999999,\n",
       " '0x0dac0d611db5955bbe881cf8d75d4c80271cae83': 962.0971999999999,\n",
       " '0xca98f10b6b36ac20b01a5bed6418f71a2635303f': 961.4952499999998,\n",
       " '0x9bcbfe550d32dfdd2d047ca52f497cba1f564b6b': 960.9336000000001,\n",
       " '0x2a17e640ad57cd138f139d5c2aa1cba78afc48e3': 960.9215999999996,\n",
       " '0xb84b558c5490b2594dabd24b182652a9c175f950': 959.39775,\n",
       " '0xdddd34f88b475dae9fef76af218b00cca0d7a06a': 952.8545,\n",
       " '0xfce035045ea3cba052fd0342bc8773f93295f90a': 945.9732999999997,\n",
       " '0x3d127774339a9db809a0bea58526b1c00a744ebd': 945.9610000000002,\n",
       " '0x9ed3db7a8ec964ef0813edb7bf3ff514a25fae70': 945.7383487000001,\n",
       " '0x389137868b10ea98a583397384b9b2aabd30857b': 937.77115,\n",
       " '0xc71fcd7b8db747b2db06d17955d89a749e5f81f6': 931.0922499999997,\n",
       " '0x8de337b568df14f950f52532db369b611a6b3b44': 927.5704999999999,\n",
       " '0xcc8e8ac8e38c614973a6320c2d9d6cb556e467f1': 917.7400000000001,\n",
       " '0xd82433ed99c17af26684be6de3e498b421a99d56': 905.6970000000001,\n",
       " '0x6e788398844fdb465e915d43b88c4d2d93f7e00d': 904.1424999999999,\n",
       " '0x8ba7e4d44f4b1dcee13b8d2343329ce0351bf3bc': 902.4848250000002,\n",
       " '0xa4381108ee8e4172d663c1babffca6e2b410d5f1': 896.5724000000005,\n",
       " '0x886c4d1d4bc99399a42ef9cdcbf0f0dfa700a860': 893.9985829999999,\n",
       " '0x03446bb350421d70bd5bec5995f447dea1922ff9': 893.4077300000005,\n",
       " '0x1ad60130a2528c6f73a8c6e50758532949627dfd': 889.48221,\n",
       " '0x87eeb46c8e808f97fec734b82edf6829595c0a22': 881.8426499999997,\n",
       " '0xa5656dd6aade7f7db27543d827968bfe23b70eba': 881.40426,\n",
       " '0x364b4076c4f1491eea2a3b99b8c39847a53dd3b3': 878.7350250000002,\n",
       " '0x984895138a2f2df973f7bf86e75a407fc4761689': 866.8745000000006,\n",
       " '0x62e7262e47cd1d01d557369f7444be3b7b5eb831': 866.6320000000005,\n",
       " '0xaa5a255446c0d6e3829c5d45957805a14ac201e3': 860.5888000000002,\n",
       " '0x71ed1ed34474469f09622377801da0a35363d2d7': 859.5130500000004,\n",
       " '0x8b5453ce381a1ab052f663aa57cc7746c3c47aef': 859.5130500000004,\n",
       " '0x535e9d69758b9cb3dfbdb3691808487619eaa30a': 855.1500000000004,\n",
       " '0x113d754ff2e6ca9fd6ab51932493e4f9dabdf596': 852.9025000000001,\n",
       " '0xffd68bb1b7882019b394a4efdd007a6e1b5ece5e': 850.66,\n",
       " '0xb007f748f2223e205483d80a3b634bfd5268a504': 844.788,\n",
       " '0x1039db826baaa5206e91a3f4c3aa15b8754d165a': 842.7574999999999,\n",
       " '0x32606c4aa95ea78d7c5b1e0e347e3e9ae451434e': 834.0754499999997,\n",
       " '0x1fceab73b057313e2d069d30c6c19b3b5c394236': 832.8916,\n",
       " '0xdeff375a8c1d3b24486fdd384bae7c659ae07aa8': 829.5010000000004,\n",
       " '0x8afb50054a1550fcf0ae03aa21c79e2bb692fe0b': 828.8643405,\n",
       " '0xca11d10ceb098f597a0cab28117fc3465991a63c': 827.6863500000002,\n",
       " '0x23bbfb1b0ff5a94a1421ad27dc92e46695c1eded': 827.5275000000001,\n",
       " '0xd2d6542b80de05100b4323bd65a8ecaa1579af5e': 819.5986500000002,\n",
       " '0x7acddd5d8d13bfccf6555728afe5f54bf5ae8e5f': 818.329125,\n",
       " '0xab6ca2017548a170699890214bfd66583a0c1754': 817.797,\n",
       " '0x069ba44bfe4584ecf7e5c2346e2cbdc916bf30ac': 817.2337500000001,\n",
       " '0x97cd3b3c620e1db995a07dbd2fd6745398a98343': 810.5567500000008,\n",
       " '0xc93730e3b7bf06e392cdde0dd0455a79a8c3fe55': 808.9876499999999,\n",
       " '0x956eeb3219db5a807bb547533170240e082eea41': 802.3929899999996,\n",
       " '0x3a761757f14eff8244346906f9b554fc650bf618': 799.3211200000001,\n",
       " '0xdaf059bdd160b192853d916d5bb3aa6f20713b98': 794.9013625000005,\n",
       " '0x240ad467a71210629d71d4de22ebde27951c83fc': 790.3045480000001,\n",
       " '0xa0baada8d6c9b647f48803a194bb63d453801af0': 780.7050000000002,\n",
       " '0x656aa5a0abe2602faaefff90816ad3936339c8f2': 778.5945000000004,\n",
       " '0x5f5b91a7f8de445c19f75f089f2a4167acad6578': 777.7280000000001,\n",
       " '0xf1061b18191395cf42910ffe4136560be328cdc2': 776.3069999999998,\n",
       " '0x0ae4b0e77226b23ec27ba93c5db3da2043afc6e5': 773.9981000000002,\n",
       " '0xcbace925cea953d062094c6a98bccf41aa31ce68': 765.8989999999995,\n",
       " '0x576a655161b5502dcf40602be1f3519a89b71658': 758.259225,\n",
       " '0x9167e89efa8e1727f58b1744722ebb09e0cd5282': 750.3312249999999,\n",
       " '0x79a2fc84cd4041313ec7e8cd4ac7c47d820904db': 743.8600000000006,\n",
       " '0xde63171aa8f3f05a1d19b59d2fdc908f202c4cbf': 743.2337279999999,\n",
       " '0x8bbcb4d259b0f52e4bcf32210cae0bc91a677cdb': 742.9762800000001,\n",
       " '0x8a3e9317085672e48fa64e8ee68f67669cb0a15d': 741.5353000000005,\n",
       " '0x62e3149d80801d4d26b0374fce481cd1c91d1e51': 737.9679999999998,\n",
       " '0x5d9ff4a44ef070bd63595801dfd741e881a17a7b': 736.03635,\n",
       " '0xc0a2f3b3990de10a22a00377df0f3e7503c3a14d': 734.1282499999996,\n",
       " '0x4bca66c6428bf29f3df723fa06d5dd04d7c727eb': 729.8183000000001,\n",
       " '0xa2e0aa5edbb2cef9293b4ab1651c949ae434388a': 729.595,\n",
       " '0x6e3aa85db95bba36276a37ed93b12b7ab0782afb': 724.7660000000001,\n",
       " '0xcc6aaa60239b7b98dab6916517ed5e87b78f2221': 724.6875,\n",
       " '0x99391c6f4d33ddac56e0856db4ef0013851031bd': 724.1454,\n",
       " '0x66b333423409d3ae4008d6fcc84aadaa8d31a0c1': 721.94625,\n",
       " '0x6752efe9a310898fb2dd9baed91a315b8635b275': 717.48125,\n",
       " '0xbf214e84fa6e54f0682d2947ca4b0a1f5e799f52': 716.0081500000001,\n",
       " '0xa0ac4bedaac6731f39bcf0658ff60b658e763b98': 713.7759999999998,\n",
       " '0xcc8b218ce58cf16c9cad1446dbaa67c3d785983a': 709.6599999999997,\n",
       " '0x0127da512c57600b54c05ca120ae2820e2051779': 702.3794300422776,\n",
       " '0x70afce457d416779738f25fd932760b9e27ec8fa': 701.9699999999997,\n",
       " '0xe35af59931e2f3fe8ccaeb830c35b2e5f1d5818a': 701.3809999999985,\n",
       " '0x09a2414ae2a601e21219dfb0b7f4bec332094d86': 701.000344,\n",
       " '0x1d8f4ca7af60ede83716a83e0162a0876659413e': 698.4000000000001,\n",
       " '0xcc7312381e9101ec27757f90c2f7dae827e5a52d': 688.8739000000003,\n",
       " '0xb7e06e4259a3d32128213a4cebfa7372ce13047c': 688.2950000000001,\n",
       " '0x71878c80cca2a9d2de6f5539273ba020e8e4df6c': 685.1488999999999,\n",
       " '0x55dbf928fdc43df0a95e7eb8e5e6f345f82e9a31': 680.28415,\n",
       " '0xd8936e602e38dfee5d6466865068b94b1943debf': 679.7909886,\n",
       " '0x9f85c9884428a19b3f1e4bc5d2c0c55d5704fb30': 676.8198349999997,\n",
       " '0x8aaa704946f38e025230e826220613b6d2d848e7': 676.3749999999998,\n",
       " '0xae6461da23ed144274c65d2710ac2fdffad729c0': 675.5355,\n",
       " '0x3f08f3ef91d7b7c7ee26c4e4cefc33674ac05a4c': 673.8389999999999,\n",
       " '0x06c3ef82948d59fbaaaccbe224e364ac6b8cd080': 669.8330429999999,\n",
       " '0x36b8f42cb0e9e58a17b48b1796be1f16e1ad764f': 668.2330000000009,\n",
       " '0x2f489b3255f6dca7ae1e725d9fe47c90a818a0e7': 664.6271999999999,\n",
       " '0xa6ed3f3fcfd2ae036e4569c69a2e7f4df103474b': 660.88105,\n",
       " '0xb104890db065ade848cc5f99268c2c16c1474d54': 658.1349999999996,\n",
       " '0xb2581409878ed36848bcb6bb5b8129fc43a80528': 643.3855000000002,\n",
       " '0x9e56c62aa6185a8b7f30daf5be0ea05718db6997': 641.3915181499999,\n",
       " '0x6ef222e271ec35d4b19602e789260b277ac40be5': 640.6385999999998,\n",
       " '0x807a243a3f7f9bf27823a79d8a9ee0d45cd9215d': 638.57065,\n",
       " '0xd97b169a4d0d0173e2ad0335db9e0e13d90f955a': 637.0449999999998,\n",
       " '0x67a9ebf979b08821fc39c9634497765176001b72': 632.9850000000015,\n",
       " '0xe3ba6bcfd9f9c4f49d7fd9268dd4633588ca57c8': 629.2616000000002,\n",
       " '0xc97ef8b510ef22d9194b9542c37e631777225b3d': 629.0802000000001,\n",
       " '0xbeb910ae193dc54411747ac236e67d221ff3f1d7': 628.7096999999998,\n",
       " '0xcee00fb5b0e64afffc7621d5bca86629141890cb': 628.5486600000002,\n",
       " '0xb268f20c03c39f00425db32c424fd5272220496e': 621.5749999999989,\n",
       " '0x98af51160da9c3fa9deb4ec2d611b13d94b42fa4': 618.3799999999992,\n",
       " '0xcd0b3ad54ff89f5aaf3497874b9f18a91b0889ae': 616.204200006303,\n",
       " '0xc598f8a071f83a32b897c66f5341229b1db7790d': 615.8249999999999,\n",
       " '0xb9ccfc18b941a2cc51a956aa6c83360eb9d58de7': 615.2194999999997,\n",
       " '0x80223e498a4e50a667c5af849d22b5ddcb768e1c': 615.0340000000003,\n",
       " '0xa1b4790544f327e2064bd7fd1478ba46ffa83d3e': 612.1679999999998,\n",
       " '0xe39cb745e8db0da1be665adb2eab58f4fd600927': 610.5470999999997,\n",
       " '0x9f0c237a4381e1e51232d0911716404d06e829bc': 609.102,\n",
       " '0x13816f65ba8195768e6825eb774fd3c6a05a0ac8': 608.3719999999958,\n",
       " '0x1948f950899cc5213ef9ff7e543afbda16f86de6': 606.81555,\n",
       " '0xf78484d56a9febc787783fba5869cd2c972e5764': 601.080899999999,\n",
       " '0xcd79d3172014de5f23ee141002ad1cc8336781de': 600.8343000000001,\n",
       " '0xe557eb60b2b0bf7f6272def901d0b89a16235c46': 598.6771000000001,\n",
       " '0x27b4974d01b4589369e70a41c545031258d11b9e': 595.8799999999997,\n",
       " '0x36c645d452aee01ae0d2496b14a7c4e04f015231': 595.0624,\n",
       " '0xbdb6fdd2bf2aa01051540a0630ae568282a4bbef': 589.74,\n",
       " '0x685c535ffd53e5d387342ea80c0f3c1e514e165d': 589.531,\n",
       " '0xe0e589e9d0049169da99b4e8ef74a1b71adcd291': 589.1057969999998,\n",
       " '0x36e17dcd67fa5ec6122424df19fd355bd7db3135': 588.6232499999999,\n",
       " '0x64e2c9592ab961c6f8e4932fa3a0fd57a23f57bc': 588.09,\n",
       " '0x86fb7b190fe3a81695311cbad2bb806c1cb714ad': 585.234999999999,\n",
       " '0x39d2cea32e7ca3688c4499a17daccfcac20aad23': 584.889155,\n",
       " '0xc591674216324dc6f5496be098dfb52b674cbaca': 583.8400000000001,\n",
       " '0x4c6275e6de6a105b3709ca8bb42b2fbdb3342d8b': 580.1136299999998,\n",
       " '0x9d6fb5a375b0ad23b83056be303f0680aef77e17': 579.0462,\n",
       " '0x684c2b18be89031c6a968fafd8e824d65935e9cb': 578.807,\n",
       " '0x6f846243e9b762bde2a4b1bf152ed45ff6fb4ec7': 575.4810000000002,\n",
       " '0x15e37293bcd44422b60c227568cd58403dec3e5e': 573.5355,\n",
       " '0xf8a843ddd974134443bed41b7b43f4e4d493cc79': 572.6490000000001,\n",
       " '0xdce2957382198761467ef8bb97b128bd74b08226': 571.0549999999997,\n",
       " '0x1a6dae7bf893144b9a357156e01dd807161709d9': 569.3514999999998,\n",
       " '0x09d57f361f794d150c04443a7b6e369120dc2bea': 569.1509999999998,\n",
       " '0x336198a749bd621516d2933381b27843ef13b75a': 566.8339999999998,\n",
       " '0x91cda41a25057b30cd003dde076dc91f7a9cb6d9': 564.8937999999998,\n",
       " '0x296f2af4ee04c03f5f01239b17ce99293b845b75': 564.3270000000002,\n",
       " '0x42ff1922fb05c417d0519ef0d0272582cb6a9e1a': 563.6306,\n",
       " '0x2daf46ea988c806ce1991bfadded429efc0f1e9f': 558.9509999999999,\n",
       " '0x54cad506839d01a9ec7e01d8762f3658ad4911c2': 558.332185,\n",
       " '0xce1f27b591ca205066ac9257e3cab7b604a457b4': 549.7479000000001,\n",
       " '0x4893ce4d89f4d3626e9ce9dbfd71a2d315a774b7': 546.4967999999999,\n",
       " '0xf051243e8c16c3a84f0dba4de1d97d2c2bd82f6c': 545.7564744384998,\n",
       " '0x095d3f27c804bc892f58579046e9d3ad5f652e72': 545.2896885,\n",
       " '0x66a9c119c4e1025576d42dfb9b4413868bafa7a0': 544.6420000000002,\n",
       " '0xb2bb652866eb2386bff78b2447307aae535affd9': 543.5499999999984,\n",
       " '0x69a23fb6fc110409821c836cce03e6410dbdcd7f': 540.8337500000001,\n",
       " '0x80cc93c407d6c94cb3a00cdaaa7bd65da1282c49': 540.0369999999996,\n",
       " '0xeebbecb77c367c0d3fe1c52db71ce09a2c8f2042': 536.2529999999999,\n",
       " '0x4aeecb98650addd42764cbee3f813ba989d414a7': 528.2231999999999,\n",
       " '0xb87e1f6fbd46e61d7caf1311e526d4f129f2cedb': 526.899,\n",
       " '0xcb0ed3b608387de6bb1f5c20cdde9df5dcd9d45e': 520.4324999999994,\n",
       " '0x67626152a98ea1e010bd88e198ddb371d5cbf786': 520.3776,\n",
       " '0x12d024ea9d20232380d7b6a7e64b114469ecbbec': 519.0559999999998,\n",
       " '0xbc159b71c296c21a1895a8ddf0aa45969c5f17c2': 519.035202,\n",
       " '0x6301add4fb128de9778b8651a2a9278b86761423': 518.5075499999999,\n",
       " '0x5de8c64d8a004643b766923f7462b454e0262d2c': 516.144,\n",
       " '0xab5853ddb6b5a8b0dcfbe9a9d034b45ef703f5be': 515.6251000000002,\n",
       " '0x21f8ffd813933cbffb1034b55026c70ee82aa0ec': 514.753999999999,\n",
       " '0x404b407ac8074ffff8b215b5dec080551807791b': 511.15599999999995,\n",
       " '0x6ed7f81208839e31e11840049201201c469a7a56': 507.9580850000001,\n",
       " '0x31836ccbcb916a3e713921d2ac2788757a92c9fd': 507.71417525,\n",
       " '0xfc5b772038731c95e254d25df8ab3343c74b0d59': 507.52049999999986,\n",
       " '0xc12a2dfee2859424e9318afdbf1dfbdf043ed32a': 507.27983500000005,\n",
       " '0x15c127d0192f81aa30f58f72999a0f8df09a65b5': 507.09949999999947,\n",
       " '0x28faae65430acb1ac8570dd5895314b43a4b5900': 505.2647000000002,\n",
       " '0xe7d6878a23f97575963dcd107d87f2041683faad': 501.5985999999998,\n",
       " '0x46ba0af6bc60e6fabd9957744c057d031c720ace': 497.88165000000004,\n",
       " '0x626da271f4743b344c23845ac0c6b4e622101bcc': 497.6620999999999,\n",
       " '0x037e2847c769d20564502183f524f88baa06b389': 496.73330260000023,\n",
       " '0x69fe2badd12f4515aaf99e3a9956b9ffae56f877': 493.4652000000001,\n",
       " '0x6c4e54b96f4cbf01dc53dc3daed569e61c5e63b3': 493.2416599999998,\n",
       " '0xbec24297e08cced6d5cf0324f70fa0376b7ba6d0': 492.9309,\n",
       " '0x0359569e2913fa38d698e7ff59584a6a85971ea4': 492.12519000000015,\n",
       " '0x614a61a3b7f2fd8750acaad63b2a0cfe8b8524f1': 492.0324334999999,\n",
       " '0xec7641e298af02c19171451381c570327389b0c2': 487.37050000000016,\n",
       " '0x0998160bdf3ff6d86a4e9d5c31e0efc3ca7e7d01': 482.7636,\n",
       " '0xc09e4bcbe47613253bf728d514876069b84ee97f': 481.6680000000015,\n",
       " '0xda258189e6731b95c4667c5c62146c18f5249e51': 478.4985924999999,\n",
       " '0x0b7059d9e71bbd6e28677386b4c13c56b74b944d': 477.65587000000005,\n",
       " '0xb860b80feccdd2adee30613f09a2448332569fc1': 476.5169999999989,\n",
       " '0x8876825a0261799848d896a4bac2d9c6e1d48771': 472.88400000000024,\n",
       " '0x23c7ada0b07ec81313ccacb1cb207e93d58ea7c5': 472.8839999999998,\n",
       " '0x0b99547e49d5daff6ccb57c791b9310c4b4f842e': 470.522584,\n",
       " '0x9ec39691e7db9b561b9f28f19107bd3c7cf8fefc': 468.81594391,\n",
       " '0x04b57563010546b67fb3327f4ba790e8677890d7': 459.5808000000002,\n",
       " '0x2a6b8db07474fd114524c8008a7d88b743e61503': 458.8700000000001,\n",
       " '0x58ac38489b7dfeeb761ff1720a37223692d779c7': 457.4024999999999,\n",
       " '0x07587c046d4d4bd97c2d64edbfab1c1fe28a10e5': 456.8115,\n",
       " '0xd3f714357a3a5ab971941ca475a006814edd0d2b': 455.5386000000003,\n",
       " '0xf25ad24b791e37e83f4dadfe212e0e9bb45a1f8b': 452.86625000000004,\n",
       " '0x76be7dfc93ab4a943bc4f13b8994c27fdc471353': 452.4572499999998,\n",
       " '0x50284c6c80bae1af65961e8cdac9b15e33e9f126': 450.02999999999963,\n",
       " '0xb4e8657f23407c2112b073334fb7cc92b0fae0d1': 446.8800000000001,\n",
       " '0xb2fe446b3febf4e0291e82052d20c9f99909deed': 446.0439000000002,\n",
       " '0xc5978dc2d50cbee29d2b72a3049830cdb5dacb97': 443.8500000000022,\n",
       " '0xafa4a279e8c4cb821b208f4a0015b1a44d9742d1': 442.40499999999975,\n",
       " '0xa7bcdb6eb224567bd14159380d41fd716b5680e2': 442.40499999999975,\n",
       " '0x35a214b13c9e223b8d511f343ac8fa94293233a1': 438.273125,\n",
       " '0x3401ea5a8d91c5e3944962c0148b08ac4a77f153': 431.3389850000001,\n",
       " '0x1f8adddd1afb62a35acbe9cb27b572183d00584e': 431.30500000000006,\n",
       " '0xda6ad74619e62503c4cbefbe02ae05c8f4314591': 430.44875000000036,\n",
       " '0x6ba0a1b61f8b14b7365ee1692e52de5ffad12d40': 428.59600000000023,\n",
       " '0xc6d84b7333ccf2db3362f5acd944da2dcc304d06': 428.04475560000003,\n",
       " '0xc702ed7324747306e0e941b208a6f5a2fbcfe09b': 427.73099999999977,\n",
       " '0x30e8b02e0db5a05bbfc4eec38dd8b07cdbc96f12': 427.6409999999999,\n",
       " '0xd674c3c43ba9abfc99ba1981cfd61553e381796a': 419.51699999999937,\n",
       " '0xea8854a1a2b5df4c20482ba46848ecd121568fdb': 418.7401950000001,\n",
       " '0xd59625fd97142d88cc11a7117f3a528f80b8080e': 418.716775,\n",
       " '0x4f195a987e8c02033f16d9e544646c6061e1ee9c': 416.01,\n",
       " '0xdcf3b04605886d8f6fa943e50aba8db4d0728795': 415.0434049999998,\n",
       " '0xa4cdd3a745e788d1f34a0d540aaf7f06d3795b17': 414.9556,\n",
       " '0x91e371c3cd3aa81af27b1602d4d8cf9d81ec5a90': 413.3729999999998,\n",
       " '0x5cc00d291fa8c3a61ac4a0cd939dbe37e59b7fc5': 412.9739999999995,\n",
       " '0xb6be4de7f37bae20085d830a28982be8ad19052b': 412.51480000000083,\n",
       " '0x8ce639fb7442cf50991f6edca099668b954f921a': 412.37279999999987,\n",
       " '0x45f4c12b2a3e3aa0e263e73be5195950a18f20e1': 410.7645,\n",
       " '0x4b24eb7be918ffb61991bc9fd03bed9a961e0e64': 410.4574999999998,\n",
       " '0xb15a7ad8e8d748254d52057b345af9c3dbaee593': 407.13300000000015,\n",
       " '0x50cde770461ef53b62e083313d64b5b274b4bb78': 406.88003499999996,\n",
       " '0x7efb0080fbbe60be63ec2dbe0de385e57a2ed1cb': 404.7270000000012,\n",
       " '0xead1173ed22dde0794b835759a39ef2dd945c135': 403.4247178999999,\n",
       " '0x0bb14d47a450e1a5641ba39e94a9b8b892794afb': 402.57123,\n",
       " '0x53f85cac66bbd09342b2d791cd0d654e5ad77cf2': 401.4850000000001,\n",
       " '0x88241e50d5fe1687ca5017d36aa42392c49084b4': 401.4850000000001,\n",
       " '0x3af9aa685829bfd1efdade270424499aac5903d7': 401.4850000000001,\n",
       " '0xe055e68f8e12ad0e5957555622b019f915d3f47c': 401.4850000000001,\n",
       " '0xc1a3d1806be1a4ef2d854bfbb2d451b49e968c12': 401.1885,\n",
       " '0xda239c98a969fdd0868a5d50f3d62001a737238c': 400.65345499999995,\n",
       " '0xff484496fde04f1f200b52aae2c1d82c599ad12c': 399.9887500000001,\n",
       " '0x0ca531b7540a2c2344b84ac41e1dbb5ad73570df': 397.33124999999995,\n",
       " '0x9cecbdef142f2957d9a60b11366c2db0e795430e': 396.907875,\n",
       " '0x3f86f18322a888d9b3adef38f127c941bccc014d': 396.83860000000016,\n",
       " '0x2590e0349ea9e319d4f75f5b8eb66d8d2707411e': 396.61450000000036,\n",
       " '0xda1a941f2256469411f18170794bfc770078171b': 395.64869310000006,\n",
       " '0x3ebd2e91e6d4f8e541f51774f18b1470350025d1': 395.6190999999997,\n",
       " '0xb572e172d7b6885b633e1c437fe7ea54b849e401': 394.99100000000044,\n",
       " '0xff286cb2b69ad141aea77157b2066d5c031bf5c2': 394.99100000000044,\n",
       " '0x1dfe78782aa0970d35cd13d4de203ba9a70e745a': 394.93079999999964,\n",
       " '0x64eb4e3cae1c6baf4eb6f07c3506ec9063d9301c': 394.66150000000005,\n",
       " '0xfceebfc42775d38427c4078a9d1a8160b6ff9a2e': 393.4964,\n",
       " '0xc3fea8cb1ed43aa8a98b3e463638bffd07bddf32': 393.3675000000005,\n",
       " '0xa74d13042cb339adf749e4128dcb5f5f96645ba7': 391.9349999999999,\n",
       " '0x682ad0897ba7dda0ef8a782864e96cd11a274303': 390.86685,\n",
       " '0x478d65eaed385943a86bb3a58a4e3ebb00236b88': 390.12050000000045,\n",
       " '0xa5629553648c773750d4cdf1e8e5afba87763524': 389.89500000000044,\n",
       " '0x85777b9fa830113fe1b54630104ee1c8d9b254ea': 386.0110000000002,\n",
       " '0x877aedb4b89c303b00aa94f7821b9afc45425879': 382.0799999999998,\n",
       " '0xbb11f27141cccbc09db55ea8055468ca22b979a8': 380.6862000000001,\n",
       " '0x7641e196938e275e6479535b0c3f4dea4ea42b5a': 379.07625,\n",
       " '0xfc89c7b3b90e9f27122543cf652e0b668c95a5cf': 378.9644499999999,\n",
       " '0x1289e144fb157275c7fe6f93ed254453bc6769d6': 377.79500000000144,\n",
       " '0xb41b432858da65ea28f7b99177f70eb5cdc3a22a': 377.40697288281257,\n",
       " '0x50f0faaf3e5a01591647eca0561190da41b4e296': 377.2045,\n",
       " '0xcb832de0c1f2501fbd19ee48f801d3d729fd4d04': 376.68125000000003,\n",
       " '0x09d4083ffd20d21acb9118465ad7c52ac8b548f7': 376.191600000001,\n",
       " '0xb86377aa282654f2deef20cbf45909b5c8aab078': 373.7942999999998,\n",
       " '0x2af8a3e33fb6da49881080e397dabeb06162f3d1': 372.8142000000002,\n",
       " '0x9707db82df92c58055872731c7a87f90ca990901': 372.58375,\n",
       " '0xc9a72aeb879b09501a6e207d8aced11d7b425f7d': 371.49882499999995,\n",
       " '0x97d6de0f644eb9bcf25a21ddeb87c33e0f117ead': 371.34439999999995,\n",
       " '0x444d235cba7c69ebad6dab0469a18b932c27a336': 370.06336625,\n",
       " '0xef8470979cbd5e6b10d109f4efebc9f619ba3305': 369.06011999999976,\n",
       " '0xab80ce944e0c0d3894c95af566e9271a5afc0835': 369.02999999999975,\n",
       " '0xbc1b89612b8c8e006929197569818e785e427bfb': 368.0649999999996,\n",
       " '0xc35a5fec6be6957899e15559be252db882220b37': 367.5225246736793,\n",
       " '0x046bb8b64ad0dbcdd960c0e8dec0761dbbbf9966': 367.22399999999993,\n",
       " '0x92f1ff14a80ea8c23028a40c74c05bb994ea0ee2': 367.19499999999994,\n",
       " '0x6bf2ee1e5d816b987a23fd3a157ab875f8d4a4d7': 366.67199999999957,\n",
       " '0xd4bc360cfdd35e8025da8237a49d80fdfb8e351e': 366.58214999999996,\n",
       " '0x36c90720e000d8265972795a1a78d9bc52d7be4b': 366.125,\n",
       " '0xb0812ad9de7051221425b1f6a21051754aea3f4f': 363.06291,\n",
       " '0x0740dad4ca99bacab585df31f54fbdd60e6f5127': 362.677,\n",
       " '0x6efc2653beab623a9b6ef89cc44f69ff41fa11ca': 360.91999999999996,\n",
       " '0x09921d2688bc433917583d9dcbd92c08f2d3dfad': 360.16012,\n",
       " '0xf73dd1fc8f8ca2cee9a2659f5c6075cd37e87732': 359.88300000000004,\n",
       " '0x4c8e2781452e418a342faf070546e541ef162b2f': 359.3313350000001,\n",
       " '0x90b38aaa64e4650b2244dc98f54e57c1c1847cd7': 359.19239999999996,\n",
       " '0x500b601b6386d7227b92243e4fa018ec91c43065': 358.41499999999985,\n",
       " '0x54b174179ae825ed630da40b625bb3c883cd40ae': 356.8275000000003,\n",
       " '0x12ccd8dd32c8875759c621894448abf65fd9b188': 356.251637,\n",
       " '0xff86bd62f8794f018db5cde8f376e1d0c2f14d02': 355.50499999999874,\n",
       " '0xa63b603f7cd71b966c461cc36f6f9491db2c3282': 353.35535000000016,\n",
       " '0xf4f816ad4a811bd595ab8fc4e4b192f94faceb47': 353.0640000000001,\n",
       " '0xcb322d24121c62ebce620eaffba821370567bed7': 349.939,\n",
       " '0x26a22514d3ac0b05e2f4f04df96ef302ba434cbe': 349.43874999999986,\n",
       " '0xedd831ece7c9eaffa7a6c5e1c31e6a644661f3a3': 348.83525,\n",
       " '0x82bb6b5e92e1143fc03ee468a7ba9df8e955f7c2': 348.4445,\n",
       " '0xc8718fc1c4b30ab10c0db693cd9f9efb02c762c6': 348.02499999999986,\n",
       " '0xe3fed2e2e55bcb29a007a6cc27740669a9f40441': 348.02499999999986,\n",
       " '0xbe8994684d2a570a84c3ac28459bc83e7d80e3b9': 345.5362499999998,\n",
       " '0x214cac1dc3fdd304f390df8c3eb9b7629ea42924': 345.1775000000001,\n",
       " '0xf41589c9d0ef20f354155cbf586ab5ba419f12fa': 345.1633999999999,\n",
       " '0x2b8031005b2a2349bc52fa7dd47a09ecc796c17b': 340.2882199999999,\n",
       " '0x53d3250596824e0822a3c3ffdf80262c8b5a0965': 339.86170000000004,\n",
       " '0xb0a6024fe93f1531cfeb036f01836381ae2cfe90': 338.7825,\n",
       " '0x3d45f19509d8e5f2a9cb5a1352003e70c998a6bf': 338.78,\n",
       " '0x8169f0b4cbbedeef10d810f551d965838058af56': 338.2585636500001,\n",
       " '0x5aaeb9ed7e4a4ab6753141598530a0e8f1a7f48c': 337.39300000000026,\n",
       " '0xb6120b8ba1411f1488715cc94273174678f9c5b0': 336.51499999999965,\n",
       " '0xf5f93d282a87ca8bbaaea4c384a04f13b8423692': 335.9974500000003,\n",
       " '0x15ba5edd78d7af3ef931ee636fef84226669f72c': 334.7696000000001,\n",
       " '0x99883c9196015aa8edb9c2e7319960ffa39f8440': 334.24749999999995,\n",
       " '0x51357b0e4933fccda5b21e648678ce4d89e153e3': 333.9654499999999,\n",
       " '0x5f792b0ee9f674843ef6c30bb9ba81e5cb2cb1a5': 333.5150000000003,\n",
       " '0xc03ff5285a758f552375b9c9cb644360dfb74291': 333.146,\n",
       " '0x47a3c5095571a1a97fea4b65c50e4baf70b57e9b': 332.10675,\n",
       " '0xb22aa4a783ef00cd5c51eb1e593723761f924dfe': 332.0609999999997,\n",
       " '0xaab0b4fb93621c6c50c817352213e766197d5e36': 331.4447,\n",
       " '0xda248cc10b477c1144219183ec87b0621dac37b3': 330.5896485000001,\n",
       " '0xbf267191c83e046f0dee7a6e8f007795aa32d045': 330.01499999999993,\n",
       " '0x5c5fc4680aafa2ced7b5826883c1a26dce05ec4d': 327.051673872,\n",
       " '0xdb1d05ba5f7933992a22127d0ba53b74bb1709b3': 326.34534999999994,\n",
       " '0x88811d23b99c15d5ac8bce1ea4399f5acf1f393a': 325.8896,\n",
       " '0x748a832f957df2fd8e241d9f7ce50160b04ea051': 322.22648000000015,\n",
       " '0x1b48fede19a4644a01f873082ae694d7a86068a1': 321.8130000000001,\n",
       " '0x152c573ddf549ce70e74f89a9cb9e69a8227fd23': 321.7956750000001,\n",
       " '0xabad474eab996798cfb6f7f877a5f2e3b7c723a8': 320.3100000000002,\n",
       " '0xdcb46db12170d7ecc4522b86569f00527d66a4cb': 320.3100000000002,\n",
       " '0x8d5b727b03953df2f2da06121ac6190161588a63': 320.3100000000002,\n",
       " '0xf60e20b48203670d0bd29216d09d4107f91b9405': 317.0669999999998,\n",
       " '0x4ea74399b67acc408e9fcfb96c561d0124ae2155': 316.164,\n",
       " '0x634d81e6d118c479e5bdfdcaa1ab922cc3cf1c5e': 316.10349999999994,\n",
       " '0xd8e9aed17941ca327f5d99c58eacfbc48e0fa2a8': 312.86463999999995,\n",
       " '0x6a8194df91bcda38da1230ad49117eb811c713ad': 311.65399999999977,\n",
       " '0xf0c82a44ba3503f86f2b2772cb5038999a24c7e0': 311.60249999999996,\n",
       " '0x58a385c1a18bf73ff263f530f00cee4edd886e2b': 311.2380000000005,\n",
       " '0x23400cd87ec153c8d899254a5bab74e3a2009cc9': 310.8243000000001,\n",
       " '0xe04900b5646d5378d08f9bff5d5ea43f460c91b3': 310.57399999999996,\n",
       " '0xa456216778a456c74802307ac668c988b6b46f11': 309.50588999999997,\n",
       " '0xcae0ac7d4a5caab1880a172910b57291cc38e764': 307.67499999999995,\n",
       " '0xfda9c682976945df1c630b3c851947a8dd05d4c9': 307.350808767,\n",
       " '0xaaa2f0476ff9afb51462276d95ba3c4621437bc5': 305.00750000000016,\n",
       " '0x874c7f9504b41a7193819179796a5265b8654d48': 305.0074999999998,\n",
       " '0x4bf4cd3ab0bd34f3f4febb344bc3e3fe385cb182': 303.4639,\n",
       " '0xe1c66fb3be7b06766838b9315666aecc370dbc92': 300.92700000000013,\n",
       " '0xda7eb8e1b2adc58a84be474dad972f203d9e05a5': 300.62760000000003,\n",
       " '0x0ba248d14c1edeeff527854024c41fc60fc2b42b': 299.80875000000003,\n",
       " '0x889a925fca73d3f0e96ac7c7da2edc29867655b8': 299.78999999999996,\n",
       " '0x82b1f29c5608238df2618f996827933c0d844079': 297.10980000000006,\n",
       " '0xf14fe0040307173151d1eb719fed38c8f56b621b': 296.40374999999995,\n",
       " '0x50f23c248f6038ad5a01ba888324e41e60e63b34': 296.364,\n",
       " '0x876b97a07cf9b865e45babf93a689d9cac9c8af8': 295.16499999999996,\n",
       " '0xe4862e7c32739fa642ff6ef063c1f474b82d499c': 288.10896799999995,\n",
       " '0xa1e6ddfdcea82862b138959b1fb0e1d4acbe9777': 285.22159999999997,\n",
       " '0x5ef6fee657e19139377eafa1e30db6b5ab147969': 285.019412,\n",
       " '0x85dd9d68c2bf4447cfb14dc4a20544283e7fb971': 283.28324999999995,\n",
       " '0x2501f218f97d9ce49cb0a16be62fba8209ab2bca': 280.7398719335938,\n",
       " '0xaadf0ab7d61599726abceb375657e455397ce88f': 280.576235,\n",
       " '0x07c94679463359043e7aa917a3b69c1a1e3e53f6': 280.29747429,\n",
       " '0xf48d407b1e508992ca3e911613bc7b499e8adace': 279.39750000000004,\n",
       " '0x2aa89c123b1c581e58d858cb9010d6f311ca927a': 276.65999999999985,\n",
       " '0x6a316f344bda31e6687173c97c839c7160dd2cd1': 275.39625000000024,\n",
       " '0xcf73f09322207cfd4b9e2813bb8fc3b13de6a039': 274.97900000000004,\n",
       " '0xdf66c9260fc66d4631b9479dcbe3b059bd48d333': 274.15849999999995,\n",
       " '0x2aaf33700f6c9a0c5578b802f1d60ea3cea16207': 273.47925,\n",
       " '0x6c7ce9f8afa19976f8bfa233eeed5b0a72d4e16c': 272.79519999999957,\n",
       " '0x9a04a6944114df6dc5e8d61c9b02db3ce4248df8': 271.83596500000004,\n",
       " '0x6c3e007377effd74afe237ce3b0aeef969b63c91': 267.66149999999993,\n",
       " '0x975e8a2da745c3ed3c53b7130d421320ebc6cb60': 266.8935,\n",
       " '0x82ccf5ed8f713281b1be7d12f64a614e20c3bad0': 266.698449059024,\n",
       " '0x7ce860caf42aae1a2094669bc367e9bf4f4074ed': 266.32599000000005,\n",
       " '0x9e3b4c10dcc866646df0b5bca2b26221f2b7cc0a': 266.03787451249997,\n",
       " '0xd01c694aebd0e051df4b233e65a4d6a8ea84adcb': 265.1412,\n",
       " '0xcacd733b0bc14993c05d11338ad2dcbb401bc629': 264.94500000000016,\n",
       " '0x284a5dd5b0e0d5fa143e62c56bc2c71ecf006e32': 262.2385999999997,\n",
       " '0xa9ec7e4ef02e904bd2cb373c28847f28cb70ee9b': 261.5305000000001,\n",
       " '0xf3fda8af1a684eb9820276022be8a093fe4612b7': 260.75403000000017,\n",
       " '0x1ddecbbc13d9c5af83d1bed6b1a97805d58ba478': 258.66530999999986,\n",
       " '0x8111373165826b70538fcf39e0bff1b4d5050b21': 257.4,\n",
       " '0xe42ce5e685bcfa07c004cd95b92b297d33b71c3c': 256.44749999999993,\n",
       " '0x81e5cd19323ce7f6b36c9511fbc98d477a188b13': 255.19800000000004,\n",
       " '0x8181ce5b9e32b8ef2b5dbe5f4fa78fc40f87a8d1': 254.9626,\n",
       " '0xd6ec551b47292b034f97d9b8d9695379467e3bbb': 254.19201949999996,\n",
       " '0xd85573d5ae0a1d9abc2ee0439902acdf83c8b4f9': 253.45889999999997,\n",
       " '0xd580d7572a7d0607c50a6e00fa01c4fa4a27d05e': 251.24657500000026,\n",
       " '0xb091fdd28bc54c836d1ddf4671c918c247940622': 250.03600000000006,\n",
       " '0x550e970e31a45b06df01a00b1c89a478d4d5e00a': 245.87829999999985,\n",
       " '0x34cbd8180199d0a34697e58ef8aad9533f0da4b7': 244.3352250000001,\n",
       " '0x63af0b9a6597dbbbfae45938e7a6929660ea0be1': 243.882,\n",
       " '0x730277d3e3e8d4cb4572006f758aa5589bda549e': 243.2899999999995,\n",
       " '0xc21ee9d3f8afcf3312b0c5bb664ca1fb3100bb61': 242.5519999999999,\n",
       " '0x0d67846b640ea3d7e7ba12206b3d73b78adece53': 242.49406500000003,\n",
       " '0x7176c6f344b196cc378067998469d8c2574bd0df': 241.5239145,\n",
       " '0xfeede1b73d0ec74e5b1d78b0ff370718820e58db': 240.64260000000013,\n",
       " '0x0945255148a4e0fafb31af7964d67a827442c8fd': 240.57750000000004,\n",
       " '0x3631a6b1318a73dd2dbf890713a8aaa2c98c9a50': 240.23340000000002,\n",
       " '0x02c1617d7bb53f51c5e3bc38fc02432e38020152': 240.23340000000002,\n",
       " '0xfbc508e669357fcb20a37f7301f7f6b9be3127d6': 240.03344000000018,\n",
       " '0x73d97c30603b73cf4ccde4934c6027a9599d861d': 239.39409999999953,\n",
       " '0x9b411116f92504562edcf3a1b14ae226bc1489fc': 238.57725000000005,\n",
       " '0x9260ae742f44b7a2e9472f5c299aa0432b3502fa': 238.1221,\n",
       " '0x5bf86833d9561587ca9e77b6856e3b6d6a71d2ed': 237.72291499999977,\n",
       " '0xa5c72ec6047fb0d410ea04c87fd7bd27d4e249be': 236.442,\n",
       " '0x62f12407d27b8dc6e13fe6dadc9a78dbbb40510b': 236.34064250000006,\n",
       " '0xd3518ddfa4d19d072f3ce2263a9746dd9c081188': 234.6033,\n",
       " '0xe72e6e6dfeb549e91e671b0f2fa763f15fc229a8': 232.50645000000003,\n",
       " '0x81b5ec3be3d9339299e56665d8206d4d28ece898': 228.344,\n",
       " '0xd525cd6f1a42645e8a36d5f82f39d14d64c169b0': 228.29485779767072,\n",
       " '0x1d38cb844733005e7cda0310f9441fae7976bf24': 227.76930000000004,\n",
       " '0x45e6180f17f6636332c3a2b95850bafd6a965621': 225.291,\n",
       " '0xbce6b950a69a075e4ba8270f13aecb3a0c467e87': 224.44000000000005,\n",
       " '0xd0d07d7a24b531e7f79c2f0ac4c6d7a832236aba': 224.27150000000006,\n",
       " '0x53988d2cebf9376d9e2ed6883af7a334a6ff0606': 224.27150000000006,\n",
       " '0x4bdf65a39577c11c4b8752c9e953a373cf68b567': 219.44510000000002,\n",
       " '0x7bcb24dd3ae2803b8ff1ac7314411460bc28b476': 218.94767554999999,\n",
       " '0x7a97484f57d98a62b0195d79b9600624744de59c': 218.39130883499996,\n",
       " '0xbe678ae89b033e610d3b3fc2b12c06992198eff9': 218.32800000000003,\n",
       " '0x90f7a08e05c328377a21fb470df8f40f80766e24': 217.63100000000003,\n",
       " '0xee96703614ea707b0b99ecb55da74c04ff70f2ed': 217.63099999999994,\n",
       " '0xf1e1c701b49b1dc2405a9e8ef40f9f88802b80fa': 214.8310650000001,\n",
       " '0xff33f5653e547a0b54b86b35a45e8b1c9abd1c46': 212.44862499999977,\n",
       " '0x19a88cfc0b097e6f9f2bfdd0cc18765e169ca05c': 211.05360000000002,\n",
       " '0xcb8a3a5d3cb94622e9996d17b2cb0adc5450b6af': 210.65200000000002,\n",
       " '0xd89f88ab81820ab109689fabf47d68c35b7888d2': 208.07605000000007,\n",
       " '0x20d21846819ed762af966d0f60b533de601fdbdd': 207.37977,\n",
       " '0x68b42e44079d1d0a4a037e8c6ecd62c48967e69f': 207.29191461729238,\n",
       " '0x682f4e6ea3cd1e4f87760d7e98bd066ba2296e8b': 206.90775000000008,\n",
       " '0x007880443b595eb375ab6b6566ad9a52630659ff': 206.32500000000002,\n",
       " '0xf3a16fa6f7d31c67858417354fc35a9a7162cb90': 203.82134,\n",
       " '0x2716d326f4f8be1a6cf6cbac1c732ca66d93cc69': 203.71249999999998,\n",
       " '0x6ca76ecf0b6378a0438f94961eb8126849a15a39': 203.68100000000004,\n",
       " '0xf096e0d009dd024e5cff8075a7418b5712f0cc7d': 203.15624999999997,\n",
       " '0x8d7c9ae01050a31972adaafae1a4d682f0f5a5ca': 200.06960000000004,\n",
       " '0xec05d4f048e0970a5fb323207c8242920aa828d6': 197.3055,\n",
       " '0x016341ad123dccebb00e5d6c205f28b43a5f4e1e': 197.015676,\n",
       " '0xbe4604f82f9abf3211344aef0d7152c95882207c': 196.7055399999999,\n",
       " '0x88f1e48d612ce20255077d4fff247d990a1c874f': 195.9300000000003,\n",
       " '0xcd248c5ccaaefab0a09a74a6f3d241dd67326824': 194.24079999999998,\n",
       " '0x7576f5a6d32d24e2d2e4fa8e36ff1cbb91fa34c1': 193.88924999999995,\n",
       " '0xf7ccf7b348f018893159d690d24bb01b4869b131': 193.52025595000003,\n",
       " '0x52329bf439af2381ec3a22cf702d9f82562f820f': 193.07500000000073,\n",
       " '0x9dc5e6140a1c30b72e1d2ddf50e260ec4f939c7e': 191.27400000000034,\n",
       " '0x84620a9f18969f3d38c4997c8b82b59e773d80bf': 190.730345,\n",
       " '0xe67b18b27db897ff71994a6ad3890626620e580a': 190.67664999999997,\n",
       " '0x2ba4e031f39394473c699629c4f03cb7f4df044b': 190.15499999999997,\n",
       " '0xbc3dd36398e2b5b23f0001213545e91d25109611': 190.15158000000002,\n",
       " '0x766917c3ee4aa5164b3a6f01363865efa8ce6ffd': 189.483,\n",
       " '0xa616dc7340e9d6a93b200ad01b1e42ce442fada1': 187.5017408,\n",
       " '0xfb0c603e7d038974c1557a04a900ebad3933743d': 186.7428,\n",
       " '0x0738c77f9b1b61ad32ec9ac80f018547d5cbbc7c': 185.22499999999945,\n",
       " '0x11f42abcf0985e1fa5a961d846412f5a3d75b8a8': 184.34279500000014,\n",
       " '0xfe52d358ef962255d2a6a31046365cba0954f660': 183.93304999999998,\n",
       " '0x7706e50f201c32bdd341970db68378b1e3bd0928': 183.84499999999997,\n",
       " '0xf1b299dbefdcf8f65af04d5ddbad8f8ff7e58f14': 183.61199999999917,\n",
       " '0xf621d3313ef97c2c9e9093daf8dc30750ad01762': 183.3129,\n",
       " '0x1b1ef65bb57862c88fb3ca5aaab8746791928485': 182.58690000000018,\n",
       " '0x3dc118a44e4bde24d2d62d8ead994c0acc97093f': 182.441265,\n",
       " '0x054f0c5fa777afba04e977b9697fef8086da33e7': 182.06500000000003,\n",
       " '0x7758c3990d391b69321e16550af2b4f1bf06ed54': 182.0050000000001,\n",
       " '0x013fde2b2f4a410b734148951d2862abc3602931': 181.54979999999978,\n",
       " '0x0dddc679028c2171ad0f5acc2336fe7d5e6231ed': 181.3385,\n",
       " '0xbaf591ae584e5592f0a836e2c6028b9fff88fd7e': 180.08610000000002,\n",
       " '0xa4663e48a4e2565d4d7c0ff85321294e2a313cfb': 180.08175000000003,\n",
       " '0xc8a17cd61386a1b4f531d2a4ca6517280ec1b4dd': 179.48104999999998,\n",
       " '0x11d3e985275b40931dcb71c8b0dfbc8673503209': 179.37723999999997,\n",
       " '0xdfe8beee223412f316baf2968b17527d6eba29f1': 178.61649999999963,\n",
       " '0xfe955fd76d50106e517bf755f4c6f4b36af3a106': 178.33315,\n",
       " '0xc2e76b4c0e3cfef8a69bbd82e99a5bf4c828e987': 178.26350000000005,\n",
       " '0xa8fe87e7a25570b70d982db339e63f8ba1efb30e': 178.202,\n",
       " '0x2fba909aed4345ac0c67c75c51d955f822b14629': 177.68199999999888,\n",
       " '0x92e216ac6dcd7d67f138443f95fdc83bd7dd398f': 175.7693760000002,\n",
       " '0x84572c31acdd30c03982e27b809d30b1efbcd8f2': 174.87899999999996,\n",
       " '0xd7e4b4d56d0f3b646eb8359e932acb9908e72bb3': 174.08595000000003,\n",
       " '0x8c94072567b278b9fa12192cca899b3ce0ed5fdc': 173.71584,\n",
       " '0xd779dcaf65fa9a54875d4ba321510e92448c43f9': 173.23850000000004,\n",
       " '0x33c2656b7b33461f346f697d998d89a110eb42ef': 173.2304999999999,\n",
       " '0x42d97b2d395c6ab73c43c37e9d9789261dce0b8f': 172.8250000000005,\n",
       " '0x5941da3838b9cc4ea070efee95faf0e9d8898d3d': 169.6532073,\n",
       " '0x26464fe755434839a98b638234f690c02983d7ae': 169.3875,\n",
       " '0x454c4f593154c17aa8d82d04bf9ccb226ea66ca1': 169.10145,\n",
       " '0x2cc480e7390ccedd4d7e92bb35a8a3fc7f1572c8': 168.16569983981478,\n",
       " '0x11eeef750e73d0d6a1df9cce94056c33780825c9': 167.4504,\n",
       " '0xf5ac187da273c2c645a2e8327c9c3d2bb51f7a88': 167.2615,\n",
       " '0x44dc7c0fcc8409449288c5aa479ef3e00732a913': 167.01690000000008,\n",
       " '0x5ea1ab706dcd8b60aec34f131ecd454e75c197f2': 166.29300000000023,\n",
       " '0x4aedd7c63de9cda8415eb3756555dc58723f86b6': 163.925025,\n",
       " '0x279436c456a495a07c021d2f248cda5c44f911e2': 163.414965,\n",
       " '0xdfe6f7eae086661c77c8a2e2205e5dbbecbbc820': 163.36755,\n",
       " '0xdac01f49d87f128f48a8ff854a8b52ef7934c83c': 162.3721500000001,\n",
       " '0x70b26a35f8f308ef8286798c33b4f7a1811c7630': 162.25067420000002,\n",
       " '0x0d3782280d9423bba14d6d1d93aead44c280fa64': 162.2297725,\n",
       " '0x7f49d2433444ece2e79013afda1c491ee478bd44': 161.47624999999965,\n",
       " '0xe2d128323cf7560a6e7a82726d7b425aedc7a556': 160.69617342693732,\n",
       " '0x7d1d85af21698fab0e9923608159c44d5073a103': 159.86000000000035,\n",
       " '0x20d72fa2fd0878ed73268986d2f094664830d32c': 159.06600000000003,\n",
       " '0x64ea1ac46f2c9c3ec3e8c4fa7bb8cbf40bbf94d3': 158.40324999999999,\n",
       " '0x8dc287825d71f758bab052608ba8a4f156f84176': 158.39694100000006,\n",
       " '0x80c4596743aa758d0a08df8b3f11c613c42e9953': 158.10599999999977,\n",
       " '0x75ca0ef1f46a6fc7aad6b19d3cdc045850f29195': 157.93470000000002,\n",
       " '0xeef789304fb1b11cd409e67e203e44eb833e399f': 157.92312499999997,\n",
       " '0x48914c5fa86aa9c4c7a87f50f03290c8beb74d7b': 157.66047,\n",
       " '0x8f87854e839cfa958ab816613606af1895b1132e': 157.26399999999998,\n",
       " '0x76bb78f9356c32ba3e4c77acc20a3db0b5d7c3f8': 156.774,\n",
       " '0x88fdbee9e614c9c34c779f4f078e9d0cd3117e4f': 155.72400000000016,\n",
       " '0xc90fddaf0df1a8c4014d3a6ee934df81ff61246f': 153.27075000000002,\n",
       " '0x5d49c7f7330907fd67401782f95d93c3ff7305dd': 153.13740000000018,\n",
       " '0x78946120123ba90853ee32d3e6be6ce52f3fd109': 153.04200000000014,\n",
       " '0xcb11bd53ce375374c35e07e20d26951b94cdc72f': 152.46749999999997,\n",
       " '0x721931508df2764fd4f70c53da646cb8aed16ace': 152.208,\n",
       " '0x015fa3d623ea77ced9343e27233323fd8c20088d': 151.555685,\n",
       " '0xcc61aaafaac195706ccb5e59e48fcbde7afec199': 151.21777500000002,\n",
       " '0x044d8f24a0f6ffa6dd99757e9eeb683789125552': 151.17675,\n",
       " '0x38148ecc2078da7f65e6233dda28efaf4c51e96f': 151.15584125752315,\n",
       " '0xb02690b16fd8696ef13a63e3272404b3ea12d00e': 149.98300205,\n",
       " '0xada351aaeb6936759d54d8d00b2949d21afeed28': 149.7589,\n",
       " '0x47e2bc7475ef8a9a5e10aef076da53d3c446291e': 149.61938,\n",
       " '0xd4d350e0e7730660e6cdf532d613cdfe775d6513': 149.47054099999997,\n",
       " '0x14287e62b859a3a5e19b3c2d59ed1f12ac94ba4c': 148.7812,\n",
       " '0xe55e914e86f09dc19f19784ca88ee1b61b38bf90': 148.73954999999995,\n",
       " '0x301edf6987550361ab22d3f9fd3898d58cec595a': 148.3323500000002,\n",
       " '0x8d09aeac57f577e78e2c1501d8873eeea3b1c0e4': 148.254935,\n",
       " '0x6d9148e201304aa9cca58a759a134a3fb58fe718': 148.18200000000002,\n",
       " '0xfc2a616d48a8681250aaaf590404e20812e96cfa': 148.18199999999996,\n",
       " '0x8ad2f93e7c2621ac756a22aeebdad6ff0aa8bc2b': 148.11900000000037,\n",
       " '0x9463ea1dadf279e174e1075b49b8b7a13d1e7293': 147.92535,\n",
       " '0x26c1e466ce41070585d6876dc17b7bd9295c41d5': 147.76021199999997,\n",
       " '0x8ba922eb891a734f17b14e7ff8800e6626912e5d': 147.6713000000001,\n",
       " '0xe0f94903b58dfb0afb14109fac17e2c41ed78f47': 147.156,\n",
       " '0xb02fac84cd5e785e53684e71a8ffdcdd823b2e4e': 147.156,\n",
       " '0xaa85e4b7f9edd15c02a41bd32ac5c0ef385bd018': 145.98000000000002,\n",
       " '0xca4a5ba3650b6eecb99e33f81659036c5f7794e7': 144.79245000000003,\n",
       " '0x2a0bc9f2cc3936cfc7d4847184e444914147600e': 144.2334600000001,\n",
       " '0x8b2e456b964391913920fe2592fb0f4eeb20dc5f': 144.13610999999997,\n",
       " '0xf9e040b9ffa696966326ba930a0d3eda458478f8': 143.36599999999999,\n",
       " '0x3df26022c6b56f41128185596f6ef4763f8819ec': 142.32906,\n",
       " '0x2fe50c88f228dacfc24100de0c5167aa7a539dc6': 142.1146242,\n",
       " '0x1c778d77dc669045118c4ebd0300c44b7de133a8': 141.11360649999995,\n",
       " '0x1fe1a3573ec41fb3078a28fded94e67882d9e821': 140.20598,\n",
       " '0x3591d4291e027b86b99c779c2bbf866a822b1567': 139.85902000000002,\n",
       " '0x1c73c6174eb2fddc2e0a702e85cd3146c05aa122': 139.77550000000002,\n",
       " '0x670e1b5dc2db6af9094ddefb4d356ba2e60aba8d': 139.77550000000002,\n",
       " '0xc7857ee5eda65bf466ca56c90a0949d486cb8ffd': 139.28999999999996,\n",
       " '0x61ee0c05c3a9790a4e5ef8cca97d7532df20375c': 138.87517500000004,\n",
       " '0x9c854d8dbee771130c56db65784af513f2900800': 138.7495,\n",
       " '0x87cbc817b9dd5fe398c148e46a882eda7dc4372c': 138.60664999999977,\n",
       " '0x71be99c9b5362ad07f7f231bc7a547f4119c6073': 136.15108,\n",
       " '0xbdc7a955505e20410061744f556f6dec761bfb8f': 135.48026,\n",
       " '0xe0fee61dd3f51ea3a56637a35a3bde309a6a4034': 134.60749999999962,\n",
       " '0x2646de5603ec6b257f73d7857659261ff05bca2d': 134.18796075,\n",
       " '0x291502048a3396486cded59288df83fb9cc9d1cf': 133.18200000000002,\n",
       " '0x1ce812bd69fd9be230229d54c3c459ca4cd83f1c': 132.61899999999997,\n",
       " '0x308dffb0c21afd88e5e104427e106c1128f8e660': 132.16549499999996,\n",
       " '0x1a05c1c5aacdcd9bcfa322b9c57cca46a9dc1e42': 132.08335999999997,\n",
       " '0x86e578946d012b73c4b62070af5c8c9e62d5a22a': 131.83345,\n",
       " '0x1d5c30676ca03adae00257568b830c8d424a1e53': 131.1255651763603,\n",
       " '0x3101a390825e9085aa0481f37e2537d53eb154cf': 130.3199999999997,\n",
       " '0xdfc70f5205a2bc1bd44219fd852d720d7a36c5b8': 128.988,\n",
       " '0x0fd85817e1a9fdcfd0ede6db759193fd82d65678': 128.90749999999844,\n",
       " '0x53c1ee14ab9119aac27ef6dfc7f6ed7e55510357': 128.45905,\n",
       " '0x63ee555f1fea9798f09069b4830cbaa7e6e251c2': 128.45905,\n",
       " '0xd2bc1f7aa08aa13409f984b7c5580cb89832dcbc': 128.3465,\n",
       " '0x610ab12d1ce57e49c4f4e2f00a8f7e9da67cda8f': 127.67362500000002,\n",
       " '0x1cb06bf6279b87b831610c88bbe9b58ededcbdae': 127.11540000000014,\n",
       " '0xf5ce972e2c8ed6c20cede1c1052136563ea62efa': 127.08445349999995,\n",
       " '0x41f33855fe7bff95a6d8204cf93e8905cefa0485': 126.91321000000005,\n",
       " '0xed0399d294fe1a46048ec6074050fb6505d361b3': 126.40899999999988,\n",
       " '0x44f299a7b638e93d44a925aac1cb8b7b8493ed6e': 125.78399999999999,\n",
       " '0x61592a6f682bbabfd743aa7596ee269e7448212c': 125.558204,\n",
       " '0xc36c30ccc4f1e121768ab9ff72eb05e5b4a40637': 125.4253572,\n",
       " '0xf51490b452fd12eae4674005343002b37db2cb6c': 124.27725600000002,\n",
       " '0x8124b02b4967bd7338a450420a572d574915ff9c': 123.9793147822414,\n",
       " '0xce169b394ef810d7dd3e450404d1267fe72edb1b': 123.36644999999999,\n",
       " '0xbf1b8a4bdbf28beb8bc40621b6cb782b750e8028': 123.00434999999999,\n",
       " '0x3abdb5618cb8376102e7e708483cfdee8323c475': 121.95106000000003,\n",
       " '0x0f4fe3ae1754742ac42c6fdf3ea9512a8b1b097d': 121.84914000000003,\n",
       " '0x847ed2246b76f86885db6bdcdd7bb20ebf404a54': 121.13302500000015,\n",
       " '0xaad11a37b820f7981b66a41aaa03c076867f1705': 121.02885000000002,\n",
       " '0x9e0149f7cc28c93a3b5f76ab3e8a2a22d14435b5': 119.77274000000004,\n",
       " '0x28a3022841cc4d307283e320d8ef8dee7ad606e9': 119.30487500000004,\n",
       " '0x4c680cf916b675e6f97c8d1ad19ef0b47e00882c': 119.18958,\n",
       " '0xc4369fc524c88d98b2267bc686e5b98215a34620': 119.146,\n",
       " '0xe0b33ba02b7fcae6583b1b811ca657f2fc85079c': 118.57124999999999,\n",
       " '0x6edae6dc599452915806fecb51cc1032c3d9dd65': 118.5615,\n",
       " '0x7054bdfa61dc8c1baa1d5de76ba7ee1b4ab791d9': 118.30408500000001,\n",
       " '0x5acfad7c03a64696f6a50858aa7daff7883f1fb6': 117.87610000000001,\n",
       " '0x3d4714e10f17a17bc4d2de4c5ee0cbdf07de351d': 117.52197000000001,\n",
       " '0x2328445ff327f931a6f14728b61e283b5330d38c': 117.2709999999995,\n",
       " '0x717ca90f5d6f64148f6bb665a2b9be05917c03d6': 116.98665000000001,\n",
       " '0x796f2f1f3dd42d8acfb03aec7134aa14a84ba268': 116.92574999999954,\n",
       " '0xcad9443b9b711456c0ed941ab419a518a58b0d3d': 115.25789999999999,\n",
       " '0x1b366f42d0478aff04c77105b4e994fa574dadca': 115.07514431999999,\n",
       " '0xc9ec1ea551ce8b0d958f518f855058c57f91fb5d': 114.82230000000001,\n",
       " '0x325573eb1c1f9502ddebccc20b3d83a78e51d638': 114.15749999999997,\n",
       " '0x979f8cdc881fed1fc76f809eea3859b01264861c': 114.1158,\n",
       " '0x115b72c42fa4d48777a26f612a26bdecf3d40b2d': 113.50137000000001,\n",
       " '0x0c2c93ea3c274067251f83d71189df330862cd81': 113.392555,\n",
       " '0x45a18a25f08a52a222761269c5f030ce21228950': 112.23929999999999,\n",
       " '0x31e99699bccde902afc7c4b6b23bb322b8459d22': 111.723,\n",
       " '0x07a6d58cac8d98af26508635815ce1e56458c5a2': 111.70200000000003,\n",
       " '0xa1ecd08be7bf7c1964ebb0411cbf46017d5cf90e': 110.8620000000002,\n",
       " '0xae56876e5edfed2d774078bf305ae8f6ecec321d': 110.09200000000003,\n",
       " '0xd8a7e3cd6f86a438d010678b6a36ffe6b75cf12b': 109.88749999999993,\n",
       " '0xa90a1452ea66fa8912f5473ec46aaebe65e7306f': 109.19511000000034,\n",
       " '0x63178078ab0bd8e2005f4bd1daada642af65fdaf': 108.90217238631368,\n",
       " '0xb618aacb9dcdc21ca69d310a6fc04674d293a193': 108.2315,\n",
       " '0x592234c63ac3c816b0485761bc00fc1b932d18fd': 106.93274999999997,\n",
       " '0xb21f75c5eda0ff5aea193182a8267a6e6357bac5': 106.60850000000028,\n",
       " '0xb143a67abccf3c49d38bcd6439d64b6cc36f220b': 106.60850000000028,\n",
       " '0xb9db0a3f7def650bd918909d09430d21c0b32425': 106.18265000000002,\n",
       " '0x3b851ca7c6a681add7ab6b098dbabf1ae99aed99': 105.933,\n",
       " '0xcbd2f544073eb35b59a8eb19194a222a5361cd74': 105.06420000000001,\n",
       " '0xe22e1e4d7f4c4990a2567c3bcd2f97aa73943a46': 104.91699999999992,\n",
       " '0xabd9d7c626033b49559bbcd8a5301c326ec24586': 104.37544999999992,\n",
       " '0x760aafc261881f1bb0587ef76f0db9c592f7337e': 104.19866887500001,\n",
       " '0x6d952d848d5203c04bc34ed68e6a568b912dacea': 103.89999999999975,\n",
       " '0x216f8095d417d2c6cee649c918d3351121b2f40d': 103.70608499999986,\n",
       " '0x48c94e8f4c0f0a125bed72e292c8dc84673e4dfc': 103.6797498777494,\n",
       " '0x2a961dd93af08f66a4cb3251fd355c7a878eafb5': 102.94877999999997,\n",
       " '0xe04cf2f3f194a3efeba2201f0acd23243244ff0d': 102.34024999999997,\n",
       " '0x19b43537292570dc60a5746b904d1b43aa07277d': 101.60329949999999,\n",
       " '0xf2787bfd9525c5db0d8715785e85357838254a8b': 101.41350000000001,\n",
       " '0xf3d9281fa183b74f32b96e1c5244596045f4ede8': 100.69200000000001,\n",
       " '0xc56d6cff03b337e12022b7b531aa43e1ccf08240': 99.87738809999999,\n",
       " '0x04a6a57197067156bb3f39de71d35e6d24cde9ac': 98.6169,\n",
       " '0x6e06d2cb811ef388eeae4a36eba2389aa87f1067': 98.30400000000031,\n",
       " '0x8db8b84bc44725a611a98faa740131accf2b0f54': 98.13028499999999,\n",
       " '0x16205a6048b6af17f1ac1a009bbf2ed9289e6921': 98.03205470142396,\n",
       " '0x53db06881e8f040190a3778a21bc86a0122793d9': 97.85700049999996,\n",
       " '0x44424c777a8710cd583188d4d3126b7b03320d0f': 96.77075,\n",
       " '0xd9f22fadb01987622dd6137c5f3beada5f480458': 96.76124999999996,\n",
       " '0x606021d18399e549c17162c721d045c62939c5dc': 96.70562000000002,\n",
       " '0xa5be2525f9a567d5034a8f14d53bb6cbe8272d25': 96.39903000000001,\n",
       " '0x79c037ca85613bf0fd3d9e574a722a75436d838e': 96.228935,\n",
       " '0x8bce57b7b84218397ffb6cefae99f4792ee8161d': 95.96249999999999,\n",
       " '0xd75c793efd902f6f64a4d1ddb641554076c17468': 95.33969999999988,\n",
       " '0x4350e6a5c30a9600aac4146228681e4ed043160c': 94.53740000000002,\n",
       " '0xaea488cfab2741946b6d4d931b04ee8e5db19bae': 93.97654404465456,\n",
       " '0x887b86b6b6957f7bbea88b8cefd392f39236a88c': 93.17520000000002,\n",
       " '0x12aa4f0e1a5163d357519a4638af46328abe32ad': 92.08620000000019,\n",
       " '0x16f33b4978301453a9ca8e6b33d1e45f3a8dfdea': 91.79874999999996,\n",
       " '0x2fa863a450cd5b82adf910d7ae8ac1de686d01a8': 91.61613000000001,\n",
       " ...}"
      ]
     },
     "execution_count": 62,
     "metadata": {},
     "output_type": "execute_result"
    }
   ],
   "source": [
    "traders = {}\n",
    "for x in data:\n",
    "    buyer = x['row'][4]['buyer']\n",
    "    if buyer not in traders:\n",
    "        traders[buyer] = 0\n",
    "    traders[buyer] += x['row'][4]['profit_usd']\n",
    "dict(sorted(traders.items(), key=lambda item: item[1], reverse=True))"
   ]
  },
  {
   "cell_type": "code",
   "execution_count": 63,
   "id": "45c637ea-63ef-4c9a-b2f2-76375b9449e2",
   "metadata": {
    "pycharm": {
     "name": "#%%\n"
    }
   },
   "outputs": [
    {
     "data": {
      "text/plain": [
       "{'0x879c2ee5adc372d0542d65d80ebfe647ac1a5f10': '..',\n",
       " '0x93207b8c861cf2b96a92c41d99da0e9615f1a3ea': 'metadoge.eth',\n",
       " '0xe72eb31b59f85b19499a0f3b3260011894fa0d65': 'heeee.eth',\n",
       " '0xb166dd9d114c59774a13c3291e7d50ec74f23dfd': '..',\n",
       " '0x0a2542a170aa02b96b588aa3af8b09ab22a9d7ac': '..',\n",
       " '0x59a5493513ba2378ed57ae5ecfb8a027e9d80365': ' Sybil Delegate: iamDCinvestor ',\n",
       " '0x4a17fd7aa0d240599cf13d670dbde7e124adcfff': '..',\n",
       " '0xb1adceddb2941033a090dd166a462fe1c2029484': '0x_b1',\n",
       " '0x7a37a180b143bf8b9b3875c0dcdbc6bca5b0050f': '..',\n",
       " '0x7397f163f6ef1d5ea97256e9bc081fd89353c3a2': '..'}"
      ]
     },
     "execution_count": 63,
     "metadata": {},
     "output_type": "execute_result"
    }
   ],
   "source": [
    "{ '0x879c2ee5adc372d0542d65d80ebfe647ac1a5f10': \"..\",\n",
    "  '0x93207b8c861cf2b96a92c41d99da0e9615f1a3ea': \"metadoge.eth\",\n",
    "  '0xe72eb31b59f85b19499a0f3b3260011894fa0d65': \"heeee.eth\",\n",
    "  '0xb166dd9d114c59774a13c3291e7d50ec74f23dfd': \"..\",\n",
    "  '0x0a2542a170aa02b96b588aa3af8b09ab22a9d7ac': \"..\",\n",
    " '0x59a5493513ba2378ed57ae5ecfb8a027e9d80365': \" Sybil Delegate: iamDCinvestor \",\n",
    " '0x4a17fd7aa0d240599cf13d670dbde7e124adcfff': \"..\",\n",
    " '0xb1adceddb2941033a090dd166a462fe1c2029484': '0x_b1',\n",
    " '0x7a37a180b143bf8b9b3875c0dcdbc6bca5b0050f': '..',\n",
    " '0x7397f163f6ef1d5ea97256e9bc081fd89353c3a2': '..',\n",
    "}"
   ]
  },
  {
   "cell_type": "markdown",
   "id": "aa52c612-7e7e-492d-8329-a11e92383fdf",
   "metadata": {
    "pycharm": {
     "name": "#%% md\n"
    }
   },
   "source": [
    "### Traders that made the most profits per cycle on average"
   ]
  },
  {
   "cell_type": "code",
   "execution_count": 64,
   "id": "17d7bc1a-e2c6-4465-9886-2912e7508e19",
   "metadata": {
    "pycharm": {
     "name": "#%%\n"
    },
    "scrolled": true,
    "tags": []
   },
   "outputs": [
    {
     "name": "stdout",
     "output_type": "stream",
     "text": [
      "Trader (0xb166dd9d114c59774a13c3291e7d50ec74f23dfd), 1 Trades, 3 Trades, Profit 49936.400\n",
      "Trader (0x597b4719d1e6692913ebfd29f8f59ba8f5cc4bd3), 2 Trades, 11 Trades, Profit 68180.962\n",
      "Trader (0x597b4719d1e6692913ebfd29f8f59ba8f5cc4bd3), 2 Trades, 3 Trades, Profit 68180.962\n",
      "Trader (0x4a17fd7aa0d240599cf13d670dbde7e124adcfff), 1 Trades, 2 Trades, Profit 29064.631\n",
      "Trader (0x93207b8c861cf2b96a92c41d99da0e9615f1a3ea), 3 Trades, 49 Trades, Profit 64137.793\n",
      "Trader (0x93207b8c861cf2b96a92c41d99da0e9615f1a3ea), 3 Trades, 7 Trades, Profit 64137.793\n",
      "Trader (0x93207b8c861cf2b96a92c41d99da0e9615f1a3ea), 3 Trades, 27 Trades, Profit 64137.793\n",
      "Trader (0xeca5ac6bad45c1128981d5a78baafec3a1e471d9), 3 Trades, 4 Trades, Profit 62612.560\n",
      "Trader (0xeca5ac6bad45c1128981d5a78baafec3a1e471d9), 3 Trades, 47 Trades, Profit 62612.560\n",
      "Trader (0xeca5ac6bad45c1128981d5a78baafec3a1e471d9), 3 Trades, 7 Trades, Profit 62612.560\n",
      "Trader (0xf8283d5f9ea151dd6710f7558de94d6cfba6198d), 1 Trades, 2 Trades, Profit 20840.891\n",
      "Trader (0x879c2ee5adc372d0542d65d80ebfe647ac1a5f10), 5 Trades, 69 Trades, Profit 99141.520\n",
      "Trader (0x879c2ee5adc372d0542d65d80ebfe647ac1a5f10), 5 Trades, 68 Trades, Profit 99141.520\n",
      "Trader (0x879c2ee5adc372d0542d65d80ebfe647ac1a5f10), 5 Trades, 7 Trades, Profit 99141.520\n",
      "Trader (0x879c2ee5adc372d0542d65d80ebfe647ac1a5f10), 5 Trades, 3 Trades, Profit 99141.520\n",
      "Trader (0x879c2ee5adc372d0542d65d80ebfe647ac1a5f10), 5 Trades, 2 Trades, Profit 99141.520\n",
      "Trader (0xd30874ca82901d41fe66ded3012909d81924a0b8), 1 Trades, 7 Trades, Profit 17173.352\n",
      "Trader (0xbf3c74d8efd7646db36df32c4ee518ac9e1237a4), 1 Trades, 32 Trades, Profit 13893.927\n",
      "Trader (0xb1adceddb2941033a090dd166a462fe1c2029484), 2 Trades, 2 Trades, Profit 27478.108\n",
      "Trader (0xb1adceddb2941033a090dd166a462fe1c2029484), 2 Trades, 2 Trades, Profit 27478.108\n"
     ]
    }
   ],
   "source": [
    "traders = {}\n",
    "for x in data:\n",
    "    buyer = x['row'][4]['buyer']\n",
    "    if buyer not in traders:\n",
    "        traders[buyer] = {'profit_usd': 0, 'counter':0, 'cycles':[]}\n",
    "    traders[buyer]['profit_usd'] += x['row'][4]['profit_usd']\n",
    "    traders[buyer]['counter']+=1\n",
    "    traders[buyer]['cycles'].append(x['row'][4]['cycle'])\n",
    "for t in traders.keys():\n",
    "    traders[t]['average']= traders[t]['profit_usd']/traders[t]['counter']\n",
    "\n",
    "sorted_traders_average = dict(sorted(traders.items(), key=lambda item: item[1]['average'], reverse=True))\n",
    "i=0\n",
    "for k,v in sorted_traders_average.items():\n",
    "    i+=1\n",
    "    if i > 10:\n",
    "        break\n",
    "    for sale in v['cycles']:\n",
    "        print(\"Trader (%s), %i Trades, %i Trades, Profit %.3f\" % (k, v['counter'], len(sale['sales']), v['profit_usd'] ) )\n",
    "            "
   ]
  },
  {
   "cell_type": "code",
   "execution_count": 65,
   "id": "1088a7e7-00e8-49bc-9f63-4388138975f1",
   "metadata": {
    "pycharm": {
     "name": "#%%\n"
    },
    "scrolled": true,
    "tags": []
   },
   "outputs": [
    {
     "data": {
      "text/plain": [
       "{'profit_usd': 62612.55990000001,\n",
       " 'counter': 3,\n",
       " 'cycles': [{'sales': [{'buyer': '0xeca5ac6bad45c1128981d5a78baafec3a1e471d9',\n",
       "     'price_usd': 8408.169,\n",
       "     'time': 1599708715,\n",
       "     'tx_hash': '0x2520df2030b45f83b1f1471bbe435d4606516e76190ca8660d8feb54f6b7d8fa',\n",
       "     'nft_id': '6929_Rari'},\n",
       "    {'buyer': '0x71ed1ed34474469f09622377801da0a35363d2d7',\n",
       "     'price_usd': 1081.0503,\n",
       "     'time': 1599711485,\n",
       "     'tx_hash': '0xb17351128f73c85d44273bcabdb09b572ea2c067782ace22a4c0e20a844e6b18',\n",
       "     'nft_id': '6929_Rari'},\n",
       "    {'buyer': '0x05913a70848be8964523a029b834d324a737c17a',\n",
       "     'price_usd': 9008.7525,\n",
       "     'time': 1599711703,\n",
       "     'tx_hash': '0xd55505fe478ea3a2b16c9fa6e2203b98334901da0302da954890cc16757ad119',\n",
       "     'nft_id': '6929_Rari'},\n",
       "    {'buyer': '0xeca5ac6bad45c1128981d5a78baafec3a1e471d9',\n",
       "     'price_usd': 54412.8651,\n",
       "     'time': 1599713789,\n",
       "     'tx_hash': '0x82db2f0eed444598ce26f1516f5c3762c656d82023fa38d7aef478b54dde0a00',\n",
       "     'nft_id': '6929_Rari'}]},\n",
       "  {'sales': [{'buyer': '0xeca5ac6bad45c1128981d5a78baafec3a1e471d9',\n",
       "     'price_usd': 1708.2697500000004,\n",
       "     'time': 1599685250,\n",
       "     'tx_hash': '0x9f44d3f6dd19406f55adf07887a23dffbc57e7414823087fa6aa1ac9ec5d83bf',\n",
       "     'nft_id': '6929_Rari'},\n",
       "    {'buyer': '0x339df4db958e19ad3b642baad7ad7f7dc3900ed5',\n",
       "     'price_usd': 3416.5395000000008,\n",
       "     'time': 1599685254,\n",
       "     'tx_hash': '0xabdde92523b5825019e4f2461969a2c19babf53d4732456f79ed701460d0f796',\n",
       "     'nft_id': '6929_Rari'},\n",
       "    {'buyer': '0x93207b8c861cf2b96a92c41d99da0e9615f1a3ea',\n",
       "     'price_usd': 44415.0135,\n",
       "     'time': 1599685277,\n",
       "     'tx_hash': '0x9ed7fc536d0ca9184b12b8a14d63c506c60a556054d00dcc29be32e68a89ccdf',\n",
       "     'nft_id': '6929_Rari'},\n",
       "    {'buyer': '0xb837b82d7bd9e4d5feefcc13bb9d72b257b87ee9',\n",
       "     'price_usd': 113.88465,\n",
       "     'time': 1599685311,\n",
       "     'tx_hash': '0xd4603c81dbafd72b868e2e589ece8a44b865cd8994a42e5591b1cfba33a26b23',\n",
       "     'nft_id': '6929_Rari'},\n",
       "    {'buyer': '0xb0c8fce2dc46e0e0373dda24d20ef9fe4a7d4466',\n",
       "     'price_usd': 113.88465,\n",
       "     'time': 1599685387,\n",
       "     'tx_hash': '0xde0c03304cb43d11c6b060ab43fa0e88b200108ff92a20e6ac2398358a5b2969',\n",
       "     'nft_id': '6929_Rari'},\n",
       "    {'buyer': '0x93207b8c861cf2b96a92c41d99da0e9615f1a3ea',\n",
       "     'price_usd': 37581.93450000002,\n",
       "     'time': 1599685407,\n",
       "     'tx_hash': '0x8515ede55c2d7e38441413dfb7acdfcf321350424e3ecb656f6d1445a1e4277b',\n",
       "     'nft_id': '6929_Rari'},\n",
       "    {'buyer': '0xe81226e4308ea4ab62fbd735965884f2014e00d2',\n",
       "     'price_usd': 113.88465,\n",
       "     'time': 1599685451,\n",
       "     'tx_hash': '0xd9b464c3a7b419f15d62b832f6ec121c94e6754afe0b274617f562127fbcadf5',\n",
       "     'nft_id': '6929_Rari'},\n",
       "    {'buyer': '0xbf3c74d8efd7646db36df32c4ee518ac9e1237a4',\n",
       "     'price_usd': 16399.389600000002,\n",
       "     'time': 1599685454,\n",
       "     'tx_hash': '0x8641b0911d566a3fbc2f700b414ef8dda9eab1a401c276d619c52bbae73ce00f',\n",
       "     'nft_id': '6929_Rari'},\n",
       "    {'buyer': '0x8f0926c20e32489ea84f8b8d251874aaa98c35a7',\n",
       "     'price_usd': 13096.73475,\n",
       "     'time': 1599685609,\n",
       "     'tx_hash': '0x89309d91cf54096ce32f742e0f83166773370ce2d3a8916ae6e336a4a298a1d8',\n",
       "     'nft_id': '6929_Rari'},\n",
       "    {'buyer': '0xbf3c74d8efd7646db36df32c4ee518ac9e1237a4',\n",
       "     'price_usd': 5010.9246,\n",
       "     'time': 1599685864,\n",
       "     'tx_hash': '0x51dbd3ebc336cd102b202e3118a2b28781198d37309aff0dffd6e0990eb3191d',\n",
       "     'nft_id': '6929_Rari'},\n",
       "    {'buyer': '0x1948f950899cc5213ef9ff7e543afbda16f86de6',\n",
       "     'price_usd': 113.88465,\n",
       "     'time': 1599686187,\n",
       "     'tx_hash': '0xc5f497c155c1bac120a529ce65e2fa5dcde934f33e3f763127697e7e4f43fe09',\n",
       "     'nft_id': '6929_Rari'},\n",
       "    {'buyer': '0x52f658f09f78bd8153beae59fb3099c2fb629fc2',\n",
       "     'price_usd': 113.88465,\n",
       "     'time': 1599686352,\n",
       "     'tx_hash': '0xce6fc750963ac28d9b853e9a7b9d2ba261cd0fb9b24975a5fa290628cf7cb44e',\n",
       "     'nft_id': '6929_Rari'},\n",
       "    {'buyer': '0x6941f45c846955cc077e459ab283e21b5a85960b',\n",
       "     'price_usd': 341.65395,\n",
       "     'time': 1599686426,\n",
       "     'tx_hash': '0x19718ad3b37edffcb636803aa93848a020c00455ee65d800abf573483f2c88c5',\n",
       "     'nft_id': '6929_Rari'},\n",
       "    {'buyer': '0x257473f80cb684d85d4d6a98babe7c552312517a',\n",
       "     'price_usd': 1708.2697500000004,\n",
       "     'time': 1599686571,\n",
       "     'tx_hash': '0x372d2d88a5579664f64a90ce8cd3fe19d13ef00a36dfe62fff5ef24764a5d0ff',\n",
       "     'nft_id': '6929_Rari'},\n",
       "    {'buyer': '0x25c7257f7acb51f1c409d3ac6fcbe4004d72d34f',\n",
       "     'price_usd': 227.7693,\n",
       "     'time': 1599686701,\n",
       "     'tx_hash': '0x7e8962ec1ee80924d832a4f28499bb41a9b63e929b1da661a20373c8b2da3e07',\n",
       "     'nft_id': '6929_Rari'},\n",
       "    {'buyer': '0x58f8b97a4ebb481731765e917ddeab1ac3fb200a',\n",
       "     'price_usd': 3416.5395000000008,\n",
       "     'time': 1599686726,\n",
       "     'tx_hash': '0x271a432cc044486a0bb834e539df00cbebe27a2c70eb1c5dee4ac82572f641d8',\n",
       "     'nft_id': '6929_Rari'},\n",
       "    {'buyer': '0xe594ce3f5a54b5b263b5c7e5a3e2c46bac13c239',\n",
       "     'price_usd': 3758.19345,\n",
       "     'time': 1599686786,\n",
       "     'tx_hash': '0x9dba47ac6c1a8969043fa297425e5a05cf9cb0259d3943061eb6f74007a0367f',\n",
       "     'nft_id': '6929_Rari'},\n",
       "    {'buyer': '0x8b5453ce381a1ab052f663aa57cc7746c3c47aef',\n",
       "     'price_usd': 341.65395,\n",
       "     'time': 1599686788,\n",
       "     'tx_hash': '0x1f1374bb402f70a423918dfdb4c1fda02131e4efbde6ae1e24dd940deab61401',\n",
       "     'nft_id': '6929_Rari'},\n",
       "    {'buyer': '0xb30a35bb3b3830626c97f0ea9b123a3d9439c468',\n",
       "     'price_usd': 17082.697500000002,\n",
       "     'time': 1599686808,\n",
       "     'tx_hash': '0x5e2ff5f6bc545081b5cbfac05677fabc97e32ecfb76cafde51968f8fa1ef6055',\n",
       "     'nft_id': '6929_Rari'},\n",
       "    {'buyer': '0x339df4db958e19ad3b642baad7ad7f7dc3900ed5',\n",
       "     'price_usd': 5124.80925,\n",
       "     'time': 1599686810,\n",
       "     'tx_hash': '0x27c947a83eea6dc48c37682a9eef4503af95c36db4eff83ef1613e13b015278b',\n",
       "     'nft_id': '6929_Rari'},\n",
       "    {'buyer': '0xb7dce1b36b8e57b9c9160cdb9daad16a9935319c',\n",
       "     'price_usd': 113.88465,\n",
       "     'time': 1599686811,\n",
       "     'tx_hash': '0xfc6fbcd90f72e523ac43d50f13777c3c244b58f0d58fd816994914b6af0547b6',\n",
       "     'nft_id': '6929_Rari'},\n",
       "    {'buyer': '0x72dd07903aee4f03697a3d585f21f7e107f4e6c5',\n",
       "     'price_usd': 797.1925500000001,\n",
       "     'time': 1599686938,\n",
       "     'tx_hash': '0x614e09bafb115299723ea425c95fc02883d06b250f3bd6a7707956b688b28dc9',\n",
       "     'nft_id': '6929_Rari'},\n",
       "    {'buyer': '0x875fb69aab3d9314198f705288d3ed29731b7b21',\n",
       "     'price_usd': 113.88465,\n",
       "     'time': 1599686941,\n",
       "     'tx_hash': '0x8212ec1f80d5f2c43ebef7b95f85e77b62882097c87cbea37c17451335f01a00',\n",
       "     'nft_id': '6929_Rari'},\n",
       "    {'buyer': '0x191390bf43d7d987684a7fb2a0aacfa509984a2e',\n",
       "     'price_usd': 341.65395,\n",
       "     'time': 1599686961,\n",
       "     'tx_hash': '0xfb8ac683b8aed57fb28f0d3a94c57db79f29db26040b3fa9f2fec7fec311e504',\n",
       "     'nft_id': '6929_Rari'},\n",
       "    {'buyer': '0x7ca4db5b87522561af454617a9e82955c7791c20',\n",
       "     'price_usd': 113.88465,\n",
       "     'time': 1599687080,\n",
       "     'tx_hash': '0x12bcd4a20725ebc0e9d8e12f0edb8322a42b67685ca248a6738dd232d45c7333',\n",
       "     'nft_id': '6929_Rari'},\n",
       "    {'buyer': '0xf9b425d86fe2a390105fefc8222f5cb3a16ba1b2',\n",
       "     'price_usd': 113.88465,\n",
       "     'time': 1599687129,\n",
       "     'tx_hash': '0xeecd43ae8ae8af2f695986673b9e2b8d8681d740f2a069e74762023f5780daec',\n",
       "     'nft_id': '6929_Rari'},\n",
       "    {'buyer': '0x674cc294039505a24ae04258549b021187274a6c',\n",
       "     'price_usd': 3530.4241500000007,\n",
       "     'time': 1599687257,\n",
       "     'tx_hash': '0x963ae14bd0d5baf49c8517aeb6d9aeb539e28d704cb380c13d8f7433a744bd4b',\n",
       "     'nft_id': '6929_Rari'},\n",
       "    {'buyer': '0x23095b1b0b08b53cd231211f2d818471d9801d0c',\n",
       "     'price_usd': 2505.4623,\n",
       "     'time': 1599687259,\n",
       "     'tx_hash': '0xd26ccdd0a8eacc78ffac16c65614afcfbe358fb9089bd543564822bc42fb4eac',\n",
       "     'nft_id': '6929_Rari'},\n",
       "    {'buyer': '0x191390bf43d7d987684a7fb2a0aacfa509984a2e',\n",
       "     'price_usd': 1366.6158,\n",
       "     'time': 1599687325,\n",
       "     'tx_hash': '0xba34335ebe46d263e93b93b8c3746b416c077c5692546a7ab3ea070eba1fb069',\n",
       "     'nft_id': '6929_Rari'},\n",
       "    {'buyer': '0x1d38cb844733005e7cda0310f9441fae7976bf24',\n",
       "     'price_usd': 455.5386,\n",
       "     'time': 1599687527,\n",
       "     'tx_hash': '0x527b664947e67a89e36e955d89b12e03bb81778146d5d3b34bc3246205c3156a',\n",
       "     'nft_id': '6929_Rari'},\n",
       "    {'buyer': '0x1d38cb844733005e7cda0310f9441fae7976bf24',\n",
       "     'price_usd': 683.3079,\n",
       "     'time': 1599687584,\n",
       "     'tx_hash': '0x585f6d21907a0a358885cdfa906fc1a6783ca574b7bdc80e3aaaceeac6da7b50',\n",
       "     'nft_id': '6929_Rari'},\n",
       "    {'buyer': '0x4e04a5320ca2e6278c5192136e6992659dcf4607',\n",
       "     'price_usd': 227.7693,\n",
       "     'time': 1599687637,\n",
       "     'tx_hash': '0xcf333d9621b60d8542ff2444a52c03fc2f11180160620966a0ea39222280d804',\n",
       "     'nft_id': '6929_Rari'},\n",
       "    {'buyer': '0x339df4db958e19ad3b642baad7ad7f7dc3900ed5',\n",
       "     'price_usd': 9452.42595,\n",
       "     'time': 1599687639,\n",
       "     'tx_hash': '0x9131bba997ec9be3b093ccbd14bcec83b5c27cd4a373dd48754ec7b2c99860b2',\n",
       "     'nft_id': '6929_Rari'},\n",
       "    {'buyer': '0xbf3c74d8efd7646db36df32c4ee518ac9e1237a4',\n",
       "     'price_usd': 4555.386000000001,\n",
       "     'time': 1599687720,\n",
       "     'tx_hash': '0x41d923ccc77b8ddb16b33a8974d93c20abff74ac00ffecc8398cdcd7090f31e7',\n",
       "     'nft_id': '6929_Rari'},\n",
       "    {'buyer': '0xf8283d5f9ea151dd6710f7558de94d6cfba6198d',\n",
       "     'price_usd': 1138.8465000000006,\n",
       "     'time': 1599687987,\n",
       "     'tx_hash': '0x965db7ce082fd200bb202f87c02454631127375313321c12a342d08463cdff82',\n",
       "     'nft_id': '6929_Rari'},\n",
       "    {'buyer': '0xf8283d5f9ea151dd6710f7558de94d6cfba6198d',\n",
       "     'price_usd': 21979.73745,\n",
       "     'time': 1599688007,\n",
       "     'tx_hash': '0x76a1ad6b428fbce2a085e63f88137d46d6a3f275328ebfc15fee8628a7132c08',\n",
       "     'nft_id': '6929_Rari'},\n",
       "    {'buyer': '0xbec24297e08cced6d5cf0324f70fa0376b7ba6d0',\n",
       "     'price_usd': 569.4232500000003,\n",
       "     'time': 1599688623,\n",
       "     'tx_hash': '0x81a277722a4ceeb857868de3541569b3ba6120e5636938118bec6b43e951a11a',\n",
       "     'nft_id': '6929_Rari'},\n",
       "    {'buyer': '0x607f9024c8d90d68ed2295d9542348edf7d6c1f7',\n",
       "     'price_usd': 2847.11625,\n",
       "     'time': 1599688819,\n",
       "     'tx_hash': '0x397a5f257b46fe543a9a81fd3c6cb552f61e6604f7faa46b697f2b0547e9d349',\n",
       "     'nft_id': '6929_Rari'},\n",
       "    {'buyer': '0x574a782a00dd152d98ff85104f723575d870698e',\n",
       "     'price_usd': 113.88465,\n",
       "     'time': 1599689530,\n",
       "     'tx_hash': '0x663dc8a46ffe8c7288d6d43f70a8c5bc9b7765772268980da1a9987ce6bee083',\n",
       "     'nft_id': '6929_Rari'},\n",
       "    {'buyer': '0x0fd95c6aab9e21b79eeaeb78e6b13de93305f8c0',\n",
       "     'price_usd': 227.7693,\n",
       "     'time': 1599689532,\n",
       "     'tx_hash': '0x2738d1d1c0c25fb40cb89d3fb928b895ae294ac3b325915cf5970f927e673ab3',\n",
       "     'nft_id': '6929_Rari'},\n",
       "    {'buyer': '0xf983557ec70fbf1a4b1e247af7bf10247e9b69c4',\n",
       "     'price_usd': 113.88465,\n",
       "     'time': 1599690328,\n",
       "     'tx_hash': '0xb7dd4296742d15594c12cced71f1c9b38af7592806eaa01305ad83719de8d93a',\n",
       "     'nft_id': '6929_Rari'},\n",
       "    {'buyer': '0x879c2ee5adc372d0542d65d80ebfe647ac1a5f10',\n",
       "     'price_usd': 121317.867,\n",
       "     'time': 1599697584,\n",
       "     'tx_hash': '0x6af7ec7ec8063fbf1a05c67d43bde30a6a6e217d6ef140428c932c11eaba1e9e',\n",
       "     'nft_id': '6929_Rari'},\n",
       "    {'buyer': '0xbec24297e08cced6d5cf0324f70fa0376b7ba6d0',\n",
       "     'price_usd': 720.7002,\n",
       "     'time': 1599698716,\n",
       "     'tx_hash': '0x0f984c3dec90af3c900503265f969c7227354d3db543f0860f521b9884cd9336',\n",
       "     'nft_id': '6929_Rari'},\n",
       "    {'buyer': '0x71ed1ed34474469f09622377801da0a35363d2d7',\n",
       "     'price_usd': 960.9336,\n",
       "     'time': 1599700882,\n",
       "     'tx_hash': '0x581561a487482810d0b2e608e037dc305a05667c5479107de8463e995e61400f',\n",
       "     'nft_id': '6929_Rari'},\n",
       "    {'buyer': '0x674cc294039505a24ae04258549b021187274a6c',\n",
       "     'price_usd': 6246.068400000003,\n",
       "     'time': 1599703396,\n",
       "     'tx_hash': '0x7273016e5db1462510478934589ffe4ea36aac92603ce5292e70e766ac2a8ede',\n",
       "     'nft_id': '6929_Rari'},\n",
       "    {'buyer': '0x05913a70848be8964523a029b834d324a737c17a',\n",
       "     'price_usd': 3603.501,\n",
       "     'time': 1599708602,\n",
       "     'tx_hash': '0x8d369d57d63644bd554394d7e697fadc452ba6e0f9c0c807ec3c84e4888bb346',\n",
       "     'nft_id': '6929_Rari'},\n",
       "    {'buyer': '0xeca5ac6bad45c1128981d5a78baafec3a1e471d9',\n",
       "     'price_usd': 8408.169,\n",
       "     'time': 1599708715,\n",
       "     'tx_hash': '0x2520df2030b45f83b1f1471bbe435d4606516e76190ca8660d8feb54f6b7d8fa',\n",
       "     'nft_id': '6929_Rari'}]},\n",
       "  {'sales': [{'buyer': '0xeca5ac6bad45c1128981d5a78baafec3a1e471d9',\n",
       "     'price_usd': 569.4232500000003,\n",
       "     'time': 1599684910,\n",
       "     'tx_hash': '0x9b41e1e8372d49cae3d932a63116fc5ac334d7a0b66a8ae1ecabc200547ae656',\n",
       "     'nft_id': '6929_Rari'},\n",
       "    {'buyer': '0xe84dced112f61f1dabc900e928114168eef8d820',\n",
       "     'price_usd': 113.88465,\n",
       "     'time': 1599685037,\n",
       "     'tx_hash': '0xeaba108c0154fb862c31f1f0e3b7e6e5080b71be140b917275e764b4c0090c41',\n",
       "     'nft_id': '6929_Rari'},\n",
       "    {'buyer': '0x9be6a134b409b718a19bc895d5d5939ae0e24ba8',\n",
       "     'price_usd': 113.88465,\n",
       "     'time': 1599685095,\n",
       "     'tx_hash': '0x5c01b87d02b8e36d885289f584489374c02803e746a93d26d1126d04c775f89b',\n",
       "     'nft_id': '6929_Rari'},\n",
       "    {'buyer': '0xe742b9592a928beb809fe6ec2af0c837283e747f',\n",
       "     'price_usd': 1822.1544,\n",
       "     'time': 1599685118,\n",
       "     'tx_hash': '0xe98271a34f237ff523c0eaab3c45194a6246857538aab5496da79e608e553686',\n",
       "     'nft_id': '6929_Rari'},\n",
       "    {'buyer': '0x93207b8c861cf2b96a92c41d99da0e9615f1a3ea',\n",
       "     'price_usd': 7971.925500000001,\n",
       "     'time': 1599685131,\n",
       "     'tx_hash': '0x3ae894d9de8099295678e7979327a5736e7fa73b393affb03d81e0a65ca4ce3c',\n",
       "     'nft_id': '6929_Rari'},\n",
       "    {'buyer': '0x98868b2f8104f29815d72bdbb667fd7753b829f7',\n",
       "     'price_usd': 113.88465,\n",
       "     'time': 1599685157,\n",
       "     'tx_hash': '0x8497f492ec3b21cb6b190663f94f5689ec335ecb721f044ddf8bebc86b7013ec',\n",
       "     'nft_id': '6929_Rari'},\n",
       "    {'buyer': '0xeca5ac6bad45c1128981d5a78baafec3a1e471d9',\n",
       "     'price_usd': 10477.387800000002,\n",
       "     'time': 1599685198,\n",
       "     'tx_hash': '0xe4180402baee133c5562e7ae21357abda652877d8986746196bf4455eedf4015',\n",
       "     'nft_id': '6929_Rari'}]}],\n",
       " 'average': 20870.853300000002}"
      ]
     },
     "execution_count": 65,
     "metadata": {},
     "output_type": "execute_result"
    }
   ],
   "source": [
    "sorted_traders_average['0xeca5ac6bad45c1128981d5a78baafec3a1e471d9']"
   ]
  },
  {
   "cell_type": "code",
   "execution_count": null,
   "id": "d65f8b2f-c1d1-4901-af53-3bddd944d19f",
   "metadata": {
    "pycharm": {
     "name": "#%%\n"
    },
    "scrolled": true,
    "tags": []
   },
   "outputs": [],
   "source": [
    "sorted_traders_average['0xeca5ac6bad45c1128981d5a78baafec3a1e471d9']['cycles'][0]"
   ]
  },
  {
   "cell_type": "code",
   "execution_count": null,
   "id": "977e5302-b8b6-4197-88ab-b6b7972fb0a1",
   "metadata": {
    "pycharm": {
     "name": "#%%\n"
    }
   },
   "outputs": [],
   "source": [
    "sorted_traders_average['0xeca5ac6bad45c1128981d5a78baafec3a1e471d9']['cycles'][1]"
   ]
  },
  {
   "cell_type": "markdown",
   "id": "60feceb6-0976-436f-b184-5e55db28958f",
   "metadata": {
    "pycharm": {
     "name": "#%% md\n"
    }
   },
   "source": [
    "### NFT that had been cycled the most?"
   ]
  },
  {
   "cell_type": "code",
   "execution_count": null,
   "id": "9ee2d97f-42eb-473d-a11f-d8951ac30b34",
   "metadata": {
    "pycharm": {
     "name": "#%%\n"
    }
   },
   "outputs": [],
   "source": [
    "'CycleData(0xe748f643b9b5debe0a025e118512be787e5a1ea8'[10:]"
   ]
  }
 ],
 "metadata": {
  "kernelspec": {
   "display_name": "Python 3 (ipykernel)",
   "language": "python",
   "name": "python3"
  },
  "language_info": {
   "codemirror_mode": {
    "name": "ipython",
    "version": 3
   },
   "file_extension": ".py",
   "mimetype": "text/x-python",
   "name": "python",
   "nbconvert_exporter": "python",
   "pygments_lexer": "ipython3",
   "version": "3.10.5"
  },
  "vscode": {
   "interpreter": {
    "hash": "b0fa6594d8f4cbf19f97940f81e996739fb7646882a419484c72d19e05852a7e"
   }
  }
 },
 "nbformat": 4,
 "nbformat_minor": 5
}
