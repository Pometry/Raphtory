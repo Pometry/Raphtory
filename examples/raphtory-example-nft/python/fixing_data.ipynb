{
 "cells": [
  {
   "cell_type": "markdown",
   "id": "fdfcc92d-a837-46d6-8c1f-30d8ae578a5f",
   "metadata": {},
   "source": [
    "problem\n",
    "\n",
    "the data is bad, it has duplicate entries with tx hash and time\n",
    "\n",
    "idea: find how often this occurs\n",
    "\n",
    "if its not too many delete the entries \n",
    "\n",
    "or clean the data and change the times"
   ]
  },
  {
   "cell_type": "code",
   "execution_count": 1,
   "id": "fb9ab6ed-9d87-46f4-835e-16467590e3dd",
   "metadata": {},
   "outputs": [],
   "source": [
    "import pandas as pd\n",
    "from datetime import datetime"
   ]
  },
  {
   "cell_type": "code",
   "execution_count": 55,
   "id": "09c9ed14-7bb5-4130-b6e1-098e0d2d21b0",
   "metadata": {},
   "outputs": [
    {
     "name": "stderr",
     "output_type": "stream",
     "text": [
      "/var/folders/rm/nnz28pc96cv2xqzbwlwvwl2r0000gn/T/ipykernel_26651/1900226705.py:1: DtypeWarning: Columns (0,1,2,4,6,8,9,10,14,15,20) have mixed types. Specify dtype option on import or set low_memory=False.\n",
      "  df_full = pd.read_csv(\"/Users/haaroony/OneDrive - Pometry Ltd/nft_andrea/Data_API.csv\")\n"
     ]
    }
   ],
   "source": [
    "df_full = pd.read_csv(\"/Users/haaroony/OneDrive - Pometry Ltd/nft_andrea/Data_API.csv\")"
   ]
  },
  {
   "cell_type": "code",
   "execution_count": 49,
   "id": "82542242-4b7e-423b-a3c9-ad93f49c8150",
   "metadata": {},
   "outputs": [],
   "source": [
    "drop_some_column = [\"Unique_id_collection\", \"Permanent_link\", \"Description\", \"Name\", \"Image_url_4\", \"Image_url_3\", \"Image_url_2\", \"Image_url_1\"]\n",
    "df_dropped = df_full.drop(columns=drop_some_column)"
   ]
  },
  {
   "cell_type": "code",
   "execution_count": 3,
   "id": "2ccd5fbb-82d2-4084-8d83-f327c4e4f009",
   "metadata": {},
   "outputs": [],
   "source": [
    "df = df_full[['ID_token', 'Transaction_hash', 'Datetime_updated_seconds']]"
   ]
  },
  {
   "cell_type": "code",
   "execution_count": 5,
   "id": "818c5847-ccdd-42ff-8263-f0bb7abc1aa4",
   "metadata": {},
   "outputs": [
    {
     "name": "stderr",
     "output_type": "stream",
     "text": [
      "/var/folders/rm/nnz28pc96cv2xqzbwlwvwl2r0000gn/T/ipykernel_26651/3612290062.py:1: SettingWithCopyWarning: \n",
      "A value is trying to be set on a copy of a slice from a DataFrame.\n",
      "Try using .loc[row_indexer,col_indexer] = value instead\n",
      "\n",
      "See the caveats in the documentation: https://pandas.pydata.org/pandas-docs/stable/user_guide/indexing.html#returning-a-view-versus-a-copy\n",
      "  df['unix_time'] = df['Datetime_updated_seconds'].apply(lambda x: datetime.strptime(x, \"%Y-%m-%d %H:%M:%S\").timestamp())\n"
     ]
    }
   ],
   "source": [
    "s = \"2019-11-30 23:59:33\"\n",
    "df['unix_time'] = df['Datetime_updated_seconds'].apply(lambda x: datetime.strptime(x, \"%Y-%m-%d %H:%M:%S\").timestamp())"
   ]
  },
  {
   "cell_type": "markdown",
   "id": "a2104e37-5b8b-447f-8aba-af13522199a8",
   "metadata": {},
   "source": [
    "old=(1540436348,0xfbf193668516edb858e1ac8b95a562d2a8583418e9dd3cf523b66e6a7426e17c),\n",
    "new=(1540436348,0x3cd1d9caa9d06e40aef1b052676c72b66d9de81d68dc0d0a0576fc0078a8dabd)"
   ]
  },
  {
   "cell_type": "code",
   "execution_count": 31,
   "id": "59517df1-e20b-4a3e-b832-0d4bf5080b09",
   "metadata": {
    "scrolled": true,
    "tags": []
   },
   "outputs": [
    {
     "name": "stdout",
     "output_type": "stream",
     "text": [
      " NFTS: \n",
      "4746857\n",
      "200000\n",
      "400000\n",
      "600000\n",
      "800000\n",
      "1000000\n",
      "1200000\n",
      "1400000\n",
      "1600000\n",
      "1800000\n",
      "2000000\n",
      "2200000\n",
      "2400000\n",
      "2600000\n",
      "2800000\n",
      "3000000\n",
      "3200000\n",
      "3400000\n",
      "3600000\n",
      "3800000\n",
      "4000000\n",
      "4200000\n",
      "4400000\n",
      "Found a bad nft 520975\n",
      "Found a bad nft 597444\n",
      "Found a bad nft 614950\n",
      "Found a bad nft 616766\n",
      "Found a bad nft 630892\n",
      "Found a bad nft 640086\n",
      "Found a bad nft 6877\n",
      "Found a bad nft 712882\n",
      "Found a bad nft 712913\n",
      "4600000\n",
      "Found a bad nft 856183\n",
      "Found a bad nft 9103\n",
      "Found a bad nft 9672\n",
      "Found a bad nft 992744\n"
     ]
    }
   ],
   "source": [
    "from collections import Counter\n",
    "\n",
    "print(\" NFTS: \\n\" + str(len(set(df['ID_token']))))\n",
    "\n",
    "c=0\n",
    "bad_nfts = set([])\n",
    "for tid, gp_df in df.groupby(by=['ID_token']):\n",
    "    c+=1\n",
    "    if c % 200_000 == 0:\n",
    "        print(c)\n",
    "    pairs = list(zip(gp_df['Transaction_hash'],gp_df['unix_time']))\n",
    "    counted = Counter(pairs)\n",
    "    counted_total = set(counted.values())\n",
    "    if max(counted_total) >= 2:\n",
    "        print(\"Found a bad nft \" + str(tid))\n",
    "        bad_nfts.add(tid)"
   ]
  },
  {
   "cell_type": "markdown",
   "id": "f225e532-68eb-4a14-9d12-0af233c408a2",
   "metadata": {},
   "source": [
    "java.lang.Error: Mismatched duplicate element: old=(1540436348,0xfbf193668516edb858e1ac8b95a562d2a8583418e9dd3cf523b66e6a7426e17c), new=(1540436348,0x3cd1d9caa9d06e40aef1b052676c72b66d9de81d68dc0d0a0576fc0078a8dabd\n",
    "d68dc0d0a0576fc0078a8dabd)\n",
    "        at com.raphtory.internals.storage.pojograph.OrderedBuffer$OrderedAppend.sortedAppend(OrderedBuffer.scala:34)\n",
    "        at com.raphtory.internals.storage.pojograph.entities.internal.MutableProperty.update(MutableProperty.scala:27)\n",
    "        at com.raphtory.internals.storage.pojograph.entities.internal.PojoEntity.$plus(PojoEntity.scala:57)\n",
    "        at com.raphtory.internals.storage.pojograph.PojoBasedPartition.$anonfun$addProperties$1(PojoBasedPartition.scala:33)\n",
    "        at com.raphtory.internals.storage.pojograph.PojoBasedPartition.$anonfun$addProperties$1$adapted(PojoBasedPartition.scala:32)\n",
    "        at scala.collection.IterableOnceOps.foreach(IterableOnce.scala:563)\n",
    "        at scala.collection.IterableOnceOps.foreach$(IterableOnce.scala:561)\n",
    "        at scala.collection.AbstractIterable.foreach(Iterable.scala:926)\n",
    "        at com.raphtory.internals.storage.pojograph.PojoBasedPartition.addProperties(PojoBasedPartition.scala:32)\n",
    "        at com.raphtory.internals.storage.pojograph.PojoBasedPartition.addEdge(PojoBasedPartition.scala:231)\n",
    "        at com.raphtory.internals.components.partition.BatchWriter.processEdgeAdd(BatchWriter.scala:58)\n",
    "        at com.raphtory.internals.components.partition.BatchWriter.handleMessage(BatchWriter.scala:29)\n",
    "        at com.raphtory.api.input.GraphBuilder.handleEdgeAdd(GraphBuilder.scala:267)\n",
    "        at com.raphtory.api.input.GraphBuilder.addEdge(GraphBuilder.scala:239)\n",
    "        at com.raphtory.api.input.GraphBuilder.addEdge$(GraphBuilder.scala:231)\n",
    "        at com.raphtory.examples.nft.graphbuilder.NFTGraphBuilder.addEdge(NFTGraphBuilder.scala:12)\n",
    "        at com.raphtory.examples.nft.graphbuilder.NFTGraphBuilder.parseTuple(NFTGraphBuilder.scala:96)\n",
    "        at com.raphtory.examples.nft.graphbuilder.NFTGraphBuilder.parseTuple(NFTGraphBuilder.scala:12)\n",
    "        at com.raphtory.internals.components.partition.LocalBatchHandler.$anonfun$runIngestion$1(LocalBatchHandler.scala:54)"
   ]
  },
  {
   "cell_type": "code",
   "execution_count": 35,
   "id": "575ce5f0-9519-4e42-8898-7d719145c76f",
   "metadata": {},
   "outputs": [
    {
     "data": {
      "text/plain": [
       "13"
      ]
     },
     "execution_count": 35,
     "metadata": {},
     "output_type": "execute_result"
    }
   ],
   "source": [
    "len(bad_nfts)"
   ]
  },
  {
   "cell_type": "code",
   "execution_count": 36,
   "id": "c7bfec59-ea50-40c4-af7b-0a6fcf838bcd",
   "metadata": {},
   "outputs": [
    {
     "data": {
      "text/plain": [
       "0.00027386542295249256"
      ]
     },
     "execution_count": 36,
     "metadata": {},
     "output_type": "execute_result"
    }
   ],
   "source": [
    "len(bad_nfts)/4746857*100"
   ]
  },
  {
   "cell_type": "code",
   "execution_count": 52,
   "id": "c7de52db-ea21-4a30-9d4c-e90b55307dbf",
   "metadata": {},
   "outputs": [],
   "source": [
    "df_dropped.to_csv(\"/Users/haaroony/OneDrive - Pometry Ltd/nft_andrea/Data_API_cleaned.csv\", index=False)"
   ]
  },
  {
   "cell_type": "code",
   "execution_count": 53,
   "id": "449a15ad-a861-473a-aaf7-df57c2a4750e",
   "metadata": {},
   "outputs": [
    {
     "data": {
      "text/plain": [
       "6071027"
      ]
     },
     "execution_count": 53,
     "metadata": {},
     "output_type": "execute_result"
    }
   ],
   "source": [
    "len(df_dropped)"
   ]
  },
  {
   "cell_type": "code",
   "execution_count": 63,
   "id": "4784741b-4a34-4b37-9add-cb858d612ff1",
   "metadata": {},
   "outputs": [
    {
     "data": {
      "text/plain": [
       "Smart_contract              5109417\n",
       "ID_token                    6071027\n",
       "Transaction_hash            2885387\n",
       "Seller_address              6071027\n",
       "Seller_username             1093254\n",
       "Buyer_address               6071027\n",
       "Buyer_username               892863\n",
       "Price_Crypto                6071027\n",
       "Crypto                      6071027\n",
       "Price_USD                   6062744\n",
       "Collection                  6071027\n",
       "Market                      6071027\n",
       "Datetime_updated            6071027\n",
       "Datetime_updated_seconds    6071027\n",
       "Collection_cleaned          6071027\n",
       "Category                    6071027\n",
       "dtype: int64"
      ]
     },
     "execution_count": 63,
     "metadata": {},
     "output_type": "execute_result"
    }
   ],
   "source": [
    "df_dropped"
   ]
  },
  {
   "cell_type": "code",
   "execution_count": 65,
   "id": "683a54fb-c5ac-4659-bb28-54410af5583a",
   "metadata": {
    "collapsed": true,
    "jupyter": {
     "outputs_hidden": true
    },
    "tags": []
   },
   "outputs": [
    {
     "data": {
      "text/plain": [
       "{'0xBTC',\n",
       " '1MT',\n",
       " '2XDN',\n",
       " 'ABST',\n",
       " 'AMPL',\n",
       " 'ANRX',\n",
       " 'ARCONA',\n",
       " 'ART',\n",
       " 'ASLT',\n",
       " 'ATRI',\n",
       " 'AVRT',\n",
       " 'B0T',\n",
       " 'BAEPAY',\n",
       " 'BASED',\n",
       " 'BAT',\n",
       " 'BLVD',\n",
       " 'BON',\n",
       " 'BONDLY',\n",
       " 'BONES',\n",
       " 'BOOB',\n",
       " 'BORG',\n",
       " 'BPC',\n",
       " 'BUDGET',\n",
       " 'BUDZ',\n",
       " 'BZN',\n",
       " 'CAMEL',\n",
       " 'CGG',\n",
       " 'CHERRY',\n",
       " 'CHONK',\n",
       " 'COIN',\n",
       " 'COVAL',\n",
       " 'CPT',\n",
       " 'CRED',\n",
       " 'CUBE',\n",
       " 'CURIO',\n",
       " 'DAI',\n",
       " 'DAPPT',\n",
       " 'DDIM',\n",
       " 'DENA',\n",
       " 'DGX',\n",
       " 'DHC',\n",
       " 'DOOM',\n",
       " 'DUST',\n",
       " 'EBB',\n",
       " 'ECAT',\n",
       " 'ECTO',\n",
       " 'EGGS',\n",
       " 'ELAND',\n",
       " 'ELET',\n",
       " 'EMONT',\n",
       " 'ENJ',\n",
       " 'EPIC',\n",
       " 'ETH',\n",
       " 'FIRST',\n",
       " 'FRFY',\n",
       " 'FTHR',\n",
       " 'FTM',\n",
       " 'FUD',\n",
       " 'GALA',\n",
       " 'GCASH',\n",
       " 'GEM',\n",
       " 'GMX',\n",
       " 'GOKU',\n",
       " 'GOOSE',\n",
       " 'GOU',\n",
       " 'GPL',\n",
       " 'GUSD',\n",
       " 'HIVED',\n",
       " 'HOUR',\n",
       " 'HUE',\n",
       " 'IMP',\n",
       " 'INI',\n",
       " 'INK',\n",
       " 'JBG',\n",
       " 'JGN',\n",
       " 'KAP',\n",
       " 'KEK',\n",
       " 'KEK-DEP',\n",
       " 'KING',\n",
       " 'KIWI',\n",
       " 'KLTR',\n",
       " 'KOI',\n",
       " 'LAR',\n",
       " 'LESS',\n",
       " 'LINK',\n",
       " 'LIT',\n",
       " 'LOAD',\n",
       " 'MANA',\n",
       " 'MATIC',\n",
       " 'MBC',\n",
       " 'MCX',\n",
       " 'MEME',\n",
       " 'MGDv2',\n",
       " 'MKR',\n",
       " 'MM',\n",
       " 'MNFT',\n",
       " 'MORK',\n",
       " 'MX',\n",
       " 'NDR',\n",
       " 'NEWS',\n",
       " 'NUGS',\n",
       " 'NVT',\n",
       " 'OLDWAXIE',\n",
       " 'OLDWZX',\n",
       " 'PGU',\n",
       " 'PIXEL',\n",
       " 'PIXIE',\n",
       " 'PLAY',\n",
       " 'PMON',\n",
       " 'PPDEX',\n",
       " 'PRIME',\n",
       " 'PXART',\n",
       " 'PYRO',\n",
       " 'RAINBOW',\n",
       " 'RARE',\n",
       " 'RARI',\n",
       " 'RCC',\n",
       " 'RCDY',\n",
       " 'REVV',\n",
       " 'RLY',\n",
       " 'RODZ',\n",
       " 'ROPE',\n",
       " 'ROT',\n",
       " 'RUGZ',\n",
       " 'SAI',\n",
       " 'SAL',\n",
       " 'SAND',\n",
       " 'SKULL',\n",
       " 'SLP',\n",
       " 'SMTS',\n",
       " 'SURF',\n",
       " 'SWAG',\n",
       " 'TATR',\n",
       " 'THREE',\n",
       " 'TRIP',\n",
       " 'TRISM',\n",
       " 'TRSH',\n",
       " 'UNI',\n",
       " 'USDC',\n",
       " 'VEGETA',\n",
       " 'VI',\n",
       " 'VIDEO',\n",
       " 'VIDT',\n",
       " 'VSF',\n",
       " 'WAIF',\n",
       " 'WAX',\n",
       " 'WAXIE',\n",
       " 'WBTC',\n",
       " 'WCK',\n",
       " 'WETH',\n",
       " 'WGM',\n",
       " 'WIPC',\n",
       " 'WMC',\n",
       " 'XMON',\n",
       " 'YGT',\n",
       " 'YUMI',\n",
       " 'ZIOT',\n",
       " 'ZURU',\n",
       " 'ZUT',\n",
       " 'eFAME'}"
      ]
     },
     "execution_count": 65,
     "metadata": {},
     "output_type": "execute_result"
    }
   ],
   "source": [
    "set(df_dropped['Crypto'])"
   ]
  },
  {
   "cell_type": "code",
   "execution_count": 66,
   "id": "70cdfc34-45d9-439c-8bca-c2b2bcd38cbc",
   "metadata": {},
   "outputs": [],
   "source": [
    "df_dropped_eth_only = df_dropped[df_dropped['Crypto']=='ETH']"
   ]
  },
  {
   "cell_type": "code",
   "execution_count": 68,
   "id": "55142973-3844-445a-9d7a-9021f2d5d1aa",
   "metadata": {},
   "outputs": [],
   "source": [
    "df_dropped_eth_only.to_csv(\"/Users/haaroony/OneDrive - Pometry Ltd/nft_andrea/Data_API_cleaned_ETH_only.csv\", index=False)"
   ]
  },
  {
   "cell_type": "code",
   "execution_count": 69,
   "id": "9176f3c0-8a20-4841-8c54-389f1627ed47",
   "metadata": {},
   "outputs": [
    {
     "data": {
      "text/plain": [
       "'2021-04-27 23:59:51'"
      ]
     },
     "execution_count": 69,
     "metadata": {},
     "output_type": "execute_result"
    }
   ],
   "source": [
    "max(df_dropped_eth_only['Datetime_updated_seconds'])"
   ]
  },
  {
   "cell_type": "code",
   "execution_count": 60,
   "id": "11d5dd1a-5330-4255-bcdb-bef410e55f94",
   "metadata": {},
   "outputs": [
    {
     "name": "stdout",
     "output_type": "stream",
     "text": [
      "0 Smart_contract\n",
      "1 ID_token\n",
      "2 Transaction_hash\n",
      "3 Seller_address\n",
      "4 Seller_username\n",
      "5 Buyer_address\n",
      "6 Buyer_username\n",
      "7 Price_Crypto\n",
      "8 Crypto\n",
      "9 Price_USD\n",
      "10 Collection\n",
      "11 Market\n",
      "12 Datetime_updated\n",
      "13 Datetime_updated_seconds\n",
      "14 Collection_cleaned\n",
      "15 Category\n"
     ]
    }
   ],
   "source": [
    "for i, x in enumerate(df_dropped.columns):\n",
    "    print(i, x)"
   ]
  },
  {
   "cell_type": "code",
   "execution_count": 50,
   "id": "dfa974bf-4200-441f-9b2a-4821b25e3f7e",
   "metadata": {},
   "outputs": [
    {
     "ename": "NameError",
     "evalue": "name 'df_clean_dropped_nfts' is not defined",
     "output_type": "error",
     "traceback": [
      "\u001b[0;31m---------------------------------------------------------------------------\u001b[0m",
      "\u001b[0;31mNameError\u001b[0m                                 Traceback (most recent call last)",
      "Input \u001b[0;32mIn [50]\u001b[0m, in \u001b[0;36m<cell line: 1>\u001b[0;34m()\u001b[0m\n\u001b[0;32m----> 1\u001b[0m \u001b[43mdf_clean_dropped_nfts\u001b[49m\n",
      "\u001b[0;31mNameError\u001b[0m: name 'df_clean_dropped_nfts' is not defined"
     ]
    }
   ],
   "source": [
    "max)df_clean_dropped_nfts)"
   ]
  },
  {
   "cell_type": "markdown",
   "id": "e3097b42-68ab-4e42-a267-4cfbed5a6803",
   "metadata": {},
   "source": [
    "## unclean data"
   ]
  },
  {
   "cell_type": "code",
   "execution_count": 43,
   "id": "b792c924-0933-4fd9-aa41-b83ce949a710",
   "metadata": {},
   "outputs": [],
   "source": [
    "unclean_df = pd.read_csv(\"/Users/haaroony/OneDrive - Pometry Ltd/nft_andrea/bad_nft.csv\")"
   ]
  },
  {
   "cell_type": "code",
   "execution_count": 44,
   "id": "de47f856-dc77-4b5c-921b-f19c721fa77e",
   "metadata": {},
   "outputs": [
    {
     "data": {
      "text/html": [
       "<div>\n",
       "<style scoped>\n",
       "    .dataframe tbody tr th:only-of-type {\n",
       "        vertical-align: middle;\n",
       "    }\n",
       "\n",
       "    .dataframe tbody tr th {\n",
       "        vertical-align: top;\n",
       "    }\n",
       "\n",
       "    .dataframe thead th {\n",
       "        text-align: right;\n",
       "    }\n",
       "</style>\n",
       "<table border=\"1\" class=\"dataframe\">\n",
       "  <thead>\n",
       "    <tr style=\"text-align: right;\">\n",
       "      <th></th>\n",
       "      <th>Smart_contract</th>\n",
       "      <th>ID_token</th>\n",
       "      <th>Transaction_hash</th>\n",
       "      <th>Seller_address</th>\n",
       "      <th>Seller_username</th>\n",
       "      <th>Buyer_address</th>\n",
       "      <th>Buyer_username</th>\n",
       "      <th>Image_url_1</th>\n",
       "      <th>Image_url_2</th>\n",
       "      <th>Image_url_3</th>\n",
       "      <th>...</th>\n",
       "      <th>Name</th>\n",
       "      <th>Description</th>\n",
       "      <th>Collection</th>\n",
       "      <th>Market</th>\n",
       "      <th>Datetime_updated</th>\n",
       "      <th>Datetime_updated_seconds</th>\n",
       "      <th>Permanent_link</th>\n",
       "      <th>Unique_id_collection</th>\n",
       "      <th>Collection_cleaned</th>\n",
       "      <th>Category</th>\n",
       "    </tr>\n",
       "  </thead>\n",
       "  <tbody>\n",
       "    <tr>\n",
       "      <th>0</th>\n",
       "      <td>0x06012c8cf97bead5deae237070f9587f8e7a266d</td>\n",
       "      <td>539565</td>\n",
       "      <td>0xb0dd3d7199c3df1e81f99f304a1bfc834373684468aa...</td>\n",
       "      <td>0x4886404ecfb86b759b27867afb0f64172eea1c53</td>\n",
       "      <td>PsyDuck</td>\n",
       "      <td>0xefe92c9018c8fd8bf52a2107f6177078a291353f</td>\n",
       "      <td>NaN</td>\n",
       "      <td>https://storage.opensea.io/0x06012c8cf97bead5d...</td>\n",
       "      <td>https://img.cryptokitties.co/0x06012c8cf97bead...</td>\n",
       "      <td>https://storage.opensea.io/0x06012c8cf97bead5d...</td>\n",
       "      <td>...</td>\n",
       "      <td>💜💙 Wuvme Chronic Bobtail</td>\n",
       "      <td>Bonjour! I'm 💜💙 Wuvme Chronic Bobtail. I work ...</td>\n",
       "      <td>Cryptokitties</td>\n",
       "      <td>OpenSea</td>\n",
       "      <td>2018-02-24 00:00:00</td>\n",
       "      <td>2018-02-24 20:21:59</td>\n",
       "      <td>https://opensea.io/assets/0x06012c8cf97bead5de...</td>\n",
       "      <td>('Cryptokitties', '539565')</td>\n",
       "      <td>Cryptokittie</td>\n",
       "      <td>Art</td>\n",
       "    </tr>\n",
       "  </tbody>\n",
       "</table>\n",
       "<p>1 rows × 24 columns</p>\n",
       "</div>"
      ],
      "text/plain": [
       "                               Smart_contract  ID_token  \\\n",
       "0  0x06012c8cf97bead5deae237070f9587f8e7a266d    539565   \n",
       "\n",
       "                                    Transaction_hash  \\\n",
       "0  0xb0dd3d7199c3df1e81f99f304a1bfc834373684468aa...   \n",
       "\n",
       "                               Seller_address Seller_username  \\\n",
       "0  0x4886404ecfb86b759b27867afb0f64172eea1c53         PsyDuck   \n",
       "\n",
       "                                Buyer_address  Buyer_username  \\\n",
       "0  0xefe92c9018c8fd8bf52a2107f6177078a291353f             NaN   \n",
       "\n",
       "                                         Image_url_1  \\\n",
       "0  https://storage.opensea.io/0x06012c8cf97bead5d...   \n",
       "\n",
       "                                         Image_url_2  \\\n",
       "0  https://img.cryptokitties.co/0x06012c8cf97bead...   \n",
       "\n",
       "                                         Image_url_3  ...  \\\n",
       "0  https://storage.opensea.io/0x06012c8cf97bead5d...  ...   \n",
       "\n",
       "                       Name  \\\n",
       "0  💜💙 Wuvme Chronic Bobtail   \n",
       "\n",
       "                                         Description     Collection   Market  \\\n",
       "0  Bonjour! I'm 💜💙 Wuvme Chronic Bobtail. I work ...  Cryptokitties  OpenSea   \n",
       "\n",
       "      Datetime_updated Datetime_updated_seconds  \\\n",
       "0  2018-02-24 00:00:00      2018-02-24 20:21:59   \n",
       "\n",
       "                                      Permanent_link  \\\n",
       "0  https://opensea.io/assets/0x06012c8cf97bead5de...   \n",
       "\n",
       "          Unique_id_collection Collection_cleaned Category  \n",
       "0  ('Cryptokitties', '539565')       Cryptokittie      Art  \n",
       "\n",
       "[1 rows x 24 columns]"
      ]
     },
     "execution_count": 44,
     "metadata": {},
     "output_type": "execute_result"
    }
   ],
   "source": [
    "unclean_df"
   ]
  },
  {
   "cell_type": "code",
   "execution_count": 47,
   "id": "a62e2fbb-244b-4997-a62f-0d213685219e",
   "metadata": {},
   "outputs": [
    {
     "data": {
      "text/html": [
       "<div>\n",
       "<style scoped>\n",
       "    .dataframe tbody tr th:only-of-type {\n",
       "        vertical-align: middle;\n",
       "    }\n",
       "\n",
       "    .dataframe tbody tr th {\n",
       "        vertical-align: top;\n",
       "    }\n",
       "\n",
       "    .dataframe thead th {\n",
       "        text-align: right;\n",
       "    }\n",
       "</style>\n",
       "<table border=\"1\" class=\"dataframe\">\n",
       "  <thead>\n",
       "    <tr style=\"text-align: right;\">\n",
       "      <th></th>\n",
       "      <th>Smart_contract</th>\n",
       "      <th>ID_token</th>\n",
       "      <th>Transaction_hash</th>\n",
       "      <th>Seller_address</th>\n",
       "      <th>Seller_username</th>\n",
       "      <th>Buyer_address</th>\n",
       "      <th>Buyer_username</th>\n",
       "      <th>Price_Crypto</th>\n",
       "      <th>Crypto</th>\n",
       "      <th>Price_USD</th>\n",
       "      <th>Collection</th>\n",
       "      <th>Market</th>\n",
       "      <th>Datetime_updated</th>\n",
       "      <th>Datetime_updated_seconds</th>\n",
       "      <th>Collection_cleaned</th>\n",
       "      <th>Category</th>\n",
       "    </tr>\n",
       "  </thead>\n",
       "  <tbody>\n",
       "    <tr>\n",
       "      <th>0</th>\n",
       "      <td>0x06012c8cf97bead5deae237070f9587f8e7a266d</td>\n",
       "      <td>539565</td>\n",
       "      <td>0xb0dd3d7199c3df1e81f99f304a1bfc834373684468aa...</td>\n",
       "      <td>0x4886404ecfb86b759b27867afb0f64172eea1c53</td>\n",
       "      <td>PsyDuck</td>\n",
       "      <td>0xefe92c9018c8fd8bf52a2107f6177078a291353f</td>\n",
       "      <td>NaN</td>\n",
       "      <td>0.004</td>\n",
       "      <td>ETH</td>\n",
       "      <td>3.37072</td>\n",
       "      <td>Cryptokitties</td>\n",
       "      <td>OpenSea</td>\n",
       "      <td>2018-02-24 00:00:00</td>\n",
       "      <td>2018-02-24 20:21:59</td>\n",
       "      <td>Cryptokittie</td>\n",
       "      <td>Art</td>\n",
       "    </tr>\n",
       "  </tbody>\n",
       "</table>\n",
       "</div>"
      ],
      "text/plain": [
       "                               Smart_contract  ID_token  \\\n",
       "0  0x06012c8cf97bead5deae237070f9587f8e7a266d    539565   \n",
       "\n",
       "                                    Transaction_hash  \\\n",
       "0  0xb0dd3d7199c3df1e81f99f304a1bfc834373684468aa...   \n",
       "\n",
       "                               Seller_address Seller_username  \\\n",
       "0  0x4886404ecfb86b759b27867afb0f64172eea1c53         PsyDuck   \n",
       "\n",
       "                                Buyer_address  Buyer_username  Price_Crypto  \\\n",
       "0  0xefe92c9018c8fd8bf52a2107f6177078a291353f             NaN         0.004   \n",
       "\n",
       "  Crypto  Price_USD     Collection   Market     Datetime_updated  \\\n",
       "0    ETH    3.37072  Cryptokitties  OpenSea  2018-02-24 00:00:00   \n",
       "\n",
       "  Datetime_updated_seconds Collection_cleaned Category  \n",
       "0      2018-02-24 20:21:59       Cryptokittie      Art  "
      ]
     },
     "execution_count": 47,
     "metadata": {},
     "output_type": "execute_result"
    }
   ],
   "source": [
    "unclean_df.drop(columns=drop_some_column)"
   ]
  },
  {
   "cell_type": "code",
   "execution_count": 71,
   "id": "7fafcb8a-7720-4c4c-bd16-4fb22025142a",
   "metadata": {},
   "outputs": [
    {
     "data": {
      "text/html": [
       "<div>\n",
       "<style scoped>\n",
       "    .dataframe tbody tr th:only-of-type {\n",
       "        vertical-align: middle;\n",
       "    }\n",
       "\n",
       "    .dataframe tbody tr th {\n",
       "        vertical-align: top;\n",
       "    }\n",
       "\n",
       "    .dataframe thead th {\n",
       "        text-align: right;\n",
       "    }\n",
       "</style>\n",
       "<table border=\"1\" class=\"dataframe\">\n",
       "  <thead>\n",
       "    <tr style=\"text-align: right;\">\n",
       "      <th></th>\n",
       "      <th>Smart_contract</th>\n",
       "      <th>ID_token</th>\n",
       "      <th>Transaction_hash</th>\n",
       "      <th>Seller_address</th>\n",
       "      <th>Seller_username</th>\n",
       "      <th>Buyer_address</th>\n",
       "      <th>Buyer_username</th>\n",
       "      <th>Price_Crypto</th>\n",
       "      <th>Crypto</th>\n",
       "      <th>Price_USD</th>\n",
       "      <th>Collection</th>\n",
       "      <th>Market</th>\n",
       "      <th>Datetime_updated</th>\n",
       "      <th>Datetime_updated_seconds</th>\n",
       "      <th>Collection_cleaned</th>\n",
       "      <th>Category</th>\n",
       "    </tr>\n",
       "  </thead>\n",
       "  <tbody>\n",
       "    <tr>\n",
       "      <th>4173556</th>\n",
       "      <td>0x06012c8cf97bead5deae237070f9587f8e7a266d</td>\n",
       "      <td>640086</td>\n",
       "      <td>0xd8d8a2c747dda3783513f95bfa9bd6935cee505d873a...</td>\n",
       "      <td>0xfb9e56d1883b2c7d6c4ca544b20a647d5688ba27</td>\n",
       "      <td>NaN</td>\n",
       "      <td>0xbca1d1ee93827d26bd3e5ccb4e193c792489a172</td>\n",
       "      <td>Waltmester3000</td>\n",
       "      <td>0.031068</td>\n",
       "      <td>ETH</td>\n",
       "      <td>16.301378</td>\n",
       "      <td>Cryptokitties</td>\n",
       "      <td>OpenSea</td>\n",
       "      <td>2018-03-25 00:00:00</td>\n",
       "      <td>2018-03-25 08:12:18</td>\n",
       "      <td>Cryptokittie</td>\n",
       "      <td>Art</td>\n",
       "    </tr>\n",
       "  </tbody>\n",
       "</table>\n",
       "</div>"
      ],
      "text/plain": [
       "                                     Smart_contract ID_token  \\\n",
       "4173556  0x06012c8cf97bead5deae237070f9587f8e7a266d   640086   \n",
       "\n",
       "                                          Transaction_hash  \\\n",
       "4173556  0xd8d8a2c747dda3783513f95bfa9bd6935cee505d873a...   \n",
       "\n",
       "                                     Seller_address Seller_username  \\\n",
       "4173556  0xfb9e56d1883b2c7d6c4ca544b20a647d5688ba27             NaN   \n",
       "\n",
       "                                      Buyer_address  Buyer_username  \\\n",
       "4173556  0xbca1d1ee93827d26bd3e5ccb4e193c792489a172  Waltmester3000   \n",
       "\n",
       "         Price_Crypto Crypto  Price_USD     Collection   Market  \\\n",
       "4173556      0.031068    ETH  16.301378  Cryptokitties  OpenSea   \n",
       "\n",
       "            Datetime_updated Datetime_updated_seconds Collection_cleaned  \\\n",
       "4173556  2018-03-25 00:00:00      2018-03-25 08:12:18       Cryptokittie   \n",
       "\n",
       "        Category  \n",
       "4173556      Art  "
      ]
     },
     "execution_count": 71,
     "metadata": {},
     "output_type": "execute_result"
    }
   ],
   "source": [
    "df_dropped_eth_only[df_dropped_eth_only['Price_USD']==16.30137838541667]"
   ]
  },
  {
   "cell_type": "markdown",
   "id": "7cfe6911-4729-4555-a477-5978f897aed9",
   "metadata": {},
   "source": [
    ",640086,0xd8d8a2c747dda3783513f95bfa9bd6935cee505d873aa1036024eb178750627d,0xfb9e56d1883b2c7d6c4ca544b20a647d5688ba27,,0xbca1d1ee93827d26bd3e5ccb4e193c792489a172,,0.0310679687499999,ETH,16.301363203125,Cryptokitties,Cryptokitties,2018-03-24 00:00:00,2018-03-24 13:38:15,Cryptokittie,Art\n",
    "0x06012c8cf97bead5deae237070f9587f8e7a266d,640086,0xd8d8a2c747dda3783513f95bfa9bd6935cee505d873aa1036024eb178750627d,0xfb9e56d1883b2c7d6c4ca544b20a647d5688ba27,,0xbca1d1ee93827d26bd3e5ccb4e193c792489a172,Waltmester3000,0.0310679976851851,ETH,16.30137838541667,Cryptokitties,OpenSea,2018-03-25 00:00:00,2018-03-25 08:12:18,Cryptokittie,Art\n",
    "0x06012c8cf97bead5deae237070f9587f8e7a266d,640086,0xd8d8a2c747dda3783513f95bfa9bd6935cee505d873aa1036024eb178750627d,0xfb9e56d1883b2c7d6c4ca544b20a647d5688ba27,,0xbca1d1ee93827d26bd3e5ccb4e193c792489a172,Waltmester3000,0.0310679687499999,ETH,16.301363203125,Cryptokitties,OpenSea,2018-03-25 00:00:00,2018-03-25 08:12:18,Cryptokittie,Art"
   ]
  },
  {
   "cell_type": "markdown",
   "id": "68002378-0cba-41cf-97a6-e765baff059e",
   "metadata": {},
   "source": [
    "#### How many rows are there?"
   ]
  },
  {
   "cell_type": "code",
   "execution_count": 81,
   "id": "f03b3eae-bfa1-491c-b584-fde682a3ac99",
   "metadata": {},
   "outputs": [
    {
     "data": {
      "text/plain": [
       "2405225"
      ]
     },
     "execution_count": 81,
     "metadata": {},
     "output_type": "execute_result"
    }
   ],
   "source": [
    "len(df_dropped_eth_only)"
   ]
  },
  {
   "cell_type": "markdown",
   "id": "6f454d07-c962-4a7e-a5c0-9c77721c433c",
   "metadata": {},
   "source": [
    "#### How many txs are there unique"
   ]
  },
  {
   "cell_type": "code",
   "execution_count": 77,
   "id": "2a47eb46-4e01-4f6e-9776-6626779713ae",
   "metadata": {},
   "outputs": [
    {
     "data": {
      "text/plain": [
       "2053368"
      ]
     },
     "execution_count": 77,
     "metadata": {},
     "output_type": "execute_result"
    }
   ],
   "source": [
    "len(df_dropped_eth_only['Transaction_hash'].unique())"
   ]
  },
  {
   "cell_type": "markdown",
   "id": "4ddf89ff-4c1a-4030-b808-f16205258156",
   "metadata": {},
   "source": [
    "#### how many tx entries are duplicated"
   ]
  },
  {
   "cell_type": "code",
   "execution_count": 85,
   "id": "57b5fe1b-cdf2-4d9e-bc5e-fe9c21ee514d",
   "metadata": {},
   "outputs": [],
   "source": [
    "counted_hashes = Counter(list(df_dropped_eth_only['Transaction_hash']))"
   ]
  },
  {
   "cell_type": "code",
   "execution_count": 115,
   "id": "5ac2f97e-ca6b-4cb2-af11-789deb430867",
   "metadata": {},
   "outputs": [
    {
     "data": {
      "text/plain": [
       "350447"
      ]
     },
     "execution_count": 115,
     "metadata": {},
     "output_type": "execute_result"
    }
   ],
   "source": [
    "len([ x[0] for x in counted_hashes.items() if x[1]>1 ])"
   ]
  },
  {
   "cell_type": "markdown",
   "id": "c28c1d6d-add0-4aca-a187-b8c5a180ebcd",
   "metadata": {},
   "source": [
    "### How many nfts are there?"
   ]
  },
  {
   "cell_type": "code",
   "execution_count": 91,
   "id": "695466db-763b-4a83-aaa2-38307dfdc182",
   "metadata": {},
   "outputs": [
    {
     "data": {
      "text/plain": [
       "1641490"
      ]
     },
     "execution_count": 91,
     "metadata": {},
     "output_type": "execute_result"
    }
   ],
   "source": [
    "len())"
   ]
  },
  {
   "cell_type": "code",
   "execution_count": 117,
   "id": "ec65bcbc-1e6e-448b-bdd8-808bf60048f7",
   "metadata": {},
   "outputs": [
    {
     "data": {
      "text/plain": [
       "1"
      ]
     },
     "execution_count": 117,
     "metadata": {},
     "output_type": "execute_result"
    }
   ],
   "source": [
    "counted_hashes['0x78aa25162224b01c9f46c00a77fa0c00e9b62003a72425c60ed486ac5ccccf5b']"
   ]
  },
  {
   "cell_type": "markdown",
   "id": "3d0b7723-88d1-4859-8dda-2ad8ae348907",
   "metadata": {},
   "source": [
    "### How many nfts are duplicated?"
   ]
  },
  {
   "cell_type": "code",
   "execution_count": 95,
   "id": "a48c8d4f-c04a-43b2-ad9d-e4f442a407e4",
   "metadata": {},
   "outputs": [],
   "source": [
    "dupped_hashes = set([ x[0] for x in counted_hashes.items() if x[1]>1 ])"
   ]
  },
  {
   "cell_type": "code",
   "execution_count": 98,
   "id": "c4ff262a-fbf6-4696-a5e9-1d8dc985ef90",
   "metadata": {},
   "outputs": [],
   "source": [
    "nfts_with_dups = set(df_dropped_eth_only[df_dropped_eth_only['Transaction_hash'].isin(dupped_hashes)]['ID_token'])"
   ]
  },
  {
   "cell_type": "code",
   "execution_count": 99,
   "id": "1bf5c4c5-addc-4b03-9655-6831dcc0b461",
   "metadata": {},
   "outputs": [
    {
     "data": {
      "text/plain": [
       "638431"
      ]
     },
     "execution_count": 99,
     "metadata": {},
     "output_type": "execute_result"
    }
   ],
   "source": [
    "len(nfts_with_dups)"
   ]
  },
  {
   "cell_type": "code",
   "execution_count": 101,
   "id": "2f7b7d83-530d-4797-9593-67349b484129",
   "metadata": {},
   "outputs": [],
   "source": [
    "clean_nfts = set(df_dropped_eth_only['ID_token'])-(nfts_with_dups)"
   ]
  },
  {
   "cell_type": "code",
   "execution_count": 102,
   "id": "7577b581-2c2d-43b1-bcd5-9e8c768fb044",
   "metadata": {},
   "outputs": [],
   "source": [
    "df_with_clean_nfs = df_dropped_eth_only[df_dropped_eth_only['ID_token'].isin(clean_nfts)]"
   ]
  },
  {
   "cell_type": "code",
   "execution_count": 103,
   "id": "34c3317a-25b7-48c8-b79f-373e7a2f4d07",
   "metadata": {},
   "outputs": [
    {
     "data": {
      "text/plain": [
       "1617637"
      ]
     },
     "execution_count": 103,
     "metadata": {},
     "output_type": "execute_result"
    }
   ],
   "source": [
    "len(df_with_clean_nfs)"
   ]
  },
  {
   "cell_type": "code",
   "execution_count": 105,
   "id": "6dd25939-84cc-4d08-94c3-98205aa409eb",
   "metadata": {},
   "outputs": [],
   "source": [
    "df_with_clean_nfs.to_csv(\"/Users/haaroony/OneDrive - Pometry Ltd/nft_andrea/Data_API_clean_nfts_ETH_only.csv\", index=False)"
   ]
  },
  {
   "cell_type": "code",
   "execution_count": 106,
   "id": "b899f604-80fa-40d8-8f89-e2b84e2a9df7",
   "metadata": {},
   "outputs": [
    {
     "data": {
      "text/plain": [
       "1617637"
      ]
     },
     "execution_count": 106,
     "metadata": {},
     "output_type": "execute_result"
    }
   ],
   "source": [
    "len(df_with_clean_nfs)"
   ]
  },
  {
   "cell_type": "code",
   "execution_count": 108,
   "id": "597c2cc5-42c6-4f52-b8d1-b7e959830f8f",
   "metadata": {},
   "outputs": [
    {
     "data": {
      "text/plain": [
       "'2021-04-27 23:59:51'"
      ]
     },
     "execution_count": 108,
     "metadata": {},
     "output_type": "execute_result"
    }
   ],
   "source": [
    "max(df_with_clean_nfs['Datetime_updated_seconds'])"
   ]
  },
  {
   "cell_type": "code",
   "execution_count": 114,
   "id": "5496d266-e517-4a12-8ff6-76a97a2ca07c",
   "metadata": {},
   "outputs": [
    {
     "data": {
      "text/plain": [
       "False"
      ]
     },
     "execution_count": 114,
     "metadata": {},
     "output_type": "execute_result"
    }
   ],
   "source": [
    "228 in clean_nfts"
   ]
  },
  {
   "cell_type": "markdown",
   "id": "636904a2-4aa9-494d-aded-66666cfcf3cb",
   "metadata": {},
   "source": [
    "### Clean data with timestamp, buyer address, token_id "
   ]
  },
  {
   "cell_type": "code",
   "execution_count": 135,
   "id": "ece57f72-c19a-4efb-b0ca-699f0d71ec0b",
   "metadata": {},
   "outputs": [
    {
     "name": "stderr",
     "output_type": "stream",
     "text": [
      "/var/folders/rm/nnz28pc96cv2xqzbwlwvwl2r0000gn/T/ipykernel_26651/1258917884.py:1: SettingWithCopyWarning: \n",
      "A value is trying to be set on a copy of a slice from a DataFrame.\n",
      "Try using .loc[row_indexer,col_indexer] = value instead\n",
      "\n",
      "See the caveats in the documentation: https://pandas.pydata.org/pandas-docs/stable/user_guide/indexing.html#returning-a-view-versus-a-copy\n",
      "  df_dropped_eth_only['comb_label'] =df_dropped_eth_only.apply (lambda row: str(row['Buyer_address'])+'_'+str(row['ID_token'])+'_'+str(row['Datetime_updated_seconds']), axis=1)\n"
     ]
    }
   ],
   "source": [
    "df_dropped_eth_only['comb_label'] =df_dropped_eth_only.apply (lambda row: str(row['Buyer_address'])+'_'+str(row['ID_token'])+'_'+str(row['Datetime_updated_seconds']), axis=1)"
   ]
  },
  {
   "cell_type": "code",
   "execution_count": 136,
   "id": "3553966e-ca36-4b84-b015-19c68c5c4523",
   "metadata": {},
   "outputs": [],
   "source": [
    "bad_columns = Counter(list(df_dropped_eth_only['comb_label']))"
   ]
  },
  {
   "cell_type": "code",
   "execution_count": 137,
   "id": "cde31385-b375-4296-94c5-4031fe175528",
   "metadata": {},
   "outputs": [
    {
     "data": {
      "text/plain": [
       "216"
      ]
     },
     "execution_count": 137,
     "metadata": {},
     "output_type": "execute_result"
    }
   ],
   "source": [
    "len(set([ x for x in bad_columns.items() if x[1]>1 ]))"
   ]
  },
  {
   "cell_type": "code",
   "execution_count": null,
   "id": "530c5668-61fd-4dd4-910b-a55ec150dc35",
   "metadata": {},
   "outputs": [],
   "source": [
    "set([ x for x in bad_columns.items() if x[1]>1 ])"
   ]
  },
  {
   "cell_type": "markdown",
   "id": "b31f141a-92c0-4b86-b6a5-73ac91648cb3",
   "metadata": {},
   "source": [
    "#### How many nfts is this?"
   ]
  },
  {
   "cell_type": "code",
   "execution_count": 180,
   "id": "9ee2655f-c0a3-449a-b7eb-eca437222ec0",
   "metadata": {},
   "outputs": [
    {
     "data": {
      "text/html": [
       "<div>\n",
       "<style scoped>\n",
       "    .dataframe tbody tr th:only-of-type {\n",
       "        vertical-align: middle;\n",
       "    }\n",
       "\n",
       "    .dataframe tbody tr th {\n",
       "        vertical-align: top;\n",
       "    }\n",
       "\n",
       "    .dataframe thead th {\n",
       "        text-align: right;\n",
       "    }\n",
       "</style>\n",
       "<table border=\"1\" class=\"dataframe\">\n",
       "  <thead>\n",
       "    <tr style=\"text-align: right;\">\n",
       "      <th></th>\n",
       "      <th>Smart_contract</th>\n",
       "      <th>ID_token</th>\n",
       "      <th>Transaction_hash</th>\n",
       "      <th>Seller_address</th>\n",
       "      <th>Seller_username</th>\n",
       "      <th>Buyer_address</th>\n",
       "      <th>Buyer_username</th>\n",
       "      <th>Image_url_1</th>\n",
       "      <th>Image_url_2</th>\n",
       "      <th>Image_url_3</th>\n",
       "      <th>...</th>\n",
       "      <th>Name</th>\n",
       "      <th>Description</th>\n",
       "      <th>Collection</th>\n",
       "      <th>Market</th>\n",
       "      <th>Datetime_updated</th>\n",
       "      <th>Datetime_updated_seconds</th>\n",
       "      <th>Permanent_link</th>\n",
       "      <th>Unique_id_collection</th>\n",
       "      <th>Collection_cleaned</th>\n",
       "      <th>Category</th>\n",
       "    </tr>\n",
       "  </thead>\n",
       "  <tbody>\n",
       "    <tr>\n",
       "      <th>0</th>\n",
       "      <td>NaN</td>\n",
       "      <td>87094722.0</td>\n",
       "      <td>0xed9ff1c311a611e5c457ce0a49bbbb7ed55efca98842...</td>\n",
       "      <td>0x76481caa104b5f6bccb540dae4cefaf1c398ebea</td>\n",
       "      <td>NaN</td>\n",
       "      <td>0xe0fb7622091e3d9ef9b438471b10b9ea88c7cf6b</td>\n",
       "      <td>NaN</td>\n",
       "      <td>https://card.godsunchained.com/?id=33&amp;q=4</td>\n",
       "      <td>NaN</td>\n",
       "      <td>NaN</td>\n",
       "      <td>...</td>\n",
       "      <td>NaN</td>\n",
       "      <td>NaN</td>\n",
       "      <td>Godsunchained</td>\n",
       "      <td>Godsunchained</td>\n",
       "      <td>2019-11-30 00:00:00</td>\n",
       "      <td>2019-11-30 23:59:33</td>\n",
       "      <td>NaN</td>\n",
       "      <td>('Godsunchained', '87094722.0')</td>\n",
       "      <td>Godsunchained</td>\n",
       "      <td>Games</td>\n",
       "    </tr>\n",
       "    <tr>\n",
       "      <th>1</th>\n",
       "      <td>NaN</td>\n",
       "      <td>73044643.0</td>\n",
       "      <td>0xbc8412594ffa7382e8306215ece5b4e041fc641b1813...</td>\n",
       "      <td>0x76481caa104b5f6bccb540dae4cefaf1c398ebea</td>\n",
       "      <td>NaN</td>\n",
       "      <td>0x2c00d05ff7ffe93d77145dfe12aa56e622ae6f40</td>\n",
       "      <td>NaN</td>\n",
       "      <td>https://card.godsunchained.com/?id=79&amp;q=4</td>\n",
       "      <td>NaN</td>\n",
       "      <td>NaN</td>\n",
       "      <td>...</td>\n",
       "      <td>NaN</td>\n",
       "      <td>NaN</td>\n",
       "      <td>Godsunchained</td>\n",
       "      <td>Godsunchained</td>\n",
       "      <td>2019-11-30 00:00:00</td>\n",
       "      <td>2019-11-30 23:59:33</td>\n",
       "      <td>NaN</td>\n",
       "      <td>('Godsunchained', '73044643.0')</td>\n",
       "      <td>Godsunchained</td>\n",
       "      <td>Games</td>\n",
       "    </tr>\n",
       "    <tr>\n",
       "      <th>2</th>\n",
       "      <td>NaN</td>\n",
       "      <td>17107482.0</td>\n",
       "      <td>0x92672baf5e9e23de230dee8e57ddf443ab6d5a336341...</td>\n",
       "      <td>0x76481caa104b5f6bccb540dae4cefaf1c398ebea</td>\n",
       "      <td>NaN</td>\n",
       "      <td>0xe0fb7622091e3d9ef9b438471b10b9ea88c7cf6b</td>\n",
       "      <td>NaN</td>\n",
       "      <td>https://card.godsunchained.com/?id=33&amp;q=4</td>\n",
       "      <td>NaN</td>\n",
       "      <td>NaN</td>\n",
       "      <td>...</td>\n",
       "      <td>NaN</td>\n",
       "      <td>NaN</td>\n",
       "      <td>Godsunchained</td>\n",
       "      <td>Godsunchained</td>\n",
       "      <td>2019-11-30 00:00:00</td>\n",
       "      <td>2019-11-30 23:59:33</td>\n",
       "      <td>NaN</td>\n",
       "      <td>('Godsunchained', '17107482.0')</td>\n",
       "      <td>Godsunchained</td>\n",
       "      <td>Games</td>\n",
       "    </tr>\n",
       "    <tr>\n",
       "      <th>3</th>\n",
       "      <td>NaN</td>\n",
       "      <td>82230857.0</td>\n",
       "      <td>0x3d157249e3083622c2d756f07a05caa3a76687288b32...</td>\n",
       "      <td>0x76481caa104b5f6bccb540dae4cefaf1c398ebea</td>\n",
       "      <td>NaN</td>\n",
       "      <td>0x2c00d05ff7ffe93d77145dfe12aa56e622ae6f40</td>\n",
       "      <td>NaN</td>\n",
       "      <td>https://card.godsunchained.com/?id=227&amp;q=4</td>\n",
       "      <td>NaN</td>\n",
       "      <td>NaN</td>\n",
       "      <td>...</td>\n",
       "      <td>NaN</td>\n",
       "      <td>NaN</td>\n",
       "      <td>Godsunchained</td>\n",
       "      <td>Godsunchained</td>\n",
       "      <td>2019-11-30 00:00:00</td>\n",
       "      <td>2019-11-30 23:59:33</td>\n",
       "      <td>NaN</td>\n",
       "      <td>('Godsunchained', '82230857.0')</td>\n",
       "      <td>Godsunchained</td>\n",
       "      <td>Games</td>\n",
       "    </tr>\n",
       "    <tr>\n",
       "      <th>4</th>\n",
       "      <td>NaN</td>\n",
       "      <td>40925443.0</td>\n",
       "      <td>0xa892b3569dc8e6b3c7db93aade62372637ebbc61fb63...</td>\n",
       "      <td>0x76481caa104b5f6bccb540dae4cefaf1c398ebea</td>\n",
       "      <td>NaN</td>\n",
       "      <td>0x2c00d05ff7ffe93d77145dfe12aa56e622ae6f40</td>\n",
       "      <td>NaN</td>\n",
       "      <td>https://card.godsunchained.com/?id=62&amp;q=4</td>\n",
       "      <td>NaN</td>\n",
       "      <td>NaN</td>\n",
       "      <td>...</td>\n",
       "      <td>NaN</td>\n",
       "      <td>NaN</td>\n",
       "      <td>Godsunchained</td>\n",
       "      <td>Godsunchained</td>\n",
       "      <td>2019-11-30 00:00:00</td>\n",
       "      <td>2019-11-30 23:58:44</td>\n",
       "      <td>NaN</td>\n",
       "      <td>('Godsunchained', '40925443.0')</td>\n",
       "      <td>Godsunchained</td>\n",
       "      <td>Games</td>\n",
       "    </tr>\n",
       "    <tr>\n",
       "      <th>...</th>\n",
       "      <td>...</td>\n",
       "      <td>...</td>\n",
       "      <td>...</td>\n",
       "      <td>...</td>\n",
       "      <td>...</td>\n",
       "      <td>...</td>\n",
       "      <td>...</td>\n",
       "      <td>...</td>\n",
       "      <td>...</td>\n",
       "      <td>...</td>\n",
       "      <td>...</td>\n",
       "      <td>...</td>\n",
       "      <td>...</td>\n",
       "      <td>...</td>\n",
       "      <td>...</td>\n",
       "      <td>...</td>\n",
       "      <td>...</td>\n",
       "      <td>...</td>\n",
       "      <td>...</td>\n",
       "      <td>...</td>\n",
       "      <td>...</td>\n",
       "    </tr>\n",
       "    <tr>\n",
       "      <th>6071022</th>\n",
       "      <td>0xb932a70a57673d89f4acffbe830e8ed7f75fb9e0</td>\n",
       "      <td>16412</td>\n",
       "      <td>0x346561b3f7a233c4245f91c68940b2d750df26ef1b04...</td>\n",
       "      <td>0x9f37284b3a538be8eea2d401b595f44c96d39b70</td>\n",
       "      <td>NaN</td>\n",
       "      <td>0xa353401738e7ec6a4db9c0ee4c66eb5252f681c4</td>\n",
       "      <td>NaN</td>\n",
       "      <td>https://lh3.googleusercontent.com/isSUPEsJJWpF...</td>\n",
       "      <td>https://ipfs.pixura.io/ipfs/QmSHxximuHUZV54pAA...</td>\n",
       "      <td>https://lh3.googleusercontent.com/isSUPEsJJWpF...</td>\n",
       "      <td>...</td>\n",
       "      <td>Pájaro Doctor 13/40</td>\n",
       "      <td>Digital piece made by using a variety of softw...</td>\n",
       "      <td>Superrare</td>\n",
       "      <td>OpenSea</td>\n",
       "      <td>2021-04-01 00:00:00</td>\n",
       "      <td>2021-04-01 00:00:52</td>\n",
       "      <td>https://opensea.io/assets/0xb932a70a57673d89f4...</td>\n",
       "      <td>('Superrare', '16412')</td>\n",
       "      <td>Superrare</td>\n",
       "      <td>Art</td>\n",
       "    </tr>\n",
       "    <tr>\n",
       "      <th>6071023</th>\n",
       "      <td>0x495f947276749ce646f68ac8c248420045cb7b5e</td>\n",
       "      <td>1062274196422536302774639391540663457511117433...</td>\n",
       "      <td>0xd507715bb835252a65d572037ac8eb36854b05ecc672...</td>\n",
       "      <td>0xeada96bf164643bdfe3e657a9f380854694a49dd</td>\n",
       "      <td>Mistcop</td>\n",
       "      <td>0xe2fe53f9bcb33e3e0fc65f2f627ca4eb8e958347</td>\n",
       "      <td>NaN</td>\n",
       "      <td>https://lh3.googleusercontent.com/qdzZDtYHHVdi...</td>\n",
       "      <td>NaN</td>\n",
       "      <td>https://lh3.googleusercontent.com/qdzZDtYHHVdi...</td>\n",
       "      <td>...</td>\n",
       "      <td>Kawaii Monster #2</td>\n",
       "      <td>NaN</td>\n",
       "      <td>Kawaii-monsters</td>\n",
       "      <td>OpenSea</td>\n",
       "      <td>2021-04-01 00:00:00</td>\n",
       "      <td>2021-04-01 00:00:50</td>\n",
       "      <td>https://opensea.io/assets/0x495f947276749ce646...</td>\n",
       "      <td>('Kawaii-monsters', '1062274196422536302774639...</td>\n",
       "      <td>Kawaiimonster</td>\n",
       "      <td>Other</td>\n",
       "    </tr>\n",
       "    <tr>\n",
       "      <th>6071024</th>\n",
       "      <td>0x495f947276749ce646f68ac8c248420045cb7b5e</td>\n",
       "      <td>4602588071276327231659212203812866312085457052...</td>\n",
       "      <td>0x4cb90a775619a9483c003050de47c403fae957e5352b...</td>\n",
       "      <td>0x65c1b9ae4e4d8dcccfd3dc41b940840fe8570f2a</td>\n",
       "      <td>International_Megadigital</td>\n",
       "      <td>0x220d20310f52d97e353028ebd742d2c690eaf0a1</td>\n",
       "      <td>WanderlustNFT</td>\n",
       "      <td>https://lh3.googleusercontent.com/SoTAV8k4UC90...</td>\n",
       "      <td>NaN</td>\n",
       "      <td>https://lh3.googleusercontent.com/SoTAV8k4UC90...</td>\n",
       "      <td>...</td>\n",
       "      <td>Bishoujo Originals - #4977</td>\n",
       "      <td>The original source for collectible Bishoujo h...</td>\n",
       "      <td>Moe-tokens</td>\n",
       "      <td>OpenSea</td>\n",
       "      <td>2021-04-01 00:00:00</td>\n",
       "      <td>2021-04-01 00:00:51</td>\n",
       "      <td>https://opensea.io/assets/0x495f947276749ce646...</td>\n",
       "      <td>('Moe-tokens', '460258807127632723165921220381...</td>\n",
       "      <td>Moetoken</td>\n",
       "      <td>Other</td>\n",
       "    </tr>\n",
       "    <tr>\n",
       "      <th>6071025</th>\n",
       "      <td>0x495f947276749ce646f68ac8c248420045cb7b5e</td>\n",
       "      <td>8060875342503467325201444233539848397816312727...</td>\n",
       "      <td>0x76068e84592753bb1e076c5320c7e3ecfe41e4da8ebe...</td>\n",
       "      <td>0xb236f00808a9f88b3117af95c881966288dfbcbb</td>\n",
       "      <td>TheOfficialGarrett</td>\n",
       "      <td>0xd543a0be0684f0556786586b83f4c9fd16a4dc35</td>\n",
       "      <td>kittylord</td>\n",
       "      <td>https://lh3.googleusercontent.com/AWwjq0cuTjHF...</td>\n",
       "      <td>NaN</td>\n",
       "      <td>https://lh3.googleusercontent.com/AWwjq0cuTjHF...</td>\n",
       "      <td>...</td>\n",
       "      <td>Smile 0066</td>\n",
       "      <td>Coming to you hot!  Not Fun Tokens or (NFT's)!...</td>\n",
       "      <td>Not-fun-tokens</td>\n",
       "      <td>OpenSea</td>\n",
       "      <td>2021-04-01 00:00:00</td>\n",
       "      <td>2021-04-01 00:00:40</td>\n",
       "      <td>https://opensea.io/assets/0x495f947276749ce646...</td>\n",
       "      <td>('Not-fun-tokens', '80608753425034673252014442...</td>\n",
       "      <td>Notfuntoken</td>\n",
       "      <td>Other</td>\n",
       "    </tr>\n",
       "    <tr>\n",
       "      <th>6071026</th>\n",
       "      <td>0x495f947276749ce646f68ac8c248420045cb7b5e</td>\n",
       "      <td>8060875342503467325201444233539848397816312727...</td>\n",
       "      <td>0x6efdcfde266760201767ba099c1f10f47937a8098720...</td>\n",
       "      <td>0xb236f00808a9f88b3117af95c881966288dfbcbb</td>\n",
       "      <td>TheOfficialGarrett</td>\n",
       "      <td>0xd543a0be0684f0556786586b83f4c9fd16a4dc35</td>\n",
       "      <td>kittylord</td>\n",
       "      <td>https://lh3.googleusercontent.com/1PSAAdTKWB5p...</td>\n",
       "      <td>NaN</td>\n",
       "      <td>https://lh3.googleusercontent.com/1PSAAdTKWB5p...</td>\n",
       "      <td>...</td>\n",
       "      <td>Smile 0023</td>\n",
       "      <td>Coming to you hot!  Not Fun Tokens or (NFT's)!...</td>\n",
       "      <td>Not-fun-tokens</td>\n",
       "      <td>OpenSea</td>\n",
       "      <td>2021-04-01 00:00:00</td>\n",
       "      <td>2021-04-01 00:00:40</td>\n",
       "      <td>https://opensea.io/assets/0x495f947276749ce646...</td>\n",
       "      <td>('Not-fun-tokens', '80608753425034673252014442...</td>\n",
       "      <td>Notfuntoken</td>\n",
       "      <td>Other</td>\n",
       "    </tr>\n",
       "  </tbody>\n",
       "</table>\n",
       "<p>6071027 rows × 24 columns</p>\n",
       "</div>"
      ],
      "text/plain": [
       "                                     Smart_contract  \\\n",
       "0                                               NaN   \n",
       "1                                               NaN   \n",
       "2                                               NaN   \n",
       "3                                               NaN   \n",
       "4                                               NaN   \n",
       "...                                             ...   \n",
       "6071022  0xb932a70a57673d89f4acffbe830e8ed7f75fb9e0   \n",
       "6071023  0x495f947276749ce646f68ac8c248420045cb7b5e   \n",
       "6071024  0x495f947276749ce646f68ac8c248420045cb7b5e   \n",
       "6071025  0x495f947276749ce646f68ac8c248420045cb7b5e   \n",
       "6071026  0x495f947276749ce646f68ac8c248420045cb7b5e   \n",
       "\n",
       "                                                  ID_token  \\\n",
       "0                                               87094722.0   \n",
       "1                                               73044643.0   \n",
       "2                                               17107482.0   \n",
       "3                                               82230857.0   \n",
       "4                                               40925443.0   \n",
       "...                                                    ...   \n",
       "6071022                                              16412   \n",
       "6071023  1062274196422536302774639391540663457511117433...   \n",
       "6071024  4602588071276327231659212203812866312085457052...   \n",
       "6071025  8060875342503467325201444233539848397816312727...   \n",
       "6071026  8060875342503467325201444233539848397816312727...   \n",
       "\n",
       "                                          Transaction_hash  \\\n",
       "0        0xed9ff1c311a611e5c457ce0a49bbbb7ed55efca98842...   \n",
       "1        0xbc8412594ffa7382e8306215ece5b4e041fc641b1813...   \n",
       "2        0x92672baf5e9e23de230dee8e57ddf443ab6d5a336341...   \n",
       "3        0x3d157249e3083622c2d756f07a05caa3a76687288b32...   \n",
       "4        0xa892b3569dc8e6b3c7db93aade62372637ebbc61fb63...   \n",
       "...                                                    ...   \n",
       "6071022  0x346561b3f7a233c4245f91c68940b2d750df26ef1b04...   \n",
       "6071023  0xd507715bb835252a65d572037ac8eb36854b05ecc672...   \n",
       "6071024  0x4cb90a775619a9483c003050de47c403fae957e5352b...   \n",
       "6071025  0x76068e84592753bb1e076c5320c7e3ecfe41e4da8ebe...   \n",
       "6071026  0x6efdcfde266760201767ba099c1f10f47937a8098720...   \n",
       "\n",
       "                                     Seller_address  \\\n",
       "0        0x76481caa104b5f6bccb540dae4cefaf1c398ebea   \n",
       "1        0x76481caa104b5f6bccb540dae4cefaf1c398ebea   \n",
       "2        0x76481caa104b5f6bccb540dae4cefaf1c398ebea   \n",
       "3        0x76481caa104b5f6bccb540dae4cefaf1c398ebea   \n",
       "4        0x76481caa104b5f6bccb540dae4cefaf1c398ebea   \n",
       "...                                             ...   \n",
       "6071022  0x9f37284b3a538be8eea2d401b595f44c96d39b70   \n",
       "6071023  0xeada96bf164643bdfe3e657a9f380854694a49dd   \n",
       "6071024  0x65c1b9ae4e4d8dcccfd3dc41b940840fe8570f2a   \n",
       "6071025  0xb236f00808a9f88b3117af95c881966288dfbcbb   \n",
       "6071026  0xb236f00808a9f88b3117af95c881966288dfbcbb   \n",
       "\n",
       "                   Seller_username  \\\n",
       "0                              NaN   \n",
       "1                              NaN   \n",
       "2                              NaN   \n",
       "3                              NaN   \n",
       "4                              NaN   \n",
       "...                            ...   \n",
       "6071022                        NaN   \n",
       "6071023                    Mistcop   \n",
       "6071024  International_Megadigital   \n",
       "6071025         TheOfficialGarrett   \n",
       "6071026         TheOfficialGarrett   \n",
       "\n",
       "                                      Buyer_address Buyer_username  \\\n",
       "0        0xe0fb7622091e3d9ef9b438471b10b9ea88c7cf6b            NaN   \n",
       "1        0x2c00d05ff7ffe93d77145dfe12aa56e622ae6f40            NaN   \n",
       "2        0xe0fb7622091e3d9ef9b438471b10b9ea88c7cf6b            NaN   \n",
       "3        0x2c00d05ff7ffe93d77145dfe12aa56e622ae6f40            NaN   \n",
       "4        0x2c00d05ff7ffe93d77145dfe12aa56e622ae6f40            NaN   \n",
       "...                                             ...            ...   \n",
       "6071022  0xa353401738e7ec6a4db9c0ee4c66eb5252f681c4            NaN   \n",
       "6071023  0xe2fe53f9bcb33e3e0fc65f2f627ca4eb8e958347            NaN   \n",
       "6071024  0x220d20310f52d97e353028ebd742d2c690eaf0a1  WanderlustNFT   \n",
       "6071025  0xd543a0be0684f0556786586b83f4c9fd16a4dc35      kittylord   \n",
       "6071026  0xd543a0be0684f0556786586b83f4c9fd16a4dc35      kittylord   \n",
       "\n",
       "                                               Image_url_1  \\\n",
       "0                https://card.godsunchained.com/?id=33&q=4   \n",
       "1                https://card.godsunchained.com/?id=79&q=4   \n",
       "2                https://card.godsunchained.com/?id=33&q=4   \n",
       "3               https://card.godsunchained.com/?id=227&q=4   \n",
       "4                https://card.godsunchained.com/?id=62&q=4   \n",
       "...                                                    ...   \n",
       "6071022  https://lh3.googleusercontent.com/isSUPEsJJWpF...   \n",
       "6071023  https://lh3.googleusercontent.com/qdzZDtYHHVdi...   \n",
       "6071024  https://lh3.googleusercontent.com/SoTAV8k4UC90...   \n",
       "6071025  https://lh3.googleusercontent.com/AWwjq0cuTjHF...   \n",
       "6071026  https://lh3.googleusercontent.com/1PSAAdTKWB5p...   \n",
       "\n",
       "                                               Image_url_2  \\\n",
       "0                                                      NaN   \n",
       "1                                                      NaN   \n",
       "2                                                      NaN   \n",
       "3                                                      NaN   \n",
       "4                                                      NaN   \n",
       "...                                                    ...   \n",
       "6071022  https://ipfs.pixura.io/ipfs/QmSHxximuHUZV54pAA...   \n",
       "6071023                                                NaN   \n",
       "6071024                                                NaN   \n",
       "6071025                                                NaN   \n",
       "6071026                                                NaN   \n",
       "\n",
       "                                               Image_url_3  ...  \\\n",
       "0                                                      NaN  ...   \n",
       "1                                                      NaN  ...   \n",
       "2                                                      NaN  ...   \n",
       "3                                                      NaN  ...   \n",
       "4                                                      NaN  ...   \n",
       "...                                                    ...  ...   \n",
       "6071022  https://lh3.googleusercontent.com/isSUPEsJJWpF...  ...   \n",
       "6071023  https://lh3.googleusercontent.com/qdzZDtYHHVdi...  ...   \n",
       "6071024  https://lh3.googleusercontent.com/SoTAV8k4UC90...  ...   \n",
       "6071025  https://lh3.googleusercontent.com/AWwjq0cuTjHF...  ...   \n",
       "6071026  https://lh3.googleusercontent.com/1PSAAdTKWB5p...  ...   \n",
       "\n",
       "                               Name  \\\n",
       "0                               NaN   \n",
       "1                               NaN   \n",
       "2                               NaN   \n",
       "3                               NaN   \n",
       "4                               NaN   \n",
       "...                             ...   \n",
       "6071022         Pájaro Doctor 13/40   \n",
       "6071023           Kawaii Monster #2   \n",
       "6071024  Bishoujo Originals - #4977   \n",
       "6071025                  Smile 0066   \n",
       "6071026                  Smile 0023   \n",
       "\n",
       "                                               Description       Collection  \\\n",
       "0                                                      NaN    Godsunchained   \n",
       "1                                                      NaN    Godsunchained   \n",
       "2                                                      NaN    Godsunchained   \n",
       "3                                                      NaN    Godsunchained   \n",
       "4                                                      NaN    Godsunchained   \n",
       "...                                                    ...              ...   \n",
       "6071022  Digital piece made by using a variety of softw...        Superrare   \n",
       "6071023                                                NaN  Kawaii-monsters   \n",
       "6071024  The original source for collectible Bishoujo h...       Moe-tokens   \n",
       "6071025  Coming to you hot!  Not Fun Tokens or (NFT's)!...   Not-fun-tokens   \n",
       "6071026  Coming to you hot!  Not Fun Tokens or (NFT's)!...   Not-fun-tokens   \n",
       "\n",
       "                Market     Datetime_updated Datetime_updated_seconds  \\\n",
       "0        Godsunchained  2019-11-30 00:00:00      2019-11-30 23:59:33   \n",
       "1        Godsunchained  2019-11-30 00:00:00      2019-11-30 23:59:33   \n",
       "2        Godsunchained  2019-11-30 00:00:00      2019-11-30 23:59:33   \n",
       "3        Godsunchained  2019-11-30 00:00:00      2019-11-30 23:59:33   \n",
       "4        Godsunchained  2019-11-30 00:00:00      2019-11-30 23:58:44   \n",
       "...                ...                  ...                      ...   \n",
       "6071022        OpenSea  2021-04-01 00:00:00      2021-04-01 00:00:52   \n",
       "6071023        OpenSea  2021-04-01 00:00:00      2021-04-01 00:00:50   \n",
       "6071024        OpenSea  2021-04-01 00:00:00      2021-04-01 00:00:51   \n",
       "6071025        OpenSea  2021-04-01 00:00:00      2021-04-01 00:00:40   \n",
       "6071026        OpenSea  2021-04-01 00:00:00      2021-04-01 00:00:40   \n",
       "\n",
       "                                            Permanent_link  \\\n",
       "0                                                      NaN   \n",
       "1                                                      NaN   \n",
       "2                                                      NaN   \n",
       "3                                                      NaN   \n",
       "4                                                      NaN   \n",
       "...                                                    ...   \n",
       "6071022  https://opensea.io/assets/0xb932a70a57673d89f4...   \n",
       "6071023  https://opensea.io/assets/0x495f947276749ce646...   \n",
       "6071024  https://opensea.io/assets/0x495f947276749ce646...   \n",
       "6071025  https://opensea.io/assets/0x495f947276749ce646...   \n",
       "6071026  https://opensea.io/assets/0x495f947276749ce646...   \n",
       "\n",
       "                                      Unique_id_collection Collection_cleaned  \\\n",
       "0                          ('Godsunchained', '87094722.0')      Godsunchained   \n",
       "1                          ('Godsunchained', '73044643.0')      Godsunchained   \n",
       "2                          ('Godsunchained', '17107482.0')      Godsunchained   \n",
       "3                          ('Godsunchained', '82230857.0')      Godsunchained   \n",
       "4                          ('Godsunchained', '40925443.0')      Godsunchained   \n",
       "...                                                    ...                ...   \n",
       "6071022                             ('Superrare', '16412')          Superrare   \n",
       "6071023  ('Kawaii-monsters', '1062274196422536302774639...      Kawaiimonster   \n",
       "6071024  ('Moe-tokens', '460258807127632723165921220381...           Moetoken   \n",
       "6071025  ('Not-fun-tokens', '80608753425034673252014442...        Notfuntoken   \n",
       "6071026  ('Not-fun-tokens', '80608753425034673252014442...        Notfuntoken   \n",
       "\n",
       "        Category  \n",
       "0          Games  \n",
       "1          Games  \n",
       "2          Games  \n",
       "3          Games  \n",
       "4          Games  \n",
       "...          ...  \n",
       "6071022      Art  \n",
       "6071023    Other  \n",
       "6071024    Other  \n",
       "6071025    Other  \n",
       "6071026    Other  \n",
       "\n",
       "[6071027 rows x 24 columns]"
      ]
     },
     "execution_count": 180,
     "metadata": {},
     "output_type": "execute_result"
    }
   ],
   "source": [
    "df_full"
   ]
  },
  {
   "cell_type": "code",
   "execution_count": 139,
   "id": "fd10e316-44ce-434e-a70d-6f7dd31a3dd9",
   "metadata": {},
   "outputs": [],
   "source": [
    "bad_buyers= set([x.split('_')[0] for x in bad_columns])"
   ]
  },
  {
   "cell_type": "code",
   "execution_count": 140,
   "id": "0137e1d1-82ed-444c-a898-93d4e266e2da",
   "metadata": {},
   "outputs": [],
   "source": [
    "bad_nfts = set(df_dropped_eth_only[df_dropped_eth_only['Buyer_address'].isin(bad_buyers)]['ID_token'])"
   ]
  },
  {
   "cell_type": "code",
   "execution_count": 144,
   "id": "a6bb5f41-0938-4771-a808-06d3e6607aab",
   "metadata": {},
   "outputs": [
    {
     "data": {
      "text/plain": [
       "(1641490, 1641490)"
      ]
     },
     "execution_count": 144,
     "metadata": {},
     "output_type": "execute_result"
    }
   ],
   "source": [
    "len(bad_nfts), len(set(df_dropped_eth_only['ID_token']))"
   ]
  },
  {
   "cell_type": "code",
   "execution_count": 141,
   "id": "46fa7d20-e98a-48a8-b30b-ac6a3886ae64",
   "metadata": {},
   "outputs": [],
   "source": [
    "df_no_bad_nfts = df_dropped_eth_only[~df_dropped_eth_only['ID_token'].isin(bad_nfts)]"
   ]
  },
  {
   "cell_type": "code",
   "execution_count": 133,
   "id": "5769e2c5-005e-48f2-a1f0-a0b197e5c97e",
   "metadata": {},
   "outputs": [],
   "source": [
    "df_no_bad_nfts.to_csv(\"/Users/haaroony/OneDrive - Pometry Ltd/nft_andrea/Data_API_clean_nfts_ETH_only.csv\", index=False)"
   ]
  },
  {
   "cell_type": "code",
   "execution_count": 134,
   "id": "cb3ed74e-3fea-4fcb-acfc-524598c0012b",
   "metadata": {},
   "outputs": [
    {
     "data": {
      "text/plain": [
       "'2021-04-27 23:59:51'"
      ]
     },
     "execution_count": 134,
     "metadata": {},
     "output_type": "execute_result"
    }
   ],
   "source": [
    "max(df_no_bad_nfts['Datetime_updated_seconds'])"
   ]
  },
  {
   "cell_type": "code",
   "execution_count": 147,
   "id": "8932561b-2186-4232-af47-f31d1f5c7f4e",
   "metadata": {},
   "outputs": [],
   "source": [
    "x = df_dropped_eth_only.groupby(['ID_token']).count().reset_index()"
   ]
  },
  {
   "cell_type": "code",
   "execution_count": 152,
   "id": "5b903e53-7c58-44d4-ab9b-663da18a7e12",
   "metadata": {},
   "outputs": [
    {
     "name": "stderr",
     "output_type": "stream",
     "text": [
      "/var/folders/rm/nnz28pc96cv2xqzbwlwvwl2r0000gn/T/ipykernel_26651/557561640.py:1: FutureWarning: Dropping of nuisance columns in DataFrame reductions (with 'numeric_only=None') is deprecated; in a future version this will raise TypeError.  Select only valid columns before calling the reduction.\n",
      "  x.max()\n"
     ]
    },
    {
     "data": {
      "text/plain": [
       "Smart_contract              7524\n",
       "Transaction_hash            7524\n",
       "Seller_address              7524\n",
       "Seller_username             7292\n",
       "Buyer_address               7524\n",
       "Buyer_username              6041\n",
       "Price_Crypto                7524\n",
       "Crypto                      7524\n",
       "Price_USD                   7524\n",
       "Collection                  7524\n",
       "Market                      7524\n",
       "Datetime_updated            7524\n",
       "Datetime_updated_seconds    7524\n",
       "Collection_cleaned          7524\n",
       "Category                    7524\n",
       "comb_label                  7524\n",
       "dtype: int64"
      ]
     },
     "execution_count": 152,
     "metadata": {},
     "output_type": "execute_result"
    }
   ],
   "source": [
    "x.max()"
   ]
  },
  {
   "cell_type": "code",
   "execution_count": 168,
   "id": "dab615b9-7c14-4ceb-8e8d-87b80db64860",
   "metadata": {},
   "outputs": [
    {
     "name": "stdout",
     "output_type": "stream",
     "text": [
      "0/1641490 - bad found 0\n",
      "100000/1641490 - bad found 30437\n",
      "200000/1641490 - bad found 50412\n",
      "300000/1641490 - bad found 71674\n",
      "400000/1641490 - bad found 86999\n",
      "500000/1641490 - bad found 97145\n",
      "600000/1641490 - bad found 105076\n",
      "700000/1641490 - bad found 111792\n",
      "800000/1641490 - bad found 118677\n",
      "900000/1641490 - bad found 140370\n",
      "1000000/1641490 - bad found 158492\n",
      "1100000/1641490 - bad found 181904\n",
      "1200000/1641490 - bad found 213500\n",
      "1300000/1641490 - bad found 250414\n",
      "1400000/1641490 - bad found 283129\n",
      "1500000/1641490 - bad found 311430\n",
      "1600000/1641490 - bad found 340325\n"
     ]
    }
   ],
   "source": [
    "nfts_with_double = set()\n",
    "allowd_cols = ['Transaction_hash', 'Seller_address', 'Buyer_address', 'Price_Crypto','Crypto', 'Price_USD', 'Market', 'Datetime_updated_seconds']\n",
    "for i, row in x.iterrows():\n",
    "    if i % 100_000 == 0:\n",
    "        print(\"%i/%i - bad found %i\" % (i, len(x), len(nfts_with_double)))\n",
    "    max_found = max([row.Transaction_hash, row.Crypto, row.Price_USD, row.Market, row.Datetime_updated_seconds, row.Buyer_address])\n",
    "    if max_found > 1:\n",
    "        nfts_with_double.add(row.ID_token)"
   ]
  },
  {
   "cell_type": "code",
   "execution_count": 177,
   "id": "271e342b-5e00-441f-ae55-2ba42c7bf844",
   "metadata": {},
   "outputs": [
    {
     "data": {
      "text/plain": [
       "False"
      ]
     },
     "execution_count": 177,
     "metadata": {},
     "output_type": "execute_result"
    }
   ],
   "source": [
    "640086 in nfts_with_double "
   ]
  },
  {
   "cell_type": "code",
   "execution_count": 169,
   "id": "e94f9806-e517-4e48-b3a6-ccd92326b5d2",
   "metadata": {},
   "outputs": [],
   "source": [
    "df_dropped_eth_only_no_double_entities = df_dropped_eth_only[~df_dropped_eth_only['ID_token'].isin(nfts_with_double)]"
   ]
  },
  {
   "cell_type": "code",
   "execution_count": 170,
   "id": "40b176cf-23b4-4135-aecb-ffcf636d73c2",
   "metadata": {},
   "outputs": [
    {
     "data": {
      "text/plain": [
       "1290107"
      ]
     },
     "execution_count": 170,
     "metadata": {},
     "output_type": "execute_result"
    }
   ],
   "source": [
    "len(df_dropped_eth_only_no_double_entities)"
   ]
  },
  {
   "cell_type": "code",
   "execution_count": 171,
   "id": "5c282f35-26e9-4884-89ed-592e668c3df0",
   "metadata": {},
   "outputs": [],
   "source": [
    "df_dropped_eth_only_no_double_entities.to_csv(\"/Users/haaroony/OneDrive - Pometry Ltd/nft_andrea/Data_API_clean_nfts_ETH_only.csv\", index=False)"
   ]
  },
  {
   "cell_type": "code",
   "execution_count": 173,
   "id": "eb3c7e35-2269-4fc0-936c-c036dd927b81",
   "metadata": {},
   "outputs": [
    {
     "data": {
      "text/plain": [
       "'2021-04-27 23:59:51'"
      ]
     },
     "execution_count": 173,
     "metadata": {},
     "output_type": "execute_result"
    }
   ],
   "source": [
    "max(df_dropped_eth_only_no_double_entities['Datetime_updated_seconds'])"
   ]
  },
  {
   "cell_type": "code",
   "execution_count": 179,
   "id": "c2e859e6-30cd-46c4-bb8b-3696bcd45775",
   "metadata": {},
   "outputs": [
    {
     "data": {
      "text/html": [
       "<div>\n",
       "<style scoped>\n",
       "    .dataframe tbody tr th:only-of-type {\n",
       "        vertical-align: middle;\n",
       "    }\n",
       "\n",
       "    .dataframe tbody tr th {\n",
       "        vertical-align: top;\n",
       "    }\n",
       "\n",
       "    .dataframe thead th {\n",
       "        text-align: right;\n",
       "    }\n",
       "</style>\n",
       "<table border=\"1\" class=\"dataframe\">\n",
       "  <thead>\n",
       "    <tr style=\"text-align: right;\">\n",
       "      <th></th>\n",
       "      <th>Smart_contract</th>\n",
       "      <th>ID_token</th>\n",
       "      <th>Transaction_hash</th>\n",
       "      <th>Seller_address</th>\n",
       "      <th>Seller_username</th>\n",
       "      <th>Buyer_address</th>\n",
       "      <th>Buyer_username</th>\n",
       "      <th>Price_Crypto</th>\n",
       "      <th>Crypto</th>\n",
       "      <th>Price_USD</th>\n",
       "      <th>Collection</th>\n",
       "      <th>Market</th>\n",
       "      <th>Datetime_updated</th>\n",
       "      <th>Datetime_updated_seconds</th>\n",
       "      <th>Collection_cleaned</th>\n",
       "      <th>Category</th>\n",
       "      <th>comb_label</th>\n",
       "    </tr>\n",
       "  </thead>\n",
       "  <tbody>\n",
       "    <tr>\n",
       "      <th>562199</th>\n",
       "      <td>NaN</td>\n",
       "      <td>640086</td>\n",
       "      <td>0xd8d8a2c747dda3783513f95bfa9bd6935cee505d873a...</td>\n",
       "      <td>0xfb9e56d1883b2c7d6c4ca544b20a647d5688ba27</td>\n",
       "      <td>NaN</td>\n",
       "      <td>0xbca1d1ee93827d26bd3e5ccb4e193c792489a172</td>\n",
       "      <td>NaN</td>\n",
       "      <td>0.031068</td>\n",
       "      <td>ETH</td>\n",
       "      <td>16.301363</td>\n",
       "      <td>Cryptokitties</td>\n",
       "      <td>Cryptokitties</td>\n",
       "      <td>2018-03-24 00:00:00</td>\n",
       "      <td>2018-03-24 13:38:15</td>\n",
       "      <td>Cryptokittie</td>\n",
       "      <td>Art</td>\n",
       "      <td>0xbca1d1ee93827d26bd3e5ccb4e193c792489a172_640...</td>\n",
       "    </tr>\n",
       "  </tbody>\n",
       "</table>\n",
       "</div>"
      ],
      "text/plain": [
       "       Smart_contract ID_token  \\\n",
       "562199            NaN   640086   \n",
       "\n",
       "                                         Transaction_hash  \\\n",
       "562199  0xd8d8a2c747dda3783513f95bfa9bd6935cee505d873a...   \n",
       "\n",
       "                                    Seller_address Seller_username  \\\n",
       "562199  0xfb9e56d1883b2c7d6c4ca544b20a647d5688ba27             NaN   \n",
       "\n",
       "                                     Buyer_address Buyer_username  \\\n",
       "562199  0xbca1d1ee93827d26bd3e5ccb4e193c792489a172            NaN   \n",
       "\n",
       "        Price_Crypto Crypto  Price_USD     Collection         Market  \\\n",
       "562199      0.031068    ETH  16.301363  Cryptokitties  Cryptokitties   \n",
       "\n",
       "           Datetime_updated Datetime_updated_seconds Collection_cleaned  \\\n",
       "562199  2018-03-24 00:00:00      2018-03-24 13:38:15       Cryptokittie   \n",
       "\n",
       "       Category                                         comb_label  \n",
       "562199      Art  0xbca1d1ee93827d26bd3e5ccb4e193c792489a172_640...  "
      ]
     },
     "execution_count": 179,
     "metadata": {},
     "output_type": "execute_result"
    }
   ],
   "source": [
    "df_dropped_eth_only_no_double_entities[df_dropped_eth_only_no_double_entities['ID_token']==640086]"
   ]
  },
  {
   "cell_type": "code",
   "execution_count": null,
   "id": "bb04637d-e5af-4f16-ae9b-57eb8ac91558",
   "metadata": {},
   "outputs": [],
   "source": []
  },
  {
   "cell_type": "markdown",
   "id": "58c24473-0403-4973-881f-4127f1b49697",
   "metadata": {},
   "source": [
    "## Reclean data"
   ]
  },
  {
   "cell_type": "code",
   "execution_count": null,
   "id": "f1d3c95e-c922-41e9-936c-f012096cb6b7",
   "metadata": {},
   "outputs": [],
   "source": [
    "df_full = pd.read_csv(\"/Users/haaroony/OneDrive - Pometry Ltd/nft_andrea/Data_API.csv\")\n",
    "drop_some_column = [\"Unique_id_collection\", \"Permanent_link\", \"Description\", \"Name\", \"Image_url_4\", \"Image_url_3\", \"Image_url_2\", \"Image_url_1\"]\n",
    "df_dropped = df_full.drop(columns=drop_some_column)"
   ]
  },
  {
   "cell_type": "code",
   "execution_count": 203,
   "id": "95fb9b6f-086c-4f64-bb5d-ad8006e48397",
   "metadata": {},
   "outputs": [],
   "source": [
    "df_dropped['ID_token'] = df_dropped['ID_token'].astype(str)\n",
    "df_dropped['Transaction_hash'] = df_dropped['Transaction_hash'].astype(str)\n",
    "df_dropped['Seller_address'] = df_dropped['Seller_address'].astype(str)\n",
    "df_dropped['Buyer_address'] = df_dropped['Buyer_address'].astype(str)\n",
    "df_dropped['Crypto'] = df_dropped['Crypto'].astype(str)\n",
    "df_dropped['Market'] = df_dropped['Market'].astype(str)\n",
    "df_dropped['Datetime_updated_seconds'] = df_dropped['Datetime_updated_seconds'].astype(str)"
   ]
  },
  {
   "cell_type": "code",
   "execution_count": 204,
   "id": "a35c3de7-9cb1-4f31-94cc-8ebc650c1f94",
   "metadata": {},
   "outputs": [
    {
     "name": "stdout",
     "output_type": "stream",
     "text": [
      "<class 'pandas.core.frame.DataFrame'>\n",
      "RangeIndex: 6071027 entries, 0 to 6071026\n",
      "Data columns (total 16 columns):\n",
      " #   Column                    Dtype  \n",
      "---  ------                    -----  \n",
      " 0   Smart_contract            object \n",
      " 1   ID_token                  object \n",
      " 2   Transaction_hash          object \n",
      " 3   Seller_address            object \n",
      " 4   Seller_username           object \n",
      " 5   Buyer_address             object \n",
      " 6   Buyer_username            object \n",
      " 7   Price_Crypto              float64\n",
      " 8   Crypto                    object \n",
      " 9   Price_USD                 float64\n",
      " 10  Collection                object \n",
      " 11  Market                    object \n",
      " 12  Datetime_updated          object \n",
      " 13  Datetime_updated_seconds  object \n",
      " 14  Collection_cleaned        object \n",
      " 15  Category                  object \n",
      "dtypes: float64(2), object(14)\n",
      "memory usage: 741.1+ MB\n"
     ]
    }
   ],
   "source": [
    "df_dropped.info()"
   ]
  },
  {
   "cell_type": "code",
   "execution_count": 205,
   "id": "44f7ca04-a83a-4128-91b2-c8849c79dfff",
   "metadata": {},
   "outputs": [],
   "source": [
    "df_eth = df_dropped[df_dropped['Crypto']=='ETH'] "
   ]
  },
  {
   "cell_type": "code",
   "execution_count": 217,
   "id": "f7541d22-7646-4d4e-85bd-b9bc9668b686",
   "metadata": {},
   "outputs": [
    {
     "data": {
      "text/plain": [
       "2405225"
      ]
     },
     "execution_count": 217,
     "metadata": {},
     "output_type": "execute_result"
    }
   ],
   "source": [
    "len(df_eth)"
   ]
  },
  {
   "cell_type": "code",
   "execution_count": null,
   "id": "a3c1d94e-cfe1-440a-b7d7-3857d026a1f2",
   "metadata": {},
   "outputs": [],
   "source": [
    "df_eth.drop_duplicates(inplace=True)"
   ]
  },
  {
   "cell_type": "code",
   "execution_count": 219,
   "id": "76cd1786-d195-44d4-9845-0295e81797f6",
   "metadata": {},
   "outputs": [
    {
     "data": {
      "text/plain": [
       "2405225"
      ]
     },
     "execution_count": 219,
     "metadata": {},
     "output_type": "execute_result"
    }
   ],
   "source": [
    "len(df_eth)"
   ]
  },
  {
   "cell_type": "code",
   "execution_count": 222,
   "id": "fcf31df0-f25a-4c0f-80cb-2bf2b587eb91",
   "metadata": {},
   "outputs": [
    {
     "data": {
      "text/html": [
       "<div>\n",
       "<style scoped>\n",
       "    .dataframe tbody tr th:only-of-type {\n",
       "        vertical-align: middle;\n",
       "    }\n",
       "\n",
       "    .dataframe tbody tr th {\n",
       "        vertical-align: top;\n",
       "    }\n",
       "\n",
       "    .dataframe thead th {\n",
       "        text-align: right;\n",
       "    }\n",
       "</style>\n",
       "<table border=\"1\" class=\"dataframe\">\n",
       "  <thead>\n",
       "    <tr style=\"text-align: right;\">\n",
       "      <th></th>\n",
       "      <th>Smart_contract</th>\n",
       "      <th>ID_token</th>\n",
       "      <th>Transaction_hash</th>\n",
       "      <th>Seller_address</th>\n",
       "      <th>Seller_username</th>\n",
       "      <th>Buyer_address</th>\n",
       "      <th>Buyer_username</th>\n",
       "      <th>Price_Crypto</th>\n",
       "      <th>Crypto</th>\n",
       "      <th>Price_USD</th>\n",
       "      <th>Collection</th>\n",
       "      <th>Market</th>\n",
       "      <th>Datetime_updated</th>\n",
       "      <th>Datetime_updated_seconds</th>\n",
       "      <th>Collection_cleaned</th>\n",
       "      <th>Category</th>\n",
       "    </tr>\n",
       "  </thead>\n",
       "  <tbody>\n",
       "    <tr>\n",
       "      <th>4169375</th>\n",
       "      <td>0xbb5ed1edeb5149af3ab43ea9c7a6963b3c1374f7</td>\n",
       "      <td>0</td>\n",
       "      <td>0xd7d21d15a331fe2445f1d1720236a35fb431ec706a1a...</td>\n",
       "      <td>0x53ec525b9df849be99263311f5b7f9fd6cfebea6</td>\n",
       "      <td>flamey</td>\n",
       "      <td>0xe820f08968489c466c77c2ea1a5c436d8c70d896</td>\n",
       "      <td>NaN</td>\n",
       "      <td>20.065799</td>\n",
       "      <td>ETH</td>\n",
       "      <td>14917.917977</td>\n",
       "      <td>Cryptocelebrities</td>\n",
       "      <td>OpenSea</td>\n",
       "      <td>2018-02-05 00:00:00</td>\n",
       "      <td>2018-02-05 04:10:37</td>\n",
       "      <td>Cryptocelebritie</td>\n",
       "      <td>Collectible</td>\n",
       "    </tr>\n",
       "    <tr>\n",
       "      <th>4257282</th>\n",
       "      <td>0x5d0ee539893323f9965e3ac2846ea6421255ae79</td>\n",
       "      <td>0</td>\n",
       "      <td>0xfaef63e4429b198ab643c33e6f2674588425abe391d8...</td>\n",
       "      <td>0xd04c453461a77b342fea9d1fec55861399401122</td>\n",
       "      <td>OniOni</td>\n",
       "      <td>0x183febd8828a9ac6c70c0e27fbf441b93004fc05</td>\n",
       "      <td>bjork</td>\n",
       "      <td>0.200000</td>\n",
       "      <td>ETH</td>\n",
       "      <td>76.530000</td>\n",
       "      <td>Hiprecious</td>\n",
       "      <td>OpenSea</td>\n",
       "      <td>2018-08-07 00:00:00</td>\n",
       "      <td>2018-08-07 00:39:41</td>\n",
       "      <td>Hiprecio</td>\n",
       "      <td>Other</td>\n",
       "    </tr>\n",
       "    <tr>\n",
       "      <th>4317769</th>\n",
       "      <td>0x079b18d6556e198c98e599490c6cbba231ab4db8</td>\n",
       "      <td>0</td>\n",
       "      <td>0x077f2e2be7f1b1a84cd545e1ecce65131550685efb29...</td>\n",
       "      <td>0x2c67f4a0434c4d1796d443124ebc1ac1d8790ebb</td>\n",
       "      <td>SKIBITSKY</td>\n",
       "      <td>0xa0040d7049ed4b2aa56ff785b77a5e305be098b9</td>\n",
       "      <td>NaN</td>\n",
       "      <td>0.600000</td>\n",
       "      <td>ETH</td>\n",
       "      <td>65.592000</td>\n",
       "      <td>Crypto-bundle-sale</td>\n",
       "      <td>OpenSea</td>\n",
       "      <td>2018-12-20 00:00:00</td>\n",
       "      <td>2018-12-20 21:49:40</td>\n",
       "      <td>Cryptobundlesale</td>\n",
       "      <td>Other</td>\n",
       "    </tr>\n",
       "    <tr>\n",
       "      <th>4362406</th>\n",
       "      <td>0xcd65bacacea37e65eac019f37f5cb38ae62a7fbf</td>\n",
       "      <td>0</td>\n",
       "      <td>0x87c4941dcf9d860033f7a286f35630526bca98375725...</td>\n",
       "      <td>0x1e55c85801a2c4f0bec57c84742a8ef3d72de57b</td>\n",
       "      <td>0x1e55c85801a2c4f0bec57c84742a8ef3d72de57b</td>\n",
       "      <td>0x07c622e3a3c9eb73f02effee4cfc189897bff467</td>\n",
       "      <td>NaN</td>\n",
       "      <td>0.050000</td>\n",
       "      <td>ETH</td>\n",
       "      <td>6.789500</td>\n",
       "      <td>Krystal-kart-ar-vehicles-factory</td>\n",
       "      <td>OpenSea</td>\n",
       "      <td>2019-02-28 00:00:00</td>\n",
       "      <td>2019-02-28 22:07:45</td>\n",
       "      <td>Krystalkartarvehiclesfactory</td>\n",
       "      <td>Other</td>\n",
       "    </tr>\n",
       "    <tr>\n",
       "      <th>4362502</th>\n",
       "      <td>0xcd65bacacea37e65eac019f37f5cb38ae62a7fbf</td>\n",
       "      <td>0</td>\n",
       "      <td>0xa6d1486b4192dc225280e6b902d8ea4960ac27ead108...</td>\n",
       "      <td>0x1e55c85801a2c4f0bec57c84742a8ef3d72de57b</td>\n",
       "      <td>0x1e55c85801a2c4f0bec57c84742a8ef3d72de57b</td>\n",
       "      <td>0x2cb86d919332d0369c66a2d5982419266f5e490f</td>\n",
       "      <td>OpenSeaDeals</td>\n",
       "      <td>0.050000</td>\n",
       "      <td>ETH</td>\n",
       "      <td>6.789500</td>\n",
       "      <td>Krystal-kart-ar-vehicles-factory</td>\n",
       "      <td>OpenSea</td>\n",
       "      <td>2019-02-28 00:00:00</td>\n",
       "      <td>2019-02-28 19:37:17</td>\n",
       "      <td>Krystalkartarvehiclesfactory</td>\n",
       "      <td>Other</td>\n",
       "    </tr>\n",
       "    <tr>\n",
       "      <th>...</th>\n",
       "      <td>...</td>\n",
       "      <td>...</td>\n",
       "      <td>...</td>\n",
       "      <td>...</td>\n",
       "      <td>...</td>\n",
       "      <td>...</td>\n",
       "      <td>...</td>\n",
       "      <td>...</td>\n",
       "      <td>...</td>\n",
       "      <td>...</td>\n",
       "      <td>...</td>\n",
       "      <td>...</td>\n",
       "      <td>...</td>\n",
       "      <td>...</td>\n",
       "      <td>...</td>\n",
       "      <td>...</td>\n",
       "    </tr>\n",
       "    <tr>\n",
       "      <th>6068466</th>\n",
       "      <td>0xdf801468a808a32656d2ed2d2d80b72a129739f4</td>\n",
       "      <td>0</td>\n",
       "      <td>0x718c87d6e86b158dce613c65eb832bb11ea104c3497c...</td>\n",
       "      <td>0x8f06ed205df2041233b2aa022e945af9c230c49b</td>\n",
       "      <td>Jelenowski</td>\n",
       "      <td>0x690b6403e751dc5d4da66698eebe45567a600946</td>\n",
       "      <td>NaN</td>\n",
       "      <td>0.035000</td>\n",
       "      <td>ETH</td>\n",
       "      <td>67.739525</td>\n",
       "      <td>Somnium-space</td>\n",
       "      <td>OpenSea</td>\n",
       "      <td>2021-04-01 00:00:00</td>\n",
       "      <td>2021-04-01 13:48:42</td>\n",
       "      <td>Somniumspace</td>\n",
       "      <td>Metaverse</td>\n",
       "    </tr>\n",
       "    <tr>\n",
       "      <th>6069704</th>\n",
       "      <td>0xd2d2a84f0eb587f70e181a0c4b252c2c053f80cb</td>\n",
       "      <td>0</td>\n",
       "      <td>0xf491e07639e940e3e12fdcd65bfb513769bd21d993c9...</td>\n",
       "      <td>0x97575aac6912233403e9b8935e980dec40c55548</td>\n",
       "      <td>Flayed</td>\n",
       "      <td>0xd79791d259520a9765953be41f680c8bc05e8dbc</td>\n",
       "      <td>MARLLO</td>\n",
       "      <td>0.059000</td>\n",
       "      <td>ETH</td>\n",
       "      <td>114.189485</td>\n",
       "      <td>Toshimon-minter</td>\n",
       "      <td>OpenSea</td>\n",
       "      <td>2021-04-01 00:00:00</td>\n",
       "      <td>2021-04-01 07:08:43</td>\n",
       "      <td>Toshimonminter</td>\n",
       "      <td>Games</td>\n",
       "    </tr>\n",
       "    <tr>\n",
       "      <th>6069988</th>\n",
       "      <td>0xd2d2a84f0eb587f70e181a0c4b252c2c053f80cb</td>\n",
       "      <td>0</td>\n",
       "      <td>0x1820f6eb3a8c93d5c1eb1d7e9b0c5a8b9fa448427976...</td>\n",
       "      <td>0xcbf3f36a83b80c546c7e56abd7fbb547946b6ed4</td>\n",
       "      <td>Korakis</td>\n",
       "      <td>0x745fde0961988a345f5348fde6d4e7bf38396f23</td>\n",
       "      <td>risiNFT</td>\n",
       "      <td>0.040000</td>\n",
       "      <td>ETH</td>\n",
       "      <td>77.416600</td>\n",
       "      <td>Toshimon-minter</td>\n",
       "      <td>OpenSea</td>\n",
       "      <td>2021-04-01 00:00:00</td>\n",
       "      <td>2021-04-01 06:05:54</td>\n",
       "      <td>Toshimonminter</td>\n",
       "      <td>Games</td>\n",
       "    </tr>\n",
       "    <tr>\n",
       "      <th>6070287</th>\n",
       "      <td>0xdf801468a808a32656d2ed2d2d80b72a129739f4</td>\n",
       "      <td>0</td>\n",
       "      <td>0x4809fa181e17e63b7bd90defba624cf359703af13c8d...</td>\n",
       "      <td>0x8f06ed205df2041233b2aa022e945af9c230c49b</td>\n",
       "      <td>Jelenowski</td>\n",
       "      <td>0x8ddf7b6da2c482ed6b2d3b793cacdf22c65396d6</td>\n",
       "      <td>Corie</td>\n",
       "      <td>0.030000</td>\n",
       "      <td>ETH</td>\n",
       "      <td>58.062450</td>\n",
       "      <td>Somnium-space</td>\n",
       "      <td>OpenSea</td>\n",
       "      <td>2021-04-01 00:00:00</td>\n",
       "      <td>2021-04-01 04:03:20</td>\n",
       "      <td>Somniumspace</td>\n",
       "      <td>Metaverse</td>\n",
       "    </tr>\n",
       "    <tr>\n",
       "      <th>6070611</th>\n",
       "      <td>0xd2d2a84f0eb587f70e181a0c4b252c2c053f80cb</td>\n",
       "      <td>0</td>\n",
       "      <td>0xb7382e5d4d9c19dfbe8d3b131e3be4d6994db97f1c86...</td>\n",
       "      <td>0xcbf3f36a83b80c546c7e56abd7fbb547946b6ed4</td>\n",
       "      <td>Korakis</td>\n",
       "      <td>0xa6fdb0826c4ede91300cd1fa00b53303c4de5011</td>\n",
       "      <td>Not-A-Fed</td>\n",
       "      <td>0.040000</td>\n",
       "      <td>ETH</td>\n",
       "      <td>77.416600</td>\n",
       "      <td>Toshimon-minter</td>\n",
       "      <td>OpenSea</td>\n",
       "      <td>2021-04-01 00:00:00</td>\n",
       "      <td>2021-04-01 02:24:24</td>\n",
       "      <td>Toshimonminter</td>\n",
       "      <td>Games</td>\n",
       "    </tr>\n",
       "  </tbody>\n",
       "</table>\n",
       "<p>7524 rows × 16 columns</p>\n",
       "</div>"
      ],
      "text/plain": [
       "                                     Smart_contract ID_token  \\\n",
       "4169375  0xbb5ed1edeb5149af3ab43ea9c7a6963b3c1374f7        0   \n",
       "4257282  0x5d0ee539893323f9965e3ac2846ea6421255ae79        0   \n",
       "4317769  0x079b18d6556e198c98e599490c6cbba231ab4db8        0   \n",
       "4362406  0xcd65bacacea37e65eac019f37f5cb38ae62a7fbf        0   \n",
       "4362502  0xcd65bacacea37e65eac019f37f5cb38ae62a7fbf        0   \n",
       "...                                             ...      ...   \n",
       "6068466  0xdf801468a808a32656d2ed2d2d80b72a129739f4        0   \n",
       "6069704  0xd2d2a84f0eb587f70e181a0c4b252c2c053f80cb        0   \n",
       "6069988  0xd2d2a84f0eb587f70e181a0c4b252c2c053f80cb        0   \n",
       "6070287  0xdf801468a808a32656d2ed2d2d80b72a129739f4        0   \n",
       "6070611  0xd2d2a84f0eb587f70e181a0c4b252c2c053f80cb        0   \n",
       "\n",
       "                                          Transaction_hash  \\\n",
       "4169375  0xd7d21d15a331fe2445f1d1720236a35fb431ec706a1a...   \n",
       "4257282  0xfaef63e4429b198ab643c33e6f2674588425abe391d8...   \n",
       "4317769  0x077f2e2be7f1b1a84cd545e1ecce65131550685efb29...   \n",
       "4362406  0x87c4941dcf9d860033f7a286f35630526bca98375725...   \n",
       "4362502  0xa6d1486b4192dc225280e6b902d8ea4960ac27ead108...   \n",
       "...                                                    ...   \n",
       "6068466  0x718c87d6e86b158dce613c65eb832bb11ea104c3497c...   \n",
       "6069704  0xf491e07639e940e3e12fdcd65bfb513769bd21d993c9...   \n",
       "6069988  0x1820f6eb3a8c93d5c1eb1d7e9b0c5a8b9fa448427976...   \n",
       "6070287  0x4809fa181e17e63b7bd90defba624cf359703af13c8d...   \n",
       "6070611  0xb7382e5d4d9c19dfbe8d3b131e3be4d6994db97f1c86...   \n",
       "\n",
       "                                     Seller_address  \\\n",
       "4169375  0x53ec525b9df849be99263311f5b7f9fd6cfebea6   \n",
       "4257282  0xd04c453461a77b342fea9d1fec55861399401122   \n",
       "4317769  0x2c67f4a0434c4d1796d443124ebc1ac1d8790ebb   \n",
       "4362406  0x1e55c85801a2c4f0bec57c84742a8ef3d72de57b   \n",
       "4362502  0x1e55c85801a2c4f0bec57c84742a8ef3d72de57b   \n",
       "...                                             ...   \n",
       "6068466  0x8f06ed205df2041233b2aa022e945af9c230c49b   \n",
       "6069704  0x97575aac6912233403e9b8935e980dec40c55548   \n",
       "6069988  0xcbf3f36a83b80c546c7e56abd7fbb547946b6ed4   \n",
       "6070287  0x8f06ed205df2041233b2aa022e945af9c230c49b   \n",
       "6070611  0xcbf3f36a83b80c546c7e56abd7fbb547946b6ed4   \n",
       "\n",
       "                                    Seller_username  \\\n",
       "4169375                                      flamey   \n",
       "4257282                                      OniOni   \n",
       "4317769                                   SKIBITSKY   \n",
       "4362406  0x1e55c85801a2c4f0bec57c84742a8ef3d72de57b   \n",
       "4362502  0x1e55c85801a2c4f0bec57c84742a8ef3d72de57b   \n",
       "...                                             ...   \n",
       "6068466                                  Jelenowski   \n",
       "6069704                                      Flayed   \n",
       "6069988                                     Korakis   \n",
       "6070287                                  Jelenowski   \n",
       "6070611                                     Korakis   \n",
       "\n",
       "                                      Buyer_address Buyer_username  \\\n",
       "4169375  0xe820f08968489c466c77c2ea1a5c436d8c70d896            NaN   \n",
       "4257282  0x183febd8828a9ac6c70c0e27fbf441b93004fc05          bjork   \n",
       "4317769  0xa0040d7049ed4b2aa56ff785b77a5e305be098b9            NaN   \n",
       "4362406  0x07c622e3a3c9eb73f02effee4cfc189897bff467            NaN   \n",
       "4362502  0x2cb86d919332d0369c66a2d5982419266f5e490f   OpenSeaDeals   \n",
       "...                                             ...            ...   \n",
       "6068466  0x690b6403e751dc5d4da66698eebe45567a600946            NaN   \n",
       "6069704  0xd79791d259520a9765953be41f680c8bc05e8dbc         MARLLO   \n",
       "6069988  0x745fde0961988a345f5348fde6d4e7bf38396f23        risiNFT   \n",
       "6070287  0x8ddf7b6da2c482ed6b2d3b793cacdf22c65396d6          Corie   \n",
       "6070611  0xa6fdb0826c4ede91300cd1fa00b53303c4de5011      Not-A-Fed   \n",
       "\n",
       "         Price_Crypto Crypto     Price_USD                        Collection  \\\n",
       "4169375     20.065799    ETH  14917.917977                 Cryptocelebrities   \n",
       "4257282      0.200000    ETH     76.530000                        Hiprecious   \n",
       "4317769      0.600000    ETH     65.592000                Crypto-bundle-sale   \n",
       "4362406      0.050000    ETH      6.789500  Krystal-kart-ar-vehicles-factory   \n",
       "4362502      0.050000    ETH      6.789500  Krystal-kart-ar-vehicles-factory   \n",
       "...               ...    ...           ...                               ...   \n",
       "6068466      0.035000    ETH     67.739525                     Somnium-space   \n",
       "6069704      0.059000    ETH    114.189485                   Toshimon-minter   \n",
       "6069988      0.040000    ETH     77.416600                   Toshimon-minter   \n",
       "6070287      0.030000    ETH     58.062450                     Somnium-space   \n",
       "6070611      0.040000    ETH     77.416600                   Toshimon-minter   \n",
       "\n",
       "          Market     Datetime_updated Datetime_updated_seconds  \\\n",
       "4169375  OpenSea  2018-02-05 00:00:00      2018-02-05 04:10:37   \n",
       "4257282  OpenSea  2018-08-07 00:00:00      2018-08-07 00:39:41   \n",
       "4317769  OpenSea  2018-12-20 00:00:00      2018-12-20 21:49:40   \n",
       "4362406  OpenSea  2019-02-28 00:00:00      2019-02-28 22:07:45   \n",
       "4362502  OpenSea  2019-02-28 00:00:00      2019-02-28 19:37:17   \n",
       "...          ...                  ...                      ...   \n",
       "6068466  OpenSea  2021-04-01 00:00:00      2021-04-01 13:48:42   \n",
       "6069704  OpenSea  2021-04-01 00:00:00      2021-04-01 07:08:43   \n",
       "6069988  OpenSea  2021-04-01 00:00:00      2021-04-01 06:05:54   \n",
       "6070287  OpenSea  2021-04-01 00:00:00      2021-04-01 04:03:20   \n",
       "6070611  OpenSea  2021-04-01 00:00:00      2021-04-01 02:24:24   \n",
       "\n",
       "                   Collection_cleaned     Category  \n",
       "4169375              Cryptocelebritie  Collectible  \n",
       "4257282                      Hiprecio        Other  \n",
       "4317769              Cryptobundlesale        Other  \n",
       "4362406  Krystalkartarvehiclesfactory        Other  \n",
       "4362502  Krystalkartarvehiclesfactory        Other  \n",
       "...                               ...          ...  \n",
       "6068466                  Somniumspace    Metaverse  \n",
       "6069704                Toshimonminter        Games  \n",
       "6069988                Toshimonminter        Games  \n",
       "6070287                  Somniumspace    Metaverse  \n",
       "6070611                Toshimonminter        Games  \n",
       "\n",
       "[7524 rows x 16 columns]"
      ]
     },
     "execution_count": 222,
     "metadata": {},
     "output_type": "execute_result"
    }
   ],
   "source": [
    "grouped"
   ]
  },
  {
   "cell_type": "code",
   "execution_count": 239,
   "id": "a325ae70-d90f-44e3-9587-aa75b185b779",
   "metadata": {
    "scrolled": true,
    "tags": []
   },
   "outputs": [
    {
     "name": "stdout",
     "output_type": "stream",
     "text": [
      "Doing groupby\n",
      "100000/1235989 - bad found 25\n",
      "200000/1235989 - bad found 43\n",
      "300000/1235989 - bad found 64\n",
      "400000/1235989 - bad found 87\n",
      "500000/1235989 - bad found 106\n",
      "600000/1235989 - bad found 142\n",
      "700000/1235989 - bad found 210\n",
      "800000/1235989 - bad found 260\n",
      "900000/1235989 - bad found 304\n",
      "1000000/1235989 - bad found 337\n",
      "1100000/1235989 - bad found 381\n",
      "1200000/1235989 - bad found 463\n"
     ]
    }
   ],
   "source": [
    "nfts_with_double_time = set()\n",
    "allowd_cols = ['Transaction_hash', 'Seller_address', 'Buyer_address', 'Price_Crypto','Crypto', 'Price_USD', 'Market', 'Datetime_updated_seconds']\n",
    "print(\"Doing groupby\")\n",
    "i=0\n",
    "total = len(set(df_eth['ID_token']))\n",
    "i=0\n",
    "for j, grouped in df_eth.groupby(['ID_token']):\n",
    "    i+=1\n",
    "    if i % 100_000 == 0:\n",
    "        print(\"%i/%i - bad found %i\" % (i, total, len(nfts_with_double_time)))\n",
    "    all_dates = list(grouped['Datetime_updated_seconds'])\n",
    "    setted = set(all_dates)\n",
    "    if len(all_dates) != len(setted):\n",
    "        nfts_with_double_time.add(grouped.iloc[0].ID_token)"
   ]
  },
  {
   "cell_type": "code",
   "execution_count": 241,
   "id": "cf766104-c1e6-43bd-82f0-a4d6e83d197e",
   "metadata": {},
   "outputs": [],
   "source": [
    "df_eth_singles = df_eth[~df_eth['ID_token'].isin(nfts_with_double_time)]"
   ]
  },
  {
   "cell_type": "code",
   "execution_count": 242,
   "id": "d27142a8-2bf4-4895-b927-696b819c1342",
   "metadata": {},
   "outputs": [],
   "source": [
    "df_eth_singles.to_csv(\"/Users/haaroony/OneDrive - Pometry Ltd/nft_andrea/Data_API_clean_nfts_ETH_only.csv\", index=False)"
   ]
  },
  {
   "cell_type": "code",
   "execution_count": 244,
   "id": "5aff9ba8-fcf0-476d-8100-ab6e5f293ff2",
   "metadata": {},
   "outputs": [
    {
     "data": {
      "text/plain": [
       "'2021-04-27 23:59:51'"
      ]
     },
     "execution_count": 244,
     "metadata": {},
     "output_type": "execute_result"
    }
   ],
   "source": [
    "max(df_eth_singles['Datetime_updated_seconds'])"
   ]
  },
  {
   "cell_type": "code",
   "execution_count": 243,
   "id": "1449cca0-771b-4774-86de-d238e2fdfe63",
   "metadata": {},
   "outputs": [
    {
     "data": {
      "text/html": [
       "<div>\n",
       "<style scoped>\n",
       "    .dataframe tbody tr th:only-of-type {\n",
       "        vertical-align: middle;\n",
       "    }\n",
       "\n",
       "    .dataframe tbody tr th {\n",
       "        vertical-align: top;\n",
       "    }\n",
       "\n",
       "    .dataframe thead th {\n",
       "        text-align: right;\n",
       "    }\n",
       "</style>\n",
       "<table border=\"1\" class=\"dataframe\">\n",
       "  <thead>\n",
       "    <tr style=\"text-align: right;\">\n",
       "      <th></th>\n",
       "      <th>Smart_contract</th>\n",
       "      <th>ID_token</th>\n",
       "      <th>Transaction_hash</th>\n",
       "      <th>Seller_address</th>\n",
       "      <th>Seller_username</th>\n",
       "      <th>Buyer_address</th>\n",
       "      <th>Buyer_username</th>\n",
       "      <th>Price_Crypto</th>\n",
       "      <th>Crypto</th>\n",
       "      <th>Price_USD</th>\n",
       "      <th>Collection</th>\n",
       "      <th>Market</th>\n",
       "      <th>Datetime_updated</th>\n",
       "      <th>Datetime_updated_seconds</th>\n",
       "      <th>Collection_cleaned</th>\n",
       "      <th>Category</th>\n",
       "    </tr>\n",
       "  </thead>\n",
       "  <tbody>\n",
       "    <tr>\n",
       "      <th>0</th>\n",
       "      <td>NaN</td>\n",
       "      <td>87094722.0</td>\n",
       "      <td>0xed9ff1c311a611e5c457ce0a49bbbb7ed55efca98842...</td>\n",
       "      <td>0x76481caa104b5f6bccb540dae4cefaf1c398ebea</td>\n",
       "      <td>NaN</td>\n",
       "      <td>0xe0fb7622091e3d9ef9b438471b10b9ea88c7cf6b</td>\n",
       "      <td>NaN</td>\n",
       "      <td>0.0002</td>\n",
       "      <td>ETH</td>\n",
       "      <td>0.030318</td>\n",
       "      <td>Godsunchained</td>\n",
       "      <td>Godsunchained</td>\n",
       "      <td>2019-11-30 00:00:00</td>\n",
       "      <td>2019-11-30 23:59:33</td>\n",
       "      <td>Godsunchained</td>\n",
       "      <td>Games</td>\n",
       "    </tr>\n",
       "    <tr>\n",
       "      <th>1</th>\n",
       "      <td>NaN</td>\n",
       "      <td>73044643.0</td>\n",
       "      <td>0xbc8412594ffa7382e8306215ece5b4e041fc641b1813...</td>\n",
       "      <td>0x76481caa104b5f6bccb540dae4cefaf1c398ebea</td>\n",
       "      <td>NaN</td>\n",
       "      <td>0x2c00d05ff7ffe93d77145dfe12aa56e622ae6f40</td>\n",
       "      <td>NaN</td>\n",
       "      <td>0.0013</td>\n",
       "      <td>ETH</td>\n",
       "      <td>0.197067</td>\n",
       "      <td>Godsunchained</td>\n",
       "      <td>Godsunchained</td>\n",
       "      <td>2019-11-30 00:00:00</td>\n",
       "      <td>2019-11-30 23:59:33</td>\n",
       "      <td>Godsunchained</td>\n",
       "      <td>Games</td>\n",
       "    </tr>\n",
       "    <tr>\n",
       "      <th>2</th>\n",
       "      <td>NaN</td>\n",
       "      <td>17107482.0</td>\n",
       "      <td>0x92672baf5e9e23de230dee8e57ddf443ab6d5a336341...</td>\n",
       "      <td>0x76481caa104b5f6bccb540dae4cefaf1c398ebea</td>\n",
       "      <td>NaN</td>\n",
       "      <td>0xe0fb7622091e3d9ef9b438471b10b9ea88c7cf6b</td>\n",
       "      <td>NaN</td>\n",
       "      <td>0.0002</td>\n",
       "      <td>ETH</td>\n",
       "      <td>0.030318</td>\n",
       "      <td>Godsunchained</td>\n",
       "      <td>Godsunchained</td>\n",
       "      <td>2019-11-30 00:00:00</td>\n",
       "      <td>2019-11-30 23:59:33</td>\n",
       "      <td>Godsunchained</td>\n",
       "      <td>Games</td>\n",
       "    </tr>\n",
       "    <tr>\n",
       "      <th>3</th>\n",
       "      <td>NaN</td>\n",
       "      <td>82230857.0</td>\n",
       "      <td>0x3d157249e3083622c2d756f07a05caa3a76687288b32...</td>\n",
       "      <td>0x76481caa104b5f6bccb540dae4cefaf1c398ebea</td>\n",
       "      <td>NaN</td>\n",
       "      <td>0x2c00d05ff7ffe93d77145dfe12aa56e622ae6f40</td>\n",
       "      <td>NaN</td>\n",
       "      <td>0.0022</td>\n",
       "      <td>ETH</td>\n",
       "      <td>0.333498</td>\n",
       "      <td>Godsunchained</td>\n",
       "      <td>Godsunchained</td>\n",
       "      <td>2019-11-30 00:00:00</td>\n",
       "      <td>2019-11-30 23:59:33</td>\n",
       "      <td>Godsunchained</td>\n",
       "      <td>Games</td>\n",
       "    </tr>\n",
       "    <tr>\n",
       "      <th>4</th>\n",
       "      <td>NaN</td>\n",
       "      <td>40925443.0</td>\n",
       "      <td>0xa892b3569dc8e6b3c7db93aade62372637ebbc61fb63...</td>\n",
       "      <td>0x76481caa104b5f6bccb540dae4cefaf1c398ebea</td>\n",
       "      <td>NaN</td>\n",
       "      <td>0x2c00d05ff7ffe93d77145dfe12aa56e622ae6f40</td>\n",
       "      <td>NaN</td>\n",
       "      <td>0.0012</td>\n",
       "      <td>ETH</td>\n",
       "      <td>0.181908</td>\n",
       "      <td>Godsunchained</td>\n",
       "      <td>Godsunchained</td>\n",
       "      <td>2019-11-30 00:00:00</td>\n",
       "      <td>2019-11-30 23:58:44</td>\n",
       "      <td>Godsunchained</td>\n",
       "      <td>Games</td>\n",
       "    </tr>\n",
       "    <tr>\n",
       "      <th>...</th>\n",
       "      <td>...</td>\n",
       "      <td>...</td>\n",
       "      <td>...</td>\n",
       "      <td>...</td>\n",
       "      <td>...</td>\n",
       "      <td>...</td>\n",
       "      <td>...</td>\n",
       "      <td>...</td>\n",
       "      <td>...</td>\n",
       "      <td>...</td>\n",
       "      <td>...</td>\n",
       "      <td>...</td>\n",
       "      <td>...</td>\n",
       "      <td>...</td>\n",
       "      <td>...</td>\n",
       "      <td>...</td>\n",
       "    </tr>\n",
       "    <tr>\n",
       "      <th>6071022</th>\n",
       "      <td>0xb932a70a57673d89f4acffbe830e8ed7f75fb9e0</td>\n",
       "      <td>16412</td>\n",
       "      <td>0x346561b3f7a233c4245f91c68940b2d750df26ef1b04...</td>\n",
       "      <td>0x9f37284b3a538be8eea2d401b595f44c96d39b70</td>\n",
       "      <td>NaN</td>\n",
       "      <td>0xa353401738e7ec6a4db9c0ee4c66eb5252f681c4</td>\n",
       "      <td>NaN</td>\n",
       "      <td>0.5000</td>\n",
       "      <td>ETH</td>\n",
       "      <td>967.707500</td>\n",
       "      <td>Superrare</td>\n",
       "      <td>OpenSea</td>\n",
       "      <td>2021-04-01 00:00:00</td>\n",
       "      <td>2021-04-01 00:00:52</td>\n",
       "      <td>Superrare</td>\n",
       "      <td>Art</td>\n",
       "    </tr>\n",
       "    <tr>\n",
       "      <th>6071023</th>\n",
       "      <td>0x495f947276749ce646f68ac8c248420045cb7b5e</td>\n",
       "      <td>1062274196422536302774639391540663457511117433...</td>\n",
       "      <td>0xd507715bb835252a65d572037ac8eb36854b05ecc672...</td>\n",
       "      <td>0xeada96bf164643bdfe3e657a9f380854694a49dd</td>\n",
       "      <td>Mistcop</td>\n",
       "      <td>0xe2fe53f9bcb33e3e0fc65f2f627ca4eb8e958347</td>\n",
       "      <td>NaN</td>\n",
       "      <td>0.0500</td>\n",
       "      <td>ETH</td>\n",
       "      <td>96.770750</td>\n",
       "      <td>Kawaii-monsters</td>\n",
       "      <td>OpenSea</td>\n",
       "      <td>2021-04-01 00:00:00</td>\n",
       "      <td>2021-04-01 00:00:50</td>\n",
       "      <td>Kawaiimonster</td>\n",
       "      <td>Other</td>\n",
       "    </tr>\n",
       "    <tr>\n",
       "      <th>6071024</th>\n",
       "      <td>0x495f947276749ce646f68ac8c248420045cb7b5e</td>\n",
       "      <td>4602588071276327231659212203812866312085457052...</td>\n",
       "      <td>0x4cb90a775619a9483c003050de47c403fae957e5352b...</td>\n",
       "      <td>0x65c1b9ae4e4d8dcccfd3dc41b940840fe8570f2a</td>\n",
       "      <td>International_Megadigital</td>\n",
       "      <td>0x220d20310f52d97e353028ebd742d2c690eaf0a1</td>\n",
       "      <td>WanderlustNFT</td>\n",
       "      <td>0.0185</td>\n",
       "      <td>ETH</td>\n",
       "      <td>35.805177</td>\n",
       "      <td>Moe-tokens</td>\n",
       "      <td>OpenSea</td>\n",
       "      <td>2021-04-01 00:00:00</td>\n",
       "      <td>2021-04-01 00:00:51</td>\n",
       "      <td>Moetoken</td>\n",
       "      <td>Other</td>\n",
       "    </tr>\n",
       "    <tr>\n",
       "      <th>6071025</th>\n",
       "      <td>0x495f947276749ce646f68ac8c248420045cb7b5e</td>\n",
       "      <td>8060875342503467325201444233539848397816312727...</td>\n",
       "      <td>0x76068e84592753bb1e076c5320c7e3ecfe41e4da8ebe...</td>\n",
       "      <td>0xb236f00808a9f88b3117af95c881966288dfbcbb</td>\n",
       "      <td>TheOfficialGarrett</td>\n",
       "      <td>0xd543a0be0684f0556786586b83f4c9fd16a4dc35</td>\n",
       "      <td>kittylord</td>\n",
       "      <td>0.0100</td>\n",
       "      <td>ETH</td>\n",
       "      <td>19.354150</td>\n",
       "      <td>Not-fun-tokens</td>\n",
       "      <td>OpenSea</td>\n",
       "      <td>2021-04-01 00:00:00</td>\n",
       "      <td>2021-04-01 00:00:40</td>\n",
       "      <td>Notfuntoken</td>\n",
       "      <td>Other</td>\n",
       "    </tr>\n",
       "    <tr>\n",
       "      <th>6071026</th>\n",
       "      <td>0x495f947276749ce646f68ac8c248420045cb7b5e</td>\n",
       "      <td>8060875342503467325201444233539848397816312727...</td>\n",
       "      <td>0x6efdcfde266760201767ba099c1f10f47937a8098720...</td>\n",
       "      <td>0xb236f00808a9f88b3117af95c881966288dfbcbb</td>\n",
       "      <td>TheOfficialGarrett</td>\n",
       "      <td>0xd543a0be0684f0556786586b83f4c9fd16a4dc35</td>\n",
       "      <td>kittylord</td>\n",
       "      <td>0.0100</td>\n",
       "      <td>ETH</td>\n",
       "      <td>19.354150</td>\n",
       "      <td>Not-fun-tokens</td>\n",
       "      <td>OpenSea</td>\n",
       "      <td>2021-04-01 00:00:00</td>\n",
       "      <td>2021-04-01 00:00:40</td>\n",
       "      <td>Notfuntoken</td>\n",
       "      <td>Other</td>\n",
       "    </tr>\n",
       "  </tbody>\n",
       "</table>\n",
       "<p>2335702 rows × 16 columns</p>\n",
       "</div>"
      ],
      "text/plain": [
       "                                     Smart_contract  \\\n",
       "0                                               NaN   \n",
       "1                                               NaN   \n",
       "2                                               NaN   \n",
       "3                                               NaN   \n",
       "4                                               NaN   \n",
       "...                                             ...   \n",
       "6071022  0xb932a70a57673d89f4acffbe830e8ed7f75fb9e0   \n",
       "6071023  0x495f947276749ce646f68ac8c248420045cb7b5e   \n",
       "6071024  0x495f947276749ce646f68ac8c248420045cb7b5e   \n",
       "6071025  0x495f947276749ce646f68ac8c248420045cb7b5e   \n",
       "6071026  0x495f947276749ce646f68ac8c248420045cb7b5e   \n",
       "\n",
       "                                                  ID_token  \\\n",
       "0                                               87094722.0   \n",
       "1                                               73044643.0   \n",
       "2                                               17107482.0   \n",
       "3                                               82230857.0   \n",
       "4                                               40925443.0   \n",
       "...                                                    ...   \n",
       "6071022                                              16412   \n",
       "6071023  1062274196422536302774639391540663457511117433...   \n",
       "6071024  4602588071276327231659212203812866312085457052...   \n",
       "6071025  8060875342503467325201444233539848397816312727...   \n",
       "6071026  8060875342503467325201444233539848397816312727...   \n",
       "\n",
       "                                          Transaction_hash  \\\n",
       "0        0xed9ff1c311a611e5c457ce0a49bbbb7ed55efca98842...   \n",
       "1        0xbc8412594ffa7382e8306215ece5b4e041fc641b1813...   \n",
       "2        0x92672baf5e9e23de230dee8e57ddf443ab6d5a336341...   \n",
       "3        0x3d157249e3083622c2d756f07a05caa3a76687288b32...   \n",
       "4        0xa892b3569dc8e6b3c7db93aade62372637ebbc61fb63...   \n",
       "...                                                    ...   \n",
       "6071022  0x346561b3f7a233c4245f91c68940b2d750df26ef1b04...   \n",
       "6071023  0xd507715bb835252a65d572037ac8eb36854b05ecc672...   \n",
       "6071024  0x4cb90a775619a9483c003050de47c403fae957e5352b...   \n",
       "6071025  0x76068e84592753bb1e076c5320c7e3ecfe41e4da8ebe...   \n",
       "6071026  0x6efdcfde266760201767ba099c1f10f47937a8098720...   \n",
       "\n",
       "                                     Seller_address  \\\n",
       "0        0x76481caa104b5f6bccb540dae4cefaf1c398ebea   \n",
       "1        0x76481caa104b5f6bccb540dae4cefaf1c398ebea   \n",
       "2        0x76481caa104b5f6bccb540dae4cefaf1c398ebea   \n",
       "3        0x76481caa104b5f6bccb540dae4cefaf1c398ebea   \n",
       "4        0x76481caa104b5f6bccb540dae4cefaf1c398ebea   \n",
       "...                                             ...   \n",
       "6071022  0x9f37284b3a538be8eea2d401b595f44c96d39b70   \n",
       "6071023  0xeada96bf164643bdfe3e657a9f380854694a49dd   \n",
       "6071024  0x65c1b9ae4e4d8dcccfd3dc41b940840fe8570f2a   \n",
       "6071025  0xb236f00808a9f88b3117af95c881966288dfbcbb   \n",
       "6071026  0xb236f00808a9f88b3117af95c881966288dfbcbb   \n",
       "\n",
       "                   Seller_username  \\\n",
       "0                              NaN   \n",
       "1                              NaN   \n",
       "2                              NaN   \n",
       "3                              NaN   \n",
       "4                              NaN   \n",
       "...                            ...   \n",
       "6071022                        NaN   \n",
       "6071023                    Mistcop   \n",
       "6071024  International_Megadigital   \n",
       "6071025         TheOfficialGarrett   \n",
       "6071026         TheOfficialGarrett   \n",
       "\n",
       "                                      Buyer_address Buyer_username  \\\n",
       "0        0xe0fb7622091e3d9ef9b438471b10b9ea88c7cf6b            NaN   \n",
       "1        0x2c00d05ff7ffe93d77145dfe12aa56e622ae6f40            NaN   \n",
       "2        0xe0fb7622091e3d9ef9b438471b10b9ea88c7cf6b            NaN   \n",
       "3        0x2c00d05ff7ffe93d77145dfe12aa56e622ae6f40            NaN   \n",
       "4        0x2c00d05ff7ffe93d77145dfe12aa56e622ae6f40            NaN   \n",
       "...                                             ...            ...   \n",
       "6071022  0xa353401738e7ec6a4db9c0ee4c66eb5252f681c4            NaN   \n",
       "6071023  0xe2fe53f9bcb33e3e0fc65f2f627ca4eb8e958347            NaN   \n",
       "6071024  0x220d20310f52d97e353028ebd742d2c690eaf0a1  WanderlustNFT   \n",
       "6071025  0xd543a0be0684f0556786586b83f4c9fd16a4dc35      kittylord   \n",
       "6071026  0xd543a0be0684f0556786586b83f4c9fd16a4dc35      kittylord   \n",
       "\n",
       "         Price_Crypto Crypto   Price_USD       Collection         Market  \\\n",
       "0              0.0002    ETH    0.030318    Godsunchained  Godsunchained   \n",
       "1              0.0013    ETH    0.197067    Godsunchained  Godsunchained   \n",
       "2              0.0002    ETH    0.030318    Godsunchained  Godsunchained   \n",
       "3              0.0022    ETH    0.333498    Godsunchained  Godsunchained   \n",
       "4              0.0012    ETH    0.181908    Godsunchained  Godsunchained   \n",
       "...               ...    ...         ...              ...            ...   \n",
       "6071022        0.5000    ETH  967.707500        Superrare        OpenSea   \n",
       "6071023        0.0500    ETH   96.770750  Kawaii-monsters        OpenSea   \n",
       "6071024        0.0185    ETH   35.805177       Moe-tokens        OpenSea   \n",
       "6071025        0.0100    ETH   19.354150   Not-fun-tokens        OpenSea   \n",
       "6071026        0.0100    ETH   19.354150   Not-fun-tokens        OpenSea   \n",
       "\n",
       "            Datetime_updated Datetime_updated_seconds Collection_cleaned  \\\n",
       "0        2019-11-30 00:00:00      2019-11-30 23:59:33      Godsunchained   \n",
       "1        2019-11-30 00:00:00      2019-11-30 23:59:33      Godsunchained   \n",
       "2        2019-11-30 00:00:00      2019-11-30 23:59:33      Godsunchained   \n",
       "3        2019-11-30 00:00:00      2019-11-30 23:59:33      Godsunchained   \n",
       "4        2019-11-30 00:00:00      2019-11-30 23:58:44      Godsunchained   \n",
       "...                      ...                      ...                ...   \n",
       "6071022  2021-04-01 00:00:00      2021-04-01 00:00:52          Superrare   \n",
       "6071023  2021-04-01 00:00:00      2021-04-01 00:00:50      Kawaiimonster   \n",
       "6071024  2021-04-01 00:00:00      2021-04-01 00:00:51           Moetoken   \n",
       "6071025  2021-04-01 00:00:00      2021-04-01 00:00:40        Notfuntoken   \n",
       "6071026  2021-04-01 00:00:00      2021-04-01 00:00:40        Notfuntoken   \n",
       "\n",
       "        Category  \n",
       "0          Games  \n",
       "1          Games  \n",
       "2          Games  \n",
       "3          Games  \n",
       "4          Games  \n",
       "...          ...  \n",
       "6071022      Art  \n",
       "6071023    Other  \n",
       "6071024    Other  \n",
       "6071025    Other  \n",
       "6071026    Other  \n",
       "\n",
       "[2335702 rows x 16 columns]"
      ]
     },
     "execution_count": 243,
     "metadata": {},
     "output_type": "execute_result"
    }
   ],
   "source": [
    "df_eth_singles"
   ]
  },
  {
   "cell_type": "code",
   "execution_count": 246,
   "id": "8f3a0195-0041-4cd1-ba3c-74613a813af5",
   "metadata": {},
   "outputs": [
    {
     "name": "stderr",
     "output_type": "stream",
     "text": [
      "/var/folders/rm/nnz28pc96cv2xqzbwlwvwl2r0000gn/T/ipykernel_26651/4193332239.py:2: DtypeWarning: Columns (0,1,4,6) have mixed types. Specify dtype option on import or set low_memory=False.\n",
      "  df = pd.read_csv(\"/Users/haaroony/OneDrive - Pometry Ltd/nft_andrea/results/Data_API_clean_nfts_ETH_only.csv\")\n"
     ]
    }
   ],
   "source": [
    "import pandas as pd\n",
    "df = pd.read_csv(\"/Users/haaroony/OneDrive - Pometry Ltd/nft_andrea/results/Data_API_clean_nfts_ETH_only.csv\")"
   ]
  },
  {
   "cell_type": "code",
   "execution_count": 259,
   "id": "3cfcd663-3640-44df-b8fe-488b27a1964a",
   "metadata": {},
   "outputs": [],
   "source": [
    "df['ID_token2'] =df['ID_token'].astype(str)+\"_\"+df['Collection_cleaned']"
   ]
  },
  {
   "cell_type": "code",
   "execution_count": 266,
   "id": "d4ed83dd-05cc-4a83-be1a-d0f687cee9cf",
   "metadata": {},
   "outputs": [],
   "source": [
    "df['ID_token'] = df['ID_token2']"
   ]
  },
  {
   "cell_type": "code",
   "execution_count": 267,
   "id": "bf0e822b-b38c-4013-a082-9bd88b959cbc",
   "metadata": {},
   "outputs": [],
   "source": [
    "df.drop(columns=['ID_token2'], inplace=True)"
   ]
  },
  {
   "cell_type": "code",
   "execution_count": 269,
   "id": "6c298d53-9df5-4a49-9f84-73a67119b010",
   "metadata": {},
   "outputs": [],
   "source": [
    "df.to_csv(\"/Users/haaroony/OneDrive - Pometry Ltd/nft_andrea/results/Data_API_clean_nfts_ETH_only.csv\", index=False)"
   ]
  },
  {
   "cell_type": "markdown",
   "id": "1f669f34-e11e-44c6-9438-8a3a0405888d",
   "metadata": {},
   "source": [
    "dd##### "
   ]
  }
 ],
 "metadata": {
  "kernelspec": {
   "display_name": "Python [conda env:nft]",
   "language": "python",
   "name": "conda-env-nft-py"
  },
  "language_info": {
   "codemirror_mode": {
    "name": "ipython",
    "version": 3
   },
   "file_extension": ".py",
   "mimetype": "text/x-python",
   "name": "python",
   "nbconvert_exporter": "python",
   "pygments_lexer": "ipython3",
   "version": "3.8.13"
  }
 },
 "nbformat": 4,
 "nbformat_minor": 5
}
