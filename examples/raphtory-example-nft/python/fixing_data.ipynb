{
 "cells": [
  {
   "cell_type": "markdown",
   "id": "fdfcc92d-a837-46d6-8c1f-30d8ae578a5f",
   "metadata": {},
   "source": [
    "problem\n",
    "\n",
    "the data is bad, it has duplicate entries with tx hash and time\n",
    "\n",
    "idea: find how often this occurs\n",
    "\n",
    "if its not too many delete the entries \n",
    "\n",
    "or clean the data and change the times"
   ]
  },
  {
   "cell_type": "code",
   "execution_count": 1,
   "id": "fb9ab6ed-9d87-46f4-835e-16467590e3dd",
   "metadata": {},
   "outputs": [],
   "source": [
    "import pandas as pd\n",
    "from datetime import datetime"
   ]
  },
  {
   "cell_type": "code",
   "execution_count": 55,
   "id": "09c9ed14-7bb5-4130-b6e1-098e0d2d21b0",
   "metadata": {},
   "outputs": [
    {
     "name": "stderr",
     "output_type": "stream",
     "text": [
      "/var/folders/rm/nnz28pc96cv2xqzbwlwvwl2r0000gn/T/ipykernel_26651/1900226705.py:1: DtypeWarning: Columns (0,1,2,4,6,8,9,10,14,15,20) have mixed types. Specify dtype option on import or set low_memory=False.\n",
      "  df_full = pd.read_csv(\"/Users/haaroony/OneDrive - Pometry Ltd/nft_andrea/Data_API.csv\")\n"
     ]
    }
   ],
   "source": [
    "df_full = pd.read_csv(\"/Users/haaroony/OneDrive - Pometry Ltd/nft_andrea/Data_API.csv\")"
   ]
  },
  {
   "cell_type": "code",
   "execution_count": 49,
   "id": "82542242-4b7e-423b-a3c9-ad93f49c8150",
   "metadata": {},
   "outputs": [],
   "source": [
    "drop_some_column = [\"Unique_id_collection\", \"Permanent_link\", \"Description\", \"Name\", \"Image_url_4\", \"Image_url_3\", \"Image_url_2\", \"Image_url_1\"]\n",
    "df_dropped = df_full.drop(columns=drop_some_column)"
   ]
  },
  {
   "cell_type": "code",
   "execution_count": 3,
   "id": "2ccd5fbb-82d2-4084-8d83-f327c4e4f009",
   "metadata": {},
   "outputs": [],
   "source": [
    "df = df_full[['ID_token', 'Transaction_hash', 'Datetime_updated_seconds']]"
   ]
  },
  {
   "cell_type": "code",
   "execution_count": 5,
   "id": "818c5847-ccdd-42ff-8263-f0bb7abc1aa4",
   "metadata": {},
   "outputs": [
    {
     "name": "stderr",
     "output_type": "stream",
     "text": [
      "/var/folders/rm/nnz28pc96cv2xqzbwlwvwl2r0000gn/T/ipykernel_26651/3612290062.py:1: SettingWithCopyWarning: \n",
      "A value is trying to be set on a copy of a slice from a DataFrame.\n",
      "Try using .loc[row_indexer,col_indexer] = value instead\n",
      "\n",
      "See the caveats in the documentation: https://pandas.pydata.org/pandas-docs/stable/user_guide/indexing.html#returning-a-view-versus-a-copy\n",
      "  df['unix_time'] = df['Datetime_updated_seconds'].apply(lambda x: datetime.strptime(x, \"%Y-%m-%d %H:%M:%S\").timestamp())\n"
     ]
    }
   ],
   "source": [
    "s = \"2019-11-30 23:59:33\"\n",
    "df['unix_time'] = df['Datetime_updated_seconds'].apply(lambda x: datetime.strptime(x, \"%Y-%m-%d %H:%M:%S\").timestamp())"
   ]
  },
  {
   "cell_type": "markdown",
   "id": "a2104e37-5b8b-447f-8aba-af13522199a8",
   "metadata": {},
   "source": [
    "old=(1540436348,0xfbf193668516edb858e1ac8b95a562d2a8583418e9dd3cf523b66e6a7426e17c),\n",
    "new=(1540436348,0x3cd1d9caa9d06e40aef1b052676c72b66d9de81d68dc0d0a0576fc0078a8dabd)"
   ]
  },
  {
   "cell_type": "code",
   "execution_count": 31,
   "id": "59517df1-e20b-4a3e-b832-0d4bf5080b09",
   "metadata": {
    "scrolled": true,
    "tags": []
   },
   "outputs": [
    {
     "name": "stdout",
     "output_type": "stream",
     "text": [
      " NFTS: \n",
      "4746857\n",
      "200000\n",
      "400000\n",
      "600000\n",
      "800000\n",
      "1000000\n",
      "1200000\n",
      "1400000\n",
      "1600000\n",
      "1800000\n",
      "2000000\n",
      "2200000\n",
      "2400000\n",
      "2600000\n",
      "2800000\n",
      "3000000\n",
      "3200000\n",
      "3400000\n",
      "3600000\n",
      "3800000\n",
      "4000000\n",
      "4200000\n",
      "4400000\n",
      "Found a bad nft 520975\n",
      "Found a bad nft 597444\n",
      "Found a bad nft 614950\n",
      "Found a bad nft 616766\n",
      "Found a bad nft 630892\n",
      "Found a bad nft 640086\n",
      "Found a bad nft 6877\n",
      "Found a bad nft 712882\n",
      "Found a bad nft 712913\n",
      "4600000\n",
      "Found a bad nft 856183\n",
      "Found a bad nft 9103\n",
      "Found a bad nft 9672\n",
      "Found a bad nft 992744\n"
     ]
    }
   ],
   "source": [
    "from collections import Counter\n",
    "\n",
    "print(\" NFTS: \\n\" + str(len(set(df['ID_token']))))\n",
    "\n",
    "c=0\n",
    "bad_nfts = set([])\n",
    "for tid, gp_df in df.groupby(by=['ID_token']):\n",
    "    c+=1\n",
    "    if c % 200_000 == 0:\n",
    "        print(c)\n",
    "    pairs = list(zip(gp_df['Transaction_hash'],gp_df['unix_time']))\n",
    "    counted = Counter(pairs)\n",
    "    counted_total = set(counted.values())\n",
    "    if max(counted_total) >= 2:\n",
    "        print(\"Found a bad nft \" + str(tid))\n",
    "        bad_nfts.add(tid)"
   ]
  },
  {
   "cell_type": "markdown",
   "id": "f225e532-68eb-4a14-9d12-0af233c408a2",
   "metadata": {},
   "source": [
    "java.lang.Error: Mismatched duplicate element: old=(1540436348,0xfbf193668516edb858e1ac8b95a562d2a8583418e9dd3cf523b66e6a7426e17c), new=(1540436348,0x3cd1d9caa9d06e40aef1b052676c72b66d9de81d68dc0d0a0576fc0078a8dabd\n",
    "d68dc0d0a0576fc0078a8dabd)\n",
    "        at com.raphtory.internals.storage.pojograph.OrderedBuffer$OrderedAppend.sortedAppend(OrderedBuffer.scala:34)\n",
    "        at com.raphtory.internals.storage.pojograph.entities.internal.MutableProperty.update(MutableProperty.scala:27)\n",
    "        at com.raphtory.internals.storage.pojograph.entities.internal.PojoEntity.$plus(PojoEntity.scala:57)\n",
    "        at com.raphtory.internals.storage.pojograph.PojoBasedPartition.$anonfun$addProperties$1(PojoBasedPartition.scala:33)\n",
    "        at com.raphtory.internals.storage.pojograph.PojoBasedPartition.$anonfun$addProperties$1$adapted(PojoBasedPartition.scala:32)\n",
    "        at scala.collection.IterableOnceOps.foreach(IterableOnce.scala:563)\n",
    "        at scala.collection.IterableOnceOps.foreach$(IterableOnce.scala:561)\n",
    "        at scala.collection.AbstractIterable.foreach(Iterable.scala:926)\n",
    "        at com.raphtory.internals.storage.pojograph.PojoBasedPartition.addProperties(PojoBasedPartition.scala:32)\n",
    "        at com.raphtory.internals.storage.pojograph.PojoBasedPartition.addEdge(PojoBasedPartition.scala:231)\n",
    "        at com.raphtory.internals.components.partition.BatchWriter.processEdgeAdd(BatchWriter.scala:58)\n",
    "        at com.raphtory.internals.components.partition.BatchWriter.handleMessage(BatchWriter.scala:29)\n",
    "        at com.raphtory.api.input.GraphBuilder.handleEdgeAdd(GraphBuilder.scala:267)\n",
    "        at com.raphtory.api.input.GraphBuilder.addEdge(GraphBuilder.scala:239)\n",
    "        at com.raphtory.api.input.GraphBuilder.addEdge$(GraphBuilder.scala:231)\n",
    "        at com.raphtory.examples.nft.graphbuilder.NFTGraphBuilder.addEdge(NFTGraphBuilder.scala:12)\n",
    "        at com.raphtory.examples.nft.graphbuilder.NFTGraphBuilder.parseTuple(NFTGraphBuilder.scala:96)\n",
    "        at com.raphtory.examples.nft.graphbuilder.NFTGraphBuilder.parseTuple(NFTGraphBuilder.scala:12)\n",
    "        at com.raphtory.internals.components.partition.LocalBatchHandler.$anonfun$runIngestion$1(LocalBatchHandler.scala:54)"
   ]
  },
  {
   "cell_type": "code",
   "execution_count": 35,
   "id": "575ce5f0-9519-4e42-8898-7d719145c76f",
   "metadata": {},
   "outputs": [
    {
     "data": {
      "text/plain": [
       "13"
      ]
     },
     "execution_count": 35,
     "metadata": {},
     "output_type": "execute_result"
    }
   ],
   "source": [
    "len(bad_nfts)"
   ]
  },
  {
   "cell_type": "code",
   "execution_count": 36,
   "id": "c7bfec59-ea50-40c4-af7b-0a6fcf838bcd",
   "metadata": {},
   "outputs": [
    {
     "data": {
      "text/plain": [
       "0.00027386542295249256"
      ]
     },
     "execution_count": 36,
     "metadata": {},
     "output_type": "execute_result"
    }
   ],
   "source": [
    "len(bad_nfts)/4746857*100"
   ]
  },
  {
   "cell_type": "code",
   "execution_count": 52,
   "id": "c7de52db-ea21-4a30-9d4c-e90b55307dbf",
   "metadata": {},
   "outputs": [],
   "source": [
    "df_dropped.to_csv(\"/Users/haaroony/OneDrive - Pometry Ltd/nft_andrea/Data_API_cleaned.csv\", index=False)"
   ]
  },
  {
   "cell_type": "code",
   "execution_count": 53,
   "id": "449a15ad-a861-473a-aaf7-df57c2a4750e",
   "metadata": {},
   "outputs": [
    {
     "data": {
      "text/plain": [
       "6071027"
      ]
     },
     "execution_count": 53,
     "metadata": {},
     "output_type": "execute_result"
    }
   ],
   "source": [
    "len(df_dropped)"
   ]
  },
  {
   "cell_type": "code",
   "execution_count": 63,
   "id": "4784741b-4a34-4b37-9add-cb858d612ff1",
   "metadata": {},
   "outputs": [
    {
     "data": {
      "text/plain": [
       "Smart_contract              5109417\n",
       "ID_token                    6071027\n",
       "Transaction_hash            2885387\n",
       "Seller_address              6071027\n",
       "Seller_username             1093254\n",
       "Buyer_address               6071027\n",
       "Buyer_username               892863\n",
       "Price_Crypto                6071027\n",
       "Crypto                      6071027\n",
       "Price_USD                   6062744\n",
       "Collection                  6071027\n",
       "Market                      6071027\n",
       "Datetime_updated            6071027\n",
       "Datetime_updated_seconds    6071027\n",
       "Collection_cleaned          6071027\n",
       "Category                    6071027\n",
       "dtype: int64"
      ]
     },
     "execution_count": 63,
     "metadata": {},
     "output_type": "execute_result"
    }
   ],
   "source": [
    "df_dropped"
   ]
  },
  {
   "cell_type": "code",
   "execution_count": 65,
   "id": "683a54fb-c5ac-4659-bb28-54410af5583a",
   "metadata": {
    "collapsed": true,
    "jupyter": {
     "outputs_hidden": true
    },
    "tags": []
   },
   "outputs": [
    {
     "data": {
      "text/plain": [
       "{'0xBTC',\n",
       " '1MT',\n",
       " '2XDN',\n",
       " 'ABST',\n",
       " 'AMPL',\n",
       " 'ANRX',\n",
       " 'ARCONA',\n",
       " 'ART',\n",
       " 'ASLT',\n",
       " 'ATRI',\n",
       " 'AVRT',\n",
       " 'B0T',\n",
       " 'BAEPAY',\n",
       " 'BASED',\n",
       " 'BAT',\n",
       " 'BLVD',\n",
       " 'BON',\n",
       " 'BONDLY',\n",
       " 'BONES',\n",
       " 'BOOB',\n",
       " 'BORG',\n",
       " 'BPC',\n",
       " 'BUDGET',\n",
       " 'BUDZ',\n",
       " 'BZN',\n",
       " 'CAMEL',\n",
       " 'CGG',\n",
       " 'CHERRY',\n",
       " 'CHONK',\n",
       " 'COIN',\n",
       " 'COVAL',\n",
       " 'CPT',\n",
       " 'CRED',\n",
       " 'CUBE',\n",
       " 'CURIO',\n",
       " 'DAI',\n",
       " 'DAPPT',\n",
       " 'DDIM',\n",
       " 'DENA',\n",
       " 'DGX',\n",
       " 'DHC',\n",
       " 'DOOM',\n",
       " 'DUST',\n",
       " 'EBB',\n",
       " 'ECAT',\n",
       " 'ECTO',\n",
       " 'EGGS',\n",
       " 'ELAND',\n",
       " 'ELET',\n",
       " 'EMONT',\n",
       " 'ENJ',\n",
       " 'EPIC',\n",
       " 'ETH',\n",
       " 'FIRST',\n",
       " 'FRFY',\n",
       " 'FTHR',\n",
       " 'FTM',\n",
       " 'FUD',\n",
       " 'GALA',\n",
       " 'GCASH',\n",
       " 'GEM',\n",
       " 'GMX',\n",
       " 'GOKU',\n",
       " 'GOOSE',\n",
       " 'GOU',\n",
       " 'GPL',\n",
       " 'GUSD',\n",
       " 'HIVED',\n",
       " 'HOUR',\n",
       " 'HUE',\n",
       " 'IMP',\n",
       " 'INI',\n",
       " 'INK',\n",
       " 'JBG',\n",
       " 'JGN',\n",
       " 'KAP',\n",
       " 'KEK',\n",
       " 'KEK-DEP',\n",
       " 'KING',\n",
       " 'KIWI',\n",
       " 'KLTR',\n",
       " 'KOI',\n",
       " 'LAR',\n",
       " 'LESS',\n",
       " 'LINK',\n",
       " 'LIT',\n",
       " 'LOAD',\n",
       " 'MANA',\n",
       " 'MATIC',\n",
       " 'MBC',\n",
       " 'MCX',\n",
       " 'MEME',\n",
       " 'MGDv2',\n",
       " 'MKR',\n",
       " 'MM',\n",
       " 'MNFT',\n",
       " 'MORK',\n",
       " 'MX',\n",
       " 'NDR',\n",
       " 'NEWS',\n",
       " 'NUGS',\n",
       " 'NVT',\n",
       " 'OLDWAXIE',\n",
       " 'OLDWZX',\n",
       " 'PGU',\n",
       " 'PIXEL',\n",
       " 'PIXIE',\n",
       " 'PLAY',\n",
       " 'PMON',\n",
       " 'PPDEX',\n",
       " 'PRIME',\n",
       " 'PXART',\n",
       " 'PYRO',\n",
       " 'RAINBOW',\n",
       " 'RARE',\n",
       " 'RARI',\n",
       " 'RCC',\n",
       " 'RCDY',\n",
       " 'REVV',\n",
       " 'RLY',\n",
       " 'RODZ',\n",
       " 'ROPE',\n",
       " 'ROT',\n",
       " 'RUGZ',\n",
       " 'SAI',\n",
       " 'SAL',\n",
       " 'SAND',\n",
       " 'SKULL',\n",
       " 'SLP',\n",
       " 'SMTS',\n",
       " 'SURF',\n",
       " 'SWAG',\n",
       " 'TATR',\n",
       " 'THREE',\n",
       " 'TRIP',\n",
       " 'TRISM',\n",
       " 'TRSH',\n",
       " 'UNI',\n",
       " 'USDC',\n",
       " 'VEGETA',\n",
       " 'VI',\n",
       " 'VIDEO',\n",
       " 'VIDT',\n",
       " 'VSF',\n",
       " 'WAIF',\n",
       " 'WAX',\n",
       " 'WAXIE',\n",
       " 'WBTC',\n",
       " 'WCK',\n",
       " 'WETH',\n",
       " 'WGM',\n",
       " 'WIPC',\n",
       " 'WMC',\n",
       " 'XMON',\n",
       " 'YGT',\n",
       " 'YUMI',\n",
       " 'ZIOT',\n",
       " 'ZURU',\n",
       " 'ZUT',\n",
       " 'eFAME'}"
      ]
     },
     "execution_count": 65,
     "metadata": {},
     "output_type": "execute_result"
    }
   ],
   "source": [
    "set(df_dropped['Crypto'])"
   ]
  },
  {
   "cell_type": "code",
   "execution_count": 66,
   "id": "70cdfc34-45d9-439c-8bca-c2b2bcd38cbc",
   "metadata": {},
   "outputs": [],
   "source": [
    "df_dropped_eth_only = df_dropped[df_dropped['Crypto']=='ETH']"
   ]
  },
  {
   "cell_type": "code",
   "execution_count": 68,
   "id": "55142973-3844-445a-9d7a-9021f2d5d1aa",
   "metadata": {},
   "outputs": [],
   "source": [
    "df_dropped_eth_only.to_csv(\"/Users/haaroony/OneDrive - Pometry Ltd/nft_andrea/Data_API_cleaned_ETH_only.csv\", index=False)"
   ]
  },
  {
   "cell_type": "code",
   "execution_count": 69,
   "id": "9176f3c0-8a20-4841-8c54-389f1627ed47",
   "metadata": {},
   "outputs": [
    {
     "data": {
      "text/plain": [
       "'2021-04-27 23:59:51'"
      ]
     },
     "execution_count": 69,
     "metadata": {},
     "output_type": "execute_result"
    }
   ],
   "source": [
    "max(df_dropped_eth_only['Datetime_updated_seconds'])"
   ]
  },
  {
   "cell_type": "code",
   "execution_count": 60,
   "id": "11d5dd1a-5330-4255-bcdb-bef410e55f94",
   "metadata": {},
   "outputs": [
    {
     "name": "stdout",
     "output_type": "stream",
     "text": [
      "0 Smart_contract\n",
      "1 ID_token\n",
      "2 Transaction_hash\n",
      "3 Seller_address\n",
      "4 Seller_username\n",
      "5 Buyer_address\n",
      "6 Buyer_username\n",
      "7 Price_Crypto\n",
      "8 Crypto\n",
      "9 Price_USD\n",
      "10 Collection\n",
      "11 Market\n",
      "12 Datetime_updated\n",
      "13 Datetime_updated_seconds\n",
      "14 Collection_cleaned\n",
      "15 Category\n"
     ]
    }
   ],
   "source": [
    "for i, x in enumerate(df_dropped.columns):\n",
    "    print(i, x)"
   ]
  },
  {
   "cell_type": "code",
   "execution_count": 50,
   "id": "dfa974bf-4200-441f-9b2a-4821b25e3f7e",
   "metadata": {},
   "outputs": [
    {
     "ename": "NameError",
     "evalue": "name 'df_clean_dropped_nfts' is not defined",
     "output_type": "error",
     "traceback": [
      "\u001b[0;31m---------------------------------------------------------------------------\u001b[0m",
      "\u001b[0;31mNameError\u001b[0m                                 Traceback (most recent call last)",
      "Input \u001b[0;32mIn [50]\u001b[0m, in \u001b[0;36m<cell line: 1>\u001b[0;34m()\u001b[0m\n\u001b[0;32m----> 1\u001b[0m \u001b[43mdf_clean_dropped_nfts\u001b[49m\n",
      "\u001b[0;31mNameError\u001b[0m: name 'df_clean_dropped_nfts' is not defined"
     ]
    }
   ],
   "source": [
    "max)df_clean_dropped_nfts)"
   ]
  },
  {
   "cell_type": "markdown",
   "id": "e3097b42-68ab-4e42-a267-4cfbed5a6803",
   "metadata": {},
   "source": [
    "## unclean data"
   ]
  },
  {
   "cell_type": "code",
   "execution_count": 43,
   "id": "b792c924-0933-4fd9-aa41-b83ce949a710",
   "metadata": {},
   "outputs": [],
   "source": [
    "unclean_df = pd.read_csv(\"/Users/haaroony/OneDrive - Pometry Ltd/nft_andrea/bad_nft.csv\")"
   ]
  },
  {
   "cell_type": "code",
   "execution_count": 44,
   "id": "de47f856-dc77-4b5c-921b-f19c721fa77e",
   "metadata": {},
   "outputs": [
    {
     "data": {
      "text/html": [
       "<div>\n",
       "<style scoped>\n",
       "    .dataframe tbody tr th:only-of-type {\n",
       "        vertical-align: middle;\n",
       "    }\n",
       "\n",
       "    .dataframe tbody tr th {\n",
       "        vertical-align: top;\n",
       "    }\n",
       "\n",
       "    .dataframe thead th {\n",
       "        text-align: right;\n",
       "    }\n",
       "</style>\n",
       "<table border=\"1\" class=\"dataframe\">\n",
       "  <thead>\n",
       "    <tr style=\"text-align: right;\">\n",
       "      <th></th>\n",
       "      <th>Smart_contract</th>\n",
       "      <th>ID_token</th>\n",
       "      <th>Transaction_hash</th>\n",
       "      <th>Seller_address</th>\n",
       "      <th>Seller_username</th>\n",
       "      <th>Buyer_address</th>\n",
       "      <th>Buyer_username</th>\n",
       "      <th>Image_url_1</th>\n",
       "      <th>Image_url_2</th>\n",
       "      <th>Image_url_3</th>\n",
       "      <th>...</th>\n",
       "      <th>Name</th>\n",
       "      <th>Description</th>\n",
       "      <th>Collection</th>\n",
       "      <th>Market</th>\n",
       "      <th>Datetime_updated</th>\n",
       "      <th>Datetime_updated_seconds</th>\n",
       "      <th>Permanent_link</th>\n",
       "      <th>Unique_id_collection</th>\n",
       "      <th>Collection_cleaned</th>\n",
       "      <th>Category</th>\n",
       "    </tr>\n",
       "  </thead>\n",
       "  <tbody>\n",
       "    <tr>\n",
       "      <th>0</th>\n",
       "      <td>0x06012c8cf97bead5deae237070f9587f8e7a266d</td>\n",
       "      <td>539565</td>\n",
       "      <td>0xb0dd3d7199c3df1e81f99f304a1bfc834373684468aa...</td>\n",
       "      <td>0x4886404ecfb86b759b27867afb0f64172eea1c53</td>\n",
       "      <td>PsyDuck</td>\n",
       "      <td>0xefe92c9018c8fd8bf52a2107f6177078a291353f</td>\n",
       "      <td>NaN</td>\n",
       "      <td>https://storage.opensea.io/0x06012c8cf97bead5d...</td>\n",
       "      <td>https://img.cryptokitties.co/0x06012c8cf97bead...</td>\n",
       "      <td>https://storage.opensea.io/0x06012c8cf97bead5d...</td>\n",
       "      <td>...</td>\n",
       "      <td>💜💙 Wuvme Chronic Bobtail</td>\n",
       "      <td>Bonjour! I'm 💜💙 Wuvme Chronic Bobtail. I work ...</td>\n",
       "      <td>Cryptokitties</td>\n",
       "      <td>OpenSea</td>\n",
       "      <td>2018-02-24 00:00:00</td>\n",
       "      <td>2018-02-24 20:21:59</td>\n",
       "      <td>https://opensea.io/assets/0x06012c8cf97bead5de...</td>\n",
       "      <td>('Cryptokitties', '539565')</td>\n",
       "      <td>Cryptokittie</td>\n",
       "      <td>Art</td>\n",
       "    </tr>\n",
       "  </tbody>\n",
       "</table>\n",
       "<p>1 rows × 24 columns</p>\n",
       "</div>"
      ],
      "text/plain": [
       "                               Smart_contract  ID_token  \\\n",
       "0  0x06012c8cf97bead5deae237070f9587f8e7a266d    539565   \n",
       "\n",
       "                                    Transaction_hash  \\\n",
       "0  0xb0dd3d7199c3df1e81f99f304a1bfc834373684468aa...   \n",
       "\n",
       "                               Seller_address Seller_username  \\\n",
       "0  0x4886404ecfb86b759b27867afb0f64172eea1c53         PsyDuck   \n",
       "\n",
       "                                Buyer_address  Buyer_username  \\\n",
       "0  0xefe92c9018c8fd8bf52a2107f6177078a291353f             NaN   \n",
       "\n",
       "                                         Image_url_1  \\\n",
       "0  https://storage.opensea.io/0x06012c8cf97bead5d...   \n",
       "\n",
       "                                         Image_url_2  \\\n",
       "0  https://img.cryptokitties.co/0x06012c8cf97bead...   \n",
       "\n",
       "                                         Image_url_3  ...  \\\n",
       "0  https://storage.opensea.io/0x06012c8cf97bead5d...  ...   \n",
       "\n",
       "                       Name  \\\n",
       "0  💜💙 Wuvme Chronic Bobtail   \n",
       "\n",
       "                                         Description     Collection   Market  \\\n",
       "0  Bonjour! I'm 💜💙 Wuvme Chronic Bobtail. I work ...  Cryptokitties  OpenSea   \n",
       "\n",
       "      Datetime_updated Datetime_updated_seconds  \\\n",
       "0  2018-02-24 00:00:00      2018-02-24 20:21:59   \n",
       "\n",
       "                                      Permanent_link  \\\n",
       "0  https://opensea.io/assets/0x06012c8cf97bead5de...   \n",
       "\n",
       "          Unique_id_collection Collection_cleaned Category  \n",
       "0  ('Cryptokitties', '539565')       Cryptokittie      Art  \n",
       "\n",
       "[1 rows x 24 columns]"
      ]
     },
     "execution_count": 44,
     "metadata": {},
     "output_type": "execute_result"
    }
   ],
   "source": [
    "unclean_df"
   ]
  },
  {
   "cell_type": "code",
   "execution_count": 47,
   "id": "a62e2fbb-244b-4997-a62f-0d213685219e",
   "metadata": {},
   "outputs": [
    {
     "data": {
      "text/html": [
       "<div>\n",
       "<style scoped>\n",
       "    .dataframe tbody tr th:only-of-type {\n",
       "        vertical-align: middle;\n",
       "    }\n",
       "\n",
       "    .dataframe tbody tr th {\n",
       "        vertical-align: top;\n",
       "    }\n",
       "\n",
       "    .dataframe thead th {\n",
       "        text-align: right;\n",
       "    }\n",
       "</style>\n",
       "<table border=\"1\" class=\"dataframe\">\n",
       "  <thead>\n",
       "    <tr style=\"text-align: right;\">\n",
       "      <th></th>\n",
       "      <th>Smart_contract</th>\n",
       "      <th>ID_token</th>\n",
       "      <th>Transaction_hash</th>\n",
       "      <th>Seller_address</th>\n",
       "      <th>Seller_username</th>\n",
       "      <th>Buyer_address</th>\n",
       "      <th>Buyer_username</th>\n",
       "      <th>Price_Crypto</th>\n",
       "      <th>Crypto</th>\n",
       "      <th>Price_USD</th>\n",
       "      <th>Collection</th>\n",
       "      <th>Market</th>\n",
       "      <th>Datetime_updated</th>\n",
       "      <th>Datetime_updated_seconds</th>\n",
       "      <th>Collection_cleaned</th>\n",
       "      <th>Category</th>\n",
       "    </tr>\n",
       "  </thead>\n",
       "  <tbody>\n",
       "    <tr>\n",
       "      <th>0</th>\n",
       "      <td>0x06012c8cf97bead5deae237070f9587f8e7a266d</td>\n",
       "      <td>539565</td>\n",
       "      <td>0xb0dd3d7199c3df1e81f99f304a1bfc834373684468aa...</td>\n",
       "      <td>0x4886404ecfb86b759b27867afb0f64172eea1c53</td>\n",
       "      <td>PsyDuck</td>\n",
       "      <td>0xefe92c9018c8fd8bf52a2107f6177078a291353f</td>\n",
       "      <td>NaN</td>\n",
       "      <td>0.004</td>\n",
       "      <td>ETH</td>\n",
       "      <td>3.37072</td>\n",
       "      <td>Cryptokitties</td>\n",
       "      <td>OpenSea</td>\n",
       "      <td>2018-02-24 00:00:00</td>\n",
       "      <td>2018-02-24 20:21:59</td>\n",
       "      <td>Cryptokittie</td>\n",
       "      <td>Art</td>\n",
       "    </tr>\n",
       "  </tbody>\n",
       "</table>\n",
       "</div>"
      ],
      "text/plain": [
       "                               Smart_contract  ID_token  \\\n",
       "0  0x06012c8cf97bead5deae237070f9587f8e7a266d    539565   \n",
       "\n",
       "                                    Transaction_hash  \\\n",
       "0  0xb0dd3d7199c3df1e81f99f304a1bfc834373684468aa...   \n",
       "\n",
       "                               Seller_address Seller_username  \\\n",
       "0  0x4886404ecfb86b759b27867afb0f64172eea1c53         PsyDuck   \n",
       "\n",
       "                                Buyer_address  Buyer_username  Price_Crypto  \\\n",
       "0  0xefe92c9018c8fd8bf52a2107f6177078a291353f             NaN         0.004   \n",
       "\n",
       "  Crypto  Price_USD     Collection   Market     Datetime_updated  \\\n",
       "0    ETH    3.37072  Cryptokitties  OpenSea  2018-02-24 00:00:00   \n",
       "\n",
       "  Datetime_updated_seconds Collection_cleaned Category  \n",
       "0      2018-02-24 20:21:59       Cryptokittie      Art  "
      ]
     },
     "execution_count": 47,
     "metadata": {},
     "output_type": "execute_result"
    }
   ],
   "source": [
    "unclean_df.drop(columns=drop_some_column)"
   ]
  },
  {
   "cell_type": "code",
   "execution_count": null,
   "id": "7fafcb8a-7720-4c4c-bd16-4fb22025142a",
   "metadata": {},
   "outputs": [],
   "source": []
  }
 ],
 "metadata": {
  "kernelspec": {
   "display_name": "Python [conda env:nft]",
   "language": "python",
   "name": "conda-env-nft-py"
  },
  "language_info": {
   "codemirror_mode": {
    "name": "ipython",
    "version": 3
   },
   "file_extension": ".py",
   "mimetype": "text/x-python",
   "name": "python",
   "nbconvert_exporter": "python",
   "pygments_lexer": "ipython3",
   "version": "3.8.13"
  }
 },
 "nbformat": 4,
 "nbformat_minor": 5
}
