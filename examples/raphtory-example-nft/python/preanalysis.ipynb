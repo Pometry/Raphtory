{
 "cells": [
  {
   "cell_type": "code",
   "execution_count": 26,
   "metadata": {},
   "outputs": [],
   "source": [
    "import pandas as pd\n",
    "full_data_path =  \"/Users/haaroony/OneDrive - Pometry Ltd/nft_andrea/Data_API.csv.gz\"\n",
    "data_100k_path =  \"/Users/haaroony/OneDrive - Pometry Ltd/nft_andrea/Data_API_100k.csv\"\n",
    "data_1m_path = \"/Users/haaroony/OneDrive - Pometry Ltd/nft_andrea/Data_API_1m.csv\""
   ]
  },
  {
   "cell_type": "code",
   "execution_count": 15,
   "metadata": {
    "pycharm": {
     "name": "#%%\n"
    }
   },
   "outputs": [
    {
     "name": "stderr",
     "output_type": "stream",
     "text": [
      "/var/folders/rm/nnz28pc96cv2xqzbwlwvwl2r0000gn/T/ipykernel_81594/925932960.py:1: DtypeWarning: Columns (0,1,2,4,6,8,9,10,14,15,20) have mixed types. Specify dtype option on import or set low_memory=False.\n",
      "  data = pd.read_csv(full_data_path)\n"
     ]
    }
   ],
   "source": [
    "data = pd.read_csv(full_data_path)\n",
    "data_1m = pd.read_csv(data_1m_path)\n",
    "data_100k = pd.read_csv(data_100k_path)"
   ]
  },
  {
   "cell_type": "code",
   "execution_count": 24,
   "metadata": {},
   "outputs": [
    {
     "name": "stdout",
     "output_type": "stream",
     "text": [
      "# of nfts in total\n",
      "4746857\n",
      "number of sellers in total\n",
      "312920\n",
      " number of buyers in total\n",
      "358348\n"
     ]
    }
   ],
   "source": [
    "print(\"# of nfts in total\")\n",
    "print(len(set(data['ID_token'])))\n",
    "\n",
    "print(\"number of sellers in total\")\n",
    "print(len(set(data['Seller_address'])))\n",
    "\n",
    "print(\" number of buyers in total\")\n",
    "print(len(set(data['Buyer_address'])))"
   ]
  },
  {
   "cell_type": "code",
   "execution_count": 28,
   "metadata": {},
   "outputs": [
    {
     "name": "stdout",
     "output_type": "stream",
     "text": [
      "# of nfts in total\n",
      "850475\n",
      "number of sellers in total\n",
      "34489\n",
      " number of buyers in total\n",
      "101929\n"
     ]
    }
   ],
   "source": [
    "print(\"# of nfts in total\")\n",
    "print(len(set(data_1m['ID_token'])))\n",
    "\n",
    "print(\"number of sellers in total\")\n",
    "print(len(set(data_1m['Seller_address'])))\n",
    "\n",
    "print(\" number of buyers in total\")\n",
    "print(len(set(data_1m['Buyer_address'])))"
   ]
  },
  {
   "cell_type": "code",
   "execution_count": 31,
   "metadata": {},
   "outputs": [
    {
     "name": "stdout",
     "output_type": "stream",
     "text": [
      "# of nfts in total\n",
      "97051\n",
      "number of sellers in total\n",
      "5\n",
      " number of buyers in total\n",
      "1280\n"
     ]
    }
   ],
   "source": [
    "print(\"# of nfts in total\")\n",
    "print(len(set(data_100k['ID_token'])))\n",
    "\n",
    "print(\"number of sellers in total\")\n",
    "print(len(set(data_100k['Seller_address'])))\n",
    "\n",
    "print(\" number of buyers in total\")\n",
    "print(len(set(data_100k['Buyer_address'])))"
   ]
  },
  {
   "cell_type": "code",
   "execution_count": 41,
   "metadata": {},
   "outputs": [
    {
     "data": {
      "text/html": [
       "<div>\n",
       "<style scoped>\n",
       "    .dataframe tbody tr th:only-of-type {\n",
       "        vertical-align: middle;\n",
       "    }\n",
       "\n",
       "    .dataframe tbody tr th {\n",
       "        vertical-align: top;\n",
       "    }\n",
       "\n",
       "    .dataframe thead th {\n",
       "        text-align: right;\n",
       "    }\n",
       "</style>\n",
       "<table border=\"1\" class=\"dataframe\">\n",
       "  <thead>\n",
       "    <tr style=\"text-align: right;\">\n",
       "      <th></th>\n",
       "      <th>Smart_contract</th>\n",
       "      <th>ID_token</th>\n",
       "      <th>Transaction_hash</th>\n",
       "      <th>Seller_address</th>\n",
       "      <th>Seller_username</th>\n",
       "      <th>Buyer_address</th>\n",
       "      <th>Buyer_username</th>\n",
       "      <th>Image_url_1</th>\n",
       "      <th>Image_url_2</th>\n",
       "      <th>Image_url_3</th>\n",
       "      <th>...</th>\n",
       "      <th>Name</th>\n",
       "      <th>Description</th>\n",
       "      <th>Collection</th>\n",
       "      <th>Market</th>\n",
       "      <th>Datetime_updated</th>\n",
       "      <th>Datetime_updated_seconds</th>\n",
       "      <th>Permanent_link</th>\n",
       "      <th>Unique_id_collection</th>\n",
       "      <th>Collection_cleaned</th>\n",
       "      <th>Category</th>\n",
       "    </tr>\n",
       "  </thead>\n",
       "  <tbody>\n",
       "    <tr>\n",
       "      <th>0</th>\n",
       "      <td>NaN</td>\n",
       "      <td>87094722.0</td>\n",
       "      <td>0xed9ff1c311a611e5c457ce0a49bbbb7ed55efca98842...</td>\n",
       "      <td>0x76481caa104b5f6bccb540dae4cefaf1c398ebea</td>\n",
       "      <td>NaN</td>\n",
       "      <td>0xe0fb7622091e3d9ef9b438471b10b9ea88c7cf6b</td>\n",
       "      <td>NaN</td>\n",
       "      <td>https://card.godsunchained.com/?id=33&amp;q=4</td>\n",
       "      <td>NaN</td>\n",
       "      <td>NaN</td>\n",
       "      <td>...</td>\n",
       "      <td>NaN</td>\n",
       "      <td>NaN</td>\n",
       "      <td>Godsunchained</td>\n",
       "      <td>Godsunchained</td>\n",
       "      <td>2019-11-30 00:00:00</td>\n",
       "      <td>2019-11-30 23:59:33</td>\n",
       "      <td>NaN</td>\n",
       "      <td>('Godsunchained', '87094722.0')</td>\n",
       "      <td>Godsunchained</td>\n",
       "      <td>Games</td>\n",
       "    </tr>\n",
       "    <tr>\n",
       "      <th>1</th>\n",
       "      <td>NaN</td>\n",
       "      <td>73044643.0</td>\n",
       "      <td>0xbc8412594ffa7382e8306215ece5b4e041fc641b1813...</td>\n",
       "      <td>0x76481caa104b5f6bccb540dae4cefaf1c398ebea</td>\n",
       "      <td>NaN</td>\n",
       "      <td>0x2c00d05ff7ffe93d77145dfe12aa56e622ae6f40</td>\n",
       "      <td>NaN</td>\n",
       "      <td>https://card.godsunchained.com/?id=79&amp;q=4</td>\n",
       "      <td>NaN</td>\n",
       "      <td>NaN</td>\n",
       "      <td>...</td>\n",
       "      <td>NaN</td>\n",
       "      <td>NaN</td>\n",
       "      <td>Godsunchained</td>\n",
       "      <td>Godsunchained</td>\n",
       "      <td>2019-11-30 00:00:00</td>\n",
       "      <td>2019-11-30 23:59:33</td>\n",
       "      <td>NaN</td>\n",
       "      <td>('Godsunchained', '73044643.0')</td>\n",
       "      <td>Godsunchained</td>\n",
       "      <td>Games</td>\n",
       "    </tr>\n",
       "    <tr>\n",
       "      <th>2</th>\n",
       "      <td>NaN</td>\n",
       "      <td>17107482.0</td>\n",
       "      <td>0x92672baf5e9e23de230dee8e57ddf443ab6d5a336341...</td>\n",
       "      <td>0x76481caa104b5f6bccb540dae4cefaf1c398ebea</td>\n",
       "      <td>NaN</td>\n",
       "      <td>0xe0fb7622091e3d9ef9b438471b10b9ea88c7cf6b</td>\n",
       "      <td>NaN</td>\n",
       "      <td>https://card.godsunchained.com/?id=33&amp;q=4</td>\n",
       "      <td>NaN</td>\n",
       "      <td>NaN</td>\n",
       "      <td>...</td>\n",
       "      <td>NaN</td>\n",
       "      <td>NaN</td>\n",
       "      <td>Godsunchained</td>\n",
       "      <td>Godsunchained</td>\n",
       "      <td>2019-11-30 00:00:00</td>\n",
       "      <td>2019-11-30 23:59:33</td>\n",
       "      <td>NaN</td>\n",
       "      <td>('Godsunchained', '17107482.0')</td>\n",
       "      <td>Godsunchained</td>\n",
       "      <td>Games</td>\n",
       "    </tr>\n",
       "    <tr>\n",
       "      <th>3</th>\n",
       "      <td>NaN</td>\n",
       "      <td>82230857.0</td>\n",
       "      <td>0x3d157249e3083622c2d756f07a05caa3a76687288b32...</td>\n",
       "      <td>0x76481caa104b5f6bccb540dae4cefaf1c398ebea</td>\n",
       "      <td>NaN</td>\n",
       "      <td>0x2c00d05ff7ffe93d77145dfe12aa56e622ae6f40</td>\n",
       "      <td>NaN</td>\n",
       "      <td>https://card.godsunchained.com/?id=227&amp;q=4</td>\n",
       "      <td>NaN</td>\n",
       "      <td>NaN</td>\n",
       "      <td>...</td>\n",
       "      <td>NaN</td>\n",
       "      <td>NaN</td>\n",
       "      <td>Godsunchained</td>\n",
       "      <td>Godsunchained</td>\n",
       "      <td>2019-11-30 00:00:00</td>\n",
       "      <td>2019-11-30 23:59:33</td>\n",
       "      <td>NaN</td>\n",
       "      <td>('Godsunchained', '82230857.0')</td>\n",
       "      <td>Godsunchained</td>\n",
       "      <td>Games</td>\n",
       "    </tr>\n",
       "    <tr>\n",
       "      <th>4</th>\n",
       "      <td>NaN</td>\n",
       "      <td>40925443.0</td>\n",
       "      <td>0xa892b3569dc8e6b3c7db93aade62372637ebbc61fb63...</td>\n",
       "      <td>0x76481caa104b5f6bccb540dae4cefaf1c398ebea</td>\n",
       "      <td>NaN</td>\n",
       "      <td>0x2c00d05ff7ffe93d77145dfe12aa56e622ae6f40</td>\n",
       "      <td>NaN</td>\n",
       "      <td>https://card.godsunchained.com/?id=62&amp;q=4</td>\n",
       "      <td>NaN</td>\n",
       "      <td>NaN</td>\n",
       "      <td>...</td>\n",
       "      <td>NaN</td>\n",
       "      <td>NaN</td>\n",
       "      <td>Godsunchained</td>\n",
       "      <td>Godsunchained</td>\n",
       "      <td>2019-11-30 00:00:00</td>\n",
       "      <td>2019-11-30 23:58:44</td>\n",
       "      <td>NaN</td>\n",
       "      <td>('Godsunchained', '40925443.0')</td>\n",
       "      <td>Godsunchained</td>\n",
       "      <td>Games</td>\n",
       "    </tr>\n",
       "  </tbody>\n",
       "</table>\n",
       "<p>5 rows × 24 columns</p>\n",
       "</div>"
      ],
      "text/plain": [
       "  Smart_contract    ID_token  \\\n",
       "0            NaN  87094722.0   \n",
       "1            NaN  73044643.0   \n",
       "2            NaN  17107482.0   \n",
       "3            NaN  82230857.0   \n",
       "4            NaN  40925443.0   \n",
       "\n",
       "                                    Transaction_hash  \\\n",
       "0  0xed9ff1c311a611e5c457ce0a49bbbb7ed55efca98842...   \n",
       "1  0xbc8412594ffa7382e8306215ece5b4e041fc641b1813...   \n",
       "2  0x92672baf5e9e23de230dee8e57ddf443ab6d5a336341...   \n",
       "3  0x3d157249e3083622c2d756f07a05caa3a76687288b32...   \n",
       "4  0xa892b3569dc8e6b3c7db93aade62372637ebbc61fb63...   \n",
       "\n",
       "                               Seller_address  Seller_username  \\\n",
       "0  0x76481caa104b5f6bccb540dae4cefaf1c398ebea              NaN   \n",
       "1  0x76481caa104b5f6bccb540dae4cefaf1c398ebea              NaN   \n",
       "2  0x76481caa104b5f6bccb540dae4cefaf1c398ebea              NaN   \n",
       "3  0x76481caa104b5f6bccb540dae4cefaf1c398ebea              NaN   \n",
       "4  0x76481caa104b5f6bccb540dae4cefaf1c398ebea              NaN   \n",
       "\n",
       "                                Buyer_address  Buyer_username  \\\n",
       "0  0xe0fb7622091e3d9ef9b438471b10b9ea88c7cf6b             NaN   \n",
       "1  0x2c00d05ff7ffe93d77145dfe12aa56e622ae6f40             NaN   \n",
       "2  0xe0fb7622091e3d9ef9b438471b10b9ea88c7cf6b             NaN   \n",
       "3  0x2c00d05ff7ffe93d77145dfe12aa56e622ae6f40             NaN   \n",
       "4  0x2c00d05ff7ffe93d77145dfe12aa56e622ae6f40             NaN   \n",
       "\n",
       "                                  Image_url_1 Image_url_2 Image_url_3  ...  \\\n",
       "0   https://card.godsunchained.com/?id=33&q=4         NaN         NaN  ...   \n",
       "1   https://card.godsunchained.com/?id=79&q=4         NaN         NaN  ...   \n",
       "2   https://card.godsunchained.com/?id=33&q=4         NaN         NaN  ...   \n",
       "3  https://card.godsunchained.com/?id=227&q=4         NaN         NaN  ...   \n",
       "4   https://card.godsunchained.com/?id=62&q=4         NaN         NaN  ...   \n",
       "\n",
       "  Name  Description     Collection         Market     Datetime_updated  \\\n",
       "0  NaN          NaN  Godsunchained  Godsunchained  2019-11-30 00:00:00   \n",
       "1  NaN          NaN  Godsunchained  Godsunchained  2019-11-30 00:00:00   \n",
       "2  NaN          NaN  Godsunchained  Godsunchained  2019-11-30 00:00:00   \n",
       "3  NaN          NaN  Godsunchained  Godsunchained  2019-11-30 00:00:00   \n",
       "4  NaN          NaN  Godsunchained  Godsunchained  2019-11-30 00:00:00   \n",
       "\n",
       "   Datetime_updated_seconds Permanent_link             Unique_id_collection  \\\n",
       "0       2019-11-30 23:59:33            NaN  ('Godsunchained', '87094722.0')   \n",
       "1       2019-11-30 23:59:33            NaN  ('Godsunchained', '73044643.0')   \n",
       "2       2019-11-30 23:59:33            NaN  ('Godsunchained', '17107482.0')   \n",
       "3       2019-11-30 23:59:33            NaN  ('Godsunchained', '82230857.0')   \n",
       "4       2019-11-30 23:58:44            NaN  ('Godsunchained', '40925443.0')   \n",
       "\n",
       "  Collection_cleaned Category  \n",
       "0      Godsunchained    Games  \n",
       "1      Godsunchained    Games  \n",
       "2      Godsunchained    Games  \n",
       "3      Godsunchained    Games  \n",
       "4      Godsunchained    Games  \n",
       "\n",
       "[5 rows x 24 columns]"
      ]
     },
     "execution_count": 41,
     "metadata": {},
     "output_type": "execute_result"
    }
   ],
   "source": [
    "data_1m.head()"
   ]
  },
  {
   "cell_type": "code",
   "execution_count": 42,
   "metadata": {},
   "outputs": [
    {
     "data": {
      "text/plain": [
       "999994    2020-08-20 19:15:19\n",
       "999995    2020-08-20 19:14:51\n",
       "999996    2020-08-20 19:14:36\n",
       "999997    2020-08-20 19:13:46\n",
       "999998    2020-08-20 19:12:33\n",
       "Name: Datetime_updated_seconds, dtype: object"
      ]
     },
     "execution_count": 42,
     "metadata": {},
     "output_type": "execute_result"
    }
   ],
   "source": [
    "data_1m['Datetime_updated_seconds'].tail()"
   ]
  },
  {
   "cell_type": "code",
   "execution_count": 43,
   "metadata": {},
   "outputs": [
    {
     "data": {
      "text/plain": [
       "0          0.030318\n",
       "1          0.197067\n",
       "2          0.030318\n",
       "3          0.333498\n",
       "4          0.181908\n",
       "            ...    \n",
       "999994    17.597385\n",
       "999995     2.586750\n",
       "999996     2.508000\n",
       "999997     3.650500\n",
       "999998     1.515150\n",
       "Name: Price_USD, Length: 999999, dtype: float64"
      ]
     },
     "execution_count": 43,
     "metadata": {},
     "output_type": "execute_result"
    }
   ],
   "source": [
    "data_1m['Price_USD']"
   ]
  },
  {
   "cell_type": "code",
   "execution_count": 44,
   "metadata": {},
   "outputs": [
    {
     "name": "stdout",
     "output_type": "stream",
     "text": [
      "0 Smart_contract\n",
      "1 ID_token\n",
      "2 Transaction_hash\n",
      "3 Seller_address\n",
      "4 Seller_username\n",
      "5 Buyer_address\n",
      "6 Buyer_username\n",
      "7 Image_url_1\n",
      "8 Image_url_2\n",
      "9 Image_url_3\n",
      "10 Image_url_4\n",
      "11 Price_Crypto\n",
      "12 Crypto\n",
      "13 Price_USD\n",
      "14 Name\n",
      "15 Description\n",
      "16 Collection\n",
      "17 Market\n",
      "18 Datetime_updated\n",
      "19 Datetime_updated_seconds\n",
      "20 Permanent_link\n",
      "21 Unique_id_collection\n",
      "22 Collection_cleaned\n",
      "23 Category\n"
     ]
    }
   ],
   "source": [
    "for i, x in enumerate(data_1m.columns):\n",
    "    print(i, x)"
   ]
  },
  {
   "cell_type": "code",
   "execution_count": 48,
   "metadata": {},
   "outputs": [],
   "source": [
    "price_df = data_1m[['Price_USD']]"
   ]
  },
  {
   "cell_type": "code",
   "execution_count": 54,
   "metadata": {},
   "outputs": [
    {
     "data": {
      "text/plain": [
       "'2021-04-27 23:29:38'"
      ]
     },
     "execution_count": 54,
     "metadata": {},
     "output_type": "execute_result"
    }
   ],
   "source": [
    "max(data_1m['Datetime_updated_seconds']) # 1619562578"
   ]
  },
  {
   "cell_type": "code",
   "execution_count": null,
   "metadata": {},
   "outputs": [],
   "source": []
  },
  {
   "cell_type": "code",
   "execution_count": null,
   "metadata": {},
   "outputs": [],
   "source": []
  },
  {
   "cell_type": "code",
   "execution_count": null,
   "metadata": {},
   "outputs": [],
   "source": []
  },
  {
   "cell_type": "code",
   "execution_count": 49,
   "metadata": {},
   "outputs": [],
   "source": [
    "is_NaN = price_df.isnull()\n",
    "\n",
    "row_has_NaN = is_NaN.any(axis=1)\n",
    "\n",
    "rows_with_NaN = price_df[row_has_NaN]"
   ]
  },
  {
   "cell_type": "code",
   "execution_count": 50,
   "metadata": {},
   "outputs": [
    {
     "data": {
      "text/html": [
       "<div>\n",
       "<style scoped>\n",
       "    .dataframe tbody tr th:only-of-type {\n",
       "        vertical-align: middle;\n",
       "    }\n",
       "\n",
       "    .dataframe tbody tr th {\n",
       "        vertical-align: top;\n",
       "    }\n",
       "\n",
       "    .dataframe thead th {\n",
       "        text-align: right;\n",
       "    }\n",
       "</style>\n",
       "<table border=\"1\" class=\"dataframe\">\n",
       "  <thead>\n",
       "    <tr style=\"text-align: right;\">\n",
       "      <th></th>\n",
       "      <th>Price_USD</th>\n",
       "    </tr>\n",
       "  </thead>\n",
       "  <tbody>\n",
       "    <tr>\n",
       "      <th>679919</th>\n",
       "      <td>NaN</td>\n",
       "    </tr>\n",
       "    <tr>\n",
       "      <th>686239</th>\n",
       "      <td>NaN</td>\n",
       "    </tr>\n",
       "    <tr>\n",
       "      <th>686654</th>\n",
       "      <td>NaN</td>\n",
       "    </tr>\n",
       "    <tr>\n",
       "      <th>686655</th>\n",
       "      <td>NaN</td>\n",
       "    </tr>\n",
       "    <tr>\n",
       "      <th>728650</th>\n",
       "      <td>NaN</td>\n",
       "    </tr>\n",
       "    <tr>\n",
       "      <th>...</th>\n",
       "      <td>...</td>\n",
       "    </tr>\n",
       "    <tr>\n",
       "      <th>938091</th>\n",
       "      <td>NaN</td>\n",
       "    </tr>\n",
       "    <tr>\n",
       "      <th>938361</th>\n",
       "      <td>NaN</td>\n",
       "    </tr>\n",
       "    <tr>\n",
       "      <th>938370</th>\n",
       "      <td>NaN</td>\n",
       "    </tr>\n",
       "    <tr>\n",
       "      <th>938374</th>\n",
       "      <td>NaN</td>\n",
       "    </tr>\n",
       "    <tr>\n",
       "      <th>938389</th>\n",
       "      <td>NaN</td>\n",
       "    </tr>\n",
       "  </tbody>\n",
       "</table>\n",
       "<p>348 rows × 1 columns</p>\n",
       "</div>"
      ],
      "text/plain": [
       "        Price_USD\n",
       "679919        NaN\n",
       "686239        NaN\n",
       "686654        NaN\n",
       "686655        NaN\n",
       "728650        NaN\n",
       "...           ...\n",
       "938091        NaN\n",
       "938361        NaN\n",
       "938370        NaN\n",
       "938374        NaN\n",
       "938389        NaN\n",
       "\n",
       "[348 rows x 1 columns]"
      ]
     },
     "execution_count": 50,
     "metadata": {},
     "output_type": "execute_result"
    }
   ],
   "source": [
    "rows_with_NaN"
   ]
  }
 ],
 "metadata": {
  "kernelspec": {
   "display_name": "raphtorypythonclient",
   "language": "python",
   "name": "raphtorypythonclient"
  },
  "language_info": {
   "codemirror_mode": {
    "name": "ipython",
    "version": 3
   },
   "file_extension": ".py",
   "mimetype": "text/x-python",
   "name": "python",
   "nbconvert_exporter": "python",
   "pygments_lexer": "ipython3",
   "version": "3.9.10"
  }
 },
 "nbformat": 4,
 "nbformat_minor": 1
}
