{
 "cells": [
  {
   "cell_type": "markdown",
   "id": "638f6423",
   "metadata": {},
   "source": [
    "# Raphtory Python Client - TWITTER SOCIAL CIRCLES DEMO"
   ]
  },
  {
   "cell_type": "markdown",
   "id": "621e6015",
   "metadata": {},
   "source": [
    "In this demo we will\n",
    "* Create a Python Raphtory client\n",
    "* Create a Graph from data in Raphtory\n",
    "* Pull results from an algorithm in Raphtory\n",
    "* Add these results to the Graph\n",
    "* Visualise the graph with pymotif"
   ]
  },
  {
   "cell_type": "markdown",
   "id": "ef14c685",
   "metadata": {},
   "source": [
    "### Setup Code"
   ]
  },
  {
   "cell_type": "markdown",
   "id": "637e191d",
   "metadata": {},
   "source": [
    "First we setup the various libraries we will need"
   ]
  },
  {
   "cell_type": "code",
   "execution_count": 4,
   "id": "efd3164f",
   "metadata": {},
   "outputs": [
    {
     "name": "stdout",
     "output_type": "stream",
     "text": [
      "Found existing installation: raphtory-client 0.1.2\n",
      "Not uninstalling raphtory-client at /opt/homebrew/lib/python3.9/site-packages, outside environment /opt/homebrew/Cellar/jupyterlab/3.2.8/libexec\n",
      "Can't uninstall 'raphtory-client'. No files were found to uninstall.\n",
      "Note: you may need to restart the kernel to use updated packages.\n"
     ]
    }
   ],
   "source": [
    "pip uninstall -y raphtory-client"
   ]
  },
  {
   "cell_type": "code",
   "execution_count": 1,
   "id": "95c42567",
   "metadata": {},
   "outputs": [
    {
     "name": "stdout",
     "output_type": "stream",
     "text": [
      "Looking in indexes: https://test.pypi.org/simple/\n",
      "Requirement already satisfied: raphtory-client in /opt/homebrew/lib/python3.9/site-packages (0.1.2)\n",
      "Requirement already satisfied: pulsar-client in /opt/homebrew/Cellar/jupyterlab/3.2.8/libexec/lib/python3.9/site-packages (from raphtory-client) (2.8.1)\n",
      "Requirement already satisfied: six in /opt/homebrew/Cellar/six/1.16.0_2/lib/python3.9/site-packages (from raphtory-client) (1.16.0)\n",
      "Requirement already satisfied: certifi in /opt/homebrew/Cellar/jupyterlab/3.2.8/libexec/lib/python3.9/site-packages (from raphtory-client) (2021.10.8)\n",
      "Requirement already satisfied: charset-normalizer in /opt/homebrew/Cellar/jupyterlab/3.2.8/libexec/lib/python3.9/site-packages (from raphtory-client) (2.0.10)\n",
      "Requirement already satisfied: networkx in /opt/homebrew/Cellar/jupyterlab/3.2.8/libexec/lib/python3.9/site-packages (from raphtory-client) (2.6.3)\n",
      "Requirement already satisfied: numpy in /opt/homebrew/Cellar/jupyterlab/3.2.8/libexec/lib/python3.9/site-packages (from raphtory-client) (1.22.1)\n",
      "Requirement already satisfied: idna in /opt/homebrew/Cellar/jupyterlab/3.2.8/libexec/lib/python3.9/site-packages (from raphtory-client) (3.3)\n",
      "Requirement already satisfied: pytz in /opt/homebrew/Cellar/jupyterlab/3.2.8/libexec/lib/python3.9/site-packages (from raphtory-client) (2021.3)\n",
      "Requirement already satisfied: python-dateutil in /opt/homebrew/Cellar/jupyterlab/3.2.8/libexec/lib/python3.9/site-packages (from raphtory-client) (2.8.2)\n",
      "Requirement already satisfied: fastavro in /opt/homebrew/Cellar/jupyterlab/3.2.8/libexec/lib/python3.9/site-packages (from raphtory-client) (1.4.9)\n",
      "Requirement already satisfied: urllib3 in /opt/homebrew/Cellar/jupyterlab/3.2.8/libexec/lib/python3.9/site-packages (from raphtory-client) (1.26.8)\n",
      "Requirement already satisfied: pandas in /opt/homebrew/Cellar/jupyterlab/3.2.8/libexec/lib/python3.9/site-packages (from raphtory-client) (1.4.0)\n",
      "Requirement already satisfied: requests in /opt/homebrew/Cellar/jupyterlab/3.2.8/libexec/lib/python3.9/site-packages (from raphtory-client) (2.27.1)\n",
      "\u001b[33mWARNING: You are using pip version 21.3.1; however, version 22.1.1 is available.\n",
      "You should consider upgrading via the '/opt/homebrew/Cellar/jupyterlab/3.2.8/libexec/bin/python3.9 -m pip install --upgrade pip' command.\u001b[0m\n",
      "Note: you may need to restart the kernel to use updated packages.\n"
     ]
    }
   ],
   "source": [
    "pip install -i https://test.pypi.org/simple/ raphtory-client"
   ]
  },
  {
   "cell_type": "code",
   "execution_count": 15,
   "id": "cda323fd",
   "metadata": {},
   "outputs": [],
   "source": [
    "x = 1"
   ]
  },
  {
   "cell_type": "code",
   "execution_count": 9,
   "id": "9207acf2",
   "metadata": {},
   "outputs": [],
   "source": [
    "import networkx as nx\n",
    "from raphtoryclient import raphtoryclient as raphtory\n",
    "from pymotif import Motif\n",
    "import pandas as pd"
   ]
  },
  {
   "cell_type": "code",
   "execution_count": 5,
   "id": "d4713942",
   "metadata": {},
   "outputs": [
    {
     "ename": "TypeError",
     "evalue": "__init__() got an unexpected keyword argument 'raphtory_deployment_id'",
     "output_type": "error",
     "traceback": [
      "\u001b[0;31m---------------------------------------------------------------------------\u001b[0m",
      "\u001b[0;31mTypeError\u001b[0m                                 Traceback (most recent call last)",
      "Input \u001b[0;32mIn [5]\u001b[0m, in \u001b[0;36m<module>\u001b[0;34m\u001b[0m\n\u001b[0;32m----> 1\u001b[0m raphtory \u001b[38;5;241m=\u001b[39m \u001b[43mclient\u001b[49m\u001b[43m(\u001b[49m\u001b[43mraphtory_deployment_id\u001b[49m\u001b[38;5;241;43m=\u001b[39;49m\u001b[38;5;124;43m\"\u001b[39;49m\u001b[38;5;124;43mraphtory_704672230\u001b[39;49m\u001b[38;5;124;43m\"\u001b[39;49m\u001b[43m)\u001b[49m\n",
      "\u001b[0;31mTypeError\u001b[0m: __init__() got an unexpected keyword argument 'raphtory_deployment_id'"
     ]
    }
   ],
   "source": [
    "raphtory."
   ]
  },
  {
   "cell_type": "markdown",
   "id": "e17e9264",
   "metadata": {},
   "source": [
    "### Create Client\n",
    "\n",
    "Now we create a client, and then create the readers which read from topics.\n",
    "\n",
    "If the connection fails, the code with automatically retry.\n",
    "\n",
    "This can occur when you have not closed previous pulsar connections.\n",
    "\n",
    "In this case we are reading the topics: TwitterEdgeList and ConnectedComponents\n",
    "\n",
    "Note: Prior to this you should have already run these algorithms in Raphtory."
   ]
  },
  {
   "cell_type": "code",
   "execution_count": 10,
   "id": "075dad83",
   "metadata": {},
   "outputs": [
    {
     "ename": "TypeError",
     "evalue": "createReader() missing 1 required positional argument: 'topic'",
     "output_type": "error",
     "traceback": [
      "\u001b[0;31m---------------------------------------------------------------------------\u001b[0m",
      "\u001b[0;31mTypeError\u001b[0m                                 Traceback (most recent call last)",
      "Input \u001b[0;32mIn [10]\u001b[0m, in \u001b[0;36m<module>\u001b[0;34m\u001b[0m\n\u001b[0;32m----> 1\u001b[0m edgeListReader \u001b[38;5;241m=\u001b[39m \u001b[43mraphtory\u001b[49m\u001b[38;5;241;43m.\u001b[39;49m\u001b[43mcreateReader\u001b[49m\u001b[43m(\u001b[49m\u001b[38;5;124;43m\"\u001b[39;49m\u001b[38;5;124;43mTwitterEdgeList\u001b[39;49m\u001b[38;5;124;43m\"\u001b[39;49m\u001b[43m,\u001b[49m\u001b[43m \u001b[49m\u001b[43msubscription_name\u001b[49m\u001b[38;5;241;43m=\u001b[39;49m\u001b[38;5;124;43m'\u001b[39;49m\u001b[38;5;124;43medgelist_reader\u001b[39;49m\u001b[38;5;124;43m'\u001b[39;49m\u001b[43m)\u001b[49m\n\u001b[1;32m      2\u001b[0m ccReader \u001b[38;5;241m=\u001b[39m raphtory\u001b[38;5;241m.\u001b[39mcreateReader(\u001b[38;5;124m\"\u001b[39m\u001b[38;5;124mConnectedComponents\u001b[39m\u001b[38;5;124m\"\u001b[39m, subscription_name\u001b[38;5;241m=\u001b[39m\u001b[38;5;124m'\u001b[39m\u001b[38;5;124mcc_reader\u001b[39m\u001b[38;5;124m'\u001b[39m)\n",
      "\u001b[0;31mTypeError\u001b[0m: createReader() missing 1 required positional argument: 'topic'"
     ]
    }
   ],
   "source": [
    "edgeListReader = raphtory.createReader(\"TwitterEdgeList\", subscription_name='edgelist_reader')\n",
    "ccReader = raphtory.createReader(\"ConnectedComponents\", subscription_name='cc_reader')"
   ]
  },
  {
   "cell_type": "code",
   "execution_count": 5,
   "id": "91497e43",
   "metadata": {},
   "outputs": [
    {
     "name": "stdout",
     "output_type": "stream",
     "text": [
      "Creating RaphtoryClient object...\n",
      "Created.\n"
     ]
    }
   ],
   "source": [
    "raphtoryClient = client()"
   ]
  },
  {
   "cell_type": "markdown",
   "id": "04c59f1f",
   "metadata": {},
   "source": [
    "### Obtain dataframes\n",
    "\n",
    "Now we will run the getDataframe function to retrieve results as dataframes."
   ]
  },
  {
   "cell_type": "code",
   "execution_count": 7,
   "id": "6cc2d38e",
   "metadata": {},
   "outputs": [
    {
     "name": "stdout",
     "output_type": "stream",
     "text": [
      "Obtaining dataframe...\n",
      "\n",
      "Converting to columns...\n",
      "Completed.\n",
      "Obtaining dataframe...\n",
      "\n",
      "Converting to columns...\n",
      "Completed.\n"
     ]
    }
   ],
   "source": [
    "df_edge = raphtoryClient.getDataframe(edgeListReader)\n",
    "df_cc = raphtoryClient.getDataframe(ccReader)"
   ]
  },
  {
   "cell_type": "markdown",
   "id": "0da4b47f",
   "metadata": {},
   "source": [
    "### Create a graph\n",
    "\n",
    "Next we create a graph by pulling the edge list from Raphtory.\n",
    "\n",
    "In this case we would like to create a graph from the Snap Twitter dataset.\n",
    "\n",
    "So we run the `createGraphFromEdgeList` method on the `EdgeList` dataframe."
   ]
  },
  {
   "cell_type": "code",
   "execution_count": 8,
   "id": "f061e445",
   "metadata": {},
   "outputs": [
    {
     "name": "stdout",
     "output_type": "stream",
     "text": [
      "Creating graph...\n",
      "Done.\n"
     ]
    },
    {
     "data": {
      "text/plain": [
       "(2955, 7626)"
      ]
     },
     "execution_count": 8,
     "metadata": {},
     "output_type": "execute_result"
    }
   ],
   "source": [
    "G = raphtoryClient.createGraphFromEdgeList(df_edge, isMultiGraph=True)\n",
    "G.number_of_nodes(), G.number_of_edges()"
   ]
  },
  {
   "cell_type": "markdown",
   "id": "2b6e21a2",
   "metadata": {},
   "source": [
    "### Adding properties to our graph\n",
    "Now we merge these as node properties into our graph"
   ]
  },
  {
   "cell_type": "code",
   "execution_count": 9,
   "id": "d857f2be",
   "metadata": {},
   "outputs": [],
   "source": [
    "raphtoryClient.add_node_attributes(G, [df_cc], ['ConnectedComponents'])"
   ]
  },
  {
   "cell_type": "markdown",
   "id": "d50f3e09",
   "metadata": {},
   "source": [
    "### Visualisation\n",
    "\n",
    "Finally we plot the graph with an open source visualisation tool ."
   ]
  },
  {
   "cell_type": "code",
   "execution_count": 10,
   "id": "2ac4a984",
   "metadata": {
    "scrolled": false
   },
   "outputs": [
    {
     "data": {
      "application/vnd.jupyter.widget-view+json": {
       "model_id": "932b446b05224a14b169ca8147e69ff2",
       "version_major": 2,
       "version_minor": 0
      },
      "text/plain": [
       "Motif(value=None, state={'data': [{'nodes': [{'ConnectedComponents_30000': '811377', 'id': '207752295', 'value…"
      ]
     },
     "metadata": {},
     "output_type": "display_data"
    },
    {
     "name": "stdout",
     "output_type": "stream",
     "text": [
      "2022-05-24 11:56:47.121 INFO  [0x17266b000] ConsumerStatsImpl:70 | Consumer [persistent://public/default/TwitterEdgeList, reader-1a9f7d87\u00004, 0] , ConsumerStatsImpl (numBytesRecieved_ = 178831, totalNumBytesRecieved_ = 178831, receivedMsgMap_ = {[Key: Ok, Value: 7626], [Key: TimeOut, Value: 3], }, ackedMsgMap_ = {[Key: {Result: Ok, ackType: 1}, Value: 32], }, totalReceivedMsgMap_ = {[Key: Ok, Value: 7626], [Key: TimeOut, Value: 3], }, totalAckedMsgMap_ = {[Key: {Result: Ok, ackType: 1}, Value: 32], })\n",
      "2022-05-24 11:56:47.646 INFO  [0x17266b000] ConsumerStatsImpl:70 | Consumer [persistent://public/default/ConnectedComponents, reader-85606278d2, 1] , ConsumerStatsImpl (numBytesRecieved_ = 263727, totalNumBytesRecieved_ = 263727, receivedMsgMap_ = {[Key: Ok, Value: 10007], [Key: TimeOut, Value: 3], }, ackedMsgMap_ = {[Key: {Result: Ok, ackType: 1}, Value: 113], }, totalReceivedMsgMap_ = {[Key: Ok, Value: 10007], [Key: TimeOut, Value: 3], }, totalAckedMsgMap_ = {[Key: {Result: Ok, ackType: 1}, Value: 113], })\n"
     ]
    }
   ],
   "source": [
    "motif_nx = Motif(nx_graph=G, title='NetworkX')\n",
    "motif_nx.plot()"
   ]
  },
  {
   "cell_type": "code",
   "execution_count": null,
   "id": "bed4535f",
   "metadata": {},
   "outputs": [],
   "source": []
  }
 ],
 "metadata": {
  "kernelspec": {
   "display_name": "Python 3 (ipykernel)",
   "language": "python",
   "name": "python3"
  },
  "language_info": {
   "codemirror_mode": {
    "name": "ipython",
    "version": 3
   },
   "file_extension": ".py",
   "mimetype": "text/x-python",
   "name": "python",
   "nbconvert_exporter": "python",
   "pygments_lexer": "ipython3",
   "version": "3.9.10"
  }
 },
 "nbformat": 4,
 "nbformat_minor": 5
}
