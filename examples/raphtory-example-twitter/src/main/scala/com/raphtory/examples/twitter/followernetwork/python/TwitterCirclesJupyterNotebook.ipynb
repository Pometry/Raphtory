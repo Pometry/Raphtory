{
 "cells": [
  {
   "cell_type": "markdown",
   "id": "638f6423",
   "metadata": {},
   "source": [
    "# Raphtory Python Client - TWITTER SOCIAL CIRCLES DEMO"
   ]
  },
  {
   "cell_type": "markdown",
   "id": "621e6015",
   "metadata": {},
   "source": [
    "In this demo we will\n",
    "* Create a Python Raphtory client\n",
    "* Create a Graph from data in Raphtory\n",
    "* Pull results from an algorithm in Raphtory\n",
    "* Add these results to the Graph\n",
    "* Visualise the graph with pymotif"
   ]
  },
  {
   "cell_type": "markdown",
   "id": "ef14c685",
   "metadata": {},
   "source": [
    "### Setup Code"
   ]
  },
  {
   "cell_type": "markdown",
   "id": "637e191d",
   "metadata": {},
   "source": [
    "First we setup the various libraries we will need"
   ]
  },
  {
   "cell_type": "code",
   "execution_count": null,
   "id": "e1e389ed",
   "metadata": {},
   "outputs": [],
   "source": [
    "pip uninstall -y raphtory-client"
   ]
  },
  {
   "cell_type": "code",
   "execution_count": null,
   "id": "95c42567",
   "metadata": {},
   "outputs": [],
   "source": [
    "pip install --no-cache-dir --upgrade -i https://test.pypi.org/simple/ raphtory-client"
   ]
  },
  {
   "cell_type": "code",
   "execution_count": null,
   "id": "9207acf2",
   "metadata": {},
   "outputs": [],
   "source": [
    "import networkx as nx\n",
    "from raphtoryclient import raphtoryclient as client\n",
    "from pymotif import Motif\n",
    "import pandas as pd"
   ]
  },
  {
   "cell_type": "code",
   "execution_count": null,
   "id": "328eac2f",
   "metadata": {},
   "outputs": [],
   "source": [
    "raphtory= client.(raphtory_deployment_id=\"raphtory_354628308\")"
   ]
  },
  {
   "cell_type": "markdown",
   "id": "e17e9264",
   "metadata": {},
   "source": [
    "### Create Client\n",
    "\n",
    "Now we create a client, and then create the readers which read from topics.\n",
    "\n",
    "If the connection fails, the code with automatically retry.\n",
    "\n",
    "This can occur when you have not closed previous pulsar connections.\n",
    "\n",
    "In this case we are reading the topics: TwitterEdgeList and ConnectedComponents\n",
    "\n",
    "Note: Prior to this you should have already run these algorithms in Raphtory."
   ]
  },
  {
   "cell_type": "code",
   "execution_count": null,
   "id": "075dad83",
   "metadata": {},
   "outputs": [],
   "source": [
    "edgeListReader = raphtory.createReader(topic = \"TwitterEdgeList\", subscription_name='edgelist_reader')\n",
    "ccReader = raphtory.createReader(topic = \"ConnectedComponents\", subscription_name='cc_reader')"
   ]
  },
  {
   "cell_type": "markdown",
   "id": "04c59f1f",
   "metadata": {},
   "source": [
    "### Obtain dataframes\n",
    "\n",
    "Now we will run the getDataframe function to retrieve results as dataframes."
   ]
  },
  {
   "cell_type": "code",
   "execution_count": null,
   "id": "6cc2d38e",
   "metadata": {},
   "outputs": [],
   "source": [
    "df_edge = raphtory.getDataframe(edgeListReader)\n",
    "df_cc = raphtory.getDataframe(ccReader)"
   ]
  },
  {
   "cell_type": "markdown",
   "id": "0da4b47f",
   "metadata": {},
   "source": [
    "### Create a graph\n",
    "\n",
    "Next we create a graph by pulling the edge list from Raphtory.\n",
    "\n",
    "In this case we would like to create a graph from the Snap Twitter dataset.\n",
    "\n",
    "So we run the `createGraphFromEdgeList` method on the `EdgeList` dataframe."
   ]
  },
  {
   "cell_type": "code",
   "execution_count": null,
   "id": "f061e445",
   "metadata": {},
   "outputs": [],
   "source": [
    "G = raphtory.createGraphFromEdgeList(df_edge, isMultiGraph=True)\n",
    "G.number_of_nodes(), G.number_of_edges()"
   ]
  },
  {
   "cell_type": "markdown",
   "id": "2b6e21a2",
   "metadata": {},
   "source": [
    "### Adding properties to our graph\n",
    "Now we merge these as node properties into our graph"
   ]
  },
  {
   "cell_type": "code",
   "execution_count": null,
   "id": "d857f2be",
   "metadata": {},
   "outputs": [],
   "source": [
    "raphtory.add_node_attributes(G, [df_cc], ['ConnectedComponents'])"
   ]
  },
  {
   "cell_type": "markdown",
   "id": "d50f3e09",
   "metadata": {},
   "source": [
    "### Visualisation\n",
    "\n",
    "Finally we plot the graph with an open source visualisation tool ."
   ]
  },
  {
   "cell_type": "code",
   "execution_count": null,
   "id": "2ac4a984",
   "metadata": {
    "scrolled": true
   },
   "outputs": [],
   "source": [
    "motif_nx = Motif(nx_graph=G, title='NetworkX')\n",
    "motif_nx.plot()"
   ]
  }
 ],
 "metadata": {
  "kernelspec": {
   "display_name": "Python 3 (ipykernel)",
   "language": "python",
   "name": "python3"
  },
  "language_info": {
   "codemirror_mode": {
    "name": "ipython",
    "version": 3
   },
   "file_extension": ".py",
   "mimetype": "text/x-python",
   "name": "python",
   "nbconvert_exporter": "python",
   "pygments_lexer": "ipython3",
   "version": "3.9.10"
  }
 },
 "nbformat": 4,
 "nbformat_minor": 5
}
