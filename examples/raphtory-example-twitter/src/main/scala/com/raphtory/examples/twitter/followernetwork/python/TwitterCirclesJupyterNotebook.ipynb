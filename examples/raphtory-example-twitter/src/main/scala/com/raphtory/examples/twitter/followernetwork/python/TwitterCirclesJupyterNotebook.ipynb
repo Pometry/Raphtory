{
 "cells": [
  {
   "cell_type": "markdown",
   "id": "638f6423",
   "metadata": {},
   "source": [
    "# Raphtory Python Client - TWITTER SOCIAL CIRCLES DEMO"
   ]
  },
  {
   "cell_type": "markdown",
   "id": "621e6015",
   "metadata": {},
   "source": [
    "In this demo we will\n",
    "* Create a Python Raphtory client\n",
    "* Create a Graph from data in Raphtory\n",
    "* Pull results from an algorithm in Raphtory\n",
    "* Add these results to the Graph\n",
    "* Visualise the graph with pymotif"
   ]
  },
  {
   "cell_type": "markdown",
   "id": "ef14c685",
   "metadata": {},
   "source": [
    "### Setup Code"
   ]
  },
  {
   "cell_type": "markdown",
   "id": "637e191d",
   "metadata": {},
   "source": [
    "First we setup the various libraries we will need"
   ]
  },
  {
   "cell_type": "code",
   "execution_count": 2,
   "id": "e1e389ed",
   "metadata": {},
   "outputs": [
    {
     "name": "stdout",
     "output_type": "stream",
     "text": [
      "Found existing installation: raphtory-client 0.1.2\n",
      "Not uninstalling raphtory-client at /opt/homebrew/lib/python3.9/site-packages, outside environment /opt/homebrew/Cellar/jupyterlab/3.2.8/libexec\n",
      "Can't uninstall 'raphtory-client'. No files were found to uninstall.\n",
      "Note: you may need to restart the kernel to use updated packages.\n"
     ]
    }
   ],
   "source": [
    "pip uninstall -y raphtory-client"
   ]
  },
  {
   "cell_type": "code",
   "execution_count": 3,
   "id": "95c42567",
   "metadata": {},
   "outputs": [
    {
     "name": "stdout",
     "output_type": "stream",
     "text": [
      "Looking in indexes: https://test.pypi.org/simple/\n",
      "Requirement already satisfied: raphtory-client in /opt/homebrew/lib/python3.9/site-packages (0.1.2)\n",
      "Collecting raphtory-client\n",
      "  Downloading https://test-files.pythonhosted.org/packages/31/47/1813aea9bec3b92ae744dd6ffb6f4c7a46ff5a23097d540e83e9e2007891/raphtory_client-0.1.4-py3-none-any.whl (13 kB)\n",
      "Requirement already satisfied: six in /opt/homebrew/Cellar/six/1.16.0_2/lib/python3.9/site-packages (from raphtory-client) (1.16.0)\n",
      "Requirement already satisfied: urllib3 in /opt/homebrew/Cellar/jupyterlab/3.2.8/libexec/lib/python3.9/site-packages (from raphtory-client) (1.26.8)\n",
      "Requirement already satisfied: python-dateutil in /opt/homebrew/Cellar/jupyterlab/3.2.8/libexec/lib/python3.9/site-packages (from raphtory-client) (2.8.2)\n",
      "Requirement already satisfied: charset-normalizer in /opt/homebrew/Cellar/jupyterlab/3.2.8/libexec/lib/python3.9/site-packages (from raphtory-client) (2.0.10)\n",
      "Requirement already satisfied: pandas in /opt/homebrew/Cellar/jupyterlab/3.2.8/libexec/lib/python3.9/site-packages (from raphtory-client) (1.4.0)\n",
      "Requirement already satisfied: pulsar-client in /opt/homebrew/Cellar/jupyterlab/3.2.8/libexec/lib/python3.9/site-packages (from raphtory-client) (2.8.1)\n",
      "  Downloading https://test-files.pythonhosted.org/packages/46/c5/9855a20febe6c13fae1888405e70ec7fe6415452aa71c474905e3ceac02e/raphtory_client-0.1.3-py3-none-any.whl (13 kB)\n",
      "Requirement already satisfied: numpy in /opt/homebrew/Cellar/jupyterlab/3.2.8/libexec/lib/python3.9/site-packages (from raphtory-client) (1.22.1)\n",
      "Requirement already satisfied: idna in /opt/homebrew/Cellar/jupyterlab/3.2.8/libexec/lib/python3.9/site-packages (from raphtory-client) (3.3)\n",
      "Requirement already satisfied: networkx in /opt/homebrew/Cellar/jupyterlab/3.2.8/libexec/lib/python3.9/site-packages (from raphtory-client) (2.6.3)\n",
      "Requirement already satisfied: fastavro in /opt/homebrew/Cellar/jupyterlab/3.2.8/libexec/lib/python3.9/site-packages (from raphtory-client) (1.4.9)\n",
      "Requirement already satisfied: requests in /opt/homebrew/Cellar/jupyterlab/3.2.8/libexec/lib/python3.9/site-packages (from raphtory-client) (2.27.1)\n",
      "Requirement already satisfied: certifi in /opt/homebrew/Cellar/jupyterlab/3.2.8/libexec/lib/python3.9/site-packages (from raphtory-client) (2021.10.8)\n",
      "Requirement already satisfied: pytz in /opt/homebrew/Cellar/jupyterlab/3.2.8/libexec/lib/python3.9/site-packages (from raphtory-client) (2021.3)\n",
      "Note: you may need to restart the kernel to use updated packages.\n"
     ]
    }
   ],
   "source": [
    "pip install --no-cache-dir --upgrade -i https://test.pypi.org/simple/ raphtory-client"
   ]
  },
  {
   "cell_type": "code",
   "execution_count": 4,
   "id": "9207acf2",
   "metadata": {},
   "outputs": [],
   "source": [
    "import networkx as nx\n",
    "from raphtoryclient import raphtoryclient as client\n",
    "from pymotif import Motif\n",
    "import pandas as pd"
   ]
  },
  {
   "cell_type": "code",
   "execution_count": 11,
   "id": "328eac2f",
   "metadata": {},
   "outputs": [
    {
     "ename": "TypeError",
     "evalue": "__init__() got an unexpected keyword argument 'raphtory_deployment_id'",
     "output_type": "error",
     "traceback": [
      "\u001b[0;31m---------------------------------------------------------------------------\u001b[0m",
      "\u001b[0;31mTypeError\u001b[0m                                 Traceback (most recent call last)",
      "Input \u001b[0;32mIn [11]\u001b[0m, in \u001b[0;36m<module>\u001b[0;34m\u001b[0m\n\u001b[0;32m----> 1\u001b[0m raphtory\u001b[38;5;241m=\u001b[39m \u001b[43mclient\u001b[49m\u001b[43m(\u001b[49m\u001b[43mraphtory_deployment_id\u001b[49m\u001b[38;5;241;43m=\u001b[39;49m\u001b[38;5;124;43m\"\u001b[39;49m\u001b[38;5;124;43mraphtory_354628308\u001b[39;49m\u001b[38;5;124;43m\"\u001b[39;49m\u001b[43m)\u001b[49m\n",
      "\u001b[0;31mTypeError\u001b[0m: __init__() got an unexpected keyword argument 'raphtory_deployment_id'"
     ]
    }
   ],
   "source": [
    "raphtory= client.(raphtory_deployment_id=\"raphtory_354628308\")"
   ]
  },
  {
   "cell_type": "markdown",
   "id": "e17e9264",
   "metadata": {},
   "source": [
    "### Create Client\n",
    "\n",
    "Now we create a client, and then create the readers which read from topics.\n",
    "\n",
    "If the connection fails, the code with automatically retry.\n",
    "\n",
    "This can occur when you have not closed previous pulsar connections.\n",
    "\n",
    "In this case we are reading the topics: TwitterEdgeList and ConnectedComponents\n",
    "\n",
    "Note: Prior to this you should have already run these algorithms in Raphtory."
   ]
  },
  {
   "cell_type": "code",
   "execution_count": 22,
   "id": "075dad83",
   "metadata": {},
   "outputs": [
    {
     "name": "stdout",
     "output_type": "stream",
     "text": [
      "2022-05-24 14:21:02.704 INFO  [0x100dac580] ClientConnection:190 | [<none> -> pulsar://127.0.0.1:6650] Create ClientConnection, timeout=10000\n",
      "2022-05-24 14:21:02.704 INFO  [0x100dac580] ConnectionPool:84 | Created connection for pulsar://127.0.0.1:6650\n",
      "2022-05-24 14:21:02.704 INFO  [0x176ddb000] ClientConnection:376 | [127.0.0.1:55237 -> 127.0.0.1:6650] Connected to broker\n",
      "2022-05-24 14:21:03.306 INFO  [0x176ddb000] HandlerBase:55 | [persistent://public/default/TwitterEdgeList, reader-53834d126\u0000, 0] Getting connection from pool\n",
      "2022-05-24 14:21:03.426 INFO  [0x176ddb000] ClientConnection:190 | [<none> -> pulsar://127.0.0.1:6650] Create ClientConnection, timeout=10000\n",
      "2022-05-24 14:21:03.426 INFO  [0x176ddb000] ConnectionPool:84 | Created connection for pulsar://localhost:6650\n",
      "2022-05-24 14:21:03.427 INFO  [0x176ddb000] ClientConnection:378 | [127.0.0.1:55242 -> 127.0.0.1:6650] Connected to broker through proxy. Logical broker: pulsar://localhost:6650\n",
      "2022-05-24 14:21:03.985 INFO  [0x176ddb000] ConsumerImpl:220 | [persistent://public/default/TwitterEdgeList, reader-53834d126\u0000, 0] Created consumer on broker [127.0.0.1:55242 -> 127.0.0.1:6650] \n",
      "Connected to topic: TwitterEdgeList\n",
      "2022-05-24 14:21:04.176 INFO  [0x176ddb000] HandlerBase:55 | [persistent://public/default/ConnectedComponents, reader-42e01b05b0, 1] Getting connection from pool\n",
      "2022-05-24 14:21:04.576 INFO  [0x176ddb000] ConsumerImpl:220 | [persistent://public/default/ConnectedComponents, reader-42e01b05b0, 1] Created consumer on broker [127.0.0.1:55242 -> 127.0.0.1:6650] \n",
      "Connected to topic: ConnectedComponents\n"
     ]
    }
   ],
   "source": [
    "edgeListReader = raphtory.createReader(topic = \"TwitterEdgeList\", subscription_name='edgelist_reader')\n",
    "ccReader = raphtory.createReader(topic = \"ConnectedComponents\", subscription_name='cc_reader')"
   ]
  },
  {
   "cell_type": "markdown",
   "id": "04c59f1f",
   "metadata": {},
   "source": [
    "### Obtain dataframes\n",
    "\n",
    "Now we will run the getDataframe function to retrieve results as dataframes."
   ]
  },
  {
   "cell_type": "code",
   "execution_count": 23,
   "id": "6cc2d38e",
   "metadata": {},
   "outputs": [
    {
     "name": "stdout",
     "output_type": "stream",
     "text": [
      "Obtaining dataframe...\n",
      "\n",
      "Results processed 21002022-05-24 14:21:39.095 WARN  [0x100dac580] ConsumerImpl:119 | [persistent://public/default/TwitterEdgeList, reader-f11b264\u00002d, 0] Destroyed consumer which was not properly closed\n",
      "2022-05-24 14:21:39.096 INFO  [0x100dac580] ConsumerImpl:127 | [persistent://public/default/TwitterEdgeList, reader-f11b264\u00002d, 0] Closed consumer for race condition: 0\n",
      "2022-05-24 14:21:39.100 WARN  [0x100dac580] ConsumerImpl:119 | [persistent://public/default/ConnectedComponents, reader-3dc\u000066d\u00005a, 1] Destroyed consumer which was not properly closed\n",
      "2022-05-24 14:21:39.100 INFO  [0x100dac580] ConsumerImpl:127 | [persistent://public/default/ConnectedComponents, reader-3dc\u000066d\u00005a, 1] Closed consumer for race condition: 1\n",
      "2022-05-24 14:21:39.100 INFO  [0x100dac580] ClientConnection:1508 | [127.0.0.1:55015 -> 127.0.0.1:6650] Connection closed\n",
      "2022-05-24 14:21:39.100 INFO  [0x100dac580] ClientConnection:1508 | [127.0.0.1:55016 -> 127.0.0.1:6650] Connection closed\n",
      "2022-05-24 14:21:39.102 WARN  [0x100dac580] ConsumerImpl:119 | [persistent://public/default/TwitterEdgeList, reader-dc04361770, 0] Destroyed consumer which was not properly closed\n",
      "erImpl:127 | [persistent://public/default/TwitterEdgeList, reader-dc04361770, 0] Closed consumer for race condition: 0\n",
      "2022-05-24 14:21:39.103 WARN  [0x100dac580] ConsumerImpl:119 | [persistent://public/default/ConnectedComponents, reader-\u000098d79942e, 1] Destroyed consumer which was not properly closed\n",
      "2022-05-24 14:21:39.104 INFO  [0x100dac580] ConsumerImpl:127 | [persistent://public/default/ConnectedComponents, reader-\u000098d79942e, 1] Closed consumer for race condition: 1\n",
      "2022-05-24 14:21:39.104 INFO  [0x100dac580] ClientConnection:1508 | [127.0.0.1:55040 -> 127.0.0.1:6650] Connection closed\n",
      "2022-05-24 14:21:39.104 INFO  [0x100dac580] ClientConnection:1508 | [127.0.0.1:55041 -> 127.0.0.1:6650] Connection closed\n",
      "Converting to columns...\n",
      "Completed.\n",
      "Obtaining dataframe...\n",
      "\n",
      "Converting to columns...\n",
      "Completed.\n"
     ]
    }
   ],
   "source": [
    "df_edge = raphtory.getDataframe(edgeListReader)\n",
    "df_cc = raphtory.getDataframe(ccReader)"
   ]
  },
  {
   "cell_type": "markdown",
   "id": "0da4b47f",
   "metadata": {},
   "source": [
    "### Create a graph\n",
    "\n",
    "Next we create a graph by pulling the edge list from Raphtory.\n",
    "\n",
    "In this case we would like to create a graph from the Snap Twitter dataset.\n",
    "\n",
    "So we run the `createGraphFromEdgeList` method on the `EdgeList` dataframe."
   ]
  },
  {
   "cell_type": "code",
   "execution_count": 24,
   "id": "f061e445",
   "metadata": {},
   "outputs": [
    {
     "name": "stdout",
     "output_type": "stream",
     "text": [
      "Creating graph...\n",
      "Done.\n"
     ]
    },
    {
     "data": {
      "text/plain": [
       "(2409, 4790)"
      ]
     },
     "execution_count": 24,
     "metadata": {},
     "output_type": "execute_result"
    }
   ],
   "source": [
    "G = raphtory.createGraphFromEdgeList(df_edge, isMultiGraph=True)\n",
    "G.number_of_nodes(), G.number_of_edges()"
   ]
  },
  {
   "cell_type": "markdown",
   "id": "2b6e21a2",
   "metadata": {},
   "source": [
    "### Adding properties to our graph\n",
    "Now we merge these as node properties into our graph"
   ]
  },
  {
   "cell_type": "code",
   "execution_count": 25,
   "id": "d857f2be",
   "metadata": {},
   "outputs": [],
   "source": [
    "raphtory.add_node_attributes(G, [df_cc], ['ConnectedComponents'])"
   ]
  },
  {
   "cell_type": "markdown",
   "id": "d50f3e09",
   "metadata": {},
   "source": [
    "### Visualisation\n",
    "\n",
    "Finally we plot the graph with an open source visualisation tool ."
   ]
  },
  {
   "cell_type": "code",
   "execution_count": 26,
   "id": "2ac4a984",
   "metadata": {
    "scrolled": true
   },
   "outputs": [
    {
     "data": {
      "application/vnd.jupyter.widget-view+json": {
       "model_id": "49b000b583e94fd2adfd0fc751fef399",
       "version_major": 2,
       "version_minor": 0
      },
      "text/plain": [
       "Motif(value=None, state={'data': [{'nodes': [{'ConnectedComponents_30000': '811377', 'id': '207752295', 'value…"
      ]
     },
     "metadata": {},
     "output_type": "display_data"
    }
   ],
   "source": [
    "motif_nx = Motif(nx_graph=G, title='NetworkX')\n",
    "motif_nx.plot()"
   ]
  },
  {
   "cell_type": "code",
   "execution_count": null,
   "id": "bed4535f",
   "metadata": {},
   "outputs": [],
   "source": []
  }
 ],
 "metadata": {
  "kernelspec": {
   "display_name": "Python 3 (ipykernel)",
   "language": "python",
   "name": "python3"
  },
  "language_info": {
   "codemirror_mode": {
    "name": "ipython",
    "version": 3
   },
   "file_extension": ".py",
   "mimetype": "text/x-python",
   "name": "python",
   "nbconvert_exporter": "python",
   "pygments_lexer": "ipython3",
   "version": "3.9.10"
  }
 },
 "nbformat": 4,
 "nbformat_minor": 5
}
