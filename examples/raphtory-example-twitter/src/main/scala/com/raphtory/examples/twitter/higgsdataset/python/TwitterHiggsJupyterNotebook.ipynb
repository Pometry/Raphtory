{
 "cells": [
  {
   "cell_type": "markdown",
   "id": "57326e29",
   "metadata": {},
   "source": [
    "# Raphtory Python Client - HIGGS TWITTER DEMO"
   ]
  },
  {
   "cell_type": "markdown",
   "id": "285ef29e",
   "metadata": {},
   "source": [
    "In this demo we will\n",
    "* Create a Python Raphtory client\n",
    "* Create a Graph from data in Raphtory\n",
    "* Pull results from an algorithm in Raphtory\n",
    "* Add these results to the Graph\n",
    "* Visualise the graph with pymotif"
   ]
  },
  {
   "cell_type": "markdown",
   "id": "537219ac",
   "metadata": {},
   "source": [
    "### Setup Code"
   ]
  },
  {
   "cell_type": "markdown",
   "id": "1a730a13",
   "metadata": {},
   "source": [
    "First we setup the various libraries we will need"
   ]
  },
  {
   "cell_type": "code",
   "execution_count": null,
   "id": "54bbc16b",
   "metadata": {},
   "outputs": [],
   "source": [
    "pip install raphtory-client"
   ]
  },
  {
   "cell_type": "code",
   "execution_count": null,
   "id": "9d3b60f8",
   "metadata": {},
   "outputs": [],
   "source": [
    "import networkx as nx\n",
    "from raphtoryclient import raphtoryclient as client\n",
    "from pymotif import Motif\n",
    "import pandas as pd"
   ]
  },
  {
   "cell_type": "markdown",
   "id": "a6da58f4",
   "metadata": {},
   "source": [
    "### Create Client\n",
    "\n",
    "Now we create a client, and then create the readers which read from topics.\n",
    "\n",
    "If the connection fails, the code with automatically retry.\n",
    "\n",
    "This can occur when you have not closed previous pulsar connections.\n",
    "\n",
    "In this case we are reading the topic: Retweets\n",
    "\n",
    "Note: Prior to this you should have already run these algorithms in Raphtory."
   ]
  },
  {
   "cell_type": "code",
   "execution_count": null,
   "id": "17208a3d",
   "metadata": {},
   "outputs": [],
   "source": [
    "raphtory = client()"
   ]
  },
  {
   "cell_type": "code",
   "execution_count": null,
   "id": "68be1990",
   "metadata": {},
   "outputs": [],
   "source": [
    "chainReader = raphtory.createReader(\"Retweets\", subscription_name='chain_reader')"
   ]
  },
  {
   "cell_type": "markdown",
   "id": "3b6608ee",
   "metadata": {},
   "source": [
    "### Obtain dataframes\n",
    "\n",
    "Now we will run the getDataframe function to retrieve results as dataframes."
   ]
  },
  {
   "cell_type": "code",
   "execution_count": null,
   "id": "bc484725",
   "metadata": {},
   "outputs": [],
   "source": [
    "df_edge = raphtory.getDataframe(chainReader)"
   ]
  },
  {
   "cell_type": "code",
   "execution_count": null,
   "id": "b7e0ee05",
   "metadata": {},
   "outputs": [],
   "source": [
    "pandaDataframe = df_edge.rename({'result_0': 'pulsar_timestamp', 'result_1': 'source_id', 'result_2': 'destination_id', 'result_3':'time'}, axis=1)\n",
    "pandaDataframe"
   ]
  },
  {
   "cell_type": "code",
   "execution_count": null,
   "id": "1a70c6e1",
   "metadata": {},
   "outputs": [],
   "source": [
    "#filter to just see vertex 4, a potential bot\n",
    "df2 = pandaDataframe.loc[pandaDataframe[\"source_id\"]==\"4\"]"
   ]
  },
  {
   "cell_type": "code",
   "execution_count": null,
   "id": "6f09689d",
   "metadata": {},
   "outputs": [],
   "source": [
    "#convert unix time to dd/mm/yyyy format\n",
    "df2[\"time\"] = pd.to_datetime(df2[\"time\"], unit=\"s\")\n",
    "df2"
   ]
  },
  {
   "cell_type": "markdown",
   "id": "dd4f4f42",
   "metadata": {},
   "source": [
    "### Visualisation\n",
    "\n",
    "Finally we plot the graph with an open source visualisation tool ."
   ]
  },
  {
   "cell_type": "code",
   "execution_count": null,
   "id": "f72ffa90",
   "metadata": {},
   "outputs": [],
   "source": [
    "#scatter plot over time for vertex 4\n",
    "df2.plot.scatter(x='time',y='time',title='Retweets', rot=90, c='red')"
   ]
  },
  {
   "cell_type": "code",
   "execution_count": null,
   "id": "d1b4d6bc",
   "metadata": {},
   "outputs": [],
   "source": [
    "#refine scatter graph to only show certain timeframe\n",
    "df3 = df2[(df2['time']>\"2012-07-04 05:20:00\") & (df2['time']<\"2012-07-04 06:20:00\")]  \n",
    "df3"
   ]
  },
  {
   "cell_type": "code",
   "execution_count": null,
   "id": "b80ceea9",
   "metadata": {},
   "outputs": [],
   "source": [
    "#scatter plot for filtered time (keep filtering to get your desired results)\n",
    "df3.plot.scatter(x='time',y='time',title='Retweets', rot=90, c='red')"
   ]
  }
 ],
 "metadata": {
  "kernelspec": {
   "display_name": "Python 3 (ipykernel)",
   "language": "python",
   "name": "python3"
  },
  "language_info": {
   "codemirror_mode": {
    "name": "ipython",
    "version": 3
   },
   "file_extension": ".py",
   "mimetype": "text/x-python",
   "name": "python",
   "nbconvert_exporter": "python",
   "pygments_lexer": "ipython3",
   "version": "3.9.10"
  }
 },
 "nbformat": 4,
 "nbformat_minor": 5
}
