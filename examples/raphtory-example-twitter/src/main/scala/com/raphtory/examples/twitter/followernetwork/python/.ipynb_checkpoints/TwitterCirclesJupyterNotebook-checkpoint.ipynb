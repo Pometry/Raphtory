{
 "cells": [
  {
   "cell_type": "markdown",
   "id": "638f6423",
   "metadata": {},
   "source": [
    "# Raphtory Python Client - TWITTER SOCIAL CIRCLES DEMO"
   ]
  },
  {
   "cell_type": "markdown",
   "id": "621e6015",
   "metadata": {},
   "source": [
    "In this demo we will\n",
    "* Create a Python Raphtory client\n",
    "* Create a Graph from data in Raphtory\n",
    "* Pull results from an algorithm in Raphtory\n",
    "* Add these results to the Graph\n",
    "* Visualise the graph with pymotif"
   ]
  },
  {
   "cell_type": "markdown",
   "id": "ef14c685",
   "metadata": {},
   "source": [
    "### Setup Code"
   ]
  },
  {
   "cell_type": "markdown",
   "id": "637e191d",
   "metadata": {},
   "source": [
    "First we setup the various libraries we will need"
   ]
  },
  {
   "cell_type": "code",
   "execution_count": 1,
   "id": "efd3164f",
   "metadata": {},
   "outputs": [
    {
     "name": "stdout",
     "output_type": "stream",
     "text": [
      "Requirement already satisfied: raphtory-client in /opt/homebrew/Cellar/jupyterlab/3.2.8/libexec/lib/python3.9/site-packages (0.1.2)\n",
      "Requirement already satisfied: numpy in /opt/homebrew/Cellar/jupyterlab/3.2.8/libexec/lib/python3.9/site-packages (from raphtory-client) (1.22.1)\n",
      "Requirement already satisfied: requests in /opt/homebrew/Cellar/jupyterlab/3.2.8/libexec/lib/python3.9/site-packages (from raphtory-client) (2.27.1)\n",
      "Requirement already satisfied: pulsar-client in /opt/homebrew/Cellar/jupyterlab/3.2.8/libexec/lib/python3.9/site-packages (from raphtory-client) (2.8.1)\n",
      "Requirement already satisfied: networkx in /opt/homebrew/Cellar/jupyterlab/3.2.8/libexec/lib/python3.9/site-packages (from raphtory-client) (2.6.3)\n",
      "Requirement already satisfied: python-dateutil in /opt/homebrew/Cellar/jupyterlab/3.2.8/libexec/lib/python3.9/site-packages (from raphtory-client) (2.8.2)\n",
      "Requirement already satisfied: pytz in /opt/homebrew/Cellar/jupyterlab/3.2.8/libexec/lib/python3.9/site-packages (from raphtory-client) (2021.3)\n",
      "Requirement already satisfied: idna in /opt/homebrew/Cellar/jupyterlab/3.2.8/libexec/lib/python3.9/site-packages (from raphtory-client) (3.3)\n",
      "Requirement already satisfied: fastavro in /opt/homebrew/Cellar/jupyterlab/3.2.8/libexec/lib/python3.9/site-packages (from raphtory-client) (1.4.9)\n",
      "Requirement already satisfied: urllib3 in /opt/homebrew/Cellar/jupyterlab/3.2.8/libexec/lib/python3.9/site-packages (from raphtory-client) (1.26.8)\n",
      "Requirement already satisfied: six in /opt/homebrew/Cellar/six/1.16.0_2/lib/python3.9/site-packages (from raphtory-client) (1.16.0)\n",
      "Requirement already satisfied: pandas in /opt/homebrew/Cellar/jupyterlab/3.2.8/libexec/lib/python3.9/site-packages (from raphtory-client) (1.4.0)\n",
      "Requirement already satisfied: certifi in /opt/homebrew/Cellar/jupyterlab/3.2.8/libexec/lib/python3.9/site-packages (from raphtory-client) (2021.10.8)\n",
      "Requirement already satisfied: charset-normalizer in /opt/homebrew/Cellar/jupyterlab/3.2.8/libexec/lib/python3.9/site-packages (from raphtory-client) (2.0.10)\n",
      "\u001b[33mWARNING: You are using pip version 21.3.1; however, version 22.1.1 is available.\n",
      "You should consider upgrading via the '/opt/homebrew/Cellar/jupyterlab/3.2.8/libexec/bin/python3.9 -m pip install --upgrade pip' command.\u001b[0m\n",
      "Note: you may need to restart the kernel to use updated packages.\n"
     ]
    }
   ],
   "source": [
    "pip install raphtory-client"
   ]
  },
  {
   "cell_type": "code",
   "execution_count": 2,
   "id": "9207acf2",
   "metadata": {},
   "outputs": [
    {
     "ename": "ImportError",
     "evalue": "cannot import name 'client' from 'raphtoryclient' (/opt/homebrew/Cellar/jupyterlab/3.2.8/libexec/lib/python3.9/site-packages/raphtoryclient/__init__.py)",
     "output_type": "error",
     "traceback": [
      "\u001b[0;31m---------------------------------------------------------------------------\u001b[0m",
      "\u001b[0;31mImportError\u001b[0m                               Traceback (most recent call last)",
      "Input \u001b[0;32mIn [2]\u001b[0m, in \u001b[0;36m<module>\u001b[0;34m\u001b[0m\n\u001b[1;32m      1\u001b[0m \u001b[38;5;28;01mimport\u001b[39;00m \u001b[38;5;21;01mnetworkx\u001b[39;00m \u001b[38;5;28;01mas\u001b[39;00m \u001b[38;5;21;01mnx\u001b[39;00m\n\u001b[0;32m----> 2\u001b[0m \u001b[38;5;28;01mfrom\u001b[39;00m \u001b[38;5;21;01mraphtoryclient\u001b[39;00m \u001b[38;5;28;01mimport\u001b[39;00m client\n\u001b[1;32m      3\u001b[0m \u001b[38;5;28;01mfrom\u001b[39;00m \u001b[38;5;21;01mpymotif\u001b[39;00m \u001b[38;5;28;01mimport\u001b[39;00m Motif\n\u001b[1;32m      4\u001b[0m \u001b[38;5;28;01mimport\u001b[39;00m \u001b[38;5;21;01mpandas\u001b[39;00m \u001b[38;5;28;01mas\u001b[39;00m \u001b[38;5;21;01mpd\u001b[39;00m\n",
      "\u001b[0;31mImportError\u001b[0m: cannot import name 'client' from 'raphtoryclient' (/opt/homebrew/Cellar/jupyterlab/3.2.8/libexec/lib/python3.9/site-packages/raphtoryclient/__init__.py)"
     ]
    }
   ],
   "source": [
    "import networkx as nx\n",
    "from raphtoryclient import client\n",
    "from pymotif import Motif\n",
    "import pandas as pd"
   ]
  },
  {
   "cell_type": "markdown",
   "id": "e17e9264",
   "metadata": {},
   "source": [
    "### Create Client\n",
    "\n",
    "Now we create a client, and then create the readers which read from topics.\n",
    "\n",
    "If the connection fails, the code with automatically retry.\n",
    "\n",
    "This can occur when you have not closed previous pulsar connections.\n",
    "\n",
    "In this case we are reading the topics: TwitterEdgeList and ConnectedComponents\n",
    "\n",
    "Note: Prior to this you should have already run these algorithms in Raphtory."
   ]
  },
  {
   "cell_type": "code",
   "execution_count": 3,
   "id": "91497e43",
   "metadata": {},
   "outputs": [],
   "source": [
    "raphtoryClient = client()"
   ]
  },
  {
   "cell_type": "code",
   "execution_count": 4,
   "id": "075dad83",
   "metadata": {},
   "outputs": [],
   "source": [
    "edgeListReader = raphtoryClient.createReader(\"TwitterEdgeList\", subscription_name='edgelist_reader')\n",
    "ccReader = raphtoryClient.createReader(\"ConnectedComponents\", subscription_name='cc_reader')"
   ]
  },
  {
   "cell_type": "markdown",
   "id": "04c59f1f",
   "metadata": {},
   "source": [
    "### Obtain dataframes\n",
    "\n",
    "Now we will run the getDataframe function to retrieve results as dataframes."
   ]
  },
  {
   "cell_type": "code",
   "execution_count": 5,
   "id": "6cc2d38e",
   "metadata": {},
   "outputs": [],
   "source": [
    "df_edge = raphtoryClient.getDataframe(edgeListReader)\n",
    "df_cc = raphtoryClient.getDataframe(ccReader)"
   ]
  },
  {
   "cell_type": "markdown",
   "id": "0da4b47f",
   "metadata": {},
   "source": [
    "### Create a graph\n",
    "\n",
    "Next we create a graph by pulling the edge list from Raphtory.\n",
    "\n",
    "In this case we would like to create a graph from the Snap Twitter dataset.\n",
    "\n",
    "So we run the `createGraphFromEdgeList` method on the `EdgeList` dataframe."
   ]
  },
  {
   "cell_type": "code",
   "execution_count": 9,
   "id": "f061e445",
   "metadata": {},
   "outputs": [],
   "source": [
    "G = raphtoryClient.createGraphFromEdgeList(df_edge, isMultiGraph=True)\n",
    "G.number_of_nodes(), G.number_of_edges()"
   ]
  },
  {
   "cell_type": "markdown",
   "id": "2b6e21a2",
   "metadata": {},
   "source": [
    "### Adding properties to our graph\n",
    "Now we merge these as node properties into our graph"
   ]
  },
  {
   "cell_type": "code",
   "execution_count": 24,
   "id": "d857f2be",
   "metadata": {},
   "outputs": [],
   "source": [
    "raphtoryClient.add_node_attributes(G, [df_cc], ['ConnectedComponents'])"
   ]
  },
  {
   "cell_type": "markdown",
   "id": "d50f3e09",
   "metadata": {},
   "source": [
    "### Visualisation\n",
    "\n",
    "Finally we plot the graph with an open source visualisation tool ."
   ]
  },
  {
   "cell_type": "code",
   "execution_count": 25,
   "id": "2ac4a984",
   "metadata": {
    "scrolled": false
   },
   "outputs": [],
   "source": [
    "motif_nx = Motif(nx_graph=G, title='NetworkX')\n",
    "motif_nx.plot()"
   ]
  }
 ],
 "metadata": {
  "kernelspec": {
   "display_name": "Python 3 (ipykernel)",
   "language": "python",
   "name": "python3"
  },
  "language_info": {
   "codemirror_mode": {
    "name": "ipython",
    "version": 3
   },
   "file_extension": ".py",
   "mimetype": "text/x-python",
   "name": "python",
   "nbconvert_exporter": "python",
   "pygments_lexer": "ipython3",
   "version": "3.9.10"
  }
 },
 "nbformat": 4,
 "nbformat_minor": 5
}
