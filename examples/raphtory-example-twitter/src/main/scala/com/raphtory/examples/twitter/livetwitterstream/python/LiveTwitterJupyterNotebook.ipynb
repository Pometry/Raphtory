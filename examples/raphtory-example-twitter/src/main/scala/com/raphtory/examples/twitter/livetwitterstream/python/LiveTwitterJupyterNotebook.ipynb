{
 "cells": [
  {
   "cell_type": "markdown",
   "id": "6e8162e0",
   "metadata": {},
   "source": [
    "# Raphtory Python Client - LIVE TWITTER DEMO"
   ]
  },
  {
   "cell_type": "markdown",
   "id": "54e2f6b7",
   "metadata": {},
   "source": [
    "In this demo we will\n",
    "* Create a Python Raphtory client\n",
    "* Create a Graph from data in Raphtory\n",
    "* Pull results from an algorithm in Raphtory\n",
    "* Add these results to the graph\n",
    "* Visualise the graph with pymotif"
   ]
  },
  {
   "cell_type": "markdown",
   "id": "e53a2d16",
   "metadata": {},
   "source": [
    "## Setup Code"
   ]
  },
  {
   "cell_type": "markdown",
   "id": "a767a85b",
   "metadata": {},
   "source": [
    "First we setup the various libraries we will need"
   ]
  },
  {
   "cell_type": "code",
   "execution_count": 2,
   "id": "dc81c6cd",
   "metadata": {},
   "outputs": [
    {
     "name": "stdout",
     "output_type": "stream",
     "text": [
      "Looking in indexes: https://test.pypi.org/simple/\n",
      "Requirement already satisfied: raphtory-client in /opt/homebrew/lib/python3.9/site-packages (0.1.2)\n",
      "Requirement already satisfied: python-dateutil in /opt/homebrew/Cellar/jupyterlab/3.2.8/libexec/lib/python3.9/site-packages (from raphtory-client) (2.8.2)\n",
      "Requirement already satisfied: fastavro in /opt/homebrew/Cellar/jupyterlab/3.2.8/libexec/lib/python3.9/site-packages (from raphtory-client) (1.4.9)\n",
      "Requirement already satisfied: idna in /opt/homebrew/Cellar/jupyterlab/3.2.8/libexec/lib/python3.9/site-packages (from raphtory-client) (3.3)\n",
      "Requirement already satisfied: numpy in /opt/homebrew/Cellar/jupyterlab/3.2.8/libexec/lib/python3.9/site-packages (from raphtory-client) (1.22.1)\n",
      "Requirement already satisfied: requests in /opt/homebrew/Cellar/jupyterlab/3.2.8/libexec/lib/python3.9/site-packages (from raphtory-client) (2.27.1)\n",
      "Requirement already satisfied: pandas in /opt/homebrew/Cellar/jupyterlab/3.2.8/libexec/lib/python3.9/site-packages (from raphtory-client) (1.4.0)\n",
      "Requirement already satisfied: certifi in /opt/homebrew/Cellar/jupyterlab/3.2.8/libexec/lib/python3.9/site-packages (from raphtory-client) (2021.10.8)\n",
      "Requirement already satisfied: pulsar-client in /opt/homebrew/Cellar/jupyterlab/3.2.8/libexec/lib/python3.9/site-packages (from raphtory-client) (2.8.1)\n",
      "Requirement already satisfied: six in /opt/homebrew/Cellar/six/1.16.0_2/lib/python3.9/site-packages (from raphtory-client) (1.16.0)\n",
      "Requirement already satisfied: networkx in /opt/homebrew/Cellar/jupyterlab/3.2.8/libexec/lib/python3.9/site-packages (from raphtory-client) (2.6.3)\n",
      "Requirement already satisfied: pytz in /opt/homebrew/Cellar/jupyterlab/3.2.8/libexec/lib/python3.9/site-packages (from raphtory-client) (2021.3)\n",
      "Requirement already satisfied: urllib3 in /opt/homebrew/Cellar/jupyterlab/3.2.8/libexec/lib/python3.9/site-packages (from raphtory-client) (1.26.8)\n",
      "Requirement already satisfied: charset-normalizer in /opt/homebrew/Cellar/jupyterlab/3.2.8/libexec/lib/python3.9/site-packages (from raphtory-client) (2.0.10)\n",
      "\u001b[33mWARNING: You are using pip version 21.3.1; however, version 22.1.1 is available.\n",
      "You should consider upgrading via the '/opt/homebrew/Cellar/jupyterlab/3.2.8/libexec/bin/python3.9 -m pip install --upgrade pip' command.\u001b[0m\n",
      "Note: you may need to restart the kernel to use updated packages.\n"
     ]
    }
   ],
   "source": [
    "pip install -i https://test.pypi.org/simple/ raphtory-client"
   ]
  },
  {
   "cell_type": "code",
   "execution_count": 3,
   "id": "769db847",
   "metadata": {},
   "outputs": [],
   "source": [
    "import networkx as nx\n",
    "from raphtoryclient import raphtoryclient as client\n",
    "from pymotif import Motif\n",
    "import pandas as pd"
   ]
  },
  {
   "cell_type": "code",
   "execution_count": 4,
   "id": "8b8c8364",
   "metadata": {},
   "outputs": [
    {
     "name": "stdout",
     "output_type": "stream",
     "text": [
      "Creating RaphtoryClient object...\n",
      "Created.\n"
     ]
    }
   ],
   "source": [
    "raphtory = client()"
   ]
  },
  {
   "cell_type": "markdown",
   "id": "b9333130",
   "metadata": {},
   "source": [
    "### Create Client\n",
    "\n",
    "Now we create a client, and then create the readers which read from topics.\n",
    "\n",
    "If the connection fails, the code with automatically retry.\n",
    "\n",
    "This can occur when you have not closed previous pulsar connections.\n",
    "\n",
    "In this case we are reading the topics: EdgeList\n",
    "\n",
    "Note: Prior to this you should have already run these algorithms in Raphtory."
   ]
  },
  {
   "cell_type": "code",
   "execution_count": 25,
   "id": "e8f03707",
   "metadata": {},
   "outputs": [
    {
     "name": "stdout",
     "output_type": "stream",
     "text": [
      "2022-05-25 14:44:37.043 INFO  [0x17667b000] HandlerBase:55 | [persistent://public/default/EdgeList, reader-4149b35a21, 4] Getting connection from pool\n",
      "2022-05-25 14:44:37.218 INFO  [0x17667b000] ConsumerImpl:220 | [persistent://public/default/EdgeList, reader-4149b35a21, 4] Created consumer on broker [127.0.0.1:61226 -> 127.0.0.1:6650] \n",
      "Connected to topic: EdgeList\n"
     ]
    }
   ],
   "source": [
    "edgeListReader = raphtory.createReader(topic = \"EdgeList\", subscription_name='edgelist_reader')"
   ]
  },
  {
   "cell_type": "code",
   "execution_count": 26,
   "id": "fb3ee9e2",
   "metadata": {},
   "outputs": [
    {
     "name": "stdout",
     "output_type": "stream",
     "text": [
      "Obtaining dataframe...\n",
      "\n",
      "Converting to columns...\n",
      "Completed.\n"
     ]
    }
   ],
   "source": [
    "df_edge = raphtory.getDataframe(edgeListReader)"
   ]
  },
  {
   "cell_type": "code",
   "execution_count": 28,
   "id": "47070d03",
   "metadata": {},
   "outputs": [
    {
     "data": {
      "text/html": [
       "<div>\n",
       "<style scoped>\n",
       "    .dataframe tbody tr th:only-of-type {\n",
       "        vertical-align: middle;\n",
       "    }\n",
       "\n",
       "    .dataframe tbody tr th {\n",
       "        vertical-align: top;\n",
       "    }\n",
       "\n",
       "    .dataframe thead th {\n",
       "        text-align: right;\n",
       "    }\n",
       "</style>\n",
       "<table border=\"1\" class=\"dataframe\">\n",
       "  <thead>\n",
       "    <tr style=\"text-align: right;\">\n",
       "      <th></th>\n",
       "      <th>result_0</th>\n",
       "      <th>result_1</th>\n",
       "      <th>result_2</th>\n",
       "    </tr>\n",
       "  </thead>\n",
       "  <tbody>\n",
       "    <tr>\n",
       "      <th>0</th>\n",
       "      <td>1653486243</td>\n",
       "      <td>1164059086956052480</td>\n",
       "      <td>1529458272008212480</td>\n",
       "    </tr>\n",
       "    <tr>\n",
       "      <th>1</th>\n",
       "      <td>1653486243</td>\n",
       "      <td>1124417797</td>\n",
       "      <td>1529458263603179520</td>\n",
       "    </tr>\n",
       "    <tr>\n",
       "      <th>2</th>\n",
       "      <td>1653486243</td>\n",
       "      <td>945601633714569221</td>\n",
       "      <td>1529458259416989699</td>\n",
       "    </tr>\n",
       "    <tr>\n",
       "      <th>3</th>\n",
       "      <td>1653486243</td>\n",
       "      <td>26201277</td>\n",
       "      <td>1529458259417092098</td>\n",
       "    </tr>\n",
       "    <tr>\n",
       "      <th>4</th>\n",
       "      <td>1653486243</td>\n",
       "      <td>2167563187</td>\n",
       "      <td>1529458251024171010</td>\n",
       "    </tr>\n",
       "    <tr>\n",
       "      <th>5</th>\n",
       "      <td>1653486243</td>\n",
       "      <td>14934331</td>\n",
       "      <td>1529458259425476608</td>\n",
       "    </tr>\n",
       "    <tr>\n",
       "      <th>6</th>\n",
       "      <td>1653486243</td>\n",
       "      <td>423024443</td>\n",
       "      <td>1529458267784634370</td>\n",
       "    </tr>\n",
       "    <tr>\n",
       "      <th>7</th>\n",
       "      <td>1653486243</td>\n",
       "      <td>1484623714880827400</td>\n",
       "      <td>1529458255205900289</td>\n",
       "    </tr>\n",
       "    <tr>\n",
       "      <th>8</th>\n",
       "      <td>1653486243</td>\n",
       "      <td>2276678672</td>\n",
       "      <td>1529458251024060416</td>\n",
       "    </tr>\n",
       "    <tr>\n",
       "      <th>9</th>\n",
       "      <td>1653486243</td>\n",
       "      <td>1101390366241116160</td>\n",
       "      <td>1529458255201972225</td>\n",
       "    </tr>\n",
       "    <tr>\n",
       "      <th>10</th>\n",
       "      <td>1653486243</td>\n",
       "      <td>1345707858336202752</td>\n",
       "      <td>1529458255201640448</td>\n",
       "    </tr>\n",
       "    <tr>\n",
       "      <th>11</th>\n",
       "      <td>1653486243</td>\n",
       "      <td>1486698947057909761</td>\n",
       "      <td>1529458267818438656</td>\n",
       "    </tr>\n",
       "    <tr>\n",
       "      <th>12</th>\n",
       "      <td>1653486243</td>\n",
       "      <td>1009555608</td>\n",
       "      <td>1529458271978782721</td>\n",
       "    </tr>\n",
       "    <tr>\n",
       "      <th>13</th>\n",
       "      <td>1653486243</td>\n",
       "      <td>958240885598113792</td>\n",
       "      <td>1529458263590178816</td>\n",
       "    </tr>\n",
       "    <tr>\n",
       "      <th>14</th>\n",
       "      <td>1653486243</td>\n",
       "      <td>1198588406076297217</td>\n",
       "      <td>1529458267822272512</td>\n",
       "    </tr>\n",
       "    <tr>\n",
       "      <th>15</th>\n",
       "      <td>1653486243</td>\n",
       "      <td>1292875313714728961</td>\n",
       "      <td>1529458276202602499</td>\n",
       "    </tr>\n",
       "    <tr>\n",
       "      <th>16</th>\n",
       "      <td>1653486243</td>\n",
       "      <td>1333358819649359872</td>\n",
       "      <td>1529458251028639746</td>\n",
       "    </tr>\n",
       "    <tr>\n",
       "      <th>17</th>\n",
       "      <td>1653486243</td>\n",
       "      <td>2495264132</td>\n",
       "      <td>1529458276194103296</td>\n",
       "    </tr>\n",
       "  </tbody>\n",
       "</table>\n",
       "</div>"
      ],
      "text/plain": [
       "      result_0             result_1             result_2\n",
       "0   1653486243  1164059086956052480  1529458272008212480\n",
       "1   1653486243           1124417797  1529458263603179520\n",
       "2   1653486243   945601633714569221  1529458259416989699\n",
       "3   1653486243             26201277  1529458259417092098\n",
       "4   1653486243           2167563187  1529458251024171010\n",
       "5   1653486243             14934331  1529458259425476608\n",
       "6   1653486243            423024443  1529458267784634370\n",
       "7   1653486243  1484623714880827400  1529458255205900289\n",
       "8   1653486243           2276678672  1529458251024060416\n",
       "9   1653486243  1101390366241116160  1529458255201972225\n",
       "10  1653486243  1345707858336202752  1529458255201640448\n",
       "11  1653486243  1486698947057909761  1529458267818438656\n",
       "12  1653486243           1009555608  1529458271978782721\n",
       "13  1653486243   958240885598113792  1529458263590178816\n",
       "14  1653486243  1198588406076297217  1529458267822272512\n",
       "15  1653486243  1292875313714728961  1529458276202602499\n",
       "16  1653486243  1333358819649359872  1529458251028639746\n",
       "17  1653486243           2495264132  1529458276194103296"
      ]
     },
     "execution_count": 28,
     "metadata": {},
     "output_type": "execute_result"
    },
    {
     "name": "stdout",
     "output_type": "stream",
     "text": [
      "2022-05-25 14:49:36.729 INFO  [0x17667b000] ConsumerStatsImpl:70 | Consumer [persistent://public/default/EdgeList, reader-4f\u00000c96b1f, 1] , ConsumerStatsImpl (numBytesRecieved_ = 0, totalNumBytesRecieved_ = 0, receivedMsgMap_ = {}, ackedMsgMap_ = {}, totalReceivedMsgMap_ = {[Key: TimeOut, Value: 3], }, totalAckedMsgMap_ = {})\n",
      "2022-05-25 14:50:22.881 INFO  [0x17667b000] ConsumerStatsImpl:70 | Consumer [persistent://public/default/EdgeList, reader-f79f4bfd5e, 0] , ConsumerStatsImpl (numBytesRecieved_ = 0, totalNumBytesRecieved_ = 0, receivedMsgMap_ = {}, ackedMsgMap_ = {}, totalReceivedMsgMap_ = {[Key: TimeOut, Value: 9], }, totalAckedMsgMap_ = {})\n"
     ]
    }
   ],
   "source": [
    "df_edge"
   ]
  }
 ],
 "metadata": {
  "kernelspec": {
   "display_name": "Python 3 (ipykernel)",
   "language": "python",
   "name": "python3"
  },
  "language_info": {
   "codemirror_mode": {
    "name": "ipython",
    "version": 3
   },
   "file_extension": ".py",
   "mimetype": "text/x-python",
   "name": "python",
   "nbconvert_exporter": "python",
   "pygments_lexer": "ipython3",
   "version": "3.9.10"
  }
 },
 "nbformat": 4,
 "nbformat_minor": 5
}
