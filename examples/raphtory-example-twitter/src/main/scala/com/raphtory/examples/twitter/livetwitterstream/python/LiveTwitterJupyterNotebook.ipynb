{
 "cells": [
  {
   "cell_type": "markdown",
   "id": "6e8162e0",
   "metadata": {},
   "source": [
    "# Raphtory Python Client - LIVE TWITTER DEMO"
   ]
  },
  {
   "cell_type": "markdown",
   "id": "54e2f6b7",
   "metadata": {},
   "source": [
    "In this demo we will\n",
    "* Create a Python Raphtory client\n",
    "* Create a Graph from data in Raphtory\n",
    "* Pull results from an algorithm in Raphtory\n",
    "* Add these results to the graph\n",
    "* Visualise the graph with pymotif"
   ]
  },
  {
   "cell_type": "markdown",
   "id": "e53a2d16",
   "metadata": {},
   "source": [
    "## Setup Code"
   ]
  },
  {
   "cell_type": "markdown",
   "id": "a767a85b",
   "metadata": {},
   "source": [
    "First we setup the various libraries we will need"
   ]
  },
  {
   "cell_type": "code",
   "execution_count": null,
   "id": "dc81c6cd",
   "metadata": {},
   "outputs": [],
   "source": [
    "pip install -i https://test.pypi.org/simple/ raphtory-client"
   ]
  },
  {
   "cell_type": "code",
   "execution_count": null,
   "id": "769db847",
   "metadata": {},
   "outputs": [],
   "source": [
    "import networkx as nx\n",
    "from raphtoryclient import raphtoryclient as client\n",
    "from pymotif import Motif\n",
    "import pandas as pd"
   ]
  },
  {
   "cell_type": "code",
   "execution_count": null,
   "id": "8b8c8364",
   "metadata": {},
   "outputs": [],
   "source": [
    "raphtory = client()"
   ]
  },
  {
   "cell_type": "markdown",
   "id": "b9333130",
   "metadata": {},
   "source": [
    "### Create Client\n",
    "\n",
    "Now we create a client, and then create the readers which read from topics.\n",
    "\n",
    "If the connection fails, the code with automatically retry.\n",
    "\n",
    "This can occur when you have not closed previous pulsar connections.\n",
    "\n",
    "In this case we are reading the topics: EdgeList\n",
    "\n",
    "Note: Prior to this you should have already run these algorithms in Raphtory."
   ]
  },
  {
   "cell_type": "code",
   "execution_count": null,
   "id": "e8f03707",
   "metadata": {},
   "outputs": [],
   "source": [
    "edgeListReader = raphtory.createReader(topic = \"EdgeList\", subscription_name='edgelist_reader')"
   ]
  },
  {
   "cell_type": "code",
   "execution_count": null,
   "id": "fb3ee9e2",
   "metadata": {},
   "outputs": [],
   "source": [
    "df_edge = raphtory.getDataframe(edgeListReader)"
   ]
  },
  {
   "cell_type": "code",
   "execution_count": null,
   "id": "47070d03",
   "metadata": {},
   "outputs": [],
   "source": [
    "df_edge"
   ]
  }
 ],
 "metadata": {
  "kernelspec": {
   "display_name": "Python 3 (ipykernel)",
   "language": "python",
   "name": "python3"
  },
  "language_info": {
   "codemirror_mode": {
    "name": "ipython",
    "version": 3
   },
   "file_extension": ".py",
   "mimetype": "text/x-python",
   "name": "python",
   "nbconvert_exporter": "python",
   "pygments_lexer": "ipython3",
   "version": "3.9.10"
  }
 },
 "nbformat": 4,
 "nbformat_minor": 5
}

