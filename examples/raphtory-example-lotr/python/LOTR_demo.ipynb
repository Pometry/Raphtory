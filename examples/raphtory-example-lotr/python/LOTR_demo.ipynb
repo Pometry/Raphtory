{
 "cells": [
  {
   "cell_type": "markdown",
   "metadata": {},
   "source": [
    "# Raphtory Python Client - LOTR DEMO"
   ]
  },
  {
   "cell_type": "markdown",
   "metadata": {
    "pycharm": {
     "name": "#%% md\n"
    }
   },
   "source": [
    "In this demo we will\n",
    "* Setup the Python Raphtory client \n",
    "* Run an algorithm from python and save the result to a file\n",
    "* Create a Graph from data in Raphtory\n",
    "* Pull results from an algorithm in Raphtory that was saved to a pulsar topic \n",
    "* Add these results to the Graph\n",
    "* Visualise the graph with pymotif"
   ]
  },
  {
   "cell_type": "markdown",
   "metadata": {},
   "source": [
    "### Setup"
   ]
  },
  {
   "cell_type": "markdown",
   "metadata": {},
   "source": [
    "Please ensure you are running the `raphtory-example-lotr`. \n",
    "\n",
    "Either the `SimpleRunner` or `PulsarOutputRunner`\n",
    "\n",
    "From there please obtain the deployment id, e.g. `raphtory_1172949031` from\n",
    "\n",
    "```\n",
    "17:32:15.975 [main] INFO  com.raphtory.client.GraphDeployment - Created Graph object with deployment ID 'raphtory_1172949031'.\n",
    "```\n",
    "\n",
    "First we setup the various python libraries we will need\n",
    "\n",
    "You can install the python client via `pip install raphtory-client`"
   ]
  },
  {
   "cell_type": "code",
   "execution_count": 1,
   "metadata": {
    "tags": []
   },
   "outputs": [],
   "source": [
    "import raphtoryclient\n",
    "from pymotif import Motif"
   ]
  },
  {
   "cell_type": "markdown",
   "metadata": {},
   "source": [
    "#### Create Client\n",
    "\n",
    "Now we create a client.\n",
    "\n",
    "This is responsible for two things, \n",
    "\n",
    "1) it will be able to interface with the raphtory engine to run algorithms as if we are running via scala\n",
    "\n",
    "2) be able to retrieve data directly from the pulsar interface"
   ]
  },
  {
   "cell_type": "code",
   "execution_count": 2,
   "metadata": {},
   "outputs": [
    {
     "name": "stdout",
     "output_type": "stream",
     "text": [
      "Creating RaphtoryClient object...\n",
      "Created.\n",
      "Setting up Java gateway...\n",
      "Java gateway connected.\n",
      "Creating Raphtory java object...\n",
      "Created Raphtory java object.\n"
     ]
    }
   ],
   "source": [
    "raphtory = raphtoryclient.client(raphtory_deployment_id=\"raphtory_1172949031\")"
   ]
  },
  {
   "cell_type": "markdown",
   "metadata": {},
   "source": [
    "### Running a algorithm \n",
    "\n",
    "To run an algorithm we must first import the java path it belongs to. \n",
    "In our case we want to run the Connected components algorithms. \n",
    "\n",
    "We will import this into our local client, so that our code is able to call them."
   ]
  },
  {
   "cell_type": "code",
   "execution_count": 17,
   "metadata": {},
   "outputs": [],
   "source": [
    "raphtory.java_import(\"com.raphtory.algorithms.generic.ConnectedComponents\")\n",
    "connectedComponentsAlgorithm = raphtory.java().ConnectedComponents"
   ]
  },
  {
   "cell_type": "markdown",
   "metadata": {},
   "source": [
    "We also want to write the result of this to a file, so we can use the FileOutputFormat class to do so. \n",
    "\n",
    "We first import the class as follows"
   ]
  },
  {
   "cell_type": "code",
   "execution_count": 18,
   "metadata": {},
   "outputs": [],
   "source": [
    "raphtory.java_import(\"com.raphtory.output.FileOutputFormat\")\n",
    "fileOutputFormat = raphtory.java().FileOutputFormat"
   ]
  },
  {
   "cell_type": "markdown",
   "metadata": {},
   "source": [
    "In this example, \n",
    "\n",
    "- we are running the algorithm at time 32674 (which is the latest point in our graph). \n",
    "- with the `past()` function, which will ensure the graph takes into account all the history from and including 32674\n",
    "- We 'execute' the connected components algorithm \n",
    "- Finally we write this to a file\n",
    "\n",
    "We can now run the algorithm as follows. "
   ]
  },
  {
   "cell_type": "code",
   "execution_count": 19,
   "metadata": {},
   "outputs": [],
   "source": [
    "queryHandler = raphtory.graph\\\n",
    "    .at(32674)\\\n",
    "    .past()\\\n",
    "    .execute(connectedComponentsAlgorithm())\\\n",
    "    .writeTo(fileOutputFormat.apply(\"/tmp/pythonCC\"), \"pythonCC\")"
   ]
  },
  {
   "cell_type": "markdown",
   "metadata": {},
   "source": [
    "If we now investigate the `/tmp/pythonCC` file we will see that \n",
    "it contains our results. \n",
    "\n",
    "You can check the status of this algorithm \n",
    "in the java terminal where your raphtory instance is running or you can run the following."
   ]
  },
  {
   "cell_type": "code",
   "execution_count": 21,
   "metadata": {},
   "outputs": [
    {
     "data": {
      "text/plain": [
       "True"
      ]
     },
     "execution_count": 21,
     "metadata": {},
     "output_type": "execute_result"
    }
   ],
   "source": [
    "queryHandler.isJobDone()"
   ]
  },
  {
   "cell_type": "markdown",
   "metadata": {},
   "source": [
    "## Exporting data "
   ]
  },
  {
   "cell_type": "markdown",
   "metadata": {},
   "source": [
    "Previously we ran an algorithm that wrote our data to a file. \n",
    "\n",
    "Now we will look at exporting results from an algorithm that was saved to Pulsar topics. \n",
    "\n",
    "This portion of the tutorial requires that you are running the `raphtory-example-lotr/.../PulsarOutputRunner`\n",
    "\n",
    "We will create the readers which read from topics.\n",
    "\n",
    "If the connection fails, the code with automatically retry.\n",
    "\n",
    "This can occur when you have not closed previous pulsar connections.\n",
    "\n",
    "In this case we are reading the topics: EdgeList, PageRank\n",
    "\n",
    "Note: Prior to this you should have already run these algorithms in Raphtory."
   ]
  },
  {
   "cell_type": "code",
   "execution_count": 3,
   "metadata": {
    "collapsed": false,
    "jupyter": {
     "outputs_hidden": false
    },
    "pycharm": {
     "name": "#%%\n"
    },
    "scrolled": true
   },
   "outputs": [
    {
     "name": "stdout",
     "output_type": "stream",
     "text": [
      "2022-04-27 17:39:11.063 INFO  [0x10ff18e00] ConnectionPool:84 | Created connection for pulsar://127.0.0.1:6650\n",
      "2022-04-27 17:39:11.064 INFO  [0x700010b75000] ClientConnection:372 | [127.0.0.1:56076 -> 127.0.0.1:6650] Connected to broker\n",
      "2022-04-27 17:39:11.065 INFO  [0x700010b75000] HandlerBase:55 | [persistent://public/default/EdgeList, reader-\u000067df90f3e, 0] Getting connection from pool\n",
      "2022-04-27 17:39:11.066 INFO  [0x700010b75000] ConnectionPool:84 | Created connection for pulsar://localhost:6650\n",
      "2022-04-27 17:39:11.066 INFO  [0x700010b75000] ClientConnection:374 | [127.0.0.1:56077 -> 127.0.0.1:6650] Connected to broker through proxy. Logical broker: pulsar://localhost:6650\n",
      "2022-04-27 17:39:11.072 INFO  [0x700010b75000] ConsumerImpl:220 | [persistent://public/default/EdgeList, reader-\u000067df90f3e, 0] Created consumer on broker [127.0.0.1:56077 -> 127.0.0.1:6650] \n",
      "Connected to topic: EdgeList\n",
      "2022-04-27 17:39:11.073 INFO  [0x700010b75000] HandlerBase:55 | [persistent://public/default/PageRank, reader-e83e6cfad5, 1] Getting connection from pool\n",
      "2022-04-27 17:39:11.078 INFO  [0x700010b75000] ConsumerImpl:220 | [persistent://public/default/PageRank, reader-e83e6cfad5, 1] Created consumer on broker [127.0.0.1:56077 -> 127.0.0.1:6650] \n",
      "Connected to topic: PageRank\n"
     ]
    }
   ],
   "source": [
    "edgeListReader = raphtory.createReader(\"EdgeList\", subscription_name='edgelist_reader')\n",
    "pageRankReader = raphtory.createReader(\"PageRank\", subscription_name='pagerank_reader')"
   ]
  },
  {
   "cell_type": "markdown",
   "metadata": {},
   "source": [
    "### Obtain dataframes\n",
    "\n",
    "Now we will run the getDataframe function to retrieve results as dataframes."
   ]
  },
  {
   "cell_type": "code",
   "execution_count": 4,
   "metadata": {},
   "outputs": [
    {
     "name": "stdout",
     "output_type": "stream",
     "text": [
      "Obtaining dataframe...\n",
      "\n",
      "Converting to columns...\n",
      "Completed.\n"
     ]
    }
   ],
   "source": [
    "df_edge = raphtory.getDataframe(edgeListReader)"
   ]
  },
  {
   "cell_type": "code",
   "execution_count": 5,
   "metadata": {},
   "outputs": [
    {
     "data": {
      "text/html": [
       "<div>\n",
       "<style scoped>\n",
       "    .dataframe tbody tr th:only-of-type {\n",
       "        vertical-align: middle;\n",
       "    }\n",
       "\n",
       "    .dataframe tbody tr th {\n",
       "        vertical-align: top;\n",
       "    }\n",
       "\n",
       "    .dataframe thead th {\n",
       "        text-align: right;\n",
       "    }\n",
       "</style>\n",
       "<table border=\"1\" class=\"dataframe\">\n",
       "  <thead>\n",
       "    <tr style=\"text-align: right;\">\n",
       "      <th></th>\n",
       "      <th>0</th>\n",
       "      <th>1</th>\n",
       "      <th>2</th>\n",
       "    </tr>\n",
       "  </thead>\n",
       "  <tbody>\n",
       "    <tr>\n",
       "      <th>0</th>\n",
       "      <td>30000</td>\n",
       "      <td>Hador</td>\n",
       "      <td>Húrin</td>\n",
       "    </tr>\n",
       "    <tr>\n",
       "      <th>1</th>\n",
       "      <td>30000</td>\n",
       "      <td>Ungoliant</td>\n",
       "      <td>Shelob</td>\n",
       "    </tr>\n",
       "    <tr>\n",
       "      <th>2</th>\n",
       "      <td>30000</td>\n",
       "      <td>Orophin</td>\n",
       "      <td>Rúmil</td>\n",
       "    </tr>\n",
       "    <tr>\n",
       "      <th>3</th>\n",
       "      <td>30000</td>\n",
       "      <td>Arwen</td>\n",
       "      <td>Celebrían</td>\n",
       "    </tr>\n",
       "    <tr>\n",
       "      <th>4</th>\n",
       "      <td>30000</td>\n",
       "      <td>Arwen</td>\n",
       "      <td>Frodo</td>\n",
       "    </tr>\n",
       "    <tr>\n",
       "      <th>...</th>\n",
       "      <td>...</td>\n",
       "      <td>...</td>\n",
       "      <td>...</td>\n",
       "    </tr>\n",
       "    <tr>\n",
       "      <th>533</th>\n",
       "      <td>30000</td>\n",
       "      <td>Elendil</td>\n",
       "      <td>Boromir</td>\n",
       "    </tr>\n",
       "    <tr>\n",
       "      <th>534</th>\n",
       "      <td>30000</td>\n",
       "      <td>Elendil</td>\n",
       "      <td>Aragorn</td>\n",
       "    </tr>\n",
       "    <tr>\n",
       "      <th>535</th>\n",
       "      <td>30000</td>\n",
       "      <td>Elendil</td>\n",
       "      <td>Elessar</td>\n",
       "    </tr>\n",
       "    <tr>\n",
       "      <th>536</th>\n",
       "      <td>30000</td>\n",
       "      <td>Elessar</td>\n",
       "      <td>Halbarad</td>\n",
       "    </tr>\n",
       "    <tr>\n",
       "      <th>537</th>\n",
       "      <td>30000</td>\n",
       "      <td>Elessar</td>\n",
       "      <td>Aragorn</td>\n",
       "    </tr>\n",
       "  </tbody>\n",
       "</table>\n",
       "<p>538 rows × 3 columns</p>\n",
       "</div>"
      ],
      "text/plain": [
       "         0          1          2\n",
       "0    30000      Hador      Húrin\n",
       "1    30000  Ungoliant     Shelob\n",
       "2    30000    Orophin      Rúmil\n",
       "3    30000      Arwen  Celebrían\n",
       "4    30000      Arwen      Frodo\n",
       "..     ...        ...        ...\n",
       "533  30000    Elendil    Boromir\n",
       "534  30000    Elendil    Aragorn\n",
       "535  30000    Elendil    Elessar\n",
       "536  30000    Elessar   Halbarad\n",
       "537  30000    Elessar    Aragorn\n",
       "\n",
       "[538 rows x 3 columns]"
      ]
     },
     "execution_count": 5,
     "metadata": {},
     "output_type": "execute_result"
    }
   ],
   "source": [
    "df_edge"
   ]
  },
  {
   "cell_type": "code",
   "execution_count": 6,
   "metadata": {},
   "outputs": [
    {
     "name": "stdout",
     "output_type": "stream",
     "text": [
      "Obtaining dataframe...\n",
      "\n",
      "Converting to columns...\n",
      "Completed.\n"
     ]
    }
   ],
   "source": [
    "df_page = raphtory.getDataframe(pageRankReader)"
   ]
  },
  {
   "cell_type": "code",
   "execution_count": 7,
   "metadata": {},
   "outputs": [
    {
     "data": {
      "text/html": [
       "<div>\n",
       "<style scoped>\n",
       "    .dataframe tbody tr th:only-of-type {\n",
       "        vertical-align: middle;\n",
       "    }\n",
       "\n",
       "    .dataframe tbody tr th {\n",
       "        vertical-align: top;\n",
       "    }\n",
       "\n",
       "    .dataframe thead th {\n",
       "        text-align: right;\n",
       "    }\n",
       "</style>\n",
       "<table border=\"1\" class=\"dataframe\">\n",
       "  <thead>\n",
       "    <tr style=\"text-align: right;\">\n",
       "      <th></th>\n",
       "      <th>0</th>\n",
       "      <th>1</th>\n",
       "      <th>2</th>\n",
       "      <th>3</th>\n",
       "    </tr>\n",
       "  </thead>\n",
       "  <tbody>\n",
       "    <tr>\n",
       "      <th>0</th>\n",
       "      <td>20000</td>\n",
       "      <td>10000</td>\n",
       "      <td>Balin</td>\n",
       "      <td>0.15000000000000002</td>\n",
       "    </tr>\n",
       "    <tr>\n",
       "      <th>1</th>\n",
       "      <td>20000</td>\n",
       "      <td>10000</td>\n",
       "      <td>Meriadoc</td>\n",
       "      <td>0.4199991666063432</td>\n",
       "    </tr>\n",
       "    <tr>\n",
       "      <th>2</th>\n",
       "      <td>20000</td>\n",
       "      <td>10000</td>\n",
       "      <td>Isildur</td>\n",
       "      <td>0.15000000000000002</td>\n",
       "    </tr>\n",
       "    <tr>\n",
       "      <th>3</th>\n",
       "      <td>20000</td>\n",
       "      <td>10000</td>\n",
       "      <td>Amroth</td>\n",
       "      <td>0.2300710908862701</td>\n",
       "    </tr>\n",
       "    <tr>\n",
       "      <th>4</th>\n",
       "      <td>20000</td>\n",
       "      <td>10000</td>\n",
       "      <td>Celebrían</td>\n",
       "      <td>0.2775</td>\n",
       "    </tr>\n",
       "    <tr>\n",
       "      <th>...</th>\n",
       "      <td>...</td>\n",
       "      <td>...</td>\n",
       "      <td>...</td>\n",
       "      <td>...</td>\n",
       "    </tr>\n",
       "    <tr>\n",
       "      <th>150</th>\n",
       "      <td>30000</td>\n",
       "      <td>500</td>\n",
       "      <td>Faramir</td>\n",
       "      <td>0.18028125000000003</td>\n",
       "    </tr>\n",
       "    <tr>\n",
       "      <th>151</th>\n",
       "      <td>30000</td>\n",
       "      <td>500</td>\n",
       "      <td>Gollum</td>\n",
       "      <td>0.47526644531250006</td>\n",
       "    </tr>\n",
       "    <tr>\n",
       "      <th>152</th>\n",
       "      <td>30000</td>\n",
       "      <td>500</td>\n",
       "      <td>Sam</td>\n",
       "      <td>0.21375000000000002</td>\n",
       "    </tr>\n",
       "    <tr>\n",
       "      <th>153</th>\n",
       "      <td>30000</td>\n",
       "      <td>500</td>\n",
       "      <td>Gorbag</td>\n",
       "      <td>0.15000000000000002</td>\n",
       "    </tr>\n",
       "    <tr>\n",
       "      <th>154</th>\n",
       "      <td>30000</td>\n",
       "      <td>500</td>\n",
       "      <td>Shelob</td>\n",
       "      <td>0.25690078125000004</td>\n",
       "    </tr>\n",
       "  </tbody>\n",
       "</table>\n",
       "<p>155 rows × 4 columns</p>\n",
       "</div>"
      ],
      "text/plain": [
       "         0      1          2                    3\n",
       "0    20000  10000      Balin  0.15000000000000002\n",
       "1    20000  10000   Meriadoc   0.4199991666063432\n",
       "2    20000  10000    Isildur  0.15000000000000002\n",
       "3    20000  10000     Amroth   0.2300710908862701\n",
       "4    20000  10000  Celebrían               0.2775\n",
       "..     ...    ...        ...                  ...\n",
       "150  30000    500    Faramir  0.18028125000000003\n",
       "151  30000    500     Gollum  0.47526644531250006\n",
       "152  30000    500        Sam  0.21375000000000002\n",
       "153  30000    500     Gorbag  0.15000000000000002\n",
       "154  30000    500     Shelob  0.25690078125000004\n",
       "\n",
       "[155 rows x 4 columns]"
      ]
     },
     "execution_count": 7,
     "metadata": {},
     "output_type": "execute_result"
    }
   ],
   "source": [
    "df_page"
   ]
  },
  {
   "cell_type": "markdown",
   "metadata": {
    "pycharm": {
     "name": "#%% md\n"
    }
   },
   "source": [
    "### Create a graph\n",
    "\n",
    "Next we create a graph by pulling the edge list from Raphtory.\n",
    "\n",
    "In this case we would like to create a graph from the LOTR dataset.\n",
    "\n",
    "So we run the `createGraphFromEdgeList` method on the `EdgeList` dataframe."
   ]
  },
  {
   "cell_type": "code",
   "execution_count": 8,
   "metadata": {},
   "outputs": [
    {
     "name": "stdout",
     "output_type": "stream",
     "text": [
      "Creating graph...\n",
      "Done.\n"
     ]
    },
    {
     "data": {
      "text/plain": [
       "(124, 538)"
      ]
     },
     "execution_count": 8,
     "metadata": {},
     "output_type": "execute_result"
    }
   ],
   "source": [
    "G = raphtory.createGraphFromEdgeList(df_edge, isMultiGraph=False)\n",
    "G.number_of_nodes(), G.number_of_edges()"
   ]
  },
  {
   "cell_type": "markdown",
   "metadata": {
    "pycharm": {
     "name": "#%% md\n"
    }
   },
   "source": [
    "### Adding properties to our graph\n",
    "Now we merge these as node properties into our graph"
   ]
  },
  {
   "cell_type": "code",
   "execution_count": 9,
   "metadata": {
    "collapsed": false,
    "jupyter": {
     "outputs_hidden": false
    },
    "pycharm": {
     "name": "#%%\n"
    }
   },
   "outputs": [],
   "source": [
    "raphtory.add_node_attributes(G, [df_page], ['PageRank'])"
   ]
  },
  {
   "cell_type": "markdown",
   "metadata": {},
   "source": [
    "### Visualisation\n",
    "\n",
    "Finally we plot the graph with an open source visualisation tool ."
   ]
  },
  {
   "cell_type": "code",
   "execution_count": 8,
   "metadata": {
    "collapsed": false,
    "jupyter": {
     "outputs_hidden": false
    },
    "pycharm": {
     "name": "#%%\n"
    }
   },
   "outputs": [],
   "source": [
    "motif_nx = Motif(nx_graph=G, title='NetworkX')\n",
    "motif_nx.plot()"
   ]
  }
 ],
 "metadata": {
  "kernelspec": {
   "display_name": "raphtorypythonclient",
   "language": "python",
   "name": "raphtorypythonclient"
  },
  "language_info": {
   "codemirror_mode": {
    "name": "ipython",
    "version": 3
   },
   "file_extension": ".py",
   "mimetype": "text/x-python",
   "name": "python",
   "nbconvert_exporter": "python",
   "pygments_lexer": "ipython3",
   "version": "3.9.10"
  }
 },
 "nbformat": 4,
 "nbformat_minor": 4
}
