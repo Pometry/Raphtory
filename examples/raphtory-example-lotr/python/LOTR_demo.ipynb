{
 "cells": [
  {
   "cell_type": "markdown",
   "metadata": {},
   "source": [
    "# Raphtory Python Client - LOTR DEMO"
   ]
  },
  {
   "cell_type": "markdown",
   "metadata": {
    "pycharm": {
     "name": "#%% md\n"
    }
   },
   "source": [
    "In this demo we will\n",
    "* Setup the Python Raphtory client \n",
    "* Run an algorithm from python and save the result to a file\n",
    "* Create a Graph from data in Raphtory\n",
    "* Pull results from an algorithm in Raphtory that was saved to a pulsar topic \n",
    "* Add these results to the Graph\n",
    "* Visualise the graph with pymotif"
   ]
  },
  {
   "cell_type": "markdown",
   "metadata": {},
   "source": [
    "### Setup"
   ]
  },
  {
   "cell_type": "markdown",
   "metadata": {},
   "source": [
    "Please ensure you are running the `raphtory-example-lotr`. \n",
    "\n",
    "Either the `SimpleRunner` or `PulsarOutputRunner`\n",
    "\n",
    "From there please obtain the deployment id, e.g. `raphtory_1172949031` from\n",
    "\n",
    "```\n",
    "17:32:15.975 [main] INFO  com.raphtory.client.GraphDeployment - Created Graph object with deployment ID 'raphtory_1172949031'.\n",
    "```\n",
    "\n",
    "First we setup the various python libraries we will need\n",
    "\n",
    "You can install the python client via `pip install raphtory-client`"
   ]
  },
  {
   "cell_type": "code",
   "execution_count": null,
   "metadata": {
    "tags": []
   },
   "outputs": [],
   "source": [
    "import raphtoryclient\n",
    "from pymotif import Motif"
   ]
  },
  {
   "cell_type": "markdown",
   "metadata": {},
   "source": [
    "#### Create Client\n",
    "\n",
    "Now we create a client.\n",
    "\n",
    "This is responsible for two things, \n",
    "\n",
    "1) it will be able to interface with the raphtory engine to run algorithms as if we are running via scala\n",
    "\n",
    "2) be able to retrieve data directly from the pulsar interface"
   ]
  },
  {
   "cell_type": "code",
   "execution_count": null,
   "metadata": {},
   "outputs": [],
   "source": [
    "raphtory = raphtoryclient.client(raphtory_deployment_id=\"raphtory_1172949031\")"
   ]
  },
  {
   "cell_type": "markdown",
   "metadata": {},
   "source": [
    "### Running a algorithm \n",
    "\n",
    "To run an algorithm we must first import the java path it belongs to. \n",
    "In our case we want to run the Connected components algorithms. \n",
    "\n",
    "We will import this into our local client, so that our code is able to call them."
   ]
  },
  {
   "cell_type": "code",
   "execution_count": null,
   "metadata": {},
   "outputs": [],
   "source": [
    "raphtory.java_import(\"com.raphtory.algorithms.generic.ConnectedComponents\")\n",
    "connectedComponentsAlgorithm = raphtory.java().ConnectedComponents"
   ]
  },
  {
   "cell_type": "markdown",
   "metadata": {},
   "source": [
    "We also want to write the result of this to a file, so we can use the FileOutputFormat class to do so. \n",
    "\n",
    "We first import the class as follows"
   ]
  },
  {
   "cell_type": "code",
   "execution_count": null,
   "metadata": {},
   "outputs": [],
   "source": [
    "raphtory.java_import(\"com.raphtory.output.FileOutputFormat\")\n",
    "fileOutputFormat = raphtory.java().FileOutputFormat"
   ]
  },
  {
   "cell_type": "markdown",
   "metadata": {},
   "source": [
    "In this example, \n",
    "\n",
    "- we are running the algorithm at time 32674 (which is the latest point in our graph). \n",
    "- with the `past()` function, which will ensure the graph takes into account all the history from and including 32674\n",
    "- We 'execute' the connected components algorithm \n",
    "- Finally we write this to a file\n",
    "\n",
    "We can now run the algorithm as follows. "
   ]
  },
  {
   "cell_type": "code",
   "execution_count": null,
   "metadata": {},
   "outputs": [],
   "source": [
    "queryHandler = raphtory.graph\\\n",
    "    .at(32674)\\\n",
    "    .past()\\\n",
    "    .execute(connectedComponentsAlgorithm())\\\n",
    "    .writeTo(fileOutputFormat.apply(\"/tmp/pythonCC\"))"
   ]
  },
  {
   "cell_type": "markdown",
   "metadata": {},
   "source": [
    "If we now investigate the `/tmp/pythonCC` file we will see that \n",
    "it contains our results. \n",
    "\n",
    "You can check the status of this algorithm \n",
    "in the java terminal where your raphtory instance is running or you can run the following."
   ]
  },
  {
   "cell_type": "code",
   "execution_count": null,
   "metadata": {},
   "outputs": [],
   "source": [
    "queryHandler.isJobDone()"
   ]
  },
  {
   "cell_type": "markdown",
   "metadata": {},
   "source": [
    "## Exporting data "
   ]
  },
  {
   "cell_type": "markdown",
   "metadata": {},
   "source": [
    "Previously we ran an algorithm that wrote our data to a file. \n",
    "\n",
    "Now we will look at exporting results from an algorithm that was saved to Pulsar topics. \n",
    "\n",
    "This portion of the tutorial requires that you are running the `raphtory-example-lotr/.../PulsarOutputRunner`\n",
    "\n",
    "We will create the readers which read from topics.\n",
    "\n",
    "If the connection fails, the code with automatically retry.\n",
    "\n",
    "This can occur when you have not closed previous pulsar connections.\n",
    "\n",
    "In this case we are reading the topics: EdgeList, PageRank\n",
    "\n",
    "Note: Prior to this you should have already run these algorithms in Raphtory."
   ]
  },
  {
   "cell_type": "code",
   "execution_count": null,
   "metadata": {
    "jupyter": {
     "outputs_hidden": false
    },
    "pycharm": {
     "name": "#%%\n"
    },
    "scrolled": true
   },
   "outputs": [],
   "source": [
    "edgeListReader = raphtory.createReader(\"EdgeList\", subscription_name='edgelist_reader')\n",
    "pageRankReader = raphtory.createReader(\"PageRank\", subscription_name='pagerank_reader')"
   ]
  },
  {
   "cell_type": "markdown",
   "metadata": {},
   "source": [
    "### Obtain dataframes\n",
    "\n",
    "Now we will run the getDataframe function to retrieve results as dataframes."
   ]
  },
  {
   "cell_type": "code",
   "execution_count": null,
   "metadata": {},
   "outputs": [],
   "source": [
    "df_edge = raphtory.getDataframe(edgeListReader)"
   ]
  },
  {
   "cell_type": "code",
   "execution_count": null,
   "metadata": {},
   "outputs": [],
   "source": [
    "df_edge"
   ]
  },
  {
   "cell_type": "code",
   "execution_count": null,
   "metadata": {},
   "outputs": [],
   "source": [
    "df_page = raphtory.getDataframe(pageRankReader)"
   ]
  },
  {
   "cell_type": "code",
   "execution_count": null,
   "metadata": {},
   "outputs": [],
   "source": [
    "df_page"
   ]
  },
  {
   "cell_type": "markdown",
   "metadata": {
    "pycharm": {
     "name": "#%% md\n"
    }
   },
   "source": [
    "### Create a graph\n",
    "\n",
    "Next we create a graph by pulling the edge list from Raphtory.\n",
    "\n",
    "In this case we would like to create a graph from the LOTR dataset.\n",
    "\n",
    "So we run the `createGraphFromEdgeList` method on the `EdgeList` dataframe."
   ]
  },
  {
   "cell_type": "code",
   "execution_count": null,
   "metadata": {},
   "outputs": [],
   "source": [
    "G = raphtory.createGraphFromEdgeList(df_edge, isMultiGraph=False)\n",
    "G.number_of_nodes(), G.number_of_edges()"
   ]
  },
  {
   "cell_type": "markdown",
   "metadata": {
    "pycharm": {
     "name": "#%% md\n"
    }
   },
   "source": [
    "### Adding properties to our graph\n",
    "Now we merge these as node properties into our graph"
   ]
  },
  {
   "cell_type": "code",
   "execution_count": null,
   "metadata": {
    "jupyter": {
     "outputs_hidden": false
    },
    "pycharm": {
     "name": "#%%\n"
    }
   },
   "outputs": [],
   "source": [
    "raphtory.add_node_attributes(G, [df_page], ['PageRank'])"
   ]
  },
  {
   "cell_type": "markdown",
   "metadata": {},
   "source": [
    "### Visualisation\n",
    "\n",
    "Finally we plot the graph with an open source visualisation tool ."
   ]
  },
  {
   "cell_type": "code",
   "execution_count": null,
   "metadata": {
    "jupyter": {
     "outputs_hidden": false
    },
    "pycharm": {
     "name": "#%%\n"
    }
   },
   "outputs": [],
   "source": [
    "motif_nx = Motif(nx_graph=G, title='NetworkX')\n",
    "motif_nx.plot()"
   ]
  }
 ],
 "metadata": {
  "kernelspec": {
   "display_name": "raphtorypythonclient",
   "language": "python",
   "name": "raphtorypythonclient"
  },
  "language_info": {
   "codemirror_mode": {
    "name": "ipython",
    "version": 3
   },
   "file_extension": ".py",
   "mimetype": "text/x-python",
   "name": "python",
   "nbconvert_exporter": "python",
   "pygments_lexer": "ipython3",
   "version": "3.9.10"
  }
 },
 "nbformat": 4,
 "nbformat_minor": 4
}
