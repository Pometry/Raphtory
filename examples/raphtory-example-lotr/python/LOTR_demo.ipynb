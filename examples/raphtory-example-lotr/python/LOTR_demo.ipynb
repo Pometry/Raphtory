{
 "cells": [
  {
   "cell_type": "markdown",
   "metadata": {},
   "source": [
    "# Raphtory Python Client - LOTR DEMO"
   ]
  },
  {
   "cell_type": "markdown",
   "metadata": {
    "pycharm": {
     "name": "#%% md\n"
    }
   },
   "source": [
    "In this demo we will\n",
    "* Create a Python Raphtory client\n",
    "* Create a Graph from data in Raphtory\n",
    "* Pull results from an algorithm in Raphtory\n",
    "* Add these results to the Graph\n",
    "* Visualise the graph with pymotif"
   ]
  },
  {
   "cell_type": "markdown",
   "metadata": {},
   "source": [
    "### Setup Code"
   ]
  },
  {
   "cell_type": "markdown",
   "metadata": {},
   "source": [
    "First we setup the various libraries we will need"
   ]
  },
  {
   "cell_type": "code",
   "execution_count": 1,
   "metadata": {},
   "outputs": [],
   "source": [
    "pip install raphtory-client"
   ]
  },
  {
   "cell_type": "code",
   "execution_count": 2,
   "metadata": {
    "tags": []
   },
   "outputs": [],
   "source": [
    "from raphtoryclient import raphtoryclient\n",
    "from pymotif import Motif"
   ]
  },
  {
   "cell_type": "markdown",
   "metadata": {},
   "source": [
    "### Create Client\n",
    "\n",
    "Now we create a client, and then create the readers which read from topics.\n",
    "\n",
    "If the connection fails, the code with automatically retry.\n",
    "\n",
    "This can occur when you have not closed previous pulsar connections.\n",
    "\n",
    "In this case we are reading the topics: EdgeList, PageRank\n",
    "\n",
    "Note: Prior to this you should have already run these algorithms in Raphtory."
   ]
  },
  {
   "cell_type": "code",
   "execution_count": 3,
   "metadata": {},
   "outputs": [],
   "source": [
    "raphtoryClient = raphtoryclient()"
   ]
  },
  {
   "cell_type": "code",
   "execution_count": 4,
   "metadata": {
    "jupyter": {
     "outputs_hidden": false
    },
    "pycharm": {
     "name": "#%%\n"
    },
    "scrolled": true
   },
   "outputs": [],
   "source": [
    "edgeListReader = raphtoryClient.createReader(\"EdgeList\", subscription_name='edgelist_reader')\n",
    "pageRankReader = raphtoryClient.createReader(\"PageRank\", subscription_name='pagerank_reader')"
   ]
  },
  {
   "cell_type": "markdown",
   "metadata": {},
   "source": [
    "### Obtain dataframes\n",
    "\n",
    "Now we will run the getDataframe function to retrieve results as dataframes."
   ]
  },
  {
   "cell_type": "code",
   "execution_count": 5,
   "metadata": {},
   "outputs": [],
   "source": [
    "df_edge = raphtoryClient.getDataframe(edgeListReader)\n",
    "df_page = raphtoryClient.getDataframe(pageRankReader)"
   ]
  },
  {
   "cell_type": "code",
   "execution_count": 9,
   "metadata": {},
   "outputs": [],
   "source": [
    "df_edge"
   ]
  },
  {
   "cell_type": "code",
   "execution_count": 10,
   "metadata": {},
   "outputs": [],
   "source": [
    "df_page"
   ]
  },
  {
   "cell_type": "markdown",
   "metadata": {
    "pycharm": {
     "name": "#%% md\n"
    }
   },
   "source": [
    "### Create a graph\n",
    "\n",
    "Next we create a graph by pulling the edge list from Raphtory.\n",
    "\n",
    "In this case we would like to create a graph from the LOTR dataset.\n",
    "\n",
    "So we run the `createGraphFromEdgeList` method on the `EdgeList` dataframe."
   ]
  },
  {
   "cell_type": "code",
   "execution_count": 6,
   "metadata": {},
   "outputs": [],
   "source": [
    "G = raphtoryClient.createGraphFromEdgeList(df_edge, isMultiGraph=False)\n",
    "G.number_of_nodes(), G.number_of_edges()"
   ]
  },
  {
   "cell_type": "markdown",
   "metadata": {
    "pycharm": {
     "name": "#%% md\n"
    }
   },
   "source": [
    "### Adding properties to our graph\n",
    "Now we merge these as node properties into our graph"
   ]
  },
  {
   "cell_type": "code",
   "execution_count": 7,
   "metadata": {
    "jupyter": {
     "outputs_hidden": false
    },
    "pycharm": {
     "name": "#%%\n"
    }
   },
   "outputs": [],
   "source": [
    "raphtoryClient.add_node_attributes(G, [df_page], ['PageRank'])"
   ]
  },
  {
   "cell_type": "markdown",
   "metadata": {},
   "source": [
    "### Visualisation\n",
    "\n",
    "Finally we plot the graph with an open source visualisation tool ."
   ]
  },
  {
   "cell_type": "code",
   "execution_count": 8,
   "metadata": {
    "jupyter": {
     "outputs_hidden": false
    },
    "pycharm": {
     "name": "#%%\n"
    }
   },
   "outputs": [],
   "source": [
    "motif_nx = Motif(nx_graph=G, title='NetworkX')\n",
    "motif_nx.plot()"
   ]
  },
  {
   "cell_type": "code",
   "execution_count": null,
   "metadata": {},
   "outputs": [],
   "source": []
  }
 ],
 "metadata": {
  "kernelspec": {
   "display_name": "Python 3 (ipykernel)",
   "language": "python",
   "name": "python3"
  },
  "language_info": {
   "codemirror_mode": {
    "name": "ipython",
    "version": 3
   },
   "file_extension": ".py",
   "mimetype": "text/x-python",
   "name": "python",
   "nbconvert_exporter": "python",
   "pygments_lexer": "ipython3",
   "version": "3.9.10"
  }
 },
 "nbformat": 4,
 "nbformat_minor": 4
}
