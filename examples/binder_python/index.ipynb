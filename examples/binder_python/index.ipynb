{
 "cells": [
  {
   "cell_type": "markdown",
   "metadata": {},
   "source": [
    "<img src=\"https://user-images.githubusercontent.com/6665739/130641943-fa7fcdb8-a0e7-4aa4-863f-3df61b5de775.png\" width=\"400\"/>"
   ]
  },
  {
   "cell_type": "markdown",
   "metadata": {},
   "source": [
    "# Getting Started\n",
    "\n",
    "Welcome to this PyRaphtory binder demo.\n",
    "\n",
    "This notebook will explain and demo how to:\n",
    "- Run PyRaphtory\n",
    "- Create a graph\n",
    "- Add data to your graph\n",
    "- Run an algorithm \n",
    "\n",
    "If you want an extended example, please see the Lord Of The Rings notebook. "
   ]
  },
  {
   "attachments": {},
   "cell_type": "markdown",
   "metadata": {},
   "source": [
    "# Running PyRaphtory\n",
    "\n",
    "Once installed, let's set up the most bare bones PyRaphtory graph, test that we can add some data to it and run our first query. Once this is all working we can move on to some much more exciting examples in the next section! \n",
    "\n",
    "To do this we first we need to import `pyraphtory` alongside some helper classes. \n",
    "\n",
    "You will see some references to `Java` in the logs here, this is because under the hood Raphtory is written in `Scala`. You don't have to worry about any of that though as its all hidden away! "
   ]
  },
  {
   "cell_type": "code",
   "execution_count": null,
   "metadata": {},
   "outputs": [],
   "source": [
    "import pyraphtory"
   ]
  },
  {
   "attachments": {},
   "cell_type": "markdown",
   "metadata": {},
   "source": [
    "## Creating your first graph\n",
    "\n",
    "Once Raphtory is installed we can create our first graph! To do this we first need a `context` which manages our graphs. \n",
    "\n",
    "Our two options here are `local` and `remote`. As we are just testing it on our laptops we can use `local`, meaning the Raphtory code will run within your python process. We will dig into `remote` contexts later when you want to deploy in a seperate process or scale your graph past what your laptop can handle.\n",
    "\n",
    "Once we have our context we can call `new_graph()` to create a graph which we can add data into and run queries on. \n",
    "\n",
    "If you check the logs you will see you (the client) and your graph get an auto-generated name. This isn't important now, but will be when you leave your graphs running or want other people to access them."
   ]
  },
  {
   "cell_type": "code",
   "execution_count": null,
   "metadata": {},
   "outputs": [],
   "source": [
    "context = pyraphtory.local()\n",
    "graph = context.new_graph()"
   ]
  },
  {
   "cell_type": "markdown",
   "metadata": {},
   "source": [
    "## Adding data to your Graph\n",
    "\n",
    "Once a graph is created, we need to add some data to it if we want run anything interesting. There are loads of ways of doing this in Raphtory, which we will cover in the next section, but for simplicity lets just add some vertices and edges without any properties. \n",
    "\n",
    "As Raphtory is focused on dynamic and temporal analysis, all events in the graph's history  (adding, updating or deleting nodes/edges) must happen at a given time. This can all be at the same time (if, for example, you are working with snapshots) but we still need a time.\n",
    "\n",
    "As such, when we add a vertex we have two arguments: the `timestamp` and the `vertex ID`. Simiarly, when adding an edge, we have three arguments: the `timestamp`, the `source vertex` and the `destination vertex`. \n",
    "\n",
    "**Note:** All graphs are directed by default in Raphtory, but can be `projected` into an undirected graph - we will go indepth into graph projections later in the tutorial.   \n",
    "\n",
    "In the following code block we have five updates for our graph, adding three vertices (`1`,`2`,`3`) at time `1` and two edges (`1->2`, `1->3`) at time `2` . \n",
    "\n",
    "\n",
    "\n",
    "\n"
   ]
  },
  {
   "cell_type": "code",
   "execution_count": null,
   "metadata": {},
   "outputs": [],
   "source": [
    "graph.add_vertex(1, 1)\n",
    "graph.add_vertex(1, 2)\n",
    "graph.add_vertex(1, 3)\n",
    "graph.add_edge(2, 1, 2)\n",
    "graph.add_edge(2, 1, 3)"
   ]
  },
  {
   "cell_type": "markdown",
   "metadata": {},
   "source": [
    "## Running your first Query\n",
    "Now that our data is loaded we can start interrogating it! \n",
    "\n",
    "While we can write some very complicated algorithms in Raphtory, lets start off with something simple, getting the `indegree` and `outdegree` of our nodes. \n",
    "\n",
    "For this we call `select` on the graph, which takes a function to run on every vertex. This will return a `Table` full of `Rows` which represent the result for each node. From this point we can either write our results to a `Sink` (file, database, etc.), which we will cover later in the tutorial, or convert it into a dataframe for further analysis.\n",
    "\n",
    "In this example we have called `to_df` to get a dataframe, giving it a list of the variables we want to be included. If you are wondering where these variable names come from, we will be explaining very shortly so bear with us! \n",
    "\n",
    "If you have a look in the logs you can see that your query is given a `Job ID` and Raphtory will report how long it took for it to run."
   ]
  },
  {
   "cell_type": "code",
   "execution_count": null,
   "metadata": {},
   "outputs": [],
   "source": [
    "df = graph \\\n",
    ".step(lambda vertex: vertex.set_state(\"name\", vertex.name()))\\\n",
    ".step(lambda vertex: vertex.set_state(\"out_degree\", vertex.out_degree()))\\\n",
    ".step(lambda vertex: vertex.set_state(\"in_degree\", vertex.in_degree())) \\\n",
    ".select(\"name\", \"out_degree\", \"in_degree\")\\\n",
    ".to_df()\n"
   ]
  },
  {
   "cell_type": "markdown",
   "metadata": {},
   "source": [
    "## Checking out the output\n",
    "Finally, once our query has run and we have got our dataframe, we can take a look at the results. \n",
    "\n",
    "One aspect which is notable here is that we requested three variables, but we have five columns. This is because algorithms in Raphtory run at set points in time, meaning the values for each vertex must be associated with a `timestamp` (in this case the most recent one `2`). \n",
    "\n",
    "Sometimes when we are running queries we may also apply a `window`, which filters updates outside a given bound into the past or future. We, therefore, also have a column to specify if one has been applied. As we didn't do any of that here, the `window` column states `None`. \n",
    "\n",
    "As with every other cool feature I have hinted at, you will soon be an expert in queries, windowing and much more. All you have to do is continue on to the next page!"
   ]
  },
  {
   "cell_type": "code",
   "execution_count": null,
   "metadata": {},
   "outputs": [],
   "source": [
    "df"
   ]
  }
 ],
 "metadata": {
  "kernelspec": {
   "display_name": "base",
   "language": "python",
   "name": "python3"
  },
  "language_info": {
   "codemirror_mode": {
    "name": "ipython",
    "version": 3
   },
   "file_extension": ".py",
   "mimetype": "text/x-python",
   "name": "python",
   "nbconvert_exporter": "python",
   "pygments_lexer": "ipython3",
   "version": "3.10.4"
  },
  "vscode": {
   "interpreter": {
    "hash": "a9a34730827747ae273d5a5e0748f342e2039a3997e32d9a086d01739bd0f055"
   }
  }
 },
 "nbformat": 4,
 "nbformat_minor": 5
}
