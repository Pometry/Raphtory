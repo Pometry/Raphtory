{
 "cells": [
  {
   "cell_type": "markdown",
   "id": "33e30c37",
   "metadata": {
    "pycharm": {
     "name": "#%% md\n"
    }
   },
   "source": [
    "# Lord Of The Rings PyRaphtory Example Notebook 🧝🏻‍♀️🧙🏻‍♂️💍"
   ]
  },
  {
   "cell_type": "markdown",
   "id": "7623b0bb-1409-4711-bbc0-a2fa2a93027f",
   "metadata": {
    "pycharm": {
     "name": "#%% md\n"
    }
   },
   "source": [
    "## Setup environment and download data 💾"
   ]
  },
  {
   "cell_type": "markdown",
   "id": "8c1692af",
   "metadata": {
    "pycharm": {
     "name": "#%% md\n"
    }
   },
   "source": [
    "Import all necessary dependencies needed to build a graph from your data in PyRaphtory. Download csv data from github into your tmp folder (file path: /tmp/lotr.csv)."
   ]
  },
  {
   "cell_type": "code",
   "execution_count": null,
   "id": "5ef63a11",
   "metadata": {
    "pycharm": {
     "name": "#%%\n"
    }
   },
   "outputs": [],
   "source": [
    "pip install pyvis matplotlib"
   ]
  },
  {
   "cell_type": "code",
   "execution_count": null,
   "id": "8f6eaa88",
   "metadata": {
    "collapsed": false,
    "jupyter": {
     "outputs_hidden": false
    },
    "pycharm": {
     "name": "#%%\n"
    }
   },
   "outputs": [],
   "source": [
    "from pathlib import Path\n",
    "from pyraphtory.context import PyRaphtory\n",
    "from pyraphtory.vertex import Vertex\n",
    "from pyraphtory.spouts import FileSpout\n",
    "from pyraphtory.builder import *\n",
    "from pyvis.network import Network\n",
    "import csv\n",
    "import pandas as pd\n",
    "import numpy as np\n",
    "\n",
    "!curl -o /tmp/lotr.csv https://raw.githubusercontent.com/Raphtory/Data/main/lotr.csv"
   ]
  },
  {
   "cell_type": "markdown",
   "id": "296d3970-531a-455a-8a9a-8ec1db88b9ea",
   "metadata": {
    "pycharm": {
     "name": "#%% md\n"
    }
   },
   "source": [
    "## Preview data  👀"
   ]
  },
  {
   "cell_type": "code",
   "execution_count": null,
   "id": "e93fbf02-e215-4c9c-a823-4c39217c359c",
   "metadata": {
    "pycharm": {
     "name": "#%%\n"
    },
    "scrolled": true
   },
   "outputs": [],
   "source": [
    "!head /tmp/lotr.csv"
   ]
  },
  {
   "cell_type": "code",
   "execution_count": null,
   "id": "2b941737",
   "metadata": {
    "pycharm": {
     "name": "#%%\n"
    }
   },
   "outputs": [],
   "source": [
    "filename = '/tmp/lotr.csv'"
   ]
  },
  {
   "cell_type": "markdown",
   "id": "fe932a96-e2f2-44e3-b36d-baf95ed94924",
   "metadata": {
    "pycharm": {
     "name": "#%% md\n"
    }
   },
   "source": [
    "## Create a new Raphtory graph 📊"
   ]
  },
  {
   "cell_type": "markdown",
   "id": "646c021f",
   "metadata": {
    "pycharm": {
     "name": "#%% md\n"
    }
   },
   "source": [
    "We Initialise Raphtory by creating a PyRaphtory object, and we create your new graph. We can turn on logs to see what is going on in PyRaphtory."
   ]
  },
  {
   "cell_type": "code",
   "execution_count": null,
   "id": "46115d4d",
   "metadata": {
    "collapsed": false,
    "jupyter": {
     "outputs_hidden": false
    },
    "pycharm": {
     "name": "#%%\n"
    }
   },
   "outputs": [],
   "source": [
    "ctx = PyRaphtory.local()\n",
    "graph = ctx.new_graph()"
   ]
  },
  {
   "cell_type": "markdown",
   "id": "ce0c59cf-2833-4809-a325-e354d42e09fd",
   "metadata": {
    "pycharm": {
     "name": "#%% md\n"
    }
   },
   "source": [
    "## Ingest the data into a graph 😋"
   ]
  },
  {
   "cell_type": "markdown",
   "id": "e1f3fab9",
   "metadata": {
    "pycharm": {
     "name": "#%% md\n"
    }
   },
   "source": [
    "We use a parsing method to parse the csv file and add the vertices and edges to the PyRaphtory graph."
   ]
  },
  {
   "cell_type": "code",
   "execution_count": null,
   "id": "7757b8c0",
   "metadata": {
    "pycharm": {
     "name": "#%%\n"
    }
   },
   "outputs": [],
   "source": [
    "with open(filename, 'r') as csvfile:\n",
    "    datareader = csv.reader(csvfile)\n",
    "    for row in datareader:\n",
    "        source_node = row[0]\n",
    "        src_id = graph.assign_id(source_node)\n",
    "        target_node = row[1]\n",
    "        tar_id = graph.assign_id(target_node)\n",
    "        time_stamp = int(row[2])\n",
    "        graph.add_vertex(time_stamp, src_id, Properties(ImmutableProperty(\"name\", source_node)), Type(\"Character\"))\n",
    "        graph.add_vertex(time_stamp, tar_id, Properties(ImmutableProperty(\"name\", target_node)), Type(\"Character\"))\n",
    "        graph.add_edge(time_stamp, src_id, tar_id, Type(\"Character_Co-occurence\"))"
   ]
  },
  {
   "cell_type": "markdown",
   "id": "bcc44109-e5a5-421e-8615-e86febbd0569",
   "metadata": {
    "pycharm": {
     "name": "#%% md\n"
    }
   },
   "source": [
    "## Collect simple metrics 📈"
   ]
  },
  {
   "cell_type": "markdown",
   "id": "bb0d5bb0",
   "metadata": {
    "pycharm": {
     "name": "#%% md\n"
    }
   },
   "source": [
    "Our data has been ingested by the graph object. We can now select certain attributes and metrics to display, for instance vertex name, degree, out degree and in degree. \\\n",
    "We can compute these metrics temporally. To do so,\n",
    "1. the first step is to create temporal slices of the graph, also called **graph perspectives**. For instance, `.range(start, end, step)` filters the data from `start` to `end`, and splits it into slices of duration `step`. More functions such as `from`,`until`, `at`, `depart`, are presented in the [documentation of the DeplotedTemporalGraph object](https://docs.raphtory.com/en/development/_static/com/raphtory/api/analysis/graphview/DeployedTemporalGraph.html).\n",
    "2. the second step is to specify which direction we are looking in at each time point (or **snapshot**) `t`. For instance `.past()` aggregate all older data until `t`, `.future()` aggregate all data starting from `t`. We can also use the function `.window()`, also presented in the [documentation of the DottedGraph object](https://docs.raphtory.com/en/development/_static/com/raphtory/api/analysis/graphview/DottedGraph.html). \n",
    "\n",
    "We can then specify which metrics we are interested in, and choose the names of the output columns."
   ]
  },
  {
   "cell_type": "code",
   "execution_count": null,
   "id": "ec76c281-7e4b-4ae9-8469-e24458eaaa74",
   "metadata": {
    "pycharm": {
     "name": "#%%\n"
    }
   },
   "outputs": [],
   "source": [
    "from pyraphtory.graph import Row\n",
    "df = graph \\\n",
    "      .range(1, 32674, 1000) \\\n",
    "      .past()  \\\n",
    "      .select(lambda vertex: Row(vertex.name(), vertex.degree(), vertex.out_degree(), vertex.in_degree())) \\\n",
    "      .to_df([\"name\", \"degree\", \"out_degree\", \"in_degree\"])"
   ]
  },
  {
   "cell_type": "code",
   "execution_count": null,
   "id": "3cf8f566",
   "metadata": {
    "pycharm": {
     "name": "#%%\n"
    }
   },
   "outputs": [],
   "source": [
    "df.head(5)"
   ]
  },
  {
   "cell_type": "code",
   "execution_count": null,
   "id": "473df098-9cf5-4b0d-8e45-e2d74b74cc3e",
   "metadata": {
    "pycharm": {
     "name": "#%%\n"
    }
   },
   "outputs": [],
   "source": [
    "# We can delete the unused 'window' column\n",
    "df.drop(columns=['window'], inplace=True)"
   ]
  },
  {
   "cell_type": "markdown",
   "id": "f7c3a58f",
   "metadata": {
    "pycharm": {
     "name": "#%% md\n"
    }
   },
   "source": [
    "**Get simple insights from the data 👀**"
   ]
  },
  {
   "cell_type": "code",
   "execution_count": null,
   "id": "dd5b651d-95f0-4e01-8203-43c8021e05d6",
   "metadata": {
    "pycharm": {
     "name": "#%%\n"
    }
   },
   "outputs": [],
   "source": [
    "print('# timetamps:', len(df.timestamp.unique()))\n",
    "print('# characters:', len(df.name.unique()))"
   ]
  },
  {
   "cell_type": "code",
   "execution_count": null,
   "id": "0ab22d12-1607-4d1a-9c07-a4c54034342b",
   "metadata": {
    "pycharm": {
     "name": "#%%\n"
    }
   },
   "outputs": [],
   "source": [
    "df \\\n",
    ".groupby('timestamp') \\\n",
    ".agg({'name': 'count'}) \\\n",
    ".reset_index() \\\n",
    ".rename(columns={'name': 'nb_characters'}) \\\n",
    ".plot(x='timestamp', y='nb_characters', kind='scatter', title='# characters co-mentioned at least once until time t')"
   ]
  },
  {
   "cell_type": "markdown",
   "id": "997170b7",
   "metadata": {
    "pycharm": {
     "name": "#%% md\n"
    }
   },
   "source": [
    "**Suppose we are interested in the top 5 highest degree characters.** Because the dataframe contains the degree of each character up to each time point, we can simply look at the max degree of each character across all times."
   ]
  },
  {
   "cell_type": "code",
   "execution_count": null,
   "id": "f21dcbcb-8c5c-4a10-91b3-767fdcc6b562",
   "metadata": {
    "pycharm": {
     "name": "#%%\n"
    }
   },
   "outputs": [],
   "source": [
    "df \\\n",
    ".groupby('name') \\\n",
    ".agg({'degree': 'max'}) \\\n",
    ".reset_index() \\\n",
    ".sort_values(['degree'], ascending=False)[:5]"
   ]
  },
  {
   "cell_type": "markdown",
   "id": "4eca6ccb-1b92-4807-bdf9-57733c6c386c",
   "metadata": {
    "pycharm": {
     "name": "#%% md\n"
    }
   },
   "source": [
    "**Alternatively**, we can aggregate all temporal interactions from the start, and compute the degrees on the resulting graph."
   ]
  },
  {
   "cell_type": "code",
   "execution_count": null,
   "id": "ffcfe842-b022-4333-8886-a8ee0cd902d7",
   "metadata": {
    "pycharm": {
     "name": "#%%\n"
    }
   },
   "outputs": [],
   "source": [
    "df = graph \\\n",
    "    .at(32674) \\\n",
    "    .past() \\\n",
    "    .select(lambda vertex: Row(vertex.name(), vertex.degree(), vertex.out_degree(), vertex.in_degree())) \\\n",
    "    .to_df([\"name\", \"degree\", \"out_degree\", \"in_degree\"])"
   ]
  },
  {
   "cell_type": "markdown",
   "id": "143338c4-d126-4cf1-9db3-71a119b33b58",
   "metadata": {
    "pycharm": {
     "name": "#%% md\n"
    }
   },
   "source": [
    "Note that **the resulting dataframe only has one timestamp**: the final time 32674."
   ]
  },
  {
   "cell_type": "code",
   "execution_count": null,
   "id": "67b4420a-e6f6-43d6-af3d-4a89ad764e3b",
   "metadata": {
    "pycharm": {
     "name": "#%%\n"
    }
   },
   "outputs": [],
   "source": [
    "df.head(5)"
   ]
  },
  {
   "cell_type": "code",
   "execution_count": null,
   "id": "5357d232-c67c-42ef-97c9-01f17d40169b",
   "metadata": {
    "pycharm": {
     "name": "#%%\n"
    }
   },
   "outputs": [],
   "source": [
    "df.drop(columns=['window'], inplace=True)\n",
    "df.sort_values(['degree'], ascending=False)[:10]"
   ]
  },
  {
   "cell_type": "markdown",
   "id": "75c777ae-5661-415d-9600-6c38b54f09fd",
   "metadata": {
    "pycharm": {
     "name": "#%% md\n"
    }
   },
   "source": [
    "## Run a PageRank algorithm 📑"
   ]
  },
  {
   "cell_type": "markdown",
   "id": "9de7a6b8",
   "metadata": {
    "pycharm": {
     "name": "#%% md\n"
    }
   },
   "source": [
    "We can run any selected algorithm on our graph data, here we run PageRank. \n",
    "- Take the graph.\n",
    "- The `transform` function applies a given algorithm to the graph, and returns the graph updated with the states that the algorithm generated. Here we apply a generic algorithm `pr.algorithms.generic.centrality.PageRank()` (PageRank) so the `transform` returns the graph where each node has now an extra attribute which is its Pagerank score.\n",
    "- The `execute` function applies an algorithm (same as `transform`) AND returns the results in a tabular format (graph --> table). Here we apply the `NodeList` algorithm: it outputs one row per vertex in the graph contacted by the names in `cols`.\n",
    "- We ask Raphtory to output the results in a dataframe `to_df`. \n",
    "\n",
    "Both functions `transform` and `execute` are explained further in the [documentation](https://docs.raphtory.com/en/development/_static/com/raphtory/api/analysis/graphview/MultilayerGraphView.html)."
   ]
  },
  {
   "cell_type": "code",
   "execution_count": null,
   "id": "ad4aecf8-3506-49ee-9b6a-e562ade5a8dd",
   "metadata": {
    "pycharm": {
     "name": "#%%\n"
    }
   },
   "outputs": [],
   "source": [
    "cols = [\"prlabel\"]\n",
    "\n",
    "df_pagerank = graph.at(32674) \\\n",
    "                .past() \\\n",
    "                .transform(ctx.algorithms.generic.centrality.PageRank())\\\n",
    "                .execute(ctx.algorithms.generic.NodeList(*cols)) \\\n",
    "                .to_df([\"name\"] + cols)"
   ]
  },
  {
   "cell_type": "markdown",
   "id": "c42e5fff",
   "metadata": {
    "pycharm": {
     "name": "#%% md\n"
    }
   },
   "source": [
    "**Note: Here we run PageRank on the aggregated graph but we could, of course, have run it similarly on temporal slices as explained above.**"
   ]
  },
  {
   "cell_type": "code",
   "execution_count": null,
   "id": "98e4eef5-cf37-46ed-a20b-c06058cd0139",
   "metadata": {
    "pycharm": {
     "name": "#%%\n"
    }
   },
   "outputs": [],
   "source": [
    "df_pagerank.drop(columns=['window'], inplace=True)\n",
    "df_pagerank.head(5)"
   ]
  },
  {
   "cell_type": "markdown",
   "id": "2e510261-0049-4c44-8630-dcddbc107f07",
   "metadata": {
    "pycharm": {
     "name": "#%% md\n"
    }
   },
   "source": [
    "**The top ten most ranked characters**"
   ]
  },
  {
   "cell_type": "code",
   "execution_count": null,
   "id": "d1bf1258-e1db-4b34-af93-352191817b4c",
   "metadata": {
    "pycharm": {
     "name": "#%%\n"
    }
   },
   "outputs": [],
   "source": [
    "df_pagerank.sort_values(['prlabel'], ascending=False)[:10]"
   ]
  },
  {
   "cell_type": "markdown",
   "id": "6afeefa8-a6d6-4bc8-8c2d-681095a18c48",
   "metadata": {
    "pycharm": {
     "name": "#%% md\n"
    }
   },
   "source": [
    "## Run a connected components algorithm "
   ]
  },
  {
   "cell_type": "markdown",
   "id": "15409680",
   "metadata": {
    "pycharm": {
     "name": "#%% md\n"
    }
   },
   "source": [
    "Similarly we can look for the connected components of the graph."
   ]
  },
  {
   "cell_type": "code",
   "execution_count": null,
   "id": "cf4ce1a4",
   "metadata": {
    "collapsed": false,
    "jupyter": {
     "outputs_hidden": false
    },
    "pycharm": {
     "name": "#%%\n"
    }
   },
   "outputs": [],
   "source": [
    "cols = [\"cclabel\"]\n",
    "df_cc = graph.at(32674) \\\n",
    "                .past() \\\n",
    "                .transform(ctx.algorithms.generic.ConnectedComponents)\\\n",
    "                .execute(ctx.algorithms.generic.NodeList(*cols)) \\\n",
    "                .to_df([\"name\"] + cols)"
   ]
  },
  {
   "cell_type": "markdown",
   "id": "ef921b02",
   "metadata": {
    "pycharm": {
     "name": "#%% md\n"
    }
   },
   "source": [
    "**Preview dataframe.**"
   ]
  },
  {
   "cell_type": "code",
   "execution_count": null,
   "id": "984c7943-fe22-4bd3-b5ff-64e509ec7a50",
   "metadata": {
    "pycharm": {
     "name": "#%%\n"
    }
   },
   "outputs": [],
   "source": [
    "df_cc.drop(columns=['window'], inplace=True)\n",
    "df_cc.head(5)"
   ]
  },
  {
   "cell_type": "markdown",
   "id": "fa4a353c-4ac8-4622-a8d8-3875ff8ab36d",
   "metadata": {
    "pycharm": {
     "name": "#%% md\n"
    }
   },
   "source": [
    "**Number of distinct components**"
   ]
  },
  {
   "cell_type": "code",
   "execution_count": null,
   "id": "152ba931-0cf2-416f-a77f-4e5e0e2f5d09",
   "metadata": {
    "pycharm": {
     "name": "#%%\n"
    }
   },
   "outputs": [],
   "source": [
    "print('# distinct components:', len(set(df_cc['cclabel'])))"
   ]
  },
  {
   "cell_type": "markdown",
   "id": "e1c8faf8-c127-43a2-a947-166ecb5c2d18",
   "metadata": {
    "pycharm": {
     "name": "#%% md\n"
    }
   },
   "source": [
    "**Calculate the size of the 3 connected components.**"
   ]
  },
  {
   "cell_type": "code",
   "execution_count": null,
   "id": "a14abe9e-d240-446d-849a-faac644bfc6b",
   "metadata": {
    "pycharm": {
     "name": "#%%\n"
    }
   },
   "outputs": [],
   "source": [
    "df_cc \\\n",
    ".groupby(['cclabel']) \\\n",
    ".count() \\\n",
    ".reset_index() \\\n",
    ".rename(columns={'name': 'size'}) \\\n",
    ".drop(columns=['timestamp'])"
   ]
  },
  {
   "cell_type": "markdown",
   "id": "cf28d75d-fd26-4fae-a9a7-9f895698857c",
   "metadata": {
    "pycharm": {
     "name": "#%% md\n"
    }
   },
   "source": [
    "## Run chained algorithms at once "
   ]
  },
  {
   "cell_type": "markdown",
   "id": "8a1b9299",
   "metadata": {
    "pycharm": {
     "name": "#%% md\n"
    }
   },
   "source": [
    "We can also chain PageRank, Connected Components and Degree algorithms, running them one after another on the graph. Specify all the columns in the output dataframe, including an output column for each algorithm in the chain. `cols` dictates the particular order in which we want to output the result columns."
   ]
  },
  {
   "cell_type": "code",
   "execution_count": null,
   "id": "c74e8247-91f2-4889-b013-5450a3ee4da2",
   "metadata": {
    "pycharm": {
     "name": "#%%\n"
    }
   },
   "outputs": [],
   "source": [
    "cols = [\"inDegree\", \"outDegree\", \"degree\", \"prlabel\", \"cclabel\"]\n",
    "\n",
    "df_chained = graph.at(32674) \\\n",
    "                .past() \\\n",
    "                .transform(ctx.algorithms.generic.centrality.PageRank())\\\n",
    "                .transform(ctx.algorithms.generic.ConnectedComponents)\\\n",
    "                .transform(ctx.algorithms.generic.centrality.Degree())\\\n",
    "                .execute(ctx.algorithms.generic.NodeList(*cols)) \\\n",
    "                .to_df([\"name\"] + cols)"
   ]
  },
  {
   "cell_type": "code",
   "execution_count": null,
   "id": "04410753-14f1-4004-bda3-bf9034629f4c",
   "metadata": {
    "pycharm": {
     "name": "#%%\n"
    }
   },
   "outputs": [],
   "source": [
    "df_chained.drop(columns=['window'], inplace=True)\n",
    "df_chained['degree_numeric'] = df_chained['degree'].astype(float)\n",
    "df_chained.head(10)"
   ]
  },
  {
   "cell_type": "markdown",
   "id": "ad1d0a0e-1ed4-468a-b60e-1b657e0550db",
   "metadata": {
    "pycharm": {
     "name": "#%% md\n"
    },
    "tags": []
   },
   "source": [
    "## Create visualisation by adding nodes 🔎"
   ]
  },
  {
   "cell_type": "code",
   "execution_count": null,
   "id": "a00922aa-91e1-49d1-a8eb-b36e49cc504b",
   "metadata": {
    "pycharm": {
     "name": "#%%\n"
    },
    "tags": []
   },
   "outputs": [],
   "source": [
    "def visualise(graph, df_chained):\n",
    "    # Create network object\n",
    "    net = Network(notebook=True, height='750px', width='100%', bgcolor='#222222', font_color='white')\n",
    "    # Set visualisation tool\n",
    "    net.force_atlas_2based()\n",
    "    # Get the node list \n",
    "    df_node_list = graph.at(32674) \\\n",
    "                .past() \\\n",
    "                .execute(ctx.algorithms.generic.NodeList()) \\\n",
    "                .to_df(['name'])\n",
    "    \n",
    "    nodes = df_node_list['name'].tolist()\n",
    "    \n",
    "    node_data = []\n",
    "    ignore_items = ['timestamp', 'name', 'window']\n",
    "    for node_name in nodes:\n",
    "        for i, row in df_chained.iterrows():\n",
    "            if row['name']==node_name:\n",
    "                data = ''\n",
    "                for k,v in row.iteritems():\n",
    "                    if k not in ignore_items:\n",
    "                        data = data+str(k)+': '+str(v)+'\\n'\n",
    "                node_data.append(data)\n",
    "                continue\n",
    "    # Add the nodes\n",
    "    net.add_nodes(nodes, title=node_data, value = df_chained.prlabel)\n",
    "    # Get the edge list\n",
    "    df_edge_list = graph.at(32674) \\\n",
    "                .past() \\\n",
    "                .execute(ctx.algorithms.generic.EdgeList()) \\\n",
    "                .to_df(['from', 'to'])\n",
    "    edges = []\n",
    "    for i, row in df_edge_list[['from', 'to']].iterrows():\n",
    "        edges.append([row['from'], row['to']])\n",
    "    # Add the edges\n",
    "    net.add_edges(edges)\n",
    "    # Toggle physics\n",
    "    net.toggle_physics(True)\n",
    "    return net"
   ]
  },
  {
   "cell_type": "code",
   "execution_count": null,
   "id": "ff09c0bd-8344-481a-9d95-4b91b464f047",
   "metadata": {
    "pycharm": {
     "name": "#%%\n"
    },
    "scrolled": true,
    "tags": []
   },
   "outputs": [],
   "source": [
    "net = visualise(graph, df_chained)"
   ]
  },
  {
   "cell_type": "markdown",
   "id": "8f50bc59",
   "metadata": {
    "pycharm": {
     "name": "#%% md\n"
    }
   },
   "source": [
    "**Show the html file of the visualisation**"
   ]
  },
  {
   "cell_type": "code",
   "execution_count": null,
   "id": "a0602b9f-4915-4215-9f56-fa340a658efe",
   "metadata": {
    "pycharm": {
     "name": "#%%\n"
    }
   },
   "outputs": [],
   "source": [
    "%%html\n",
    "net.show('preview.html')"
   ]
  },
  {
   "cell_type": "markdown",
   "id": "d6c36abf",
   "metadata": {
    "pycharm": {
     "name": "#%% md\n"
    }
   },
   "source": [
    "## Shut down PyRaphtory  🛑"
   ]
  },
  {
   "cell_type": "code",
   "execution_count": null,
   "id": "dc5c2c1f",
   "metadata": {
    "collapsed": false,
    "jupyter": {
     "outputs_hidden": false
    },
    "pycharm": {
     "name": "#%%\n"
    }
   },
   "outputs": [],
   "source": [
    "ctx.close()"
   ]
  }
 ],
 "metadata": {
  "kernelspec": {
   "display_name": "Python 3 (ipykernel)",
   "language": "python",
   "name": "python3"
  },
  "language_info": {
   "codemirror_mode": {
    "name": "ipython",
    "version": 3
   },
   "file_extension": ".py",
   "mimetype": "text/x-python",
   "name": "python",
   "nbconvert_exporter": "python",
   "pygments_lexer": "ipython3",
   "version": "3.9.13"
  },
  "vscode": {
   "interpreter": {
    "hash": "6a6883e53c22eb800f1dd2764e6034b0092229ebd36154d4214f8abf0f6aadd2"
   }
  }
 },
 "nbformat": 4,
 "nbformat_minor": 5
}