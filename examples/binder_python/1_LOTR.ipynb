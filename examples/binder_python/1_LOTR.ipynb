{
 "cells": [
  {
   "cell_type": "markdown",
   "metadata": {
    "pycharm": {
     "name": "#%% md\n"
    }
   },
   "source": [
    "# Lord Of The Rings PyRaphtory Example Notebook 🧝🏻‍♀️🧙🏻‍♂️💍"
   ]
  },
  {
   "cell_type": "markdown",
   "metadata": {
    "pycharm": {
     "name": "#%% md\n"
    }
   },
   "source": [
    "## Setup environment and download data 💾"
   ]
  },
  {
   "cell_type": "markdown",
   "metadata": {
    "pycharm": {
     "name": "#%% md\n"
    }
   },
   "source": [
    "Import all necessary dependencies needed to build a graph from your data in PyRaphtory. Download csv data from github into your tmp folder (file path: /tmp/lotr.csv)."
   ]
  },
  {
   "cell_type": "code",
   "execution_count": null,
   "metadata": {
    "pycharm": {
     "name": "#%%\n"
    }
   },
   "outputs": [],
   "source": [
    "pip install pyvis matplotlib"
   ]
  },
  {
   "cell_type": "code",
   "execution_count": null,
   "metadata": {
    "collapsed": false,
    "jupyter": {
     "outputs_hidden": false
    },
    "pycharm": {
     "name": "#%%\n"
    }
   },
   "outputs": [],
   "source": [
    "from pathlib import Path\n",
    "from pyraphtory.context import PyRaphtory\n",
    "from pyraphtory.vertex import Vertex\n",
    "from pyraphtory.spouts import FileSpout\n",
    "from pyraphtory.input import *\n",
    "from pyvis.network import Network\n",
    "import csv\n",
    "import pandas as pd\n",
    "import numpy as np\n",
    "\n",
    "!curl -o /tmp/lotr.csv https://raw.githubusercontent.com/Raphtory/Data/main/lotr.csv"
   ]
  },
  {
   "cell_type": "markdown",
   "metadata": {
    "pycharm": {
     "name": "#%% md\n"
    }
   },
   "source": [
    "## Preview data  👀"
   ]
  },
  {
   "cell_type": "code",
   "execution_count": null,
   "metadata": {
    "pycharm": {
     "name": "#%%\n"
    },
    "scrolled": true
   },
   "outputs": [],
   "source": [
    "!head /tmp/lotr.csv"
   ]
  },
  {
   "cell_type": "code",
   "execution_count": null,
   "metadata": {
    "pycharm": {
     "name": "#%%\n"
    }
   },
   "outputs": [],
   "source": [
    "filename = '/tmp/lotr.csv'"
   ]
  },
  {
   "cell_type": "markdown",
   "metadata": {
    "pycharm": {
     "name": "#%% md\n"
    }
   },
   "source": [
    "## Create a new Raphtory graph 📊"
   ]
  },
  {
   "cell_type": "markdown",
   "metadata": {
    "pycharm": {
     "name": "#%% md\n"
    }
   },
   "source": [
    "We Initialise Raphtory by creating a PyRaphtory object, and we create your new graph. We can turn on logs to see what is going on in PyRaphtory."
   ]
  },
  {
   "cell_type": "code",
   "execution_count": null,
   "metadata": {
    "collapsed": false,
    "jupyter": {
     "outputs_hidden": false
    },
    "pycharm": {
     "name": "#%%\n"
    }
   },
   "outputs": [],
   "source": [
    "ctx = PyRaphtory.local()\n",
    "graph = ctx.new_graph()"
   ]
  },
  {
   "cell_type": "markdown",
   "metadata": {
    "pycharm": {
     "name": "#%% md\n"
    }
   },
   "source": [
    "## Ingest the data into a graph 😋"
   ]
  },
  {
   "cell_type": "markdown",
   "metadata": {
    "pycharm": {
     "name": "#%% md\n"
    }
   },
   "source": [
    "We use a parsing method to parse the csv file and add the vertices and edges to the PyRaphtory graph."
   ]
  },
  {
   "cell_type": "code",
   "execution_count": null,
   "metadata": {
    "pycharm": {
     "name": "#%%\n"
    }
   },
   "outputs": [],
   "source": [
    "graph = ctx.new_graph()\n",
    "with open(filename, 'r') as csvfile:\n",
    "    datareader = csv.reader(csvfile)\n",
    "    for row in datareader:\n",
    "\n",
    "        source_node = row[0]\n",
    "        destination_node = row[1]\n",
    "        timestamp = int(row[2])\n",
    "        \n",
    "        graph.add_vertex(timestamp, source_node, vertex_type=\"Character\")\n",
    "        graph.add_vertex(timestamp, destination_node, vertex_type=\"Character\")  \n",
    "        graph.add_edge(timestamp, source_node, destination_node, edge_type=\"Character_Co-occurence\")"
   ]
  },
  {
   "cell_type": "markdown",
   "metadata": {
    "pycharm": {
     "name": "#%% md\n"
    }
   },
   "source": [
    "## Collect simple metrics 📈"
   ]
  },
  {
   "cell_type": "markdown",
   "metadata": {
    "pycharm": {
     "name": "#%% md\n"
    }
   },
   "source": [
    "Our data has been ingested by the graph object. We can now select certain attributes and metrics to display, for instance vertex name, degree, out degree and in degree. \\\n",
    "We can compute these metrics temporally. To do so,\n",
    "1. the first step is to create temporal slices of the graph, also called **graph perspectives**. For instance, `.range(start, end, step)` filters the data from `start` to `end`, and splits it into slices of duration `step`. More functions such as `from`,`until`, `at`, `depart`, are presented in the [documentation of the DeplotedTemporalGraph object](https://docs.raphtory.com/en/master/_static/com/raphtory/api/analysis/graphview/DeployedTemporalGraph.html).\n",
    "2. the second step is to specify which direction we are looking in at each time point (or **snapshot**) `t`. For instance `.past()` aggregate all older data until `t`, `.future()` aggregate all data starting from `t`. We can also use the function `.window()`, also presented in the [documentation of the DottedGraph object](https://docs.raphtory.com/en/master/_static/com/raphtory/api/analysis/graphview/DottedGraph.html). \n",
    "\n",
    "We can then specify which metrics we are interested in, and choose the names of the output columns."
   ]
  },
  {
   "cell_type": "code",
   "execution_count": null,
   "metadata": {
    "pycharm": {
     "name": "#%%\n"
    }
   },
   "outputs": [],
   "source": [
    "df = graph \\\n",
    "      .range(1, 32674, 1000) \\\n",
    "      .past()  \\\n",
    "      .step(lambda vertex: vertex.set_state(\"name\",vertex.name()))\\\n",
    "      .step(lambda vertex: vertex.set_state(\"degree\", vertex.degree()))\\\n",
    "      .step(lambda vertex: vertex.set_state(\"out_degree\", vertex.out_degree()))\\\n",
    "      .step(lambda vertex: vertex.set_state(\"in_degree\", vertex.in_degree())) \\\n",
    "      .select(\"name\", \"degree\", \"out_degree\", \"in_degree\")\\\n",
    "      .to_df()"
   ]
  },
  {
   "cell_type": "code",
   "execution_count": null,
   "metadata": {
    "pycharm": {
     "name": "#%%\n"
    }
   },
   "outputs": [],
   "source": [
    "df.head(5)"
   ]
  },
  {
   "cell_type": "markdown",
   "metadata": {
    "pycharm": {
     "name": "#%% md\n"
    }
   },
   "source": [
    "**Get simple insights from the data 👀**"
   ]
  },
  {
   "cell_type": "code",
   "execution_count": null,
   "metadata": {
    "pycharm": {
     "name": "#%%\n"
    }
   },
   "outputs": [],
   "source": [
    "print('# timetamps:', len(df.timestamp.unique()))\n",
    "print('# characters:', len(df.name.unique()))"
   ]
  },
  {
   "cell_type": "code",
   "execution_count": null,
   "metadata": {
    "pycharm": {
     "name": "#%%\n"
    }
   },
   "outputs": [],
   "source": [
    "df \\\n",
    ".groupby('timestamp') \\\n",
    ".agg({'name': 'count'}) \\\n",
    ".reset_index() \\\n",
    ".rename(columns={'name': 'nb_characters'}) \\\n",
    ".plot(x='timestamp', y='nb_characters', kind='scatter', title='# characters co-mentioned at least once until time t')"
   ]
  },
  {
   "cell_type": "markdown",
   "metadata": {
    "pycharm": {
     "name": "#%% md\n"
    }
   },
   "source": [
    "**Suppose we are interested in the top 5 highest degree characters.** Because the dataframe contains the degree of each character up to each time point, we can simply look at the max degree of each character across all times."
   ]
  },
  {
   "cell_type": "code",
   "execution_count": null,
   "metadata": {
    "pycharm": {
     "name": "#%%\n"
    }
   },
   "outputs": [],
   "source": [
    "df \\\n",
    ".groupby('name') \\\n",
    ".agg({'degree': 'max'}) \\\n",
    ".reset_index() \\\n",
    ".sort_values(['degree'], ascending=False)[:5]"
   ]
  },
  {
   "cell_type": "markdown",
   "metadata": {
    "pycharm": {
     "name": "#%% md\n"
    }
   },
   "source": [
    "**Alternatively**, we can aggregate all temporal interactions from the start, and compute the degrees on the resulting graph."
   ]
  },
  {
   "cell_type": "code",
   "execution_count": null,
   "metadata": {
    "pycharm": {
     "name": "#%%\n"
    }
   },
   "outputs": [],
   "source": [
    "df = graph \\\n",
    "    .at(32674) \\\n",
    "    .past() \\\n",
    "    .step(lambda vertex: vertex.set_state(\"name\",vertex.name()))\\\n",
    "    .step(lambda vertex: vertex.set_state(\"degree\",vertex.degree()))\\\n",
    "    .step(lambda vertex: vertex.set_state(\"out_degree\", vertex.out_degree()))\\\n",
    "    .step(lambda vertex: vertex.set_state(\"in_degree\", vertex.in_degree()))\\\n",
    "    .select(\"name\", \"degree\", \"out_degree\", \"in_degree\")\\\n",
    "    .to_df()"
   ]
  },
  {
   "cell_type": "markdown",
   "metadata": {
    "pycharm": {
     "name": "#%% md\n"
    }
   },
   "source": [
    "Note that **the resulting dataframe only has one timestamp**: the final time 32674."
   ]
  },
  {
   "cell_type": "code",
   "execution_count": null,
   "metadata": {
    "pycharm": {
     "name": "#%%\n"
    }
   },
   "outputs": [],
   "source": [
    "df.head(5)"
   ]
  },
  {
   "cell_type": "code",
   "execution_count": null,
   "metadata": {
    "pycharm": {
     "name": "#%%\n"
    }
   },
   "outputs": [],
   "source": [
    "df.sort_values(['degree'], ascending=False)[:10]"
   ]
  },
  {
   "cell_type": "markdown",
   "metadata": {
    "pycharm": {
     "name": "#%% md\n"
    }
   },
   "source": [
    "## Run a PageRank algorithm 📑"
   ]
  },
  {
   "cell_type": "markdown",
   "metadata": {
    "pycharm": {
     "name": "#%% md\n"
    }
   },
   "source": [
    "We can run any selected algorithm on our graph data, here we run PageRank. \n",
    "- Take the graph.\n",
    "- The `transform` function applies a given algorithm to the graph, and returns the graph updated with the states that the algorithm generated. Here we apply a generic algorithm `pr.algorithms.generic.centrality.PageRank()` (PageRank) so the `transform` returns the graph where each node has now an extra attribute which is its Pagerank score.\n",
    "- The `execute` function applies an algorithm (same as `transform`) AND returns the results in a tabular format (graph --> table). Here we apply the `NodeList` algorithm: it outputs one row per vertex in the graph contacted by the names in `cols`.\n",
    "- We ask Raphtory to output the results in a dataframe `to_df`. \n",
    "\n",
    "Both functions `transform` and `execute` are explained further in the [documentation](https://docs.raphtory.com/en/master/_static/com/raphtory/api/analysis/graphview/MultilayerGraphView.html)."
   ]
  },
  {
   "cell_type": "code",
   "execution_count": null,
   "metadata": {
    "pycharm": {
     "name": "#%%\n"
    }
   },
   "outputs": [],
   "source": [
    "df_pagerank = graph.at(32674) \\\n",
    "                .past() \\\n",
    "                .execute(ctx.algorithms.generic.centrality.PageRank()) \\\n",
    "                .to_df()"
   ]
  },
  {
   "cell_type": "markdown",
   "metadata": {
    "pycharm": {
     "name": "#%% md\n"
    }
   },
   "source": [
    "**Note: Here we run PageRank on the aggregated graph but we could, of course, have run it similarly on temporal slices as explained above.**"
   ]
  },
  {
   "cell_type": "code",
   "execution_count": null,
   "metadata": {
    "pycharm": {
     "name": "#%%\n"
    }
   },
   "outputs": [],
   "source": [
    "df_pagerank.head(5)"
   ]
  },
  {
   "cell_type": "markdown",
   "metadata": {
    "pycharm": {
     "name": "#%% md\n"
    }
   },
   "source": [
    "**The top ten most ranked characters**"
   ]
  },
  {
   "cell_type": "code",
   "execution_count": null,
   "metadata": {
    "pycharm": {
     "name": "#%%\n"
    }
   },
   "outputs": [],
   "source": [
    "df_pagerank.sort_values(['prlabel'], ascending=False)[:10]"
   ]
  },
  {
   "cell_type": "markdown",
   "metadata": {
    "pycharm": {
     "name": "#%% md\n"
    }
   },
   "source": [
    "## Run a connected components algorithm "
   ]
  },
  {
   "cell_type": "markdown",
   "metadata": {
    "pycharm": {
     "name": "#%% md\n"
    }
   },
   "source": [
    "Similarly we can look for the connected components of the graph."
   ]
  },
  {
   "cell_type": "code",
   "execution_count": null,
   "metadata": {
    "collapsed": false,
    "jupyter": {
     "outputs_hidden": false
    },
    "pycharm": {
     "name": "#%%\n"
    }
   },
   "outputs": [],
   "source": [
    "df_cc = graph.at(32674) \\\n",
    "            .past() \\\n",
    "            .execute(ctx.algorithms.generic.ConnectedComponents)\\\n",
    "            .to_df()"
   ]
  },
  {
   "cell_type": "markdown",
   "metadata": {
    "pycharm": {
     "name": "#%% md\n"
    }
   },
   "source": [
    "**Preview dataframe.**"
   ]
  },
  {
   "cell_type": "code",
   "execution_count": null,
   "metadata": {
    "pycharm": {
     "name": "#%%\n"
    }
   },
   "outputs": [],
   "source": [
    "df_cc.head(5)"
   ]
  },
  {
   "cell_type": "markdown",
   "metadata": {
    "pycharm": {
     "name": "#%% md\n"
    }
   },
   "source": [
    "**Number of distinct components**"
   ]
  },
  {
   "cell_type": "code",
   "execution_count": null,
   "metadata": {
    "pycharm": {
     "name": "#%%\n"
    }
   },
   "outputs": [],
   "source": [
    "print('# distinct components:', len(set(df_cc['cclabel'])))"
   ]
  },
  {
   "cell_type": "markdown",
   "metadata": {
    "pycharm": {
     "name": "#%% md\n"
    }
   },
   "source": [
    "**Calculate the size of the 3 connected components.**"
   ]
  },
  {
   "cell_type": "code",
   "execution_count": null,
   "metadata": {
    "pycharm": {
     "name": "#%%\n"
    }
   },
   "outputs": [],
   "source": [
    "df_cc \\\n",
    ".groupby(['cclabel']) \\\n",
    ".count() \\\n",
    ".reset_index() \\\n",
    ".rename(columns={'name': 'size'}) \\\n",
    ".drop(columns=['timestamp'])"
   ]
  },
  {
   "cell_type": "markdown",
   "metadata": {
    "pycharm": {
     "name": "#%% md\n"
    }
   },
   "source": [
    "## Run chained algorithms at once "
   ]
  },
  {
   "cell_type": "markdown",
   "metadata": {
    "pycharm": {
     "name": "#%% md\n"
    }
   },
   "source": [
    "We can also chain PageRank, Connected Components and Degree algorithms, running them one after another on the graph. Specify all the columns in the output dataframe, including an output column for each algorithm in the chain. `cols` dictates the particular order in which we want to output the result columns."
   ]
  },
  {
   "cell_type": "code",
   "execution_count": null,
   "metadata": {
    "pycharm": {
     "name": "#%%\n"
    }
   },
   "outputs": [],
   "source": [
    "df_chained = graph.at(32674) \\\n",
    "                .past() \\\n",
    "                .transform(ctx.algorithms.generic.centrality.PageRank())\\\n",
    "                .transform(ctx.algorithms.generic.ConnectedComponents)\\\n",
    "                .transform(ctx.algorithms.generic.centrality.Degree())\\\n",
    "                .select(\"name\",\"prlabel\", \"cclabel\",\"inDegree\", \"outDegree\", \"degree\")\\\n",
    "                .to_df()"
   ]
  },
  {
   "cell_type": "code",
   "execution_count": null,
   "metadata": {
    "pycharm": {
     "name": "#%%\n"
    }
   },
   "outputs": [],
   "source": [
    "df_chained['degree_numeric'] = df_chained['degree'].astype(float)\n",
    "df_chained.head(10)"
   ]
  },
  {
   "cell_type": "markdown",
   "metadata": {
    "pycharm": {
     "name": "#%% md\n"
    },
    "tags": []
   },
   "source": [
    "## Create visualisation by adding nodes 🔎"
   ]
  },
  {
   "cell_type": "code",
   "execution_count": null,
   "metadata": {
    "pycharm": {
     "name": "#%%\n"
    },
    "tags": []
   },
   "outputs": [],
   "source": [
    "def visualise(graph, df_chained):\n",
    "    # Create network object\n",
    "    net = Network(notebook=True, height='750px', width='100%', bgcolor='#222222', font_color='white')\n",
    "    # Set visualisation tool\n",
    "    net.force_atlas_2based()\n",
    "    # Get the node list \n",
    "    df_node_list = graph.at(32674) \\\n",
    "                .past() \\\n",
    "                .step(lambda v: v.set_state(\"name\", v.name())) \\\n",
    "                .select(\"name\") \\\n",
    "                .to_df()\n",
    "    \n",
    "    nodes = df_node_list['name'].tolist()\n",
    "    \n",
    "    node_data = []\n",
    "    ignore_items = ['timestamp', 'name', 'window']\n",
    "    for node_name in nodes:\n",
    "        for i, row in df_chained.iterrows():\n",
    "            if row['name']==node_name:\n",
    "                data = ''\n",
    "                for k,v in row.iteritems():\n",
    "                    if k not in ignore_items:\n",
    "                        data = data+str(k)+': '+str(v)+'\\n'\n",
    "                node_data.append(data)\n",
    "                continue\n",
    "    # Add the nodes\n",
    "    net.add_nodes(nodes, title=node_data, value = df_chained.prlabel)\n",
    "    # Get the edge list\n",
    "    df_edge_list = graph.at(32674) \\\n",
    "                .past() \\\n",
    "                .execute(ctx.algorithms.generic.EdgeList()) \\\n",
    "                .to_df()\n",
    "    edges = []\n",
    "    for i, row in df_edge_list[['name', 'neighbourName']].iterrows():\n",
    "        edges.append([row['name'], row['neighbourName']])\n",
    "    # Add the edges\n",
    "    net.add_edges(edges)\n",
    "    # Toggle physics\n",
    "    net.toggle_physics(True)\n",
    "    return net"
   ]
  },
  {
   "cell_type": "code",
   "execution_count": null,
   "metadata": {
    "pycharm": {
     "name": "#%%\n"
    },
    "scrolled": true,
    "tags": []
   },
   "outputs": [],
   "source": [
    "net = visualise(graph, df_chained)"
   ]
  },
  {
   "cell_type": "markdown",
   "metadata": {
    "pycharm": {
     "name": "#%% md\n"
    }
   },
   "source": [
    "**Show the html file of the visualisation**"
   ]
  },
  {
   "cell_type": "code",
   "execution_count": null,
   "metadata": {
    "pycharm": {
     "name": "#%%\n"
    }
   },
   "outputs": [],
   "source": [
    "%%html\n",
    "net.show('preview.html')"
   ]
  },
  {
   "cell_type": "markdown",
   "metadata": {
    "pycharm": {
     "name": "#%% md\n"
    }
   },
   "source": [
    "## Shut down PyRaphtory  🛑"
   ]
  },
  {
   "cell_type": "code",
   "execution_count": null,
   "metadata": {
    "collapsed": false,
    "jupyter": {
     "outputs_hidden": false
    },
    "pycharm": {
     "name": "#%%\n"
    }
   },
   "outputs": [],
   "source": [
    "ctx.close()"
   ]
  }
 ],
 "metadata": {
  "kernelspec": {
   "display_name": "Python 3.9.13 ('test_env3')",
   "language": "python",
   "name": "python3"
  },
  "language_info": {
   "codemirror_mode": {
    "name": "ipython",
    "version": 3
   },
   "file_extension": ".py",
   "mimetype": "text/x-python",
   "name": "python",
   "nbconvert_exporter": "python",
   "pygments_lexer": "ipython3",
   "version": "3.9.13"
  },
  "vscode": {
   "interpreter": {
    "hash": "e11e0a15d5c837c080eee6e017ec874d4001c1c2c374a63a378684a07dfa69f6"
   }
  }
 },
 "nbformat": 4,
 "nbformat_minor": 5
}
