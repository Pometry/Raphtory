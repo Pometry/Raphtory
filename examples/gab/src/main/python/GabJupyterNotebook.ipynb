{
 "cells": [
  {
   "cell_type": "code",
   "execution_count": 1,
   "id": "e83c9c69",
   "metadata": {},
   "outputs": [],
   "source": [
    "pip install raphtory-client"
   ]
  },
  {
   "cell_type": "code",
   "execution_count": 2,
   "id": "0d4e4191",
   "metadata": {},
   "outputs": [],
   "source": [
    "import networkx as nx\n",
    "from raphtoryclient import client\n",
    "from pymotif import Motif\n",
    "import pandas as pd"
   ]
  },
  {
   "cell_type": "code",
   "execution_count": 3,
   "id": "b0acb57f",
   "metadata": {},
   "outputs": [],
   "source": [
    "raphtoryClient = client()"
   ]
  },
  {
   "cell_type": "code",
   "execution_count": 4,
   "id": "ebae3081",
   "metadata": {},
   "outputs": [],
   "source": [
    "edgeListReader = raphtoryClient.createReader(\"EdgeList\", subscription_name='edgelist_reader')\n",
    "ccReader = raphtoryClient.createReader(\"Gab\", subscription_name='cc_reader')"
   ]
  },
  {
   "cell_type": "code",
   "execution_count": 5,
   "id": "9d92cd0b",
   "metadata": {},
   "outputs": [],
   "source": [
    "df_cc = raphtoryClient.getDataframe(ccReader)\n",
    "df_edge = raphtoryClient.getDataframe(edgeListReader)"
   ]
  },
  {
   "cell_type": "code",
   "execution_count": 7,
   "id": "a0d96496",
   "metadata": {},
   "outputs": [],
   "source": [
    "df_edge = raphtoryClient.getDataframe(edgeListReader)"
   ]
  },
  {
   "cell_type": "code",
   "execution_count": 8,
   "id": "ee186467",
   "metadata": {},
   "outputs": [],
   "source": [
    "df_cc"
   ]
  },
  {
   "cell_type": "code",
   "execution_count": 10,
   "id": "11f0afe8",
   "metadata": {},
   "outputs": [],
   "source": [
    "pandaDataframe = df_cc.rename({'result_0': 'pulsar_timestamp', 'result_1': 'window', 'result_2': 'vertex_id', 'result_3':'connected_components_score'}, axis=1)\n",
    "pandaDataframe"
   ]
  }
 ],
 "metadata": {
  "kernelspec": {
   "display_name": "Python 3 (ipykernel)",
   "language": "python",
   "name": "python3"
  },
  "language_info": {
   "codemirror_mode": {
    "name": "ipython",
    "version": 3
   },
   "file_extension": ".py",
   "mimetype": "text/x-python",
   "name": "python",
   "nbconvert_exporter": "python",
   "pygments_lexer": "ipython3",
   "version": "3.9.10"
  }
 },
 "nbformat": 4,
 "nbformat_minor": 5
}
