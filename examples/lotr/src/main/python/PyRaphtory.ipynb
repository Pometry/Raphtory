{
 "cells": [
  {
   "cell_type": "code",
   "execution_count": 1,
   "id": "03305472",
   "metadata": {
    "pycharm": {
     "name": "#%%\n"
    }
   },
   "outputs": [
    {
     "name": "stdout",
     "output_type": "stream",
     "text": [
      "  % Total    % Received % Xferd  Average Speed   Time    Time     Time  Current\n",
      "                                 Dload  Upload   Total   Spent    Left  Speed\n",
      "100 52206  100 52206    0     0   305k      0 --:--:-- --:--:-- --:--:--  324k\n"
     ]
    }
   ],
   "source": [
    "from pathlib import Path\n",
    "from pyraphtory.context import PyRaphtory\n",
    "from pyraphtory.vertex import Vertex\n",
    "from pyraphtory.steps import Iterate, Step\n",
    "!curl -o /tmp/lotr.csv https://raw.githubusercontent.com/Raphtory/Data/main/lotr.csv"
   ]
  },
  {
   "cell_type": "code",
   "execution_count": 2,
   "id": "fc8e2c68",
   "metadata": {
    "pycharm": {
     "name": "#%%\n"
    }
   },
   "outputs": [
    {
     "name": "stdout",
     "output_type": "stream",
     "text": [
      "b'WARNING: sun.reflect.Reflection.getCallerClass is not supported. This will impact performance.\\n'\n",
      "b'11:00:51.363 [io-compute-8] DEBUG com.raphtory.internals.management.python.PythonGraphBuilder - Started PythonGraphBuilder\\n'\n",
      "b'11:00:52.512 [io-compute-8] DEBUG com.raphtory.utils.FileUtils$ - Found single file /tmp/lotr.csv matching criteria.\\n'\n",
      "b\"11:00:52.512 [io-compute-8] TRACE com.raphtory.utils.FileUtils$ - Creating temp folder '/tmp/raphtory-file-spout/-1138922406029505894'.\\n\"\n",
      "b\"11:00:52.513 [io-compute-8] DEBUG com.raphtory.utils.FileUtils$ - Temporary directory '/tmp/raphtory-file-spout/-1138922406029505894' successfully created.\\n\"\n",
      "b\"11:00:52.514 [io-compute-8] DEBUG com.raphtory.spouts.FileSpout - Spout: Found a new file '/lotr.csv' to process.\\n\"\n",
      "b\"11:00:52.514 [io-compute-8] TRACE com.raphtory.utils.FileUtils$ - Creating temp folder '/tmp/raphtory-file-spout/-1138922406029505894'.\\n\"\n",
      "b\"11:00:52.514 [io-compute-8] TRACE com.raphtory.utils.FileUtils$ - Temporary directory '/tmp/raphtory-file-spout/-1138922406029505894' already exists.\\n\"\n",
      "b\"11:00:52.515 [io-compute-8] DEBUG com.raphtory.spouts.FileSpout - Spout: Attempting to hard link file '/tmp/lotr.csv' -> '/tmp/raphtory-file-spout/-1138922406029505894/lotr.csv'.\\n\"\n",
      "b\"11:00:52.516 [io-compute-8] INFO  com.raphtory.spouts.FileSpout - Spout: Processing file 'lotr.csv' ...\\n\"\n",
      "b'11:00:52.687 [io-compute-8] ERROR com.raphtory.internals.management.Prometheus$ - Failed to start Prometheus on port 9999\\n'\n",
      "b'11:00:52.706 [io-compute-8] INFO  com.raphtory.internals.management.Prometheus$ - Prometheus started on port /0:0:0:0:0:0:0:0:52155\\n'\n",
      "b'11:00:53.716 [spawner-akka.actor.default-dispatcher-3] INFO  akka.event.slf4j.Slf4jLogger - Slf4jLogger started\\n'\n",
      "b'11:00:54.052 [io-compute-5] DEBUG com.raphtory.internals.components.querymanager.QueryManager - Starting Query Manager Consumer.\\n'\n",
      "b'11:00:54.052 [io-compute-8] DEBUG com.raphtory.internals.components.Component$ - Started run() fiber for class com.raphtory.internals.components.querymanager.QueryManager with name [query-manager]\\n'\n",
      "b'11:00:54.062 [io-compute-8] DEBUG com.raphtory.internals.components.Component$ - Started listener.start() fiber for class com.raphtory.internals.components.querymanager.QueryManager with name [query-manager]\\n'\n",
      "b\"11:00:54.074 [io-compute-8] INFO  com.raphtory.internals.management.PartitionsManager$ - Creating '1' Partition Managers for raphtory_898935175.\\n\"\n",
      "b'11:00:54.075 [spawner-akka.actor.internal-dispatcher-2] DEBUG akka.actor.typed.internal.receptionist.LocalReceptionist - Actor was registered: ServiceKey[[B](submissions-raphtory_898935175) Actor[akka://spawner/user/raphtory_898935175-query-manager#1020524741]\\n'\n",
      "b'11:00:54.080 [spawner-akka.actor.internal-dispatcher-2] DEBUG akka.actor.typed.internal.receptionist.LocalReceptionist - Actor was registered: ServiceKey[[B](watermark-raphtory_898935175) Actor[akka://spawner/user/raphtory_898935175-query-manager#1020524741]\\n'\n",
      "b'11:00:54.080 [spawner-akka.actor.internal-dispatcher-2] DEBUG akka.actor.typed.internal.receptionist.LocalReceptionist - Actor was registered: ServiceKey[[B](completed.queries-raphtory_898935175) Actor[akka://spawner/user/raphtory_898935175-query-manager#1020524741]\\n'\n",
      "b\"11:00:54.125 [io-compute-8] DEBUG com.raphtory.internals.storage.pojograph.PojoBasedPartition - Config indicates that the data contains 'delete' events. To change this modify 'raphtory.data.containsDeletions' in the application conf.\\n\"\n",
      "b'11:00:54.151 [io-compute-2] DEBUG com.raphtory.internals.components.partition.Reader - Partition 0: Starting Reader Consumer.\\n'\n",
      "b'11:00:54.152 [io-compute-2] TRACE com.raphtory.internals.components.partition.Reader - Scheduled watermarker to recheck time in 1 second.\\n'\n",
      "b'11:00:54.152 [io-compute-8] DEBUG com.raphtory.internals.components.Component$ - Started run() fiber for class com.raphtory.internals.components.partition.Reader with name [reader-0]\\n'\n",
      "b'11:00:54.156 [io-compute-8] DEBUG com.raphtory.internals.components.Component$ - Started listener.start() fiber for class com.raphtory.internals.components.partition.Reader with name [reader-0]\\n'\n",
      "b'11:00:54.157 [spawner-akka.actor.internal-dispatcher-2] DEBUG akka.actor.typed.internal.receptionist.LocalReceptionist - Actor was registered: ServiceKey[[B](query.prep-raphtory_898935175) Actor[akka://spawner/user/raphtory_898935175-reader-0#-590192760]\\n'\n",
      "b'11:00:54.216 [ForkJoinPool.commonPool-worker-5] DEBUG com.raphtory.internals.management.python.UnsafeGraphBuilder - Started UnsafeGraphBuilder\\n'\n",
      "b'11:00:54.220 [ForkJoinPool.commonPool-worker-5] DEBUG com.raphtory.internals.management.python.UnsafeGraphBuilder - Registered proxy in Python\\n'\n",
      "b'11:00:54.220 [io-compute-8] DEBUG com.raphtory.internals.management.python.UnsafeGraphBuilder - Started UnsafeGraphBuilder\\n'\n",
      "b'11:00:54.223 [io-compute-8] DEBUG com.raphtory.internals.management.python.UnsafeGraphBuilder - Registered proxy in Python\\n'\n",
      "b'11:00:54.223 [io-compute-8] DEBUG com.raphtory.internals.components.Component$ - Started run() fiber for class com.raphtory.internals.components.partition.LocalBatchHandler with name [local-batch-handler]\\n'\n",
      "b'11:00:54.224 [io-compute-8] DEBUG com.raphtory.internals.components.Component$ - Started listener.start() fiber for class com.raphtory.internals.components.partition.LocalBatchHandler with name [local-batch-handler]\\n'\n",
      "b'11:00:54.227 [io-compute-5] TRACE com.raphtory.internals.management.python.UnsafeGraphBuilder - Parsing tuple: Gandalf,Elrond,33 with index 1\\n'\n",
      "b\"Trace:  __getattr__ called for com.raphtory.internals.management.python.UnsafeGraphBuilder@5df256fc with 'add_vertex'\\n\"\n",
      "b\"11:00:54.239 [ForkJoinPool.commonPool-worker-5] TRACE com.raphtory.internals.management.PythonInterop$ - __getattr__ called for com.raphtory.internals.management.python.UnsafeGraphBuilder@5df256fc with 'add_vertex'\\n\"\n",
      "b'Trace:  Getting methods for com.raphtory.internals.management.python.UnsafeGraphBuilder@5df256fc\\n'\n",
      "b'11:00:54.239 [ForkJoinPool.commonPool-worker-5] TRACE com.raphtory.internals.management.PythonInterop$ - Getting methods for com.raphtory.internals.management.python.UnsafeGraphBuilder@5df256fc\\n'\n",
      "b\"Trace:  Retrieved name 'com.raphtory.internals.management.python.UnsafeGraphBuilder' from java object\\n\"\n",
      "b\"11:00:54.240 [ForkJoinPool.commonPool-worker-5] TRACE com.raphtory.internals.management.PythonInterop$ - Retrieved name 'com.raphtory.internals.management.python.UnsafeGraphBuilder' from java object\\n\"\n",
      "b\"Trace:  Return name 'com.raphtory.internals.management.python.UnsafeGraphBuilder'\\n\"\n",
      "b\"11:00:54.241 [ForkJoinPool.commonPool-worker-5] TRACE com.raphtory.internals.management.PythonInterop$ - Return name 'com.raphtory.internals.management.python.UnsafeGraphBuilder'\\n\"\n",
      "b\"Trace:  Finding methods for 'com.raphtory.internals.management.python.UnsafeGraphBuilder'\\n\"\n",
      "b\"11:00:54.241 [ForkJoinPool.commonPool-worker-5] TRACE com.raphtory.internals.management.PythonInterop$ - Finding methods for 'com.raphtory.internals.management.python.UnsafeGraphBuilder'\\n\"\n",
      "b\"11:00:54.241 [ForkJoinPool.commonPool-worker-5] TRACE com.raphtory.internals.management.PythonInterop$ - Scala 'methods' called with com.raphtory.internals.management.python.UnsafeGraphBuilder\\n\"\n",
      "b'11:00:54.255 [ForkJoinPool.commonPool-worker-5] TRACE com.raphtory.internals.management.PythonInterop$ - Returning found methods for com.raphtory.internals.management.python.UnsafeGraphBuilder\\n'\n",
      "b'11:00:54.260 [io-compute-8] INFO  com.raphtory.internals.management.Py4JServer - Starting PythonGatewayServer...\\n'\n",
      "b'11:00:54.263 [io-compute-8] INFO  com.raphtory.internals.management.Py4JServer - Started PythonGatewayServer on port 52156 host: localhost/127.0.0.1\\n'\n",
      "b\"Trace:  Methods for 'com.raphtory.internals.management.python.UnsafeGraphBuilder' added to cache\\n\"\n",
      "b\"11:00:54.264 [ForkJoinPool.commonPool-worker-5] TRACE com.raphtory.internals.management.PythonInterop$ - Methods for 'com.raphtory.internals.management.python.UnsafeGraphBuilder' added to cache\\n\"\n",
      "b'Trace:  Retreiving cached methods for com.raphtory.internals.management.python.UnsafeGraphBuilder@5df256fc\\n'\n",
      "b'11:00:54.264 [ForkJoinPool.commonPool-worker-5] TRACE com.raphtory.internals.management.PythonInterop$ - Retreiving cached methods for com.raphtory.internals.management.python.UnsafeGraphBuilder@5df256fc\\n'\n",
      "b'Trace:  trying to construct com.raphtory.api.input.ImmutableProperty\\n'\n",
      "b'11:00:54.266 [ForkJoinPool.commonPool-worker-5] TRACE com.raphtory.internals.management.PythonInterop$ - trying to construct com.raphtory.api.input.ImmutableProperty\\n'\n",
      "b'Trace:  Classname is now com.raphtory.api.input.ImmutableProperty\\n'\n",
      "b'11:00:54.267 [ForkJoinPool.commonPool-worker-5] TRACE com.raphtory.internals.management.PythonInterop$ - Classname is now com.raphtory.api.input.ImmutableProperty\\n'\n",
      "b'Trace:  found class com.raphtory.api.input.ImmutableProperty\\n'\n",
      "b'11:00:54.267 [ForkJoinPool.commonPool-worker-5] TRACE com.raphtory.internals.management.PythonInterop$ - found class com.raphtory.api.input.ImmutableProperty\\n'\n",
      "b\"Trace:  __getattr__ called for <pemja.PyJClass object at 0x12d2d1eb0> with 'apply'\\n\"\n",
      "b\"11:00:54.267 [ForkJoinPool.commonPool-worker-5] TRACE com.raphtory.internals.management.PythonInterop$ - __getattr__ called for <pemja.PyJClass object at 0x12d2d1eb0> with 'apply'\\n\"\n",
      "b'Trace:  Getting methods for class com.raphtory.api.input.ImmutableProperty\\n'\n",
      "b'11:00:54.268 [ForkJoinPool.commonPool-worker-5] TRACE com.raphtory.internals.management.PythonInterop$ - Getting methods for class com.raphtory.api.input.ImmutableProperty\\n'\n",
      "b\"Trace:  Return name 'com.raphtory.api.input.ImmutableProperty'\\n\"\n",
      "b\"11:00:54.268 [ForkJoinPool.commonPool-worker-5] TRACE com.raphtory.internals.management.PythonInterop$ - Return name 'com.raphtory.api.input.ImmutableProperty'\\n\"\n",
      "b\"Trace:  Finding methods for 'com.raphtory.api.input.ImmutableProperty'\\n\"\n",
      "b\"11:00:54.268 [ForkJoinPool.commonPool-worker-5] TRACE com.raphtory.internals.management.PythonInterop$ - Finding methods for 'com.raphtory.api.input.ImmutableProperty'\\n\"\n",
      "b\"11:00:54.268 [ForkJoinPool.commonPool-worker-5] TRACE com.raphtory.internals.management.PythonInterop$ - Scala 'methods' called with com.raphtory.api.input.ImmutableProperty\\n\"\n",
      "b'11:00:54.270 [ForkJoinPool.commonPool-worker-5] TRACE com.raphtory.internals.management.PythonInterop$ - Returning found methods for com.raphtory.api.input.ImmutableProperty\\n'\n",
      "b\"Trace:  Methods for 'com.raphtory.api.input.ImmutableProperty' added to cache\\n\"\n",
      "b\"11:00:54.270 [ForkJoinPool.commonPool-worker-5] TRACE com.raphtory.internals.management.PythonInterop$ - Methods for 'com.raphtory.api.input.ImmutableProperty' added to cache\\n\"\n",
      "b'Trace:  Retreiving cached methods for <pemja.PyJClass object at 0x12d2d1eb0>\\n'\n",
      "b'11:00:54.270 [ForkJoinPool.commonPool-worker-5] TRACE com.raphtory.internals.management.PythonInterop$ - Retreiving cached methods for <pemja.PyJClass object at 0x12d2d1eb0>\\n'\n",
      "b\"Trace:  Converting value 'name', primitive value returned unchanged\\n\"\n",
      "b\"11:00:54.270 [ForkJoinPool.commonPool-worker-5] TRACE com.raphtory.internals.management.PythonInterop$ - Converting value 'name', primitive value returned unchanged\\n\"\n",
      "b\"Trace:  Converting value 'Gandalf', primitive value returned unchanged\\n\"\n",
      "b\"11:00:54.270 [ForkJoinPool.commonPool-worker-5] TRACE com.raphtory.internals.management.PythonInterop$ - Converting value 'Gandalf', primitive value returned unchanged\\n\"\n",
      "b\"Trace:  Trying to call method apply with arguments args=['name', 'Gandalf'] and kwargs={}\\n\"\n",
      "b\"11:00:54.270 [ForkJoinPool.commonPool-worker-5] TRACE com.raphtory.internals.management.PythonInterop$ - Trying to call method apply with arguments args=['name', 'Gandalf'] and kwargs={}\\n\"\n",
      "b\"Trace:  Parmeters for candidate are ('key', 'value')\\n\"\n",
      "b\"11:00:54.270 [ForkJoinPool.commonPool-worker-5] TRACE com.raphtory.internals.management.PythonInterop$ - Parmeters for candidate are ('key', 'value')\\n\"\n",
      "b'Trace:  Defaults for candidate are Map()\\n'\n",
      "b'11:00:54.272 [ForkJoinPool.commonPool-worker-5] TRACE com.raphtory.internals.management.PythonInterop$ - Defaults for candidate are Map()\\n'\n",
      "b'Trace:  Number of parameters for candidate is 2\\n'\n",
      "b'11:00:54.272 [ForkJoinPool.commonPool-worker-5] TRACE com.raphtory.internals.management.PythonInterop$ - Number of parameters for candidate is 2\\n'\n",
      "b\"Trace:  Retrieving wrapper for 'com.raphtory.api.input.ImmutableProperty'\\n\"\n",
      "b\"11:00:54.272 [ForkJoinPool.commonPool-worker-5] TRACE com.raphtory.internals.management.PythonInterop$ - Retrieving wrapper for 'com.raphtory.api.input.ImmutableProperty'\\n\"\n",
      "b\"Trace:  Found wrapper for 'com.raphtory.api.input.ImmutableProperty' based on class name\\n\"\n",
      "b'11:00:54.272 [io-compute-8] INFO  com.raphtory.internals.management.Py4JServer - Writing PythonGatewayServer details to file...\\n'\n",
      "b\"11:00:54.273 [ForkJoinPool.commonPool-worker-5] TRACE com.raphtory.internals.management.PythonInterop$ - Found wrapper for 'com.raphtory.api.input.ImmutableProperty' based on class name\\n\"\n",
      "b\"Trace:  Wrapper is <class 'pyraphtory.builder.ImmutableProperty'>\\n\"\n",
      "b\"11:00:54.273 [ForkJoinPool.commonPool-worker-5] TRACE com.raphtory.internals.management.PythonInterop$ - Wrapper is <class 'pyraphtory.builder.ImmutableProperty'>\\n\"\n",
      "b'Trace:  Converting value ImmutableProperty(name,Gandalf), decoding proxy object\\n'\n",
      "b'11:00:54.273 [ForkJoinPool.commonPool-worker-5] TRACE com.raphtory.internals.management.PythonInterop$ - Converting value ImmutableProperty(name,Gandalf), decoding proxy object\\n'\n",
      "b'Trace:  trying to construct com.raphtory.api.input.Properties\\n'\n",
      "b'11:00:54.273 [ForkJoinPool.commonPool-worker-5] TRACE com.raphtory.internals.management.PythonInterop$ - trying to construct com.raphtory.api.input.Properties\\n'\n",
      "b'Trace:  Classname is now com.raphtory.api.input.Properties\\n'\n",
      "b'11:00:54.274 [ForkJoinPool.commonPool-worker-5] TRACE com.raphtory.internals.management.PythonInterop$ - Classname is now com.raphtory.api.input.Properties\\n'\n",
      "b'Trace:  found class com.raphtory.api.input.Properties\\n'\n",
      "b'11:00:54.274 [ForkJoinPool.commonPool-worker-5] TRACE com.raphtory.internals.management.PythonInterop$ - found class com.raphtory.api.input.Properties\\n'\n",
      "b\"Trace:  __getattr__ called for <pemja.PyJClass object at 0x12d2d3af0> with 'apply'\\n\"\n",
      "b\"11:00:54.274 [ForkJoinPool.commonPool-worker-5] TRACE com.raphtory.internals.management.PythonInterop$ - __getattr__ called for <pemja.PyJClass object at 0x12d2d3af0> with 'apply'\\n\"\n",
      "b'Trace:  Getting methods for class com.raphtory.api.input.Properties\\n'\n",
      "b'11:00:54.274 [ForkJoinPool.commonPool-worker-5] TRACE com.raphtory.internals.management.PythonInterop$ - Getting methods for class com.raphtory.api.input.Properties\\n'\n",
      "b\"Trace:  Return name 'com.raphtory.api.input.Properties'\\n\"\n",
      "b\"11:00:54.274 [ForkJoinPool.commonPool-worker-5] TRACE com.raphtory.internals.management.PythonInterop$ - Return name 'com.raphtory.api.input.Properties'\\n\"\n",
      "b\"Trace:  Finding methods for 'com.raphtory.api.input.Properties'\\n\"\n",
      "b\"11:00:54.274 [ForkJoinPool.commonPool-worker-5] TRACE com.raphtory.internals.management.PythonInterop$ - Finding methods for 'com.raphtory.api.input.Properties'\\n\"\n",
      "b\"11:00:54.275 [ForkJoinPool.commonPool-worker-5] TRACE com.raphtory.internals.management.PythonInterop$ - Scala 'methods' called with com.raphtory.api.input.Properties\\n\"\n",
      "b'11:00:54.275 [io-compute-8] INFO  com.raphtory.internals.management.Py4JServer - PythonGatewayServer secret - 9c3d506d77083105718ed10d1cb5d01f3bb6a9a27ed56f8fc1904d393db8de2e\\n'\n"
     ]
    }
   ],
   "source": [
    "pr = PyRaphtory(spout_input=Path('/tmp/lotr.csv'), builder_script=Path('builder.py'),  builder_class='LotrGraphBuilder', mode='batch', logging=True).open()\n",
    "rg = pr.graph()"
   ]
  },
  {
   "cell_type": "code",
   "execution_count": 3,
   "id": "e06a31d1",
   "metadata": {
    "pycharm": {
     "name": "#%%\n"
    }
   },
   "outputs": [
    {
     "name": "stdout",
     "output_type": "stream",
     "text": [
      "Trace:  __getattr__ called for com.raphtory.api.analysis.graphview.DeployedTemporalGraph@521f91d6 with 'at'\n",
      "Trace:  Getting methods for com.raphtory.api.analysis.graphview.DeployedTemporalGraph@521f91d6\n",
      "Trace:  Retrieved name 'com.raphtory.api.analysis.graphview.DeployedTemporalGraph' from java object\n",
      "Trace:  Return name 'com.raphtory.api.analysis.graphview.DeployedTemporalGraph'\n",
      "Trace:  Finding methods for 'com.raphtory.api.analysis.graphview.DeployedTemporalGraph'\n",
      "Trace:  Methods for 'com.raphtory.api.analysis.graphview.DeployedTemporalGraph' added to cache\n",
      "Trace:  Retreiving cached methods for com.raphtory.api.analysis.graphview.DeployedTemporalGraph@521f91d6\n",
      "Trace:  Converting value 32674, primitive value returned unchanged\n",
      "Trace:  Trying to call method at with arguments args=[32674] and kwargs={}\n",
      "Trace:  Parmeters for candidate are [Ljava.lang.String;@1a2d6bc9\n",
      "Trace:  Defaults for candidate are Map()\n",
      "Trace:  Number of parameters for candidate is 1\n",
      "Trace:  Retrieving wrapper for 'com.raphtory.api.analysis.graphview.DottedGraph'\n",
      "Trace:  Wrapper name is 'None'\n",
      "Trace:  Wrapper is <class 'pyraphtory.proxy.GenericScalaProxy'>\n",
      "Trace:  __getattr__ called for com.raphtory.api.analysis.graphview.DottedGraph@4e63734 with 'past'\n",
      "Trace:  Getting methods for com.raphtory.api.analysis.graphview.DottedGraph@4e63734\n",
      "Trace:  Retrieved name 'com.raphtory.api.analysis.graphview.DottedGraph' from java object\n",
      "Trace:  Return name 'com.raphtory.api.analysis.graphview.DottedGraph'\n",
      "Trace:  Finding methods for 'com.raphtory.api.analysis.graphview.DottedGraph'\n",
      "Trace:  Methods for 'com.raphtory.api.analysis.graphview.DottedGraph' added to cache\n",
      "Trace:  Retreiving cached methods for com.raphtory.api.analysis.graphview.DottedGraph@4e63734\n",
      "Trace:  Trying to call method past with arguments args=[] and kwargs={}\n",
      "Trace:  Parmeters for candidate are [Ljava.lang.String;@76155099\n",
      "Trace:  Defaults for candidate are Map()\n",
      "Trace:  Number of parameters for candidate is 0\n",
      "Trace:  Retrieving wrapper for 'com.raphtory.api.analysis.graphview.RaphtoryGraph'\n",
      "Trace:  Wrapper name is 'TemporalGraph'\n",
      "Trace:  Wrapper is <class 'pyraphtory.graph.TemporalGraph'>\n",
      "Trace:  __getattr__ called for com.raphtory.api.analysis.graphview.RaphtoryGraph@dc04319 with 'transform'\n",
      "Trace:  Getting methods for com.raphtory.api.analysis.graphview.RaphtoryGraph@dc04319\n",
      "Trace:  Retrieved name 'com.raphtory.api.analysis.graphview.RaphtoryGraph' from java object\n",
      "Trace:  Return name 'com.raphtory.api.analysis.graphview.RaphtoryGraph'\n",
      "Trace:  Finding methods for 'com.raphtory.api.analysis.graphview.RaphtoryGraph'\n",
      "Trace:  Methods for 'com.raphtory.api.analysis.graphview.RaphtoryGraph' added to cache\n",
      "Trace:  Retreiving cached methods for com.raphtory.api.analysis.graphview.RaphtoryGraph@dc04319\n",
      "Trace:  Converting value JavaObject id=o58, already PyJObject\n",
      "Trace:  Trying to call method transform with arguments args=[JavaObject id=o60] and kwargs={}\n",
      "Trace:  Parmeters for candidate are [Ljava.lang.String;@2a0fb715\n",
      "Trace:  Defaults for candidate are Map()\n",
      "Trace:  Number of parameters for candidate is 1\n",
      "Trace:  Retrieving wrapper for 'com.raphtory.api.analysis.graphview.RaphtoryGraph'\n",
      "Trace:  Wrapper name is 'TemporalGraph'\n",
      "Trace:  Wrapper is <class 'pyraphtory.graph.TemporalGraph'>\n",
      "Trace:  __getattr__ called for com.raphtory.api.analysis.graphview.RaphtoryGraph@14dbdc3c with 'transform'\n",
      "Trace:  Getting methods for com.raphtory.api.analysis.graphview.RaphtoryGraph@14dbdc3c\n",
      "Trace:  Retrieved name 'com.raphtory.api.analysis.graphview.RaphtoryGraph' from java object\n",
      "Trace:  Return name 'com.raphtory.api.analysis.graphview.RaphtoryGraph'\n",
      "Trace:  Retreiving cached methods for 'com.raphtory.api.analysis.graphview.RaphtoryGraph'\n",
      "Trace:  Retreiving cached methods for com.raphtory.api.analysis.graphview.RaphtoryGraph@14dbdc3c\n",
      "Trace:  Converting value JavaObject id=o81, already PyJObject\n",
      "Trace:  Trying to call method transform with arguments args=[JavaObject id=o83] and kwargs={}\n",
      "Trace:  Parmeters for candidate are [Ljava.lang.String;@2a0fb715\n",
      "Trace:  Defaults for candidate are Map()\n",
      "Trace:  Number of parameters for candidate is 1\n",
      "Trace:  Retrieving wrapper for 'com.raphtory.api.analysis.graphview.RaphtoryGraph'\n",
      "Trace:  Wrapper name is 'TemporalGraph'\n",
      "Trace:  Wrapper is <class 'pyraphtory.graph.TemporalGraph'>\n",
      "Trace:  __getattr__ called for com.raphtory.api.analysis.graphview.RaphtoryGraph@67508298 with 'transform'\n",
      "Trace:  Getting methods for com.raphtory.api.analysis.graphview.RaphtoryGraph@67508298\n",
      "Trace:  Retrieved name 'com.raphtory.api.analysis.graphview.RaphtoryGraph' from java object\n",
      "Trace:  Return name 'com.raphtory.api.analysis.graphview.RaphtoryGraph'\n",
      "Trace:  Retreiving cached methods for 'com.raphtory.api.analysis.graphview.RaphtoryGraph'\n",
      "Trace:  Retreiving cached methods for com.raphtory.api.analysis.graphview.RaphtoryGraph@67508298\n",
      "Trace:  Converting value JavaObject id=o104, already PyJObject\n",
      "Trace:  Trying to call method transform with arguments args=[JavaObject id=o106] and kwargs={}\n",
      "Trace:  Parmeters for candidate are [Ljava.lang.String;@2a0fb715\n",
      "Trace:  Defaults for candidate are Map()\n",
      "Trace:  Number of parameters for candidate is 1\n",
      "Trace:  Retrieving wrapper for 'com.raphtory.api.analysis.graphview.RaphtoryGraph'\n",
      "Trace:  Wrapper name is 'TemporalGraph'\n",
      "Trace:  Wrapper is <class 'pyraphtory.graph.TemporalGraph'>\n",
      "Trace:  __getattr__ called for com.raphtory.api.analysis.graphview.RaphtoryGraph@a491620 with 'transform'\n",
      "Trace:  Getting methods for com.raphtory.api.analysis.graphview.RaphtoryGraph@a491620\n",
      "Trace:  Retrieved name 'com.raphtory.api.analysis.graphview.RaphtoryGraph' from java object\n",
      "Trace:  Return name 'com.raphtory.api.analysis.graphview.RaphtoryGraph'\n",
      "Trace:  Retreiving cached methods for 'com.raphtory.api.analysis.graphview.RaphtoryGraph'\n",
      "Trace:  Retreiving cached methods for com.raphtory.api.analysis.graphview.RaphtoryGraph@a491620\n",
      "Trace:  Converting value JavaObject id=o128, already PyJObject\n",
      "Trace:  Trying to call method transform with arguments args=[JavaObject id=o130] and kwargs={}\n",
      "Trace:  Parmeters for candidate are [Ljava.lang.String;@2a0fb715\n",
      "Trace:  Defaults for candidate are Map()\n",
      "Trace:  Number of parameters for candidate is 1\n",
      "Trace:  Retrieving wrapper for 'com.raphtory.api.analysis.graphview.RaphtoryGraph'\n",
      "Trace:  Wrapper name is 'TemporalGraph'\n",
      "Trace:  Wrapper is <class 'pyraphtory.graph.TemporalGraph'>\n",
      "Trace:  __getattr__ called for com.raphtory.api.analysis.graphview.RaphtoryGraph@44d195f5 with 'transform'\n",
      "Trace:  Getting methods for com.raphtory.api.analysis.graphview.RaphtoryGraph@44d195f5\n",
      "Trace:  Retrieved name 'com.raphtory.api.analysis.graphview.RaphtoryGraph' from java object\n",
      "Trace:  Return name 'com.raphtory.api.analysis.graphview.RaphtoryGraph'\n",
      "Trace:  Retreiving cached methods for 'com.raphtory.api.analysis.graphview.RaphtoryGraph'\n",
      "Trace:  Retreiving cached methods for com.raphtory.api.analysis.graphview.RaphtoryGraph@44d195f5\n",
      "Trace:  Converting value JavaObject id=o151, already PyJObject\n",
      "Trace:  Trying to call method transform with arguments args=[JavaObject id=o153] and kwargs={}\n",
      "Trace:  Parmeters for candidate are [Ljava.lang.String;@2a0fb715\n",
      "Trace:  Defaults for candidate are Map()\n",
      "Trace:  Number of parameters for candidate is 1\n",
      "Trace:  Retrieving wrapper for 'com.raphtory.api.analysis.graphview.RaphtoryGraph'\n",
      "Trace:  Wrapper name is 'TemporalGraph'\n",
      "Trace:  Wrapper is <class 'pyraphtory.graph.TemporalGraph'>\n",
      "Trace:  select called\n",
      "Trace:  __getattr__ called for com.raphtory.api.analysis.graphview.RaphtoryGraph@7fb8cfc3 with 'python_select'\n",
      "Trace:  Getting methods for com.raphtory.api.analysis.graphview.RaphtoryGraph@7fb8cfc3\n",
      "Trace:  Retrieved name 'com.raphtory.api.analysis.graphview.RaphtoryGraph' from java object\n",
      "Trace:  Return name 'com.raphtory.api.analysis.graphview.RaphtoryGraph'\n",
      "Trace:  Retreiving cached methods for 'com.raphtory.api.analysis.graphview.RaphtoryGraph'\n",
      "Trace:  Retreiving cached methods for com.raphtory.api.analysis.graphview.RaphtoryGraph@7fb8cfc3\n",
      "Trace:  Converting value ['inDegree', 'outDegree', 'degree', 'triangleCount', 'prlabel', 'cclabel', 'twoHopPaths'], decoding as Iterable\n",
      "Trace:  Converting value 'inDegree', primitive value returned unchanged\n",
      "Trace:  Converting value 'outDegree', primitive value returned unchanged\n",
      "Trace:  Converting value 'degree', primitive value returned unchanged\n",
      "Trace:  Converting value 'triangleCount', primitive value returned unchanged\n",
      "Trace:  Converting value 'prlabel', primitive value returned unchanged\n",
      "Trace:  Converting value 'cclabel', primitive value returned unchanged\n",
      "Trace:  Converting value 'twoHopPaths', primitive value returned unchanged\n",
      "Trace:  Trying to call method python_select with arguments args=[JavaObject id=o184] and kwargs={}\n",
      "Trace:  Parmeters for candidate are [Ljava.lang.String;@3a98277a\n",
      "Trace:  Defaults for candidate are Map()\n",
      "Trace:  Number of parameters for candidate is 1\n",
      "Trace:  Retrieving wrapper for 'com.raphtory.api.analysis.table.TableImplementation'\n",
      "Trace:  Wrapper name is 'Table'\n",
      "Trace:  Wrapper is <class 'pyraphtory.graph.Table'>\n",
      "Trace:  __getattr__ called for com.raphtory.api.analysis.table.TableImplementation@35cb2ab0 with 'write_to'\n",
      "Trace:  Getting methods for com.raphtory.api.analysis.table.TableImplementation@35cb2ab0\n",
      "Trace:  Retrieved name 'com.raphtory.api.analysis.table.TableImplementation' from java object\n",
      "Trace:  Return name 'com.raphtory.api.analysis.table.TableImplementation'\n",
      "Trace:  Finding methods for 'com.raphtory.api.analysis.table.TableImplementation'\n",
      "Trace:  Methods for 'com.raphtory.api.analysis.table.TableImplementation' added to cache\n",
      "Trace:  Retreiving cached methods for com.raphtory.api.analysis.table.TableImplementation@35cb2ab0\n",
      "Trace:  Converting value JavaObject id=o2, already PyJObject\n",
      "Trace:  Trying to call method write_to with arguments args=[JavaObject id=o208] and kwargs={}\n",
      "Trace:  Parmeters for candidate are [Ljava.lang.String;@45b755a\n",
      "Trace:  Defaults for candidate are Map()\n",
      "Trace:  Number of parameters for candidate is 2\n",
      "Trace:  Call failed with exception Missing value for parameter job_name\n",
      "Trace:  Parmeters for candidate are [Ljava.lang.String;@11cd298a\n",
      "Trace:  Defaults for candidate are Map()\n",
      "Trace:  Number of parameters for candidate is 1\n"
     ]
    },
    {
     "name": "stdout",
     "output_type": "stream",
     "text": [
      "Trace:  Retrieving wrapper for 'com.raphtory.api.querytracker.QueryProgressTracker'\n",
      "Trace:  Found wrapper for 'com.raphtory.api.querytracker.QueryProgressTracker' based on class name\n",
      "Trace:  Wrapper is <class 'pyraphtory.graph.ProgressTracker'>\n",
      "Trace:  __getattr__ called for com.raphtory.api.querytracker.QueryProgressTracker@4ceb69d9 with 'wait_for_job'\n",
      "Trace:  Getting methods for com.raphtory.api.querytracker.QueryProgressTracker@4ceb69d9\n",
      "Trace:  Return name 'com.raphtory.api.querytracker.QueryProgressTracker'\n",
      "Trace:  Finding methods for 'com.raphtory.api.querytracker.QueryProgressTracker'\n",
      "Trace:  Methods for 'com.raphtory.api.querytracker.QueryProgressTracker' added to cache\n",
      "Trace:  Retreiving cached methods for com.raphtory.api.querytracker.QueryProgressTracker@4ceb69d9\n",
      "Trace:  Trying to call method wait_for_job with arguments args=[] and kwargs={}\n",
      "Trace:  Parmeters for candidate are [Ljava.lang.String;@1748fe85\n",
      "Trace:  Defaults for candidate are Map(0 -> waitForJob$default$1)\n",
      "Trace:  Number of parameters for candidate is 1\n",
      "Trace:  Primitive object None passed to python unchanged\n"
     ]
    },
    {
     "data": {
      "text/html": [
       "<div>\n",
       "<style scoped>\n",
       "    .dataframe tbody tr th:only-of-type {\n",
       "        vertical-align: middle;\n",
       "    }\n",
       "\n",
       "    .dataframe tbody tr th {\n",
       "        vertical-align: top;\n",
       "    }\n",
       "\n",
       "    .dataframe thead th {\n",
       "        text-align: right;\n",
       "    }\n",
       "</style>\n",
       "<table border=\"1\" class=\"dataframe\">\n",
       "  <thead>\n",
       "    <tr style=\"text-align: right;\">\n",
       "      <th></th>\n",
       "      <th>timestamp</th>\n",
       "      <th>window</th>\n",
       "      <th>name</th>\n",
       "      <th>inDegree</th>\n",
       "      <th>outDegree</th>\n",
       "      <th>degree</th>\n",
       "      <th>triangleCount</th>\n",
       "      <th>prlabel</th>\n",
       "      <th>cclabel</th>\n",
       "      <th>twoHopPaths</th>\n",
       "    </tr>\n",
       "  </thead>\n",
       "  <tbody>\n",
       "    <tr>\n",
       "      <th>0</th>\n",
       "      <td>32674</td>\n",
       "      <td>None</td>\n",
       "      <td>Hirgon</td>\n",
       "      <td>0</td>\n",
       "      <td>2</td>\n",
       "      <td>2</td>\n",
       "      <td>1</td>\n",
       "      <td>0.150000</td>\n",
       "      <td>-8637342647242242534</td>\n",
       "      <td>[[Gandalf, Galadriel], [Gandalf, Peregrin], [G...</td>\n",
       "    </tr>\n",
       "    <tr>\n",
       "      <th>1</th>\n",
       "      <td>32674</td>\n",
       "      <td>None</td>\n",
       "      <td>Hador</td>\n",
       "      <td>2</td>\n",
       "      <td>1</td>\n",
       "      <td>3</td>\n",
       "      <td>3</td>\n",
       "      <td>0.248073</td>\n",
       "      <td>-8637342647242242534</td>\n",
       "      <td>[[Húrin, Elessar], [Húrin, Faramir]]</td>\n",
       "    </tr>\n",
       "    <tr>\n",
       "      <th>2</th>\n",
       "      <td>32674</td>\n",
       "      <td>None</td>\n",
       "      <td>Horn</td>\n",
       "      <td>3</td>\n",
       "      <td>1</td>\n",
       "      <td>4</td>\n",
       "      <td>6</td>\n",
       "      <td>0.281897</td>\n",
       "      <td>-8637342647242242534</td>\n",
       "      <td>NaN</td>\n",
       "    </tr>\n",
       "    <tr>\n",
       "      <th>3</th>\n",
       "      <td>32674</td>\n",
       "      <td>None</td>\n",
       "      <td>Galadriel</td>\n",
       "      <td>16</td>\n",
       "      <td>6</td>\n",
       "      <td>19</td>\n",
       "      <td>93</td>\n",
       "      <td>1.202763</td>\n",
       "      <td>-8637342647242242534</td>\n",
       "      <td>[[Sam, Mablung], [Sam, Peregrin], [Sam, Halfas...</td>\n",
       "    </tr>\n",
       "    <tr>\n",
       "      <th>4</th>\n",
       "      <td>32674</td>\n",
       "      <td>None</td>\n",
       "      <td>Isildur</td>\n",
       "      <td>0</td>\n",
       "      <td>18</td>\n",
       "      <td>18</td>\n",
       "      <td>55</td>\n",
       "      <td>0.150000</td>\n",
       "      <td>-8637342647242242534</td>\n",
       "      <td>[[Frodo, Galadriel], [Frodo, Mablung], [Elrond...</td>\n",
       "    </tr>\n",
       "    <tr>\n",
       "      <th>...</th>\n",
       "      <td>...</td>\n",
       "      <td>...</td>\n",
       "      <td>...</td>\n",
       "      <td>...</td>\n",
       "      <td>...</td>\n",
       "      <td>...</td>\n",
       "      <td>...</td>\n",
       "      <td>...</td>\n",
       "      <td>...</td>\n",
       "      <td>...</td>\n",
       "    </tr>\n",
       "    <tr>\n",
       "      <th>134</th>\n",
       "      <td>32674</td>\n",
       "      <td>None</td>\n",
       "      <td>Faramir</td>\n",
       "      <td>29</td>\n",
       "      <td>3</td>\n",
       "      <td>29</td>\n",
       "      <td>132</td>\n",
       "      <td>4.614496</td>\n",
       "      <td>-8637342647242242534</td>\n",
       "      <td>[[Elrond, Galadriel], [Imrahil, Peregrin], [Im...</td>\n",
       "    </tr>\n",
       "    <tr>\n",
       "      <th>135</th>\n",
       "      <td>32674</td>\n",
       "      <td>None</td>\n",
       "      <td>Bain</td>\n",
       "      <td>1</td>\n",
       "      <td>1</td>\n",
       "      <td>2</td>\n",
       "      <td>1</td>\n",
       "      <td>0.213750</td>\n",
       "      <td>-6628080393138316116</td>\n",
       "      <td>NaN</td>\n",
       "    </tr>\n",
       "    <tr>\n",
       "      <th>136</th>\n",
       "      <td>32674</td>\n",
       "      <td>None</td>\n",
       "      <td>Walda</td>\n",
       "      <td>10</td>\n",
       "      <td>3</td>\n",
       "      <td>13</td>\n",
       "      <td>78</td>\n",
       "      <td>0.440985</td>\n",
       "      <td>-8637342647242242534</td>\n",
       "      <td>[[Folca, Thengel], [Folca, Gram], [Thengel, Gr...</td>\n",
       "    </tr>\n",
       "    <tr>\n",
       "      <th>137</th>\n",
       "      <td>32674</td>\n",
       "      <td>None</td>\n",
       "      <td>Thranduil</td>\n",
       "      <td>2</td>\n",
       "      <td>0</td>\n",
       "      <td>2</td>\n",
       "      <td>1</td>\n",
       "      <td>0.411049</td>\n",
       "      <td>-8637342647242242534</td>\n",
       "      <td>NaN</td>\n",
       "    </tr>\n",
       "    <tr>\n",
       "      <th>138</th>\n",
       "      <td>32674</td>\n",
       "      <td>None</td>\n",
       "      <td>Boromir</td>\n",
       "      <td>17</td>\n",
       "      <td>6</td>\n",
       "      <td>18</td>\n",
       "      <td>103</td>\n",
       "      <td>2.603201</td>\n",
       "      <td>-8637342647242242534</td>\n",
       "      <td>[[Sam, Mablung], [Sam, Galadriel], [Legolas, G...</td>\n",
       "    </tr>\n",
       "  </tbody>\n",
       "</table>\n",
       "<p>139 rows × 10 columns</p>\n",
       "</div>"
      ],
      "text/plain": [
       "     timestamp window       name  inDegree  outDegree  degree  triangleCount  \\\n",
       "0        32674   None     Hirgon         0          2       2              1   \n",
       "1        32674   None      Hador         2          1       3              3   \n",
       "2        32674   None       Horn         3          1       4              6   \n",
       "3        32674   None  Galadriel        16          6      19             93   \n",
       "4        32674   None    Isildur         0         18      18             55   \n",
       "..         ...    ...        ...       ...        ...     ...            ...   \n",
       "134      32674   None    Faramir        29          3      29            132   \n",
       "135      32674   None       Bain         1          1       2              1   \n",
       "136      32674   None      Walda        10          3      13             78   \n",
       "137      32674   None  Thranduil         2          0       2              1   \n",
       "138      32674   None    Boromir        17          6      18            103   \n",
       "\n",
       "      prlabel              cclabel  \\\n",
       "0    0.150000 -8637342647242242534   \n",
       "1    0.248073 -8637342647242242534   \n",
       "2    0.281897 -8637342647242242534   \n",
       "3    1.202763 -8637342647242242534   \n",
       "4    0.150000 -8637342647242242534   \n",
       "..        ...                  ...   \n",
       "134  4.614496 -8637342647242242534   \n",
       "135  0.213750 -6628080393138316116   \n",
       "136  0.440985 -8637342647242242534   \n",
       "137  0.411049 -8637342647242242534   \n",
       "138  2.603201 -8637342647242242534   \n",
       "\n",
       "                                           twoHopPaths  \n",
       "0    [[Gandalf, Galadriel], [Gandalf, Peregrin], [G...  \n",
       "1                 [[Húrin, Elessar], [Húrin, Faramir]]  \n",
       "2                                                  NaN  \n",
       "3    [[Sam, Mablung], [Sam, Peregrin], [Sam, Halfas...  \n",
       "4    [[Frodo, Galadriel], [Frodo, Mablung], [Elrond...  \n",
       "..                                                 ...  \n",
       "134  [[Elrond, Galadriel], [Imrahil, Peregrin], [Im...  \n",
       "135                                                NaN  \n",
       "136  [[Folca, Thengel], [Folca, Gram], [Thengel, Gr...  \n",
       "137                                                NaN  \n",
       "138  [[Sam, Mablung], [Sam, Galadriel], [Legolas, G...  \n",
       "\n",
       "[139 rows x 10 columns]"
      ]
     },
     "execution_count": 3,
     "metadata": {},
     "output_type": "execute_result"
    }
   ],
   "source": [
    "local_sink = pr.local_sink()\n",
    "\n",
    "cols = [\"inDegree\", \"outDegree\", \"degree\",\"triangleCount\",\"prlabel\",\"cclabel\",\"twoHopPaths\"]\n",
    "\n",
    "# g = rg.at(32674)\n",
    "# print(type(g))\n",
    "\n",
    "tracker = rg.at(32674) \\\n",
    "                .past() \\\n",
    "                .transform(pr.page_rank())\\\n",
    "                .transform(pr.connected_components())\\\n",
    "                .transform(pr.degree())\\\n",
    "                .transform(pr.two_hops_path(set([])))\\\n",
    "                .transform(pr.local_triangle_count())\\\n",
    "                .select(cols) \\\n",
    "                .write_to(local_sink)\\\n",
    "                .wait_for_job()\n",
    "\n",
    "\n",
    "pr.results_to_dataframe(local_sink.results(),cols)\n",
    "\n"
   ]
  },
  {
   "cell_type": "code",
   "execution_count": 4,
   "id": "36ac12fa",
   "metadata": {
    "pycharm": {
     "name": "#%%\n"
    }
   },
   "outputs": [],
   "source": [
    "class PGStep(Step):\n",
    "    def eval(self, v: Vertex):\n",
    "        initLabel = 1.0\n",
    "        v[\"prlabel\"] = initLabel\n",
    "        out_degree = v.out_degree()\n",
    "        if out_degree > 0:\n",
    "            msg = initLabel / out_degree\n",
    "            v.message_outgoing_neighbours(msg)\n",
    "\n",
    "class PGIterate(Iterate):\n",
    "    def __init__(self, iterations: int, execute_messaged_only: bool, damping_factor: float = 0.85):\n",
    "        super().__init__(iterations, execute_messaged_only)\n",
    "        self.damping_factor = damping_factor\n",
    "\n",
    "    def eval(self, v: Vertex):\n",
    "        current_label = v[\"prlabel\"]\n",
    "        queue = v.message_queue()\n",
    "        summed_queue = sum(queue)\n",
    "        new_label = (1 - self.damping_factor) + self.damping_factor * summed_queue\n",
    "        v[\"prlabel\"] = new_label\n",
    "\n",
    "        out_degree = v.out_degree()\n",
    "\n",
    "        if out_degree > 0:\n",
    "            v.message_outgoing_neighbours(new_label / out_degree)\n",
    "\n",
    "        if abs(new_label - current_label) < 0.00001:\n",
    "            v.vote_to_halt()"
   ]
  },
  {
   "cell_type": "code",
   "execution_count": 6,
   "id": "53b7fa4f",
   "metadata": {},
   "outputs": [],
   "source": [
    "pr.shutdown()"
   ]
  },
  {
   "cell_type": "code",
   "execution_count": null,
   "id": "29966c4f",
   "metadata": {
    "pycharm": {
     "name": "#%%\n"
    }
   },
   "outputs": [],
   "source": []
  },
  {
   "cell_type": "code",
   "execution_count": null,
   "id": "658cc65e",
   "metadata": {
    "pycharm": {
     "name": "#%%\n"
    }
   },
   "outputs": [],
   "source": []
  },
  {
   "cell_type": "code",
   "execution_count": null,
   "id": "e512f96b",
   "metadata": {
    "pycharm": {
     "name": "#%%\n"
    }
   },
   "outputs": [],
   "source": []
  },
  {
   "cell_type": "code",
   "execution_count": null,
   "id": "30b574b8",
   "metadata": {
    "pycharm": {
     "name": "#%%\n"
    }
   },
   "outputs": [],
   "source": []
  },
  {
   "cell_type": "code",
   "execution_count": null,
   "id": "1bbee200",
   "metadata": {
    "pycharm": {
     "name": "#%%\n"
    }
   },
   "outputs": [],
   "source": []
  },
  {
   "cell_type": "code",
   "execution_count": null,
   "id": "fd0ebe0d",
   "metadata": {
    "pycharm": {
     "name": "#%%\n"
    }
   },
   "outputs": [],
   "source": []
  },
  {
   "cell_type": "code",
   "execution_count": null,
   "id": "58bd293c",
   "metadata": {
    "pycharm": {
     "name": "#%%\n"
    }
   },
   "outputs": [],
   "source": []
  },
  {
   "cell_type": "code",
   "execution_count": null,
   "id": "a027f984",
   "metadata": {
    "pycharm": {
     "name": "#%%\n"
    }
   },
   "outputs": [],
   "source": []
  },
  {
   "cell_type": "code",
   "execution_count": null,
   "id": "42ce7d51",
   "metadata": {
    "pycharm": {
     "name": "#%%\n"
    }
   },
   "outputs": [],
   "source": []
  },
  {
   "cell_type": "code",
   "execution_count": null,
   "id": "a55b6047",
   "metadata": {
    "pycharm": {
     "name": "#%%\n"
    }
   },
   "outputs": [],
   "source": []
  },
  {
   "cell_type": "code",
   "execution_count": null,
   "id": "802c3a39",
   "metadata": {
    "pycharm": {
     "name": "#%%\n"
    }
   },
   "outputs": [],
   "source": []
  },
  {
   "cell_type": "code",
   "execution_count": null,
   "id": "ca5459e5",
   "metadata": {
    "pycharm": {
     "name": "#%%\n"
    }
   },
   "outputs": [],
   "source": []
  },
  {
   "cell_type": "code",
   "execution_count": null,
   "id": "83ff5101",
   "metadata": {
    "pycharm": {
     "name": "#%%\n"
    }
   },
   "outputs": [],
   "source": []
  },
  {
   "cell_type": "code",
   "execution_count": null,
   "id": "34834712",
   "metadata": {
    "pycharm": {
     "name": "#%%\n"
    }
   },
   "outputs": [],
   "source": [
    "\n"
   ]
  },
  {
   "cell_type": "code",
   "execution_count": null,
   "id": "a9d272c3",
   "metadata": {
    "pycharm": {
     "name": "#%%\n"
    }
   },
   "outputs": [],
   "source": []
  },
  {
   "cell_type": "code",
   "execution_count": null,
   "id": "824a7c80",
   "metadata": {
    "pycharm": {
     "name": "#%%\n"
    }
   },
   "outputs": [],
   "source": []
  },
  {
   "cell_type": "code",
   "execution_count": null,
   "id": "9628c893",
   "metadata": {
    "pycharm": {
     "name": "#%%\n"
    }
   },
   "outputs": [],
   "source": [
    "\n"
   ]
  },
  {
   "cell_type": "code",
   "execution_count": null,
   "id": "3950320d",
   "metadata": {
    "pycharm": {
     "name": "#%%\n"
    }
   },
   "outputs": [],
   "source": []
  },
  {
   "cell_type": "code",
   "execution_count": null,
   "id": "d8119331",
   "metadata": {
    "pycharm": {
     "name": "#%%\n"
    }
   },
   "outputs": [],
   "source": []
  },
  {
   "cell_type": "code",
   "execution_count": null,
   "id": "5d12cef1",
   "metadata": {
    "pycharm": {
     "name": "#%%\n"
    }
   },
   "outputs": [],
   "source": []
  },
  {
   "cell_type": "code",
   "execution_count": null,
   "id": "6a1808ff",
   "metadata": {
    "pycharm": {
     "name": "#%%\n"
    }
   },
   "outputs": [],
   "source": []
  },
  {
   "cell_type": "code",
   "execution_count": null,
   "id": "c0daf093",
   "metadata": {
    "pycharm": {
     "name": "#%%\n"
    }
   },
   "outputs": [],
   "source": []
  },
  {
   "cell_type": "code",
   "execution_count": null,
   "id": "c6ef3162",
   "metadata": {
    "pycharm": {
     "name": "#%%\n"
    }
   },
   "outputs": [],
   "source": []
  }
 ],
 "metadata": {
  "kernelspec": {
   "display_name": "Python 3 (ipykernel)",
   "language": "python",
   "name": "python3"
  },
  "language_info": {
   "codemirror_mode": {
    "name": "ipython",
    "version": 3
   },
   "file_extension": ".py",
   "mimetype": "text/x-python",
   "name": "python",
   "nbconvert_exporter": "python",
   "pygments_lexer": "ipython3",
   "version": "3.10.5"
  }
 },
 "nbformat": 4,
 "nbformat_minor": 5
}
