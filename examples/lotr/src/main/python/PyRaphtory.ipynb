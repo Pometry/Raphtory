{
 "cells": [
  {
   "cell_type": "code",
   "execution_count": 1,
   "id": "03305472",
   "metadata": {
    "pycharm": {
     "name": "#%%\n"
    }
   },
   "outputs": [
    {
     "name": "stdout",
     "output_type": "stream",
     "text": [
      "  % Total    % Received % Xferd  Average Speed   Time    Time     Time  Current\r\n",
      "                                 Dload  Upload   Total   Spent    Left  Speed\r\n",
      "\r",
      "  0     0    0     0    0     0      0      0 --:--:-- --:--:-- --:--:--     0\r",
      "100 52206  100 52206    0     0  1644k      0 --:--:-- --:--:-- --:--:-- 1644k\r\n"
     ]
    }
   ],
   "source": [
    "from pathlib import Path\n",
    "from pyraphtory.context import PyRaphtory\n",
    "from pyraphtory.vertex import Vertex\n",
    "from pyraphtory.steps import Iterate, Step\n",
    "!curl -o /tmp/lotr.csv https://raw.githubusercontent.com/Raphtory/Data/main/lotr.csv"
   ]
  },
  {
   "cell_type": "code",
   "execution_count": 2,
   "id": "fc8e2c68",
   "metadata": {
    "pycharm": {
     "name": "#%%\n"
    }
   },
   "outputs": [
    {
     "name": "stdout",
     "output_type": "stream",
     "text": [
      "b'WARNING: sun.reflect.Reflection.getCallerClass is not supported. This will impact performance.\\n'\n",
      "b\"12:21:47.523 [io-compute-1] INFO  com.raphtory.spouts.FileSpout - Spout: Processing file 'lotr.csv' ...\\n\"\n",
      "b'12:21:47.634 [io-compute-1] ERROR com.raphtory.internals.management.Prometheus$ - Failed to start Prometheus on port 9999\\n'\n",
      "b'12:21:47.646 [io-compute-1] INFO  com.raphtory.internals.management.Prometheus$ - Prometheus started on port /0:0:0:0:0:0:0:0:65053\\n'\n",
      "b'12:21:48.546 [spawner-akka.actor.default-dispatcher-3] INFO  akka.event.slf4j.Slf4jLogger - Slf4jLogger started\\n'\n",
      "b\"12:21:48.798 [io-compute-1] INFO  com.raphtory.internals.management.PartitionsManager$ - Creating '1' Partition Managers for raphtory_2024405583.\\n\"\n",
      "b'12:21:48.929 [io-compute-1] INFO  com.raphtory.internals.management.Py4JServer - Starting PythonGatewayServer...\\n'\n",
      "b'12:21:48.931 [io-compute-1] INFO  com.raphtory.internals.management.Py4JServer - Started PythonGatewayServer on port 65054 host: localhost/127.0.0.1\\n'\n",
      "b'12:21:48.936 [io-compute-1] INFO  com.raphtory.internals.management.Py4JServer - Writing PythonGatewayServer details to file...\\n'\n",
      "b'12:21:48.937 [io-compute-1] INFO  com.raphtory.internals.management.Py4JServer - PythonGatewayServer secret - d6c188aeeb294562ea62f0c4a46fbb3f7628db4d0d1719f7286fb7335018b3a6\\n'\n"
     ]
    }
   ],
   "source": [
    "pr = PyRaphtory(spout_input=Path('/tmp/lotr.csv'), builder_script=Path('builder.py'),  builder_class='LotrGraphBuilder', mode='batch', logging=True).open()\n",
    "rg = pr.graph()"
   ]
  },
  {
   "cell_type": "code",
   "execution_count": 3,
   "id": "e06a31d1",
   "metadata": {
    "pycharm": {
     "name": "#%%\n"
    }
   },
   "outputs": [
    {
     "data": {
      "text/html": [
       "<div>\n",
       "<style scoped>\n",
       "    .dataframe tbody tr th:only-of-type {\n",
       "        vertical-align: middle;\n",
       "    }\n",
       "\n",
       "    .dataframe tbody tr th {\n",
       "        vertical-align: top;\n",
       "    }\n",
       "\n",
       "    .dataframe thead th {\n",
       "        text-align: right;\n",
       "    }\n",
       "</style>\n",
       "<table border=\"1\" class=\"dataframe\">\n",
       "  <thead>\n",
       "    <tr style=\"text-align: right;\">\n",
       "      <th></th>\n",
       "      <th>timestamp</th>\n",
       "      <th>window</th>\n",
       "      <th>name</th>\n",
       "      <th>inDegree</th>\n",
       "      <th>outDegree</th>\n",
       "      <th>degree</th>\n",
       "      <th>triangleCount</th>\n",
       "      <th>prlabel</th>\n",
       "      <th>cclabel</th>\n",
       "      <th>twoHopPaths</th>\n",
       "    </tr>\n",
       "  </thead>\n",
       "  <tbody>\n",
       "    <tr>\n",
       "      <th>0</th>\n",
       "      <td>32674</td>\n",
       "      <td>None</td>\n",
       "      <td>Hirgon</td>\n",
       "      <td>0</td>\n",
       "      <td>2</td>\n",
       "      <td>2</td>\n",
       "      <td>1</td>\n",
       "      <td>0.150000</td>\n",
       "      <td>-8637342647242242534</td>\n",
       "      <td>[[Gandalf, Glóin], [Gandalf, Thengel], [Gandal...</td>\n",
       "    </tr>\n",
       "    <tr>\n",
       "      <th>1</th>\n",
       "      <td>32674</td>\n",
       "      <td>None</td>\n",
       "      <td>Hador</td>\n",
       "      <td>2</td>\n",
       "      <td>1</td>\n",
       "      <td>3</td>\n",
       "      <td>3</td>\n",
       "      <td>0.248073</td>\n",
       "      <td>-8637342647242242534</td>\n",
       "      <td>[[Húrin, Elessar], [Húrin, Faramir]]</td>\n",
       "    </tr>\n",
       "    <tr>\n",
       "      <th>2</th>\n",
       "      <td>32674</td>\n",
       "      <td>None</td>\n",
       "      <td>Horn</td>\n",
       "      <td>3</td>\n",
       "      <td>1</td>\n",
       "      <td>4</td>\n",
       "      <td>6</td>\n",
       "      <td>0.281897</td>\n",
       "      <td>-8637342647242242534</td>\n",
       "      <td>NaN</td>\n",
       "    </tr>\n",
       "    <tr>\n",
       "      <th>3</th>\n",
       "      <td>32674</td>\n",
       "      <td>None</td>\n",
       "      <td>Galadriel</td>\n",
       "      <td>16</td>\n",
       "      <td>6</td>\n",
       "      <td>19</td>\n",
       "      <td>93</td>\n",
       "      <td>1.202763</td>\n",
       "      <td>-8637342647242242534</td>\n",
       "      <td>[[Sam, Peregrin], [Sam, Halfast], [Sam, Mablun...</td>\n",
       "    </tr>\n",
       "    <tr>\n",
       "      <th>4</th>\n",
       "      <td>32674</td>\n",
       "      <td>None</td>\n",
       "      <td>Isildur</td>\n",
       "      <td>0</td>\n",
       "      <td>18</td>\n",
       "      <td>18</td>\n",
       "      <td>55</td>\n",
       "      <td>0.150000</td>\n",
       "      <td>-8637342647242242534</td>\n",
       "      <td>[[Gollum, Déagol], [Théoden, Baldor], [Elendil...</td>\n",
       "    </tr>\n",
       "    <tr>\n",
       "      <th>...</th>\n",
       "      <td>...</td>\n",
       "      <td>...</td>\n",
       "      <td>...</td>\n",
       "      <td>...</td>\n",
       "      <td>...</td>\n",
       "      <td>...</td>\n",
       "      <td>...</td>\n",
       "      <td>...</td>\n",
       "      <td>...</td>\n",
       "      <td>...</td>\n",
       "    </tr>\n",
       "    <tr>\n",
       "      <th>134</th>\n",
       "      <td>32674</td>\n",
       "      <td>None</td>\n",
       "      <td>Faramir</td>\n",
       "      <td>29</td>\n",
       "      <td>3</td>\n",
       "      <td>29</td>\n",
       "      <td>132</td>\n",
       "      <td>4.614496</td>\n",
       "      <td>-8637342647242242534</td>\n",
       "      <td>[[Imrahil, Glóin], [Imrahil, Peregrin], [Elron...</td>\n",
       "    </tr>\n",
       "    <tr>\n",
       "      <th>135</th>\n",
       "      <td>32674</td>\n",
       "      <td>None</td>\n",
       "      <td>Bain</td>\n",
       "      <td>1</td>\n",
       "      <td>1</td>\n",
       "      <td>2</td>\n",
       "      <td>1</td>\n",
       "      <td>0.213750</td>\n",
       "      <td>-6628080393138316116</td>\n",
       "      <td>NaN</td>\n",
       "    </tr>\n",
       "    <tr>\n",
       "      <th>136</th>\n",
       "      <td>32674</td>\n",
       "      <td>None</td>\n",
       "      <td>Walda</td>\n",
       "      <td>10</td>\n",
       "      <td>3</td>\n",
       "      <td>13</td>\n",
       "      <td>78</td>\n",
       "      <td>0.440985</td>\n",
       "      <td>-8637342647242242534</td>\n",
       "      <td>[[Folca, Thengel], [Thengel, Gram], [Folca, Gr...</td>\n",
       "    </tr>\n",
       "    <tr>\n",
       "      <th>137</th>\n",
       "      <td>32674</td>\n",
       "      <td>None</td>\n",
       "      <td>Thranduil</td>\n",
       "      <td>2</td>\n",
       "      <td>0</td>\n",
       "      <td>2</td>\n",
       "      <td>1</td>\n",
       "      <td>0.411049</td>\n",
       "      <td>-8637342647242242534</td>\n",
       "      <td>NaN</td>\n",
       "    </tr>\n",
       "    <tr>\n",
       "      <th>138</th>\n",
       "      <td>32674</td>\n",
       "      <td>None</td>\n",
       "      <td>Boromir</td>\n",
       "      <td>17</td>\n",
       "      <td>6</td>\n",
       "      <td>18</td>\n",
       "      <td>103</td>\n",
       "      <td>2.603201</td>\n",
       "      <td>-8637342647242242534</td>\n",
       "      <td>[[Gimli, Gamling], [Legolas, Helm], [Gimli, Gl...</td>\n",
       "    </tr>\n",
       "  </tbody>\n",
       "</table>\n",
       "<p>139 rows × 10 columns</p>\n",
       "</div>"
      ],
      "text/plain": [
       "     timestamp window       name  inDegree  outDegree  degree  triangleCount  \\\n",
       "0        32674   None     Hirgon         0          2       2              1   \n",
       "1        32674   None      Hador         2          1       3              3   \n",
       "2        32674   None       Horn         3          1       4              6   \n",
       "3        32674   None  Galadriel        16          6      19             93   \n",
       "4        32674   None    Isildur         0         18      18             55   \n",
       "..         ...    ...        ...       ...        ...     ...            ...   \n",
       "134      32674   None    Faramir        29          3      29            132   \n",
       "135      32674   None       Bain         1          1       2              1   \n",
       "136      32674   None      Walda        10          3      13             78   \n",
       "137      32674   None  Thranduil         2          0       2              1   \n",
       "138      32674   None    Boromir        17          6      18            103   \n",
       "\n",
       "      prlabel              cclabel  \\\n",
       "0    0.150000 -8637342647242242534   \n",
       "1    0.248073 -8637342647242242534   \n",
       "2    0.281897 -8637342647242242534   \n",
       "3    1.202763 -8637342647242242534   \n",
       "4    0.150000 -8637342647242242534   \n",
       "..        ...                  ...   \n",
       "134  4.614496 -8637342647242242534   \n",
       "135  0.213750 -6628080393138316116   \n",
       "136  0.440985 -8637342647242242534   \n",
       "137  0.411049 -8637342647242242534   \n",
       "138  2.603201 -8637342647242242534   \n",
       "\n",
       "                                           twoHopPaths  \n",
       "0    [[Gandalf, Glóin], [Gandalf, Thengel], [Gandal...  \n",
       "1                 [[Húrin, Elessar], [Húrin, Faramir]]  \n",
       "2                                                  NaN  \n",
       "3    [[Sam, Peregrin], [Sam, Halfast], [Sam, Mablun...  \n",
       "4    [[Gollum, Déagol], [Théoden, Baldor], [Elendil...  \n",
       "..                                                 ...  \n",
       "134  [[Imrahil, Glóin], [Imrahil, Peregrin], [Elron...  \n",
       "135                                                NaN  \n",
       "136  [[Folca, Thengel], [Thengel, Gram], [Folca, Gr...  \n",
       "137                                                NaN  \n",
       "138  [[Gimli, Gamling], [Legolas, Helm], [Gimli, Gl...  \n",
       "\n",
       "[139 rows x 10 columns]"
      ]
     },
     "execution_count": 3,
     "metadata": {},
     "output_type": "execute_result"
    }
   ],
   "source": [
    "local_sink = pr.local_sink()\n",
    "\n",
    "cols = [\"inDegree\", \"outDegree\", \"degree\",\"triangleCount\",\"prlabel\",\"cclabel\",\"twoHopPaths\"]\n",
    "\n",
    "tracker = rg.at(32674) \\\n",
    "                .past() \\\n",
    "                .transform(pr.page_rank())\\\n",
    "                .transform(pr.connected_components())\\\n",
    "                .transform(pr.degree())\\\n",
    "                .transform(pr.two_hops_path(set([])))\\\n",
    "                .transform(pr.local_triangle_count())\\\n",
    "                .select(cols) \\\n",
    "                .write_to(local_sink)\\\n",
    "                .wait_for_job()\n",
    "\n",
    "\n",
    "pr.results_to_dataframe(local_sink.results(),cols)\n",
    "\n"
   ]
  },
  {
   "cell_type": "code",
   "execution_count": null,
   "id": "36ac12fa",
   "metadata": {
    "pycharm": {
     "name": "#%%\n"
    }
   },
   "outputs": [],
   "source": [
    "class PGStep(Step):\n",
    "    def eval(self, v: Vertex):\n",
    "        initLabel = 1.0\n",
    "        v[\"prlabel\"] = initLabel\n",
    "        out_degree = v.out_degree()\n",
    "        if out_degree > 0:\n",
    "            msg = initLabel / out_degree\n",
    "            v.message_outgoing_neighbours(msg)\n",
    "\n",
    "class PGIterate(Iterate):\n",
    "    def __init__(self, iterations: int, execute_messaged_only: bool, damping_factor: float = 0.85):\n",
    "        super().__init__(iterations, execute_messaged_only)\n",
    "        self.damping_factor = damping_factor\n",
    "\n",
    "    def eval(self, v: Vertex):\n",
    "        current_label = v[\"prlabel\"]\n",
    "        queue = v.message_queue()\n",
    "        summed_queue = sum(queue)\n",
    "        new_label = (1 - self.damping_factor) + self.damping_factor * summed_queue\n",
    "        v[\"prlabel\"] = new_label\n",
    "\n",
    "        out_degree = v.out_degree()\n",
    "\n",
    "        if out_degree > 0:\n",
    "            v.message_outgoing_neighbours(new_label / out_degree)\n",
    "\n",
    "        if abs(new_label - current_label) < 0.00001:\n",
    "            v.vote_to_halt()"
   ]
  },
  {
   "cell_type": "code",
   "execution_count": null,
   "id": "53b7fa4f",
   "metadata": {},
   "outputs": [],
   "source": []
  },
  {
   "cell_type": "code",
   "execution_count": null,
   "id": "29966c4f",
   "metadata": {
    "pycharm": {
     "name": "#%%\n"
    }
   },
   "outputs": [],
   "source": []
  },
  {
   "cell_type": "code",
   "execution_count": null,
   "id": "658cc65e",
   "metadata": {
    "pycharm": {
     "name": "#%%\n"
    }
   },
   "outputs": [],
   "source": []
  },
  {
   "cell_type": "code",
   "execution_count": null,
   "id": "e512f96b",
   "metadata": {
    "pycharm": {
     "name": "#%%\n"
    }
   },
   "outputs": [],
   "source": []
  },
  {
   "cell_type": "code",
   "execution_count": null,
   "id": "30b574b8",
   "metadata": {
    "pycharm": {
     "name": "#%%\n"
    }
   },
   "outputs": [],
   "source": []
  },
  {
   "cell_type": "code",
   "execution_count": null,
   "id": "1bbee200",
   "metadata": {
    "pycharm": {
     "name": "#%%\n"
    }
   },
   "outputs": [],
   "source": []
  },
  {
   "cell_type": "code",
   "execution_count": null,
   "id": "fd0ebe0d",
   "metadata": {
    "pycharm": {
     "name": "#%%\n"
    }
   },
   "outputs": [],
   "source": []
  },
  {
   "cell_type": "code",
   "execution_count": null,
   "id": "58bd293c",
   "metadata": {
    "pycharm": {
     "name": "#%%\n"
    }
   },
   "outputs": [],
   "source": []
  },
  {
   "cell_type": "code",
   "execution_count": null,
   "id": "a027f984",
   "metadata": {
    "pycharm": {
     "name": "#%%\n"
    }
   },
   "outputs": [],
   "source": []
  },
  {
   "cell_type": "code",
   "execution_count": null,
   "id": "42ce7d51",
   "metadata": {
    "pycharm": {
     "name": "#%%\n"
    }
   },
   "outputs": [],
   "source": []
  },
  {
   "cell_type": "code",
   "execution_count": null,
   "id": "a55b6047",
   "metadata": {
    "pycharm": {
     "name": "#%%\n"
    }
   },
   "outputs": [],
   "source": []
  },
  {
   "cell_type": "code",
   "execution_count": null,
   "id": "802c3a39",
   "metadata": {
    "pycharm": {
     "name": "#%%\n"
    }
   },
   "outputs": [],
   "source": []
  },
  {
   "cell_type": "code",
   "execution_count": null,
   "id": "ca5459e5",
   "metadata": {
    "pycharm": {
     "name": "#%%\n"
    }
   },
   "outputs": [],
   "source": []
  },
  {
   "cell_type": "code",
   "execution_count": null,
   "id": "83ff5101",
   "metadata": {
    "pycharm": {
     "name": "#%%\n"
    }
   },
   "outputs": [],
   "source": []
  },
  {
   "cell_type": "code",
   "execution_count": null,
   "id": "34834712",
   "metadata": {
    "pycharm": {
     "name": "#%%\n"
    }
   },
   "outputs": [],
   "source": [
    "\n"
   ]
  },
  {
   "cell_type": "code",
   "execution_count": null,
   "id": "a9d272c3",
   "metadata": {
    "pycharm": {
     "name": "#%%\n"
    }
   },
   "outputs": [],
   "source": []
  },
  {
   "cell_type": "code",
   "execution_count": null,
   "id": "824a7c80",
   "metadata": {
    "pycharm": {
     "name": "#%%\n"
    }
   },
   "outputs": [],
   "source": []
  },
  {
   "cell_type": "code",
   "execution_count": null,
   "id": "9628c893",
   "metadata": {
    "pycharm": {
     "name": "#%%\n"
    }
   },
   "outputs": [],
   "source": [
    "\n"
   ]
  },
  {
   "cell_type": "code",
   "execution_count": null,
   "id": "3950320d",
   "metadata": {
    "pycharm": {
     "name": "#%%\n"
    }
   },
   "outputs": [],
   "source": []
  },
  {
   "cell_type": "code",
   "execution_count": null,
   "id": "d8119331",
   "metadata": {
    "pycharm": {
     "name": "#%%\n"
    }
   },
   "outputs": [],
   "source": []
  },
  {
   "cell_type": "code",
   "execution_count": null,
   "id": "5d12cef1",
   "metadata": {
    "pycharm": {
     "name": "#%%\n"
    }
   },
   "outputs": [],
   "source": []
  },
  {
   "cell_type": "code",
   "execution_count": null,
   "id": "6a1808ff",
   "metadata": {
    "pycharm": {
     "name": "#%%\n"
    }
   },
   "outputs": [],
   "source": []
  },
  {
   "cell_type": "code",
   "execution_count": null,
   "id": "c0daf093",
   "metadata": {
    "pycharm": {
     "name": "#%%\n"
    }
   },
   "outputs": [],
   "source": []
  },
  {
   "cell_type": "code",
   "execution_count": null,
   "id": "c6ef3162",
   "metadata": {
    "pycharm": {
     "name": "#%%\n"
    }
   },
   "outputs": [],
   "source": []
  }
 ],
 "metadata": {
  "kernelspec": {
   "display_name": "Python 3 (ipykernel)",
   "language": "python",
   "name": "python3"
  },
  "language_info": {
   "codemirror_mode": {
    "name": "ipython",
    "version": 3
   },
   "file_extension": ".py",
   "mimetype": "text/x-python",
   "name": "python",
   "nbconvert_exporter": "python",
   "pygments_lexer": "ipython3",
   "version": "3.10.5"
  }
 },
 "nbformat": 4,
 "nbformat_minor": 5
}
