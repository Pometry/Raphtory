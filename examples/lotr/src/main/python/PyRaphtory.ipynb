{
 "cells": [
  {
   "cell_type": "code",
   "execution_count": 1,
   "id": "03305472",
   "metadata": {
    "pycharm": {
     "name": "#%%\n"
    }
   },
   "outputs": [
    {
     "name": "stdout",
     "output_type": "stream",
     "text": [
      "  % Total    % Received % Xferd  Average Speed   Time    Time     Time  Current\n",
      "                                 Dload  Upload   Total   Spent    Left  Speed\n",
      "100 52206  100 52206    0     0   252k      0 --:--:-- --:--:-- --:--:--  252k\n"
     ]
    }
   ],
   "source": [
    "from pathlib import Path\n",
    "from pyraphtory.context import PyRaphtory\n",
    "from pyraphtory.vertex import Vertex\n",
    "from pyraphtory.steps import Iterate, Step\n",
    "!curl -o /tmp/lotr.csv https://raw.githubusercontent.com/Raphtory/Data/main/lotr.csv"
   ]
  },
  {
   "cell_type": "code",
   "execution_count": 2,
   "id": "fc8e2c68",
   "metadata": {
    "pycharm": {
     "name": "#%%\n"
    },
    "scrolled": true
   },
   "outputs": [
    {
     "name": "stdout",
     "output_type": "stream",
     "text": [
      "b'WARNING: sun.reflect.Reflection.getCallerClass is not supported. This will impact performance.\\n'\n",
      "b\"17:42:50.678 [io-compute-6] INFO  com.raphtory.spouts.FileSpout - Spout: Processing file 'lotr.csv' ...\\n\"\n",
      "b'17:42:50.863 [io-compute-6] ERROR com.raphtory.internals.management.Prometheus$ - Failed to start Prometheus on port 9999\\n'\n",
      "b'17:42:50.879 [io-compute-6] INFO  com.raphtory.internals.management.Prometheus$ - Prometheus started on port /0:0:0:0:0:0:0:0:53608\\n'\n",
      "b'17:42:52.102 [spawner-akka.actor.default-dispatcher-3] INFO  akka.event.slf4j.Slf4jLogger - Slf4jLogger started\\n'\n",
      "b\"17:42:52.494 [io-compute-6] INFO  com.raphtory.internals.management.PartitionsManager$ - Creating '1' Partition Managers for raphtory_753033557.\\n\"\n",
      "b'17:42:52.740 [io-compute-6] INFO  com.raphtory.internals.management.Py4JServer - Starting PythonGatewayServer...\\n'\n",
      "b'17:42:52.743 [io-compute-6] INFO  com.raphtory.internals.management.Py4JServer - Started PythonGatewayServer on port 53609 host: localhost/127.0.0.1\\n'\n",
      "b'17:42:52.762 [io-compute-6] INFO  com.raphtory.internals.management.Py4JServer - Writing PythonGatewayServer details to file...\\n'\n",
      "b'17:42:52.771 [io-compute-6] INFO  com.raphtory.internals.management.Py4JServer - PythonGatewayServer secret - 886b937cce636e987dd9d8e7f6e33eabd9f2ab2bf7e210357fcbf7baf46224b8\\n'\n"
     ]
    }
   ],
   "source": [
    "pr = PyRaphtory(spout_input=Path('/tmp/lotr.csv'), builder_script=Path('builder.py'),  builder_class='LotrGraphBuilder', mode='batch', logging=True).open()\n",
    "rg = pr.graph()"
   ]
  },
  {
   "cell_type": "code",
   "execution_count": 3,
   "id": "e06a31d1",
   "metadata": {
    "pycharm": {
     "name": "#%%\n"
    }
   },
   "outputs": [
    {
     "ename": "AttributeError",
     "evalue": "'TemporalGraph' object has no attribute 'range'",
     "output_type": "error",
     "traceback": [
      "\u001b[0;31m---------------------------------------------------------------------------\u001b[0m",
      "\u001b[0;31mAttributeError\u001b[0m                            Traceback (most recent call last)",
      "Input \u001b[0;32mIn [3]\u001b[0m, in \u001b[0;36m<cell line: 5>\u001b[0;34m()\u001b[0m\n\u001b[1;32m      1\u001b[0m local_sink \u001b[38;5;241m=\u001b[39m pr\u001b[38;5;241m.\u001b[39mlocal_sink()\n\u001b[1;32m      3\u001b[0m cols \u001b[38;5;241m=\u001b[39m [\u001b[38;5;124m\"\u001b[39m\u001b[38;5;124minDegree\u001b[39m\u001b[38;5;124m\"\u001b[39m, \u001b[38;5;124m\"\u001b[39m\u001b[38;5;124moutDegree\u001b[39m\u001b[38;5;124m\"\u001b[39m, \u001b[38;5;124m\"\u001b[39m\u001b[38;5;124mdegree\u001b[39m\u001b[38;5;124m\"\u001b[39m,\u001b[38;5;124m\"\u001b[39m\u001b[38;5;124mtriangleCount\u001b[39m\u001b[38;5;124m\"\u001b[39m,\u001b[38;5;124m\"\u001b[39m\u001b[38;5;124mprlabel\u001b[39m\u001b[38;5;124m\"\u001b[39m,\u001b[38;5;124m\"\u001b[39m\u001b[38;5;124mcclabel\u001b[39m\u001b[38;5;124m\"\u001b[39m,\u001b[38;5;124m\"\u001b[39m\u001b[38;5;124mtwoHopPaths\u001b[39m\u001b[38;5;124m\"\u001b[39m]\n\u001b[0;32m----> 5\u001b[0m tracker \u001b[38;5;241m=\u001b[39m \u001b[43mrg\u001b[49m\u001b[38;5;241;43m.\u001b[39;49m\u001b[43mrange\u001b[49m(\u001b[38;5;124m\"\u001b[39m\u001b[38;5;124m1/1/2021\u001b[39m\u001b[38;5;124m\"\u001b[39m,\u001b[38;5;124m\"\u001b[39m\u001b[38;5;124m1/1/2022\u001b[39m\u001b[38;5;124m\"\u001b[39m,\u001b[38;5;124m\"\u001b[39m\u001b[38;5;124m1 day\u001b[39m\u001b[38;5;124m\"\u001b[39m) \\\n\u001b[1;32m      6\u001b[0m                 \u001b[38;5;241m.\u001b[39mwindows([\u001b[38;5;124m\"\u001b[39m\u001b[38;5;124m1 day\u001b[39m\u001b[38;5;124m\"\u001b[39m,\u001b[38;5;124m\"\u001b[39m\u001b[38;5;124m1 week\u001b[39m\u001b[38;5;124m\"\u001b[39m,\u001b[38;5;124m\"\u001b[39m\u001b[38;5;124m1 month\u001b[39m\u001b[38;5;124m\"\u001b[39m]) \\\n\u001b[1;32m      7\u001b[0m                 \u001b[38;5;241m.\u001b[39mtransform(pr\u001b[38;5;241m.\u001b[39mpage_rank())\\\n\u001b[1;32m      8\u001b[0m                 \u001b[38;5;241m.\u001b[39mtransform(pr\u001b[38;5;241m.\u001b[39mconnected_components())\\\n\u001b[1;32m      9\u001b[0m                 \u001b[38;5;241m.\u001b[39mtransform(pr\u001b[38;5;241m.\u001b[39mdegree())\\\n\u001b[1;32m     10\u001b[0m                 \u001b[38;5;241m.\u001b[39mtransform(pr\u001b[38;5;241m.\u001b[39mtwo_hops_path(\u001b[38;5;28mset\u001b[39m([])))\\\n\u001b[1;32m     11\u001b[0m                 \u001b[38;5;241m.\u001b[39mtransform(pr\u001b[38;5;241m.\u001b[39mlocal_triangle_count())\\\n\u001b[1;32m     12\u001b[0m                 \u001b[38;5;241m.\u001b[39mselect(cols) \\\n\u001b[1;32m     13\u001b[0m                 \u001b[38;5;241m.\u001b[39mwrite_to(local_sink)\\\n\u001b[1;32m     14\u001b[0m                 \u001b[38;5;241m.\u001b[39mwait_for_job()\n\u001b[1;32m     17\u001b[0m pr\u001b[38;5;241m.\u001b[39mresults_to_dataframe(local_sink\u001b[38;5;241m.\u001b[39mresults(),cols)\n",
      "\u001b[0;31mAttributeError\u001b[0m: 'TemporalGraph' object has no attribute 'range'"
     ]
    }
   ],
   "source": [
    "local_sink = pr.local_sink()\n",
    "\n",
    "cols = [\"inDegree\", \"outDegree\", \"degree\",\"triangleCount\",\"prlabel\",\"cclabel\",\"twoHopPaths\"]\n",
    "\n",
    "tracker = rg.at(32000)\\\n",
    "                .past()\\\n",
    "                .transform(pr.page_rank())\\\n",
    "                .transform(pr.connected_components())\\\n",
    "                .transform(pr.degree())\\\n",
    "                .transform(pr.two_hops_path(set([])))\\\n",
    "                .transform(pr.local_triangle_count())\\\n",
    "                .select(cols) \\\n",
    "                .write_to(local_sink)\\\n",
    "                .wait_for_job()\n",
    "\n",
    "\n",
    "pr.results_to_dataframe(local_sink.results(),cols)\n",
    "\n"
   ]
  },
  {
   "cell_type": "code",
   "execution_count": null,
   "id": "36ac12fa",
   "metadata": {
    "pycharm": {
     "name": "#%%\n"
    }
   },
   "outputs": [],
   "source": [
    "class PGStep(Step):\n",
    "    def eval(self, v: Vertex):\n",
    "        initLabel = 1.0\n",
    "        v[\"prlabel\"] = initLabel\n",
    "        out_degree = v.out_degree()\n",
    "        if out_degree > 0:\n",
    "            msg = initLabel / out_degree\n",
    "            v.message_outgoing_neighbours(msg)\n",
    "\n",
    "class PGIterate(Iterate):\n",
    "    def __init__(self, iterations: int, execute_messaged_only: bool, damping_factor: float = 0.85):\n",
    "        super().__init__(iterations, execute_messaged_only)\n",
    "        self.damping_factor = damping_factor\n",
    "\n",
    "    def eval(self, v: Vertex):\n",
    "        current_label = v[\"prlabel\"]\n",
    "        queue = v.message_queue()\n",
    "        summed_queue = sum(queue)\n",
    "        new_label = (1 - self.damping_factor) + self.damping_factor * summed_queue\n",
    "        v[\"prlabel\"] = new_label\n",
    "\n",
    "        out_degree = v.out_degree()\n",
    "\n",
    "        if out_degree > 0:\n",
    "            v.message_outgoing_neighbours(new_label / out_degree)\n",
    "\n",
    "        if abs(new_label - current_label) < 0.00001:\n",
    "            v.vote_to_halt()"
   ]
  },
  {
   "cell_type": "code",
   "execution_count": null,
   "id": "53b7fa4f",
   "metadata": {},
   "outputs": [],
   "source": [
    "from pyraphtory.builder import *\n",
    "\n",
    "class LotrGraphBuilder(BaseBuilder):\n",
    "    def __init__(self):\n",
    "        super(LotrGraphBuilder, self).__init__()\n",
    "\n",
    "    def parse_tuple(self, line: str):\n",
    "        src_node, target_node, timestamp, *_ = line.split(\",\")\n",
    "\n",
    "        src_id = self.assign_id(src_node)\n",
    "        tar_id = self.assign_id(target_node)\n",
    "\n",
    "        self.add_vertex(int(timestamp), src_id, [ImmutableProperty(\"name\", src_node)], \"Character\")\n",
    "        self.add_vertex(int(timestamp), tar_id, [ImmutableProperty(\"name\", target_node)], \"Character\")\n",
    "        self.add_edge(int(timestamp), src_id, tar_id, [], \"Character Co-occurence\")"
   ]
  },
  {
   "cell_type": "code",
   "execution_count": null,
   "id": "29966c4f",
   "metadata": {
    "pycharm": {
     "name": "#%%\n"
    }
   },
   "outputs": [],
   "source": []
  },
  {
   "cell_type": "code",
   "execution_count": null,
   "id": "658cc65e",
   "metadata": {
    "pycharm": {
     "name": "#%%\n"
    }
   },
   "outputs": [],
   "source": []
  },
  {
   "cell_type": "code",
   "execution_count": null,
   "id": "e512f96b",
   "metadata": {
    "pycharm": {
     "name": "#%%\n"
    }
   },
   "outputs": [],
   "source": []
  },
  {
   "cell_type": "code",
   "execution_count": null,
   "id": "30b574b8",
   "metadata": {
    "pycharm": {
     "name": "#%%\n"
    }
   },
   "outputs": [],
   "source": []
  },
  {
   "cell_type": "code",
   "execution_count": null,
   "id": "1bbee200",
   "metadata": {
    "pycharm": {
     "name": "#%%\n"
    }
   },
   "outputs": [],
   "source": []
  },
  {
   "cell_type": "code",
   "execution_count": null,
   "id": "fd0ebe0d",
   "metadata": {
    "pycharm": {
     "name": "#%%\n"
    }
   },
   "outputs": [],
   "source": []
  },
  {
   "cell_type": "code",
   "execution_count": null,
   "id": "58bd293c",
   "metadata": {
    "pycharm": {
     "name": "#%%\n"
    }
   },
   "outputs": [],
   "source": []
  },
  {
   "cell_type": "code",
   "execution_count": null,
   "id": "a027f984",
   "metadata": {
    "pycharm": {
     "name": "#%%\n"
    }
   },
   "outputs": [],
   "source": []
  },
  {
   "cell_type": "code",
   "execution_count": null,
   "id": "42ce7d51",
   "metadata": {
    "pycharm": {
     "name": "#%%\n"
    }
   },
   "outputs": [],
   "source": []
  },
  {
   "cell_type": "code",
   "execution_count": null,
   "id": "a55b6047",
   "metadata": {
    "pycharm": {
     "name": "#%%\n"
    }
   },
   "outputs": [],
   "source": []
  },
  {
   "cell_type": "code",
   "execution_count": null,
   "id": "802c3a39",
   "metadata": {
    "pycharm": {
     "name": "#%%\n"
    }
   },
   "outputs": [],
   "source": []
  },
  {
   "cell_type": "code",
   "execution_count": null,
   "id": "ca5459e5",
   "metadata": {
    "pycharm": {
     "name": "#%%\n"
    }
   },
   "outputs": [],
   "source": []
  },
  {
   "cell_type": "code",
   "execution_count": null,
   "id": "83ff5101",
   "metadata": {
    "pycharm": {
     "name": "#%%\n"
    }
   },
   "outputs": [],
   "source": []
  },
  {
   "cell_type": "code",
   "execution_count": null,
   "id": "34834712",
   "metadata": {
    "pycharm": {
     "name": "#%%\n"
    }
   },
   "outputs": [],
   "source": [
    "\n"
   ]
  },
  {
   "cell_type": "code",
   "execution_count": null,
   "id": "a9d272c3",
   "metadata": {
    "pycharm": {
     "name": "#%%\n"
    }
   },
   "outputs": [],
   "source": []
  },
  {
   "cell_type": "code",
   "execution_count": null,
   "id": "824a7c80",
   "metadata": {
    "pycharm": {
     "name": "#%%\n"
    }
   },
   "outputs": [],
   "source": []
  },
  {
   "cell_type": "code",
   "execution_count": null,
   "id": "9628c893",
   "metadata": {
    "pycharm": {
     "name": "#%%\n"
    }
   },
   "outputs": [],
   "source": [
    "\n"
   ]
  },
  {
   "cell_type": "code",
   "execution_count": null,
   "id": "3950320d",
   "metadata": {
    "pycharm": {
     "name": "#%%\n"
    }
   },
   "outputs": [],
   "source": []
  },
  {
   "cell_type": "code",
   "execution_count": null,
   "id": "d8119331",
   "metadata": {
    "pycharm": {
     "name": "#%%\n"
    }
   },
   "outputs": [],
   "source": []
  },
  {
   "cell_type": "code",
   "execution_count": null,
   "id": "5d12cef1",
   "metadata": {
    "pycharm": {
     "name": "#%%\n"
    }
   },
   "outputs": [],
   "source": []
  },
  {
   "cell_type": "code",
   "execution_count": null,
   "id": "6a1808ff",
   "metadata": {
    "pycharm": {
     "name": "#%%\n"
    }
   },
   "outputs": [],
   "source": []
  },
  {
   "cell_type": "code",
   "execution_count": null,
   "id": "c0daf093",
   "metadata": {
    "pycharm": {
     "name": "#%%\n"
    }
   },
   "outputs": [],
   "source": []
  },
  {
   "cell_type": "code",
   "execution_count": null,
   "id": "c6ef3162",
   "metadata": {
    "pycharm": {
     "name": "#%%\n"
    }
   },
   "outputs": [],
   "source": []
  }
 ],
 "metadata": {
  "kernelspec": {
   "display_name": "Python 3 (ipykernel)",
   "language": "python",
   "name": "python3"
  },
  "language_info": {
   "codemirror_mode": {
    "name": "ipython",
    "version": 3
   },
   "file_extension": ".py",
   "mimetype": "text/x-python",
   "name": "python",
   "nbconvert_exporter": "python",
   "pygments_lexer": "ipython3",
   "version": "3.10.5"
  }
 },
 "nbformat": 4,
 "nbformat_minor": 5
}
