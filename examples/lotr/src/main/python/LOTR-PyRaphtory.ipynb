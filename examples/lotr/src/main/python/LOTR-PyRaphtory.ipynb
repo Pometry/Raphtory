{
 "cells": [
  {
   "cell_type": "markdown",
   "id": "33e30c37",
   "metadata": {
    "pycharm": {
     "name": "#%% md\n"
    }
   },
   "source": [
    "# Lord Of The Rings PyRaphtory Example Notebook 🧝🏻‍♀️🧙🏻‍♂️💍"
   ]
  },
  {
   "cell_type": "markdown",
   "id": "7623b0bb-1409-4711-bbc0-a2fa2a93027f",
   "metadata": {
    "pycharm": {
     "name": "#%% md\n"
    }
   },
   "source": [
    "## Setup environment and download data 💾"
   ]
  },
  {
   "cell_type": "markdown",
   "id": "8c1692af",
   "metadata": {
    "pycharm": {
     "name": "#%% md\n"
    }
   },
   "source": [
    "Import all necessary dependencies needed to build a graph from your data in PyRaphtory. Download csv data from github into your tmp folder (file path: /tmp/lotr.csv)."
   ]
  },
  {
   "cell_type": "code",
   "execution_count": 1,
   "id": "8f6eaa88",
   "metadata": {
    "collapsed": false,
    "jupyter": {
     "outputs_hidden": false
    },
    "pycharm": {
     "name": "#%%\n"
    }
   },
   "outputs": [
    {
     "name": "stdout",
     "output_type": "stream",
     "text": [
      "  % Total    % Received % Xferd  Average Speed   Time    Time     Time  Current\n",
      "                                 Dload  Upload   Total   Spent    Left  Speed\n",
      "100 52206  100 52206    0     0   662k      0 --:--:-- --:--:-- --:--:--  662k\n"
     ]
    }
   ],
   "source": [
    "from pathlib import Path\n",
    "from pyraphtory.context import PyRaphtory\n",
    "from pyraphtory.vertex import Vertex\n",
    "from pyraphtory.spouts import FileSpout\n",
    "from pyraphtory.builder import *\n",
    "from pyvis.network import Network\n",
    "import csv\n",
    "import pandas as pd\n",
    "import numpy as np\n",
    "\n",
    "!curl -o /tmp/lotr.csv https://raw.githubusercontent.com/Raphtory/Data/main/lotr.csv"
   ]
  },
  {
   "cell_type": "markdown",
   "id": "296d3970-531a-455a-8a9a-8ec1db88b9ea",
   "metadata": {
    "pycharm": {
     "name": "#%% md\n"
    }
   },
   "source": [
    "## Preview data  👀"
   ]
  },
  {
   "cell_type": "markdown",
   "id": "2a94f750",
   "metadata": {
    "pycharm": {
     "name": "#%% md\n"
    }
   },
   "source": [
    "Preview the head of the dataset."
   ]
  },
  {
   "cell_type": "code",
   "execution_count": 2,
   "id": "e93fbf02-e215-4c9c-a823-4c39217c359c",
   "metadata": {
    "scrolled": true,
    "pycharm": {
     "name": "#%%\n"
    }
   },
   "outputs": [
    {
     "name": "stdout",
     "output_type": "stream",
     "text": [
      "Gandalf,Elrond,33\n",
      "Frodo,Bilbo,114\n",
      "Blanco,Marcho,146\n",
      "Frodo,Bilbo,205\n",
      "Thorin,Gandalf,270\n",
      "Thorin,Bilbo,270\n",
      "Gandalf,Bilbo,270\n",
      "Gollum,Bilbo,286\n",
      "Gollum,Bilbo,306\n",
      "Gollum,Bilbo,308\n"
     ]
    }
   ],
   "source": [
    "!head /tmp/lotr.csv"
   ]
  },
  {
   "cell_type": "code",
   "execution_count": 3,
   "id": "2b941737",
   "metadata": {
    "pycharm": {
     "name": "#%%\n"
    }
   },
   "outputs": [],
   "source": [
    "filename = '/tmp/lotr.csv'"
   ]
  },
  {
   "cell_type": "markdown",
   "id": "fe932a96-e2f2-44e3-b36d-baf95ed94924",
   "metadata": {
    "pycharm": {
     "name": "#%% md\n"
    }
   },
   "source": [
    "## Create a new Raphtory graph 📊"
   ]
  },
  {
   "cell_type": "markdown",
   "id": "646c021f",
   "metadata": {
    "pycharm": {
     "name": "#%% md\n"
    }
   },
   "source": [
    "Turn on logs to see what is going on in PyRaphtory. Initialise Raphtory by creating a PyRaphtory object. Create your new graph."
   ]
  },
  {
   "cell_type": "code",
   "execution_count": 4,
   "id": "46115d4d",
   "metadata": {
    "collapsed": false,
    "jupyter": {
     "outputs_hidden": false
    },
    "pycharm": {
     "name": "#%%\n"
    }
   },
   "outputs": [
    {
     "name": "stdout",
     "output_type": "stream",
     "text": [
      "11:10:26.285 [io-compute-blocker-1] INFO  com.raphtory.internals.management.Py4JServer - Starting PythonGatewayServer...\n",
      "Port: 58046\n",
      "Secret: abc59d7c023601e8cb82e88a67f0bf2bc46e5fa327d07a935144c31b3649f2f2\n"
     ]
    },
    {
     "name": "stderr",
     "output_type": "stream",
     "text": [
      "WARNING: An illegal reflective access operation has occurred\n",
      "WARNING: Illegal reflective access by py4j.reflection.MethodInvoker$1 (file:/Users/haaroony/opt/anaconda3/envs/raphtoryenv/lib/python3.9/site-packages/lib/core-assembly-0.2.0a1.jar) to method java.util.AbstractMap$1.iterator()\n",
      "WARNING: Please consider reporting this to the maintainers of py4j.reflection.MethodInvoker$1\n",
      "WARNING: Use --illegal-access=warn to enable warnings of further illegal reflective access operations\n",
      "WARNING: All illegal access operations will be denied in a future release\n"
     ]
    },
    {
     "name": "stdout",
     "output_type": "stream",
     "text": [
      "11:10:27.914 [Thread-12] INFO  com.raphtory.internals.context.LocalContext$ - Creating Service for 'dutch_green_antelope'\n",
      "11:10:27.958 [io-compute-blocker-2] INFO  com.raphtory.internals.management.Prometheus$ - Prometheus started on port /0:0:0:0:0:0:0:0:9999\n",
      "11:10:29.488 [io-compute-blocker-2] INFO  com.raphtory.internals.components.partition.PartitionOrchestrator$ - Creating '1' Partition Managers for 'dutch_green_antelope'.\n",
      "11:10:31.432 [io-compute-blocker-6] INFO  com.raphtory.internals.components.partition.PartitionManager - Partition 0: Starting partition manager for 'dutch_green_antelope'.\n"
     ]
    }
   ],
   "source": [
    "pr = PyRaphtory(logging=True).open()\n",
    "rg = pr.new_graph()"
   ]
  },
  {
   "cell_type": "markdown",
   "id": "ce0c59cf-2833-4809-a325-e354d42e09fd",
   "metadata": {
    "pycharm": {
     "name": "#%% md\n"
    }
   },
   "source": [
    "## Ingest the data into a graph 😋"
   ]
  },
  {
   "cell_type": "markdown",
   "id": "e1f3fab9",
   "metadata": {
    "pycharm": {
     "name": "#%% md\n"
    }
   },
   "source": [
    "Write a parsing method to parse your csv file and ultimately create a graph."
   ]
  },
  {
   "cell_type": "code",
   "execution_count": 5,
   "id": "7757b8c0",
   "metadata": {
    "pycharm": {
     "name": "#%%\n"
    }
   },
   "outputs": [],
   "source": [
    "with open(filename, 'r') as csvfile:\n",
    "    datareader = csv.reader(csvfile)\n",
    "    for row in datareader:\n",
    "        source_node = row[0]\n",
    "        src_id = rg.assign_id(source_node)\n",
    "        target_node = row[1]\n",
    "        tar_id = rg.assign_id(target_node)\n",
    "        time_stamp = int(row[2])\n",
    "        rg.add_vertex(time_stamp, src_id, Properties(ImmutableProperty(\"name\", source_node)), Type(\"Character\"))\n",
    "        rg.add_vertex(time_stamp, tar_id, Properties(ImmutableProperty(\"name\", target_node)), Type(\"Character\"))\n",
    "        rg.add_edge(time_stamp, src_id, tar_id, Type(\"Character_Co-occurence\"))"
   ]
  },
  {
   "cell_type": "markdown",
   "id": "bcc44109-e5a5-421e-8615-e86febbd0569",
   "metadata": {
    "pycharm": {
     "name": "#%% md\n"
    }
   },
   "source": [
    "## Collect simple metrics 📈"
   ]
  },
  {
   "cell_type": "markdown",
   "id": "bb0d5bb0",
   "metadata": {
    "pycharm": {
     "name": "#%% md\n"
    }
   },
   "source": [
    "Select certain metrics to show in your output dataframe. Here we have selected vertex name, degree, out degree and in degree. "
   ]
  },
  {
   "cell_type": "code",
   "execution_count": 6,
   "id": "ec76c281-7e4b-4ae9-8469-e24458eaaa74",
   "metadata": {
    "pycharm": {
     "name": "#%%\n"
    }
   },
   "outputs": [
    {
     "name": "stdout",
     "output_type": "stream",
     "text": [
      "11:11:45.886 [spawner-akka.actor.default-dispatcher-3] INFO  com.raphtory.internals.components.querymanager.QueryManager - Source '0' is unblocking analysis for Graph 'dutch_green_antelope' with 7947 messages sent. Latest update time was 32674\n",
      "11:11:45.890 [io-compute-blocker-4] INFO  com.raphtory.api.querytracker.QueryProgressTracker - Job 2021064956_1921451243594140695: Starting query progress tracker.\n",
      "11:11:45.898 [spawner-akka.actor.default-dispatcher-3] INFO  com.raphtory.internals.components.querymanager.QueryManager - Source 0 has completed ingesting and will now unblock\n",
      "11:11:45.899 [spawner-akka.actor.default-dispatcher-3] INFO  com.raphtory.internals.components.querymanager.QueryManager - Query '2021064956_1921451243594140695' received, your job ID is '2021064956_1921451243594140695'.\n",
      "11:11:45.915 [spawner-akka.actor.default-dispatcher-6] INFO  com.raphtory.internals.components.partition.QueryExecutor - 2021064956_1921451243594140695_0: Starting QueryExecutor.\n",
      "11:11:45.928 [io-compute-blocker-4] INFO  com.raphtory.api.analysis.table.TableOutputTracker - Job 2021064956_1921451243594140695: Starting output collector.\n",
      "11:11:47.759 [spawner-akka.actor.default-dispatcher-9] INFO  com.raphtory.internals.components.querymanager.QueryHandler - Job '2021064956_1921451243594140695': Perspective at Time '32674' took 1664 ms to run. \n",
      "11:11:47.759 [spawner-akka.actor.default-dispatcher-10] INFO  com.raphtory.api.querytracker.QueryProgressTracker - Job '2021064956_1921451243594140695': Perspective '32674' finished in 1870 ms.\n",
      "11:11:47.760 [spawner-akka.actor.default-dispatcher-10] INFO  com.raphtory.api.querytracker.QueryProgressTracker - Job 2021064956_1921451243594140695: Running query, processed 1 perspectives.\n",
      "11:11:47.768 [spawner-akka.actor.default-dispatcher-8] INFO  com.raphtory.api.querytracker.QueryProgressTracker - Job 2021064956_1921451243594140695: Query completed with 1 perspectives and finished in 1879 ms.\n"
     ]
    }
   ],
   "source": [
    "from pyraphtory.graph import Row\n",
    "df = rg \\\n",
    "      .select(lambda vertex: Row(vertex.name(), vertex.degree(), vertex.out_degree(), vertex.in_degree())) \\\n",
    "      .to_df([\"name\", \"degree\", \"out_degree\", \"in_degree\"])"
   ]
  },
  {
   "cell_type": "code",
   "execution_count": 7,
   "id": "3cf8f566",
   "metadata": {
    "pycharm": {
     "name": "#%%\n"
    }
   },
   "outputs": [
    {
     "data": {
      "text/html": [
       "<div>\n",
       "<style scoped>\n",
       "    .dataframe tbody tr th:only-of-type {\n",
       "        vertical-align: middle;\n",
       "    }\n",
       "\n",
       "    .dataframe tbody tr th {\n",
       "        vertical-align: top;\n",
       "    }\n",
       "\n",
       "    .dataframe thead th {\n",
       "        text-align: right;\n",
       "    }\n",
       "</style>\n",
       "<table border=\"1\" class=\"dataframe\">\n",
       "  <thead>\n",
       "    <tr style=\"text-align: right;\">\n",
       "      <th></th>\n",
       "      <th>timestamp</th>\n",
       "      <th>window</th>\n",
       "      <th>name</th>\n",
       "      <th>degree</th>\n",
       "      <th>out_degree</th>\n",
       "      <th>in_degree</th>\n",
       "    </tr>\n",
       "  </thead>\n",
       "  <tbody>\n",
       "    <tr>\n",
       "      <th>0</th>\n",
       "      <td>32674</td>\n",
       "      <td>None</td>\n",
       "      <td>Hirgon</td>\n",
       "      <td>2</td>\n",
       "      <td>2</td>\n",
       "      <td>0</td>\n",
       "    </tr>\n",
       "    <tr>\n",
       "      <th>1</th>\n",
       "      <td>32674</td>\n",
       "      <td>None</td>\n",
       "      <td>Hador</td>\n",
       "      <td>3</td>\n",
       "      <td>1</td>\n",
       "      <td>2</td>\n",
       "    </tr>\n",
       "    <tr>\n",
       "      <th>2</th>\n",
       "      <td>32674</td>\n",
       "      <td>None</td>\n",
       "      <td>Horn</td>\n",
       "      <td>4</td>\n",
       "      <td>1</td>\n",
       "      <td>3</td>\n",
       "    </tr>\n",
       "    <tr>\n",
       "      <th>3</th>\n",
       "      <td>32674</td>\n",
       "      <td>None</td>\n",
       "      <td>Galadriel</td>\n",
       "      <td>19</td>\n",
       "      <td>6</td>\n",
       "      <td>16</td>\n",
       "    </tr>\n",
       "    <tr>\n",
       "      <th>4</th>\n",
       "      <td>32674</td>\n",
       "      <td>None</td>\n",
       "      <td>Isildur</td>\n",
       "      <td>18</td>\n",
       "      <td>18</td>\n",
       "      <td>0</td>\n",
       "    </tr>\n",
       "    <tr>\n",
       "      <th>...</th>\n",
       "      <td>...</td>\n",
       "      <td>...</td>\n",
       "      <td>...</td>\n",
       "      <td>...</td>\n",
       "      <td>...</td>\n",
       "      <td>...</td>\n",
       "    </tr>\n",
       "    <tr>\n",
       "      <th>134</th>\n",
       "      <td>32674</td>\n",
       "      <td>None</td>\n",
       "      <td>Faramir</td>\n",
       "      <td>29</td>\n",
       "      <td>3</td>\n",
       "      <td>29</td>\n",
       "    </tr>\n",
       "    <tr>\n",
       "      <th>135</th>\n",
       "      <td>32674</td>\n",
       "      <td>None</td>\n",
       "      <td>Bain</td>\n",
       "      <td>2</td>\n",
       "      <td>1</td>\n",
       "      <td>1</td>\n",
       "    </tr>\n",
       "    <tr>\n",
       "      <th>136</th>\n",
       "      <td>32674</td>\n",
       "      <td>None</td>\n",
       "      <td>Walda</td>\n",
       "      <td>13</td>\n",
       "      <td>3</td>\n",
       "      <td>10</td>\n",
       "    </tr>\n",
       "    <tr>\n",
       "      <th>137</th>\n",
       "      <td>32674</td>\n",
       "      <td>None</td>\n",
       "      <td>Thranduil</td>\n",
       "      <td>2</td>\n",
       "      <td>0</td>\n",
       "      <td>2</td>\n",
       "    </tr>\n",
       "    <tr>\n",
       "      <th>138</th>\n",
       "      <td>32674</td>\n",
       "      <td>None</td>\n",
       "      <td>Boromir</td>\n",
       "      <td>18</td>\n",
       "      <td>6</td>\n",
       "      <td>17</td>\n",
       "    </tr>\n",
       "  </tbody>\n",
       "</table>\n",
       "<p>139 rows × 6 columns</p>\n",
       "</div>"
      ],
      "text/plain": [
       "     timestamp window       name  degree  out_degree  in_degree\n",
       "0        32674   None     Hirgon       2           2          0\n",
       "1        32674   None      Hador       3           1          2\n",
       "2        32674   None       Horn       4           1          3\n",
       "3        32674   None  Galadriel      19           6         16\n",
       "4        32674   None    Isildur      18          18          0\n",
       "..         ...    ...        ...     ...         ...        ...\n",
       "134      32674   None    Faramir      29           3         29\n",
       "135      32674   None       Bain       2           1          1\n",
       "136      32674   None      Walda      13           3         10\n",
       "137      32674   None  Thranduil       2           0          2\n",
       "138      32674   None    Boromir      18           6         17\n",
       "\n",
       "[139 rows x 6 columns]"
      ]
     },
     "execution_count": 7,
     "metadata": {},
     "output_type": "execute_result"
    }
   ],
   "source": [
    "df"
   ]
  },
  {
   "cell_type": "markdown",
   "id": "f7c3a58f",
   "metadata": {
    "pycharm": {
     "name": "#%% md\n"
    }
   },
   "source": [
    "**Clean the dataframe, we have deleted the unused window column.** 🧹"
   ]
  },
  {
   "cell_type": "code",
   "execution_count": 8,
   "id": "dd5b651d-95f0-4e01-8203-43c8021e05d6",
   "metadata": {
    "pycharm": {
     "name": "#%%\n"
    }
   },
   "outputs": [],
   "source": [
    "## clean\n",
    "df.drop(columns=['window'], inplace=True)"
   ]
  },
  {
   "cell_type": "markdown",
   "id": "997170b7",
   "metadata": {
    "pycharm": {
     "name": "#%% md\n"
    }
   },
   "source": [
    "### Preview the dataframe  👀"
   ]
  },
  {
   "cell_type": "code",
   "execution_count": 9,
   "id": "f21dcbcb-8c5c-4a10-91b3-767fdcc6b562",
   "metadata": {
    "pycharm": {
     "name": "#%%\n"
    }
   },
   "outputs": [
    {
     "data": {
      "text/html": [
       "<div>\n",
       "<style scoped>\n",
       "    .dataframe tbody tr th:only-of-type {\n",
       "        vertical-align: middle;\n",
       "    }\n",
       "\n",
       "    .dataframe tbody tr th {\n",
       "        vertical-align: top;\n",
       "    }\n",
       "\n",
       "    .dataframe thead th {\n",
       "        text-align: right;\n",
       "    }\n",
       "</style>\n",
       "<table border=\"1\" class=\"dataframe\">\n",
       "  <thead>\n",
       "    <tr style=\"text-align: right;\">\n",
       "      <th></th>\n",
       "      <th>timestamp</th>\n",
       "      <th>name</th>\n",
       "      <th>degree</th>\n",
       "      <th>out_degree</th>\n",
       "      <th>in_degree</th>\n",
       "    </tr>\n",
       "  </thead>\n",
       "  <tbody>\n",
       "    <tr>\n",
       "      <th>0</th>\n",
       "      <td>32674</td>\n",
       "      <td>Hirgon</td>\n",
       "      <td>2</td>\n",
       "      <td>2</td>\n",
       "      <td>0</td>\n",
       "    </tr>\n",
       "    <tr>\n",
       "      <th>1</th>\n",
       "      <td>32674</td>\n",
       "      <td>Hador</td>\n",
       "      <td>3</td>\n",
       "      <td>1</td>\n",
       "      <td>2</td>\n",
       "    </tr>\n",
       "    <tr>\n",
       "      <th>2</th>\n",
       "      <td>32674</td>\n",
       "      <td>Horn</td>\n",
       "      <td>4</td>\n",
       "      <td>1</td>\n",
       "      <td>3</td>\n",
       "    </tr>\n",
       "    <tr>\n",
       "      <th>3</th>\n",
       "      <td>32674</td>\n",
       "      <td>Galadriel</td>\n",
       "      <td>19</td>\n",
       "      <td>6</td>\n",
       "      <td>16</td>\n",
       "    </tr>\n",
       "    <tr>\n",
       "      <th>4</th>\n",
       "      <td>32674</td>\n",
       "      <td>Isildur</td>\n",
       "      <td>18</td>\n",
       "      <td>18</td>\n",
       "      <td>0</td>\n",
       "    </tr>\n",
       "    <tr>\n",
       "      <th>...</th>\n",
       "      <td>...</td>\n",
       "      <td>...</td>\n",
       "      <td>...</td>\n",
       "      <td>...</td>\n",
       "      <td>...</td>\n",
       "    </tr>\n",
       "    <tr>\n",
       "      <th>134</th>\n",
       "      <td>32674</td>\n",
       "      <td>Faramir</td>\n",
       "      <td>29</td>\n",
       "      <td>3</td>\n",
       "      <td>29</td>\n",
       "    </tr>\n",
       "    <tr>\n",
       "      <th>135</th>\n",
       "      <td>32674</td>\n",
       "      <td>Bain</td>\n",
       "      <td>2</td>\n",
       "      <td>1</td>\n",
       "      <td>1</td>\n",
       "    </tr>\n",
       "    <tr>\n",
       "      <th>136</th>\n",
       "      <td>32674</td>\n",
       "      <td>Walda</td>\n",
       "      <td>13</td>\n",
       "      <td>3</td>\n",
       "      <td>10</td>\n",
       "    </tr>\n",
       "    <tr>\n",
       "      <th>137</th>\n",
       "      <td>32674</td>\n",
       "      <td>Thranduil</td>\n",
       "      <td>2</td>\n",
       "      <td>0</td>\n",
       "      <td>2</td>\n",
       "    </tr>\n",
       "    <tr>\n",
       "      <th>138</th>\n",
       "      <td>32674</td>\n",
       "      <td>Boromir</td>\n",
       "      <td>18</td>\n",
       "      <td>6</td>\n",
       "      <td>17</td>\n",
       "    </tr>\n",
       "  </tbody>\n",
       "</table>\n",
       "<p>139 rows × 5 columns</p>\n",
       "</div>"
      ],
      "text/plain": [
       "     timestamp       name  degree  out_degree  in_degree\n",
       "0        32674     Hirgon       2           2          0\n",
       "1        32674      Hador       3           1          2\n",
       "2        32674       Horn       4           1          3\n",
       "3        32674  Galadriel      19           6         16\n",
       "4        32674    Isildur      18          18          0\n",
       "..         ...        ...     ...         ...        ...\n",
       "134      32674    Faramir      29           3         29\n",
       "135      32674       Bain       2           1          1\n",
       "136      32674      Walda      13           3         10\n",
       "137      32674  Thranduil       2           0          2\n",
       "138      32674    Boromir      18           6         17\n",
       "\n",
       "[139 rows x 5 columns]"
      ]
     },
     "execution_count": 9,
     "metadata": {},
     "output_type": "execute_result"
    }
   ],
   "source": [
    "df"
   ]
  },
  {
   "cell_type": "markdown",
   "id": "4eca6ccb-1b92-4807-bdf9-57733c6c386c",
   "metadata": {
    "pycharm": {
     "name": "#%% md\n"
    }
   },
   "source": [
    "**Sort by highest degree, top 10**"
   ]
  },
  {
   "cell_type": "code",
   "execution_count": 10,
   "id": "ffcfe842-b022-4333-8886-a8ee0cd902d7",
   "metadata": {
    "pycharm": {
     "name": "#%%\n"
    }
   },
   "outputs": [
    {
     "data": {
      "text/html": [
       "<div>\n",
       "<style scoped>\n",
       "    .dataframe tbody tr th:only-of-type {\n",
       "        vertical-align: middle;\n",
       "    }\n",
       "\n",
       "    .dataframe tbody tr th {\n",
       "        vertical-align: top;\n",
       "    }\n",
       "\n",
       "    .dataframe thead th {\n",
       "        text-align: right;\n",
       "    }\n",
       "</style>\n",
       "<table border=\"1\" class=\"dataframe\">\n",
       "  <thead>\n",
       "    <tr style=\"text-align: right;\">\n",
       "      <th></th>\n",
       "      <th>timestamp</th>\n",
       "      <th>name</th>\n",
       "      <th>degree</th>\n",
       "      <th>out_degree</th>\n",
       "      <th>in_degree</th>\n",
       "    </tr>\n",
       "  </thead>\n",
       "  <tbody>\n",
       "    <tr>\n",
       "      <th>55</th>\n",
       "      <td>32674</td>\n",
       "      <td>Frodo</td>\n",
       "      <td>51</td>\n",
       "      <td>37</td>\n",
       "      <td>22</td>\n",
       "    </tr>\n",
       "    <tr>\n",
       "      <th>54</th>\n",
       "      <td>32674</td>\n",
       "      <td>Gandalf</td>\n",
       "      <td>49</td>\n",
       "      <td>35</td>\n",
       "      <td>24</td>\n",
       "    </tr>\n",
       "    <tr>\n",
       "      <th>97</th>\n",
       "      <td>32674</td>\n",
       "      <td>Aragorn</td>\n",
       "      <td>45</td>\n",
       "      <td>5</td>\n",
       "      <td>45</td>\n",
       "    </tr>\n",
       "    <tr>\n",
       "      <th>63</th>\n",
       "      <td>32674</td>\n",
       "      <td>Merry</td>\n",
       "      <td>34</td>\n",
       "      <td>23</td>\n",
       "      <td>18</td>\n",
       "    </tr>\n",
       "    <tr>\n",
       "      <th>32</th>\n",
       "      <td>32674</td>\n",
       "      <td>Pippin</td>\n",
       "      <td>34</td>\n",
       "      <td>30</td>\n",
       "      <td>10</td>\n",
       "    </tr>\n",
       "    <tr>\n",
       "      <th>56</th>\n",
       "      <td>32674</td>\n",
       "      <td>Elrond</td>\n",
       "      <td>32</td>\n",
       "      <td>18</td>\n",
       "      <td>24</td>\n",
       "    </tr>\n",
       "    <tr>\n",
       "      <th>52</th>\n",
       "      <td>32674</td>\n",
       "      <td>Théoden</td>\n",
       "      <td>30</td>\n",
       "      <td>22</td>\n",
       "      <td>9</td>\n",
       "    </tr>\n",
       "    <tr>\n",
       "      <th>134</th>\n",
       "      <td>32674</td>\n",
       "      <td>Faramir</td>\n",
       "      <td>29</td>\n",
       "      <td>3</td>\n",
       "      <td>29</td>\n",
       "    </tr>\n",
       "    <tr>\n",
       "      <th>118</th>\n",
       "      <td>32674</td>\n",
       "      <td>Sam</td>\n",
       "      <td>28</td>\n",
       "      <td>20</td>\n",
       "      <td>17</td>\n",
       "    </tr>\n",
       "    <tr>\n",
       "      <th>129</th>\n",
       "      <td>32674</td>\n",
       "      <td>Gimli</td>\n",
       "      <td>25</td>\n",
       "      <td>22</td>\n",
       "      <td>11</td>\n",
       "    </tr>\n",
       "  </tbody>\n",
       "</table>\n",
       "</div>"
      ],
      "text/plain": [
       "     timestamp     name  degree  out_degree  in_degree\n",
       "55       32674    Frodo      51          37         22\n",
       "54       32674  Gandalf      49          35         24\n",
       "97       32674  Aragorn      45           5         45\n",
       "63       32674    Merry      34          23         18\n",
       "32       32674   Pippin      34          30         10\n",
       "56       32674   Elrond      32          18         24\n",
       "52       32674  Théoden      30          22          9\n",
       "134      32674  Faramir      29           3         29\n",
       "118      32674      Sam      28          20         17\n",
       "129      32674    Gimli      25          22         11"
      ]
     },
     "execution_count": 10,
     "metadata": {},
     "output_type": "execute_result"
    }
   ],
   "source": [
    "df.sort_values(['degree'], ascending=False)[:10]"
   ]
  },
  {
   "cell_type": "markdown",
   "id": "143338c4-d126-4cf1-9db3-71a119b33b58",
   "metadata": {
    "pycharm": {
     "name": "#%% md\n"
    }
   },
   "source": [
    "**Sort by highest in-degree, top 10**"
   ]
  },
  {
   "cell_type": "code",
   "execution_count": 17,
   "id": "67b4420a-e6f6-43d6-af3d-4a89ad764e3b",
   "metadata": {
    "pycharm": {
     "name": "#%%\n"
    }
   },
   "outputs": [
    {
     "data": {
      "text/html": [
       "<div>\n",
       "<style scoped>\n",
       "    .dataframe tbody tr th:only-of-type {\n",
       "        vertical-align: middle;\n",
       "    }\n",
       "\n",
       "    .dataframe tbody tr th {\n",
       "        vertical-align: top;\n",
       "    }\n",
       "\n",
       "    .dataframe thead th {\n",
       "        text-align: right;\n",
       "    }\n",
       "</style>\n",
       "<table border=\"1\" class=\"dataframe\">\n",
       "  <thead>\n",
       "    <tr style=\"text-align: right;\">\n",
       "      <th></th>\n",
       "      <th>timestamp</th>\n",
       "      <th>name</th>\n",
       "      <th>degree</th>\n",
       "      <th>out_degree</th>\n",
       "      <th>in_degree</th>\n",
       "    </tr>\n",
       "  </thead>\n",
       "  <tbody>\n",
       "    <tr>\n",
       "      <th>97</th>\n",
       "      <td>32674</td>\n",
       "      <td>Aragorn</td>\n",
       "      <td>45</td>\n",
       "      <td>5</td>\n",
       "      <td>45</td>\n",
       "    </tr>\n",
       "    <tr>\n",
       "      <th>134</th>\n",
       "      <td>32674</td>\n",
       "      <td>Faramir</td>\n",
       "      <td>29</td>\n",
       "      <td>3</td>\n",
       "      <td>29</td>\n",
       "    </tr>\n",
       "    <tr>\n",
       "      <th>54</th>\n",
       "      <td>32674</td>\n",
       "      <td>Gandalf</td>\n",
       "      <td>49</td>\n",
       "      <td>35</td>\n",
       "      <td>24</td>\n",
       "    </tr>\n",
       "    <tr>\n",
       "      <th>56</th>\n",
       "      <td>32674</td>\n",
       "      <td>Elrond</td>\n",
       "      <td>32</td>\n",
       "      <td>18</td>\n",
       "      <td>24</td>\n",
       "    </tr>\n",
       "    <tr>\n",
       "      <th>55</th>\n",
       "      <td>32674</td>\n",
       "      <td>Frodo</td>\n",
       "      <td>51</td>\n",
       "      <td>37</td>\n",
       "      <td>22</td>\n",
       "    </tr>\n",
       "    <tr>\n",
       "      <th>63</th>\n",
       "      <td>32674</td>\n",
       "      <td>Merry</td>\n",
       "      <td>34</td>\n",
       "      <td>23</td>\n",
       "      <td>18</td>\n",
       "    </tr>\n",
       "    <tr>\n",
       "      <th>138</th>\n",
       "      <td>32674</td>\n",
       "      <td>Boromir</td>\n",
       "      <td>18</td>\n",
       "      <td>6</td>\n",
       "      <td>17</td>\n",
       "    </tr>\n",
       "    <tr>\n",
       "      <th>118</th>\n",
       "      <td>32674</td>\n",
       "      <td>Sam</td>\n",
       "      <td>28</td>\n",
       "      <td>20</td>\n",
       "      <td>17</td>\n",
       "    </tr>\n",
       "    <tr>\n",
       "      <th>3</th>\n",
       "      <td>32674</td>\n",
       "      <td>Galadriel</td>\n",
       "      <td>19</td>\n",
       "      <td>6</td>\n",
       "      <td>16</td>\n",
       "    </tr>\n",
       "    <tr>\n",
       "      <th>132</th>\n",
       "      <td>32674</td>\n",
       "      <td>Legolas</td>\n",
       "      <td>25</td>\n",
       "      <td>18</td>\n",
       "      <td>16</td>\n",
       "    </tr>\n",
       "  </tbody>\n",
       "</table>\n",
       "</div>"
      ],
      "text/plain": [
       "     timestamp       name  degree  out_degree  in_degree\n",
       "97       32674    Aragorn      45           5         45\n",
       "134      32674    Faramir      29           3         29\n",
       "54       32674    Gandalf      49          35         24\n",
       "56       32674     Elrond      32          18         24\n",
       "55       32674      Frodo      51          37         22\n",
       "63       32674      Merry      34          23         18\n",
       "138      32674    Boromir      18           6         17\n",
       "118      32674        Sam      28          20         17\n",
       "3        32674  Galadriel      19           6         16\n",
       "132      32674    Legolas      25          18         16"
      ]
     },
     "execution_count": 17,
     "metadata": {},
     "output_type": "execute_result"
    }
   ],
   "source": [
    "df.sort_values(['in_degree'], ascending=False)[:10]"
   ]
  },
  {
   "cell_type": "markdown",
   "id": "c6dca719-a66f-41d2-9bf1-4bf49bf0028a",
   "metadata": {
    "pycharm": {
     "name": "#%% md\n"
    }
   },
   "source": [
    "**Sort by highest out-degree, top 10**"
   ]
  },
  {
   "cell_type": "code",
   "execution_count": 18,
   "id": "5357d232-c67c-42ef-97c9-01f17d40169b",
   "metadata": {
    "pycharm": {
     "name": "#%%\n"
    }
   },
   "outputs": [
    {
     "data": {
      "text/html": [
       "<div>\n",
       "<style scoped>\n",
       "    .dataframe tbody tr th:only-of-type {\n",
       "        vertical-align: middle;\n",
       "    }\n",
       "\n",
       "    .dataframe tbody tr th {\n",
       "        vertical-align: top;\n",
       "    }\n",
       "\n",
       "    .dataframe thead th {\n",
       "        text-align: right;\n",
       "    }\n",
       "</style>\n",
       "<table border=\"1\" class=\"dataframe\">\n",
       "  <thead>\n",
       "    <tr style=\"text-align: right;\">\n",
       "      <th></th>\n",
       "      <th>timestamp</th>\n",
       "      <th>name</th>\n",
       "      <th>degree</th>\n",
       "      <th>out_degree</th>\n",
       "      <th>in_degree</th>\n",
       "    </tr>\n",
       "  </thead>\n",
       "  <tbody>\n",
       "    <tr>\n",
       "      <th>55</th>\n",
       "      <td>32674</td>\n",
       "      <td>Frodo</td>\n",
       "      <td>51</td>\n",
       "      <td>37</td>\n",
       "      <td>22</td>\n",
       "    </tr>\n",
       "    <tr>\n",
       "      <th>54</th>\n",
       "      <td>32674</td>\n",
       "      <td>Gandalf</td>\n",
       "      <td>49</td>\n",
       "      <td>35</td>\n",
       "      <td>24</td>\n",
       "    </tr>\n",
       "    <tr>\n",
       "      <th>32</th>\n",
       "      <td>32674</td>\n",
       "      <td>Pippin</td>\n",
       "      <td>34</td>\n",
       "      <td>30</td>\n",
       "      <td>10</td>\n",
       "    </tr>\n",
       "    <tr>\n",
       "      <th>63</th>\n",
       "      <td>32674</td>\n",
       "      <td>Merry</td>\n",
       "      <td>34</td>\n",
       "      <td>23</td>\n",
       "      <td>18</td>\n",
       "    </tr>\n",
       "    <tr>\n",
       "      <th>52</th>\n",
       "      <td>32674</td>\n",
       "      <td>Théoden</td>\n",
       "      <td>30</td>\n",
       "      <td>22</td>\n",
       "      <td>9</td>\n",
       "    </tr>\n",
       "    <tr>\n",
       "      <th>129</th>\n",
       "      <td>32674</td>\n",
       "      <td>Gimli</td>\n",
       "      <td>25</td>\n",
       "      <td>22</td>\n",
       "      <td>11</td>\n",
       "    </tr>\n",
       "    <tr>\n",
       "      <th>118</th>\n",
       "      <td>32674</td>\n",
       "      <td>Sam</td>\n",
       "      <td>28</td>\n",
       "      <td>20</td>\n",
       "      <td>17</td>\n",
       "    </tr>\n",
       "    <tr>\n",
       "      <th>56</th>\n",
       "      <td>32674</td>\n",
       "      <td>Elrond</td>\n",
       "      <td>32</td>\n",
       "      <td>18</td>\n",
       "      <td>24</td>\n",
       "    </tr>\n",
       "    <tr>\n",
       "      <th>4</th>\n",
       "      <td>32674</td>\n",
       "      <td>Isildur</td>\n",
       "      <td>18</td>\n",
       "      <td>18</td>\n",
       "      <td>0</td>\n",
       "    </tr>\n",
       "    <tr>\n",
       "      <th>132</th>\n",
       "      <td>32674</td>\n",
       "      <td>Legolas</td>\n",
       "      <td>25</td>\n",
       "      <td>18</td>\n",
       "      <td>16</td>\n",
       "    </tr>\n",
       "  </tbody>\n",
       "</table>\n",
       "</div>"
      ],
      "text/plain": [
       "     timestamp     name  degree  out_degree  in_degree\n",
       "55       32674    Frodo      51          37         22\n",
       "54       32674  Gandalf      49          35         24\n",
       "32       32674   Pippin      34          30         10\n",
       "63       32674    Merry      34          23         18\n",
       "52       32674  Théoden      30          22          9\n",
       "129      32674    Gimli      25          22         11\n",
       "118      32674      Sam      28          20         17\n",
       "56       32674   Elrond      32          18         24\n",
       "4        32674  Isildur      18          18          0\n",
       "132      32674  Legolas      25          18         16"
      ]
     },
     "execution_count": 18,
     "metadata": {},
     "output_type": "execute_result"
    }
   ],
   "source": [
    "df.sort_values(['out_degree'], ascending=False)[:10]"
   ]
  },
  {
   "cell_type": "markdown",
   "id": "75c777ae-5661-415d-9600-6c38b54f09fd",
   "metadata": {
    "pycharm": {
     "name": "#%% md\n"
    }
   },
   "source": [
    "# Run a PageRank algorithm 📑"
   ]
  },
  {
   "cell_type": "markdown",
   "id": "9de7a6b8",
   "metadata": {
    "pycharm": {
     "name": "#%% md\n"
    }
   },
   "source": [
    "Run your selected algorithm on your graph, here we run PageRank. Your algorithms can be obtained from the PyRaphtory object you created at the start. Specify where you write the result of your algorithm to, e.g. the additional column results in your dataframe."
   ]
  },
  {
   "cell_type": "code",
   "execution_count": 11,
   "id": "ad4aecf8-3506-49ee-9b6a-e562ade5a8dd",
   "metadata": {
    "pycharm": {
     "name": "#%%\n"
    }
   },
   "outputs": [
    {
     "name": "stdout",
     "output_type": "stream",
     "text": [
      "11:13:00.556 [io-compute-blocker-7] INFO  com.raphtory.api.querytracker.QueryProgressTracker - Job PageRank:NodeList_1270546213624060408: Starting query progress tracker.\n",
      "11:13:00.576 [spawner-akka.actor.default-dispatcher-8] INFO  com.raphtory.internals.components.querymanager.QueryManager - Query 'PageRank:NodeList_1270546213624060408' received, your job ID is 'PageRank:NodeList_1270546213624060408'.\n",
      "11:13:00.580 [spawner-akka.actor.default-dispatcher-5] INFO  com.raphtory.internals.components.partition.QueryExecutor - PageRank:NodeList_1270546213624060408_0: Starting QueryExecutor.\n",
      "11:13:00.591 [io-compute-blocker-9] INFO  com.raphtory.api.analysis.table.TableOutputTracker - Job PageRank:NodeList_1270546213624060408: Starting output collector.\n",
      "11:13:01.025 [spawner-akka.actor.default-dispatcher-3] INFO  com.raphtory.internals.components.querymanager.QueryHandler - Job 'PageRank:NodeList_1270546213624060408': Perspective at Time '32674' took 296 ms to run. \n",
      "11:13:01.025 [spawner-akka.actor.default-dispatcher-11] INFO  com.raphtory.api.querytracker.QueryProgressTracker - Job 'PageRank:NodeList_1270546213624060408': Perspective '32674' finished in 469 ms.\n",
      "11:13:01.025 [spawner-akka.actor.default-dispatcher-11] INFO  com.raphtory.api.querytracker.QueryProgressTracker - Job PageRank:NodeList_1270546213624060408: Running query, processed 1 perspectives.\n",
      "11:13:01.025 [spawner-akka.actor.default-dispatcher-3] INFO  com.raphtory.api.querytracker.QueryProgressTracker - Job PageRank:NodeList_1270546213624060408: Query completed with 1 perspectives and finished in 469 ms.\n"
     ]
    }
   ],
   "source": [
    "cols = [\"prlabel\"]\n",
    "\n",
    "df_pagerank = rg.at(32674) \\\n",
    "                .past() \\\n",
    "                .transform(pr.algorithms.generic.centrality.PageRank())\\\n",
    "                .execute(pr.algorithms.generic.NodeList(*cols)) \\\n",
    "                .to_df([\"name\"] + cols)"
   ]
  },
  {
   "cell_type": "markdown",
   "id": "c42e5fff",
   "metadata": {
    "pycharm": {
     "name": "#%% md\n"
    }
   },
   "source": [
    "**Clean your dataframe** 🧹"
   ]
  },
  {
   "cell_type": "code",
   "execution_count": 12,
   "id": "98e4eef5-cf37-46ed-a20b-c06058cd0139",
   "metadata": {
    "pycharm": {
     "name": "#%%\n"
    }
   },
   "outputs": [],
   "source": [
    "## clean\n",
    "df_pagerank.drop(columns=['window'], inplace=True)"
   ]
  },
  {
   "cell_type": "code",
   "execution_count": 13,
   "id": "a62597ff-bdab-4b90-9413-93b58ea3ed5e",
   "metadata": {
    "pycharm": {
     "name": "#%%\n"
    }
   },
   "outputs": [
    {
     "data": {
      "text/html": [
       "<div>\n",
       "<style scoped>\n",
       "    .dataframe tbody tr th:only-of-type {\n",
       "        vertical-align: middle;\n",
       "    }\n",
       "\n",
       "    .dataframe tbody tr th {\n",
       "        vertical-align: top;\n",
       "    }\n",
       "\n",
       "    .dataframe thead th {\n",
       "        text-align: right;\n",
       "    }\n",
       "</style>\n",
       "<table border=\"1\" class=\"dataframe\">\n",
       "  <thead>\n",
       "    <tr style=\"text-align: right;\">\n",
       "      <th></th>\n",
       "      <th>timestamp</th>\n",
       "      <th>name</th>\n",
       "      <th>prlabel</th>\n",
       "    </tr>\n",
       "  </thead>\n",
       "  <tbody>\n",
       "    <tr>\n",
       "      <th>0</th>\n",
       "      <td>32674</td>\n",
       "      <td>Hirgon</td>\n",
       "      <td>0.277968</td>\n",
       "    </tr>\n",
       "    <tr>\n",
       "      <th>1</th>\n",
       "      <td>32674</td>\n",
       "      <td>Hador</td>\n",
       "      <td>0.459710</td>\n",
       "    </tr>\n",
       "    <tr>\n",
       "      <th>2</th>\n",
       "      <td>32674</td>\n",
       "      <td>Horn</td>\n",
       "      <td>0.522389</td>\n",
       "    </tr>\n",
       "    <tr>\n",
       "      <th>3</th>\n",
       "      <td>32674</td>\n",
       "      <td>Galadriel</td>\n",
       "      <td>2.228852</td>\n",
       "    </tr>\n",
       "    <tr>\n",
       "      <th>4</th>\n",
       "      <td>32674</td>\n",
       "      <td>Isildur</td>\n",
       "      <td>0.277968</td>\n",
       "    </tr>\n",
       "    <tr>\n",
       "      <th>...</th>\n",
       "      <td>...</td>\n",
       "      <td>...</td>\n",
       "      <td>...</td>\n",
       "    </tr>\n",
       "    <tr>\n",
       "      <th>134</th>\n",
       "      <td>32674</td>\n",
       "      <td>Faramir</td>\n",
       "      <td>8.551166</td>\n",
       "    </tr>\n",
       "    <tr>\n",
       "      <th>135</th>\n",
       "      <td>32674</td>\n",
       "      <td>Bain</td>\n",
       "      <td>0.396105</td>\n",
       "    </tr>\n",
       "    <tr>\n",
       "      <th>136</th>\n",
       "      <td>32674</td>\n",
       "      <td>Walda</td>\n",
       "      <td>0.817198</td>\n",
       "    </tr>\n",
       "    <tr>\n",
       "      <th>137</th>\n",
       "      <td>32674</td>\n",
       "      <td>Thranduil</td>\n",
       "      <td>0.761719</td>\n",
       "    </tr>\n",
       "    <tr>\n",
       "      <th>138</th>\n",
       "      <td>32674</td>\n",
       "      <td>Boromir</td>\n",
       "      <td>4.824014</td>\n",
       "    </tr>\n",
       "  </tbody>\n",
       "</table>\n",
       "<p>139 rows × 3 columns</p>\n",
       "</div>"
      ],
      "text/plain": [
       "     timestamp       name   prlabel\n",
       "0        32674     Hirgon  0.277968\n",
       "1        32674      Hador  0.459710\n",
       "2        32674       Horn  0.522389\n",
       "3        32674  Galadriel  2.228852\n",
       "4        32674    Isildur  0.277968\n",
       "..         ...        ...       ...\n",
       "134      32674    Faramir  8.551166\n",
       "135      32674       Bain  0.396105\n",
       "136      32674      Walda  0.817198\n",
       "137      32674  Thranduil  0.761719\n",
       "138      32674    Boromir  4.824014\n",
       "\n",
       "[139 rows x 3 columns]"
      ]
     },
     "execution_count": 13,
     "metadata": {},
     "output_type": "execute_result"
    }
   ],
   "source": [
    "df_pagerank"
   ]
  },
  {
   "cell_type": "markdown",
   "id": "2e510261-0049-4c44-8630-dcddbc107f07",
   "metadata": {
    "pycharm": {
     "name": "#%% md\n"
    }
   },
   "source": [
    "**The top ten most ranked**"
   ]
  },
  {
   "cell_type": "code",
   "execution_count": 22,
   "id": "d1bf1258-e1db-4b34-af93-352191817b4c",
   "metadata": {
    "pycharm": {
     "name": "#%%\n"
    }
   },
   "outputs": [
    {
     "data": {
      "text/html": [
       "<div>\n",
       "<style scoped>\n",
       "    .dataframe tbody tr th:only-of-type {\n",
       "        vertical-align: middle;\n",
       "    }\n",
       "\n",
       "    .dataframe tbody tr th {\n",
       "        vertical-align: top;\n",
       "    }\n",
       "\n",
       "    .dataframe thead th {\n",
       "        text-align: right;\n",
       "    }\n",
       "</style>\n",
       "<table border=\"1\" class=\"dataframe\">\n",
       "  <thead>\n",
       "    <tr style=\"text-align: right;\">\n",
       "      <th></th>\n",
       "      <th>timestamp</th>\n",
       "      <th>name</th>\n",
       "      <th>prlabel</th>\n",
       "    </tr>\n",
       "  </thead>\n",
       "  <tbody>\n",
       "    <tr>\n",
       "      <th>97</th>\n",
       "      <td>32674</td>\n",
       "      <td>Aragorn</td>\n",
       "      <td>13.246457</td>\n",
       "    </tr>\n",
       "    <tr>\n",
       "      <th>134</th>\n",
       "      <td>32674</td>\n",
       "      <td>Faramir</td>\n",
       "      <td>8.551166</td>\n",
       "    </tr>\n",
       "    <tr>\n",
       "      <th>56</th>\n",
       "      <td>32674</td>\n",
       "      <td>Elrond</td>\n",
       "      <td>5.621548</td>\n",
       "    </tr>\n",
       "    <tr>\n",
       "      <th>138</th>\n",
       "      <td>32674</td>\n",
       "      <td>Boromir</td>\n",
       "      <td>4.824014</td>\n",
       "    </tr>\n",
       "    <tr>\n",
       "      <th>132</th>\n",
       "      <td>32674</td>\n",
       "      <td>Legolas</td>\n",
       "      <td>4.622590</td>\n",
       "    </tr>\n",
       "    <tr>\n",
       "      <th>110</th>\n",
       "      <td>32674</td>\n",
       "      <td>Imrahil</td>\n",
       "      <td>4.095600</td>\n",
       "    </tr>\n",
       "    <tr>\n",
       "      <th>65</th>\n",
       "      <td>32674</td>\n",
       "      <td>Éomer</td>\n",
       "      <td>3.473897</td>\n",
       "    </tr>\n",
       "    <tr>\n",
       "      <th>42</th>\n",
       "      <td>32674</td>\n",
       "      <td>Samwise</td>\n",
       "      <td>3.292762</td>\n",
       "    </tr>\n",
       "    <tr>\n",
       "      <th>118</th>\n",
       "      <td>32674</td>\n",
       "      <td>Sam</td>\n",
       "      <td>2.826140</td>\n",
       "    </tr>\n",
       "    <tr>\n",
       "      <th>55</th>\n",
       "      <td>32674</td>\n",
       "      <td>Frodo</td>\n",
       "      <td>2.806475</td>\n",
       "    </tr>\n",
       "  </tbody>\n",
       "</table>\n",
       "</div>"
      ],
      "text/plain": [
       "     timestamp     name    prlabel\n",
       "97       32674  Aragorn  13.246457\n",
       "134      32674  Faramir   8.551166\n",
       "56       32674   Elrond   5.621548\n",
       "138      32674  Boromir   4.824014\n",
       "132      32674  Legolas   4.622590\n",
       "110      32674  Imrahil   4.095600\n",
       "65       32674    Éomer   3.473897\n",
       "42       32674  Samwise   3.292762\n",
       "118      32674      Sam   2.826140\n",
       "55       32674    Frodo   2.806475"
      ]
     },
     "execution_count": 22,
     "metadata": {},
     "output_type": "execute_result"
    }
   ],
   "source": [
    "df_pagerank.sort_values(['prlabel'], ascending=False)[:10]"
   ]
  },
  {
   "cell_type": "markdown",
   "id": "6afeefa8-a6d6-4bc8-8c2d-681095a18c48",
   "metadata": {
    "pycharm": {
     "name": "#%% md\n"
    }
   },
   "source": [
    "## Run a connected components algorithm "
   ]
  },
  {
   "cell_type": "markdown",
   "id": "15409680",
   "metadata": {
    "pycharm": {
     "name": "#%% md\n"
    }
   },
   "source": [
    "Example running connected components algorithm on the graph."
   ]
  },
  {
   "cell_type": "code",
   "execution_count": 14,
   "id": "cf4ce1a4",
   "metadata": {
    "collapsed": false,
    "jupyter": {
     "outputs_hidden": false
    },
    "pycharm": {
     "name": "#%%\n"
    }
   },
   "outputs": [
    {
     "name": "stdout",
     "output_type": "stream",
     "text": [
      "11:13:39.722 [io-compute-blocker-3] INFO  com.raphtory.api.querytracker.QueryProgressTracker - Job ConnectedComponents:NodeList_7759667464255713790: Starting query progress tracker.\n",
      "11:13:39.728 [spawner-akka.actor.default-dispatcher-3] INFO  com.raphtory.internals.components.querymanager.QueryManager - Query 'ConnectedComponents:NodeList_7759667464255713790' received, your job ID is 'ConnectedComponents:NodeList_7759667464255713790'.\n",
      "11:13:39.731 [spawner-akka.actor.default-dispatcher-7] INFO  com.raphtory.internals.components.partition.QueryExecutor - ConnectedComponents:NodeList_7759667464255713790_0: Starting QueryExecutor.\n",
      "11:13:39.757 [io-compute-blocker-5] INFO  com.raphtory.api.analysis.table.TableOutputTracker - Job ConnectedComponents:NodeList_7759667464255713790: Starting output collector.\n",
      "11:13:39.972 [spawner-akka.actor.default-dispatcher-11] INFO  com.raphtory.api.querytracker.QueryProgressTracker - Job 'ConnectedComponents:NodeList_7759667464255713790': Perspective '32674' finished in 250 ms.\n",
      "11:13:39.972 [spawner-akka.actor.default-dispatcher-6] INFO  com.raphtory.internals.components.querymanager.QueryHandler - Job 'ConnectedComponents:NodeList_7759667464255713790': Perspective at Time '32674' took 57 ms to run. \n",
      "11:13:39.973 [spawner-akka.actor.default-dispatcher-11] INFO  com.raphtory.api.querytracker.QueryProgressTracker - Job ConnectedComponents:NodeList_7759667464255713790: Running query, processed 1 perspectives.\n",
      "11:13:39.973 [spawner-akka.actor.default-dispatcher-3] INFO  com.raphtory.api.querytracker.QueryProgressTracker - Job ConnectedComponents:NodeList_7759667464255713790: Query completed with 1 perspectives and finished in 251 ms.\n"
     ]
    }
   ],
   "source": [
    "cols = [\"cclabel\"]\n",
    "df_cc = rg.at(32674) \\\n",
    "                .past() \\\n",
    "                .transform(pr.algorithms.generic.ConnectedComponents)\\\n",
    "                .execute(pr.algorithms.generic.NodeList(*cols)) \\\n",
    "                .to_df([\"name\"] + cols)"
   ]
  },
  {
   "cell_type": "markdown",
   "id": "a5a934ba",
   "metadata": {
    "pycharm": {
     "name": "#%% md\n"
    }
   },
   "source": [
    "**Clean dataframe.**"
   ]
  },
  {
   "cell_type": "code",
   "execution_count": 15,
   "id": "3701e686-c165-426a-a705-4a17b73f18f9",
   "metadata": {
    "pycharm": {
     "name": "#%%\n"
    }
   },
   "outputs": [],
   "source": [
    "## clean\n",
    "df_cc.drop(columns=['window'], inplace=True)"
   ]
  },
  {
   "cell_type": "markdown",
   "id": "ef921b02",
   "metadata": {
    "pycharm": {
     "name": "#%% md\n"
    }
   },
   "source": [
    "**Preview dataframe.**"
   ]
  },
  {
   "cell_type": "code",
   "execution_count": 16,
   "id": "984c7943-fe22-4bd3-b5ff-64e509ec7a50",
   "metadata": {
    "pycharm": {
     "name": "#%%\n"
    }
   },
   "outputs": [
    {
     "data": {
      "text/html": [
       "<div>\n",
       "<style scoped>\n",
       "    .dataframe tbody tr th:only-of-type {\n",
       "        vertical-align: middle;\n",
       "    }\n",
       "\n",
       "    .dataframe tbody tr th {\n",
       "        vertical-align: top;\n",
       "    }\n",
       "\n",
       "    .dataframe thead th {\n",
       "        text-align: right;\n",
       "    }\n",
       "</style>\n",
       "<table border=\"1\" class=\"dataframe\">\n",
       "  <thead>\n",
       "    <tr style=\"text-align: right;\">\n",
       "      <th></th>\n",
       "      <th>timestamp</th>\n",
       "      <th>name</th>\n",
       "      <th>cclabel</th>\n",
       "    </tr>\n",
       "  </thead>\n",
       "  <tbody>\n",
       "    <tr>\n",
       "      <th>0</th>\n",
       "      <td>32674</td>\n",
       "      <td>Hirgon</td>\n",
       "      <td>-8637342647242242534</td>\n",
       "    </tr>\n",
       "    <tr>\n",
       "      <th>1</th>\n",
       "      <td>32674</td>\n",
       "      <td>Hador</td>\n",
       "      <td>-8637342647242242534</td>\n",
       "    </tr>\n",
       "    <tr>\n",
       "      <th>2</th>\n",
       "      <td>32674</td>\n",
       "      <td>Horn</td>\n",
       "      <td>-8637342647242242534</td>\n",
       "    </tr>\n",
       "    <tr>\n",
       "      <th>3</th>\n",
       "      <td>32674</td>\n",
       "      <td>Galadriel</td>\n",
       "      <td>-8637342647242242534</td>\n",
       "    </tr>\n",
       "    <tr>\n",
       "      <th>4</th>\n",
       "      <td>32674</td>\n",
       "      <td>Isildur</td>\n",
       "      <td>-8637342647242242534</td>\n",
       "    </tr>\n",
       "    <tr>\n",
       "      <th>...</th>\n",
       "      <td>...</td>\n",
       "      <td>...</td>\n",
       "      <td>...</td>\n",
       "    </tr>\n",
       "    <tr>\n",
       "      <th>134</th>\n",
       "      <td>32674</td>\n",
       "      <td>Faramir</td>\n",
       "      <td>-8637342647242242534</td>\n",
       "    </tr>\n",
       "    <tr>\n",
       "      <th>135</th>\n",
       "      <td>32674</td>\n",
       "      <td>Bain</td>\n",
       "      <td>-6628080393138316116</td>\n",
       "    </tr>\n",
       "    <tr>\n",
       "      <th>136</th>\n",
       "      <td>32674</td>\n",
       "      <td>Walda</td>\n",
       "      <td>-8637342647242242534</td>\n",
       "    </tr>\n",
       "    <tr>\n",
       "      <th>137</th>\n",
       "      <td>32674</td>\n",
       "      <td>Thranduil</td>\n",
       "      <td>-8637342647242242534</td>\n",
       "    </tr>\n",
       "    <tr>\n",
       "      <th>138</th>\n",
       "      <td>32674</td>\n",
       "      <td>Boromir</td>\n",
       "      <td>-8637342647242242534</td>\n",
       "    </tr>\n",
       "  </tbody>\n",
       "</table>\n",
       "<p>139 rows × 3 columns</p>\n",
       "</div>"
      ],
      "text/plain": [
       "     timestamp       name              cclabel\n",
       "0        32674     Hirgon -8637342647242242534\n",
       "1        32674      Hador -8637342647242242534\n",
       "2        32674       Horn -8637342647242242534\n",
       "3        32674  Galadriel -8637342647242242534\n",
       "4        32674    Isildur -8637342647242242534\n",
       "..         ...        ...                  ...\n",
       "134      32674    Faramir -8637342647242242534\n",
       "135      32674       Bain -6628080393138316116\n",
       "136      32674      Walda -8637342647242242534\n",
       "137      32674  Thranduil -8637342647242242534\n",
       "138      32674    Boromir -8637342647242242534\n",
       "\n",
       "[139 rows x 3 columns]"
      ]
     },
     "execution_count": 16,
     "metadata": {},
     "output_type": "execute_result"
    }
   ],
   "source": [
    "df_cc"
   ]
  },
  {
   "cell_type": "markdown",
   "id": "fa4a353c-4ac8-4622-a8d8-3875ff8ab36d",
   "metadata": {
    "pycharm": {
     "name": "#%% md\n"
    }
   },
   "source": [
    "### Number of distinct components "
   ]
  },
  {
   "cell_type": "markdown",
   "id": "4ae3c62e",
   "metadata": {
    "pycharm": {
     "name": "#%% md\n"
    }
   },
   "source": [
    "Extract number of distinct components, which is 3 in this dataframe."
   ]
  },
  {
   "cell_type": "code",
   "execution_count": 17,
   "id": "152ba931-0cf2-416f-a77f-4e5e0e2f5d09",
   "metadata": {
    "pycharm": {
     "name": "#%%\n"
    }
   },
   "outputs": [
    {
     "data": {
      "text/plain": [
       "3"
      ]
     },
     "execution_count": 17,
     "metadata": {},
     "output_type": "execute_result"
    }
   ],
   "source": [
    "len(set(df_cc['cclabel']))"
   ]
  },
  {
   "cell_type": "markdown",
   "id": "e1c8faf8-c127-43a2-a947-166ecb5c2d18",
   "metadata": {
    "pycharm": {
     "name": "#%% md\n"
    }
   },
   "source": [
    "### Size of components "
   ]
  },
  {
   "cell_type": "markdown",
   "id": "df8af0b7",
   "metadata": {
    "pycharm": {
     "name": "#%% md\n"
    }
   },
   "source": [
    "Calculate the size of the 3 connected components."
   ]
  },
  {
   "cell_type": "code",
   "execution_count": 18,
   "id": "a14abe9e-d240-446d-849a-faac644bfc6b",
   "metadata": {
    "pycharm": {
     "name": "#%%\n"
    }
   },
   "outputs": [
    {
     "data": {
      "text/html": [
       "<div>\n",
       "<style scoped>\n",
       "    .dataframe tbody tr th:only-of-type {\n",
       "        vertical-align: middle;\n",
       "    }\n",
       "\n",
       "    .dataframe tbody tr th {\n",
       "        vertical-align: top;\n",
       "    }\n",
       "\n",
       "    .dataframe thead th {\n",
       "        text-align: right;\n",
       "    }\n",
       "</style>\n",
       "<table border=\"1\" class=\"dataframe\">\n",
       "  <thead>\n",
       "    <tr style=\"text-align: right;\">\n",
       "      <th></th>\n",
       "      <th>cclabel</th>\n",
       "      <th>name</th>\n",
       "    </tr>\n",
       "  </thead>\n",
       "  <tbody>\n",
       "    <tr>\n",
       "      <th>0</th>\n",
       "      <td>-8637342647242242534</td>\n",
       "      <td>134</td>\n",
       "    </tr>\n",
       "    <tr>\n",
       "      <th>1</th>\n",
       "      <td>-6628080393138316116</td>\n",
       "      <td>3</td>\n",
       "    </tr>\n",
       "    <tr>\n",
       "      <th>2</th>\n",
       "      <td>-5499479516525190226</td>\n",
       "      <td>2</td>\n",
       "    </tr>\n",
       "  </tbody>\n",
       "</table>\n",
       "</div>"
      ],
      "text/plain": [
       "               cclabel  name\n",
       "0 -8637342647242242534   134\n",
       "1 -6628080393138316116     3\n",
       "2 -5499479516525190226     2"
      ]
     },
     "execution_count": 18,
     "metadata": {},
     "output_type": "execute_result"
    }
   ],
   "source": [
    "df_cc.groupby(['cclabel']).count().reset_index().drop(columns=['timestamp'])"
   ]
  },
  {
   "cell_type": "markdown",
   "id": "cf28d75d-fd26-4fae-a9a7-9f895698857c",
   "metadata": {
    "pycharm": {
     "name": "#%% md\n"
    }
   },
   "source": [
    "### Run chained algorithms at once "
   ]
  },
  {
   "cell_type": "markdown",
   "id": "8a1b9299",
   "metadata": {
    "pycharm": {
     "name": "#%% md\n"
    }
   },
   "source": [
    "In this example, we chain PageRank, Connected Components and Degree algorithms, running them one after another on the graph. Specify all the columns in the output dataframe, including an output column for each algorithm in the chain."
   ]
  },
  {
   "cell_type": "code",
   "execution_count": 19,
   "id": "c74e8247-91f2-4889-b013-5450a3ee4da2",
   "metadata": {
    "pycharm": {
     "name": "#%%\n"
    }
   },
   "outputs": [
    {
     "name": "stdout",
     "output_type": "stream",
     "text": [
      "11:14:43.283 [io-compute-blocker-8] INFO  com.raphtory.api.querytracker.QueryProgressTracker - Job PageRank:ConnectedComponents:Degree:NodeList_6562121425753405104: Starting query progress tracker.\n",
      "11:14:43.285 [spawner-akka.actor.default-dispatcher-11] INFO  com.raphtory.internals.components.querymanager.QueryManager - Query 'PageRank:ConnectedComponents:Degree:NodeList_6562121425753405104' received, your job ID is 'PageRank:ConnectedComponents:Degree:NodeList_6562121425753405104'.\n",
      "11:14:43.288 [spawner-akka.actor.default-dispatcher-9] INFO  com.raphtory.internals.components.partition.QueryExecutor - PageRank:ConnectedComponents:Degree:NodeList_6562121425753405104_0: Starting QueryExecutor.\n",
      "11:14:43.312 [io-compute-blocker-2] INFO  com.raphtory.api.analysis.table.TableOutputTracker - Job PageRank:ConnectedComponents:Degree:NodeList_6562121425753405104: Starting output collector.\n",
      "11:14:43.568 [spawner-akka.actor.default-dispatcher-9] INFO  com.raphtory.internals.components.querymanager.QueryHandler - Job 'PageRank:ConnectedComponents:Degree:NodeList_6562121425753405104': Perspective at Time '32674' took 119 ms to run. \n",
      "11:14:43.568 [spawner-akka.actor.default-dispatcher-5] INFO  com.raphtory.api.querytracker.QueryProgressTracker - Job 'PageRank:ConnectedComponents:Degree:NodeList_6562121425753405104': Perspective '32674' finished in 285 ms.\n",
      "11:14:43.568 [spawner-akka.actor.default-dispatcher-5] INFO  com.raphtory.api.querytracker.QueryProgressTracker - Job PageRank:ConnectedComponents:Degree:NodeList_6562121425753405104: Running query, processed 1 perspectives.\n",
      "11:14:43.570 [spawner-akka.actor.default-dispatcher-10] INFO  com.raphtory.api.querytracker.QueryProgressTracker - Job PageRank:ConnectedComponents:Degree:NodeList_6562121425753405104: Query completed with 1 perspectives and finished in 287 ms.\n"
     ]
    }
   ],
   "source": [
    "cols = [\"inDegree\", \"outDegree\", \"degree\",\"prlabel\",\"cclabel\"]\n",
    "\n",
    "df_chained = rg.at(32674) \\\n",
    "                .past() \\\n",
    "                .transform(pr.algorithms.generic.centrality.PageRank())\\\n",
    "                .transform(pr.algorithms.generic.ConnectedComponents)\\\n",
    "                .transform(pr.algorithms.generic.centrality.Degree())\\\n",
    "                .execute(pr.algorithms.generic.NodeList(*cols)) \\\n",
    "                .to_df([\"name\"] + cols)"
   ]
  },
  {
   "cell_type": "code",
   "execution_count": 20,
   "id": "04410753-14f1-4004-bda3-bf9034629f4c",
   "metadata": {
    "pycharm": {
     "name": "#%%\n"
    }
   },
   "outputs": [],
   "source": [
    "df_chained.drop(columns=['window'], inplace=True)"
   ]
  },
  {
   "cell_type": "code",
   "execution_count": 21,
   "id": "9ba2fd2b-a608-4097-9916-758eac389047",
   "metadata": {
    "pycharm": {
     "name": "#%%\n"
    }
   },
   "outputs": [],
   "source": [
    "df_chained['degree_numeric'] = df_chained['degree'].astype(float)"
   ]
  },
  {
   "cell_type": "code",
   "execution_count": 22,
   "id": "cd8ee995",
   "metadata": {
    "pycharm": {
     "name": "#%%\n"
    }
   },
   "outputs": [
    {
     "data": {
      "text/html": [
       "<div>\n",
       "<style scoped>\n",
       "    .dataframe tbody tr th:only-of-type {\n",
       "        vertical-align: middle;\n",
       "    }\n",
       "\n",
       "    .dataframe tbody tr th {\n",
       "        vertical-align: top;\n",
       "    }\n",
       "\n",
       "    .dataframe thead th {\n",
       "        text-align: right;\n",
       "    }\n",
       "</style>\n",
       "<table border=\"1\" class=\"dataframe\">\n",
       "  <thead>\n",
       "    <tr style=\"text-align: right;\">\n",
       "      <th></th>\n",
       "      <th>timestamp</th>\n",
       "      <th>name</th>\n",
       "      <th>inDegree</th>\n",
       "      <th>outDegree</th>\n",
       "      <th>degree</th>\n",
       "      <th>prlabel</th>\n",
       "      <th>cclabel</th>\n",
       "      <th>degree_numeric</th>\n",
       "    </tr>\n",
       "  </thead>\n",
       "  <tbody>\n",
       "    <tr>\n",
       "      <th>0</th>\n",
       "      <td>32674</td>\n",
       "      <td>Hirgon</td>\n",
       "      <td>0</td>\n",
       "      <td>2</td>\n",
       "      <td>2</td>\n",
       "      <td>0.277968</td>\n",
       "      <td>-8637342647242242534</td>\n",
       "      <td>2.0</td>\n",
       "    </tr>\n",
       "    <tr>\n",
       "      <th>1</th>\n",
       "      <td>32674</td>\n",
       "      <td>Hador</td>\n",
       "      <td>2</td>\n",
       "      <td>1</td>\n",
       "      <td>3</td>\n",
       "      <td>0.459710</td>\n",
       "      <td>-8637342647242242534</td>\n",
       "      <td>3.0</td>\n",
       "    </tr>\n",
       "    <tr>\n",
       "      <th>2</th>\n",
       "      <td>32674</td>\n",
       "      <td>Horn</td>\n",
       "      <td>3</td>\n",
       "      <td>1</td>\n",
       "      <td>4</td>\n",
       "      <td>0.522389</td>\n",
       "      <td>-8637342647242242534</td>\n",
       "      <td>4.0</td>\n",
       "    </tr>\n",
       "    <tr>\n",
       "      <th>3</th>\n",
       "      <td>32674</td>\n",
       "      <td>Galadriel</td>\n",
       "      <td>16</td>\n",
       "      <td>6</td>\n",
       "      <td>19</td>\n",
       "      <td>2.228852</td>\n",
       "      <td>-8637342647242242534</td>\n",
       "      <td>19.0</td>\n",
       "    </tr>\n",
       "    <tr>\n",
       "      <th>4</th>\n",
       "      <td>32674</td>\n",
       "      <td>Isildur</td>\n",
       "      <td>0</td>\n",
       "      <td>18</td>\n",
       "      <td>18</td>\n",
       "      <td>0.277968</td>\n",
       "      <td>-8637342647242242534</td>\n",
       "      <td>18.0</td>\n",
       "    </tr>\n",
       "    <tr>\n",
       "      <th>...</th>\n",
       "      <td>...</td>\n",
       "      <td>...</td>\n",
       "      <td>...</td>\n",
       "      <td>...</td>\n",
       "      <td>...</td>\n",
       "      <td>...</td>\n",
       "      <td>...</td>\n",
       "      <td>...</td>\n",
       "    </tr>\n",
       "    <tr>\n",
       "      <th>134</th>\n",
       "      <td>32674</td>\n",
       "      <td>Faramir</td>\n",
       "      <td>29</td>\n",
       "      <td>3</td>\n",
       "      <td>29</td>\n",
       "      <td>8.551166</td>\n",
       "      <td>-8637342647242242534</td>\n",
       "      <td>29.0</td>\n",
       "    </tr>\n",
       "    <tr>\n",
       "      <th>135</th>\n",
       "      <td>32674</td>\n",
       "      <td>Bain</td>\n",
       "      <td>1</td>\n",
       "      <td>1</td>\n",
       "      <td>2</td>\n",
       "      <td>0.396105</td>\n",
       "      <td>-6628080393138316116</td>\n",
       "      <td>2.0</td>\n",
       "    </tr>\n",
       "    <tr>\n",
       "      <th>136</th>\n",
       "      <td>32674</td>\n",
       "      <td>Walda</td>\n",
       "      <td>10</td>\n",
       "      <td>3</td>\n",
       "      <td>13</td>\n",
       "      <td>0.817198</td>\n",
       "      <td>-8637342647242242534</td>\n",
       "      <td>13.0</td>\n",
       "    </tr>\n",
       "    <tr>\n",
       "      <th>137</th>\n",
       "      <td>32674</td>\n",
       "      <td>Thranduil</td>\n",
       "      <td>2</td>\n",
       "      <td>0</td>\n",
       "      <td>2</td>\n",
       "      <td>0.761719</td>\n",
       "      <td>-8637342647242242534</td>\n",
       "      <td>2.0</td>\n",
       "    </tr>\n",
       "    <tr>\n",
       "      <th>138</th>\n",
       "      <td>32674</td>\n",
       "      <td>Boromir</td>\n",
       "      <td>17</td>\n",
       "      <td>6</td>\n",
       "      <td>18</td>\n",
       "      <td>4.824014</td>\n",
       "      <td>-8637342647242242534</td>\n",
       "      <td>18.0</td>\n",
       "    </tr>\n",
       "  </tbody>\n",
       "</table>\n",
       "<p>139 rows × 8 columns</p>\n",
       "</div>"
      ],
      "text/plain": [
       "     timestamp       name  inDegree  outDegree  degree   prlabel  \\\n",
       "0        32674     Hirgon         0          2       2  0.277968   \n",
       "1        32674      Hador         2          1       3  0.459710   \n",
       "2        32674       Horn         3          1       4  0.522389   \n",
       "3        32674  Galadriel        16          6      19  2.228852   \n",
       "4        32674    Isildur         0         18      18  0.277968   \n",
       "..         ...        ...       ...        ...     ...       ...   \n",
       "134      32674    Faramir        29          3      29  8.551166   \n",
       "135      32674       Bain         1          1       2  0.396105   \n",
       "136      32674      Walda        10          3      13  0.817198   \n",
       "137      32674  Thranduil         2          0       2  0.761719   \n",
       "138      32674    Boromir        17          6      18  4.824014   \n",
       "\n",
       "                 cclabel  degree_numeric  \n",
       "0   -8637342647242242534             2.0  \n",
       "1   -8637342647242242534             3.0  \n",
       "2   -8637342647242242534             4.0  \n",
       "3   -8637342647242242534            19.0  \n",
       "4   -8637342647242242534            18.0  \n",
       "..                   ...             ...  \n",
       "134 -8637342647242242534            29.0  \n",
       "135 -6628080393138316116             2.0  \n",
       "136 -8637342647242242534            13.0  \n",
       "137 -8637342647242242534             2.0  \n",
       "138 -8637342647242242534            18.0  \n",
       "\n",
       "[139 rows x 8 columns]"
      ]
     },
     "execution_count": 22,
     "metadata": {},
     "output_type": "execute_result"
    }
   ],
   "source": [
    "df_chained"
   ]
  },
  {
   "cell_type": "markdown",
   "id": "ad1d0a0e-1ed4-468a-b60e-1b657e0550db",
   "metadata": {
    "tags": [],
    "pycharm": {
     "name": "#%% md\n"
    }
   },
   "source": [
    "### Create visualisation by adding nodes 🔎"
   ]
  },
  {
   "cell_type": "code",
   "execution_count": 23,
   "id": "a00922aa-91e1-49d1-a8eb-b36e49cc504b",
   "metadata": {
    "tags": [],
    "pycharm": {
     "name": "#%%\n"
    }
   },
   "outputs": [],
   "source": [
    "def visualise(rg, df_chained):\n",
    "    # Create network object\n",
    "    net = Network(notebook=True, height='750px', width='100%', bgcolor='#222222', font_color='white')\n",
    "    # Set visualisation tool\n",
    "    net.force_atlas_2based()\n",
    "    # Get the node list \n",
    "    df_node_list = rg.at(32674) \\\n",
    "                .past() \\\n",
    "                .execute(pr.algorithms.generic.NodeList()) \\\n",
    "                .to_df(['name'])\n",
    "    \n",
    "    nodes = df_node_list['name'].tolist()\n",
    "    \n",
    "    node_data = []\n",
    "    ignore_items = ['timestamp', 'name', 'window']\n",
    "    for node_name in nodes:\n",
    "        for i, row in df_chained.iterrows():\n",
    "            if row['name']==node_name:\n",
    "                data = ''\n",
    "                for k,v in row.iteritems():\n",
    "                    if k not in ignore_items:\n",
    "                        data = data+str(k)+': '+str(v)+'\\n'\n",
    "                node_data.append(data)\n",
    "                continue\n",
    "    # Add the nodes\n",
    "    net.add_nodes(nodes, title=node_data, value = df_chained.prlabel)\n",
    "    # Get the edge list\n",
    "    df_edge_list = rg.at(32674) \\\n",
    "            .past() \\\n",
    "            .execute(pr.algorithms.generic.EdgeList()) \\\n",
    "            .to_df(['from', 'to'])\n",
    "    edges = []\n",
    "    for i, row in df_edge_list[['from', 'to']].iterrows():\n",
    "        edges.append([row['from'], row['to']])\n",
    "    # Add the edges\n",
    "    net.add_edges(edges)\n",
    "    # Toggle physics\n",
    "    net.toggle_physics(True)\n",
    "    return net"
   ]
  },
  {
   "cell_type": "code",
   "execution_count": 24,
   "id": "ff09c0bd-8344-481a-9d95-4b91b464f047",
   "metadata": {
    "scrolled": true,
    "tags": [],
    "pycharm": {
     "name": "#%%\n"
    }
   },
   "outputs": [
    {
     "name": "stdout",
     "output_type": "stream",
     "text": [
      "11:15:05.451 [io-compute-blocker-6] INFO  com.raphtory.api.querytracker.QueryProgressTracker - Job NodeList_8904726730669930101: Starting query progress tracker.\n",
      "11:15:05.450 [spawner-akka.actor.default-dispatcher-9] INFO  com.raphtory.internals.components.querymanager.QueryManager - Query 'NodeList_8904726730669930101' received, your job ID is 'NodeList_8904726730669930101'.\n",
      "11:15:05.454 [spawner-akka.actor.default-dispatcher-3] INFO  com.raphtory.internals.components.partition.QueryExecutor - NodeList_8904726730669930101_0: Starting QueryExecutor.\n",
      "11:15:05.486 [io-compute-blocker-6] INFO  com.raphtory.api.analysis.table.TableOutputTracker - Job NodeList_8904726730669930101: Starting output collector.\n",
      "11:15:05.662 [spawner-akka.actor.default-dispatcher-6] INFO  com.raphtory.internals.components.querymanager.QueryHandler - Job 'NodeList_8904726730669930101': Perspective at Time '32674' took 11 ms to run. \n",
      "11:15:05.662 [spawner-akka.actor.default-dispatcher-5] INFO  com.raphtory.api.querytracker.QueryProgressTracker - Job 'NodeList_8904726730669930101': Perspective '32674' finished in 212 ms.\n",
      "11:15:05.662 [spawner-akka.actor.default-dispatcher-5] INFO  com.raphtory.api.querytracker.QueryProgressTracker - Job NodeList_8904726730669930101: Running query, processed 1 perspectives.\n",
      "11:15:05.663 [spawner-akka.actor.default-dispatcher-11] INFO  com.raphtory.api.querytracker.QueryProgressTracker - Job NodeList_8904726730669930101: Query completed with 1 perspectives and finished in 213 ms.\n"
     ]
    },
    {
     "name": "stderr",
     "output_type": "stream",
     "text": [
      "/var/folders/rm/nnz28pc96cv2xqzbwlwvwl2r0000gn/T/ipykernel_66243/476822974.py:20: FutureWarning: iteritems is deprecated and will be removed in a future version. Use .items instead.\n",
      "  for k,v in row.iteritems():\n"
     ]
    },
    {
     "name": "stdout",
     "output_type": "stream",
     "text": [
      "11:15:07.237 [io-compute-blocker-7] INFO  com.raphtory.api.querytracker.QueryProgressTracker - Job EdgeList_7098027231021441145: Starting query progress tracker.\n",
      "11:15:07.247 [spawner-akka.actor.default-dispatcher-7] INFO  com.raphtory.internals.components.querymanager.QueryManager - Query 'EdgeList_7098027231021441145' received, your job ID is 'EdgeList_7098027231021441145'.\n",
      "11:15:07.250 [spawner-akka.actor.default-dispatcher-6] INFO  com.raphtory.internals.components.partition.QueryExecutor - EdgeList_7098027231021441145_0: Starting QueryExecutor.\n",
      "11:15:07.279 [io-compute-blocker-3] INFO  com.raphtory.api.analysis.table.TableOutputTracker - Job EdgeList_7098027231021441145: Starting output collector.\n",
      "11:15:07.495 [spawner-akka.actor.default-dispatcher-6] INFO  com.raphtory.internals.components.querymanager.QueryHandler - Job 'EdgeList_7098027231021441145': Perspective at Time '32674' took 47 ms to run. \n",
      "11:15:07.495 [spawner-akka.actor.default-dispatcher-6] INFO  com.raphtory.api.querytracker.QueryProgressTracker - Job 'EdgeList_7098027231021441145': Perspective '32674' finished in 258 ms.\n",
      "11:15:07.495 [spawner-akka.actor.default-dispatcher-6] INFO  com.raphtory.api.querytracker.QueryProgressTracker - Job EdgeList_7098027231021441145: Running query, processed 1 perspectives.\n",
      "11:15:07.496 [spawner-akka.actor.default-dispatcher-10] INFO  com.raphtory.api.querytracker.QueryProgressTracker - Job EdgeList_7098027231021441145: Query completed with 1 perspectives and finished in 259 ms.\n"
     ]
    }
   ],
   "source": [
    "net = visualise(rg, df_chained)"
   ]
  },
  {
   "cell_type": "markdown",
   "id": "8f50bc59",
   "metadata": {
    "pycharm": {
     "name": "#%% md\n"
    }
   },
   "source": [
    "## Show the html file of the visualisation"
   ]
  },
  {
   "cell_type": "code",
   "execution_count": 25,
   "id": "a0602b9f-4915-4215-9f56-fa340a658efe",
   "metadata": {
    "pycharm": {
     "name": "#%%\n"
    }
   },
   "outputs": [
    {
     "data": {
      "text/html": [
       "net.show('preview.html')\n"
      ],
      "text/plain": [
       "<IPython.core.display.HTML object>"
      ]
     },
     "metadata": {},
     "output_type": "display_data"
    }
   ],
   "source": [
    "%%html\n",
    "net.show('preview.html')"
   ]
  },
  {
   "cell_type": "markdown",
   "id": "d6c36abf",
   "metadata": {
    "pycharm": {
     "name": "#%% md\n"
    }
   },
   "source": [
    "## Shut down PyRaphtory  🛑"
   ]
  },
  {
   "cell_type": "code",
   "execution_count": 43,
   "id": "dc5c2c1f",
   "metadata": {
    "collapsed": false,
    "jupyter": {
     "outputs_hidden": false
    },
    "pycharm": {
     "name": "#%%\n"
    }
   },
   "outputs": [
    {
     "name": "stdout",
     "output_type": "stream",
     "text": [
      "17:37:06.927 [Thread-12] INFO  com.raphtory.internals.management.PythonInterop$ - Shutting down pyraphtory\n"
     ]
    }
   ],
   "source": [
    "pr.shutdown()"
   ]
  },
  {
   "cell_type": "code",
   "execution_count": null,
   "id": "3b9c6c82",
   "metadata": {
    "pycharm": {
     "name": "#%%\n"
    }
   },
   "outputs": [],
   "source": []
  }
 ],
 "metadata": {
  "kernelspec": {
   "display_name": "Python 3 (ipykernel)",
   "language": "python",
   "name": "python3"
  },
  "language_info": {
   "codemirror_mode": {
    "name": "ipython",
    "version": 3
   },
   "file_extension": ".py",
   "mimetype": "text/x-python",
   "name": "python",
   "nbconvert_exporter": "python",
   "pygments_lexer": "ipython3",
   "version": "3.9.13"
  },
  "vscode": {
   "interpreter": {
    "hash": "6a6883e53c22eb800f1dd2764e6034b0092229ebd36154d4214f8abf0f6aadd2"
   }
  }
 },
 "nbformat": 4,
 "nbformat_minor": 5
}