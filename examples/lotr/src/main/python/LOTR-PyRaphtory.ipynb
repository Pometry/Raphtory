{
 "cells": [
  {
   "cell_type": "markdown",
   "source": [
    "# Lord Of The Rings PyRaphtory Example Notebook 🧝🏻‍♀️🧙🏻‍♂️💍"
   ],
   "metadata": {
    "pycharm": {
     "name": "#%% md\n"
    }
   }
  },
  {
   "cell_type": "markdown",
   "source": [
    "## Setup environment and download data 💾"
   ],
   "metadata": {
    "pycharm": {
     "name": "#%% md\n"
    }
   }
  },
  {
   "cell_type": "markdown",
   "source": [
    "Import all necessary dependencies needed to build a graph from your data in PyRaphtory. Download csv data from github into your tmp folder (file path: /tmp/lotr.csv)."
   ],
   "metadata": {
    "pycharm": {
     "name": "#%% md\n"
    }
   }
  },
  {
   "cell_type": "code",
   "execution_count": null,
   "source": [
    "pip install pyvis"
   ],
   "outputs": [],
   "metadata": {}
  },
  {
   "cell_type": "code",
   "execution_count": null,
   "source": [
    "from pathlib import Path\n",
    "from pyraphtory.context import PyRaphtory\n",
    "from pyraphtory.vertex import Vertex\n",
    "from pyraphtory.spouts import FileSpout\n",
    "from pyraphtory.builder import *\n",
    "from pyvis.network import Network\n",
    "import matplotlib\n",
    "import csv\n",
    "import pandas as pd\n",
    "import numpy as np\n",
    "\n",
    "!curl -o /tmp/lotr.csv https://raw.githubusercontent.com/Raphtory/Data/main/lotr.csv"
   ],
   "outputs": [],
   "metadata": {
    "collapsed": false,
    "jupyter": {
     "outputs_hidden": false
    },
    "pycharm": {
     "name": "#%%\n"
    }
   }
  },
  {
   "cell_type": "markdown",
   "source": [
    "## Preview data  👀"
   ],
   "metadata": {
    "pycharm": {
     "name": "#%% md\n"
    }
   }
  },
  {
   "cell_type": "code",
   "execution_count": null,
   "source": [
    "!head /tmp/lotr.csv"
   ],
   "outputs": [],
   "metadata": {
    "pycharm": {
     "name": "#%%\n"
    },
    "scrolled": true
   }
  },
  {
   "cell_type": "code",
   "execution_count": null,
   "source": [
    "filename = '/tmp/lotr.csv'"
   ],
   "outputs": [],
   "metadata": {
    "pycharm": {
     "name": "#%%\n"
    }
   }
  },
  {
   "cell_type": "markdown",
   "source": [
    "## Create a new Raphtory graph 📊"
   ],
   "metadata": {
    "pycharm": {
     "name": "#%% md\n"
    }
   }
  },
  {
   "cell_type": "markdown",
   "source": [
    "We Initialise Raphtory by creating a PyRaphtory object, and we create your new graph. We can turn on logs to see what is going on in PyRaphtory."
   ],
   "metadata": {
    "pycharm": {
     "name": "#%% md\n"
    }
   }
  },
  {
   "cell_type": "code",
   "execution_count": null,
   "source": [
    "ctx = PyRaphtory.local()\n",
    "graph = ctx.new_graph()"
   ],
   "outputs": [],
   "metadata": {
    "collapsed": false,
    "jupyter": {
     "outputs_hidden": false
    },
    "pycharm": {
     "name": "#%%\n"
    }
   }
  },
  {
   "cell_type": "markdown",
   "source": [
    "## Ingest the data into a graph 😋"
   ],
   "metadata": {
    "pycharm": {
     "name": "#%% md\n"
    }
   }
  },
  {
   "cell_type": "markdown",
   "source": [
    "We use a parsing method to parse the csv file and add the vertices and edges to the PyRaphtory graph."
   ],
   "metadata": {
    "pycharm": {
     "name": "#%% md\n"
    }
   }
  },
  {
   "cell_type": "code",
   "execution_count": null,
   "source": [
    "with open(filename, 'r') as csvfile:\n",
    "    datareader = csv.reader(csvfile)\n",
    "    for row in datareader:\n",
    "        source_node = row[0]\n",
    "        src_id = graph.assign_id(source_node)\n",
    "        target_node = row[1]\n",
    "        tar_id = graph.assign_id(target_node)\n",
    "        time_stamp = int(row[2])\n",
    "        graph.add_vertex(time_stamp, src_id, Properties(ImmutableProperty(\"name\", source_node)), Type(\"Character\"))\n",
    "        graph.add_vertex(time_stamp, tar_id, Properties(ImmutableProperty(\"name\", target_node)), Type(\"Character\"))\n",
    "        graph.add_edge(time_stamp, src_id, tar_id, Type(\"Character_Co-occurence\"))"
   ],
   "outputs": [],
   "metadata": {
    "pycharm": {
     "name": "#%%\n"
    }
   }
  },
  {
   "cell_type": "markdown",
   "source": [
    "## Collect simple metrics 📈"
   ],
   "metadata": {
    "pycharm": {
     "name": "#%% md\n"
    }
   }
  },
  {
   "cell_type": "markdown",
   "source": [
    "Our data has been ingested by the graph object. We can now select certain attributes and metrics to display, for instance vertex name, degree, out degree and in degree. \\\n",
    "We can compute these metrics temporally. To do so,\n",
    "1. the first step is to create temporal slices of the graph, also called **graph perspectives**. For instance, `.range(start, end, step)` filters the data from `start` to `end`, and splits it into slices of duration `step`. More functions such as `from`,`until`, `at`, `depart`, are presented in the [documentation of the DeplotedTemporalGraph object](https://docs.raphtory.com/en/development/_static/com/raphtory/api/analysis/graphview/DeployedTemporalGraph.html).\n",
    "2. the second step is to specify which direction we are looking in at each time point (or **snapshot**) `t`. For instance `.past()` aggregate all older data until `t`, `.future()` aggregate all data starting from `t`. We can also use the function `.window()`, also presented in the [documentation of the DottedGraph object](https://docs.raphtory.com/en/development/_static/com/raphtory/api/analysis/graphview/DottedGraph.html). \n",
    "\n",
    "We can then specify which metrics we are interested in, and choose the names of the output columns."
   ],
   "metadata": {
    "pycharm": {
     "name": "#%% md\n"
    }
   }
  },
  {
   "cell_type": "code",
   "execution_count": null,
   "source": [
    "from pyraphtory.graph import Row\n",
    "df = graph \\\n",
    "      .range(1, 32674, 1000) \\\n",
    "      .past()  \\\n",
    "      .select(lambda vertex: Row(vertex.name(), vertex.degree(), vertex.out_degree(), vertex.in_degree())) \\\n",
    "      .to_df([\"name\", \"degree\", \"out_degree\", \"in_degree\"])"
   ],
   "outputs": [],
   "metadata": {
    "pycharm": {
     "name": "#%%\n"
    }
   }
  },
  {
   "cell_type": "code",
   "execution_count": null,
   "source": [
    "df.head(5)"
   ],
   "outputs": [],
   "metadata": {
    "pycharm": {
     "name": "#%%\n"
    }
   }
  },
  {
   "cell_type": "code",
   "execution_count": null,
   "source": [
    "# We can delete the unused 'window' column\n",
    "df.drop(columns=['window'], inplace=True)"
   ],
   "outputs": [],
   "metadata": {}
  },
  {
   "cell_type": "markdown",
   "source": [
    "**Get simple insights from the data 👀**"
   ],
   "metadata": {
    "pycharm": {
     "name": "#%% md\n"
    }
   }
  },
  {
   "cell_type": "code",
   "execution_count": null,
   "source": [
    "print('# timetamps:', len(df.timestamp.unique()))\n",
    "print('# characters:', len(df.name.unique()))"
   ],
   "outputs": [],
   "metadata": {
    "pycharm": {
     "name": "#%%\n"
    }
   }
  },
  {
   "cell_type": "code",
   "execution_count": null,
   "source": [
    "df \\\n",
    ".groupby('timestamp') \\\n",
    ".agg({'name': 'count'}) \\\n",
    ".reset_index() \\\n",
    ".rename(columns={'name': 'nb_characters'}) \\\n",
    ".plot(x='timestamp', y='nb_characters', kind='scatter', title='# characters co-mentioned at least once until time t')"
   ],
   "outputs": [],
   "metadata": {}
  },
  {
   "cell_type": "markdown",
   "source": [
    "**Suppose we are interested in the top 5 highest degree characters.** Because the dataframe contains the degree of each character up to each time point, we can simply look at the max degree of each character across all times."
   ],
   "metadata": {
    "pycharm": {
     "name": "#%% md\n"
    }
   }
  },
  {
   "cell_type": "code",
   "execution_count": null,
   "source": [
    "df \\\n",
    ".groupby('name') \\\n",
    ".agg({'degree': 'max'}) \\\n",
    ".reset_index() \\\n",
    ".sort_values(['degree'], ascending=False)[:5]"
   ],
   "outputs": [],
   "metadata": {
    "pycharm": {
     "name": "#%%\n"
    }
   }
  },
  {
   "cell_type": "markdown",
   "source": [
    "**Alternatively**, we can aggregate all temporal interactions from the start, and compute the degrees on the resulting graph."
   ],
   "metadata": {
    "pycharm": {
     "name": "#%% md\n"
    }
   }
  },
  {
   "cell_type": "code",
   "execution_count": null,
   "source": [
    "df = graph \\\n",
    "    .at(32674) \\\n",
    "    .past() \\\n",
    "    .select(lambda vertex: Row(vertex.name(), vertex.degree(), vertex.out_degree(), vertex.in_degree())) \\\n",
    "    .to_df([\"name\", \"degree\", \"out_degree\", \"in_degree\"])"
   ],
   "outputs": [],
   "metadata": {
    "pycharm": {
     "name": "#%%\n"
    }
   }
  },
  {
   "cell_type": "markdown",
   "source": [
    "Note that **the resulting dataframe only has one timestamp**: the final time 32674."
   ],
   "metadata": {
    "pycharm": {
     "name": "#%% md\n"
    }
   }
  },
  {
   "cell_type": "code",
   "execution_count": null,
   "source": [
    "df.head(5)"
   ],
   "outputs": [],
   "metadata": {
    "pycharm": {
     "name": "#%%\n"
    }
   }
  },
  {
   "cell_type": "code",
   "execution_count": null,
   "source": [
    "df.drop(columns=['window'], inplace=True)\n",
    "df.sort_values(['degree'], ascending=False)[:10]"
   ],
   "outputs": [],
   "metadata": {
    "pycharm": {
     "name": "#%%\n"
    }
   }
  },
  {
   "cell_type": "markdown",
   "source": [
    "## Run a PageRank algorithm 📑"
   ],
   "metadata": {
    "pycharm": {
     "name": "#%% md\n"
    }
   }
  },
  {
   "cell_type": "markdown",
   "source": [
    "We can run any selected algorithm on our graph data, here we run PageRank. \n",
    "- Take the graph.\n",
    "- The `transform` function applies a given algorithm to the graph, and returns the graph updated with the states that the algorithm generated. Here we apply a generic algorithm `pr.algorithms.generic.centrality.PageRank()` (PageRank) so the `transform` returns the graph where each node has now an extra attribute which is its Pagerank score.\n",
    "- The `execute` function applies an algorithm (same as `transform`) AND returns the results in a tabular format (graph --> table). Here we apply the `NodeList` algorithm: it outputs one row per vertex in the graph contacted by the names in `cols`.\n",
    "- We ask Raphtory to output the results in a dataframe `to_df`. \n",
    "\n",
    "Both functions `transform` and `execute` are explained further in the [documentation](https://docs.raphtory.com/en/development/_static/com/raphtory/api/analysis/graphview/MultilayerGraphView.html)."
   ],
   "metadata": {
    "pycharm": {
     "name": "#%% md\n"
    }
   }
  },
  {
   "cell_type": "code",
   "execution_count": null,
   "source": [
    "cols = [\"prlabel\"]\n",
    "\n",
    "df_pagerank = graph.at(32674) \\\n",
    "                .past() \\\n",
    "                .transform(ctx.algorithms.generic.centrality.PageRank())\\\n",
    "                .execute(ctx.algorithms.generic.NodeList(*cols)) \\\n",
    "                .to_df([\"name\"] + cols)"
   ],
   "outputs": [],
   "metadata": {
    "pycharm": {
     "name": "#%%\n"
    }
   }
  },
  {
   "cell_type": "markdown",
   "source": [
    "**Note: Here we run PageRank on the aggregated graph but we could, of course, have run it similarly on temporal slices as explained above.**"
   ],
   "metadata": {
    "pycharm": {
     "name": "#%% md\n"
    }
   }
  },
  {
   "cell_type": "code",
   "execution_count": null,
   "source": [
    "df_pagerank.drop(columns=['window'], inplace=True)\n",
    "df_pagerank.head(5)"
   ],
   "outputs": [],
   "metadata": {
    "pycharm": {
     "name": "#%%\n"
    }
   }
  },
  {
   "cell_type": "markdown",
   "source": [
    "**The top ten most ranked characters**"
   ],
   "metadata": {
    "pycharm": {
     "name": "#%% md\n"
    }
   }
  },
  {
   "cell_type": "code",
   "execution_count": null,
   "source": [
    "df_pagerank.sort_values(['prlabel'], ascending=False)[:10]"
   ],
   "outputs": [],
   "metadata": {
    "pycharm": {
     "name": "#%%\n"
    }
   }
  },
  {
   "cell_type": "markdown",
   "source": [
    "## Run a connected components algorithm "
   ],
   "metadata": {
    "pycharm": {
     "name": "#%% md\n"
    }
   }
  },
  {
   "cell_type": "markdown",
   "source": [
    "Similarly we can look for the connected components of the graph."
   ],
   "metadata": {
    "pycharm": {
     "name": "#%% md\n"
    }
   }
  },
  {
   "cell_type": "code",
   "execution_count": null,
   "source": [
    "cols = [\"cclabel\"]\n",
    "df_cc = graph.at(32674) \\\n",
    "                .past() \\\n",
    "                .transform(ctx.algorithms.generic.ConnectedComponents)\\\n",
    "                .execute(ctx.algorithms.generic.NodeList(*cols)) \\\n",
    "                .to_df([\"name\"] + cols)"
   ],
   "outputs": [],
   "metadata": {
    "pycharm": {
     "name": "#%%\n"
    },
    "tags": []
   }
  },
  {
   "cell_type": "markdown",
   "source": [
    "**Preview dataframe.**"
   ],
   "metadata": {
    "pycharm": {
     "name": "#%% md\n"
    }
   }
  },
  {
   "cell_type": "code",
   "execution_count": null,
   "source": [
    "df_cc.drop(columns=['window'], inplace=True)\n",
    "df_cc.head(5)"
   ],
   "outputs": [],
   "metadata": {
    "pycharm": {
     "name": "#%%\n"
    }
   }
  },
  {
   "cell_type": "markdown",
   "source": [
    "**Number of distinct components**"
   ],
   "metadata": {
    "pycharm": {
     "name": "#%% md\n"
    }
   }
  },
  {
   "cell_type": "code",
   "execution_count": null,
   "source": [
    "print('# distinct components:', len(set(df_cc['cclabel'])))"
   ],
   "outputs": [],
   "metadata": {
    "pycharm": {
     "name": "#%%\n"
    }
   }
  },
  {
   "cell_type": "markdown",
   "source": [
    "**Calculate the size of the 3 connected components.**"
   ],
   "metadata": {
    "pycharm": {
     "name": "#%% md\n"
    }
   }
  },
  {
   "cell_type": "code",
   "execution_count": null,
   "source": [
    "df_cc \\\n",
    ".groupby(['cclabel']) \\\n",
    ".count() \\\n",
    ".reset_index() \\\n",
    ".rename(columns={'name': 'size'}) \\\n",
    ".drop(columns=['timestamp'])"
   ],
   "outputs": [],
   "metadata": {
    "pycharm": {
     "name": "#%%\n"
    }
   }
  },
  {
   "cell_type": "markdown",
   "source": [
    "## Run chained algorithms at once "
   ],
   "metadata": {
    "pycharm": {
     "name": "#%% md\n"
    }
   }
  },
  {
   "cell_type": "markdown",
   "source": [
    "We can also chain PageRank, Connected Components and Degree algorithms, running them one after another on the graph. Specify all the columns in the output dataframe, including an output column for each algorithm in the chain. `cols` dictates the particular order in which we want to output the result columns."
   ],
   "metadata": {
    "pycharm": {
     "name": "#%% md\n"
    }
   }
  },
  {
   "cell_type": "code",
   "execution_count": null,
   "source": [
    "cols = [\"inDegree\", \"outDegree\", \"degree\", \"prlabel\", \"cclabel\"]\n",
    "\n",
    "df_chained = graph.at(32674) \\\n",
    "                .past() \\\n",
    "                .transform(ctx.algorithms.generic.centrality.PageRank())\\\n",
    "                .transform(ctx.algorithms.generic.ConnectedComponents)\\\n",
    "                .transform(ctx.algorithms.generic.centrality.Degree())\\\n",
    "                .execute(ctx.algorithms.generic.NodeList(*cols)) \\\n",
    "                .to_df([\"name\"] + cols)"
   ],
   "outputs": [],
   "metadata": {
    "pycharm": {
     "name": "#%%\n"
    }
   }
  },
  {
   "cell_type": "code",
   "execution_count": null,
   "source": [
    "df_chained.drop(columns=['window'], inplace=True)\n",
    "df_chained['degree_numeric'] = df_chained['degree'].astype(float)\n",
    "df_chained.head(10)"
   ],
   "outputs": [],
   "metadata": {
    "pycharm": {
     "name": "#%%\n"
    }
   }
  },
  {
   "cell_type": "markdown",
   "source": [
    "## Create visualisation by adding nodes 🔎"
   ],
   "metadata": {
    "pycharm": {
     "name": "#%% md\n"
    },
    "tags": []
   }
  },
  {
   "cell_type": "code",
   "execution_count": null,
   "source": [
    "def visualise(graph, df_chained):\n",
    "    # Create network object\n",
    "    net = Network(notebook=True, height='750px', width='100%', bgcolor='#222222', font_color='white')\n",
    "    # Set visualisation tool\n",
    "    net.force_atlas_2based()\n",
    "    # Get the node list \n",
    "    df_node_list = graph.at(32674) \\\n",
    "                .past() \\\n",
    "                .execute(ctx.algorithms.generic.NodeList()) \\\n",
    "                .to_df(['name'])\n",
    "    \n",
    "    nodes = df_node_list['name'].tolist()\n",
    "    \n",
    "    node_data = []\n",
    "    ignore_items = ['timestamp', 'name', 'window']\n",
    "    for node_name in nodes:\n",
    "        for i, row in df_chained.iterrows():\n",
    "            if row['name']==node_name:\n",
    "                data = ''\n",
    "                for k,v in row.iteritems():\n",
    "                    if k not in ignore_items:\n",
    "                        data = data+str(k)+': '+str(v)+'\\n'\n",
    "                node_data.append(data)\n",
    "                continue\n",
    "    # Add the nodes\n",
    "    net.add_nodes(nodes, title=node_data, value = df_chained.prlabel)\n",
    "    # Get the edge list\n",
    "    df_edge_list = graph.at(32674) \\\n",
    "                .past() \\\n",
    "                .execute(ctx.algorithms.generic.EdgeList()) \\\n",
    "                .to_df(['from', 'to'])\n",
    "    edges = []\n",
    "    for i, row in df_edge_list[['from', 'to']].iterrows():\n",
    "        edges.append([row['from'], row['to']])\n",
    "    # Add the edges\n",
    "    net.add_edges(edges)\n",
    "    # Toggle physics\n",
    "    net.toggle_physics(True)\n",
    "    return net"
   ],
   "outputs": [],
   "metadata": {
    "pycharm": {
     "name": "#%%\n"
    },
    "tags": []
   }
  },
  {
   "cell_type": "code",
   "execution_count": null,
   "source": [
    "net = visualise(graph, df_chained)"
   ],
   "outputs": [],
   "metadata": {
    "pycharm": {
     "name": "#%%\n"
    },
    "scrolled": true,
    "tags": []
   }
  },
  {
   "cell_type": "markdown",
   "source": [
    "**Show the html file of the visualisation**"
   ],
   "metadata": {
    "pycharm": {
     "name": "#%% md\n"
    }
   }
  },
  {
   "cell_type": "code",
   "execution_count": null,
   "source": [
    "%%html\n",
    "net.show('preview.html')"
   ],
   "outputs": [],
   "metadata": {
    "pycharm": {
     "name": "#%%\n"
    }
   }
  },
  {
   "cell_type": "markdown",
   "source": [
    "## Shut down PyRaphtory  🛑"
   ],
   "metadata": {
    "pycharm": {
     "name": "#%% md\n"
    }
   }
  },
  {
   "cell_type": "code",
   "execution_count": null,
   "source": [
    "ctx.close()"
   ],
   "outputs": [],
   "metadata": {
    "collapsed": false,
    "jupyter": {
     "outputs_hidden": false
    },
    "pycharm": {
     "name": "#%%\n"
    }
   }
  }
 ],
 "metadata": {
  "kernelspec": {
   "display_name": "Python 3 (ipykernel)",
   "language": "python",
   "name": "python3"
  },
  "language_info": {
   "codemirror_mode": {
    "name": "ipython",
    "version": 3
   },
   "file_extension": ".py",
   "mimetype": "text/x-python",
   "name": "python",
   "nbconvert_exporter": "python",
   "pygments_lexer": "ipython3",
   "version": "3.9.13"
  },
  "vscode": {
   "interpreter": {
    "hash": "6a6883e53c22eb800f1dd2764e6034b0092229ebd36154d4214f8abf0f6aadd2"
   }
  }
 },
 "nbformat": 4,
 "nbformat_minor": 5
}