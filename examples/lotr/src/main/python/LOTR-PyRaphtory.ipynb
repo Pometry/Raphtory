{
 "cells": [
  {
   "cell_type": "markdown",
   "source": [
    "# Lord Of The Rings PyRaphtory Example Notebook 🧝🏻‍♀️🧙🏻‍♂️💍"
   ],
   "metadata": {
    "pycharm": {
     "name": "#%% md\n"
    }
   }
  },
  {
   "cell_type": "markdown",
   "source": [
    "## Setup environment and download data 💾"
   ],
   "metadata": {
    "pycharm": {
     "name": "#%% md\n"
    }
   }
  },
  {
   "cell_type": "markdown",
   "source": [
    "Import all necessary dependencies needed to build a graph from your data in PyRaphtory. Download csv data from github into your tmp folder (file path: /tmp/lotr.csv)."
   ],
   "metadata": {
    "pycharm": {
     "name": "#%% md\n"
    }
   }
  },
  {
   "cell_type": "code",
   "execution_count": 1,
   "source": [
    "pip install pyvis matplotlib"
   ],
   "outputs": [
    {
     "output_type": "stream",
     "name": "stdout",
     "text": [
      "Requirement already satisfied: pyvis in /Users/bensteer/miniconda3/envs/pyraph39/lib/python3.9/site-packages (0.3.1)\n",
      "Requirement already satisfied: matplotlib in /Users/bensteer/miniconda3/envs/pyraph39/lib/python3.9/site-packages (3.6.2)\n",
      "Requirement already satisfied: jsonpickle>=1.4.1 in /Users/bensteer/miniconda3/envs/pyraph39/lib/python3.9/site-packages (from pyvis) (2.2.0)\n",
      "Requirement already satisfied: jinja2>=2.9.6 in /Users/bensteer/miniconda3/envs/pyraph39/lib/python3.9/site-packages (from pyvis) (3.0.3)\n",
      "Requirement already satisfied: ipython>=5.3.0 in /Users/bensteer/miniconda3/envs/pyraph39/lib/python3.9/site-packages (from pyvis) (8.6.0)\n",
      "Requirement already satisfied: networkx>=1.11 in /Users/bensteer/miniconda3/envs/pyraph39/lib/python3.9/site-packages (from pyvis) (2.8.8)\n",
      "Requirement already satisfied: python-dateutil>=2.7 in /Users/bensteer/miniconda3/envs/pyraph39/lib/python3.9/site-packages (from matplotlib) (2.8.2)\n",
      "Requirement already satisfied: pyparsing>=2.2.1 in /Users/bensteer/miniconda3/envs/pyraph39/lib/python3.9/site-packages (from matplotlib) (3.0.9)\n",
      "Requirement already satisfied: kiwisolver>=1.0.1 in /Users/bensteer/miniconda3/envs/pyraph39/lib/python3.9/site-packages (from matplotlib) (1.4.4)\n",
      "Requirement already satisfied: pillow>=6.2.0 in /Users/bensteer/miniconda3/envs/pyraph39/lib/python3.9/site-packages (from matplotlib) (9.3.0)\n",
      "Requirement already satisfied: cycler>=0.10 in /Users/bensteer/miniconda3/envs/pyraph39/lib/python3.9/site-packages (from matplotlib) (0.11.0)\n",
      "Requirement already satisfied: numpy>=1.19 in /Users/bensteer/miniconda3/envs/pyraph39/lib/python3.9/site-packages (from matplotlib) (1.21.4)\n",
      "Requirement already satisfied: contourpy>=1.0.1 in /Users/bensteer/miniconda3/envs/pyraph39/lib/python3.9/site-packages (from matplotlib) (1.0.6)\n",
      "Requirement already satisfied: packaging>=20.0 in /Users/bensteer/miniconda3/envs/pyraph39/lib/python3.9/site-packages (from matplotlib) (21.3)\n",
      "Requirement already satisfied: fonttools>=4.22.0 in /Users/bensteer/miniconda3/envs/pyraph39/lib/python3.9/site-packages (from matplotlib) (4.38.0)\n",
      "Requirement already satisfied: appnope in /Users/bensteer/miniconda3/envs/pyraph39/lib/python3.9/site-packages (from ipython>=5.3.0->pyvis) (0.1.3)\n",
      "Requirement already satisfied: prompt-toolkit<3.1.0,>3.0.1 in /Users/bensteer/miniconda3/envs/pyraph39/lib/python3.9/site-packages (from ipython>=5.3.0->pyvis) (3.0.32)\n",
      "Requirement already satisfied: stack-data in /Users/bensteer/miniconda3/envs/pyraph39/lib/python3.9/site-packages (from ipython>=5.3.0->pyvis) (0.6.1)\n",
      "Requirement already satisfied: traitlets>=5 in /Users/bensteer/miniconda3/envs/pyraph39/lib/python3.9/site-packages (from ipython>=5.3.0->pyvis) (5.5.0)\n",
      "Requirement already satisfied: jedi>=0.16 in /Users/bensteer/miniconda3/envs/pyraph39/lib/python3.9/site-packages (from ipython>=5.3.0->pyvis) (0.18.1)\n",
      "Requirement already satisfied: backcall in /Users/bensteer/miniconda3/envs/pyraph39/lib/python3.9/site-packages (from ipython>=5.3.0->pyvis) (0.2.0)\n",
      "Requirement already satisfied: pexpect>4.3 in /Users/bensteer/miniconda3/envs/pyraph39/lib/python3.9/site-packages (from ipython>=5.3.0->pyvis) (4.8.0)\n",
      "Requirement already satisfied: pygments>=2.4.0 in /Users/bensteer/miniconda3/envs/pyraph39/lib/python3.9/site-packages (from ipython>=5.3.0->pyvis) (2.13.0)\n",
      "Requirement already satisfied: decorator in /Users/bensteer/miniconda3/envs/pyraph39/lib/python3.9/site-packages (from ipython>=5.3.0->pyvis) (5.1.1)\n",
      "Requirement already satisfied: pickleshare in /Users/bensteer/miniconda3/envs/pyraph39/lib/python3.9/site-packages (from ipython>=5.3.0->pyvis) (0.7.5)\n",
      "Requirement already satisfied: matplotlib-inline in /Users/bensteer/miniconda3/envs/pyraph39/lib/python3.9/site-packages (from ipython>=5.3.0->pyvis) (0.1.6)\n",
      "Requirement already satisfied: MarkupSafe>=2.0 in /Users/bensteer/miniconda3/envs/pyraph39/lib/python3.9/site-packages (from jinja2>=2.9.6->pyvis) (2.1.1)\n",
      "Requirement already satisfied: six>=1.5 in /Users/bensteer/miniconda3/envs/pyraph39/lib/python3.9/site-packages (from python-dateutil>=2.7->matplotlib) (1.16.0)\n",
      "Requirement already satisfied: parso<0.9.0,>=0.8.0 in /Users/bensteer/miniconda3/envs/pyraph39/lib/python3.9/site-packages (from jedi>=0.16->ipython>=5.3.0->pyvis) (0.8.3)\n",
      "Requirement already satisfied: ptyprocess>=0.5 in /Users/bensteer/miniconda3/envs/pyraph39/lib/python3.9/site-packages (from pexpect>4.3->ipython>=5.3.0->pyvis) (0.7.0)\n",
      "Requirement already satisfied: wcwidth in /Users/bensteer/miniconda3/envs/pyraph39/lib/python3.9/site-packages (from prompt-toolkit<3.1.0,>3.0.1->ipython>=5.3.0->pyvis) (0.2.5)\n",
      "Requirement already satisfied: asttokens>=2.1.0 in /Users/bensteer/miniconda3/envs/pyraph39/lib/python3.9/site-packages (from stack-data->ipython>=5.3.0->pyvis) (2.1.0)\n",
      "Requirement already satisfied: executing>=1.2.0 in /Users/bensteer/miniconda3/envs/pyraph39/lib/python3.9/site-packages (from stack-data->ipython>=5.3.0->pyvis) (1.2.0)\n",
      "Requirement already satisfied: pure-eval in /Users/bensteer/miniconda3/envs/pyraph39/lib/python3.9/site-packages (from stack-data->ipython>=5.3.0->pyvis) (0.2.2)\n",
      "Note: you may need to restart the kernel to use updated packages.\n"
     ]
    }
   ],
   "metadata": {
    "pycharm": {
     "name": "#%%\n"
    }
   }
  },
  {
   "cell_type": "code",
   "execution_count": 2,
   "source": [
    "from pathlib import Path\n",
    "from pyraphtory.context import PyRaphtory\n",
    "from pyraphtory.vertex import Vertex\n",
    "from pyraphtory.spouts import FileSpout\n",
    "from pyraphtory.input import *\n",
    "from pyvis.network import Network\n",
    "import csv\n",
    "import pandas as pd\n",
    "import numpy as np\n",
    "\n",
    "!curl -o /tmp/lotr.csv https://raw.githubusercontent.com/Raphtory/Data/main/lotr.csv"
   ],
   "outputs": [
    {
     "output_type": "stream",
     "name": "stderr",
     "text": [
      "openjdk version \"11.0.15\" 2022-04-19 LTS\n",
      "OpenJDK Runtime Environment Corretto-11.0.15.9.1 (build 11.0.15+9-LTS)\n",
      "OpenJDK 64-Bit Server VM Corretto-11.0.15.9.1 (build 11.0.15+9-LTS, mixed mode)\n"
     ]
    },
    {
     "output_type": "stream",
     "name": "stdout",
     "text": [
      "Java found!\n",
      "Getting JAVA_HOME\n",
      "JAVA_HOME found = /Users/bensteer/.sdkman/candidates/java/current/bin/java\n"
     ]
    },
    {
     "output_type": "stream",
     "name": "stderr",
     "text": [
      "WARNING: An illegal reflective access operation has occurred\n",
      "WARNING: Illegal reflective access by py4j.reflection.MethodInvoker$1 (file:/Users/bensteer/miniconda3/envs/pyraph39/lib/python3.9/site-packages/pyraphtory_jvm/data/lib/compile/py4j.jar) to method java.util.AbstractMap$1.iterator()\n",
      "WARNING: Please consider reporting this to the maintainers of py4j.reflection.MethodInvoker$1\n",
      "WARNING: Use --illegal-access=warn to enable warnings of further illegal reflective access operations\n",
      "WARNING: All illegal access operations will be denied in a future release\n"
     ]
    },
    {
     "output_type": "stream",
     "name": "stdout",
     "text": [
      "  % Total    % Received % Xferd  Average Speed   Time    Time     Time  Current\n",
      "                                 Dload  Upload   Total   Spent    Left  Speed\n",
      "100 52206  100 52206    0     0   401k      0 --:--:-- --:--:-- --:--:--  401k\n"
     ]
    }
   ],
   "metadata": {
    "collapsed": false,
    "jupyter": {
     "outputs_hidden": false
    },
    "pycharm": {
     "name": "#%%\n"
    }
   }
  },
  {
   "cell_type": "markdown",
   "source": [
    "## Preview data  👀"
   ],
   "metadata": {
    "pycharm": {
     "name": "#%% md\n"
    }
   }
  },
  {
   "cell_type": "code",
   "execution_count": 3,
   "source": [
    "!head /tmp/lotr.csv"
   ],
   "outputs": [
    {
     "output_type": "stream",
     "name": "stdout",
     "text": [
      "Gandalf,Elrond,33\n",
      "Frodo,Bilbo,114\n",
      "Blanco,Marcho,146\n",
      "Frodo,Bilbo,205\n",
      "Thorin,Gandalf,270\n",
      "Thorin,Bilbo,270\n",
      "Gandalf,Bilbo,270\n",
      "Gollum,Bilbo,286\n",
      "Gollum,Bilbo,306\n",
      "Gollum,Bilbo,308\n"
     ]
    }
   ],
   "metadata": {
    "pycharm": {
     "name": "#%%\n"
    },
    "scrolled": true
   }
  },
  {
   "cell_type": "code",
   "execution_count": 4,
   "source": [
    "filename = '/tmp/lotr.csv'"
   ],
   "outputs": [],
   "metadata": {
    "pycharm": {
     "name": "#%%\n"
    }
   }
  },
  {
   "cell_type": "markdown",
   "source": [
    "## Create a new Raphtory graph 📊"
   ],
   "metadata": {
    "pycharm": {
     "name": "#%% md\n"
    }
   }
  },
  {
   "cell_type": "markdown",
   "source": [
    "We Initialise Raphtory by creating a PyRaphtory object, and we create your new graph. We can turn on logs to see what is going on in PyRaphtory."
   ],
   "metadata": {
    "pycharm": {
     "name": "#%% md\n"
    }
   }
  },
  {
   "cell_type": "code",
   "execution_count": 5,
   "source": [
    "ctx = PyRaphtory.local()\n",
    "graph = ctx.new_graph()"
   ],
   "outputs": [],
   "metadata": {
    "collapsed": false,
    "jupyter": {
     "outputs_hidden": false
    },
    "pycharm": {
     "name": "#%%\n"
    }
   }
  },
  {
   "cell_type": "markdown",
   "source": [
    "## Ingest the data into a graph 😋"
   ],
   "metadata": {
    "pycharm": {
     "name": "#%% md\n"
    }
   }
  },
  {
   "cell_type": "markdown",
   "source": [
    "We use a parsing method to parse the csv file and add the vertices and edges to the PyRaphtory graph."
   ],
   "metadata": {
    "pycharm": {
     "name": "#%% md\n"
    }
   }
  },
  {
   "cell_type": "code",
   "execution_count": 6,
   "source": [
    "with open(filename, 'r') as csvfile:\n",
    "    datareader = csv.reader(csvfile)\n",
    "    for row in datareader:\n",
    "        source_node = row[0]\n",
    "        src_id = graph.assign_id(source_node)\n",
    "        target_node = row[1]\n",
    "        tar_id = graph.assign_id(target_node)\n",
    "        time_stamp = int(row[2])\n",
    "        graph.add_vertex(time_stamp, src_id, Properties(ImmutableProperty(\"name\", source_node)), Type(\"Character\"))\n",
    "        graph.add_vertex(time_stamp, tar_id, Properties(ImmutableProperty(\"name\", target_node)), Type(\"Character\"))\n",
    "        graph.add_edge(time_stamp, src_id, tar_id, Type(\"Character_Co-occurence\"))"
   ],
   "outputs": [],
   "metadata": {
    "pycharm": {
     "name": "#%%\n"
    }
   }
  },
  {
   "cell_type": "markdown",
   "source": [
    "## Collect simple metrics 📈"
   ],
   "metadata": {
    "pycharm": {
     "name": "#%% md\n"
    }
   }
  },
  {
   "cell_type": "markdown",
   "source": [
    "Our data has been ingested by the graph object. We can now select certain attributes and metrics to display, for instance vertex name, degree, out degree and in degree. \\\n",
    "We can compute these metrics temporally. To do so,\n",
    "1. the first step is to create temporal slices of the graph, also called **graph perspectives**. For instance, `.range(start, end, step)` filters the data from `start` to `end`, and splits it into slices of duration `step`. More functions such as `from`,`until`, `at`, `depart`, are presented in the [documentation of the DeplotedTemporalGraph object](https://docs.raphtory.com/en/master/_static/com/raphtory/api/analysis/graphview/DeployedTemporalGraph.html).\n",
    "2. the second step is to specify which direction we are looking in at each time point (or **snapshot**) `t`. For instance `.past()` aggregate all older data until `t`, `.future()` aggregate all data starting from `t`. We can also use the function `.window()`, also presented in the [documentation of the DottedGraph object](https://docs.raphtory.com/en/master/_static/com/raphtory/api/analysis/graphview/DottedGraph.html). \n",
    "\n",
    "We can then specify which metrics we are interested in, and choose the names of the output columns."
   ],
   "metadata": {
    "pycharm": {
     "name": "#%% md\n"
    }
   }
  },
  {
   "cell_type": "code",
   "execution_count": 21,
   "source": [
    "from pyraphtory.graph import Row\n",
    "df = graph \\\n",
    "      .range(1, 32674, 1000) \\\n",
    "      .past()  \\\n",
    "      .select(lambda vertex: Row(vertex.name(), vertex.degree(), vertex.out_degree(), vertex.in_degree())) \\\n",
    "      .to_df([\"name\", \"degree\", \"out_degree\", \"in_degree\"])"
   ],
   "outputs": [],
   "metadata": {
    "pycharm": {
     "name": "#%%\n"
    }
   }
  },
  {
   "cell_type": "code",
   "execution_count": 22,
   "source": [
    "df.head(5)"
   ],
   "outputs": [
    {
     "output_type": "execute_result",
     "data": {
      "text/html": [
       "<div>\n",
       "<style scoped>\n",
       "    .dataframe tbody tr th:only-of-type {\n",
       "        vertical-align: middle;\n",
       "    }\n",
       "\n",
       "    .dataframe tbody tr th {\n",
       "        vertical-align: top;\n",
       "    }\n",
       "\n",
       "    .dataframe thead th {\n",
       "        text-align: right;\n",
       "    }\n",
       "</style>\n",
       "<table border=\"1\" class=\"dataframe\">\n",
       "  <thead>\n",
       "    <tr style=\"text-align: right;\">\n",
       "      <th></th>\n",
       "      <th>timestamp</th>\n",
       "      <th>name</th>\n",
       "      <th>degree</th>\n",
       "      <th>out_degree</th>\n",
       "      <th>in_degree</th>\n",
       "    </tr>\n",
       "  </thead>\n",
       "  <tbody>\n",
       "  </tbody>\n",
       "</table>\n",
       "</div>"
      ],
      "text/plain": [
       "Empty DataFrame\n",
       "Columns: [timestamp, name, degree, out_degree, in_degree]\n",
       "Index: []"
      ]
     },
     "metadata": {},
     "execution_count": 22
    }
   ],
   "metadata": {
    "pycharm": {
     "name": "#%%\n"
    }
   }
  },
  {
   "cell_type": "markdown",
   "source": [
    "**Get simple insights from the data 👀**"
   ],
   "metadata": {
    "pycharm": {
     "name": "#%% md\n"
    }
   }
  },
  {
   "cell_type": "code",
   "execution_count": 23,
   "source": [
    "print('# timetamps:', len(df.timestamp.unique()))\n",
    "print('# characters:', len(df.name.unique()))"
   ],
   "outputs": [
    {
     "output_type": "stream",
     "name": "stdout",
     "text": [
      "# timetamps: 0\n",
      "# characters: 0\n"
     ]
    }
   ],
   "metadata": {
    "pycharm": {
     "name": "#%%\n"
    }
   }
  },
  {
   "cell_type": "code",
   "execution_count": 20,
   "source": [
    "df \\\n",
    ".groupby('timestamp') \\\n",
    ".agg({'name': 'count'}) \\\n",
    ".reset_index() \\\n",
    ".rename(columns={'name': 'nb_characters'}) \\\n",
    ".plot(x='timestamp', y='nb_characters', kind='scatter', title='# characters co-mentioned at least once until time t')"
   ],
   "outputs": [
    {
     "output_type": "execute_result",
     "data": {
      "text/plain": [
       "<AxesSubplot: title={'center': '# characters co-mentioned at least once until time t'}, xlabel='timestamp', ylabel='nb_characters'>"
      ]
     },
     "metadata": {},
     "execution_count": 20
    },
    {
     "output_type": "display_data",
     "data": {
      "image/png": "[encoded data removed]",
      "text/plain": [
       "<Figure size 640x480 with 1 Axes>"
      ]
     },
     "metadata": {}
    }
   ],
   "metadata": {
    "pycharm": {
     "name": "#%%\n"
    }
   }
  },
  {
   "cell_type": "markdown",
   "source": [
    "**Suppose we are interested in the top 5 highest degree characters.** Because the dataframe contains the degree of each character up to each time point, we can simply look at the max degree of each character across all times."
   ],
   "metadata": {
    "pycharm": {
     "name": "#%% md\n"
    }
   }
  },
  {
   "cell_type": "code",
   "execution_count": 11,
   "source": [
    "df \\\n",
    ".groupby('name') \\\n",
    ".agg({'degree': 'max'}) \\\n",
    ".reset_index() \\\n",
    ".sort_values(['degree'], ascending=False)[:5]"
   ],
   "outputs": [
    {
     "output_type": "execute_result",
     "data": {
      "text/html": [
       "<div>\n",
       "<style scoped>\n",
       "    .dataframe tbody tr th:only-of-type {\n",
       "        vertical-align: middle;\n",
       "    }\n",
       "\n",
       "    .dataframe tbody tr th {\n",
       "        vertical-align: top;\n",
       "    }\n",
       "\n",
       "    .dataframe thead th {\n",
       "        text-align: right;\n",
       "    }\n",
       "</style>\n",
       "<table border=\"1\" class=\"dataframe\">\n",
       "  <thead>\n",
       "    <tr style=\"text-align: right;\">\n",
       "      <th></th>\n",
       "      <th>name</th>\n",
       "      <th>degree</th>\n",
       "    </tr>\n",
       "  </thead>\n",
       "  <tbody>\n",
       "  </tbody>\n",
       "</table>\n",
       "</div>"
      ],
      "text/plain": [
       "Empty DataFrame\n",
       "Columns: [name, degree]\n",
       "Index: []"
      ]
     },
     "metadata": {},
     "execution_count": 11
    }
   ],
   "metadata": {
    "pycharm": {
     "name": "#%%\n"
    }
   }
  },
  {
   "cell_type": "markdown",
   "source": [
    "**Alternatively**, we can aggregate all temporal interactions from the start, and compute the degrees on the resulting graph."
   ],
   "metadata": {
    "pycharm": {
     "name": "#%% md\n"
    }
   }
  },
  {
   "cell_type": "code",
   "execution_count": 19,
   "source": [
    "df = graph \\\n",
    "    .at(32674) \\\n",
    "    .past() \\\n",
    "    .select(lambda vertex: Row(vertex.name(), vertex.degree(), vertex.out_degree(), vertex.in_degree())) \\\n",
    "    .to_df([\"name\", \"degree\", \"out_degree\", \"in_degree\"])\n",
    "df.sort_values(['degree'], ascending=False)[:10]    "
   ],
   "outputs": [
    {
     "output_type": "execute_result",
     "data": {
      "text/html": [
       "<div>\n",
       "<style scoped>\n",
       "    .dataframe tbody tr th:only-of-type {\n",
       "        vertical-align: middle;\n",
       "    }\n",
       "\n",
       "    .dataframe tbody tr th {\n",
       "        vertical-align: top;\n",
       "    }\n",
       "\n",
       "    .dataframe thead th {\n",
       "        text-align: right;\n",
       "    }\n",
       "</style>\n",
       "<table border=\"1\" class=\"dataframe\">\n",
       "  <thead>\n",
       "    <tr style=\"text-align: right;\">\n",
       "      <th></th>\n",
       "      <th>timestamp</th>\n",
       "      <th>name</th>\n",
       "      <th>degree</th>\n",
       "      <th>out_degree</th>\n",
       "      <th>in_degree</th>\n",
       "    </tr>\n",
       "  </thead>\n",
       "  <tbody>\n",
       "    <tr>\n",
       "      <th>55</th>\n",
       "      <td>32674</td>\n",
       "      <td>Frodo</td>\n",
       "      <td>51</td>\n",
       "      <td>37</td>\n",
       "      <td>22</td>\n",
       "    </tr>\n",
       "    <tr>\n",
       "      <th>54</th>\n",
       "      <td>32674</td>\n",
       "      <td>Gandalf</td>\n",
       "      <td>49</td>\n",
       "      <td>35</td>\n",
       "      <td>24</td>\n",
       "    </tr>\n",
       "    <tr>\n",
       "      <th>97</th>\n",
       "      <td>32674</td>\n",
       "      <td>Aragorn</td>\n",
       "      <td>45</td>\n",
       "      <td>5</td>\n",
       "      <td>45</td>\n",
       "    </tr>\n",
       "    <tr>\n",
       "      <th>63</th>\n",
       "      <td>32674</td>\n",
       "      <td>Merry</td>\n",
       "      <td>34</td>\n",
       "      <td>23</td>\n",
       "      <td>18</td>\n",
       "    </tr>\n",
       "    <tr>\n",
       "      <th>32</th>\n",
       "      <td>32674</td>\n",
       "      <td>Pippin</td>\n",
       "      <td>34</td>\n",
       "      <td>30</td>\n",
       "      <td>10</td>\n",
       "    </tr>\n",
       "    <tr>\n",
       "      <th>56</th>\n",
       "      <td>32674</td>\n",
       "      <td>Elrond</td>\n",
       "      <td>32</td>\n",
       "      <td>18</td>\n",
       "      <td>24</td>\n",
       "    </tr>\n",
       "    <tr>\n",
       "      <th>52</th>\n",
       "      <td>32674</td>\n",
       "      <td>Théoden</td>\n",
       "      <td>30</td>\n",
       "      <td>22</td>\n",
       "      <td>9</td>\n",
       "    </tr>\n",
       "    <tr>\n",
       "      <th>134</th>\n",
       "      <td>32674</td>\n",
       "      <td>Faramir</td>\n",
       "      <td>29</td>\n",
       "      <td>3</td>\n",
       "      <td>29</td>\n",
       "    </tr>\n",
       "    <tr>\n",
       "      <th>118</th>\n",
       "      <td>32674</td>\n",
       "      <td>Sam</td>\n",
       "      <td>28</td>\n",
       "      <td>20</td>\n",
       "      <td>17</td>\n",
       "    </tr>\n",
       "    <tr>\n",
       "      <th>129</th>\n",
       "      <td>32674</td>\n",
       "      <td>Gimli</td>\n",
       "      <td>25</td>\n",
       "      <td>22</td>\n",
       "      <td>11</td>\n",
       "    </tr>\n",
       "  </tbody>\n",
       "</table>\n",
       "</div>"
      ],
      "text/plain": [
       "     timestamp     name  degree  out_degree  in_degree\n",
       "55       32674    Frodo      51          37         22\n",
       "54       32674  Gandalf      49          35         24\n",
       "97       32674  Aragorn      45           5         45\n",
       "63       32674    Merry      34          23         18\n",
       "32       32674   Pippin      34          30         10\n",
       "56       32674   Elrond      32          18         24\n",
       "52       32674  Théoden      30          22          9\n",
       "134      32674  Faramir      29           3         29\n",
       "118      32674      Sam      28          20         17\n",
       "129      32674    Gimli      25          22         11"
      ]
     },
     "metadata": {},
     "execution_count": 19
    }
   ],
   "metadata": {
    "pycharm": {
     "name": "#%%\n"
    }
   }
  },
  {
   "cell_type": "markdown",
   "source": [
    "Note that **the resulting dataframe only has one timestamp**: the final time 32674."
   ],
   "metadata": {
    "pycharm": {
     "name": "#%% md\n"
    }
   }
  },
  {
   "cell_type": "code",
   "execution_count": 13,
   "source": [
    "df.head(5)"
   ],
   "outputs": [
    {
     "output_type": "execute_result",
     "data": {
      "text/html": [
       "<div>\n",
       "<style scoped>\n",
       "    .dataframe tbody tr th:only-of-type {\n",
       "        vertical-align: middle;\n",
       "    }\n",
       "\n",
       "    .dataframe tbody tr th {\n",
       "        vertical-align: top;\n",
       "    }\n",
       "\n",
       "    .dataframe thead th {\n",
       "        text-align: right;\n",
       "    }\n",
       "</style>\n",
       "<table border=\"1\" class=\"dataframe\">\n",
       "  <thead>\n",
       "    <tr style=\"text-align: right;\">\n",
       "      <th></th>\n",
       "      <th>timestamp</th>\n",
       "      <th>name</th>\n",
       "      <th>degree</th>\n",
       "      <th>out_degree</th>\n",
       "      <th>in_degree</th>\n",
       "    </tr>\n",
       "  </thead>\n",
       "  <tbody>\n",
       "    <tr>\n",
       "      <th>0</th>\n",
       "      <td>32674</td>\n",
       "      <td>Hirgon</td>\n",
       "      <td>2</td>\n",
       "      <td>2</td>\n",
       "      <td>0</td>\n",
       "    </tr>\n",
       "    <tr>\n",
       "      <th>1</th>\n",
       "      <td>32674</td>\n",
       "      <td>Hador</td>\n",
       "      <td>3</td>\n",
       "      <td>1</td>\n",
       "      <td>2</td>\n",
       "    </tr>\n",
       "    <tr>\n",
       "      <th>2</th>\n",
       "      <td>32674</td>\n",
       "      <td>Horn</td>\n",
       "      <td>4</td>\n",
       "      <td>1</td>\n",
       "      <td>3</td>\n",
       "    </tr>\n",
       "    <tr>\n",
       "      <th>3</th>\n",
       "      <td>32674</td>\n",
       "      <td>Galadriel</td>\n",
       "      <td>19</td>\n",
       "      <td>6</td>\n",
       "      <td>16</td>\n",
       "    </tr>\n",
       "    <tr>\n",
       "      <th>4</th>\n",
       "      <td>32674</td>\n",
       "      <td>Isildur</td>\n",
       "      <td>18</td>\n",
       "      <td>18</td>\n",
       "      <td>0</td>\n",
       "    </tr>\n",
       "  </tbody>\n",
       "</table>\n",
       "</div>"
      ],
      "text/plain": [
       "   timestamp       name  degree  out_degree  in_degree\n",
       "0      32674     Hirgon       2           2          0\n",
       "1      32674      Hador       3           1          2\n",
       "2      32674       Horn       4           1          3\n",
       "3      32674  Galadriel      19           6         16\n",
       "4      32674    Isildur      18          18          0"
      ]
     },
     "metadata": {},
     "execution_count": 13
    }
   ],
   "metadata": {
    "pycharm": {
     "name": "#%%\n"
    }
   }
  },
  {
   "cell_type": "code",
   "execution_count": 15,
   "source": [],
   "outputs": [
    {
     "output_type": "execute_result",
     "data": {
      "text/html": [
       "<div>\n",
       "<style scoped>\n",
       "    .dataframe tbody tr th:only-of-type {\n",
       "        vertical-align: middle;\n",
       "    }\n",
       "\n",
       "    .dataframe tbody tr th {\n",
       "        vertical-align: top;\n",
       "    }\n",
       "\n",
       "    .dataframe thead th {\n",
       "        text-align: right;\n",
       "    }\n",
       "</style>\n",
       "<table border=\"1\" class=\"dataframe\">\n",
       "  <thead>\n",
       "    <tr style=\"text-align: right;\">\n",
       "      <th></th>\n",
       "      <th>timestamp</th>\n",
       "      <th>name</th>\n",
       "      <th>degree</th>\n",
       "      <th>out_degree</th>\n",
       "      <th>in_degree</th>\n",
       "    </tr>\n",
       "  </thead>\n",
       "  <tbody>\n",
       "    <tr>\n",
       "      <th>55</th>\n",
       "      <td>32674</td>\n",
       "      <td>Frodo</td>\n",
       "      <td>51</td>\n",
       "      <td>37</td>\n",
       "      <td>22</td>\n",
       "    </tr>\n",
       "    <tr>\n",
       "      <th>54</th>\n",
       "      <td>32674</td>\n",
       "      <td>Gandalf</td>\n",
       "      <td>49</td>\n",
       "      <td>35</td>\n",
       "      <td>24</td>\n",
       "    </tr>\n",
       "    <tr>\n",
       "      <th>97</th>\n",
       "      <td>32674</td>\n",
       "      <td>Aragorn</td>\n",
       "      <td>45</td>\n",
       "      <td>5</td>\n",
       "      <td>45</td>\n",
       "    </tr>\n",
       "    <tr>\n",
       "      <th>63</th>\n",
       "      <td>32674</td>\n",
       "      <td>Merry</td>\n",
       "      <td>34</td>\n",
       "      <td>23</td>\n",
       "      <td>18</td>\n",
       "    </tr>\n",
       "    <tr>\n",
       "      <th>32</th>\n",
       "      <td>32674</td>\n",
       "      <td>Pippin</td>\n",
       "      <td>34</td>\n",
       "      <td>30</td>\n",
       "      <td>10</td>\n",
       "    </tr>\n",
       "    <tr>\n",
       "      <th>56</th>\n",
       "      <td>32674</td>\n",
       "      <td>Elrond</td>\n",
       "      <td>32</td>\n",
       "      <td>18</td>\n",
       "      <td>24</td>\n",
       "    </tr>\n",
       "    <tr>\n",
       "      <th>52</th>\n",
       "      <td>32674</td>\n",
       "      <td>Théoden</td>\n",
       "      <td>30</td>\n",
       "      <td>22</td>\n",
       "      <td>9</td>\n",
       "    </tr>\n",
       "    <tr>\n",
       "      <th>134</th>\n",
       "      <td>32674</td>\n",
       "      <td>Faramir</td>\n",
       "      <td>29</td>\n",
       "      <td>3</td>\n",
       "      <td>29</td>\n",
       "    </tr>\n",
       "    <tr>\n",
       "      <th>118</th>\n",
       "      <td>32674</td>\n",
       "      <td>Sam</td>\n",
       "      <td>28</td>\n",
       "      <td>20</td>\n",
       "      <td>17</td>\n",
       "    </tr>\n",
       "    <tr>\n",
       "      <th>129</th>\n",
       "      <td>32674</td>\n",
       "      <td>Gimli</td>\n",
       "      <td>25</td>\n",
       "      <td>22</td>\n",
       "      <td>11</td>\n",
       "    </tr>\n",
       "  </tbody>\n",
       "</table>\n",
       "</div>"
      ],
      "text/plain": [
       "     timestamp     name  degree  out_degree  in_degree\n",
       "55       32674    Frodo      51          37         22\n",
       "54       32674  Gandalf      49          35         24\n",
       "97       32674  Aragorn      45           5         45\n",
       "63       32674    Merry      34          23         18\n",
       "32       32674   Pippin      34          30         10\n",
       "56       32674   Elrond      32          18         24\n",
       "52       32674  Théoden      30          22          9\n",
       "134      32674  Faramir      29           3         29\n",
       "118      32674      Sam      28          20         17\n",
       "129      32674    Gimli      25          22         11"
      ]
     },
     "metadata": {},
     "execution_count": 15
    }
   ],
   "metadata": {
    "pycharm": {
     "name": "#%%\n"
    }
   }
  },
  {
   "cell_type": "markdown",
   "source": [
    "## Run a PageRank algorithm 📑"
   ],
   "metadata": {
    "pycharm": {
     "name": "#%% md\n"
    }
   }
  },
  {
   "cell_type": "markdown",
   "source": [
    "We can run any selected algorithm on our graph data, here we run PageRank. \n",
    "- Take the graph.\n",
    "- The `transform` function applies a given algorithm to the graph, and returns the graph updated with the states that the algorithm generated. Here we apply a generic algorithm `pr.algorithms.generic.centrality.PageRank()` (PageRank) so the `transform` returns the graph where each node has now an extra attribute which is its Pagerank score.\n",
    "- The `execute` function applies an algorithm (same as `transform`) AND returns the results in a tabular format (graph --> table). Here we apply the `NodeList` algorithm: it outputs one row per vertex in the graph contacted by the names in `cols`.\n",
    "- We ask Raphtory to output the results in a dataframe `to_df`. \n",
    "\n",
    "Both functions `transform` and `execute` are explained further in the [documentation](https://docs.raphtory.com/en/master/_static/com/raphtory/api/analysis/graphview/MultilayerGraphView.html)."
   ],
   "metadata": {
    "pycharm": {
     "name": "#%% md\n"
    }
   }
  },
  {
   "cell_type": "code",
   "execution_count": 16,
   "source": [
    "cols = [\"prlabel\"]\n",
    "\n",
    "df_pagerank = graph.at(32674) \\\n",
    "                .past() \\\n",
    "                .transform(ctx.algorithms.generic.centrality.PageRank())\\\n",
    "                .execute(ctx.algorithms.generic.NodeList(*cols)) \\\n",
    "                .to_df([\"name\"] + cols)"
   ],
   "outputs": [],
   "metadata": {
    "pycharm": {
     "name": "#%%\n"
    }
   }
  },
  {
   "cell_type": "markdown",
   "source": [
    "**Note: Here we run PageRank on the aggregated graph but we could, of course, have run it similarly on temporal slices as explained above.**"
   ],
   "metadata": {
    "pycharm": {
     "name": "#%% md\n"
    }
   }
  },
  {
   "cell_type": "code",
   "execution_count": 18,
   "source": [
    "df_pagerank.head(5)"
   ],
   "outputs": [
    {
     "output_type": "execute_result",
     "data": {
      "text/html": [
       "<div>\n",
       "<style scoped>\n",
       "    .dataframe tbody tr th:only-of-type {\n",
       "        vertical-align: middle;\n",
       "    }\n",
       "\n",
       "    .dataframe tbody tr th {\n",
       "        vertical-align: top;\n",
       "    }\n",
       "\n",
       "    .dataframe thead th {\n",
       "        text-align: right;\n",
       "    }\n",
       "</style>\n",
       "<table border=\"1\" class=\"dataframe\">\n",
       "  <thead>\n",
       "    <tr style=\"text-align: right;\">\n",
       "      <th></th>\n",
       "      <th>timestamp</th>\n",
       "      <th>name</th>\n",
       "      <th>prlabel</th>\n",
       "    </tr>\n",
       "  </thead>\n",
       "  <tbody>\n",
       "    <tr>\n",
       "      <th>0</th>\n",
       "      <td>32674</td>\n",
       "      <td>Hirgon</td>\n",
       "      <td>0.277968</td>\n",
       "    </tr>\n",
       "    <tr>\n",
       "      <th>1</th>\n",
       "      <td>32674</td>\n",
       "      <td>Hador</td>\n",
       "      <td>0.459710</td>\n",
       "    </tr>\n",
       "    <tr>\n",
       "      <th>2</th>\n",
       "      <td>32674</td>\n",
       "      <td>Horn</td>\n",
       "      <td>0.522389</td>\n",
       "    </tr>\n",
       "    <tr>\n",
       "      <th>3</th>\n",
       "      <td>32674</td>\n",
       "      <td>Galadriel</td>\n",
       "      <td>2.228852</td>\n",
       "    </tr>\n",
       "    <tr>\n",
       "      <th>4</th>\n",
       "      <td>32674</td>\n",
       "      <td>Isildur</td>\n",
       "      <td>0.277968</td>\n",
       "    </tr>\n",
       "  </tbody>\n",
       "</table>\n",
       "</div>"
      ],
      "text/plain": [
       "   timestamp       name   prlabel\n",
       "0      32674     Hirgon  0.277968\n",
       "1      32674      Hador  0.459710\n",
       "2      32674       Horn  0.522389\n",
       "3      32674  Galadriel  2.228852\n",
       "4      32674    Isildur  0.277968"
      ]
     },
     "metadata": {},
     "execution_count": 18
    }
   ],
   "metadata": {
    "pycharm": {
     "name": "#%%\n"
    }
   }
  },
  {
   "cell_type": "markdown",
   "source": [
    "**The top ten most ranked characters**"
   ],
   "metadata": {
    "pycharm": {
     "name": "#%% md\n"
    }
   }
  },
  {
   "cell_type": "code",
   "execution_count": null,
   "source": [
    "df_pagerank.sort_values(['prlabel'], ascending=False)[:10]"
   ],
   "outputs": [],
   "metadata": {
    "pycharm": {
     "name": "#%%\n"
    }
   }
  },
  {
   "cell_type": "markdown",
   "source": [
    "## Run a connected components algorithm "
   ],
   "metadata": {
    "pycharm": {
     "name": "#%% md\n"
    }
   }
  },
  {
   "cell_type": "markdown",
   "source": [
    "Similarly we can look for the connected components of the graph."
   ],
   "metadata": {
    "pycharm": {
     "name": "#%% md\n"
    }
   }
  },
  {
   "cell_type": "code",
   "execution_count": null,
   "source": [
    "cols = [\"cclabel\"]\n",
    "df_cc = graph.at(32674) \\\n",
    "                .past() \\\n",
    "                .transform(ctx.algorithms.generic.ConnectedComponents)\\\n",
    "                .execute(ctx.algorithms.generic.NodeList(*cols)) \\\n",
    "                .to_df([\"name\"] + cols)"
   ],
   "outputs": [],
   "metadata": {
    "collapsed": false,
    "jupyter": {
     "outputs_hidden": false
    },
    "pycharm": {
     "name": "#%%\n"
    }
   }
  },
  {
   "cell_type": "markdown",
   "source": [
    "**Preview dataframe.**"
   ],
   "metadata": {
    "pycharm": {
     "name": "#%% md\n"
    }
   }
  },
  {
   "cell_type": "code",
   "execution_count": null,
   "source": [
    "df_cc.drop(columns=['window'], inplace=True)\n",
    "df_cc.head(5)"
   ],
   "outputs": [],
   "metadata": {
    "pycharm": {
     "name": "#%%\n"
    }
   }
  },
  {
   "cell_type": "markdown",
   "source": [
    "**Number of distinct components**"
   ],
   "metadata": {
    "pycharm": {
     "name": "#%% md\n"
    }
   }
  },
  {
   "cell_type": "code",
   "execution_count": null,
   "source": [
    "print('# distinct components:', len(set(df_cc['cclabel'])))"
   ],
   "outputs": [],
   "metadata": {
    "pycharm": {
     "name": "#%%\n"
    }
   }
  },
  {
   "cell_type": "markdown",
   "source": [
    "**Calculate the size of the 3 connected components.**"
   ],
   "metadata": {
    "pycharm": {
     "name": "#%% md\n"
    }
   }
  },
  {
   "cell_type": "code",
   "execution_count": null,
   "source": [
    "df_cc \\\n",
    ".groupby(['cclabel']) \\\n",
    ".count() \\\n",
    ".reset_index() \\\n",
    ".rename(columns={'name': 'size'}) \\\n",
    ".drop(columns=['timestamp'])"
   ],
   "outputs": [],
   "metadata": {
    "pycharm": {
     "name": "#%%\n"
    }
   }
  },
  {
   "cell_type": "markdown",
   "source": [
    "## Run chained algorithms at once "
   ],
   "metadata": {
    "pycharm": {
     "name": "#%% md\n"
    }
   }
  },
  {
   "cell_type": "markdown",
   "source": [
    "We can also chain PageRank, Connected Components and Degree algorithms, running them one after another on the graph. Specify all the columns in the output dataframe, including an output column for each algorithm in the chain. `cols` dictates the particular order in which we want to output the result columns."
   ],
   "metadata": {
    "pycharm": {
     "name": "#%% md\n"
    }
   }
  },
  {
   "cell_type": "code",
   "execution_count": 28,
   "source": [
    "cols = [\"inDegree\", \"outDegree\", \"degree\", \"prlabel\", \"cclabel\"]\n",
    "\n",
    "df_chained = graph.range(1, 32674, 1000)\\\n",
    "                .window([100,1000,10000])\\\n",
    "                .transform(ctx.algorithms.generic.centrality.PageRank())\\\n",
    "                .transform(ctx.algorithms.generic.ConnectedComponents)\\\n",
    "                .transform(ctx.algorithms.generic.centrality.Degree())\\\n",
    "                .execute(ctx.algorithms.generic.NodeList(*cols)) \\\n",
    "                .to_df([\"name\"] + cols)"
   ],
   "outputs": [],
   "metadata": {
    "pycharm": {
     "name": "#%%\n"
    }
   }
  },
  {
   "cell_type": "code",
   "execution_count": 25,
   "source": [
    "df_chained['degree_numeric'] = df_chained['degree'].astype(float)\n",
    "df_chained.head(10)"
   ],
   "outputs": [
    {
     "output_type": "execute_result",
     "data": {
      "text/html": [
       "<div>\n",
       "<style scoped>\n",
       "    .dataframe tbody tr th:only-of-type {\n",
       "        vertical-align: middle;\n",
       "    }\n",
       "\n",
       "    .dataframe tbody tr th {\n",
       "        vertical-align: top;\n",
       "    }\n",
       "\n",
       "    .dataframe thead th {\n",
       "        text-align: right;\n",
       "    }\n",
       "</style>\n",
       "<table border=\"1\" class=\"dataframe\">\n",
       "  <thead>\n",
       "    <tr style=\"text-align: right;\">\n",
       "      <th></th>\n",
       "      <th>timestamp</th>\n",
       "      <th>name</th>\n",
       "      <th>inDegree</th>\n",
       "      <th>outDegree</th>\n",
       "      <th>degree</th>\n",
       "      <th>prlabel</th>\n",
       "      <th>cclabel</th>\n",
       "      <th>degree_numeric</th>\n",
       "    </tr>\n",
       "  </thead>\n",
       "  <tbody>\n",
       "    <tr>\n",
       "      <th>0</th>\n",
       "      <td>32674</td>\n",
       "      <td>Hirgon</td>\n",
       "      <td>0</td>\n",
       "      <td>2</td>\n",
       "      <td>2</td>\n",
       "      <td>0.277968</td>\n",
       "      <td>-8637342647242242534</td>\n",
       "      <td>2.0</td>\n",
       "    </tr>\n",
       "    <tr>\n",
       "      <th>1</th>\n",
       "      <td>32674</td>\n",
       "      <td>Hador</td>\n",
       "      <td>2</td>\n",
       "      <td>1</td>\n",
       "      <td>3</td>\n",
       "      <td>0.459710</td>\n",
       "      <td>-8637342647242242534</td>\n",
       "      <td>3.0</td>\n",
       "    </tr>\n",
       "    <tr>\n",
       "      <th>2</th>\n",
       "      <td>32674</td>\n",
       "      <td>Horn</td>\n",
       "      <td>3</td>\n",
       "      <td>1</td>\n",
       "      <td>4</td>\n",
       "      <td>0.522389</td>\n",
       "      <td>-8637342647242242534</td>\n",
       "      <td>4.0</td>\n",
       "    </tr>\n",
       "    <tr>\n",
       "      <th>3</th>\n",
       "      <td>32674</td>\n",
       "      <td>Galadriel</td>\n",
       "      <td>16</td>\n",
       "      <td>6</td>\n",
       "      <td>19</td>\n",
       "      <td>2.228852</td>\n",
       "      <td>-8637342647242242534</td>\n",
       "      <td>19.0</td>\n",
       "    </tr>\n",
       "    <tr>\n",
       "      <th>4</th>\n",
       "      <td>32674</td>\n",
       "      <td>Isildur</td>\n",
       "      <td>0</td>\n",
       "      <td>18</td>\n",
       "      <td>18</td>\n",
       "      <td>0.277968</td>\n",
       "      <td>-8637342647242242534</td>\n",
       "      <td>18.0</td>\n",
       "    </tr>\n",
       "    <tr>\n",
       "      <th>5</th>\n",
       "      <td>32674</td>\n",
       "      <td>Mablung</td>\n",
       "      <td>2</td>\n",
       "      <td>2</td>\n",
       "      <td>4</td>\n",
       "      <td>0.462552</td>\n",
       "      <td>-8637342647242242534</td>\n",
       "      <td>4.0</td>\n",
       "    </tr>\n",
       "    <tr>\n",
       "      <th>6</th>\n",
       "      <td>32674</td>\n",
       "      <td>Gram</td>\n",
       "      <td>13</td>\n",
       "      <td>0</td>\n",
       "      <td>13</td>\n",
       "      <td>2.385393</td>\n",
       "      <td>-8637342647242242534</td>\n",
       "      <td>13.0</td>\n",
       "    </tr>\n",
       "    <tr>\n",
       "      <th>7</th>\n",
       "      <td>32674</td>\n",
       "      <td>Thingol</td>\n",
       "      <td>4</td>\n",
       "      <td>4</td>\n",
       "      <td>7</td>\n",
       "      <td>1.262425</td>\n",
       "      <td>-8637342647242242534</td>\n",
       "      <td>7.0</td>\n",
       "    </tr>\n",
       "    <tr>\n",
       "      <th>8</th>\n",
       "      <td>32674</td>\n",
       "      <td>Celebrían</td>\n",
       "      <td>1</td>\n",
       "      <td>0</td>\n",
       "      <td>1</td>\n",
       "      <td>0.315823</td>\n",
       "      <td>-8637342647242242534</td>\n",
       "      <td>1.0</td>\n",
       "    </tr>\n",
       "    <tr>\n",
       "      <th>9</th>\n",
       "      <td>32674</td>\n",
       "      <td>Gamling</td>\n",
       "      <td>2</td>\n",
       "      <td>1</td>\n",
       "      <td>3</td>\n",
       "      <td>0.385336</td>\n",
       "      <td>-8637342647242242534</td>\n",
       "      <td>3.0</td>\n",
       "    </tr>\n",
       "  </tbody>\n",
       "</table>\n",
       "</div>"
      ],
      "text/plain": [
       "   timestamp       name  inDegree  outDegree  degree   prlabel  \\\n",
       "0      32674     Hirgon         0          2       2  0.277968   \n",
       "1      32674      Hador         2          1       3  0.459710   \n",
       "2      32674       Horn         3          1       4  0.522389   \n",
       "3      32674  Galadriel        16          6      19  2.228852   \n",
       "4      32674    Isildur         0         18      18  0.277968   \n",
       "5      32674    Mablung         2          2       4  0.462552   \n",
       "6      32674       Gram        13          0      13  2.385393   \n",
       "7      32674    Thingol         4          4       7  1.262425   \n",
       "8      32674  Celebrían         1          0       1  0.315823   \n",
       "9      32674    Gamling         2          1       3  0.385336   \n",
       "\n",
       "               cclabel  degree_numeric  \n",
       "0 -8637342647242242534             2.0  \n",
       "1 -8637342647242242534             3.0  \n",
       "2 -8637342647242242534             4.0  \n",
       "3 -8637342647242242534            19.0  \n",
       "4 -8637342647242242534            18.0  \n",
       "5 -8637342647242242534             4.0  \n",
       "6 -8637342647242242534            13.0  \n",
       "7 -8637342647242242534             7.0  \n",
       "8 -8637342647242242534             1.0  \n",
       "9 -8637342647242242534             3.0  "
      ]
     },
     "metadata": {},
     "execution_count": 25
    }
   ],
   "metadata": {
    "pycharm": {
     "name": "#%%\n"
    }
   }
  },
  {
   "cell_type": "markdown",
   "source": [
    "## Create visualisation by adding nodes 🔎"
   ],
   "metadata": {
    "pycharm": {
     "name": "#%% md\n"
    },
    "tags": []
   }
  },
  {
   "cell_type": "code",
   "execution_count": null,
   "source": [
    "def visualise(graph, df_chained):\n",
    "    # Create network object\n",
    "    net = Network(notebook=True, height='750px', width='100%', bgcolor='#222222', font_color='white')\n",
    "    # Set visualisation tool\n",
    "    net.force_atlas_2based()\n",
    "    # Get the node list \n",
    "    df_node_list = graph.at(32674) \\\n",
    "                .past() \\\n",
    "                .execute(ctx.algorithms.generic.NodeList()) \\\n",
    "                .to_df(['name'])\n",
    "    \n",
    "    nodes = df_node_list['name'].tolist()\n",
    "    \n",
    "    node_data = []\n",
    "    ignore_items = ['timestamp', 'name', 'window']\n",
    "    for node_name in nodes:\n",
    "        for i, row in df_chained.iterrows():\n",
    "            if row['name']==node_name:\n",
    "                data = ''\n",
    "                for k,v in row.iteritems():\n",
    "                    if k not in ignore_items:\n",
    "                        data = data+str(k)+': '+str(v)+'\\n'\n",
    "                node_data.append(data)\n",
    "                continue\n",
    "    # Add the nodes\n",
    "    net.add_nodes(nodes, title=node_data, value = df_chained.prlabel)\n",
    "    # Get the edge list\n",
    "    df_edge_list = graph.at(32674) \\\n",
    "                .past() \\\n",
    "                .execute(ctx.algorithms.generic.EdgeList()) \\\n",
    "                .to_df(['from', 'to'])\n",
    "    edges = []\n",
    "    for i, row in df_edge_list[['from', 'to']].iterrows():\n",
    "        edges.append([row['from'], row['to']])\n",
    "    # Add the edges\n",
    "    net.add_edges(edges)\n",
    "    # Toggle physics\n",
    "    net.toggle_physics(True)\n",
    "    return net"
   ],
   "outputs": [],
   "metadata": {
    "pycharm": {
     "name": "#%%\n"
    },
    "tags": []
   }
  },
  {
   "cell_type": "code",
   "execution_count": null,
   "source": [
    "net = visualise(graph, df_chained)"
   ],
   "outputs": [],
   "metadata": {
    "pycharm": {
     "name": "#%%\n"
    },
    "scrolled": true,
    "tags": []
   }
  },
  {
   "cell_type": "markdown",
   "source": [
    "**Show the html file of the visualisation**"
   ],
   "metadata": {
    "pycharm": {
     "name": "#%% md\n"
    }
   }
  },
  {
   "cell_type": "code",
   "execution_count": null,
   "source": [
    "%%html\n",
    "net.show('preview.html')"
   ],
   "outputs": [],
   "metadata": {
    "pycharm": {
     "name": "#%%\n"
    }
   }
  },
  {
   "cell_type": "markdown",
   "source": [
    "## Shut down PyRaphtory  🛑"
   ],
   "metadata": {
    "pycharm": {
     "name": "#%% md\n"
    }
   }
  }
 ],
 "metadata": {
  "kernelspec": {
   "name": "python3",
   "display_name": "Python 3.9.13 64-bit ('pyraph39': conda)"
  },
  "language_info": {
   "codemirror_mode": {
    "name": "ipython",
    "version": 3
   },
   "file_extension": ".py",
   "mimetype": "text/x-python",
   "name": "python",
   "nbconvert_exporter": "python",
   "pygments_lexer": "ipython3",
   "version": "3.9.13"
  },
  "vscode": {
   "interpreter": {
    "hash": "6a6883e53c22eb800f1dd2764e6034b0092229ebd36154d4214f8abf0f6aadd2"
   }
  },
  "interpreter": {
   "hash": "2fd8b0dd52cc294f3672afec541bd883b30f7293219263d147e74d62b7608382"
  }
 },
 "nbformat": 4,
 "nbformat_minor": 5
}