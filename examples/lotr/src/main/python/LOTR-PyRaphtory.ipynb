{
 "cells": [
  {
   "cell_type": "markdown",
   "id": "e233e31e",
   "metadata": {
    "pycharm": {
     "name": "#%% md\n"
    }
   },
   "source": [
    "# Lord Of The Rings PyRaphtory Example Notebook 🧝🏻‍♀️🧙🏻‍♂️💍"
   ]
  },
  {
   "cell_type": "markdown",
   "id": "29bc25aa",
   "metadata": {
    "pycharm": {
     "name": "#%% md\n"
    }
   },
   "source": [
    "## Setup environment and download data 💾"
   ]
  },
  {
   "cell_type": "markdown",
   "id": "8da8d0d0",
   "metadata": {
    "pycharm": {
     "name": "#%% md\n"
    }
   },
   "source": [
    "Import all necessary dependencies needed to build a graph from your data in PyRaphtory. Download csv data from github into your tmp folder (file path: /tmp/lotr.csv)."
   ]
  },
  {
   "cell_type": "code",
   "execution_count": null,
   "id": "ba406737",
   "metadata": {
    "pycharm": {
     "name": "#%%\n"
    }
   },
   "outputs": [],
   "source": [
    "pip install pyvis matplotlib"
   ]
  },
  {
   "cell_type": "code",
   "execution_count": null,
   "id": "f03f149c",
   "metadata": {
    "jupyter": {
     "outputs_hidden": false
    },
    "pycharm": {
     "name": "#%%\n"
    }
   },
   "outputs": [],
   "source": [
    "from pathlib import Path\n",
    "from pyraphtory.context import PyRaphtory\n",
    "from pyraphtory.vertex import Vertex\n",
    "from pyraphtory.spouts import FileSpout\n",
    "from pyraphtory.input import *\n",
    "from pyvis.network import Network\n",
    "import csv\n",
    "import pandas as pd\n",
    "import numpy as np\n",
    "\n",
    "!curl -o /tmp/lotr.csv https://raw.githubusercontent.com/Raphtory/Data/main/lotr.csv"
   ]
  },
  {
   "cell_type": "markdown",
   "id": "5bbe8f64",
   "metadata": {
    "pycharm": {
     "name": "#%% md\n"
    }
   },
   "source": [
    "## Preview data  👀"
   ]
  },
  {
   "cell_type": "code",
   "execution_count": null,
   "id": "8f41fa92",
   "metadata": {
    "pycharm": {
     "name": "#%%\n"
    },
    "scrolled": true
   },
   "outputs": [],
   "source": [
    "!head /tmp/lotr.csv"
   ]
  },
  {
   "cell_type": "code",
   "execution_count": null,
   "id": "567cb719",
   "metadata": {
    "pycharm": {
     "name": "#%%\n"
    }
   },
   "outputs": [],
   "source": [
    "filename = '/tmp/lotr.csv'"
   ]
  },
  {
   "cell_type": "markdown",
   "id": "d0aa8ad0",
   "metadata": {
    "pycharm": {
     "name": "#%% md\n"
    }
   },
   "source": [
    "## Create a new Raphtory graph 📊"
   ]
  },
  {
   "cell_type": "markdown",
   "id": "e9069807",
   "metadata": {
    "pycharm": {
     "name": "#%% md\n"
    }
   },
   "source": [
    "We Initialise Raphtory by creating a PyRaphtory object, and we create your new graph. We can turn on logs to see what is going on in PyRaphtory."
   ]
  },
  {
   "cell_type": "code",
   "execution_count": null,
   "id": "90a71f8d",
   "metadata": {
    "jupyter": {
     "outputs_hidden": false
    },
    "pycharm": {
     "name": "#%%\n"
    }
   },
   "outputs": [],
   "source": [
    "ctx = PyRaphtory.local()\n",
    "graph = ctx.new_graph()"
   ]
  },
  {
   "cell_type": "markdown",
   "id": "06d354a6",
   "metadata": {
    "pycharm": {
     "name": "#%% md\n"
    }
   },
   "source": [
    "## Ingest the data into a graph 😋"
   ]
  },
  {
   "cell_type": "markdown",
   "id": "ca7ec7b9",
   "metadata": {
    "pycharm": {
     "name": "#%% md\n"
    }
   },
   "source": [
    "We use a parsing method to parse the csv file and add the vertices and edges to the PyRaphtory graph."
   ]
  },
  {
   "cell_type": "code",
   "execution_count": null,
   "id": "f8815283",
   "metadata": {
    "pycharm": {
     "name": "#%%\n"
    }
   },
   "outputs": [],
   "source": [
    "graph = ctx.new_graph()\n",
    "with open(filename, 'r') as csvfile:\n",
    "    datareader = csv.reader(csvfile)\n",
    "    for row in datareader:\n",
    "\n",
    "        source_node = row[0]\n",
    "        destination_node = row[1]\n",
    "        timestamp = int(row[2])\n",
    "        \n",
    "        graph.add_vertex(timestamp, source_node, vertex_type=\"Character\")\n",
    "        graph.add_vertex(timestamp, destination_node, vertex_type=\"Character\")  \n",
    "        graph.add_edge(timestamp, source_node, destination_node, edge_type=\"Character_Co-occurence\")"
   ]
  },
  {
   "cell_type": "markdown",
   "id": "b006aa54",
   "metadata": {
    "pycharm": {
     "name": "#%% md\n"
    }
   },
   "source": [
    "## Collect simple metrics 📈"
   ]
  },
  {
   "cell_type": "markdown",
   "id": "46550ef1",
   "metadata": {
    "pycharm": {
     "name": "#%% md\n"
    }
   },
   "source": [
    "Our data has been ingested by the graph object. We can now select certain attributes and metrics to display, for instance vertex name, degree, out degree and in degree. \\\n",
    "We can compute these metrics temporally. To do so,\n",
    "1. the first step is to create temporal slices of the graph, also called **graph perspectives**. For instance, `.range(start, end, step)` filters the data from `start` to `end`, and splits it into slices of duration `step`. More functions such as `from`,`until`, `at`, `depart`, are presented in the [documentation of the DeplotedTemporalGraph object](https://docs.raphtory.com/en/master/_static/com/raphtory/api/analysis/graphview/DeployedTemporalGraph.html).\n",
    "2. the second step is to specify which direction we are looking in at each time point (or **snapshot**) `t`. For instance `.past()` aggregate all older data until `t`, `.future()` aggregate all data starting from `t`. We can also use the function `.window()`, also presented in the [documentation of the DottedGraph object](https://docs.raphtory.com/en/master/_static/com/raphtory/api/analysis/graphview/DottedGraph.html). \n",
    "\n",
    "We can then specify which metrics we are interested in, and choose the names of the output columns."
   ]
  },
  {
   "cell_type": "code",
   "execution_count": null,
   "id": "a7f82c4c",
   "metadata": {
    "pycharm": {
     "name": "#%%\n"
    }
   },
   "outputs": [],
   "source": [
    "df = graph \\\n",
    "      .range(1, 32674, 1000) \\\n",
    "      .past()  \\\n",
    "      .step(lambda vertex: vertex.set_state(\"name\", vertex.name())) \\\n",
    "      .step(lambda vertex: vertex.set_state(\"degree\", vertex.degree())) \\\n",
    "      .step(lambda vertex: vertex.set_state(\"outdegree\", vertex.out_degree())) \\\n",
    "      .step(lambda vertex: vertex.set_state(\"indegree\", vertex.in_degree())) \\\n",
    "      .select(\"name\", \"degree\", \"outdegree\", \"indegree\") \\\n",
    "      .to_df()"
   ]
  },
  {
   "cell_type": "code",
   "execution_count": null,
   "id": "8290e608",
   "metadata": {
    "pycharm": {
     "name": "#%%\n"
    }
   },
   "outputs": [],
   "source": [
    "df.head(5)"
   ]
  },
  {
   "cell_type": "markdown",
   "id": "f724d107",
   "metadata": {
    "pycharm": {
     "name": "#%% md\n"
    }
   },
   "source": [
    "**Get simple insights from the data 👀**"
   ]
  },
  {
   "cell_type": "code",
   "execution_count": null,
   "id": "2119bb16",
   "metadata": {
    "pycharm": {
     "name": "#%%\n"
    }
   },
   "outputs": [],
   "source": [
    "print('# timetamps:', len(df.timestamp.unique()))\n",
    "print('# characters:', len(df.name.unique()))"
   ]
  },
  {
   "cell_type": "code",
   "execution_count": null,
   "id": "692d04fa",
   "metadata": {
    "pycharm": {
     "name": "#%%\n"
    }
   },
   "outputs": [],
   "source": [
    "df \\\n",
    ".groupby('timestamp') \\\n",
    ".agg({'name': 'count'}) \\\n",
    ".reset_index() \\\n",
    ".rename(columns={'name': 'nb_characters'}) \\\n",
    ".plot(x='timestamp', y='nb_characters', kind='scatter', title='# characters co-mentioned at least once until time t')"
   ]
  },
  {
   "cell_type": "markdown",
   "id": "d9daaa89",
   "metadata": {
    "pycharm": {
     "name": "#%% md\n"
    }
   },
   "source": [
    "**Suppose we are interested in the top 5 highest degree characters.** Because the dataframe contains the degree of each character up to each time point, we can simply look at the max degree of each character across all times."
   ]
  },
  {
   "cell_type": "code",
   "execution_count": null,
   "id": "19bcb887",
   "metadata": {
    "pycharm": {
     "name": "#%%\n"
    }
   },
   "outputs": [],
   "source": [
    "df \\\n",
    ".groupby('name') \\\n",
    ".agg({'degree': 'max'}) \\\n",
    ".reset_index() \\\n",
    ".sort_values(['degree'], ascending=False)[:5]"
   ]
  },
  {
   "cell_type": "markdown",
   "id": "0df2313f",
   "metadata": {
    "pycharm": {
     "name": "#%% md\n"
    }
   },
   "source": [
    "**Alternatively**, we can aggregate all temporal interactions from the start, and compute the degrees on the resulting graph."
   ]
  },
  {
   "cell_type": "code",
   "execution_count": null,
   "id": "a9c0c9f0",
   "metadata": {
    "pycharm": {
     "name": "#%%\n"
    }
   },
   "outputs": [],
   "source": [
    "df = graph \\\n",
    "    .at(32674) \\\n",
    "    .past() \\\n",
    "    .step(lambda vertex: vertex.set_state(\"name\", vertex.name())) \\\n",
    "    .step(lambda vertex: vertex.set_state(\"degree\", vertex.degree())) \\\n",
    "    .step(lambda vertex: vertex.set_state(\"outdegree\", vertex.out_degree())) \\\n",
    "    .step(lambda vertex: vertex.set_state(\"indegree\", vertex.in_degree())) \\\n",
    "    .select(\"name\", \"degree\", \"outdegree\", \"indegree\") \\\n",
    "    .to_df()"
   ]
  },
  {
   "cell_type": "markdown",
   "id": "f7805473",
   "metadata": {
    "pycharm": {
     "name": "#%% md\n"
    }
   },
   "source": [
    "Note that **the resulting dataframe only has one timestamp**: the final time 32674."
   ]
  },
  {
   "cell_type": "code",
   "execution_count": null,
   "id": "e0ae32f0",
   "metadata": {
    "pycharm": {
     "name": "#%%\n"
    }
   },
   "outputs": [],
   "source": [
    "df.head(5)"
   ]
  },
  {
   "cell_type": "code",
   "execution_count": null,
   "id": "e03d3ef6",
   "metadata": {
    "pycharm": {
     "name": "#%%\n"
    }
   },
   "outputs": [],
   "source": [
    "df.sort_values(['degree'], ascending=False)[:10]"
   ]
  },
  {
   "cell_type": "markdown",
   "id": "7cd93265",
   "metadata": {
    "pycharm": {
     "name": "#%% md\n"
    }
   },
   "source": [
    "## Run a PageRank algorithm 📑"
   ]
  },
  {
   "cell_type": "markdown",
   "id": "1842b953",
   "metadata": {
    "pycharm": {
     "name": "#%% md\n"
    }
   },
   "source": [
    "We can run any selected algorithm on our graph data, here we run PageRank. \n",
    "- Take the graph.\n",
    "- The `transform` function applies a given algorithm to the graph, and returns the graph updated with the states that the algorithm generated. Here we apply a generic algorithm `pr.algorithms.generic.centrality.PageRank()` (PageRank) so the `transform` returns the graph where each node has now an extra attribute which is its Pagerank score.\n",
    "- The `execute` function applies an algorithm (same as `transform`) AND returns the results in a tabular format (graph --> table). Here we apply the `NodeList` algorithm: it outputs one row per vertex in the graph contacted by the names in `cols`.\n",
    "- We ask Raphtory to output the results in a dataframe `to_df`. \n",
    "\n",
    "Both functions `transform` and `execute` are explained further in the [documentation](https://docs.raphtory.com/en/master/_static/com/raphtory/api/analysis/graphview/MultilayerGraphView.html)."
   ]
  },
  {
   "cell_type": "code",
   "execution_count": null,
   "id": "e76297a1",
   "metadata": {
    "pycharm": {
     "name": "#%%\n"
    }
   },
   "outputs": [],
   "source": [
    "df_pagerank = graph.at(32674) \\\n",
    "                .past() \\\n",
    "                .execute(ctx.algorithms.generic.centrality.PageRank()) \\\n",
    "                .to_df()"
   ]
  },
  {
   "cell_type": "markdown",
   "id": "f5b4afa3",
   "metadata": {
    "pycharm": {
     "name": "#%% md\n"
    }
   },
   "source": [
    "**Note: Here we run PageRank on the aggregated graph but we could, of course, have run it similarly on temporal slices as explained above.**"
   ]
  },
  {
   "cell_type": "code",
   "execution_count": null,
   "id": "8d8880a0",
   "metadata": {
    "pycharm": {
     "name": "#%%\n"
    }
   },
   "outputs": [],
   "source": [
    "df_pagerank.head(5)"
   ]
  },
  {
   "cell_type": "markdown",
   "id": "aac37cc5",
   "metadata": {
    "pycharm": {
     "name": "#%% md\n"
    }
   },
   "source": [
    "**The top ten most ranked characters**"
   ]
  },
  {
   "cell_type": "code",
   "execution_count": null,
   "id": "922192d7",
   "metadata": {
    "pycharm": {
     "name": "#%%\n"
    }
   },
   "outputs": [],
   "source": [
    "df_pagerank.sort_values(['prlabel'], ascending=False)[:10]"
   ]
  },
  {
   "cell_type": "markdown",
   "id": "5db68dec",
   "metadata": {
    "pycharm": {
     "name": "#%% md\n"
    }
   },
   "source": [
    "## Run a connected components algorithm "
   ]
  },
  {
   "cell_type": "markdown",
   "id": "60f8e8d1",
   "metadata": {
    "pycharm": {
     "name": "#%% md\n"
    }
   },
   "source": [
    "Similarly we can look for the connected components of the graph."
   ]
  },
  {
   "cell_type": "code",
   "execution_count": null,
   "id": "820be39e",
   "metadata": {
    "jupyter": {
     "outputs_hidden": false
    },
    "pycharm": {
     "name": "#%%\n"
    }
   },
   "outputs": [],
   "source": [
    "df_cc = graph.at(32674) \\\n",
    "            .past() \\\n",
    "            .execute(ctx.algorithms.generic.ConnectedComponents)\\\n",
    "            .to_df()"
   ]
  },
  {
   "cell_type": "markdown",
   "id": "a36188ed",
   "metadata": {
    "pycharm": {
     "name": "#%% md\n"
    }
   },
   "source": [
    "**Preview dataframe.**"
   ]
  },
  {
   "cell_type": "code",
   "execution_count": null,
   "id": "a1ebc257",
   "metadata": {
    "pycharm": {
     "name": "#%%\n"
    }
   },
   "outputs": [],
   "source": [
    "df_cc.head(5)"
   ]
  },
  {
   "cell_type": "markdown",
   "id": "f573c227",
   "metadata": {
    "pycharm": {
     "name": "#%% md\n"
    }
   },
   "source": [
    "**Number of distinct components**"
   ]
  },
  {
   "cell_type": "code",
   "execution_count": null,
   "id": "82bdeb30",
   "metadata": {
    "pycharm": {
     "name": "#%%\n"
    }
   },
   "outputs": [],
   "source": [
    "print('# distinct components:', len(set(df_cc['cclabel'])))"
   ]
  },
  {
   "cell_type": "markdown",
   "id": "fe06352f",
   "metadata": {
    "pycharm": {
     "name": "#%% md\n"
    }
   },
   "source": [
    "**Calculate the size of the 3 connected components.**"
   ]
  },
  {
   "cell_type": "code",
   "execution_count": null,
   "id": "e531f40c",
   "metadata": {
    "pycharm": {
     "name": "#%%\n"
    }
   },
   "outputs": [],
   "source": [
    "df_cc \\\n",
    ".groupby(['cclabel']) \\\n",
    ".count() \\\n",
    ".reset_index() \\\n",
    ".rename(columns={'name': 'size'}) \\\n",
    ".drop(columns=['timestamp'])"
   ]
  },
  {
   "cell_type": "markdown",
   "id": "0d216b63",
   "metadata": {
    "pycharm": {
     "name": "#%% md\n"
    }
   },
   "source": [
    "## Run chained algorithms at once "
   ]
  },
  {
   "cell_type": "markdown",
   "id": "7afbeb60",
   "metadata": {
    "pycharm": {
     "name": "#%% md\n"
    }
   },
   "source": [
    "We can also chain PageRank, Connected Components and Degree algorithms, running them one after another on the graph. Specify all the columns in the output dataframe, including an output column for each algorithm in the chain. `cols` dictates the particular order in which we want to output the result columns."
   ]
  },
  {
   "cell_type": "code",
   "execution_count": 95,
   "id": "50a7c88e",
   "metadata": {
    "pycharm": {
     "name": "#%%\n"
    }
   },
   "outputs": [
    {
     "ename": "KeyError",
     "evalue": "'missing key name'",
     "output_type": "error",
     "traceback": [
      "\u001b[0;31m---------------------------------------------------------------------------\u001b[0m",
      "\u001b[0;31mTypeError\u001b[0m                                 Traceback (most recent call last)",
      "File \u001b[0;32m~/opt/miniconda3/envs/test_env3/lib/python3.9/site-packages/pyraphtory/scala/collection.py:84\u001b[0m, in \u001b[0;36mMapping.__getitem__\u001b[0;34m(self, key)\u001b[0m\n\u001b[1;32m     83\u001b[0m \u001b[39mtry\u001b[39;00m:\n\u001b[0;32m---> 84\u001b[0m     \u001b[39mreturn\u001b[39;00m \u001b[39mself\u001b[39;49m\u001b[39m.\u001b[39;49mapply(key)\n\u001b[1;32m     85\u001b[0m \u001b[39mexcept\u001b[39;00m \u001b[39mException\u001b[39;00m:\n",
      "File \u001b[0;32m<string>:3\u001b[0m, in \u001b[0;36mapply\u001b[0;34m(self, key)\u001b[0m\n",
      "\u001b[0;31mTypeError\u001b[0m: No matching overloads found for scala.collection.immutable.Iterable.apply(str), options are:\n\tpublic static java.lang.Object scala.collection.immutable.Iterable.apply(scala.collection.immutable.Seq)\n\n",
      "\nDuring handling of the above exception, another exception occurred:\n",
      "\u001b[0;31mKeyError\u001b[0m                                  Traceback (most recent call last)",
      "Cell \u001b[0;32mIn[95], line 1\u001b[0m\n\u001b[0;32m----> 1\u001b[0m df_chained \u001b[39m=\u001b[39m graph\u001b[39m.\u001b[39;49mat(\u001b[39m32674\u001b[39;49m) \\\n\u001b[1;32m      2\u001b[0m                 \u001b[39m.\u001b[39;49mpast() \\\n\u001b[1;32m      3\u001b[0m                 \u001b[39m.\u001b[39;49mtransform(ctx\u001b[39m.\u001b[39;49malgorithms\u001b[39m.\u001b[39;49mgeneric\u001b[39m.\u001b[39;49mcentrality\u001b[39m.\u001b[39;49mPageRank())\\\n\u001b[1;32m      4\u001b[0m                 \u001b[39m.\u001b[39;49mtransform(ctx\u001b[39m.\u001b[39;49malgorithms\u001b[39m.\u001b[39;49mgeneric\u001b[39m.\u001b[39;49mConnectedComponents)\\\n\u001b[1;32m      5\u001b[0m                 \u001b[39m.\u001b[39;49mtransform(ctx\u001b[39m.\u001b[39;49malgorithms\u001b[39m.\u001b[39;49mgeneric\u001b[39m.\u001b[39;49mcentrality\u001b[39m.\u001b[39;49mDegree())\\\n\u001b[1;32m      6\u001b[0m                 \u001b[39m.\u001b[39;49mselect(\u001b[39m\"\u001b[39;49m\u001b[39mname\u001b[39;49m\u001b[39m\"\u001b[39;49m,\u001b[39m\"\u001b[39;49m\u001b[39minDegree\u001b[39;49m\u001b[39m\"\u001b[39;49m, \u001b[39m\"\u001b[39;49m\u001b[39moutDegree\u001b[39;49m\u001b[39m\"\u001b[39;49m, \u001b[39m\"\u001b[39;49m\u001b[39mdegree\u001b[39;49m\u001b[39m\"\u001b[39;49m, \u001b[39m\"\u001b[39;49m\u001b[39mprlabel\u001b[39;49m\u001b[39m\"\u001b[39;49m, \u001b[39m\"\u001b[39;49m\u001b[39mcclabel\u001b[39;49m\u001b[39m\"\u001b[39;49m)\\\n\u001b[1;32m      7\u001b[0m                 \u001b[39m.\u001b[39;49mto_df()\n",
      "File \u001b[0;32m~/opt/miniconda3/envs/test_env3/lib/python3.9/site-packages/pyraphtory/graph.py:42\u001b[0m, in \u001b[0;36mTable.to_df\u001b[0;34m(self)\u001b[0m\n\u001b[1;32m     39\u001b[0m         \u001b[39mfor\u001b[39;00m r \u001b[39min\u001b[39;00m res\u001b[39m.\u001b[39mrows():\n\u001b[1;32m     40\u001b[0m             \u001b[39myield\u001b[39;00m perspective_columns \u001b[39m|\u001b[39m \u001b[39mdict\u001b[39m(r\u001b[39m.\u001b[39mcolumns())\n\u001b[0;32m---> 42\u001b[0m df \u001b[39m=\u001b[39m pd\u001b[39m.\u001b[39;49mDataFrame\u001b[39m.\u001b[39;49mfrom_records(rows_generator())\n\u001b[1;32m     43\u001b[0m \u001b[39mif\u001b[39;00m time_formatted:\n\u001b[1;32m     44\u001b[0m     df[\u001b[39m\"\u001b[39m\u001b[39mtimestamp\u001b[39m\u001b[39m\"\u001b[39m] \u001b[39m=\u001b[39m df[\u001b[39m\"\u001b[39m\u001b[39mtimestamp\u001b[39m\u001b[39m\"\u001b[39m]\u001b[39m.\u001b[39mapply(\u001b[39mlambda\u001b[39;00m x: dt\u001b[39m.\u001b[39mdatetime\u001b[39m.\u001b[39mstrptime(x,\u001b[39m\"\u001b[39m\u001b[39m%\u001b[39m\u001b[39mY-\u001b[39m\u001b[39m%\u001b[39m\u001b[39mm-\u001b[39m\u001b[39m%d\u001b[39;00m\u001b[39m \u001b[39m\u001b[39m%\u001b[39m\u001b[39mH:\u001b[39m\u001b[39m%\u001b[39m\u001b[39mM:\u001b[39m\u001b[39m%\u001b[39m\u001b[39mS.\u001b[39m\u001b[39m%f\u001b[39;00m\u001b[39m\"\u001b[39m))\n",
      "File \u001b[0;32m~/opt/miniconda3/envs/test_env3/lib/python3.9/site-packages/pandas/core/frame.py:2296\u001b[0m, in \u001b[0;36mDataFrame.from_records\u001b[0;34m(cls, data, index, exclude, columns, coerce_float, nrows)\u001b[0m\n\u001b[1;32m   2293\u001b[0m     \u001b[39mreturn\u001b[39;00m \u001b[39mcls\u001b[39m()\n\u001b[1;32m   2295\u001b[0m \u001b[39mtry\u001b[39;00m:\n\u001b[0;32m-> 2296\u001b[0m     first_row \u001b[39m=\u001b[39m \u001b[39mnext\u001b[39;49m(data)\n\u001b[1;32m   2297\u001b[0m \u001b[39mexcept\u001b[39;00m \u001b[39mStopIteration\u001b[39;00m:\n\u001b[1;32m   2298\u001b[0m     \u001b[39mreturn\u001b[39;00m \u001b[39mcls\u001b[39m(index\u001b[39m=\u001b[39mindex, columns\u001b[39m=\u001b[39mcolumns)\n",
      "File \u001b[0;32m~/opt/miniconda3/envs/test_env3/lib/python3.9/site-packages/pyraphtory/graph.py:40\u001b[0m, in \u001b[0;36mTable.to_df.<locals>.rows_generator\u001b[0;34m()\u001b[0m\n\u001b[1;32m     38\u001b[0m     perspective_columns \u001b[39m=\u001b[39m {\u001b[39m'\u001b[39m\u001b[39mtimestamp\u001b[39m\u001b[39m'\u001b[39m: timestamp}\n\u001b[1;32m     39\u001b[0m \u001b[39mfor\u001b[39;00m r \u001b[39min\u001b[39;00m res\u001b[39m.\u001b[39mrows():\n\u001b[0;32m---> 40\u001b[0m     \u001b[39myield\u001b[39;00m perspective_columns \u001b[39m|\u001b[39m \u001b[39mdict\u001b[39;49m(r\u001b[39m.\u001b[39;49mcolumns())\n",
      "File \u001b[0;32m~/opt/miniconda3/envs/test_env3/lib/python3.9/site-packages/pyraphtory/scala/collection.py:86\u001b[0m, in \u001b[0;36mMapping.__getitem__\u001b[0;34m(self, key)\u001b[0m\n\u001b[1;32m     84\u001b[0m     \u001b[39mreturn\u001b[39;00m \u001b[39mself\u001b[39m\u001b[39m.\u001b[39mapply(key)\n\u001b[1;32m     85\u001b[0m \u001b[39mexcept\u001b[39;00m \u001b[39mException\u001b[39;00m:\n\u001b[0;32m---> 86\u001b[0m     \u001b[39mraise\u001b[39;00m \u001b[39mKeyError\u001b[39;00m(\u001b[39mf\u001b[39m\u001b[39m\"\u001b[39m\u001b[39mmissing key \u001b[39m\u001b[39m{\u001b[39;00mkey\u001b[39m}\u001b[39;00m\u001b[39m\"\u001b[39m)\n",
      "\u001b[0;31mKeyError\u001b[0m: 'missing key name'"
     ]
    }
   ],
   "source": [
    "df_chained = graph.at(32674) \\\n",
    "                .past() \\\n",
    "                .transform(ctx.algorithms.generic.centrality.PageRank())\\\n",
    "                .transform(ctx.algorithms.generic.ConnectedComponents)\\\n",
    "                .transform(ctx.algorithms.generic.centrality.Degree())\\\n",
    "                .select(\"name\",\"inDegree\", \"outDegree\", \"degree\", \"prlabel\", \"cclabel\")\\\n",
    "                .to_df()"
   ]
  },
  {
   "cell_type": "code",
   "execution_count": 94,
   "id": "6f066151",
   "metadata": {
    "pycharm": {
     "name": "#%%\n"
    }
   },
   "outputs": [
    {
     "data": {
      "text/html": [
       "<div>\n",
       "<style scoped>\n",
       "    .dataframe tbody tr th:only-of-type {\n",
       "        vertical-align: middle;\n",
       "    }\n",
       "\n",
       "    .dataframe tbody tr th {\n",
       "        vertical-align: top;\n",
       "    }\n",
       "\n",
       "    .dataframe thead th {\n",
       "        text-align: right;\n",
       "    }\n",
       "</style>\n",
       "<table border=\"1\" class=\"dataframe\">\n",
       "  <thead>\n",
       "    <tr style=\"text-align: right;\">\n",
       "      <th></th>\n",
       "      <th>timestamp</th>\n",
       "      <th>name</th>\n",
       "      <th>inDegree</th>\n",
       "      <th>outDegree</th>\n",
       "      <th>degree</th>\n",
       "      <th>degree_numeric</th>\n",
       "    </tr>\n",
       "  </thead>\n",
       "  <tbody>\n",
       "    <tr>\n",
       "      <th>0</th>\n",
       "      <td>32674</td>\n",
       "      <td>Hirgon</td>\n",
       "      <td>0</td>\n",
       "      <td>2</td>\n",
       "      <td>2</td>\n",
       "      <td>2.0</td>\n",
       "    </tr>\n",
       "    <tr>\n",
       "      <th>1</th>\n",
       "      <td>32674</td>\n",
       "      <td>Hador</td>\n",
       "      <td>2</td>\n",
       "      <td>1</td>\n",
       "      <td>3</td>\n",
       "      <td>3.0</td>\n",
       "    </tr>\n",
       "    <tr>\n",
       "      <th>2</th>\n",
       "      <td>32674</td>\n",
       "      <td>Horn</td>\n",
       "      <td>3</td>\n",
       "      <td>1</td>\n",
       "      <td>4</td>\n",
       "      <td>4.0</td>\n",
       "    </tr>\n",
       "    <tr>\n",
       "      <th>3</th>\n",
       "      <td>32674</td>\n",
       "      <td>Galadriel</td>\n",
       "      <td>16</td>\n",
       "      <td>6</td>\n",
       "      <td>19</td>\n",
       "      <td>19.0</td>\n",
       "    </tr>\n",
       "    <tr>\n",
       "      <th>4</th>\n",
       "      <td>32674</td>\n",
       "      <td>Isildur</td>\n",
       "      <td>0</td>\n",
       "      <td>18</td>\n",
       "      <td>18</td>\n",
       "      <td>18.0</td>\n",
       "    </tr>\n",
       "    <tr>\n",
       "      <th>5</th>\n",
       "      <td>32674</td>\n",
       "      <td>Mablung</td>\n",
       "      <td>2</td>\n",
       "      <td>2</td>\n",
       "      <td>4</td>\n",
       "      <td>4.0</td>\n",
       "    </tr>\n",
       "    <tr>\n",
       "      <th>6</th>\n",
       "      <td>32674</td>\n",
       "      <td>Gram</td>\n",
       "      <td>13</td>\n",
       "      <td>0</td>\n",
       "      <td>13</td>\n",
       "      <td>13.0</td>\n",
       "    </tr>\n",
       "    <tr>\n",
       "      <th>7</th>\n",
       "      <td>32674</td>\n",
       "      <td>Thingol</td>\n",
       "      <td>4</td>\n",
       "      <td>4</td>\n",
       "      <td>7</td>\n",
       "      <td>7.0</td>\n",
       "    </tr>\n",
       "    <tr>\n",
       "      <th>8</th>\n",
       "      <td>32674</td>\n",
       "      <td>Celebrían</td>\n",
       "      <td>1</td>\n",
       "      <td>0</td>\n",
       "      <td>1</td>\n",
       "      <td>1.0</td>\n",
       "    </tr>\n",
       "    <tr>\n",
       "      <th>9</th>\n",
       "      <td>32674</td>\n",
       "      <td>Gamling</td>\n",
       "      <td>2</td>\n",
       "      <td>1</td>\n",
       "      <td>3</td>\n",
       "      <td>3.0</td>\n",
       "    </tr>\n",
       "  </tbody>\n",
       "</table>\n",
       "</div>"
      ],
      "text/plain": [
       "   timestamp       name  inDegree  outDegree  degree  degree_numeric\n",
       "0      32674     Hirgon         0          2       2             2.0\n",
       "1      32674      Hador         2          1       3             3.0\n",
       "2      32674       Horn         3          1       4             4.0\n",
       "3      32674  Galadriel        16          6      19            19.0\n",
       "4      32674    Isildur         0         18      18            18.0\n",
       "5      32674    Mablung         2          2       4             4.0\n",
       "6      32674       Gram        13          0      13            13.0\n",
       "7      32674    Thingol         4          4       7             7.0\n",
       "8      32674  Celebrían         1          0       1             1.0\n",
       "9      32674    Gamling         2          1       3             3.0"
      ]
     },
     "execution_count": 94,
     "metadata": {},
     "output_type": "execute_result"
    }
   ],
   "source": [
    "df_chained['degree_numeric'] = df_chained['degree'].astype(float)\n",
    "df_chained.head(10)"
   ]
  },
  {
   "cell_type": "markdown",
   "id": "d1993d80",
   "metadata": {
    "pycharm": {
     "name": "#%% md\n"
    },
    "tags": []
   },
   "source": [
    "## Create visualisation by adding nodes 🔎"
   ]
  },
  {
   "cell_type": "code",
   "execution_count": null,
   "id": "b543ebdd",
   "metadata": {
    "pycharm": {
     "name": "#%%\n"
    },
    "tags": []
   },
   "outputs": [],
   "source": [
    "def visualise(graph, df_chained):\n",
    "    # Create network object\n",
    "    net = Network(notebook=True, height='750px', width='100%', bgcolor='#222222', font_color='white')\n",
    "    # Set visualisation tool\n",
    "    net.force_atlas_2based()\n",
    "    # Get the node list \n",
    "    df_node_list = graph.at(32674) \\\n",
    "                .past() \\\n",
    "                .step(lambda v: v.set_state(\"name\", v.name())) \\\n",
    "                .select(\"name\") \\\n",
    "                .to_df()\n",
    "    \n",
    "    nodes = df_node_list['name'].tolist()\n",
    "    \n",
    "    node_data = []\n",
    "    ignore_items = ['timestamp', 'name', 'window']\n",
    "    for node_name in nodes:\n",
    "        for i, row in df_chained.iterrows():\n",
    "            if row['name']==node_name:\n",
    "                data = ''\n",
    "                for k,v in row.iteritems():\n",
    "                    if k not in ignore_items:\n",
    "                        data = data+str(k)+': '+str(v)+'\\n'\n",
    "                node_data.append(data)\n",
    "                continue\n",
    "    # Add the nodes\n",
    "    net.add_nodes(nodes, title=node_data, value = df_chained.prlabel)\n",
    "    # Get the edge list\n",
    "    df_edge_list = graph.at(32674) \\\n",
    "                .past() \\\n",
    "                .execute(ctx.algorithms.generic.EdgeList()) \\\n",
    "                .to_df()\n",
    "    edges = []\n",
    "    for i, row in df_edge_list[['from', 'to']].iterrows():\n",
    "        edges.append([row['from'], row['to']])\n",
    "    # Add the edges\n",
    "    net.add_edges(edges)\n",
    "    # Toggle physics\n",
    "    net.toggle_physics(True)\n",
    "    return net"
   ]
  },
  {
   "cell_type": "code",
   "execution_count": null,
   "id": "f2cf07ec",
   "metadata": {
    "pycharm": {
     "name": "#%%\n"
    },
    "scrolled": true,
    "tags": []
   },
   "outputs": [],
   "source": [
    "net = visualise(graph, df_chained)"
   ]
  },
  {
   "cell_type": "markdown",
   "id": "00e63b2e",
   "metadata": {
    "pycharm": {
     "name": "#%% md\n"
    }
   },
   "source": [
    "**Show the html file of the visualisation**"
   ]
  },
  {
   "cell_type": "code",
   "execution_count": null,
   "id": "d3e2c9f0",
   "metadata": {
    "pycharm": {
     "name": "#%%\n"
    }
   },
   "outputs": [],
   "source": [
    "%%html\n",
    "net.show('preview.html')"
   ]
  },
  {
   "cell_type": "markdown",
   "id": "b5bfdf50",
   "metadata": {
    "pycharm": {
     "name": "#%% md\n"
    }
   },
   "source": [
    "## Shut down PyRaphtory  🛑"
   ]
  },
  {
   "cell_type": "code",
   "execution_count": null,
   "id": "23be41e2",
   "metadata": {
    "jupyter": {
     "outputs_hidden": false
    },
    "pycharm": {
     "name": "#%%\n"
    }
   },
   "outputs": [],
   "source": [
    "ctx.close()"
   ]
  }
 ],
 "metadata": {
  "kernelspec": {
   "display_name": "Python 3.9.13 ('test_env3')",
   "language": "python",
   "name": "python3"
  },
  "language_info": {
   "codemirror_mode": {
    "name": "ipython",
    "version": 3
   },
   "file_extension": ".py",
   "mimetype": "text/x-python",
   "name": "python",
   "nbconvert_exporter": "python",
   "pygments_lexer": "ipython3",
   "version": "3.9.13"
  },
  "vscode": {
   "interpreter": {
    "hash": "e11e0a15d5c837c080eee6e017ec874d4001c1c2c374a63a378684a07dfa69f6"
   }
  }
 },
 "nbformat": 4,
 "nbformat_minor": 5
}
