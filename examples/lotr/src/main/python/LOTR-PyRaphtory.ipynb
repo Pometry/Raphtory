{
 "cells": [
  {
   "cell_type": "markdown",
   "id": "33e30c37",
   "metadata": {
    "pycharm": {
     "name": "#%% md\n"
    }
   },
   "source": [
    "# Lord Of The Rings PyRaphtory Example Notebook 🧝🏻‍♀️🧙🏻‍♂️💍"
   ]
  },
  {
   "cell_type": "markdown",
   "id": "7623b0bb-1409-4711-bbc0-a2fa2a93027f",
   "metadata": {
    "pycharm": {
     "name": "#%% md\n"
    }
   },
   "source": [
    "## Setup environment and download data 💾"
   ]
  },
  {
   "cell_type": "markdown",
   "id": "8c1692af",
   "metadata": {
    "pycharm": {
     "name": "#%% md\n"
    }
   },
   "source": [
    "Import all necessary dependencies needed to build a graph from your data in PyRaphtory. Download csv data from github into your tmp folder (file path: /tmp/lotr.csv)."
   ]
  },
  {
   "cell_type": "code",
   "execution_count": 1,
   "id": "5ef63a11",
   "metadata": {},
   "outputs": [
    {
     "name": "stdout",
     "output_type": "stream",
     "text": [
      "Requirement already satisfied: pyvis in /Users/shivamkapoor/opt/miniconda3/envs/raphtoryenv/lib/python3.9/site-packages (0.3.0)\n",
      "Requirement already satisfied: jinja2>=2.9.6 in /Users/shivamkapoor/opt/miniconda3/envs/raphtoryenv/lib/python3.9/site-packages (from pyvis) (3.1.2)\n",
      "Requirement already satisfied: jsonpickle>=1.4.1 in /Users/shivamkapoor/opt/miniconda3/envs/raphtoryenv/lib/python3.9/site-packages (from pyvis) (2.2.0)\n",
      "Requirement already satisfied: networkx>=1.11 in /Users/shivamkapoor/opt/miniconda3/envs/raphtoryenv/lib/python3.9/site-packages (from pyvis) (2.8.7)\n",
      "Requirement already satisfied: ipython>=5.3.0 in /Users/shivamkapoor/opt/miniconda3/envs/raphtoryenv/lib/python3.9/site-packages (from pyvis) (8.5.0)\n",
      "Requirement already satisfied: pickleshare in /Users/shivamkapoor/opt/miniconda3/envs/raphtoryenv/lib/python3.9/site-packages (from ipython>=5.3.0->pyvis) (0.7.5)\n",
      "Requirement already satisfied: traitlets>=5 in /Users/shivamkapoor/opt/miniconda3/envs/raphtoryenv/lib/python3.9/site-packages (from ipython>=5.3.0->pyvis) (5.5.0)\n",
      "Requirement already satisfied: prompt-toolkit<3.1.0,>3.0.1 in /Users/shivamkapoor/opt/miniconda3/envs/raphtoryenv/lib/python3.9/site-packages (from ipython>=5.3.0->pyvis) (3.0.31)\n",
      "Requirement already satisfied: pygments>=2.4.0 in /Users/shivamkapoor/opt/miniconda3/envs/raphtoryenv/lib/python3.9/site-packages (from ipython>=5.3.0->pyvis) (2.13.0)\n",
      "Requirement already satisfied: stack-data in /Users/shivamkapoor/opt/miniconda3/envs/raphtoryenv/lib/python3.9/site-packages (from ipython>=5.3.0->pyvis) (0.5.1)\n",
      "Requirement already satisfied: pexpect>4.3 in /Users/shivamkapoor/opt/miniconda3/envs/raphtoryenv/lib/python3.9/site-packages (from ipython>=5.3.0->pyvis) (4.8.0)\n",
      "Requirement already satisfied: appnope in /Users/shivamkapoor/opt/miniconda3/envs/raphtoryenv/lib/python3.9/site-packages (from ipython>=5.3.0->pyvis) (0.1.3)\n",
      "Requirement already satisfied: matplotlib-inline in /Users/shivamkapoor/opt/miniconda3/envs/raphtoryenv/lib/python3.9/site-packages (from ipython>=5.3.0->pyvis) (0.1.6)\n",
      "Requirement already satisfied: jedi>=0.16 in /Users/shivamkapoor/opt/miniconda3/envs/raphtoryenv/lib/python3.9/site-packages (from ipython>=5.3.0->pyvis) (0.18.1)\n",
      "Requirement already satisfied: backcall in /Users/shivamkapoor/opt/miniconda3/envs/raphtoryenv/lib/python3.9/site-packages (from ipython>=5.3.0->pyvis) (0.2.0)\n",
      "Requirement already satisfied: decorator in /Users/shivamkapoor/opt/miniconda3/envs/raphtoryenv/lib/python3.9/site-packages (from ipython>=5.3.0->pyvis) (5.1.1)\n",
      "Requirement already satisfied: MarkupSafe>=2.0 in /Users/shivamkapoor/opt/miniconda3/envs/raphtoryenv/lib/python3.9/site-packages (from jinja2>=2.9.6->pyvis) (2.1.1)\n",
      "Requirement already satisfied: parso<0.9.0,>=0.8.0 in /Users/shivamkapoor/opt/miniconda3/envs/raphtoryenv/lib/python3.9/site-packages (from jedi>=0.16->ipython>=5.3.0->pyvis) (0.8.3)\n",
      "Requirement already satisfied: ptyprocess>=0.5 in /Users/shivamkapoor/opt/miniconda3/envs/raphtoryenv/lib/python3.9/site-packages (from pexpect>4.3->ipython>=5.3.0->pyvis) (0.7.0)\n",
      "Requirement already satisfied: wcwidth in /Users/shivamkapoor/opt/miniconda3/envs/raphtoryenv/lib/python3.9/site-packages (from prompt-toolkit<3.1.0,>3.0.1->ipython>=5.3.0->pyvis) (0.2.5)\n",
      "Requirement already satisfied: asttokens in /Users/shivamkapoor/opt/miniconda3/envs/raphtoryenv/lib/python3.9/site-packages (from stack-data->ipython>=5.3.0->pyvis) (2.0.8)\n",
      "Requirement already satisfied: pure-eval in /Users/shivamkapoor/opt/miniconda3/envs/raphtoryenv/lib/python3.9/site-packages (from stack-data->ipython>=5.3.0->pyvis) (0.2.2)\n",
      "Requirement already satisfied: executing in /Users/shivamkapoor/opt/miniconda3/envs/raphtoryenv/lib/python3.9/site-packages (from stack-data->ipython>=5.3.0->pyvis) (1.1.1)\n",
      "Requirement already satisfied: six in /Users/shivamkapoor/opt/miniconda3/envs/raphtoryenv/lib/python3.9/site-packages (from asttokens->stack-data->ipython>=5.3.0->pyvis) (1.16.0)\n",
      "Note: you may need to restart the kernel to use updated packages.\n"
     ]
    }
   ],
   "source": [
    "pip install pyvis"
   ]
  },
  {
   "cell_type": "code",
   "execution_count": 2,
   "id": "8f6eaa88",
   "metadata": {
    "jupyter": {
     "outputs_hidden": false
    },
    "pycharm": {
     "name": "#%%\n"
    }
   },
   "outputs": [
    {
     "name": "stdout",
     "output_type": "stream",
     "text": [
      "WARNING: sun.reflect.Reflection.getCallerClass is not supported. This will impact performance.\n",
      "18:02:03.919 [io-compute-blocker-4] INFO  com.raphtory.internals.management.Py4JServer - Starting PythonGatewayServer...\n"
     ]
    },
    {
     "name": "stderr",
     "output_type": "stream",
     "text": [
      "WARNING: An illegal reflective access operation has occurred\n",
      "WARNING: Illegal reflective access by py4j.reflection.MethodInvoker$1 (file:/Users/shivamkapoor/Official/repos/Raphtory/python/pyraphtory/lib/core-assembly-0.2.0a1.jar) to method java.util.AbstractMap$1.iterator()\n",
      "WARNING: Please consider reporting this to the maintainers of py4j.reflection.MethodInvoker$1\n",
      "WARNING: Use --illegal-access=warn to enable warnings of further illegal reflective access operations\n",
      "WARNING: All illegal access operations will be denied in a future release\n"
     ]
    },
    {
     "name": "stdout",
     "output_type": "stream",
     "text": [
      "  % Total    % Received % Xferd  Average Speed   Time    Time     Time  Current\n",
      "                                 Dload  Upload   Total   Spent    Left  Speed\n",
      "100 52206  100 52206    0     0   198k      0 --:--:-- --:--:-- --:--:--  203k\n"
     ]
    }
   ],
   "source": [
    "from pathlib import Path\n",
    "from pyraphtory.context import PyRaphtory\n",
    "from pyraphtory.vertex import Vertex\n",
    "from pyraphtory.spouts import FileSpout\n",
    "from pyraphtory.builder import *\n",
    "from pyvis.network import Network\n",
    "import csv\n",
    "import pandas as pd\n",
    "import numpy as np\n",
    "\n",
    "!curl -o /tmp/lotr.csv https://raw.githubusercontent.com/Raphtory/Data/main/lotr.csv"
   ]
  },
  {
   "cell_type": "markdown",
   "id": "296d3970-531a-455a-8a9a-8ec1db88b9ea",
   "metadata": {
    "pycharm": {
     "name": "#%% md\n"
    }
   },
   "source": [
    "## Preview data  👀"
   ]
  },
  {
   "cell_type": "markdown",
   "id": "2a94f750",
   "metadata": {
    "pycharm": {
     "name": "#%% md\n"
    }
   },
   "source": [
    "Preview the head of the dataset."
   ]
  },
  {
   "cell_type": "code",
   "execution_count": 6,
   "id": "e93fbf02-e215-4c9c-a823-4c39217c359c",
   "metadata": {
    "pycharm": {
     "name": "#%%\n"
    },
    "scrolled": true
   },
   "outputs": [
    {
     "name": "stdout",
     "output_type": "stream",
     "text": [
      "Gandalf,Elrond,33\r\n",
      "Frodo,Bilbo,114\r\n",
      "Blanco,Marcho,146\r\n",
      "Frodo,Bilbo,205\r\n",
      "Thorin,Gandalf,270\r\n",
      "Thorin,Bilbo,270\r\n",
      "Gandalf,Bilbo,270\r\n",
      "Gollum,Bilbo,286\r\n",
      "Gollum,Bilbo,306\r\n",
      "Gollum,Bilbo,308\r\n"
     ]
    }
   ],
   "source": [
    "!head /tmp/lotr.csv"
   ]
  },
  {
   "cell_type": "code",
   "execution_count": 7,
   "id": "2b941737",
   "metadata": {
    "pycharm": {
     "name": "#%%\n"
    }
   },
   "outputs": [],
   "source": [
    "filename = '/tmp/lotr.csv'"
   ]
  },
  {
   "cell_type": "markdown",
   "id": "fe932a96-e2f2-44e3-b36d-baf95ed94924",
   "metadata": {
    "pycharm": {
     "name": "#%% md\n"
    }
   },
   "source": [
    "## Create a new Raphtory graph 📊"
   ]
  },
  {
   "cell_type": "markdown",
   "id": "646c021f",
   "metadata": {
    "pycharm": {
     "name": "#%% md\n"
    }
   },
   "source": [
    "Turn on logs to see what is going on in PyRaphtory. Initialise Raphtory by creating a PyRaphtory object. Create your new graph."
   ]
  },
  {
   "cell_type": "code",
   "execution_count": 8,
   "id": "46115d4d",
   "metadata": {
    "jupyter": {
     "outputs_hidden": false
    },
    "pycharm": {
     "name": "#%%\n"
    }
   },
   "outputs": [
    {
     "name": "stdout",
     "output_type": "stream",
     "text": [
      "18:03:16.208 [io-compute-blocker-4] ERROR com.raphtory.internals.management.Prometheus$ - Failed to start Prometheus on port 9999\n",
      "18:03:16.209 [io-compute-blocker-4] INFO  com.raphtory.internals.management.Prometheus$ - Prometheus started on port /0:0:0:0:0:0:0:0:59260\n",
      "18:03:16.215 [spawner-akka.actor.default-dispatcher-3] INFO  akka.event.slf4j.Slf4jLogger - Slf4jLogger started\n",
      "18:03:16.220 [spawner-akka.actor.default-dispatcher-6] INFO  com.raphtory.internals.components.partition.PartitionOrchestrator - Deploying new Partition Manager for graph 'entitled_erin_bee' - request by 'organisational_periwinkle_barnacle' \n",
      "18:03:16.220 [spawner-akka.actor.default-dispatcher-6] INFO  com.raphtory.internals.components.partition.PartitionOrchestrator$ - Creating '1' Partition Managers for 'entitled_erin_bee'.\n",
      "18:03:16.220 [spawner-akka.actor.default-dispatcher-5] INFO  com.raphtory.internals.components.querymanager.QueryOrchestrator - Deploying new Query Manager for graph 'entitled_erin_bee' - request by 'organisational_periwinkle_barnacle' \n",
      "18:03:16.221 [io-compute-blocker-4] INFO  com.raphtory.internals.components.partition.PartitionManager - Partition 0: Starting partition manager for 'entitled_erin_bee'.\n"
     ]
    }
   ],
   "source": [
    "ctx = PyRaphtory.local()\n",
    "graph = ctx.new_graph()"
   ]
  },
  {
   "cell_type": "markdown",
   "id": "ce0c59cf-2833-4809-a325-e354d42e09fd",
   "metadata": {
    "pycharm": {
     "name": "#%% md\n"
    }
   },
   "source": [
    "## Ingest the data into a graph 😋"
   ]
  },
  {
   "cell_type": "markdown",
   "id": "e1f3fab9",
   "metadata": {
    "pycharm": {
     "name": "#%% md\n"
    }
   },
   "source": [
    "Write a parsing method to parse your csv file and ultimately create a graph."
   ]
  },
  {
   "cell_type": "code",
   "execution_count": 10,
   "id": "7757b8c0",
   "metadata": {
    "pycharm": {
     "name": "#%%\n"
    }
   },
   "outputs": [],
   "source": [
    "with open(filename, 'r') as csvfile:\n",
    "    datareader = csv.reader(csvfile)\n",
    "    for row in datareader:\n",
    "        source_node = row[0]\n",
    "        src_id = graph.assign_id(source_node)\n",
    "        target_node = row[1]\n",
    "        tar_id = graph.assign_id(target_node)\n",
    "        time_stamp = int(row[2])\n",
    "        graph.add_vertex(time_stamp, src_id, Properties(ImmutableProperty(\"name\", source_node)), Type(\"Character\"))\n",
    "        graph.add_vertex(time_stamp, tar_id, Properties(ImmutableProperty(\"name\", target_node)), Type(\"Character\"))\n",
    "        graph.add_edge(time_stamp, src_id, tar_id, Type(\"Character_Co-occurence\"))"
   ]
  },
  {
   "cell_type": "markdown",
   "id": "bcc44109-e5a5-421e-8615-e86febbd0569",
   "metadata": {
    "pycharm": {
     "name": "#%% md\n"
    }
   },
   "source": [
    "## Collect simple metrics 📈"
   ]
  },
  {
   "cell_type": "markdown",
   "id": "bb0d5bb0",
   "metadata": {
    "pycharm": {
     "name": "#%% md\n"
    }
   },
   "source": [
    "Select certain metrics to show in your output dataframe. Here we have selected vertex name, degree, out degree and in degree. "
   ]
  },
  {
   "cell_type": "code",
   "execution_count": 11,
   "id": "ec76c281-7e4b-4ae9-8469-e24458eaaa74",
   "metadata": {
    "pycharm": {
     "name": "#%%\n"
    }
   },
   "outputs": [
    {
     "name": "stdout",
     "output_type": "stream",
     "text": [
      "18:04:07.188 [spawner-akka.actor.default-dispatcher-9] INFO  com.raphtory.internals.components.querymanager.QueryManager - Source '0' is unblocking analysis for Graph 'entitled_erin_bee' with 15894 messages sent. Latest update time was 32674\n",
      "18:04:07.230 [io-compute-blocker-2] INFO  com.raphtory.api.querytracker.TableOutputTracker - Job 801431452_37506057014803071: Starting query progress tracker.\n",
      "18:04:07.230 [io-compute-blocker-2] INFO  com.raphtory.api.querytracker.TableOutputTracker - Job 801431452_37506057014803071: Starting output collector.\n",
      "18:04:07.258 [spawner-akka.actor.default-dispatcher-9] INFO  com.raphtory.internals.components.querymanager.QueryManager - Source 0 has completed ingesting and will now unblock\n",
      "18:04:07.258 [spawner-akka.actor.default-dispatcher-9] INFO  com.raphtory.internals.components.querymanager.QueryManager - Query '801431452_37506057014803071' received, your job ID is '801431452_37506057014803071'.\n",
      "18:04:07.266 [spawner-akka.actor.default-dispatcher-7] INFO  com.raphtory.internals.components.partition.QueryExecutor - 801431452_37506057014803071_0: Starting QueryExecutor.\n",
      "18:04:10.249 [spawner-akka.actor.default-dispatcher-5] INFO  com.raphtory.internals.components.querymanager.QueryHandler - Job '801431452_37506057014803071': Perspective at Time '32674' took 2976 ms to run. \n",
      "18:04:10.251 [spawner-akka.actor.default-dispatcher-10] INFO  com.raphtory.api.querytracker.TableOutputTracker - Job '801431452_37506057014803071': Perspective '32674' finished after 3022 ms.\n",
      "18:04:10.251 [spawner-akka.actor.default-dispatcher-10] INFO  com.raphtory.api.querytracker.TableOutputTracker - Job 801431452_37506057014803071: Running query, processed 1 perspectives.\n",
      "18:04:10.264 [spawner-akka.actor.default-dispatcher-9] INFO  akka.actor.LocalActorRef - Message [[B] to Actor[akka://spawner/user/entitled_erin_bee-801431452_37506057014803071-query-tracker#207568487] was not delivered. [1] dead letters encountered. If this is not an expected behavior then Actor[akka://spawner/user/entitled_erin_bee-801431452_37506057014803071-query-tracker#207568487] may have terminated unexpectedly. This logging can be turned off or adjusted with configuration settings 'akka.log-dead-letters' and 'akka.log-dead-letters-during-shutdown'.\n"
     ]
    }
   ],
   "source": [
    "from pyraphtory.graph import Row\n",
    "df = graph \\\n",
    "      .select(lambda vertex: Row(vertex.name(), vertex.degree(), vertex.out_degree(), vertex.in_degree())) \\\n",
    "      .to_df([\"name\", \"degree\", \"out_degree\", \"in_degree\"])"
   ]
  },
  {
   "cell_type": "code",
   "execution_count": 12,
   "id": "3cf8f566",
   "metadata": {
    "pycharm": {
     "name": "#%%\n"
    }
   },
   "outputs": [
    {
     "data": {
      "text/html": [
       "<div>\n",
       "<style scoped>\n",
       "    .dataframe tbody tr th:only-of-type {\n",
       "        vertical-align: middle;\n",
       "    }\n",
       "\n",
       "    .dataframe tbody tr th {\n",
       "        vertical-align: top;\n",
       "    }\n",
       "\n",
       "    .dataframe thead th {\n",
       "        text-align: right;\n",
       "    }\n",
       "</style>\n",
       "<table border=\"1\" class=\"dataframe\">\n",
       "  <thead>\n",
       "    <tr style=\"text-align: right;\">\n",
       "      <th></th>\n",
       "      <th>timestamp</th>\n",
       "      <th>window</th>\n",
       "      <th>name</th>\n",
       "      <th>degree</th>\n",
       "      <th>out_degree</th>\n",
       "      <th>in_degree</th>\n",
       "    </tr>\n",
       "  </thead>\n",
       "  <tbody>\n",
       "    <tr>\n",
       "      <th>0</th>\n",
       "      <td>32674</td>\n",
       "      <td>None</td>\n",
       "      <td>Hirgon</td>\n",
       "      <td>2</td>\n",
       "      <td>2</td>\n",
       "      <td>0</td>\n",
       "    </tr>\n",
       "    <tr>\n",
       "      <th>1</th>\n",
       "      <td>32674</td>\n",
       "      <td>None</td>\n",
       "      <td>Hador</td>\n",
       "      <td>3</td>\n",
       "      <td>1</td>\n",
       "      <td>2</td>\n",
       "    </tr>\n",
       "    <tr>\n",
       "      <th>2</th>\n",
       "      <td>32674</td>\n",
       "      <td>None</td>\n",
       "      <td>Horn</td>\n",
       "      <td>4</td>\n",
       "      <td>1</td>\n",
       "      <td>3</td>\n",
       "    </tr>\n",
       "    <tr>\n",
       "      <th>3</th>\n",
       "      <td>32674</td>\n",
       "      <td>None</td>\n",
       "      <td>Galadriel</td>\n",
       "      <td>19</td>\n",
       "      <td>6</td>\n",
       "      <td>16</td>\n",
       "    </tr>\n",
       "    <tr>\n",
       "      <th>4</th>\n",
       "      <td>32674</td>\n",
       "      <td>None</td>\n",
       "      <td>Isildur</td>\n",
       "      <td>18</td>\n",
       "      <td>18</td>\n",
       "      <td>0</td>\n",
       "    </tr>\n",
       "    <tr>\n",
       "      <th>...</th>\n",
       "      <td>...</td>\n",
       "      <td>...</td>\n",
       "      <td>...</td>\n",
       "      <td>...</td>\n",
       "      <td>...</td>\n",
       "      <td>...</td>\n",
       "    </tr>\n",
       "    <tr>\n",
       "      <th>134</th>\n",
       "      <td>32674</td>\n",
       "      <td>None</td>\n",
       "      <td>Faramir</td>\n",
       "      <td>29</td>\n",
       "      <td>3</td>\n",
       "      <td>29</td>\n",
       "    </tr>\n",
       "    <tr>\n",
       "      <th>135</th>\n",
       "      <td>32674</td>\n",
       "      <td>None</td>\n",
       "      <td>Bain</td>\n",
       "      <td>2</td>\n",
       "      <td>1</td>\n",
       "      <td>1</td>\n",
       "    </tr>\n",
       "    <tr>\n",
       "      <th>136</th>\n",
       "      <td>32674</td>\n",
       "      <td>None</td>\n",
       "      <td>Walda</td>\n",
       "      <td>13</td>\n",
       "      <td>3</td>\n",
       "      <td>10</td>\n",
       "    </tr>\n",
       "    <tr>\n",
       "      <th>137</th>\n",
       "      <td>32674</td>\n",
       "      <td>None</td>\n",
       "      <td>Thranduil</td>\n",
       "      <td>2</td>\n",
       "      <td>0</td>\n",
       "      <td>2</td>\n",
       "    </tr>\n",
       "    <tr>\n",
       "      <th>138</th>\n",
       "      <td>32674</td>\n",
       "      <td>None</td>\n",
       "      <td>Boromir</td>\n",
       "      <td>18</td>\n",
       "      <td>6</td>\n",
       "      <td>17</td>\n",
       "    </tr>\n",
       "  </tbody>\n",
       "</table>\n",
       "<p>139 rows × 6 columns</p>\n",
       "</div>"
      ],
      "text/plain": [
       "     timestamp window       name  degree  out_degree  in_degree\n",
       "0        32674   None     Hirgon       2           2          0\n",
       "1        32674   None      Hador       3           1          2\n",
       "2        32674   None       Horn       4           1          3\n",
       "3        32674   None  Galadriel      19           6         16\n",
       "4        32674   None    Isildur      18          18          0\n",
       "..         ...    ...        ...     ...         ...        ...\n",
       "134      32674   None    Faramir      29           3         29\n",
       "135      32674   None       Bain       2           1          1\n",
       "136      32674   None      Walda      13           3         10\n",
       "137      32674   None  Thranduil       2           0          2\n",
       "138      32674   None    Boromir      18           6         17\n",
       "\n",
       "[139 rows x 6 columns]"
      ]
     },
     "execution_count": 12,
     "metadata": {},
     "output_type": "execute_result"
    }
   ],
   "source": [
    "df"
   ]
  },
  {
   "cell_type": "markdown",
   "id": "f7c3a58f",
   "metadata": {
    "pycharm": {
     "name": "#%% md\n"
    }
   },
   "source": [
    "**Clean the dataframe, we have deleted the unused window column.** 🧹"
   ]
  },
  {
   "cell_type": "code",
   "execution_count": 13,
   "id": "dd5b651d-95f0-4e01-8203-43c8021e05d6",
   "metadata": {
    "pycharm": {
     "name": "#%%\n"
    }
   },
   "outputs": [],
   "source": [
    "## clean\n",
    "df.drop(columns=['window'], inplace=True)"
   ]
  },
  {
   "cell_type": "markdown",
   "id": "997170b7",
   "metadata": {
    "pycharm": {
     "name": "#%% md\n"
    }
   },
   "source": [
    "### Preview the dataframe  👀"
   ]
  },
  {
   "cell_type": "code",
   "execution_count": 14,
   "id": "f21dcbcb-8c5c-4a10-91b3-767fdcc6b562",
   "metadata": {
    "pycharm": {
     "name": "#%%\n"
    }
   },
   "outputs": [
    {
     "data": {
      "text/html": [
       "<div>\n",
       "<style scoped>\n",
       "    .dataframe tbody tr th:only-of-type {\n",
       "        vertical-align: middle;\n",
       "    }\n",
       "\n",
       "    .dataframe tbody tr th {\n",
       "        vertical-align: top;\n",
       "    }\n",
       "\n",
       "    .dataframe thead th {\n",
       "        text-align: right;\n",
       "    }\n",
       "</style>\n",
       "<table border=\"1\" class=\"dataframe\">\n",
       "  <thead>\n",
       "    <tr style=\"text-align: right;\">\n",
       "      <th></th>\n",
       "      <th>timestamp</th>\n",
       "      <th>name</th>\n",
       "      <th>degree</th>\n",
       "      <th>out_degree</th>\n",
       "      <th>in_degree</th>\n",
       "    </tr>\n",
       "  </thead>\n",
       "  <tbody>\n",
       "    <tr>\n",
       "      <th>0</th>\n",
       "      <td>32674</td>\n",
       "      <td>Hirgon</td>\n",
       "      <td>2</td>\n",
       "      <td>2</td>\n",
       "      <td>0</td>\n",
       "    </tr>\n",
       "    <tr>\n",
       "      <th>1</th>\n",
       "      <td>32674</td>\n",
       "      <td>Hador</td>\n",
       "      <td>3</td>\n",
       "      <td>1</td>\n",
       "      <td>2</td>\n",
       "    </tr>\n",
       "    <tr>\n",
       "      <th>2</th>\n",
       "      <td>32674</td>\n",
       "      <td>Horn</td>\n",
       "      <td>4</td>\n",
       "      <td>1</td>\n",
       "      <td>3</td>\n",
       "    </tr>\n",
       "    <tr>\n",
       "      <th>3</th>\n",
       "      <td>32674</td>\n",
       "      <td>Galadriel</td>\n",
       "      <td>19</td>\n",
       "      <td>6</td>\n",
       "      <td>16</td>\n",
       "    </tr>\n",
       "    <tr>\n",
       "      <th>4</th>\n",
       "      <td>32674</td>\n",
       "      <td>Isildur</td>\n",
       "      <td>18</td>\n",
       "      <td>18</td>\n",
       "      <td>0</td>\n",
       "    </tr>\n",
       "    <tr>\n",
       "      <th>...</th>\n",
       "      <td>...</td>\n",
       "      <td>...</td>\n",
       "      <td>...</td>\n",
       "      <td>...</td>\n",
       "      <td>...</td>\n",
       "    </tr>\n",
       "    <tr>\n",
       "      <th>134</th>\n",
       "      <td>32674</td>\n",
       "      <td>Faramir</td>\n",
       "      <td>29</td>\n",
       "      <td>3</td>\n",
       "      <td>29</td>\n",
       "    </tr>\n",
       "    <tr>\n",
       "      <th>135</th>\n",
       "      <td>32674</td>\n",
       "      <td>Bain</td>\n",
       "      <td>2</td>\n",
       "      <td>1</td>\n",
       "      <td>1</td>\n",
       "    </tr>\n",
       "    <tr>\n",
       "      <th>136</th>\n",
       "      <td>32674</td>\n",
       "      <td>Walda</td>\n",
       "      <td>13</td>\n",
       "      <td>3</td>\n",
       "      <td>10</td>\n",
       "    </tr>\n",
       "    <tr>\n",
       "      <th>137</th>\n",
       "      <td>32674</td>\n",
       "      <td>Thranduil</td>\n",
       "      <td>2</td>\n",
       "      <td>0</td>\n",
       "      <td>2</td>\n",
       "    </tr>\n",
       "    <tr>\n",
       "      <th>138</th>\n",
       "      <td>32674</td>\n",
       "      <td>Boromir</td>\n",
       "      <td>18</td>\n",
       "      <td>6</td>\n",
       "      <td>17</td>\n",
       "    </tr>\n",
       "  </tbody>\n",
       "</table>\n",
       "<p>139 rows × 5 columns</p>\n",
       "</div>"
      ],
      "text/plain": [
       "     timestamp       name  degree  out_degree  in_degree\n",
       "0        32674     Hirgon       2           2          0\n",
       "1        32674      Hador       3           1          2\n",
       "2        32674       Horn       4           1          3\n",
       "3        32674  Galadriel      19           6         16\n",
       "4        32674    Isildur      18          18          0\n",
       "..         ...        ...     ...         ...        ...\n",
       "134      32674    Faramir      29           3         29\n",
       "135      32674       Bain       2           1          1\n",
       "136      32674      Walda      13           3         10\n",
       "137      32674  Thranduil       2           0          2\n",
       "138      32674    Boromir      18           6         17\n",
       "\n",
       "[139 rows x 5 columns]"
      ]
     },
     "execution_count": 14,
     "metadata": {},
     "output_type": "execute_result"
    }
   ],
   "source": [
    "df"
   ]
  },
  {
   "cell_type": "markdown",
   "id": "4eca6ccb-1b92-4807-bdf9-57733c6c386c",
   "metadata": {
    "pycharm": {
     "name": "#%% md\n"
    }
   },
   "source": [
    "**Sort by highest degree, top 10**"
   ]
  },
  {
   "cell_type": "code",
   "execution_count": 15,
   "id": "ffcfe842-b022-4333-8886-a8ee0cd902d7",
   "metadata": {
    "pycharm": {
     "name": "#%%\n"
    }
   },
   "outputs": [
    {
     "data": {
      "text/html": [
       "<div>\n",
       "<style scoped>\n",
       "    .dataframe tbody tr th:only-of-type {\n",
       "        vertical-align: middle;\n",
       "    }\n",
       "\n",
       "    .dataframe tbody tr th {\n",
       "        vertical-align: top;\n",
       "    }\n",
       "\n",
       "    .dataframe thead th {\n",
       "        text-align: right;\n",
       "    }\n",
       "</style>\n",
       "<table border=\"1\" class=\"dataframe\">\n",
       "  <thead>\n",
       "    <tr style=\"text-align: right;\">\n",
       "      <th></th>\n",
       "      <th>timestamp</th>\n",
       "      <th>name</th>\n",
       "      <th>degree</th>\n",
       "      <th>out_degree</th>\n",
       "      <th>in_degree</th>\n",
       "    </tr>\n",
       "  </thead>\n",
       "  <tbody>\n",
       "    <tr>\n",
       "      <th>55</th>\n",
       "      <td>32674</td>\n",
       "      <td>Frodo</td>\n",
       "      <td>51</td>\n",
       "      <td>37</td>\n",
       "      <td>22</td>\n",
       "    </tr>\n",
       "    <tr>\n",
       "      <th>54</th>\n",
       "      <td>32674</td>\n",
       "      <td>Gandalf</td>\n",
       "      <td>49</td>\n",
       "      <td>35</td>\n",
       "      <td>24</td>\n",
       "    </tr>\n",
       "    <tr>\n",
       "      <th>97</th>\n",
       "      <td>32674</td>\n",
       "      <td>Aragorn</td>\n",
       "      <td>45</td>\n",
       "      <td>5</td>\n",
       "      <td>45</td>\n",
       "    </tr>\n",
       "    <tr>\n",
       "      <th>63</th>\n",
       "      <td>32674</td>\n",
       "      <td>Merry</td>\n",
       "      <td>34</td>\n",
       "      <td>23</td>\n",
       "      <td>18</td>\n",
       "    </tr>\n",
       "    <tr>\n",
       "      <th>32</th>\n",
       "      <td>32674</td>\n",
       "      <td>Pippin</td>\n",
       "      <td>34</td>\n",
       "      <td>30</td>\n",
       "      <td>10</td>\n",
       "    </tr>\n",
       "    <tr>\n",
       "      <th>56</th>\n",
       "      <td>32674</td>\n",
       "      <td>Elrond</td>\n",
       "      <td>32</td>\n",
       "      <td>18</td>\n",
       "      <td>24</td>\n",
       "    </tr>\n",
       "    <tr>\n",
       "      <th>52</th>\n",
       "      <td>32674</td>\n",
       "      <td>Théoden</td>\n",
       "      <td>30</td>\n",
       "      <td>22</td>\n",
       "      <td>9</td>\n",
       "    </tr>\n",
       "    <tr>\n",
       "      <th>134</th>\n",
       "      <td>32674</td>\n",
       "      <td>Faramir</td>\n",
       "      <td>29</td>\n",
       "      <td>3</td>\n",
       "      <td>29</td>\n",
       "    </tr>\n",
       "    <tr>\n",
       "      <th>118</th>\n",
       "      <td>32674</td>\n",
       "      <td>Sam</td>\n",
       "      <td>28</td>\n",
       "      <td>20</td>\n",
       "      <td>17</td>\n",
       "    </tr>\n",
       "    <tr>\n",
       "      <th>129</th>\n",
       "      <td>32674</td>\n",
       "      <td>Gimli</td>\n",
       "      <td>25</td>\n",
       "      <td>22</td>\n",
       "      <td>11</td>\n",
       "    </tr>\n",
       "  </tbody>\n",
       "</table>\n",
       "</div>"
      ],
      "text/plain": [
       "     timestamp     name  degree  out_degree  in_degree\n",
       "55       32674    Frodo      51          37         22\n",
       "54       32674  Gandalf      49          35         24\n",
       "97       32674  Aragorn      45           5         45\n",
       "63       32674    Merry      34          23         18\n",
       "32       32674   Pippin      34          30         10\n",
       "56       32674   Elrond      32          18         24\n",
       "52       32674  Théoden      30          22          9\n",
       "134      32674  Faramir      29           3         29\n",
       "118      32674      Sam      28          20         17\n",
       "129      32674    Gimli      25          22         11"
      ]
     },
     "execution_count": 15,
     "metadata": {},
     "output_type": "execute_result"
    }
   ],
   "source": [
    "df.sort_values(['degree'], ascending=False)[:10]"
   ]
  },
  {
   "cell_type": "markdown",
   "id": "143338c4-d126-4cf1-9db3-71a119b33b58",
   "metadata": {
    "pycharm": {
     "name": "#%% md\n"
    }
   },
   "source": [
    "**Sort by highest in-degree, top 10**"
   ]
  },
  {
   "cell_type": "code",
   "execution_count": 16,
   "id": "67b4420a-e6f6-43d6-af3d-4a89ad764e3b",
   "metadata": {
    "pycharm": {
     "name": "#%%\n"
    }
   },
   "outputs": [
    {
     "data": {
      "text/html": [
       "<div>\n",
       "<style scoped>\n",
       "    .dataframe tbody tr th:only-of-type {\n",
       "        vertical-align: middle;\n",
       "    }\n",
       "\n",
       "    .dataframe tbody tr th {\n",
       "        vertical-align: top;\n",
       "    }\n",
       "\n",
       "    .dataframe thead th {\n",
       "        text-align: right;\n",
       "    }\n",
       "</style>\n",
       "<table border=\"1\" class=\"dataframe\">\n",
       "  <thead>\n",
       "    <tr style=\"text-align: right;\">\n",
       "      <th></th>\n",
       "      <th>timestamp</th>\n",
       "      <th>name</th>\n",
       "      <th>degree</th>\n",
       "      <th>out_degree</th>\n",
       "      <th>in_degree</th>\n",
       "    </tr>\n",
       "  </thead>\n",
       "  <tbody>\n",
       "    <tr>\n",
       "      <th>97</th>\n",
       "      <td>32674</td>\n",
       "      <td>Aragorn</td>\n",
       "      <td>45</td>\n",
       "      <td>5</td>\n",
       "      <td>45</td>\n",
       "    </tr>\n",
       "    <tr>\n",
       "      <th>134</th>\n",
       "      <td>32674</td>\n",
       "      <td>Faramir</td>\n",
       "      <td>29</td>\n",
       "      <td>3</td>\n",
       "      <td>29</td>\n",
       "    </tr>\n",
       "    <tr>\n",
       "      <th>54</th>\n",
       "      <td>32674</td>\n",
       "      <td>Gandalf</td>\n",
       "      <td>49</td>\n",
       "      <td>35</td>\n",
       "      <td>24</td>\n",
       "    </tr>\n",
       "    <tr>\n",
       "      <th>56</th>\n",
       "      <td>32674</td>\n",
       "      <td>Elrond</td>\n",
       "      <td>32</td>\n",
       "      <td>18</td>\n",
       "      <td>24</td>\n",
       "    </tr>\n",
       "    <tr>\n",
       "      <th>55</th>\n",
       "      <td>32674</td>\n",
       "      <td>Frodo</td>\n",
       "      <td>51</td>\n",
       "      <td>37</td>\n",
       "      <td>22</td>\n",
       "    </tr>\n",
       "    <tr>\n",
       "      <th>63</th>\n",
       "      <td>32674</td>\n",
       "      <td>Merry</td>\n",
       "      <td>34</td>\n",
       "      <td>23</td>\n",
       "      <td>18</td>\n",
       "    </tr>\n",
       "    <tr>\n",
       "      <th>138</th>\n",
       "      <td>32674</td>\n",
       "      <td>Boromir</td>\n",
       "      <td>18</td>\n",
       "      <td>6</td>\n",
       "      <td>17</td>\n",
       "    </tr>\n",
       "    <tr>\n",
       "      <th>118</th>\n",
       "      <td>32674</td>\n",
       "      <td>Sam</td>\n",
       "      <td>28</td>\n",
       "      <td>20</td>\n",
       "      <td>17</td>\n",
       "    </tr>\n",
       "    <tr>\n",
       "      <th>3</th>\n",
       "      <td>32674</td>\n",
       "      <td>Galadriel</td>\n",
       "      <td>19</td>\n",
       "      <td>6</td>\n",
       "      <td>16</td>\n",
       "    </tr>\n",
       "    <tr>\n",
       "      <th>132</th>\n",
       "      <td>32674</td>\n",
       "      <td>Legolas</td>\n",
       "      <td>25</td>\n",
       "      <td>18</td>\n",
       "      <td>16</td>\n",
       "    </tr>\n",
       "  </tbody>\n",
       "</table>\n",
       "</div>"
      ],
      "text/plain": [
       "     timestamp       name  degree  out_degree  in_degree\n",
       "97       32674    Aragorn      45           5         45\n",
       "134      32674    Faramir      29           3         29\n",
       "54       32674    Gandalf      49          35         24\n",
       "56       32674     Elrond      32          18         24\n",
       "55       32674      Frodo      51          37         22\n",
       "63       32674      Merry      34          23         18\n",
       "138      32674    Boromir      18           6         17\n",
       "118      32674        Sam      28          20         17\n",
       "3        32674  Galadriel      19           6         16\n",
       "132      32674    Legolas      25          18         16"
      ]
     },
     "execution_count": 16,
     "metadata": {},
     "output_type": "execute_result"
    }
   ],
   "source": [
    "df.sort_values(['in_degree'], ascending=False)[:10]"
   ]
  },
  {
   "cell_type": "markdown",
   "id": "c6dca719-a66f-41d2-9bf1-4bf49bf0028a",
   "metadata": {
    "pycharm": {
     "name": "#%% md\n"
    }
   },
   "source": [
    "**Sort by highest out-degree, top 10**"
   ]
  },
  {
   "cell_type": "code",
   "execution_count": 17,
   "id": "5357d232-c67c-42ef-97c9-01f17d40169b",
   "metadata": {
    "pycharm": {
     "name": "#%%\n"
    }
   },
   "outputs": [
    {
     "data": {
      "text/html": [
       "<div>\n",
       "<style scoped>\n",
       "    .dataframe tbody tr th:only-of-type {\n",
       "        vertical-align: middle;\n",
       "    }\n",
       "\n",
       "    .dataframe tbody tr th {\n",
       "        vertical-align: top;\n",
       "    }\n",
       "\n",
       "    .dataframe thead th {\n",
       "        text-align: right;\n",
       "    }\n",
       "</style>\n",
       "<table border=\"1\" class=\"dataframe\">\n",
       "  <thead>\n",
       "    <tr style=\"text-align: right;\">\n",
       "      <th></th>\n",
       "      <th>timestamp</th>\n",
       "      <th>name</th>\n",
       "      <th>degree</th>\n",
       "      <th>out_degree</th>\n",
       "      <th>in_degree</th>\n",
       "    </tr>\n",
       "  </thead>\n",
       "  <tbody>\n",
       "    <tr>\n",
       "      <th>55</th>\n",
       "      <td>32674</td>\n",
       "      <td>Frodo</td>\n",
       "      <td>51</td>\n",
       "      <td>37</td>\n",
       "      <td>22</td>\n",
       "    </tr>\n",
       "    <tr>\n",
       "      <th>54</th>\n",
       "      <td>32674</td>\n",
       "      <td>Gandalf</td>\n",
       "      <td>49</td>\n",
       "      <td>35</td>\n",
       "      <td>24</td>\n",
       "    </tr>\n",
       "    <tr>\n",
       "      <th>32</th>\n",
       "      <td>32674</td>\n",
       "      <td>Pippin</td>\n",
       "      <td>34</td>\n",
       "      <td>30</td>\n",
       "      <td>10</td>\n",
       "    </tr>\n",
       "    <tr>\n",
       "      <th>63</th>\n",
       "      <td>32674</td>\n",
       "      <td>Merry</td>\n",
       "      <td>34</td>\n",
       "      <td>23</td>\n",
       "      <td>18</td>\n",
       "    </tr>\n",
       "    <tr>\n",
       "      <th>52</th>\n",
       "      <td>32674</td>\n",
       "      <td>Théoden</td>\n",
       "      <td>30</td>\n",
       "      <td>22</td>\n",
       "      <td>9</td>\n",
       "    </tr>\n",
       "    <tr>\n",
       "      <th>129</th>\n",
       "      <td>32674</td>\n",
       "      <td>Gimli</td>\n",
       "      <td>25</td>\n",
       "      <td>22</td>\n",
       "      <td>11</td>\n",
       "    </tr>\n",
       "    <tr>\n",
       "      <th>118</th>\n",
       "      <td>32674</td>\n",
       "      <td>Sam</td>\n",
       "      <td>28</td>\n",
       "      <td>20</td>\n",
       "      <td>17</td>\n",
       "    </tr>\n",
       "    <tr>\n",
       "      <th>56</th>\n",
       "      <td>32674</td>\n",
       "      <td>Elrond</td>\n",
       "      <td>32</td>\n",
       "      <td>18</td>\n",
       "      <td>24</td>\n",
       "    </tr>\n",
       "    <tr>\n",
       "      <th>4</th>\n",
       "      <td>32674</td>\n",
       "      <td>Isildur</td>\n",
       "      <td>18</td>\n",
       "      <td>18</td>\n",
       "      <td>0</td>\n",
       "    </tr>\n",
       "    <tr>\n",
       "      <th>132</th>\n",
       "      <td>32674</td>\n",
       "      <td>Legolas</td>\n",
       "      <td>25</td>\n",
       "      <td>18</td>\n",
       "      <td>16</td>\n",
       "    </tr>\n",
       "  </tbody>\n",
       "</table>\n",
       "</div>"
      ],
      "text/plain": [
       "     timestamp     name  degree  out_degree  in_degree\n",
       "55       32674    Frodo      51          37         22\n",
       "54       32674  Gandalf      49          35         24\n",
       "32       32674   Pippin      34          30         10\n",
       "63       32674    Merry      34          23         18\n",
       "52       32674  Théoden      30          22          9\n",
       "129      32674    Gimli      25          22         11\n",
       "118      32674      Sam      28          20         17\n",
       "56       32674   Elrond      32          18         24\n",
       "4        32674  Isildur      18          18          0\n",
       "132      32674  Legolas      25          18         16"
      ]
     },
     "execution_count": 17,
     "metadata": {},
     "output_type": "execute_result"
    }
   ],
   "source": [
    "df.sort_values(['out_degree'], ascending=False)[:10]"
   ]
  },
  {
   "cell_type": "markdown",
   "id": "75c777ae-5661-415d-9600-6c38b54f09fd",
   "metadata": {
    "pycharm": {
     "name": "#%% md\n"
    }
   },
   "source": [
    "# Run a PageRank algorithm 📑"
   ]
  },
  {
   "cell_type": "markdown",
   "id": "9de7a6b8",
   "metadata": {
    "pycharm": {
     "name": "#%% md\n"
    }
   },
   "source": [
    "Run your selected algorithm on your graph, here we run PageRank. Your algorithms can be obtained from the PyRaphtory object you created at the start. Specify where you write the result of your algorithm to, e.g. the additional column results in your dataframe."
   ]
  },
  {
   "cell_type": "code",
   "execution_count": 18,
   "id": "ad4aecf8-3506-49ee-9b6a-e562ade5a8dd",
   "metadata": {
    "pycharm": {
     "name": "#%%\n"
    }
   },
   "outputs": [
    {
     "name": "stdout",
     "output_type": "stream",
     "text": [
      "18:04:35.561 [io-compute-blocker-8] INFO  com.raphtory.api.querytracker.TableOutputTracker - Job PageRank:NodeList_1339944722215541969: Starting query progress tracker.\n",
      "18:04:35.562 [io-compute-blocker-8] INFO  com.raphtory.api.querytracker.TableOutputTracker - Job PageRank:NodeList_1339944722215541969: Starting output collector.\n",
      "18:04:35.570 [spawner-akka.actor.default-dispatcher-3] INFO  com.raphtory.internals.components.querymanager.QueryManager - Query 'PageRank:NodeList_1339944722215541969' received, your job ID is 'PageRank:NodeList_1339944722215541969'.\n",
      "18:04:35.571 [spawner-akka.actor.default-dispatcher-5] INFO  com.raphtory.internals.components.partition.QueryExecutor - PageRank:NodeList_1339944722215541969_0: Starting QueryExecutor.\n",
      "18:04:35.644 [spawner-akka.actor.default-dispatcher-11] INFO  com.raphtory.internals.components.querymanager.QueryHandler - Job 'PageRank:NodeList_1339944722215541969': Perspective at Time '32674' took 72 ms to run. \n",
      "18:04:35.670 [spawner-akka.actor.default-dispatcher-6] INFO  com.raphtory.api.querytracker.TableOutputTracker - Job 'PageRank:NodeList_1339944722215541969': Perspective '32674' finished after 109 ms.\n",
      "18:04:35.670 [spawner-akka.actor.default-dispatcher-6] INFO  com.raphtory.api.querytracker.TableOutputTracker - Job PageRank:NodeList_1339944722215541969: Running query, processed 1 perspectives.\n",
      "18:04:35.671 [spawner-akka.actor.default-dispatcher-8] INFO  akka.actor.LocalActorRef - Message [[B] to Actor[akka://spawner/user/entitled_erin_bee-PageRank:NodeList_1339944722215541969-query-tracker#744424817] was not delivered. [2] dead letters encountered. If this is not an expected behavior then Actor[akka://spawner/user/entitled_erin_bee-PageRank:NodeList_1339944722215541969-query-tracker#744424817] may have terminated unexpectedly. This logging can be turned off or adjusted with configuration settings 'akka.log-dead-letters' and 'akka.log-dead-letters-during-shutdown'.\n"
     ]
    }
   ],
   "source": [
    "cols = [\"prlabel\"]\n",
    "\n",
    "df_pagerank = graph.at(32674) \\\n",
    "                .past() \\\n",
    "                .transform(PyRaphtory.algorithms.generic.centrality.PageRank())\\\n",
    "                .execute(PyRaphtory.algorithms.generic.NodeList(*cols)) \\\n",
    "                .to_df([\"name\"] + cols)"
   ]
  },
  {
   "cell_type": "markdown",
   "id": "c42e5fff",
   "metadata": {
    "pycharm": {
     "name": "#%% md\n"
    }
   },
   "source": [
    "**Clean your dataframe** 🧹"
   ]
  },
  {
   "cell_type": "code",
   "execution_count": 19,
   "id": "98e4eef5-cf37-46ed-a20b-c06058cd0139",
   "metadata": {
    "pycharm": {
     "name": "#%%\n"
    }
   },
   "outputs": [],
   "source": [
    "## clean\n",
    "df_pagerank.drop(columns=['window'], inplace=True)"
   ]
  },
  {
   "cell_type": "code",
   "execution_count": 20,
   "id": "a62597ff-bdab-4b90-9413-93b58ea3ed5e",
   "metadata": {
    "pycharm": {
     "name": "#%%\n"
    }
   },
   "outputs": [
    {
     "data": {
      "text/html": [
       "<div>\n",
       "<style scoped>\n",
       "    .dataframe tbody tr th:only-of-type {\n",
       "        vertical-align: middle;\n",
       "    }\n",
       "\n",
       "    .dataframe tbody tr th {\n",
       "        vertical-align: top;\n",
       "    }\n",
       "\n",
       "    .dataframe thead th {\n",
       "        text-align: right;\n",
       "    }\n",
       "</style>\n",
       "<table border=\"1\" class=\"dataframe\">\n",
       "  <thead>\n",
       "    <tr style=\"text-align: right;\">\n",
       "      <th></th>\n",
       "      <th>timestamp</th>\n",
       "      <th>name</th>\n",
       "      <th>prlabel</th>\n",
       "    </tr>\n",
       "  </thead>\n",
       "  <tbody>\n",
       "    <tr>\n",
       "      <th>0</th>\n",
       "      <td>32674</td>\n",
       "      <td>Hirgon</td>\n",
       "      <td>0.277968</td>\n",
       "    </tr>\n",
       "    <tr>\n",
       "      <th>1</th>\n",
       "      <td>32674</td>\n",
       "      <td>Hador</td>\n",
       "      <td>0.459710</td>\n",
       "    </tr>\n",
       "    <tr>\n",
       "      <th>2</th>\n",
       "      <td>32674</td>\n",
       "      <td>Horn</td>\n",
       "      <td>0.522389</td>\n",
       "    </tr>\n",
       "    <tr>\n",
       "      <th>3</th>\n",
       "      <td>32674</td>\n",
       "      <td>Galadriel</td>\n",
       "      <td>2.228852</td>\n",
       "    </tr>\n",
       "    <tr>\n",
       "      <th>4</th>\n",
       "      <td>32674</td>\n",
       "      <td>Isildur</td>\n",
       "      <td>0.277968</td>\n",
       "    </tr>\n",
       "    <tr>\n",
       "      <th>...</th>\n",
       "      <td>...</td>\n",
       "      <td>...</td>\n",
       "      <td>...</td>\n",
       "    </tr>\n",
       "    <tr>\n",
       "      <th>134</th>\n",
       "      <td>32674</td>\n",
       "      <td>Faramir</td>\n",
       "      <td>8.551166</td>\n",
       "    </tr>\n",
       "    <tr>\n",
       "      <th>135</th>\n",
       "      <td>32674</td>\n",
       "      <td>Bain</td>\n",
       "      <td>0.396105</td>\n",
       "    </tr>\n",
       "    <tr>\n",
       "      <th>136</th>\n",
       "      <td>32674</td>\n",
       "      <td>Walda</td>\n",
       "      <td>0.817198</td>\n",
       "    </tr>\n",
       "    <tr>\n",
       "      <th>137</th>\n",
       "      <td>32674</td>\n",
       "      <td>Thranduil</td>\n",
       "      <td>0.761719</td>\n",
       "    </tr>\n",
       "    <tr>\n",
       "      <th>138</th>\n",
       "      <td>32674</td>\n",
       "      <td>Boromir</td>\n",
       "      <td>4.824014</td>\n",
       "    </tr>\n",
       "  </tbody>\n",
       "</table>\n",
       "<p>139 rows × 3 columns</p>\n",
       "</div>"
      ],
      "text/plain": [
       "     timestamp       name   prlabel\n",
       "0        32674     Hirgon  0.277968\n",
       "1        32674      Hador  0.459710\n",
       "2        32674       Horn  0.522389\n",
       "3        32674  Galadriel  2.228852\n",
       "4        32674    Isildur  0.277968\n",
       "..         ...        ...       ...\n",
       "134      32674    Faramir  8.551166\n",
       "135      32674       Bain  0.396105\n",
       "136      32674      Walda  0.817198\n",
       "137      32674  Thranduil  0.761719\n",
       "138      32674    Boromir  4.824014\n",
       "\n",
       "[139 rows x 3 columns]"
      ]
     },
     "execution_count": 20,
     "metadata": {},
     "output_type": "execute_result"
    }
   ],
   "source": [
    "df_pagerank"
   ]
  },
  {
   "cell_type": "markdown",
   "id": "2e510261-0049-4c44-8630-dcddbc107f07",
   "metadata": {
    "pycharm": {
     "name": "#%% md\n"
    }
   },
   "source": [
    "**The top ten most ranked**"
   ]
  },
  {
   "cell_type": "code",
   "execution_count": 21,
   "id": "d1bf1258-e1db-4b34-af93-352191817b4c",
   "metadata": {
    "pycharm": {
     "name": "#%%\n"
    }
   },
   "outputs": [
    {
     "data": {
      "text/html": [
       "<div>\n",
       "<style scoped>\n",
       "    .dataframe tbody tr th:only-of-type {\n",
       "        vertical-align: middle;\n",
       "    }\n",
       "\n",
       "    .dataframe tbody tr th {\n",
       "        vertical-align: top;\n",
       "    }\n",
       "\n",
       "    .dataframe thead th {\n",
       "        text-align: right;\n",
       "    }\n",
       "</style>\n",
       "<table border=\"1\" class=\"dataframe\">\n",
       "  <thead>\n",
       "    <tr style=\"text-align: right;\">\n",
       "      <th></th>\n",
       "      <th>timestamp</th>\n",
       "      <th>name</th>\n",
       "      <th>prlabel</th>\n",
       "    </tr>\n",
       "  </thead>\n",
       "  <tbody>\n",
       "    <tr>\n",
       "      <th>97</th>\n",
       "      <td>32674</td>\n",
       "      <td>Aragorn</td>\n",
       "      <td>13.246457</td>\n",
       "    </tr>\n",
       "    <tr>\n",
       "      <th>134</th>\n",
       "      <td>32674</td>\n",
       "      <td>Faramir</td>\n",
       "      <td>8.551166</td>\n",
       "    </tr>\n",
       "    <tr>\n",
       "      <th>56</th>\n",
       "      <td>32674</td>\n",
       "      <td>Elrond</td>\n",
       "      <td>5.621548</td>\n",
       "    </tr>\n",
       "    <tr>\n",
       "      <th>138</th>\n",
       "      <td>32674</td>\n",
       "      <td>Boromir</td>\n",
       "      <td>4.824014</td>\n",
       "    </tr>\n",
       "    <tr>\n",
       "      <th>132</th>\n",
       "      <td>32674</td>\n",
       "      <td>Legolas</td>\n",
       "      <td>4.622590</td>\n",
       "    </tr>\n",
       "    <tr>\n",
       "      <th>110</th>\n",
       "      <td>32674</td>\n",
       "      <td>Imrahil</td>\n",
       "      <td>4.095600</td>\n",
       "    </tr>\n",
       "    <tr>\n",
       "      <th>65</th>\n",
       "      <td>32674</td>\n",
       "      <td>Éomer</td>\n",
       "      <td>3.473897</td>\n",
       "    </tr>\n",
       "    <tr>\n",
       "      <th>42</th>\n",
       "      <td>32674</td>\n",
       "      <td>Samwise</td>\n",
       "      <td>3.292762</td>\n",
       "    </tr>\n",
       "    <tr>\n",
       "      <th>118</th>\n",
       "      <td>32674</td>\n",
       "      <td>Sam</td>\n",
       "      <td>2.826140</td>\n",
       "    </tr>\n",
       "    <tr>\n",
       "      <th>55</th>\n",
       "      <td>32674</td>\n",
       "      <td>Frodo</td>\n",
       "      <td>2.806475</td>\n",
       "    </tr>\n",
       "  </tbody>\n",
       "</table>\n",
       "</div>"
      ],
      "text/plain": [
       "     timestamp     name    prlabel\n",
       "97       32674  Aragorn  13.246457\n",
       "134      32674  Faramir   8.551166\n",
       "56       32674   Elrond   5.621548\n",
       "138      32674  Boromir   4.824014\n",
       "132      32674  Legolas   4.622590\n",
       "110      32674  Imrahil   4.095600\n",
       "65       32674    Éomer   3.473897\n",
       "42       32674  Samwise   3.292762\n",
       "118      32674      Sam   2.826140\n",
       "55       32674    Frodo   2.806475"
      ]
     },
     "execution_count": 21,
     "metadata": {},
     "output_type": "execute_result"
    }
   ],
   "source": [
    "df_pagerank.sort_values(['prlabel'], ascending=False)[:10]"
   ]
  },
  {
   "cell_type": "markdown",
   "id": "6afeefa8-a6d6-4bc8-8c2d-681095a18c48",
   "metadata": {
    "pycharm": {
     "name": "#%% md\n"
    }
   },
   "source": [
    "## Run a connected components algorithm "
   ]
  },
  {
   "cell_type": "markdown",
   "id": "15409680",
   "metadata": {
    "pycharm": {
     "name": "#%% md\n"
    }
   },
   "source": [
    "Example running connected components algorithm on the graph."
   ]
  },
  {
   "cell_type": "code",
   "execution_count": 22,
   "id": "cf4ce1a4",
   "metadata": {
    "jupyter": {
     "outputs_hidden": false
    },
    "pycharm": {
     "name": "#%%\n"
    }
   },
   "outputs": [
    {
     "name": "stdout",
     "output_type": "stream",
     "text": [
      "18:04:44.798 [io-compute-blocker-12] INFO  com.raphtory.api.querytracker.TableOutputTracker - Job ConnectedComponents:NodeList_6529836868478431610: Starting query progress tracker.\n",
      "18:04:44.798 [io-compute-blocker-12] INFO  com.raphtory.api.querytracker.TableOutputTracker - Job ConnectedComponents:NodeList_6529836868478431610: Starting output collector.\n",
      "18:04:44.806 [spawner-akka.actor.default-dispatcher-10] INFO  com.raphtory.internals.components.querymanager.QueryManager - Query 'ConnectedComponents:NodeList_6529836868478431610' received, your job ID is 'ConnectedComponents:NodeList_6529836868478431610'.\n",
      "18:04:44.809 [spawner-akka.actor.default-dispatcher-7] INFO  com.raphtory.internals.components.partition.QueryExecutor - ConnectedComponents:NodeList_6529836868478431610_0: Starting QueryExecutor.\n",
      "18:04:44.830 [spawner-akka.actor.default-dispatcher-5] INFO  com.raphtory.internals.components.querymanager.QueryHandler - Job 'ConnectedComponents:NodeList_6529836868478431610': Perspective at Time '32674' took 21 ms to run. \n",
      "18:04:44.847 [spawner-akka.actor.default-dispatcher-10] INFO  com.raphtory.api.querytracker.TableOutputTracker - Job 'ConnectedComponents:NodeList_6529836868478431610': Perspective '32674' finished after 49 ms.\n",
      "18:04:44.847 [spawner-akka.actor.default-dispatcher-10] INFO  com.raphtory.api.querytracker.TableOutputTracker - Job ConnectedComponents:NodeList_6529836868478431610: Running query, processed 1 perspectives.\n",
      "18:04:44.847 [spawner-akka.actor.default-dispatcher-10] INFO  com.raphtory.api.querytracker.TableOutputTracker - Job ConnectedComponents:NodeList_6529836868478431610: Query completed with 1 perspectives and finished in 49 ms.\n"
     ]
    }
   ],
   "source": [
    "cols = [\"cclabel\"]\n",
    "df_cc = graph.at(32674) \\\n",
    "                .past() \\\n",
    "                .transform(PyRaphtory.algorithms.generic.ConnectedComponents)\\\n",
    "                .execute(PyRaphtory.algorithms.generic.NodeList(*cols)) \\\n",
    "                .to_df([\"name\"] + cols)"
   ]
  },
  {
   "cell_type": "markdown",
   "id": "a5a934ba",
   "metadata": {
    "pycharm": {
     "name": "#%% md\n"
    }
   },
   "source": [
    "**Clean dataframe.**"
   ]
  },
  {
   "cell_type": "code",
   "execution_count": 23,
   "id": "3701e686-c165-426a-a705-4a17b73f18f9",
   "metadata": {
    "pycharm": {
     "name": "#%%\n"
    }
   },
   "outputs": [],
   "source": [
    "## clean\n",
    "df_cc.drop(columns=['window'], inplace=True)"
   ]
  },
  {
   "cell_type": "markdown",
   "id": "ef921b02",
   "metadata": {
    "pycharm": {
     "name": "#%% md\n"
    }
   },
   "source": [
    "**Preview dataframe.**"
   ]
  },
  {
   "cell_type": "code",
   "execution_count": 24,
   "id": "984c7943-fe22-4bd3-b5ff-64e509ec7a50",
   "metadata": {
    "pycharm": {
     "name": "#%%\n"
    }
   },
   "outputs": [
    {
     "data": {
      "text/html": [
       "<div>\n",
       "<style scoped>\n",
       "    .dataframe tbody tr th:only-of-type {\n",
       "        vertical-align: middle;\n",
       "    }\n",
       "\n",
       "    .dataframe tbody tr th {\n",
       "        vertical-align: top;\n",
       "    }\n",
       "\n",
       "    .dataframe thead th {\n",
       "        text-align: right;\n",
       "    }\n",
       "</style>\n",
       "<table border=\"1\" class=\"dataframe\">\n",
       "  <thead>\n",
       "    <tr style=\"text-align: right;\">\n",
       "      <th></th>\n",
       "      <th>timestamp</th>\n",
       "      <th>name</th>\n",
       "      <th>cclabel</th>\n",
       "    </tr>\n",
       "  </thead>\n",
       "  <tbody>\n",
       "    <tr>\n",
       "      <th>0</th>\n",
       "      <td>32674</td>\n",
       "      <td>Hirgon</td>\n",
       "      <td>-8637342647242242534</td>\n",
       "    </tr>\n",
       "    <tr>\n",
       "      <th>1</th>\n",
       "      <td>32674</td>\n",
       "      <td>Hador</td>\n",
       "      <td>-8637342647242242534</td>\n",
       "    </tr>\n",
       "    <tr>\n",
       "      <th>2</th>\n",
       "      <td>32674</td>\n",
       "      <td>Horn</td>\n",
       "      <td>-8637342647242242534</td>\n",
       "    </tr>\n",
       "    <tr>\n",
       "      <th>3</th>\n",
       "      <td>32674</td>\n",
       "      <td>Galadriel</td>\n",
       "      <td>-8637342647242242534</td>\n",
       "    </tr>\n",
       "    <tr>\n",
       "      <th>4</th>\n",
       "      <td>32674</td>\n",
       "      <td>Isildur</td>\n",
       "      <td>-8637342647242242534</td>\n",
       "    </tr>\n",
       "    <tr>\n",
       "      <th>...</th>\n",
       "      <td>...</td>\n",
       "      <td>...</td>\n",
       "      <td>...</td>\n",
       "    </tr>\n",
       "    <tr>\n",
       "      <th>134</th>\n",
       "      <td>32674</td>\n",
       "      <td>Faramir</td>\n",
       "      <td>-8637342647242242534</td>\n",
       "    </tr>\n",
       "    <tr>\n",
       "      <th>135</th>\n",
       "      <td>32674</td>\n",
       "      <td>Bain</td>\n",
       "      <td>-6628080393138316116</td>\n",
       "    </tr>\n",
       "    <tr>\n",
       "      <th>136</th>\n",
       "      <td>32674</td>\n",
       "      <td>Walda</td>\n",
       "      <td>-8637342647242242534</td>\n",
       "    </tr>\n",
       "    <tr>\n",
       "      <th>137</th>\n",
       "      <td>32674</td>\n",
       "      <td>Thranduil</td>\n",
       "      <td>-8637342647242242534</td>\n",
       "    </tr>\n",
       "    <tr>\n",
       "      <th>138</th>\n",
       "      <td>32674</td>\n",
       "      <td>Boromir</td>\n",
       "      <td>-8637342647242242534</td>\n",
       "    </tr>\n",
       "  </tbody>\n",
       "</table>\n",
       "<p>139 rows × 3 columns</p>\n",
       "</div>"
      ],
      "text/plain": [
       "     timestamp       name              cclabel\n",
       "0        32674     Hirgon -8637342647242242534\n",
       "1        32674      Hador -8637342647242242534\n",
       "2        32674       Horn -8637342647242242534\n",
       "3        32674  Galadriel -8637342647242242534\n",
       "4        32674    Isildur -8637342647242242534\n",
       "..         ...        ...                  ...\n",
       "134      32674    Faramir -8637342647242242534\n",
       "135      32674       Bain -6628080393138316116\n",
       "136      32674      Walda -8637342647242242534\n",
       "137      32674  Thranduil -8637342647242242534\n",
       "138      32674    Boromir -8637342647242242534\n",
       "\n",
       "[139 rows x 3 columns]"
      ]
     },
     "execution_count": 24,
     "metadata": {},
     "output_type": "execute_result"
    }
   ],
   "source": [
    "df_cc"
   ]
  },
  {
   "cell_type": "markdown",
   "id": "fa4a353c-4ac8-4622-a8d8-3875ff8ab36d",
   "metadata": {
    "pycharm": {
     "name": "#%% md\n"
    }
   },
   "source": [
    "### Number of distinct components "
   ]
  },
  {
   "cell_type": "markdown",
   "id": "4ae3c62e",
   "metadata": {
    "pycharm": {
     "name": "#%% md\n"
    }
   },
   "source": [
    "Extract number of distinct components, which is 3 in this dataframe."
   ]
  },
  {
   "cell_type": "code",
   "execution_count": 25,
   "id": "152ba931-0cf2-416f-a77f-4e5e0e2f5d09",
   "metadata": {
    "pycharm": {
     "name": "#%%\n"
    }
   },
   "outputs": [
    {
     "data": {
      "text/plain": [
       "3"
      ]
     },
     "execution_count": 25,
     "metadata": {},
     "output_type": "execute_result"
    }
   ],
   "source": [
    "len(set(df_cc['cclabel']))"
   ]
  },
  {
   "cell_type": "markdown",
   "id": "e1c8faf8-c127-43a2-a947-166ecb5c2d18",
   "metadata": {
    "pycharm": {
     "name": "#%% md\n"
    }
   },
   "source": [
    "### Size of components "
   ]
  },
  {
   "cell_type": "markdown",
   "id": "df8af0b7",
   "metadata": {
    "pycharm": {
     "name": "#%% md\n"
    }
   },
   "source": [
    "Calculate the size of the 3 connected components."
   ]
  },
  {
   "cell_type": "code",
   "execution_count": 26,
   "id": "a14abe9e-d240-446d-849a-faac644bfc6b",
   "metadata": {
    "pycharm": {
     "name": "#%%\n"
    }
   },
   "outputs": [
    {
     "data": {
      "text/html": [
       "<div>\n",
       "<style scoped>\n",
       "    .dataframe tbody tr th:only-of-type {\n",
       "        vertical-align: middle;\n",
       "    }\n",
       "\n",
       "    .dataframe tbody tr th {\n",
       "        vertical-align: top;\n",
       "    }\n",
       "\n",
       "    .dataframe thead th {\n",
       "        text-align: right;\n",
       "    }\n",
       "</style>\n",
       "<table border=\"1\" class=\"dataframe\">\n",
       "  <thead>\n",
       "    <tr style=\"text-align: right;\">\n",
       "      <th></th>\n",
       "      <th>cclabel</th>\n",
       "      <th>name</th>\n",
       "    </tr>\n",
       "  </thead>\n",
       "  <tbody>\n",
       "    <tr>\n",
       "      <th>0</th>\n",
       "      <td>-8637342647242242534</td>\n",
       "      <td>134</td>\n",
       "    </tr>\n",
       "    <tr>\n",
       "      <th>1</th>\n",
       "      <td>-6628080393138316116</td>\n",
       "      <td>3</td>\n",
       "    </tr>\n",
       "    <tr>\n",
       "      <th>2</th>\n",
       "      <td>-5499479516525190226</td>\n",
       "      <td>2</td>\n",
       "    </tr>\n",
       "  </tbody>\n",
       "</table>\n",
       "</div>"
      ],
      "text/plain": [
       "               cclabel  name\n",
       "0 -8637342647242242534   134\n",
       "1 -6628080393138316116     3\n",
       "2 -5499479516525190226     2"
      ]
     },
     "execution_count": 26,
     "metadata": {},
     "output_type": "execute_result"
    }
   ],
   "source": [
    "df_cc.groupby(['cclabel']).count().reset_index().drop(columns=['timestamp'])"
   ]
  },
  {
   "cell_type": "markdown",
   "id": "cf28d75d-fd26-4fae-a9a7-9f895698857c",
   "metadata": {
    "pycharm": {
     "name": "#%% md\n"
    }
   },
   "source": [
    "### Run chained algorithms at once "
   ]
  },
  {
   "cell_type": "markdown",
   "id": "8a1b9299",
   "metadata": {
    "pycharm": {
     "name": "#%% md\n"
    }
   },
   "source": [
    "In this example, we chain PageRank, Connected Components and Degree algorithms, running them one after another on the graph. Specify all the columns in the output dataframe, including an output column for each algorithm in the chain."
   ]
  },
  {
   "cell_type": "code",
   "execution_count": 27,
   "id": "c74e8247-91f2-4889-b013-5450a3ee4da2",
   "metadata": {
    "pycharm": {
     "name": "#%%\n"
    }
   },
   "outputs": [
    {
     "name": "stdout",
     "output_type": "stream",
     "text": [
      "18:04:55.119 [io-compute-blocker-3] INFO  com.raphtory.api.querytracker.TableOutputTracker - Job PageRank:ConnectedComponents:Degree:NodeList_8208734138950122414: Starting query progress tracker.\n",
      "18:04:55.119 [io-compute-blocker-3] INFO  com.raphtory.api.querytracker.TableOutputTracker - Job PageRank:ConnectedComponents:Degree:NodeList_8208734138950122414: Starting output collector.\n",
      "18:04:55.125 [spawner-akka.actor.default-dispatcher-9] INFO  com.raphtory.internals.components.querymanager.QueryManager - Query 'PageRank:ConnectedComponents:Degree:NodeList_8208734138950122414' received, your job ID is 'PageRank:ConnectedComponents:Degree:NodeList_8208734138950122414'.\n",
      "18:04:55.125 [spawner-akka.actor.default-dispatcher-11] INFO  com.raphtory.internals.components.partition.QueryExecutor - PageRank:ConnectedComponents:Degree:NodeList_8208734138950122414_0: Starting QueryExecutor.\n",
      "18:04:55.167 [spawner-akka.actor.default-dispatcher-11] INFO  com.raphtory.internals.components.querymanager.QueryHandler - Job 'PageRank:ConnectedComponents:Degree:NodeList_8208734138950122414': Perspective at Time '32674' took 41 ms to run. \n",
      "18:04:55.177 [spawner-akka.actor.default-dispatcher-10] INFO  com.raphtory.api.querytracker.TableOutputTracker - Job 'PageRank:ConnectedComponents:Degree:NodeList_8208734138950122414': Perspective '32674' finished after 59 ms.\n",
      "18:04:55.177 [spawner-akka.actor.default-dispatcher-10] INFO  com.raphtory.api.querytracker.TableOutputTracker - Job PageRank:ConnectedComponents:Degree:NodeList_8208734138950122414: Running query, processed 1 perspectives.\n",
      "18:04:55.177 [spawner-akka.actor.default-dispatcher-10] INFO  com.raphtory.api.querytracker.TableOutputTracker - Job PageRank:ConnectedComponents:Degree:NodeList_8208734138950122414: Query completed with 1 perspectives and finished in 59 ms.\n"
     ]
    }
   ],
   "source": [
    "cols = [\"inDegree\", \"outDegree\", \"degree\",\"prlabel\",\"cclabel\"]\n",
    "\n",
    "df_chained = graph.at(32674) \\\n",
    "                .past() \\\n",
    "                .transform(PyRaphtory.algorithms.generic.centrality.PageRank())\\\n",
    "                .transform(PyRaphtory.algorithms.generic.ConnectedComponents)\\\n",
    "                .transform(PyRaphtory.algorithms.generic.centrality.Degree())\\\n",
    "                .execute(PyRaphtory.algorithms.generic.NodeList(*cols)) \\\n",
    "                .to_df([\"name\"] + cols)"
   ]
  },
  {
   "cell_type": "code",
   "execution_count": 28,
   "id": "04410753-14f1-4004-bda3-bf9034629f4c",
   "metadata": {
    "pycharm": {
     "name": "#%%\n"
    }
   },
   "outputs": [],
   "source": [
    "df_chained.drop(columns=['window'], inplace=True)"
   ]
  },
  {
   "cell_type": "code",
   "execution_count": 29,
   "id": "9ba2fd2b-a608-4097-9916-758eac389047",
   "metadata": {
    "pycharm": {
     "name": "#%%\n"
    }
   },
   "outputs": [],
   "source": [
    "df_chained['degree_numeric'] = df_chained['degree'].astype(float)"
   ]
  },
  {
   "cell_type": "code",
   "execution_count": 30,
   "id": "cd8ee995",
   "metadata": {
    "pycharm": {
     "name": "#%%\n"
    }
   },
   "outputs": [
    {
     "data": {
      "text/html": [
       "<div>\n",
       "<style scoped>\n",
       "    .dataframe tbody tr th:only-of-type {\n",
       "        vertical-align: middle;\n",
       "    }\n",
       "\n",
       "    .dataframe tbody tr th {\n",
       "        vertical-align: top;\n",
       "    }\n",
       "\n",
       "    .dataframe thead th {\n",
       "        text-align: right;\n",
       "    }\n",
       "</style>\n",
       "<table border=\"1\" class=\"dataframe\">\n",
       "  <thead>\n",
       "    <tr style=\"text-align: right;\">\n",
       "      <th></th>\n",
       "      <th>timestamp</th>\n",
       "      <th>name</th>\n",
       "      <th>inDegree</th>\n",
       "      <th>outDegree</th>\n",
       "      <th>degree</th>\n",
       "      <th>prlabel</th>\n",
       "      <th>cclabel</th>\n",
       "      <th>degree_numeric</th>\n",
       "    </tr>\n",
       "  </thead>\n",
       "  <tbody>\n",
       "    <tr>\n",
       "      <th>0</th>\n",
       "      <td>32674</td>\n",
       "      <td>Hirgon</td>\n",
       "      <td>0</td>\n",
       "      <td>2</td>\n",
       "      <td>2</td>\n",
       "      <td>0.277968</td>\n",
       "      <td>-8637342647242242534</td>\n",
       "      <td>2.0</td>\n",
       "    </tr>\n",
       "    <tr>\n",
       "      <th>1</th>\n",
       "      <td>32674</td>\n",
       "      <td>Hador</td>\n",
       "      <td>2</td>\n",
       "      <td>1</td>\n",
       "      <td>3</td>\n",
       "      <td>0.459710</td>\n",
       "      <td>-8637342647242242534</td>\n",
       "      <td>3.0</td>\n",
       "    </tr>\n",
       "    <tr>\n",
       "      <th>2</th>\n",
       "      <td>32674</td>\n",
       "      <td>Horn</td>\n",
       "      <td>3</td>\n",
       "      <td>1</td>\n",
       "      <td>4</td>\n",
       "      <td>0.522389</td>\n",
       "      <td>-8637342647242242534</td>\n",
       "      <td>4.0</td>\n",
       "    </tr>\n",
       "    <tr>\n",
       "      <th>3</th>\n",
       "      <td>32674</td>\n",
       "      <td>Galadriel</td>\n",
       "      <td>16</td>\n",
       "      <td>6</td>\n",
       "      <td>19</td>\n",
       "      <td>2.228852</td>\n",
       "      <td>-8637342647242242534</td>\n",
       "      <td>19.0</td>\n",
       "    </tr>\n",
       "    <tr>\n",
       "      <th>4</th>\n",
       "      <td>32674</td>\n",
       "      <td>Isildur</td>\n",
       "      <td>0</td>\n",
       "      <td>18</td>\n",
       "      <td>18</td>\n",
       "      <td>0.277968</td>\n",
       "      <td>-8637342647242242534</td>\n",
       "      <td>18.0</td>\n",
       "    </tr>\n",
       "    <tr>\n",
       "      <th>...</th>\n",
       "      <td>...</td>\n",
       "      <td>...</td>\n",
       "      <td>...</td>\n",
       "      <td>...</td>\n",
       "      <td>...</td>\n",
       "      <td>...</td>\n",
       "      <td>...</td>\n",
       "      <td>...</td>\n",
       "    </tr>\n",
       "    <tr>\n",
       "      <th>134</th>\n",
       "      <td>32674</td>\n",
       "      <td>Faramir</td>\n",
       "      <td>29</td>\n",
       "      <td>3</td>\n",
       "      <td>29</td>\n",
       "      <td>8.551166</td>\n",
       "      <td>-8637342647242242534</td>\n",
       "      <td>29.0</td>\n",
       "    </tr>\n",
       "    <tr>\n",
       "      <th>135</th>\n",
       "      <td>32674</td>\n",
       "      <td>Bain</td>\n",
       "      <td>1</td>\n",
       "      <td>1</td>\n",
       "      <td>2</td>\n",
       "      <td>0.396105</td>\n",
       "      <td>-6628080393138316116</td>\n",
       "      <td>2.0</td>\n",
       "    </tr>\n",
       "    <tr>\n",
       "      <th>136</th>\n",
       "      <td>32674</td>\n",
       "      <td>Walda</td>\n",
       "      <td>10</td>\n",
       "      <td>3</td>\n",
       "      <td>13</td>\n",
       "      <td>0.817198</td>\n",
       "      <td>-8637342647242242534</td>\n",
       "      <td>13.0</td>\n",
       "    </tr>\n",
       "    <tr>\n",
       "      <th>137</th>\n",
       "      <td>32674</td>\n",
       "      <td>Thranduil</td>\n",
       "      <td>2</td>\n",
       "      <td>0</td>\n",
       "      <td>2</td>\n",
       "      <td>0.761719</td>\n",
       "      <td>-8637342647242242534</td>\n",
       "      <td>2.0</td>\n",
       "    </tr>\n",
       "    <tr>\n",
       "      <th>138</th>\n",
       "      <td>32674</td>\n",
       "      <td>Boromir</td>\n",
       "      <td>17</td>\n",
       "      <td>6</td>\n",
       "      <td>18</td>\n",
       "      <td>4.824014</td>\n",
       "      <td>-8637342647242242534</td>\n",
       "      <td>18.0</td>\n",
       "    </tr>\n",
       "  </tbody>\n",
       "</table>\n",
       "<p>139 rows × 8 columns</p>\n",
       "</div>"
      ],
      "text/plain": [
       "     timestamp       name  inDegree  outDegree  degree   prlabel  \\\n",
       "0        32674     Hirgon         0          2       2  0.277968   \n",
       "1        32674      Hador         2          1       3  0.459710   \n",
       "2        32674       Horn         3          1       4  0.522389   \n",
       "3        32674  Galadriel        16          6      19  2.228852   \n",
       "4        32674    Isildur         0         18      18  0.277968   \n",
       "..         ...        ...       ...        ...     ...       ...   \n",
       "134      32674    Faramir        29          3      29  8.551166   \n",
       "135      32674       Bain         1          1       2  0.396105   \n",
       "136      32674      Walda        10          3      13  0.817198   \n",
       "137      32674  Thranduil         2          0       2  0.761719   \n",
       "138      32674    Boromir        17          6      18  4.824014   \n",
       "\n",
       "                 cclabel  degree_numeric  \n",
       "0   -8637342647242242534             2.0  \n",
       "1   -8637342647242242534             3.0  \n",
       "2   -8637342647242242534             4.0  \n",
       "3   -8637342647242242534            19.0  \n",
       "4   -8637342647242242534            18.0  \n",
       "..                   ...             ...  \n",
       "134 -8637342647242242534            29.0  \n",
       "135 -6628080393138316116             2.0  \n",
       "136 -8637342647242242534            13.0  \n",
       "137 -8637342647242242534             2.0  \n",
       "138 -8637342647242242534            18.0  \n",
       "\n",
       "[139 rows x 8 columns]"
      ]
     },
     "execution_count": 30,
     "metadata": {},
     "output_type": "execute_result"
    }
   ],
   "source": [
    "df_chained"
   ]
  },
  {
   "cell_type": "markdown",
   "id": "ad1d0a0e-1ed4-468a-b60e-1b657e0550db",
   "metadata": {
    "pycharm": {
     "name": "#%% md\n"
    },
    "tags": []
   },
   "source": [
    "### Create visualisation by adding nodes 🔎"
   ]
  },
  {
   "cell_type": "code",
   "execution_count": 31,
   "id": "a00922aa-91e1-49d1-a8eb-b36e49cc504b",
   "metadata": {
    "pycharm": {
     "name": "#%%\n"
    },
    "tags": []
   },
   "outputs": [],
   "source": [
    "def visualise(graph, df_chained):\n",
    "    # Create network object\n",
    "    net = Network(notebook=True, height='750px', width='100%', bgcolor='#222222', font_color='white')\n",
    "    # Set visualisation tool\n",
    "    net.force_atlas_2based()\n",
    "    # Get the node list \n",
    "    df_node_list = graph.at(32674) \\\n",
    "                .past() \\\n",
    "                .execute(PyRaphtory.algorithms.generic.NodeList()) \\\n",
    "                .to_df(['name'])\n",
    "    \n",
    "    nodes = df_node_list['name'].tolist()\n",
    "    \n",
    "    node_data = []\n",
    "    ignore_items = ['timestamp', 'name', 'window']\n",
    "    for node_name in nodes:\n",
    "        for i, row in df_chained.iterrows():\n",
    "            if row['name']==node_name:\n",
    "                data = ''\n",
    "                for k,v in row.iteritems():\n",
    "                    if k not in ignore_items:\n",
    "                        data = data+str(k)+': '+str(v)+'\\n'\n",
    "                node_data.append(data)\n",
    "                continue\n",
    "    # Add the nodes\n",
    "    net.add_nodes(nodes, title=node_data, value = df_chained.prlabel)\n",
    "    # Get the edge list\n",
    "    df_edge_list = graph.at(32674) \\\n",
    "            .past() \\\n",
    "            .execute(PyRaphtory.algorithms.generic.EdgeList()) \\\n",
    "            .to_df(['from', 'to'])\n",
    "    edges = []\n",
    "    for i, row in df_edge_list[['from', 'to']].iterrows():\n",
    "        edges.append([row['from'], row['to']])\n",
    "    # Add the edges\n",
    "    net.add_edges(edges)\n",
    "    # Toggle physics\n",
    "    net.toggle_physics(True)\n",
    "    return net"
   ]
  },
  {
   "cell_type": "code",
   "execution_count": 32,
   "id": "ff09c0bd-8344-481a-9d95-4b91b464f047",
   "metadata": {
    "pycharm": {
     "name": "#%%\n"
    },
    "scrolled": true,
    "tags": []
   },
   "outputs": [
    {
     "name": "stdout",
     "output_type": "stream",
     "text": [
      "Local cdn resources have problems on chrome/safari when used in jupyter-notebook. \n",
      "18:05:06.369 [io-compute-blocker-5] INFO  com.raphtory.api.querytracker.TableOutputTracker - Job NodeList_2344593067198146744: Starting query progress tracker.\n",
      "18:05:06.370 [io-compute-blocker-5] INFO  com.raphtory.api.querytracker.TableOutputTracker - Job NodeList_2344593067198146744: Starting output collector.\n",
      "18:05:06.371 [spawner-akka.actor.default-dispatcher-5] INFO  com.raphtory.internals.components.querymanager.QueryManager - Query 'NodeList_2344593067198146744' received, your job ID is 'NodeList_2344593067198146744'.\n",
      "18:05:06.372 [spawner-akka.actor.default-dispatcher-8] INFO  com.raphtory.internals.components.partition.QueryExecutor - NodeList_2344593067198146744_0: Starting QueryExecutor.\n",
      "18:05:06.387 [spawner-akka.actor.default-dispatcher-11] INFO  com.raphtory.internals.components.querymanager.QueryHandler - Job 'NodeList_2344593067198146744': Perspective at Time '32674' took 14 ms to run. \n",
      "18:05:06.395 [spawner-akka.actor.default-dispatcher-9] INFO  com.raphtory.api.querytracker.TableOutputTracker - Job 'NodeList_2344593067198146744': Perspective '32674' finished after 26 ms.\n",
      "18:05:06.395 [spawner-akka.actor.default-dispatcher-9] INFO  com.raphtory.api.querytracker.TableOutputTracker - Job NodeList_2344593067198146744: Running query, processed 1 perspectives.\n",
      "18:05:06.395 [spawner-akka.actor.default-dispatcher-9] INFO  com.raphtory.api.querytracker.TableOutputTracker - Job NodeList_2344593067198146744: Query completed with 1 perspectives and finished in 26 ms.\n"
     ]
    },
    {
     "name": "stderr",
     "output_type": "stream",
     "text": [
      "/var/folders/9l/ybk13fvx5zq2_m3hfj41y7bc0000gn/T/ipykernel_25869/3712841421.py:20: FutureWarning: iteritems is deprecated and will be removed in a future version. Use .items instead.\n",
      "  for k,v in row.iteritems():\n"
     ]
    },
    {
     "name": "stdout",
     "output_type": "stream",
     "text": [
      "18:05:07.213 [io-compute-blocker-4] INFO  com.raphtory.api.querytracker.TableOutputTracker - Job EdgeList_180052264941691119: Starting query progress tracker.\n",
      "18:05:07.214 [io-compute-blocker-4] INFO  com.raphtory.api.querytracker.TableOutputTracker - Job EdgeList_180052264941691119: Starting output collector.\n",
      "18:05:07.217 [spawner-akka.actor.default-dispatcher-7] INFO  com.raphtory.internals.components.querymanager.QueryManager - Query 'EdgeList_180052264941691119' received, your job ID is 'EdgeList_180052264941691119'.\n",
      "18:05:07.217 [spawner-akka.actor.default-dispatcher-3] INFO  com.raphtory.internals.components.partition.QueryExecutor - EdgeList_180052264941691119_0: Starting QueryExecutor.\n",
      "18:05:07.230 [spawner-akka.actor.default-dispatcher-8] INFO  com.raphtory.internals.components.querymanager.QueryHandler - Job 'EdgeList_180052264941691119': Perspective at Time '32674' took 12 ms to run. \n",
      "18:05:07.270 [spawner-akka.actor.default-dispatcher-6] INFO  com.raphtory.api.querytracker.TableOutputTracker - Job 'EdgeList_180052264941691119': Perspective '32674' finished after 57 ms.\n",
      "18:05:07.270 [spawner-akka.actor.default-dispatcher-6] INFO  com.raphtory.api.querytracker.TableOutputTracker - Job EdgeList_180052264941691119: Running query, processed 1 perspectives.\n",
      "18:05:07.270 [spawner-akka.actor.default-dispatcher-6] INFO  com.raphtory.api.querytracker.TableOutputTracker - Job EdgeList_180052264941691119: Query completed with 1 perspectives and finished in 57 ms.\n"
     ]
    }
   ],
   "source": [
    "net = visualise(graph, df_chained)"
   ]
  },
  {
   "cell_type": "markdown",
   "id": "8f50bc59",
   "metadata": {
    "pycharm": {
     "name": "#%% md\n"
    }
   },
   "source": [
    "## Show the html file of the visualisation"
   ]
  },
  {
   "cell_type": "code",
   "execution_count": 33,
   "id": "a0602b9f-4915-4215-9f56-fa340a658efe",
   "metadata": {
    "pycharm": {
     "name": "#%%\n"
    }
   },
   "outputs": [
    {
     "data": {
      "text/html": [
       "net.show('preview.html')\n"
      ],
      "text/plain": [
       "<IPython.core.display.HTML object>"
      ]
     },
     "metadata": {},
     "output_type": "display_data"
    }
   ],
   "source": [
    "%%html\n",
    "net.show('preview.html')"
   ]
  },
  {
   "cell_type": "markdown",
   "id": "d6c36abf",
   "metadata": {
    "pycharm": {
     "name": "#%% md\n"
    }
   },
   "source": [
    "## Shut down PyRaphtory  🛑"
   ]
  },
  {
   "cell_type": "code",
   "execution_count": 35,
   "id": "dc5c2c1f",
   "metadata": {
    "jupyter": {
     "outputs_hidden": false
    },
    "pycharm": {
     "name": "#%%\n"
    }
   },
   "outputs": [
    {
     "name": "stdout",
     "output_type": "stream",
     "text": [
      "18:05:31.068 [spawner-akka.actor.default-dispatcher-6] INFO  akka.actor.CoordinatedShutdown - Running CoordinatedShutdown with reason [ActorSystemTerminateReason]\n"
     ]
    }
   ],
   "source": [
    "ctx.close()"
   ]
  },
  {
   "cell_type": "code",
   "execution_count": null,
   "id": "3b9c6c82",
   "metadata": {
    "pycharm": {
     "name": "#%%\n"
    }
   },
   "outputs": [],
   "source": []
  }
 ],
 "metadata": {
  "kernelspec": {
   "display_name": "Python 3 (ipykernel)",
   "language": "python",
   "name": "python3"
  },
  "language_info": {
   "codemirror_mode": {
    "name": "ipython",
    "version": 3
   },
   "file_extension": ".py",
   "mimetype": "text/x-python",
   "name": "python",
   "nbconvert_exporter": "python",
   "pygments_lexer": "ipython3",
   "version": "3.9.13"
  },
  "vscode": {
   "interpreter": {
    "hash": "6a6883e53c22eb800f1dd2764e6034b0092229ebd36154d4214f8abf0f6aadd2"
   }
  }
 },
 "nbformat": 4,
 "nbformat_minor": 5
}
