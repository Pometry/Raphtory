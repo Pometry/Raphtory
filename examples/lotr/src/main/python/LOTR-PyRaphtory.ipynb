{
 "cells": [
  {
   "cell_type": "markdown",
   "id": "33e30c37",
   "metadata": {},
   "source": [
    "# Lord Of The Rings PyRaphtory Example Notebook 🧝🏻‍♀️🧙🏻‍♂️💍"
   ]
  },
  {
   "cell_type": "markdown",
   "id": "7623b0bb-1409-4711-bbc0-a2fa2a93027f",
   "metadata": {},
   "source": [
    "## Setup environment and download data 💾"
   ]
  },
  {
   "cell_type": "markdown",
   "id": "8c1692af",
   "metadata": {},
   "source": [
    "Import all necessary dependencies needed to build a graph from your data in PyRaphtory. Download csv data from github into your tmp folder (file path: /tmp/lotr.csv)."
   ]
  },
  {
   "cell_type": "code",
   "execution_count": 1,
   "id": "8f6eaa88",
   "metadata": {
    "jupyter": {
     "outputs_hidden": false
    },
    "pycharm": {
     "name": "#%%\n"
    }
   },
   "outputs": [
    {
     "name": "stdout",
     "output_type": "stream",
     "text": [
      "  % Total    % Received % Xferd  Average Speed   Time    Time     Time  Current\n",
      "                                 Dload  Upload   Total   Spent    Left  Speed\n",
      "100 52206  100 52206    0     0   179k      0 --:--:-- --:--:-- --:--:--  182k\n"
     ]
    }
   ],
   "source": [
    "from pathlib import Path\n",
    "from pyraphtory.context import PyRaphtory\n",
    "from pyraphtory.vertex import Vertex\n",
    "from pyraphtory.spouts import FileSpout\n",
    "from pyraphtory.builder import *\n",
    "from pyvis.network import Network\n",
    "import csv\n",
    "import pandas as pd\n",
    "import numpy as np\n",
    "\n",
    "!curl -o /tmp/lotr.csv https://raw.githubusercontent.com/Raphtory/Data/main/lotr.csv"
   ]
  },
  {
   "cell_type": "markdown",
   "id": "296d3970-531a-455a-8a9a-8ec1db88b9ea",
   "metadata": {},
   "source": [
    "## Preview data  👀"
   ]
  },
  {
   "cell_type": "markdown",
   "id": "2a94f750",
   "metadata": {},
   "source": [
    "Preview the head of the dataset."
   ]
  },
  {
   "cell_type": "code",
   "execution_count": 2,
   "id": "e93fbf02-e215-4c9c-a823-4c39217c359c",
   "metadata": {
    "scrolled": true
   },
   "outputs": [
    {
     "name": "stdout",
     "output_type": "stream",
     "text": [
      "Gandalf,Elrond,33\n",
      "Frodo,Bilbo,114\n",
      "Blanco,Marcho,146\n",
      "Frodo,Bilbo,205\n",
      "Thorin,Gandalf,270\n",
      "Thorin,Bilbo,270\n",
      "Gandalf,Bilbo,270\n",
      "Gollum,Bilbo,286\n",
      "Gollum,Bilbo,306\n",
      "Gollum,Bilbo,308\n"
     ]
    }
   ],
   "source": [
    "!head /tmp/lotr.csv"
   ]
  },
  {
   "cell_type": "code",
   "execution_count": 3,
   "id": "2b941737",
   "metadata": {},
   "outputs": [],
   "source": [
    "filename = '/tmp/lotr.csv'"
   ]
  },
  {
   "cell_type": "markdown",
   "id": "fe932a96-e2f2-44e3-b36d-baf95ed94924",
   "metadata": {},
   "source": [
    "## Create a new Raphtory graph 📊"
   ]
  },
  {
   "cell_type": "markdown",
   "id": "646c021f",
   "metadata": {},
   "source": [
    "Turn on logs to see what is going on in PyRaphtory. Initialise Raphtory by creating a PyRaphtory object. Create your new graph."
   ]
  },
  {
   "cell_type": "code",
   "execution_count": 4,
   "id": "46115d4d",
   "metadata": {
    "jupyter": {
     "outputs_hidden": false
    },
    "pycharm": {
     "name": "#%%\n"
    }
   },
   "outputs": [
    {
     "name": "stdout",
     "output_type": "stream",
     "text": [
      "20:37:31.796 [io-compute-blocker-4] INFO  com.raphtory.internals.management.Py4JServer - Starting PythonGatewayServer...\n",
      "Port: 61827\n",
      "Secret: cfa0f59ded76b25a2c1bbabc145dd768865bf3f0b9682377eb85fa2700104068\n"
     ]
    },
    {
     "name": "stderr",
     "output_type": "stream",
     "text": [
      "WARNING: An illegal reflective access operation has occurred\n",
      "WARNING: Illegal reflective access by py4j.reflection.MethodInvoker$1 (file:/Users/naomiarnold/miniconda3/envs/raphtoryenv/lib/python3.9/site-packages/lib/core-assembly-0.2.0a1.jar) to method java.util.AbstractMap$1.iterator()\n",
      "WARNING: Please consider reporting this to the maintainers of py4j.reflection.MethodInvoker$1\n",
      "WARNING: Use --illegal-access=warn to enable warnings of further illegal reflective access operations\n",
      "WARNING: All illegal access operations will be denied in a future release\n"
     ]
    },
    {
     "name": "stdout",
     "output_type": "stream",
     "text": [
      "20:37:32.514 [Thread-12] INFO  com.raphtory.internals.context.LocalContext$ - Creating Service for 'random_bisque_koi'\n",
      "20:37:32.532 [io-compute-blocker-1] INFO  com.raphtory.internals.management.Prometheus$ - Prometheus started on port /0:0:0:0:0:0:0:0:9999\n",
      "20:37:33.243 [io-compute-blocker-1] INFO  com.raphtory.internals.components.partition.PartitionOrchestrator$ - Creating '1' Partition Managers for 'random_bisque_koi'.\n",
      "20:37:34.260 [io-compute-blocker-4] INFO  com.raphtory.internals.components.partition.PartitionManager - Partition 0: Starting partition manager for 'random_bisque_koi'.\n"
     ]
    }
   ],
   "source": [
    "pr = PyRaphtory(logging=True).open()\n",
    "rg = pr.new_graph()"
   ]
  },
  {
   "cell_type": "markdown",
   "id": "ce0c59cf-2833-4809-a325-e354d42e09fd",
   "metadata": {},
   "source": [
    "## Ingest the data into a graph 😋"
   ]
  },
  {
   "cell_type": "markdown",
   "id": "e1f3fab9",
   "metadata": {},
   "source": [
    "Write a parsing method to parse your csv file and ultimately create a graph."
   ]
  },
  {
   "cell_type": "code",
   "execution_count": 5,
   "id": "7757b8c0",
   "metadata": {},
   "outputs": [],
   "source": [
    "with open(filename, 'r') as csvfile:\n",
    "    datareader = csv.reader(csvfile)\n",
    "    for row in datareader:\n",
    "        source_node = row[0]\n",
    "        src_id = rg.assign_id(source_node)\n",
    "        target_node = row[1]\n",
    "        tar_id = rg.assign_id(target_node)\n",
    "        time_stamp = int(row[2])\n",
    "        rg.add_vertex(time_stamp, src_id, Properties(ImmutableProperty(\"name\", source_node)), Type(\"Character\"))\n",
    "        rg.add_vertex(time_stamp, tar_id, Properties(ImmutableProperty(\"name\", target_node)), Type(\"Character\"))\n",
    "        rg.add_edge(time_stamp, src_id, tar_id, Type(\"Character_Co-occurence\"))"
   ]
  },
  {
   "cell_type": "markdown",
   "id": "bcc44109-e5a5-421e-8615-e86febbd0569",
   "metadata": {},
   "source": [
    "## Collect simple metrics 📈"
   ]
  },
  {
   "cell_type": "markdown",
   "id": "bb0d5bb0",
   "metadata": {},
   "source": [
    "Select certain metrics to show in your output dataframe. Here we have selected vertex name, degree, out degree and in degree. "
   ]
  },
  {
   "cell_type": "code",
   "execution_count": 6,
   "id": "ec76c281-7e4b-4ae9-8469-e24458eaaa74",
   "metadata": {},
   "outputs": [
    {
     "name": "stdout",
     "output_type": "stream",
     "text": [
      "20:37:53.760 [spawner-akka.actor.default-dispatcher-3] INFO  com.raphtory.internals.components.querymanager.QueryManager - Source '0' is unblocking analysis for Graph 'random_bisque_koi' with 7947 messages sent. Latest update time was 32674\n",
      "20:37:53.763 [io-compute-blocker-1] INFO  com.raphtory.api.querytracker.QueryProgressTracker - Job 708796223_4046664532663839721: Starting query progress tracker.\n",
      "20:37:53.766 [spawner-akka.actor.default-dispatcher-3] INFO  com.raphtory.internals.components.querymanager.QueryManager - Source 0 has completed ingesting and will now unblock\n",
      "20:37:53.766 [spawner-akka.actor.default-dispatcher-3] INFO  com.raphtory.internals.components.querymanager.QueryManager - Query '708796223_4046664532663839721' received, your job ID is '708796223_4046664532663839721'.\n",
      "20:37:53.774 [spawner-akka.actor.default-dispatcher-6] INFO  com.raphtory.internals.components.partition.QueryExecutor - 708796223_4046664532663839721_0: Starting QueryExecutor.\n",
      "20:37:53.832 [io-compute-blocker-8] INFO  com.raphtory.api.analysis.table.TableOutputTracker - Job 708796223_4046664532663839721: Starting output collector.\n",
      "20:37:54.889 [spawner-akka.actor.default-dispatcher-6] INFO  com.raphtory.api.querytracker.QueryProgressTracker - Job '708796223_4046664532663839721': Perspective '32674' finished in 1127 ms.\n",
      "20:37:54.889 [spawner-akka.actor.default-dispatcher-6] INFO  com.raphtory.api.querytracker.QueryProgressTracker - Job 708796223_4046664532663839721: Running query, processed 1 perspectives.\n",
      "20:37:54.889 [spawner-akka.actor.default-dispatcher-7] INFO  com.raphtory.internals.components.querymanager.QueryHandler - Job '708796223_4046664532663839721': Perspective at Time '32674' took 932 ms to run. \n",
      "20:37:54.896 [spawner-akka.actor.default-dispatcher-7] INFO  com.raphtory.api.querytracker.QueryProgressTracker - Job 708796223_4046664532663839721: Query completed with 1 perspectives and finished in 1134 ms.\n"
     ]
    }
   ],
   "source": [
    "from pyraphtory.graph import Row\n",
    "df = rg \\\n",
    "      .select(lambda vertex: Row(vertex.name(), vertex.degree(), vertex.out_degree(), vertex.in_degree())) \\\n",
    "      .to_df([\"name\", \"degree\", \"out_degree\", \"in_degree\"])"
   ]
  },
  {
   "cell_type": "markdown",
   "id": "f7c3a58f",
   "metadata": {},
   "source": [
    "**Clean the dataframe, we have deleted the unused window column.** 🧹"
   ]
  },
  {
   "cell_type": "code",
   "execution_count": 7,
   "id": "dd5b651d-95f0-4e01-8203-43c8021e05d6",
   "metadata": {},
   "outputs": [],
   "source": [
    "## clean\n",
    "df.drop(columns=['window'], inplace=True)"
   ]
  },
  {
   "cell_type": "markdown",
   "id": "997170b7",
   "metadata": {},
   "source": [
    "### Preview the dataframe  👀"
   ]
  },
  {
   "cell_type": "code",
   "execution_count": 8,
   "id": "f21dcbcb-8c5c-4a10-91b3-767fdcc6b562",
   "metadata": {},
   "outputs": [
    {
     "data": {
      "text/html": [
       "<div>\n",
       "<style scoped>\n",
       "    .dataframe tbody tr th:only-of-type {\n",
       "        vertical-align: middle;\n",
       "    }\n",
       "\n",
       "    .dataframe tbody tr th {\n",
       "        vertical-align: top;\n",
       "    }\n",
       "\n",
       "    .dataframe thead th {\n",
       "        text-align: right;\n",
       "    }\n",
       "</style>\n",
       "<table border=\"1\" class=\"dataframe\">\n",
       "  <thead>\n",
       "    <tr style=\"text-align: right;\">\n",
       "      <th></th>\n",
       "      <th>timestamp</th>\n",
       "      <th>name</th>\n",
       "      <th>degree</th>\n",
       "      <th>out_degree</th>\n",
       "      <th>in_degree</th>\n",
       "    </tr>\n",
       "  </thead>\n",
       "  <tbody>\n",
       "    <tr>\n",
       "      <th>0</th>\n",
       "      <td>32674</td>\n",
       "      <td>Hirgon</td>\n",
       "      <td>2</td>\n",
       "      <td>2</td>\n",
       "      <td>0</td>\n",
       "    </tr>\n",
       "    <tr>\n",
       "      <th>1</th>\n",
       "      <td>32674</td>\n",
       "      <td>Hador</td>\n",
       "      <td>3</td>\n",
       "      <td>1</td>\n",
       "      <td>2</td>\n",
       "    </tr>\n",
       "    <tr>\n",
       "      <th>2</th>\n",
       "      <td>32674</td>\n",
       "      <td>Horn</td>\n",
       "      <td>4</td>\n",
       "      <td>1</td>\n",
       "      <td>3</td>\n",
       "    </tr>\n",
       "    <tr>\n",
       "      <th>3</th>\n",
       "      <td>32674</td>\n",
       "      <td>Galadriel</td>\n",
       "      <td>19</td>\n",
       "      <td>6</td>\n",
       "      <td>16</td>\n",
       "    </tr>\n",
       "    <tr>\n",
       "      <th>4</th>\n",
       "      <td>32674</td>\n",
       "      <td>Isildur</td>\n",
       "      <td>18</td>\n",
       "      <td>18</td>\n",
       "      <td>0</td>\n",
       "    </tr>\n",
       "    <tr>\n",
       "      <th>...</th>\n",
       "      <td>...</td>\n",
       "      <td>...</td>\n",
       "      <td>...</td>\n",
       "      <td>...</td>\n",
       "      <td>...</td>\n",
       "    </tr>\n",
       "    <tr>\n",
       "      <th>134</th>\n",
       "      <td>32674</td>\n",
       "      <td>Faramir</td>\n",
       "      <td>29</td>\n",
       "      <td>3</td>\n",
       "      <td>29</td>\n",
       "    </tr>\n",
       "    <tr>\n",
       "      <th>135</th>\n",
       "      <td>32674</td>\n",
       "      <td>Bain</td>\n",
       "      <td>2</td>\n",
       "      <td>1</td>\n",
       "      <td>1</td>\n",
       "    </tr>\n",
       "    <tr>\n",
       "      <th>136</th>\n",
       "      <td>32674</td>\n",
       "      <td>Walda</td>\n",
       "      <td>13</td>\n",
       "      <td>3</td>\n",
       "      <td>10</td>\n",
       "    </tr>\n",
       "    <tr>\n",
       "      <th>137</th>\n",
       "      <td>32674</td>\n",
       "      <td>Thranduil</td>\n",
       "      <td>2</td>\n",
       "      <td>0</td>\n",
       "      <td>2</td>\n",
       "    </tr>\n",
       "    <tr>\n",
       "      <th>138</th>\n",
       "      <td>32674</td>\n",
       "      <td>Boromir</td>\n",
       "      <td>18</td>\n",
       "      <td>6</td>\n",
       "      <td>17</td>\n",
       "    </tr>\n",
       "  </tbody>\n",
       "</table>\n",
       "<p>139 rows × 5 columns</p>\n",
       "</div>"
      ],
      "text/plain": [
       "     timestamp       name  degree  out_degree  in_degree\n",
       "0        32674     Hirgon       2           2          0\n",
       "1        32674      Hador       3           1          2\n",
       "2        32674       Horn       4           1          3\n",
       "3        32674  Galadriel      19           6         16\n",
       "4        32674    Isildur      18          18          0\n",
       "..         ...        ...     ...         ...        ...\n",
       "134      32674    Faramir      29           3         29\n",
       "135      32674       Bain       2           1          1\n",
       "136      32674      Walda      13           3         10\n",
       "137      32674  Thranduil       2           0          2\n",
       "138      32674    Boromir      18           6         17\n",
       "\n",
       "[139 rows x 5 columns]"
      ]
     },
     "execution_count": 8,
     "metadata": {},
     "output_type": "execute_result"
    }
   ],
   "source": [
    "df"
   ]
  },
  {
   "cell_type": "markdown",
   "id": "4eca6ccb-1b92-4807-bdf9-57733c6c386c",
   "metadata": {},
   "source": [
    "**Sort by highest degree, top 10**"
   ]
  },
  {
   "cell_type": "code",
   "execution_count": 9,
   "id": "ffcfe842-b022-4333-8886-a8ee0cd902d7",
   "metadata": {},
   "outputs": [
    {
     "data": {
      "text/html": [
       "<div>\n",
       "<style scoped>\n",
       "    .dataframe tbody tr th:only-of-type {\n",
       "        vertical-align: middle;\n",
       "    }\n",
       "\n",
       "    .dataframe tbody tr th {\n",
       "        vertical-align: top;\n",
       "    }\n",
       "\n",
       "    .dataframe thead th {\n",
       "        text-align: right;\n",
       "    }\n",
       "</style>\n",
       "<table border=\"1\" class=\"dataframe\">\n",
       "  <thead>\n",
       "    <tr style=\"text-align: right;\">\n",
       "      <th></th>\n",
       "      <th>timestamp</th>\n",
       "      <th>name</th>\n",
       "      <th>degree</th>\n",
       "      <th>out_degree</th>\n",
       "      <th>in_degree</th>\n",
       "    </tr>\n",
       "  </thead>\n",
       "  <tbody>\n",
       "    <tr>\n",
       "      <th>55</th>\n",
       "      <td>32674</td>\n",
       "      <td>Frodo</td>\n",
       "      <td>51</td>\n",
       "      <td>37</td>\n",
       "      <td>22</td>\n",
       "    </tr>\n",
       "    <tr>\n",
       "      <th>54</th>\n",
       "      <td>32674</td>\n",
       "      <td>Gandalf</td>\n",
       "      <td>49</td>\n",
       "      <td>35</td>\n",
       "      <td>24</td>\n",
       "    </tr>\n",
       "    <tr>\n",
       "      <th>97</th>\n",
       "      <td>32674</td>\n",
       "      <td>Aragorn</td>\n",
       "      <td>45</td>\n",
       "      <td>5</td>\n",
       "      <td>45</td>\n",
       "    </tr>\n",
       "    <tr>\n",
       "      <th>63</th>\n",
       "      <td>32674</td>\n",
       "      <td>Merry</td>\n",
       "      <td>34</td>\n",
       "      <td>23</td>\n",
       "      <td>18</td>\n",
       "    </tr>\n",
       "    <tr>\n",
       "      <th>32</th>\n",
       "      <td>32674</td>\n",
       "      <td>Pippin</td>\n",
       "      <td>34</td>\n",
       "      <td>30</td>\n",
       "      <td>10</td>\n",
       "    </tr>\n",
       "    <tr>\n",
       "      <th>56</th>\n",
       "      <td>32674</td>\n",
       "      <td>Elrond</td>\n",
       "      <td>32</td>\n",
       "      <td>18</td>\n",
       "      <td>24</td>\n",
       "    </tr>\n",
       "    <tr>\n",
       "      <th>52</th>\n",
       "      <td>32674</td>\n",
       "      <td>Théoden</td>\n",
       "      <td>30</td>\n",
       "      <td>22</td>\n",
       "      <td>9</td>\n",
       "    </tr>\n",
       "    <tr>\n",
       "      <th>134</th>\n",
       "      <td>32674</td>\n",
       "      <td>Faramir</td>\n",
       "      <td>29</td>\n",
       "      <td>3</td>\n",
       "      <td>29</td>\n",
       "    </tr>\n",
       "    <tr>\n",
       "      <th>118</th>\n",
       "      <td>32674</td>\n",
       "      <td>Sam</td>\n",
       "      <td>28</td>\n",
       "      <td>20</td>\n",
       "      <td>17</td>\n",
       "    </tr>\n",
       "    <tr>\n",
       "      <th>129</th>\n",
       "      <td>32674</td>\n",
       "      <td>Gimli</td>\n",
       "      <td>25</td>\n",
       "      <td>22</td>\n",
       "      <td>11</td>\n",
       "    </tr>\n",
       "  </tbody>\n",
       "</table>\n",
       "</div>"
      ],
      "text/plain": [
       "     timestamp     name  degree  out_degree  in_degree\n",
       "55       32674    Frodo      51          37         22\n",
       "54       32674  Gandalf      49          35         24\n",
       "97       32674  Aragorn      45           5         45\n",
       "63       32674    Merry      34          23         18\n",
       "32       32674   Pippin      34          30         10\n",
       "56       32674   Elrond      32          18         24\n",
       "52       32674  Théoden      30          22          9\n",
       "134      32674  Faramir      29           3         29\n",
       "118      32674      Sam      28          20         17\n",
       "129      32674    Gimli      25          22         11"
      ]
     },
     "execution_count": 9,
     "metadata": {},
     "output_type": "execute_result"
    }
   ],
   "source": [
    "df.sort_values(['degree'], ascending=False)[:10]"
   ]
  },
  {
   "cell_type": "markdown",
   "id": "143338c4-d126-4cf1-9db3-71a119b33b58",
   "metadata": {},
   "source": [
    "**Sort by highest in-degree, top 10**"
   ]
  },
  {
   "cell_type": "code",
   "execution_count": 10,
   "id": "67b4420a-e6f6-43d6-af3d-4a89ad764e3b",
   "metadata": {},
   "outputs": [
    {
     "data": {
      "text/html": [
       "<div>\n",
       "<style scoped>\n",
       "    .dataframe tbody tr th:only-of-type {\n",
       "        vertical-align: middle;\n",
       "    }\n",
       "\n",
       "    .dataframe tbody tr th {\n",
       "        vertical-align: top;\n",
       "    }\n",
       "\n",
       "    .dataframe thead th {\n",
       "        text-align: right;\n",
       "    }\n",
       "</style>\n",
       "<table border=\"1\" class=\"dataframe\">\n",
       "  <thead>\n",
       "    <tr style=\"text-align: right;\">\n",
       "      <th></th>\n",
       "      <th>timestamp</th>\n",
       "      <th>name</th>\n",
       "      <th>degree</th>\n",
       "      <th>out_degree</th>\n",
       "      <th>in_degree</th>\n",
       "    </tr>\n",
       "  </thead>\n",
       "  <tbody>\n",
       "    <tr>\n",
       "      <th>97</th>\n",
       "      <td>32674</td>\n",
       "      <td>Aragorn</td>\n",
       "      <td>45</td>\n",
       "      <td>5</td>\n",
       "      <td>45</td>\n",
       "    </tr>\n",
       "    <tr>\n",
       "      <th>134</th>\n",
       "      <td>32674</td>\n",
       "      <td>Faramir</td>\n",
       "      <td>29</td>\n",
       "      <td>3</td>\n",
       "      <td>29</td>\n",
       "    </tr>\n",
       "    <tr>\n",
       "      <th>54</th>\n",
       "      <td>32674</td>\n",
       "      <td>Gandalf</td>\n",
       "      <td>49</td>\n",
       "      <td>35</td>\n",
       "      <td>24</td>\n",
       "    </tr>\n",
       "    <tr>\n",
       "      <th>56</th>\n",
       "      <td>32674</td>\n",
       "      <td>Elrond</td>\n",
       "      <td>32</td>\n",
       "      <td>18</td>\n",
       "      <td>24</td>\n",
       "    </tr>\n",
       "    <tr>\n",
       "      <th>55</th>\n",
       "      <td>32674</td>\n",
       "      <td>Frodo</td>\n",
       "      <td>51</td>\n",
       "      <td>37</td>\n",
       "      <td>22</td>\n",
       "    </tr>\n",
       "    <tr>\n",
       "      <th>63</th>\n",
       "      <td>32674</td>\n",
       "      <td>Merry</td>\n",
       "      <td>34</td>\n",
       "      <td>23</td>\n",
       "      <td>18</td>\n",
       "    </tr>\n",
       "    <tr>\n",
       "      <th>138</th>\n",
       "      <td>32674</td>\n",
       "      <td>Boromir</td>\n",
       "      <td>18</td>\n",
       "      <td>6</td>\n",
       "      <td>17</td>\n",
       "    </tr>\n",
       "    <tr>\n",
       "      <th>118</th>\n",
       "      <td>32674</td>\n",
       "      <td>Sam</td>\n",
       "      <td>28</td>\n",
       "      <td>20</td>\n",
       "      <td>17</td>\n",
       "    </tr>\n",
       "    <tr>\n",
       "      <th>3</th>\n",
       "      <td>32674</td>\n",
       "      <td>Galadriel</td>\n",
       "      <td>19</td>\n",
       "      <td>6</td>\n",
       "      <td>16</td>\n",
       "    </tr>\n",
       "    <tr>\n",
       "      <th>132</th>\n",
       "      <td>32674</td>\n",
       "      <td>Legolas</td>\n",
       "      <td>25</td>\n",
       "      <td>18</td>\n",
       "      <td>16</td>\n",
       "    </tr>\n",
       "  </tbody>\n",
       "</table>\n",
       "</div>"
      ],
      "text/plain": [
       "     timestamp       name  degree  out_degree  in_degree\n",
       "97       32674    Aragorn      45           5         45\n",
       "134      32674    Faramir      29           3         29\n",
       "54       32674    Gandalf      49          35         24\n",
       "56       32674     Elrond      32          18         24\n",
       "55       32674      Frodo      51          37         22\n",
       "63       32674      Merry      34          23         18\n",
       "138      32674    Boromir      18           6         17\n",
       "118      32674        Sam      28          20         17\n",
       "3        32674  Galadriel      19           6         16\n",
       "132      32674    Legolas      25          18         16"
      ]
     },
     "execution_count": 10,
     "metadata": {},
     "output_type": "execute_result"
    }
   ],
   "source": [
    "df.sort_values(['in_degree'], ascending=False)[:10]"
   ]
  },
  {
   "cell_type": "markdown",
   "id": "c6dca719-a66f-41d2-9bf1-4bf49bf0028a",
   "metadata": {},
   "source": [
    "**Sort by highest out-degree, top 10**"
   ]
  },
  {
   "cell_type": "code",
   "execution_count": 11,
   "id": "5357d232-c67c-42ef-97c9-01f17d40169b",
   "metadata": {},
   "outputs": [
    {
     "data": {
      "text/html": [
       "<div>\n",
       "<style scoped>\n",
       "    .dataframe tbody tr th:only-of-type {\n",
       "        vertical-align: middle;\n",
       "    }\n",
       "\n",
       "    .dataframe tbody tr th {\n",
       "        vertical-align: top;\n",
       "    }\n",
       "\n",
       "    .dataframe thead th {\n",
       "        text-align: right;\n",
       "    }\n",
       "</style>\n",
       "<table border=\"1\" class=\"dataframe\">\n",
       "  <thead>\n",
       "    <tr style=\"text-align: right;\">\n",
       "      <th></th>\n",
       "      <th>timestamp</th>\n",
       "      <th>name</th>\n",
       "      <th>degree</th>\n",
       "      <th>out_degree</th>\n",
       "      <th>in_degree</th>\n",
       "    </tr>\n",
       "  </thead>\n",
       "  <tbody>\n",
       "    <tr>\n",
       "      <th>55</th>\n",
       "      <td>32674</td>\n",
       "      <td>Frodo</td>\n",
       "      <td>51</td>\n",
       "      <td>37</td>\n",
       "      <td>22</td>\n",
       "    </tr>\n",
       "    <tr>\n",
       "      <th>54</th>\n",
       "      <td>32674</td>\n",
       "      <td>Gandalf</td>\n",
       "      <td>49</td>\n",
       "      <td>35</td>\n",
       "      <td>24</td>\n",
       "    </tr>\n",
       "    <tr>\n",
       "      <th>32</th>\n",
       "      <td>32674</td>\n",
       "      <td>Pippin</td>\n",
       "      <td>34</td>\n",
       "      <td>30</td>\n",
       "      <td>10</td>\n",
       "    </tr>\n",
       "    <tr>\n",
       "      <th>63</th>\n",
       "      <td>32674</td>\n",
       "      <td>Merry</td>\n",
       "      <td>34</td>\n",
       "      <td>23</td>\n",
       "      <td>18</td>\n",
       "    </tr>\n",
       "    <tr>\n",
       "      <th>52</th>\n",
       "      <td>32674</td>\n",
       "      <td>Théoden</td>\n",
       "      <td>30</td>\n",
       "      <td>22</td>\n",
       "      <td>9</td>\n",
       "    </tr>\n",
       "    <tr>\n",
       "      <th>129</th>\n",
       "      <td>32674</td>\n",
       "      <td>Gimli</td>\n",
       "      <td>25</td>\n",
       "      <td>22</td>\n",
       "      <td>11</td>\n",
       "    </tr>\n",
       "    <tr>\n",
       "      <th>118</th>\n",
       "      <td>32674</td>\n",
       "      <td>Sam</td>\n",
       "      <td>28</td>\n",
       "      <td>20</td>\n",
       "      <td>17</td>\n",
       "    </tr>\n",
       "    <tr>\n",
       "      <th>56</th>\n",
       "      <td>32674</td>\n",
       "      <td>Elrond</td>\n",
       "      <td>32</td>\n",
       "      <td>18</td>\n",
       "      <td>24</td>\n",
       "    </tr>\n",
       "    <tr>\n",
       "      <th>4</th>\n",
       "      <td>32674</td>\n",
       "      <td>Isildur</td>\n",
       "      <td>18</td>\n",
       "      <td>18</td>\n",
       "      <td>0</td>\n",
       "    </tr>\n",
       "    <tr>\n",
       "      <th>132</th>\n",
       "      <td>32674</td>\n",
       "      <td>Legolas</td>\n",
       "      <td>25</td>\n",
       "      <td>18</td>\n",
       "      <td>16</td>\n",
       "    </tr>\n",
       "  </tbody>\n",
       "</table>\n",
       "</div>"
      ],
      "text/plain": [
       "     timestamp     name  degree  out_degree  in_degree\n",
       "55       32674    Frodo      51          37         22\n",
       "54       32674  Gandalf      49          35         24\n",
       "32       32674   Pippin      34          30         10\n",
       "63       32674    Merry      34          23         18\n",
       "52       32674  Théoden      30          22          9\n",
       "129      32674    Gimli      25          22         11\n",
       "118      32674      Sam      28          20         17\n",
       "56       32674   Elrond      32          18         24\n",
       "4        32674  Isildur      18          18          0\n",
       "132      32674  Legolas      25          18         16"
      ]
     },
     "execution_count": 11,
     "metadata": {},
     "output_type": "execute_result"
    }
   ],
   "source": [
    "df.sort_values(['out_degree'], ascending=False)[:10]"
   ]
  },
  {
   "cell_type": "markdown",
   "id": "75c777ae-5661-415d-9600-6c38b54f09fd",
   "metadata": {},
   "source": [
    "# Run a PageRank algorithm 📑"
   ]
  },
  {
   "cell_type": "markdown",
   "id": "9de7a6b8",
   "metadata": {},
   "source": [
    "Run your selected algorithm on your graph, here we run PageRank. Your algorithms can be obtained from the PyRaphtory object you created at the start. Specify where you write the result of your algorithm to, e.g. the additional column results in your dataframe."
   ]
  },
  {
   "cell_type": "code",
   "execution_count": 12,
   "id": "ad4aecf8-3506-49ee-9b6a-e562ade5a8dd",
   "metadata": {},
   "outputs": [
    {
     "name": "stdout",
     "output_type": "stream",
     "text": [
      "20:38:12.126 [io-compute-blocker-8] INFO  com.raphtory.api.querytracker.QueryProgressTracker - Job PageRank:NodeList_4685909644778744380: Starting query progress tracker.\n",
      "20:38:12.134 [spawner-akka.actor.default-dispatcher-3] INFO  com.raphtory.internals.components.querymanager.QueryManager - Query 'PageRank:NodeList_4685909644778744380' received, your job ID is 'PageRank:NodeList_4685909644778744380'.\n",
      "20:38:12.135 [spawner-akka.actor.default-dispatcher-8] INFO  com.raphtory.internals.components.partition.QueryExecutor - PageRank:NodeList_4685909644778744380_0: Starting QueryExecutor.\n",
      "20:38:12.175 [io-compute-blocker-6] INFO  com.raphtory.api.analysis.table.TableOutputTracker - Job PageRank:NodeList_4685909644778744380: Starting output collector.\n",
      "20:38:12.577 [spawner-akka.actor.default-dispatcher-8] INFO  com.raphtory.internals.components.querymanager.QueryHandler - Job 'PageRank:NodeList_4685909644778744380': Perspective at Time '32674' took 277 ms to run. \n",
      "20:38:12.577 [spawner-akka.actor.default-dispatcher-8] INFO  com.raphtory.api.querytracker.QueryProgressTracker - Job 'PageRank:NodeList_4685909644778744380': Perspective '32674' finished in 452 ms.\n",
      "20:38:12.577 [spawner-akka.actor.default-dispatcher-8] INFO  com.raphtory.api.querytracker.QueryProgressTracker - Job PageRank:NodeList_4685909644778744380: Running query, processed 1 perspectives.\n",
      "20:38:12.580 [spawner-akka.actor.default-dispatcher-8] INFO  com.raphtory.api.querytracker.QueryProgressTracker - Job PageRank:NodeList_4685909644778744380: Query completed with 1 perspectives and finished in 455 ms.\n"
     ]
    }
   ],
   "source": [
    "cols = [\"prlabel\"]\n",
    "\n",
    "df_pagerank = rg.at(32674) \\\n",
    "                .past() \\\n",
    "                .transform(pr.algorithms.generic.centrality.PageRank())\\\n",
    "                .execute(pr.algorithms.generic.NodeList(*cols)) \\\n",
    "                .to_df([\"name\"] + cols)"
   ]
  },
  {
   "cell_type": "markdown",
   "id": "c42e5fff",
   "metadata": {},
   "source": [
    "**Clean your dataframe** 🧹"
   ]
  },
  {
   "cell_type": "code",
   "execution_count": 13,
   "id": "98e4eef5-cf37-46ed-a20b-c06058cd0139",
   "metadata": {},
   "outputs": [],
   "source": [
    "## clean\n",
    "df_pagerank.drop(columns=['window'], inplace=True)"
   ]
  },
  {
   "cell_type": "code",
   "execution_count": 14,
   "id": "a62597ff-bdab-4b90-9413-93b58ea3ed5e",
   "metadata": {},
   "outputs": [
    {
     "data": {
      "text/html": [
       "<div>\n",
       "<style scoped>\n",
       "    .dataframe tbody tr th:only-of-type {\n",
       "        vertical-align: middle;\n",
       "    }\n",
       "\n",
       "    .dataframe tbody tr th {\n",
       "        vertical-align: top;\n",
       "    }\n",
       "\n",
       "    .dataframe thead th {\n",
       "        text-align: right;\n",
       "    }\n",
       "</style>\n",
       "<table border=\"1\" class=\"dataframe\">\n",
       "  <thead>\n",
       "    <tr style=\"text-align: right;\">\n",
       "      <th></th>\n",
       "      <th>timestamp</th>\n",
       "      <th>name</th>\n",
       "      <th>prlabel</th>\n",
       "    </tr>\n",
       "  </thead>\n",
       "  <tbody>\n",
       "    <tr>\n",
       "      <th>0</th>\n",
       "      <td>32674</td>\n",
       "      <td>Hirgon</td>\n",
       "      <td>0.277968</td>\n",
       "    </tr>\n",
       "    <tr>\n",
       "      <th>1</th>\n",
       "      <td>32674</td>\n",
       "      <td>Hador</td>\n",
       "      <td>0.459710</td>\n",
       "    </tr>\n",
       "    <tr>\n",
       "      <th>2</th>\n",
       "      <td>32674</td>\n",
       "      <td>Horn</td>\n",
       "      <td>0.522389</td>\n",
       "    </tr>\n",
       "    <tr>\n",
       "      <th>3</th>\n",
       "      <td>32674</td>\n",
       "      <td>Galadriel</td>\n",
       "      <td>2.228852</td>\n",
       "    </tr>\n",
       "    <tr>\n",
       "      <th>4</th>\n",
       "      <td>32674</td>\n",
       "      <td>Isildur</td>\n",
       "      <td>0.277968</td>\n",
       "    </tr>\n",
       "    <tr>\n",
       "      <th>...</th>\n",
       "      <td>...</td>\n",
       "      <td>...</td>\n",
       "      <td>...</td>\n",
       "    </tr>\n",
       "    <tr>\n",
       "      <th>134</th>\n",
       "      <td>32674</td>\n",
       "      <td>Faramir</td>\n",
       "      <td>8.551166</td>\n",
       "    </tr>\n",
       "    <tr>\n",
       "      <th>135</th>\n",
       "      <td>32674</td>\n",
       "      <td>Bain</td>\n",
       "      <td>0.396105</td>\n",
       "    </tr>\n",
       "    <tr>\n",
       "      <th>136</th>\n",
       "      <td>32674</td>\n",
       "      <td>Walda</td>\n",
       "      <td>0.817198</td>\n",
       "    </tr>\n",
       "    <tr>\n",
       "      <th>137</th>\n",
       "      <td>32674</td>\n",
       "      <td>Thranduil</td>\n",
       "      <td>0.761719</td>\n",
       "    </tr>\n",
       "    <tr>\n",
       "      <th>138</th>\n",
       "      <td>32674</td>\n",
       "      <td>Boromir</td>\n",
       "      <td>4.824014</td>\n",
       "    </tr>\n",
       "  </tbody>\n",
       "</table>\n",
       "<p>139 rows × 3 columns</p>\n",
       "</div>"
      ],
      "text/plain": [
       "     timestamp       name   prlabel\n",
       "0        32674     Hirgon  0.277968\n",
       "1        32674      Hador  0.459710\n",
       "2        32674       Horn  0.522389\n",
       "3        32674  Galadriel  2.228852\n",
       "4        32674    Isildur  0.277968\n",
       "..         ...        ...       ...\n",
       "134      32674    Faramir  8.551166\n",
       "135      32674       Bain  0.396105\n",
       "136      32674      Walda  0.817198\n",
       "137      32674  Thranduil  0.761719\n",
       "138      32674    Boromir  4.824014\n",
       "\n",
       "[139 rows x 3 columns]"
      ]
     },
     "execution_count": 14,
     "metadata": {},
     "output_type": "execute_result"
    }
   ],
   "source": [
    "df_pagerank"
   ]
  },
  {
   "cell_type": "markdown",
   "id": "2e510261-0049-4c44-8630-dcddbc107f07",
   "metadata": {},
   "source": [
    "**The top ten most ranked**"
   ]
  },
  {
   "cell_type": "code",
   "execution_count": 15,
   "id": "d1bf1258-e1db-4b34-af93-352191817b4c",
   "metadata": {},
   "outputs": [
    {
     "data": {
      "text/html": [
       "<div>\n",
       "<style scoped>\n",
       "    .dataframe tbody tr th:only-of-type {\n",
       "        vertical-align: middle;\n",
       "    }\n",
       "\n",
       "    .dataframe tbody tr th {\n",
       "        vertical-align: top;\n",
       "    }\n",
       "\n",
       "    .dataframe thead th {\n",
       "        text-align: right;\n",
       "    }\n",
       "</style>\n",
       "<table border=\"1\" class=\"dataframe\">\n",
       "  <thead>\n",
       "    <tr style=\"text-align: right;\">\n",
       "      <th></th>\n",
       "      <th>timestamp</th>\n",
       "      <th>name</th>\n",
       "      <th>prlabel</th>\n",
       "    </tr>\n",
       "  </thead>\n",
       "  <tbody>\n",
       "    <tr>\n",
       "      <th>97</th>\n",
       "      <td>32674</td>\n",
       "      <td>Aragorn</td>\n",
       "      <td>13.246457</td>\n",
       "    </tr>\n",
       "    <tr>\n",
       "      <th>134</th>\n",
       "      <td>32674</td>\n",
       "      <td>Faramir</td>\n",
       "      <td>8.551166</td>\n",
       "    </tr>\n",
       "    <tr>\n",
       "      <th>56</th>\n",
       "      <td>32674</td>\n",
       "      <td>Elrond</td>\n",
       "      <td>5.621548</td>\n",
       "    </tr>\n",
       "    <tr>\n",
       "      <th>138</th>\n",
       "      <td>32674</td>\n",
       "      <td>Boromir</td>\n",
       "      <td>4.824014</td>\n",
       "    </tr>\n",
       "    <tr>\n",
       "      <th>132</th>\n",
       "      <td>32674</td>\n",
       "      <td>Legolas</td>\n",
       "      <td>4.622590</td>\n",
       "    </tr>\n",
       "    <tr>\n",
       "      <th>110</th>\n",
       "      <td>32674</td>\n",
       "      <td>Imrahil</td>\n",
       "      <td>4.095600</td>\n",
       "    </tr>\n",
       "    <tr>\n",
       "      <th>65</th>\n",
       "      <td>32674</td>\n",
       "      <td>Éomer</td>\n",
       "      <td>3.473897</td>\n",
       "    </tr>\n",
       "    <tr>\n",
       "      <th>42</th>\n",
       "      <td>32674</td>\n",
       "      <td>Samwise</td>\n",
       "      <td>3.292762</td>\n",
       "    </tr>\n",
       "    <tr>\n",
       "      <th>118</th>\n",
       "      <td>32674</td>\n",
       "      <td>Sam</td>\n",
       "      <td>2.826140</td>\n",
       "    </tr>\n",
       "    <tr>\n",
       "      <th>55</th>\n",
       "      <td>32674</td>\n",
       "      <td>Frodo</td>\n",
       "      <td>2.806475</td>\n",
       "    </tr>\n",
       "  </tbody>\n",
       "</table>\n",
       "</div>"
      ],
      "text/plain": [
       "     timestamp     name    prlabel\n",
       "97       32674  Aragorn  13.246457\n",
       "134      32674  Faramir   8.551166\n",
       "56       32674   Elrond   5.621548\n",
       "138      32674  Boromir   4.824014\n",
       "132      32674  Legolas   4.622590\n",
       "110      32674  Imrahil   4.095600\n",
       "65       32674    Éomer   3.473897\n",
       "42       32674  Samwise   3.292762\n",
       "118      32674      Sam   2.826140\n",
       "55       32674    Frodo   2.806475"
      ]
     },
     "execution_count": 15,
     "metadata": {},
     "output_type": "execute_result"
    }
   ],
   "source": [
    "df_pagerank.sort_values(['prlabel'], ascending=False)[:10]"
   ]
  },
  {
   "cell_type": "markdown",
   "id": "6afeefa8-a6d6-4bc8-8c2d-681095a18c48",
   "metadata": {},
   "source": [
    "## Run a connected components algorithm "
   ]
  },
  {
   "cell_type": "markdown",
   "id": "15409680",
   "metadata": {},
   "source": [
    "Example running connected components algorithm on the graph."
   ]
  },
  {
   "cell_type": "code",
   "execution_count": 16,
   "id": "cf4ce1a4",
   "metadata": {
    "jupyter": {
     "outputs_hidden": false
    },
    "pycharm": {
     "name": "#%%\n"
    }
   },
   "outputs": [
    {
     "name": "stdout",
     "output_type": "stream",
     "text": [
      "20:38:26.650 [io-compute-blocker-2] INFO  com.raphtory.api.querytracker.QueryProgressTracker - Job ConnectedComponents:NodeList_9197127537465185439: Starting query progress tracker.\n",
      "20:38:26.654 [spawner-akka.actor.default-dispatcher-5] INFO  com.raphtory.internals.components.querymanager.QueryManager - Query 'ConnectedComponents:NodeList_9197127537465185439' received, your job ID is 'ConnectedComponents:NodeList_9197127537465185439'.\n",
      "20:38:26.656 [spawner-akka.actor.default-dispatcher-11] INFO  com.raphtory.internals.components.partition.QueryExecutor - ConnectedComponents:NodeList_9197127537465185439_0: Starting QueryExecutor.\n",
      "20:38:26.719 [io-compute-blocker-5] INFO  com.raphtory.api.analysis.table.TableOutputTracker - Job ConnectedComponents:NodeList_9197127537465185439: Starting output collector.\n",
      "20:38:26.912 [spawner-akka.actor.default-dispatcher-8] INFO  com.raphtory.internals.components.querymanager.QueryHandler - Job 'ConnectedComponents:NodeList_9197127537465185439': Perspective at Time '32674' took 40 ms to run. \n",
      "20:38:26.912 [spawner-akka.actor.default-dispatcher-11] INFO  com.raphtory.api.querytracker.QueryProgressTracker - Job 'ConnectedComponents:NodeList_9197127537465185439': Perspective '32674' finished in 262 ms.\n",
      "20:38:26.912 [spawner-akka.actor.default-dispatcher-11] INFO  com.raphtory.api.querytracker.QueryProgressTracker - Job ConnectedComponents:NodeList_9197127537465185439: Running query, processed 1 perspectives.\n",
      "20:38:26.914 [spawner-akka.actor.default-dispatcher-8] INFO  com.raphtory.api.querytracker.QueryProgressTracker - Job ConnectedComponents:NodeList_9197127537465185439: Query completed with 1 perspectives and finished in 264 ms.\n"
     ]
    }
   ],
   "source": [
    "cols = [\"cclabel\"]\n",
    "df_cc = rg.at(32674) \\\n",
    "                .past() \\\n",
    "                .transform(pr.algorithms.generic.ConnectedComponents)\\\n",
    "                .execute(pr.algorithms.generic.NodeList(*cols)) \\\n",
    "                .to_df([\"name\"] + cols)"
   ]
  },
  {
   "cell_type": "markdown",
   "id": "a5a934ba",
   "metadata": {},
   "source": [
    "**Clean dataframe.**"
   ]
  },
  {
   "cell_type": "code",
   "execution_count": 17,
   "id": "3701e686-c165-426a-a705-4a17b73f18f9",
   "metadata": {},
   "outputs": [],
   "source": [
    "## clean\n",
    "df_cc.drop(columns=['window'], inplace=True)"
   ]
  },
  {
   "cell_type": "markdown",
   "id": "ef921b02",
   "metadata": {},
   "source": [
    "**Preview dataframe.**"
   ]
  },
  {
   "cell_type": "code",
   "execution_count": 18,
   "id": "984c7943-fe22-4bd3-b5ff-64e509ec7a50",
   "metadata": {},
   "outputs": [
    {
     "data": {
      "text/html": [
       "<div>\n",
       "<style scoped>\n",
       "    .dataframe tbody tr th:only-of-type {\n",
       "        vertical-align: middle;\n",
       "    }\n",
       "\n",
       "    .dataframe tbody tr th {\n",
       "        vertical-align: top;\n",
       "    }\n",
       "\n",
       "    .dataframe thead th {\n",
       "        text-align: right;\n",
       "    }\n",
       "</style>\n",
       "<table border=\"1\" class=\"dataframe\">\n",
       "  <thead>\n",
       "    <tr style=\"text-align: right;\">\n",
       "      <th></th>\n",
       "      <th>timestamp</th>\n",
       "      <th>name</th>\n",
       "      <th>cclabel</th>\n",
       "    </tr>\n",
       "  </thead>\n",
       "  <tbody>\n",
       "    <tr>\n",
       "      <th>0</th>\n",
       "      <td>32674</td>\n",
       "      <td>Hirgon</td>\n",
       "      <td>-8637342647242242534</td>\n",
       "    </tr>\n",
       "    <tr>\n",
       "      <th>1</th>\n",
       "      <td>32674</td>\n",
       "      <td>Hador</td>\n",
       "      <td>-8637342647242242534</td>\n",
       "    </tr>\n",
       "    <tr>\n",
       "      <th>2</th>\n",
       "      <td>32674</td>\n",
       "      <td>Horn</td>\n",
       "      <td>-8637342647242242534</td>\n",
       "    </tr>\n",
       "    <tr>\n",
       "      <th>3</th>\n",
       "      <td>32674</td>\n",
       "      <td>Galadriel</td>\n",
       "      <td>-8637342647242242534</td>\n",
       "    </tr>\n",
       "    <tr>\n",
       "      <th>4</th>\n",
       "      <td>32674</td>\n",
       "      <td>Isildur</td>\n",
       "      <td>-8637342647242242534</td>\n",
       "    </tr>\n",
       "    <tr>\n",
       "      <th>...</th>\n",
       "      <td>...</td>\n",
       "      <td>...</td>\n",
       "      <td>...</td>\n",
       "    </tr>\n",
       "    <tr>\n",
       "      <th>134</th>\n",
       "      <td>32674</td>\n",
       "      <td>Faramir</td>\n",
       "      <td>-8637342647242242534</td>\n",
       "    </tr>\n",
       "    <tr>\n",
       "      <th>135</th>\n",
       "      <td>32674</td>\n",
       "      <td>Bain</td>\n",
       "      <td>-6628080393138316116</td>\n",
       "    </tr>\n",
       "    <tr>\n",
       "      <th>136</th>\n",
       "      <td>32674</td>\n",
       "      <td>Walda</td>\n",
       "      <td>-8637342647242242534</td>\n",
       "    </tr>\n",
       "    <tr>\n",
       "      <th>137</th>\n",
       "      <td>32674</td>\n",
       "      <td>Thranduil</td>\n",
       "      <td>-8637342647242242534</td>\n",
       "    </tr>\n",
       "    <tr>\n",
       "      <th>138</th>\n",
       "      <td>32674</td>\n",
       "      <td>Boromir</td>\n",
       "      <td>-8637342647242242534</td>\n",
       "    </tr>\n",
       "  </tbody>\n",
       "</table>\n",
       "<p>139 rows × 3 columns</p>\n",
       "</div>"
      ],
      "text/plain": [
       "     timestamp       name              cclabel\n",
       "0        32674     Hirgon -8637342647242242534\n",
       "1        32674      Hador -8637342647242242534\n",
       "2        32674       Horn -8637342647242242534\n",
       "3        32674  Galadriel -8637342647242242534\n",
       "4        32674    Isildur -8637342647242242534\n",
       "..         ...        ...                  ...\n",
       "134      32674    Faramir -8637342647242242534\n",
       "135      32674       Bain -6628080393138316116\n",
       "136      32674      Walda -8637342647242242534\n",
       "137      32674  Thranduil -8637342647242242534\n",
       "138      32674    Boromir -8637342647242242534\n",
       "\n",
       "[139 rows x 3 columns]"
      ]
     },
     "execution_count": 18,
     "metadata": {},
     "output_type": "execute_result"
    }
   ],
   "source": [
    "df_cc"
   ]
  },
  {
   "cell_type": "markdown",
   "id": "fa4a353c-4ac8-4622-a8d8-3875ff8ab36d",
   "metadata": {},
   "source": [
    "### Number of distinct components "
   ]
  },
  {
   "cell_type": "markdown",
   "id": "4ae3c62e",
   "metadata": {},
   "source": [
    "Extract number of distinct components, which is 3 in this dataframe."
   ]
  },
  {
   "cell_type": "code",
   "execution_count": 19,
   "id": "152ba931-0cf2-416f-a77f-4e5e0e2f5d09",
   "metadata": {},
   "outputs": [
    {
     "data": {
      "text/plain": [
       "3"
      ]
     },
     "execution_count": 19,
     "metadata": {},
     "output_type": "execute_result"
    }
   ],
   "source": [
    "len(set(df_cc['cclabel']))"
   ]
  },
  {
   "cell_type": "markdown",
   "id": "e1c8faf8-c127-43a2-a947-166ecb5c2d18",
   "metadata": {},
   "source": [
    "### Size of components "
   ]
  },
  {
   "cell_type": "markdown",
   "id": "df8af0b7",
   "metadata": {},
   "source": [
    "Calculate the size of the 3 connected components."
   ]
  },
  {
   "cell_type": "code",
   "execution_count": 20,
   "id": "a14abe9e-d240-446d-849a-faac644bfc6b",
   "metadata": {},
   "outputs": [
    {
     "data": {
      "text/html": [
       "<div>\n",
       "<style scoped>\n",
       "    .dataframe tbody tr th:only-of-type {\n",
       "        vertical-align: middle;\n",
       "    }\n",
       "\n",
       "    .dataframe tbody tr th {\n",
       "        vertical-align: top;\n",
       "    }\n",
       "\n",
       "    .dataframe thead th {\n",
       "        text-align: right;\n",
       "    }\n",
       "</style>\n",
       "<table border=\"1\" class=\"dataframe\">\n",
       "  <thead>\n",
       "    <tr style=\"text-align: right;\">\n",
       "      <th></th>\n",
       "      <th>cclabel</th>\n",
       "      <th>name</th>\n",
       "    </tr>\n",
       "  </thead>\n",
       "  <tbody>\n",
       "    <tr>\n",
       "      <th>0</th>\n",
       "      <td>-8637342647242242534</td>\n",
       "      <td>134</td>\n",
       "    </tr>\n",
       "    <tr>\n",
       "      <th>1</th>\n",
       "      <td>-6628080393138316116</td>\n",
       "      <td>3</td>\n",
       "    </tr>\n",
       "    <tr>\n",
       "      <th>2</th>\n",
       "      <td>-5499479516525190226</td>\n",
       "      <td>2</td>\n",
       "    </tr>\n",
       "  </tbody>\n",
       "</table>\n",
       "</div>"
      ],
      "text/plain": [
       "               cclabel  name\n",
       "0 -8637342647242242534   134\n",
       "1 -6628080393138316116     3\n",
       "2 -5499479516525190226     2"
      ]
     },
     "execution_count": 20,
     "metadata": {},
     "output_type": "execute_result"
    }
   ],
   "source": [
    "df_cc.groupby(['cclabel']).count().reset_index().drop(columns=['timestamp'])"
   ]
  },
  {
   "cell_type": "markdown",
   "id": "cf28d75d-fd26-4fae-a9a7-9f895698857c",
   "metadata": {},
   "source": [
    "### Run chained algorithms at once "
   ]
  },
  {
   "cell_type": "markdown",
   "id": "8a1b9299",
   "metadata": {},
   "source": [
    "In this example, we chain PageRank, Connected Components and Degree algorithms, running them one after another on the graph. Specify all the columns in the output dataframe, including an output column for each algorithm in the chain."
   ]
  },
  {
   "cell_type": "code",
   "execution_count": 21,
   "id": "c74e8247-91f2-4889-b013-5450a3ee4da2",
   "metadata": {},
   "outputs": [
    {
     "name": "stdout",
     "output_type": "stream",
     "text": [
      "20:38:40.904 [io-compute-blocker-3] INFO  com.raphtory.api.querytracker.QueryProgressTracker - Job PageRank:ConnectedComponents:Degree:NodeList_7032040291154029239: Starting query progress tracker.\n",
      "20:38:40.907 [spawner-akka.actor.default-dispatcher-6] INFO  com.raphtory.internals.components.querymanager.QueryManager - Query 'PageRank:ConnectedComponents:Degree:NodeList_7032040291154029239' received, your job ID is 'PageRank:ConnectedComponents:Degree:NodeList_7032040291154029239'.\n",
      "20:38:40.907 [spawner-akka.actor.default-dispatcher-8] INFO  com.raphtory.internals.components.partition.QueryExecutor - PageRank:ConnectedComponents:Degree:NodeList_7032040291154029239_0: Starting QueryExecutor.\n",
      "20:38:40.965 [io-compute-blocker-5] INFO  com.raphtory.api.analysis.table.TableOutputTracker - Job PageRank:ConnectedComponents:Degree:NodeList_7032040291154029239: Starting output collector.\n",
      "20:38:41.193 [spawner-akka.actor.default-dispatcher-6] INFO  com.raphtory.api.querytracker.QueryProgressTracker - Job 'PageRank:ConnectedComponents:Degree:NodeList_7032040291154029239': Perspective '32674' finished in 289 ms.\n",
      "20:38:41.193 [spawner-akka.actor.default-dispatcher-10] INFO  com.raphtory.internals.components.querymanager.QueryHandler - Job 'PageRank:ConnectedComponents:Degree:NodeList_7032040291154029239': Perspective at Time '32674' took 60 ms to run. \n",
      "20:38:41.193 [spawner-akka.actor.default-dispatcher-6] INFO  com.raphtory.api.querytracker.QueryProgressTracker - Job PageRank:ConnectedComponents:Degree:NodeList_7032040291154029239: Running query, processed 1 perspectives.\n",
      "20:38:41.194 [spawner-akka.actor.default-dispatcher-9] INFO  com.raphtory.api.querytracker.QueryProgressTracker - Job PageRank:ConnectedComponents:Degree:NodeList_7032040291154029239: Query completed with 1 perspectives and finished in 290 ms.\n"
     ]
    }
   ],
   "source": [
    "cols = [\"inDegree\", \"outDegree\", \"degree\",\"prlabel\",\"cclabel\"]\n",
    "\n",
    "df_chained = rg.at(32674) \\\n",
    "                .past() \\\n",
    "                .transform(pr.algorithms.generic.centrality.PageRank())\\\n",
    "                .transform(pr.algorithms.generic.ConnectedComponents)\\\n",
    "                .transform(pr.algorithms.generic.centrality.Degree())\\\n",
    "                .execute(pr.algorithms.generic.NodeList(*cols)) \\\n",
    "                .to_df([\"name\"] + cols)"
   ]
  },
  {
   "cell_type": "code",
   "execution_count": 22,
   "id": "04410753-14f1-4004-bda3-bf9034629f4c",
   "metadata": {},
   "outputs": [],
   "source": [
    "df_chained.drop(columns=['window'], inplace=True)"
   ]
  },
  {
   "cell_type": "code",
   "execution_count": 25,
   "id": "9ba2fd2b-a608-4097-9916-758eac389047",
   "metadata": {},
   "outputs": [],
   "source": [
    "df_chained['degree_numeric'] = df_chained['degree'].astype(float)"
   ]
  },
  {
   "cell_type": "code",
   "execution_count": 26,
   "id": "cd8ee995",
   "metadata": {},
   "outputs": [
    {
     "data": {
      "text/html": [
       "<div>\n",
       "<style scoped>\n",
       "    .dataframe tbody tr th:only-of-type {\n",
       "        vertical-align: middle;\n",
       "    }\n",
       "\n",
       "    .dataframe tbody tr th {\n",
       "        vertical-align: top;\n",
       "    }\n",
       "\n",
       "    .dataframe thead th {\n",
       "        text-align: right;\n",
       "    }\n",
       "</style>\n",
       "<table border=\"1\" class=\"dataframe\">\n",
       "  <thead>\n",
       "    <tr style=\"text-align: right;\">\n",
       "      <th></th>\n",
       "      <th>timestamp</th>\n",
       "      <th>name</th>\n",
       "      <th>inDegree</th>\n",
       "      <th>outDegree</th>\n",
       "      <th>degree</th>\n",
       "      <th>prlabel</th>\n",
       "      <th>cclabel</th>\n",
       "      <th>degree_numeric</th>\n",
       "    </tr>\n",
       "  </thead>\n",
       "  <tbody>\n",
       "    <tr>\n",
       "      <th>0</th>\n",
       "      <td>32674</td>\n",
       "      <td>Hirgon</td>\n",
       "      <td>0</td>\n",
       "      <td>2</td>\n",
       "      <td>2</td>\n",
       "      <td>0.277968</td>\n",
       "      <td>-8637342647242242534</td>\n",
       "      <td>2.0</td>\n",
       "    </tr>\n",
       "    <tr>\n",
       "      <th>1</th>\n",
       "      <td>32674</td>\n",
       "      <td>Hador</td>\n",
       "      <td>2</td>\n",
       "      <td>1</td>\n",
       "      <td>3</td>\n",
       "      <td>0.459710</td>\n",
       "      <td>-8637342647242242534</td>\n",
       "      <td>3.0</td>\n",
       "    </tr>\n",
       "    <tr>\n",
       "      <th>2</th>\n",
       "      <td>32674</td>\n",
       "      <td>Horn</td>\n",
       "      <td>3</td>\n",
       "      <td>1</td>\n",
       "      <td>4</td>\n",
       "      <td>0.522389</td>\n",
       "      <td>-8637342647242242534</td>\n",
       "      <td>4.0</td>\n",
       "    </tr>\n",
       "    <tr>\n",
       "      <th>3</th>\n",
       "      <td>32674</td>\n",
       "      <td>Galadriel</td>\n",
       "      <td>16</td>\n",
       "      <td>6</td>\n",
       "      <td>19</td>\n",
       "      <td>2.228852</td>\n",
       "      <td>-8637342647242242534</td>\n",
       "      <td>19.0</td>\n",
       "    </tr>\n",
       "    <tr>\n",
       "      <th>4</th>\n",
       "      <td>32674</td>\n",
       "      <td>Isildur</td>\n",
       "      <td>0</td>\n",
       "      <td>18</td>\n",
       "      <td>18</td>\n",
       "      <td>0.277968</td>\n",
       "      <td>-8637342647242242534</td>\n",
       "      <td>18.0</td>\n",
       "    </tr>\n",
       "    <tr>\n",
       "      <th>...</th>\n",
       "      <td>...</td>\n",
       "      <td>...</td>\n",
       "      <td>...</td>\n",
       "      <td>...</td>\n",
       "      <td>...</td>\n",
       "      <td>...</td>\n",
       "      <td>...</td>\n",
       "      <td>...</td>\n",
       "    </tr>\n",
       "    <tr>\n",
       "      <th>134</th>\n",
       "      <td>32674</td>\n",
       "      <td>Faramir</td>\n",
       "      <td>29</td>\n",
       "      <td>3</td>\n",
       "      <td>29</td>\n",
       "      <td>8.551166</td>\n",
       "      <td>-8637342647242242534</td>\n",
       "      <td>29.0</td>\n",
       "    </tr>\n",
       "    <tr>\n",
       "      <th>135</th>\n",
       "      <td>32674</td>\n",
       "      <td>Bain</td>\n",
       "      <td>1</td>\n",
       "      <td>1</td>\n",
       "      <td>2</td>\n",
       "      <td>0.396105</td>\n",
       "      <td>-6628080393138316116</td>\n",
       "      <td>2.0</td>\n",
       "    </tr>\n",
       "    <tr>\n",
       "      <th>136</th>\n",
       "      <td>32674</td>\n",
       "      <td>Walda</td>\n",
       "      <td>10</td>\n",
       "      <td>3</td>\n",
       "      <td>13</td>\n",
       "      <td>0.817198</td>\n",
       "      <td>-8637342647242242534</td>\n",
       "      <td>13.0</td>\n",
       "    </tr>\n",
       "    <tr>\n",
       "      <th>137</th>\n",
       "      <td>32674</td>\n",
       "      <td>Thranduil</td>\n",
       "      <td>2</td>\n",
       "      <td>0</td>\n",
       "      <td>2</td>\n",
       "      <td>0.761719</td>\n",
       "      <td>-8637342647242242534</td>\n",
       "      <td>2.0</td>\n",
       "    </tr>\n",
       "    <tr>\n",
       "      <th>138</th>\n",
       "      <td>32674</td>\n",
       "      <td>Boromir</td>\n",
       "      <td>17</td>\n",
       "      <td>6</td>\n",
       "      <td>18</td>\n",
       "      <td>4.824014</td>\n",
       "      <td>-8637342647242242534</td>\n",
       "      <td>18.0</td>\n",
       "    </tr>\n",
       "  </tbody>\n",
       "</table>\n",
       "<p>139 rows × 8 columns</p>\n",
       "</div>"
      ],
      "text/plain": [
       "     timestamp       name  inDegree  outDegree  degree   prlabel  \\\n",
       "0        32674     Hirgon         0          2       2  0.277968   \n",
       "1        32674      Hador         2          1       3  0.459710   \n",
       "2        32674       Horn         3          1       4  0.522389   \n",
       "3        32674  Galadriel        16          6      19  2.228852   \n",
       "4        32674    Isildur         0         18      18  0.277968   \n",
       "..         ...        ...       ...        ...     ...       ...   \n",
       "134      32674    Faramir        29          3      29  8.551166   \n",
       "135      32674       Bain         1          1       2  0.396105   \n",
       "136      32674      Walda        10          3      13  0.817198   \n",
       "137      32674  Thranduil         2          0       2  0.761719   \n",
       "138      32674    Boromir        17          6      18  4.824014   \n",
       "\n",
       "                 cclabel  degree_numeric  \n",
       "0   -8637342647242242534             2.0  \n",
       "1   -8637342647242242534             3.0  \n",
       "2   -8637342647242242534             4.0  \n",
       "3   -8637342647242242534            19.0  \n",
       "4   -8637342647242242534            18.0  \n",
       "..                   ...             ...  \n",
       "134 -8637342647242242534            29.0  \n",
       "135 -6628080393138316116             2.0  \n",
       "136 -8637342647242242534            13.0  \n",
       "137 -8637342647242242534             2.0  \n",
       "138 -8637342647242242534            18.0  \n",
       "\n",
       "[139 rows x 8 columns]"
      ]
     },
     "execution_count": 26,
     "metadata": {},
     "output_type": "execute_result"
    }
   ],
   "source": [
    "df_chained"
   ]
  },
  {
   "cell_type": "markdown",
   "id": "ad1d0a0e-1ed4-468a-b60e-1b657e0550db",
   "metadata": {
    "tags": []
   },
   "source": [
    "### Create visualisation by adding nodes 🔎"
   ]
  },
  {
   "cell_type": "code",
   "execution_count": 31,
   "id": "a00922aa-91e1-49d1-a8eb-b36e49cc504b",
   "metadata": {
    "tags": []
   },
   "outputs": [],
   "source": [
    "def visualise(rg, df_chained):\n",
    "    # Create network object\n",
    "    net = Network(notebook=True, height='750px', width='100%', bgcolor='#222222', font_color='white')\n",
    "    # Set visualisation tool\n",
    "    net.force_atlas_2based()\n",
    "    # Get the node list \n",
    "    df_node_list = rg.at(32674) \\\n",
    "                .past() \\\n",
    "                .execute(pr.algorithms.generic.NodeList()) \\\n",
    "                .to_df(['name'])\n",
    "    \n",
    "    nodes = df_node_list['name'].tolist()\n",
    "    \n",
    "    node_data = []\n",
    "    ignore_items = ['timestamp', 'name', 'window']\n",
    "    for node_name in nodes:\n",
    "        for i, row in df_chained.iterrows():\n",
    "            if row['name']==node_name:\n",
    "                data = ''\n",
    "                for k,v in row.iteritems():\n",
    "                    if k not in ignore_items:\n",
    "                        data = data+str(k)+': '+str(v)+'\\n'\n",
    "                node_data.append(data)\n",
    "                continue\n",
    "    # Add the nodes\n",
    "    net.add_nodes(nodes, title=node_data, value = df_chained.prlabel)\n",
    "    # Get the edge list\n",
    "    df_edge_list = rg.at(32674) \\\n",
    "            .past() \\\n",
    "            .execute(pr.algorithms.generic.EdgeList()) \\\n",
    "            .to_df(['from', 'to'])\n",
    "    edges = []\n",
    "    for i, row in df_edge_list[['from', 'to']].iterrows():\n",
    "        edges.append([row['from'], row['to']])\n",
    "    # Add the edges\n",
    "    net.add_edges(edges)\n",
    "    # Toggle physics\n",
    "    net.toggle_physics(True)\n",
    "    return net"
   ]
  },
  {
   "cell_type": "code",
   "execution_count": 32,
   "id": "ff09c0bd-8344-481a-9d95-4b91b464f047",
   "metadata": {
    "scrolled": true,
    "tags": []
   },
   "outputs": [
    {
     "name": "stdout",
     "output_type": "stream",
     "text": [
      "20:45:36.358 [io-compute-blocker-7] INFO  com.raphtory.api.querytracker.QueryProgressTracker - Job NodeList_7770831613554784095: Starting query progress tracker.\n",
      "20:45:36.361 [spawner-akka.actor.default-dispatcher-7] INFO  com.raphtory.internals.components.querymanager.QueryManager - Query 'NodeList_7770831613554784095' received, your job ID is 'NodeList_7770831613554784095'.\n",
      "20:45:36.362 [spawner-akka.actor.default-dispatcher-11] INFO  com.raphtory.internals.components.partition.QueryExecutor - NodeList_7770831613554784095_0: Starting QueryExecutor.\n",
      "20:45:36.432 [io-compute-blocker-8] INFO  com.raphtory.api.analysis.table.TableOutputTracker - Job NodeList_7770831613554784095: Starting output collector.\n",
      "20:45:36.653 [spawner-akka.actor.default-dispatcher-3] INFO  com.raphtory.api.querytracker.QueryProgressTracker - Job 'NodeList_7770831613554784095': Perspective '32674' finished in 295 ms.\n",
      "20:45:36.653 [spawner-akka.actor.default-dispatcher-6] INFO  com.raphtory.internals.components.querymanager.QueryHandler - Job 'NodeList_7770831613554784095': Perspective at Time '32674' took 23 ms to run. \n",
      "20:45:36.653 [spawner-akka.actor.default-dispatcher-3] INFO  com.raphtory.api.querytracker.QueryProgressTracker - Job NodeList_7770831613554784095: Running query, processed 1 perspectives.\n",
      "20:45:36.654 [spawner-akka.actor.default-dispatcher-9] INFO  com.raphtory.api.querytracker.QueryProgressTracker - Job NodeList_7770831613554784095: Query completed with 1 perspectives and finished in 296 ms.\n",
      "20:45:37.136 [io-compute-blocker-5] INFO  com.raphtory.api.querytracker.QueryProgressTracker - Job EdgeList_562333977759125368: Starting query progress tracker.\n",
      "20:45:37.136 [spawner-akka.actor.default-dispatcher-9] INFO  com.raphtory.internals.components.querymanager.QueryManager - Query 'EdgeList_562333977759125368' received, your job ID is 'EdgeList_562333977759125368'.\n",
      "20:45:37.137 [spawner-akka.actor.default-dispatcher-5] INFO  com.raphtory.internals.components.partition.QueryExecutor - EdgeList_562333977759125368_0: Starting QueryExecutor.\n",
      "20:45:37.246 [io-compute-blocker-8] INFO  com.raphtory.api.analysis.table.TableOutputTracker - Job EdgeList_562333977759125368: Starting output collector.\n",
      "20:45:37.473 [spawner-akka.actor.default-dispatcher-5] INFO  com.raphtory.internals.components.querymanager.QueryHandler - Job 'EdgeList_562333977759125368': Perspective at Time '32674' took 21 ms to run. \n",
      "20:45:37.473 [spawner-akka.actor.default-dispatcher-11] INFO  com.raphtory.api.querytracker.QueryProgressTracker - Job 'EdgeList_562333977759125368': Perspective '32674' finished in 337 ms.\n",
      "20:45:37.474 [spawner-akka.actor.default-dispatcher-11] INFO  com.raphtory.api.querytracker.QueryProgressTracker - Job EdgeList_562333977759125368: Running query, processed 1 perspectives.\n",
      "20:45:37.474 [spawner-akka.actor.default-dispatcher-5] INFO  com.raphtory.api.querytracker.QueryProgressTracker - Job EdgeList_562333977759125368: Query completed with 1 perspectives and finished in 338 ms.\n"
     ]
    }
   ],
   "source": [
    "net = visualise(rg, df_chained)"
   ]
  },
  {
   "cell_type": "markdown",
   "id": "8f50bc59",
   "metadata": {},
   "source": [
    "## Show the html file of the visualisation"
   ]
  },
  {
   "cell_type": "code",
   "execution_count": 35,
   "id": "a0602b9f-4915-4215-9f56-fa340a658efe",
   "metadata": {},
   "outputs": [
    {
     "data": {
      "text/html": [
       "net.show('preview.html')\n"
      ],
      "text/plain": [
       "<IPython.core.display.HTML object>"
      ]
     },
     "metadata": {},
     "output_type": "display_data"
    }
   ],
   "source": [
    "%%html\n",
    "net.show('preview.html')"
   ]
  },
  {
   "cell_type": "markdown",
   "id": "d6c36abf",
   "metadata": {},
   "source": [
    "## Shut down PyRaphtory  🛑"
   ]
  },
  {
   "cell_type": "code",
   "execution_count": 27,
   "id": "dc5c2c1f",
   "metadata": {
    "jupyter": {
     "outputs_hidden": false
    },
    "pycharm": {
     "name": "#%%\n"
    }
   },
   "outputs": [
    {
     "name": "stdout",
     "output_type": "stream",
     "text": [
      "11:15:33.517 [Thread-12] INFO  com.raphtory.internals.management.PythonInterop$ - Shutting down pyraphtory\n"
     ]
    }
   ],
   "source": [
    "pr.shutdown()"
   ]
  },
  {
   "cell_type": "code",
   "execution_count": null,
   "id": "3b9c6c82",
   "metadata": {},
   "outputs": [],
   "source": []
  }
 ],
 "metadata": {
  "kernelspec": {
   "display_name": "Python 3.9.13 ('raphtoryenv')",
   "language": "python",
   "name": "python3"
  },
  "language_info": {
   "codemirror_mode": {
    "name": "ipython",
    "version": 3
   },
   "file_extension": ".py",
   "mimetype": "text/x-python",
   "name": "python",
   "nbconvert_exporter": "python",
   "pygments_lexer": "ipython3",
   "version": "3.9.13"
  },
  "vscode": {
   "interpreter": {
    "hash": "6a6883e53c22eb800f1dd2764e6034b0092229ebd36154d4214f8abf0f6aadd2"
   }
  }
 },
 "nbformat": 4,
 "nbformat_minor": 5
}
