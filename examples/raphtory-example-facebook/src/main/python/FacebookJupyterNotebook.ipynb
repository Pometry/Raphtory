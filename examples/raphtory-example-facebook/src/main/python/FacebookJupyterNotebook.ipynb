{
 "cells": [
  {
   "cell_type": "markdown",
   "id": "a16d832f",
   "metadata": {},
   "source": [
    "# Raphtory Python Client - FACEBOOK DEMO"
   ]
  },
  {
   "cell_type": "markdown",
   "id": "abb0c409",
   "metadata": {},
   "source": [
    "In this demo we will\n",
    "* Create a Python Raphtory client\n",
    "* Create a Graph from data in Raphtory\n",
    "* Pull results from an algorithm in Raphtory\n",
    "* Add these results to the Graph\n",
    "* Visualise the graph with pymotif"
   ]
  },
  {
   "cell_type": "markdown",
   "id": "1f3da1ef",
   "metadata": {},
   "source": [
    "### Setup Code"
   ]
  },
  {
   "cell_type": "markdown",
   "id": "d47e8dc2",
   "metadata": {},
   "source": [
    "First we setup the various libraries we will need"
   ]
  },
  {
   "cell_type": "code",
   "execution_count": null,
   "id": "34241fcc",
   "metadata": {
    "scrolled": true
   },
   "outputs": [],
   "source": [
    "pip install raphtory-client"
   ]
  },
  {
   "cell_type": "code",
   "execution_count": 1,
   "id": "9abf0cba",
   "metadata": {},
   "outputs": [],
   "source": [
    "import networkx as nx\n",
    "from pymotif import Motif\n",
    "import pandas as pd\n",
    "from raphtoryclient import client"
   ]
  },
  {
   "cell_type": "markdown",
   "id": "11a1237b",
   "metadata": {},
   "source": [
    "### Create Client\n",
    "\n",
    "Now we create a client, and then create the readers which read from topics.\n",
    "\n",
    "If the connection fails, the code with automatically retry.\n",
    "\n",
    "This can occur when you have not closed previous pulsar connections.\n",
    "\n",
    "In this case we are reading the topics: EdgeList and ConnectedComponents\n",
    "\n",
    "Note: Prior to this you should have already run these algorithms in Raphtory."
   ]
  },
  {
   "cell_type": "code",
   "execution_count": 2,
   "id": "e8b9d212",
   "metadata": {},
   "outputs": [],
   "source": [
    "raphtoryClient = client()"
   ]
  },
  {
   "cell_type": "code",
   "execution_count": 3,
   "id": "5e9e7382",
   "metadata": {},
   "outputs": [],
   "source": [
    "edgeListReader = raphtoryClient.createReader(\"EdgeList\", subscription_name='edgelist_reader')\n",
    "ccReader = raphtoryClient.createReader(\"ConnectedComponents\", subscription_name='cc_reader')"
   ]
  },
  {
   "cell_type": "markdown",
   "id": "cb8c97c2",
   "metadata": {},
   "source": [
    "### Obtain dataframes\n",
    "\n",
    "Now we will run the getDataframe function to retrieve results as dataframes."
   ]
  },
  {
   "cell_type": "code",
   "execution_count": 4,
   "id": "0d732c5a",
   "metadata": {},
   "outputs": [],
   "source": [
    "df_edge = raphtoryClient.getDataframe(edgeListReader)\n",
    "df_cc = raphtoryClient.getDataframe(ccReader)"
   ]
  },
  {
   "cell_type": "markdown",
   "id": "75d00bff",
   "metadata": {},
   "source": [
    "### Create a graph\n",
    "\n",
    "Next we create a graph by pulling the edge list from Raphtory.\n",
    "\n",
    "In this case we would like to create a graph from the Facebook dataset.\n",
    "\n",
    "So we run the `createGraphFromEdgeList` method on the `EdgeList` dataframe."
   ]
  },
  {
   "cell_type": "code",
   "execution_count": 6,
   "id": "a229ffd3",
   "metadata": {},
   "outputs": [],
   "source": [
    "G = raphtoryClient.createGraphFromEdgeList(df_edge, isMultiGraph=False)\n",
    "G.number_of_nodes(), G.number_of_edges()"
   ]
  },
  {
   "cell_type": "markdown",
   "id": "a489b42a",
   "metadata": {},
   "source": [
    "### Adding properties to our graph\n",
    "Now we merge these as node properties into our graph"
   ]
  },
  {
   "cell_type": "code",
   "execution_count": 7,
   "id": "d86f4b6d",
   "metadata": {},
   "outputs": [],
   "source": [
    "raphtoryClient.add_node_attributes(G, [df_cc], ['ConnectedComponents'])"
   ]
  },
  {
   "cell_type": "markdown",
   "id": "a54c40b9",
   "metadata": {},
   "source": [
    "### Visualisation\n",
    "\n",
    "Finally we plot the graph with an open source visualisation tool ."
   ]
  },
  {
   "cell_type": "code",
   "execution_count": 8,
   "id": "2cc14a48",
   "metadata": {
    "scrolled": false
   },
   "outputs": [],
   "source": [
    "motif_nx = Motif(nx_graph=G, title='NetworkX')\n",
    "motif_nx.plot()"
   ]
  },
  {
   "cell_type": "code",
   "execution_count": null,
   "id": "1046aba2",
   "metadata": {},
   "outputs": [],
   "source": []
  }
 ],
 "metadata": {
  "kernelspec": {
   "display_name": "Python 3 (ipykernel)",
   "language": "python",
   "name": "python3"
  },
  "language_info": {
   "codemirror_mode": {
    "name": "ipython",
    "version": 3
   },
   "file_extension": ".py",
   "mimetype": "text/x-python",
   "name": "python",
   "nbconvert_exporter": "python",
   "pygments_lexer": "ipython3",
   "version": "3.9.10"
  }
 },
 "nbformat": 4,
 "nbformat_minor": 5
}
